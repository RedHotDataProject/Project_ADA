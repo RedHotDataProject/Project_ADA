{
 "cells": [
  {
   "cell_type": "code",
   "execution_count": 1,
   "metadata": {},
   "outputs": [],
   "source": [
    "import numpy as np\n",
    "import pandas as pd\n",
    "import matplotlib.pyplot as plt\n",
    "from scipy import stats\n",
    "import seaborn as sns\n",
    "from datetime import datetime\n",
    "\n",
    "import json\n",
    "import pickle\n",
    "\n",
    "# Our generated code\n",
    "import os\n",
    "import sys\n",
    "nb_dir = os.path.split(os.getcwd())[0]\n",
    "if nb_dir not in sys.path:\n",
    "    sys.path.append(nb_dir)\n",
    "    \n",
    "%load_ext autoreload\n",
    "%autoreload 2\n",
    "    \n",
    "from libs import exploring as explore\n",
    "from libs import visualising as visualize\n",
    "from libs import cleansing as cleanse\n",
    "\n",
    "PLOT = True\n",
    "RUN = False"
   ]
  },
  {
   "cell_type": "code",
   "execution_count": 2,
   "metadata": {},
   "outputs": [
    {
     "ename": "FileNotFoundError",
     "evalue": "File b'./data/en.openfoodfacts.org.products.csv' does not exist",
     "output_type": "error",
     "traceback": [
      "\u001b[0;31m---------------------------------------------------------------------------\u001b[0m",
      "\u001b[0;31mFileNotFoundError\u001b[0m                         Traceback (most recent call last)",
      "\u001b[0;32m<ipython-input-2-6c4c053335f2>\u001b[0m in \u001b[0;36m<module>\u001b[0;34m()\u001b[0m\n\u001b[1;32m     12\u001b[0m                             \u001b[0mdelimiter\u001b[0m\u001b[0;34m=\u001b[0m\u001b[0;34m\"\\t\"\u001b[0m\u001b[0;34m,\u001b[0m\u001b[0;34m\u001b[0m\u001b[0m\n\u001b[1;32m     13\u001b[0m                             \u001b[0musecols\u001b[0m\u001b[0;34m=\u001b[0m\u001b[0mcolumns_to_import\u001b[0m\u001b[0;34m.\u001b[0m\u001b[0mkeys\u001b[0m\u001b[0;34m(\u001b[0m\u001b[0;34m)\u001b[0m\u001b[0;34m,\u001b[0m\u001b[0;34m\u001b[0m\u001b[0m\n\u001b[0;32m---> 14\u001b[0;31m                             dtype=columns_to_import)\n\u001b[0m",
      "\u001b[0;32m~/anaconda3/lib/python3.6/site-packages/pandas/io/parsers.py\u001b[0m in \u001b[0;36mparser_f\u001b[0;34m(filepath_or_buffer, sep, delimiter, header, names, index_col, usecols, squeeze, prefix, mangle_dupe_cols, dtype, engine, converters, true_values, false_values, skipinitialspace, skiprows, nrows, na_values, keep_default_na, na_filter, verbose, skip_blank_lines, parse_dates, infer_datetime_format, keep_date_col, date_parser, dayfirst, iterator, chunksize, compression, thousands, decimal, lineterminator, quotechar, quoting, escapechar, comment, encoding, dialect, tupleize_cols, error_bad_lines, warn_bad_lines, skipfooter, doublequote, delim_whitespace, low_memory, memory_map, float_precision)\u001b[0m\n\u001b[1;32m    676\u001b[0m                     skip_blank_lines=skip_blank_lines)\n\u001b[1;32m    677\u001b[0m \u001b[0;34m\u001b[0m\u001b[0m\n\u001b[0;32m--> 678\u001b[0;31m         \u001b[0;32mreturn\u001b[0m \u001b[0m_read\u001b[0m\u001b[0;34m(\u001b[0m\u001b[0mfilepath_or_buffer\u001b[0m\u001b[0;34m,\u001b[0m \u001b[0mkwds\u001b[0m\u001b[0;34m)\u001b[0m\u001b[0;34m\u001b[0m\u001b[0m\n\u001b[0m\u001b[1;32m    679\u001b[0m \u001b[0;34m\u001b[0m\u001b[0m\n\u001b[1;32m    680\u001b[0m     \u001b[0mparser_f\u001b[0m\u001b[0;34m.\u001b[0m\u001b[0m__name__\u001b[0m \u001b[0;34m=\u001b[0m \u001b[0mname\u001b[0m\u001b[0;34m\u001b[0m\u001b[0m\n",
      "\u001b[0;32m~/anaconda3/lib/python3.6/site-packages/pandas/io/parsers.py\u001b[0m in \u001b[0;36m_read\u001b[0;34m(filepath_or_buffer, kwds)\u001b[0m\n\u001b[1;32m    438\u001b[0m \u001b[0;34m\u001b[0m\u001b[0m\n\u001b[1;32m    439\u001b[0m     \u001b[0;31m# Create the parser.\u001b[0m\u001b[0;34m\u001b[0m\u001b[0;34m\u001b[0m\u001b[0m\n\u001b[0;32m--> 440\u001b[0;31m     \u001b[0mparser\u001b[0m \u001b[0;34m=\u001b[0m \u001b[0mTextFileReader\u001b[0m\u001b[0;34m(\u001b[0m\u001b[0mfilepath_or_buffer\u001b[0m\u001b[0;34m,\u001b[0m \u001b[0;34m**\u001b[0m\u001b[0mkwds\u001b[0m\u001b[0;34m)\u001b[0m\u001b[0;34m\u001b[0m\u001b[0m\n\u001b[0m\u001b[1;32m    441\u001b[0m \u001b[0;34m\u001b[0m\u001b[0m\n\u001b[1;32m    442\u001b[0m     \u001b[0;32mif\u001b[0m \u001b[0mchunksize\u001b[0m \u001b[0;32mor\u001b[0m \u001b[0miterator\u001b[0m\u001b[0;34m:\u001b[0m\u001b[0;34m\u001b[0m\u001b[0m\n",
      "\u001b[0;32m~/anaconda3/lib/python3.6/site-packages/pandas/io/parsers.py\u001b[0m in \u001b[0;36m__init__\u001b[0;34m(self, f, engine, **kwds)\u001b[0m\n\u001b[1;32m    785\u001b[0m             \u001b[0mself\u001b[0m\u001b[0;34m.\u001b[0m\u001b[0moptions\u001b[0m\u001b[0;34m[\u001b[0m\u001b[0;34m'has_index_names'\u001b[0m\u001b[0;34m]\u001b[0m \u001b[0;34m=\u001b[0m \u001b[0mkwds\u001b[0m\u001b[0;34m[\u001b[0m\u001b[0;34m'has_index_names'\u001b[0m\u001b[0;34m]\u001b[0m\u001b[0;34m\u001b[0m\u001b[0m\n\u001b[1;32m    786\u001b[0m \u001b[0;34m\u001b[0m\u001b[0m\n\u001b[0;32m--> 787\u001b[0;31m         \u001b[0mself\u001b[0m\u001b[0;34m.\u001b[0m\u001b[0m_make_engine\u001b[0m\u001b[0;34m(\u001b[0m\u001b[0mself\u001b[0m\u001b[0;34m.\u001b[0m\u001b[0mengine\u001b[0m\u001b[0;34m)\u001b[0m\u001b[0;34m\u001b[0m\u001b[0m\n\u001b[0m\u001b[1;32m    788\u001b[0m \u001b[0;34m\u001b[0m\u001b[0m\n\u001b[1;32m    789\u001b[0m     \u001b[0;32mdef\u001b[0m \u001b[0mclose\u001b[0m\u001b[0;34m(\u001b[0m\u001b[0mself\u001b[0m\u001b[0;34m)\u001b[0m\u001b[0;34m:\u001b[0m\u001b[0;34m\u001b[0m\u001b[0m\n",
      "\u001b[0;32m~/anaconda3/lib/python3.6/site-packages/pandas/io/parsers.py\u001b[0m in \u001b[0;36m_make_engine\u001b[0;34m(self, engine)\u001b[0m\n\u001b[1;32m   1012\u001b[0m     \u001b[0;32mdef\u001b[0m \u001b[0m_make_engine\u001b[0m\u001b[0;34m(\u001b[0m\u001b[0mself\u001b[0m\u001b[0;34m,\u001b[0m \u001b[0mengine\u001b[0m\u001b[0;34m=\u001b[0m\u001b[0;34m'c'\u001b[0m\u001b[0;34m)\u001b[0m\u001b[0;34m:\u001b[0m\u001b[0;34m\u001b[0m\u001b[0m\n\u001b[1;32m   1013\u001b[0m         \u001b[0;32mif\u001b[0m \u001b[0mengine\u001b[0m \u001b[0;34m==\u001b[0m \u001b[0;34m'c'\u001b[0m\u001b[0;34m:\u001b[0m\u001b[0;34m\u001b[0m\u001b[0m\n\u001b[0;32m-> 1014\u001b[0;31m             \u001b[0mself\u001b[0m\u001b[0;34m.\u001b[0m\u001b[0m_engine\u001b[0m \u001b[0;34m=\u001b[0m \u001b[0mCParserWrapper\u001b[0m\u001b[0;34m(\u001b[0m\u001b[0mself\u001b[0m\u001b[0;34m.\u001b[0m\u001b[0mf\u001b[0m\u001b[0;34m,\u001b[0m \u001b[0;34m**\u001b[0m\u001b[0mself\u001b[0m\u001b[0;34m.\u001b[0m\u001b[0moptions\u001b[0m\u001b[0;34m)\u001b[0m\u001b[0;34m\u001b[0m\u001b[0m\n\u001b[0m\u001b[1;32m   1015\u001b[0m         \u001b[0;32melse\u001b[0m\u001b[0;34m:\u001b[0m\u001b[0;34m\u001b[0m\u001b[0m\n\u001b[1;32m   1016\u001b[0m             \u001b[0;32mif\u001b[0m \u001b[0mengine\u001b[0m \u001b[0;34m==\u001b[0m \u001b[0;34m'python'\u001b[0m\u001b[0;34m:\u001b[0m\u001b[0;34m\u001b[0m\u001b[0m\n",
      "\u001b[0;32m~/anaconda3/lib/python3.6/site-packages/pandas/io/parsers.py\u001b[0m in \u001b[0;36m__init__\u001b[0;34m(self, src, **kwds)\u001b[0m\n\u001b[1;32m   1706\u001b[0m         \u001b[0mkwds\u001b[0m\u001b[0;34m[\u001b[0m\u001b[0;34m'usecols'\u001b[0m\u001b[0;34m]\u001b[0m \u001b[0;34m=\u001b[0m \u001b[0mself\u001b[0m\u001b[0;34m.\u001b[0m\u001b[0musecols\u001b[0m\u001b[0;34m\u001b[0m\u001b[0m\n\u001b[1;32m   1707\u001b[0m \u001b[0;34m\u001b[0m\u001b[0m\n\u001b[0;32m-> 1708\u001b[0;31m         \u001b[0mself\u001b[0m\u001b[0;34m.\u001b[0m\u001b[0m_reader\u001b[0m \u001b[0;34m=\u001b[0m \u001b[0mparsers\u001b[0m\u001b[0;34m.\u001b[0m\u001b[0mTextReader\u001b[0m\u001b[0;34m(\u001b[0m\u001b[0msrc\u001b[0m\u001b[0;34m,\u001b[0m \u001b[0;34m**\u001b[0m\u001b[0mkwds\u001b[0m\u001b[0;34m)\u001b[0m\u001b[0;34m\u001b[0m\u001b[0m\n\u001b[0m\u001b[1;32m   1709\u001b[0m \u001b[0;34m\u001b[0m\u001b[0m\n\u001b[1;32m   1710\u001b[0m         \u001b[0mpassed_names\u001b[0m \u001b[0;34m=\u001b[0m \u001b[0mself\u001b[0m\u001b[0;34m.\u001b[0m\u001b[0mnames\u001b[0m \u001b[0;32mis\u001b[0m \u001b[0;32mNone\u001b[0m\u001b[0;34m\u001b[0m\u001b[0m\n",
      "\u001b[0;32mpandas/_libs/parsers.pyx\u001b[0m in \u001b[0;36mpandas._libs.parsers.TextReader.__cinit__\u001b[0;34m()\u001b[0m\n",
      "\u001b[0;32mpandas/_libs/parsers.pyx\u001b[0m in \u001b[0;36mpandas._libs.parsers.TextReader._setup_parser_source\u001b[0;34m()\u001b[0m\n",
      "\u001b[0;31mFileNotFoundError\u001b[0m: File b'./data/en.openfoodfacts.org.products.csv' does not exist"
     ]
    }
   ],
   "source": [
    "# Import data\n",
    "open_food_facts_csv_file = \"./data/en.openfoodfacts.org.products.csv\"\n",
    "\n",
    "# Load list of columns (external file) that are loaded into pyspark\n",
    "data = []\n",
    "with open(\"./data/cleanse/columns_to_import.txt\", \"r\") as json_data:\n",
    "    columns_to_import = json.load(json_data)\n",
    "    columns_to_import\n",
    "\n",
    "\n",
    "food_facts_pd = pd.read_csv(open_food_facts_csv_file,\n",
    "                            delimiter=\"\\t\",\n",
    "                            usecols=columns_to_import.keys(),\n",
    "                            dtype=columns_to_import)"
   ]
  },
  {
   "cell_type": "code",
   "execution_count": 3,
   "metadata": {},
   "outputs": [
    {
     "ename": "NameError",
     "evalue": "name 'food_facts_pd' is not defined",
     "output_type": "error",
     "traceback": [
      "\u001b[0;31m---------------------------------------------------------------------------\u001b[0m",
      "\u001b[0;31mNameError\u001b[0m                                 Traceback (most recent call last)",
      "\u001b[0;32m<ipython-input-3-5b0144c12aa1>\u001b[0m in \u001b[0;36m<module>\u001b[0;34m()\u001b[0m\n\u001b[1;32m      1\u001b[0m \u001b[0mdata_summary_string\u001b[0m \u001b[0;34m=\u001b[0m \u001b[0;34m\"The dataset now comprises {} entries, of which we have {} features.\"\u001b[0m\u001b[0;34m\u001b[0m\u001b[0m\n\u001b[0;32m----> 2\u001b[0;31m \u001b[0mdata_summary_string\u001b[0m\u001b[0;34m.\u001b[0m\u001b[0mformat\u001b[0m\u001b[0;34m(\u001b[0m\u001b[0mfood_facts_pd\u001b[0m\u001b[0;34m.\u001b[0m\u001b[0mshape\u001b[0m\u001b[0;34m[\u001b[0m\u001b[0;36m0\u001b[0m\u001b[0;34m]\u001b[0m\u001b[0;34m,\u001b[0m \u001b[0mfood_facts_pd\u001b[0m\u001b[0;34m.\u001b[0m\u001b[0mshape\u001b[0m\u001b[0;34m[\u001b[0m\u001b[0;36m1\u001b[0m\u001b[0;34m]\u001b[0m\u001b[0;34m)\u001b[0m\u001b[0;34m\u001b[0m\u001b[0m\n\u001b[0m",
      "\u001b[0;31mNameError\u001b[0m: name 'food_facts_pd' is not defined"
     ]
    }
   ],
   "source": [
    "data_summary_string = \"The dataset now comprises {} entries, of which we have {} features.\"\n",
    "data_summary_string.format(food_facts_pd.shape[0], food_facts_pd.shape[1])"
   ]
  },
  {
   "cell_type": "markdown",
   "metadata": {},
   "source": [
    "# Explore the data\n",
    "We begin with taking a quick look on the raw data."
   ]
  },
  {
   "cell_type": "code",
   "execution_count": null,
   "metadata": {},
   "outputs": [],
   "source": [
    "food_facts_pd.head(5)"
   ]
  },
  {
   "cell_type": "markdown",
   "metadata": {},
   "source": [
    "## Display number of non-NaN entries per column"
   ]
  },
  {
   "cell_type": "code",
   "execution_count": null,
   "metadata": {},
   "outputs": [],
   "source": [
    "null_entries = pd.DataFrame({'columns' : food_facts_pd.columns,\n",
    "                             'not nan_values' : [food_facts_pd[c].count() for c in food_facts_pd]\n",
    "                            })\n",
    "\n",
    "# Plot NaNs counts\n",
    "if PLOT:\n",
    "    null_entries.set_index('columns').plot(kind='barh', figsize=(10, 10))\n",
    "    plt.title(\"Not null values count in each column\")\n",
    "    plt.show()"
   ]
  },
  {
   "cell_type": "markdown",
   "metadata": {},
   "source": [
    "We see that there are many NaN entries in this data set. For our analysis, we can only use entries that have at least a product name, country tag, manufacturing and purchase place, store, and a created date tag. Unfortunately, we have to drop all columns, that lack these entries."
   ]
  },
  {
   "cell_type": "code",
   "execution_count": null,
   "metadata": {},
   "outputs": [],
   "source": [
    "no_rows_inital = food_facts_pd.shape[0]\n",
    "\n",
    "# Drop entries with missing entries in one of our main-features\n",
    "essential_columns = ['created_t', \n",
    "                     'product_name', \n",
    "                     'countries_en', \n",
    "                     'categories_en', \n",
    "                     'stores',\n",
    "                     'manufacturing_places', \n",
    "                     'purchase_places']\n",
    "\n",
    "food_facts_pd = food_facts_pd.dropna(subset=essential_columns, )\n",
    "\n",
    "no_rows_reduced_nan = food_facts_pd.shape[0]\n",
    "\n",
    "# Also drop duplicated values (indentify based on index (barcode))\n",
    "food_facts_pd = food_facts_pd.drop_duplicates()\n",
    "\n",
    "no_rows_reduced_duplicates = food_facts_pd.shape[0]\n",
    "\n",
    "print(\"{} entries were dropped, {} of those were duplicates.\"\\\n",
    "      .format(no_rows_inital-no_rows_reduced_duplicates, \n",
    "              no_rows_reduced_nan-no_rows_reduced_duplicates)\n",
    "     )\n",
    "print(data_summary_string.format(food_facts_pd.shape[0], \n",
    "                                 food_facts_pd.shape[1]))"
   ]
  },
  {
   "cell_type": "markdown",
   "metadata": {},
   "source": [
    "Puhh, that was though. From now on, we are going to rescue the data and enrich wherever we can."
   ]
  },
  {
   "cell_type": "code",
   "execution_count": null,
   "metadata": {},
   "outputs": [],
   "source": [
    "# Replace NaNs with emptry string\n",
    "food_facts_pd = food_facts_pd.fillna(\"\")"
   ]
  },
  {
   "cell_type": "code",
   "execution_count": null,
   "metadata": {},
   "outputs": [],
   "source": [
    "# Next lets look at the data types:"
   ]
  },
  {
   "cell_type": "code",
   "execution_count": null,
   "metadata": {},
   "outputs": [],
   "source": [
    "food_facts_pd.dtypes"
   ]
  },
  {
   "cell_type": "markdown",
   "metadata": {},
   "source": [
    "Another thing that we are not really keen of are the language indicators, so we are going to remove those abbreviations."
   ]
  },
  {
   "cell_type": "code",
   "execution_count": null,
   "metadata": {},
   "outputs": [],
   "source": [
    "def remove_language_indicator(row_str):\n",
    "    tags = [tag if len(tag.split(':'))==1 else tag.split(':')[1] for tag in row_str.split(',')]\n",
    "    return \",\".join(tags)"
   ]
  },
  {
   "cell_type": "code",
   "execution_count": null,
   "metadata": {},
   "outputs": [],
   "source": [
    "food_facts_pd.categories_en = food_facts_pd.categories_en.apply(remove_language_indicator)\n",
    "food_facts_pd.main_category = food_facts_pd.main_category.apply(remove_language_indicator)\n",
    "food_facts_pd.countries_en = food_facts_pd.countries_en.apply(remove_language_indicator)\n",
    "food_facts_pd.labels_en = food_facts_pd.labels_en.apply(remove_language_indicator)"
   ]
  },
  {
   "cell_type": "markdown",
   "metadata": {},
   "source": [
    "# Cleanse data"
   ]
  },
  {
   "cell_type": "markdown",
   "metadata": {},
   "source": [
    "## Unitize tags\n",
    "Many parts of the data are categorizations based on tags. However, those tags are in a variety of languages and string formattings, so in order to use them we attempt to group tags that hint to the same property and map them to a common indicator. \n",
    "\n",
    "Every column of the data set requires special treatment, as follows:"
   ]
  },
  {
   "cell_type": "markdown",
   "metadata": {},
   "source": [
    "### Countries tags"
   ]
  },
  {
   "cell_type": "markdown",
   "metadata": {},
   "source": [
    "Note :  \n",
    "- purchase_places and countries_en are the same though \"countries_en\" has more entries\n",
    "- manufacturing_places and origins are different"
   ]
  },
  {
   "cell_type": "markdown",
   "metadata": {},
   "source": [
    "\"_Countries_\" is a csv file modified in the \"_Country__names.ipynb_\" file from the source (available at https://mledoze.github.io/countries/). We need to harmonise country names (and push them to English since many entries use French and German). The columns requiring our attentions are the following:\n",
    "- origins\n",
    "- manufacturing_places\n",
    "- countries_en\n",
    "\n",
    "Note that each have a respective redundant column : origins_tags, manufacturing_places_tags and purchase_places. We are going to filter these by a function in our _cleansing.py_ library to lead to the following respective columns:\n",
    "- origins_cleaned\n",
    "- manufacturing_place_cleaned\n",
    "- purchase_places_cleaned"
   ]
  },
  {
   "cell_type": "code",
   "execution_count": null,
   "metadata": {},
   "outputs": [],
   "source": [
    "food_facts_pd['origins_cleaned'] = food_facts_pd.origins\n",
    "food_facts_pd['manufacturing_place_cleaned'] = food_facts_pd.manufacturing_places\n",
    "food_facts_pd['purchase_places_cleaned'] = food_facts_pd.countries_en"
   ]
  },
  {
   "cell_type": "code",
   "execution_count": null,
   "metadata": {},
   "outputs": [],
   "source": [
    "# Load analyse file\n",
    "countries = pd.read_csv(\"./data/country_lookup.csv\")[['name', 'cca2', 'alias', 'Forced']]"
   ]
  },
  {
   "cell_type": "markdown",
   "metadata": {},
   "source": [
    "The following is a test to see how complete the harmonisation is"
   ]
  },
  {
   "cell_type": "markdown",
   "metadata": {},
   "source": [
    "Now let's attack the Open Food Fact database"
   ]
  },
  {
   "cell_type": "code",
   "execution_count": null,
   "metadata": {},
   "outputs": [],
   "source": [
    "#The following commands should not be run except if the analysis has to be performed again. \n",
    "#Access the result in ./data/food_facts_pd_countries_names.csv (will be saved to that)\n",
    "######################################################"
   ]
  },
  {
   "cell_type": "code",
   "execution_count": null,
   "metadata": {},
   "outputs": [],
   "source": [
    "if( RUN ):\n",
    "    food_facts_pd.origins_cleaned = food_facts_pd.origins_cleaned\\\n",
    "        .apply(lambda x: cleanse.country_name_filter(x, countries))"
   ]
  },
  {
   "cell_type": "code",
   "execution_count": null,
   "metadata": {},
   "outputs": [],
   "source": [
    "if( RUN ):\n",
    "    food_facts_pd.manufacturing_place_cleaned = food_facts_pd.manufacturing_place_cleaned\\\n",
    "        .apply(lambda x: cleanse.country_name_filter(x, countries))"
   ]
  },
  {
   "cell_type": "code",
   "execution_count": null,
   "metadata": {},
   "outputs": [],
   "source": [
    "if( RUN ):\n",
    "    food_facts_pd.purchase_places_cleaned = food_facts_pd.purchase_places_cleaned\\\n",
    "        .apply(lambda x: cleanse.country_name_filter(x, countries))"
   ]
  },
  {
   "cell_type": "code",
   "execution_count": null,
   "metadata": {},
   "outputs": [],
   "source": [
    "#Let's save these columns so that we don't have to run them again. \n",
    "\n",
    "#Do not run this command if you have not processed the whole dataset !\n",
    "if( RUN ):\n",
    "    food_facts_pd_countries_names = food_facts_pd[['origins_cleaned', \n",
    "                                                   'manufacturing_place_cleaned', \n",
    "                                                   'purchase_places_cleaned']\n",
    "                                                 ]\n",
    "    food_facts_pd_countries_names.to_csv(\"./data/food_facts_pd_countries_names.csv\")"
   ]
  },
  {
   "cell_type": "code",
   "execution_count": null,
   "metadata": {},
   "outputs": [],
   "source": [
    "######################################################"
   ]
  },
  {
   "cell_type": "markdown",
   "metadata": {},
   "source": [
    "### Labels tags"
   ]
  },
  {
   "cell_type": "code",
   "execution_count": null,
   "metadata": {},
   "outputs": [],
   "source": [
    "# Unitze labels\n",
    "with open('./data/cleanse/taxonomies.json', 'r') as json_data:\n",
    "    labels_lookup = cleanse.to_lookup(json.load(json_data))\n",
    "food_facts_pd.labels_en = food_facts_pd.labels_en.\\\n",
    "    apply(lambda x: [labels_lookup[z] for z in x.split(',')])"
   ]
  },
  {
   "cell_type": "code",
   "execution_count": null,
   "metadata": {},
   "outputs": [],
   "source": [
    "if PLOT:\n",
    "    _,_ = visualize.plot_occurences_of_distinct_values(food_facts_pd, 'labels_en')"
   ]
  },
  {
   "cell_type": "markdown",
   "metadata": {},
   "source": [
    "### Store labels tags"
   ]
  },
  {
   "cell_type": "code",
   "execution_count": null,
   "metadata": {},
   "outputs": [],
   "source": [
    "# Unitize store labels\n",
    "with open('./data/cleanse/stores_lookup.json', 'r') as json_data:\n",
    "    stores_lookup = cleanse.to_lookup(json.load(json_data))\n",
    "food_facts_pd.stores = food_facts_pd.stores.fillna(\"\")\\\n",
    "    .apply(lambda x: [stores_lookup[z] for z in x.split(',')])"
   ]
  },
  {
   "cell_type": "code",
   "execution_count": null,
   "metadata": {},
   "outputs": [],
   "source": [
    "if PLOT:\n",
    "    _,_ = visualize.plot_occurences_of_distinct_values(food_facts_pd, 'stores')"
   ]
  },
  {
   "cell_type": "markdown",
   "metadata": {},
   "source": [
    "### Food category tags"
   ]
  },
  {
   "cell_type": "code",
   "execution_count": null,
   "metadata": {},
   "outputs": [],
   "source": [
    "if PLOT:\n",
    "    _,_ = visualize.plot_occurences_of_distinct_values_from_strings(food_facts_pd, 'categories_en')"
   ]
  },
  {
   "cell_type": "markdown",
   "metadata": {},
   "source": [
    "## Carbon footprint dataset\n",
    "\n",
    "Because the food facts database lacks carbon footprint specifications, we got random samples of products from Eaternity database. Unfortunately, we were not allowed access to the API before purchasing a 2000 CHF license. However, this weekend, we were given a dataset of carbon footprints for specific products. To use it for our analysis, we have to categorize this products, as they do not match with the food items in the food facts database.\n",
    "\n",
    "Let's still take a quick look at the Carbon Footprint database, that we have obtained."
   ]
  },
  {
   "cell_type": "markdown",
   "metadata": {},
   "source": [
    "### Loading the data"
   ]
  },
  {
   "cell_type": "code",
   "execution_count": 4,
   "metadata": {},
   "outputs": [],
   "source": [
    "# Import data\n",
    "carbon_footprint_csv_file = \"./data/carbon_footprint.csv\"\n",
    "\n",
    "carbon_footprint_pd = pd.read_csv(carbon_footprint_csv_file, delimiter=\",\")\n",
    "\n",
    "#Import data with categories \n",
    "# Import data\n",
    "carbon_footprint_categories_csv_file = \"./data/carbon_footprint_categories.csv\"\n",
    "\n",
    "carbon_footprint_categories_pd = pd.read_csv(carbon_footprint_categories_csv_file)\n"
   ]
  },
  {
   "cell_type": "code",
   "execution_count": 5,
   "metadata": {},
   "outputs": [
    {
     "name": "stdout",
     "output_type": "stream",
     "text": [
      "We have 9 ecological features for 692 products.\n"
     ]
    }
   ],
   "source": [
    "print('We have {0} ecological features for {1} products.'\\\n",
    "      .format(carbon_footprint_pd.shape[1], \n",
    "              carbon_footprint_pd.shape[0]))"
   ]
  },
  {
   "cell_type": "markdown",
   "metadata": {},
   "source": [
    "We are interested in the carbon footprint of each product. Because our sample is small (around 700 products) and doesn't really match with the Food Facts Database, we will take care of the categories. Thus, we will extract the categories from [Codecheck website](https://www.codecheck.info/) (Webscraper)."
   ]
  },
  {
   "cell_type": "code",
   "execution_count": 6,
   "metadata": {},
   "outputs": [
    {
     "data": {
      "text/plain": [
       "Text(0.5,1,'Distribution of the carbon ')"
      ]
     },
     "execution_count": 6,
     "metadata": {},
     "output_type": "execute_result"
    },
    {
     "data": {
      "image/png": "[encoded data removed]",
      "text/plain": [
       "<Figure size 432x288 with 1 Axes>"
      ]
     },
     "metadata": {},
     "output_type": "display_data"
    }
   ],
   "source": [
    "ax = carbon_footprint_pd['CO2-Value [gram CO2/serving]'].hist(bins=50)\n",
    "ax.set_xlabel('Carbon footprint')\n",
    "ax.set_ylabel('Occurencies')\n",
    "ax.set_title('Distribution of the carbon ')"
   ]
  },
  {
   "cell_type": "code",
   "execution_count": 7,
   "metadata": {},
   "outputs": [],
   "source": [
    "#translation of category column in two times because limitation in translations\n",
    "translated_column = cleanse.translate_columns(carbon_footprint_categories_pd['category'])"
   ]
  },
  {
   "cell_type": "code",
   "execution_count": 41,
   "metadata": {},
   "outputs": [
    {
     "data": {
      "text/plain": [
       "['Tinned vegetables',\n",
       " 'Tinned vegetables',\n",
       " 'Coconut milk',\n",
       " 'Cereals, cornflakes',\n",
       " 'Tortilla chips',\n",
       " 'Sunflower seeds',\n",
       " 'Bread',\n",
       " 'Bread',\n",
       " 'Vegetable Spreads &amp; Salads',\n",
       " 'Bread',\n",
       " 'Bread',\n",
       " 'Mustard &amp; mustard sauces',\n",
       " 'Cocoa without sugar',\n",
       " 'Potatoes',\n",
       " 'Potatoes',\n",
       " 'Coconut milk',\n",
       " 'Sunflower seeds',\n",
       " 'Bread',\n",
       " 'Sugar',\n",
       " 'Turnip tops, syrup &amp;amp; molasses',\n",
       " 'Sugar',\n",
       " 'Bread',\n",
       " 'Candy &amp;amp; lollipops',\n",
       " 'Potato slices &amp; French fries',\n",
       " 'Thickeners &amp;amp; gelling agents',\n",
       " 'Poppy seeds',\n",
       " 'Thickeners &amp;amp; gelling agents',\n",
       " 'Potato slices &amp; French fries',\n",
       " 'chocolate bars',\n",
       " 'Bread',\n",
       " 'Spices',\n",
       " 'Semolina',\n",
       " 'Farfalle &amp; Pasta noodles',\n",
       " 'Linseeds',\n",
       " 'Ceralien, more',\n",
       " 'Mustard &amp; mustard sauces',\n",
       " 'Flour, wheat',\n",
       " 'Candy &amp;amp; lollipops',\n",
       " 'Bread',\n",
       " 'Letters, motifs &amp;amp; noodles',\n",
       " 'Oat &amp;amp; grain milk',\n",
       " 'Coconut milk',\n",
       " 'More seeds &amp; kernels',\n",
       " 'Farfalle &amp; Pasta noodles',\n",
       " 'Cereals, cornflakes',\n",
       " 'Fruit jelly',\n",
       " 'Other syrups',\n",
       " 'Fruit jelly',\n",
       " 'Instant cocoa',\n",
       " 'Dumplings &amp; purees',\n",
       " 'Spices',\n",
       " 'Roll for baking',\n",
       " 'Flour, original and einkorn',\n",
       " 'Bread',\n",
       " 'Lye bars and pretzels',\n",
       " 'Potato slices &amp; French fries',\n",
       " 'Polenta',\n",
       " 'Peanut &amp; cornflips',\n",
       " 'Cake, pie &amp; biscuit baking mixes',\n",
       " 'Roll for baking',\n",
       " 'Bread',\n",
       " 'Bread',\n",
       " 'Bread',\n",
       " 'Rice milk &amp; drinks',\n",
       " 'Spaghetti &amp; long noodles',\n",
       " 'Potato slices &amp; French fries',\n",
       " 'Potato slices &amp; French fries',\n",
       " 'Noodles',\n",
       " 'Roll for baking',\n",
       " 'Fruit, wine gum &amp; liquorice',\n",
       " 'Flour, mixtures',\n",
       " 'Bread',\n",
       " 'Roll for baking',\n",
       " 'Roll for baking',\n",
       " 'Sandwich bread, hot dogs &amp; hamburger buns',\n",
       " 'Vegetable Spreads &amp; Salads',\n",
       " 'Roll for baking',\n",
       " 'Roll for baking',\n",
       " 'Vegetable Spreads &amp; Salads',\n",
       " 'Roll for baking',\n",
       " 'Roll for baking',\n",
       " 'Couscous, bulur &amp; co',\n",
       " 'Gnocci, shag &amp; potato noodles',\n",
       " 'Ceralien, more',\n",
       " 'Popcorn',\n",
       " 'Peanut &amp; cornflips',\n",
       " 'Potato chips',\n",
       " 'Potato chips',\n",
       " 'Dried herbs',\n",
       " 'Cake, pie &amp; biscuit baking mixes',\n",
       " 'More spreads',\n",
       " 'Roll for baking',\n",
       " 'Amaranth and cereal breadcrumbs',\n",
       " 'Almond and hazelnut milk',\n",
       " 'Salad side dishes &amp; ready-made salads',\n",
       " 'Flakes &amp; grain, oats',\n",
       " 'Knuspermüsli',\n",
       " 'Toasted bread &amp; toasties',\n",
       " 'Potato chips',\n",
       " 'Roll for baking',\n",
       " 'Potato slices &amp; French fries',\n",
       " 'Potato slices &amp; French fries',\n",
       " 'Sandwich bread, hot dogs &amp; hamburger buns',\n",
       " 'Couscous, bulur &amp; co',\n",
       " 'Spices',\n",
       " 'Pralines',\n",
       " 'Basic &amp; cereal muesli',\n",
       " 'Spice mixes',\n",
       " 'chocolate bars',\n",
       " 'Potato chips',\n",
       " 'Oil',\n",
       " 'Peanuts',\n",
       " 'Potato slices &amp; French fries',\n",
       " 'Potato chips',\n",
       " 'Peanut &amp; cornflips',\n",
       " 'Potato slices &amp; French fries',\n",
       " 'Dried herbs',\n",
       " 'Vegetable Spreads &amp; Salads',\n",
       " 'Almond and hazelnut milk',\n",
       " 'Soy patties &amp;amp; meat substitutes',\n",
       " 'spice pastes',\n",
       " 'Lye bars and pretzels',\n",
       " 'Salad side dishes &amp; ready-made salads',\n",
       " 'Soy milk &amp;amp; drinks',\n",
       " 'Other legumes',\n",
       " 'chocolate bars',\n",
       " 'Ice cream',\n",
       " 'Cheese imitation &amp;amp; analog cheese',\n",
       " 'Wheat gluten',\n",
       " 'Potato slices &amp; French fries',\n",
       " 'Almonds',\n",
       " 'Mayonnaise',\n",
       " 'Potato slices &amp; French fries',\n",
       " 'Lye bars and pretzels',\n",
       " 'CANDIED FRUITS',\n",
       " 'Fruit, wine gum &amp; liquorice',\n",
       " 'Flakes &amp;amp; grain, spelt',\n",
       " 'Cheese imitation &amp;amp; analog cheese',\n",
       " 'Vegetable savoury biscuits',\n",
       " 'Letters, motifs &amp;amp; noodles',\n",
       " 'Bread chips',\n",
       " 'Tortilla chips',\n",
       " 'spice pastes',\n",
       " 'Mayonnaise',\n",
       " 'Potato chips',\n",
       " 'Bircher &amp; fruit muesli',\n",
       " 'Mayonnaise',\n",
       " 'Grissini &amp;amp; crispy bars',\n",
       " 'Vegetable savoury biscuits',\n",
       " 'Couscous, bulur &amp; co',\n",
       " 'Roll for baking',\n",
       " 'Raw marzipan &amp;amp; Persipan',\n",
       " 'Potato slices &amp; French fries',\n",
       " 'Rice flour',\n",
       " 'Basmati -, aroma -, &amp;amp; jasmine rice',\n",
       " '125g risotto rice',\n",
       " 'Ceralien, more',\n",
       " 'Basmati -, aroma -, &amp;amp; jasmine rice',\n",
       " 'Fruit, wine gum &amp; liquorice',\n",
       " 'Amaranth and cereal breadcrumbs',\n",
       " 'Rice pudding &amp; semolina cooking powder',\n",
       " 'Biscuits &amp; biscuits',\n",
       " 'Vegetable Spreads &amp; Salads',\n",
       " 'Gelatin, gelling agents &amp;amp; Sahnesteif',\n",
       " 'Cereals, cornflakes',\n",
       " 'Knuspermüsli',\n",
       " 'Peanut &amp; cornflips',\n",
       " 'Tortellini &amp;amp; stuffed pasta',\n",
       " 'Vegetables &amp;amp; proteins meat substitute',\n",
       " 'Lentils',\n",
       " 'Tofu',\n",
       " 'Rice pudding &amp; semolina cooking powder',\n",
       " 'Potato chips',\n",
       " 'Roll for baking',\n",
       " 'Soy &amp; vegetable sausage',\n",
       " 'Raw marzipan &amp;amp; Persipan',\n",
       " 'Potato slices &amp; French fries',\n",
       " 'Bananas &amp;amp; tropical fruits',\n",
       " 'Cracker',\n",
       " 'Cracker',\n",
       " 'Vegetable Spreads &amp; Salads',\n",
       " 'Ceralien, more',\n",
       " 'Salad dressings &amp; sauces',\n",
       " 'Almonds',\n",
       " 'Almonds',\n",
       " 'Mustard &amp; mustard sauces',\n",
       " 'Mustard &amp; mustard sauces',\n",
       " 'Bircher &amp; fruit muesli',\n",
       " 'Tinned vegetables',\n",
       " 'Rice pudding &amp; semolina cooking powder',\n",
       " 'Noble marzipan',\n",
       " 'Tofu',\n",
       " 'spice pastes',\n",
       " 'Sesame',\n",
       " 'Oils with flavors and spices',\n",
       " 'Oil',\n",
       " 'potato dishes',\n",
       " 'Salad side dishes &amp; ready-made salads',\n",
       " 'More seeds &amp; kernels',\n",
       " 'Spices',\n",
       " 'Spices',\n",
       " 'Soya, Worcester sauce &amp; Co',\n",
       " 'Mustard &amp; mustard sauces',\n",
       " 'Dried vegetables',\n",
       " 'Tortilla chips',\n",
       " 'Nut and chocolate muesli',\n",
       " 'Oil',\n",
       " 'potato dishes',\n",
       " 'Oil',\n",
       " 'Rice pudding &amp; semolina cooking powder',\n",
       " 'Noble marzipan',\n",
       " 'Knuspermüsli',\n",
       " 'Cheese and puff pastry',\n",
       " 'Dumplings &amp; purees',\n",
       " 'Roll for baking',\n",
       " 'Vegetable &amp; protein substitute',\n",
       " 'Hefezopf, Stollen &amp; Hefegebäck',\n",
       " 'Spice mixes',\n",
       " 'Jam &amp; marmalade',\n",
       " 'Sugar',\n",
       " 'Sugar',\n",
       " 'Sugar',\n",
       " 'Sugar',\n",
       " 'Mustard &amp; mustard sauces',\n",
       " 'Mayonnaise',\n",
       " 'Oil',\n",
       " 'Biscuits &amp; biscuits',\n",
       " 'Dumplings &amp; purees',\n",
       " 'Food and frying fats',\n",
       " 'Arrange vegetables',\n",
       " 'spice pastes',\n",
       " 'Vegetable Spreads &amp; Salads',\n",
       " 'Biscuits &amp; biscuits',\n",
       " 'Cracker',\n",
       " 'Fruit Nectar 25-50%',\n",
       " 'Vegetable ready meals',\n",
       " 'Dumplings &amp; purees',\n",
       " 'Noodles',\n",
       " 'potato dishes',\n",
       " 'Bircher &amp; fruit muesli',\n",
       " 'Facial wash',\n",
       " 'Tinned vegetables',\n",
       " 'Caramel &amp; Torrone',\n",
       " 'Noble marzipan',\n",
       " 'CANDIED FRUITS',\n",
       " 'Hazelnuts/cobnuts',\n",
       " 'Basic &amp; cereal muesli',\n",
       " 'Syrup',\n",
       " 'Dumplings &amp; purees',\n",
       " 'Hefezopf, Stollen &amp; Hefegebäck',\n",
       " 'Salad dressings &amp; sauces',\n",
       " 'Biscuits &amp; biscuits',\n",
       " 'Courts',\n",
       " 'Margarine &amp; margarine spreads',\n",
       " 'Salad side dishes &amp; ready-made salads',\n",
       " 'bread chips',\n",
       " 'Cashew nuts',\n",
       " 'Spice mixes',\n",
       " 'Couscous, bulur &amp; co',\n",
       " 'Salad side dishes &amp; ready-made salads',\n",
       " 'Vegetable Spreads &amp; Salads',\n",
       " 'Salad side dishes &amp; ready-made salads',\n",
       " 'Stocks &amp;amp; broths',\n",
       " 'potato dishes',\n",
       " 'Salad side dishes &amp; ready-made salads',\n",
       " 'Vegetable Spreads &amp; Salads',\n",
       " 'Vegetable ready meals',\n",
       " 'Couscous, bulur &amp; co',\n",
       " 'Vegetable Spreads &amp; Salads',\n",
       " 'Tinned vegetables',\n",
       " 'Vegetable Spreads &amp; Salads',\n",
       " 'Tinned vegetables',\n",
       " 'Tinned fruits',\n",
       " 'Tinned fruits',\n",
       " 'Dumplings &amp; purees',\n",
       " 'Tortellini &amp;amp; stuffed pasta',\n",
       " 'Champagne',\n",
       " 'Citrus fruits',\n",
       " 'Tinned vegetables',\n",
       " 'Sulz &amp;amp; aspic',\n",
       " 'Courts',\n",
       " 'Tinned vegetables',\n",
       " 'Arrange vegetables',\n",
       " 'Arrange vegetables',\n",
       " 'Berries &amp;amp; grapes',\n",
       " 'Vegetable Spreads &amp; Salads',\n",
       " 'Cereals, cornflakes',\n",
       " 'Ready meals pasta',\n",
       " 'Potato chips',\n",
       " 'Pastries &amp; sweet ready meals',\n",
       " 'Vegetable side dishes &amp; mixed vegetables',\n",
       " 'Peas',\n",
       " 'whey beverages',\n",
       " 'Courts',\n",
       " 'spice pastes',\n",
       " 'More confectionery',\n",
       " 'Roll for baking',\n",
       " 'Spice mixes',\n",
       " 'Arrange vegetables',\n",
       " 'Green salad',\n",
       " 'spice pastes',\n",
       " 'Salad side dishes &amp; ready-made salads',\n",
       " 'Ceralien, more',\n",
       " 'Stocks &amp;amp; broths',\n",
       " 'Syrup',\n",
       " 'Tortellini &amp;amp; stuffed pasta',\n",
       " 'Vegetable Spreads &amp; Salads',\n",
       " 'olive oils',\n",
       " 'Olives',\n",
       " 'Meat spreads &amp; salads',\n",
       " 'Olives',\n",
       " 'Spice mixes',\n",
       " 'Noodles',\n",
       " 'olive oils',\n",
       " 'olive oils',\n",
       " 'Oils with flavors and spices',\n",
       " 'Tinned vegetables',\n",
       " 'Vegetable Spreads &amp; Salads',\n",
       " 'Chocolate bar',\n",
       " 'Ceralien, more',\n",
       " 'Lentils',\n",
       " 'Pastries &amp; sweet ready meals',\n",
       " 'Vegetable side dishes &amp; mixed vegetables',\n",
       " 'Canned sardines',\n",
       " 'spice pastes',\n",
       " 'Salad side dishes &amp; ready-made salads',\n",
       " 'Meat spreads &amp; salads',\n",
       " 'More cereal &amp;amp; grains',\n",
       " 'Beans',\n",
       " 'spice pastes',\n",
       " 'Vegetable Spreads &amp; Salads',\n",
       " 'Spices',\n",
       " 'Salad side dishes &amp; ready-made salads',\n",
       " 'Polenta',\n",
       " 'Salami &amp;amp; sausage',\n",
       " 'Fish spreads &amp;amp; salads',\n",
       " 'Olives',\n",
       " 'Chocolate, Walnut &amp;amp; Milchcremes',\n",
       " 'Starch &amp; Saucebinder',\n",
       " 'Meat spreads &amp; salads',\n",
       " 'spice pastes',\n",
       " 'Sandwiches &amp; toasts',\n",
       " 'Fresh herbs',\n",
       " 'Fresh herbs',\n",
       " 'Cabbage &amp; cabbage',\n",
       " 'Popcorn',\n",
       " 'vinegar preserves',\n",
       " 'Olives',\n",
       " 'Spice mixes',\n",
       " 'Rice milk &amp; drinks',\n",
       " 'Ice cream',\n",
       " 'Hefezopf, Stollen &amp; Hefegebäck',\n",
       " 'Citrus fruits',\n",
       " 'spice pastes',\n",
       " 'Olives',\n",
       " 'Olives',\n",
       " 'Fruit, wine gum &amp; liquorice',\n",
       " 'Peas',\n",
       " 'Pesto',\n",
       " 'Vegetable Spreads &amp; Salads',\n",
       " 'Hefezopf, Stollen &amp; Hefegebäck',\n",
       " 'Dried vegetables',\n",
       " 'poultry dishes',\n",
       " 'Starch &amp; Saucebinder',\n",
       " 'Thickening &amp; gelling agent',\n",
       " 'Olives',\n",
       " 'Spice mixes',\n",
       " 'chocolate bars',\n",
       " 'Berries &amp; grapes',\n",
       " 'Carrots, carrots &amp; turnips',\n",
       " 'Arrange vegetables',\n",
       " 'Carrots, carrots &amp; turnips',\n",
       " 'Arrange vegetables',\n",
       " 'Chocolate bar',\n",
       " 'Olives',\n",
       " 'Fruit Nectar 25-50%',\n",
       " 'spice pastes',\n",
       " 'Vegetable side dishes &amp; mixed vegetables',\n",
       " 'Olives',\n",
       " 'Honey',\n",
       " 'Honey',\n",
       " 'Cabbage &amp; cabbage',\n",
       " 'potato dishes',\n",
       " 'Onions, leeks &amp;amp; garlic',\n",
       " 'Arrange vegetables',\n",
       " 'Dumplings &amp; purees',\n",
       " 'Tinned vegetables',\n",
       " 'Onions, leeks &amp;amp; garlic',\n",
       " 'Canned sardines',\n",
       " 'Table salt with iodine',\n",
       " 'Food grade salt without iodine',\n",
       " 'Olives',\n",
       " 'Salad side dishes &amp; ready-made salads',\n",
       " 'vinegar preserves',\n",
       " 'Cabbage &amp; cabbage',\n",
       " 'antipasti',\n",
       " 'Yoghurt',\n",
       " 'Pistachios',\n",
       " 'Vegetable spreads',\n",
       " 'Mushrooms fresh',\n",
       " 'Other fruit juices 100%',\n",
       " 'Farfalle &amp; Pasta noodles',\n",
       " 'Arrange vegetables',\n",
       " 'Chilli &amp; pepper sauces',\n",
       " 'chocolate bars',\n",
       " 'Starch &amp; Saucebinder',\n",
       " 'chocolate bars',\n",
       " 'Jam &amp; marmalade',\n",
       " 'Ice lollies &amp; Waffertüte',\n",
       " 'Tinned vegetables',\n",
       " 'Vegetable side dishes &amp; mixed vegetables',\n",
       " 'Pizza &amp; pizza baguette',\n",
       " 'Biscuits &amp; biscuits',\n",
       " 'Burgers &amp; Hotdogs',\n",
       " 'Soy &amp; vegetable sausage',\n",
       " 'Caramel &amp; Torrone',\n",
       " 'Cottage cheese &amp;amp; cream cheese dessert',\n",
       " 'Milk cuts &amp;amp; co',\n",
       " 'Canned tuna',\n",
       " 'Ready meals pasta',\n",
       " 'Vegetable side dishes &amp; mixed vegetables',\n",
       " 'Spice mixes',\n",
       " 'Feta &amp;amp; Greek-style cheese',\n",
       " 'Arrange vegetables',\n",
       " 'chocolate bars',\n",
       " 'Rice mixes &amp;amp; wild rice',\n",
       " 'Brown rice',\n",
       " 'Tinned vegetables',\n",
       " 'Dumplings &amp; purees',\n",
       " 'Cream &amp;amp; cream products',\n",
       " 'Eggs (free range)',\n",
       " 'Organic eggs',\n",
       " 'Cream &amp;amp; cream products',\n",
       " 'Cream &amp;amp; cream products',\n",
       " 'Fish spreads &amp;amp; salads',\n",
       " 'Cottage cheese &amp;amp; cream cheese dessert',\n",
       " 'Dried herbs',\n",
       " 'whey beverages',\n",
       " 'Tinned fruits',\n",
       " 'Pizza &amp; pizza baguette',\n",
       " 'Fresh herbs',\n",
       " 'Fresh herbs',\n",
       " 'Fresh herbs',\n",
       " 'Rice mixes &amp; wild rice',\n",
       " 'Basmati, fragrance &amp; jasmine rice',\n",
       " 'Dried vegetables',\n",
       " 'Fresh mushrooms',\n",
       " 'Cottage &amp; cottage cheese',\n",
       " 'Tinned fruits',\n",
       " 'Basmati, fragrance &amp; jasmine rice',\n",
       " 'Basmati, fragrance &amp; jasmine rice',\n",
       " 'While rice',\n",
       " '125g risotto rice']"
      ]
     },
     "execution_count": 41,
     "metadata": {},
     "output_type": "execute_result"
    }
   ],
   "source": [
    "TR = translated_column[:453]"
   ]
  },
  {
   "cell_type": "code",
   "execution_count": 33,
   "metadata": {},
   "outputs": [],
   "source": [
    "translated_column_2 = cleanse.translate_columns(carbon_footprint_categories_pd['category'].iloc[453:])"
   ]
  },
  {
   "cell_type": "code",
   "execution_count": 55,
   "metadata": {},
   "outputs": [
    {
     "name": "stdout",
     "output_type": "stream",
     "text": [
      "239\n",
      "239\n"
     ]
    }
   ],
   "source": [
    "translated_column_2\n",
    "translation2 = TR + translated_column_2"
   ]
  },
  {
   "cell_type": "code",
   "execution_count": 57,
   "metadata": {},
   "outputs": [],
   "source": [
    "carbon_footprint_categories_pd['category_en'] = translation2"
   ]
  },
  {
   "cell_type": "markdown",
   "metadata": {},
   "source": [
    "## Concat price info"
   ]
  },
  {
   "cell_type": "markdown",
   "metadata": {},
   "source": [
    "We also searched online shops for price information about some of the products, that we are going to merge in the following."
   ]
  },
  {
   "cell_type": "code",
   "execution_count": null,
   "metadata": {},
   "outputs": [],
   "source": [
    "prices = pd.read_csv(\"./web_crawler/data/prices_carbon.csv\", dtype={'code':object})"
   ]
  },
  {
   "cell_type": "code",
   "execution_count": null,
   "metadata": {},
   "outputs": [],
   "source": [
    "prices_reduced = prices[['product_name', 'price_per_100g', 'store_currency']]"
   ]
  },
  {
   "cell_type": "markdown",
   "metadata": {},
   "source": [
    "Because the OpenFoodFacts code is not necessarily a global barcode for the product, we had to match the products from the online stores and the entries of the database by teh product name. To be consistent with that method, we merge the prices by the product name."
   ]
  },
  {
   "cell_type": "code",
   "execution_count": null,
   "metadata": {},
   "outputs": [],
   "source": [
    "food_facts_pd = pd.merge(food_facts_pd, prices_reduced, on='product_name', how='left')"
   ]
  },
  {
   "cell_type": "code",
   "execution_count": null,
   "metadata": {},
   "outputs": [],
   "source": [
    "print(\"Product prices successfully merged: {}\".format(food_facts_pd.price_per_100g.count()))"
   ]
  },
  {
   "cell_type": "markdown",
   "metadata": {},
   "source": [
    "## Remove negative entries\n",
    "We have few numerical features, which are the calories (energy), carbon-footprint, and price per 100g of the product. These values are due to physical or economic laws non-negative, which we are going to ensure in the following."
   ]
  },
  {
   "cell_type": "code",
   "execution_count": null,
   "metadata": {},
   "outputs": [],
   "source": [
    "numeric_columns = food_facts_pd.select_dtypes(include=['int16', 'int32', 'int64', 'float16', 'float32', 'float64']).columns\n",
    "\n",
    "food_facts_pd[numeric_columns] = food_facts_pd[numeric_columns].where(food_facts_pd[numeric_columns] >= 0, np.NaN)"
   ]
  },
  {
   "cell_type": "markdown",
   "metadata": {},
   "source": [
    "# Write clean data frame to CSV file"
   ]
  },
  {
   "cell_type": "code",
   "execution_count": null,
   "metadata": {},
   "outputs": [],
   "source": [
    "# Generate a dataframe that extracts all information required by the web crawler\n",
    "if 1==0: # skip cell\n",
    "    products = food_facts_pd[['code', \n",
    "                              'product_name', \n",
    "                              'stores', \n",
    "                              'carbon-footprint_100g', \n",
    "                              'nutrition-score-fr_100g']\n",
    "                            ]\n",
    "    products = products[products['carbon-footprint_100g']!=\"\"]\n",
    "\n",
    "    products.to_pickle(\"./web_crawler/data/products_pd.pickle\")"
   ]
  },
  {
   "cell_type": "markdown",
   "metadata": {},
   "source": [
    "Note : country names harmonised are available in ./data/food_facts_pd_countries_names.csv (note the additional code to go back to a list of strings). "
   ]
  },
  {
   "cell_type": "code",
   "execution_count": null,
   "metadata": {},
   "outputs": [],
   "source": [
    "# Apply country name filter\n",
    "\n",
    "countries_names= pd.read_csv(\"./data/food_facts_pd_countries_names.csv\")\n",
    "countries_names.origins_cleaned = \\\n",
    "                        countries_names.origins_cleaned.apply(lambda l: cleanse.read(l))\n",
    "\n",
    "countries_names.manufacturing_place_cleaned = \\\n",
    "                        countries_names.manufacturing_place_cleaned.apply(lambda l: cleanse.read(l))\n",
    "\n",
    "countries_names.purchase_places_cleaned = \\\n",
    "                        countries_names.purchase_places_cleaned.apply(lambda l: cleanse.read(l))\n",
    "\n",
    "food_facts_pd = food_facts_pd.drop(['origins', \n",
    "                                    'manufacturing_places', \n",
    "                                    'countries_en',\n",
    "                                   'origins_tags', \n",
    "                                    'manufacturing_places_tags',\n",
    "                                    'purchase_places'], \\\n",
    "                                    axis=1)\n",
    "\n",
    "food_facts_pd['origins_cleaned'] = countries_names.origins_cleaned\n",
    "food_facts_pd['manufacturing_place_cleaned'] = countries_names.manufacturing_place_cleaned\n",
    "food_facts_pd['purchase_places_cleaned'] = countries_names.purchase_places_cleaned\n",
    "food_facts_pd.head(2)"
   ]
  },
  {
   "cell_type": "code",
   "execution_count": null,
   "metadata": {},
   "outputs": [],
   "source": [
    "food_facts_pd.origins_cleaned.isnull().any().any()"
   ]
  },
  {
   "cell_type": "code",
   "execution_count": null,
   "metadata": {},
   "outputs": [],
   "source": [
    "food_facts_pd.origins_cleaned= food_facts_pd.origins_cleaned.fillna(\"['Unknown']\")\n",
    "food_facts_pd.manufacturing_place_cleaned= food_facts_pd.manufacturing_place_cleaned.fillna(\"['Unknown']\")\n",
    "food_facts_pd.purchase_places_cleaned= food_facts_pd.purchase_places_cleaned.fillna(\"['Unknown']\")"
   ]
  },
  {
   "cell_type": "code",
   "execution_count": null,
   "metadata": {},
   "outputs": [],
   "source": [
    "food_facts_pd.origins_cleaned.isnull().any().any()"
   ]
  },
  {
   "cell_type": "code",
   "execution_count": null,
   "metadata": {},
   "outputs": [],
   "source": [
    "# Write to CSV file\n",
    "clean_data_file_name = \"./data/openfoodfacts_clean.csv\"\n",
    "food_facts_pd.to_csv(clean_data_file_name, sep='\\t', encoding='utf-8')"
   ]
  },
  {
   "cell_type": "code",
   "execution_count": null,
   "metadata": {},
   "outputs": [],
   "source": [
    "processed__data_file_name = \"./data/carbon_footprint_categories.csv\"\n",
    "carbon_footprint_categories_pd.to_csv(clean_data_file_name, sep='\\t', encoding='utf-8')"
   ]
  }
 ],
 "metadata": {
  "kernelspec": {
   "display_name": "Python 3",
   "language": "python",
   "name": "python3"
  },
  "language_info": {
   "codemirror_mode": {
    "name": "ipython",
    "version": 3
   },
   "file_extension": ".py",
   "mimetype": "text/x-python",
   "name": "python",
   "nbconvert_exporter": "python",
   "pygments_lexer": "ipython3",
   "version": "3.6.5"
  },
  "toc": {
   "base_numbering": 1,
   "nav_menu": {},
   "number_sections": true,
   "sideBar": true,
   "skip_h1_title": false,
   "title_cell": "Table of Contents",
   "title_sidebar": "Contents",
   "toc_cell": false,
   "toc_position": {},
   "toc_section_display": true,
   "toc_window_display": false
  }
 },
 "nbformat": 4,
 "nbformat_minor": 2
}
