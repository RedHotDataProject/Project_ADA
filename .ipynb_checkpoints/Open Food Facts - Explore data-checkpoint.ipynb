{
 "cells": [
  {
   "cell_type": "code",
   "execution_count": null,
   "metadata": {},
   "outputs": [],
   "source": [
    "import numpy as np\n",
    "import pandas as pd\n",
    "import matplotlib.pyplot as plt\n",
    "from scipy import stats\n",
    "import seaborn as sns\n",
    "\n",
    "import json\n",
    "import pickle\n",
    "\n",
    "import findspark\n",
    "import os\n",
    "\n",
    "findspark.init()\n",
    "\n",
    "import pyspark\n",
    "import pyspark.sql.functions as func\n",
    "\n",
    "from pyspark.sql import *\n",
    "from pyspark import SparkContext"
   ]
  },
  {
   "cell_type": "code",
   "execution_count": null,
   "metadata": {},
   "outputs": [],
   "source": [
    "sc = pyspark.SparkContext()\n",
    "spark = SparkSession.builder.getOrCreate()"
   ]
  },
  {
   "cell_type": "markdown",
   "metadata": {},
   "source": [
    "# Explore data using PySpark"
   ]
  },
  {
   "cell_type": "markdown",
   "metadata": {},
   "source": [
    "Packages I had to install:\n",
    "    - pip install pyspark_dist_explore\n",
    "    - pip install plotly\n",
    "and then restart the Kernel."
   ]
  },
  {
   "cell_type": "code",
   "execution_count": null,
   "metadata": {},
   "outputs": [],
   "source": [
    "# Import data\n",
    "open_food_facts_csv_file = \"./data/en.openfoodfacts.org.products.csv\"\n",
    "\n",
    "# Import list of interesting columns\n",
    "columns_to_import = []\n",
    "with open(\"columns_to_import.txt\", \"r\") as f:\n",
    "    for line in f:\n",
    "        columns_to_import.append(str(line.strip()))\n",
    "\n",
    "food_facts = (spark.read\n",
    "                  .option(\"header\", \"true\")\n",
    "                  .option(\"mode\", \"DROPMALFORMED\")\n",
    "                  .option(\"delimiter\", \"\\t\")\n",
    "                  .csv(open_food_facts_csv_file))\n",
    "\n",
    "food_facts = food_facts.select([c for c in food_facts.columns if c in columns_to_import])"
   ]
  },
  {
   "cell_type": "code",
   "execution_count": null,
   "metadata": {},
   "outputs": [],
   "source": [
    "food_facts.printSchema()"
   ]
  },
  {
   "cell_type": "code",
   "execution_count": null,
   "metadata": {},
   "outputs": [],
   "source": [
    "if 1==1: # skip cell\n",
    "    products = food_facts.select(['code', 'product_name', 'countries_en', 'brands', 'stores'])\n",
    "    products_pd = products.filter(products.brands.isNotNull())\\\n",
    "                            .filter(products.stores.isNotNull())\\\n",
    "                            .toPandas()\n",
    "\n",
    "    products_pd.to_pickle(\"./data/products_pd.pickle\")\n",
    "    \n"
   ]
  },
  {
   "cell_type": "code",
   "execution_count": null,
   "metadata": {},
   "outputs": [],
   "source": [
    "    products_pd.head(50)"
   ]
  },
  {
   "cell_type": "markdown",
   "metadata": {},
   "source": [
    "#### Find NaN columns"
   ]
  },
  {
   "cell_type": "code",
   "execution_count": null,
   "metadata": {},
   "outputs": [],
   "source": [
    "def count_not_null(c, nan_as_null=False):\n",
    "    \"\"\"Use conversion between boolean and integer\n",
    "    - False -> 0\n",
    "    - True ->  1\n",
    "    \"\"\"\n",
    "    pred = func.col(c).isNotNull() & (~func.isnan(c) if nan_as_null else func.lit(True))\n",
    "    return func.sum(pred.cast(\"integer\")).alias(c)"
   ]
  },
  {
   "cell_type": "code",
   "execution_count": null,
   "metadata": {},
   "outputs": [],
   "source": [
    "null_entries = food_facts.agg(*[count_not_null(c) for c in food_facts.columns]).toPandas()\n",
    "\n",
    "# Plot NaNs counts\n",
    "null_entries.T.plot(kind='barh', figsize=(10, 10))\n",
    "plt.title(\"NaNs count in each column\")"
   ]
  },
  {
   "cell_type": "markdown",
   "metadata": {},
   "source": [
    "### Distribution in every column"
   ]
  },
  {
   "cell_type": "code",
   "execution_count": null,
   "metadata": {},
   "outputs": [],
   "source": [
    " if 1==0: #skip cell, computationally demanding\n",
    "    fig = plt.figure(figsize=(12, 48))\n",
    "    from collections import Counter\n",
    "\n",
    "    names = food_facts.schema.names\n",
    "    for i, name in enumerate(names):\n",
    "        axis = fig.add_subplot(nrows=int(np.ceil(len(names)/3)), ncols=3, index=i)\n",
    "        print(\"{}-{}\".format(i,  name))\n",
    "        letter_counts = Counter(food_facts.select(name).collect())\n",
    "        df = pd.DataFrame.from_dict(letter_counts, orient='index')\n",
    "        df_column.plot.bar(ax=axis, bins=100)"
   ]
  },
  {
   "cell_type": "markdown",
   "metadata": {},
   "source": [
    "### Plot distribution of availability of products in countries"
   ]
  },
  {
   "cell_type": "code",
   "execution_count": null,
   "metadata": {},
   "outputs": [],
   "source": [
    "def count_words(df, colonne = 'categories_en'):\n",
    "    list_words = set()\n",
    "    for entry in df[colonne].astype('str'):\n",
    "        if isinstance(entry, float): continue\n",
    "        for word in entry.split(','):\n",
    "            list_words.add(word)\n",
    "    print(\"Nb of categories in '{}': {}\".format(colonne, len(list_words)))\n",
    "    return list(list_words)"
   ]
  },
  {
   "cell_type": "code",
   "execution_count": null,
   "metadata": {},
   "outputs": [],
   "source": [
    "countries_column = food_facts.select('countries_en').toPandas()\n",
    "list_countries = count_words(countries_column, 'countries_en')"
   ]
  },
  {
   "cell_type": "code",
   "execution_count": null,
   "metadata": {},
   "outputs": [],
   "source": [
    "list_countries"
   ]
  },
  {
   "cell_type": "markdown",
   "metadata": {},
   "source": [
    "If you are bored, you can complete the file country_replacement :D"
   ]
  },
  {
   "cell_type": "code",
   "execution_count": null,
   "metadata": {},
   "outputs": [],
   "source": [
    "with open('country_replacement.json', 'r') as json_data:\n",
    "    country_replacement = json.load(json_data)"
   ]
  },
  {
   "cell_type": "code",
   "execution_count": null,
   "metadata": {},
   "outputs": [],
   "source": [
    "# Replace country tags for actual country name\n",
    "for index, countries in countries_column['countries_en'].str.split(',').items():\n",
    "    if countries is None or isinstance(countries, float): continue\n",
    "    country_name = []\n",
    "    found = False\n",
    "    for s in countries:\n",
    "        if s in country_replacement.keys():\n",
    "            found = True\n",
    "            country_name.append(country_replacement[s])\n",
    "        else:\n",
    "            country_name.append(s)\n",
    "    if found:\n",
    "        countries_column.loc[index, 'countries_en'] = ','.join(country_name)    "
   ]
  },
  {
   "cell_type": "code",
   "execution_count": null,
   "metadata": {},
   "outputs": [],
   "source": [
    "# Count the number of time each country appear in the dataframe\n",
    "country_count = dict()\n",
    "for country in list(list_countries):\n",
    "    country_count[country] = countries_column['countries_en'].str.contains(country).sum()"
   ]
  },
  {
   "cell_type": "code",
   "execution_count": null,
   "metadata": {},
   "outputs": [],
   "source": [
    "import plotly.graph_objs as go\n",
    "from plotly.offline import init_notebook_mode, iplot\n",
    "\n",
    "# Plot census map\n",
    "data = dict(type='choropleth',\n",
    "locations = list(country_count.keys()),\n",
    "locationmode = 'country names', z = list(country_count.values()),\n",
    "text = list(country_count.keys()), colorbar = {'title':'Product nb.'},\n",
    "            \n",
    "colorscale=[[0.00, 'rgb(204,255,229)'], [0.01, 'rgb(51,160,44)'],\n",
    "            [0.02, 'rgb(102,178,255)'], [0.03, 'rgb(166,206,227)'],\n",
    "            [0.05, 'rgb(31,120,180)'], [0.10, 'rgb(251,154,153)'],\n",
    "            [0.20, 'rgb(255,255,0)'], [1, 'rgb(227,26,28)']])\n",
    "\n",
    "layout = dict(title='Availability of products per country',\n",
    "geo = dict(showframe = True, projection={'type':'mercator'}))\n",
    "choromap = go.Figure(data = [data], layout = layout)\n",
    "iplot(choromap, validate=False)\n",
    "i"
   ]
  },
  {
   "cell_type": "markdown",
   "metadata": {},
   "source": [
    "### Plot carbon foot-print histogram over calories"
   ]
  },
  {
   "cell_type": "code",
   "execution_count": null,
   "metadata": {},
   "outputs": [],
   "source": [
    "food_facts_carbon = food_facts.select([\"energy_100g\", \"carbon-footprint_100g\",]).toPandas().dropna()\n",
    "\n",
    "food_facts_carbon['energy_100g'] = food_facts_carbon['energy_100g'].astype('float')\n",
    "food_facts_carbon['carbon-footprint_100g'] = food_facts_carbon['carbon-footprint_100g'].astype('float')"
   ]
  },
  {
   "cell_type": "code",
   "execution_count": null,
   "metadata": {},
   "outputs": [],
   "source": [
    "fig, ax = plt.subplots()\n",
    "food_facts_carbon.plot.scatter(x='energy_100g', \n",
    "                               y='carbon-footprint_100g', \n",
    "                               c='carbon-footprint_100g', \n",
    "                               colormap='coolwarm',\n",
    "                               ax=ax)\n",
    "ax.set_facecolor('black')\n",
    "\n",
    "plt.xlabel('Energy per 100g [kcal]')\n",
    "plt.show()"
   ]
  },
  {
   "cell_type": "markdown",
   "metadata": {},
   "source": [
    "### Availability of products per country"
   ]
  },
  {
   "cell_type": "markdown",
   "metadata": {},
   "source": [
    "# Use the API"
   ]
  },
  {
   "cell_type": "markdown",
   "metadata": {},
   "source": [
    "Run to get the following command to install the OpenFoodFacts API \n",
    "    pip install git+https://github.com/openfoodfacts/openfoodfacts-python"
   ]
  }
 ],
 "metadata": {
  "kernelspec": {
   "display_name": "Python 3",
   "language": "python",
   "name": "python3"
  },
  "language_info": {
   "codemirror_mode": {
    "name": "ipython",
    "version": 3
   },
   "file_extension": ".py",
   "mimetype": "text/x-python",
   "name": "python",
   "nbconvert_exporter": "python",
   "pygments_lexer": "ipython3",
   "version": "3.6.5"
  }
 },
 "nbformat": 4,
 "nbformat_minor": 2
}
