{
 "cells": [
  {
   "cell_type": "markdown",
   "metadata": {},
   "source": [
    "# Open Food Facts: the carbon “food-print” we do not eat\n",
    "\n",
    "## Abstract\n",
    "<i>Everything we do has a carbon footprint, and our diet is no exception. From growing, farming, processing and packaging our food, energy and organic resources are consumed and released, which reflects in the emission of greenhouse gases, like CO<sub>2</sub>. In our project, we analyze the processed foods industry - its manufacturing, product composition, and sales - for the main sources of carbon emissions, using the Open Food Facts dataset. We explain the carbon footprint repartition, starting on an understanding of the products, followed by the breakdown of production countries as well as point of sales and evaluating trends in diet composition, with a special focus on nutritionally high marked products in France and the UK. \n",
    "\n",
    "With this study, we want to provide a better understanding of the agri-food industry, and eventually help reducing carbon emissions.</i>"
   ]
  },
  {
   "cell_type": "markdown",
   "metadata": {},
   "source": [
    "In this notebook, we are performingt the above analysis on the OpenFoodFacts database, which we pre-processed using the __Open Food Facts - Cleanse Data__ notebook in the main directory."
   ]
  },
  {
   "cell_type": "markdown",
   "metadata": {
    "toc": true
   },
   "source": [
    "<h1>Table of Contents<span class=\"tocSkip\"></span></h1>\n",
    "<div class=\"toc\"><ul class=\"toc-item\"><li><span><a href=\"#Abstract\" data-toc-modified-id=\"Abstract-1\"><span class=\"toc-item-num\">1&nbsp;&nbsp;</span>Abstract</a></span></li><li><span><a href=\"#Import-cleansed-data\" data-toc-modified-id=\"Import-cleansed-data-2\"><span class=\"toc-item-num\">2&nbsp;&nbsp;</span>Import cleansed data</a></span></li><li><span><a href=\"#Analyse-data\" data-toc-modified-id=\"Analyse-data-3\"><span class=\"toc-item-num\">3&nbsp;&nbsp;</span>Analyse data</a></span><ul class=\"toc-item\"><li><span><a href=\"#Production-/-manufacture-impact\" data-toc-modified-id=\"Production-/-manufacture-impact-3.1\"><span class=\"toc-item-num\">3.1&nbsp;&nbsp;</span>Production / manufacture impact</a></span><ul class=\"toc-item\"><li><span><a href=\"#Global-distribution-of-global-food-producers\" data-toc-modified-id=\"Global-distribution-of-global-food-producers-3.1.1\"><span class=\"toc-item-num\">3.1.1&nbsp;&nbsp;</span>Global distribution of global food producers</a></span><ul class=\"toc-item\"><li><span><a href=\"#Which-are-the-dominant-global-food-producers-and-manufacturers?\" data-toc-modified-id=\"Which-are-the-dominant-global-food-producers-and-manufacturers?-3.1.1.1\"><span class=\"toc-item-num\">3.1.1.1&nbsp;&nbsp;</span>Which are the dominant global food producers and manufacturers?</a></span></li><li><span><a href=\"#How-is-this-distribution-impacted-when-we-consider-neutral-and-large-carbon-footprint-products?\" data-toc-modified-id=\"How-is-this-distribution-impacted-when-we-consider-neutral-and-large-carbon-footprint-products?-3.1.1.2\"><span class=\"toc-item-num\">3.1.1.2&nbsp;&nbsp;</span>How is this distribution impacted when we consider neutral and large carbon footprint products?</a></span></li></ul></li><li><span><a href=\"#Case-study:-Palm-oil\" data-toc-modified-id=\"Case-study:-Palm-oil-3.1.2\"><span class=\"toc-item-num\">3.1.2&nbsp;&nbsp;</span>Case study: Palm oil</a></span><ul class=\"toc-item\"><li><span><a href=\"#Can-we-observe-any-trend-in-the-number-of-products-including-this-oil-(assuming-a-strong-dependence-between-date-the-product-was-added-to-the-database-and-data-the-product-was-invented)?\" data-toc-modified-id=\"Can-we-observe-any-trend-in-the-number-of-products-including-this-oil-(assuming-a-strong-dependence-between-date-the-product-was-added-to-the-database-and-data-the-product-was-invented)?-3.1.2.1\"><span class=\"toc-item-num\">3.1.2.1&nbsp;&nbsp;</span>Can we observe any trend in the number of products including this oil (assuming a strong dependence between date the product was added to the database and data the product was invented)?</a></span></li><li><span><a href=\"#Which-country-use-palm-oils-for-production?\" data-toc-modified-id=\"Which-country-use-palm-oils-for-production?-3.1.2.2\"><span class=\"toc-item-num\">3.1.2.2&nbsp;&nbsp;</span>Which country use palm oils for production?</a></span></li></ul></li></ul></li><li><span><a href=\"#Good-nutrition-impact\" data-toc-modified-id=\"Good-nutrition-impact-3.2\"><span class=\"toc-item-num\">3.2&nbsp;&nbsp;</span>Good nutrition impact</a></span><ul class=\"toc-item\"><li><span><a href=\"#High-nutrional-products\" data-toc-modified-id=\"High-nutrional-products-3.2.1\"><span class=\"toc-item-num\">3.2.1&nbsp;&nbsp;</span>High-nutrional products</a></span><ul class=\"toc-item\"><li><span><a href=\"#Has-there-been-a-surge-in-high-graded-Products-in-the-UK-/-France-over-the-past-years?\" data-toc-modified-id=\"Has-there-been-a-surge-in-high-graded-Products-in-the-UK-/-France-over-the-past-years?-3.2.1.1\"><span class=\"toc-item-num\">3.2.1.1&nbsp;&nbsp;</span>Has there been a surge in high graded Products in the UK / France over the past years?</a></span></li></ul></li><li><span><a href=\"#High-nutrional-products\" data-toc-modified-id=\"High-nutrional-products-3.2.2\"><span class=\"toc-item-num\">3.2.2&nbsp;&nbsp;</span>High-nutrional products</a></span><ul class=\"toc-item\"><li><span><a href=\"#What-are-those-products-made-of?\" data-toc-modified-id=\"What-are-those-products-made-of?-3.2.2.1\"><span class=\"toc-item-num\">3.2.2.1&nbsp;&nbsp;</span>What are those products made of?</a></span></li><li><span><a href=\"#Where-do-these-product-come-from-and-where-are-they-manufactured?\" data-toc-modified-id=\"Where-do-these-product-come-from-and-where-are-they-manufactured?-3.2.2.2\"><span class=\"toc-item-num\">3.2.2.2&nbsp;&nbsp;</span>Where do these product come from and where are they manufactured?</a></span></li><li><span><a href=\"#Where-are-those-products-sold?\" data-toc-modified-id=\"Where-are-those-products-sold?-3.2.2.3\"><span class=\"toc-item-num\">3.2.2.3&nbsp;&nbsp;</span>Where are those products sold?</a></span></li></ul></li><li><span><a href=\"#Carbon-footprint-of-nutrionally-high-graded-products\" data-toc-modified-id=\"Carbon-footprint-of-nutrionally-high-graded-products-3.2.3\"><span class=\"toc-item-num\">3.2.3&nbsp;&nbsp;</span>Carbon footprint of nutrionally-high graded products</a></span><ul class=\"toc-item\"><li><span><a href=\"#Is-there-a-general-correlation-between-high-carbon-footprint-and-price?\" data-toc-modified-id=\"Is-there-a-general-correlation-between-high-carbon-footprint-and-price?-3.2.3.1\"><span class=\"toc-item-num\">3.2.3.1&nbsp;&nbsp;</span>Is there a general correlation between high carbon footprint and price?</a></span></li></ul></li></ul></li></ul></li></ul></div>"
   ]
  },
  {
   "cell_type": "code",
   "execution_count": 1,
   "metadata": {},
   "outputs": [
    {
     "data": {
      "text/html": [
       "<script type=\"text/javascript\">window.PlotlyConfig = {MathJaxConfig: 'local'};</script><script type=\"text/javascript\">if (window.MathJax) {MathJax.Hub.Config({SVG: {font: \"STIX-Web\"}});}</script><script>requirejs.config({paths: { 'plotly': ['https://cdn.plot.ly/plotly-latest.min']},});if(!window._Plotly) {require(['plotly'],function(plotly) {window._Plotly=plotly;});}</script>"
      ],
      "text/vnd.plotly.v1+html": [
       "<script type=\"text/javascript\">window.PlotlyConfig = {MathJaxConfig: 'local'};</script><script type=\"text/javascript\">if (window.MathJax) {MathJax.Hub.Config({SVG: {font: \"STIX-Web\"}});}</script><script>requirejs.config({paths: { 'plotly': ['https://cdn.plot.ly/plotly-latest.min']},});if(!window._Plotly) {require(['plotly'],function(plotly) {window._Plotly=plotly;});}</script>"
      ]
     },
     "metadata": {},
     "output_type": "display_data"
    },
    {
     "data": {
      "text/html": [
       "<script type=\"text/javascript\">window.PlotlyConfig = {MathJaxConfig: 'local'};</script><script type=\"text/javascript\">if (window.MathJax) {MathJax.Hub.Config({SVG: {font: \"STIX-Web\"}});}</script><script>requirejs.config({paths: { 'plotly': ['https://cdn.plot.ly/plotly-latest.min']},});if(!window._Plotly) {require(['plotly'],function(plotly) {window._Plotly=plotly;});}</script>"
      ],
      "text/vnd.plotly.v1+html": [
       "<script type=\"text/javascript\">window.PlotlyConfig = {MathJaxConfig: 'local'};</script><script type=\"text/javascript\">if (window.MathJax) {MathJax.Hub.Config({SVG: {font: \"STIX-Web\"}});}</script><script>requirejs.config({paths: { 'plotly': ['https://cdn.plot.ly/plotly-latest.min']},});if(!window._Plotly) {require(['plotly'],function(plotly) {window._Plotly=plotly;});}</script>"
      ]
     },
     "metadata": {},
     "output_type": "display_data"
    }
   ],
   "source": [
    "import numpy as np\n",
    "import pandas as pd\n",
    "import matplotlib.pyplot as plt\n",
    "import folium\n",
    "from scipy import stats\n",
    "from datetime import datetime\n",
    "\n",
    "import json\n",
    "import pickle\n",
    "\n",
    "import os\n",
    "import sys\n",
    "nb_dir = os.path.split(os.getcwd())[0]\n",
    "if nb_dir not in sys.path:\n",
    "    sys.path.append(nb_dir)\n",
    "    \n",
    "%load_ext autoreload\n",
    "%autoreload 2\n",
    "    \n",
    "import libs.exploring as explore\n",
    "import libs.visualising as visualize\n",
    "import libs.cleansing as cleanse\n",
    "\n",
    "# Set up plotly environment\n",
    "from plotly.offline import download_plotlyjs, init_notebook_mode, plot, iplot\n",
    "import plotly.graph_objs as go\n",
    "\n",
    "init_notebook_mode(connected=True)"
   ]
  },
  {
   "cell_type": "markdown",
   "metadata": {},
   "source": [
    "## Import cleansed data"
   ]
  },
  {
   "cell_type": "code",
   "execution_count": 2,
   "metadata": {},
   "outputs": [],
   "source": [
    "# Import data\n",
    "open_food_facts_csv_file = \"./data/openfoodfacts_clean.csv\"\n",
    "\n",
    "food_facts_pd = pd.read_csv(open_food_facts_csv_file,\n",
    "                            delimiter=\"\\t\")"
   ]
  },
  {
   "cell_type": "code",
   "execution_count": 3,
   "metadata": {},
   "outputs": [],
   "source": [
    "# Change column data types\n",
    "food_facts_pd['carbon-footprint_100g'] = food_facts_pd['carbon-footprint_100g'].apply(pd.to_numeric, args=('coerce',))\n",
    "food_facts_pd['energy_100g'] = food_facts_pd['energy_100g'].apply(pd.to_numeric, args=('coerce',))\n",
    "food_facts_pd['price_per_100g'] = food_facts_pd['price_per_100g'].apply(pd.to_numeric, args=('coerce',))\n",
    "food_facts_pd['created_datetime'] = food_facts_pd['created_datetime'].apply(pd.to_datetime, args=('coerce',))"
   ]
  },
  {
   "cell_type": "code",
   "execution_count": 4,
   "metadata": {},
   "outputs": [
    {
     "data": {
      "text/html": [
       "<div>\n",
       "<style scoped>\n",
       "    .dataframe tbody tr th:only-of-type {\n",
       "        vertical-align: middle;\n",
       "    }\n",
       "\n",
       "    .dataframe tbody tr th {\n",
       "        vertical-align: top;\n",
       "    }\n",
       "\n",
       "    .dataframe thead th {\n",
       "        text-align: right;\n",
       "    }\n",
       "</style>\n",
       "<table border=\"1\" class=\"dataframe\">\n",
       "  <thead>\n",
       "    <tr style=\"text-align: right;\">\n",
       "      <th></th>\n",
       "      <th>Unnamed: 0</th>\n",
       "      <th>code</th>\n",
       "      <th>created_t</th>\n",
       "      <th>created_datetime</th>\n",
       "      <th>product_name</th>\n",
       "      <th>quantity</th>\n",
       "      <th>packaging</th>\n",
       "      <th>brands</th>\n",
       "      <th>categories_en</th>\n",
       "      <th>origins</th>\n",
       "      <th>...</th>\n",
       "      <th>ingredients_text</th>\n",
       "      <th>main_category</th>\n",
       "      <th>energy_100g</th>\n",
       "      <th>carbon-footprint_100g</th>\n",
       "      <th>nutrition-score-fr_100g</th>\n",
       "      <th>nutrition-score-uk_100g</th>\n",
       "      <th>price_per_100g</th>\n",
       "      <th>store_currency</th>\n",
       "      <th>manufacturing_place</th>\n",
       "      <th>purchase_places</th>\n",
       "    </tr>\n",
       "  </thead>\n",
       "  <tbody>\n",
       "    <tr>\n",
       "      <th>0</th>\n",
       "      <td>0</td>\n",
       "      <td>0000000274722</td>\n",
       "      <td>1514659309</td>\n",
       "      <td>2017-12-30 18:41:49</td>\n",
       "      <td>Blanquette de Volaille et son Riz</td>\n",
       "      <td>NaN</td>\n",
       "      <td>carton,plastique</td>\n",
       "      <td>Comme J’aime</td>\n",
       "      <td>Meals,Meat-based products,Meals with meat,Poul...</td>\n",
       "      <td>Unknown</td>\n",
       "      <td>...</td>\n",
       "      <td>Riz précuit 40,4 % (eau, riz, huile de colza, ...</td>\n",
       "      <td>Meats</td>\n",
       "      <td>450.0</td>\n",
       "      <td>NaN</td>\n",
       "      <td>0.0</td>\n",
       "      <td>0.0</td>\n",
       "      <td>NaN</td>\n",
       "      <td>NaN</td>\n",
       "      <td>France</td>\n",
       "      <td>France</td>\n",
       "    </tr>\n",
       "    <tr>\n",
       "      <th>1</th>\n",
       "      <td>1</td>\n",
       "      <td>0000000394710</td>\n",
       "      <td>1484497370</td>\n",
       "      <td>2017-01-15 16:22:50</td>\n",
       "      <td>Danoises à la cannelle roulées</td>\n",
       "      <td>1.150 kg</td>\n",
       "      <td>Frais</td>\n",
       "      <td>Kirkland Signature</td>\n",
       "      <td>Sugary snacks,Biscuits and cakes,Pastries</td>\n",
       "      <td>France</td>\n",
       "      <td>...</td>\n",
       "      <td>Ingrédients: Pâte (farine, eau, beurre, sucre,...</td>\n",
       "      <td>Sugary snacks</td>\n",
       "      <td>1520.0</td>\n",
       "      <td>NaN</td>\n",
       "      <td>NaN</td>\n",
       "      <td>NaN</td>\n",
       "      <td>NaN</td>\n",
       "      <td>NaN</td>\n",
       "      <td>France</td>\n",
       "      <td>France</td>\n",
       "    </tr>\n",
       "    <tr>\n",
       "      <th>2</th>\n",
       "      <td>2</td>\n",
       "      <td>0000001071894</td>\n",
       "      <td>1409411252</td>\n",
       "      <td>2014-08-30 15:07:32</td>\n",
       "      <td>Flute</td>\n",
       "      <td>NaN</td>\n",
       "      <td>Paper,plastic film</td>\n",
       "      <td>Waitrose</td>\n",
       "      <td>Plant-based foods and beverages,Plant-based fo...</td>\n",
       "      <td>Canada</td>\n",
       "      <td>...</td>\n",
       "      <td>Wheat</td>\n",
       "      <td>Plant-based</td>\n",
       "      <td>NaN</td>\n",
       "      <td>NaN</td>\n",
       "      <td>NaN</td>\n",
       "      <td>NaN</td>\n",
       "      <td>NaN</td>\n",
       "      <td>NaN</td>\n",
       "      <td>Unknown</td>\n",
       "      <td>Canada</td>\n",
       "    </tr>\n",
       "    <tr>\n",
       "      <th>3</th>\n",
       "      <td>3</td>\n",
       "      <td>0000001938067</td>\n",
       "      <td>1484501528</td>\n",
       "      <td>2017-01-15 17:32:08</td>\n",
       "      <td>Chaussons tressés aux pommes</td>\n",
       "      <td>1.200 kg</td>\n",
       "      <td>Frais</td>\n",
       "      <td>Kirkland Signature</td>\n",
       "      <td>Sugary snacks,Biscuits and cakes,Pastries</td>\n",
       "      <td>France</td>\n",
       "      <td>...</td>\n",
       "      <td>Ingrédients : Pâte (farine, margarines d'huile...</td>\n",
       "      <td>Sugary snacks</td>\n",
       "      <td>1090.0</td>\n",
       "      <td>NaN</td>\n",
       "      <td>9.0</td>\n",
       "      <td>9.0</td>\n",
       "      <td>NaN</td>\n",
       "      <td>NaN</td>\n",
       "      <td>United Kingdom</td>\n",
       "      <td>United Kingdom</td>\n",
       "    </tr>\n",
       "    <tr>\n",
       "      <th>4</th>\n",
       "      <td>4</td>\n",
       "      <td>0000004302544</td>\n",
       "      <td>1488464896</td>\n",
       "      <td>2017-03-02 14:28:16</td>\n",
       "      <td>Pain Burger Artisan</td>\n",
       "      <td>1.008 kg / 12 pain</td>\n",
       "      <td>Frais,plastique</td>\n",
       "      <td>Kirkland Signature</td>\n",
       "      <td>boulange</td>\n",
       "      <td>Canada</td>\n",
       "      <td>...</td>\n",
       "      <td>Ingrédients : Farine, eau, sel, levure, orge m...</td>\n",
       "      <td>Boulange</td>\n",
       "      <td>1160.0</td>\n",
       "      <td>NaN</td>\n",
       "      <td>1.0</td>\n",
       "      <td>1.0</td>\n",
       "      <td>NaN</td>\n",
       "      <td>NaN</td>\n",
       "      <td>Unknown</td>\n",
       "      <td>Canada</td>\n",
       "    </tr>\n",
       "  </tbody>\n",
       "</table>\n",
       "<p>5 rows × 23 columns</p>\n",
       "</div>"
      ],
      "text/plain": [
       "   Unnamed: 0           code   created_t    created_datetime  \\\n",
       "0           0  0000000274722  1514659309 2017-12-30 18:41:49   \n",
       "1           1  0000000394710  1484497370 2017-01-15 16:22:50   \n",
       "2           2  0000001071894  1409411252 2014-08-30 15:07:32   \n",
       "3           3  0000001938067  1484501528 2017-01-15 17:32:08   \n",
       "4           4  0000004302544  1488464896 2017-03-02 14:28:16   \n",
       "\n",
       "                        product_name            quantity           packaging  \\\n",
       "0  Blanquette de Volaille et son Riz                 NaN    carton,plastique   \n",
       "1     Danoises à la cannelle roulées            1.150 kg               Frais   \n",
       "2                              Flute                 NaN  Paper,plastic film   \n",
       "3       Chaussons tressés aux pommes            1.200 kg               Frais   \n",
       "4                Pain Burger Artisan  1.008 kg / 12 pain     Frais,plastique   \n",
       "\n",
       "               brands                                      categories_en  \\\n",
       "0        Comme J’aime  Meals,Meat-based products,Meals with meat,Poul...   \n",
       "1  Kirkland Signature          Sugary snacks,Biscuits and cakes,Pastries   \n",
       "2            Waitrose  Plant-based foods and beverages,Plant-based fo...   \n",
       "3  Kirkland Signature          Sugary snacks,Biscuits and cakes,Pastries   \n",
       "4  Kirkland Signature                                           boulange   \n",
       "\n",
       "   origins       ...         \\\n",
       "0  Unknown       ...          \n",
       "1   France       ...          \n",
       "2   Canada       ...          \n",
       "3   France       ...          \n",
       "4   Canada       ...          \n",
       "\n",
       "                                    ingredients_text  main_category  \\\n",
       "0  Riz précuit 40,4 % (eau, riz, huile de colza, ...          Meats   \n",
       "1  Ingrédients: Pâte (farine, eau, beurre, sucre,...  Sugary snacks   \n",
       "2                                              Wheat    Plant-based   \n",
       "3  Ingrédients : Pâte (farine, margarines d'huile...  Sugary snacks   \n",
       "4  Ingrédients : Farine, eau, sel, levure, orge m...       Boulange   \n",
       "\n",
       "  energy_100g carbon-footprint_100g nutrition-score-fr_100g  \\\n",
       "0       450.0                   NaN                     0.0   \n",
       "1      1520.0                   NaN                     NaN   \n",
       "2         NaN                   NaN                     NaN   \n",
       "3      1090.0                   NaN                     9.0   \n",
       "4      1160.0                   NaN                     1.0   \n",
       "\n",
       "   nutrition-score-uk_100g  price_per_100g  store_currency  \\\n",
       "0                      0.0             NaN             NaN   \n",
       "1                      NaN             NaN             NaN   \n",
       "2                      NaN             NaN             NaN   \n",
       "3                      9.0             NaN             NaN   \n",
       "4                      1.0             NaN             NaN   \n",
       "\n",
       "   manufacturing_place  purchase_places  \n",
       "0               France           France  \n",
       "1               France           France  \n",
       "2              Unknown           Canada  \n",
       "3       United Kingdom   United Kingdom  \n",
       "4              Unknown           Canada  \n",
       "\n",
       "[5 rows x 23 columns]"
      ]
     },
     "execution_count": 4,
     "metadata": {},
     "output_type": "execute_result"
    }
   ],
   "source": [
    "food_facts_pd.head(5)"
   ]
  },
  {
   "cell_type": "markdown",
   "metadata": {},
   "source": [
    "Additionally to the OpenFoodFact dataset, we obtained an extract of the Eaternity dataset hosted by the ETH Zurich, which contains 692 more products and their CO2 footprint. Unfortunately, these products are not contained in the OpenFoodFacts database, so we lack manufacturing and purchasing information as well as the OpenFoodFacts categories for this set."
   ]
  },
  {
   "cell_type": "code",
   "execution_count": 5,
   "metadata": {},
   "outputs": [
    {
     "name": "stdout",
     "output_type": "stream",
     "text": [
      "<class 'pandas.core.frame.DataFrame'>\n",
      "RangeIndex: 692 entries, 0 to 691\n",
      "Data columns (total 13 columns):\n",
      "Unnamed: 0                      692 non-null int64\n",
      "Unnamed: 0.1                    692 non-null int64\n",
      "ID                              692 non-null int64\n",
      "Title                           692 non-null object\n",
      "Weight [gram/serving]           692 non-null int64\n",
      "CO2-Value [gram CO2/serving]    692 non-null float64\n",
      "CO2 rating                      692 non-null float64\n",
      "FAT                             692 non-null float64\n",
      "WATER                           692 non-null float64\n",
      "ENERC                           692 non-null float64\n",
      "PROT                            692 non-null float64\n",
      "category                        692 non-null object\n",
      "category_en                     692 non-null object\n",
      "dtypes: float64(6), int64(4), object(3)\n",
      "memory usage: 70.4+ KB\n"
     ]
    }
   ],
   "source": [
    "# Import data\n",
    "carbon_footprint_csv_file = \"./data/carbon_footprint_categories.csv\"\n",
    "\n",
    "carbon_footprint_pd = pd.read_csv(carbon_footprint_csv_file, delimiter=\"\\t\")\n",
    "carbon_footprint_pd.info()"
   ]
  },
  {
   "cell_type": "code",
   "execution_count": null,
   "metadata": {},
   "outputs": [],
   "source": [
    "carbon_footprint_pd.head(10)"
   ]
  },
  {
   "cell_type": "markdown",
   "metadata": {},
   "source": [
    "## Analyse data"
   ]
  },
  {
   "cell_type": "markdown",
   "metadata": {},
   "source": [
    "Before we analyse the data, we have to some confesssions to make:\n",
    "\n",
    "The data that we loaded into this notebook was already preprocessed in the \"Open Food Facts - Cleanse data\" notebook, that can be found in the same directory. In there we translated countries, labels, and categories and formatted and matched tags. However, we also droped more than 90% of the data set, because the data points were not complete for the purpose of our analysis.\n",
    "\n",
    "OpenFoodFacts was initiated in France, and products sold in france are dominantly represented in this data set. Moreover, most of the products are sold in Europe or industrial nations, and we have no or only sparse data about the African, Asian, Australian, and South-american continent, which excludes the majority of the world population and especially the societes in Asia and Africa, that undergo the most decisive transformations at the moment.\n",
    "\n",
    "Further, we only have qualitative data about the products, but no quantities that are produced and purchased world wide, hence we cannot provide a scale for all the insights that we gain throughout this notebook.\n",
    "\n",
    "What we are trying to say is, that the data is under no circumstances representive to analyse the the research questions that we have posed. However, we will provide the methods to perform this analysis on this comprised dataset, and see what kind of insights we can already squeek out of it."
   ]
  },
  {
   "cell_type": "markdown",
   "metadata": {},
   "source": [
    "### Production / manufacture impact"
   ]
  },
  {
   "cell_type": "markdown",
   "metadata": {},
   "source": [
    "#### Global distribution of global food producers"
   ]
  },
  {
   "cell_type": "code",
   "execution_count": 7,
   "metadata": {},
   "outputs": [],
   "source": [
    "countries_label = pd.read_csv(\"./data/country_lookup.csv\")[['name', 'cca3']]     "
   ]
  },
  {
   "cell_type": "markdown",
   "metadata": {},
   "source": [
    "##### Which are the dominant global food producers and manufacturers?"
   ]
  },
  {
   "cell_type": "markdown",
   "metadata": {},
   "source": [
    "- From where are those products originating?"
   ]
  },
  {
   "cell_type": "code",
   "execution_count": 8,
   "metadata": {},
   "outputs": [
    {
     "data": {
      "application/vnd.plotly.v1+json": {
       "config": {
        "linkText": "Export to plot.ly",
        "plotlyServerURL": "https://plot.ly",
        "showLink": true
       },
       "data": [
        {
         "autocolorscale": false,
         "colorbar": {
          "autotick": true,
          "title": "Counts"
         },
         "locations": [
          "AZE",
          "DEU",
          "LTU",
          "GRL",
          "STP",
          "VEN",
          "NFK",
          "CIV",
          "MDA",
          "GLP",
          "TUR",
          "ITA",
          "RUS",
          "NZL",
          "RWA",
          "LKA",
          "URY",
          "UKR",
          "PRY",
          "SEN",
          "BGR",
          "PNG",
          "BGD",
          "NLD",
          "ESP",
          "DOM",
          "MAR",
          "MYS",
          "LSO",
          "MDG",
          "ARG",
          "JAM",
          "TUN",
          "PAN",
          "BIH",
          "CHE",
          "LUX",
          "FRO",
          "MMR",
          "EGY",
          "NAM",
          "GHA",
          "NER",
          "ROU",
          "ZAF",
          "NCL",
          "GIN",
          "EST",
          "GUY",
          "UGA",
          "AUT",
          "PHL",
          "BFA",
          "COM",
          "DMA",
          "FRA",
          "GBR",
          "HKG",
          "DZA",
          "NOR",
          "THA",
          "BEL",
          "BRB",
          "BRA",
          "TGO",
          "SVK",
          "SYC",
          "SWE",
          "ISL",
          "NPL",
          "GTM",
          "BOL",
          "PER",
          "ECU",
          "MEX",
          "HND",
          "LAO",
          "KEN",
          "MKD",
          "MTQ",
          "TWN",
          "SVN",
          "HRV",
          "HUN",
          "BLR",
          "CUB",
          "CMR",
          "CYP",
          "TZA",
          "ISR",
          "PAK",
          "PYF",
          "UMI",
          "VNM",
          "ETH",
          "COD",
          "REU",
          "BDI",
          "KOR",
          "CHN",
          "GRC",
          "IND",
          "FIN",
          "SGP",
          "LBN",
          "IDN",
          "IRN",
          "PRT",
          "SDN",
          "JEY",
          "BES",
          "IOT",
          "CAN",
          "WSM",
          "MHL",
          "CRI",
          "SJM",
          "GUF",
          "GEO",
          "IMN",
          "HTI",
          "USA",
          "IRL",
          "NIC",
          "JPN",
          "POL",
          "DNK",
          "SLV",
          "CHL",
          "AUS",
          "COL",
          "SRB",
          "TTO"
         ],
         "name": [
          "Azerbaijan",
          "Germany",
          "Lithuania",
          "Greenland",
          "São Tomé and Príncipe",
          "Venezuela",
          "Norfolk Island",
          "Ivory Coast",
          "Moldova",
          "Guadeloupe",
          "Turkey",
          "Italy",
          "Russia",
          "New Zealand",
          "Rwanda",
          "Sri Lanka",
          "Uruguay",
          "Ukraine",
          "Paraguay",
          "Senegal",
          "Bulgaria",
          "Papua New Guinea",
          "Bangladesh",
          "Netherlands",
          "Spain",
          "Dominican Republic",
          "Morocco",
          "Malaysia",
          "Lesotho",
          "Madagascar",
          "Argentina",
          "Jamaica",
          "Tunisia",
          "Panama",
          "Bosnia and Herzegovina",
          "Switzerland",
          "Luxembourg",
          "Faroe Islands",
          "Myanmar",
          "Egypt",
          "Namibia",
          "Ghana",
          "Niger",
          "Romania",
          "South Africa",
          "New Caledonia",
          "Guinea",
          "Estonia",
          "Guyana",
          "Uganda",
          "Austria",
          "Philippines",
          "Burkina Faso",
          "Comoros",
          "Dominica",
          "France",
          "United Kingdom",
          "Hong Kong",
          "Algeria",
          "Norway",
          "Thailand",
          "Belgium",
          "Barbados",
          "Brazil",
          "Togo",
          "Slovakia",
          "Seychelles",
          "Sweden",
          "Iceland",
          "Nepal",
          "Guatemala",
          "Bolivia",
          "Peru",
          "Ecuador",
          "Mexico",
          "Honduras",
          "Laos",
          "Kenya",
          "Macedonia",
          "Martinique",
          "Taiwan",
          "Slovenia",
          "Croatia",
          "Hungary",
          "Belarus",
          "Cuba",
          "Cameroon",
          "Cyprus",
          "Tanzania",
          "Israel",
          "Pakistan",
          "French Polynesia",
          "United States Minor Outlying Islands",
          "Vietnam",
          "Ethiopia",
          "DR Congo",
          "Réunion",
          "Burundi",
          "South Korea",
          "China",
          "Greece",
          "India",
          "Finland",
          "Singapore",
          "Lebanon",
          "Indonesia",
          "Iran",
          "Portugal",
          "Sudan",
          "Jersey",
          "Caribbean Netherlands",
          "British Indian Ocean Territory",
          "Canada",
          "Samoa",
          "Marshall Islands",
          "Costa Rica",
          "Svalbard and Jan Mayen",
          "French Guiana",
          "Georgia",
          "Isle of Man",
          "Haiti",
          "United States",
          "Ireland",
          "Nicaragua",
          "Japan",
          "Poland",
          "Denmark",
          "El Salvador",
          "Chile",
          "Australia",
          "Colombia",
          "Serbia",
          "Trinidad and Tobago"
         ],
         "reversescale": true,
         "type": "choropleth",
         "z": [
          0,
          5.988961416889864,
          1.3862943611198906,
          0,
          1.9459101490553132,
          2.302585092994046,
          0.6931471805599453,
          2.70805020110221,
          0.6931471805599453,
          1.3862943611198906,
          4.30406509320417,
          5.968707559985366,
          3.8501476017100584,
          3.367295829986474,
          0,
          3.4011973816621555,
          2.995732273553991,
          0.6931471805599453,
          2.8903717578961645,
          1.3862943611198906,
          1.9459101490553132,
          2.5649493574615367,
          0.6931471805599453,
          4.74493212836325,
          6.214608098422191,
          3.6635616461296463,
          3.7612001156935624,
          1.3862943611198906,
          0,
          4.454347296253507,
          4.477336814478207,
          0.6931471805599453,
          2.995732273553991,
          0,
          0.6931471805599453,
          4.189654742026425,
          0.6931471805599453,
          3.091042453358316,
          0,
          2.3978952727983707,
          0,
          2.0794415416798357,
          2.3978952727983707,
          2.302585092994046,
          3.9318256327243257,
          1.0986122886681098,
          2.6390573296152584,
          1.0986122886681098,
          0.6931471805599453,
          1.3862943611198906,
          3.332204510175204,
          3.4657359027997265,
          0.6931471805599453,
          0,
          3.6888794541139363,
          9.099297073182859,
          6.439350371100098,
          1.0986122886681098,
          2.70805020110221,
          5.0106352940962555,
          4.5217885770490405,
          4.955827057601261,
          0,
          4.060443010546419,
          0.6931471805599453,
          0,
          0.6931471805599453,
          2.302585092994046,
          3.2188758248682006,
          0,
          1.6094379124341003,
          3.5553480614894135,
          5.093750200806762,
          3.7612001156935624,
          5.484796933490655,
          1.791759469228055,
          1.0986122886681098,
          2.302585092994046,
          1.3862943611198906,
          2.1972245773362196,
          3.295836866004329,
          1.3862943611198906,
          1.3862943611198906,
          2.70805020110221,
          0.6931471805599453,
          2.3978952727983707,
          2.0794415416798357,
          1.3862943611198906,
          2.0794415416798357,
          2.0794415416798357,
          2.302585092994046,
          2.302585092994046,
          1.3862943611198906,
          4.2626798770413155,
          1.6094379124341003,
          0.6931471805599453,
          3.2188758248682006,
          0.6931471805599453,
          2.302585092994046,
          4.852030263919617,
          4.454347296253507,
          4.007333185232471,
          1.0986122886681098,
          0.6931471805599453,
          0.6931471805599453,
          3.4657359027997265,
          2.4849066497880004,
          3.5553480614894135,
          0,
          0,
          0,
          3.2188758248682006,
          5.062595033026967,
          1.6094379124341003,
          0.6931471805599453,
          2.70805020110221,
          0,
          0,
          1.3862943611198906,
          0,
          1.6094379124341003,
          5.752572638825633,
          4.553876891600541,
          1.791759469228055,
          3.1780538303479458,
          3.7612001156935624,
          3.332204510175204,
          1.0986122886681098,
          3.9889840465642745,
          4.882801922586371,
          2.4849066497880004,
          0.6931471805599453,
          1.3862943611198906
         ]
        }
       ],
       "layout": {
        "geo": {
         "coastlinecolor": "rgb(255, 255, 255)",
         "countrycolor": "rgb(255, 255, 255)",
         "landcolor": "rgb(229, 229, 229)",
         "projection": {
          "type": "Mercator"
         },
         "showcoastlines": true,
         "showframe": false,
         "showland": true
        },
        "showlegend": false,
        "title": "Countries of origin for products",
        "xaxis": {
         "fixedrange": true
        },
        "yaxis": {
         "fixedrange": true
        }
       }
      },
      "text/html": [
       "<div id=\"c09e4de1-e6d4-4cc1-b5bb-870ca8eedc61\" style=\"height: 525px; width: 100%;\" class=\"plotly-graph-div\"></div><script type=\"text/javascript\">require([\"plotly\"], function(Plotly) { window.PLOTLYENV=window.PLOTLYENV || {};window.PLOTLYENV.BASE_URL=\"https://plot.ly\";Plotly.newPlot(\"c09e4de1-e6d4-4cc1-b5bb-870ca8eedc61\", [{\"type\": \"choropleth\", \"locations\": [\"AZE\", \"DEU\", \"LTU\", \"GRL\", \"STP\", \"VEN\", \"NFK\", \"CIV\", \"MDA\", \"GLP\", \"TUR\", \"ITA\", \"RUS\", \"NZL\", \"RWA\", \"LKA\", \"URY\", \"UKR\", \"PRY\", \"SEN\", \"BGR\", \"PNG\", \"BGD\", \"NLD\", \"ESP\", \"DOM\", \"MAR\", \"MYS\", \"LSO\", \"MDG\", \"ARG\", \"JAM\", \"TUN\", \"PAN\", \"BIH\", \"CHE\", \"LUX\", \"FRO\", \"MMR\", \"EGY\", \"NAM\", \"GHA\", \"NER\", \"ROU\", \"ZAF\", \"NCL\", \"GIN\", \"EST\", \"GUY\", \"UGA\", \"AUT\", \"PHL\", \"BFA\", \"COM\", \"DMA\", \"FRA\", \"GBR\", \"HKG\", \"DZA\", \"NOR\", \"THA\", \"BEL\", \"BRB\", \"BRA\", \"TGO\", \"SVK\", \"SYC\", \"SWE\", \"ISL\", \"NPL\", \"GTM\", \"BOL\", \"PER\", \"ECU\", \"MEX\", \"HND\", \"LAO\", \"KEN\", \"MKD\", \"MTQ\", \"TWN\", \"SVN\", \"HRV\", \"HUN\", \"BLR\", \"CUB\", \"CMR\", \"CYP\", \"TZA\", \"ISR\", \"PAK\", \"PYF\", \"UMI\", \"VNM\", \"ETH\", \"COD\", \"REU\", \"BDI\", \"KOR\", \"CHN\", \"GRC\", \"IND\", \"FIN\", \"SGP\", \"LBN\", \"IDN\", \"IRN\", \"PRT\", \"SDN\", \"JEY\", \"BES\", \"IOT\", \"CAN\", \"WSM\", \"MHL\", \"CRI\", \"SJM\", \"GUF\", \"GEO\", \"IMN\", \"HTI\", \"USA\", \"IRL\", \"NIC\", \"JPN\", \"POL\", \"DNK\", \"SLV\", \"CHL\", \"AUS\", \"COL\", \"SRB\", \"TTO\"], \"z\": [0.0, 5.988961416889864, 1.3862943611198906, 0.0, 1.9459101490553132, 2.302585092994046, 0.6931471805599453, 2.70805020110221, 0.6931471805599453, 1.3862943611198906, 4.30406509320417, 5.968707559985366, 3.8501476017100584, 3.367295829986474, 0.0, 3.4011973816621555, 2.995732273553991, 0.6931471805599453, 2.8903717578961645, 1.3862943611198906, 1.9459101490553132, 2.5649493574615367, 0.6931471805599453, 4.74493212836325, 6.214608098422191, 3.6635616461296463, 3.7612001156935624, 1.3862943611198906, 0.0, 4.454347296253507, 4.477336814478207, 0.6931471805599453, 2.995732273553991, 0.0, 0.6931471805599453, 4.189654742026425, 0.6931471805599453, 3.091042453358316, 0.0, 2.3978952727983707, 0.0, 2.0794415416798357, 2.3978952727983707, 2.302585092994046, 3.9318256327243257, 1.0986122886681098, 2.6390573296152584, 1.0986122886681098, 0.6931471805599453, 1.3862943611198906, 3.332204510175204, 3.4657359027997265, 0.6931471805599453, 0.0, 3.6888794541139363, 9.099297073182859, 6.439350371100098, 1.0986122886681098, 2.70805020110221, 5.0106352940962555, 4.5217885770490405, 4.955827057601261, 0.0, 4.060443010546419, 0.6931471805599453, 0.0, 0.6931471805599453, 2.302585092994046, 3.2188758248682006, 0.0, 1.6094379124341003, 3.5553480614894135, 5.093750200806762, 3.7612001156935624, 5.484796933490655, 1.791759469228055, 1.0986122886681098, 2.302585092994046, 1.3862943611198906, 2.1972245773362196, 3.295836866004329, 1.3862943611198906, 1.3862943611198906, 2.70805020110221, 0.6931471805599453, 2.3978952727983707, 2.0794415416798357, 1.3862943611198906, 2.0794415416798357, 2.0794415416798357, 2.302585092994046, 2.302585092994046, 1.3862943611198906, 4.2626798770413155, 1.6094379124341003, 0.6931471805599453, 3.2188758248682006, 0.6931471805599453, 2.302585092994046, 4.852030263919617, 4.454347296253507, 4.007333185232471, 1.0986122886681098, 0.6931471805599453, 0.6931471805599453, 3.4657359027997265, 2.4849066497880004, 3.5553480614894135, 0.0, 0.0, 0.0, 3.2188758248682006, 5.062595033026967, 1.6094379124341003, 0.6931471805599453, 2.70805020110221, 0.0, 0.0, 1.3862943611198906, 0.0, 1.6094379124341003, 5.752572638825633, 4.553876891600541, 1.791759469228055, 3.1780538303479458, 3.7612001156935624, 3.332204510175204, 1.0986122886681098, 3.9889840465642745, 4.882801922586371, 2.4849066497880004, 0.6931471805599453, 1.3862943611198906], \"name\": [\"Azerbaijan\", \"Germany\", \"Lithuania\", \"Greenland\", \"S\\u00e3o Tom\\u00e9 and Pr\\u00edncipe\", \"Venezuela\", \"Norfolk Island\", \"Ivory Coast\", \"Moldova\", \"Guadeloupe\", \"Turkey\", \"Italy\", \"Russia\", \"New Zealand\", \"Rwanda\", \"Sri Lanka\", \"Uruguay\", \"Ukraine\", \"Paraguay\", \"Senegal\", \"Bulgaria\", \"Papua New Guinea\", \"Bangladesh\", \"Netherlands\", \"Spain\", \"Dominican Republic\", \"Morocco\", \"Malaysia\", \"Lesotho\", \"Madagascar\", \"Argentina\", \"Jamaica\", \"Tunisia\", \"Panama\", \"Bosnia and Herzegovina\", \"Switzerland\", \"Luxembourg\", \"Faroe Islands\", \"Myanmar\", \"Egypt\", \"Namibia\", \"Ghana\", \"Niger\", \"Romania\", \"South Africa\", \"New Caledonia\", \"Guinea\", \"Estonia\", \"Guyana\", \"Uganda\", \"Austria\", \"Philippines\", \"Burkina Faso\", \"Comoros\", \"Dominica\", \"France\", \"United Kingdom\", \"Hong Kong\", \"Algeria\", \"Norway\", \"Thailand\", \"Belgium\", \"Barbados\", \"Brazil\", \"Togo\", \"Slovakia\", \"Seychelles\", \"Sweden\", \"Iceland\", \"Nepal\", \"Guatemala\", \"Bolivia\", \"Peru\", \"Ecuador\", \"Mexico\", \"Honduras\", \"Laos\", \"Kenya\", \"Macedonia\", \"Martinique\", \"Taiwan\", \"Slovenia\", \"Croatia\", \"Hungary\", \"Belarus\", \"Cuba\", \"Cameroon\", \"Cyprus\", \"Tanzania\", \"Israel\", \"Pakistan\", \"French Polynesia\", \"United States Minor Outlying Islands\", \"Vietnam\", \"Ethiopia\", \"DR Congo\", \"R\\u00e9union\", \"Burundi\", \"South Korea\", \"China\", \"Greece\", \"India\", \"Finland\", \"Singapore\", \"Lebanon\", \"Indonesia\", \"Iran\", \"Portugal\", \"Sudan\", \"Jersey\", \"Caribbean Netherlands\", \"British Indian Ocean Territory\", \"Canada\", \"Samoa\", \"Marshall Islands\", \"Costa Rica\", \"Svalbard and Jan Mayen\", \"French Guiana\", \"Georgia\", \"Isle of Man\", \"Haiti\", \"United States\", \"Ireland\", \"Nicaragua\", \"Japan\", \"Poland\", \"Denmark\", \"El Salvador\", \"Chile\", \"Australia\", \"Colombia\", \"Serbia\", \"Trinidad and Tobago\"], \"autocolorscale\": false, \"reversescale\": true, \"colorbar\": {\"autotick\": true, \"title\": \"Counts\"}}], {\"title\": \"Countries of origin for products\", \"geo\": {\"projection\": {\"type\": \"Mercator\"}, \"showframe\": false, \"showcoastlines\": true, \"showland\": true, \"landcolor\": \"rgb(229, 229, 229)\", \"countrycolor\": \"rgb(255, 255, 255)\", \"coastlinecolor\": \"rgb(255, 255, 255)\"}, \"showlegend\": false, \"xaxis\": {\"fixedrange\": true}, \"yaxis\": {\"fixedrange\": true}}, {\"showLink\": true, \"linkText\": \"Export to plot.ly\", \"plotlyServerURL\": \"https://plot.ly\"})});</script><script type=\"text/javascript\">window.addEventListener(\"resize\", function(){window._Plotly.Plots.resize(document.getElementById(\"c09e4de1-e6d4-4cc1-b5bb-870ca8eedc61\"));});</script>"
      ],
      "text/vnd.plotly.v1+html": [
       "<div id=\"c09e4de1-e6d4-4cc1-b5bb-870ca8eedc61\" style=\"height: 525px; width: 100%;\" class=\"plotly-graph-div\"></div><script type=\"text/javascript\">require([\"plotly\"], function(Plotly) { window.PLOTLYENV=window.PLOTLYENV || {};window.PLOTLYENV.BASE_URL=\"https://plot.ly\";Plotly.newPlot(\"c09e4de1-e6d4-4cc1-b5bb-870ca8eedc61\", [{\"type\": \"choropleth\", \"locations\": [\"AZE\", \"DEU\", \"LTU\", \"GRL\", \"STP\", \"VEN\", \"NFK\", \"CIV\", \"MDA\", \"GLP\", \"TUR\", \"ITA\", \"RUS\", \"NZL\", \"RWA\", \"LKA\", \"URY\", \"UKR\", \"PRY\", \"SEN\", \"BGR\", \"PNG\", \"BGD\", \"NLD\", \"ESP\", \"DOM\", \"MAR\", \"MYS\", \"LSO\", \"MDG\", \"ARG\", \"JAM\", \"TUN\", \"PAN\", \"BIH\", \"CHE\", \"LUX\", \"FRO\", \"MMR\", \"EGY\", \"NAM\", \"GHA\", \"NER\", \"ROU\", \"ZAF\", \"NCL\", \"GIN\", \"EST\", \"GUY\", \"UGA\", \"AUT\", \"PHL\", \"BFA\", \"COM\", \"DMA\", \"FRA\", \"GBR\", \"HKG\", \"DZA\", \"NOR\", \"THA\", \"BEL\", \"BRB\", \"BRA\", \"TGO\", \"SVK\", \"SYC\", \"SWE\", \"ISL\", \"NPL\", \"GTM\", \"BOL\", \"PER\", \"ECU\", \"MEX\", \"HND\", \"LAO\", \"KEN\", \"MKD\", \"MTQ\", \"TWN\", \"SVN\", \"HRV\", \"HUN\", \"BLR\", \"CUB\", \"CMR\", \"CYP\", \"TZA\", \"ISR\", \"PAK\", \"PYF\", \"UMI\", \"VNM\", \"ETH\", \"COD\", \"REU\", \"BDI\", \"KOR\", \"CHN\", \"GRC\", \"IND\", \"FIN\", \"SGP\", \"LBN\", \"IDN\", \"IRN\", \"PRT\", \"SDN\", \"JEY\", \"BES\", \"IOT\", \"CAN\", \"WSM\", \"MHL\", \"CRI\", \"SJM\", \"GUF\", \"GEO\", \"IMN\", \"HTI\", \"USA\", \"IRL\", \"NIC\", \"JPN\", \"POL\", \"DNK\", \"SLV\", \"CHL\", \"AUS\", \"COL\", \"SRB\", \"TTO\"], \"z\": [0.0, 5.988961416889864, 1.3862943611198906, 0.0, 1.9459101490553132, 2.302585092994046, 0.6931471805599453, 2.70805020110221, 0.6931471805599453, 1.3862943611198906, 4.30406509320417, 5.968707559985366, 3.8501476017100584, 3.367295829986474, 0.0, 3.4011973816621555, 2.995732273553991, 0.6931471805599453, 2.8903717578961645, 1.3862943611198906, 1.9459101490553132, 2.5649493574615367, 0.6931471805599453, 4.74493212836325, 6.214608098422191, 3.6635616461296463, 3.7612001156935624, 1.3862943611198906, 0.0, 4.454347296253507, 4.477336814478207, 0.6931471805599453, 2.995732273553991, 0.0, 0.6931471805599453, 4.189654742026425, 0.6931471805599453, 3.091042453358316, 0.0, 2.3978952727983707, 0.0, 2.0794415416798357, 2.3978952727983707, 2.302585092994046, 3.9318256327243257, 1.0986122886681098, 2.6390573296152584, 1.0986122886681098, 0.6931471805599453, 1.3862943611198906, 3.332204510175204, 3.4657359027997265, 0.6931471805599453, 0.0, 3.6888794541139363, 9.099297073182859, 6.439350371100098, 1.0986122886681098, 2.70805020110221, 5.0106352940962555, 4.5217885770490405, 4.955827057601261, 0.0, 4.060443010546419, 0.6931471805599453, 0.0, 0.6931471805599453, 2.302585092994046, 3.2188758248682006, 0.0, 1.6094379124341003, 3.5553480614894135, 5.093750200806762, 3.7612001156935624, 5.484796933490655, 1.791759469228055, 1.0986122886681098, 2.302585092994046, 1.3862943611198906, 2.1972245773362196, 3.295836866004329, 1.3862943611198906, 1.3862943611198906, 2.70805020110221, 0.6931471805599453, 2.3978952727983707, 2.0794415416798357, 1.3862943611198906, 2.0794415416798357, 2.0794415416798357, 2.302585092994046, 2.302585092994046, 1.3862943611198906, 4.2626798770413155, 1.6094379124341003, 0.6931471805599453, 3.2188758248682006, 0.6931471805599453, 2.302585092994046, 4.852030263919617, 4.454347296253507, 4.007333185232471, 1.0986122886681098, 0.6931471805599453, 0.6931471805599453, 3.4657359027997265, 2.4849066497880004, 3.5553480614894135, 0.0, 0.0, 0.0, 3.2188758248682006, 5.062595033026967, 1.6094379124341003, 0.6931471805599453, 2.70805020110221, 0.0, 0.0, 1.3862943611198906, 0.0, 1.6094379124341003, 5.752572638825633, 4.553876891600541, 1.791759469228055, 3.1780538303479458, 3.7612001156935624, 3.332204510175204, 1.0986122886681098, 3.9889840465642745, 4.882801922586371, 2.4849066497880004, 0.6931471805599453, 1.3862943611198906], \"name\": [\"Azerbaijan\", \"Germany\", \"Lithuania\", \"Greenland\", \"S\\u00e3o Tom\\u00e9 and Pr\\u00edncipe\", \"Venezuela\", \"Norfolk Island\", \"Ivory Coast\", \"Moldova\", \"Guadeloupe\", \"Turkey\", \"Italy\", \"Russia\", \"New Zealand\", \"Rwanda\", \"Sri Lanka\", \"Uruguay\", \"Ukraine\", \"Paraguay\", \"Senegal\", \"Bulgaria\", \"Papua New Guinea\", \"Bangladesh\", \"Netherlands\", \"Spain\", \"Dominican Republic\", \"Morocco\", \"Malaysia\", \"Lesotho\", \"Madagascar\", \"Argentina\", \"Jamaica\", \"Tunisia\", \"Panama\", \"Bosnia and Herzegovina\", \"Switzerland\", \"Luxembourg\", \"Faroe Islands\", \"Myanmar\", \"Egypt\", \"Namibia\", \"Ghana\", \"Niger\", \"Romania\", \"South Africa\", \"New Caledonia\", \"Guinea\", \"Estonia\", \"Guyana\", \"Uganda\", \"Austria\", \"Philippines\", \"Burkina Faso\", \"Comoros\", \"Dominica\", \"France\", \"United Kingdom\", \"Hong Kong\", \"Algeria\", \"Norway\", \"Thailand\", \"Belgium\", \"Barbados\", \"Brazil\", \"Togo\", \"Slovakia\", \"Seychelles\", \"Sweden\", \"Iceland\", \"Nepal\", \"Guatemala\", \"Bolivia\", \"Peru\", \"Ecuador\", \"Mexico\", \"Honduras\", \"Laos\", \"Kenya\", \"Macedonia\", \"Martinique\", \"Taiwan\", \"Slovenia\", \"Croatia\", \"Hungary\", \"Belarus\", \"Cuba\", \"Cameroon\", \"Cyprus\", \"Tanzania\", \"Israel\", \"Pakistan\", \"French Polynesia\", \"United States Minor Outlying Islands\", \"Vietnam\", \"Ethiopia\", \"DR Congo\", \"R\\u00e9union\", \"Burundi\", \"South Korea\", \"China\", \"Greece\", \"India\", \"Finland\", \"Singapore\", \"Lebanon\", \"Indonesia\", \"Iran\", \"Portugal\", \"Sudan\", \"Jersey\", \"Caribbean Netherlands\", \"British Indian Ocean Territory\", \"Canada\", \"Samoa\", \"Marshall Islands\", \"Costa Rica\", \"Svalbard and Jan Mayen\", \"French Guiana\", \"Georgia\", \"Isle of Man\", \"Haiti\", \"United States\", \"Ireland\", \"Nicaragua\", \"Japan\", \"Poland\", \"Denmark\", \"El Salvador\", \"Chile\", \"Australia\", \"Colombia\", \"Serbia\", \"Trinidad and Tobago\"], \"autocolorscale\": false, \"reversescale\": true, \"colorbar\": {\"autotick\": true, \"title\": \"Counts\"}}], {\"title\": \"Countries of origin for products\", \"geo\": {\"projection\": {\"type\": \"Mercator\"}, \"showframe\": false, \"showcoastlines\": true, \"showland\": true, \"landcolor\": \"rgb(229, 229, 229)\", \"countrycolor\": \"rgb(255, 255, 255)\", \"coastlinecolor\": \"rgb(255, 255, 255)\"}, \"showlegend\": false, \"xaxis\": {\"fixedrange\": true}, \"yaxis\": {\"fixedrange\": true}}, {\"showLink\": true, \"linkText\": \"Export to plot.ly\", \"plotlyServerURL\": \"https://plot.ly\"})});</script><script type=\"text/javascript\">window.addEventListener(\"resize\", function(){window._Plotly.Plots.resize(document.getElementById(\"c09e4de1-e6d4-4cc1-b5bb-870ca8eedc61\"));});</script>"
      ]
     },
     "metadata": {},
     "output_type": "display_data"
    }
   ],
   "source": [
    "visualize.plot_occurences_on_map(df=food_facts_pd, \n",
    "                                 column_key='origins',\n",
    "                                 show_distances=False,\n",
    "                                 title='Countries of origin for products')"
   ]
  },
  {
   "cell_type": "markdown",
   "metadata": {},
   "source": [
    "Note that country in purple are  not assigned any value. "
   ]
  },
  {
   "cell_type": "markdown",
   "metadata": {},
   "source": [
    "- Where are those products manufactured?"
   ]
  },
  {
   "cell_type": "code",
   "execution_count": 9,
   "metadata": {},
   "outputs": [
    {
     "data": {
      "application/vnd.plotly.v1+json": {
       "config": {
        "linkText": "Export to plot.ly",
        "plotlyServerURL": "https://plot.ly",
        "showLink": true
       },
       "data": [
        {
         "autocolorscale": false,
         "colorbar": {
          "autotick": true,
          "title": "Counts"
         },
         "locations": [
          "PRI",
          "AZE",
          "DEU",
          "LTU",
          "MYT",
          "VEN",
          "STP",
          "NFK",
          "CIV",
          "MDA",
          "GLP",
          "TUR",
          "ITA",
          "RUS",
          "NZL",
          "LKA",
          "CZE",
          "URY",
          "UKR",
          "BRN",
          "PRY",
          "SEN",
          "BGR",
          "BGD",
          "PNG",
          "NLD",
          "ESP",
          "DOM",
          "GGY",
          "MAR",
          "MYS",
          "MDG",
          "ARG",
          "LIE",
          "TUN",
          "PAN",
          "BIH",
          "CHE",
          "LUX",
          "MMR",
          "MUS",
          "NAM",
          "NER",
          "GHA",
          "ROU",
          "ZAF",
          "NCL",
          "EST",
          "GUY",
          "AUT",
          "PHL",
          "FRA",
          "GBR",
          "HKG",
          "DZA",
          "NOR",
          "THA",
          "MLT",
          "BEL",
          "BLM",
          "BRA",
          "TGO",
          "SVK",
          "SYC",
          "SAU",
          "SWE",
          "ISL",
          "BOL",
          "PER",
          "ECU",
          "MEX",
          "SWZ",
          "LAO",
          "KEN",
          "MKD",
          "MTQ",
          "TWN",
          "SVN",
          "HRV",
          "HUN",
          "ARM",
          "CPV",
          "BLR",
          "CUB",
          "SPM",
          "CMR",
          "CYP",
          "TZA",
          "ISR",
          "MAF",
          "PAK",
          "PYF",
          "UMI",
          "VNM",
          "ETH",
          "REU",
          "KOR",
          "CHN",
          "GRC",
          "IND",
          "FIN",
          "SGP",
          "LBN",
          "IDN",
          "IRN",
          "PRT",
          "BES",
          "CAN",
          "WSM",
          "MHL",
          "MCO",
          "CRI",
          "LVA",
          "ATF",
          "GUF",
          "KIR",
          "ALB",
          "GEO",
          "USA",
          "IRL",
          "JPN",
          "POL",
          "CYM",
          "DNK",
          "SLV",
          "CHL",
          "AUS",
          "COL",
          "SRB"
         ],
         "name": [
          "Puerto Rico",
          "Azerbaijan",
          "Germany",
          "Lithuania",
          "Mayotte",
          "Venezuela",
          "São Tomé and Príncipe",
          "Norfolk Island",
          "Ivory Coast",
          "Moldova",
          "Guadeloupe",
          "Turkey",
          "Italy",
          "Russia",
          "New Zealand",
          "Sri Lanka",
          "Czechia",
          "Uruguay",
          "Ukraine",
          "Brunei",
          "Paraguay",
          "Senegal",
          "Bulgaria",
          "Bangladesh",
          "Papua New Guinea",
          "Netherlands",
          "Spain",
          "Dominican Republic",
          "Guernsey",
          "Morocco",
          "Malaysia",
          "Madagascar",
          "Argentina",
          "Liechtenstein",
          "Tunisia",
          "Panama",
          "Bosnia and Herzegovina",
          "Switzerland",
          "Luxembourg",
          "Myanmar",
          "Mauritius",
          "Namibia",
          "Niger",
          "Ghana",
          "Romania",
          "South Africa",
          "New Caledonia",
          "Estonia",
          "Guyana",
          "Austria",
          "Philippines",
          "France",
          "United Kingdom",
          "Hong Kong",
          "Algeria",
          "Norway",
          "Thailand",
          "Malta",
          "Belgium",
          "Saint Barthélemy",
          "Brazil",
          "Togo",
          "Slovakia",
          "Seychelles",
          "Saudi Arabia",
          "Sweden",
          "Iceland",
          "Bolivia",
          "Peru",
          "Ecuador",
          "Mexico",
          "Eswatini",
          "Laos",
          "Kenya",
          "Macedonia",
          "Martinique",
          "Taiwan",
          "Slovenia",
          "Croatia",
          "Hungary",
          "Armenia",
          "Cape Verde",
          "Belarus",
          "Cuba",
          "Saint Pierre and Miquelon",
          "Cameroon",
          "Cyprus",
          "Tanzania",
          "Israel",
          "Saint Martin",
          "Pakistan",
          "French Polynesia",
          "United States Minor Outlying Islands",
          "Vietnam",
          "Ethiopia",
          "Réunion",
          "South Korea",
          "China",
          "Greece",
          "India",
          "Finland",
          "Singapore",
          "Lebanon",
          "Indonesia",
          "Iran",
          "Portugal",
          "Caribbean Netherlands",
          "Canada",
          "Samoa",
          "Marshall Islands",
          "Monaco",
          "Costa Rica",
          "Latvia",
          "French Southern and Antarctic Lands",
          "French Guiana",
          "Kiribati",
          "Albania",
          "Georgia",
          "United States",
          "Ireland",
          "Japan",
          "Poland",
          "Cayman Islands",
          "Denmark",
          "El Salvador",
          "Chile",
          "Australia",
          "Colombia",
          "Serbia"
         ],
         "reversescale": true,
         "type": "choropleth",
         "z": [
          0.6931471805599453,
          0,
          7.891330757661889,
          3.295836866004329,
          1.6094379124341003,
          2.995732273553991,
          0.6931471805599453,
          2.9444389791664403,
          2.1972245773362196,
          2.1972245773362196,
          2.9444389791664403,
          3.7612001156935624,
          7.224753405767971,
          5.351858133476067,
          2.5649493574615367,
          3.367295829986474,
          3.1780538303479458,
          0.6931471805599453,
          1.9459101490553132,
          0.6931471805599453,
          0,
          1.3862943611198906,
          3.4011973816621555,
          0,
          0.6931471805599453,
          6.089044875446846,
          7.029087564149662,
          1.3862943611198906,
          1.0986122886681098,
          4.727387818712341,
          2.1972245773362196,
          3.8066624897703196,
          2.0794415416798357,
          1.6094379124341003,
          3.4011973816621555,
          0,
          0.6931471805599453,
          5.41610040220442,
          3.1780538303479458,
          0.6931471805599453,
          1.6094379124341003,
          0.6931471805599453,
          3.58351893845611,
          2.0794415416798357,
          2.3978952727983707,
          3.258096538021482,
          1.6094379124341003,
          1.6094379124341003,
          0,
          4.532599493153256,
          3.4965075614664802,
          10.152571717850691,
          8.281470857895167,
          2.8903717578961645,
          2.302585092994046,
          2.5649493574615367,
          5.25227342804663,
          0,
          7.221835825288449,
          0,
          2.3978952727983707,
          0.6931471805599453,
          1.9459101490553132,
          2.3978952727983707,
          0,
          4.30406509320417,
          3.332204510175204,
          4.634728988229636,
          3.4657359027997265,
          2.4849066497880004,
          5.159055299214529,
          0,
          0.6931471805599453,
          2.6390573296152584,
          2.1972245773362196,
          2.70805020110221,
          4.700480365792417,
          2.5649493574615367,
          3.5263605246161616,
          3.295836866004329,
          1.791759469228055,
          0.6931471805599453,
          1.0986122886681098,
          1.3862943611198906,
          0,
          1.791759469228055,
          1.9459101490553132,
          0,
          2.9444389791664403,
          0,
          2.0794415416798357,
          2.5649493574615367,
          3.4965075614664802,
          4.174387269895637,
          0,
          3.9512437185814275,
          2.302585092994046,
          5.3230099791384085,
          5.204006687076795,
          3.091042453358316,
          2.1972245773362196,
          1.791759469228055,
          2.1972245773362196,
          2.772588722239781,
          4.0943445622221,
          4.74493212836325,
          0.6931471805599453,
          5.438079308923196,
          3.091042453358316,
          2.1972245773362196,
          1.6094379124341003,
          1.9459101490553132,
          1.9459101490553132,
          2.0794415416798357,
          2.3978952727983707,
          0.6931471805599453,
          0,
          2.0794415416798357,
          6.129050210060545,
          4.74493212836325,
          4.394449154672439,
          4.890349128221754,
          0.6931471805599453,
          3.9889840465642745,
          0,
          1.791759469228055,
          4.882801922586371,
          1.791759469228055,
          3.044522437723423
         ]
        },
        {
         "lat": [
          18.25,
          46
         ],
         "line": {
          "color": "red",
          "width": 0.34657359027997264
         },
         "lon": [
          -66.5,
          2
         ],
         "mode": "lines+marker",
         "name": "Puerto Rico",
         "type": "scattergeo"
        },
        {
         "lat": [
          40.5,
          46
         ],
         "line": {
          "color": "red",
          "width": 0
         },
         "lon": [
          47.5,
          2
         ],
         "mode": "lines+marker",
         "name": "Azerbaijan",
         "type": "scattergeo"
        },
        {
         "lat": [
          51,
          46
         ],
         "line": {
          "color": "red",
          "width": 3.9456653788309444
         },
         "lon": [
          9,
          2
         ],
         "mode": "lines+marker",
         "name": "Germany",
         "type": "scattergeo"
        },
        {
         "lat": [
          56,
          46
         ],
         "line": {
          "color": "red",
          "width": 1.6479184330021646
         },
         "lon": [
          24,
          2
         ],
         "mode": "lines+marker",
         "name": "Lithuania",
         "type": "scattergeo"
        },
        {
         "lat": [
          -12.83333333,
          46
         ],
         "line": {
          "color": "red",
          "width": 0.8047189562170501
         },
         "lon": [
          45.16666666,
          2
         ],
         "mode": "lines+marker",
         "name": "Mayotte",
         "type": "scattergeo"
        },
        {
         "lat": [
          8,
          46
         ],
         "line": {
          "color": "red",
          "width": 1.4978661367769954
         },
         "lon": [
          -66,
          2
         ],
         "mode": "lines+marker",
         "name": "Venezuela",
         "type": "scattergeo"
        },
        {
         "lat": [
          1,
          46
         ],
         "line": {
          "color": "red",
          "width": 0.34657359027997264
         },
         "lon": [
          7,
          2
         ],
         "mode": "lines+marker",
         "name": "São Tomé and Príncipe",
         "type": "scattergeo"
        },
        {
         "lat": [
          -29.03333333,
          46
         ],
         "line": {
          "color": "red",
          "width": 1.4722194895832201
         },
         "lon": [
          167.95,
          2
         ],
         "mode": "lines+marker",
         "name": "Norfolk Island",
         "type": "scattergeo"
        },
        {
         "lat": [
          8,
          46
         ],
         "line": {
          "color": "red",
          "width": 1.0986122886681098
         },
         "lon": [
          -5,
          2
         ],
         "mode": "lines+marker",
         "name": "Ivory Coast",
         "type": "scattergeo"
        },
        {
         "lat": [
          47,
          46
         ],
         "line": {
          "color": "red",
          "width": 1.0986122886681098
         },
         "lon": [
          29,
          2
         ],
         "mode": "lines+marker",
         "name": "Moldova",
         "type": "scattergeo"
        },
        {
         "lat": [
          16.25,
          46
         ],
         "line": {
          "color": "red",
          "width": 1.4722194895832201
         },
         "lon": [
          -61.583333,
          2
         ],
         "mode": "lines+marker",
         "name": "Guadeloupe",
         "type": "scattergeo"
        },
        {
         "lat": [
          39,
          46
         ],
         "line": {
          "color": "red",
          "width": 1.8806000578467812
         },
         "lon": [
          35,
          2
         ],
         "mode": "lines+marker",
         "name": "Turkey",
         "type": "scattergeo"
        },
        {
         "lat": [
          42.83333333,
          46
         ],
         "line": {
          "color": "red",
          "width": 3.6123767028839855
         },
         "lon": [
          12.83333333,
          2
         ],
         "mode": "lines+marker",
         "name": "Italy",
         "type": "scattergeo"
        },
        {
         "lat": [
          60,
          46
         ],
         "line": {
          "color": "red",
          "width": 2.6759290667380333
         },
         "lon": [
          100,
          2
         ],
         "mode": "lines+marker",
         "name": "Russia",
         "type": "scattergeo"
        },
        {
         "lat": [
          -41,
          46
         ],
         "line": {
          "color": "red",
          "width": 1.2824746787307684
         },
         "lon": [
          174,
          2
         ],
         "mode": "lines+marker",
         "name": "New Zealand",
         "type": "scattergeo"
        },
        {
         "lat": [
          7,
          46
         ],
         "line": {
          "color": "red",
          "width": 1.683647914993237
         },
         "lon": [
          81,
          2
         ],
         "mode": "lines+marker",
         "name": "Sri Lanka",
         "type": "scattergeo"
        },
        {
         "lat": [
          49.75,
          46
         ],
         "line": {
          "color": "red",
          "width": 1.5890269151739729
         },
         "lon": [
          15.5,
          2
         ],
         "mode": "lines+marker",
         "name": "Czechia",
         "type": "scattergeo"
        },
        {
         "lat": [
          -33,
          46
         ],
         "line": {
          "color": "red",
          "width": 0.34657359027997264
         },
         "lon": [
          -56,
          2
         ],
         "mode": "lines+marker",
         "name": "Uruguay",
         "type": "scattergeo"
        },
        {
         "lat": [
          49,
          46
         ],
         "line": {
          "color": "red",
          "width": 0.9729550745276566
         },
         "lon": [
          32,
          2
         ],
         "mode": "lines+marker",
         "name": "Ukraine",
         "type": "scattergeo"
        },
        {
         "lat": [
          4.5,
          46
         ],
         "line": {
          "color": "red",
          "width": 0.34657359027997264
         },
         "lon": [
          114.66666666,
          2
         ],
         "mode": "lines+marker",
         "name": "Brunei",
         "type": "scattergeo"
        },
        {
         "lat": [
          -23,
          46
         ],
         "line": {
          "color": "red",
          "width": 0
         },
         "lon": [
          -58,
          2
         ],
         "mode": "lines+marker",
         "name": "Paraguay",
         "type": "scattergeo"
        },
        {
         "lat": [
          14,
          46
         ],
         "line": {
          "color": "red",
          "width": 0.6931471805599453
         },
         "lon": [
          -14,
          2
         ],
         "mode": "lines+marker",
         "name": "Senegal",
         "type": "scattergeo"
        },
        {
         "lat": [
          43,
          46
         ],
         "line": {
          "color": "red",
          "width": 1.7005986908310777
         },
         "lon": [
          25,
          2
         ],
         "mode": "lines+marker",
         "name": "Bulgaria",
         "type": "scattergeo"
        },
        {
         "lat": [
          24,
          46
         ],
         "line": {
          "color": "red",
          "width": 0
         },
         "lon": [
          90,
          2
         ],
         "mode": "lines+marker",
         "name": "Bangladesh",
         "type": "scattergeo"
        },
        {
         "lat": [
          -6,
          46
         ],
         "line": {
          "color": "red",
          "width": 0.34657359027997264
         },
         "lon": [
          147,
          2
         ],
         "mode": "lines+marker",
         "name": "Papua New Guinea",
         "type": "scattergeo"
        },
        {
         "lat": [
          52.5,
          46
         ],
         "line": {
          "color": "red",
          "width": 3.044522437723423
         },
         "lon": [
          5.75,
          2
         ],
         "mode": "lines+marker",
         "name": "Netherlands",
         "type": "scattergeo"
        },
        {
         "lat": [
          40,
          46
         ],
         "line": {
          "color": "red",
          "width": 3.514543782074831
         },
         "lon": [
          -4,
          2
         ],
         "mode": "lines+marker",
         "name": "Spain",
         "type": "scattergeo"
        },
        {
         "lat": [
          19,
          46
         ],
         "line": {
          "color": "red",
          "width": 0.6931471805599453
         },
         "lon": [
          -70.66666666,
          2
         ],
         "mode": "lines+marker",
         "name": "Dominican Republic",
         "type": "scattergeo"
        },
        {
         "lat": [
          49.46666666,
          46
         ],
         "line": {
          "color": "red",
          "width": 0.5493061443340549
         },
         "lon": [
          -2.58333333,
          2
         ],
         "mode": "lines+marker",
         "name": "Guernsey",
         "type": "scattergeo"
        },
        {
         "lat": [
          32,
          46
         ],
         "line": {
          "color": "red",
          "width": 2.3636939093561704
         },
         "lon": [
          -5,
          2
         ],
         "mode": "lines+marker",
         "name": "Morocco",
         "type": "scattergeo"
        },
        {
         "lat": [
          2.5,
          46
         ],
         "line": {
          "color": "red",
          "width": 1.0986122886681098
         },
         "lon": [
          112.5,
          2
         ],
         "mode": "lines+marker",
         "name": "Malaysia",
         "type": "scattergeo"
        },
        {
         "lat": [
          -20,
          46
         ],
         "line": {
          "color": "red",
          "width": 1.9033312448851598
         },
         "lon": [
          47,
          2
         ],
         "mode": "lines+marker",
         "name": "Madagascar",
         "type": "scattergeo"
        },
        {
         "lat": [
          -34,
          46
         ],
         "line": {
          "color": "red",
          "width": 1.0397207708399179
         },
         "lon": [
          -64,
          2
         ],
         "mode": "lines+marker",
         "name": "Argentina",
         "type": "scattergeo"
        },
        {
         "lat": [
          47.26666666,
          46
         ],
         "line": {
          "color": "red",
          "width": 0.8047189562170501
         },
         "lon": [
          9.53333333,
          2
         ],
         "mode": "lines+marker",
         "name": "Liechtenstein",
         "type": "scattergeo"
        },
        {
         "lat": [
          34,
          46
         ],
         "line": {
          "color": "red",
          "width": 1.7005986908310777
         },
         "lon": [
          9,
          2
         ],
         "mode": "lines+marker",
         "name": "Tunisia",
         "type": "scattergeo"
        },
        {
         "lat": [
          9,
          46
         ],
         "line": {
          "color": "red",
          "width": 0
         },
         "lon": [
          -80,
          2
         ],
         "mode": "lines+marker",
         "name": "Panama",
         "type": "scattergeo"
        },
        {
         "lat": [
          44,
          46
         ],
         "line": {
          "color": "red",
          "width": 0.34657359027997264
         },
         "lon": [
          18,
          2
         ],
         "mode": "lines+marker",
         "name": "Bosnia and Herzegovina",
         "type": "scattergeo"
        },
        {
         "lat": [
          47,
          46
         ],
         "line": {
          "color": "red",
          "width": 2.70805020110221
         },
         "lon": [
          8,
          2
         ],
         "mode": "lines+marker",
         "name": "Switzerland",
         "type": "scattergeo"
        },
        {
         "lat": [
          49.75,
          46
         ],
         "line": {
          "color": "red",
          "width": 1.5890269151739729
         },
         "lon": [
          6.16666666,
          2
         ],
         "mode": "lines+marker",
         "name": "Luxembourg",
         "type": "scattergeo"
        },
        {
         "lat": [
          22,
          46
         ],
         "line": {
          "color": "red",
          "width": 0.34657359027997264
         },
         "lon": [
          98,
          2
         ],
         "mode": "lines+marker",
         "name": "Myanmar",
         "type": "scattergeo"
        },
        {
         "lat": [
          -20.28333333,
          46
         ],
         "line": {
          "color": "red",
          "width": 0.8047189562170501
         },
         "lon": [
          57.55,
          2
         ],
         "mode": "lines+marker",
         "name": "Mauritius",
         "type": "scattergeo"
        },
        {
         "lat": [
          -22,
          46
         ],
         "line": {
          "color": "red",
          "width": 0.34657359027997264
         },
         "lon": [
          17,
          2
         ],
         "mode": "lines+marker",
         "name": "Namibia",
         "type": "scattergeo"
        },
        {
         "lat": [
          16,
          46
         ],
         "line": {
          "color": "red",
          "width": 1.791759469228055
         },
         "lon": [
          8,
          2
         ],
         "mode": "lines+marker",
         "name": "Niger",
         "type": "scattergeo"
        },
        {
         "lat": [
          8,
          46
         ],
         "line": {
          "color": "red",
          "width": 1.0397207708399179
         },
         "lon": [
          -2,
          2
         ],
         "mode": "lines+marker",
         "name": "Ghana",
         "type": "scattergeo"
        },
        {
         "lat": [
          46,
          46
         ],
         "line": {
          "color": "red",
          "width": 1.1989476363991853
         },
         "lon": [
          25,
          2
         ],
         "mode": "lines+marker",
         "name": "Romania",
         "type": "scattergeo"
        },
        {
         "lat": [
          -29,
          46
         ],
         "line": {
          "color": "red",
          "width": 1.629048269010741
         },
         "lon": [
          24,
          2
         ],
         "mode": "lines+marker",
         "name": "South Africa",
         "type": "scattergeo"
        },
        {
         "lat": [
          -21.5,
          46
         ],
         "line": {
          "color": "red",
          "width": 0.8047189562170501
         },
         "lon": [
          165.5,
          2
         ],
         "mode": "lines+marker",
         "name": "New Caledonia",
         "type": "scattergeo"
        },
        {
         "lat": [
          59,
          46
         ],
         "line": {
          "color": "red",
          "width": 0.8047189562170501
         },
         "lon": [
          26,
          2
         ],
         "mode": "lines+marker",
         "name": "Estonia",
         "type": "scattergeo"
        },
        {
         "lat": [
          5,
          46
         ],
         "line": {
          "color": "red",
          "width": 0
         },
         "lon": [
          -59,
          2
         ],
         "mode": "lines+marker",
         "name": "Guyana",
         "type": "scattergeo"
        },
        {
         "lat": [
          47.33333333,
          46
         ],
         "line": {
          "color": "red",
          "width": 2.266299746576628
         },
         "lon": [
          13.33333333,
          2
         ],
         "mode": "lines+marker",
         "name": "Austria",
         "type": "scattergeo"
        },
        {
         "lat": [
          13,
          46
         ],
         "line": {
          "color": "red",
          "width": 1.7482537807332401
         },
         "lon": [
          122,
          2
         ],
         "mode": "lines+marker",
         "name": "Philippines",
         "type": "scattergeo"
        },
        {
         "lat": [
          46,
          46
         ],
         "line": {
          "color": "red",
          "width": 5.0762858589253455
         },
         "lon": [
          2,
          2
         ],
         "mode": "lines+marker",
         "name": "France",
         "type": "scattergeo"
        },
        {
         "lat": [
          54,
          46
         ],
         "line": {
          "color": "red",
          "width": 4.1407354289475835
         },
         "lon": [
          -2,
          2
         ],
         "mode": "lines+marker",
         "name": "United Kingdom",
         "type": "scattergeo"
        },
        {
         "lat": [
          22.267,
          46
         ],
         "line": {
          "color": "red",
          "width": 1.4451858789480823
         },
         "lon": [
          114.188,
          2
         ],
         "mode": "lines+marker",
         "name": "Hong Kong",
         "type": "scattergeo"
        },
        {
         "lat": [
          28,
          46
         ],
         "line": {
          "color": "red",
          "width": 1.151292546497023
         },
         "lon": [
          3,
          2
         ],
         "mode": "lines+marker",
         "name": "Algeria",
         "type": "scattergeo"
        },
        {
         "lat": [
          62,
          46
         ],
         "line": {
          "color": "red",
          "width": 1.2824746787307684
         },
         "lon": [
          10,
          2
         ],
         "mode": "lines+marker",
         "name": "Norway",
         "type": "scattergeo"
        },
        {
         "lat": [
          15,
          46
         ],
         "line": {
          "color": "red",
          "width": 2.626136714023315
         },
         "lon": [
          100,
          2
         ],
         "mode": "lines+marker",
         "name": "Thailand",
         "type": "scattergeo"
        },
        {
         "lat": [
          35.83333333,
          46
         ],
         "line": {
          "color": "red",
          "width": 0
         },
         "lon": [
          14.58333333,
          2
         ],
         "mode": "lines+marker",
         "name": "Malta",
         "type": "scattergeo"
        },
        {
         "lat": [
          50.83333333,
          46
         ],
         "line": {
          "color": "red",
          "width": 3.6109179126442243
         },
         "lon": [
          4,
          2
         ],
         "mode": "lines+marker",
         "name": "Belgium",
         "type": "scattergeo"
        },
        {
         "lat": [
          18.5,
          46
         ],
         "line": {
          "color": "red",
          "width": 0
         },
         "lon": [
          -63.41666666,
          2
         ],
         "mode": "lines+marker",
         "name": "Saint Barthélemy",
         "type": "scattergeo"
        },
        {
         "lat": [
          -10,
          46
         ],
         "line": {
          "color": "red",
          "width": 1.1989476363991853
         },
         "lon": [
          -55,
          2
         ],
         "mode": "lines+marker",
         "name": "Brazil",
         "type": "scattergeo"
        },
        {
         "lat": [
          8,
          46
         ],
         "line": {
          "color": "red",
          "width": 0.34657359027997264
         },
         "lon": [
          1.16666666,
          2
         ],
         "mode": "lines+marker",
         "name": "Togo",
         "type": "scattergeo"
        },
        {
         "lat": [
          48.66666666,
          46
         ],
         "line": {
          "color": "red",
          "width": 0.9729550745276566
         },
         "lon": [
          19.5,
          2
         ],
         "mode": "lines+marker",
         "name": "Slovakia",
         "type": "scattergeo"
        },
        {
         "lat": [
          -4.58333333,
          46
         ],
         "line": {
          "color": "red",
          "width": 1.1989476363991853
         },
         "lon": [
          55.66666666,
          2
         ],
         "mode": "lines+marker",
         "name": "Seychelles",
         "type": "scattergeo"
        },
        {
         "lat": [
          25,
          46
         ],
         "line": {
          "color": "red",
          "width": 0
         },
         "lon": [
          45,
          2
         ],
         "mode": "lines+marker",
         "name": "Saudi Arabia",
         "type": "scattergeo"
        },
        {
         "lat": [
          62,
          46
         ],
         "line": {
          "color": "red",
          "width": 2.152032546602085
         },
         "lon": [
          15,
          2
         ],
         "mode": "lines+marker",
         "name": "Sweden",
         "type": "scattergeo"
        },
        {
         "lat": [
          65,
          46
         ],
         "line": {
          "color": "red",
          "width": 1.666102255087602
         },
         "lon": [
          -18,
          2
         ],
         "mode": "lines+marker",
         "name": "Iceland",
         "type": "scattergeo"
        },
        {
         "lat": [
          -17,
          46
         ],
         "line": {
          "color": "red",
          "width": 2.317364494114818
         },
         "lon": [
          -65,
          2
         ],
         "mode": "lines+marker",
         "name": "Bolivia",
         "type": "scattergeo"
        },
        {
         "lat": [
          -10,
          46
         ],
         "line": {
          "color": "red",
          "width": 1.7328679513998633
         },
         "lon": [
          -76,
          2
         ],
         "mode": "lines+marker",
         "name": "Peru",
         "type": "scattergeo"
        },
        {
         "lat": [
          -2,
          46
         ],
         "line": {
          "color": "red",
          "width": 1.2424533248940002
         },
         "lon": [
          -77.5,
          2
         ],
         "mode": "lines+marker",
         "name": "Ecuador",
         "type": "scattergeo"
        },
        {
         "lat": [
          23,
          46
         ],
         "line": {
          "color": "red",
          "width": 2.5795276496072646
         },
         "lon": [
          -102,
          2
         ],
         "mode": "lines+marker",
         "name": "Mexico",
         "type": "scattergeo"
        },
        {
         "lat": [
          -26.5,
          46
         ],
         "line": {
          "color": "red",
          "width": 0
         },
         "lon": [
          31.5,
          2
         ],
         "mode": "lines+marker",
         "name": "Eswatini",
         "type": "scattergeo"
        },
        {
         "lat": [
          18,
          46
         ],
         "line": {
          "color": "red",
          "width": 0.34657359027997264
         },
         "lon": [
          105,
          2
         ],
         "mode": "lines+marker",
         "name": "Laos",
         "type": "scattergeo"
        },
        {
         "lat": [
          1,
          46
         ],
         "line": {
          "color": "red",
          "width": 1.3195286648076292
         },
         "lon": [
          38,
          2
         ],
         "mode": "lines+marker",
         "name": "Kenya",
         "type": "scattergeo"
        },
        {
         "lat": [
          41.83333333,
          46
         ],
         "line": {
          "color": "red",
          "width": 1.0986122886681098
         },
         "lon": [
          22,
          2
         ],
         "mode": "lines+marker",
         "name": "Macedonia",
         "type": "scattergeo"
        },
        {
         "lat": [
          14.666667,
          46
         ],
         "line": {
          "color": "red",
          "width": 1.354025100551105
         },
         "lon": [
          -61,
          2
         ],
         "mode": "lines+marker",
         "name": "Martinique",
         "type": "scattergeo"
        },
        {
         "lat": [
          23.5,
          46
         ],
         "line": {
          "color": "red",
          "width": 2.3502401828962083
         },
         "lon": [
          121,
          2
         ],
         "mode": "lines+marker",
         "name": "Taiwan",
         "type": "scattergeo"
        },
        {
         "lat": [
          46.11666666,
          46
         ],
         "line": {
          "color": "red",
          "width": 1.2824746787307684
         },
         "lon": [
          14.81666666,
          2
         ],
         "mode": "lines+marker",
         "name": "Slovenia",
         "type": "scattergeo"
        },
        {
         "lat": [
          45.16666666,
          46
         ],
         "line": {
          "color": "red",
          "width": 1.7631802623080808
         },
         "lon": [
          15.5,
          2
         ],
         "mode": "lines+marker",
         "name": "Croatia",
         "type": "scattergeo"
        },
        {
         "lat": [
          47,
          46
         ],
         "line": {
          "color": "red",
          "width": 1.6479184330021646
         },
         "lon": [
          20,
          2
         ],
         "mode": "lines+marker",
         "name": "Hungary",
         "type": "scattergeo"
        },
        {
         "lat": [
          40,
          46
         ],
         "line": {
          "color": "red",
          "width": 0.8958797346140275
         },
         "lon": [
          45,
          2
         ],
         "mode": "lines+marker",
         "name": "Armenia",
         "type": "scattergeo"
        },
        {
         "lat": [
          16,
          46
         ],
         "line": {
          "color": "red",
          "width": 0.34657359027997264
         },
         "lon": [
          -24,
          2
         ],
         "mode": "lines+marker",
         "name": "Cape Verde",
         "type": "scattergeo"
        },
        {
         "lat": [
          53,
          46
         ],
         "line": {
          "color": "red",
          "width": 0.5493061443340549
         },
         "lon": [
          28,
          2
         ],
         "mode": "lines+marker",
         "name": "Belarus",
         "type": "scattergeo"
        },
        {
         "lat": [
          21.5,
          46
         ],
         "line": {
          "color": "red",
          "width": 0.6931471805599453
         },
         "lon": [
          -80,
          2
         ],
         "mode": "lines+marker",
         "name": "Cuba",
         "type": "scattergeo"
        },
        {
         "lat": [
          46.83333333,
          46
         ],
         "line": {
          "color": "red",
          "width": 0
         },
         "lon": [
          -56.33333333,
          2
         ],
         "mode": "lines+marker",
         "name": "Saint Pierre and Miquelon",
         "type": "scattergeo"
        },
        {
         "lat": [
          6,
          46
         ],
         "line": {
          "color": "red",
          "width": 0.8958797346140275
         },
         "lon": [
          12,
          2
         ],
         "mode": "lines+marker",
         "name": "Cameroon",
         "type": "scattergeo"
        },
        {
         "lat": [
          35,
          46
         ],
         "line": {
          "color": "red",
          "width": 0.9729550745276566
         },
         "lon": [
          33,
          2
         ],
         "mode": "lines+marker",
         "name": "Cyprus",
         "type": "scattergeo"
        },
        {
         "lat": [
          -6,
          46
         ],
         "line": {
          "color": "red",
          "width": 0
         },
         "lon": [
          35,
          2
         ],
         "mode": "lines+marker",
         "name": "Tanzania",
         "type": "scattergeo"
        },
        {
         "lat": [
          31.47,
          46
         ],
         "line": {
          "color": "red",
          "width": 1.4722194895832201
         },
         "lon": [
          35.13,
          2
         ],
         "mode": "lines+marker",
         "name": "Israel",
         "type": "scattergeo"
        },
        {
         "lat": [
          18.08333333,
          46
         ],
         "line": {
          "color": "red",
          "width": 0
         },
         "lon": [
          -63.95,
          2
         ],
         "mode": "lines+marker",
         "name": "Saint Martin",
         "type": "scattergeo"
        },
        {
         "lat": [
          30,
          46
         ],
         "line": {
          "color": "red",
          "width": 1.0397207708399179
         },
         "lon": [
          70,
          2
         ],
         "mode": "lines+marker",
         "name": "Pakistan",
         "type": "scattergeo"
        },
        {
         "lat": [
          -15,
          46
         ],
         "line": {
          "color": "red",
          "width": 1.2824746787307684
         },
         "lon": [
          -140,
          2
         ],
         "mode": "lines+marker",
         "name": "French Polynesia",
         "type": "scattergeo"
        },
        {
         "lat": [
          19.3,
          46
         ],
         "line": {
          "color": "red",
          "width": 1.7482537807332401
         },
         "lon": [
          166.633333,
          2
         ],
         "mode": "lines+marker",
         "name": "United States Minor Outlying Islands",
         "type": "scattergeo"
        },
        {
         "lat": [
          16.16666666,
          46
         ],
         "line": {
          "color": "red",
          "width": 2.0871936349478184
         },
         "lon": [
          107.83333333,
          2
         ],
         "mode": "lines+marker",
         "name": "Vietnam",
         "type": "scattergeo"
        },
        {
         "lat": [
          8,
          46
         ],
         "line": {
          "color": "red",
          "width": 0
         },
         "lon": [
          38,
          2
         ],
         "mode": "lines+marker",
         "name": "Ethiopia",
         "type": "scattergeo"
        },
        {
         "lat": [
          -21.15,
          46
         ],
         "line": {
          "color": "red",
          "width": 1.9756218592907138
         },
         "lon": [
          55.5,
          2
         ],
         "mode": "lines+marker",
         "name": "Réunion",
         "type": "scattergeo"
        },
        {
         "lat": [
          37,
          46
         ],
         "line": {
          "color": "red",
          "width": 1.151292546497023
         },
         "lon": [
          127.5,
          2
         ],
         "mode": "lines+marker",
         "name": "South Korea",
         "type": "scattergeo"
        },
        {
         "lat": [
          35,
          46
         ],
         "line": {
          "color": "red",
          "width": 2.6615049895692042
         },
         "lon": [
          105,
          2
         ],
         "mode": "lines+marker",
         "name": "China",
         "type": "scattergeo"
        },
        {
         "lat": [
          39,
          46
         ],
         "line": {
          "color": "red",
          "width": 2.6020033435383976
         },
         "lon": [
          22,
          2
         ],
         "mode": "lines+marker",
         "name": "Greece",
         "type": "scattergeo"
        },
        {
         "lat": [
          20,
          46
         ],
         "line": {
          "color": "red",
          "width": 1.545521226679158
         },
         "lon": [
          77,
          2
         ],
         "mode": "lines+marker",
         "name": "India",
         "type": "scattergeo"
        },
        {
         "lat": [
          64,
          46
         ],
         "line": {
          "color": "red",
          "width": 1.0986122886681098
         },
         "lon": [
          26,
          2
         ],
         "mode": "lines+marker",
         "name": "Finland",
         "type": "scattergeo"
        },
        {
         "lat": [
          1.36666666,
          46
         ],
         "line": {
          "color": "red",
          "width": 0.8958797346140275
         },
         "lon": [
          103.8,
          2
         ],
         "mode": "lines+marker",
         "name": "Singapore",
         "type": "scattergeo"
        },
        {
         "lat": [
          33.83333333,
          46
         ],
         "line": {
          "color": "red",
          "width": 1.0986122886681098
         },
         "lon": [
          35.83333333,
          2
         ],
         "mode": "lines+marker",
         "name": "Lebanon",
         "type": "scattergeo"
        },
        {
         "lat": [
          -5,
          46
         ],
         "line": {
          "color": "red",
          "width": 1.3862943611198906
         },
         "lon": [
          120,
          2
         ],
         "mode": "lines+marker",
         "name": "Indonesia",
         "type": "scattergeo"
        },
        {
         "lat": [
          32,
          46
         ],
         "line": {
          "color": "red",
          "width": 2.04717228111105
         },
         "lon": [
          53,
          2
         ],
         "mode": "lines+marker",
         "name": "Iran",
         "type": "scattergeo"
        },
        {
         "lat": [
          39.5,
          46
         ],
         "line": {
          "color": "red",
          "width": 2.372466064181625
         },
         "lon": [
          -8,
          2
         ],
         "mode": "lines+marker",
         "name": "Portugal",
         "type": "scattergeo"
        },
        {
         "lat": [
          12.18,
          46
         ],
         "line": {
          "color": "red",
          "width": 0.34657359027997264
         },
         "lon": [
          -68.25,
          2
         ],
         "mode": "lines+marker",
         "name": "Caribbean Netherlands",
         "type": "scattergeo"
        },
        {
         "lat": [
          60,
          46
         ],
         "line": {
          "color": "red",
          "width": 2.719039654461598
         },
         "lon": [
          -95,
          2
         ],
         "mode": "lines+marker",
         "name": "Canada",
         "type": "scattergeo"
        },
        {
         "lat": [
          -13.58333333,
          46
         ],
         "line": {
          "color": "red",
          "width": 1.545521226679158
         },
         "lon": [
          -172.33333333,
          2
         ],
         "mode": "lines+marker",
         "name": "Samoa",
         "type": "scattergeo"
        },
        {
         "lat": [
          9,
          46
         ],
         "line": {
          "color": "red",
          "width": 1.0986122886681098
         },
         "lon": [
          168,
          2
         ],
         "mode": "lines+marker",
         "name": "Marshall Islands",
         "type": "scattergeo"
        },
        {
         "lat": [
          43.73333333,
          46
         ],
         "line": {
          "color": "red",
          "width": 0.8047189562170501
         },
         "lon": [
          7.4,
          2
         ],
         "mode": "lines+marker",
         "name": "Monaco",
         "type": "scattergeo"
        },
        {
         "lat": [
          10,
          46
         ],
         "line": {
          "color": "red",
          "width": 0.9729550745276566
         },
         "lon": [
          -84,
          2
         ],
         "mode": "lines+marker",
         "name": "Costa Rica",
         "type": "scattergeo"
        },
        {
         "lat": [
          57,
          46
         ],
         "line": {
          "color": "red",
          "width": 0.9729550745276566
         },
         "lon": [
          25,
          2
         ],
         "mode": "lines+marker",
         "name": "Latvia",
         "type": "scattergeo"
        },
        {
         "lat": [
          -49.25,
          46
         ],
         "line": {
          "color": "red",
          "width": 1.0397207708399179
         },
         "lon": [
          69.167,
          2
         ],
         "mode": "lines+marker",
         "name": "French Southern and Antarctic Lands",
         "type": "scattergeo"
        },
        {
         "lat": [
          4,
          46
         ],
         "line": {
          "color": "red",
          "width": 1.1989476363991853
         },
         "lon": [
          -53,
          2
         ],
         "mode": "lines+marker",
         "name": "French Guiana",
         "type": "scattergeo"
        },
        {
         "lat": [
          1.41666666,
          46
         ],
         "line": {
          "color": "red",
          "width": 0.34657359027997264
         },
         "lon": [
          173,
          2
         ],
         "mode": "lines+marker",
         "name": "Kiribati",
         "type": "scattergeo"
        },
        {
         "lat": [
          41,
          46
         ],
         "line": {
          "color": "red",
          "width": 0
         },
         "lon": [
          20,
          2
         ],
         "mode": "lines+marker",
         "name": "Albania",
         "type": "scattergeo"
        },
        {
         "lat": [
          42,
          46
         ],
         "line": {
          "color": "red",
          "width": 1.0397207708399179
         },
         "lon": [
          43.5,
          2
         ],
         "mode": "lines+marker",
         "name": "Georgia",
         "type": "scattergeo"
        },
        {
         "lat": [
          38,
          46
         ],
         "line": {
          "color": "red",
          "width": 3.0645251050302726
         },
         "lon": [
          -97,
          2
         ],
         "mode": "lines+marker",
         "name": "United States",
         "type": "scattergeo"
        },
        {
         "lat": [
          53,
          46
         ],
         "line": {
          "color": "red",
          "width": 2.372466064181625
         },
         "lon": [
          -8,
          2
         ],
         "mode": "lines+marker",
         "name": "Ireland",
         "type": "scattergeo"
        },
        {
         "lat": [
          36,
          46
         ],
         "line": {
          "color": "red",
          "width": 2.1972245773362196
         },
         "lon": [
          138,
          2
         ],
         "mode": "lines+marker",
         "name": "Japan",
         "type": "scattergeo"
        },
        {
         "lat": [
          52,
          46
         ],
         "line": {
          "color": "red",
          "width": 2.445174564110877
         },
         "lon": [
          20,
          2
         ],
         "mode": "lines+marker",
         "name": "Poland",
         "type": "scattergeo"
        },
        {
         "lat": [
          19.5,
          46
         ],
         "line": {
          "color": "red",
          "width": 0.34657359027997264
         },
         "lon": [
          -80.5,
          2
         ],
         "mode": "lines+marker",
         "name": "Cayman Islands",
         "type": "scattergeo"
        },
        {
         "lat": [
          56,
          46
         ],
         "line": {
          "color": "red",
          "width": 1.9944920232821373
         },
         "lon": [
          10,
          2
         ],
         "mode": "lines+marker",
         "name": "Denmark",
         "type": "scattergeo"
        },
        {
         "lat": [
          13.83333333,
          46
         ],
         "line": {
          "color": "red",
          "width": 0
         },
         "lon": [
          -88.91666666,
          2
         ],
         "mode": "lines+marker",
         "name": "El Salvador",
         "type": "scattergeo"
        },
        {
         "lat": [
          -30,
          46
         ],
         "line": {
          "color": "red",
          "width": 0.8958797346140275
         },
         "lon": [
          -71,
          2
         ],
         "mode": "lines+marker",
         "name": "Chile",
         "type": "scattergeo"
        },
        {
         "lat": [
          -27,
          46
         ],
         "line": {
          "color": "red",
          "width": 2.4414009612931853
         },
         "lon": [
          133,
          2
         ],
         "mode": "lines+marker",
         "name": "Australia",
         "type": "scattergeo"
        },
        {
         "lat": [
          4,
          46
         ],
         "line": {
          "color": "red",
          "width": 0.8958797346140275
         },
         "lon": [
          -72,
          2
         ],
         "mode": "lines+marker",
         "name": "Colombia",
         "type": "scattergeo"
        },
        {
         "lat": [
          44,
          46
         ],
         "line": {
          "color": "red",
          "width": 1.5222612188617115
         },
         "lon": [
          21,
          2
         ],
         "mode": "lines+marker",
         "name": "Serbia",
         "type": "scattergeo"
        }
       ],
       "layout": {
        "geo": {
         "coastlinecolor": "rgb(255, 255, 255)",
         "countrycolor": "rgb(255, 255, 255)",
         "landcolor": "rgb(229, 229, 229)",
         "projection": {
          "type": "Mercator"
         },
         "showcoastlines": true,
         "showframe": false,
         "showland": true
        },
        "showlegend": false,
        "title": "Manufacturing countries of products",
        "xaxis": {
         "fixedrange": true
        },
        "yaxis": {
         "fixedrange": true
        }
       }
      },
      "text/html": [
       "<div id=\"f747180d-8694-4a0f-896f-3f735e4e75ac\" style=\"height: 525px; width: 100%;\" class=\"plotly-graph-div\"></div><script type=\"text/javascript\">require([\"plotly\"], function(Plotly) { window.PLOTLYENV=window.PLOTLYENV || {};window.PLOTLYENV.BASE_URL=\"https://plot.ly\";Plotly.newPlot(\"f747180d-8694-4a0f-896f-3f735e4e75ac\", [{\"type\": \"choropleth\", \"locations\": [\"PRI\", \"AZE\", \"DEU\", \"LTU\", \"MYT\", \"VEN\", \"STP\", \"NFK\", \"CIV\", \"MDA\", \"GLP\", \"TUR\", \"ITA\", \"RUS\", \"NZL\", \"LKA\", \"CZE\", \"URY\", \"UKR\", \"BRN\", \"PRY\", \"SEN\", \"BGR\", \"BGD\", \"PNG\", \"NLD\", \"ESP\", \"DOM\", \"GGY\", \"MAR\", \"MYS\", \"MDG\", \"ARG\", \"LIE\", \"TUN\", \"PAN\", \"BIH\", \"CHE\", \"LUX\", \"MMR\", \"MUS\", \"NAM\", \"NER\", \"GHA\", \"ROU\", \"ZAF\", \"NCL\", \"EST\", \"GUY\", \"AUT\", \"PHL\", \"FRA\", \"GBR\", \"HKG\", \"DZA\", \"NOR\", \"THA\", \"MLT\", \"BEL\", \"BLM\", \"BRA\", \"TGO\", \"SVK\", \"SYC\", \"SAU\", \"SWE\", \"ISL\", \"BOL\", \"PER\", \"ECU\", \"MEX\", \"SWZ\", \"LAO\", \"KEN\", \"MKD\", \"MTQ\", \"TWN\", \"SVN\", \"HRV\", \"HUN\", \"ARM\", \"CPV\", \"BLR\", \"CUB\", \"SPM\", \"CMR\", \"CYP\", \"TZA\", \"ISR\", \"MAF\", \"PAK\", \"PYF\", \"UMI\", \"VNM\", \"ETH\", \"REU\", \"KOR\", \"CHN\", \"GRC\", \"IND\", \"FIN\", \"SGP\", \"LBN\", \"IDN\", \"IRN\", \"PRT\", \"BES\", \"CAN\", \"WSM\", \"MHL\", \"MCO\", \"CRI\", \"LVA\", \"ATF\", \"GUF\", \"KIR\", \"ALB\", \"GEO\", \"USA\", \"IRL\", \"JPN\", \"POL\", \"CYM\", \"DNK\", \"SLV\", \"CHL\", \"AUS\", \"COL\", \"SRB\"], \"z\": [0.6931471805599453, 0.0, 7.891330757661889, 3.295836866004329, 1.6094379124341003, 2.995732273553991, 0.6931471805599453, 2.9444389791664403, 2.1972245773362196, 2.1972245773362196, 2.9444389791664403, 3.7612001156935624, 7.224753405767971, 5.351858133476067, 2.5649493574615367, 3.367295829986474, 3.1780538303479458, 0.6931471805599453, 1.9459101490553132, 0.6931471805599453, 0.0, 1.3862943611198906, 3.4011973816621555, 0.0, 0.6931471805599453, 6.089044875446846, 7.029087564149662, 1.3862943611198906, 1.0986122886681098, 4.727387818712341, 2.1972245773362196, 3.8066624897703196, 2.0794415416798357, 1.6094379124341003, 3.4011973816621555, 0.0, 0.6931471805599453, 5.41610040220442, 3.1780538303479458, 0.6931471805599453, 1.6094379124341003, 0.6931471805599453, 3.58351893845611, 2.0794415416798357, 2.3978952727983707, 3.258096538021482, 1.6094379124341003, 1.6094379124341003, 0.0, 4.532599493153256, 3.4965075614664802, 10.152571717850691, 8.281470857895167, 2.8903717578961645, 2.302585092994046, 2.5649493574615367, 5.25227342804663, 0.0, 7.221835825288449, 0.0, 2.3978952727983707, 0.6931471805599453, 1.9459101490553132, 2.3978952727983707, 0.0, 4.30406509320417, 3.332204510175204, 4.634728988229636, 3.4657359027997265, 2.4849066497880004, 5.159055299214529, 0.0, 0.6931471805599453, 2.6390573296152584, 2.1972245773362196, 2.70805020110221, 4.700480365792417, 2.5649493574615367, 3.5263605246161616, 3.295836866004329, 1.791759469228055, 0.6931471805599453, 1.0986122886681098, 1.3862943611198906, 0.0, 1.791759469228055, 1.9459101490553132, 0.0, 2.9444389791664403, 0.0, 2.0794415416798357, 2.5649493574615367, 3.4965075614664802, 4.174387269895637, 0.0, 3.9512437185814275, 2.302585092994046, 5.3230099791384085, 5.204006687076795, 3.091042453358316, 2.1972245773362196, 1.791759469228055, 2.1972245773362196, 2.772588722239781, 4.0943445622221, 4.74493212836325, 0.6931471805599453, 5.438079308923196, 3.091042453358316, 2.1972245773362196, 1.6094379124341003, 1.9459101490553132, 1.9459101490553132, 2.0794415416798357, 2.3978952727983707, 0.6931471805599453, 0.0, 2.0794415416798357, 6.129050210060545, 4.74493212836325, 4.394449154672439, 4.890349128221754, 0.6931471805599453, 3.9889840465642745, 0.0, 1.791759469228055, 4.882801922586371, 1.791759469228055, 3.044522437723423], \"name\": [\"Puerto Rico\", \"Azerbaijan\", \"Germany\", \"Lithuania\", \"Mayotte\", \"Venezuela\", \"S\\u00e3o Tom\\u00e9 and Pr\\u00edncipe\", \"Norfolk Island\", \"Ivory Coast\", \"Moldova\", \"Guadeloupe\", \"Turkey\", \"Italy\", \"Russia\", \"New Zealand\", \"Sri Lanka\", \"Czechia\", \"Uruguay\", \"Ukraine\", \"Brunei\", \"Paraguay\", \"Senegal\", \"Bulgaria\", \"Bangladesh\", \"Papua New Guinea\", \"Netherlands\", \"Spain\", \"Dominican Republic\", \"Guernsey\", \"Morocco\", \"Malaysia\", \"Madagascar\", \"Argentina\", \"Liechtenstein\", \"Tunisia\", \"Panama\", \"Bosnia and Herzegovina\", \"Switzerland\", \"Luxembourg\", \"Myanmar\", \"Mauritius\", \"Namibia\", \"Niger\", \"Ghana\", \"Romania\", \"South Africa\", \"New Caledonia\", \"Estonia\", \"Guyana\", \"Austria\", \"Philippines\", \"France\", \"United Kingdom\", \"Hong Kong\", \"Algeria\", \"Norway\", \"Thailand\", \"Malta\", \"Belgium\", \"Saint Barth\\u00e9lemy\", \"Brazil\", \"Togo\", \"Slovakia\", \"Seychelles\", \"Saudi Arabia\", \"Sweden\", \"Iceland\", \"Bolivia\", \"Peru\", \"Ecuador\", \"Mexico\", \"Eswatini\", \"Laos\", \"Kenya\", \"Macedonia\", \"Martinique\", \"Taiwan\", \"Slovenia\", \"Croatia\", \"Hungary\", \"Armenia\", \"Cape Verde\", \"Belarus\", \"Cuba\", \"Saint Pierre and Miquelon\", \"Cameroon\", \"Cyprus\", \"Tanzania\", \"Israel\", \"Saint Martin\", \"Pakistan\", \"French Polynesia\", \"United States Minor Outlying Islands\", \"Vietnam\", \"Ethiopia\", \"R\\u00e9union\", \"South Korea\", \"China\", \"Greece\", \"India\", \"Finland\", \"Singapore\", \"Lebanon\", \"Indonesia\", \"Iran\", \"Portugal\", \"Caribbean Netherlands\", \"Canada\", \"Samoa\", \"Marshall Islands\", \"Monaco\", \"Costa Rica\", \"Latvia\", \"French Southern and Antarctic Lands\", \"French Guiana\", \"Kiribati\", \"Albania\", \"Georgia\", \"United States\", \"Ireland\", \"Japan\", \"Poland\", \"Cayman Islands\", \"Denmark\", \"El Salvador\", \"Chile\", \"Australia\", \"Colombia\", \"Serbia\"], \"autocolorscale\": false, \"reversescale\": true, \"colorbar\": {\"autotick\": true, \"title\": \"Counts\"}}, {\"type\": \"scattergeo\", \"lon\": [-66.5, 2], \"lat\": [18.25, 46], \"mode\": \"lines+marker\", \"name\": \"Puerto Rico\", \"line\": {\"width\": 0.34657359027997264, \"color\": \"red\"}}, {\"type\": \"scattergeo\", \"lon\": [47.5, 2], \"lat\": [40.5, 46], \"mode\": \"lines+marker\", \"name\": \"Azerbaijan\", \"line\": {\"width\": 0.0, \"color\": \"red\"}}, {\"type\": \"scattergeo\", \"lon\": [9, 2], \"lat\": [51, 46], \"mode\": \"lines+marker\", \"name\": \"Germany\", \"line\": {\"width\": 3.9456653788309444, \"color\": \"red\"}}, {\"type\": \"scattergeo\", \"lon\": [24, 2], \"lat\": [56, 46], \"mode\": \"lines+marker\", \"name\": \"Lithuania\", \"line\": {\"width\": 1.6479184330021646, \"color\": \"red\"}}, {\"type\": \"scattergeo\", \"lon\": [45.16666666, 2], \"lat\": [-12.83333333, 46], \"mode\": \"lines+marker\", \"name\": \"Mayotte\", \"line\": {\"width\": 0.8047189562170501, \"color\": \"red\"}}, {\"type\": \"scattergeo\", \"lon\": [-66, 2], \"lat\": [8, 46], \"mode\": \"lines+marker\", \"name\": \"Venezuela\", \"line\": {\"width\": 1.4978661367769954, \"color\": \"red\"}}, {\"type\": \"scattergeo\", \"lon\": [7, 2], \"lat\": [1, 46], \"mode\": \"lines+marker\", \"name\": \"S\\u00e3o Tom\\u00e9 and Pr\\u00edncipe\", \"line\": {\"width\": 0.34657359027997264, \"color\": \"red\"}}, {\"type\": \"scattergeo\", \"lon\": [167.95, 2], \"lat\": [-29.03333333, 46], \"mode\": \"lines+marker\", \"name\": \"Norfolk Island\", \"line\": {\"width\": 1.4722194895832201, \"color\": \"red\"}}, {\"type\": \"scattergeo\", \"lon\": [-5, 2], \"lat\": [8, 46], \"mode\": \"lines+marker\", \"name\": \"Ivory Coast\", \"line\": {\"width\": 1.0986122886681098, \"color\": \"red\"}}, {\"type\": \"scattergeo\", \"lon\": [29, 2], \"lat\": [47, 46], \"mode\": \"lines+marker\", \"name\": \"Moldova\", \"line\": {\"width\": 1.0986122886681098, \"color\": \"red\"}}, {\"type\": \"scattergeo\", \"lon\": [-61.583333, 2], \"lat\": [16.25, 46], \"mode\": \"lines+marker\", \"name\": \"Guadeloupe\", \"line\": {\"width\": 1.4722194895832201, \"color\": \"red\"}}, {\"type\": \"scattergeo\", \"lon\": [35, 2], \"lat\": [39, 46], \"mode\": \"lines+marker\", \"name\": \"Turkey\", \"line\": {\"width\": 1.8806000578467812, \"color\": \"red\"}}, {\"type\": \"scattergeo\", \"lon\": [12.83333333, 2], \"lat\": [42.83333333, 46], \"mode\": \"lines+marker\", \"name\": \"Italy\", \"line\": {\"width\": 3.6123767028839855, \"color\": \"red\"}}, {\"type\": \"scattergeo\", \"lon\": [100, 2], \"lat\": [60, 46], \"mode\": \"lines+marker\", \"name\": \"Russia\", \"line\": {\"width\": 2.6759290667380333, \"color\": \"red\"}}, {\"type\": \"scattergeo\", \"lon\": [174, 2], \"lat\": [-41, 46], \"mode\": \"lines+marker\", \"name\": \"New Zealand\", \"line\": {\"width\": 1.2824746787307684, \"color\": \"red\"}}, {\"type\": \"scattergeo\", \"lon\": [81, 2], \"lat\": [7, 46], \"mode\": \"lines+marker\", \"name\": \"Sri Lanka\", \"line\": {\"width\": 1.683647914993237, \"color\": \"red\"}}, {\"type\": \"scattergeo\", \"lon\": [15.5, 2], \"lat\": [49.75, 46], \"mode\": \"lines+marker\", \"name\": \"Czechia\", \"line\": {\"width\": 1.5890269151739729, \"color\": \"red\"}}, {\"type\": \"scattergeo\", \"lon\": [-56, 2], \"lat\": [-33, 46], \"mode\": \"lines+marker\", \"name\": \"Uruguay\", \"line\": {\"width\": 0.34657359027997264, \"color\": \"red\"}}, {\"type\": \"scattergeo\", \"lon\": [32, 2], \"lat\": [49, 46], \"mode\": \"lines+marker\", \"name\": \"Ukraine\", \"line\": {\"width\": 0.9729550745276566, \"color\": \"red\"}}, {\"type\": \"scattergeo\", \"lon\": [114.66666666, 2], \"lat\": [4.5, 46], \"mode\": \"lines+marker\", \"name\": \"Brunei\", \"line\": {\"width\": 0.34657359027997264, \"color\": \"red\"}}, {\"type\": \"scattergeo\", \"lon\": [-58, 2], \"lat\": [-23, 46], \"mode\": \"lines+marker\", \"name\": \"Paraguay\", \"line\": {\"width\": 0.0, \"color\": \"red\"}}, {\"type\": \"scattergeo\", \"lon\": [-14, 2], \"lat\": [14, 46], \"mode\": \"lines+marker\", \"name\": \"Senegal\", \"line\": {\"width\": 0.6931471805599453, \"color\": \"red\"}}, {\"type\": \"scattergeo\", \"lon\": [25, 2], \"lat\": [43, 46], \"mode\": \"lines+marker\", \"name\": \"Bulgaria\", \"line\": {\"width\": 1.7005986908310777, \"color\": \"red\"}}, {\"type\": \"scattergeo\", \"lon\": [90, 2], \"lat\": [24, 46], \"mode\": \"lines+marker\", \"name\": \"Bangladesh\", \"line\": {\"width\": 0.0, \"color\": \"red\"}}, {\"type\": \"scattergeo\", \"lon\": [147, 2], \"lat\": [-6, 46], \"mode\": \"lines+marker\", \"name\": \"Papua New Guinea\", \"line\": {\"width\": 0.34657359027997264, \"color\": \"red\"}}, {\"type\": \"scattergeo\", \"lon\": [5.75, 2], \"lat\": [52.5, 46], \"mode\": \"lines+marker\", \"name\": \"Netherlands\", \"line\": {\"width\": 3.044522437723423, \"color\": \"red\"}}, {\"type\": \"scattergeo\", \"lon\": [-4, 2], \"lat\": [40, 46], \"mode\": \"lines+marker\", \"name\": \"Spain\", \"line\": {\"width\": 3.514543782074831, \"color\": \"red\"}}, {\"type\": \"scattergeo\", \"lon\": [-70.66666666, 2], \"lat\": [19, 46], \"mode\": \"lines+marker\", \"name\": \"Dominican Republic\", \"line\": {\"width\": 0.6931471805599453, \"color\": \"red\"}}, {\"type\": \"scattergeo\", \"lon\": [-2.58333333, 2], \"lat\": [49.46666666, 46], \"mode\": \"lines+marker\", \"name\": \"Guernsey\", \"line\": {\"width\": 0.5493061443340549, \"color\": \"red\"}}, {\"type\": \"scattergeo\", \"lon\": [-5, 2], \"lat\": [32, 46], \"mode\": \"lines+marker\", \"name\": \"Morocco\", \"line\": {\"width\": 2.3636939093561704, \"color\": \"red\"}}, {\"type\": \"scattergeo\", \"lon\": [112.5, 2], \"lat\": [2.5, 46], \"mode\": \"lines+marker\", \"name\": \"Malaysia\", \"line\": {\"width\": 1.0986122886681098, \"color\": \"red\"}}, {\"type\": \"scattergeo\", \"lon\": [47, 2], \"lat\": [-20, 46], \"mode\": \"lines+marker\", \"name\": \"Madagascar\", \"line\": {\"width\": 1.9033312448851598, \"color\": \"red\"}}, {\"type\": \"scattergeo\", \"lon\": [-64, 2], \"lat\": [-34, 46], \"mode\": \"lines+marker\", \"name\": \"Argentina\", \"line\": {\"width\": 1.0397207708399179, \"color\": \"red\"}}, {\"type\": \"scattergeo\", \"lon\": [9.53333333, 2], \"lat\": [47.26666666, 46], \"mode\": \"lines+marker\", \"name\": \"Liechtenstein\", \"line\": {\"width\": 0.8047189562170501, \"color\": \"red\"}}, {\"type\": \"scattergeo\", \"lon\": [9, 2], \"lat\": [34, 46], \"mode\": \"lines+marker\", \"name\": \"Tunisia\", \"line\": {\"width\": 1.7005986908310777, \"color\": \"red\"}}, {\"type\": \"scattergeo\", \"lon\": [-80, 2], \"lat\": [9, 46], \"mode\": \"lines+marker\", \"name\": \"Panama\", \"line\": {\"width\": 0.0, \"color\": \"red\"}}, {\"type\": \"scattergeo\", \"lon\": [18, 2], \"lat\": [44, 46], \"mode\": \"lines+marker\", \"name\": \"Bosnia and Herzegovina\", \"line\": {\"width\": 0.34657359027997264, \"color\": \"red\"}}, {\"type\": \"scattergeo\", \"lon\": [8, 2], \"lat\": [47, 46], \"mode\": \"lines+marker\", \"name\": \"Switzerland\", \"line\": {\"width\": 2.70805020110221, \"color\": \"red\"}}, {\"type\": \"scattergeo\", \"lon\": [6.16666666, 2], \"lat\": [49.75, 46], \"mode\": \"lines+marker\", \"name\": \"Luxembourg\", \"line\": {\"width\": 1.5890269151739729, \"color\": \"red\"}}, {\"type\": \"scattergeo\", \"lon\": [98, 2], \"lat\": [22, 46], \"mode\": \"lines+marker\", \"name\": \"Myanmar\", \"line\": {\"width\": 0.34657359027997264, \"color\": \"red\"}}, {\"type\": \"scattergeo\", \"lon\": [57.55, 2], \"lat\": [-20.28333333, 46], \"mode\": \"lines+marker\", \"name\": \"Mauritius\", \"line\": {\"width\": 0.8047189562170501, \"color\": \"red\"}}, {\"type\": \"scattergeo\", \"lon\": [17, 2], \"lat\": [-22, 46], \"mode\": \"lines+marker\", \"name\": \"Namibia\", \"line\": {\"width\": 0.34657359027997264, \"color\": \"red\"}}, {\"type\": \"scattergeo\", \"lon\": [8, 2], \"lat\": [16, 46], \"mode\": \"lines+marker\", \"name\": \"Niger\", \"line\": {\"width\": 1.791759469228055, \"color\": \"red\"}}, {\"type\": \"scattergeo\", \"lon\": [-2, 2], \"lat\": [8, 46], \"mode\": \"lines+marker\", \"name\": \"Ghana\", \"line\": {\"width\": 1.0397207708399179, \"color\": \"red\"}}, {\"type\": \"scattergeo\", \"lon\": [25, 2], \"lat\": [46, 46], \"mode\": \"lines+marker\", \"name\": \"Romania\", \"line\": {\"width\": 1.1989476363991853, \"color\": \"red\"}}, {\"type\": \"scattergeo\", \"lon\": [24, 2], \"lat\": [-29, 46], \"mode\": \"lines+marker\", \"name\": \"South Africa\", \"line\": {\"width\": 1.629048269010741, \"color\": \"red\"}}, {\"type\": \"scattergeo\", \"lon\": [165.5, 2], \"lat\": [-21.5, 46], \"mode\": \"lines+marker\", \"name\": \"New Caledonia\", \"line\": {\"width\": 0.8047189562170501, \"color\": \"red\"}}, {\"type\": \"scattergeo\", \"lon\": [26, 2], \"lat\": [59, 46], \"mode\": \"lines+marker\", \"name\": \"Estonia\", \"line\": {\"width\": 0.8047189562170501, \"color\": \"red\"}}, {\"type\": \"scattergeo\", \"lon\": [-59, 2], \"lat\": [5, 46], \"mode\": \"lines+marker\", \"name\": \"Guyana\", \"line\": {\"width\": 0.0, \"color\": \"red\"}}, {\"type\": \"scattergeo\", \"lon\": [13.33333333, 2], \"lat\": [47.33333333, 46], \"mode\": \"lines+marker\", \"name\": \"Austria\", \"line\": {\"width\": 2.266299746576628, \"color\": \"red\"}}, {\"type\": \"scattergeo\", \"lon\": [122, 2], \"lat\": [13, 46], \"mode\": \"lines+marker\", \"name\": \"Philippines\", \"line\": {\"width\": 1.7482537807332401, \"color\": \"red\"}}, {\"type\": \"scattergeo\", \"lon\": [2, 2], \"lat\": [46, 46], \"mode\": \"lines+marker\", \"name\": \"France\", \"line\": {\"width\": 5.0762858589253455, \"color\": \"red\"}}, {\"type\": \"scattergeo\", \"lon\": [-2, 2], \"lat\": [54, 46], \"mode\": \"lines+marker\", \"name\": \"United Kingdom\", \"line\": {\"width\": 4.1407354289475835, \"color\": \"red\"}}, {\"type\": \"scattergeo\", \"lon\": [114.188, 2], \"lat\": [22.267, 46], \"mode\": \"lines+marker\", \"name\": \"Hong Kong\", \"line\": {\"width\": 1.4451858789480823, \"color\": \"red\"}}, {\"type\": \"scattergeo\", \"lon\": [3, 2], \"lat\": [28, 46], \"mode\": \"lines+marker\", \"name\": \"Algeria\", \"line\": {\"width\": 1.151292546497023, \"color\": \"red\"}}, {\"type\": \"scattergeo\", \"lon\": [10, 2], \"lat\": [62, 46], \"mode\": \"lines+marker\", \"name\": \"Norway\", \"line\": {\"width\": 1.2824746787307684, \"color\": \"red\"}}, {\"type\": \"scattergeo\", \"lon\": [100, 2], \"lat\": [15, 46], \"mode\": \"lines+marker\", \"name\": \"Thailand\", \"line\": {\"width\": 2.626136714023315, \"color\": \"red\"}}, {\"type\": \"scattergeo\", \"lon\": [14.58333333, 2], \"lat\": [35.83333333, 46], \"mode\": \"lines+marker\", \"name\": \"Malta\", \"line\": {\"width\": 0.0, \"color\": \"red\"}}, {\"type\": \"scattergeo\", \"lon\": [4, 2], \"lat\": [50.83333333, 46], \"mode\": \"lines+marker\", \"name\": \"Belgium\", \"line\": {\"width\": 3.6109179126442243, \"color\": \"red\"}}, {\"type\": \"scattergeo\", \"lon\": [-63.41666666, 2], \"lat\": [18.5, 46], \"mode\": \"lines+marker\", \"name\": \"Saint Barth\\u00e9lemy\", \"line\": {\"width\": 0.0, \"color\": \"red\"}}, {\"type\": \"scattergeo\", \"lon\": [-55, 2], \"lat\": [-10, 46], \"mode\": \"lines+marker\", \"name\": \"Brazil\", \"line\": {\"width\": 1.1989476363991853, \"color\": \"red\"}}, {\"type\": \"scattergeo\", \"lon\": [1.16666666, 2], \"lat\": [8, 46], \"mode\": \"lines+marker\", \"name\": \"Togo\", \"line\": {\"width\": 0.34657359027997264, \"color\": \"red\"}}, {\"type\": \"scattergeo\", \"lon\": [19.5, 2], \"lat\": [48.66666666, 46], \"mode\": \"lines+marker\", \"name\": \"Slovakia\", \"line\": {\"width\": 0.9729550745276566, \"color\": \"red\"}}, {\"type\": \"scattergeo\", \"lon\": [55.66666666, 2], \"lat\": [-4.58333333, 46], \"mode\": \"lines+marker\", \"name\": \"Seychelles\", \"line\": {\"width\": 1.1989476363991853, \"color\": \"red\"}}, {\"type\": \"scattergeo\", \"lon\": [45, 2], \"lat\": [25, 46], \"mode\": \"lines+marker\", \"name\": \"Saudi Arabia\", \"line\": {\"width\": 0.0, \"color\": \"red\"}}, {\"type\": \"scattergeo\", \"lon\": [15, 2], \"lat\": [62, 46], \"mode\": \"lines+marker\", \"name\": \"Sweden\", \"line\": {\"width\": 2.152032546602085, \"color\": \"red\"}}, {\"type\": \"scattergeo\", \"lon\": [-18, 2], \"lat\": [65, 46], \"mode\": \"lines+marker\", \"name\": \"Iceland\", \"line\": {\"width\": 1.666102255087602, \"color\": \"red\"}}, {\"type\": \"scattergeo\", \"lon\": [-65, 2], \"lat\": [-17, 46], \"mode\": \"lines+marker\", \"name\": \"Bolivia\", \"line\": {\"width\": 2.317364494114818, \"color\": \"red\"}}, {\"type\": \"scattergeo\", \"lon\": [-76, 2], \"lat\": [-10, 46], \"mode\": \"lines+marker\", \"name\": \"Peru\", \"line\": {\"width\": 1.7328679513998633, \"color\": \"red\"}}, {\"type\": \"scattergeo\", \"lon\": [-77.5, 2], \"lat\": [-2, 46], \"mode\": \"lines+marker\", \"name\": \"Ecuador\", \"line\": {\"width\": 1.2424533248940002, \"color\": \"red\"}}, {\"type\": \"scattergeo\", \"lon\": [-102, 2], \"lat\": [23, 46], \"mode\": \"lines+marker\", \"name\": \"Mexico\", \"line\": {\"width\": 2.5795276496072646, \"color\": \"red\"}}, {\"type\": \"scattergeo\", \"lon\": [31.5, 2], \"lat\": [-26.5, 46], \"mode\": \"lines+marker\", \"name\": \"Eswatini\", \"line\": {\"width\": 0.0, \"color\": \"red\"}}, {\"type\": \"scattergeo\", \"lon\": [105, 2], \"lat\": [18, 46], \"mode\": \"lines+marker\", \"name\": \"Laos\", \"line\": {\"width\": 0.34657359027997264, \"color\": \"red\"}}, {\"type\": \"scattergeo\", \"lon\": [38, 2], \"lat\": [1, 46], \"mode\": \"lines+marker\", \"name\": \"Kenya\", \"line\": {\"width\": 1.3195286648076292, \"color\": \"red\"}}, {\"type\": \"scattergeo\", \"lon\": [22, 2], \"lat\": [41.83333333, 46], \"mode\": \"lines+marker\", \"name\": \"Macedonia\", \"line\": {\"width\": 1.0986122886681098, \"color\": \"red\"}}, {\"type\": \"scattergeo\", \"lon\": [-61, 2], \"lat\": [14.666667, 46], \"mode\": \"lines+marker\", \"name\": \"Martinique\", \"line\": {\"width\": 1.354025100551105, \"color\": \"red\"}}, {\"type\": \"scattergeo\", \"lon\": [121, 2], \"lat\": [23.5, 46], \"mode\": \"lines+marker\", \"name\": \"Taiwan\", \"line\": {\"width\": 2.3502401828962083, \"color\": \"red\"}}, {\"type\": \"scattergeo\", \"lon\": [14.81666666, 2], \"lat\": [46.11666666, 46], \"mode\": \"lines+marker\", \"name\": \"Slovenia\", \"line\": {\"width\": 1.2824746787307684, \"color\": \"red\"}}, {\"type\": \"scattergeo\", \"lon\": [15.5, 2], \"lat\": [45.16666666, 46], \"mode\": \"lines+marker\", \"name\": \"Croatia\", \"line\": {\"width\": 1.7631802623080808, \"color\": \"red\"}}, {\"type\": \"scattergeo\", \"lon\": [20, 2], \"lat\": [47, 46], \"mode\": \"lines+marker\", \"name\": \"Hungary\", \"line\": {\"width\": 1.6479184330021646, \"color\": \"red\"}}, {\"type\": \"scattergeo\", \"lon\": [45, 2], \"lat\": [40, 46], \"mode\": \"lines+marker\", \"name\": \"Armenia\", \"line\": {\"width\": 0.8958797346140275, \"color\": \"red\"}}, {\"type\": \"scattergeo\", \"lon\": [-24, 2], \"lat\": [16, 46], \"mode\": \"lines+marker\", \"name\": \"Cape Verde\", \"line\": {\"width\": 0.34657359027997264, \"color\": \"red\"}}, {\"type\": \"scattergeo\", \"lon\": [28, 2], \"lat\": [53, 46], \"mode\": \"lines+marker\", \"name\": \"Belarus\", \"line\": {\"width\": 0.5493061443340549, \"color\": \"red\"}}, {\"type\": \"scattergeo\", \"lon\": [-80, 2], \"lat\": [21.5, 46], \"mode\": \"lines+marker\", \"name\": \"Cuba\", \"line\": {\"width\": 0.6931471805599453, \"color\": \"red\"}}, {\"type\": \"scattergeo\", \"lon\": [-56.33333333, 2], \"lat\": [46.83333333, 46], \"mode\": \"lines+marker\", \"name\": \"Saint Pierre and Miquelon\", \"line\": {\"width\": 0.0, \"color\": \"red\"}}, {\"type\": \"scattergeo\", \"lon\": [12, 2], \"lat\": [6, 46], \"mode\": \"lines+marker\", \"name\": \"Cameroon\", \"line\": {\"width\": 0.8958797346140275, \"color\": \"red\"}}, {\"type\": \"scattergeo\", \"lon\": [33, 2], \"lat\": [35, 46], \"mode\": \"lines+marker\", \"name\": \"Cyprus\", \"line\": {\"width\": 0.9729550745276566, \"color\": \"red\"}}, {\"type\": \"scattergeo\", \"lon\": [35, 2], \"lat\": [-6, 46], \"mode\": \"lines+marker\", \"name\": \"Tanzania\", \"line\": {\"width\": 0.0, \"color\": \"red\"}}, {\"type\": \"scattergeo\", \"lon\": [35.13, 2], \"lat\": [31.47, 46], \"mode\": \"lines+marker\", \"name\": \"Israel\", \"line\": {\"width\": 1.4722194895832201, \"color\": \"red\"}}, {\"type\": \"scattergeo\", \"lon\": [-63.95, 2], \"lat\": [18.08333333, 46], \"mode\": \"lines+marker\", \"name\": \"Saint Martin\", \"line\": {\"width\": 0.0, \"color\": \"red\"}}, {\"type\": \"scattergeo\", \"lon\": [70, 2], \"lat\": [30, 46], \"mode\": \"lines+marker\", \"name\": \"Pakistan\", \"line\": {\"width\": 1.0397207708399179, \"color\": \"red\"}}, {\"type\": \"scattergeo\", \"lon\": [-140, 2], \"lat\": [-15, 46], \"mode\": \"lines+marker\", \"name\": \"French Polynesia\", \"line\": {\"width\": 1.2824746787307684, \"color\": \"red\"}}, {\"type\": \"scattergeo\", \"lon\": [166.633333, 2], \"lat\": [19.3, 46], \"mode\": \"lines+marker\", \"name\": \"United States Minor Outlying Islands\", \"line\": {\"width\": 1.7482537807332401, \"color\": \"red\"}}, {\"type\": \"scattergeo\", \"lon\": [107.83333333, 2], \"lat\": [16.16666666, 46], \"mode\": \"lines+marker\", \"name\": \"Vietnam\", \"line\": {\"width\": 2.0871936349478184, \"color\": \"red\"}}, {\"type\": \"scattergeo\", \"lon\": [38, 2], \"lat\": [8, 46], \"mode\": \"lines+marker\", \"name\": \"Ethiopia\", \"line\": {\"width\": 0.0, \"color\": \"red\"}}, {\"type\": \"scattergeo\", \"lon\": [55.5, 2], \"lat\": [-21.15, 46], \"mode\": \"lines+marker\", \"name\": \"R\\u00e9union\", \"line\": {\"width\": 1.9756218592907138, \"color\": \"red\"}}, {\"type\": \"scattergeo\", \"lon\": [127.5, 2], \"lat\": [37, 46], \"mode\": \"lines+marker\", \"name\": \"South Korea\", \"line\": {\"width\": 1.151292546497023, \"color\": \"red\"}}, {\"type\": \"scattergeo\", \"lon\": [105, 2], \"lat\": [35, 46], \"mode\": \"lines+marker\", \"name\": \"China\", \"line\": {\"width\": 2.6615049895692042, \"color\": \"red\"}}, {\"type\": \"scattergeo\", \"lon\": [22, 2], \"lat\": [39, 46], \"mode\": \"lines+marker\", \"name\": \"Greece\", \"line\": {\"width\": 2.6020033435383976, \"color\": \"red\"}}, {\"type\": \"scattergeo\", \"lon\": [77, 2], \"lat\": [20, 46], \"mode\": \"lines+marker\", \"name\": \"India\", \"line\": {\"width\": 1.545521226679158, \"color\": \"red\"}}, {\"type\": \"scattergeo\", \"lon\": [26, 2], \"lat\": [64, 46], \"mode\": \"lines+marker\", \"name\": \"Finland\", \"line\": {\"width\": 1.0986122886681098, \"color\": \"red\"}}, {\"type\": \"scattergeo\", \"lon\": [103.8, 2], \"lat\": [1.36666666, 46], \"mode\": \"lines+marker\", \"name\": \"Singapore\", \"line\": {\"width\": 0.8958797346140275, \"color\": \"red\"}}, {\"type\": \"scattergeo\", \"lon\": [35.83333333, 2], \"lat\": [33.83333333, 46], \"mode\": \"lines+marker\", \"name\": \"Lebanon\", \"line\": {\"width\": 1.0986122886681098, \"color\": \"red\"}}, {\"type\": \"scattergeo\", \"lon\": [120, 2], \"lat\": [-5, 46], \"mode\": \"lines+marker\", \"name\": \"Indonesia\", \"line\": {\"width\": 1.3862943611198906, \"color\": \"red\"}}, {\"type\": \"scattergeo\", \"lon\": [53, 2], \"lat\": [32, 46], \"mode\": \"lines+marker\", \"name\": \"Iran\", \"line\": {\"width\": 2.04717228111105, \"color\": \"red\"}}, {\"type\": \"scattergeo\", \"lon\": [-8, 2], \"lat\": [39.5, 46], \"mode\": \"lines+marker\", \"name\": \"Portugal\", \"line\": {\"width\": 2.372466064181625, \"color\": \"red\"}}, {\"type\": \"scattergeo\", \"lon\": [-68.25, 2], \"lat\": [12.18, 46], \"mode\": \"lines+marker\", \"name\": \"Caribbean Netherlands\", \"line\": {\"width\": 0.34657359027997264, \"color\": \"red\"}}, {\"type\": \"scattergeo\", \"lon\": [-95, 2], \"lat\": [60, 46], \"mode\": \"lines+marker\", \"name\": \"Canada\", \"line\": {\"width\": 2.719039654461598, \"color\": \"red\"}}, {\"type\": \"scattergeo\", \"lon\": [-172.33333333, 2], \"lat\": [-13.58333333, 46], \"mode\": \"lines+marker\", \"name\": \"Samoa\", \"line\": {\"width\": 1.545521226679158, \"color\": \"red\"}}, {\"type\": \"scattergeo\", \"lon\": [168, 2], \"lat\": [9, 46], \"mode\": \"lines+marker\", \"name\": \"Marshall Islands\", \"line\": {\"width\": 1.0986122886681098, \"color\": \"red\"}}, {\"type\": \"scattergeo\", \"lon\": [7.4, 2], \"lat\": [43.73333333, 46], \"mode\": \"lines+marker\", \"name\": \"Monaco\", \"line\": {\"width\": 0.8047189562170501, \"color\": \"red\"}}, {\"type\": \"scattergeo\", \"lon\": [-84, 2], \"lat\": [10, 46], \"mode\": \"lines+marker\", \"name\": \"Costa Rica\", \"line\": {\"width\": 0.9729550745276566, \"color\": \"red\"}}, {\"type\": \"scattergeo\", \"lon\": [25, 2], \"lat\": [57, 46], \"mode\": \"lines+marker\", \"name\": \"Latvia\", \"line\": {\"width\": 0.9729550745276566, \"color\": \"red\"}}, {\"type\": \"scattergeo\", \"lon\": [69.167, 2], \"lat\": [-49.25, 46], \"mode\": \"lines+marker\", \"name\": \"French Southern and Antarctic Lands\", \"line\": {\"width\": 1.0397207708399179, \"color\": \"red\"}}, {\"type\": \"scattergeo\", \"lon\": [-53, 2], \"lat\": [4, 46], \"mode\": \"lines+marker\", \"name\": \"French Guiana\", \"line\": {\"width\": 1.1989476363991853, \"color\": \"red\"}}, {\"type\": \"scattergeo\", \"lon\": [173, 2], \"lat\": [1.41666666, 46], \"mode\": \"lines+marker\", \"name\": \"Kiribati\", \"line\": {\"width\": 0.34657359027997264, \"color\": \"red\"}}, {\"type\": \"scattergeo\", \"lon\": [20, 2], \"lat\": [41, 46], \"mode\": \"lines+marker\", \"name\": \"Albania\", \"line\": {\"width\": 0.0, \"color\": \"red\"}}, {\"type\": \"scattergeo\", \"lon\": [43.5, 2], \"lat\": [42, 46], \"mode\": \"lines+marker\", \"name\": \"Georgia\", \"line\": {\"width\": 1.0397207708399179, \"color\": \"red\"}}, {\"type\": \"scattergeo\", \"lon\": [-97, 2], \"lat\": [38, 46], \"mode\": \"lines+marker\", \"name\": \"United States\", \"line\": {\"width\": 3.0645251050302726, \"color\": \"red\"}}, {\"type\": \"scattergeo\", \"lon\": [-8, 2], \"lat\": [53, 46], \"mode\": \"lines+marker\", \"name\": \"Ireland\", \"line\": {\"width\": 2.372466064181625, \"color\": \"red\"}}, {\"type\": \"scattergeo\", \"lon\": [138, 2], \"lat\": [36, 46], \"mode\": \"lines+marker\", \"name\": \"Japan\", \"line\": {\"width\": 2.1972245773362196, \"color\": \"red\"}}, {\"type\": \"scattergeo\", \"lon\": [20, 2], \"lat\": [52, 46], \"mode\": \"lines+marker\", \"name\": \"Poland\", \"line\": {\"width\": 2.445174564110877, \"color\": \"red\"}}, {\"type\": \"scattergeo\", \"lon\": [-80.5, 2], \"lat\": [19.5, 46], \"mode\": \"lines+marker\", \"name\": \"Cayman Islands\", \"line\": {\"width\": 0.34657359027997264, \"color\": \"red\"}}, {\"type\": \"scattergeo\", \"lon\": [10, 2], \"lat\": [56, 46], \"mode\": \"lines+marker\", \"name\": \"Denmark\", \"line\": {\"width\": 1.9944920232821373, \"color\": \"red\"}}, {\"type\": \"scattergeo\", \"lon\": [-88.91666666, 2], \"lat\": [13.83333333, 46], \"mode\": \"lines+marker\", \"name\": \"El Salvador\", \"line\": {\"width\": 0.0, \"color\": \"red\"}}, {\"type\": \"scattergeo\", \"lon\": [-71, 2], \"lat\": [-30, 46], \"mode\": \"lines+marker\", \"name\": \"Chile\", \"line\": {\"width\": 0.8958797346140275, \"color\": \"red\"}}, {\"type\": \"scattergeo\", \"lon\": [133, 2], \"lat\": [-27, 46], \"mode\": \"lines+marker\", \"name\": \"Australia\", \"line\": {\"width\": 2.4414009612931853, \"color\": \"red\"}}, {\"type\": \"scattergeo\", \"lon\": [-72, 2], \"lat\": [4, 46], \"mode\": \"lines+marker\", \"name\": \"Colombia\", \"line\": {\"width\": 0.8958797346140275, \"color\": \"red\"}}, {\"type\": \"scattergeo\", \"lon\": [21, 2], \"lat\": [44, 46], \"mode\": \"lines+marker\", \"name\": \"Serbia\", \"line\": {\"width\": 1.5222612188617115, \"color\": \"red\"}}], {\"title\": \"Manufacturing countries of products\", \"geo\": {\"projection\": {\"type\": \"Mercator\"}, \"showframe\": false, \"showcoastlines\": true, \"showland\": true, \"landcolor\": \"rgb(229, 229, 229)\", \"countrycolor\": \"rgb(255, 255, 255)\", \"coastlinecolor\": \"rgb(255, 255, 255)\"}, \"showlegend\": false, \"xaxis\": {\"fixedrange\": true}, \"yaxis\": {\"fixedrange\": true}}, {\"showLink\": true, \"linkText\": \"Export to plot.ly\", \"plotlyServerURL\": \"https://plot.ly\"})});</script><script type=\"text/javascript\">window.addEventListener(\"resize\", function(){window._Plotly.Plots.resize(document.getElementById(\"f747180d-8694-4a0f-896f-3f735e4e75ac\"));});</script>"
      ],
      "text/vnd.plotly.v1+html": [
       "<div id=\"f747180d-8694-4a0f-896f-3f735e4e75ac\" style=\"height: 525px; width: 100%;\" class=\"plotly-graph-div\"></div><script type=\"text/javascript\">require([\"plotly\"], function(Plotly) { window.PLOTLYENV=window.PLOTLYENV || {};window.PLOTLYENV.BASE_URL=\"https://plot.ly\";Plotly.newPlot(\"f747180d-8694-4a0f-896f-3f735e4e75ac\", [{\"type\": \"choropleth\", \"locations\": [\"PRI\", \"AZE\", \"DEU\", \"LTU\", \"MYT\", \"VEN\", \"STP\", \"NFK\", \"CIV\", \"MDA\", \"GLP\", \"TUR\", \"ITA\", \"RUS\", \"NZL\", \"LKA\", \"CZE\", \"URY\", \"UKR\", \"BRN\", \"PRY\", \"SEN\", \"BGR\", \"BGD\", \"PNG\", \"NLD\", \"ESP\", \"DOM\", \"GGY\", \"MAR\", \"MYS\", \"MDG\", \"ARG\", \"LIE\", \"TUN\", \"PAN\", \"BIH\", \"CHE\", \"LUX\", \"MMR\", \"MUS\", \"NAM\", \"NER\", \"GHA\", \"ROU\", \"ZAF\", \"NCL\", \"EST\", \"GUY\", \"AUT\", \"PHL\", \"FRA\", \"GBR\", \"HKG\", \"DZA\", \"NOR\", \"THA\", \"MLT\", \"BEL\", \"BLM\", \"BRA\", \"TGO\", \"SVK\", \"SYC\", \"SAU\", \"SWE\", \"ISL\", \"BOL\", \"PER\", \"ECU\", \"MEX\", \"SWZ\", \"LAO\", \"KEN\", \"MKD\", \"MTQ\", \"TWN\", \"SVN\", \"HRV\", \"HUN\", \"ARM\", \"CPV\", \"BLR\", \"CUB\", \"SPM\", \"CMR\", \"CYP\", \"TZA\", \"ISR\", \"MAF\", \"PAK\", \"PYF\", \"UMI\", \"VNM\", \"ETH\", \"REU\", \"KOR\", \"CHN\", \"GRC\", \"IND\", \"FIN\", \"SGP\", \"LBN\", \"IDN\", \"IRN\", \"PRT\", \"BES\", \"CAN\", \"WSM\", \"MHL\", \"MCO\", \"CRI\", \"LVA\", \"ATF\", \"GUF\", \"KIR\", \"ALB\", \"GEO\", \"USA\", \"IRL\", \"JPN\", \"POL\", \"CYM\", \"DNK\", \"SLV\", \"CHL\", \"AUS\", \"COL\", \"SRB\"], \"z\": [0.6931471805599453, 0.0, 7.891330757661889, 3.295836866004329, 1.6094379124341003, 2.995732273553991, 0.6931471805599453, 2.9444389791664403, 2.1972245773362196, 2.1972245773362196, 2.9444389791664403, 3.7612001156935624, 7.224753405767971, 5.351858133476067, 2.5649493574615367, 3.367295829986474, 3.1780538303479458, 0.6931471805599453, 1.9459101490553132, 0.6931471805599453, 0.0, 1.3862943611198906, 3.4011973816621555, 0.0, 0.6931471805599453, 6.089044875446846, 7.029087564149662, 1.3862943611198906, 1.0986122886681098, 4.727387818712341, 2.1972245773362196, 3.8066624897703196, 2.0794415416798357, 1.6094379124341003, 3.4011973816621555, 0.0, 0.6931471805599453, 5.41610040220442, 3.1780538303479458, 0.6931471805599453, 1.6094379124341003, 0.6931471805599453, 3.58351893845611, 2.0794415416798357, 2.3978952727983707, 3.258096538021482, 1.6094379124341003, 1.6094379124341003, 0.0, 4.532599493153256, 3.4965075614664802, 10.152571717850691, 8.281470857895167, 2.8903717578961645, 2.302585092994046, 2.5649493574615367, 5.25227342804663, 0.0, 7.221835825288449, 0.0, 2.3978952727983707, 0.6931471805599453, 1.9459101490553132, 2.3978952727983707, 0.0, 4.30406509320417, 3.332204510175204, 4.634728988229636, 3.4657359027997265, 2.4849066497880004, 5.159055299214529, 0.0, 0.6931471805599453, 2.6390573296152584, 2.1972245773362196, 2.70805020110221, 4.700480365792417, 2.5649493574615367, 3.5263605246161616, 3.295836866004329, 1.791759469228055, 0.6931471805599453, 1.0986122886681098, 1.3862943611198906, 0.0, 1.791759469228055, 1.9459101490553132, 0.0, 2.9444389791664403, 0.0, 2.0794415416798357, 2.5649493574615367, 3.4965075614664802, 4.174387269895637, 0.0, 3.9512437185814275, 2.302585092994046, 5.3230099791384085, 5.204006687076795, 3.091042453358316, 2.1972245773362196, 1.791759469228055, 2.1972245773362196, 2.772588722239781, 4.0943445622221, 4.74493212836325, 0.6931471805599453, 5.438079308923196, 3.091042453358316, 2.1972245773362196, 1.6094379124341003, 1.9459101490553132, 1.9459101490553132, 2.0794415416798357, 2.3978952727983707, 0.6931471805599453, 0.0, 2.0794415416798357, 6.129050210060545, 4.74493212836325, 4.394449154672439, 4.890349128221754, 0.6931471805599453, 3.9889840465642745, 0.0, 1.791759469228055, 4.882801922586371, 1.791759469228055, 3.044522437723423], \"name\": [\"Puerto Rico\", \"Azerbaijan\", \"Germany\", \"Lithuania\", \"Mayotte\", \"Venezuela\", \"S\\u00e3o Tom\\u00e9 and Pr\\u00edncipe\", \"Norfolk Island\", \"Ivory Coast\", \"Moldova\", \"Guadeloupe\", \"Turkey\", \"Italy\", \"Russia\", \"New Zealand\", \"Sri Lanka\", \"Czechia\", \"Uruguay\", \"Ukraine\", \"Brunei\", \"Paraguay\", \"Senegal\", \"Bulgaria\", \"Bangladesh\", \"Papua New Guinea\", \"Netherlands\", \"Spain\", \"Dominican Republic\", \"Guernsey\", \"Morocco\", \"Malaysia\", \"Madagascar\", \"Argentina\", \"Liechtenstein\", \"Tunisia\", \"Panama\", \"Bosnia and Herzegovina\", \"Switzerland\", \"Luxembourg\", \"Myanmar\", \"Mauritius\", \"Namibia\", \"Niger\", \"Ghana\", \"Romania\", \"South Africa\", \"New Caledonia\", \"Estonia\", \"Guyana\", \"Austria\", \"Philippines\", \"France\", \"United Kingdom\", \"Hong Kong\", \"Algeria\", \"Norway\", \"Thailand\", \"Malta\", \"Belgium\", \"Saint Barth\\u00e9lemy\", \"Brazil\", \"Togo\", \"Slovakia\", \"Seychelles\", \"Saudi Arabia\", \"Sweden\", \"Iceland\", \"Bolivia\", \"Peru\", \"Ecuador\", \"Mexico\", \"Eswatini\", \"Laos\", \"Kenya\", \"Macedonia\", \"Martinique\", \"Taiwan\", \"Slovenia\", \"Croatia\", \"Hungary\", \"Armenia\", \"Cape Verde\", \"Belarus\", \"Cuba\", \"Saint Pierre and Miquelon\", \"Cameroon\", \"Cyprus\", \"Tanzania\", \"Israel\", \"Saint Martin\", \"Pakistan\", \"French Polynesia\", \"United States Minor Outlying Islands\", \"Vietnam\", \"Ethiopia\", \"R\\u00e9union\", \"South Korea\", \"China\", \"Greece\", \"India\", \"Finland\", \"Singapore\", \"Lebanon\", \"Indonesia\", \"Iran\", \"Portugal\", \"Caribbean Netherlands\", \"Canada\", \"Samoa\", \"Marshall Islands\", \"Monaco\", \"Costa Rica\", \"Latvia\", \"French Southern and Antarctic Lands\", \"French Guiana\", \"Kiribati\", \"Albania\", \"Georgia\", \"United States\", \"Ireland\", \"Japan\", \"Poland\", \"Cayman Islands\", \"Denmark\", \"El Salvador\", \"Chile\", \"Australia\", \"Colombia\", \"Serbia\"], \"autocolorscale\": false, \"reversescale\": true, \"colorbar\": {\"autotick\": true, \"title\": \"Counts\"}}, {\"type\": \"scattergeo\", \"lon\": [-66.5, 2], \"lat\": [18.25, 46], \"mode\": \"lines+marker\", \"name\": \"Puerto Rico\", \"line\": {\"width\": 0.34657359027997264, \"color\": \"red\"}}, {\"type\": \"scattergeo\", \"lon\": [47.5, 2], \"lat\": [40.5, 46], \"mode\": \"lines+marker\", \"name\": \"Azerbaijan\", \"line\": {\"width\": 0.0, \"color\": \"red\"}}, {\"type\": \"scattergeo\", \"lon\": [9, 2], \"lat\": [51, 46], \"mode\": \"lines+marker\", \"name\": \"Germany\", \"line\": {\"width\": 3.9456653788309444, \"color\": \"red\"}}, {\"type\": \"scattergeo\", \"lon\": [24, 2], \"lat\": [56, 46], \"mode\": \"lines+marker\", \"name\": \"Lithuania\", \"line\": {\"width\": 1.6479184330021646, \"color\": \"red\"}}, {\"type\": \"scattergeo\", \"lon\": [45.16666666, 2], \"lat\": [-12.83333333, 46], \"mode\": \"lines+marker\", \"name\": \"Mayotte\", \"line\": {\"width\": 0.8047189562170501, \"color\": \"red\"}}, {\"type\": \"scattergeo\", \"lon\": [-66, 2], \"lat\": [8, 46], \"mode\": \"lines+marker\", \"name\": \"Venezuela\", \"line\": {\"width\": 1.4978661367769954, \"color\": \"red\"}}, {\"type\": \"scattergeo\", \"lon\": [7, 2], \"lat\": [1, 46], \"mode\": \"lines+marker\", \"name\": \"S\\u00e3o Tom\\u00e9 and Pr\\u00edncipe\", \"line\": {\"width\": 0.34657359027997264, \"color\": \"red\"}}, {\"type\": \"scattergeo\", \"lon\": [167.95, 2], \"lat\": [-29.03333333, 46], \"mode\": \"lines+marker\", \"name\": \"Norfolk Island\", \"line\": {\"width\": 1.4722194895832201, \"color\": \"red\"}}, {\"type\": \"scattergeo\", \"lon\": [-5, 2], \"lat\": [8, 46], \"mode\": \"lines+marker\", \"name\": \"Ivory Coast\", \"line\": {\"width\": 1.0986122886681098, \"color\": \"red\"}}, {\"type\": \"scattergeo\", \"lon\": [29, 2], \"lat\": [47, 46], \"mode\": \"lines+marker\", \"name\": \"Moldova\", \"line\": {\"width\": 1.0986122886681098, \"color\": \"red\"}}, {\"type\": \"scattergeo\", \"lon\": [-61.583333, 2], \"lat\": [16.25, 46], \"mode\": \"lines+marker\", \"name\": \"Guadeloupe\", \"line\": {\"width\": 1.4722194895832201, \"color\": \"red\"}}, {\"type\": \"scattergeo\", \"lon\": [35, 2], \"lat\": [39, 46], \"mode\": \"lines+marker\", \"name\": \"Turkey\", \"line\": {\"width\": 1.8806000578467812, \"color\": \"red\"}}, {\"type\": \"scattergeo\", \"lon\": [12.83333333, 2], \"lat\": [42.83333333, 46], \"mode\": \"lines+marker\", \"name\": \"Italy\", \"line\": {\"width\": 3.6123767028839855, \"color\": \"red\"}}, {\"type\": \"scattergeo\", \"lon\": [100, 2], \"lat\": [60, 46], \"mode\": \"lines+marker\", \"name\": \"Russia\", \"line\": {\"width\": 2.6759290667380333, \"color\": \"red\"}}, {\"type\": \"scattergeo\", \"lon\": [174, 2], \"lat\": [-41, 46], \"mode\": \"lines+marker\", \"name\": \"New Zealand\", \"line\": {\"width\": 1.2824746787307684, \"color\": \"red\"}}, {\"type\": \"scattergeo\", \"lon\": [81, 2], \"lat\": [7, 46], \"mode\": \"lines+marker\", \"name\": \"Sri Lanka\", \"line\": {\"width\": 1.683647914993237, \"color\": \"red\"}}, {\"type\": \"scattergeo\", \"lon\": [15.5, 2], \"lat\": [49.75, 46], \"mode\": \"lines+marker\", \"name\": \"Czechia\", \"line\": {\"width\": 1.5890269151739729, \"color\": \"red\"}}, {\"type\": \"scattergeo\", \"lon\": [-56, 2], \"lat\": [-33, 46], \"mode\": \"lines+marker\", \"name\": \"Uruguay\", \"line\": {\"width\": 0.34657359027997264, \"color\": \"red\"}}, {\"type\": \"scattergeo\", \"lon\": [32, 2], \"lat\": [49, 46], \"mode\": \"lines+marker\", \"name\": \"Ukraine\", \"line\": {\"width\": 0.9729550745276566, \"color\": \"red\"}}, {\"type\": \"scattergeo\", \"lon\": [114.66666666, 2], \"lat\": [4.5, 46], \"mode\": \"lines+marker\", \"name\": \"Brunei\", \"line\": {\"width\": 0.34657359027997264, \"color\": \"red\"}}, {\"type\": \"scattergeo\", \"lon\": [-58, 2], \"lat\": [-23, 46], \"mode\": \"lines+marker\", \"name\": \"Paraguay\", \"line\": {\"width\": 0.0, \"color\": \"red\"}}, {\"type\": \"scattergeo\", \"lon\": [-14, 2], \"lat\": [14, 46], \"mode\": \"lines+marker\", \"name\": \"Senegal\", \"line\": {\"width\": 0.6931471805599453, \"color\": \"red\"}}, {\"type\": \"scattergeo\", \"lon\": [25, 2], \"lat\": [43, 46], \"mode\": \"lines+marker\", \"name\": \"Bulgaria\", \"line\": {\"width\": 1.7005986908310777, \"color\": \"red\"}}, {\"type\": \"scattergeo\", \"lon\": [90, 2], \"lat\": [24, 46], \"mode\": \"lines+marker\", \"name\": \"Bangladesh\", \"line\": {\"width\": 0.0, \"color\": \"red\"}}, {\"type\": \"scattergeo\", \"lon\": [147, 2], \"lat\": [-6, 46], \"mode\": \"lines+marker\", \"name\": \"Papua New Guinea\", \"line\": {\"width\": 0.34657359027997264, \"color\": \"red\"}}, {\"type\": \"scattergeo\", \"lon\": [5.75, 2], \"lat\": [52.5, 46], \"mode\": \"lines+marker\", \"name\": \"Netherlands\", \"line\": {\"width\": 3.044522437723423, \"color\": \"red\"}}, {\"type\": \"scattergeo\", \"lon\": [-4, 2], \"lat\": [40, 46], \"mode\": \"lines+marker\", \"name\": \"Spain\", \"line\": {\"width\": 3.514543782074831, \"color\": \"red\"}}, {\"type\": \"scattergeo\", \"lon\": [-70.66666666, 2], \"lat\": [19, 46], \"mode\": \"lines+marker\", \"name\": \"Dominican Republic\", \"line\": {\"width\": 0.6931471805599453, \"color\": \"red\"}}, {\"type\": \"scattergeo\", \"lon\": [-2.58333333, 2], \"lat\": [49.46666666, 46], \"mode\": \"lines+marker\", \"name\": \"Guernsey\", \"line\": {\"width\": 0.5493061443340549, \"color\": \"red\"}}, {\"type\": \"scattergeo\", \"lon\": [-5, 2], \"lat\": [32, 46], \"mode\": \"lines+marker\", \"name\": \"Morocco\", \"line\": {\"width\": 2.3636939093561704, \"color\": \"red\"}}, {\"type\": \"scattergeo\", \"lon\": [112.5, 2], \"lat\": [2.5, 46], \"mode\": \"lines+marker\", \"name\": \"Malaysia\", \"line\": {\"width\": 1.0986122886681098, \"color\": \"red\"}}, {\"type\": \"scattergeo\", \"lon\": [47, 2], \"lat\": [-20, 46], \"mode\": \"lines+marker\", \"name\": \"Madagascar\", \"line\": {\"width\": 1.9033312448851598, \"color\": \"red\"}}, {\"type\": \"scattergeo\", \"lon\": [-64, 2], \"lat\": [-34, 46], \"mode\": \"lines+marker\", \"name\": \"Argentina\", \"line\": {\"width\": 1.0397207708399179, \"color\": \"red\"}}, {\"type\": \"scattergeo\", \"lon\": [9.53333333, 2], \"lat\": [47.26666666, 46], \"mode\": \"lines+marker\", \"name\": \"Liechtenstein\", \"line\": {\"width\": 0.8047189562170501, \"color\": \"red\"}}, {\"type\": \"scattergeo\", \"lon\": [9, 2], \"lat\": [34, 46], \"mode\": \"lines+marker\", \"name\": \"Tunisia\", \"line\": {\"width\": 1.7005986908310777, \"color\": \"red\"}}, {\"type\": \"scattergeo\", \"lon\": [-80, 2], \"lat\": [9, 46], \"mode\": \"lines+marker\", \"name\": \"Panama\", \"line\": {\"width\": 0.0, \"color\": \"red\"}}, {\"type\": \"scattergeo\", \"lon\": [18, 2], \"lat\": [44, 46], \"mode\": \"lines+marker\", \"name\": \"Bosnia and Herzegovina\", \"line\": {\"width\": 0.34657359027997264, \"color\": \"red\"}}, {\"type\": \"scattergeo\", \"lon\": [8, 2], \"lat\": [47, 46], \"mode\": \"lines+marker\", \"name\": \"Switzerland\", \"line\": {\"width\": 2.70805020110221, \"color\": \"red\"}}, {\"type\": \"scattergeo\", \"lon\": [6.16666666, 2], \"lat\": [49.75, 46], \"mode\": \"lines+marker\", \"name\": \"Luxembourg\", \"line\": {\"width\": 1.5890269151739729, \"color\": \"red\"}}, {\"type\": \"scattergeo\", \"lon\": [98, 2], \"lat\": [22, 46], \"mode\": \"lines+marker\", \"name\": \"Myanmar\", \"line\": {\"width\": 0.34657359027997264, \"color\": \"red\"}}, {\"type\": \"scattergeo\", \"lon\": [57.55, 2], \"lat\": [-20.28333333, 46], \"mode\": \"lines+marker\", \"name\": \"Mauritius\", \"line\": {\"width\": 0.8047189562170501, \"color\": \"red\"}}, {\"type\": \"scattergeo\", \"lon\": [17, 2], \"lat\": [-22, 46], \"mode\": \"lines+marker\", \"name\": \"Namibia\", \"line\": {\"width\": 0.34657359027997264, \"color\": \"red\"}}, {\"type\": \"scattergeo\", \"lon\": [8, 2], \"lat\": [16, 46], \"mode\": \"lines+marker\", \"name\": \"Niger\", \"line\": {\"width\": 1.791759469228055, \"color\": \"red\"}}, {\"type\": \"scattergeo\", \"lon\": [-2, 2], \"lat\": [8, 46], \"mode\": \"lines+marker\", \"name\": \"Ghana\", \"line\": {\"width\": 1.0397207708399179, \"color\": \"red\"}}, {\"type\": \"scattergeo\", \"lon\": [25, 2], \"lat\": [46, 46], \"mode\": \"lines+marker\", \"name\": \"Romania\", \"line\": {\"width\": 1.1989476363991853, \"color\": \"red\"}}, {\"type\": \"scattergeo\", \"lon\": [24, 2], \"lat\": [-29, 46], \"mode\": \"lines+marker\", \"name\": \"South Africa\", \"line\": {\"width\": 1.629048269010741, \"color\": \"red\"}}, {\"type\": \"scattergeo\", \"lon\": [165.5, 2], \"lat\": [-21.5, 46], \"mode\": \"lines+marker\", \"name\": \"New Caledonia\", \"line\": {\"width\": 0.8047189562170501, \"color\": \"red\"}}, {\"type\": \"scattergeo\", \"lon\": [26, 2], \"lat\": [59, 46], \"mode\": \"lines+marker\", \"name\": \"Estonia\", \"line\": {\"width\": 0.8047189562170501, \"color\": \"red\"}}, {\"type\": \"scattergeo\", \"lon\": [-59, 2], \"lat\": [5, 46], \"mode\": \"lines+marker\", \"name\": \"Guyana\", \"line\": {\"width\": 0.0, \"color\": \"red\"}}, {\"type\": \"scattergeo\", \"lon\": [13.33333333, 2], \"lat\": [47.33333333, 46], \"mode\": \"lines+marker\", \"name\": \"Austria\", \"line\": {\"width\": 2.266299746576628, \"color\": \"red\"}}, {\"type\": \"scattergeo\", \"lon\": [122, 2], \"lat\": [13, 46], \"mode\": \"lines+marker\", \"name\": \"Philippines\", \"line\": {\"width\": 1.7482537807332401, \"color\": \"red\"}}, {\"type\": \"scattergeo\", \"lon\": [2, 2], \"lat\": [46, 46], \"mode\": \"lines+marker\", \"name\": \"France\", \"line\": {\"width\": 5.0762858589253455, \"color\": \"red\"}}, {\"type\": \"scattergeo\", \"lon\": [-2, 2], \"lat\": [54, 46], \"mode\": \"lines+marker\", \"name\": \"United Kingdom\", \"line\": {\"width\": 4.1407354289475835, \"color\": \"red\"}}, {\"type\": \"scattergeo\", \"lon\": [114.188, 2], \"lat\": [22.267, 46], \"mode\": \"lines+marker\", \"name\": \"Hong Kong\", \"line\": {\"width\": 1.4451858789480823, \"color\": \"red\"}}, {\"type\": \"scattergeo\", \"lon\": [3, 2], \"lat\": [28, 46], \"mode\": \"lines+marker\", \"name\": \"Algeria\", \"line\": {\"width\": 1.151292546497023, \"color\": \"red\"}}, {\"type\": \"scattergeo\", \"lon\": [10, 2], \"lat\": [62, 46], \"mode\": \"lines+marker\", \"name\": \"Norway\", \"line\": {\"width\": 1.2824746787307684, \"color\": \"red\"}}, {\"type\": \"scattergeo\", \"lon\": [100, 2], \"lat\": [15, 46], \"mode\": \"lines+marker\", \"name\": \"Thailand\", \"line\": {\"width\": 2.626136714023315, \"color\": \"red\"}}, {\"type\": \"scattergeo\", \"lon\": [14.58333333, 2], \"lat\": [35.83333333, 46], \"mode\": \"lines+marker\", \"name\": \"Malta\", \"line\": {\"width\": 0.0, \"color\": \"red\"}}, {\"type\": \"scattergeo\", \"lon\": [4, 2], \"lat\": [50.83333333, 46], \"mode\": \"lines+marker\", \"name\": \"Belgium\", \"line\": {\"width\": 3.6109179126442243, \"color\": \"red\"}}, {\"type\": \"scattergeo\", \"lon\": [-63.41666666, 2], \"lat\": [18.5, 46], \"mode\": \"lines+marker\", \"name\": \"Saint Barth\\u00e9lemy\", \"line\": {\"width\": 0.0, \"color\": \"red\"}}, {\"type\": \"scattergeo\", \"lon\": [-55, 2], \"lat\": [-10, 46], \"mode\": \"lines+marker\", \"name\": \"Brazil\", \"line\": {\"width\": 1.1989476363991853, \"color\": \"red\"}}, {\"type\": \"scattergeo\", \"lon\": [1.16666666, 2], \"lat\": [8, 46], \"mode\": \"lines+marker\", \"name\": \"Togo\", \"line\": {\"width\": 0.34657359027997264, \"color\": \"red\"}}, {\"type\": \"scattergeo\", \"lon\": [19.5, 2], \"lat\": [48.66666666, 46], \"mode\": \"lines+marker\", \"name\": \"Slovakia\", \"line\": {\"width\": 0.9729550745276566, \"color\": \"red\"}}, {\"type\": \"scattergeo\", \"lon\": [55.66666666, 2], \"lat\": [-4.58333333, 46], \"mode\": \"lines+marker\", \"name\": \"Seychelles\", \"line\": {\"width\": 1.1989476363991853, \"color\": \"red\"}}, {\"type\": \"scattergeo\", \"lon\": [45, 2], \"lat\": [25, 46], \"mode\": \"lines+marker\", \"name\": \"Saudi Arabia\", \"line\": {\"width\": 0.0, \"color\": \"red\"}}, {\"type\": \"scattergeo\", \"lon\": [15, 2], \"lat\": [62, 46], \"mode\": \"lines+marker\", \"name\": \"Sweden\", \"line\": {\"width\": 2.152032546602085, \"color\": \"red\"}}, {\"type\": \"scattergeo\", \"lon\": [-18, 2], \"lat\": [65, 46], \"mode\": \"lines+marker\", \"name\": \"Iceland\", \"line\": {\"width\": 1.666102255087602, \"color\": \"red\"}}, {\"type\": \"scattergeo\", \"lon\": [-65, 2], \"lat\": [-17, 46], \"mode\": \"lines+marker\", \"name\": \"Bolivia\", \"line\": {\"width\": 2.317364494114818, \"color\": \"red\"}}, {\"type\": \"scattergeo\", \"lon\": [-76, 2], \"lat\": [-10, 46], \"mode\": \"lines+marker\", \"name\": \"Peru\", \"line\": {\"width\": 1.7328679513998633, \"color\": \"red\"}}, {\"type\": \"scattergeo\", \"lon\": [-77.5, 2], \"lat\": [-2, 46], \"mode\": \"lines+marker\", \"name\": \"Ecuador\", \"line\": {\"width\": 1.2424533248940002, \"color\": \"red\"}}, {\"type\": \"scattergeo\", \"lon\": [-102, 2], \"lat\": [23, 46], \"mode\": \"lines+marker\", \"name\": \"Mexico\", \"line\": {\"width\": 2.5795276496072646, \"color\": \"red\"}}, {\"type\": \"scattergeo\", \"lon\": [31.5, 2], \"lat\": [-26.5, 46], \"mode\": \"lines+marker\", \"name\": \"Eswatini\", \"line\": {\"width\": 0.0, \"color\": \"red\"}}, {\"type\": \"scattergeo\", \"lon\": [105, 2], \"lat\": [18, 46], \"mode\": \"lines+marker\", \"name\": \"Laos\", \"line\": {\"width\": 0.34657359027997264, \"color\": \"red\"}}, {\"type\": \"scattergeo\", \"lon\": [38, 2], \"lat\": [1, 46], \"mode\": \"lines+marker\", \"name\": \"Kenya\", \"line\": {\"width\": 1.3195286648076292, \"color\": \"red\"}}, {\"type\": \"scattergeo\", \"lon\": [22, 2], \"lat\": [41.83333333, 46], \"mode\": \"lines+marker\", \"name\": \"Macedonia\", \"line\": {\"width\": 1.0986122886681098, \"color\": \"red\"}}, {\"type\": \"scattergeo\", \"lon\": [-61, 2], \"lat\": [14.666667, 46], \"mode\": \"lines+marker\", \"name\": \"Martinique\", \"line\": {\"width\": 1.354025100551105, \"color\": \"red\"}}, {\"type\": \"scattergeo\", \"lon\": [121, 2], \"lat\": [23.5, 46], \"mode\": \"lines+marker\", \"name\": \"Taiwan\", \"line\": {\"width\": 2.3502401828962083, \"color\": \"red\"}}, {\"type\": \"scattergeo\", \"lon\": [14.81666666, 2], \"lat\": [46.11666666, 46], \"mode\": \"lines+marker\", \"name\": \"Slovenia\", \"line\": {\"width\": 1.2824746787307684, \"color\": \"red\"}}, {\"type\": \"scattergeo\", \"lon\": [15.5, 2], \"lat\": [45.16666666, 46], \"mode\": \"lines+marker\", \"name\": \"Croatia\", \"line\": {\"width\": 1.7631802623080808, \"color\": \"red\"}}, {\"type\": \"scattergeo\", \"lon\": [20, 2], \"lat\": [47, 46], \"mode\": \"lines+marker\", \"name\": \"Hungary\", \"line\": {\"width\": 1.6479184330021646, \"color\": \"red\"}}, {\"type\": \"scattergeo\", \"lon\": [45, 2], \"lat\": [40, 46], \"mode\": \"lines+marker\", \"name\": \"Armenia\", \"line\": {\"width\": 0.8958797346140275, \"color\": \"red\"}}, {\"type\": \"scattergeo\", \"lon\": [-24, 2], \"lat\": [16, 46], \"mode\": \"lines+marker\", \"name\": \"Cape Verde\", \"line\": {\"width\": 0.34657359027997264, \"color\": \"red\"}}, {\"type\": \"scattergeo\", \"lon\": [28, 2], \"lat\": [53, 46], \"mode\": \"lines+marker\", \"name\": \"Belarus\", \"line\": {\"width\": 0.5493061443340549, \"color\": \"red\"}}, {\"type\": \"scattergeo\", \"lon\": [-80, 2], \"lat\": [21.5, 46], \"mode\": \"lines+marker\", \"name\": \"Cuba\", \"line\": {\"width\": 0.6931471805599453, \"color\": \"red\"}}, {\"type\": \"scattergeo\", \"lon\": [-56.33333333, 2], \"lat\": [46.83333333, 46], \"mode\": \"lines+marker\", \"name\": \"Saint Pierre and Miquelon\", \"line\": {\"width\": 0.0, \"color\": \"red\"}}, {\"type\": \"scattergeo\", \"lon\": [12, 2], \"lat\": [6, 46], \"mode\": \"lines+marker\", \"name\": \"Cameroon\", \"line\": {\"width\": 0.8958797346140275, \"color\": \"red\"}}, {\"type\": \"scattergeo\", \"lon\": [33, 2], \"lat\": [35, 46], \"mode\": \"lines+marker\", \"name\": \"Cyprus\", \"line\": {\"width\": 0.9729550745276566, \"color\": \"red\"}}, {\"type\": \"scattergeo\", \"lon\": [35, 2], \"lat\": [-6, 46], \"mode\": \"lines+marker\", \"name\": \"Tanzania\", \"line\": {\"width\": 0.0, \"color\": \"red\"}}, {\"type\": \"scattergeo\", \"lon\": [35.13, 2], \"lat\": [31.47, 46], \"mode\": \"lines+marker\", \"name\": \"Israel\", \"line\": {\"width\": 1.4722194895832201, \"color\": \"red\"}}, {\"type\": \"scattergeo\", \"lon\": [-63.95, 2], \"lat\": [18.08333333, 46], \"mode\": \"lines+marker\", \"name\": \"Saint Martin\", \"line\": {\"width\": 0.0, \"color\": \"red\"}}, {\"type\": \"scattergeo\", \"lon\": [70, 2], \"lat\": [30, 46], \"mode\": \"lines+marker\", \"name\": \"Pakistan\", \"line\": {\"width\": 1.0397207708399179, \"color\": \"red\"}}, {\"type\": \"scattergeo\", \"lon\": [-140, 2], \"lat\": [-15, 46], \"mode\": \"lines+marker\", \"name\": \"French Polynesia\", \"line\": {\"width\": 1.2824746787307684, \"color\": \"red\"}}, {\"type\": \"scattergeo\", \"lon\": [166.633333, 2], \"lat\": [19.3, 46], \"mode\": \"lines+marker\", \"name\": \"United States Minor Outlying Islands\", \"line\": {\"width\": 1.7482537807332401, \"color\": \"red\"}}, {\"type\": \"scattergeo\", \"lon\": [107.83333333, 2], \"lat\": [16.16666666, 46], \"mode\": \"lines+marker\", \"name\": \"Vietnam\", \"line\": {\"width\": 2.0871936349478184, \"color\": \"red\"}}, {\"type\": \"scattergeo\", \"lon\": [38, 2], \"lat\": [8, 46], \"mode\": \"lines+marker\", \"name\": \"Ethiopia\", \"line\": {\"width\": 0.0, \"color\": \"red\"}}, {\"type\": \"scattergeo\", \"lon\": [55.5, 2], \"lat\": [-21.15, 46], \"mode\": \"lines+marker\", \"name\": \"R\\u00e9union\", \"line\": {\"width\": 1.9756218592907138, \"color\": \"red\"}}, {\"type\": \"scattergeo\", \"lon\": [127.5, 2], \"lat\": [37, 46], \"mode\": \"lines+marker\", \"name\": \"South Korea\", \"line\": {\"width\": 1.151292546497023, \"color\": \"red\"}}, {\"type\": \"scattergeo\", \"lon\": [105, 2], \"lat\": [35, 46], \"mode\": \"lines+marker\", \"name\": \"China\", \"line\": {\"width\": 2.6615049895692042, \"color\": \"red\"}}, {\"type\": \"scattergeo\", \"lon\": [22, 2], \"lat\": [39, 46], \"mode\": \"lines+marker\", \"name\": \"Greece\", \"line\": {\"width\": 2.6020033435383976, \"color\": \"red\"}}, {\"type\": \"scattergeo\", \"lon\": [77, 2], \"lat\": [20, 46], \"mode\": \"lines+marker\", \"name\": \"India\", \"line\": {\"width\": 1.545521226679158, \"color\": \"red\"}}, {\"type\": \"scattergeo\", \"lon\": [26, 2], \"lat\": [64, 46], \"mode\": \"lines+marker\", \"name\": \"Finland\", \"line\": {\"width\": 1.0986122886681098, \"color\": \"red\"}}, {\"type\": \"scattergeo\", \"lon\": [103.8, 2], \"lat\": [1.36666666, 46], \"mode\": \"lines+marker\", \"name\": \"Singapore\", \"line\": {\"width\": 0.8958797346140275, \"color\": \"red\"}}, {\"type\": \"scattergeo\", \"lon\": [35.83333333, 2], \"lat\": [33.83333333, 46], \"mode\": \"lines+marker\", \"name\": \"Lebanon\", \"line\": {\"width\": 1.0986122886681098, \"color\": \"red\"}}, {\"type\": \"scattergeo\", \"lon\": [120, 2], \"lat\": [-5, 46], \"mode\": \"lines+marker\", \"name\": \"Indonesia\", \"line\": {\"width\": 1.3862943611198906, \"color\": \"red\"}}, {\"type\": \"scattergeo\", \"lon\": [53, 2], \"lat\": [32, 46], \"mode\": \"lines+marker\", \"name\": \"Iran\", \"line\": {\"width\": 2.04717228111105, \"color\": \"red\"}}, {\"type\": \"scattergeo\", \"lon\": [-8, 2], \"lat\": [39.5, 46], \"mode\": \"lines+marker\", \"name\": \"Portugal\", \"line\": {\"width\": 2.372466064181625, \"color\": \"red\"}}, {\"type\": \"scattergeo\", \"lon\": [-68.25, 2], \"lat\": [12.18, 46], \"mode\": \"lines+marker\", \"name\": \"Caribbean Netherlands\", \"line\": {\"width\": 0.34657359027997264, \"color\": \"red\"}}, {\"type\": \"scattergeo\", \"lon\": [-95, 2], \"lat\": [60, 46], \"mode\": \"lines+marker\", \"name\": \"Canada\", \"line\": {\"width\": 2.719039654461598, \"color\": \"red\"}}, {\"type\": \"scattergeo\", \"lon\": [-172.33333333, 2], \"lat\": [-13.58333333, 46], \"mode\": \"lines+marker\", \"name\": \"Samoa\", \"line\": {\"width\": 1.545521226679158, \"color\": \"red\"}}, {\"type\": \"scattergeo\", \"lon\": [168, 2], \"lat\": [9, 46], \"mode\": \"lines+marker\", \"name\": \"Marshall Islands\", \"line\": {\"width\": 1.0986122886681098, \"color\": \"red\"}}, {\"type\": \"scattergeo\", \"lon\": [7.4, 2], \"lat\": [43.73333333, 46], \"mode\": \"lines+marker\", \"name\": \"Monaco\", \"line\": {\"width\": 0.8047189562170501, \"color\": \"red\"}}, {\"type\": \"scattergeo\", \"lon\": [-84, 2], \"lat\": [10, 46], \"mode\": \"lines+marker\", \"name\": \"Costa Rica\", \"line\": {\"width\": 0.9729550745276566, \"color\": \"red\"}}, {\"type\": \"scattergeo\", \"lon\": [25, 2], \"lat\": [57, 46], \"mode\": \"lines+marker\", \"name\": \"Latvia\", \"line\": {\"width\": 0.9729550745276566, \"color\": \"red\"}}, {\"type\": \"scattergeo\", \"lon\": [69.167, 2], \"lat\": [-49.25, 46], \"mode\": \"lines+marker\", \"name\": \"French Southern and Antarctic Lands\", \"line\": {\"width\": 1.0397207708399179, \"color\": \"red\"}}, {\"type\": \"scattergeo\", \"lon\": [-53, 2], \"lat\": [4, 46], \"mode\": \"lines+marker\", \"name\": \"French Guiana\", \"line\": {\"width\": 1.1989476363991853, \"color\": \"red\"}}, {\"type\": \"scattergeo\", \"lon\": [173, 2], \"lat\": [1.41666666, 46], \"mode\": \"lines+marker\", \"name\": \"Kiribati\", \"line\": {\"width\": 0.34657359027997264, \"color\": \"red\"}}, {\"type\": \"scattergeo\", \"lon\": [20, 2], \"lat\": [41, 46], \"mode\": \"lines+marker\", \"name\": \"Albania\", \"line\": {\"width\": 0.0, \"color\": \"red\"}}, {\"type\": \"scattergeo\", \"lon\": [43.5, 2], \"lat\": [42, 46], \"mode\": \"lines+marker\", \"name\": \"Georgia\", \"line\": {\"width\": 1.0397207708399179, \"color\": \"red\"}}, {\"type\": \"scattergeo\", \"lon\": [-97, 2], \"lat\": [38, 46], \"mode\": \"lines+marker\", \"name\": \"United States\", \"line\": {\"width\": 3.0645251050302726, \"color\": \"red\"}}, {\"type\": \"scattergeo\", \"lon\": [-8, 2], \"lat\": [53, 46], \"mode\": \"lines+marker\", \"name\": \"Ireland\", \"line\": {\"width\": 2.372466064181625, \"color\": \"red\"}}, {\"type\": \"scattergeo\", \"lon\": [138, 2], \"lat\": [36, 46], \"mode\": \"lines+marker\", \"name\": \"Japan\", \"line\": {\"width\": 2.1972245773362196, \"color\": \"red\"}}, {\"type\": \"scattergeo\", \"lon\": [20, 2], \"lat\": [52, 46], \"mode\": \"lines+marker\", \"name\": \"Poland\", \"line\": {\"width\": 2.445174564110877, \"color\": \"red\"}}, {\"type\": \"scattergeo\", \"lon\": [-80.5, 2], \"lat\": [19.5, 46], \"mode\": \"lines+marker\", \"name\": \"Cayman Islands\", \"line\": {\"width\": 0.34657359027997264, \"color\": \"red\"}}, {\"type\": \"scattergeo\", \"lon\": [10, 2], \"lat\": [56, 46], \"mode\": \"lines+marker\", \"name\": \"Denmark\", \"line\": {\"width\": 1.9944920232821373, \"color\": \"red\"}}, {\"type\": \"scattergeo\", \"lon\": [-88.91666666, 2], \"lat\": [13.83333333, 46], \"mode\": \"lines+marker\", \"name\": \"El Salvador\", \"line\": {\"width\": 0.0, \"color\": \"red\"}}, {\"type\": \"scattergeo\", \"lon\": [-71, 2], \"lat\": [-30, 46], \"mode\": \"lines+marker\", \"name\": \"Chile\", \"line\": {\"width\": 0.8958797346140275, \"color\": \"red\"}}, {\"type\": \"scattergeo\", \"lon\": [133, 2], \"lat\": [-27, 46], \"mode\": \"lines+marker\", \"name\": \"Australia\", \"line\": {\"width\": 2.4414009612931853, \"color\": \"red\"}}, {\"type\": \"scattergeo\", \"lon\": [-72, 2], \"lat\": [4, 46], \"mode\": \"lines+marker\", \"name\": \"Colombia\", \"line\": {\"width\": 0.8958797346140275, \"color\": \"red\"}}, {\"type\": \"scattergeo\", \"lon\": [21, 2], \"lat\": [44, 46], \"mode\": \"lines+marker\", \"name\": \"Serbia\", \"line\": {\"width\": 1.5222612188617115, \"color\": \"red\"}}], {\"title\": \"Manufacturing countries of products\", \"geo\": {\"projection\": {\"type\": \"Mercator\"}, \"showframe\": false, \"showcoastlines\": true, \"showland\": true, \"landcolor\": \"rgb(229, 229, 229)\", \"countrycolor\": \"rgb(255, 255, 255)\", \"coastlinecolor\": \"rgb(255, 255, 255)\"}, \"showlegend\": false, \"xaxis\": {\"fixedrange\": true}, \"yaxis\": {\"fixedrange\": true}}, {\"showLink\": true, \"linkText\": \"Export to plot.ly\", \"plotlyServerURL\": \"https://plot.ly\"})});</script><script type=\"text/javascript\">window.addEventListener(\"resize\", function(){window._Plotly.Plots.resize(document.getElementById(\"f747180d-8694-4a0f-896f-3f735e4e75ac\"));});</script>"
      ]
     },
     "metadata": {},
     "output_type": "display_data"
    }
   ],
   "source": [
    "visualize.plot_occurences_on_map(df=food_facts_pd, \n",
    "                                 column_key='manufacturing_place',\n",
    "                                 show_distances=True,\n",
    "                                 title='Manufacturing countries of products')"
   ]
  },
  {
   "cell_type": "markdown",
   "metadata": {},
   "source": [
    "- Where are those products bought?"
   ]
  },
  {
   "cell_type": "code",
   "execution_count": 10,
   "metadata": {},
   "outputs": [
    {
     "data": {
      "application/vnd.plotly.v1+json": {
       "config": {
        "linkText": "Export to plot.ly",
        "plotlyServerURL": "https://plot.ly",
        "showLink": true
       },
       "data": [
        {
         "autocolorscale": false,
         "colorbar": {
          "autotick": true,
          "title": "Counts"
         },
         "locations": [
          "DEU",
          "LTU",
          "MYT",
          "CIV",
          "GLP",
          "MDA",
          "TUR",
          "ITA",
          "RUS",
          "NZL",
          "LKA",
          "CZE",
          "URY",
          "UKR",
          "SEN",
          "MNE",
          "BGR",
          "NLD",
          "VIR",
          "ESP",
          "DOM",
          "MAR",
          "MYS",
          "COG",
          "MDG",
          "ARG",
          "TUN",
          "KAZ",
          "BIH",
          "CHE",
          "MUS",
          "MMR",
          "LUX",
          "EGY",
          "ROU",
          "ZAF",
          "NCL",
          "EST",
          "AUT",
          "PHL",
          "BFA",
          "ARE",
          "FRA",
          "GBR",
          "HKG",
          "DZA",
          "NOR",
          "THA",
          "OMN",
          "MLT",
          "BEL",
          "BRA",
          "TGO",
          "SVK",
          "SAU",
          "SWE",
          "ISL",
          "KWT",
          "PER",
          "ECU",
          "MEX",
          "MLI",
          "SXM",
          "MKD",
          "MTQ",
          "TWN",
          "SVN",
          "HRV",
          "HUN",
          "ARM",
          "CUB",
          "SPM",
          "CMR",
          "JOR",
          "CYP",
          "ISR",
          "GAB",
          "MAF",
          "PYF",
          "REU",
          "KOR",
          "CHN",
          "GRC",
          "IND",
          "FIN",
          "LBN",
          "IDN",
          "PRT",
          "CAN",
          "MCO",
          "CRI",
          "LVA",
          "AIA",
          "KNA",
          "GUF",
          "ALB",
          "GEO",
          "USA",
          "IRL",
          "JPN",
          "POL",
          "DNK",
          "CHL",
          "AUS",
          "COL",
          "SRB",
          "GIN"
         ],
         "name": [
          "Germany",
          "Lithuania",
          "Mayotte",
          "Ivory Coast",
          "Guadeloupe",
          "Moldova",
          "Turkey",
          "Italy",
          "Russia",
          "New Zealand",
          "Sri Lanka",
          "Czechia",
          "Uruguay",
          "Ukraine",
          "Senegal",
          "Montenegro",
          "Bulgaria",
          "Netherlands",
          "United States Virgin Islands",
          "Spain",
          "Dominican Republic",
          "Morocco",
          "Malaysia",
          "Republic of the Congo",
          "Madagascar",
          "Argentina",
          "Tunisia",
          "Kazakhstan",
          "Bosnia and Herzegovina",
          "Switzerland",
          "Mauritius",
          "Myanmar",
          "Luxembourg",
          "Egypt",
          "Romania",
          "South Africa",
          "New Caledonia",
          "Estonia",
          "Austria",
          "Philippines",
          "Burkina Faso",
          "United Arab Emirates",
          "France",
          "United Kingdom",
          "Hong Kong",
          "Algeria",
          "Norway",
          "Thailand",
          "Oman",
          "Malta",
          "Belgium",
          "Brazil",
          "Togo",
          "Slovakia",
          "Saudi Arabia",
          "Sweden",
          "Iceland",
          "Kuwait",
          "Peru",
          "Ecuador",
          "Mexico",
          "Mali",
          "Sint Maarten",
          "Macedonia",
          "Martinique",
          "Taiwan",
          "Slovenia",
          "Croatia",
          "Hungary",
          "Armenia",
          "Cuba",
          "Saint Pierre and Miquelon",
          "Cameroon",
          "Jordan",
          "Cyprus",
          "Israel",
          "Gabon",
          "Saint Martin",
          "French Polynesia",
          "Réunion",
          "South Korea",
          "China",
          "Greece",
          "India",
          "Finland",
          "Lebanon",
          "Indonesia",
          "Portugal",
          "Canada",
          "Monaco",
          "Costa Rica",
          "Latvia",
          "Anguilla",
          "Saint Kitts and Nevis",
          "French Guiana",
          "Albania",
          "Georgia",
          "United States",
          "Ireland",
          "Japan",
          "Poland",
          "Denmark",
          "Chile",
          "Australia",
          "Colombia",
          "Serbia",
          "Guinea"
         ],
         "reversescale": true,
         "type": "choropleth",
         "z": [
          7.620214770574455,
          1.0986122886681098,
          0,
          0,
          4.0943445622221,
          1.0986122886681098,
          1.9459101490553132,
          4.382026634673881,
          5.5134287461649825,
          1.9459101490553132,
          0,
          2.6390573296152584,
          0,
          1.0986122886681098,
          1.9459101490553132,
          1.6094379124341003,
          2.70805020110221,
          4.787491742782046,
          0,
          7.138866999945524,
          0,
          2.4849066497880004,
          1.0986122886681098,
          0.6931471805599453,
          3.784189633918261,
          1.0986122886681098,
          1.6094379124341003,
          0,
          1.0986122886681098,
          6.606650186198215,
          1.6094379124341003,
          0,
          3.332204510175204,
          0,
          4.30406509320417,
          2.1972245773362196,
          2.3978952727983707,
          1.791759469228055,
          3.7612001156935624,
          2.1972245773362196,
          0.6931471805599453,
          1.6094379124341003,
          10.463531820089617,
          7.326465613840322,
          3.258096538021482,
          1.9459101490553132,
          1.9459101490553132,
          0.6931471805599453,
          0,
          0,
          6.720220155135295,
          0.6931471805599453,
          0,
          0.6931471805599453,
          0,
          5.030437921392435,
          0.6931471805599453,
          0,
          0.6931471805599453,
          0,
          6.255750041753367,
          0.6931471805599453,
          0,
          0.6931471805599453,
          3.1780538303479458,
          2.9444389791664403,
          1.9459101490553132,
          1.3862943611198906,
          3.295836866004329,
          0,
          1.3862943611198906,
          2.0794415416798357,
          1.0986122886681098,
          0,
          0,
          1.6094379124341003,
          0,
          0,
          4.418840607796598,
          4.430816798843313,
          1.0986122886681098,
          1.9459101490553132,
          3.5263605246161616,
          1.6094379124341003,
          2.995732273553991,
          1.0986122886681098,
          1.0986122886681098,
          4.90527477843843,
          5.820082930352362,
          1.3862943611198906,
          0.6931471805599453,
          1.6094379124341003,
          0,
          1.0986122886681098,
          2.70805020110221,
          0.6931471805599453,
          2.3978952727983707,
          6.220590170099739,
          4.543294782270004,
          3.091042453358316,
          2.6390573296152584,
          4.204692619390966,
          0.6931471805599453,
          5.8289456176102075,
          1.3862943611198906,
          4.624972813284271,
          0
         ]
        }
       ],
       "layout": {
        "geo": {
         "coastlinecolor": "rgb(255, 255, 255)",
         "countrycolor": "rgb(255, 255, 255)",
         "landcolor": "rgb(229, 229, 229)",
         "projection": {
          "type": "Mercator"
         },
         "showcoastlines": true,
         "showframe": false,
         "showland": true
        },
        "showlegend": false,
        "title": "Purchase countries of products",
        "xaxis": {
         "fixedrange": true
        },
        "yaxis": {
         "fixedrange": true
        }
       }
      },
      "text/html": [
       "<div id=\"bb862013-d6de-438f-abac-5e69514f8d45\" style=\"height: 525px; width: 100%;\" class=\"plotly-graph-div\"></div><script type=\"text/javascript\">require([\"plotly\"], function(Plotly) { window.PLOTLYENV=window.PLOTLYENV || {};window.PLOTLYENV.BASE_URL=\"https://plot.ly\";Plotly.newPlot(\"bb862013-d6de-438f-abac-5e69514f8d45\", [{\"type\": \"choropleth\", \"locations\": [\"DEU\", \"LTU\", \"MYT\", \"CIV\", \"GLP\", \"MDA\", \"TUR\", \"ITA\", \"RUS\", \"NZL\", \"LKA\", \"CZE\", \"URY\", \"UKR\", \"SEN\", \"MNE\", \"BGR\", \"NLD\", \"VIR\", \"ESP\", \"DOM\", \"MAR\", \"MYS\", \"COG\", \"MDG\", \"ARG\", \"TUN\", \"KAZ\", \"BIH\", \"CHE\", \"MUS\", \"MMR\", \"LUX\", \"EGY\", \"ROU\", \"ZAF\", \"NCL\", \"EST\", \"AUT\", \"PHL\", \"BFA\", \"ARE\", \"FRA\", \"GBR\", \"HKG\", \"DZA\", \"NOR\", \"THA\", \"OMN\", \"MLT\", \"BEL\", \"BRA\", \"TGO\", \"SVK\", \"SAU\", \"SWE\", \"ISL\", \"KWT\", \"PER\", \"ECU\", \"MEX\", \"MLI\", \"SXM\", \"MKD\", \"MTQ\", \"TWN\", \"SVN\", \"HRV\", \"HUN\", \"ARM\", \"CUB\", \"SPM\", \"CMR\", \"JOR\", \"CYP\", \"ISR\", \"GAB\", \"MAF\", \"PYF\", \"REU\", \"KOR\", \"CHN\", \"GRC\", \"IND\", \"FIN\", \"LBN\", \"IDN\", \"PRT\", \"CAN\", \"MCO\", \"CRI\", \"LVA\", \"AIA\", \"KNA\", \"GUF\", \"ALB\", \"GEO\", \"USA\", \"IRL\", \"JPN\", \"POL\", \"DNK\", \"CHL\", \"AUS\", \"COL\", \"SRB\", \"GIN\"], \"z\": [7.620214770574455, 1.0986122886681098, 0.0, 0.0, 4.0943445622221, 1.0986122886681098, 1.9459101490553132, 4.382026634673881, 5.5134287461649825, 1.9459101490553132, 0.0, 2.6390573296152584, 0.0, 1.0986122886681098, 1.9459101490553132, 1.6094379124341003, 2.70805020110221, 4.787491742782046, 0.0, 7.138866999945524, 0.0, 2.4849066497880004, 1.0986122886681098, 0.6931471805599453, 3.784189633918261, 1.0986122886681098, 1.6094379124341003, 0.0, 1.0986122886681098, 6.606650186198215, 1.6094379124341003, 0.0, 3.332204510175204, 0.0, 4.30406509320417, 2.1972245773362196, 2.3978952727983707, 1.791759469228055, 3.7612001156935624, 2.1972245773362196, 0.6931471805599453, 1.6094379124341003, 10.463531820089617, 7.326465613840322, 3.258096538021482, 1.9459101490553132, 1.9459101490553132, 0.6931471805599453, 0.0, 0.0, 6.720220155135295, 0.6931471805599453, 0.0, 0.6931471805599453, 0.0, 5.030437921392435, 0.6931471805599453, 0.0, 0.6931471805599453, 0.0, 6.255750041753367, 0.6931471805599453, 0.0, 0.6931471805599453, 3.1780538303479458, 2.9444389791664403, 1.9459101490553132, 1.3862943611198906, 3.295836866004329, 0.0, 1.3862943611198906, 2.0794415416798357, 1.0986122886681098, 0.0, 0.0, 1.6094379124341003, 0.0, 0.0, 4.418840607796598, 4.430816798843313, 1.0986122886681098, 1.9459101490553132, 3.5263605246161616, 1.6094379124341003, 2.995732273553991, 1.0986122886681098, 1.0986122886681098, 4.90527477843843, 5.820082930352362, 1.3862943611198906, 0.6931471805599453, 1.6094379124341003, 0.0, 1.0986122886681098, 2.70805020110221, 0.6931471805599453, 2.3978952727983707, 6.220590170099739, 4.543294782270004, 3.091042453358316, 2.6390573296152584, 4.204692619390966, 0.6931471805599453, 5.8289456176102075, 1.3862943611198906, 4.624972813284271, 0.0], \"name\": [\"Germany\", \"Lithuania\", \"Mayotte\", \"Ivory Coast\", \"Guadeloupe\", \"Moldova\", \"Turkey\", \"Italy\", \"Russia\", \"New Zealand\", \"Sri Lanka\", \"Czechia\", \"Uruguay\", \"Ukraine\", \"Senegal\", \"Montenegro\", \"Bulgaria\", \"Netherlands\", \"United States Virgin Islands\", \"Spain\", \"Dominican Republic\", \"Morocco\", \"Malaysia\", \"Republic of the Congo\", \"Madagascar\", \"Argentina\", \"Tunisia\", \"Kazakhstan\", \"Bosnia and Herzegovina\", \"Switzerland\", \"Mauritius\", \"Myanmar\", \"Luxembourg\", \"Egypt\", \"Romania\", \"South Africa\", \"New Caledonia\", \"Estonia\", \"Austria\", \"Philippines\", \"Burkina Faso\", \"United Arab Emirates\", \"France\", \"United Kingdom\", \"Hong Kong\", \"Algeria\", \"Norway\", \"Thailand\", \"Oman\", \"Malta\", \"Belgium\", \"Brazil\", \"Togo\", \"Slovakia\", \"Saudi Arabia\", \"Sweden\", \"Iceland\", \"Kuwait\", \"Peru\", \"Ecuador\", \"Mexico\", \"Mali\", \"Sint Maarten\", \"Macedonia\", \"Martinique\", \"Taiwan\", \"Slovenia\", \"Croatia\", \"Hungary\", \"Armenia\", \"Cuba\", \"Saint Pierre and Miquelon\", \"Cameroon\", \"Jordan\", \"Cyprus\", \"Israel\", \"Gabon\", \"Saint Martin\", \"French Polynesia\", \"R\\u00e9union\", \"South Korea\", \"China\", \"Greece\", \"India\", \"Finland\", \"Lebanon\", \"Indonesia\", \"Portugal\", \"Canada\", \"Monaco\", \"Costa Rica\", \"Latvia\", \"Anguilla\", \"Saint Kitts and Nevis\", \"French Guiana\", \"Albania\", \"Georgia\", \"United States\", \"Ireland\", \"Japan\", \"Poland\", \"Denmark\", \"Chile\", \"Australia\", \"Colombia\", \"Serbia\", \"Guinea\"], \"autocolorscale\": false, \"reversescale\": true, \"colorbar\": {\"autotick\": true, \"title\": \"Counts\"}}], {\"title\": \"Purchase countries of products\", \"geo\": {\"projection\": {\"type\": \"Mercator\"}, \"showframe\": false, \"showcoastlines\": true, \"showland\": true, \"landcolor\": \"rgb(229, 229, 229)\", \"countrycolor\": \"rgb(255, 255, 255)\", \"coastlinecolor\": \"rgb(255, 255, 255)\"}, \"showlegend\": false, \"xaxis\": {\"fixedrange\": true}, \"yaxis\": {\"fixedrange\": true}}, {\"showLink\": true, \"linkText\": \"Export to plot.ly\", \"plotlyServerURL\": \"https://plot.ly\"})});</script><script type=\"text/javascript\">window.addEventListener(\"resize\", function(){window._Plotly.Plots.resize(document.getElementById(\"bb862013-d6de-438f-abac-5e69514f8d45\"));});</script>"
      ],
      "text/vnd.plotly.v1+html": [
       "<div id=\"bb862013-d6de-438f-abac-5e69514f8d45\" style=\"height: 525px; width: 100%;\" class=\"plotly-graph-div\"></div><script type=\"text/javascript\">require([\"plotly\"], function(Plotly) { window.PLOTLYENV=window.PLOTLYENV || {};window.PLOTLYENV.BASE_URL=\"https://plot.ly\";Plotly.newPlot(\"bb862013-d6de-438f-abac-5e69514f8d45\", [{\"type\": \"choropleth\", \"locations\": [\"DEU\", \"LTU\", \"MYT\", \"CIV\", \"GLP\", \"MDA\", \"TUR\", \"ITA\", \"RUS\", \"NZL\", \"LKA\", \"CZE\", \"URY\", \"UKR\", \"SEN\", \"MNE\", \"BGR\", \"NLD\", \"VIR\", \"ESP\", \"DOM\", \"MAR\", \"MYS\", \"COG\", \"MDG\", \"ARG\", \"TUN\", \"KAZ\", \"BIH\", \"CHE\", \"MUS\", \"MMR\", \"LUX\", \"EGY\", \"ROU\", \"ZAF\", \"NCL\", \"EST\", \"AUT\", \"PHL\", \"BFA\", \"ARE\", \"FRA\", \"GBR\", \"HKG\", \"DZA\", \"NOR\", \"THA\", \"OMN\", \"MLT\", \"BEL\", \"BRA\", \"TGO\", \"SVK\", \"SAU\", \"SWE\", \"ISL\", \"KWT\", \"PER\", \"ECU\", \"MEX\", \"MLI\", \"SXM\", \"MKD\", \"MTQ\", \"TWN\", \"SVN\", \"HRV\", \"HUN\", \"ARM\", \"CUB\", \"SPM\", \"CMR\", \"JOR\", \"CYP\", \"ISR\", \"GAB\", \"MAF\", \"PYF\", \"REU\", \"KOR\", \"CHN\", \"GRC\", \"IND\", \"FIN\", \"LBN\", \"IDN\", \"PRT\", \"CAN\", \"MCO\", \"CRI\", \"LVA\", \"AIA\", \"KNA\", \"GUF\", \"ALB\", \"GEO\", \"USA\", \"IRL\", \"JPN\", \"POL\", \"DNK\", \"CHL\", \"AUS\", \"COL\", \"SRB\", \"GIN\"], \"z\": [7.620214770574455, 1.0986122886681098, 0.0, 0.0, 4.0943445622221, 1.0986122886681098, 1.9459101490553132, 4.382026634673881, 5.5134287461649825, 1.9459101490553132, 0.0, 2.6390573296152584, 0.0, 1.0986122886681098, 1.9459101490553132, 1.6094379124341003, 2.70805020110221, 4.787491742782046, 0.0, 7.138866999945524, 0.0, 2.4849066497880004, 1.0986122886681098, 0.6931471805599453, 3.784189633918261, 1.0986122886681098, 1.6094379124341003, 0.0, 1.0986122886681098, 6.606650186198215, 1.6094379124341003, 0.0, 3.332204510175204, 0.0, 4.30406509320417, 2.1972245773362196, 2.3978952727983707, 1.791759469228055, 3.7612001156935624, 2.1972245773362196, 0.6931471805599453, 1.6094379124341003, 10.463531820089617, 7.326465613840322, 3.258096538021482, 1.9459101490553132, 1.9459101490553132, 0.6931471805599453, 0.0, 0.0, 6.720220155135295, 0.6931471805599453, 0.0, 0.6931471805599453, 0.0, 5.030437921392435, 0.6931471805599453, 0.0, 0.6931471805599453, 0.0, 6.255750041753367, 0.6931471805599453, 0.0, 0.6931471805599453, 3.1780538303479458, 2.9444389791664403, 1.9459101490553132, 1.3862943611198906, 3.295836866004329, 0.0, 1.3862943611198906, 2.0794415416798357, 1.0986122886681098, 0.0, 0.0, 1.6094379124341003, 0.0, 0.0, 4.418840607796598, 4.430816798843313, 1.0986122886681098, 1.9459101490553132, 3.5263605246161616, 1.6094379124341003, 2.995732273553991, 1.0986122886681098, 1.0986122886681098, 4.90527477843843, 5.820082930352362, 1.3862943611198906, 0.6931471805599453, 1.6094379124341003, 0.0, 1.0986122886681098, 2.70805020110221, 0.6931471805599453, 2.3978952727983707, 6.220590170099739, 4.543294782270004, 3.091042453358316, 2.6390573296152584, 4.204692619390966, 0.6931471805599453, 5.8289456176102075, 1.3862943611198906, 4.624972813284271, 0.0], \"name\": [\"Germany\", \"Lithuania\", \"Mayotte\", \"Ivory Coast\", \"Guadeloupe\", \"Moldova\", \"Turkey\", \"Italy\", \"Russia\", \"New Zealand\", \"Sri Lanka\", \"Czechia\", \"Uruguay\", \"Ukraine\", \"Senegal\", \"Montenegro\", \"Bulgaria\", \"Netherlands\", \"United States Virgin Islands\", \"Spain\", \"Dominican Republic\", \"Morocco\", \"Malaysia\", \"Republic of the Congo\", \"Madagascar\", \"Argentina\", \"Tunisia\", \"Kazakhstan\", \"Bosnia and Herzegovina\", \"Switzerland\", \"Mauritius\", \"Myanmar\", \"Luxembourg\", \"Egypt\", \"Romania\", \"South Africa\", \"New Caledonia\", \"Estonia\", \"Austria\", \"Philippines\", \"Burkina Faso\", \"United Arab Emirates\", \"France\", \"United Kingdom\", \"Hong Kong\", \"Algeria\", \"Norway\", \"Thailand\", \"Oman\", \"Malta\", \"Belgium\", \"Brazil\", \"Togo\", \"Slovakia\", \"Saudi Arabia\", \"Sweden\", \"Iceland\", \"Kuwait\", \"Peru\", \"Ecuador\", \"Mexico\", \"Mali\", \"Sint Maarten\", \"Macedonia\", \"Martinique\", \"Taiwan\", \"Slovenia\", \"Croatia\", \"Hungary\", \"Armenia\", \"Cuba\", \"Saint Pierre and Miquelon\", \"Cameroon\", \"Jordan\", \"Cyprus\", \"Israel\", \"Gabon\", \"Saint Martin\", \"French Polynesia\", \"R\\u00e9union\", \"South Korea\", \"China\", \"Greece\", \"India\", \"Finland\", \"Lebanon\", \"Indonesia\", \"Portugal\", \"Canada\", \"Monaco\", \"Costa Rica\", \"Latvia\", \"Anguilla\", \"Saint Kitts and Nevis\", \"French Guiana\", \"Albania\", \"Georgia\", \"United States\", \"Ireland\", \"Japan\", \"Poland\", \"Denmark\", \"Chile\", \"Australia\", \"Colombia\", \"Serbia\", \"Guinea\"], \"autocolorscale\": false, \"reversescale\": true, \"colorbar\": {\"autotick\": true, \"title\": \"Counts\"}}], {\"title\": \"Purchase countries of products\", \"geo\": {\"projection\": {\"type\": \"Mercator\"}, \"showframe\": false, \"showcoastlines\": true, \"showland\": true, \"landcolor\": \"rgb(229, 229, 229)\", \"countrycolor\": \"rgb(255, 255, 255)\", \"coastlinecolor\": \"rgb(255, 255, 255)\"}, \"showlegend\": false, \"xaxis\": {\"fixedrange\": true}, \"yaxis\": {\"fixedrange\": true}}, {\"showLink\": true, \"linkText\": \"Export to plot.ly\", \"plotlyServerURL\": \"https://plot.ly\"})});</script><script type=\"text/javascript\">window.addEventListener(\"resize\", function(){window._Plotly.Plots.resize(document.getElementById(\"bb862013-d6de-438f-abac-5e69514f8d45\"));});</script>"
      ]
     },
     "metadata": {},
     "output_type": "display_data"
    }
   ],
   "source": [
    "visualize.plot_occurences_on_map(df=food_facts_pd, \n",
    "                                 column_key='purchase_places',\n",
    "                                 show_distances=False,\n",
    "                                 title='Purchase countries of products')"
   ]
  },
  {
   "cell_type": "markdown",
   "metadata": {},
   "source": [
    "In conclusion, we note that we mainly have data for \"western\" countries, with a <b> huge bias toward France</b>. We mostly lack information for country in Africa and the centre of Asia. Our dataset is thus clearly not a truthful representation of the world. We shall therefore restrict our analysis to the case of France, meaning purchases countries will be limited to the case of France. [This category was selected since it is the most furnished one.] \n",
    "\n",
    "This is carried out in the next cell. Note that <i> purchases_places </i> is only requested to contain 'France' as one of the entries in its list. There could thus be other countries still contained in the <i> purchases_places </i> column. "
   ]
  },
  {
   "cell_type": "code",
   "execution_count": 11,
   "metadata": {},
   "outputs": [],
   "source": [
    "food_facts_pd['filter'] = food_facts_pd.purchase_places.apply(lambda l: explore.filter_france(l))\n",
    "food_facts_pd = food_facts_pd[food_facts_pd['filter'] == 'France'].drop(columns=['filter'])"
   ]
  },
  {
   "cell_type": "markdown",
   "metadata": {},
   "source": [
    "##### How is this distribution impacted when we consider neutral and large carbon footprint products? "
   ]
  },
  {
   "cell_type": "code",
   "execution_count": 12,
   "metadata": {},
   "outputs": [],
   "source": [
    "# dataset carbon footprint coming from Eaternity\n",
    "# This will be assess in future version of this project\n"
   ]
  },
  {
   "cell_type": "markdown",
   "metadata": {},
   "source": [
    "#### Case study: Palm oil"
   ]
  },
  {
   "cell_type": "markdown",
   "metadata": {},
   "source": [
    "##### Can we observe any trend in the number of products including this oil (assuming a strong dependence between date the product was added to the database and data the product was invented)?"
   ]
  },
  {
   "cell_type": "code",
   "execution_count": 13,
   "metadata": {},
   "outputs": [],
   "source": [
    "#extracting products with palm oil \n",
    "palm_oil_pd = food_facts_pd[food_facts_pd.ingredients_text.str.contains(\"palm\").fillna(value=False)]"
   ]
  },
  {
   "cell_type": "code",
   "execution_count": 14,
   "metadata": {},
   "outputs": [
    {
     "name": "stdout",
     "output_type": "stream",
     "text": [
      "5.01 % of the products in the dataset contain palm oil\n"
     ]
    }
   ],
   "source": [
    "print('{0:.2f} % of the products in the dataset contain palm oil'.format(palm_oil_pd.shape[0]/food_facts_pd.shape[0]*100))"
   ]
  },
  {
   "cell_type": "code",
   "execution_count": 15,
   "metadata": {},
   "outputs": [
    {
     "name": "stderr",
     "output_type": "stream",
     "text": [
      "/home/kingkolibri/Programs/anaconda3/envs/ada/lib/python3.6/site-packages/ipykernel_launcher.py:2: SettingWithCopyWarning:\n",
      "\n",
      "\n",
      "A value is trying to be set on a copy of a slice from a DataFrame.\n",
      "Try using .loc[row_indexer,col_indexer] = value instead\n",
      "\n",
      "See the caveats in the documentation: http://pandas.pydata.org/pandas-docs/stable/indexing.html#indexing-view-versus-copy\n",
      "\n"
     ]
    }
   ],
   "source": [
    "#palm_oil_pd.groupby('main_category')\n",
    "palm_oil_pd['created_yyyy'] = palm_oil_pd[\"created_datetime\"].dt.year"
   ]
  },
  {
   "cell_type": "code",
   "execution_count": 16,
   "metadata": {},
   "outputs": [],
   "source": [
    "#plotly.tools.set_credentials_file(username='ninatubau', api_key='z75HqORQkKdVL98Fi0tX')\n"
   ]
  },
  {
   "cell_type": "code",
   "execution_count": 17,
   "metadata": {},
   "outputs": [],
   "source": [
    "palm_oil_over_time = palm_oil_pd['created_yyyy'].value_counts()"
   ]
  },
  {
   "cell_type": "code",
   "execution_count": 18,
   "metadata": {
    "scrolled": true
   },
   "outputs": [
    {
     "data": {
      "application/vnd.plotly.v1+json": {
       "config": {
        "linkText": "Export to plot.ly",
        "plotlyServerURL": "https://plot.ly",
        "showLink": true
       },
       "data": [
        {
         "type": "bar",
         "uid": "79acef3e-c210-41ea-8979-359087ae3d89",
         "x": [
          2015,
          2016,
          2017,
          2018,
          2013,
          2014,
          2012
         ],
         "y": [
          428,
          349,
          276,
          217,
          149,
          144,
          46
         ]
        }
       ],
       "layout": {
        "title": "Usage of palm oil over time",
        "xaxis": {
         "title": "time (years)",
         "titlefont": {
          "color": "#7f7f7f",
          "family": "Courier New, monospace",
          "size": 18
         }
        },
        "yaxis": {
         "title": "number of products with palm oil",
         "titlefont": {
          "color": "#7f7f7f",
          "family": "Courier New, monospace",
          "size": 18
         }
        }
       }
      },
      "text/html": [
       "<div id=\"f4d43a0d-f98c-445a-8de0-bbda19e7e066\" style=\"height: 525px; width: 100%;\" class=\"plotly-graph-div\"></div><script type=\"text/javascript\">require([\"plotly\"], function(Plotly) { window.PLOTLYENV=window.PLOTLYENV || {};window.PLOTLYENV.BASE_URL=\"https://plot.ly\";Plotly.newPlot(\"f4d43a0d-f98c-445a-8de0-bbda19e7e066\", [{\"x\": [2015, 2016, 2017, 2018, 2013, 2014, 2012], \"y\": [428, 349, 276, 217, 149, 144, 46], \"type\": \"bar\", \"uid\": \"79acef3e-c210-41ea-8979-359087ae3d89\"}], {\"title\": \"Usage of palm oil over time\", \"xaxis\": {\"title\": \"time (years)\", \"titlefont\": {\"color\": \"#7f7f7f\", \"family\": \"Courier New, monospace\", \"size\": 18}}, \"yaxis\": {\"title\": \"number of products with palm oil\", \"titlefont\": {\"color\": \"#7f7f7f\", \"family\": \"Courier New, monospace\", \"size\": 18}}}, {\"showLink\": true, \"linkText\": \"Export to plot.ly\", \"plotlyServerURL\": \"https://plot.ly\"})});</script><script type=\"text/javascript\">window.addEventListener(\"resize\", function(){window._Plotly.Plots.resize(document.getElementById(\"f4d43a0d-f98c-445a-8de0-bbda19e7e066\"));});</script>"
      ],
      "text/vnd.plotly.v1+html": [
       "<div id=\"f4d43a0d-f98c-445a-8de0-bbda19e7e066\" style=\"height: 525px; width: 100%;\" class=\"plotly-graph-div\"></div><script type=\"text/javascript\">require([\"plotly\"], function(Plotly) { window.PLOTLYENV=window.PLOTLYENV || {};window.PLOTLYENV.BASE_URL=\"https://plot.ly\";Plotly.newPlot(\"f4d43a0d-f98c-445a-8de0-bbda19e7e066\", [{\"x\": [2015, 2016, 2017, 2018, 2013, 2014, 2012], \"y\": [428, 349, 276, 217, 149, 144, 46], \"type\": \"bar\", \"uid\": \"79acef3e-c210-41ea-8979-359087ae3d89\"}], {\"title\": \"Usage of palm oil over time\", \"xaxis\": {\"title\": \"time (years)\", \"titlefont\": {\"color\": \"#7f7f7f\", \"family\": \"Courier New, monospace\", \"size\": 18}}, \"yaxis\": {\"title\": \"number of products with palm oil\", \"titlefont\": {\"color\": \"#7f7f7f\", \"family\": \"Courier New, monospace\", \"size\": 18}}}, {\"showLink\": true, \"linkText\": \"Export to plot.ly\", \"plotlyServerURL\": \"https://plot.ly\"})});</script><script type=\"text/javascript\">window.addEventListener(\"resize\", function(){window._Plotly.Plots.resize(document.getElementById(\"f4d43a0d-f98c-445a-8de0-bbda19e7e066\"));});</script>"
      ]
     },
     "metadata": {},
     "output_type": "display_data"
    }
   ],
   "source": [
    "data = [go.Bar(x=palm_oil_over_time.index,\n",
    "            y=palm_oil_over_time.values)]\n",
    "\n",
    "layout = go.Layout(\n",
    "    title='Usage of palm oil over time',\n",
    "    xaxis=dict(\n",
    "        title='time (years)',\n",
    "        titlefont=dict(\n",
    "            family='Courier New, monospace',\n",
    "            size=18,\n",
    "            color='#7f7f7f'\n",
    "        )\n",
    "    ),\n",
    "    yaxis=dict(\n",
    "        title='number of products with palm oil',\n",
    "        titlefont=dict(\n",
    "            family='Courier New, monospace',\n",
    "            size=18,\n",
    "            color='#7f7f7f'\n",
    "        )\n",
    "    )\n",
    ")\n",
    "fig = go.Figure(data=data, layout=layout)\n",
    "\n",
    "iplot(fig, filename='jupyter-basic_bar')"
   ]
  },
  {
   "cell_type": "markdown",
   "metadata": {},
   "source": [
    "There is a clear tendancy of using palm oil in products from 2012 up to now. Also, we notice a large increase in the palm oil products these lasts years. "
   ]
  },
  {
   "cell_type": "markdown",
   "metadata": {},
   "source": [
    "##### Which country use palm oils for production?"
   ]
  },
  {
   "cell_type": "code",
   "execution_count": 19,
   "metadata": {},
   "outputs": [],
   "source": [
    "a = palm_oil_pd.origins.groupby(palm_oil_pd.origins).sum"
   ]
  },
  {
   "cell_type": "code",
   "execution_count": 20,
   "metadata": {},
   "outputs": [
    {
     "data": {
      "application/vnd.plotly.v1+json": {
       "config": {
        "linkText": "Export to plot.ly",
        "plotlyServerURL": "https://plot.ly",
        "showLink": true
       },
       "data": [
        {
         "name": "France",
         "orientation": "h",
         "type": "bar",
         "uid": "b99ac85a-a655-4ed5-964a-042a1d71ac83",
         "x": [
          1609
         ],
         "y": [
          0
         ]
        },
        {
         "name": "Others",
         "orientation": "h",
         "type": "bar",
         "uid": "028ec1fe-1455-470f-93a4-bc4a891f4eba",
         "x": [
          0
         ],
         "y": [
          0
         ]
        }
       ],
       "layout": {
        "barmode": "stack",
        "height": 300,
        "showlegend": true,
        "title": "purchase_places",
        "width": 800,
        "xaxis": {
         "showgrid": false,
         "showticklabels": true
        },
        "yaxis": {
         "showgrid": false,
         "showline": false,
         "showticklabels": false,
         "zeroline": false
        }
       }
      },
      "text/html": [
       "<div id=\"2d2c77ce-544c-418e-9d5b-da8a42211898\" style=\"height: 300px; width: 800px;\" class=\"plotly-graph-div\"></div><script type=\"text/javascript\">require([\"plotly\"], function(Plotly) { window.PLOTLYENV=window.PLOTLYENV || {};window.PLOTLYENV.BASE_URL=\"https://plot.ly\";Plotly.newPlot(\"2d2c77ce-544c-418e-9d5b-da8a42211898\", [{\"name\": \"France\", \"orientation\": \"h\", \"x\": [1609], \"y\": [0], \"type\": \"bar\", \"uid\": \"b99ac85a-a655-4ed5-964a-042a1d71ac83\"}, {\"name\": \"Others\", \"orientation\": \"h\", \"x\": [0], \"y\": [0], \"type\": \"bar\", \"uid\": \"028ec1fe-1455-470f-93a4-bc4a891f4eba\"}], {\"barmode\": \"stack\", \"height\": 300, \"showlegend\": true, \"title\": \"purchase_places\", \"width\": 800, \"xaxis\": {\"showgrid\": false, \"showticklabels\": true}, \"yaxis\": {\"showgrid\": false, \"showline\": false, \"showticklabels\": false, \"zeroline\": false}}, {\"showLink\": true, \"linkText\": \"Export to plot.ly\", \"plotlyServerURL\": \"https://plot.ly\"})});</script>"
      ],
      "text/vnd.plotly.v1+html": [
       "<div id=\"2d2c77ce-544c-418e-9d5b-da8a42211898\" style=\"height: 300px; width: 800px;\" class=\"plotly-graph-div\"></div><script type=\"text/javascript\">require([\"plotly\"], function(Plotly) { window.PLOTLYENV=window.PLOTLYENV || {};window.PLOTLYENV.BASE_URL=\"https://plot.ly\";Plotly.newPlot(\"2d2c77ce-544c-418e-9d5b-da8a42211898\", [{\"name\": \"France\", \"orientation\": \"h\", \"x\": [1609], \"y\": [0], \"type\": \"bar\", \"uid\": \"b99ac85a-a655-4ed5-964a-042a1d71ac83\"}, {\"name\": \"Others\", \"orientation\": \"h\", \"x\": [0], \"y\": [0], \"type\": \"bar\", \"uid\": \"028ec1fe-1455-470f-93a4-bc4a891f4eba\"}], {\"barmode\": \"stack\", \"height\": 300, \"showlegend\": true, \"title\": \"purchase_places\", \"width\": 800, \"xaxis\": {\"showgrid\": false, \"showticklabels\": true}, \"yaxis\": {\"showgrid\": false, \"showline\": false, \"showticklabels\": false, \"zeroline\": false}}, {\"showLink\": true, \"linkText\": \"Export to plot.ly\", \"plotlyServerURL\": \"https://plot.ly\"})});</script>"
      ]
     },
     "metadata": {},
     "output_type": "display_data"
    }
   ],
   "source": [
    "visualize.plot_column_composition(palm_oil_pd, 'purchase_places' )"
   ]
  },
  {
   "cell_type": "code",
   "execution_count": 21,
   "metadata": {},
   "outputs": [
    {
     "data": {
      "application/vnd.plotly.v1+json": {
       "config": {
        "linkText": "Export to plot.ly",
        "plotlyServerURL": "https://plot.ly",
        "showLink": true
       },
       "data": [
        {
         "name": "France",
         "orientation": "h",
         "type": "bar",
         "uid": "b205408d-4a74-4241-93a8-31a93612d3f7",
         "x": [
          1207
         ],
         "y": [
          0
         ]
        },
        {
         "name": "United Kingdom",
         "orientation": "h",
         "type": "bar",
         "uid": "dcd255c2-3510-4b19-93cf-ba4d581c7d79",
         "x": [
          156
         ],
         "y": [
          0
         ]
        },
        {
         "name": "Unknown",
         "orientation": "h",
         "type": "bar",
         "uid": "d7abf202-17a7-4634-9f5e-4d00de7606c4",
         "x": [
          127
         ],
         "y": [
          0
         ]
        },
        {
         "name": "Italy",
         "orientation": "h",
         "type": "bar",
         "uid": "5fe41eb7-9c91-471c-aa44-7eb753969491",
         "x": [
          70
         ],
         "y": [
          0
         ]
        },
        {
         "name": "Germany",
         "orientation": "h",
         "type": "bar",
         "uid": "3432776b-7a3c-4c88-bacd-89f1e9d5810a",
         "x": [
          54
         ],
         "y": [
          0
         ]
        },
        {
         "name": "Others",
         "orientation": "h",
         "type": "bar",
         "uid": "1bda26f6-d287-4f13-b2ac-18462cdfd332",
         "x": [
          147
         ],
         "y": [
          0
         ]
        }
       ],
       "layout": {
        "barmode": "stack",
        "height": 300,
        "showlegend": true,
        "title": "manufacturing_place",
        "width": 800,
        "xaxis": {
         "showgrid": false,
         "showticklabels": true
        },
        "yaxis": {
         "showgrid": false,
         "showline": false,
         "showticklabels": false,
         "zeroline": false
        }
       }
      },
      "text/html": [
       "<div id=\"8cda9a81-70b4-4a63-ae1e-5f0f0cdb1a9e\" style=\"height: 300px; width: 800px;\" class=\"plotly-graph-div\"></div><script type=\"text/javascript\">require([\"plotly\"], function(Plotly) { window.PLOTLYENV=window.PLOTLYENV || {};window.PLOTLYENV.BASE_URL=\"https://plot.ly\";Plotly.newPlot(\"8cda9a81-70b4-4a63-ae1e-5f0f0cdb1a9e\", [{\"name\": \"France\", \"orientation\": \"h\", \"x\": [1207], \"y\": [0], \"type\": \"bar\", \"uid\": \"b205408d-4a74-4241-93a8-31a93612d3f7\"}, {\"name\": \"United Kingdom\", \"orientation\": \"h\", \"x\": [156], \"y\": [0], \"type\": \"bar\", \"uid\": \"dcd255c2-3510-4b19-93cf-ba4d581c7d79\"}, {\"name\": \"Unknown\", \"orientation\": \"h\", \"x\": [127], \"y\": [0], \"type\": \"bar\", \"uid\": \"d7abf202-17a7-4634-9f5e-4d00de7606c4\"}, {\"name\": \"Italy\", \"orientation\": \"h\", \"x\": [70], \"y\": [0], \"type\": \"bar\", \"uid\": \"5fe41eb7-9c91-471c-aa44-7eb753969491\"}, {\"name\": \"Germany\", \"orientation\": \"h\", \"x\": [54], \"y\": [0], \"type\": \"bar\", \"uid\": \"3432776b-7a3c-4c88-bacd-89f1e9d5810a\"}, {\"name\": \"Others\", \"orientation\": \"h\", \"x\": [147], \"y\": [0], \"type\": \"bar\", \"uid\": \"1bda26f6-d287-4f13-b2ac-18462cdfd332\"}], {\"barmode\": \"stack\", \"height\": 300, \"showlegend\": true, \"title\": \"manufacturing_place\", \"width\": 800, \"xaxis\": {\"showgrid\": false, \"showticklabels\": true}, \"yaxis\": {\"showgrid\": false, \"showline\": false, \"showticklabels\": false, \"zeroline\": false}}, {\"showLink\": true, \"linkText\": \"Export to plot.ly\", \"plotlyServerURL\": \"https://plot.ly\"})});</script>"
      ],
      "text/vnd.plotly.v1+html": [
       "<div id=\"8cda9a81-70b4-4a63-ae1e-5f0f0cdb1a9e\" style=\"height: 300px; width: 800px;\" class=\"plotly-graph-div\"></div><script type=\"text/javascript\">require([\"plotly\"], function(Plotly) { window.PLOTLYENV=window.PLOTLYENV || {};window.PLOTLYENV.BASE_URL=\"https://plot.ly\";Plotly.newPlot(\"8cda9a81-70b4-4a63-ae1e-5f0f0cdb1a9e\", [{\"name\": \"France\", \"orientation\": \"h\", \"x\": [1207], \"y\": [0], \"type\": \"bar\", \"uid\": \"b205408d-4a74-4241-93a8-31a93612d3f7\"}, {\"name\": \"United Kingdom\", \"orientation\": \"h\", \"x\": [156], \"y\": [0], \"type\": \"bar\", \"uid\": \"dcd255c2-3510-4b19-93cf-ba4d581c7d79\"}, {\"name\": \"Unknown\", \"orientation\": \"h\", \"x\": [127], \"y\": [0], \"type\": \"bar\", \"uid\": \"d7abf202-17a7-4634-9f5e-4d00de7606c4\"}, {\"name\": \"Italy\", \"orientation\": \"h\", \"x\": [70], \"y\": [0], \"type\": \"bar\", \"uid\": \"5fe41eb7-9c91-471c-aa44-7eb753969491\"}, {\"name\": \"Germany\", \"orientation\": \"h\", \"x\": [54], \"y\": [0], \"type\": \"bar\", \"uid\": \"3432776b-7a3c-4c88-bacd-89f1e9d5810a\"}, {\"name\": \"Others\", \"orientation\": \"h\", \"x\": [147], \"y\": [0], \"type\": \"bar\", \"uid\": \"1bda26f6-d287-4f13-b2ac-18462cdfd332\"}], {\"barmode\": \"stack\", \"height\": 300, \"showlegend\": true, \"title\": \"manufacturing_place\", \"width\": 800, \"xaxis\": {\"showgrid\": false, \"showticklabels\": true}, \"yaxis\": {\"showgrid\": false, \"showline\": false, \"showticklabels\": false, \"zeroline\": false}}, {\"showLink\": true, \"linkText\": \"Export to plot.ly\", \"plotlyServerURL\": \"https://plot.ly\"})});</script>"
      ]
     },
     "metadata": {},
     "output_type": "display_data"
    }
   ],
   "source": [
    "visualize.plot_column_composition(palm_oil_pd, 'manufacturing_place' )"
   ]
  },
  {
   "cell_type": "markdown",
   "metadata": {},
   "source": [
    "### Good nutrition impact"
   ]
  },
  {
   "cell_type": "code",
   "execution_count": 22,
   "metadata": {},
   "outputs": [],
   "source": [
    "nutrition_fr = food_facts_pd[['product_name',\n",
    "                              'created_datetime',\n",
    "                              'nutrition-score-fr_100g', \n",
    "                              'product_name', \n",
    "                              'main_category', \n",
    "                              'origins', \n",
    "                              'purchase_places', \n",
    "                              'manufacturing_place',\n",
    "                              'stores']\n",
    "                            ]\n",
    "\n",
    "nutrition_fr = nutrition_fr[nutrition_fr['nutrition-score-fr_100g'].notna()]\n",
    "nutrition_over_time = nutrition_fr.sort_values(by = 'created_datetime')\n",
    "nutrition_over_time['main_category'] = nutrition_over_time.main_category.fillna(value='Unknown')"
   ]
  },
  {
   "cell_type": "markdown",
   "metadata": {},
   "source": [
    "Meanong of the nutrition score index can be found at https://world.openfoodfacts.org/nutriscore. The main facts are the following : \n",
    "- Products are marked according to the amount of nutrients they contain [per 100 g] and given a grade between A and E (A being obviously the best mark).\n",
    "\n",
    "<img src=\"Images/nutriscore.png\" height=\"540\" width=\"336\">\n",
    "\n",
    "- If the product is solids, this is linked to a nutrition score as displayed the next table. This score itself is computed with two parts. The first one considers the energy, saturated fat, sugars and sodium. A high level in that category is considered unhealthy. The second part reflects the proportion of fruits, vegetables and nuts, fibers and proteins for which high levels are considered beneficial to the health.\n",
    "\n",
    "<img src=\"Images/nutriscore_table.png\" height=\"1000\" width=\"900\">\n",
    "\n"
   ]
  },
  {
   "cell_type": "code",
   "execution_count": 23,
   "metadata": {},
   "outputs": [],
   "source": [
    "#Assigning the grades\n",
    "nutrition_over_time[\"nutrition_grade\"] =\\\n",
    "                                    nutrition_over_time[['nutrition-score-fr_100g','main_category']].\\\n",
    "                                    apply(explore.assign_score, axis=1)\n"
   ]
  },
  {
   "cell_type": "markdown",
   "metadata": {},
   "source": [
    "#### High-nutrional products"
   ]
  },
  {
   "cell_type": "markdown",
   "metadata": {},
   "source": [
    "##### Has there been a surge in high graded Products in the UK / France over the past years?"
   ]
  },
  {
   "cell_type": "code",
   "execution_count": 24,
   "metadata": {},
   "outputs": [],
   "source": [
    "nutrition_over_time_reduced = explore.nutrition_grade(nutrition_over_time)"
   ]
  },
  {
   "cell_type": "markdown",
   "metadata": {},
   "source": [
    "#### High-nutrional products"
   ]
  },
  {
   "cell_type": "code",
   "execution_count": 25,
   "metadata": {},
   "outputs": [
    {
     "data": {
      "image/png": "[encoded data removed]",
      "text/plain": [
       "<Figure size 720x504 with 1 Axes>"
      ]
     },
     "metadata": {
      "needs_background": "light"
     },
     "output_type": "display_data"
    }
   ],
   "source": [
    "visualize.make_grade_stacked_bar(nutrition_over_time_reduced, 'nutrition_grade', 'year', 'Count')                        "
   ]
  },
  {
   "cell_type": "markdown",
   "metadata": {},
   "source": [
    "We observe that, as time passes, more products are being added with a nutritional grade, with a peak occurring during the years 2015-2016."
   ]
  },
  {
   "cell_type": "code",
   "execution_count": 26,
   "metadata": {},
   "outputs": [
    {
     "data": {
      "image/png": "[encoded data removed]",
      "text/plain": [
       "<Figure size 720x504 with 1 Axes>"
      ]
     },
     "metadata": {
      "needs_background": "light"
     },
     "output_type": "display_data"
    }
   ],
   "source": [
    "visualize.make_grade_stacked_bar(nutrition_over_time_reduced, 'nutrition_grade', 'year', 'Percentage')"
   ]
  },
  {
   "cell_type": "markdown",
   "metadata": {},
   "source": [
    "We observe that the percentage of prevalence of each grade has been mostly maintained during the last six years with a barely noticeable peak in 2013 for grade 'A'. "
   ]
  },
  {
   "cell_type": "code",
   "execution_count": null,
   "metadata": {},
   "outputs": [],
   "source": [
    "figure = {\n",
    "    'data': [],\n",
    "    'layout': {},\n",
    "    'frames': [],\n",
    "}\n",
    "\n",
    "# fill in most of layout\n",
    "figure['layout']['xaxis'] = {'title': 'Nutrtion Grade'}\n",
    "figure['layout']['yaxis'] = {'title': '# Products'}\n",
    "figure['layout']['hovermode'] = 'closest'\n",
    "\n",
    "# add play and pause button\n",
    "figure['layout']['updatemenus'] = [\n",
    "    {\n",
    "        'buttons': [\n",
    "            {\n",
    "                'args': [None, {'frame': {'duration': 500, 'redraw': False},\n",
    "                         'fromcurrent': True, 'transition': {'duration': 300, 'easing': 'quadratic-in-out'}}],\n",
    "                'label': 'Play',\n",
    "                'method': 'animate'\n",
    "            },\n",
    "            {\n",
    "                'args': [[None], {'frame': {'duration': 0, 'redraw': False}, 'mode': 'immediate',\n",
    "                'transition': {'duration': 0}}],\n",
    "                'label': 'Pause',\n",
    "                'method': 'animate'\n",
    "            }\n",
    "        ],\n",
    "        'direction': 'left',\n",
    "        'pad': {'r': 10, 't': 87},\n",
    "        'showactive': False,\n",
    "        'type': 'buttons',\n",
    "        'x': 0.1,\n",
    "        'xanchor': 'right',\n",
    "        'y': 0,\n",
    "        'yanchor': 'top'\n",
    "    }\n",
    "]\n",
    "\n",
    "# define slider\n",
    "sliders_dict = {\n",
    "    'active': 0,\n",
    "    'yanchor': 'top',\n",
    "    'xanchor': 'left',\n",
    "    'currentvalue': {\n",
    "        'font': {'size': 20},\n",
    "        'prefix': 'Year:',\n",
    "        'visible': True,\n",
    "        'xanchor': 'right'\n",
    "    },\n",
    "    'transition': {'duration': 300, 'easing': 'cubic-in-out'},\n",
    "    'pad': {'b': 10, 't': 50},\n",
    "    'len': 0.9,\n",
    "    'x': 0.1,\n",
    "    'y': 0,\n",
    "    'steps': []\n",
    "}"
   ]
  },
  {
   "cell_type": "code",
   "execution_count": null,
   "metadata": {},
   "outputs": [],
   "source": [
    "year = 2018\n",
    "trace = go.Bar(\n",
    "    x = df[df['year']==year].nutrition_grade.values,\n",
    "    y = df[df['year']==year].Count.values,\n",
    "    marker = dict(\n",
    "        color = [\"#008010\", \"#9ACD32\",\"#FFD700\", \"#FF8C00\", \"#DB4832\"]\n",
    "        ),\n",
    "    )\n",
    "\n",
    "figure['data'].append(trace)"
   ]
  },
  {
   "cell_type": "code",
   "execution_count": null,
   "metadata": {},
   "outputs": [],
   "source": [
    "for year in sorted(df.year.unique()):\n",
    "    \n",
    "    frame = {'data': [], 'name': str(year)}\n",
    "    trace = go.Bar(\n",
    "        x = df[df['year']==year].nutrition_grade.values,\n",
    "        y = df[df['year']==year].Count.values,\n",
    "        marker = dict(\n",
    "            color = [\"#008010\", \"#9ACD32\",\"#FFD700\", \"#FF8C00\", \"#DB4832\"]\n",
    "            ),\n",
    "    )\n",
    "    \n",
    "    frame['data'].append(trace)\n",
    "    figure['frames'].append(frame)\n",
    "    \n",
    "    slider_step = {'args': [\n",
    "        [year],\n",
    "        {'frame': {'duration': 300, 'redraw': False},\n",
    "         'mode': 'immediate',\n",
    "       'transition': {'duration': 300}}\n",
    "     ],\n",
    "     'label': int(year),\n",
    "     'method': 'animate'}\n",
    "    sliders_dict['steps'].append(slider_step)\n",
    "\n",
    "figure['layout']['sliders'] = [sliders_dict]"
   ]
  },
  {
   "cell_type": "code",
   "execution_count": null,
   "metadata": {},
   "outputs": [],
   "source": [
    "iplot(figure, filename='nutrition_grades')"
   ]
  },
  {
   "cell_type": "code",
   "execution_count": null,
   "metadata": {},
   "outputs": [],
   "source": []
  },
  {
   "cell_type": "markdown",
   "metadata": {},
   "source": [
    "##### What are those products made of?\n",
    "What is the composition? Do they contain many additives?  Where are these products sold? "
   ]
  },
  {
   "cell_type": "markdown",
   "metadata": {},
   "source": [
    "This plot displays the most common categories in the list of product possessing a nutritional index"
   ]
  },
  {
   "cell_type": "code",
   "execution_count": null,
   "metadata": {},
   "outputs": [],
   "source": [
    "visualize.make_content_stacked_bar(visualize.plot_grade_content(nutrition_over_time), 'keys', 'grade', 'Percentage')"
   ]
  },
  {
   "cell_type": "markdown",
   "metadata": {},
   "source": [
    "Observe how good nutritional products are mostly (more than 50%) plant-based and how this category shrinks when considering less beneficial food standards. This reduction is compensated by a sharp increase in prevalence of sugary snacks and a lesser increase of meat-based producs. "
   ]
  },
  {
   "cell_type": "markdown",
   "metadata": {},
   "source": [
    "##### Where do these product come from and where are they manufactured?"
   ]
  },
  {
   "cell_type": "code",
   "execution_count": null,
   "metadata": {},
   "outputs": [],
   "source": [
    "visualize.plot_column_composition(nutrition_fr, 'purchase_places') "
   ]
  },
  {
   "cell_type": "markdown",
   "metadata": {},
   "source": [
    "This plot is of course highly bias towards france since the cut was perform on that column"
   ]
  },
  {
   "cell_type": "code",
   "execution_count": null,
   "metadata": {},
   "outputs": [],
   "source": [
    "visualize.plot_column_composition(nutrition_fr, 'manufacturing_place') "
   ]
  },
  {
   "cell_type": "markdown",
   "metadata": {},
   "source": [
    "Naturally, most of the food consumed in France is manufactured there though approximately 30% is produced somewhere else. "
   ]
  },
  {
   "cell_type": "markdown",
   "metadata": {},
   "source": [
    "##### Where are those products sold?"
   ]
  },
  {
   "cell_type": "code",
   "execution_count": null,
   "metadata": {},
   "outputs": [],
   "source": [
    "visualize.plot_column_composition(nutrition_fr, 'stores')"
   ]
  },
  {
   "cell_type": "markdown",
   "metadata": {},
   "source": [
    "As we are only considering products avaible to buy in France, we quite naturally get the leaders in food retail of that country."
   ]
  },
  {
   "cell_type": "markdown",
   "metadata": {},
   "source": [
    "#### Carbon footprint of nutrionally-high graded products\n",
    "\n",
    "In this section we investigate the carbon footprint of different products and categories. Therefore, we investigate the OpenFoodFacts dataset. Common sense would suggest most nutritionally-high graded products are organic (plant, fruit, vegetables, …) and are therefore not manufactured, thus having a small footprint. Let's see what story the data has to tell...\n",
    "\n",
    "But as before, we should be careful as the dataset is biased. So we begin with examing what kind of data is represented in the datasets."
   ]
  },
  {
   "cell_type": "markdown",
   "metadata": {},
   "source": [
    "We begin with extracting all the carbon footprint data. We assume that all products are food items, hence they need to be an organic substance, so it cannot have 0 carbonhydrates, fats, or proteins. If none of these values can be zero, than an zero carbon footprint is non-truthful."
   ]
  },
  {
   "cell_type": "code",
   "execution_count": null,
   "metadata": {},
   "outputs": [],
   "source": [
    "carbon_footprints = food_facts_pd[food_facts_pd['carbon-footprint_100g'].notna() & \n",
    "                                  food_facts_pd['carbon-footprint_100g']>0]"
   ]
  },
  {
   "cell_type": "markdown",
   "metadata": {},
   "source": [
    "First, we should sensibilize for the data that we are dealing with. Therefore we visualize the origin and composition of the products."
   ]
  },
  {
   "cell_type": "code",
   "execution_count": null,
   "metadata": {},
   "outputs": [],
   "source": [
    "visualize.plot_column_composition(df=carbon_footprints, column_str='manufacturing_place')"
   ]
  },
  {
   "cell_type": "markdown",
   "metadata": {},
   "source": [
    "Let's if there is a correlation between country of origin, and hence transportation distance, and the carbon footprint. (No use because all products are from France or missing origin information)."
   ]
  },
  {
   "cell_type": "code",
   "execution_count": null,
   "metadata": {},
   "outputs": [],
   "source": [
    "visualize.plot_column_composition(df=carbon_footprints, column_str='stores')"
   ]
  },
  {
   "cell_type": "markdown",
   "metadata": {},
   "source": [
    "From the above plot, we can observe that the majority of the products are sold in france, and especially the stores in provided by the shops of\n",
    "\n",
    "Most of the carbon footprint data was produced by the research group around ###, that claims that the processed data was ###."
   ]
  },
  {
   "cell_type": "code",
   "execution_count": null,
   "metadata": {},
   "outputs": [],
   "source": [
    "visualize.plot_column_composition(carbon_footprints, column_str='main_category')"
   ]
  },
  {
   "cell_type": "markdown",
   "metadata": {},
   "source": [
    "We see that the main categories that we have carbon footprint data of are sugary snacks (mainly plain chocolets) and dairies. This is not surprising since they are made up of only few ingredients. "
   ]
  },
  {
   "cell_type": "code",
   "execution_count": null,
   "metadata": {},
   "outputs": [],
   "source": [
    "# Food calories over carbon-foot print\n",
    "visualize.plot_cluster_by_tags(df=carbon_footprints,\n",
    "                               plot2D_features = [\"carbon-footprint_100g\", \"price_per_100g\"],\n",
    "                               cluster=\"main_category\")"
   ]
  },
  {
   "cell_type": "markdown",
   "metadata": {},
   "source": [
    "The above prices were found from online stores of Walmart, Monoprix, and Migros. It should be noted, that the dataset only contains dairies and sweets with carbon footprint, so we hope to gain more insight for other products from the Carbon Footprint Eaternity dataset."
   ]
  },
  {
   "cell_type": "code",
   "execution_count": null,
   "metadata": {},
   "outputs": [],
   "source": []
  },
  {
   "cell_type": "markdown",
   "metadata": {},
   "source": [
    "##### Is there a general correlation between high carbon footprint and price? "
   ]
  },
  {
   "cell_type": "markdown",
   "metadata": {},
   "source": [
    "We wait for more carbon footprint data before we analyse this dependency."
   ]
  },
  {
   "cell_type": "code",
   "execution_count": null,
   "metadata": {},
   "outputs": [],
   "source": [
    "#pip install translate\n",
    "from translate import Translator\n",
    "translator = Translator(from_lang=\"german\",to_lang=\"english\")\n",
    "for i in range(len(carbon_footprint_pd)):\n",
    "    category = carbon_footprint_pd['category'].iloc[i]\n",
    "    cat_translated = translator.translate(category)\n",
    "    print(category,cat_translated)\n",
    "\n"
   ]
  },
  {
   "cell_type": "markdown",
   "metadata": {},
   "source": [
    "**Thanks for Reading !**"
   ]
  }
 ],
 "metadata": {
  "kernelspec": {
   "display_name": "ADA",
   "language": "python",
   "name": "ada"
  },
  "language_info": {
   "codemirror_mode": {
    "name": "ipython",
    "version": 3
   },
   "file_extension": ".py",
   "mimetype": "text/x-python",
   "name": "python",
   "nbconvert_exporter": "python",
   "pygments_lexer": "ipython3",
   "version": "3.6.6"
  },
  "toc": {
   "base_numbering": 1,
   "nav_menu": {
    "height": "465px",
    "width": "745px"
   },
   "number_sections": true,
   "sideBar": true,
   "skip_h1_title": true,
   "title_cell": "Table of Contents",
   "title_sidebar": "Contents",
   "toc_cell": true,
   "toc_position": {
    "height": "calc(100% - 180px)",
    "left": "10px",
    "top": "150px",
    "width": "165px"
   },
   "toc_section_display": true,
   "toc_window_display": false
  }
 },
 "nbformat": 4,
 "nbformat_minor": 2
}
