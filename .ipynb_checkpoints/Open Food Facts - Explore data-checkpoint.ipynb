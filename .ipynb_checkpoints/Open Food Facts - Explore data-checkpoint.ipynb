{
 "cells": [
  {
   "cell_type": "markdown",
   "metadata": {},
   "source": [
    "# Open Food Facts: the carbon “food-print” we do not eat\n",
    "\n",
    "## Abstract\n",
    "<i>Everything we do has a carbon footprint, and our diet is no exception. From growing, farming, processing and packaging our food, energy and organic resources are consumed and released, which reflects in the emission of greenhouse gases, like CO<sub>2</sub>. In our project, we analyze the processed foods industry - its manufacturing, product composition, and sales - for the main sources of carbon emissions, using the Open Food Facts dataset. We explain the carbon footprint repartition, starting on an understanding of the products, followed by the breakdown of production countries as well as point of sales and evaluating trends in diet composition, with a special focus on nutritionally high marked products in France and the UK. \n",
    "\n",
    "With this study, we want to provide a better understanding of the agri-food industry, and eventually help reducing carbon emissions.</i>"
   ]
  },
  {
   "cell_type": "markdown",
   "metadata": {},
   "source": [
    "In this notebook, we are performingt the above analysis on the OpenFoodFacts database, which we pre-processed using the __Open Food Facts - Cleanse Data__ notebook in the main directory."
   ]
  },
  {
   "cell_type": "markdown",
   "metadata": {
    "toc": true
   },
   "source": [
    "<h1>Table of Contents<span class=\"tocSkip\"></span></h1>\n",
    "<div class=\"toc\"><ul class=\"toc-item\"><li><span><a href=\"#Abstract\" data-toc-modified-id=\"Abstract-1\"><span class=\"toc-item-num\">1&nbsp;&nbsp;</span>Abstract</a></span></li><li><span><a href=\"#Import-cleansed-data\" data-toc-modified-id=\"Import-cleansed-data-2\"><span class=\"toc-item-num\">2&nbsp;&nbsp;</span>Import cleansed data</a></span></li><li><span><a href=\"#Analyse-data\" data-toc-modified-id=\"Analyse-data-3\"><span class=\"toc-item-num\">3&nbsp;&nbsp;</span>Analyse data</a></span><ul class=\"toc-item\"><li><span><a href=\"#Production-/-manufacture-impact\" data-toc-modified-id=\"Production-/-manufacture-impact-3.1\"><span class=\"toc-item-num\">3.1&nbsp;&nbsp;</span>Production / manufacture impact</a></span><ul class=\"toc-item\"><li><span><a href=\"#Global-distribution-of-global-food-producers\" data-toc-modified-id=\"Global-distribution-of-global-food-producers-3.1.1\"><span class=\"toc-item-num\">3.1.1&nbsp;&nbsp;</span>Global distribution of global food producers</a></span><ul class=\"toc-item\"><li><span><a href=\"#Which-are-the-dominant-global-food-producers-and-manufacturers?\" data-toc-modified-id=\"Which-are-the-dominant-global-food-producers-and-manufacturers?-3.1.1.1\"><span class=\"toc-item-num\">3.1.1.1&nbsp;&nbsp;</span>Which are the dominant global food producers and manufacturers?</a></span></li><li><span><a href=\"#How-is-this-distribution-impacted-when-we-consider-neutral-and-large-carbon-footprint-products?\" data-toc-modified-id=\"How-is-this-distribution-impacted-when-we-consider-neutral-and-large-carbon-footprint-products?-3.1.1.2\"><span class=\"toc-item-num\">3.1.1.2&nbsp;&nbsp;</span>How is this distribution impacted when we consider neutral and large carbon footprint products?</a></span></li></ul></li><li><span><a href=\"#Case-study:-Palm-oil\" data-toc-modified-id=\"Case-study:-Palm-oil-3.1.2\"><span class=\"toc-item-num\">3.1.2&nbsp;&nbsp;</span>Case study: Palm oil</a></span><ul class=\"toc-item\"><li><span><a href=\"#Can-we-observe-any-trend-in-the-number-of-products-including-this-oil-(assuming-a-strong-dependence-between-date-the-product-was-added-to-the-database-and-data-the-product-was-invented)?\" data-toc-modified-id=\"Can-we-observe-any-trend-in-the-number-of-products-including-this-oil-(assuming-a-strong-dependence-between-date-the-product-was-added-to-the-database-and-data-the-product-was-invented)?-3.1.2.1\"><span class=\"toc-item-num\">3.1.2.1&nbsp;&nbsp;</span>Can we observe any trend in the number of products including this oil (assuming a strong dependence between date the product was added to the database and data the product was invented)?</a></span></li><li><span><a href=\"#Which-country-use-palm-oils-for-production?\" data-toc-modified-id=\"Which-country-use-palm-oils-for-production?-3.1.2.2\"><span class=\"toc-item-num\">3.1.2.2&nbsp;&nbsp;</span>Which country use palm oils for production?</a></span></li></ul></li></ul></li><li><span><a href=\"#Good-nutrition-impact\" data-toc-modified-id=\"Good-nutrition-impact-3.2\"><span class=\"toc-item-num\">3.2&nbsp;&nbsp;</span>Good nutrition impact</a></span><ul class=\"toc-item\"><li><span><a href=\"#High-nutrional-products\" data-toc-modified-id=\"High-nutrional-products-3.2.1\"><span class=\"toc-item-num\">3.2.1&nbsp;&nbsp;</span>High-nutrional products</a></span><ul class=\"toc-item\"><li><span><a href=\"#Has-there-been-a-surge-in-high-graded-Products-in-the-UK-/-France-over-the-past-years?\" data-toc-modified-id=\"Has-there-been-a-surge-in-high-graded-Products-in-the-UK-/-France-over-the-past-years?-3.2.1.1\"><span class=\"toc-item-num\">3.2.1.1&nbsp;&nbsp;</span>Has there been a surge in high graded Products in the UK / France over the past years?</a></span></li><li><span><a href=\"#What-are-those-products-made-of?\" data-toc-modified-id=\"What-are-those-products-made-of?-3.2.1.2\"><span class=\"toc-item-num\">3.2.1.2&nbsp;&nbsp;</span>What are those products made of?</a></span></li><li><span><a href=\"#Where-do-these-product-come-from-and-where-are-they-manufactured?\" data-toc-modified-id=\"Where-do-these-product-come-from-and-where-are-they-manufactured?-3.2.1.3\"><span class=\"toc-item-num\">3.2.1.3&nbsp;&nbsp;</span>Where do these product come from and where are they manufactured?</a></span></li><li><span><a href=\"#Where-are-those-products-sold?\" data-toc-modified-id=\"Where-are-those-products-sold?-3.2.1.4\"><span class=\"toc-item-num\">3.2.1.4&nbsp;&nbsp;</span>Where are those products sold?</a></span></li></ul></li><li><span><a href=\"#Carbon-footprint-of-nutrionally-high-graded-products\" data-toc-modified-id=\"Carbon-footprint-of-nutrionally-high-graded-products-3.2.2\"><span class=\"toc-item-num\">3.2.2&nbsp;&nbsp;</span>Carbon footprint of nutrionally-high graded products</a></span><ul class=\"toc-item\"><li><span><a href=\"#Is-there-a-general-correlation-between-high-carbon-footprint-and-price?\" data-toc-modified-id=\"Is-there-a-general-correlation-between-high-carbon-footprint-and-price?-3.2.2.1\"><span class=\"toc-item-num\">3.2.2.1&nbsp;&nbsp;</span>Is there a general correlation between high carbon footprint and price?</a></span></li></ul></li></ul></li></ul></li></ul></div>"
   ]
  },
  {
   "cell_type": "code",
   "execution_count": null,
   "metadata": {},
   "outputs": [],
   "source": [
    "import numpy as np\n",
    "import pandas as pd\n",
    "import matplotlib.pyplot as plt\n",
    "import folium\n",
    "from scipy import stats\n",
    "from datetime import datetime\n",
    "\n",
    "import json\n",
    "import pickle\n",
    "\n",
    "import os\n",
    "import sys\n",
    "nb_dir = os.path.split(os.getcwd())[0]\n",
    "if nb_dir not in sys.path:\n",
    "    sys.path.append(nb_dir)\n",
    "    \n",
    "%load_ext autoreload\n",
    "%autoreload 2\n",
    "    \n",
    "import libs.exploring as explore\n",
    "import libs.visualising as visualize\n",
    "import libs.cleansing as cleanse\n",
    "\n",
    "# Set up plotly environment\n",
    "from plotly.offline import download_plotlyjs, init_notebook_mode, plot, iplot\n",
    "import plotly.graph_objs as go\n",
    "\n",
    "init_notebook_mode(connected=True)"
   ]
  },
  {
   "cell_type": "markdown",
   "metadata": {},
   "source": [
    "## Import cleansed data"
   ]
  },
  {
   "cell_type": "code",
   "execution_count": null,
   "metadata": {},
   "outputs": [],
   "source": [
    "# Import data\n",
    "open_food_facts_csv_file = \"./data/openfoodfacts_clean.csv\"\n",
    "\n",
    "food_facts_pd = pd.read_csv(open_food_facts_csv_file,\n",
    "                            delimiter=\"\\t\")"
   ]
  },
  {
   "cell_type": "code",
   "execution_count": null,
   "metadata": {},
   "outputs": [],
   "source": [
    "# Change column data types\n",
    "food_facts_pd['carbon-footprint_100g'] = food_facts_pd['carbon-footprint_100g'].apply(pd.to_numeric, args=('coerce',))\n",
    "food_facts_pd['energy_100g'] = food_facts_pd['energy_100g'].apply(pd.to_numeric, args=('coerce',))\n",
    "food_facts_pd['price_per_100g'] = food_facts_pd['price_per_100g'].apply(pd.to_numeric, args=('coerce',))\n",
    "food_facts_pd['created_datetime'] = food_facts_pd['created_datetime'].apply(pd.to_datetime, args=('coerce',))\n",
    "\n",
    "# Replace missing values\n",
    "food_facts_pd.origins_cleaned= food_facts_pd.origins_cleaned.fillna(\"['Unknown']\")\n",
    "food_facts_pd.manufacturing_place_cleaned= food_facts_pd.manufacturing_place_cleaned.fillna(\"['Unknown']\")\n",
    "food_facts_pd.purchase_places_cleaned= food_facts_pd.purchase_places_cleaned.fillna(\"['Unknown']\")\n",
    "# food_facts_pd = food_facts_pd.fillna('')\n",
    "\n",
    "# List tags\n",
    "food_facts_pd.origins_cleaned = \\\n",
    "    food_facts_pd.origins_cleaned.apply(lambda l: cleanse.read(l))\n",
    "\n",
    "food_facts_pd.manufacturing_place_cleaned = \\\n",
    "    food_facts_pd.manufacturing_place_cleaned.apply(lambda l: cleanse.read(l))\n",
    "\n",
    "food_facts_pd.purchase_places_cleaned = \\\n",
    "                        food_facts_pd.purchase_places_cleaned.apply(lambda l: cleanse.read(l))"
   ]
  },
  {
   "cell_type": "code",
   "execution_count": null,
   "metadata": {},
   "outputs": [],
   "source": [
    "food_facts_pd.head(5)"
   ]
  },
  {
   "cell_type": "markdown",
   "metadata": {},
   "source": [
    "Additionally to the OpenFoodFact dataset, we obtained an extract of the Eaternity dataset hosted by the ETH Zurich, which contains 692 more products and their CO2 footprint. Unfortunately, these products are not contained in the OpenFoodFacts database, so we lack manufacturing and purchasing information as well as the OpenFoodFacts categories for this set."
   ]
  },
  {
   "cell_type": "code",
   "execution_count": null,
   "metadata": {},
   "outputs": [],
   "source": [
    "# Import data\n",
    "carbon_footprint_csv_file = \"./data/carbon_footprint_categories.csv\"\n",
    "\n",
    "carbon_footprint_pd = pd.read_csv(carbon_footprint_csv_file, delimiter=\"\\t\")\n",
    "carbon_footprint_pd.info()"
   ]
  },
  {
   "cell_type": "code",
   "execution_count": null,
   "metadata": {},
   "outputs": [],
   "source": [
    "carbon_footprint_pd.head(5)"
   ]
  },
  {
   "cell_type": "markdown",
   "metadata": {},
   "source": [
    "## Analyse data"
   ]
  },
  {
   "cell_type": "markdown",
   "metadata": {},
   "source": [
    "Before we analyse the data, we have to some confesssions to make:\n",
    "\n",
    "The data that we loaded into this notebook was already preprocessed in the \"Open Food Facts - Cleanse data\" notebook, that can be found in the same directory. In there we translated countries, labels, and categories and formatted and matched tags. However, we also droped more than 90% of the data set, because the data points were not complete for the purpose of our analysis.\n",
    "\n",
    "OpenFoodFacts was initiated in France, and products sold in france are dominantly represented in this data set. Moreover, most of the products are sold in Europe or industrial nations, and we have no or only sparse data about the African, Asian, Australian, and South-american continent, which excludes the majority of the world population and especially the societes in Asia and Africa, that undergo the most decisive transformations at the moment.\n",
    "\n",
    "Further, we only have qualitative data about the products, but no quantities that are produced and purchased world wide, hence we cannot provide a scale for all the insights that we gain throughout this notebook.\n",
    "\n",
    "What we are trying to say is, that the data is under no circumstances representive to analyse the the research questions that we have posed. However, we will provide the methods to perform this analysis on this comprised dataset, and see what kind of insights we can already squeek out of it."
   ]
  },
  {
   "cell_type": "markdown",
   "metadata": {},
   "source": [
    "### Production / manufacture impact"
   ]
  },
  {
   "cell_type": "markdown",
   "metadata": {},
   "source": [
    "#### Global distribution of global food producers"
   ]
  },
  {
   "cell_type": "code",
   "execution_count": null,
   "metadata": {},
   "outputs": [],
   "source": [
    "countries_label = pd.read_csv(\"./data/country_lookup.csv\")[['name', 'cca3']]     "
   ]
  },
  {
   "cell_type": "markdown",
   "metadata": {},
   "source": [
    "##### Which are the dominant global food producers and manufacturers?"
   ]
  },
  {
   "cell_type": "markdown",
   "metadata": {},
   "source": [
    "- From where are those products originating?"
   ]
  },
  {
   "cell_type": "code",
   "execution_count": null,
   "metadata": {},
   "outputs": [],
   "source": [
    "values_set, values_count_origins = visualize.plot_occurences_of_distinct_values(food_facts_pd, 'origins_cleaned')"
   ]
  },
  {
   "cell_type": "code",
   "execution_count": null,
   "metadata": {},
   "outputs": [],
   "source": [
    "values_count_origins = pd.DataFrame.from_dict(values_count_origins, orient='index', columns=['Count']).reset_index().rename(index=str, columns={\"index\": \"Country\", \"Count\": \"Count\"})\n",
    "values_count_origins = values_count_origins[values_count_origins.Country != \"Unknown\"]\n",
    "values_count_origins['cca3'] = values_count_origins.Country.apply(lambda l: visualize.search_cca3(l, countries_label))\n",
    "values_count_origins['Count'] = values_count_origins.Count.apply(lambda l: np.log(l))\n",
    "values_count_origins= values_count_origins[['cca3', 'Count']]\n"
   ]
  },
  {
   "cell_type": "code",
   "execution_count": null,
   "metadata": {},
   "outputs": [],
   "source": []
  },
  {
   "cell_type": "code",
   "execution_count": null,
   "metadata": {},
   "outputs": [],
   "source": [
    "country_geo = './data/world-countries.json'\n",
    "\n",
    "m = folium.Map(location=[0, 0], tiles='Mapbox Bright', zoom_start=1.5, control_scale= True)\n",
    "\n",
    "# choropleth maps bind Pandas Data Frames and json geometries.\n",
    "folium.Choropleth(geo_data=country_geo,\n",
    "               data=values_count_origins,\n",
    "               columns=['cca3', 'Count'],\n",
    "               fill_color='YlGnBu',\n",
    "               nan_fill_color='purple', \n",
    "               nan_fill_opacity=0.4,\n",
    "               key_on='feature.id',\n",
    "               threshold_scale=[0, 1, 2, 5,8,11],\n",
    "               legend_name='Origin Country : logscale of entries (base 10) [Countries in purple are empty]',\n",
    "               fill_opacity=0.7, \n",
    "               line_opacity=0.2,\n",
    "               ).add_to(m)\n",
    "m.save(\"folium-palm_oil_products-origin_countries.html\")\n",
    "m"
   ]
  },
  {
   "cell_type": "markdown",
   "metadata": {},
   "source": [
    "Note that country in purple are  not assigned any value. "
   ]
  },
  {
   "cell_type": "markdown",
   "metadata": {},
   "source": [
    "- Where are those products manufactured?"
   ]
  },
  {
   "cell_type": "code",
   "execution_count": null,
   "metadata": {},
   "outputs": [],
   "source": [
    "values_set, values_count_manufacturing = visualize.plot_occurences_of_distinct_values(food_facts_pd, 'manufacturing_place_cleaned')"
   ]
  },
  {
   "cell_type": "code",
   "execution_count": null,
   "metadata": {},
   "outputs": [],
   "source": [
    "values_count_manufacturing = pd.DataFrame.from_dict(values_count_manufacturing, orient='index', columns=['Count']).reset_index().rename(index=str, columns={\"index\": \"Country\", \"Count\": \"Count\"})\n",
    "values_count_manufacturing = values_count_manufacturing[values_count_manufacturing.Country != \"Unknown\"]\n",
    "values_count_manufacturing['cca3'] = values_count_manufacturing.Country.apply(lambda l: visualize.search_cca3(l, countries_label))\n",
    "values_count_manufacturing['Count'] = values_count_manufacturing.Count.apply(lambda l: np.log(l))\n",
    "values_count_manufacturing= values_count_manufacturing[['cca3', 'Count']]\n"
   ]
  },
  {
   "cell_type": "code",
   "execution_count": null,
   "metadata": {},
   "outputs": [],
   "source": [
    "df = values_count_manufacturing"
   ]
  },
  {
   "cell_type": "code",
   "execution_count": null,
   "metadata": {},
   "outputs": [],
   "source": [
    "# Load the first sheet of the JSON file into a data frame\n",
    "countries = pd.read_json('./data/countries_latlon.json')\n",
    "\n",
    "# TODO Set colorscale\n",
    "# TODO change color of missing countries\n",
    "# TODO scale of both maps accordingly\n",
    "# TODO delete map and make lines thinner\n",
    "\n",
    "worldmap = [ dict(\n",
    "        type = 'choropleth',\n",
    "        locations = df['cca3'],\n",
    "        z = df['Count'],\n",
    "        text = df['cca3'],\n",
    "        colorscale = [[0,\"rgb(5, 10, 172)\"],[0.35,\"rgb(40, 60, 190)\"],[0.5,\"rgb(70, 100, 245)\"],\\\n",
    "                [0.6,\"rgb(90, 120, 245)\"],[0.7,\"rgb(106, 137, 247)\"],[1,\"rgb(220, 220, 220)\"]],\n",
    "        autocolorscale = False,\n",
    "        reversescale = True,\n",
    "        colorbar = dict(\n",
    "            autotick = True,\n",
    "            title = 'Counts'),\n",
    "      ) ]\n",
    "\n",
    "lines = []\n",
    "france_latlng = countries.loc[countries['cca3'] == 'FRA']['latlng'].iloc[0]\n",
    "for i, row in values_count_manufacturing.iterrows():\n",
    "    country_latlng = countries.loc[countries['cca3'] == row['cca3']]['latlng'].iloc[0]\n",
    "    lines.append(\n",
    "        dict(\n",
    "            type = 'scattergeo',\n",
    "            lon = [ country_latlng[1], france_latlng[1] ],\n",
    "            lat = [ country_latlng[0], france_latlng[0] ],\n",
    "            mode = 'lines',\n",
    "            line = dict(\n",
    "                width = row['Count'],\n",
    "                color = 'red',\n",
    "            ),\n",
    "        )\n",
    "    )\n",
    "\n",
    "layout = dict(\n",
    "    title = 'Manufacturing countries for products sold in France',\n",
    "    geo = dict(\n",
    "        showframe = False,\n",
    "        showcoastlines = False,\n",
    "        projection = dict(\n",
    "            type = 'equirectangular'\n",
    "        )\n",
    "    ),\n",
    "    showlegend=False,\n",
    "    xaxis = dict(fixedrange = True),\n",
    "    yaxis = dict(fixedrange = True)\n",
    "\n",
    ")\n",
    "\n",
    "fig = dict( data=worldmap + lines, layout=layout )\n",
    "iplot( fig, validate=False, filename='d3-world-map' )"
   ]
  },
  {
   "cell_type": "code",
   "execution_count": null,
   "metadata": {},
   "outputs": [],
   "source": [
    "country_geo = './data/world-countries.json'\n",
    "\n",
    "m = folium.Map(location=[0, 0], tiles='Mapbox Bright', zoom_start=1.5)\n",
    "\n",
    "# choropleth maps bind Pandas Data Frames and json geometries.\n",
    "folium.Choropleth(geo_data=country_geo,\n",
    "               data=values_count_manufacturing,\n",
    "               columns=['cca3', 'Count'],\n",
    "               fill_color='YlGnBu', \n",
    "               nan_fill_color='purple', \n",
    "               nan_fill_opacity=0.4,\n",
    "               key_on='feature.id',\n",
    "               threshold_scale=[0, 1, 2, 5,8,11],\n",
    "               legend_name='Manufacturing : logscale of entries (base 10) [Countries in purple are empty]',\n",
    "               fill_opacity=0.7, \n",
    "               line_opacity=0.2,\n",
    "               ).add_to(m)\n",
    "m.save(\"folium-palm_oil_products-production_countries.html\")\n",
    "m"
   ]
  },
  {
   "cell_type": "markdown",
   "metadata": {},
   "source": [
    "- Where are those products bought?"
   ]
  },
  {
   "cell_type": "code",
   "execution_count": null,
   "metadata": {},
   "outputs": [],
   "source": [
    "values_set, values_count_purchase = visualize.plot_occurences_of_distinct_values(food_facts_pd, 'purchase_places_cleaned')"
   ]
  },
  {
   "cell_type": "code",
   "execution_count": null,
   "metadata": {},
   "outputs": [],
   "source": [
    "values_count_purchase = pd.DataFrame.from_dict(values_count_purchase, orient='index', columns=['Count']).reset_index().rename(index=str, columns={\"index\": \"Country\", \"Count\": \"Count\"})\n",
    "values_count_purchase = values_count_purchase[values_count_purchase.Country != \"Unknown\"]\n",
    "values_count_purchase['cca3'] = values_count_purchase.Country.apply(lambda l: visualize.search_cca3(l, countries_label))\n",
    "values_count_purchase['Count'] = values_count_purchase.Count.apply(lambda l: np.log(l))\n",
    "values_count_purchase= values_count_purchase[['cca3', 'Count']]\n"
   ]
  },
  {
   "cell_type": "code",
   "execution_count": null,
   "metadata": {},
   "outputs": [],
   "source": [
    "country_geo = './data/world-countries.json'\n",
    "\n",
    "m = folium.Map(location=[0, 0], tiles='Mapbox Bright', zoom_start=1.5)\n",
    "\n",
    "# choropleth maps bind Pandas Data Frames and json geometries.\n",
    "folium.Choropleth(geo_data=country_geo,\n",
    "               data=values_count_purchase,\n",
    "               columns=['cca3', 'Count'],\n",
    "               fill_color='YlGnBu',\n",
    "               nan_fill_color='purple', \n",
    "               nan_fill_opacity=0.4,\n",
    "               key_on='feature.id',\n",
    "               threshold_scale=[0, 1, 2, 5,8,11],\n",
    "               legend_name='Purchasing : logscale of entries (base 10) [Countries in purple are empty]',\n",
    "               fill_opacity=0.7, \n",
    "               line_opacity=0.2,\n",
    "               ).add_to(m)\n",
    "m.save(\"folium-palm_oil_products-purchase_countries.html\")\n",
    "m"
   ]
  },
  {
   "cell_type": "markdown",
   "metadata": {},
   "source": [
    "In conclusion, we note that we mainly have data for \"western\" countries, with a <b> huge bias toward France</b>. We mostly lack information for country in Africa and the centre of Asia. Our dataset is thus clearly not a truthful representation of the world. We shall therefore restrict our analysis to the case of France, meaning purchases countries will be limited to the case of France. [This category was selected since it is the most furnished one.] \n",
    "\n",
    "This is carried out in the next cell. Note that <i> purchases_places_cleaned </i> is only requested to contain 'France' as one of the entries in its list. There could thus be other countries still contained in the <i> purchases_places_cleaned </i> column. "
   ]
  },
  {
   "cell_type": "code",
   "execution_count": null,
   "metadata": {},
   "outputs": [],
   "source": [
    "food_facts_pd['filter'] = food_facts_pd.purchase_places_cleaned.apply(lambda l: explore.filter_france(l))\n",
    "food_facts_pd = food_facts_pd[food_facts_pd['filter'] == 'France'].drop(columns=['filter'])"
   ]
  },
  {
   "cell_type": "markdown",
   "metadata": {},
   "source": [
    "##### How is this distribution impacted when we consider neutral and large carbon footprint products? "
   ]
  },
  {
   "cell_type": "code",
   "execution_count": null,
   "metadata": {},
   "outputs": [],
   "source": [
    "# dataset carbon footprint coming from Eaternity\n",
    "# This will be assess in future version of this project\n"
   ]
  },
  {
   "cell_type": "markdown",
   "metadata": {},
   "source": [
    "#### Case study: Palm oil"
   ]
  },
  {
   "cell_type": "markdown",
   "metadata": {},
   "source": [
    "##### Can we observe any trend in the number of products including this oil (assuming a strong dependence between date the product was added to the database and data the product was invented)?"
   ]
  },
  {
   "cell_type": "code",
   "execution_count": null,
   "metadata": {},
   "outputs": [],
   "source": [
    "#extracting products with palm oil \n",
    "palm_oil_pd = food_facts_pd[food_facts_pd.ingredients_text.str.contains(\"palm\").fillna(value=False)]"
   ]
  },
  {
   "cell_type": "code",
   "execution_count": null,
   "metadata": {},
   "outputs": [],
   "source": [
    "palm_oil_pd"
   ]
  },
  {
   "cell_type": "code",
   "execution_count": null,
   "metadata": {},
   "outputs": [],
   "source": [
    "print('{0:.2f} % of the products in the dataset contain palm oil'.format(palm_oil_pd.shape[0]/food_facts_pd.shape[0]*100))"
   ]
  },
  {
   "cell_type": "code",
   "execution_count": null,
   "metadata": {},
   "outputs": [],
   "source": [
    "#palm_oil_pd.groupby('main_category')\n",
    "palm_oil_pd['created_yyyy'] = palm_oil_pd[\"created_datetime\"].dt.year"
   ]
  },
  {
   "cell_type": "code",
   "execution_count": null,
   "metadata": {},
   "outputs": [],
   "source": [
    "#plotly.tools.set_credentials_file(username='ninatubau', api_key='z75HqORQkKdVL98Fi0tX')\n"
   ]
  },
  {
   "cell_type": "code",
   "execution_count": null,
   "metadata": {},
   "outputs": [],
   "source": []
  },
  {
   "cell_type": "code",
   "execution_count": null,
   "metadata": {},
   "outputs": [],
   "source": [
    "palm_oil_over_time = palm_oil_pd['created_yyyy'].value_counts()"
   ]
  },
  {
   "cell_type": "code",
   "execution_count": null,
   "metadata": {
    "scrolled": true
   },
   "outputs": [],
   "source": [
    "data = [go.Bar(x=palm_oil_over_time.index,\n",
    "            y=palm_oil_over_time.values)]\n",
    "\n",
    "layout = go.Layout(\n",
    "    title='Usage of palm oil over time',\n",
    "    xaxis=dict(\n",
    "        title='time (years)',\n",
    "        titlefont=dict(\n",
    "            family='Courier New, monospace',\n",
    "            size=18,\n",
    "            color='#7f7f7f'\n",
    "        )\n",
    "    ),\n",
    "    yaxis=dict(\n",
    "        title='number of products with palm oil',\n",
    "        titlefont=dict(\n",
    "            family='Courier New, monospace',\n",
    "            size=18,\n",
    "            color='#7f7f7f'\n",
    "        )\n",
    "    )\n",
    ")\n",
    "fig = go.Figure(data=data, layout=layout)\n",
    "\n",
    "iplot(fig, filename='jupyter-basic_bar')"
   ]
  },
  {
   "cell_type": "markdown",
   "metadata": {},
   "source": [
    "There is a clear tendancy of using palm oil in products from 2012 up to now. Also, we notice a large increase in the palm oil products these lasts years. "
   ]
  },
  {
   "cell_type": "markdown",
   "metadata": {},
   "source": [
    "##### Which country use palm oils for production?"
   ]
  },
  {
   "cell_type": "code",
   "execution_count": null,
   "metadata": {},
   "outputs": [],
   "source": [
    "a = palm_oil_pd.origins_cleaned.groupby(palm_oil_pd.origins_cleaned).sum"
   ]
  },
  {
   "cell_type": "code",
   "execution_count": null,
   "metadata": {},
   "outputs": [],
   "source": [
    "visualize.plot_column_composition(palm_oil_pd, 'purchase_places_cleaned' )"
   ]
  },
  {
   "cell_type": "code",
   "execution_count": null,
   "metadata": {},
   "outputs": [],
   "source": [
    "visualize.plot_column_composition(palm_oil_pd, 'manufacturing_place_cleaned' )"
   ]
  },
  {
   "cell_type": "markdown",
   "metadata": {},
   "source": [
    "### Good nutrition impact"
   ]
  },
  {
   "cell_type": "code",
   "execution_count": null,
   "metadata": {},
   "outputs": [],
   "source": [
    "nutrition_fr = food_facts_pd[['product_name',\n",
    "                              'created_datetime',\n",
    "                              'nutrition-score-fr_100g', \n",
    "                              'product_name', \n",
    "                              'main_category', \n",
    "                              'origins_cleaned', \n",
    "                              'purchase_places_cleaned', \n",
    "                              'manufacturing_place_cleaned',\n",
    "                              'stores']\n",
    "                            ]\n",
    "\n",
    "nutrition_fr = nutrition_fr[nutrition_fr['nutrition-score-fr_100g'].notna()]\n",
    "nutrition_over_time = nutrition_fr.sort_values(by = 'created_datetime')\n",
    "nutrition_over_time['main_category'] = nutrition_over_time.main_category.fillna(value='Unknown')"
   ]
  },
  {
   "cell_type": "markdown",
   "metadata": {},
   "source": [
    "Meanong of the nutrition score index can be found at https://world.openfoodfacts.org/nutriscore. The main facts are the following : \n",
    "- Products are marked according to the amount of nutrients they contain [per 100 g] and given a grade between A and E (A being obviously the best mark).\n",
    "\n",
    "<img src=\"Images/nutriscore.png\" height=\"540\" width=\"336\">\n",
    "\n",
    "- If the product is solids, this is linked to a nutrition score as displayed the next table. This score itself is computed with two parts. The first one considers the energy, saturated fat, sugars and sodium. A high level in that category is considered unhealthy. The second part reflects the proportion of fruits, vegetables and nuts, fibers and proteins for which high levels are considered beneficial to the health.\n",
    "\n",
    "<img src=\"Images/nutriscore_table.png\" height=\"1000\" width=\"900\">\n",
    "\n"
   ]
  },
  {
   "cell_type": "code",
   "execution_count": null,
   "metadata": {},
   "outputs": [],
   "source": [
    "#Assigning the grades\n",
    "nutrition_over_time[\"nutrition_grade\"] =\\\n",
    "                                    nutrition_over_time[['nutrition-score-fr_100g','main_category']].\\\n",
    "                                    apply(explore.assign_score, axis=1)\n"
   ]
  },
  {
   "cell_type": "markdown",
   "metadata": {},
   "source": [
    "#### High-nutrional products"
   ]
  },
  {
   "cell_type": "markdown",
   "metadata": {},
   "source": [
    "##### Has there been a surge in high graded Products in the UK / France over the past years?"
   ]
  },
  {
   "cell_type": "code",
   "execution_count": null,
   "metadata": {},
   "outputs": [],
   "source": [
    "nutrition_over_time_reduced = explore.nutrition_grade(nutrition_over_time)"
   ]
  },
  {
   "cell_type": "markdown",
   "metadata": {},
   "source": [
    "#### High-nutrional products"
   ]
  },
  {
   "cell_type": "code",
   "execution_count": null,
   "metadata": {},
   "outputs": [],
   "source": [
    "visualize.make_grade_stacked_bar(nutrition_over_time_reduced, 'nutrition_grade', 'year', 'Count')                        "
   ]
  },
  {
   "cell_type": "markdown",
   "metadata": {},
   "source": [
    "We observe that, as time passes, more products are being added with a nutritional grade, with a peak occurring during the years 2015-2016."
   ]
  },
  {
   "cell_type": "code",
   "execution_count": null,
   "metadata": {},
   "outputs": [],
   "source": [
    "visualize.make_grade_stacked_bar(nutrition_over_time_reduced, 'nutrition_grade', 'year', 'Percentage')"
   ]
  },
  {
   "cell_type": "markdown",
   "metadata": {},
   "source": [
    "We observe that the percentage of prevalence of each grade has been mostly maintained during the last six years with a barely noticeable peak in 2013 for grade 'A'. "
   ]
  },
  {
   "cell_type": "markdown",
   "metadata": {},
   "source": [
    "##### What are those products made of?\n",
    "What is the composition? Do they contain many additives?  Where are these products sold? "
   ]
  },
  {
   "cell_type": "code",
   "execution_count": null,
   "metadata": {},
   "outputs": [],
   "source": [
    "visualize.plot_column_composition(nutrition_fr, 'main_category')"
   ]
  },
  {
   "cell_type": "markdown",
   "metadata": {},
   "source": [
    "This plot displays the most common categories in the list of product possessing a nutritional index"
   ]
  },
  {
   "cell_type": "code",
   "execution_count": null,
   "metadata": {},
   "outputs": [],
   "source": [
    "visualize.make_content_stacked_bar(visualize.plot_grade_content(nutrition_over_time), 'keys', 'grade', 'Percentage')"
   ]
  },
  {
   "cell_type": "markdown",
   "metadata": {},
   "source": [
    "Observe how good nutritional products are mostly (more than 50%) plant-based and how this category shrinks when considering less beneficial food standards. This reduction is compensated by a sharp increase in prevalence of sugary snacks and a lesser increase of meat-based producs. "
   ]
  },
  {
   "cell_type": "markdown",
   "metadata": {},
   "source": [
    "##### Where do these product come from and where are they manufactured?"
   ]
  },
  {
   "cell_type": "code",
   "execution_count": null,
   "metadata": {},
   "outputs": [],
   "source": [
    "visualize.plot_column_composition(nutrition_fr, 'purchase_places_cleaned') "
   ]
  },
  {
   "cell_type": "code",
   "execution_count": null,
   "metadata": {},
   "outputs": [],
   "source": [
    "visualize.plot_column_composition(nutrition_fr, 'manufacturing_place_cleaned') "
   ]
  },
  {
   "cell_type": "markdown",
   "metadata": {},
   "source": [
    "This plot is of course highly bias towards france since the cut was perform on that column"
   ]
  },
  {
   "cell_type": "code",
   "execution_count": null,
   "metadata": {},
   "outputs": [],
   "source": [
    "visualize.plot_column_composition(nutrition_fr, 'manufacturing_place_cleaned') "
   ]
  },
  {
   "cell_type": "markdown",
   "metadata": {},
   "source": [
    "Quite naturally, most of the food consumed in France is manufactured there though slightly approximately 30% is produced somewhere else. "
   ]
  },
  {
   "cell_type": "markdown",
   "metadata": {},
   "source": [
    "##### Where are those products sold?"
   ]
  },
  {
   "cell_type": "code",
   "execution_count": null,
   "metadata": {},
   "outputs": [],
   "source": [
    "visualize.plot_column_composition(nutrition_fr, 'stores')"
   ]
  },
  {
   "cell_type": "code",
   "execution_count": null,
   "metadata": {},
   "outputs": [],
   "source": [
    "As most of the products are sold in France, we also only have information about french stores."
   ]
  },
  {
   "cell_type": "markdown",
   "metadata": {},
   "source": [
    "As we are only considering products avaible to buy in France, we quite naturally get the leader in food retail of that country."
   ]
  },
  {
   "cell_type": "markdown",
   "metadata": {},
   "source": [
    "#### Carbon footprint of nutrionally-high graded products\n",
    "\n",
    "In this section we investigate the carbon footprint of different products and categories. Therefore, we investigate the OpenFoodFacts dataset. Common sense would suggest most nutritionally-high graded products are organic (plant, fruit, vegetables, …) and are therefore not manufactured, thus having a small footprint. Let's see what story the data has to tell...\n",
    "\n",
    "But as before, we should be careful as the dataset is biased. So we begin with examing what kind of data is represented in the datasets."
   ]
  },
  {
   "cell_type": "markdown",
   "metadata": {},
   "source": [
    "We begin with extracting all the carbon footprint data. We assume that all products are food items, hence they need to be an organic substance, so it cannot have 0 carbonhydrates, fats, or proteins. If none of these values can be zero, than an zero carbon footprint is non-truthful."
   ]
  },
  {
   "cell_type": "code",
   "execution_count": null,
   "metadata": {},
   "outputs": [],
   "source": [
    "carbon_footprints = food_facts_pd[food_facts_pd['carbon-footprint_100g'].notna() & \n",
    "                                  food_facts_pd['carbon-footprint_100g']>0]"
   ]
  },
  {
   "cell_type": "markdown",
   "metadata": {},
   "source": [
    "First, we should sensibilize for the data that we are dealing with. Therefore we visualize the origin and composition of the products."
   ]
  },
  {
   "cell_type": "code",
   "execution_count": null,
   "metadata": {},
   "outputs": [],
   "source": [
    "visualize.plot_column_composition(df=carbon_footprints, column_str='origins_cleaned')"
   ]
  },
  {
   "cell_type": "code",
   "execution_count": null,
   "metadata": {},
   "outputs": [],
   "source": [
    "visualize.plot_column_composition(df=carbon_footprints, column_str='stores')"
   ]
  },
  {
   "cell_type": "markdown",
   "metadata": {},
   "source": [
    "From the above plot, we can observe that the majority of the products are sold in france, and especially the stores in provided by the shops of\n",
    "\n",
    "Most of the carbon footprint data was produced by the research group around ###, that claims that the processed data was ###."
   ]
  },
  {
   "cell_type": "code",
   "execution_count": null,
   "metadata": {},
   "outputs": [],
   "source": [
    "visualize.plot_column_composition(carbon_footprints, column_str='main_category')"
   ]
  },
  {
   "cell_type": "markdown",
   "metadata": {},
   "source": [
    "We see that the main categories that we have carbon footprint data of are sugary snacks (mainly plain chocolets) and dairies. This is not surprising since they are made up of few ingredients. "
   ]
  },
  {
   "cell_type": "code",
   "execution_count": null,
   "metadata": {},
   "outputs": [],
   "source": [
    "# Food calories over carbon-foot print\n",
    "visualize.plot_cluster_by_tags(df=carbon_footprints,\n",
    "                               plot2D_features = [\"carbon-footprint_100g\", \"price_per_100g\"],\n",
    "                               cluster=\"main_category\")"
   ]
  },
  {
   "cell_type": "markdown",
   "metadata": {},
   "source": [
    "The above prices were found from online stores of Walmart, Monoprix, and Migros. It should be noted, that the dataset only contains dairies and sweets with carbon footprint, so we hope to gain more insight for other products from the Carbon Footprint Eaternity dataset."
   ]
  },
  {
   "cell_type": "markdown",
   "metadata": {},
   "source": [
    "##### Is there a general correlation between high carbon footprint and price? "
   ]
  },
  {
   "cell_type": "markdown",
   "metadata": {},
   "source": [
    "We wait for more carbon footprint data before we analyse this dependency."
   ]
  },
  {
   "cell_type": "code",
   "execution_count": null,
   "metadata": {},
   "outputs": [],
   "source": [
    "#pip install translate\n",
    "from translate import Translator\n",
    "translator = Translator(from_lang=\"german\",to_lang=\"english\")\n",
    "for i in range(len(carbon_footprint_pd)):\n",
    "    category = carbon_footprint_pd['category'].iloc[i]\n",
    "    cat_translated = translator.translate(category)\n",
    "    print(category,cat_translated)\n",
    "\n"
   ]
  },
  {
   "cell_type": "markdown",
   "metadata": {},
   "source": [
    "**Thanks for Reading !**"
   ]
  }
 ],
 "metadata": {
  "kernelspec": {
   "display_name": "ADA",
   "language": "python",
   "name": "ada"
  },
  "language_info": {
   "codemirror_mode": {
    "name": "ipython",
    "version": 3
   },
   "file_extension": ".py",
   "mimetype": "text/x-python",
   "name": "python",
   "nbconvert_exporter": "python",
   "pygments_lexer": "ipython3",
   "version": "3.6.7"
  },
  "toc": {
   "base_numbering": 1,
   "nav_menu": {
    "height": "465px",
    "width": "745px"
   },
   "number_sections": true,
   "sideBar": true,
   "skip_h1_title": true,
   "title_cell": "Table of Contents",
   "title_sidebar": "Contents",
   "toc_cell": true,
   "toc_position": {
    "height": "calc(100% - 180px)",
    "left": "10px",
    "top": "150px",
    "width": "165px"
   },
   "toc_section_display": true,
   "toc_window_display": false
  }
 },
 "nbformat": 4,
 "nbformat_minor": 2
}
