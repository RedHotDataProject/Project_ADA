{
 "cells": [
  {
   "cell_type": "markdown",
   "metadata": {},
   "source": [
    "# Open Food Facts: the carbon “food-print” we do not eat\n",
    "\n",
    "## Abstract\n",
    "<i>Everything we do has a carbon footprint, and our diet is no exception. From growing, farming, processing and packaging our food, energy and organic resources are consumed and released, which reflects in the emission of greenhouse gases, like CO<sub>2</sub>. In our project, we analyze the processed foods industry - its manufacturing, product composition, and sales - for the main sources of carbon emissions, using the Open Food Facts dataset. We explain the carbon footprint repartition, starting on an understanding of the products, followed by the breakdown of production countries as well as point of sales and evaluating trends in diet composition, with a special focus on nutritionally high marked products in France and the UK. \n",
    "\n",
    "With this study, we want to provide a better understanding of the agri-food industry, and eventually help reducing carbon emissions.</i>"
   ]
  },
  {
   "cell_type": "markdown",
   "metadata": {},
   "source": [
    "In this notebook, we are performingt the above analysis on the OpenFoodFacts database, which we pre-processed using the __Open Food Facts - Cleanse Data__ notebook in the main directory."
   ]
  },
  {
   "cell_type": "markdown",
   "metadata": {
    "toc": true
   },
   "source": [
    "<h1>Table of Contents<span class=\"tocSkip\"></span></h1>\n",
    "<div class=\"toc\"><ul class=\"toc-item\"><li><span><a href=\"#Abstract\" data-toc-modified-id=\"Abstract-1\"><span class=\"toc-item-num\">1&nbsp;&nbsp;</span>Abstract</a></span></li><li><span><a href=\"#Import-cleansed-data\" data-toc-modified-id=\"Import-cleansed-data-2\"><span class=\"toc-item-num\">2&nbsp;&nbsp;</span>Import cleansed data</a></span></li><li><span><a href=\"#Analyse-data\" data-toc-modified-id=\"Analyse-data-3\"><span class=\"toc-item-num\">3&nbsp;&nbsp;</span>Analyse data</a></span><ul class=\"toc-item\"><li><span><a href=\"#Production-/-manufacture-impact\" data-toc-modified-id=\"Production-/-manufacture-impact-3.1\"><span class=\"toc-item-num\">3.1&nbsp;&nbsp;</span>Production / manufacture impact</a></span><ul class=\"toc-item\"><li><span><a href=\"#Global-distribution-of-global-food-producers\" data-toc-modified-id=\"Global-distribution-of-global-food-producers-3.1.1\"><span class=\"toc-item-num\">3.1.1&nbsp;&nbsp;</span>Global distribution of global food producers</a></span><ul class=\"toc-item\"><li><span><a href=\"#How-is-this-distribution-impacted-when-we-consider-neutral-and-large-carbon-footprint-products?\" data-toc-modified-id=\"How-is-this-distribution-impacted-when-we-consider-neutral-and-large-carbon-footprint-products?-3.1.1.1\"><span class=\"toc-item-num\">3.1.1.1&nbsp;&nbsp;</span>How is this distribution impacted when we consider neutral and large carbon footprint products?</a></span></li></ul></li><li><span><a href=\"#Case-study:-Palm-oil\" data-toc-modified-id=\"Case-study:-Palm-oil-3.1.2\"><span class=\"toc-item-num\">3.1.2&nbsp;&nbsp;</span>Case study: Palm oil</a></span><ul class=\"toc-item\"><li><span><a href=\"#Can-we-observe-any-trend-in-the-number-of-products-including-palm-oil-(assuming-a-strong-dependence-between-date-the-product-was-added-to-the-database-and-data-the-product-was-invented)?\" data-toc-modified-id=\"Can-we-observe-any-trend-in-the-number-of-products-including-palm-oil-(assuming-a-strong-dependence-between-date-the-product-was-added-to-the-database-and-data-the-product-was-invented)?-3.1.2.1\"><span class=\"toc-item-num\">3.1.2.1&nbsp;&nbsp;</span>Can we observe any trend in the number of products including palm oil (assuming a strong dependence between date the product was added to the database and data the product was invented)?</a></span></li><li><span><a href=\"#Which-countries-use-palm-oils-for-production?\" data-toc-modified-id=\"Which-countries-use-palm-oils-for-production?-3.1.2.2\"><span class=\"toc-item-num\">3.1.2.2&nbsp;&nbsp;</span>Which countries use palm oils for production?</a></span></li></ul></li></ul></li><li><span><a href=\"#Good-nutrition-impact\" data-toc-modified-id=\"Good-nutrition-impact-3.2\"><span class=\"toc-item-num\">3.2&nbsp;&nbsp;</span>Good nutrition impact</a></span><ul class=\"toc-item\"><li><span><a href=\"#High-nutrional-products\" data-toc-modified-id=\"High-nutrional-products-3.2.1\"><span class=\"toc-item-num\">3.2.1&nbsp;&nbsp;</span>High-nutrional products</a></span><ul class=\"toc-item\"><li><span><a href=\"#What-are-those-products-made-of?\" data-toc-modified-id=\"What-are-those-products-made-of?-3.2.1.1\"><span class=\"toc-item-num\">3.2.1.1&nbsp;&nbsp;</span>What are those products made of?</a></span></li><li><span><a href=\"#Has-there-been-a-surge-in-high-graded-Products-in-the-France-over-the-past-years?\" data-toc-modified-id=\"Has-there-been-a-surge-in-high-graded-Products-in-the-France-over-the-past-years?-3.2.1.2\"><span class=\"toc-item-num\">3.2.1.2&nbsp;&nbsp;</span>Has there been a surge in high graded Products in the France over the past years?</a></span></li><li><span><a href=\"#Where-do-these-product-come-from-and-where-are-they-manufactured?\" data-toc-modified-id=\"Where-do-these-product-come-from-and-where-are-they-manufactured?-3.2.1.3\"><span class=\"toc-item-num\">3.2.1.3&nbsp;&nbsp;</span>Where do these product come from and where are they manufactured?</a></span></li><li><span><a href=\"#Where-are-those-products-sold?\" data-toc-modified-id=\"Where-are-those-products-sold?-3.2.1.4\"><span class=\"toc-item-num\">3.2.1.4&nbsp;&nbsp;</span>Where are those products sold?</a></span></li></ul></li><li><span><a href=\"#Carbon-footprint-of-nutritionally-high-graded-products\" data-toc-modified-id=\"Carbon-footprint-of-nutritionally-high-graded-products-3.2.2\"><span class=\"toc-item-num\">3.2.2&nbsp;&nbsp;</span>Carbon footprint of nutritionally-high graded products</a></span><ul class=\"toc-item\"><li><span><a href=\"#Is-there-a-general-correlation-between-high-carbon-footprint-and-price?\" data-toc-modified-id=\"Is-there-a-general-correlation-between-high-carbon-footprint-and-price?-3.2.2.1\"><span class=\"toc-item-num\">3.2.2.1&nbsp;&nbsp;</span>Is there a general correlation between high carbon footprint and price?</a></span></li></ul></li></ul></li></ul></li></ul></div>"
   ]
  },
  {
   "cell_type": "code",
   "execution_count": 2,
   "metadata": {},
   "outputs": [
    {
     "name": "stdout",
     "output_type": "stream",
     "text": [
      "The autoreload extension is already loaded. To reload it, use:\n",
      "  %reload_ext autoreload\n"
     ]
    },
    {
     "data": {
      "text/html": [
       "<script type=\"text/javascript\">window.PlotlyConfig = {MathJaxConfig: 'local'};</script><script type=\"text/javascript\">if (window.MathJax) {MathJax.Hub.Config({SVG: {font: \"STIX-Web\"}});}</script><script>requirejs.config({paths: { 'plotly': ['https://cdn.plot.ly/plotly-latest.min']},});if(!window._Plotly) {require(['plotly'],function(plotly) {window._Plotly=plotly;});}</script>"
      ],
      "text/vnd.plotly.v1+html": [
       "<script type=\"text/javascript\">window.PlotlyConfig = {MathJaxConfig: 'local'};</script><script type=\"text/javascript\">if (window.MathJax) {MathJax.Hub.Config({SVG: {font: \"STIX-Web\"}});}</script><script>requirejs.config({paths: { 'plotly': ['https://cdn.plot.ly/plotly-latest.min']},});if(!window._Plotly) {require(['plotly'],function(plotly) {window._Plotly=plotly;});}</script>"
      ]
     },
     "metadata": {},
     "output_type": "display_data"
    },
    {
     "data": {
      "text/html": [
       "<script type=\"text/javascript\">window.PlotlyConfig = {MathJaxConfig: 'local'};</script><script type=\"text/javascript\">if (window.MathJax) {MathJax.Hub.Config({SVG: {font: \"STIX-Web\"}});}</script><script>requirejs.config({paths: { 'plotly': ['https://cdn.plot.ly/plotly-latest.min']},});if(!window._Plotly) {require(['plotly'],function(plotly) {window._Plotly=plotly;});}</script>"
      ],
      "text/vnd.plotly.v1+html": [
       "<script type=\"text/javascript\">window.PlotlyConfig = {MathJaxConfig: 'local'};</script><script type=\"text/javascript\">if (window.MathJax) {MathJax.Hub.Config({SVG: {font: \"STIX-Web\"}});}</script><script>requirejs.config({paths: { 'plotly': ['https://cdn.plot.ly/plotly-latest.min']},});if(!window._Plotly) {require(['plotly'],function(plotly) {window._Plotly=plotly;});}</script>"
      ]
     },
     "metadata": {},
     "output_type": "display_data"
    }
   ],
   "source": [
    "import numpy as np\n",
    "import pandas as pd\n",
    "import matplotlib.pyplot as plt\n",
    "import folium\n",
    "from scipy import stats\n",
    "from datetime import datetime\n",
    "\n",
    "import json\n",
    "import pickle\n",
    "\n",
    "import os\n",
    "import sys\n",
    "nb_dir = os.path.split(os.getcwd())[0]\n",
    "if nb_dir not in sys.path:\n",
    "    sys.path.append(nb_dir)\n",
    "    \n",
    "%load_ext autoreload\n",
    "%autoreload 2\n",
    "    \n",
    "import libs.exploring as explore\n",
    "from libs.visualising import Visualisor\n",
    "import libs.cleansing as cleanse\n",
    "\n",
    "# Set up plotly environment\n",
    "from plotly.offline import download_plotlyjs, init_notebook_mode, plot, iplot\n",
    "import plotly.graph_objs as go\n",
    "import plotly.tools as tls\n",
    "init_notebook_mode(connected=True)"
   ]
  },
  {
   "cell_type": "markdown",
   "metadata": {},
   "source": [
    "Command to import the link for the website"
   ]
  },
  {
   "cell_type": "code",
   "execution_count": 3,
   "metadata": {},
   "outputs": [],
   "source": [
    "# tls.get_embed('https://plot.ly/~maxencedraguet/25/')\n",
    "save_plots_offline = False"
   ]
  },
  {
   "cell_type": "markdown",
   "metadata": {},
   "source": [
    "## Import cleansed data"
   ]
  },
  {
   "cell_type": "code",
   "execution_count": 4,
   "metadata": {},
   "outputs": [],
   "source": [
    "# Import data\n",
    "open_food_facts_csv_file = \"./data/openfoodfacts_clean.csv\"\n",
    "\n",
    "food_facts_pd = pd.read_csv(open_food_facts_csv_file,\n",
    "                            delimiter=\"\\t\")"
   ]
  },
  {
   "cell_type": "code",
   "execution_count": 5,
   "metadata": {},
   "outputs": [],
   "source": [
    "# Change column data types\n",
    "food_facts_pd['carbon-footprint_100g'] = food_facts_pd['carbon-footprint_100g'].apply(pd.to_numeric, args=('coerce',))\n",
    "food_facts_pd['energy_100g'] = food_facts_pd['energy_100g'].apply(pd.to_numeric, args=('coerce',))\n",
    "food_facts_pd['price_per_100g'] = food_facts_pd['price_per_100g'].apply(pd.to_numeric, args=('coerce',))\n",
    "food_facts_pd['created_datetime'] = food_facts_pd['created_datetime'].apply(pd.to_datetime, args=('coerce',))"
   ]
  },
  {
   "cell_type": "code",
   "execution_count": 6,
   "metadata": {},
   "outputs": [],
   "source": [
    "# Extract year from created date\n",
    "food_facts_pd['created_yyyy'] = food_facts_pd[\"created_datetime\"].dt.year"
   ]
  },
  {
   "cell_type": "code",
   "execution_count": 64,
   "metadata": {},
   "outputs": [],
   "source": [
    "# Create instance of visualization class\n",
    "visualize = Visualisor(food_facts_pd)"
   ]
  },
  {
   "cell_type": "markdown",
   "metadata": {},
   "source": [
    "Additionally to the OpenFoodFact dataset, we obtained an extract of the Eaternity dataset hosted by the ETH Zurich, which contains 692 more products and their CO2 footprint. Unfortunately, these products are not contained in the OpenFoodFacts database, so we lack manufacturing and purchasing information for this set. Further, the OpenFoodFacts categories were assigned based on manually matching the categories strings (since they were provided in German). "
   ]
  },
  {
   "cell_type": "code",
   "execution_count": 16,
   "metadata": {},
   "outputs": [],
   "source": [
    "# Import data\n",
    "eaternity_csv_file = \"./data/carbon_footprint_clean.csv\"\n",
    "\n",
    "eaternity_pd = pd.read_csv(eaternity_csv_file, delimiter=\"\\t\")"
   ]
  },
  {
   "cell_type": "markdown",
   "metadata": {},
   "source": [
    "## Analyse data"
   ]
  },
  {
   "cell_type": "markdown",
   "metadata": {},
   "source": [
    "Before we analyse the data, we have some confessions to make:\n",
    "\n",
    "The data that we loaded into this notebook was already preprocessed in the \"Open Food Facts - Cleanse data\" notebook, that can be found in the same directory. In there we translated countries, labels, and categories and formatted and matched tags. However, we also dropped more than 90% of the data set, because the data points were not complete for the purpose of our analysis.\n",
    "\n",
    "OpenFoodFacts was initiated in France, and products sold in France dominate data set by far. Moreover, most of the products are sold in Europe or industrial nations, and we have no or only sparse data about the African, Asian, Australian, and South-American continent, which excludes the majority of the world population and especially the societies in Asia and Africa, that undergo the most decisive transformations at the moment.\n",
    "\n",
    "Further, we only have qualitative data about the products, meaning no information about quantities in which they are produced and purchased world-wide. Also we could not find such public available data sets about the quantities in which certain products are consumed. As a consequence, we cannot provide a scale for all the insights that we gain throughout this notebook.\n",
    "\n",
    "What we are trying to say is, that the data is under no circumstances representative to analyse the research questions that we have posed in the abstract. However, we will provide the methods to perform this analysis on this comprised dataset, and see what kind of insights we can already squeeze out of the data at hand."
   ]
  },
  {
   "cell_type": "markdown",
   "metadata": {},
   "source": [
    "### Production / manufacture impact"
   ]
  },
  {
   "cell_type": "markdown",
   "metadata": {},
   "source": [
    "#### Global distribution of global food producers"
   ]
  },
  {
   "cell_type": "code",
   "execution_count": 17,
   "metadata": {},
   "outputs": [],
   "source": [
    "countries_label = pd.read_csv(\"./data/country_lookup.csv\")[['name', 'cca3']]     "
   ]
  },
  {
   "cell_type": "markdown",
   "metadata": {},
   "source": [
    "First, we answer the question where the most foot-items come from."
   ]
  },
  {
   "cell_type": "code",
   "execution_count": 20,
   "metadata": {
    "scrolled": true
   },
   "outputs": [
    {
     "data": {
      "text/html": [
       "<script type=\"text/javascript\">window.PlotlyConfig = {MathJaxConfig: 'local'};</script><script type=\"text/javascript\">if (window.MathJax) {MathJax.Hub.Config({SVG: {font: \"STIX-Web\"}});}</script><script>requirejs.config({paths: { 'plotly': ['https://cdn.plot.ly/plotly-latest.min']},});if(!window._Plotly) {require(['plotly'],function(plotly) {window._Plotly=plotly;});}</script>"
      ],
      "text/vnd.plotly.v1+html": [
       "<script type=\"text/javascript\">window.PlotlyConfig = {MathJaxConfig: 'local'};</script><script type=\"text/javascript\">if (window.MathJax) {MathJax.Hub.Config({SVG: {font: \"STIX-Web\"}});}</script><script>requirejs.config({paths: { 'plotly': ['https://cdn.plot.ly/plotly-latest.min']},});if(!window._Plotly) {require(['plotly'],function(plotly) {window._Plotly=plotly;});}</script>"
      ]
     },
     "metadata": {},
     "output_type": "display_data"
    },
    {
     "data": {
      "application/vnd.plotly.v1+json": {
       "data": [
        {
         "autocolorscale": false,
         "colorbar": {
          "len": 0.7,
          "tick0": 1,
          "tickmode": "array",
          "ticktext": [
           "1",
           "10<sup>1/2</sup>",
           "10<sup>1</sup>",
           "10<sup>3/2</sup>",
           "10<sup>2</sup>",
           "10<sup>5/2</sup>",
           "10<sup>3</sup>",
           "10<sup>3/2</sup>",
           "10<sup>4</sup>"
          ],
          "tickvals": [
           0,
           0.5,
           1,
           1.5,
           2,
           2.5,
           3,
           3.5,
           4
          ],
          "title": "Counts"
         },
         "colorscale": "Viridis",
         "hoverinfo": "text",
         "locations": [
          "GBR",
          "THA",
          "FIN",
          "MDA",
          "ESP",
          "DZA",
          "PHL",
          "PER",
          "BGR",
          "KHM",
          "KOR",
          "HUN",
          "UGA",
          "BRA",
          "GLP",
          "ISR",
          "ISL",
          "SJM",
          "FRA",
          "CAN",
          "ROU",
          "UMI",
          "HTI",
          "BEL",
          "NZL",
          "NCL",
          "TZA",
          "NER",
          "LAO",
          "NLD",
          "TTO",
          "LKA",
          "AUT",
          "PNG",
          "AFG",
          "TUN",
          "REU",
          "CHL",
          "ARG",
          "CYP",
          "VNM",
          "SEN",
          "STP",
          "RWA",
          "CRI",
          "USA",
          "SDN",
          "URY",
          "EST",
          "MEX",
          "ETH",
          "DEU",
          "LSO",
          "BDI",
          "KEN",
          "GRL",
          "BLR",
          "MAR",
          "PRY",
          "IRN",
          "SVN",
          "WSM",
          "NGA",
          "VEN",
          "ITA",
          "TUR",
          "TWN",
          "HRV",
          "MDG",
          "AZE",
          "PAK",
          "GIN",
          "BFA",
          "UZB",
          "GUY",
          "POL",
          "GRC",
          "BOL",
          "MTQ",
          "RUS",
          "TGO",
          "SLV",
          "IDN",
          "NAM",
          "DNK",
          "SYR",
          "JPN",
          "IOT",
          "NOR",
          "UKR",
          "ECU",
          "EGY",
          "GHA",
          "IRL",
          "CUB",
          "MNE",
          "LUX",
          "CZE",
          "CMR",
          "SWE",
          "MKD",
          "MYS",
          "ZAF",
          "GUF",
          "PYF",
          "SYC",
          "LBN",
          "PRT",
          "SRB",
          "COD",
          "SVK",
          "AUS",
          "DOM",
          "NIC",
          "CHN",
          "MMR",
          "NFK",
          "HND",
          "MHL",
          "DMA",
          "BGD",
          "CHE",
          "CIV",
          "IND",
          "COM",
          "GEO",
          "LTU",
          "COL",
          "GTM",
          "SGP",
          "JAM",
          "FRO",
          "SAU",
          "HKG",
          "BES",
          "BIH"
         ],
         "reversescale": true,
         "text": [
          "United Kingdom 533",
          "Thailand 136",
          "Finland 4",
          "Moldova 3",
          "Spain 1162",
          "Algeria 13",
          "Philippines 26",
          "Peru 173",
          "Bulgaria 10",
          "Cambodia 3",
          "South Korea 15",
          "Hungary 18",
          "Uganda 1",
          "Brazil 59",
          "Guadeloupe 3",
          "Israel 19",
          "Iceland 22",
          "Svalbard and Jan Mayen 1",
          "France 7035",
          "Canada 150",
          "Romania 19",
          "United States Minor Outlying Islands 4",
          "Haiti 5",
          "Belgium 132",
          "New Zealand 49",
          "New Caledonia 3",
          "Tanzania 6",
          "Niger 10",
          "Laos 3",
          "Netherlands 143",
          "Trinidad and Tobago 3",
          "Sri Lanka 30",
          "Austria 51",
          "Papua New Guinea 13",
          "Afghanistan 1",
          "Tunisia 31",
          "Réunion 16",
          "Chile 57",
          "Argentina 92",
          "Cyprus 6",
          "Vietnam 74",
          "Senegal 4",
          "São Tomé and Príncipe 7",
          "Rwanda 1",
          "Costa Rica 19",
          "United States 313",
          "Sudan 1",
          "Uruguay 22",
          "Estonia 3",
          "Mexico 1031",
          "Ethiopia 2",
          "Germany 383",
          "Lesotho 1",
          "Burundi 2",
          "Kenya 11",
          "Greenland 2",
          "Belarus 2",
          "Morocco 46",
          "Paraguay 31",
          "Iran 10",
          "Slovenia 2",
          "Samoa 2",
          "Nigeria 1",
          "Venezuela 5",
          "Italy 599",
          "Turkey 98",
          "Taiwan 12",
          "Croatia 1",
          "Madagascar 136",
          "Azerbaijan 1",
          "Pakistan 10",
          "Guinea 14",
          "Burkina Faso 2",
          "Uzbekistan 1",
          "Guyana 1",
          "Poland 52",
          "Greece 71",
          "Bolivia 39",
          "Martinique 6",
          "Russia 41",
          "Togo 1",
          "El Salvador 3",
          "Indonesia 43",
          "Namibia 1",
          "Denmark 57",
          "Syria 1",
          "Japan 17",
          "British Indian Ocean Territory 26",
          "Norway 132",
          "Ukraine 2",
          "Ecuador 42",
          "Egypt 13",
          "Ghana 4",
          "Ireland 82",
          "Cuba 6",
          "Montenegro 1",
          "Luxembourg 8",
          "Czechia 9",
          "Cameroon 6",
          "Sweden 92",
          "Macedonia 1",
          "Malaysia 14",
          "South Africa 58",
          "French Guiana 1",
          "French Polynesia 5",
          "Seychelles 3",
          "Lebanon 1",
          "Portugal 56",
          "Serbia 6",
          "DR Congo 2",
          "Slovakia 1",
          "Australia 454",
          "Dominican Republic 48",
          "Nicaragua 5",
          "China 232",
          "Myanmar 1",
          "Norfolk Island 2",
          "Honduras 5",
          "Marshall Islands 2",
          "Dominica 49",
          "Bangladesh 2",
          "Switzerland 293",
          "Ivory Coast 15",
          "India 98",
          "Comoros 1",
          "Georgia 2",
          "Lithuania 9",
          "Colombia 17",
          "Guatemala 7",
          "Singapore 7",
          "Jamaica 1",
          "Faroe Islands 17",
          "Saudi Arabia 2",
          "Hong Kong 3",
          "Caribbean Netherlands 1",
          "Bosnia and Herzegovina 2"
         ],
         "type": "choropleth",
         "uid": "ef3cebd8-a44e-4ff4-8f84-ecd535085ebd",
         "z": [
          2.7267272090265724,
          2.1335389083702174,
          0.6020599913279624,
          0.47712125471966244,
          3.065206128054312,
          1.1139433523068367,
          1.414973347970818,
          2.2380461031287955,
          1,
          0.47712125471966244,
          1.1760912590556813,
          1.255272505103306,
          0,
          1.7708520116421442,
          0.47712125471966244,
          1.2787536009528289,
          1.3424226808222062,
          0,
          3.8472641017707643,
          2.1760912590556813,
          1.2787536009528289,
          0.6020599913279624,
          0.6989700043360189,
          2.12057393120585,
          1.6901960800285136,
          0.47712125471966244,
          0.7781512503836436,
          1,
          0.47712125471966244,
          2.155336037465062,
          0.47712125471966244,
          1.4771212547196624,
          1.7075701760979363,
          1.1139433523068367,
          0,
          1.4913616938342726,
          1.2041199826559248,
          1.7558748556724915,
          1.9637878273455553,
          0.7781512503836436,
          1.8692317197309762,
          0.6020599913279624,
          0.8450980400142568,
          0,
          1.2787536009528289,
          2.4955443375464483,
          0,
          1.3424226808222062,
          0.47712125471966244,
          3.0132586652835167,
          0.3010299956639812,
          2.583198773968623,
          0,
          0.3010299956639812,
          1.041392685158225,
          0.3010299956639812,
          0.3010299956639812,
          1.662757831681574,
          1.4913616938342726,
          1,
          0.3010299956639812,
          0.3010299956639812,
          0,
          0.6989700043360189,
          2.7774268223893115,
          1.9912260756924949,
          1.0791812460476249,
          0,
          2.1335389083702174,
          0,
          1,
          1.146128035678238,
          0.3010299956639812,
          0,
          0,
          1.7160033436347992,
          1.8512583487190752,
          1.591064607026499,
          0.7781512503836436,
          1.6127838567197355,
          0,
          0.47712125471966244,
          1.6334684555795866,
          0,
          1.7558748556724915,
          0,
          1.2304489213782739,
          1.414973347970818,
          2.12057393120585,
          0.3010299956639812,
          1.6232492903979006,
          1.1139433523068367,
          0.6020599913279624,
          1.9138138523837167,
          0.7781512503836436,
          0,
          0.9030899869919435,
          0.9542425094393249,
          0.7781512503836436,
          1.9637878273455553,
          0,
          1.146128035678238,
          1.7634279935629373,
          0,
          0.6989700043360189,
          0.47712125471966244,
          0,
          1.7481880270062005,
          0.7781512503836436,
          0.3010299956639812,
          0,
          2.6570558528571038,
          1.6812412373755872,
          0.6989700043360189,
          2.3654879848909,
          0,
          0.3010299956639812,
          0.6989700043360189,
          0.3010299956639812,
          1.6901960800285136,
          0.3010299956639812,
          2.4668676203541096,
          1.1760912590556813,
          1.9912260756924949,
          0,
          0.3010299956639812,
          0.9542425094393249,
          1.2304489213782739,
          0.8450980400142568,
          0.8450980400142568,
          0,
          1.2304489213782739,
          0.3010299956639812,
          0.47712125471966244,
          0,
          0.3010299956639812
         ]
        }
       ],
       "layout": {
        "geo": {
         "coastlinecolor": "rgb(255, 255, 255)",
         "countrycolor": "rgb(255, 255, 255)",
         "landcolor": "rgb(229, 229, 229)",
         "projection": {
          "type": "equirectangular"
         },
         "showcoastlines": true,
         "showframe": false,
         "showland": true
        },
        "margin": {
         "b": 0,
         "l": 50,
         "pad": 4,
         "r": 100,
         "t": 0
        },
        "showlegend": false,
        "xaxis": {
         "fixedrange": true
        },
        "yaxis": {
         "fixedrange": true
        }
       }
      },
      "text/html": [
       "<div id=\"4f1f8f6b-95b8-4200-bc49-40e54f376f39\" style=\"height: 525px; width: 100%;\" class=\"plotly-graph-div\"></div><script type=\"text/javascript\">require([\"plotly\"], function(Plotly) { window.PLOTLYENV=window.PLOTLYENV || {};window.PLOTLYENV.BASE_URL=\"https://plot.ly\";Plotly.newPlot(\"4f1f8f6b-95b8-4200-bc49-40e54f376f39\", [{\"autocolorscale\": false, \"colorbar\": {\"len\": 0.7, \"tick0\": 1, \"tickmode\": \"array\", \"ticktext\": [\"1\", \"10<sup>1/2</sup>\", \"10<sup>1</sup>\", \"10<sup>3/2</sup>\", \"10<sup>2</sup>\", \"10<sup>5/2</sup>\", \"10<sup>3</sup>\", \"10<sup>3/2</sup>\", \"10<sup>4</sup>\"], \"tickvals\": [0, 0.5, 1, 1.5, 2, 2.5, 3, 3.5, 4], \"title\": \"Counts\"}, \"colorscale\": \"Viridis\", \"hoverinfo\": \"text\", \"locations\": [\"GBR\", \"THA\", \"FIN\", \"MDA\", \"ESP\", \"DZA\", \"PHL\", \"PER\", \"BGR\", \"KHM\", \"KOR\", \"HUN\", \"UGA\", \"BRA\", \"GLP\", \"ISR\", \"ISL\", \"SJM\", \"FRA\", \"CAN\", \"ROU\", \"UMI\", \"HTI\", \"BEL\", \"NZL\", \"NCL\", \"TZA\", \"NER\", \"LAO\", \"NLD\", \"TTO\", \"LKA\", \"AUT\", \"PNG\", \"AFG\", \"TUN\", \"REU\", \"CHL\", \"ARG\", \"CYP\", \"VNM\", \"SEN\", \"STP\", \"RWA\", \"CRI\", \"USA\", \"SDN\", \"URY\", \"EST\", \"MEX\", \"ETH\", \"DEU\", \"LSO\", \"BDI\", \"KEN\", \"GRL\", \"BLR\", \"MAR\", \"PRY\", \"IRN\", \"SVN\", \"WSM\", \"NGA\", \"VEN\", \"ITA\", \"TUR\", \"TWN\", \"HRV\", \"MDG\", \"AZE\", \"PAK\", \"GIN\", \"BFA\", \"UZB\", \"GUY\", \"POL\", \"GRC\", \"BOL\", \"MTQ\", \"RUS\", \"TGO\", \"SLV\", \"IDN\", \"NAM\", \"DNK\", \"SYR\", \"JPN\", \"IOT\", \"NOR\", \"UKR\", \"ECU\", \"EGY\", \"GHA\", \"IRL\", \"CUB\", \"MNE\", \"LUX\", \"CZE\", \"CMR\", \"SWE\", \"MKD\", \"MYS\", \"ZAF\", \"GUF\", \"PYF\", \"SYC\", \"LBN\", \"PRT\", \"SRB\", \"COD\", \"SVK\", \"AUS\", \"DOM\", \"NIC\", \"CHN\", \"MMR\", \"NFK\", \"HND\", \"MHL\", \"DMA\", \"BGD\", \"CHE\", \"CIV\", \"IND\", \"COM\", \"GEO\", \"LTU\", \"COL\", \"GTM\", \"SGP\", \"JAM\", \"FRO\", \"SAU\", \"HKG\", \"BES\", \"BIH\"], \"reversescale\": true, \"text\": [\"United Kingdom 533\", \"Thailand 136\", \"Finland 4\", \"Moldova 3\", \"Spain 1162\", \"Algeria 13\", \"Philippines 26\", \"Peru 173\", \"Bulgaria 10\", \"Cambodia 3\", \"South Korea 15\", \"Hungary 18\", \"Uganda 1\", \"Brazil 59\", \"Guadeloupe 3\", \"Israel 19\", \"Iceland 22\", \"Svalbard and Jan Mayen 1\", \"France 7035\", \"Canada 150\", \"Romania 19\", \"United States Minor Outlying Islands 4\", \"Haiti 5\", \"Belgium 132\", \"New Zealand 49\", \"New Caledonia 3\", \"Tanzania 6\", \"Niger 10\", \"Laos 3\", \"Netherlands 143\", \"Trinidad and Tobago 3\", \"Sri Lanka 30\", \"Austria 51\", \"Papua New Guinea 13\", \"Afghanistan 1\", \"Tunisia 31\", \"R\\u00e9union 16\", \"Chile 57\", \"Argentina 92\", \"Cyprus 6\", \"Vietnam 74\", \"Senegal 4\", \"S\\u00e3o Tom\\u00e9 and Pr\\u00edncipe 7\", \"Rwanda 1\", \"Costa Rica 19\", \"United States 313\", \"Sudan 1\", \"Uruguay 22\", \"Estonia 3\", \"Mexico 1031\", \"Ethiopia 2\", \"Germany 383\", \"Lesotho 1\", \"Burundi 2\", \"Kenya 11\", \"Greenland 2\", \"Belarus 2\", \"Morocco 46\", \"Paraguay 31\", \"Iran 10\", \"Slovenia 2\", \"Samoa 2\", \"Nigeria 1\", \"Venezuela 5\", \"Italy 599\", \"Turkey 98\", \"Taiwan 12\", \"Croatia 1\", \"Madagascar 136\", \"Azerbaijan 1\", \"Pakistan 10\", \"Guinea 14\", \"Burkina Faso 2\", \"Uzbekistan 1\", \"Guyana 1\", \"Poland 52\", \"Greece 71\", \"Bolivia 39\", \"Martinique 6\", \"Russia 41\", \"Togo 1\", \"El Salvador 3\", \"Indonesia 43\", \"Namibia 1\", \"Denmark 57\", \"Syria 1\", \"Japan 17\", \"British Indian Ocean Territory 26\", \"Norway 132\", \"Ukraine 2\", \"Ecuador 42\", \"Egypt 13\", \"Ghana 4\", \"Ireland 82\", \"Cuba 6\", \"Montenegro 1\", \"Luxembourg 8\", \"Czechia 9\", \"Cameroon 6\", \"Sweden 92\", \"Macedonia 1\", \"Malaysia 14\", \"South Africa 58\", \"French Guiana 1\", \"French Polynesia 5\", \"Seychelles 3\", \"Lebanon 1\", \"Portugal 56\", \"Serbia 6\", \"DR Congo 2\", \"Slovakia 1\", \"Australia 454\", \"Dominican Republic 48\", \"Nicaragua 5\", \"China 232\", \"Myanmar 1\", \"Norfolk Island 2\", \"Honduras 5\", \"Marshall Islands 2\", \"Dominica 49\", \"Bangladesh 2\", \"Switzerland 293\", \"Ivory Coast 15\", \"India 98\", \"Comoros 1\", \"Georgia 2\", \"Lithuania 9\", \"Colombia 17\", \"Guatemala 7\", \"Singapore 7\", \"Jamaica 1\", \"Faroe Islands 17\", \"Saudi Arabia 2\", \"Hong Kong 3\", \"Caribbean Netherlands 1\", \"Bosnia and Herzegovina 2\"], \"z\": [2.7267272090265724, 2.1335389083702174, 0.6020599913279624, 0.47712125471966244, 3.065206128054312, 1.1139433523068367, 1.414973347970818, 2.2380461031287955, 1.0, 0.47712125471966244, 1.1760912590556813, 1.255272505103306, 0.0, 1.7708520116421442, 0.47712125471966244, 1.2787536009528289, 1.3424226808222062, 0.0, 3.8472641017707643, 2.1760912590556813, 1.2787536009528289, 0.6020599913279624, 0.6989700043360189, 2.12057393120585, 1.6901960800285136, 0.47712125471966244, 0.7781512503836436, 1.0, 0.47712125471966244, 2.155336037465062, 0.47712125471966244, 1.4771212547196624, 1.7075701760979363, 1.1139433523068367, 0.0, 1.4913616938342726, 1.2041199826559248, 1.7558748556724915, 1.9637878273455553, 0.7781512503836436, 1.8692317197309762, 0.6020599913279624, 0.8450980400142568, 0.0, 1.2787536009528289, 2.4955443375464483, 0.0, 1.3424226808222062, 0.47712125471966244, 3.0132586652835167, 0.3010299956639812, 2.583198773968623, 0.0, 0.3010299956639812, 1.041392685158225, 0.3010299956639812, 0.3010299956639812, 1.662757831681574, 1.4913616938342726, 1.0, 0.3010299956639812, 0.3010299956639812, 0.0, 0.6989700043360189, 2.7774268223893115, 1.9912260756924949, 1.0791812460476249, 0.0, 2.1335389083702174, 0.0, 1.0, 1.146128035678238, 0.3010299956639812, 0.0, 0.0, 1.7160033436347992, 1.8512583487190752, 1.591064607026499, 0.7781512503836436, 1.6127838567197355, 0.0, 0.47712125471966244, 1.6334684555795866, 0.0, 1.7558748556724915, 0.0, 1.2304489213782739, 1.414973347970818, 2.12057393120585, 0.3010299956639812, 1.6232492903979006, 1.1139433523068367, 0.6020599913279624, 1.9138138523837167, 0.7781512503836436, 0.0, 0.9030899869919435, 0.9542425094393249, 0.7781512503836436, 1.9637878273455553, 0.0, 1.146128035678238, 1.7634279935629373, 0.0, 0.6989700043360189, 0.47712125471966244, 0.0, 1.7481880270062005, 0.7781512503836436, 0.3010299956639812, 0.0, 2.6570558528571038, 1.6812412373755872, 0.6989700043360189, 2.3654879848909, 0.0, 0.3010299956639812, 0.6989700043360189, 0.3010299956639812, 1.6901960800285136, 0.3010299956639812, 2.4668676203541096, 1.1760912590556813, 1.9912260756924949, 0.0, 0.3010299956639812, 0.9542425094393249, 1.2304489213782739, 0.8450980400142568, 0.8450980400142568, 0.0, 1.2304489213782739, 0.3010299956639812, 0.47712125471966244, 0.0, 0.3010299956639812], \"type\": \"choropleth\", \"uid\": \"e427be75-1e5e-42b9-baee-da1f0a6bd239\"}], {\"geo\": {\"coastlinecolor\": \"rgb(255, 255, 255)\", \"countrycolor\": \"rgb(255, 255, 255)\", \"landcolor\": \"rgb(229, 229, 229)\", \"projection\": {\"type\": \"equirectangular\"}, \"showcoastlines\": true, \"showframe\": false, \"showland\": true}, \"margin\": {\"b\": 0, \"l\": 50, \"pad\": 4, \"r\": 100, \"t\": 0}, \"showlegend\": false, \"xaxis\": {\"fixedrange\": true}, \"yaxis\": {\"fixedrange\": true}}, {\"showLink\": true, \"linkText\": \"Export to plot.ly\"})});</script><script type=\"text/javascript\">window.addEventListener(\"resize\", function(){window._Plotly.Plots.resize(document.getElementById(\"4f1f8f6b-95b8-4200-bc49-40e54f376f39\"));});</script>"
      ],
      "text/vnd.plotly.v1+html": [
       "<div id=\"4f1f8f6b-95b8-4200-bc49-40e54f376f39\" style=\"height: 525px; width: 100%;\" class=\"plotly-graph-div\"></div><script type=\"text/javascript\">require([\"plotly\"], function(Plotly) { window.PLOTLYENV=window.PLOTLYENV || {};window.PLOTLYENV.BASE_URL=\"https://plot.ly\";Plotly.newPlot(\"4f1f8f6b-95b8-4200-bc49-40e54f376f39\", [{\"autocolorscale\": false, \"colorbar\": {\"len\": 0.7, \"tick0\": 1, \"tickmode\": \"array\", \"ticktext\": [\"1\", \"10<sup>1/2</sup>\", \"10<sup>1</sup>\", \"10<sup>3/2</sup>\", \"10<sup>2</sup>\", \"10<sup>5/2</sup>\", \"10<sup>3</sup>\", \"10<sup>3/2</sup>\", \"10<sup>4</sup>\"], \"tickvals\": [0, 0.5, 1, 1.5, 2, 2.5, 3, 3.5, 4], \"title\": \"Counts\"}, \"colorscale\": \"Viridis\", \"hoverinfo\": \"text\", \"locations\": [\"GBR\", \"THA\", \"FIN\", \"MDA\", \"ESP\", \"DZA\", \"PHL\", \"PER\", \"BGR\", \"KHM\", \"KOR\", \"HUN\", \"UGA\", \"BRA\", \"GLP\", \"ISR\", \"ISL\", \"SJM\", \"FRA\", \"CAN\", \"ROU\", \"UMI\", \"HTI\", \"BEL\", \"NZL\", \"NCL\", \"TZA\", \"NER\", \"LAO\", \"NLD\", \"TTO\", \"LKA\", \"AUT\", \"PNG\", \"AFG\", \"TUN\", \"REU\", \"CHL\", \"ARG\", \"CYP\", \"VNM\", \"SEN\", \"STP\", \"RWA\", \"CRI\", \"USA\", \"SDN\", \"URY\", \"EST\", \"MEX\", \"ETH\", \"DEU\", \"LSO\", \"BDI\", \"KEN\", \"GRL\", \"BLR\", \"MAR\", \"PRY\", \"IRN\", \"SVN\", \"WSM\", \"NGA\", \"VEN\", \"ITA\", \"TUR\", \"TWN\", \"HRV\", \"MDG\", \"AZE\", \"PAK\", \"GIN\", \"BFA\", \"UZB\", \"GUY\", \"POL\", \"GRC\", \"BOL\", \"MTQ\", \"RUS\", \"TGO\", \"SLV\", \"IDN\", \"NAM\", \"DNK\", \"SYR\", \"JPN\", \"IOT\", \"NOR\", \"UKR\", \"ECU\", \"EGY\", \"GHA\", \"IRL\", \"CUB\", \"MNE\", \"LUX\", \"CZE\", \"CMR\", \"SWE\", \"MKD\", \"MYS\", \"ZAF\", \"GUF\", \"PYF\", \"SYC\", \"LBN\", \"PRT\", \"SRB\", \"COD\", \"SVK\", \"AUS\", \"DOM\", \"NIC\", \"CHN\", \"MMR\", \"NFK\", \"HND\", \"MHL\", \"DMA\", \"BGD\", \"CHE\", \"CIV\", \"IND\", \"COM\", \"GEO\", \"LTU\", \"COL\", \"GTM\", \"SGP\", \"JAM\", \"FRO\", \"SAU\", \"HKG\", \"BES\", \"BIH\"], \"reversescale\": true, \"text\": [\"United Kingdom 533\", \"Thailand 136\", \"Finland 4\", \"Moldova 3\", \"Spain 1162\", \"Algeria 13\", \"Philippines 26\", \"Peru 173\", \"Bulgaria 10\", \"Cambodia 3\", \"South Korea 15\", \"Hungary 18\", \"Uganda 1\", \"Brazil 59\", \"Guadeloupe 3\", \"Israel 19\", \"Iceland 22\", \"Svalbard and Jan Mayen 1\", \"France 7035\", \"Canada 150\", \"Romania 19\", \"United States Minor Outlying Islands 4\", \"Haiti 5\", \"Belgium 132\", \"New Zealand 49\", \"New Caledonia 3\", \"Tanzania 6\", \"Niger 10\", \"Laos 3\", \"Netherlands 143\", \"Trinidad and Tobago 3\", \"Sri Lanka 30\", \"Austria 51\", \"Papua New Guinea 13\", \"Afghanistan 1\", \"Tunisia 31\", \"R\\u00e9union 16\", \"Chile 57\", \"Argentina 92\", \"Cyprus 6\", \"Vietnam 74\", \"Senegal 4\", \"S\\u00e3o Tom\\u00e9 and Pr\\u00edncipe 7\", \"Rwanda 1\", \"Costa Rica 19\", \"United States 313\", \"Sudan 1\", \"Uruguay 22\", \"Estonia 3\", \"Mexico 1031\", \"Ethiopia 2\", \"Germany 383\", \"Lesotho 1\", \"Burundi 2\", \"Kenya 11\", \"Greenland 2\", \"Belarus 2\", \"Morocco 46\", \"Paraguay 31\", \"Iran 10\", \"Slovenia 2\", \"Samoa 2\", \"Nigeria 1\", \"Venezuela 5\", \"Italy 599\", \"Turkey 98\", \"Taiwan 12\", \"Croatia 1\", \"Madagascar 136\", \"Azerbaijan 1\", \"Pakistan 10\", \"Guinea 14\", \"Burkina Faso 2\", \"Uzbekistan 1\", \"Guyana 1\", \"Poland 52\", \"Greece 71\", \"Bolivia 39\", \"Martinique 6\", \"Russia 41\", \"Togo 1\", \"El Salvador 3\", \"Indonesia 43\", \"Namibia 1\", \"Denmark 57\", \"Syria 1\", \"Japan 17\", \"British Indian Ocean Territory 26\", \"Norway 132\", \"Ukraine 2\", \"Ecuador 42\", \"Egypt 13\", \"Ghana 4\", \"Ireland 82\", \"Cuba 6\", \"Montenegro 1\", \"Luxembourg 8\", \"Czechia 9\", \"Cameroon 6\", \"Sweden 92\", \"Macedonia 1\", \"Malaysia 14\", \"South Africa 58\", \"French Guiana 1\", \"French Polynesia 5\", \"Seychelles 3\", \"Lebanon 1\", \"Portugal 56\", \"Serbia 6\", \"DR Congo 2\", \"Slovakia 1\", \"Australia 454\", \"Dominican Republic 48\", \"Nicaragua 5\", \"China 232\", \"Myanmar 1\", \"Norfolk Island 2\", \"Honduras 5\", \"Marshall Islands 2\", \"Dominica 49\", \"Bangladesh 2\", \"Switzerland 293\", \"Ivory Coast 15\", \"India 98\", \"Comoros 1\", \"Georgia 2\", \"Lithuania 9\", \"Colombia 17\", \"Guatemala 7\", \"Singapore 7\", \"Jamaica 1\", \"Faroe Islands 17\", \"Saudi Arabia 2\", \"Hong Kong 3\", \"Caribbean Netherlands 1\", \"Bosnia and Herzegovina 2\"], \"z\": [2.7267272090265724, 2.1335389083702174, 0.6020599913279624, 0.47712125471966244, 3.065206128054312, 1.1139433523068367, 1.414973347970818, 2.2380461031287955, 1.0, 0.47712125471966244, 1.1760912590556813, 1.255272505103306, 0.0, 1.7708520116421442, 0.47712125471966244, 1.2787536009528289, 1.3424226808222062, 0.0, 3.8472641017707643, 2.1760912590556813, 1.2787536009528289, 0.6020599913279624, 0.6989700043360189, 2.12057393120585, 1.6901960800285136, 0.47712125471966244, 0.7781512503836436, 1.0, 0.47712125471966244, 2.155336037465062, 0.47712125471966244, 1.4771212547196624, 1.7075701760979363, 1.1139433523068367, 0.0, 1.4913616938342726, 1.2041199826559248, 1.7558748556724915, 1.9637878273455553, 0.7781512503836436, 1.8692317197309762, 0.6020599913279624, 0.8450980400142568, 0.0, 1.2787536009528289, 2.4955443375464483, 0.0, 1.3424226808222062, 0.47712125471966244, 3.0132586652835167, 0.3010299956639812, 2.583198773968623, 0.0, 0.3010299956639812, 1.041392685158225, 0.3010299956639812, 0.3010299956639812, 1.662757831681574, 1.4913616938342726, 1.0, 0.3010299956639812, 0.3010299956639812, 0.0, 0.6989700043360189, 2.7774268223893115, 1.9912260756924949, 1.0791812460476249, 0.0, 2.1335389083702174, 0.0, 1.0, 1.146128035678238, 0.3010299956639812, 0.0, 0.0, 1.7160033436347992, 1.8512583487190752, 1.591064607026499, 0.7781512503836436, 1.6127838567197355, 0.0, 0.47712125471966244, 1.6334684555795866, 0.0, 1.7558748556724915, 0.0, 1.2304489213782739, 1.414973347970818, 2.12057393120585, 0.3010299956639812, 1.6232492903979006, 1.1139433523068367, 0.6020599913279624, 1.9138138523837167, 0.7781512503836436, 0.0, 0.9030899869919435, 0.9542425094393249, 0.7781512503836436, 1.9637878273455553, 0.0, 1.146128035678238, 1.7634279935629373, 0.0, 0.6989700043360189, 0.47712125471966244, 0.0, 1.7481880270062005, 0.7781512503836436, 0.3010299956639812, 0.0, 2.6570558528571038, 1.6812412373755872, 0.6989700043360189, 2.3654879848909, 0.0, 0.3010299956639812, 0.6989700043360189, 0.3010299956639812, 1.6901960800285136, 0.3010299956639812, 2.4668676203541096, 1.1760912590556813, 1.9912260756924949, 0.0, 0.3010299956639812, 0.9542425094393249, 1.2304489213782739, 0.8450980400142568, 0.8450980400142568, 0.0, 1.2304489213782739, 0.3010299956639812, 0.47712125471966244, 0.0, 0.3010299956639812], \"type\": \"choropleth\", \"uid\": \"e427be75-1e5e-42b9-baee-da1f0a6bd239\"}], {\"geo\": {\"coastlinecolor\": \"rgb(255, 255, 255)\", \"countrycolor\": \"rgb(255, 255, 255)\", \"landcolor\": \"rgb(229, 229, 229)\", \"projection\": {\"type\": \"equirectangular\"}, \"showcoastlines\": true, \"showframe\": false, \"showland\": true}, \"margin\": {\"b\": 0, \"l\": 50, \"pad\": 4, \"r\": 100, \"t\": 0}, \"showlegend\": false, \"xaxis\": {\"fixedrange\": true}, \"yaxis\": {\"fixedrange\": true}}, {\"showLink\": true, \"linkText\": \"Export to plot.ly\"})});</script><script type=\"text/javascript\">window.addEventListener(\"resize\", function(){window._Plotly.Plots.resize(document.getElementById(\"4f1f8f6b-95b8-4200-bc49-40e54f376f39\"));});</script>"
      ]
     },
     "metadata": {},
     "output_type": "display_data"
    }
   ],
   "source": [
    "visualize.plot_occurrences_on_map(df=food_facts_pd, \n",
    "                                  column_key='origins',\n",
    "                                  save_offline = save_plots_offline, \n",
    "                                  save_offline_title= 'origin_all',\n",
    "                                  show_distances=False)"
   ]
  },
  {
   "cell_type": "markdown",
   "metadata": {},
   "source": [
    "**Where are those products manufactured?**"
   ]
  },
  {
   "cell_type": "code",
   "execution_count": 21,
   "metadata": {},
   "outputs": [
    {
     "data": {
      "application/vnd.plotly.v1+json": {
       "data": [
        {
         "autocolorscale": false,
         "colorbar": {
          "len": 0.7,
          "tick0": 1,
          "tickmode": "array",
          "ticktext": [
           "1",
           "10<sup>1/2</sup>",
           "10<sup>1</sup>",
           "10<sup>3/2</sup>",
           "10<sup>2</sup>",
           "10<sup>5/2</sup>",
           "10<sup>3</sup>",
           "10<sup>3/2</sup>",
           "10<sup>4</sup>"
          ],
          "tickvals": [
           0,
           0.5,
           1,
           1.5,
           2,
           2.5,
           3,
           3.5,
           4
          ],
          "title": "Counts"
         },
         "colorscale": "Viridis",
         "hoverinfo": "text",
         "locations": [
          "GBR",
          "THA",
          "FIN",
          "MDA",
          "ESP",
          "LVA",
          "DZA",
          "PHL",
          "PER",
          "ARM",
          "BGR",
          "KHM",
          "KOR",
          "HUN",
          "BRA",
          "GLP",
          "ISR",
          "ISL",
          "FRA",
          "BRN",
          "CYM",
          "CAN",
          "UMI",
          "ROU",
          "BEL",
          "NZL",
          "NCL",
          "CAF",
          "MYT",
          "TZA",
          "NER",
          "KIR",
          "LAO",
          "NLD",
          "LKA",
          "AUT",
          "PNG",
          "MUS",
          "TUN",
          "SPM",
          "REU",
          "LIE",
          "CHL",
          "ARG",
          "CYP",
          "VNM",
          "SEN",
          "STP",
          "CRI",
          "USA",
          "URY",
          "EST",
          "MEX",
          "DEU",
          "KEN",
          "MAR",
          "BLR",
          "SVN",
          "IRN",
          "WSM",
          "NGA",
          "VEN",
          "ITA",
          "HRV",
          "TWN",
          "TUR",
          "MDG",
          "PAK",
          "GUY",
          "POL",
          "GRC",
          "BOL",
          "MTQ",
          "RUS",
          "TGO",
          "SLV",
          "IDN",
          "NAM",
          "DNK",
          "CPV",
          "MCO",
          "SYR",
          "JPN",
          "YEM",
          "NOR",
          "UKR",
          "ECU",
          "EGY",
          "GHA",
          "IRL",
          "CUB",
          "MNE",
          "LUX",
          "CZE",
          "CMR",
          "SWE",
          "MYS",
          "ALB",
          "ZAF",
          "GUF",
          "PYF",
          "BLM",
          "ATF",
          "SYC",
          "PRT",
          "SRB",
          "SVK",
          "LBN",
          "COD",
          "AUS",
          "DOM",
          "CHN",
          "MMR",
          "NFK",
          "MHL",
          "BGD",
          "CHE",
          "SLE",
          "GRD",
          "CIV",
          "IND",
          "GGY",
          "SWZ",
          "GEO",
          "LTU",
          "PRI",
          "COL",
          "GTM",
          "SGP",
          "HKG",
          "SAU",
          "AZE",
          "BES",
          "BIH"
         ],
         "reversescale": true,
         "text": [
          "United Kingdom 3208",
          "Thailand 261",
          "Finland 21",
          "Moldova 3",
          "Spain 3649",
          "Latvia 5",
          "Algeria 12",
          "Philippines 13",
          "Peru 39",
          "Armenia 5",
          "Bulgaria 16",
          "Cambodia 3",
          "South Korea 33",
          "Hungary 56",
          "Brazil 43",
          "Guadeloupe 12",
          "Israel 46",
          "Iceland 24",
          "France 20494",
          "Brunei 2",
          "Cayman Islands 2",
          "Canada 167",
          "United States Minor Outlying Islands 31",
          "Romania 39",
          "Belgium 1227",
          "New Zealand 51",
          "New Caledonia 4",
          "Central African Republic 1",
          "Mayotte 5",
          "Tanzania 1",
          "Niger 26",
          "Kiribati 2",
          "Laos 2",
          "Netherlands 544",
          "Sri Lanka 28",
          "Austria 134",
          "Papua New Guinea 3",
          "Mauritius 8",
          "Tunisia 39",
          "Saint Pierre and Miquelon 1",
          "Réunion 25",
          "Liechtenstein 13",
          "Chile 13",
          "Argentina 13",
          "Cyprus 8",
          "Vietnam 66",
          "Senegal 5",
          "São Tomé and Príncipe 1",
          "Costa Rica 11",
          "United States 346",
          "Uruguay 2",
          "Estonia 3",
          "Mexico 653",
          "Germany 2308",
          "Kenya 15",
          "Morocco 111",
          "Belarus 3",
          "Slovenia 7",
          "Iran 42",
          "Samoa 17",
          "Nigeria 1",
          "Venezuela 27",
          "Italy 2084",
          "Croatia 13",
          "Taiwan 43",
          "Turkey 82",
          "Madagascar 111",
          "Pakistan 5",
          "Guyana 1",
          "Poland 176",
          "Greece 157",
          "Bolivia 76",
          "Martinique 7",
          "Russia 175",
          "Togo 1",
          "El Salvador 1",
          "Indonesia 29",
          "Namibia 2",
          "Denmark 103",
          "Cape Verde 1",
          "Monaco 2",
          "Syria 2",
          "Japan 51",
          "Yemen 2",
          "Norway 28",
          "Ukraine 2",
          "Ecuador 11",
          "Egypt 3",
          "Ghana 6",
          "Ireland 86",
          "Cuba 2",
          "Montenegro 1",
          "Luxembourg 39",
          "Czechia 36",
          "Cameroon 5",
          "Sweden 286",
          "Malaysia 31",
          "Albania 1",
          "South Africa 42",
          "French Guiana 4",
          "French Polynesia 8",
          "Saint Barthélemy 1",
          "French Southern and Antarctic Lands 8",
          "Seychelles 12",
          "Portugal 218",
          "Serbia 27",
          "Slovakia 10",
          "Lebanon 3",
          "DR Congo 1",
          "Australia 507",
          "Dominican Republic 3",
          "China 288",
          "Myanmar 2",
          "Norfolk Island 17",
          "Marshall Islands 5",
          "Bangladesh 3",
          "Switzerland 783",
          "Sierra Leone 2",
          "Grenada 5",
          "Ivory Coast 11",
          "India 61",
          "Guernsey 3",
          "Eswatini 1",
          "Georgia 6",
          "Lithuania 23",
          "Puerto Rico 2",
          "Colombia 18",
          "Guatemala 3",
          "Singapore 17",
          "Hong Kong 8",
          "Saudi Arabia 2",
          "Azerbaijan 1",
          "Caribbean Netherlands 4",
          "Bosnia and Herzegovina 1"
         ],
         "type": "choropleth",
         "uid": "ef9deff6-e828-4999-8805-86765032d4c4",
         "z": [
          3.506234359612126,
          2.416640507338281,
          1.3222192947339193,
          0.47712125471966244,
          3.5621738633646483,
          0.6989700043360189,
          1.0791812460476249,
          1.1139433523068367,
          1.591064607026499,
          0.6989700043360189,
          1.2041199826559248,
          0.47712125471966244,
          1.5185139398778875,
          1.7481880270062005,
          1.6334684555795866,
          1.0791812460476249,
          1.662757831681574,
          1.380211241711606,
          4.311626731870506,
          0.3010299956639812,
          0.3010299956639812,
          2.2227164711475833,
          1.4913616938342726,
          1.591064607026499,
          3.0888445627270045,
          1.7075701760979363,
          0.6020599913279624,
          0,
          0.6989700043360189,
          0,
          1.414973347970818,
          0.3010299956639812,
          0.3010299956639812,
          2.73559889969818,
          1.4471580313422192,
          2.1271047983648077,
          0.47712125471966244,
          0.9030899869919435,
          1.591064607026499,
          0,
          1.3979400086720377,
          1.1139433523068367,
          1.1139433523068367,
          1.1139433523068367,
          0.9030899869919435,
          1.8195439355418688,
          0.6989700043360189,
          0,
          1.041392685158225,
          2.5390760987927767,
          0.3010299956639812,
          0.47712125471966244,
          2.814913181275074,
          3.363235804483694,
          1.1760912590556813,
          2.0453229787866576,
          0.47712125471966244,
          0.8450980400142568,
          1.6232492903979006,
          1.2304489213782739,
          0,
          1.4313637641589874,
          3.3188977146274867,
          1.1139433523068367,
          1.6334684555795866,
          1.9138138523837167,
          2.0453229787866576,
          0.6989700043360189,
          0,
          2.24551266781415,
          2.1958996524092336,
          1.8808135922807914,
          0.8450980400142568,
          2.2430380486862944,
          0,
          0,
          1.462397997898956,
          0.3010299956639812,
          2.012837224705172,
          0,
          0.3010299956639812,
          0.3010299956639812,
          1.7075701760979363,
          0.3010299956639812,
          1.4471580313422192,
          0.3010299956639812,
          1.041392685158225,
          0.47712125471966244,
          0.7781512503836436,
          1.9344984512435677,
          0.3010299956639812,
          0,
          1.591064607026499,
          1.5563025007672873,
          0.6989700043360189,
          2.456366033129043,
          1.4913616938342726,
          0,
          1.6232492903979006,
          0.6020599913279624,
          0.9030899869919435,
          0,
          0.9030899869919435,
          1.0791812460476249,
          2.3384564936046046,
          1.4313637641589874,
          1,
          0.47712125471966244,
          0,
          2.705007959333336,
          0.47712125471966244,
          2.459392487759231,
          0.3010299956639812,
          1.2304489213782739,
          0.6989700043360189,
          0.47712125471966244,
          2.8937617620579434,
          0.3010299956639812,
          0.6989700043360189,
          1.041392685158225,
          1.7853298350107671,
          0.47712125471966244,
          0,
          0.7781512503836436,
          1.3617278360175928,
          0.3010299956639812,
          1.255272505103306,
          0.47712125471966244,
          1.2304489213782739,
          0.9030899869919435,
          0.3010299956639812,
          0,
          0.6020599913279624,
          0
         ]
        }
       ],
       "layout": {
        "geo": {
         "coastlinecolor": "rgb(255, 255, 255)",
         "countrycolor": "rgb(255, 255, 255)",
         "landcolor": "rgb(229, 229, 229)",
         "projection": {
          "type": "equirectangular"
         },
         "showcoastlines": true,
         "showframe": false,
         "showland": true
        },
        "margin": {
         "b": 0,
         "l": 50,
         "pad": 4,
         "r": 100,
         "t": 0
        },
        "showlegend": false,
        "xaxis": {
         "fixedrange": true
        },
        "yaxis": {
         "fixedrange": true
        }
       }
      },
      "text/html": [
       "<div id=\"f628912a-c850-414b-be73-830c3256465e\" style=\"height: 525px; width: 100%;\" class=\"plotly-graph-div\"></div><script type=\"text/javascript\">require([\"plotly\"], function(Plotly) { window.PLOTLYENV=window.PLOTLYENV || {};window.PLOTLYENV.BASE_URL=\"https://plot.ly\";Plotly.newPlot(\"f628912a-c850-414b-be73-830c3256465e\", [{\"autocolorscale\": false, \"colorbar\": {\"len\": 0.7, \"tick0\": 1, \"tickmode\": \"array\", \"ticktext\": [\"1\", \"10<sup>1/2</sup>\", \"10<sup>1</sup>\", \"10<sup>3/2</sup>\", \"10<sup>2</sup>\", \"10<sup>5/2</sup>\", \"10<sup>3</sup>\", \"10<sup>3/2</sup>\", \"10<sup>4</sup>\"], \"tickvals\": [0, 0.5, 1, 1.5, 2, 2.5, 3, 3.5, 4], \"title\": \"Counts\"}, \"colorscale\": \"Viridis\", \"hoverinfo\": \"text\", \"locations\": [\"GBR\", \"THA\", \"FIN\", \"MDA\", \"ESP\", \"LVA\", \"DZA\", \"PHL\", \"PER\", \"ARM\", \"BGR\", \"KHM\", \"KOR\", \"HUN\", \"BRA\", \"GLP\", \"ISR\", \"ISL\", \"FRA\", \"BRN\", \"CYM\", \"CAN\", \"UMI\", \"ROU\", \"BEL\", \"NZL\", \"NCL\", \"CAF\", \"MYT\", \"TZA\", \"NER\", \"KIR\", \"LAO\", \"NLD\", \"LKA\", \"AUT\", \"PNG\", \"MUS\", \"TUN\", \"SPM\", \"REU\", \"LIE\", \"CHL\", \"ARG\", \"CYP\", \"VNM\", \"SEN\", \"STP\", \"CRI\", \"USA\", \"URY\", \"EST\", \"MEX\", \"DEU\", \"KEN\", \"MAR\", \"BLR\", \"SVN\", \"IRN\", \"WSM\", \"NGA\", \"VEN\", \"ITA\", \"HRV\", \"TWN\", \"TUR\", \"MDG\", \"PAK\", \"GUY\", \"POL\", \"GRC\", \"BOL\", \"MTQ\", \"RUS\", \"TGO\", \"SLV\", \"IDN\", \"NAM\", \"DNK\", \"CPV\", \"MCO\", \"SYR\", \"JPN\", \"YEM\", \"NOR\", \"UKR\", \"ECU\", \"EGY\", \"GHA\", \"IRL\", \"CUB\", \"MNE\", \"LUX\", \"CZE\", \"CMR\", \"SWE\", \"MYS\", \"ALB\", \"ZAF\", \"GUF\", \"PYF\", \"BLM\", \"ATF\", \"SYC\", \"PRT\", \"SRB\", \"SVK\", \"LBN\", \"COD\", \"AUS\", \"DOM\", \"CHN\", \"MMR\", \"NFK\", \"MHL\", \"BGD\", \"CHE\", \"SLE\", \"GRD\", \"CIV\", \"IND\", \"GGY\", \"SWZ\", \"GEO\", \"LTU\", \"PRI\", \"COL\", \"GTM\", \"SGP\", \"HKG\", \"SAU\", \"AZE\", \"BES\", \"BIH\"], \"reversescale\": true, \"text\": [\"United Kingdom 3208\", \"Thailand 261\", \"Finland 21\", \"Moldova 3\", \"Spain 3649\", \"Latvia 5\", \"Algeria 12\", \"Philippines 13\", \"Peru 39\", \"Armenia 5\", \"Bulgaria 16\", \"Cambodia 3\", \"South Korea 33\", \"Hungary 56\", \"Brazil 43\", \"Guadeloupe 12\", \"Israel 46\", \"Iceland 24\", \"France 20494\", \"Brunei 2\", \"Cayman Islands 2\", \"Canada 167\", \"United States Minor Outlying Islands 31\", \"Romania 39\", \"Belgium 1227\", \"New Zealand 51\", \"New Caledonia 4\", \"Central African Republic 1\", \"Mayotte 5\", \"Tanzania 1\", \"Niger 26\", \"Kiribati 2\", \"Laos 2\", \"Netherlands 544\", \"Sri Lanka 28\", \"Austria 134\", \"Papua New Guinea 3\", \"Mauritius 8\", \"Tunisia 39\", \"Saint Pierre and Miquelon 1\", \"R\\u00e9union 25\", \"Liechtenstein 13\", \"Chile 13\", \"Argentina 13\", \"Cyprus 8\", \"Vietnam 66\", \"Senegal 5\", \"S\\u00e3o Tom\\u00e9 and Pr\\u00edncipe 1\", \"Costa Rica 11\", \"United States 346\", \"Uruguay 2\", \"Estonia 3\", \"Mexico 653\", \"Germany 2308\", \"Kenya 15\", \"Morocco 111\", \"Belarus 3\", \"Slovenia 7\", \"Iran 42\", \"Samoa 17\", \"Nigeria 1\", \"Venezuela 27\", \"Italy 2084\", \"Croatia 13\", \"Taiwan 43\", \"Turkey 82\", \"Madagascar 111\", \"Pakistan 5\", \"Guyana 1\", \"Poland 176\", \"Greece 157\", \"Bolivia 76\", \"Martinique 7\", \"Russia 175\", \"Togo 1\", \"El Salvador 1\", \"Indonesia 29\", \"Namibia 2\", \"Denmark 103\", \"Cape Verde 1\", \"Monaco 2\", \"Syria 2\", \"Japan 51\", \"Yemen 2\", \"Norway 28\", \"Ukraine 2\", \"Ecuador 11\", \"Egypt 3\", \"Ghana 6\", \"Ireland 86\", \"Cuba 2\", \"Montenegro 1\", \"Luxembourg 39\", \"Czechia 36\", \"Cameroon 5\", \"Sweden 286\", \"Malaysia 31\", \"Albania 1\", \"South Africa 42\", \"French Guiana 4\", \"French Polynesia 8\", \"Saint Barth\\u00e9lemy 1\", \"French Southern and Antarctic Lands 8\", \"Seychelles 12\", \"Portugal 218\", \"Serbia 27\", \"Slovakia 10\", \"Lebanon 3\", \"DR Congo 1\", \"Australia 507\", \"Dominican Republic 3\", \"China 288\", \"Myanmar 2\", \"Norfolk Island 17\", \"Marshall Islands 5\", \"Bangladesh 3\", \"Switzerland 783\", \"Sierra Leone 2\", \"Grenada 5\", \"Ivory Coast 11\", \"India 61\", \"Guernsey 3\", \"Eswatini 1\", \"Georgia 6\", \"Lithuania 23\", \"Puerto Rico 2\", \"Colombia 18\", \"Guatemala 3\", \"Singapore 17\", \"Hong Kong 8\", \"Saudi Arabia 2\", \"Azerbaijan 1\", \"Caribbean Netherlands 4\", \"Bosnia and Herzegovina 1\"], \"z\": [3.506234359612126, 2.416640507338281, 1.3222192947339193, 0.47712125471966244, 3.5621738633646483, 0.6989700043360189, 1.0791812460476249, 1.1139433523068367, 1.591064607026499, 0.6989700043360189, 1.2041199826559248, 0.47712125471966244, 1.5185139398778875, 1.7481880270062005, 1.6334684555795866, 1.0791812460476249, 1.662757831681574, 1.380211241711606, 4.311626731870506, 0.3010299956639812, 0.3010299956639812, 2.2227164711475833, 1.4913616938342726, 1.591064607026499, 3.0888445627270045, 1.7075701760979363, 0.6020599913279624, 0.0, 0.6989700043360189, 0.0, 1.414973347970818, 0.3010299956639812, 0.3010299956639812, 2.73559889969818, 1.4471580313422192, 2.1271047983648077, 0.47712125471966244, 0.9030899869919435, 1.591064607026499, 0.0, 1.3979400086720377, 1.1139433523068367, 1.1139433523068367, 1.1139433523068367, 0.9030899869919435, 1.8195439355418688, 0.6989700043360189, 0.0, 1.041392685158225, 2.5390760987927767, 0.3010299956639812, 0.47712125471966244, 2.814913181275074, 3.363235804483694, 1.1760912590556813, 2.0453229787866576, 0.47712125471966244, 0.8450980400142568, 1.6232492903979006, 1.2304489213782739, 0.0, 1.4313637641589874, 3.3188977146274867, 1.1139433523068367, 1.6334684555795866, 1.9138138523837167, 2.0453229787866576, 0.6989700043360189, 0.0, 2.24551266781415, 2.1958996524092336, 1.8808135922807914, 0.8450980400142568, 2.2430380486862944, 0.0, 0.0, 1.462397997898956, 0.3010299956639812, 2.012837224705172, 0.0, 0.3010299956639812, 0.3010299956639812, 1.7075701760979363, 0.3010299956639812, 1.4471580313422192, 0.3010299956639812, 1.041392685158225, 0.47712125471966244, 0.7781512503836436, 1.9344984512435677, 0.3010299956639812, 0.0, 1.591064607026499, 1.5563025007672873, 0.6989700043360189, 2.456366033129043, 1.4913616938342726, 0.0, 1.6232492903979006, 0.6020599913279624, 0.9030899869919435, 0.0, 0.9030899869919435, 1.0791812460476249, 2.3384564936046046, 1.4313637641589874, 1.0, 0.47712125471966244, 0.0, 2.705007959333336, 0.47712125471966244, 2.459392487759231, 0.3010299956639812, 1.2304489213782739, 0.6989700043360189, 0.47712125471966244, 2.8937617620579434, 0.3010299956639812, 0.6989700043360189, 1.041392685158225, 1.7853298350107671, 0.47712125471966244, 0.0, 0.7781512503836436, 1.3617278360175928, 0.3010299956639812, 1.255272505103306, 0.47712125471966244, 1.2304489213782739, 0.9030899869919435, 0.3010299956639812, 0.0, 0.6020599913279624, 0.0], \"type\": \"choropleth\", \"uid\": \"15f5cf38-9e8b-402e-aa1d-4fd7c1893301\"}], {\"geo\": {\"coastlinecolor\": \"rgb(255, 255, 255)\", \"countrycolor\": \"rgb(255, 255, 255)\", \"landcolor\": \"rgb(229, 229, 229)\", \"projection\": {\"type\": \"equirectangular\"}, \"showcoastlines\": true, \"showframe\": false, \"showland\": true}, \"margin\": {\"b\": 0, \"l\": 50, \"pad\": 4, \"r\": 100, \"t\": 0}, \"showlegend\": false, \"xaxis\": {\"fixedrange\": true}, \"yaxis\": {\"fixedrange\": true}}, {\"showLink\": true, \"linkText\": \"Export to plot.ly\"})});</script><script type=\"text/javascript\">window.addEventListener(\"resize\", function(){window._Plotly.Plots.resize(document.getElementById(\"f628912a-c850-414b-be73-830c3256465e\"));});</script>"
      ],
      "text/vnd.plotly.v1+html": [
       "<div id=\"f628912a-c850-414b-be73-830c3256465e\" style=\"height: 525px; width: 100%;\" class=\"plotly-graph-div\"></div><script type=\"text/javascript\">require([\"plotly\"], function(Plotly) { window.PLOTLYENV=window.PLOTLYENV || {};window.PLOTLYENV.BASE_URL=\"https://plot.ly\";Plotly.newPlot(\"f628912a-c850-414b-be73-830c3256465e\", [{\"autocolorscale\": false, \"colorbar\": {\"len\": 0.7, \"tick0\": 1, \"tickmode\": \"array\", \"ticktext\": [\"1\", \"10<sup>1/2</sup>\", \"10<sup>1</sup>\", \"10<sup>3/2</sup>\", \"10<sup>2</sup>\", \"10<sup>5/2</sup>\", \"10<sup>3</sup>\", \"10<sup>3/2</sup>\", \"10<sup>4</sup>\"], \"tickvals\": [0, 0.5, 1, 1.5, 2, 2.5, 3, 3.5, 4], \"title\": \"Counts\"}, \"colorscale\": \"Viridis\", \"hoverinfo\": \"text\", \"locations\": [\"GBR\", \"THA\", \"FIN\", \"MDA\", \"ESP\", \"LVA\", \"DZA\", \"PHL\", \"PER\", \"ARM\", \"BGR\", \"KHM\", \"KOR\", \"HUN\", \"BRA\", \"GLP\", \"ISR\", \"ISL\", \"FRA\", \"BRN\", \"CYM\", \"CAN\", \"UMI\", \"ROU\", \"BEL\", \"NZL\", \"NCL\", \"CAF\", \"MYT\", \"TZA\", \"NER\", \"KIR\", \"LAO\", \"NLD\", \"LKA\", \"AUT\", \"PNG\", \"MUS\", \"TUN\", \"SPM\", \"REU\", \"LIE\", \"CHL\", \"ARG\", \"CYP\", \"VNM\", \"SEN\", \"STP\", \"CRI\", \"USA\", \"URY\", \"EST\", \"MEX\", \"DEU\", \"KEN\", \"MAR\", \"BLR\", \"SVN\", \"IRN\", \"WSM\", \"NGA\", \"VEN\", \"ITA\", \"HRV\", \"TWN\", \"TUR\", \"MDG\", \"PAK\", \"GUY\", \"POL\", \"GRC\", \"BOL\", \"MTQ\", \"RUS\", \"TGO\", \"SLV\", \"IDN\", \"NAM\", \"DNK\", \"CPV\", \"MCO\", \"SYR\", \"JPN\", \"YEM\", \"NOR\", \"UKR\", \"ECU\", \"EGY\", \"GHA\", \"IRL\", \"CUB\", \"MNE\", \"LUX\", \"CZE\", \"CMR\", \"SWE\", \"MYS\", \"ALB\", \"ZAF\", \"GUF\", \"PYF\", \"BLM\", \"ATF\", \"SYC\", \"PRT\", \"SRB\", \"SVK\", \"LBN\", \"COD\", \"AUS\", \"DOM\", \"CHN\", \"MMR\", \"NFK\", \"MHL\", \"BGD\", \"CHE\", \"SLE\", \"GRD\", \"CIV\", \"IND\", \"GGY\", \"SWZ\", \"GEO\", \"LTU\", \"PRI\", \"COL\", \"GTM\", \"SGP\", \"HKG\", \"SAU\", \"AZE\", \"BES\", \"BIH\"], \"reversescale\": true, \"text\": [\"United Kingdom 3208\", \"Thailand 261\", \"Finland 21\", \"Moldova 3\", \"Spain 3649\", \"Latvia 5\", \"Algeria 12\", \"Philippines 13\", \"Peru 39\", \"Armenia 5\", \"Bulgaria 16\", \"Cambodia 3\", \"South Korea 33\", \"Hungary 56\", \"Brazil 43\", \"Guadeloupe 12\", \"Israel 46\", \"Iceland 24\", \"France 20494\", \"Brunei 2\", \"Cayman Islands 2\", \"Canada 167\", \"United States Minor Outlying Islands 31\", \"Romania 39\", \"Belgium 1227\", \"New Zealand 51\", \"New Caledonia 4\", \"Central African Republic 1\", \"Mayotte 5\", \"Tanzania 1\", \"Niger 26\", \"Kiribati 2\", \"Laos 2\", \"Netherlands 544\", \"Sri Lanka 28\", \"Austria 134\", \"Papua New Guinea 3\", \"Mauritius 8\", \"Tunisia 39\", \"Saint Pierre and Miquelon 1\", \"R\\u00e9union 25\", \"Liechtenstein 13\", \"Chile 13\", \"Argentina 13\", \"Cyprus 8\", \"Vietnam 66\", \"Senegal 5\", \"S\\u00e3o Tom\\u00e9 and Pr\\u00edncipe 1\", \"Costa Rica 11\", \"United States 346\", \"Uruguay 2\", \"Estonia 3\", \"Mexico 653\", \"Germany 2308\", \"Kenya 15\", \"Morocco 111\", \"Belarus 3\", \"Slovenia 7\", \"Iran 42\", \"Samoa 17\", \"Nigeria 1\", \"Venezuela 27\", \"Italy 2084\", \"Croatia 13\", \"Taiwan 43\", \"Turkey 82\", \"Madagascar 111\", \"Pakistan 5\", \"Guyana 1\", \"Poland 176\", \"Greece 157\", \"Bolivia 76\", \"Martinique 7\", \"Russia 175\", \"Togo 1\", \"El Salvador 1\", \"Indonesia 29\", \"Namibia 2\", \"Denmark 103\", \"Cape Verde 1\", \"Monaco 2\", \"Syria 2\", \"Japan 51\", \"Yemen 2\", \"Norway 28\", \"Ukraine 2\", \"Ecuador 11\", \"Egypt 3\", \"Ghana 6\", \"Ireland 86\", \"Cuba 2\", \"Montenegro 1\", \"Luxembourg 39\", \"Czechia 36\", \"Cameroon 5\", \"Sweden 286\", \"Malaysia 31\", \"Albania 1\", \"South Africa 42\", \"French Guiana 4\", \"French Polynesia 8\", \"Saint Barth\\u00e9lemy 1\", \"French Southern and Antarctic Lands 8\", \"Seychelles 12\", \"Portugal 218\", \"Serbia 27\", \"Slovakia 10\", \"Lebanon 3\", \"DR Congo 1\", \"Australia 507\", \"Dominican Republic 3\", \"China 288\", \"Myanmar 2\", \"Norfolk Island 17\", \"Marshall Islands 5\", \"Bangladesh 3\", \"Switzerland 783\", \"Sierra Leone 2\", \"Grenada 5\", \"Ivory Coast 11\", \"India 61\", \"Guernsey 3\", \"Eswatini 1\", \"Georgia 6\", \"Lithuania 23\", \"Puerto Rico 2\", \"Colombia 18\", \"Guatemala 3\", \"Singapore 17\", \"Hong Kong 8\", \"Saudi Arabia 2\", \"Azerbaijan 1\", \"Caribbean Netherlands 4\", \"Bosnia and Herzegovina 1\"], \"z\": [3.506234359612126, 2.416640507338281, 1.3222192947339193, 0.47712125471966244, 3.5621738633646483, 0.6989700043360189, 1.0791812460476249, 1.1139433523068367, 1.591064607026499, 0.6989700043360189, 1.2041199826559248, 0.47712125471966244, 1.5185139398778875, 1.7481880270062005, 1.6334684555795866, 1.0791812460476249, 1.662757831681574, 1.380211241711606, 4.311626731870506, 0.3010299956639812, 0.3010299956639812, 2.2227164711475833, 1.4913616938342726, 1.591064607026499, 3.0888445627270045, 1.7075701760979363, 0.6020599913279624, 0.0, 0.6989700043360189, 0.0, 1.414973347970818, 0.3010299956639812, 0.3010299956639812, 2.73559889969818, 1.4471580313422192, 2.1271047983648077, 0.47712125471966244, 0.9030899869919435, 1.591064607026499, 0.0, 1.3979400086720377, 1.1139433523068367, 1.1139433523068367, 1.1139433523068367, 0.9030899869919435, 1.8195439355418688, 0.6989700043360189, 0.0, 1.041392685158225, 2.5390760987927767, 0.3010299956639812, 0.47712125471966244, 2.814913181275074, 3.363235804483694, 1.1760912590556813, 2.0453229787866576, 0.47712125471966244, 0.8450980400142568, 1.6232492903979006, 1.2304489213782739, 0.0, 1.4313637641589874, 3.3188977146274867, 1.1139433523068367, 1.6334684555795866, 1.9138138523837167, 2.0453229787866576, 0.6989700043360189, 0.0, 2.24551266781415, 2.1958996524092336, 1.8808135922807914, 0.8450980400142568, 2.2430380486862944, 0.0, 0.0, 1.462397997898956, 0.3010299956639812, 2.012837224705172, 0.0, 0.3010299956639812, 0.3010299956639812, 1.7075701760979363, 0.3010299956639812, 1.4471580313422192, 0.3010299956639812, 1.041392685158225, 0.47712125471966244, 0.7781512503836436, 1.9344984512435677, 0.3010299956639812, 0.0, 1.591064607026499, 1.5563025007672873, 0.6989700043360189, 2.456366033129043, 1.4913616938342726, 0.0, 1.6232492903979006, 0.6020599913279624, 0.9030899869919435, 0.0, 0.9030899869919435, 1.0791812460476249, 2.3384564936046046, 1.4313637641589874, 1.0, 0.47712125471966244, 0.0, 2.705007959333336, 0.47712125471966244, 2.459392487759231, 0.3010299956639812, 1.2304489213782739, 0.6989700043360189, 0.47712125471966244, 2.8937617620579434, 0.3010299956639812, 0.6989700043360189, 1.041392685158225, 1.7853298350107671, 0.47712125471966244, 0.0, 0.7781512503836436, 1.3617278360175928, 0.3010299956639812, 1.255272505103306, 0.47712125471966244, 1.2304489213782739, 0.9030899869919435, 0.3010299956639812, 0.0, 0.6020599913279624, 0.0], \"type\": \"choropleth\", \"uid\": \"15f5cf38-9e8b-402e-aa1d-4fd7c1893301\"}], {\"geo\": {\"coastlinecolor\": \"rgb(255, 255, 255)\", \"countrycolor\": \"rgb(255, 255, 255)\", \"landcolor\": \"rgb(229, 229, 229)\", \"projection\": {\"type\": \"equirectangular\"}, \"showcoastlines\": true, \"showframe\": false, \"showland\": true}, \"margin\": {\"b\": 0, \"l\": 50, \"pad\": 4, \"r\": 100, \"t\": 0}, \"showlegend\": false, \"xaxis\": {\"fixedrange\": true}, \"yaxis\": {\"fixedrange\": true}}, {\"showLink\": true, \"linkText\": \"Export to plot.ly\"})});</script><script type=\"text/javascript\">window.addEventListener(\"resize\", function(){window._Plotly.Plots.resize(document.getElementById(\"f628912a-c850-414b-be73-830c3256465e\"));});</script>"
      ]
     },
     "metadata": {},
     "output_type": "display_data"
    }
   ],
   "source": [
    "visualize.plot_occurrences_on_map(df=food_facts_pd, \n",
    "                                 column_key='manufacturing_places',\n",
    "                                 save_offline = save_plots_offline, \n",
    "                                 save_offline_title= 'manufacturing_all',\n",
    "                                 show_distances=False)"
   ]
  },
  {
   "cell_type": "markdown",
   "metadata": {},
   "source": [
    "Please note the log-scale of the color plot. We can observe that most manufactures in the dataset are located in France. Other common manufacturers are located in European countries, as well as North- and Middle America. Only few products are manufactured from companies located in Africa, South-America, and Asia + Oceania."
   ]
  },
  {
   "cell_type": "markdown",
   "metadata": {},
   "source": [
    "**Where are those products bought?**"
   ]
  },
  {
   "cell_type": "code",
   "execution_count": 22,
   "metadata": {
    "scrolled": false
   },
   "outputs": [
    {
     "data": {
      "application/vnd.plotly.v1+json": {
       "data": [
        {
         "autocolorscale": false,
         "colorbar": {
          "len": 0.7,
          "tick0": 1,
          "tickmode": "array",
          "ticktext": [
           "1",
           "10<sup>1/2</sup>",
           "10<sup>1</sup>",
           "10<sup>3/2</sup>",
           "10<sup>2</sup>",
           "10<sup>5/2</sup>",
           "10<sup>3</sup>",
           "10<sup>3/2</sup>",
           "10<sup>4</sup>"
          ],
          "tickvals": [
           0,
           0.5,
           1,
           1.5,
           2,
           2.5,
           3,
           3.5,
           4
          ],
          "title": "Counts"
         },
         "colorscale": "Viridis",
         "hoverinfo": "text",
         "locations": [
          "GBR",
          "THA",
          "FIN",
          "MDA",
          "ESP",
          "DZA",
          "PHL",
          "PER",
          "BGR",
          "KHM",
          "HUN",
          "BRA",
          "GLP",
          "ISR",
          "BEN",
          "ISL",
          "FRA",
          "CYM",
          "CAN",
          "ROU",
          "BEL",
          "NZL",
          "NCL",
          "TZA",
          "NLD",
          "AUT",
          "MUS",
          "TUN",
          "SPM",
          "REU",
          "CHL",
          "ARG",
          "SEN",
          "CRI",
          "USA",
          "EST",
          "MEX",
          "ETH",
          "DEU",
          "GNQ",
          "QAT",
          "MAR",
          "AND",
          "SVN",
          "MLT",
          "IRN",
          "NGA",
          "VEN",
          "TUR",
          "ITA",
          "TWN",
          "MDG",
          "MSR",
          "BFA",
          "POL",
          "GRC",
          "MTQ",
          "RUS",
          "ARE",
          "SLV",
          "IDN",
          "DNK",
          "MCO",
          "JPN",
          "YEM",
          "NOR",
          "UKR",
          "EGY",
          "IRL",
          "JOR",
          "MNE",
          "LUX",
          "CZE",
          "CMR",
          "SWE",
          "MYS",
          "ALB",
          "ZAF",
          "GUF",
          "PYF",
          "SYC",
          "LBN",
          "PRT",
          "SRB",
          "SVK",
          "AUS",
          "CHN",
          "MMR",
          "NFK",
          "MAF",
          "CHE",
          "GRD",
          "CIV",
          "IND",
          "GEO",
          "LTU",
          "COL",
          "OMN",
          "GTM",
          "SGP",
          "JAM",
          "GAB",
          "SAU",
          "HKG",
          "BES",
          "BIH"
         ],
         "reversescale": true,
         "text": [
          "United Kingdom 1162",
          "Thailand 11",
          "Finland 8",
          "Moldova 10",
          "Spain 3675",
          "Algeria 4",
          "Philippines 3",
          "Peru 2",
          "Bulgaria 3",
          "Cambodia 4",
          "Hungary 38",
          "Brazil 34",
          "Guadeloupe 33",
          "Israel 15",
          "Benin 1",
          "Iceland 1",
          "France 27219",
          "Cayman Islands 2",
          "Canada 186",
          "Romania 62",
          "Belgium 387",
          "New Zealand 34",
          "New Caledonia 3",
          "Tanzania 1",
          "Netherlands 42",
          "Austria 29",
          "Mauritius 5",
          "Tunisia 6",
          "Saint Pierre and Miquelon 4",
          "Réunion 47",
          "Chile 5",
          "Argentina 4",
          "Senegal 4",
          "Costa Rica 3",
          "United States 141",
          "Estonia 3",
          "Mexico 659",
          "Ethiopia 1",
          "Germany 1073",
          "Equatorial Guinea 1",
          "Qatar 1",
          "Morocco 15",
          "Andorra 1",
          "Slovenia 3",
          "Malta 1",
          "Iran 1",
          "Nigeria 1",
          "Venezuela 13",
          "Turkey 10",
          "Italy 106",
          "Taiwan 3",
          "Madagascar 105",
          "Montserrat 1",
          "Burkina Faso 1",
          "Poland 7",
          "Greece 47",
          "Martinique 15",
          "Russia 185",
          "United Arab Emirates 4",
          "El Salvador 1",
          "Indonesia 8",
          "Denmark 15",
          "Monaco 1",
          "Japan 8",
          "Yemen 3",
          "Norway 5",
          "Ukraine 2",
          "Egypt 4",
          "Ireland 72",
          "Jordan 1",
          "Montenegro 1",
          "Luxembourg 33",
          "Czechia 4",
          "Cameroon 3",
          "Sweden 491",
          "Malaysia 2",
          "Albania 5",
          "South Africa 13",
          "French Guiana 12",
          "French Polynesia 41",
          "Seychelles 1",
          "Lebanon 2",
          "Portugal 124",
          "Serbia 52",
          "Slovakia 2",
          "Australia 865",
          "China 7",
          "Myanmar 1",
          "Norfolk Island 24",
          "Saint Martin 1",
          "Switzerland 798",
          "Grenada 3",
          "Ivory Coast 1",
          "India 21",
          "Georgia 3",
          "Lithuania 1",
          "Colombia 9",
          "Oman 1",
          "Guatemala 1",
          "Singapore 404",
          "Jamaica 1",
          "Gabon 2",
          "Saudi Arabia 1",
          "Hong Kong 15",
          "Caribbean Netherlands 2",
          "Bosnia and Herzegovina 1"
         ],
         "type": "choropleth",
         "uid": "b3768dd9-5a71-4e51-a9ab-4ecc7cf1e55e",
         "z": [
          3.065206128054312,
          1.041392685158225,
          0.9030899869919435,
          1,
          3.5652573434202135,
          0.6020599913279624,
          0.47712125471966244,
          0.3010299956639812,
          0.47712125471966244,
          0.6020599913279624,
          1.5797835966168101,
          1.5314789170422551,
          1.5185139398778875,
          1.1760912590556813,
          0,
          0,
          4.434872165596942,
          0.3010299956639812,
          2.2695129442179165,
          1.792391689498254,
          2.5877109650189114,
          1.5314789170422551,
          0.47712125471966244,
          0,
          1.6232492903979006,
          1.462397997898956,
          0.6989700043360189,
          0.7781512503836436,
          0.6020599913279624,
          1.6720978579357175,
          0.6989700043360189,
          0.6020599913279624,
          0.6020599913279624,
          0.47712125471966244,
          2.1492191126553797,
          0.47712125471966244,
          2.8188854145940097,
          0,
          3.030599721965951,
          0,
          0,
          1.1760912590556813,
          0,
          0.47712125471966244,
          0,
          0,
          0,
          1.1139433523068367,
          1,
          2.0253058652647704,
          0.47712125471966244,
          2.0211892990699383,
          0,
          0,
          0.8450980400142568,
          1.6720978579357175,
          1.1760912590556813,
          2.2671717284030137,
          0.6020599913279624,
          0,
          0.9030899869919435,
          1.1760912590556813,
          0,
          0.9030899869919435,
          0.47712125471966244,
          0.6989700043360189,
          0.3010299956639812,
          0.6020599913279624,
          1.8573324964312685,
          0,
          0,
          1.5185139398778875,
          0.6020599913279624,
          0.47712125471966244,
          2.6910814921229687,
          0.3010299956639812,
          0.6989700043360189,
          1.1139433523068367,
          1.0791812460476249,
          1.6127838567197355,
          0,
          0.3010299956639812,
          2.093421685162235,
          1.7160033436347992,
          0.3010299956639812,
          2.9370161074648142,
          0.8450980400142568,
          0,
          1.380211241711606,
          0,
          2.9020028913507296,
          0.47712125471966244,
          0,
          1.3222192947339193,
          0.47712125471966244,
          0,
          0.9542425094393249,
          0,
          0,
          2.606381365110605,
          0,
          0.3010299956639812,
          0,
          1.1760912590556813,
          0.3010299956639812,
          0
         ]
        }
       ],
       "layout": {
        "geo": {
         "coastlinecolor": "rgb(255, 255, 255)",
         "countrycolor": "rgb(255, 255, 255)",
         "landcolor": "rgb(229, 229, 229)",
         "projection": {
          "type": "equirectangular"
         },
         "showcoastlines": true,
         "showframe": false,
         "showland": true
        },
        "margin": {
         "b": 0,
         "l": 50,
         "pad": 4,
         "r": 100,
         "t": 0
        },
        "showlegend": false,
        "xaxis": {
         "fixedrange": true
        },
        "yaxis": {
         "fixedrange": true
        }
       }
      },
      "text/html": [
       "<div id=\"bf1d84b5-b20a-430d-a03c-009420ec2945\" style=\"height: 525px; width: 100%;\" class=\"plotly-graph-div\"></div><script type=\"text/javascript\">require([\"plotly\"], function(Plotly) { window.PLOTLYENV=window.PLOTLYENV || {};window.PLOTLYENV.BASE_URL=\"https://plot.ly\";Plotly.newPlot(\"bf1d84b5-b20a-430d-a03c-009420ec2945\", [{\"autocolorscale\": false, \"colorbar\": {\"len\": 0.7, \"tick0\": 1, \"tickmode\": \"array\", \"ticktext\": [\"1\", \"10<sup>1/2</sup>\", \"10<sup>1</sup>\", \"10<sup>3/2</sup>\", \"10<sup>2</sup>\", \"10<sup>5/2</sup>\", \"10<sup>3</sup>\", \"10<sup>3/2</sup>\", \"10<sup>4</sup>\"], \"tickvals\": [0, 0.5, 1, 1.5, 2, 2.5, 3, 3.5, 4], \"title\": \"Counts\"}, \"colorscale\": \"Viridis\", \"hoverinfo\": \"text\", \"locations\": [\"GBR\", \"THA\", \"FIN\", \"MDA\", \"ESP\", \"DZA\", \"PHL\", \"PER\", \"BGR\", \"KHM\", \"HUN\", \"BRA\", \"GLP\", \"ISR\", \"BEN\", \"ISL\", \"FRA\", \"CYM\", \"CAN\", \"ROU\", \"BEL\", \"NZL\", \"NCL\", \"TZA\", \"NLD\", \"AUT\", \"MUS\", \"TUN\", \"SPM\", \"REU\", \"CHL\", \"ARG\", \"SEN\", \"CRI\", \"USA\", \"EST\", \"MEX\", \"ETH\", \"DEU\", \"GNQ\", \"QAT\", \"MAR\", \"AND\", \"SVN\", \"MLT\", \"IRN\", \"NGA\", \"VEN\", \"TUR\", \"ITA\", \"TWN\", \"MDG\", \"MSR\", \"BFA\", \"POL\", \"GRC\", \"MTQ\", \"RUS\", \"ARE\", \"SLV\", \"IDN\", \"DNK\", \"MCO\", \"JPN\", \"YEM\", \"NOR\", \"UKR\", \"EGY\", \"IRL\", \"JOR\", \"MNE\", \"LUX\", \"CZE\", \"CMR\", \"SWE\", \"MYS\", \"ALB\", \"ZAF\", \"GUF\", \"PYF\", \"SYC\", \"LBN\", \"PRT\", \"SRB\", \"SVK\", \"AUS\", \"CHN\", \"MMR\", \"NFK\", \"MAF\", \"CHE\", \"GRD\", \"CIV\", \"IND\", \"GEO\", \"LTU\", \"COL\", \"OMN\", \"GTM\", \"SGP\", \"JAM\", \"GAB\", \"SAU\", \"HKG\", \"BES\", \"BIH\"], \"reversescale\": true, \"text\": [\"United Kingdom 1162\", \"Thailand 11\", \"Finland 8\", \"Moldova 10\", \"Spain 3675\", \"Algeria 4\", \"Philippines 3\", \"Peru 2\", \"Bulgaria 3\", \"Cambodia 4\", \"Hungary 38\", \"Brazil 34\", \"Guadeloupe 33\", \"Israel 15\", \"Benin 1\", \"Iceland 1\", \"France 27219\", \"Cayman Islands 2\", \"Canada 186\", \"Romania 62\", \"Belgium 387\", \"New Zealand 34\", \"New Caledonia 3\", \"Tanzania 1\", \"Netherlands 42\", \"Austria 29\", \"Mauritius 5\", \"Tunisia 6\", \"Saint Pierre and Miquelon 4\", \"R\\u00e9union 47\", \"Chile 5\", \"Argentina 4\", \"Senegal 4\", \"Costa Rica 3\", \"United States 141\", \"Estonia 3\", \"Mexico 659\", \"Ethiopia 1\", \"Germany 1073\", \"Equatorial Guinea 1\", \"Qatar 1\", \"Morocco 15\", \"Andorra 1\", \"Slovenia 3\", \"Malta 1\", \"Iran 1\", \"Nigeria 1\", \"Venezuela 13\", \"Turkey 10\", \"Italy 106\", \"Taiwan 3\", \"Madagascar 105\", \"Montserrat 1\", \"Burkina Faso 1\", \"Poland 7\", \"Greece 47\", \"Martinique 15\", \"Russia 185\", \"United Arab Emirates 4\", \"El Salvador 1\", \"Indonesia 8\", \"Denmark 15\", \"Monaco 1\", \"Japan 8\", \"Yemen 3\", \"Norway 5\", \"Ukraine 2\", \"Egypt 4\", \"Ireland 72\", \"Jordan 1\", \"Montenegro 1\", \"Luxembourg 33\", \"Czechia 4\", \"Cameroon 3\", \"Sweden 491\", \"Malaysia 2\", \"Albania 5\", \"South Africa 13\", \"French Guiana 12\", \"French Polynesia 41\", \"Seychelles 1\", \"Lebanon 2\", \"Portugal 124\", \"Serbia 52\", \"Slovakia 2\", \"Australia 865\", \"China 7\", \"Myanmar 1\", \"Norfolk Island 24\", \"Saint Martin 1\", \"Switzerland 798\", \"Grenada 3\", \"Ivory Coast 1\", \"India 21\", \"Georgia 3\", \"Lithuania 1\", \"Colombia 9\", \"Oman 1\", \"Guatemala 1\", \"Singapore 404\", \"Jamaica 1\", \"Gabon 2\", \"Saudi Arabia 1\", \"Hong Kong 15\", \"Caribbean Netherlands 2\", \"Bosnia and Herzegovina 1\"], \"z\": [3.065206128054312, 1.041392685158225, 0.9030899869919435, 1.0, 3.5652573434202135, 0.6020599913279624, 0.47712125471966244, 0.3010299956639812, 0.47712125471966244, 0.6020599913279624, 1.5797835966168101, 1.5314789170422551, 1.5185139398778875, 1.1760912590556813, 0.0, 0.0, 4.434872165596942, 0.3010299956639812, 2.2695129442179165, 1.792391689498254, 2.5877109650189114, 1.5314789170422551, 0.47712125471966244, 0.0, 1.6232492903979006, 1.462397997898956, 0.6989700043360189, 0.7781512503836436, 0.6020599913279624, 1.6720978579357175, 0.6989700043360189, 0.6020599913279624, 0.6020599913279624, 0.47712125471966244, 2.1492191126553797, 0.47712125471966244, 2.8188854145940097, 0.0, 3.030599721965951, 0.0, 0.0, 1.1760912590556813, 0.0, 0.47712125471966244, 0.0, 0.0, 0.0, 1.1139433523068367, 1.0, 2.0253058652647704, 0.47712125471966244, 2.0211892990699383, 0.0, 0.0, 0.8450980400142568, 1.6720978579357175, 1.1760912590556813, 2.2671717284030137, 0.6020599913279624, 0.0, 0.9030899869919435, 1.1760912590556813, 0.0, 0.9030899869919435, 0.47712125471966244, 0.6989700043360189, 0.3010299956639812, 0.6020599913279624, 1.8573324964312685, 0.0, 0.0, 1.5185139398778875, 0.6020599913279624, 0.47712125471966244, 2.6910814921229687, 0.3010299956639812, 0.6989700043360189, 1.1139433523068367, 1.0791812460476249, 1.6127838567197355, 0.0, 0.3010299956639812, 2.093421685162235, 1.7160033436347992, 0.3010299956639812, 2.9370161074648142, 0.8450980400142568, 0.0, 1.380211241711606, 0.0, 2.9020028913507296, 0.47712125471966244, 0.0, 1.3222192947339193, 0.47712125471966244, 0.0, 0.9542425094393249, 0.0, 0.0, 2.606381365110605, 0.0, 0.3010299956639812, 0.0, 1.1760912590556813, 0.3010299956639812, 0.0], \"type\": \"choropleth\", \"uid\": \"91aa6037-c2b6-4f9a-8ad6-7c695b75377a\"}], {\"geo\": {\"coastlinecolor\": \"rgb(255, 255, 255)\", \"countrycolor\": \"rgb(255, 255, 255)\", \"landcolor\": \"rgb(229, 229, 229)\", \"projection\": {\"type\": \"equirectangular\"}, \"showcoastlines\": true, \"showframe\": false, \"showland\": true}, \"margin\": {\"b\": 0, \"l\": 50, \"pad\": 4, \"r\": 100, \"t\": 0}, \"showlegend\": false, \"xaxis\": {\"fixedrange\": true}, \"yaxis\": {\"fixedrange\": true}}, {\"showLink\": true, \"linkText\": \"Export to plot.ly\"})});</script><script type=\"text/javascript\">window.addEventListener(\"resize\", function(){window._Plotly.Plots.resize(document.getElementById(\"bf1d84b5-b20a-430d-a03c-009420ec2945\"));});</script>"
      ],
      "text/vnd.plotly.v1+html": [
       "<div id=\"bf1d84b5-b20a-430d-a03c-009420ec2945\" style=\"height: 525px; width: 100%;\" class=\"plotly-graph-div\"></div><script type=\"text/javascript\">require([\"plotly\"], function(Plotly) { window.PLOTLYENV=window.PLOTLYENV || {};window.PLOTLYENV.BASE_URL=\"https://plot.ly\";Plotly.newPlot(\"bf1d84b5-b20a-430d-a03c-009420ec2945\", [{\"autocolorscale\": false, \"colorbar\": {\"len\": 0.7, \"tick0\": 1, \"tickmode\": \"array\", \"ticktext\": [\"1\", \"10<sup>1/2</sup>\", \"10<sup>1</sup>\", \"10<sup>3/2</sup>\", \"10<sup>2</sup>\", \"10<sup>5/2</sup>\", \"10<sup>3</sup>\", \"10<sup>3/2</sup>\", \"10<sup>4</sup>\"], \"tickvals\": [0, 0.5, 1, 1.5, 2, 2.5, 3, 3.5, 4], \"title\": \"Counts\"}, \"colorscale\": \"Viridis\", \"hoverinfo\": \"text\", \"locations\": [\"GBR\", \"THA\", \"FIN\", \"MDA\", \"ESP\", \"DZA\", \"PHL\", \"PER\", \"BGR\", \"KHM\", \"HUN\", \"BRA\", \"GLP\", \"ISR\", \"BEN\", \"ISL\", \"FRA\", \"CYM\", \"CAN\", \"ROU\", \"BEL\", \"NZL\", \"NCL\", \"TZA\", \"NLD\", \"AUT\", \"MUS\", \"TUN\", \"SPM\", \"REU\", \"CHL\", \"ARG\", \"SEN\", \"CRI\", \"USA\", \"EST\", \"MEX\", \"ETH\", \"DEU\", \"GNQ\", \"QAT\", \"MAR\", \"AND\", \"SVN\", \"MLT\", \"IRN\", \"NGA\", \"VEN\", \"TUR\", \"ITA\", \"TWN\", \"MDG\", \"MSR\", \"BFA\", \"POL\", \"GRC\", \"MTQ\", \"RUS\", \"ARE\", \"SLV\", \"IDN\", \"DNK\", \"MCO\", \"JPN\", \"YEM\", \"NOR\", \"UKR\", \"EGY\", \"IRL\", \"JOR\", \"MNE\", \"LUX\", \"CZE\", \"CMR\", \"SWE\", \"MYS\", \"ALB\", \"ZAF\", \"GUF\", \"PYF\", \"SYC\", \"LBN\", \"PRT\", \"SRB\", \"SVK\", \"AUS\", \"CHN\", \"MMR\", \"NFK\", \"MAF\", \"CHE\", \"GRD\", \"CIV\", \"IND\", \"GEO\", \"LTU\", \"COL\", \"OMN\", \"GTM\", \"SGP\", \"JAM\", \"GAB\", \"SAU\", \"HKG\", \"BES\", \"BIH\"], \"reversescale\": true, \"text\": [\"United Kingdom 1162\", \"Thailand 11\", \"Finland 8\", \"Moldova 10\", \"Spain 3675\", \"Algeria 4\", \"Philippines 3\", \"Peru 2\", \"Bulgaria 3\", \"Cambodia 4\", \"Hungary 38\", \"Brazil 34\", \"Guadeloupe 33\", \"Israel 15\", \"Benin 1\", \"Iceland 1\", \"France 27219\", \"Cayman Islands 2\", \"Canada 186\", \"Romania 62\", \"Belgium 387\", \"New Zealand 34\", \"New Caledonia 3\", \"Tanzania 1\", \"Netherlands 42\", \"Austria 29\", \"Mauritius 5\", \"Tunisia 6\", \"Saint Pierre and Miquelon 4\", \"R\\u00e9union 47\", \"Chile 5\", \"Argentina 4\", \"Senegal 4\", \"Costa Rica 3\", \"United States 141\", \"Estonia 3\", \"Mexico 659\", \"Ethiopia 1\", \"Germany 1073\", \"Equatorial Guinea 1\", \"Qatar 1\", \"Morocco 15\", \"Andorra 1\", \"Slovenia 3\", \"Malta 1\", \"Iran 1\", \"Nigeria 1\", \"Venezuela 13\", \"Turkey 10\", \"Italy 106\", \"Taiwan 3\", \"Madagascar 105\", \"Montserrat 1\", \"Burkina Faso 1\", \"Poland 7\", \"Greece 47\", \"Martinique 15\", \"Russia 185\", \"United Arab Emirates 4\", \"El Salvador 1\", \"Indonesia 8\", \"Denmark 15\", \"Monaco 1\", \"Japan 8\", \"Yemen 3\", \"Norway 5\", \"Ukraine 2\", \"Egypt 4\", \"Ireland 72\", \"Jordan 1\", \"Montenegro 1\", \"Luxembourg 33\", \"Czechia 4\", \"Cameroon 3\", \"Sweden 491\", \"Malaysia 2\", \"Albania 5\", \"South Africa 13\", \"French Guiana 12\", \"French Polynesia 41\", \"Seychelles 1\", \"Lebanon 2\", \"Portugal 124\", \"Serbia 52\", \"Slovakia 2\", \"Australia 865\", \"China 7\", \"Myanmar 1\", \"Norfolk Island 24\", \"Saint Martin 1\", \"Switzerland 798\", \"Grenada 3\", \"Ivory Coast 1\", \"India 21\", \"Georgia 3\", \"Lithuania 1\", \"Colombia 9\", \"Oman 1\", \"Guatemala 1\", \"Singapore 404\", \"Jamaica 1\", \"Gabon 2\", \"Saudi Arabia 1\", \"Hong Kong 15\", \"Caribbean Netherlands 2\", \"Bosnia and Herzegovina 1\"], \"z\": [3.065206128054312, 1.041392685158225, 0.9030899869919435, 1.0, 3.5652573434202135, 0.6020599913279624, 0.47712125471966244, 0.3010299956639812, 0.47712125471966244, 0.6020599913279624, 1.5797835966168101, 1.5314789170422551, 1.5185139398778875, 1.1760912590556813, 0.0, 0.0, 4.434872165596942, 0.3010299956639812, 2.2695129442179165, 1.792391689498254, 2.5877109650189114, 1.5314789170422551, 0.47712125471966244, 0.0, 1.6232492903979006, 1.462397997898956, 0.6989700043360189, 0.7781512503836436, 0.6020599913279624, 1.6720978579357175, 0.6989700043360189, 0.6020599913279624, 0.6020599913279624, 0.47712125471966244, 2.1492191126553797, 0.47712125471966244, 2.8188854145940097, 0.0, 3.030599721965951, 0.0, 0.0, 1.1760912590556813, 0.0, 0.47712125471966244, 0.0, 0.0, 0.0, 1.1139433523068367, 1.0, 2.0253058652647704, 0.47712125471966244, 2.0211892990699383, 0.0, 0.0, 0.8450980400142568, 1.6720978579357175, 1.1760912590556813, 2.2671717284030137, 0.6020599913279624, 0.0, 0.9030899869919435, 1.1760912590556813, 0.0, 0.9030899869919435, 0.47712125471966244, 0.6989700043360189, 0.3010299956639812, 0.6020599913279624, 1.8573324964312685, 0.0, 0.0, 1.5185139398778875, 0.6020599913279624, 0.47712125471966244, 2.6910814921229687, 0.3010299956639812, 0.6989700043360189, 1.1139433523068367, 1.0791812460476249, 1.6127838567197355, 0.0, 0.3010299956639812, 2.093421685162235, 1.7160033436347992, 0.3010299956639812, 2.9370161074648142, 0.8450980400142568, 0.0, 1.380211241711606, 0.0, 2.9020028913507296, 0.47712125471966244, 0.0, 1.3222192947339193, 0.47712125471966244, 0.0, 0.9542425094393249, 0.0, 0.0, 2.606381365110605, 0.0, 0.3010299956639812, 0.0, 1.1760912590556813, 0.3010299956639812, 0.0], \"type\": \"choropleth\", \"uid\": \"91aa6037-c2b6-4f9a-8ad6-7c695b75377a\"}], {\"geo\": {\"coastlinecolor\": \"rgb(255, 255, 255)\", \"countrycolor\": \"rgb(255, 255, 255)\", \"landcolor\": \"rgb(229, 229, 229)\", \"projection\": {\"type\": \"equirectangular\"}, \"showcoastlines\": true, \"showframe\": false, \"showland\": true}, \"margin\": {\"b\": 0, \"l\": 50, \"pad\": 4, \"r\": 100, \"t\": 0}, \"showlegend\": false, \"xaxis\": {\"fixedrange\": true}, \"yaxis\": {\"fixedrange\": true}}, {\"showLink\": true, \"linkText\": \"Export to plot.ly\"})});</script><script type=\"text/javascript\">window.addEventListener(\"resize\", function(){window._Plotly.Plots.resize(document.getElementById(\"bf1d84b5-b20a-430d-a03c-009420ec2945\"));});</script>"
      ]
     },
     "metadata": {},
     "output_type": "display_data"
    }
   ],
   "source": [
    "visualize.plot_occurrences_on_map(df=food_facts_pd, \n",
    "                                  column_key='purchase_places',\n",
    "                                  save_offline = save_plots_offline, \n",
    "                                  save_offline_title= 'purchase_all',\n",
    "                                  show_distances=False)"
   ]
  },
  {
   "cell_type": "markdown",
   "metadata": {},
   "source": [
    "Also this plot reveals the predominance of products sold in France. The trend remains, that most products in the data base are sold in Europe, while all the other continents play only a marginal role."
   ]
  },
  {
   "cell_type": "markdown",
   "metadata": {},
   "source": [
    "In conclusion, we note that we mainly have data for \"western\" countries, with a <b> huge bias toward France</b>. We mostly lack information for countries in Africa, South-America and the centre of Asia. Our dataset is thus clearly not a truthful representation of the global trends. We shall therefore restrict our analysis to the case of France, meaning purchases countries will be limited to the case of France. [This category was selected since it is the most furnished one.] \n",
    "\n",
    "This is carried out in the next cell. Note that <i> purchases_places </i> is only requested to contain 'France' as one of the entries in its list. There could thus be other countries still contained in the <i> purchases_places </i> column. "
   ]
  },
  {
   "cell_type": "code",
   "execution_count": 23,
   "metadata": {},
   "outputs": [],
   "source": [
    "# Extract only products that are sold in France.\n",
    "food_facts_pd['filter'] = food_facts_pd.purchase_places.apply(lambda l: explore.filter_france(l))\n",
    "food_facts_pd = food_facts_pd[food_facts_pd['filter'] == 'France'].drop(columns=['filter'])"
   ]
  },
  {
   "cell_type": "markdown",
   "metadata": {},
   "source": [
    "The next two figures show the new distribution of the data, and additionally mark the routes that the products need to travel before they land in a supermarket in France."
   ]
  },
  {
   "cell_type": "code",
   "execution_count": 24,
   "metadata": {},
   "outputs": [
    {
     "data": {
      "application/vnd.plotly.v1+json": {
       "data": [
        {
         "autocolorscale": false,
         "colorbar": {
          "len": 0.7,
          "tick0": 1,
          "tickmode": "array",
          "ticktext": [
           "1",
           "10<sup>1/2</sup>",
           "10<sup>1</sup>",
           "10<sup>3/2</sup>",
           "10<sup>2</sup>",
           "10<sup>5/2</sup>",
           "10<sup>3</sup>",
           "10<sup>3/2</sup>",
           "10<sup>4</sup>"
          ],
          "tickvals": [
           0,
           0.5,
           1,
           1.5,
           2,
           2.5,
           3,
           3.5,
           4
          ],
          "title": "Counts"
         },
         "colorscale": "Viridis",
         "hoverinfo": "text",
         "locations": [
          "GBR",
          "THA",
          "FIN",
          "MDA",
          "ESP",
          "LVA",
          "DZA",
          "PER",
          "PHL",
          "ARM",
          "BGR",
          "KOR",
          "HUN",
          "BRA",
          "GLP",
          "ISR",
          "ISL",
          "FRA",
          "CYM",
          "CAN",
          "ROU",
          "UMI",
          "BEL",
          "NZL",
          "NCL",
          "MYT",
          "NER",
          "LAO",
          "NLD",
          "LKA",
          "AUT",
          "PNG",
          "MUS",
          "TUN",
          "REU",
          "LIE",
          "CHL",
          "ARG",
          "CYP",
          "SEN",
          "VNM",
          "CRI",
          "USA",
          "URY",
          "EST",
          "MEX",
          "DEU",
          "KEN",
          "MAR",
          "IRN",
          "WSM",
          "SVN",
          "VEN",
          "ITA",
          "HRV",
          "TWN",
          "TUR",
          "MDG",
          "POL",
          "GRC",
          "BOL",
          "MTQ",
          "RUS",
          "TGO",
          "SLV",
          "IDN",
          "NAM",
          "DNK",
          "SYR",
          "JPN",
          "NOR",
          "ECU",
          "EGY",
          "GHA",
          "IRL",
          "CUB",
          "LUX",
          "CZE",
          "CMR",
          "SWE",
          "MYS",
          "ZAF",
          "GUF",
          "BLM",
          "ATF",
          "SYC",
          "PRT",
          "SRB",
          "SVK",
          "LBN",
          "AUS",
          "DOM",
          "CHN",
          "MMR",
          "BGD",
          "CHE",
          "CIV",
          "GGY",
          "SWZ",
          "LTU",
          "PRI",
          "COL",
          "SGP",
          "SAU",
          "HKG",
          "BES"
         ],
         "reversescale": true,
         "text": [
          "United Kingdom 2283",
          "Thailand 127",
          "Finland 2",
          "Moldova 1",
          "Spain 613",
          "Latvia 2",
          "Algeria 9",
          "Peru 15",
          "Philippines 4",
          "Armenia 4",
          "Bulgaria 5",
          "South Korea 16",
          "Hungary 16",
          "Brazil 4",
          "Guadeloupe 3",
          "Israel 26",
          "Iceland 22",
          "France 18972",
          "Cayman Islands 2",
          "Canada 26",
          "Romania 6",
          "United States Minor Outlying Islands 28",
          "Belgium 792",
          "New Zealand 2",
          "New Caledonia 3",
          "Mayotte 5",
          "Niger 25",
          "Laos 2",
          "Netherlands 335",
          "Sri Lanka 17",
          "Austria 26",
          "Papua New Guinea 2",
          "Mauritius 7",
          "Tunisia 20",
          "Réunion 7",
          "Liechtenstein 3",
          "Chile 3",
          "Argentina 2",
          "Cyprus 2",
          "Senegal 1",
          "Vietnam 50",
          "Costa Rica 3",
          "United States 80",
          "Uruguay 1",
          "Estonia 2",
          "Mexico 10",
          "Germany 750",
          "Kenya 9",
          "Morocco 89",
          "Iran 40",
          "Samoa 15",
          "Slovenia 3",
          "Venezuela 9",
          "Italy 1386",
          "Croatia 4",
          "Taiwan 28",
          "Turkey 38",
          "Madagascar 3",
          "Poland 94",
          "Greece 88",
          "Bolivia 72",
          "Martinique 2",
          "Russia 1",
          "Togo 1",
          "El Salvador 1",
          "Indonesia 6",
          "Namibia 1",
          "Denmark 33",
          "Syria 2",
          "Japan 26",
          "Norway 17",
          "Ecuador 5",
          "Egypt 1",
          "Ghana 5",
          "Ireland 24",
          "Cuba 2",
          "Luxembourg 24",
          "Czechia 12",
          "Cameroon 2",
          "Sweden 42",
          "Malaysia 16",
          "South Africa 12",
          "French Guiana 2",
          "Saint Barthélemy 1",
          "French Southern and Antarctic Lands 8",
          "Seychelles 8",
          "Portugal 119",
          "Serbia 3",
          "Slovakia 2",
          "Lebanon 3",
          "Australia 4",
          "Dominican Republic 1",
          "China 116",
          "Myanmar 1",
          "Bangladesh 3",
          "Switzerland 195",
          "Ivory Coast 9",
          "Guernsey 3",
          "Eswatini 1",
          "Lithuania 14",
          "Puerto Rico 1",
          "Colombia 1",
          "Singapore 6",
          "Saudi Arabia 1",
          "Hong Kong 1",
          "Caribbean Netherlands 1"
         ],
         "type": "choropleth",
         "uid": "dd7584b3-b0b7-4ca9-9d58-de638505d90a",
         "z": [
          3.3585059114902354,
          2.103803720955957,
          0.3010299956639812,
          0,
          2.787460474518415,
          0.3010299956639812,
          0.9542425094393249,
          1.1760912590556813,
          0.6020599913279624,
          0.6020599913279624,
          0.6989700043360189,
          1.2041199826559248,
          1.2041199826559248,
          0.6020599913279624,
          0.47712125471966244,
          1.414973347970818,
          1.3424226808222062,
          4.278113115979834,
          0.3010299956639812,
          1.414973347970818,
          0.7781512503836436,
          1.4471580313422192,
          2.8987251815894934,
          0.3010299956639812,
          0.47712125471966244,
          0.6989700043360189,
          1.3979400086720377,
          0.3010299956639812,
          2.525044807036845,
          1.2304489213782739,
          1.414973347970818,
          0.3010299956639812,
          0.8450980400142568,
          1.3010299956639813,
          0.8450980400142568,
          0.47712125471966244,
          0.47712125471966244,
          0.3010299956639812,
          0.3010299956639812,
          0,
          1.6989700043360187,
          0.47712125471966244,
          1.9030899869919435,
          0,
          0.3010299956639812,
          1,
          2.8750612633917,
          0.9542425094393249,
          1.9493900066449128,
          1.6020599913279625,
          1.1760912590556813,
          0.47712125471966244,
          0.9542425094393249,
          3.141763230275788,
          0.6020599913279624,
          1.4471580313422192,
          1.5797835966168101,
          0.47712125471966244,
          1.9731278535996986,
          1.9444826721501687,
          1.8573324964312685,
          0.3010299956639812,
          0,
          0,
          0,
          0.7781512503836436,
          0,
          1.5185139398778875,
          0.3010299956639812,
          1.414973347970818,
          1.2304489213782739,
          0.6989700043360189,
          0,
          0.6989700043360189,
          1.380211241711606,
          0.3010299956639812,
          1.380211241711606,
          1.0791812460476249,
          0.3010299956639812,
          1.6232492903979006,
          1.2041199826559248,
          1.0791812460476249,
          0.3010299956639812,
          0,
          0.9030899869919435,
          0.9030899869919435,
          2.075546961392531,
          0.47712125471966244,
          0.3010299956639812,
          0.47712125471966244,
          0.6020599913279624,
          0,
          2.0644579892269186,
          0,
          0.47712125471966244,
          2.290034611362518,
          0.9542425094393249,
          0.47712125471966244,
          0,
          1.146128035678238,
          0,
          0,
          0.7781512503836436,
          0,
          0,
          0
         ]
        },
        {
         "hoverinfo": "text",
         "lat": [
          54,
          46
         ],
         "line": {
          "color": "red",
          "width": 4.150207093788282
         },
         "lon": [
          -2,
          2
         ],
         "mode": "lines+markers",
         "name": "",
         "opacity": 1,
         "text": "United Kingdom<br># products: 2283",
         "type": "scattergeo",
         "uid": "8ba56385-1732-4a11-ba02-5ceb4839df3a"
        },
        {
         "hoverinfo": "text",
         "lat": [
          15,
          46
         ],
         "line": {
          "color": "red",
          "width": 2.6445644651471483
         },
         "lon": [
          100,
          2
         ],
         "mode": "lines+markers",
         "name": "",
         "opacity": 0.6901116676221724,
         "text": "Thailand<br># products: 127",
         "type": "scattergeo",
         "uid": "3e8f3358-6017-4e8b-b6e3-19fcd9be9306"
        },
        {
         "hoverinfo": "text",
         "lat": [
          64,
          46
         ],
         "line": {
          "color": "red",
          "width": 0.4812359947967775
         },
         "lon": [
          26,
          2
         ],
         "mode": "lines+markers",
         "name": "",
         "opacity": 0.18443815883396575,
         "text": "Finland<br># products: 2",
         "type": "scattergeo",
         "uid": "890d2a85-4221-49bb-bc6c-180c05dba9f6"
        },
        {
         "hoverinfo": "text",
         "lat": [
          47,
          46
         ],
         "line": {
          "color": "red",
          "width": 0.12
         },
         "lon": [
          29,
          2
         ],
         "mode": "lines+markers",
         "name": "",
         "opacity": 0.1,
         "text": "Moldova<br># products: 1",
         "type": "scattergeo",
         "uid": "b3d2a5c0-6d14-445c-854e-751f5a9a7cda"
        },
        {
         "hoverinfo": "text",
         "lat": [
          40,
          46
         ],
         "line": {
          "color": "red",
          "width": 3.464952569422098
         },
         "lon": [
          -4,
          2
         ],
         "mode": "lines+markers",
         "name": "",
         "opacity": 0.8818756724612666,
         "text": "Spain<br># products: 613",
         "type": "scattergeo",
         "uid": "b51826ba-2497-4da9-83b1-a1eed216c33b"
        },
        {
         "hoverinfo": "text",
         "lat": [
          57,
          46
         ],
         "line": {
          "color": "red",
          "width": 0.4812359947967775
         },
         "lon": [
          25,
          2
         ],
         "mode": "lines+markers",
         "name": "",
         "opacity": 0.18443815883396575,
         "text": "Latvia<br># products: 2",
         "type": "scattergeo",
         "uid": "13d580e7-1837-41bb-ada4-3bbe7fe4c9da"
        },
        {
         "hoverinfo": "text",
         "lat": [
          28,
          46
         ],
         "line": {
          "color": "red",
          "width": 1.2650910113271898
         },
         "lon": [
          3,
          2
         ],
         "mode": "lines+markers",
         "name": "",
         "opacity": 0.3676626307635451,
         "text": "Algeria<br># products: 9",
         "type": "scattergeo",
         "uid": "778cbd83-b57b-4bf7-b001-c528932300e2"
        },
        {
         "hoverinfo": "text",
         "lat": [
          -10,
          46
         ],
         "line": {
          "color": "red",
          "width": 1.5313095108668178
         },
         "lon": [
          -76,
          2
         ],
         "mode": "lines+markers",
         "name": "",
         "opacity": 0.42989064865891924,
         "text": "Peru<br># products: 15",
         "type": "scattergeo",
         "uid": "297f48e8-c419-4ce1-8d90-908485315e5d"
        },
        {
         "hoverinfo": "text",
         "lat": [
          13,
          46
         ],
         "line": {
          "color": "red",
          "width": 0.8424719895935548
         },
         "lon": [
          122,
          2
         ],
         "mode": "lines+markers",
         "name": "",
         "opacity": 0.2688763176679315,
         "text": "Philippines<br># products: 4",
         "type": "scattergeo",
         "uid": "cde57635-f9cf-4927-91c0-dd945280702f"
        },
        {
         "hoverinfo": "text",
         "lat": [
          40,
          46
         ],
         "line": {
          "color": "red",
          "width": 0.8424719895935548
         },
         "lon": [
          45,
          2
         ],
         "mode": "lines+markers",
         "name": "",
         "opacity": 0.2688763176679315,
         "text": "Armenia<br># products: 4",
         "type": "scattergeo",
         "uid": "fadcdeab-161d-4a44-a9d7-a86b705c11a7"
        },
        {
         "hoverinfo": "text",
         "lat": [
          43,
          46
         ],
         "line": {
          "color": "red",
          "width": 0.9587640052032226
         },
         "lon": [
          25,
          2
         ],
         "mode": "lines+markers",
         "name": "",
         "opacity": 0.2960593332771467,
         "text": "Bulgaria<br># products: 5",
         "type": "scattergeo",
         "uid": "bee8936b-891d-48fd-9cbb-e694b0833e33"
        },
        {
         "hoverinfo": "text",
         "lat": [
          37,
          46
         ],
         "line": {
          "color": "red",
          "width": 1.5649439791871098
         },
         "lon": [
          127.5,
          2
         ],
         "mode": "lines+markers",
         "name": "",
         "opacity": 0.43775263533586306,
         "text": "South Korea<br># products: 16",
         "type": "scattergeo",
         "uid": "27d5e1f0-85b6-4329-b3ee-1cd8dce0640e"
        },
        {
         "hoverinfo": "text",
         "lat": [
          47,
          46
         ],
         "line": {
          "color": "red",
          "width": 1.5649439791871098
         },
         "lon": [
          20,
          2
         ],
         "mode": "lines+markers",
         "name": "",
         "opacity": 0.43775263533586306,
         "text": "Hungary<br># products: 16",
         "type": "scattergeo",
         "uid": "9bba9e08-81af-4fe0-b949-c5000f7077fb"
        },
        {
         "hoverinfo": "text",
         "lat": [
          -10,
          46
         ],
         "line": {
          "color": "red",
          "width": 0.8424719895935548
         },
         "lon": [
          -55,
          2
         ],
         "mode": "lines+markers",
         "name": "",
         "opacity": 0.2688763176679315,
         "text": "Brazil<br># products: 4",
         "type": "scattergeo",
         "uid": "8fb9e2b9-f7be-4af4-8804-d49c5d948890"
        },
        {
         "hoverinfo": "text",
         "lat": [
          16.25,
          46
         ],
         "line": {
          "color": "red",
          "width": 0.692545505663595
         },
         "lon": [
          -61.583333,
          2
         ],
         "mode": "lines+markers",
         "name": "",
         "opacity": 0.23383131538177257,
         "text": "Guadeloupe<br># products: 3",
         "type": "scattergeo",
         "uid": "26f16b4a-a007-4ebc-b7ae-e0b662cbd979"
        },
        {
         "hoverinfo": "text",
         "lat": [
          31.47,
          46
         ],
         "line": {
          "color": "red",
          "width": 1.8179680175649815
         },
         "lon": [
          35.13,
          2
         ],
         "mode": "lines+markers",
         "name": "",
         "opacity": 0.4968964755098788,
         "text": "Israel<br># products: 26",
         "type": "scattergeo",
         "uid": "1209b5db-fb3c-43f2-b473-f8f30355b4cc"
        },
        {
         "hoverinfo": "text",
         "lat": [
          65,
          46
         ],
         "line": {
          "color": "red",
          "width": 1.7309072169866475
         },
         "lon": [
          -18,
          2
         ],
         "mode": "lines+markers",
         "name": "",
         "opacity": 0.4765461953237051,
         "text": "Iceland<br># products: 22",
         "type": "scattergeo",
         "uid": "a33b5cfc-13ed-404a-95a9-eb6fdc9f4951"
        },
        {
         "hoverinfo": "text",
         "lat": [
          46,
          46
         ],
         "line": {
          "color": "red",
          "width": 5.2537357391758
         },
         "lon": [
          2,
          2
         ],
         "mode": "lines+markers",
         "name": "",
         "opacity": 1,
         "text": "France<br># products: 18972",
         "type": "scattergeo",
         "uid": "d31175d5-cda8-4a1c-b21b-067b15413b0e"
        },
        {
         "hoverinfo": "text",
         "lat": [
          19.5,
          46
         ],
         "line": {
          "color": "red",
          "width": 0.4812359947967775
         },
         "lon": [
          -80.5,
          2
         ],
         "mode": "lines+markers",
         "name": "",
         "opacity": 0.18443815883396575,
         "text": "Cayman Islands<br># products: 2",
         "type": "scattergeo",
         "uid": "9d4255ac-9013-4411-83fb-58dee2873583"
        },
        {
         "hoverinfo": "text",
         "lat": [
          60,
          46
         ],
         "line": {
          "color": "red",
          "width": 1.8179680175649815
         },
         "lon": [
          -95,
          2
         ],
         "mode": "lines+markers",
         "name": "",
         "opacity": 0.4968964755098788,
         "text": "Canada<br># products: 26",
         "type": "scattergeo",
         "uid": "32103f24-77f4-4b6f-a444-cdb6df38b65f"
        },
        {
         "hoverinfo": "text",
         "lat": [
          46,
          46
         ],
         "line": {
          "color": "red",
          "width": 1.0537815004603723
         },
         "lon": [
          25,
          2
         ],
         "mode": "lines+markers",
         "name": "",
         "opacity": 0.31826947421573837,
         "text": "Romania<br># products: 6",
         "type": "scattergeo",
         "uid": "ee628a9f-debd-4bb4-89bf-0955ed156238"
        },
        {
         "hoverinfo": "text",
         "lat": [
          19.3,
          46
         ],
         "line": {
          "color": "red",
          "width": 1.856589637610663
         },
         "lon": [
          166.633333,
          2
         ],
         "mode": "lines+markers",
         "name": "",
         "opacity": 0.5059241984799471,
         "text": "United States Minor Outlying Islands<br># products: 28",
         "type": "scattergeo",
         "uid": "28008108-6450-4392-9258-911c41f8ea15"
        },
        {
         "hoverinfo": "text",
         "lat": [
          50.83333333,
          46
         ],
         "line": {
          "color": "red",
          "width": 3.598470217907392
         },
         "lon": [
          4,
          2
         ],
         "mode": "lines+markers",
         "name": "",
         "opacity": 0.9130851437551817,
         "text": "Belgium<br># products: 792",
         "type": "scattergeo",
         "uid": "82337384-19da-4735-829c-53b212fce795"
        },
        {
         "hoverinfo": "text",
         "lat": [
          -41,
          46
         ],
         "line": {
          "color": "red",
          "width": 0.4812359947967775
         },
         "lon": [
          174,
          2
         ],
         "mode": "lines+markers",
         "name": "",
         "opacity": 0.18443815883396575,
         "text": "New Zealand<br># products: 2",
         "type": "scattergeo",
         "uid": "c3651011-2dc8-4c64-a246-1349686cbbca"
        },
        {
         "hoverinfo": "text",
         "lat": [
          -21.5,
          46
         ],
         "line": {
          "color": "red",
          "width": 0.692545505663595
         },
         "lon": [
          165.5,
          2
         ],
         "mode": "lines+markers",
         "name": "",
         "opacity": 0.23383131538177257,
         "text": "New Caledonia<br># products: 3",
         "type": "scattergeo",
         "uid": "fbe70c83-424e-4194-b807-27c4e5bc8351"
        },
        {
         "hoverinfo": "text",
         "lat": [
          -12.83333333,
          46
         ],
         "line": {
          "color": "red",
          "width": 0.9587640052032226
         },
         "lon": [
          45.16666666,
          2
         ],
         "mode": "lines+markers",
         "name": "",
         "opacity": 0.2960593332771467,
         "text": "Mayotte<br># products: 5",
         "type": "scattergeo",
         "uid": "53fc0c5e-9105-4fef-be1f-4ccb9d965ee8"
        },
        {
         "hoverinfo": "text",
         "lat": [
          16,
          46
         ],
         "line": {
          "color": "red",
          "width": 1.7975280104064453
         },
         "lon": [
          8,
          2
         ],
         "mode": "lines+markers",
         "name": "",
         "opacity": 0.49211866655429337,
         "text": "Niger<br># products: 25",
         "type": "scattergeo",
         "uid": "5df23f77-f944-437e-88ce-ea3745f10ae3"
        },
        {
         "hoverinfo": "text",
         "lat": [
          18,
          46
         ],
         "line": {
          "color": "red",
          "width": 0.4812359947967775
         },
         "lon": [
          105,
          2
         ],
         "mode": "lines+markers",
         "name": "",
         "opacity": 0.18443815883396575,
         "text": "Laos<br># products: 2",
         "type": "scattergeo",
         "uid": "e0458125-5987-4d7d-a97c-0d54ad29d56a"
        },
        {
         "hoverinfo": "text",
         "lat": [
          52.5,
          46
         ],
         "line": {
          "color": "red",
          "width": 3.1500537684442143
         },
         "lon": [
          5.75,
          2
         ],
         "mode": "lines+markers",
         "name": "",
         "opacity": 0.8082687358420227,
         "text": "Netherlands<br># products: 335",
         "type": "scattergeo",
         "uid": "edd6f1d2-8c51-4ff7-987f-0cec428d6b0e"
        },
        {
         "hoverinfo": "text",
         "lat": [
          7,
          46
         ],
         "line": {
          "color": "red",
          "width": 1.5965387056539286
         },
         "lon": [
          81,
          2
         ],
         "mode": "lines+markers",
         "name": "",
         "opacity": 0.4451378366174291,
         "text": "Sri Lanka<br># products: 17",
         "type": "scattergeo",
         "uid": "3a9a3024-52c2-4682-bda5-c539d2db7db0"
        },
        {
         "hoverinfo": "text",
         "lat": [
          47.33333333,
          46
         ],
         "line": {
          "color": "red",
          "width": 1.8179680175649815
         },
         "lon": [
          13.33333333,
          2
         ],
         "mode": "lines+markers",
         "name": "",
         "opacity": 0.4968964755098788,
         "text": "Austria<br># products: 26",
         "type": "scattergeo",
         "uid": "b12fe3a4-d475-49b3-a556-fa5f5df4d4d7"
        },
        {
         "hoverinfo": "text",
         "lat": [
          -6,
          46
         ],
         "line": {
          "color": "red",
          "width": 0.4812359947967775
         },
         "lon": [
          147,
          2
         ],
         "mode": "lines+markers",
         "name": "",
         "opacity": 0.18443815883396575,
         "text": "Papua New Guinea<br># products: 2",
         "type": "scattergeo",
         "uid": "5ef03a19-7386-4444-a6fe-ce3682bb6961"
        },
        {
         "hoverinfo": "text",
         "lat": [
          -20.28333333,
          46
         ],
         "line": {
          "color": "red",
          "width": 1.134117648017108
         },
         "lon": [
          57.55,
          2
         ],
         "mode": "lines+markers",
         "name": "",
         "opacity": 0.33704788081201553,
         "text": "Mauritius<br># products: 7",
         "type": "scattergeo",
         "uid": "96f37b1e-33cc-4e15-b02c-46299ed57091"
        },
        {
         "hoverinfo": "text",
         "lat": [
          34,
          46
         ],
         "line": {
          "color": "red",
          "width": 1.6812359947967777
         },
         "lon": [
          9,
          2
         ],
         "mode": "lines+markers",
         "name": "",
         "opacity": 0.46493565094507816,
         "text": "Tunisia<br># products: 20",
         "type": "scattergeo",
         "uid": "b7f8f49e-c864-4352-833b-9e5db0d2a72c"
        },
        {
         "hoverinfo": "text",
         "lat": [
          -21.15,
          46
         ],
         "line": {
          "color": "red",
          "width": 1.134117648017108
         },
         "lon": [
          55.5,
          2
         ],
         "mode": "lines+markers",
         "name": "",
         "opacity": 0.33704788081201553,
         "text": "Réunion<br># products: 7",
         "type": "scattergeo",
         "uid": "6a4ca8db-a1a2-4d13-b9ad-369e50243fa0"
        },
        {
         "hoverinfo": "text",
         "lat": [
          47.26666666,
          46
         ],
         "line": {
          "color": "red",
          "width": 0.692545505663595
         },
         "lon": [
          9.53333333,
          2
         ],
         "mode": "lines+markers",
         "name": "",
         "opacity": 0.23383131538177257,
         "text": "Liechtenstein<br># products: 3",
         "type": "scattergeo",
         "uid": "184e29c0-816c-4d1a-9ef2-a1cc9b70b2ad"
        },
        {
         "hoverinfo": "text",
         "lat": [
          -30,
          46
         ],
         "line": {
          "color": "red",
          "width": 0.692545505663595
         },
         "lon": [
          -71,
          2
         ],
         "mode": "lines+markers",
         "name": "",
         "opacity": 0.23383131538177257,
         "text": "Chile<br># products: 3",
         "type": "scattergeo",
         "uid": "e5762acd-4666-49d4-b123-eaf8840d0199"
        },
        {
         "hoverinfo": "text",
         "lat": [
          -34,
          46
         ],
         "line": {
          "color": "red",
          "width": 0.4812359947967775
         },
         "lon": [
          -64,
          2
         ],
         "mode": "lines+markers",
         "name": "",
         "opacity": 0.18443815883396575,
         "text": "Argentina<br># products: 2",
         "type": "scattergeo",
         "uid": "61b4a0fd-2bb2-44cc-a56c-9b14145af1b6"
        },
        {
         "hoverinfo": "text",
         "lat": [
          35,
          46
         ],
         "line": {
          "color": "red",
          "width": 0.4812359947967775
         },
         "lon": [
          33,
          2
         ],
         "mode": "lines+markers",
         "name": "",
         "opacity": 0.18443815883396575,
         "text": "Cyprus<br># products: 2",
         "type": "scattergeo",
         "uid": "53f77770-fc99-4d25-9c87-86948bdee25b"
        },
        {
         "hoverinfo": "text",
         "lat": [
          14,
          46
         ],
         "line": {
          "color": "red",
          "width": 0.12
         },
         "lon": [
          -14,
          2
         ],
         "mode": "lines+markers",
         "name": "",
         "opacity": 0.1,
         "text": "Senegal<br># products: 1",
         "type": "scattergeo",
         "uid": "5080075f-9703-4b63-8147-b58c7512e6c4"
        },
        {
         "hoverinfo": "text",
         "lat": [
          16.16666666,
          46
         ],
         "line": {
          "color": "red",
          "width": 2.1587640052032224
         },
         "lon": [
          107.83333333,
          2
         ],
         "mode": "lines+markers",
         "name": "",
         "opacity": 0.576556825388259,
         "text": "Vietnam<br># products: 50",
         "type": "scattergeo",
         "uid": "265dc44a-d0bb-4fd9-acb6-66738cc6639c"
        },
        {
         "hoverinfo": "text",
         "lat": [
          10,
          46
         ],
         "line": {
          "color": "red",
          "width": 0.692545505663595
         },
         "lon": [
          -84,
          2
         ],
         "mode": "lines+markers",
         "name": "",
         "opacity": 0.23383131538177257,
         "text": "Costa Rica<br># products: 3",
         "type": "scattergeo",
         "uid": "784b7272-df9b-4ed4-b8dd-9cc22f9a20d7"
        },
        {
         "hoverinfo": "text",
         "lat": [
          38,
          46
         ],
         "line": {
          "color": "red",
          "width": 2.403707984390332
         },
         "lon": [
          -97,
          2
         ],
         "mode": "lines+markers",
         "name": "",
         "opacity": 0.6338119686130097,
         "text": "United States<br># products: 80",
         "type": "scattergeo",
         "uid": "24a9df25-93fa-433f-b36d-69f928baf359"
        },
        {
         "hoverinfo": "text",
         "lat": [
          -33,
          46
         ],
         "line": {
          "color": "red",
          "width": 0.12
         },
         "lon": [
          -56,
          2
         ],
         "mode": "lines+markers",
         "name": "",
         "opacity": 0.1,
         "text": "Uruguay<br># products: 1",
         "type": "scattergeo",
         "uid": "e9c7a3ae-467d-4c50-a5fe-3ceff27cbe1f"
        },
        {
         "hoverinfo": "text",
         "lat": [
          59,
          46
         ],
         "line": {
          "color": "red",
          "width": 0.4812359947967775
         },
         "lon": [
          26,
          2
         ],
         "mode": "lines+markers",
         "name": "",
         "opacity": 0.18443815883396575,
         "text": "Estonia<br># products: 2",
         "type": "scattergeo",
         "uid": "fb3930e9-761b-4917-b6e1-b34c4e76ac5f"
        },
        {
         "hoverinfo": "text",
         "lat": [
          23,
          46
         ],
         "line": {
          "color": "red",
          "width": 1.32
         },
         "lon": [
          -102,
          2
         ],
         "mode": "lines+markers",
         "name": "",
         "opacity": 0.3804974921111124,
         "text": "Mexico<br># products: 10",
         "type": "scattergeo",
         "uid": "9fb8c4a8-ef28-42e1-b4d7-485c0a69a129"
        },
        {
         "hoverinfo": "text",
         "lat": [
          51,
          46
         ],
         "line": {
          "color": "red",
          "width": 3.5700735160700403
         },
         "lon": [
          9,
          2
         ],
         "mode": "lines+markers",
         "name": "",
         "opacity": 0.9064474740471782,
         "text": "Germany<br># products: 750",
         "type": "scattergeo",
         "uid": "316f3dd6-dbda-44e8-8ddf-f2257c32e7ff"
        },
        {
         "hoverinfo": "text",
         "lat": [
          1,
          46
         ],
         "line": {
          "color": "red",
          "width": 1.2650910113271898
         },
         "lon": [
          38,
          2
         ],
         "mode": "lines+markers",
         "name": "",
         "opacity": 0.3676626307635451,
         "text": "Kenya<br># products: 9",
         "type": "scattergeo",
         "uid": "875de4cc-9828-4b22-bdff-5af479148898"
        },
        {
         "hoverinfo": "text",
         "lat": [
          32,
          46
         ],
         "line": {
          "color": "red",
          "width": 2.4592680079738956
         },
         "lon": [
          -5,
          2
         ],
         "mode": "lines+markers",
         "name": "",
         "opacity": 0.6467990080103627,
         "text": "Morocco<br># products: 89",
         "type": "scattergeo",
         "uid": "731a71d7-93a3-400d-8df2-539ccdc12bd5"
        },
        {
         "hoverinfo": "text",
         "lat": [
          32,
          46
         ],
         "line": {
          "color": "red",
          "width": 2.042471989593555
         },
         "lon": [
          53,
          2
         ],
         "mode": "lines+markers",
         "name": "",
         "opacity": 0.5493738097790439,
         "text": "Iran<br># products: 40",
         "type": "scattergeo",
         "uid": "c0215a91-da6f-4dff-a26a-e23127b8d7fd"
        },
        {
         "hoverinfo": "text",
         "lat": [
          -13.58333333,
          46
         ],
         "line": {
          "color": "red",
          "width": 1.5313095108668178
         },
         "lon": [
          -172.33333333,
          2
         ],
         "mode": "lines+markers",
         "name": "",
         "opacity": 0.42989064865891924,
         "text": "Samoa<br># products: 15",
         "type": "scattergeo",
         "uid": "043ed725-58ae-4d5f-9227-e6879aa4806d"
        },
        {
         "hoverinfo": "text",
         "lat": [
          46.11666666,
          46
         ],
         "line": {
          "color": "red",
          "width": 0.692545505663595
         },
         "lon": [
          14.81666666,
          2
         ],
         "mode": "lines+markers",
         "name": "",
         "opacity": 0.23383131538177257,
         "text": "Slovenia<br># products: 3",
         "type": "scattergeo",
         "uid": "4b830de4-acef-416c-8bbd-86e40b22af29"
        },
        {
         "hoverinfo": "text",
         "lat": [
          8,
          46
         ],
         "line": {
          "color": "red",
          "width": 1.2650910113271898
         },
         "lon": [
          -66,
          2
         ],
         "mode": "lines+markers",
         "name": "",
         "opacity": 0.3676626307635451,
         "text": "Venezuela<br># products: 9",
         "type": "scattergeo",
         "uid": "3650777e-c4ef-410c-90e2-6609abe4ce40"
        },
        {
         "hoverinfo": "text",
         "lat": [
          42.83333333,
          46
         ],
         "line": {
          "color": "red",
          "width": 3.8901158763309454
         },
         "lon": [
          12.83333333,
          2
         ],
         "mode": "lines+markers",
         "name": "",
         "opacity": 0.9812567068992658,
         "text": "Italy<br># products: 1386",
         "type": "scattergeo",
         "uid": "a0aae7d9-f993-4944-a3b8-a1d7edb9aa37"
        },
        {
         "hoverinfo": "text",
         "lat": [
          45.16666666,
          46
         ],
         "line": {
          "color": "red",
          "width": 0.8424719895935548
         },
         "lon": [
          15.5,
          2
         ],
         "mode": "lines+markers",
         "name": "",
         "opacity": 0.2688763176679315,
         "text": "Croatia<br># products: 4",
         "type": "scattergeo",
         "uid": "4fb7caa7-151e-4ea1-a605-2edfb53a8642"
        },
        {
         "hoverinfo": "text",
         "lat": [
          23.5,
          46
         ],
         "line": {
          "color": "red",
          "width": 1.856589637610663
         },
         "lon": [
          121,
          2
         ],
         "mode": "lines+markers",
         "name": "",
         "opacity": 0.5059241984799471,
         "text": "Taiwan<br># products: 28",
         "type": "scattergeo",
         "uid": "ebef336c-cddb-44a3-a8e8-58a8f319e857"
        },
        {
         "hoverinfo": "text",
         "lat": [
          39,
          46
         ],
         "line": {
          "color": "red",
          "width": 2.0157403159401723
         },
         "lon": [
          35,
          2
         ],
         "mode": "lines+markers",
         "name": "",
         "opacity": 0.5431253369292884,
         "text": "Turkey<br># products: 38",
         "type": "scattergeo",
         "uid": "250e2572-27d0-4ac6-9e7d-07d916b41558"
        },
        {
         "hoverinfo": "text",
         "lat": [
          -20,
          46
         ],
         "line": {
          "color": "red",
          "width": 0.692545505663595
         },
         "lon": [
          47,
          2
         ],
         "mode": "lines+markers",
         "name": "",
         "opacity": 0.23383131538177257,
         "text": "Madagascar<br># products: 3",
         "type": "scattergeo",
         "uid": "30232f9f-8419-495d-bc9d-3f6039394617"
        },
        {
         "hoverinfo": "text",
         "lat": [
          52,
          46
         ],
         "line": {
          "color": "red",
          "width": 2.487753424319638
         },
         "lon": [
          20,
          2
         ],
         "mode": "lines+markers",
         "name": "",
         "opacity": 0.6534574145492975,
         "text": "Poland<br># products: 94",
         "type": "scattergeo",
         "uid": "07edcd96-48e3-4d4f-bcd5-7c498ad67383"
        },
        {
         "hoverinfo": "text",
         "lat": [
          39,
          46
         ],
         "line": {
          "color": "red",
          "width": 2.4533792065802023
         },
         "lon": [
          22,
          2
         ],
         "mode": "lines+markers",
         "name": "",
         "opacity": 0.6454225129916367,
         "text": "Greece<br># products: 88",
         "type": "scattergeo",
         "uid": "73a150a5-8a28-415f-a486-9351fadc9677"
        },
        {
         "hoverinfo": "text",
         "lat": [
          -17,
          46
         ],
         "line": {
          "color": "red",
          "width": 2.348798995717522
         },
         "lon": [
          -65,
          2
         ],
         "mode": "lines+markers",
         "name": "",
         "opacity": 0.6209771072654424,
         "text": "Bolivia<br># products: 72",
         "type": "scattergeo",
         "uid": "47dc2aa9-ff81-4b2e-a0ad-31d0a4c371eb"
        },
        {
         "hoverinfo": "text",
         "lat": [
          14.666667,
          46
         ],
         "line": {
          "color": "red",
          "width": 0.4812359947967775
         },
         "lon": [
          -61,
          2
         ],
         "mode": "lines+markers",
         "name": "",
         "opacity": 0.18443815883396575,
         "text": "Martinique<br># products: 2",
         "type": "scattergeo",
         "uid": "6b264b5c-703e-4521-abd0-1fce026683fc"
        },
        {
         "hoverinfo": "text",
         "lat": [
          60,
          46
         ],
         "line": {
          "color": "red",
          "width": 0.12
         },
         "lon": [
          100,
          2
         ],
         "mode": "lines+markers",
         "name": "",
         "opacity": 0.1,
         "text": "Russia<br># products: 1",
         "type": "scattergeo",
         "uid": "737b619d-a72e-40cb-b36d-d89c21cbef0f"
        },
        {
         "hoverinfo": "text",
         "lat": [
          8,
          46
         ],
         "line": {
          "color": "red",
          "width": 0.12
         },
         "lon": [
          1.16666666,
          2
         ],
         "mode": "lines+markers",
         "name": "",
         "opacity": 0.1,
         "text": "Togo<br># products: 1",
         "type": "scattergeo",
         "uid": "b324789e-5612-4f27-ba57-b7f8e2a2706c"
        },
        {
         "hoverinfo": "text",
         "lat": [
          13.83333333,
          46
         ],
         "line": {
          "color": "red",
          "width": 0.12
         },
         "lon": [
          -88.91666666,
          2
         ],
         "mode": "lines+markers",
         "name": "",
         "opacity": 0.1,
         "text": "El Salvador<br># products: 1",
         "type": "scattergeo",
         "uid": "eebe3f59-608c-42b5-bb36-2f1c6b46f50d"
        },
        {
         "hoverinfo": "text",
         "lat": [
          -5,
          46
         ],
         "line": {
          "color": "red",
          "width": 1.0537815004603723
         },
         "lon": [
          120,
          2
         ],
         "mode": "lines+markers",
         "name": "",
         "opacity": 0.31826947421573837,
         "text": "Indonesia<br># products: 6",
         "type": "scattergeo",
         "uid": "5d86b3d6-d313-472c-ba4c-e2cb40b3aed7"
        },
        {
         "hoverinfo": "text",
         "lat": [
          -22,
          46
         ],
         "line": {
          "color": "red",
          "width": 0.12
         },
         "lon": [
          17,
          2
         ],
         "mode": "lines+markers",
         "name": "",
         "opacity": 0.1,
         "text": "Namibia<br># products: 1",
         "type": "scattergeo",
         "uid": "2e7a2554-3072-4b36-8aee-c5c0e912d8aa"
        },
        {
         "hoverinfo": "text",
         "lat": [
          56,
          46
         ],
         "line": {
          "color": "red",
          "width": 1.942216727853465
         },
         "lon": [
          10,
          2
         ],
         "mode": "lines+markers",
         "name": "",
         "opacity": 0.525939351871512,
         "text": "Denmark<br># products: 33",
         "type": "scattergeo",
         "uid": "f9324d52-0678-4847-a3a3-c4dfbaab6643"
        },
        {
         "hoverinfo": "text",
         "lat": [
          35,
          46
         ],
         "line": {
          "color": "red",
          "width": 0.4812359947967775
         },
         "lon": [
          38,
          2
         ],
         "mode": "lines+markers",
         "name": "",
         "opacity": 0.18443815883396575,
         "text": "Syria<br># products: 2",
         "type": "scattergeo",
         "uid": "a3610bc3-4020-4ba2-8e0c-a35525b2489b"
        },
        {
         "hoverinfo": "text",
         "lat": [
          36,
          46
         ],
         "line": {
          "color": "red",
          "width": 1.8179680175649815
         },
         "lon": [
          138,
          2
         ],
         "mode": "lines+markers",
         "name": "",
         "opacity": 0.4968964755098788,
         "text": "Japan<br># products: 26",
         "type": "scattergeo",
         "uid": "df038464-4e77-4711-a951-b9f71bedc45e"
        },
        {
         "hoverinfo": "text",
         "lat": [
          62,
          46
         ],
         "line": {
          "color": "red",
          "width": 1.5965387056539286
         },
         "lon": [
          10,
          2
         ],
         "mode": "lines+markers",
         "name": "",
         "opacity": 0.4451378366174291,
         "text": "Norway<br># products: 17",
         "type": "scattergeo",
         "uid": "204686ed-e9aa-4bb8-9109-ba831bf7a467"
        },
        {
         "hoverinfo": "text",
         "lat": [
          -2,
          46
         ],
         "line": {
          "color": "red",
          "width": 0.9587640052032226
         },
         "lon": [
          -77.5,
          2
         ],
         "mode": "lines+markers",
         "name": "",
         "opacity": 0.2960593332771467,
         "text": "Ecuador<br># products: 5",
         "type": "scattergeo",
         "uid": "06abdf01-32b8-4eb4-9120-7887715dceef"
        },
        {
         "hoverinfo": "text",
         "lat": [
          27,
          46
         ],
         "line": {
          "color": "red",
          "width": 0.12
         },
         "lon": [
          30,
          2
         ],
         "mode": "lines+markers",
         "name": "",
         "opacity": 0.1,
         "text": "Egypt<br># products: 1",
         "type": "scattergeo",
         "uid": "fbabc732-1fc1-4418-8eb7-4b7b9ff64db3"
        },
        {
         "hoverinfo": "text",
         "lat": [
          8,
          46
         ],
         "line": {
          "color": "red",
          "width": 0.9587640052032226
         },
         "lon": [
          -2,
          2
         ],
         "mode": "lines+markers",
         "name": "",
         "opacity": 0.2960593332771467,
         "text": "Ghana<br># products: 5",
         "type": "scattergeo",
         "uid": "2211196a-fba0-4613-83c9-bab353e58e95"
        },
        {
         "hoverinfo": "text",
         "lat": [
          53,
          46
         ],
         "line": {
          "color": "red",
          "width": 1.776253490053927
         },
         "lon": [
          -8,
          2
         ],
         "mode": "lines+markers",
         "name": "",
         "opacity": 0.4871457918836699,
         "text": "Ireland<br># products: 24",
         "type": "scattergeo",
         "uid": "a0f0a100-793e-484b-a294-97d4a8b4a618"
        },
        {
         "hoverinfo": "text",
         "lat": [
          21.5,
          46
         ],
         "line": {
          "color": "red",
          "width": 0.4812359947967775
         },
         "lon": [
          -80,
          2
         ],
         "mode": "lines+markers",
         "name": "",
         "opacity": 0.18443815883396575,
         "text": "Cuba<br># products: 2",
         "type": "scattergeo",
         "uid": "42453fb9-c34a-435a-82de-9e46055f3113"
        },
        {
         "hoverinfo": "text",
         "lat": [
          49.75,
          46
         ],
         "line": {
          "color": "red",
          "width": 1.776253490053927
         },
         "lon": [
          6.16666666,
          2
         ],
         "mode": "lines+markers",
         "name": "",
         "opacity": 0.4871457918836699,
         "text": "Luxembourg<br># products: 24",
         "type": "scattergeo",
         "uid": "d6165209-90c3-4489-9686-5b83a2bedc68"
        },
        {
         "hoverinfo": "text",
         "lat": [
          49.75,
          46
         ],
         "line": {
          "color": "red",
          "width": 1.41501749525715
         },
         "lon": [
          15.5,
          2
         ],
         "mode": "lines+markers",
         "name": "",
         "opacity": 0.40270763304970414,
         "text": "Czechia<br># products: 12",
         "type": "scattergeo",
         "uid": "e8dfd21b-0134-4833-8ef1-d1833c1bd7ae"
        },
        {
         "hoverinfo": "text",
         "lat": [
          6,
          46
         ],
         "line": {
          "color": "red",
          "width": 0.4812359947967775
         },
         "lon": [
          12,
          2
         ],
         "mode": "lines+markers",
         "name": "",
         "opacity": 0.18443815883396575,
         "text": "Cameroon<br># products: 2",
         "type": "scattergeo",
         "uid": "19a4beb1-1fc3-4946-a4f1-c484b73d0bd0"
        },
        {
         "hoverinfo": "text",
         "lat": [
          62,
          46
         ],
         "line": {
          "color": "red",
          "width": 2.0678991484774807
         },
         "lon": [
          15,
          2
         ],
         "mode": "lines+markers",
         "name": "",
         "opacity": 0.5553173550277539,
         "text": "Sweden<br># products: 42",
         "type": "scattergeo",
         "uid": "1f1327dc-ce1b-449d-b869-7f8abd538232"
        },
        {
         "hoverinfo": "text",
         "lat": [
          2.5,
          46
         ],
         "line": {
          "color": "red",
          "width": 1.5649439791871098
         },
         "lon": [
          112.5,
          2
         ],
         "mode": "lines+markers",
         "name": "",
         "opacity": 0.43775263533586306,
         "text": "Malaysia<br># products: 16",
         "type": "scattergeo",
         "uid": "b2dbb06a-4a28-4c53-bce3-0d0c14d41976"
        },
        {
         "hoverinfo": "text",
         "lat": [
          -29,
          46
         ],
         "line": {
          "color": "red",
          "width": 1.41501749525715
         },
         "lon": [
          24,
          2
         ],
         "mode": "lines+markers",
         "name": "",
         "opacity": 0.40270763304970414,
         "text": "South Africa<br># products: 12",
         "type": "scattergeo",
         "uid": "7553083f-5a53-4951-a68b-a7402509b43f"
        },
        {
         "hoverinfo": "text",
         "lat": [
          4,
          46
         ],
         "line": {
          "color": "red",
          "width": 0.4812359947967775
         },
         "lon": [
          -53,
          2
         ],
         "mode": "lines+markers",
         "name": "",
         "opacity": 0.18443815883396575,
         "text": "French Guiana<br># products: 2",
         "type": "scattergeo",
         "uid": "f9266431-c651-4402-bcf8-e867b81b4b92"
        },
        {
         "hoverinfo": "text",
         "lat": [
          18.5,
          46
         ],
         "line": {
          "color": "red",
          "width": 0.12
         },
         "lon": [
          -63.41666666,
          2
         ],
         "mode": "lines+markers",
         "name": "",
         "opacity": 0.1,
         "text": "Saint Barthélemy<br># products: 1",
         "type": "scattergeo",
         "uid": "228f11dc-1871-4118-8a2b-7368856ff8cd"
        },
        {
         "hoverinfo": "text",
         "lat": [
          -49.25,
          46
         ],
         "line": {
          "color": "red",
          "width": 1.2037079843903322
         },
         "lon": [
          69.167,
          2
         ],
         "mode": "lines+markers",
         "name": "",
         "opacity": 0.3533144765018973,
         "text": "French Southern and Antarctic Lands<br># products: 8",
         "type": "scattergeo",
         "uid": "bcb8db56-565e-4124-b7d9-171f0b703e6d"
        },
        {
         "hoverinfo": "text",
         "lat": [
          -4.58333333,
          46
         ],
         "line": {
          "color": "red",
          "width": 1.2037079843903322
         },
         "lon": [
          55.66666666,
          2
         ],
         "mode": "lines+markers",
         "name": "",
         "opacity": 0.3533144765018973,
         "text": "Seychelles<br># products: 8",
         "type": "scattergeo",
         "uid": "da33f460-ff64-48af-a78f-b9e1243a35a2"
        },
        {
         "hoverinfo": "text",
         "lat": [
          39.5,
          46
         ],
         "line": {
          "color": "red",
          "width": 2.6106563536710374
         },
         "lon": [
          -8,
          2
         ],
         "mode": "lines+markers",
         "name": "",
         "opacity": 0.6821857174294448,
         "text": "Portugal<br># products: 119",
         "type": "scattergeo",
         "uid": "fbe4251d-55e4-42e8-b9b9-822e2c081b73"
        },
        {
         "hoverinfo": "text",
         "lat": [
          44,
          46
         ],
         "line": {
          "color": "red",
          "width": 0.692545505663595
         },
         "lon": [
          21,
          2
         ],
         "mode": "lines+markers",
         "name": "",
         "opacity": 0.23383131538177257,
         "text": "Serbia<br># products: 3",
         "type": "scattergeo",
         "uid": "30b60c15-5018-49a4-8b8f-01dc47a2c996"
        },
        {
         "hoverinfo": "text",
         "lat": [
          48.66666666,
          46
         ],
         "line": {
          "color": "red",
          "width": 0.4812359947967775
         },
         "lon": [
          19.5,
          2
         ],
         "mode": "lines+markers",
         "name": "",
         "opacity": 0.18443815883396575,
         "text": "Slovakia<br># products: 2",
         "type": "scattergeo",
         "uid": "37cd3577-cf3f-4a5b-8d05-fa5a475bc39f"
        },
        {
         "hoverinfo": "text",
         "lat": [
          33.83333333,
          46
         ],
         "line": {
          "color": "red",
          "width": 0.692545505663595
         },
         "lon": [
          35.83333333,
          2
         ],
         "mode": "lines+markers",
         "name": "",
         "opacity": 0.23383131538177257,
         "text": "Lebanon<br># products: 3",
         "type": "scattergeo",
         "uid": "af74e104-e915-4677-b31b-b1a2c3172a37"
        },
        {
         "hoverinfo": "text",
         "lat": [
          -27,
          46
         ],
         "line": {
          "color": "red",
          "width": 0.8424719895935548
         },
         "lon": [
          133,
          2
         ],
         "mode": "lines+markers",
         "name": "",
         "opacity": 0.2688763176679315,
         "text": "Australia<br># products: 4",
         "type": "scattergeo",
         "uid": "78dd0a1a-277a-478e-a1ca-e7aa6c9b23ab"
        },
        {
         "hoverinfo": "text",
         "lat": [
          19,
          46
         ],
         "line": {
          "color": "red",
          "width": 0.12
         },
         "lon": [
          -70.66666666,
          2
         ],
         "mode": "lines+markers",
         "name": "",
         "opacity": 0.1,
         "text": "Dominican Republic<br># products: 1",
         "type": "scattergeo",
         "uid": "a6c4af5d-3b5c-474a-9058-8a9e46798743"
        },
        {
         "hoverinfo": "text",
         "lat": [
          35,
          46
         ],
         "line": {
          "color": "red",
          "width": 2.5973495870723022
         },
         "lon": [
          105,
          2
         ],
         "mode": "lines+markers",
         "name": "",
         "opacity": 0.6790752885469006,
         "text": "China<br># products: 116",
         "type": "scattergeo",
         "uid": "707ac55d-eb70-4f02-b6a4-e09a88c7449f"
        },
        {
         "hoverinfo": "text",
         "lat": [
          22,
          46
         ],
         "line": {
          "color": "red",
          "width": 0.12
         },
         "lon": [
          98,
          2
         ],
         "mode": "lines+markers",
         "name": "",
         "opacity": 0.1,
         "text": "Myanmar<br># products: 1",
         "type": "scattergeo",
         "uid": "d5938e7f-aa3d-4319-accb-23002eb20bac"
        },
        {
         "hoverinfo": "text",
         "lat": [
          24,
          46
         ],
         "line": {
          "color": "red",
          "width": 0.692545505663595
         },
         "lon": [
          90,
          2
         ],
         "mode": "lines+markers",
         "name": "",
         "opacity": 0.23383131538177257,
         "text": "Bangladesh<br># products: 3",
         "type": "scattergeo",
         "uid": "5721dca0-635a-4857-99b3-2193e3315eaf"
        },
        {
         "hoverinfo": "text",
         "lat": [
          47,
          46
         ],
         "line": {
          "color": "red",
          "width": 2.8680415336350213
         },
         "lon": [
          8,
          2
         ],
         "mode": "lines+markers",
         "name": "",
         "opacity": 0.7423489653348322,
         "text": "Switzerland<br># products: 195",
         "type": "scattergeo",
         "uid": "0e1238a2-cdd7-4ccb-b332-0ce6196bcc27"
        },
        {
         "hoverinfo": "text",
         "lat": [
          8,
          46
         ],
         "line": {
          "color": "red",
          "width": 1.2650910113271898
         },
         "lon": [
          -5,
          2
         ],
         "mode": "lines+markers",
         "name": "",
         "opacity": 0.3676626307635451,
         "text": "Ivory Coast<br># products: 9",
         "type": "scattergeo",
         "uid": "1f7f5920-4e25-4fbf-bef1-f89e5ab94489"
        },
        {
         "hoverinfo": "text",
         "lat": [
          49.46666666,
          46
         ],
         "line": {
          "color": "red",
          "width": 0.692545505663595
         },
         "lon": [
          -2.58333333,
          2
         ],
         "mode": "lines+markers",
         "name": "",
         "opacity": 0.23383131538177257,
         "text": "Guernsey<br># products: 3",
         "type": "scattergeo",
         "uid": "c8be2b00-c1d2-4795-8a44-1d53351b6175"
        },
        {
         "hoverinfo": "text",
         "lat": [
          -26.5,
          46
         ],
         "line": {
          "color": "red",
          "width": 0.12
         },
         "lon": [
          31.5,
          2
         ],
         "mode": "lines+markers",
         "name": "",
         "opacity": 0.1,
         "text": "Eswatini<br># products: 1",
         "type": "scattergeo",
         "uid": "513b90d7-0b96-44f6-97e1-bc2ac1e67c9a"
        },
        {
         "hoverinfo": "text",
         "lat": [
          56,
          46
         ],
         "line": {
          "color": "red",
          "width": 1.4953536428138856
         },
         "lon": [
          24,
          2
         ],
         "mode": "lines+markers",
         "name": "",
         "opacity": 0.4214860396459813,
         "text": "Lithuania<br># products: 14",
         "type": "scattergeo",
         "uid": "bc4b1a90-711e-4598-8492-a0107e3149ef"
        },
        {
         "hoverinfo": "text",
         "lat": [
          18.25,
          46
         ],
         "line": {
          "color": "red",
          "width": 0.12
         },
         "lon": [
          -66.5,
          2
         ],
         "mode": "lines+markers",
         "name": "",
         "opacity": 0.1,
         "text": "Puerto Rico<br># products: 1",
         "type": "scattergeo",
         "uid": "ebe508b0-4c19-474f-a333-14cb6245cb7e"
        },
        {
         "hoverinfo": "text",
         "lat": [
          4,
          46
         ],
         "line": {
          "color": "red",
          "width": 0.12
         },
         "lon": [
          -72,
          2
         ],
         "mode": "lines+markers",
         "name": "",
         "opacity": 0.1,
         "text": "Colombia<br># products: 1",
         "type": "scattergeo",
         "uid": "b9dadca1-ff62-43e1-8958-5bc8a34494e1"
        },
        {
         "hoverinfo": "text",
         "lat": [
          1.36666666,
          46
         ],
         "line": {
          "color": "red",
          "width": 1.0537815004603723
         },
         "lon": [
          103.8,
          2
         ],
         "mode": "lines+markers",
         "name": "",
         "opacity": 0.31826947421573837,
         "text": "Singapore<br># products: 6",
         "type": "scattergeo",
         "uid": "7f9684dc-a128-483c-8583-40b4e786f417"
        },
        {
         "hoverinfo": "text",
         "lat": [
          25,
          46
         ],
         "line": {
          "color": "red",
          "width": 0.12
         },
         "lon": [
          45,
          2
         ],
         "mode": "lines+markers",
         "name": "",
         "opacity": 0.1,
         "text": "Saudi Arabia<br># products: 1",
         "type": "scattergeo",
         "uid": "cbb2ac16-9d30-4f0d-8654-1126156705cc"
        },
        {
         "hoverinfo": "text",
         "lat": [
          22.267,
          46
         ],
         "line": {
          "color": "red",
          "width": 0.12
         },
         "lon": [
          114.188,
          2
         ],
         "mode": "lines+markers",
         "name": "",
         "opacity": 0.1,
         "text": "Hong Kong<br># products: 1",
         "type": "scattergeo",
         "uid": "9aea32b6-df74-4813-b113-b7ebf7d21c17"
        },
        {
         "hoverinfo": "text",
         "lat": [
          12.18,
          46
         ],
         "line": {
          "color": "red",
          "width": 0.12
         },
         "lon": [
          -68.25,
          2
         ],
         "mode": "lines+markers",
         "name": "",
         "opacity": 0.1,
         "text": "Caribbean Netherlands<br># products: 1",
         "type": "scattergeo",
         "uid": "55e9fa2d-4c00-429d-a6dd-7d501c0fb3ec"
        }
       ],
       "layout": {
        "geo": {
         "coastlinecolor": "rgb(255, 255, 255)",
         "countrycolor": "rgb(255, 255, 255)",
         "landcolor": "rgb(229, 229, 229)",
         "projection": {
          "type": "equirectangular"
         },
         "showcoastlines": true,
         "showframe": false,
         "showland": true
        },
        "margin": {
         "b": 0,
         "l": 50,
         "pad": 4,
         "r": 100,
         "t": 0
        },
        "showlegend": false,
        "xaxis": {
         "fixedrange": true
        },
        "yaxis": {
         "fixedrange": true
        }
       }
      },
      "text/html": [
       "<div id=\"5f84714f-9009-4b73-9990-79aaea820c40\" style=\"height: 525px; width: 100%;\" class=\"plotly-graph-div\"></div><script type=\"text/javascript\">require([\"plotly\"], function(Plotly) { window.PLOTLYENV=window.PLOTLYENV || {};window.PLOTLYENV.BASE_URL=\"https://plot.ly\";Plotly.newPlot(\"5f84714f-9009-4b73-9990-79aaea820c40\", [{\"autocolorscale\": false, \"colorbar\": {\"len\": 0.7, \"tick0\": 1, \"tickmode\": \"array\", \"ticktext\": [\"1\", \"10<sup>1/2</sup>\", \"10<sup>1</sup>\", \"10<sup>3/2</sup>\", \"10<sup>2</sup>\", \"10<sup>5/2</sup>\", \"10<sup>3</sup>\", \"10<sup>3/2</sup>\", \"10<sup>4</sup>\"], \"tickvals\": [0, 0.5, 1, 1.5, 2, 2.5, 3, 3.5, 4], \"title\": \"Counts\"}, \"colorscale\": \"Viridis\", \"hoverinfo\": \"text\", \"locations\": [\"GBR\", \"THA\", \"FIN\", \"MDA\", \"ESP\", \"LVA\", \"DZA\", \"PER\", \"PHL\", \"ARM\", \"BGR\", \"KOR\", \"HUN\", \"BRA\", \"GLP\", \"ISR\", \"ISL\", \"FRA\", \"CYM\", \"CAN\", \"ROU\", \"UMI\", \"BEL\", \"NZL\", \"NCL\", \"MYT\", \"NER\", \"LAO\", \"NLD\", \"LKA\", \"AUT\", \"PNG\", \"MUS\", \"TUN\", \"REU\", \"LIE\", \"CHL\", \"ARG\", \"CYP\", \"SEN\", \"VNM\", \"CRI\", \"USA\", \"URY\", \"EST\", \"MEX\", \"DEU\", \"KEN\", \"MAR\", \"IRN\", \"WSM\", \"SVN\", \"VEN\", \"ITA\", \"HRV\", \"TWN\", \"TUR\", \"MDG\", \"POL\", \"GRC\", \"BOL\", \"MTQ\", \"RUS\", \"TGO\", \"SLV\", \"IDN\", \"NAM\", \"DNK\", \"SYR\", \"JPN\", \"NOR\", \"ECU\", \"EGY\", \"GHA\", \"IRL\", \"CUB\", \"LUX\", \"CZE\", \"CMR\", \"SWE\", \"MYS\", \"ZAF\", \"GUF\", \"BLM\", \"ATF\", \"SYC\", \"PRT\", \"SRB\", \"SVK\", \"LBN\", \"AUS\", \"DOM\", \"CHN\", \"MMR\", \"BGD\", \"CHE\", \"CIV\", \"GGY\", \"SWZ\", \"LTU\", \"PRI\", \"COL\", \"SGP\", \"SAU\", \"HKG\", \"BES\"], \"reversescale\": true, \"text\": [\"United Kingdom 2283\", \"Thailand 127\", \"Finland 2\", \"Moldova 1\", \"Spain 613\", \"Latvia 2\", \"Algeria 9\", \"Peru 15\", \"Philippines 4\", \"Armenia 4\", \"Bulgaria 5\", \"South Korea 16\", \"Hungary 16\", \"Brazil 4\", \"Guadeloupe 3\", \"Israel 26\", \"Iceland 22\", \"France 18972\", \"Cayman Islands 2\", \"Canada 26\", \"Romania 6\", \"United States Minor Outlying Islands 28\", \"Belgium 792\", \"New Zealand 2\", \"New Caledonia 3\", \"Mayotte 5\", \"Niger 25\", \"Laos 2\", \"Netherlands 335\", \"Sri Lanka 17\", \"Austria 26\", \"Papua New Guinea 2\", \"Mauritius 7\", \"Tunisia 20\", \"R\\u00e9union 7\", \"Liechtenstein 3\", \"Chile 3\", \"Argentina 2\", \"Cyprus 2\", \"Senegal 1\", \"Vietnam 50\", \"Costa Rica 3\", \"United States 80\", \"Uruguay 1\", \"Estonia 2\", \"Mexico 10\", \"Germany 750\", \"Kenya 9\", \"Morocco 89\", \"Iran 40\", \"Samoa 15\", \"Slovenia 3\", \"Venezuela 9\", \"Italy 1386\", \"Croatia 4\", \"Taiwan 28\", \"Turkey 38\", \"Madagascar 3\", \"Poland 94\", \"Greece 88\", \"Bolivia 72\", \"Martinique 2\", \"Russia 1\", \"Togo 1\", \"El Salvador 1\", \"Indonesia 6\", \"Namibia 1\", \"Denmark 33\", \"Syria 2\", \"Japan 26\", \"Norway 17\", \"Ecuador 5\", \"Egypt 1\", \"Ghana 5\", \"Ireland 24\", \"Cuba 2\", \"Luxembourg 24\", \"Czechia 12\", \"Cameroon 2\", \"Sweden 42\", \"Malaysia 16\", \"South Africa 12\", \"French Guiana 2\", \"Saint Barth\\u00e9lemy 1\", \"French Southern and Antarctic Lands 8\", \"Seychelles 8\", \"Portugal 119\", \"Serbia 3\", \"Slovakia 2\", \"Lebanon 3\", \"Australia 4\", \"Dominican Republic 1\", \"China 116\", \"Myanmar 1\", \"Bangladesh 3\", \"Switzerland 195\", \"Ivory Coast 9\", \"Guernsey 3\", \"Eswatini 1\", \"Lithuania 14\", \"Puerto Rico 1\", \"Colombia 1\", \"Singapore 6\", \"Saudi Arabia 1\", \"Hong Kong 1\", \"Caribbean Netherlands 1\"], \"z\": [3.3585059114902354, 2.103803720955957, 0.3010299956639812, 0.0, 2.787460474518415, 0.3010299956639812, 0.9542425094393249, 1.1760912590556813, 0.6020599913279624, 0.6020599913279624, 0.6989700043360189, 1.2041199826559248, 1.2041199826559248, 0.6020599913279624, 0.47712125471966244, 1.414973347970818, 1.3424226808222062, 4.278113115979834, 0.3010299956639812, 1.414973347970818, 0.7781512503836436, 1.4471580313422192, 2.8987251815894934, 0.3010299956639812, 0.47712125471966244, 0.6989700043360189, 1.3979400086720377, 0.3010299956639812, 2.525044807036845, 1.2304489213782739, 1.414973347970818, 0.3010299956639812, 0.8450980400142568, 1.3010299956639813, 0.8450980400142568, 0.47712125471966244, 0.47712125471966244, 0.3010299956639812, 0.3010299956639812, 0.0, 1.6989700043360187, 0.47712125471966244, 1.9030899869919435, 0.0, 0.3010299956639812, 1.0, 2.8750612633917, 0.9542425094393249, 1.9493900066449128, 1.6020599913279625, 1.1760912590556813, 0.47712125471966244, 0.9542425094393249, 3.141763230275788, 0.6020599913279624, 1.4471580313422192, 1.5797835966168101, 0.47712125471966244, 1.9731278535996986, 1.9444826721501687, 1.8573324964312685, 0.3010299956639812, 0.0, 0.0, 0.0, 0.7781512503836436, 0.0, 1.5185139398778875, 0.3010299956639812, 1.414973347970818, 1.2304489213782739, 0.6989700043360189, 0.0, 0.6989700043360189, 1.380211241711606, 0.3010299956639812, 1.380211241711606, 1.0791812460476249, 0.3010299956639812, 1.6232492903979006, 1.2041199826559248, 1.0791812460476249, 0.3010299956639812, 0.0, 0.9030899869919435, 0.9030899869919435, 2.075546961392531, 0.47712125471966244, 0.3010299956639812, 0.47712125471966244, 0.6020599913279624, 0.0, 2.0644579892269186, 0.0, 0.47712125471966244, 2.290034611362518, 0.9542425094393249, 0.47712125471966244, 0.0, 1.146128035678238, 0.0, 0.0, 0.7781512503836436, 0.0, 0.0, 0.0], \"type\": \"choropleth\", \"uid\": \"1e47c0ff-6b5d-44d3-b468-6c17cd74d33e\"}, {\"hoverinfo\": \"text\", \"lat\": [54, 46], \"line\": {\"color\": \"red\", \"width\": 4.150207093788282}, \"lon\": [-2, 2], \"mode\": \"lines+markers\", \"name\": \"\", \"opacity\": 1, \"text\": \"United Kingdom<br># products: 2283\", \"type\": \"scattergeo\", \"uid\": \"a8a70e4a-bdb8-4789-a36c-9b2037a42613\"}, {\"hoverinfo\": \"text\", \"lat\": [15, 46], \"line\": {\"color\": \"red\", \"width\": 2.6445644651471483}, \"lon\": [100, 2], \"mode\": \"lines+markers\", \"name\": \"\", \"opacity\": 0.6901116676221724, \"text\": \"Thailand<br># products: 127\", \"type\": \"scattergeo\", \"uid\": \"e2a36d08-a17c-4842-996b-102e72d910a6\"}, {\"hoverinfo\": \"text\", \"lat\": [64, 46], \"line\": {\"color\": \"red\", \"width\": 0.4812359947967775}, \"lon\": [26, 2], \"mode\": \"lines+markers\", \"name\": \"\", \"opacity\": 0.18443815883396575, \"text\": \"Finland<br># products: 2\", \"type\": \"scattergeo\", \"uid\": \"020edece-135d-4560-bbc9-1716719e4e65\"}, {\"hoverinfo\": \"text\", \"lat\": [47, 46], \"line\": {\"color\": \"red\", \"width\": 0.12}, \"lon\": [29, 2], \"mode\": \"lines+markers\", \"name\": \"\", \"opacity\": 0.1, \"text\": \"Moldova<br># products: 1\", \"type\": \"scattergeo\", \"uid\": \"803e0bad-3dd3-4cc9-be48-7254c8d92aec\"}, {\"hoverinfo\": \"text\", \"lat\": [40, 46], \"line\": {\"color\": \"red\", \"width\": 3.464952569422098}, \"lon\": [-4, 2], \"mode\": \"lines+markers\", \"name\": \"\", \"opacity\": 0.8818756724612666, \"text\": \"Spain<br># products: 613\", \"type\": \"scattergeo\", \"uid\": \"bbdc78aa-a3a7-4475-a8d7-ef32205a0211\"}, {\"hoverinfo\": \"text\", \"lat\": [57, 46], \"line\": {\"color\": \"red\", \"width\": 0.4812359947967775}, \"lon\": [25, 2], \"mode\": \"lines+markers\", \"name\": \"\", \"opacity\": 0.18443815883396575, \"text\": \"Latvia<br># products: 2\", \"type\": \"scattergeo\", \"uid\": \"8a0225ec-2a5e-46f7-9ef2-2111f5835e4f\"}, {\"hoverinfo\": \"text\", \"lat\": [28, 46], \"line\": {\"color\": \"red\", \"width\": 1.2650910113271898}, \"lon\": [3, 2], \"mode\": \"lines+markers\", \"name\": \"\", \"opacity\": 0.3676626307635451, \"text\": \"Algeria<br># products: 9\", \"type\": \"scattergeo\", \"uid\": \"511da5a9-c967-4df2-8bf1-c1ba9baece45\"}, {\"hoverinfo\": \"text\", \"lat\": [-10, 46], \"line\": {\"color\": \"red\", \"width\": 1.5313095108668178}, \"lon\": [-76, 2], \"mode\": \"lines+markers\", \"name\": \"\", \"opacity\": 0.42989064865891924, \"text\": \"Peru<br># products: 15\", \"type\": \"scattergeo\", \"uid\": \"6d32ceae-f8b8-4223-815e-7451053c5138\"}, {\"hoverinfo\": \"text\", \"lat\": [13, 46], \"line\": {\"color\": \"red\", \"width\": 0.8424719895935548}, \"lon\": [122, 2], \"mode\": \"lines+markers\", \"name\": \"\", \"opacity\": 0.2688763176679315, \"text\": \"Philippines<br># products: 4\", \"type\": \"scattergeo\", \"uid\": \"a65372de-b79c-4b31-b43b-65b8ed07bd30\"}, {\"hoverinfo\": \"text\", \"lat\": [40, 46], \"line\": {\"color\": \"red\", \"width\": 0.8424719895935548}, \"lon\": [45, 2], \"mode\": \"lines+markers\", \"name\": \"\", \"opacity\": 0.2688763176679315, \"text\": \"Armenia<br># products: 4\", \"type\": \"scattergeo\", \"uid\": \"2e139f22-7c02-4b70-9ef0-0ab0d54ada18\"}, {\"hoverinfo\": \"text\", \"lat\": [43, 46], \"line\": {\"color\": \"red\", \"width\": 0.9587640052032226}, \"lon\": [25, 2], \"mode\": \"lines+markers\", \"name\": \"\", \"opacity\": 0.2960593332771467, \"text\": \"Bulgaria<br># products: 5\", \"type\": \"scattergeo\", \"uid\": \"59a4919b-e18f-47af-8c69-f6271c59e663\"}, {\"hoverinfo\": \"text\", \"lat\": [37, 46], \"line\": {\"color\": \"red\", \"width\": 1.5649439791871098}, \"lon\": [127.5, 2], \"mode\": \"lines+markers\", \"name\": \"\", \"opacity\": 0.43775263533586306, \"text\": \"South Korea<br># products: 16\", \"type\": \"scattergeo\", \"uid\": \"e714f889-0aa7-4724-a1ad-f13780be8411\"}, {\"hoverinfo\": \"text\", \"lat\": [47, 46], \"line\": {\"color\": \"red\", \"width\": 1.5649439791871098}, \"lon\": [20, 2], \"mode\": \"lines+markers\", \"name\": \"\", \"opacity\": 0.43775263533586306, \"text\": \"Hungary<br># products: 16\", \"type\": \"scattergeo\", \"uid\": \"43b7142e-7cd4-43ce-987b-939b08928dbe\"}, {\"hoverinfo\": \"text\", \"lat\": [-10, 46], \"line\": {\"color\": \"red\", \"width\": 0.8424719895935548}, \"lon\": [-55, 2], \"mode\": \"lines+markers\", \"name\": \"\", \"opacity\": 0.2688763176679315, \"text\": \"Brazil<br># products: 4\", \"type\": \"scattergeo\", \"uid\": \"4c877037-8ad6-4898-b2ff-73df86c7ce01\"}, {\"hoverinfo\": \"text\", \"lat\": [16.25, 46], \"line\": {\"color\": \"red\", \"width\": 0.692545505663595}, \"lon\": [-61.583333, 2], \"mode\": \"lines+markers\", \"name\": \"\", \"opacity\": 0.23383131538177257, \"text\": \"Guadeloupe<br># products: 3\", \"type\": \"scattergeo\", \"uid\": \"07fc9828-5603-47d2-b08d-5c1c076219f4\"}, {\"hoverinfo\": \"text\", \"lat\": [31.47, 46], \"line\": {\"color\": \"red\", \"width\": 1.8179680175649815}, \"lon\": [35.13, 2], \"mode\": \"lines+markers\", \"name\": \"\", \"opacity\": 0.4968964755098788, \"text\": \"Israel<br># products: 26\", \"type\": \"scattergeo\", \"uid\": \"c72830ff-e29d-4a24-8f10-5a58980df0c5\"}, {\"hoverinfo\": \"text\", \"lat\": [65, 46], \"line\": {\"color\": \"red\", \"width\": 1.7309072169866475}, \"lon\": [-18, 2], \"mode\": \"lines+markers\", \"name\": \"\", \"opacity\": 0.4765461953237051, \"text\": \"Iceland<br># products: 22\", \"type\": \"scattergeo\", \"uid\": \"37c987b0-413f-4b79-8705-ba3670cdf4de\"}, {\"hoverinfo\": \"text\", \"lat\": [46, 46], \"line\": {\"color\": \"red\", \"width\": 5.2537357391758}, \"lon\": [2, 2], \"mode\": \"lines+markers\", \"name\": \"\", \"opacity\": 1, \"text\": \"France<br># products: 18972\", \"type\": \"scattergeo\", \"uid\": \"ae2b9b0d-0637-48e3-8b9e-cbd7fa1b2231\"}, {\"hoverinfo\": \"text\", \"lat\": [19.5, 46], \"line\": {\"color\": \"red\", \"width\": 0.4812359947967775}, \"lon\": [-80.5, 2], \"mode\": \"lines+markers\", \"name\": \"\", \"opacity\": 0.18443815883396575, \"text\": \"Cayman Islands<br># products: 2\", \"type\": \"scattergeo\", \"uid\": \"d1fd8682-5754-4cae-a0e7-d97a667e93ed\"}, {\"hoverinfo\": \"text\", \"lat\": [60, 46], \"line\": {\"color\": \"red\", \"width\": 1.8179680175649815}, \"lon\": [-95, 2], \"mode\": \"lines+markers\", \"name\": \"\", \"opacity\": 0.4968964755098788, \"text\": \"Canada<br># products: 26\", \"type\": \"scattergeo\", \"uid\": \"3fc492ea-8e2b-4421-a298-c5ae6ff8488f\"}, {\"hoverinfo\": \"text\", \"lat\": [46, 46], \"line\": {\"color\": \"red\", \"width\": 1.0537815004603723}, \"lon\": [25, 2], \"mode\": \"lines+markers\", \"name\": \"\", \"opacity\": 0.31826947421573837, \"text\": \"Romania<br># products: 6\", \"type\": \"scattergeo\", \"uid\": \"24f94235-e55b-47c4-b979-ac68ec81cfb8\"}, {\"hoverinfo\": \"text\", \"lat\": [19.3, 46], \"line\": {\"color\": \"red\", \"width\": 1.856589637610663}, \"lon\": [166.633333, 2], \"mode\": \"lines+markers\", \"name\": \"\", \"opacity\": 0.5059241984799471, \"text\": \"United States Minor Outlying Islands<br># products: 28\", \"type\": \"scattergeo\", \"uid\": \"8824d379-e191-46ad-8481-7bac9b1effeb\"}, {\"hoverinfo\": \"text\", \"lat\": [50.83333333, 46], \"line\": {\"color\": \"red\", \"width\": 3.598470217907392}, \"lon\": [4, 2], \"mode\": \"lines+markers\", \"name\": \"\", \"opacity\": 0.9130851437551817, \"text\": \"Belgium<br># products: 792\", \"type\": \"scattergeo\", \"uid\": \"26e005d8-52e4-40ac-96eb-f9e896b1ea8e\"}, {\"hoverinfo\": \"text\", \"lat\": [-41, 46], \"line\": {\"color\": \"red\", \"width\": 0.4812359947967775}, \"lon\": [174, 2], \"mode\": \"lines+markers\", \"name\": \"\", \"opacity\": 0.18443815883396575, \"text\": \"New Zealand<br># products: 2\", \"type\": \"scattergeo\", \"uid\": \"163ed5bf-4e60-429d-9441-63f7dd5d8071\"}, {\"hoverinfo\": \"text\", \"lat\": [-21.5, 46], \"line\": {\"color\": \"red\", \"width\": 0.692545505663595}, \"lon\": [165.5, 2], \"mode\": \"lines+markers\", \"name\": \"\", \"opacity\": 0.23383131538177257, \"text\": \"New Caledonia<br># products: 3\", \"type\": \"scattergeo\", \"uid\": \"857375fd-7fa9-4eea-97ac-c4c3ac20ac44\"}, {\"hoverinfo\": \"text\", \"lat\": [-12.83333333, 46], \"line\": {\"color\": \"red\", \"width\": 0.9587640052032226}, \"lon\": [45.16666666, 2], \"mode\": \"lines+markers\", \"name\": \"\", \"opacity\": 0.2960593332771467, \"text\": \"Mayotte<br># products: 5\", \"type\": \"scattergeo\", \"uid\": \"19a923a0-aa30-4582-afb2-fa95eeab3b3d\"}, {\"hoverinfo\": \"text\", \"lat\": [16, 46], \"line\": {\"color\": \"red\", \"width\": 1.7975280104064453}, \"lon\": [8, 2], \"mode\": \"lines+markers\", \"name\": \"\", \"opacity\": 0.49211866655429337, \"text\": \"Niger<br># products: 25\", \"type\": \"scattergeo\", \"uid\": \"ccd3e49a-9eeb-46da-ab0c-56e5ed69ba4c\"}, {\"hoverinfo\": \"text\", \"lat\": [18, 46], \"line\": {\"color\": \"red\", \"width\": 0.4812359947967775}, \"lon\": [105, 2], \"mode\": \"lines+markers\", \"name\": \"\", \"opacity\": 0.18443815883396575, \"text\": \"Laos<br># products: 2\", \"type\": \"scattergeo\", \"uid\": \"65043bd8-a9bc-4e09-8cae-d4e2232c5691\"}, {\"hoverinfo\": \"text\", \"lat\": [52.5, 46], \"line\": {\"color\": \"red\", \"width\": 3.1500537684442143}, \"lon\": [5.75, 2], \"mode\": \"lines+markers\", \"name\": \"\", \"opacity\": 0.8082687358420227, \"text\": \"Netherlands<br># products: 335\", \"type\": \"scattergeo\", \"uid\": \"d6c2eaac-c645-417d-a12a-9a0bfd7a56ee\"}, {\"hoverinfo\": \"text\", \"lat\": [7, 46], \"line\": {\"color\": \"red\", \"width\": 1.5965387056539286}, \"lon\": [81, 2], \"mode\": \"lines+markers\", \"name\": \"\", \"opacity\": 0.4451378366174291, \"text\": \"Sri Lanka<br># products: 17\", \"type\": \"scattergeo\", \"uid\": \"6a94a501-b284-42b2-8844-1a15147661ae\"}, {\"hoverinfo\": \"text\", \"lat\": [47.33333333, 46], \"line\": {\"color\": \"red\", \"width\": 1.8179680175649815}, \"lon\": [13.33333333, 2], \"mode\": \"lines+markers\", \"name\": \"\", \"opacity\": 0.4968964755098788, \"text\": \"Austria<br># products: 26\", \"type\": \"scattergeo\", \"uid\": \"441312d1-23e5-48a6-8c5d-9d3337d1ce0d\"}, {\"hoverinfo\": \"text\", \"lat\": [-6, 46], \"line\": {\"color\": \"red\", \"width\": 0.4812359947967775}, \"lon\": [147, 2], \"mode\": \"lines+markers\", \"name\": \"\", \"opacity\": 0.18443815883396575, \"text\": \"Papua New Guinea<br># products: 2\", \"type\": \"scattergeo\", \"uid\": \"1fe77bb6-f9d9-4bdd-a6ff-410b621357d0\"}, {\"hoverinfo\": \"text\", \"lat\": [-20.28333333, 46], \"line\": {\"color\": \"red\", \"width\": 1.134117648017108}, \"lon\": [57.55, 2], \"mode\": \"lines+markers\", \"name\": \"\", \"opacity\": 0.33704788081201553, \"text\": \"Mauritius<br># products: 7\", \"type\": \"scattergeo\", \"uid\": \"80f1884e-af21-4246-927f-d0ddcd6b9f90\"}, {\"hoverinfo\": \"text\", \"lat\": [34, 46], \"line\": {\"color\": \"red\", \"width\": 1.6812359947967777}, \"lon\": [9, 2], \"mode\": \"lines+markers\", \"name\": \"\", \"opacity\": 0.46493565094507816, \"text\": \"Tunisia<br># products: 20\", \"type\": \"scattergeo\", \"uid\": \"20210cd9-8d7d-4583-9585-81e493dc2279\"}, {\"hoverinfo\": \"text\", \"lat\": [-21.15, 46], \"line\": {\"color\": \"red\", \"width\": 1.134117648017108}, \"lon\": [55.5, 2], \"mode\": \"lines+markers\", \"name\": \"\", \"opacity\": 0.33704788081201553, \"text\": \"R\\u00e9union<br># products: 7\", \"type\": \"scattergeo\", \"uid\": \"121dfb02-5a57-465e-9534-e547374a1f7a\"}, {\"hoverinfo\": \"text\", \"lat\": [47.26666666, 46], \"line\": {\"color\": \"red\", \"width\": 0.692545505663595}, \"lon\": [9.53333333, 2], \"mode\": \"lines+markers\", \"name\": \"\", \"opacity\": 0.23383131538177257, \"text\": \"Liechtenstein<br># products: 3\", \"type\": \"scattergeo\", \"uid\": \"8484a681-6054-47fc-80e6-20b610c5f258\"}, {\"hoverinfo\": \"text\", \"lat\": [-30, 46], \"line\": {\"color\": \"red\", \"width\": 0.692545505663595}, \"lon\": [-71, 2], \"mode\": \"lines+markers\", \"name\": \"\", \"opacity\": 0.23383131538177257, \"text\": \"Chile<br># products: 3\", \"type\": \"scattergeo\", \"uid\": \"ac3cda70-cefb-4881-8697-009a681e00c6\"}, {\"hoverinfo\": \"text\", \"lat\": [-34, 46], \"line\": {\"color\": \"red\", \"width\": 0.4812359947967775}, \"lon\": [-64, 2], \"mode\": \"lines+markers\", \"name\": \"\", \"opacity\": 0.18443815883396575, \"text\": \"Argentina<br># products: 2\", \"type\": \"scattergeo\", \"uid\": \"3a06556c-57ab-406f-938e-d45122a23f97\"}, {\"hoverinfo\": \"text\", \"lat\": [35, 46], \"line\": {\"color\": \"red\", \"width\": 0.4812359947967775}, \"lon\": [33, 2], \"mode\": \"lines+markers\", \"name\": \"\", \"opacity\": 0.18443815883396575, \"text\": \"Cyprus<br># products: 2\", \"type\": \"scattergeo\", \"uid\": \"ab2562ad-5a59-42ba-98ff-c08e2dccfb2f\"}, {\"hoverinfo\": \"text\", \"lat\": [14, 46], \"line\": {\"color\": \"red\", \"width\": 0.12}, \"lon\": [-14, 2], \"mode\": \"lines+markers\", \"name\": \"\", \"opacity\": 0.1, \"text\": \"Senegal<br># products: 1\", \"type\": \"scattergeo\", \"uid\": \"edb6d1cb-01ca-4685-a7f9-dc2eef8c3554\"}, {\"hoverinfo\": \"text\", \"lat\": [16.16666666, 46], \"line\": {\"color\": \"red\", \"width\": 2.1587640052032224}, \"lon\": [107.83333333, 2], \"mode\": \"lines+markers\", \"name\": \"\", \"opacity\": 0.576556825388259, \"text\": \"Vietnam<br># products: 50\", \"type\": \"scattergeo\", \"uid\": \"825e8fb3-43c6-43d0-afcb-dd8a65ac3dac\"}, {\"hoverinfo\": \"text\", \"lat\": [10, 46], \"line\": {\"color\": \"red\", \"width\": 0.692545505663595}, \"lon\": [-84, 2], \"mode\": \"lines+markers\", \"name\": \"\", \"opacity\": 0.23383131538177257, \"text\": \"Costa Rica<br># products: 3\", \"type\": \"scattergeo\", \"uid\": \"51385a19-4f11-4200-85c3-28b3ec160d36\"}, {\"hoverinfo\": \"text\", \"lat\": [38, 46], \"line\": {\"color\": \"red\", \"width\": 2.403707984390332}, \"lon\": [-97, 2], \"mode\": \"lines+markers\", \"name\": \"\", \"opacity\": 0.6338119686130097, \"text\": \"United States<br># products: 80\", \"type\": \"scattergeo\", \"uid\": \"4854c402-46d2-4125-9f49-80879c793159\"}, {\"hoverinfo\": \"text\", \"lat\": [-33, 46], \"line\": {\"color\": \"red\", \"width\": 0.12}, \"lon\": [-56, 2], \"mode\": \"lines+markers\", \"name\": \"\", \"opacity\": 0.1, \"text\": \"Uruguay<br># products: 1\", \"type\": \"scattergeo\", \"uid\": \"2e7ceb54-c72e-403b-9727-c9f416f362a0\"}, {\"hoverinfo\": \"text\", \"lat\": [59, 46], \"line\": {\"color\": \"red\", \"width\": 0.4812359947967775}, \"lon\": [26, 2], \"mode\": \"lines+markers\", \"name\": \"\", \"opacity\": 0.18443815883396575, \"text\": \"Estonia<br># products: 2\", \"type\": \"scattergeo\", \"uid\": \"e3675473-1128-4f7b-9aff-c7a44874741d\"}, {\"hoverinfo\": \"text\", \"lat\": [23, 46], \"line\": {\"color\": \"red\", \"width\": 1.32}, \"lon\": [-102, 2], \"mode\": \"lines+markers\", \"name\": \"\", \"opacity\": 0.3804974921111124, \"text\": \"Mexico<br># products: 10\", \"type\": \"scattergeo\", \"uid\": \"e0885e32-ce06-4ae6-af10-07bddf60692a\"}, {\"hoverinfo\": \"text\", \"lat\": [51, 46], \"line\": {\"color\": \"red\", \"width\": 3.5700735160700403}, \"lon\": [9, 2], \"mode\": \"lines+markers\", \"name\": \"\", \"opacity\": 0.9064474740471782, \"text\": \"Germany<br># products: 750\", \"type\": \"scattergeo\", \"uid\": \"0ca3e706-042a-4d91-9d87-cf21d8dbde39\"}, {\"hoverinfo\": \"text\", \"lat\": [1, 46], \"line\": {\"color\": \"red\", \"width\": 1.2650910113271898}, \"lon\": [38, 2], \"mode\": \"lines+markers\", \"name\": \"\", \"opacity\": 0.3676626307635451, \"text\": \"Kenya<br># products: 9\", \"type\": \"scattergeo\", \"uid\": \"b73fef96-10a0-46bf-9564-8d8e86bf5007\"}, {\"hoverinfo\": \"text\", \"lat\": [32, 46], \"line\": {\"color\": \"red\", \"width\": 2.4592680079738956}, \"lon\": [-5, 2], \"mode\": \"lines+markers\", \"name\": \"\", \"opacity\": 0.6467990080103627, \"text\": \"Morocco<br># products: 89\", \"type\": \"scattergeo\", \"uid\": \"be1a4fa1-3dcc-4fe3-8312-d620bf56033a\"}, {\"hoverinfo\": \"text\", \"lat\": [32, 46], \"line\": {\"color\": \"red\", \"width\": 2.042471989593555}, \"lon\": [53, 2], \"mode\": \"lines+markers\", \"name\": \"\", \"opacity\": 0.5493738097790439, \"text\": \"Iran<br># products: 40\", \"type\": \"scattergeo\", \"uid\": \"0591b351-ee75-4535-a8d7-407ff545fdc2\"}, {\"hoverinfo\": \"text\", \"lat\": [-13.58333333, 46], \"line\": {\"color\": \"red\", \"width\": 1.5313095108668178}, \"lon\": [-172.33333333, 2], \"mode\": \"lines+markers\", \"name\": \"\", \"opacity\": 0.42989064865891924, \"text\": \"Samoa<br># products: 15\", \"type\": \"scattergeo\", \"uid\": \"43b19fb3-f8ff-4512-9446-e318554fabbd\"}, {\"hoverinfo\": \"text\", \"lat\": [46.11666666, 46], \"line\": {\"color\": \"red\", \"width\": 0.692545505663595}, \"lon\": [14.81666666, 2], \"mode\": \"lines+markers\", \"name\": \"\", \"opacity\": 0.23383131538177257, \"text\": \"Slovenia<br># products: 3\", \"type\": \"scattergeo\", \"uid\": \"4ad3464c-ddae-4c14-89d9-67502a9d1319\"}, {\"hoverinfo\": \"text\", \"lat\": [8, 46], \"line\": {\"color\": \"red\", \"width\": 1.2650910113271898}, \"lon\": [-66, 2], \"mode\": \"lines+markers\", \"name\": \"\", \"opacity\": 0.3676626307635451, \"text\": \"Venezuela<br># products: 9\", \"type\": \"scattergeo\", \"uid\": \"8451b0ba-df7c-4649-a9ad-d966ea0732a7\"}, {\"hoverinfo\": \"text\", \"lat\": [42.83333333, 46], \"line\": {\"color\": \"red\", \"width\": 3.8901158763309454}, \"lon\": [12.83333333, 2], \"mode\": \"lines+markers\", \"name\": \"\", \"opacity\": 0.9812567068992658, \"text\": \"Italy<br># products: 1386\", \"type\": \"scattergeo\", \"uid\": \"3c6add2b-b672-42d0-bd70-ad8008533576\"}, {\"hoverinfo\": \"text\", \"lat\": [45.16666666, 46], \"line\": {\"color\": \"red\", \"width\": 0.8424719895935548}, \"lon\": [15.5, 2], \"mode\": \"lines+markers\", \"name\": \"\", \"opacity\": 0.2688763176679315, \"text\": \"Croatia<br># products: 4\", \"type\": \"scattergeo\", \"uid\": \"fa46f898-4b94-4a58-bdb5-8d288a5685ca\"}, {\"hoverinfo\": \"text\", \"lat\": [23.5, 46], \"line\": {\"color\": \"red\", \"width\": 1.856589637610663}, \"lon\": [121, 2], \"mode\": \"lines+markers\", \"name\": \"\", \"opacity\": 0.5059241984799471, \"text\": \"Taiwan<br># products: 28\", \"type\": \"scattergeo\", \"uid\": \"618379b0-5e4b-45ed-a5eb-b135a4f6a5c9\"}, {\"hoverinfo\": \"text\", \"lat\": [39, 46], \"line\": {\"color\": \"red\", \"width\": 2.0157403159401723}, \"lon\": [35, 2], \"mode\": \"lines+markers\", \"name\": \"\", \"opacity\": 0.5431253369292884, \"text\": \"Turkey<br># products: 38\", \"type\": \"scattergeo\", \"uid\": \"aaa2ff81-d513-40c8-a546-ab5dd1cf02c5\"}, {\"hoverinfo\": \"text\", \"lat\": [-20, 46], \"line\": {\"color\": \"red\", \"width\": 0.692545505663595}, \"lon\": [47, 2], \"mode\": \"lines+markers\", \"name\": \"\", \"opacity\": 0.23383131538177257, \"text\": \"Madagascar<br># products: 3\", \"type\": \"scattergeo\", \"uid\": \"ea192ca9-5933-4eb5-bf26-ded2dfbc7208\"}, {\"hoverinfo\": \"text\", \"lat\": [52, 46], \"line\": {\"color\": \"red\", \"width\": 2.487753424319638}, \"lon\": [20, 2], \"mode\": \"lines+markers\", \"name\": \"\", \"opacity\": 0.6534574145492975, \"text\": \"Poland<br># products: 94\", \"type\": \"scattergeo\", \"uid\": \"09372522-c9f0-483e-b9cd-e11ebb3e02c3\"}, {\"hoverinfo\": \"text\", \"lat\": [39, 46], \"line\": {\"color\": \"red\", \"width\": 2.4533792065802023}, \"lon\": [22, 2], \"mode\": \"lines+markers\", \"name\": \"\", \"opacity\": 0.6454225129916367, \"text\": \"Greece<br># products: 88\", \"type\": \"scattergeo\", \"uid\": \"b2760e6e-196c-488d-857c-432b4d05b318\"}, {\"hoverinfo\": \"text\", \"lat\": [-17, 46], \"line\": {\"color\": \"red\", \"width\": 2.348798995717522}, \"lon\": [-65, 2], \"mode\": \"lines+markers\", \"name\": \"\", \"opacity\": 0.6209771072654424, \"text\": \"Bolivia<br># products: 72\", \"type\": \"scattergeo\", \"uid\": \"de55c05f-c2a2-4a9b-9c90-2629b534611a\"}, {\"hoverinfo\": \"text\", \"lat\": [14.666667, 46], \"line\": {\"color\": \"red\", \"width\": 0.4812359947967775}, \"lon\": [-61, 2], \"mode\": \"lines+markers\", \"name\": \"\", \"opacity\": 0.18443815883396575, \"text\": \"Martinique<br># products: 2\", \"type\": \"scattergeo\", \"uid\": \"8108efdd-699a-47e0-b8ed-a75d47dc8677\"}, {\"hoverinfo\": \"text\", \"lat\": [60, 46], \"line\": {\"color\": \"red\", \"width\": 0.12}, \"lon\": [100, 2], \"mode\": \"lines+markers\", \"name\": \"\", \"opacity\": 0.1, \"text\": \"Russia<br># products: 1\", \"type\": \"scattergeo\", \"uid\": \"ca5e2f0d-87c5-44ca-8516-0eb2daf0f2d7\"}, {\"hoverinfo\": \"text\", \"lat\": [8, 46], \"line\": {\"color\": \"red\", \"width\": 0.12}, \"lon\": [1.16666666, 2], \"mode\": \"lines+markers\", \"name\": \"\", \"opacity\": 0.1, \"text\": \"Togo<br># products: 1\", \"type\": \"scattergeo\", \"uid\": \"96a6e147-adee-48fa-9cf8-0dfc41cf1f25\"}, {\"hoverinfo\": \"text\", \"lat\": [13.83333333, 46], \"line\": {\"color\": \"red\", \"width\": 0.12}, \"lon\": [-88.91666666, 2], \"mode\": \"lines+markers\", \"name\": \"\", \"opacity\": 0.1, \"text\": \"El Salvador<br># products: 1\", \"type\": \"scattergeo\", \"uid\": \"1d1c7da5-4590-4242-b493-e872813624d7\"}, {\"hoverinfo\": \"text\", \"lat\": [-5, 46], \"line\": {\"color\": \"red\", \"width\": 1.0537815004603723}, \"lon\": [120, 2], \"mode\": \"lines+markers\", \"name\": \"\", \"opacity\": 0.31826947421573837, \"text\": \"Indonesia<br># products: 6\", \"type\": \"scattergeo\", \"uid\": \"cbed1170-740a-430d-b467-fb16bec611b9\"}, {\"hoverinfo\": \"text\", \"lat\": [-22, 46], \"line\": {\"color\": \"red\", \"width\": 0.12}, \"lon\": [17, 2], \"mode\": \"lines+markers\", \"name\": \"\", \"opacity\": 0.1, \"text\": \"Namibia<br># products: 1\", \"type\": \"scattergeo\", \"uid\": \"d26ab81a-6e9e-4679-a5ca-ab36147168a5\"}, {\"hoverinfo\": \"text\", \"lat\": [56, 46], \"line\": {\"color\": \"red\", \"width\": 1.942216727853465}, \"lon\": [10, 2], \"mode\": \"lines+markers\", \"name\": \"\", \"opacity\": 0.525939351871512, \"text\": \"Denmark<br># products: 33\", \"type\": \"scattergeo\", \"uid\": \"99fdeaa5-740c-4e66-9695-41f55345b0b3\"}, {\"hoverinfo\": \"text\", \"lat\": [35, 46], \"line\": {\"color\": \"red\", \"width\": 0.4812359947967775}, \"lon\": [38, 2], \"mode\": \"lines+markers\", \"name\": \"\", \"opacity\": 0.18443815883396575, \"text\": \"Syria<br># products: 2\", \"type\": \"scattergeo\", \"uid\": \"382be26f-949e-49e5-8b3b-c239a5564dce\"}, {\"hoverinfo\": \"text\", \"lat\": [36, 46], \"line\": {\"color\": \"red\", \"width\": 1.8179680175649815}, \"lon\": [138, 2], \"mode\": \"lines+markers\", \"name\": \"\", \"opacity\": 0.4968964755098788, \"text\": \"Japan<br># products: 26\", \"type\": \"scattergeo\", \"uid\": \"e1cd6380-9129-4b05-81c7-4f8372f1c1a9\"}, {\"hoverinfo\": \"text\", \"lat\": [62, 46], \"line\": {\"color\": \"red\", \"width\": 1.5965387056539286}, \"lon\": [10, 2], \"mode\": \"lines+markers\", \"name\": \"\", \"opacity\": 0.4451378366174291, \"text\": \"Norway<br># products: 17\", \"type\": \"scattergeo\", \"uid\": \"25da0570-ed36-4f07-9692-a9eea6a382bf\"}, {\"hoverinfo\": \"text\", \"lat\": [-2, 46], \"line\": {\"color\": \"red\", \"width\": 0.9587640052032226}, \"lon\": [-77.5, 2], \"mode\": \"lines+markers\", \"name\": \"\", \"opacity\": 0.2960593332771467, \"text\": \"Ecuador<br># products: 5\", \"type\": \"scattergeo\", \"uid\": \"6d2d0580-297a-4a89-a422-97484f0506d9\"}, {\"hoverinfo\": \"text\", \"lat\": [27, 46], \"line\": {\"color\": \"red\", \"width\": 0.12}, \"lon\": [30, 2], \"mode\": \"lines+markers\", \"name\": \"\", \"opacity\": 0.1, \"text\": \"Egypt<br># products: 1\", \"type\": \"scattergeo\", \"uid\": \"2e8240e7-2e60-4e74-a028-ea0551825e88\"}, {\"hoverinfo\": \"text\", \"lat\": [8, 46], \"line\": {\"color\": \"red\", \"width\": 0.9587640052032226}, \"lon\": [-2, 2], \"mode\": \"lines+markers\", \"name\": \"\", \"opacity\": 0.2960593332771467, \"text\": \"Ghana<br># products: 5\", \"type\": \"scattergeo\", \"uid\": \"54863adc-8ee1-49b2-95eb-9b973aa4343a\"}, {\"hoverinfo\": \"text\", \"lat\": [53, 46], \"line\": {\"color\": \"red\", \"width\": 1.776253490053927}, \"lon\": [-8, 2], \"mode\": \"lines+markers\", \"name\": \"\", \"opacity\": 0.4871457918836699, \"text\": \"Ireland<br># products: 24\", \"type\": \"scattergeo\", \"uid\": \"0f010e16-bc13-43e8-b547-4b0bd53e16c5\"}, {\"hoverinfo\": \"text\", \"lat\": [21.5, 46], \"line\": {\"color\": \"red\", \"width\": 0.4812359947967775}, \"lon\": [-80, 2], \"mode\": \"lines+markers\", \"name\": \"\", \"opacity\": 0.18443815883396575, \"text\": \"Cuba<br># products: 2\", \"type\": \"scattergeo\", \"uid\": \"a87cc0e5-e096-46bb-ac8c-1455ed5bd514\"}, {\"hoverinfo\": \"text\", \"lat\": [49.75, 46], \"line\": {\"color\": \"red\", \"width\": 1.776253490053927}, \"lon\": [6.16666666, 2], \"mode\": \"lines+markers\", \"name\": \"\", \"opacity\": 0.4871457918836699, \"text\": \"Luxembourg<br># products: 24\", \"type\": \"scattergeo\", \"uid\": \"316a6e0c-d0b0-426a-86ba-b2a1a0092694\"}, {\"hoverinfo\": \"text\", \"lat\": [49.75, 46], \"line\": {\"color\": \"red\", \"width\": 1.41501749525715}, \"lon\": [15.5, 2], \"mode\": \"lines+markers\", \"name\": \"\", \"opacity\": 0.40270763304970414, \"text\": \"Czechia<br># products: 12\", \"type\": \"scattergeo\", \"uid\": \"8ba32813-ac8f-424c-afd3-03b9d1f3e6b3\"}, {\"hoverinfo\": \"text\", \"lat\": [6, 46], \"line\": {\"color\": \"red\", \"width\": 0.4812359947967775}, \"lon\": [12, 2], \"mode\": \"lines+markers\", \"name\": \"\", \"opacity\": 0.18443815883396575, \"text\": \"Cameroon<br># products: 2\", \"type\": \"scattergeo\", \"uid\": \"da2bb24d-2240-4ae6-b9e9-2b9ccd6e83a0\"}, {\"hoverinfo\": \"text\", \"lat\": [62, 46], \"line\": {\"color\": \"red\", \"width\": 2.0678991484774807}, \"lon\": [15, 2], \"mode\": \"lines+markers\", \"name\": \"\", \"opacity\": 0.5553173550277539, \"text\": \"Sweden<br># products: 42\", \"type\": \"scattergeo\", \"uid\": \"203f490f-31ac-4f9f-9ace-b94bae03fee4\"}, {\"hoverinfo\": \"text\", \"lat\": [2.5, 46], \"line\": {\"color\": \"red\", \"width\": 1.5649439791871098}, \"lon\": [112.5, 2], \"mode\": \"lines+markers\", \"name\": \"\", \"opacity\": 0.43775263533586306, \"text\": \"Malaysia<br># products: 16\", \"type\": \"scattergeo\", \"uid\": \"5d0ddbb1-4fa4-4602-8ba1-09cb83abccd7\"}, {\"hoverinfo\": \"text\", \"lat\": [-29, 46], \"line\": {\"color\": \"red\", \"width\": 1.41501749525715}, \"lon\": [24, 2], \"mode\": \"lines+markers\", \"name\": \"\", \"opacity\": 0.40270763304970414, \"text\": \"South Africa<br># products: 12\", \"type\": \"scattergeo\", \"uid\": \"bcc6a1ee-654e-4db0-a56f-eaacb879be8c\"}, {\"hoverinfo\": \"text\", \"lat\": [4, 46], \"line\": {\"color\": \"red\", \"width\": 0.4812359947967775}, \"lon\": [-53, 2], \"mode\": \"lines+markers\", \"name\": \"\", \"opacity\": 0.18443815883396575, \"text\": \"French Guiana<br># products: 2\", \"type\": \"scattergeo\", \"uid\": \"d4c81972-d2bd-44e7-9d9b-5a08ca27f2c7\"}, {\"hoverinfo\": \"text\", \"lat\": [18.5, 46], \"line\": {\"color\": \"red\", \"width\": 0.12}, \"lon\": [-63.41666666, 2], \"mode\": \"lines+markers\", \"name\": \"\", \"opacity\": 0.1, \"text\": \"Saint Barth\\u00e9lemy<br># products: 1\", \"type\": \"scattergeo\", \"uid\": \"ae74bc66-a065-4b8b-8e91-89320849a023\"}, {\"hoverinfo\": \"text\", \"lat\": [-49.25, 46], \"line\": {\"color\": \"red\", \"width\": 1.2037079843903322}, \"lon\": [69.167, 2], \"mode\": \"lines+markers\", \"name\": \"\", \"opacity\": 0.3533144765018973, \"text\": \"French Southern and Antarctic Lands<br># products: 8\", \"type\": \"scattergeo\", \"uid\": \"1133cb87-d989-4fdb-93b6-3d40ebca9c44\"}, {\"hoverinfo\": \"text\", \"lat\": [-4.58333333, 46], \"line\": {\"color\": \"red\", \"width\": 1.2037079843903322}, \"lon\": [55.66666666, 2], \"mode\": \"lines+markers\", \"name\": \"\", \"opacity\": 0.3533144765018973, \"text\": \"Seychelles<br># products: 8\", \"type\": \"scattergeo\", \"uid\": \"9ffe9090-433a-4cda-a977-36bec2fb1164\"}, {\"hoverinfo\": \"text\", \"lat\": [39.5, 46], \"line\": {\"color\": \"red\", \"width\": 2.6106563536710374}, \"lon\": [-8, 2], \"mode\": \"lines+markers\", \"name\": \"\", \"opacity\": 0.6821857174294448, \"text\": \"Portugal<br># products: 119\", \"type\": \"scattergeo\", \"uid\": \"13378100-ce49-4b39-a37a-0f9b5d581e2f\"}, {\"hoverinfo\": \"text\", \"lat\": [44, 46], \"line\": {\"color\": \"red\", \"width\": 0.692545505663595}, \"lon\": [21, 2], \"mode\": \"lines+markers\", \"name\": \"\", \"opacity\": 0.23383131538177257, \"text\": \"Serbia<br># products: 3\", \"type\": \"scattergeo\", \"uid\": \"20986adb-366a-42bc-9519-451ca9d8d095\"}, {\"hoverinfo\": \"text\", \"lat\": [48.66666666, 46], \"line\": {\"color\": \"red\", \"width\": 0.4812359947967775}, \"lon\": [19.5, 2], \"mode\": \"lines+markers\", \"name\": \"\", \"opacity\": 0.18443815883396575, \"text\": \"Slovakia<br># products: 2\", \"type\": \"scattergeo\", \"uid\": \"63355199-8974-42a1-8aab-971fefe77a05\"}, {\"hoverinfo\": \"text\", \"lat\": [33.83333333, 46], \"line\": {\"color\": \"red\", \"width\": 0.692545505663595}, \"lon\": [35.83333333, 2], \"mode\": \"lines+markers\", \"name\": \"\", \"opacity\": 0.23383131538177257, \"text\": \"Lebanon<br># products: 3\", \"type\": \"scattergeo\", \"uid\": \"79b6fcd5-7024-4e63-9a8f-c6826ca0c751\"}, {\"hoverinfo\": \"text\", \"lat\": [-27, 46], \"line\": {\"color\": \"red\", \"width\": 0.8424719895935548}, \"lon\": [133, 2], \"mode\": \"lines+markers\", \"name\": \"\", \"opacity\": 0.2688763176679315, \"text\": \"Australia<br># products: 4\", \"type\": \"scattergeo\", \"uid\": \"e8a68826-7210-4788-84cb-f7687163d5e7\"}, {\"hoverinfo\": \"text\", \"lat\": [19, 46], \"line\": {\"color\": \"red\", \"width\": 0.12}, \"lon\": [-70.66666666, 2], \"mode\": \"lines+markers\", \"name\": \"\", \"opacity\": 0.1, \"text\": \"Dominican Republic<br># products: 1\", \"type\": \"scattergeo\", \"uid\": \"9de9286b-81dc-48b3-b86c-caba4ae07dd9\"}, {\"hoverinfo\": \"text\", \"lat\": [35, 46], \"line\": {\"color\": \"red\", \"width\": 2.5973495870723022}, \"lon\": [105, 2], \"mode\": \"lines+markers\", \"name\": \"\", \"opacity\": 0.6790752885469006, \"text\": \"China<br># products: 116\", \"type\": \"scattergeo\", \"uid\": \"54609fe7-9b66-48fa-8c79-8d4676ba7173\"}, {\"hoverinfo\": \"text\", \"lat\": [22, 46], \"line\": {\"color\": \"red\", \"width\": 0.12}, \"lon\": [98, 2], \"mode\": \"lines+markers\", \"name\": \"\", \"opacity\": 0.1, \"text\": \"Myanmar<br># products: 1\", \"type\": \"scattergeo\", \"uid\": \"a54c185f-406e-4669-93f9-6ffee9a3406c\"}, {\"hoverinfo\": \"text\", \"lat\": [24, 46], \"line\": {\"color\": \"red\", \"width\": 0.692545505663595}, \"lon\": [90, 2], \"mode\": \"lines+markers\", \"name\": \"\", \"opacity\": 0.23383131538177257, \"text\": \"Bangladesh<br># products: 3\", \"type\": \"scattergeo\", \"uid\": \"b2862aee-f373-45d4-941c-d44eaf25f3ef\"}, {\"hoverinfo\": \"text\", \"lat\": [47, 46], \"line\": {\"color\": \"red\", \"width\": 2.8680415336350213}, \"lon\": [8, 2], \"mode\": \"lines+markers\", \"name\": \"\", \"opacity\": 0.7423489653348322, \"text\": \"Switzerland<br># products: 195\", \"type\": \"scattergeo\", \"uid\": \"58900cd7-3ec4-4268-bab8-084d7e982f66\"}, {\"hoverinfo\": \"text\", \"lat\": [8, 46], \"line\": {\"color\": \"red\", \"width\": 1.2650910113271898}, \"lon\": [-5, 2], \"mode\": \"lines+markers\", \"name\": \"\", \"opacity\": 0.3676626307635451, \"text\": \"Ivory Coast<br># products: 9\", \"type\": \"scattergeo\", \"uid\": \"496d70ed-70cf-4d74-976d-10ad75f6da98\"}, {\"hoverinfo\": \"text\", \"lat\": [49.46666666, 46], \"line\": {\"color\": \"red\", \"width\": 0.692545505663595}, \"lon\": [-2.58333333, 2], \"mode\": \"lines+markers\", \"name\": \"\", \"opacity\": 0.23383131538177257, \"text\": \"Guernsey<br># products: 3\", \"type\": \"scattergeo\", \"uid\": \"c76ca142-97d2-456f-9e55-ea8933ec9433\"}, {\"hoverinfo\": \"text\", \"lat\": [-26.5, 46], \"line\": {\"color\": \"red\", \"width\": 0.12}, \"lon\": [31.5, 2], \"mode\": \"lines+markers\", \"name\": \"\", \"opacity\": 0.1, \"text\": \"Eswatini<br># products: 1\", \"type\": \"scattergeo\", \"uid\": \"bff9a500-8faa-4506-87d6-5c43a386d63e\"}, {\"hoverinfo\": \"text\", \"lat\": [56, 46], \"line\": {\"color\": \"red\", \"width\": 1.4953536428138856}, \"lon\": [24, 2], \"mode\": \"lines+markers\", \"name\": \"\", \"opacity\": 0.4214860396459813, \"text\": \"Lithuania<br># products: 14\", \"type\": \"scattergeo\", \"uid\": \"38a810d0-969b-4322-9571-60a5a74add57\"}, {\"hoverinfo\": \"text\", \"lat\": [18.25, 46], \"line\": {\"color\": \"red\", \"width\": 0.12}, \"lon\": [-66.5, 2], \"mode\": \"lines+markers\", \"name\": \"\", \"opacity\": 0.1, \"text\": \"Puerto Rico<br># products: 1\", \"type\": \"scattergeo\", \"uid\": \"3535a72e-94c5-4b6d-8f16-7de98abbc903\"}, {\"hoverinfo\": \"text\", \"lat\": [4, 46], \"line\": {\"color\": \"red\", \"width\": 0.12}, \"lon\": [-72, 2], \"mode\": \"lines+markers\", \"name\": \"\", \"opacity\": 0.1, \"text\": \"Colombia<br># products: 1\", \"type\": \"scattergeo\", \"uid\": \"82b70290-0871-4059-a305-516acc2e610d\"}, {\"hoverinfo\": \"text\", \"lat\": [1.36666666, 46], \"line\": {\"color\": \"red\", \"width\": 1.0537815004603723}, \"lon\": [103.8, 2], \"mode\": \"lines+markers\", \"name\": \"\", \"opacity\": 0.31826947421573837, \"text\": \"Singapore<br># products: 6\", \"type\": \"scattergeo\", \"uid\": \"b254914d-622f-4410-929d-e07726b39b84\"}, {\"hoverinfo\": \"text\", \"lat\": [25, 46], \"line\": {\"color\": \"red\", \"width\": 0.12}, \"lon\": [45, 2], \"mode\": \"lines+markers\", \"name\": \"\", \"opacity\": 0.1, \"text\": \"Saudi Arabia<br># products: 1\", \"type\": \"scattergeo\", \"uid\": \"b3b89d7a-6793-4097-b8b1-d57a87b79808\"}, {\"hoverinfo\": \"text\", \"lat\": [22.267, 46], \"line\": {\"color\": \"red\", \"width\": 0.12}, \"lon\": [114.188, 2], \"mode\": \"lines+markers\", \"name\": \"\", \"opacity\": 0.1, \"text\": \"Hong Kong<br># products: 1\", \"type\": \"scattergeo\", \"uid\": \"d0546f37-2fb8-4e31-96c2-2e999b50d5f3\"}, {\"hoverinfo\": \"text\", \"lat\": [12.18, 46], \"line\": {\"color\": \"red\", \"width\": 0.12}, \"lon\": [-68.25, 2], \"mode\": \"lines+markers\", \"name\": \"\", \"opacity\": 0.1, \"text\": \"Caribbean Netherlands<br># products: 1\", \"type\": \"scattergeo\", \"uid\": \"0d71c4b3-806b-4758-964a-e2cfd0e63943\"}], {\"geo\": {\"coastlinecolor\": \"rgb(255, 255, 255)\", \"countrycolor\": \"rgb(255, 255, 255)\", \"landcolor\": \"rgb(229, 229, 229)\", \"projection\": {\"type\": \"equirectangular\"}, \"showcoastlines\": true, \"showframe\": false, \"showland\": true}, \"margin\": {\"b\": 0, \"l\": 50, \"pad\": 4, \"r\": 100, \"t\": 0}, \"showlegend\": false, \"xaxis\": {\"fixedrange\": true}, \"yaxis\": {\"fixedrange\": true}}, {\"showLink\": true, \"linkText\": \"Export to plot.ly\"})});</script><script type=\"text/javascript\">window.addEventListener(\"resize\", function(){window._Plotly.Plots.resize(document.getElementById(\"5f84714f-9009-4b73-9990-79aaea820c40\"));});</script>"
      ],
      "text/vnd.plotly.v1+html": [
       "<div id=\"5f84714f-9009-4b73-9990-79aaea820c40\" style=\"height: 525px; width: 100%;\" class=\"plotly-graph-div\"></div><script type=\"text/javascript\">require([\"plotly\"], function(Plotly) { window.PLOTLYENV=window.PLOTLYENV || {};window.PLOTLYENV.BASE_URL=\"https://plot.ly\";Plotly.newPlot(\"5f84714f-9009-4b73-9990-79aaea820c40\", [{\"autocolorscale\": false, \"colorbar\": {\"len\": 0.7, \"tick0\": 1, \"tickmode\": \"array\", \"ticktext\": [\"1\", \"10<sup>1/2</sup>\", \"10<sup>1</sup>\", \"10<sup>3/2</sup>\", \"10<sup>2</sup>\", \"10<sup>5/2</sup>\", \"10<sup>3</sup>\", \"10<sup>3/2</sup>\", \"10<sup>4</sup>\"], \"tickvals\": [0, 0.5, 1, 1.5, 2, 2.5, 3, 3.5, 4], \"title\": \"Counts\"}, \"colorscale\": \"Viridis\", \"hoverinfo\": \"text\", \"locations\": [\"GBR\", \"THA\", \"FIN\", \"MDA\", \"ESP\", \"LVA\", \"DZA\", \"PER\", \"PHL\", \"ARM\", \"BGR\", \"KOR\", \"HUN\", \"BRA\", \"GLP\", \"ISR\", \"ISL\", \"FRA\", \"CYM\", \"CAN\", \"ROU\", \"UMI\", \"BEL\", \"NZL\", \"NCL\", \"MYT\", \"NER\", \"LAO\", \"NLD\", \"LKA\", \"AUT\", \"PNG\", \"MUS\", \"TUN\", \"REU\", \"LIE\", \"CHL\", \"ARG\", \"CYP\", \"SEN\", \"VNM\", \"CRI\", \"USA\", \"URY\", \"EST\", \"MEX\", \"DEU\", \"KEN\", \"MAR\", \"IRN\", \"WSM\", \"SVN\", \"VEN\", \"ITA\", \"HRV\", \"TWN\", \"TUR\", \"MDG\", \"POL\", \"GRC\", \"BOL\", \"MTQ\", \"RUS\", \"TGO\", \"SLV\", \"IDN\", \"NAM\", \"DNK\", \"SYR\", \"JPN\", \"NOR\", \"ECU\", \"EGY\", \"GHA\", \"IRL\", \"CUB\", \"LUX\", \"CZE\", \"CMR\", \"SWE\", \"MYS\", \"ZAF\", \"GUF\", \"BLM\", \"ATF\", \"SYC\", \"PRT\", \"SRB\", \"SVK\", \"LBN\", \"AUS\", \"DOM\", \"CHN\", \"MMR\", \"BGD\", \"CHE\", \"CIV\", \"GGY\", \"SWZ\", \"LTU\", \"PRI\", \"COL\", \"SGP\", \"SAU\", \"HKG\", \"BES\"], \"reversescale\": true, \"text\": [\"United Kingdom 2283\", \"Thailand 127\", \"Finland 2\", \"Moldova 1\", \"Spain 613\", \"Latvia 2\", \"Algeria 9\", \"Peru 15\", \"Philippines 4\", \"Armenia 4\", \"Bulgaria 5\", \"South Korea 16\", \"Hungary 16\", \"Brazil 4\", \"Guadeloupe 3\", \"Israel 26\", \"Iceland 22\", \"France 18972\", \"Cayman Islands 2\", \"Canada 26\", \"Romania 6\", \"United States Minor Outlying Islands 28\", \"Belgium 792\", \"New Zealand 2\", \"New Caledonia 3\", \"Mayotte 5\", \"Niger 25\", \"Laos 2\", \"Netherlands 335\", \"Sri Lanka 17\", \"Austria 26\", \"Papua New Guinea 2\", \"Mauritius 7\", \"Tunisia 20\", \"R\\u00e9union 7\", \"Liechtenstein 3\", \"Chile 3\", \"Argentina 2\", \"Cyprus 2\", \"Senegal 1\", \"Vietnam 50\", \"Costa Rica 3\", \"United States 80\", \"Uruguay 1\", \"Estonia 2\", \"Mexico 10\", \"Germany 750\", \"Kenya 9\", \"Morocco 89\", \"Iran 40\", \"Samoa 15\", \"Slovenia 3\", \"Venezuela 9\", \"Italy 1386\", \"Croatia 4\", \"Taiwan 28\", \"Turkey 38\", \"Madagascar 3\", \"Poland 94\", \"Greece 88\", \"Bolivia 72\", \"Martinique 2\", \"Russia 1\", \"Togo 1\", \"El Salvador 1\", \"Indonesia 6\", \"Namibia 1\", \"Denmark 33\", \"Syria 2\", \"Japan 26\", \"Norway 17\", \"Ecuador 5\", \"Egypt 1\", \"Ghana 5\", \"Ireland 24\", \"Cuba 2\", \"Luxembourg 24\", \"Czechia 12\", \"Cameroon 2\", \"Sweden 42\", \"Malaysia 16\", \"South Africa 12\", \"French Guiana 2\", \"Saint Barth\\u00e9lemy 1\", \"French Southern and Antarctic Lands 8\", \"Seychelles 8\", \"Portugal 119\", \"Serbia 3\", \"Slovakia 2\", \"Lebanon 3\", \"Australia 4\", \"Dominican Republic 1\", \"China 116\", \"Myanmar 1\", \"Bangladesh 3\", \"Switzerland 195\", \"Ivory Coast 9\", \"Guernsey 3\", \"Eswatini 1\", \"Lithuania 14\", \"Puerto Rico 1\", \"Colombia 1\", \"Singapore 6\", \"Saudi Arabia 1\", \"Hong Kong 1\", \"Caribbean Netherlands 1\"], \"z\": [3.3585059114902354, 2.103803720955957, 0.3010299956639812, 0.0, 2.787460474518415, 0.3010299956639812, 0.9542425094393249, 1.1760912590556813, 0.6020599913279624, 0.6020599913279624, 0.6989700043360189, 1.2041199826559248, 1.2041199826559248, 0.6020599913279624, 0.47712125471966244, 1.414973347970818, 1.3424226808222062, 4.278113115979834, 0.3010299956639812, 1.414973347970818, 0.7781512503836436, 1.4471580313422192, 2.8987251815894934, 0.3010299956639812, 0.47712125471966244, 0.6989700043360189, 1.3979400086720377, 0.3010299956639812, 2.525044807036845, 1.2304489213782739, 1.414973347970818, 0.3010299956639812, 0.8450980400142568, 1.3010299956639813, 0.8450980400142568, 0.47712125471966244, 0.47712125471966244, 0.3010299956639812, 0.3010299956639812, 0.0, 1.6989700043360187, 0.47712125471966244, 1.9030899869919435, 0.0, 0.3010299956639812, 1.0, 2.8750612633917, 0.9542425094393249, 1.9493900066449128, 1.6020599913279625, 1.1760912590556813, 0.47712125471966244, 0.9542425094393249, 3.141763230275788, 0.6020599913279624, 1.4471580313422192, 1.5797835966168101, 0.47712125471966244, 1.9731278535996986, 1.9444826721501687, 1.8573324964312685, 0.3010299956639812, 0.0, 0.0, 0.0, 0.7781512503836436, 0.0, 1.5185139398778875, 0.3010299956639812, 1.414973347970818, 1.2304489213782739, 0.6989700043360189, 0.0, 0.6989700043360189, 1.380211241711606, 0.3010299956639812, 1.380211241711606, 1.0791812460476249, 0.3010299956639812, 1.6232492903979006, 1.2041199826559248, 1.0791812460476249, 0.3010299956639812, 0.0, 0.9030899869919435, 0.9030899869919435, 2.075546961392531, 0.47712125471966244, 0.3010299956639812, 0.47712125471966244, 0.6020599913279624, 0.0, 2.0644579892269186, 0.0, 0.47712125471966244, 2.290034611362518, 0.9542425094393249, 0.47712125471966244, 0.0, 1.146128035678238, 0.0, 0.0, 0.7781512503836436, 0.0, 0.0, 0.0], \"type\": \"choropleth\", \"uid\": \"1e47c0ff-6b5d-44d3-b468-6c17cd74d33e\"}, {\"hoverinfo\": \"text\", \"lat\": [54, 46], \"line\": {\"color\": \"red\", \"width\": 4.150207093788282}, \"lon\": [-2, 2], \"mode\": \"lines+markers\", \"name\": \"\", \"opacity\": 1, \"text\": \"United Kingdom<br># products: 2283\", \"type\": \"scattergeo\", \"uid\": \"a8a70e4a-bdb8-4789-a36c-9b2037a42613\"}, {\"hoverinfo\": \"text\", \"lat\": [15, 46], \"line\": {\"color\": \"red\", \"width\": 2.6445644651471483}, \"lon\": [100, 2], \"mode\": \"lines+markers\", \"name\": \"\", \"opacity\": 0.6901116676221724, \"text\": \"Thailand<br># products: 127\", \"type\": \"scattergeo\", \"uid\": \"e2a36d08-a17c-4842-996b-102e72d910a6\"}, {\"hoverinfo\": \"text\", \"lat\": [64, 46], \"line\": {\"color\": \"red\", \"width\": 0.4812359947967775}, \"lon\": [26, 2], \"mode\": \"lines+markers\", \"name\": \"\", \"opacity\": 0.18443815883396575, \"text\": \"Finland<br># products: 2\", \"type\": \"scattergeo\", \"uid\": \"020edece-135d-4560-bbc9-1716719e4e65\"}, {\"hoverinfo\": \"text\", \"lat\": [47, 46], \"line\": {\"color\": \"red\", \"width\": 0.12}, \"lon\": [29, 2], \"mode\": \"lines+markers\", \"name\": \"\", \"opacity\": 0.1, \"text\": \"Moldova<br># products: 1\", \"type\": \"scattergeo\", \"uid\": \"803e0bad-3dd3-4cc9-be48-7254c8d92aec\"}, {\"hoverinfo\": \"text\", \"lat\": [40, 46], \"line\": {\"color\": \"red\", \"width\": 3.464952569422098}, \"lon\": [-4, 2], \"mode\": \"lines+markers\", \"name\": \"\", \"opacity\": 0.8818756724612666, \"text\": \"Spain<br># products: 613\", \"type\": \"scattergeo\", \"uid\": \"bbdc78aa-a3a7-4475-a8d7-ef32205a0211\"}, {\"hoverinfo\": \"text\", \"lat\": [57, 46], \"line\": {\"color\": \"red\", \"width\": 0.4812359947967775}, \"lon\": [25, 2], \"mode\": \"lines+markers\", \"name\": \"\", \"opacity\": 0.18443815883396575, \"text\": \"Latvia<br># products: 2\", \"type\": \"scattergeo\", \"uid\": \"8a0225ec-2a5e-46f7-9ef2-2111f5835e4f\"}, {\"hoverinfo\": \"text\", \"lat\": [28, 46], \"line\": {\"color\": \"red\", \"width\": 1.2650910113271898}, \"lon\": [3, 2], \"mode\": \"lines+markers\", \"name\": \"\", \"opacity\": 0.3676626307635451, \"text\": \"Algeria<br># products: 9\", \"type\": \"scattergeo\", \"uid\": \"511da5a9-c967-4df2-8bf1-c1ba9baece45\"}, {\"hoverinfo\": \"text\", \"lat\": [-10, 46], \"line\": {\"color\": \"red\", \"width\": 1.5313095108668178}, \"lon\": [-76, 2], \"mode\": \"lines+markers\", \"name\": \"\", \"opacity\": 0.42989064865891924, \"text\": \"Peru<br># products: 15\", \"type\": \"scattergeo\", \"uid\": \"6d32ceae-f8b8-4223-815e-7451053c5138\"}, {\"hoverinfo\": \"text\", \"lat\": [13, 46], \"line\": {\"color\": \"red\", \"width\": 0.8424719895935548}, \"lon\": [122, 2], \"mode\": \"lines+markers\", \"name\": \"\", \"opacity\": 0.2688763176679315, \"text\": \"Philippines<br># products: 4\", \"type\": \"scattergeo\", \"uid\": \"a65372de-b79c-4b31-b43b-65b8ed07bd30\"}, {\"hoverinfo\": \"text\", \"lat\": [40, 46], \"line\": {\"color\": \"red\", \"width\": 0.8424719895935548}, \"lon\": [45, 2], \"mode\": \"lines+markers\", \"name\": \"\", \"opacity\": 0.2688763176679315, \"text\": \"Armenia<br># products: 4\", \"type\": \"scattergeo\", \"uid\": \"2e139f22-7c02-4b70-9ef0-0ab0d54ada18\"}, {\"hoverinfo\": \"text\", \"lat\": [43, 46], \"line\": {\"color\": \"red\", \"width\": 0.9587640052032226}, \"lon\": [25, 2], \"mode\": \"lines+markers\", \"name\": \"\", \"opacity\": 0.2960593332771467, \"text\": \"Bulgaria<br># products: 5\", \"type\": \"scattergeo\", \"uid\": \"59a4919b-e18f-47af-8c69-f6271c59e663\"}, {\"hoverinfo\": \"text\", \"lat\": [37, 46], \"line\": {\"color\": \"red\", \"width\": 1.5649439791871098}, \"lon\": [127.5, 2], \"mode\": \"lines+markers\", \"name\": \"\", \"opacity\": 0.43775263533586306, \"text\": \"South Korea<br># products: 16\", \"type\": \"scattergeo\", \"uid\": \"e714f889-0aa7-4724-a1ad-f13780be8411\"}, {\"hoverinfo\": \"text\", \"lat\": [47, 46], \"line\": {\"color\": \"red\", \"width\": 1.5649439791871098}, \"lon\": [20, 2], \"mode\": \"lines+markers\", \"name\": \"\", \"opacity\": 0.43775263533586306, \"text\": \"Hungary<br># products: 16\", \"type\": \"scattergeo\", \"uid\": \"43b7142e-7cd4-43ce-987b-939b08928dbe\"}, {\"hoverinfo\": \"text\", \"lat\": [-10, 46], \"line\": {\"color\": \"red\", \"width\": 0.8424719895935548}, \"lon\": [-55, 2], \"mode\": \"lines+markers\", \"name\": \"\", \"opacity\": 0.2688763176679315, \"text\": \"Brazil<br># products: 4\", \"type\": \"scattergeo\", \"uid\": \"4c877037-8ad6-4898-b2ff-73df86c7ce01\"}, {\"hoverinfo\": \"text\", \"lat\": [16.25, 46], \"line\": {\"color\": \"red\", \"width\": 0.692545505663595}, \"lon\": [-61.583333, 2], \"mode\": \"lines+markers\", \"name\": \"\", \"opacity\": 0.23383131538177257, \"text\": \"Guadeloupe<br># products: 3\", \"type\": \"scattergeo\", \"uid\": \"07fc9828-5603-47d2-b08d-5c1c076219f4\"}, {\"hoverinfo\": \"text\", \"lat\": [31.47, 46], \"line\": {\"color\": \"red\", \"width\": 1.8179680175649815}, \"lon\": [35.13, 2], \"mode\": \"lines+markers\", \"name\": \"\", \"opacity\": 0.4968964755098788, \"text\": \"Israel<br># products: 26\", \"type\": \"scattergeo\", \"uid\": \"c72830ff-e29d-4a24-8f10-5a58980df0c5\"}, {\"hoverinfo\": \"text\", \"lat\": [65, 46], \"line\": {\"color\": \"red\", \"width\": 1.7309072169866475}, \"lon\": [-18, 2], \"mode\": \"lines+markers\", \"name\": \"\", \"opacity\": 0.4765461953237051, \"text\": \"Iceland<br># products: 22\", \"type\": \"scattergeo\", \"uid\": \"37c987b0-413f-4b79-8705-ba3670cdf4de\"}, {\"hoverinfo\": \"text\", \"lat\": [46, 46], \"line\": {\"color\": \"red\", \"width\": 5.2537357391758}, \"lon\": [2, 2], \"mode\": \"lines+markers\", \"name\": \"\", \"opacity\": 1, \"text\": \"France<br># products: 18972\", \"type\": \"scattergeo\", \"uid\": \"ae2b9b0d-0637-48e3-8b9e-cbd7fa1b2231\"}, {\"hoverinfo\": \"text\", \"lat\": [19.5, 46], \"line\": {\"color\": \"red\", \"width\": 0.4812359947967775}, \"lon\": [-80.5, 2], \"mode\": \"lines+markers\", \"name\": \"\", \"opacity\": 0.18443815883396575, \"text\": \"Cayman Islands<br># products: 2\", \"type\": \"scattergeo\", \"uid\": \"d1fd8682-5754-4cae-a0e7-d97a667e93ed\"}, {\"hoverinfo\": \"text\", \"lat\": [60, 46], \"line\": {\"color\": \"red\", \"width\": 1.8179680175649815}, \"lon\": [-95, 2], \"mode\": \"lines+markers\", \"name\": \"\", \"opacity\": 0.4968964755098788, \"text\": \"Canada<br># products: 26\", \"type\": \"scattergeo\", \"uid\": \"3fc492ea-8e2b-4421-a298-c5ae6ff8488f\"}, {\"hoverinfo\": \"text\", \"lat\": [46, 46], \"line\": {\"color\": \"red\", \"width\": 1.0537815004603723}, \"lon\": [25, 2], \"mode\": \"lines+markers\", \"name\": \"\", \"opacity\": 0.31826947421573837, \"text\": \"Romania<br># products: 6\", \"type\": \"scattergeo\", \"uid\": \"24f94235-e55b-47c4-b979-ac68ec81cfb8\"}, {\"hoverinfo\": \"text\", \"lat\": [19.3, 46], \"line\": {\"color\": \"red\", \"width\": 1.856589637610663}, \"lon\": [166.633333, 2], \"mode\": \"lines+markers\", \"name\": \"\", \"opacity\": 0.5059241984799471, \"text\": \"United States Minor Outlying Islands<br># products: 28\", \"type\": \"scattergeo\", \"uid\": \"8824d379-e191-46ad-8481-7bac9b1effeb\"}, {\"hoverinfo\": \"text\", \"lat\": [50.83333333, 46], \"line\": {\"color\": \"red\", \"width\": 3.598470217907392}, \"lon\": [4, 2], \"mode\": \"lines+markers\", \"name\": \"\", \"opacity\": 0.9130851437551817, \"text\": \"Belgium<br># products: 792\", \"type\": \"scattergeo\", \"uid\": \"26e005d8-52e4-40ac-96eb-f9e896b1ea8e\"}, {\"hoverinfo\": \"text\", \"lat\": [-41, 46], \"line\": {\"color\": \"red\", \"width\": 0.4812359947967775}, \"lon\": [174, 2], \"mode\": \"lines+markers\", \"name\": \"\", \"opacity\": 0.18443815883396575, \"text\": \"New Zealand<br># products: 2\", \"type\": \"scattergeo\", \"uid\": \"163ed5bf-4e60-429d-9441-63f7dd5d8071\"}, {\"hoverinfo\": \"text\", \"lat\": [-21.5, 46], \"line\": {\"color\": \"red\", \"width\": 0.692545505663595}, \"lon\": [165.5, 2], \"mode\": \"lines+markers\", \"name\": \"\", \"opacity\": 0.23383131538177257, \"text\": \"New Caledonia<br># products: 3\", \"type\": \"scattergeo\", \"uid\": \"857375fd-7fa9-4eea-97ac-c4c3ac20ac44\"}, {\"hoverinfo\": \"text\", \"lat\": [-12.83333333, 46], \"line\": {\"color\": \"red\", \"width\": 0.9587640052032226}, \"lon\": [45.16666666, 2], \"mode\": \"lines+markers\", \"name\": \"\", \"opacity\": 0.2960593332771467, \"text\": \"Mayotte<br># products: 5\", \"type\": \"scattergeo\", \"uid\": \"19a923a0-aa30-4582-afb2-fa95eeab3b3d\"}, {\"hoverinfo\": \"text\", \"lat\": [16, 46], \"line\": {\"color\": \"red\", \"width\": 1.7975280104064453}, \"lon\": [8, 2], \"mode\": \"lines+markers\", \"name\": \"\", \"opacity\": 0.49211866655429337, \"text\": \"Niger<br># products: 25\", \"type\": \"scattergeo\", \"uid\": \"ccd3e49a-9eeb-46da-ab0c-56e5ed69ba4c\"}, {\"hoverinfo\": \"text\", \"lat\": [18, 46], \"line\": {\"color\": \"red\", \"width\": 0.4812359947967775}, \"lon\": [105, 2], \"mode\": \"lines+markers\", \"name\": \"\", \"opacity\": 0.18443815883396575, \"text\": \"Laos<br># products: 2\", \"type\": \"scattergeo\", \"uid\": \"65043bd8-a9bc-4e09-8cae-d4e2232c5691\"}, {\"hoverinfo\": \"text\", \"lat\": [52.5, 46], \"line\": {\"color\": \"red\", \"width\": 3.1500537684442143}, \"lon\": [5.75, 2], \"mode\": \"lines+markers\", \"name\": \"\", \"opacity\": 0.8082687358420227, \"text\": \"Netherlands<br># products: 335\", \"type\": \"scattergeo\", \"uid\": \"d6c2eaac-c645-417d-a12a-9a0bfd7a56ee\"}, {\"hoverinfo\": \"text\", \"lat\": [7, 46], \"line\": {\"color\": \"red\", \"width\": 1.5965387056539286}, \"lon\": [81, 2], \"mode\": \"lines+markers\", \"name\": \"\", \"opacity\": 0.4451378366174291, \"text\": \"Sri Lanka<br># products: 17\", \"type\": \"scattergeo\", \"uid\": \"6a94a501-b284-42b2-8844-1a15147661ae\"}, {\"hoverinfo\": \"text\", \"lat\": [47.33333333, 46], \"line\": {\"color\": \"red\", \"width\": 1.8179680175649815}, \"lon\": [13.33333333, 2], \"mode\": \"lines+markers\", \"name\": \"\", \"opacity\": 0.4968964755098788, \"text\": \"Austria<br># products: 26\", \"type\": \"scattergeo\", \"uid\": \"441312d1-23e5-48a6-8c5d-9d3337d1ce0d\"}, {\"hoverinfo\": \"text\", \"lat\": [-6, 46], \"line\": {\"color\": \"red\", \"width\": 0.4812359947967775}, \"lon\": [147, 2], \"mode\": \"lines+markers\", \"name\": \"\", \"opacity\": 0.18443815883396575, \"text\": \"Papua New Guinea<br># products: 2\", \"type\": \"scattergeo\", \"uid\": \"1fe77bb6-f9d9-4bdd-a6ff-410b621357d0\"}, {\"hoverinfo\": \"text\", \"lat\": [-20.28333333, 46], \"line\": {\"color\": \"red\", \"width\": 1.134117648017108}, \"lon\": [57.55, 2], \"mode\": \"lines+markers\", \"name\": \"\", \"opacity\": 0.33704788081201553, \"text\": \"Mauritius<br># products: 7\", \"type\": \"scattergeo\", \"uid\": \"80f1884e-af21-4246-927f-d0ddcd6b9f90\"}, {\"hoverinfo\": \"text\", \"lat\": [34, 46], \"line\": {\"color\": \"red\", \"width\": 1.6812359947967777}, \"lon\": [9, 2], \"mode\": \"lines+markers\", \"name\": \"\", \"opacity\": 0.46493565094507816, \"text\": \"Tunisia<br># products: 20\", \"type\": \"scattergeo\", \"uid\": \"20210cd9-8d7d-4583-9585-81e493dc2279\"}, {\"hoverinfo\": \"text\", \"lat\": [-21.15, 46], \"line\": {\"color\": \"red\", \"width\": 1.134117648017108}, \"lon\": [55.5, 2], \"mode\": \"lines+markers\", \"name\": \"\", \"opacity\": 0.33704788081201553, \"text\": \"R\\u00e9union<br># products: 7\", \"type\": \"scattergeo\", \"uid\": \"121dfb02-5a57-465e-9534-e547374a1f7a\"}, {\"hoverinfo\": \"text\", \"lat\": [47.26666666, 46], \"line\": {\"color\": \"red\", \"width\": 0.692545505663595}, \"lon\": [9.53333333, 2], \"mode\": \"lines+markers\", \"name\": \"\", \"opacity\": 0.23383131538177257, \"text\": \"Liechtenstein<br># products: 3\", \"type\": \"scattergeo\", \"uid\": \"8484a681-6054-47fc-80e6-20b610c5f258\"}, {\"hoverinfo\": \"text\", \"lat\": [-30, 46], \"line\": {\"color\": \"red\", \"width\": 0.692545505663595}, \"lon\": [-71, 2], \"mode\": \"lines+markers\", \"name\": \"\", \"opacity\": 0.23383131538177257, \"text\": \"Chile<br># products: 3\", \"type\": \"scattergeo\", \"uid\": \"ac3cda70-cefb-4881-8697-009a681e00c6\"}, {\"hoverinfo\": \"text\", \"lat\": [-34, 46], \"line\": {\"color\": \"red\", \"width\": 0.4812359947967775}, \"lon\": [-64, 2], \"mode\": \"lines+markers\", \"name\": \"\", \"opacity\": 0.18443815883396575, \"text\": \"Argentina<br># products: 2\", \"type\": \"scattergeo\", \"uid\": \"3a06556c-57ab-406f-938e-d45122a23f97\"}, {\"hoverinfo\": \"text\", \"lat\": [35, 46], \"line\": {\"color\": \"red\", \"width\": 0.4812359947967775}, \"lon\": [33, 2], \"mode\": \"lines+markers\", \"name\": \"\", \"opacity\": 0.18443815883396575, \"text\": \"Cyprus<br># products: 2\", \"type\": \"scattergeo\", \"uid\": \"ab2562ad-5a59-42ba-98ff-c08e2dccfb2f\"}, {\"hoverinfo\": \"text\", \"lat\": [14, 46], \"line\": {\"color\": \"red\", \"width\": 0.12}, \"lon\": [-14, 2], \"mode\": \"lines+markers\", \"name\": \"\", \"opacity\": 0.1, \"text\": \"Senegal<br># products: 1\", \"type\": \"scattergeo\", \"uid\": \"edb6d1cb-01ca-4685-a7f9-dc2eef8c3554\"}, {\"hoverinfo\": \"text\", \"lat\": [16.16666666, 46], \"line\": {\"color\": \"red\", \"width\": 2.1587640052032224}, \"lon\": [107.83333333, 2], \"mode\": \"lines+markers\", \"name\": \"\", \"opacity\": 0.576556825388259, \"text\": \"Vietnam<br># products: 50\", \"type\": \"scattergeo\", \"uid\": \"825e8fb3-43c6-43d0-afcb-dd8a65ac3dac\"}, {\"hoverinfo\": \"text\", \"lat\": [10, 46], \"line\": {\"color\": \"red\", \"width\": 0.692545505663595}, \"lon\": [-84, 2], \"mode\": \"lines+markers\", \"name\": \"\", \"opacity\": 0.23383131538177257, \"text\": \"Costa Rica<br># products: 3\", \"type\": \"scattergeo\", \"uid\": \"51385a19-4f11-4200-85c3-28b3ec160d36\"}, {\"hoverinfo\": \"text\", \"lat\": [38, 46], \"line\": {\"color\": \"red\", \"width\": 2.403707984390332}, \"lon\": [-97, 2], \"mode\": \"lines+markers\", \"name\": \"\", \"opacity\": 0.6338119686130097, \"text\": \"United States<br># products: 80\", \"type\": \"scattergeo\", \"uid\": \"4854c402-46d2-4125-9f49-80879c793159\"}, {\"hoverinfo\": \"text\", \"lat\": [-33, 46], \"line\": {\"color\": \"red\", \"width\": 0.12}, \"lon\": [-56, 2], \"mode\": \"lines+markers\", \"name\": \"\", \"opacity\": 0.1, \"text\": \"Uruguay<br># products: 1\", \"type\": \"scattergeo\", \"uid\": \"2e7ceb54-c72e-403b-9727-c9f416f362a0\"}, {\"hoverinfo\": \"text\", \"lat\": [59, 46], \"line\": {\"color\": \"red\", \"width\": 0.4812359947967775}, \"lon\": [26, 2], \"mode\": \"lines+markers\", \"name\": \"\", \"opacity\": 0.18443815883396575, \"text\": \"Estonia<br># products: 2\", \"type\": \"scattergeo\", \"uid\": \"e3675473-1128-4f7b-9aff-c7a44874741d\"}, {\"hoverinfo\": \"text\", \"lat\": [23, 46], \"line\": {\"color\": \"red\", \"width\": 1.32}, \"lon\": [-102, 2], \"mode\": \"lines+markers\", \"name\": \"\", \"opacity\": 0.3804974921111124, \"text\": \"Mexico<br># products: 10\", \"type\": \"scattergeo\", \"uid\": \"e0885e32-ce06-4ae6-af10-07bddf60692a\"}, {\"hoverinfo\": \"text\", \"lat\": [51, 46], \"line\": {\"color\": \"red\", \"width\": 3.5700735160700403}, \"lon\": [9, 2], \"mode\": \"lines+markers\", \"name\": \"\", \"opacity\": 0.9064474740471782, \"text\": \"Germany<br># products: 750\", \"type\": \"scattergeo\", \"uid\": \"0ca3e706-042a-4d91-9d87-cf21d8dbde39\"}, {\"hoverinfo\": \"text\", \"lat\": [1, 46], \"line\": {\"color\": \"red\", \"width\": 1.2650910113271898}, \"lon\": [38, 2], \"mode\": \"lines+markers\", \"name\": \"\", \"opacity\": 0.3676626307635451, \"text\": \"Kenya<br># products: 9\", \"type\": \"scattergeo\", \"uid\": \"b73fef96-10a0-46bf-9564-8d8e86bf5007\"}, {\"hoverinfo\": \"text\", \"lat\": [32, 46], \"line\": {\"color\": \"red\", \"width\": 2.4592680079738956}, \"lon\": [-5, 2], \"mode\": \"lines+markers\", \"name\": \"\", \"opacity\": 0.6467990080103627, \"text\": \"Morocco<br># products: 89\", \"type\": \"scattergeo\", \"uid\": \"be1a4fa1-3dcc-4fe3-8312-d620bf56033a\"}, {\"hoverinfo\": \"text\", \"lat\": [32, 46], \"line\": {\"color\": \"red\", \"width\": 2.042471989593555}, \"lon\": [53, 2], \"mode\": \"lines+markers\", \"name\": \"\", \"opacity\": 0.5493738097790439, \"text\": \"Iran<br># products: 40\", \"type\": \"scattergeo\", \"uid\": \"0591b351-ee75-4535-a8d7-407ff545fdc2\"}, {\"hoverinfo\": \"text\", \"lat\": [-13.58333333, 46], \"line\": {\"color\": \"red\", \"width\": 1.5313095108668178}, \"lon\": [-172.33333333, 2], \"mode\": \"lines+markers\", \"name\": \"\", \"opacity\": 0.42989064865891924, \"text\": \"Samoa<br># products: 15\", \"type\": \"scattergeo\", \"uid\": \"43b19fb3-f8ff-4512-9446-e318554fabbd\"}, {\"hoverinfo\": \"text\", \"lat\": [46.11666666, 46], \"line\": {\"color\": \"red\", \"width\": 0.692545505663595}, \"lon\": [14.81666666, 2], \"mode\": \"lines+markers\", \"name\": \"\", \"opacity\": 0.23383131538177257, \"text\": \"Slovenia<br># products: 3\", \"type\": \"scattergeo\", \"uid\": \"4ad3464c-ddae-4c14-89d9-67502a9d1319\"}, {\"hoverinfo\": \"text\", \"lat\": [8, 46], \"line\": {\"color\": \"red\", \"width\": 1.2650910113271898}, \"lon\": [-66, 2], \"mode\": \"lines+markers\", \"name\": \"\", \"opacity\": 0.3676626307635451, \"text\": \"Venezuela<br># products: 9\", \"type\": \"scattergeo\", \"uid\": \"8451b0ba-df7c-4649-a9ad-d966ea0732a7\"}, {\"hoverinfo\": \"text\", \"lat\": [42.83333333, 46], \"line\": {\"color\": \"red\", \"width\": 3.8901158763309454}, \"lon\": [12.83333333, 2], \"mode\": \"lines+markers\", \"name\": \"\", \"opacity\": 0.9812567068992658, \"text\": \"Italy<br># products: 1386\", \"type\": \"scattergeo\", \"uid\": \"3c6add2b-b672-42d0-bd70-ad8008533576\"}, {\"hoverinfo\": \"text\", \"lat\": [45.16666666, 46], \"line\": {\"color\": \"red\", \"width\": 0.8424719895935548}, \"lon\": [15.5, 2], \"mode\": \"lines+markers\", \"name\": \"\", \"opacity\": 0.2688763176679315, \"text\": \"Croatia<br># products: 4\", \"type\": \"scattergeo\", \"uid\": \"fa46f898-4b94-4a58-bdb5-8d288a5685ca\"}, {\"hoverinfo\": \"text\", \"lat\": [23.5, 46], \"line\": {\"color\": \"red\", \"width\": 1.856589637610663}, \"lon\": [121, 2], \"mode\": \"lines+markers\", \"name\": \"\", \"opacity\": 0.5059241984799471, \"text\": \"Taiwan<br># products: 28\", \"type\": \"scattergeo\", \"uid\": \"618379b0-5e4b-45ed-a5eb-b135a4f6a5c9\"}, {\"hoverinfo\": \"text\", \"lat\": [39, 46], \"line\": {\"color\": \"red\", \"width\": 2.0157403159401723}, \"lon\": [35, 2], \"mode\": \"lines+markers\", \"name\": \"\", \"opacity\": 0.5431253369292884, \"text\": \"Turkey<br># products: 38\", \"type\": \"scattergeo\", \"uid\": \"aaa2ff81-d513-40c8-a546-ab5dd1cf02c5\"}, {\"hoverinfo\": \"text\", \"lat\": [-20, 46], \"line\": {\"color\": \"red\", \"width\": 0.692545505663595}, \"lon\": [47, 2], \"mode\": \"lines+markers\", \"name\": \"\", \"opacity\": 0.23383131538177257, \"text\": \"Madagascar<br># products: 3\", \"type\": \"scattergeo\", \"uid\": \"ea192ca9-5933-4eb5-bf26-ded2dfbc7208\"}, {\"hoverinfo\": \"text\", \"lat\": [52, 46], \"line\": {\"color\": \"red\", \"width\": 2.487753424319638}, \"lon\": [20, 2], \"mode\": \"lines+markers\", \"name\": \"\", \"opacity\": 0.6534574145492975, \"text\": \"Poland<br># products: 94\", \"type\": \"scattergeo\", \"uid\": \"09372522-c9f0-483e-b9cd-e11ebb3e02c3\"}, {\"hoverinfo\": \"text\", \"lat\": [39, 46], \"line\": {\"color\": \"red\", \"width\": 2.4533792065802023}, \"lon\": [22, 2], \"mode\": \"lines+markers\", \"name\": \"\", \"opacity\": 0.6454225129916367, \"text\": \"Greece<br># products: 88\", \"type\": \"scattergeo\", \"uid\": \"b2760e6e-196c-488d-857c-432b4d05b318\"}, {\"hoverinfo\": \"text\", \"lat\": [-17, 46], \"line\": {\"color\": \"red\", \"width\": 2.348798995717522}, \"lon\": [-65, 2], \"mode\": \"lines+markers\", \"name\": \"\", \"opacity\": 0.6209771072654424, \"text\": \"Bolivia<br># products: 72\", \"type\": \"scattergeo\", \"uid\": \"de55c05f-c2a2-4a9b-9c90-2629b534611a\"}, {\"hoverinfo\": \"text\", \"lat\": [14.666667, 46], \"line\": {\"color\": \"red\", \"width\": 0.4812359947967775}, \"lon\": [-61, 2], \"mode\": \"lines+markers\", \"name\": \"\", \"opacity\": 0.18443815883396575, \"text\": \"Martinique<br># products: 2\", \"type\": \"scattergeo\", \"uid\": \"8108efdd-699a-47e0-b8ed-a75d47dc8677\"}, {\"hoverinfo\": \"text\", \"lat\": [60, 46], \"line\": {\"color\": \"red\", \"width\": 0.12}, \"lon\": [100, 2], \"mode\": \"lines+markers\", \"name\": \"\", \"opacity\": 0.1, \"text\": \"Russia<br># products: 1\", \"type\": \"scattergeo\", \"uid\": \"ca5e2f0d-87c5-44ca-8516-0eb2daf0f2d7\"}, {\"hoverinfo\": \"text\", \"lat\": [8, 46], \"line\": {\"color\": \"red\", \"width\": 0.12}, \"lon\": [1.16666666, 2], \"mode\": \"lines+markers\", \"name\": \"\", \"opacity\": 0.1, \"text\": \"Togo<br># products: 1\", \"type\": \"scattergeo\", \"uid\": \"96a6e147-adee-48fa-9cf8-0dfc41cf1f25\"}, {\"hoverinfo\": \"text\", \"lat\": [13.83333333, 46], \"line\": {\"color\": \"red\", \"width\": 0.12}, \"lon\": [-88.91666666, 2], \"mode\": \"lines+markers\", \"name\": \"\", \"opacity\": 0.1, \"text\": \"El Salvador<br># products: 1\", \"type\": \"scattergeo\", \"uid\": \"1d1c7da5-4590-4242-b493-e872813624d7\"}, {\"hoverinfo\": \"text\", \"lat\": [-5, 46], \"line\": {\"color\": \"red\", \"width\": 1.0537815004603723}, \"lon\": [120, 2], \"mode\": \"lines+markers\", \"name\": \"\", \"opacity\": 0.31826947421573837, \"text\": \"Indonesia<br># products: 6\", \"type\": \"scattergeo\", \"uid\": \"cbed1170-740a-430d-b467-fb16bec611b9\"}, {\"hoverinfo\": \"text\", \"lat\": [-22, 46], \"line\": {\"color\": \"red\", \"width\": 0.12}, \"lon\": [17, 2], \"mode\": \"lines+markers\", \"name\": \"\", \"opacity\": 0.1, \"text\": \"Namibia<br># products: 1\", \"type\": \"scattergeo\", \"uid\": \"d26ab81a-6e9e-4679-a5ca-ab36147168a5\"}, {\"hoverinfo\": \"text\", \"lat\": [56, 46], \"line\": {\"color\": \"red\", \"width\": 1.942216727853465}, \"lon\": [10, 2], \"mode\": \"lines+markers\", \"name\": \"\", \"opacity\": 0.525939351871512, \"text\": \"Denmark<br># products: 33\", \"type\": \"scattergeo\", \"uid\": \"99fdeaa5-740c-4e66-9695-41f55345b0b3\"}, {\"hoverinfo\": \"text\", \"lat\": [35, 46], \"line\": {\"color\": \"red\", \"width\": 0.4812359947967775}, \"lon\": [38, 2], \"mode\": \"lines+markers\", \"name\": \"\", \"opacity\": 0.18443815883396575, \"text\": \"Syria<br># products: 2\", \"type\": \"scattergeo\", \"uid\": \"382be26f-949e-49e5-8b3b-c239a5564dce\"}, {\"hoverinfo\": \"text\", \"lat\": [36, 46], \"line\": {\"color\": \"red\", \"width\": 1.8179680175649815}, \"lon\": [138, 2], \"mode\": \"lines+markers\", \"name\": \"\", \"opacity\": 0.4968964755098788, \"text\": \"Japan<br># products: 26\", \"type\": \"scattergeo\", \"uid\": \"e1cd6380-9129-4b05-81c7-4f8372f1c1a9\"}, {\"hoverinfo\": \"text\", \"lat\": [62, 46], \"line\": {\"color\": \"red\", \"width\": 1.5965387056539286}, \"lon\": [10, 2], \"mode\": \"lines+markers\", \"name\": \"\", \"opacity\": 0.4451378366174291, \"text\": \"Norway<br># products: 17\", \"type\": \"scattergeo\", \"uid\": \"25da0570-ed36-4f07-9692-a9eea6a382bf\"}, {\"hoverinfo\": \"text\", \"lat\": [-2, 46], \"line\": {\"color\": \"red\", \"width\": 0.9587640052032226}, \"lon\": [-77.5, 2], \"mode\": \"lines+markers\", \"name\": \"\", \"opacity\": 0.2960593332771467, \"text\": \"Ecuador<br># products: 5\", \"type\": \"scattergeo\", \"uid\": \"6d2d0580-297a-4a89-a422-97484f0506d9\"}, {\"hoverinfo\": \"text\", \"lat\": [27, 46], \"line\": {\"color\": \"red\", \"width\": 0.12}, \"lon\": [30, 2], \"mode\": \"lines+markers\", \"name\": \"\", \"opacity\": 0.1, \"text\": \"Egypt<br># products: 1\", \"type\": \"scattergeo\", \"uid\": \"2e8240e7-2e60-4e74-a028-ea0551825e88\"}, {\"hoverinfo\": \"text\", \"lat\": [8, 46], \"line\": {\"color\": \"red\", \"width\": 0.9587640052032226}, \"lon\": [-2, 2], \"mode\": \"lines+markers\", \"name\": \"\", \"opacity\": 0.2960593332771467, \"text\": \"Ghana<br># products: 5\", \"type\": \"scattergeo\", \"uid\": \"54863adc-8ee1-49b2-95eb-9b973aa4343a\"}, {\"hoverinfo\": \"text\", \"lat\": [53, 46], \"line\": {\"color\": \"red\", \"width\": 1.776253490053927}, \"lon\": [-8, 2], \"mode\": \"lines+markers\", \"name\": \"\", \"opacity\": 0.4871457918836699, \"text\": \"Ireland<br># products: 24\", \"type\": \"scattergeo\", \"uid\": \"0f010e16-bc13-43e8-b547-4b0bd53e16c5\"}, {\"hoverinfo\": \"text\", \"lat\": [21.5, 46], \"line\": {\"color\": \"red\", \"width\": 0.4812359947967775}, \"lon\": [-80, 2], \"mode\": \"lines+markers\", \"name\": \"\", \"opacity\": 0.18443815883396575, \"text\": \"Cuba<br># products: 2\", \"type\": \"scattergeo\", \"uid\": \"a87cc0e5-e096-46bb-ac8c-1455ed5bd514\"}, {\"hoverinfo\": \"text\", \"lat\": [49.75, 46], \"line\": {\"color\": \"red\", \"width\": 1.776253490053927}, \"lon\": [6.16666666, 2], \"mode\": \"lines+markers\", \"name\": \"\", \"opacity\": 0.4871457918836699, \"text\": \"Luxembourg<br># products: 24\", \"type\": \"scattergeo\", \"uid\": \"316a6e0c-d0b0-426a-86ba-b2a1a0092694\"}, {\"hoverinfo\": \"text\", \"lat\": [49.75, 46], \"line\": {\"color\": \"red\", \"width\": 1.41501749525715}, \"lon\": [15.5, 2], \"mode\": \"lines+markers\", \"name\": \"\", \"opacity\": 0.40270763304970414, \"text\": \"Czechia<br># products: 12\", \"type\": \"scattergeo\", \"uid\": \"8ba32813-ac8f-424c-afd3-03b9d1f3e6b3\"}, {\"hoverinfo\": \"text\", \"lat\": [6, 46], \"line\": {\"color\": \"red\", \"width\": 0.4812359947967775}, \"lon\": [12, 2], \"mode\": \"lines+markers\", \"name\": \"\", \"opacity\": 0.18443815883396575, \"text\": \"Cameroon<br># products: 2\", \"type\": \"scattergeo\", \"uid\": \"da2bb24d-2240-4ae6-b9e9-2b9ccd6e83a0\"}, {\"hoverinfo\": \"text\", \"lat\": [62, 46], \"line\": {\"color\": \"red\", \"width\": 2.0678991484774807}, \"lon\": [15, 2], \"mode\": \"lines+markers\", \"name\": \"\", \"opacity\": 0.5553173550277539, \"text\": \"Sweden<br># products: 42\", \"type\": \"scattergeo\", \"uid\": \"203f490f-31ac-4f9f-9ace-b94bae03fee4\"}, {\"hoverinfo\": \"text\", \"lat\": [2.5, 46], \"line\": {\"color\": \"red\", \"width\": 1.5649439791871098}, \"lon\": [112.5, 2], \"mode\": \"lines+markers\", \"name\": \"\", \"opacity\": 0.43775263533586306, \"text\": \"Malaysia<br># products: 16\", \"type\": \"scattergeo\", \"uid\": \"5d0ddbb1-4fa4-4602-8ba1-09cb83abccd7\"}, {\"hoverinfo\": \"text\", \"lat\": [-29, 46], \"line\": {\"color\": \"red\", \"width\": 1.41501749525715}, \"lon\": [24, 2], \"mode\": \"lines+markers\", \"name\": \"\", \"opacity\": 0.40270763304970414, \"text\": \"South Africa<br># products: 12\", \"type\": \"scattergeo\", \"uid\": \"bcc6a1ee-654e-4db0-a56f-eaacb879be8c\"}, {\"hoverinfo\": \"text\", \"lat\": [4, 46], \"line\": {\"color\": \"red\", \"width\": 0.4812359947967775}, \"lon\": [-53, 2], \"mode\": \"lines+markers\", \"name\": \"\", \"opacity\": 0.18443815883396575, \"text\": \"French Guiana<br># products: 2\", \"type\": \"scattergeo\", \"uid\": \"d4c81972-d2bd-44e7-9d9b-5a08ca27f2c7\"}, {\"hoverinfo\": \"text\", \"lat\": [18.5, 46], \"line\": {\"color\": \"red\", \"width\": 0.12}, \"lon\": [-63.41666666, 2], \"mode\": \"lines+markers\", \"name\": \"\", \"opacity\": 0.1, \"text\": \"Saint Barth\\u00e9lemy<br># products: 1\", \"type\": \"scattergeo\", \"uid\": \"ae74bc66-a065-4b8b-8e91-89320849a023\"}, {\"hoverinfo\": \"text\", \"lat\": [-49.25, 46], \"line\": {\"color\": \"red\", \"width\": 1.2037079843903322}, \"lon\": [69.167, 2], \"mode\": \"lines+markers\", \"name\": \"\", \"opacity\": 0.3533144765018973, \"text\": \"French Southern and Antarctic Lands<br># products: 8\", \"type\": \"scattergeo\", \"uid\": \"1133cb87-d989-4fdb-93b6-3d40ebca9c44\"}, {\"hoverinfo\": \"text\", \"lat\": [-4.58333333, 46], \"line\": {\"color\": \"red\", \"width\": 1.2037079843903322}, \"lon\": [55.66666666, 2], \"mode\": \"lines+markers\", \"name\": \"\", \"opacity\": 0.3533144765018973, \"text\": \"Seychelles<br># products: 8\", \"type\": \"scattergeo\", \"uid\": \"9ffe9090-433a-4cda-a977-36bec2fb1164\"}, {\"hoverinfo\": \"text\", \"lat\": [39.5, 46], \"line\": {\"color\": \"red\", \"width\": 2.6106563536710374}, \"lon\": [-8, 2], \"mode\": \"lines+markers\", \"name\": \"\", \"opacity\": 0.6821857174294448, \"text\": \"Portugal<br># products: 119\", \"type\": \"scattergeo\", \"uid\": \"13378100-ce49-4b39-a37a-0f9b5d581e2f\"}, {\"hoverinfo\": \"text\", \"lat\": [44, 46], \"line\": {\"color\": \"red\", \"width\": 0.692545505663595}, \"lon\": [21, 2], \"mode\": \"lines+markers\", \"name\": \"\", \"opacity\": 0.23383131538177257, \"text\": \"Serbia<br># products: 3\", \"type\": \"scattergeo\", \"uid\": \"20986adb-366a-42bc-9519-451ca9d8d095\"}, {\"hoverinfo\": \"text\", \"lat\": [48.66666666, 46], \"line\": {\"color\": \"red\", \"width\": 0.4812359947967775}, \"lon\": [19.5, 2], \"mode\": \"lines+markers\", \"name\": \"\", \"opacity\": 0.18443815883396575, \"text\": \"Slovakia<br># products: 2\", \"type\": \"scattergeo\", \"uid\": \"63355199-8974-42a1-8aab-971fefe77a05\"}, {\"hoverinfo\": \"text\", \"lat\": [33.83333333, 46], \"line\": {\"color\": \"red\", \"width\": 0.692545505663595}, \"lon\": [35.83333333, 2], \"mode\": \"lines+markers\", \"name\": \"\", \"opacity\": 0.23383131538177257, \"text\": \"Lebanon<br># products: 3\", \"type\": \"scattergeo\", \"uid\": \"79b6fcd5-7024-4e63-9a8f-c6826ca0c751\"}, {\"hoverinfo\": \"text\", \"lat\": [-27, 46], \"line\": {\"color\": \"red\", \"width\": 0.8424719895935548}, \"lon\": [133, 2], \"mode\": \"lines+markers\", \"name\": \"\", \"opacity\": 0.2688763176679315, \"text\": \"Australia<br># products: 4\", \"type\": \"scattergeo\", \"uid\": \"e8a68826-7210-4788-84cb-f7687163d5e7\"}, {\"hoverinfo\": \"text\", \"lat\": [19, 46], \"line\": {\"color\": \"red\", \"width\": 0.12}, \"lon\": [-70.66666666, 2], \"mode\": \"lines+markers\", \"name\": \"\", \"opacity\": 0.1, \"text\": \"Dominican Republic<br># products: 1\", \"type\": \"scattergeo\", \"uid\": \"9de9286b-81dc-48b3-b86c-caba4ae07dd9\"}, {\"hoverinfo\": \"text\", \"lat\": [35, 46], \"line\": {\"color\": \"red\", \"width\": 2.5973495870723022}, \"lon\": [105, 2], \"mode\": \"lines+markers\", \"name\": \"\", \"opacity\": 0.6790752885469006, \"text\": \"China<br># products: 116\", \"type\": \"scattergeo\", \"uid\": \"54609fe7-9b66-48fa-8c79-8d4676ba7173\"}, {\"hoverinfo\": \"text\", \"lat\": [22, 46], \"line\": {\"color\": \"red\", \"width\": 0.12}, \"lon\": [98, 2], \"mode\": \"lines+markers\", \"name\": \"\", \"opacity\": 0.1, \"text\": \"Myanmar<br># products: 1\", \"type\": \"scattergeo\", \"uid\": \"a54c185f-406e-4669-93f9-6ffee9a3406c\"}, {\"hoverinfo\": \"text\", \"lat\": [24, 46], \"line\": {\"color\": \"red\", \"width\": 0.692545505663595}, \"lon\": [90, 2], \"mode\": \"lines+markers\", \"name\": \"\", \"opacity\": 0.23383131538177257, \"text\": \"Bangladesh<br># products: 3\", \"type\": \"scattergeo\", \"uid\": \"b2862aee-f373-45d4-941c-d44eaf25f3ef\"}, {\"hoverinfo\": \"text\", \"lat\": [47, 46], \"line\": {\"color\": \"red\", \"width\": 2.8680415336350213}, \"lon\": [8, 2], \"mode\": \"lines+markers\", \"name\": \"\", \"opacity\": 0.7423489653348322, \"text\": \"Switzerland<br># products: 195\", \"type\": \"scattergeo\", \"uid\": \"58900cd7-3ec4-4268-bab8-084d7e982f66\"}, {\"hoverinfo\": \"text\", \"lat\": [8, 46], \"line\": {\"color\": \"red\", \"width\": 1.2650910113271898}, \"lon\": [-5, 2], \"mode\": \"lines+markers\", \"name\": \"\", \"opacity\": 0.3676626307635451, \"text\": \"Ivory Coast<br># products: 9\", \"type\": \"scattergeo\", \"uid\": \"496d70ed-70cf-4d74-976d-10ad75f6da98\"}, {\"hoverinfo\": \"text\", \"lat\": [49.46666666, 46], \"line\": {\"color\": \"red\", \"width\": 0.692545505663595}, \"lon\": [-2.58333333, 2], \"mode\": \"lines+markers\", \"name\": \"\", \"opacity\": 0.23383131538177257, \"text\": \"Guernsey<br># products: 3\", \"type\": \"scattergeo\", \"uid\": \"c76ca142-97d2-456f-9e55-ea8933ec9433\"}, {\"hoverinfo\": \"text\", \"lat\": [-26.5, 46], \"line\": {\"color\": \"red\", \"width\": 0.12}, \"lon\": [31.5, 2], \"mode\": \"lines+markers\", \"name\": \"\", \"opacity\": 0.1, \"text\": \"Eswatini<br># products: 1\", \"type\": \"scattergeo\", \"uid\": \"bff9a500-8faa-4506-87d6-5c43a386d63e\"}, {\"hoverinfo\": \"text\", \"lat\": [56, 46], \"line\": {\"color\": \"red\", \"width\": 1.4953536428138856}, \"lon\": [24, 2], \"mode\": \"lines+markers\", \"name\": \"\", \"opacity\": 0.4214860396459813, \"text\": \"Lithuania<br># products: 14\", \"type\": \"scattergeo\", \"uid\": \"38a810d0-969b-4322-9571-60a5a74add57\"}, {\"hoverinfo\": \"text\", \"lat\": [18.25, 46], \"line\": {\"color\": \"red\", \"width\": 0.12}, \"lon\": [-66.5, 2], \"mode\": \"lines+markers\", \"name\": \"\", \"opacity\": 0.1, \"text\": \"Puerto Rico<br># products: 1\", \"type\": \"scattergeo\", \"uid\": \"3535a72e-94c5-4b6d-8f16-7de98abbc903\"}, {\"hoverinfo\": \"text\", \"lat\": [4, 46], \"line\": {\"color\": \"red\", \"width\": 0.12}, \"lon\": [-72, 2], \"mode\": \"lines+markers\", \"name\": \"\", \"opacity\": 0.1, \"text\": \"Colombia<br># products: 1\", \"type\": \"scattergeo\", \"uid\": \"82b70290-0871-4059-a305-516acc2e610d\"}, {\"hoverinfo\": \"text\", \"lat\": [1.36666666, 46], \"line\": {\"color\": \"red\", \"width\": 1.0537815004603723}, \"lon\": [103.8, 2], \"mode\": \"lines+markers\", \"name\": \"\", \"opacity\": 0.31826947421573837, \"text\": \"Singapore<br># products: 6\", \"type\": \"scattergeo\", \"uid\": \"b254914d-622f-4410-929d-e07726b39b84\"}, {\"hoverinfo\": \"text\", \"lat\": [25, 46], \"line\": {\"color\": \"red\", \"width\": 0.12}, \"lon\": [45, 2], \"mode\": \"lines+markers\", \"name\": \"\", \"opacity\": 0.1, \"text\": \"Saudi Arabia<br># products: 1\", \"type\": \"scattergeo\", \"uid\": \"b3b89d7a-6793-4097-b8b1-d57a87b79808\"}, {\"hoverinfo\": \"text\", \"lat\": [22.267, 46], \"line\": {\"color\": \"red\", \"width\": 0.12}, \"lon\": [114.188, 2], \"mode\": \"lines+markers\", \"name\": \"\", \"opacity\": 0.1, \"text\": \"Hong Kong<br># products: 1\", \"type\": \"scattergeo\", \"uid\": \"d0546f37-2fb8-4e31-96c2-2e999b50d5f3\"}, {\"hoverinfo\": \"text\", \"lat\": [12.18, 46], \"line\": {\"color\": \"red\", \"width\": 0.12}, \"lon\": [-68.25, 2], \"mode\": \"lines+markers\", \"name\": \"\", \"opacity\": 0.1, \"text\": \"Caribbean Netherlands<br># products: 1\", \"type\": \"scattergeo\", \"uid\": \"0d71c4b3-806b-4758-964a-e2cfd0e63943\"}], {\"geo\": {\"coastlinecolor\": \"rgb(255, 255, 255)\", \"countrycolor\": \"rgb(255, 255, 255)\", \"landcolor\": \"rgb(229, 229, 229)\", \"projection\": {\"type\": \"equirectangular\"}, \"showcoastlines\": true, \"showframe\": false, \"showland\": true}, \"margin\": {\"b\": 0, \"l\": 50, \"pad\": 4, \"r\": 100, \"t\": 0}, \"showlegend\": false, \"xaxis\": {\"fixedrange\": true}, \"yaxis\": {\"fixedrange\": true}}, {\"showLink\": true, \"linkText\": \"Export to plot.ly\"})});</script><script type=\"text/javascript\">window.addEventListener(\"resize\", function(){window._Plotly.Plots.resize(document.getElementById(\"5f84714f-9009-4b73-9990-79aaea820c40\"));});</script>"
      ]
     },
     "metadata": {},
     "output_type": "display_data"
    }
   ],
   "source": [
    "visualize.plot_occurrences_on_map(df=food_facts_pd, \n",
    "                                  column_key='manufacturing_places',\n",
    "                                  save_offline = save_plots_offline, \n",
    "                                  save_offline_title= 'manufacturing_fr',\n",
    "                                  show_distances=True)"
   ]
  },
  {
   "cell_type": "code",
   "execution_count": null,
   "metadata": {},
   "outputs": [],
   "source": [
    "visualize.plot_occurrences_on_map(df=food_facts_pd, \n",
    "                                  column_key='origins',\n",
    "                                  save_offline = save_plots_offline, \n",
    "                                  save_offline_title= 'origins_fr',\n",
    "                                  show_distances=True)"
   ]
  },
  {
   "cell_type": "markdown",
   "metadata": {},
   "source": [
    "Filtering the products to the ones that are sold in France affected mostly products manufactured in Central Asia and North-America. Most of the products, that we are going to analyse further are most-likely manufactured in Europe, followed by the American continent. Only very few products originate from Asia, and even less from Africa."
   ]
  },
  {
   "cell_type": "markdown",
   "metadata": {},
   "source": [
    "##### How is this distribution impacted when we consider neutral and large carbon footprint products? "
   ]
  },
  {
   "cell_type": "markdown",
   "metadata": {},
   "source": [
    "The dataset carbon footprint coming from Eaternity is restrained to Germany and that of the Open Food Facts is much to sparsed to be informative (and biased towards France). Hence, we unfortunately lack the data to answer this question. "
   ]
  },
  {
   "cell_type": "markdown",
   "metadata": {},
   "source": [
    "#### Case study: Palm oil"
   ]
  },
  {
   "cell_type": "code",
   "execution_count": 27,
   "metadata": {},
   "outputs": [],
   "source": [
    "#extracting products with palm oil\n",
    "palm_oil_pd = food_facts_pd[food_facts_pd.ingredients_text.str.contains(\"palm\").fillna(value=False)]"
   ]
  },
  {
   "cell_type": "markdown",
   "metadata": {},
   "source": [
    "##### Can we observe any trend in the number of products including palm oil (assuming a strong dependence between date the product was added to the database and data the product was invented)?"
   ]
  },
  {
   "cell_type": "code",
   "execution_count": 28,
   "metadata": {},
   "outputs": [
    {
     "name": "stdout",
     "output_type": "stream",
     "text": [
      "4.73 % of the products in the dataset contain palm oil\n"
     ]
    }
   ],
   "source": [
    "print('{0:.2f} % of the products in the dataset contain palm oil'.format(palm_oil_pd.shape[0]/food_facts_pd.shape[0]*100))"
   ]
  },
  {
   "cell_type": "code",
   "execution_count": 29,
   "metadata": {},
   "outputs": [],
   "source": [
    "proportions,palm_oil_over_time = explore.proportion_palm_oil(food_facts_pd)"
   ]
  },
  {
   "cell_type": "code",
   "execution_count": 30,
   "metadata": {
    "scrolled": true
   },
   "outputs": [
    {
     "data": {
      "application/vnd.plotly.v1+json": {
       "data": [
        {
         "hoverinfo": "text",
         "marker": {
          "color": "#097B4E"
         },
         "text": [
          "5.04% <br>46",
          "5.63% <br>135",
          "4.24% <br>127",
          "5.57% <br>369",
          "4.6% <br>283",
          "4.13% <br>182",
          "3.57% <br>97"
         ],
         "type": "bar",
         "uid": "7415e7e9-3970-436e-a732-87629a0647ee",
         "x": [
          2012,
          2013,
          2014,
          2015,
          2016,
          2017,
          2018
         ],
         "y": [
          5.038335158817087,
          5.632040050062578,
          4.244652406417113,
          5.5656108597285066,
          4.60087790603154,
          4.126048515075946,
          3.566176470588235
         ]
        }
       ],
       "layout": {
        "margin": {
         "b": 40,
         "l": 50,
         "pad": 4,
         "r": 50,
         "t": 15
        },
        "yaxis": {
         "title": "Percentage of products with palm oil [%]"
        }
       }
      },
      "text/html": [
       "<div id=\"b46e1ecf-5b75-43dc-8a36-c72cbe6ac62e\" style=\"height: 525px; width: 100%;\" class=\"plotly-graph-div\"></div><script type=\"text/javascript\">require([\"plotly\"], function(Plotly) { window.PLOTLYENV=window.PLOTLYENV || {};window.PLOTLYENV.BASE_URL=\"https://plot.ly\";Plotly.newPlot(\"b46e1ecf-5b75-43dc-8a36-c72cbe6ac62e\", [{\"hoverinfo\": \"text\", \"marker\": {\"color\": \"#097B4E\"}, \"text\": [\"5.04% <br>46\", \"5.63% <br>135\", \"4.24% <br>127\", \"5.57% <br>369\", \"4.6% <br>283\", \"4.13% <br>182\", \"3.57% <br>97\"], \"x\": [2012.0, 2013.0, 2014.0, 2015.0, 2016.0, 2017.0, 2018.0], \"y\": [5.038335158817087, 5.632040050062578, 4.244652406417113, 5.5656108597285066, 4.60087790603154, 4.126048515075946, 3.566176470588235], \"type\": \"bar\", \"uid\": \"7415e7e9-3970-436e-a732-87629a0647ee\"}], {\"margin\": {\"b\": 40, \"l\": 50, \"pad\": 4, \"r\": 50, \"t\": 15}, \"yaxis\": {\"title\": \"Percentage of products with palm oil [%]\"}}, {\"showLink\": true, \"linkText\": \"Export to plot.ly\"})});</script><script type=\"text/javascript\">window.addEventListener(\"resize\", function(){window._Plotly.Plots.resize(document.getElementById(\"b46e1ecf-5b75-43dc-8a36-c72cbe6ac62e\"));});</script>"
      ],
      "text/vnd.plotly.v1+html": [
       "<div id=\"b46e1ecf-5b75-43dc-8a36-c72cbe6ac62e\" style=\"height: 525px; width: 100%;\" class=\"plotly-graph-div\"></div><script type=\"text/javascript\">require([\"plotly\"], function(Plotly) { window.PLOTLYENV=window.PLOTLYENV || {};window.PLOTLYENV.BASE_URL=\"https://plot.ly\";Plotly.newPlot(\"b46e1ecf-5b75-43dc-8a36-c72cbe6ac62e\", [{\"hoverinfo\": \"text\", \"marker\": {\"color\": \"#097B4E\"}, \"text\": [\"5.04% <br>46\", \"5.63% <br>135\", \"4.24% <br>127\", \"5.57% <br>369\", \"4.6% <br>283\", \"4.13% <br>182\", \"3.57% <br>97\"], \"x\": [2012.0, 2013.0, 2014.0, 2015.0, 2016.0, 2017.0, 2018.0], \"y\": [5.038335158817087, 5.632040050062578, 4.244652406417113, 5.5656108597285066, 4.60087790603154, 4.126048515075946, 3.566176470588235], \"type\": \"bar\", \"uid\": \"7415e7e9-3970-436e-a732-87629a0647ee\"}], {\"margin\": {\"b\": 40, \"l\": 50, \"pad\": 4, \"r\": 50, \"t\": 15}, \"yaxis\": {\"title\": \"Percentage of products with palm oil [%]\"}}, {\"showLink\": true, \"linkText\": \"Export to plot.ly\"})});</script><script type=\"text/javascript\">window.addEventListener(\"resize\", function(){window._Plotly.Plots.resize(document.getElementById(\"b46e1ecf-5b75-43dc-8a36-c72cbe6ac62e\"));});</script>"
      ]
     },
     "metadata": {},
     "output_type": "display_data"
    }
   ],
   "source": [
    "visualize.palm_oil_overtime(proportions,\n",
    "                            palm_oil_over_time,\n",
    "                            save = save_plots_offline, \n",
    "                            save_title= 'palm_oil_over_time')"
   ]
  },
  {
   "cell_type": "markdown",
   "metadata": {},
   "source": [
    "In the above plot, we can see the percentage of products added to the data base over the years that contain palm oil. In general, the amount varies between 3.5-5.6%, with a steady decrease since 2015. Even though we cannot make any statement about the quantities of palm oil products sold, we can assume that producers try to avoid ever more to use palm oil in new products that they bring to the market."
   ]
  },
  {
   "cell_type": "markdown",
   "metadata": {},
   "source": [
    "##### Which countries use palm oils for production?"
   ]
  },
  {
   "cell_type": "code",
   "execution_count": 31,
   "metadata": {},
   "outputs": [],
   "source": [
    "a = palm_oil_pd.origins.groupby(palm_oil_pd.origins).sum"
   ]
  },
  {
   "cell_type": "code",
   "execution_count": 65,
   "metadata": {},
   "outputs": [
    {
     "data": {
      "text/plain": [
       "{'United Kingdom': (0.0, 0.4470588235294118, 0.6980392156862745),\n",
       " 'Unknown': (0.0, 0.6196078431372549, 0.45098039215686275),\n",
       " 'United States': (0.8352941176470589, 0.3686274509803922, 0.0),\n",
       " 'Belgium': (0.8, 0.4745098039215686, 0.6549019607843137),\n",
       " 'Italy': (0.9411764705882353, 0.8941176470588236, 0.25882352941176473),\n",
       " 'Portugal': (0.33725490196078434, 0.7058823529411765, 0.9137254901960784),\n",
       " 'Israel': (0.0, 0.4470588235294118, 0.6980392156862745),\n",
       " 'Germany': (0.0, 0.6196078431372549, 0.45098039215686275),\n",
       " 'Sweden': (0.8352941176470589, 0.3686274509803922, 0.0),\n",
       " 'France': (0.8, 0.4745098039215686, 0.6549019607843137),\n",
       " 'China': (0.9411764705882353, 0.8941176470588236, 0.25882352941176473),\n",
       " 'Lithuania': (0.33725490196078434, 0.7058823529411765, 0.9137254901960784),\n",
       " 'Austria': (0.0, 0.4470588235294118, 0.6980392156862745),\n",
       " 'Spain': (0.0, 0.6196078431372549, 0.45098039215686275),\n",
       " 'Netherlands': (0.8352941176470589, 0.3686274509803922, 0.0),\n",
       " 'Greece': (0.8, 0.4745098039215686, 0.6549019607843137),\n",
       " 'Luxembourg': (0.9411764705882353, 0.8941176470588236, 0.25882352941176473),\n",
       " 'United Kingdom,France': (0.33725490196078434,\n",
       "  0.7058823529411765,\n",
       "  0.9137254901960784),\n",
       " 'Belgium,Germany,Poland': (0.0, 0.4470588235294118, 0.6980392156862745),\n",
       " 'France,United Kingdom': (0.0, 0.6196078431372549, 0.45098039215686275),\n",
       " 'Vietnam': (0.8352941176470589, 0.3686274509803922, 0.0),\n",
       " 'France,Iran': (0.8, 0.4745098039215686, 0.6549019607843137),\n",
       " 'Sri Lanka': (0.9411764705882353, 0.8941176470588236, 0.25882352941176473),\n",
       " 'Switzerland': (0.33725490196078434, 0.7058823529411765, 0.9137254901960784),\n",
       " 'Iran,France': (0.0, 0.4470588235294118, 0.6980392156862745),\n",
       " 'Thailand': (0.0, 0.6196078431372549, 0.45098039215686275),\n",
       " 'Morocco': (0.8352941176470589, 0.3686274509803922, 0.0),\n",
       " 'Tunisia': (0.8, 0.4745098039215686, 0.6549019607843137),\n",
       " 'Samoa,France': (0.9411764705882353, 0.8941176470588236, 0.25882352941176473),\n",
       " 'Poland': (0.33725490196078434, 0.7058823529411765, 0.9137254901960784),\n",
       " 'Lithuania,Spain': (0.0, 0.4470588235294118, 0.6980392156862745),\n",
       " 'Namibia,South Africa': (0.0, 0.6196078431372549, 0.45098039215686275),\n",
       " 'United States Minor Outlying Islands,France': (0.8352941176470589,\n",
       "  0.3686274509803922,\n",
       "  0.0),\n",
       " 'Hong Kong': (0.8, 0.4745098039215686, 0.6549019607843137),\n",
       " 'Czechia': (0.9411764705882353, 0.8941176470588236, 0.25882352941176473),\n",
       " 'Hungary': (0.33725490196078434, 0.7058823529411765, 0.9137254901960784),\n",
       " 'Belgium,France': (0.0, 0.4470588235294118, 0.6980392156862745),\n",
       " 'Mauritius': (0.0, 0.6196078431372549, 0.45098039215686275),\n",
       " 'Germany,Italy': (0.8352941176470589, 0.3686274509803922, 0.0),\n",
       " 'Spain,Spain,Spain': (0.8, 0.4745098039215686, 0.6549019607843137),\n",
       " 'Turkey': (0.9411764705882353, 0.8941176470588236, 0.25882352941176473),\n",
       " 'South Korea': (0.33725490196078434, 0.7058823529411765, 0.9137254901960784),\n",
       " 'Malaysia': (0.0, 0.4470588235294118, 0.6980392156862745)}"
      ]
     },
     "metadata": {},
     "output_type": "display_data"
    },
    {
     "ename": "KeyError",
     "evalue": "'Other'",
     "output_type": "error",
     "traceback": [
      "\u001b[0;31m---------------------------------------------------------------------------\u001b[0m",
      "\u001b[0;31mKeyError\u001b[0m                                  Traceback (most recent call last)",
      "\u001b[0;32m<ipython-input-65-557f86684a58>\u001b[0m in \u001b[0;36m<module>\u001b[0;34m()\u001b[0m\n\u001b[1;32m      2\u001b[0m                                   \u001b[0;34m'manufacturing_places'\u001b[0m\u001b[0;34m,\u001b[0m\u001b[0;34m\u001b[0m\u001b[0m\n\u001b[1;32m      3\u001b[0m                                   \u001b[0msave_offline\u001b[0m\u001b[0;34m=\u001b[0m\u001b[0msave_plots_offline\u001b[0m\u001b[0;34m,\u001b[0m\u001b[0;34m\u001b[0m\u001b[0m\n\u001b[0;32m----> 4\u001b[0;31m                                   save_offline_title='palm_oil_manufacturing_places')\n\u001b[0m",
      "\u001b[0;32m~/Desktop/Project_ADA/libs/visualising.py\u001b[0m in \u001b[0;36mplot_column_composition\u001b[0;34m(self, df, column_str, num_values, save_offline, save_offline_title)\u001b[0m\n\u001b[1;32m    336\u001b[0m                            \u001b[0mname\u001b[0m\u001b[0;34m=\u001b[0m\u001b[0mrow\u001b[0m\u001b[0;34m.\u001b[0m\u001b[0mvalues\u001b[0m\u001b[0;34m[\u001b[0m\u001b[0;36m0\u001b[0m\u001b[0;34m]\u001b[0m\u001b[0;34m,\u001b[0m\u001b[0;34m\u001b[0m\u001b[0m\n\u001b[1;32m    337\u001b[0m                            \u001b[0morientation\u001b[0m\u001b[0;34m=\u001b[0m\u001b[0;34m'h'\u001b[0m\u001b[0;34m,\u001b[0m\u001b[0;34m\u001b[0m\u001b[0m\n\u001b[0;32m--> 338\u001b[0;31m                            marker=dict(color=colormap[row.values[0]],\n\u001b[0m\u001b[1;32m    339\u001b[0m \u001b[0;34m\u001b[0m\u001b[0m\n\u001b[1;32m    340\u001b[0m                                        ),\n",
      "\u001b[0;31mKeyError\u001b[0m: 'Other'"
     ]
    }
   ],
   "source": [
    "visualize.plot_column_composition(palm_oil_pd,\n",
    "                                  'manufacturing_places',\n",
    "                                  save_offline=save_plots_offline, \n",
    "                                  save_offline_title='palm_oil_manufacturing_places')"
   ]
  },
  {
   "cell_type": "markdown",
   "metadata": {},
   "source": [
    "More than 76% products in the database, that contain palm oil as an ingredient, are manufactured in Europe. From the [Atlas dataset](https://atlas.media.mit.edu/en/profile/hs92/1511/), we see that these countries however import at least 15 times more palm oil that they produce, which let's us suggest that even the ingredients are shipped over the globe before they are processed to become food products."
   ]
  },
  {
   "cell_type": "markdown",
   "metadata": {},
   "source": [
    "### Good nutrition impact"
   ]
  },
  {
   "cell_type": "markdown",
   "metadata": {},
   "source": [
    "Next, let's take a look at the nutrition grades of the products being sold in France. The nutrition grade of a product is an indicator of the type of ingredients that are processed into a food product. This grade is build from a score, that in turn is computed by a [research team lead by Professor Serge Hercberg](https://world.openfoodfacts.org/nutriscore), that is based on the percentage of plant-based (organic) ingredients, and the nutritious value concerning energy(kJ), saturated fats, sugar and sodium. We are going to use it to observe how the composition of products changed over the years."
   ]
  },
  {
   "cell_type": "code",
   "execution_count": null,
   "metadata": {},
   "outputs": [],
   "source": [
    "nutrition_fr = food_facts_pd[['product_name',\n",
    "                              'created_datetime',\n",
    "                              'nutrition-score-fr_100g', \n",
    "                              'product_name', \n",
    "                              'main_category', \n",
    "                              'origins', \n",
    "                              'purchase_places', \n",
    "                              'manufacturing_places',\n",
    "                              'stores']\n",
    "                            ]\n",
    "\n",
    "nutrition_fr = nutrition_fr[nutrition_fr['nutrition-score-fr_100g'].notna()]\n",
    "nutrition_over_time = nutrition_fr.sort_values(by = 'created_datetime')\n",
    "nutrition_over_time['main_category'] = nutrition_over_time.main_category.fillna(value='Unknown')"
   ]
  },
  {
   "cell_type": "markdown",
   "metadata": {},
   "source": [
    "Meaning of the nutrition score index can be found at https://world.openfoodfacts.org/nutriscore. The main facts are the following : \n",
    "- Products are marked according to the amount of nutrients they contain [per 100 g] and given a grade between A and E (A being obviously the best mark).\n",
    "\n",
    "<img src=\"Images/nutriscore.png\" height=\"540\" width=\"336\">\n",
    "\n",
    "- If the product is solids, this is linked to a nutrition score as displayed the next table. This score itself is computed with two parts. The first one considers the energy, saturated fat, sugars and sodium. A high level in that category is considered unhealthy. The second part reflects the proportion of fruits, vegetables and nuts, fibers and proteins for which high levels are considered beneficial to the health.\n",
    "\n",
    "<center><img src=\"Images/nutriscore_table.png\" height=\"1000\" width=\"900\"></center>\n",
    "\n"
   ]
  },
  {
   "cell_type": "code",
   "execution_count": null,
   "metadata": {},
   "outputs": [],
   "source": [
    "#Assigning the grades\n",
    "nutrition_over_time[\"nutrition_grade\"] =\\\n",
    "                                    nutrition_over_time[['nutrition-score-fr_100g','main_category']].\\\n",
    "                                    apply(explore.assign_score, axis=1)\n"
   ]
  },
  {
   "cell_type": "markdown",
   "metadata": {},
   "source": [
    "#### High-nutrional products"
   ]
  },
  {
   "cell_type": "markdown",
   "metadata": {},
   "source": [
    "##### What are those products made of?"
   ]
  },
  {
   "cell_type": "code",
   "execution_count": null,
   "metadata": {},
   "outputs": [],
   "source": [
    "nutrition_over_time_reduced = explore.count_nutrition_grade(nutrition_over_time)"
   ]
  },
  {
   "cell_type": "markdown",
   "metadata": {},
   "source": [
    "This plot displays the most common categories in the list of product possessing a nutritional index"
   ]
  },
  {
   "cell_type": "code",
   "execution_count": null,
   "metadata": {},
   "outputs": [],
   "source": [
    "visualize.make_content_stacked_bar(visualize.plot_grade_content(nutrition_over_time), \n",
    "                                   'keys', \n",
    "                                   'grade', \n",
    "                                   'Percentage',\n",
    "                                   save_offline=save_plots_offline, \n",
    "                                   save_offline_title='nutrition_content')"
   ]
  },
  {
   "cell_type": "markdown",
   "metadata": {},
   "source": [
    "Observe how good nutritional products are mostly (more than 50%) plant-based and how this category as well as carbs and canned food shrink when considering less beneficial food standards. This reduction is compensated by a sharp increase in prevalence of sugary snacks and a lesser increase of meat-based products. Both seafood and dairy seem to concentrate in, respectively, the lower and higher part of the middle marks. "
   ]
  },
  {
   "cell_type": "markdown",
   "metadata": {},
   "source": [
    "##### Has there been a surge in high graded Products in the France over the past years?"
   ]
  },
  {
   "cell_type": "code",
   "execution_count": null,
   "metadata": {},
   "outputs": [],
   "source": [
    "visualize.make_grade_stacked_bar(nutrition_over_time_reduced, \n",
    "                                 'nutrition_grade', \n",
    "                                 'year', \n",
    "                                 'Count',\n",
    "                                 save_plots_offline, \n",
    "                                 'nutrition_grade')                        "
   ]
  },
  {
   "cell_type": "markdown",
   "metadata": {},
   "source": [
    "We observe that, as time passes, more products are being added with a nutritional grade, with a peak occurring during the years 2015-2016. Now, how has the composition of such products evolved:"
   ]
  },
  {
   "cell_type": "code",
   "execution_count": null,
   "metadata": {},
   "outputs": [],
   "source": [
    "visualize.make_grade_stacked_bar(nutrition_over_time_reduced, \n",
    "                                 'nutrition_grade', \n",
    "                                 'year', \n",
    "                                 'Percentage',\n",
    "                                 save_plots_offline, \n",
    "                                 'nutrition_percentage')"
   ]
  },
  {
   "cell_type": "markdown",
   "metadata": {},
   "source": [
    "We observe that the percentage of prevalence of each grade has been mostly maintained during the last six years with a barely noticeable peak in 2013 for a high nutritional grade 'A'. However, since 2013, the proportion of badly graded products has grown over the graded product portfolio."
   ]
  },
  {
   "cell_type": "markdown",
   "metadata": {},
   "source": [
    "##### Where do these product come from and where are they manufactured?"
   ]
  },
  {
   "cell_type": "code",
   "execution_count": null,
   "metadata": {},
   "outputs": [],
   "source": [
    "visualize.plot_column_composition(nutrition_fr, \n",
    "                                  'manufacturing_places', \n",
    "                                  save_offline=save_plots_offline, \n",
    "                                  save_offline_title='nutrition_manufacturing_places') "
   ]
  },
  {
   "cell_type": "markdown",
   "metadata": {},
   "source": [
    "Naturally, most of the food consumed in France is manufactured there though approximately 30% is produced somewhere else. The plot above only displays these 30%. "
   ]
  },
  {
   "cell_type": "markdown",
   "metadata": {},
   "source": [
    "##### Where are those products sold?\n",
    "Since we filtered that dataset to products sold in France, this question becomes obsolete. However observe that the products contained in the database range over a variety of supermarket and hence consumer groups."
   ]
  },
  {
   "cell_type": "code",
   "execution_count": null,
   "metadata": {},
   "outputs": [],
   "source": [
    "visualize.plot_column_composition(nutrition_fr, \n",
    "                                  'stores',\n",
    "                                  save_offline=save_plots_offline, \n",
    "                                  save_offline_title='nutrition_stores',\n",
    "                                  num_values=8)"
   ]
  },
  {
   "cell_type": "markdown",
   "metadata": {},
   "source": [
    "#### Carbon footprint of nutritionally-high graded products\n",
    "\n",
    "In this section we investigate the carbon footprint of different products and categories. Therefore, we investigate the OpenFoodFacts dataset. Common sense would suggest most nutritionally-high graded products are organic (plant, fruit, vegetables, …), thus having a small footprint due to manufacturing. Let's see what story the data has to tell...\n",
    "\n",
    "But as before, we should be careful as the dataset is biased. So we begin with examining what kind of data is present in the datasets."
   ]
  },
  {
   "cell_type": "code",
   "execution_count": null,
   "metadata": {},
   "outputs": [],
   "source": [
    "# Extracting all products containing carbon footprint information from the database\n",
    "carbon_footprints = food_facts_pd[food_facts_pd['carbon-footprint_100g'].notna()]\n",
    "display(carbon_footprints.main_category.value_counts())"
   ]
  },
  {
   "cell_type": "markdown",
   "metadata": {},
   "source": [
    "Before we begin, please note that most of the products are either sugary snacks (dominantly chocolates) or plant-based, hence only containing few ingredients."
   ]
  },
  {
   "cell_type": "markdown",
   "metadata": {},
   "source": [
    "First, we should sensibilize for the data that we are dealing with. Therefore we visualize the origin and composition of the products."
   ]
  },
  {
   "cell_type": "code",
   "execution_count": null,
   "metadata": {},
   "outputs": [],
   "source": [
    "visualize.plot_column_composition(carbon_footprints, \n",
    "                                  column_str='manufacturing_places',\n",
    "                                  save_offline = save_plots_offline, \n",
    "                                  save_offline_title = 'carbon_manufacturing_places')"
   ]
  },
  {
   "cell_type": "markdown",
   "metadata": {},
   "source": [
    "We wanted to investigate if there is a correlation between country of origin, and hence transportation distance, and the carbon footprint. However, as more than 80% the products are produced in France or neighbouring countries, the uncertainty would be too high, regarding that we only know manufacturers on a country granularity."
   ]
  },
  {
   "cell_type": "code",
   "execution_count": null,
   "metadata": {},
   "outputs": [],
   "source": [
    "visualize.plot_column_composition(carbon_footprints, \n",
    "                                  column_str='main_category',\n",
    "                                  save_offline = save_plots_offline, \n",
    "                                  save_offline_title = 'carbon_main_category')"
   ]
  },
  {
   "cell_type": "markdown",
   "metadata": {},
   "source": [
    "We see that the main categories that we have carbon footprint data of are sugary snacks (mainly plain chocolets), plant-based products and dairies. This is not surprising since they are made up of only few ingredients and therefore easy for the manufacturers to trace. "
   ]
  },
  {
   "cell_type": "markdown",
   "metadata": {},
   "source": [
    "##### Is there a general correlation between high carbon footprint and price? "
   ]
  },
  {
   "cell_type": "markdown",
   "metadata": {},
   "source": [
    "In order to investigat this question, we combine the data above with what we have obtained from the Eaternity database."
   ]
  },
  {
   "cell_type": "code",
   "execution_count": null,
   "metadata": {},
   "outputs": [],
   "source": [
    "carbon_footprints_food_facts = food_facts_pd[food_facts_pd['carbon-footprint_100g'].notna()]\\\n",
    "    [['product_name', 'main_category', 'energy_100g', 'carbon-footprint_100g', 'price_per_100g']]\n",
    "\n",
    "carbon_footprints_eaternity = eaternity_pd\\\n",
    "    [['product_name', 'main_category', 'energy_100g', 'carbon-footprint_100g', 'price_per_100g']]\n",
    "\n",
    "carbon_footprints = pd.concat([carbon_footprints_food_facts, carbon_footprints_eaternity], ignore_index=True).dropna()"
   ]
  },
  {
   "cell_type": "code",
   "execution_count": null,
   "metadata": {
    "scrolled": true
   },
   "outputs": [],
   "source": [
    "visualize.plot_column_composition(carbon_footprints, \n",
    "                                  column_str='main_category',\n",
    "                                  num_values=6,\n",
    "                                  save_offline = save_plots_offline, \n",
    "                                  save_offline_title = 'carbon_eat_main_category')"
   ]
  },
  {
   "cell_type": "markdown",
   "metadata": {},
   "source": [
    "As we see above, combining these two datasets gives us more variety in the categories, that the products come from.\n",
    "\n",
    "Next we plot them over prices, that we found from online stores of Walmart, Monoprix, Kaufland and Migros. "
   ]
  },
  {
   "cell_type": "code",
   "execution_count": null,
   "metadata": {},
   "outputs": [],
   "source": [
    "# Food calories over carbon-foot print\n",
    "visualize.plot_cluster_by_tags(carbon_footprints,\n",
    "                               save_offline = save_plots_offline, \n",
    "                               save_offline_title = 'carbon_scatter_O',\n",
    "                               plot2D_features = [\"carbon-footprint_100g\", \"price_per_100g\"],\n",
    "                               cluster=\"main_category\")"
   ]
  },
  {
   "cell_type": "code",
   "execution_count": null,
   "metadata": {},
   "outputs": [],
   "source": [
    "# Food calories over carbon-foot print\n",
    "visualize.plot_cluster_by_tags(carbon_footprints,\n",
    "                               save_offline = save_plots_offline, \n",
    "                               save_offline_title = 'carbon_energy',\n",
    "                               plot2D_features = [\"carbon-footprint_100g\", \"energy_100g\"],\n",
    "                               cluster=\"main_category\")"
   ]
  },
  {
   "cell_type": "markdown",
   "metadata": {},
   "source": [
    "**Thanks for Reading !**"
   ]
  }
 ],
 "metadata": {
  "kernelspec": {
   "display_name": "Python 3",
   "language": "python",
   "name": "python3"
  },
  "language_info": {
   "codemirror_mode": {
    "name": "ipython",
    "version": 3
   },
   "file_extension": ".py",
   "mimetype": "text/x-python",
   "name": "python",
   "nbconvert_exporter": "python",
   "pygments_lexer": "ipython3",
   "version": "3.6.5"
  },
  "toc": {
   "base_numbering": 1,
   "nav_menu": {
    "height": "465px",
    "width": "745px"
   },
   "number_sections": true,
   "sideBar": true,
   "skip_h1_title": true,
   "title_cell": "Table of Contents",
   "title_sidebar": "Contents",
   "toc_cell": true,
   "toc_position": {
    "height": "calc(100% - 180px)",
    "left": "10px",
    "top": "150px",
    "width": "165px"
   },
   "toc_section_display": true,
   "toc_window_display": false
  }
 },
 "nbformat": 4,
 "nbformat_minor": 2
}
