{
 "cells": [
  {
   "cell_type": "code",
   "execution_count": null,
   "metadata": {},
   "outputs": [],
   "source": [
    "import pandas as pd\n",
    "import numpy as np\n",
    "import requests\n",
    "from urllib.parse import urljoin\n",
    "from bs4 import BeautifulSoup\n",
    "\n",
    "import json\n",
    "\n",
    "from time import sleep\n",
    "\n",
    "import web_crawler.scraper_walmart as walmart\n",
    "\n",
    "# Our generated code\n",
    "import os\n",
    "import sys\n",
    "nb_dir = os.path.split(os.getcwd())[0]\n",
    "if nb_dir not in sys.path:\n",
    "    sys.path.append(nb_dir)\n",
    "    \n",
    "%load_ext autoreload\n",
    "%autoreload 2"
   ]
  },
  {
   "cell_type": "code",
   "execution_count": null,
   "metadata": {},
   "outputs": [],
   "source": [
    "products = pd.read_pickle(\"./data/products_pd.pickle\")\n",
    "\n",
    "products['price_dollar'] = np.nan\n",
    "\n"
   ]
  },
  {
   "cell_type": "markdown",
   "metadata": {},
   "source": [
    "View the products from Walmart stores"
   ]
  },
  {
   "cell_type": "code",
   "execution_count": null,
   "metadata": {},
   "outputs": [],
   "source": [
    "products.loc[products[\"stores\"].apply({\"Migros\"}.issubset  {\"Monoprix\"}.issubset |\n",
    "                                      {\"Coop\"}.issubset |\n",
    "                                      {\"Cora\"}.issubset)]"
   ]
  },
  {
   "cell_type": "markdown",
   "metadata": {},
   "source": [
    "Request products details from Walmart Open API"
   ]
  },
  {
   "cell_type": "code",
   "execution_count": null,
   "metadata": {},
   "outputs": [],
   "source": [
    "products.product_name = products.product_name.fillna(\"\")\n",
    "products.brands = products.brands.fillna(\"\")\n",
    "\n",
    "scraped_products = []\n",
    "\n",
    "with open('walmart_products.json', mode='w', encoding='utf-8') as f:\n",
    "    json.dump([], f)\n",
    "\n",
    "    count = 0\n",
    "    for i, row in products.iterrows():\n",
    "        if \"Walmart\" in row.stores:\n",
    "            count = count+1\n",
    "            query = row['product_name'] + row[\"brands\"]\n",
    "            print(query.title())\n",
    "            try:\n",
    "                products_dicts = walmart.search(query)\n",
    "            except Exception:\n",
    "                continue\n",
    "\n",
    "            for product_dict in products_dicts:\n",
    "                item = {'code': row.name, \n",
    "                        'product_name': row.product_name,\n",
    "                        'store_product_name': product_dict.get('name', \"\"),\n",
    "                        'store_price': product_dict.get('salePrice', \"\"),\n",
    "                        'store_currency': 'USD',\n",
    "                        'store_category_path' : product_dict.get('categoryPath', \"\")\n",
    "                        }\n",
    "                scraped_products.append(item)\n",
    "                \n",
    "            # Cache intermediate results\n",
    "            if not count%100:\n",
    "                json.dump(scraped_products, f)\n",
    "            \n",
    "            # We don't wanna get banned from the server\n",
    "            sleep(0.1)\n",
    "\n",
    "    json.dump(scraped_products, f)"
   ]
  },
  {
   "cell_type": "code",
   "execution_count": null,
   "metadata": {},
   "outputs": [],
   "source": [
    "with open('walmart_products.json', mode='w', encoding='utf-8') as f:\n",
    "    json.dump(scraped_products, f)"
   ]
  },
  {
   "cell_type": "code",
   "execution_count": null,
   "metadata": {},
   "outputs": [],
   "source": [
    "count"
   ]
  },
  {
   "cell_type": "code",
   "execution_count": null,
   "metadata": {},
   "outputs": [],
   "source": [
    "products_dicts[0].keys()"
   ]
  },
  {
   "cell_type": "code",
   "execution_count": null,
   "metadata": {},
   "outputs": [],
   "source": [
    "products_dicts[0]['categoryPath']"
   ]
  },
  {
   "cell_type": "code",
   "execution_count": null,
   "metadata": {},
   "outputs": [],
   "source": []
  }
 ],
 "metadata": {
  "kernelspec": {
   "display_name": "Python 3",
   "language": "python",
   "name": "python3"
  },
  "language_info": {
   "codemirror_mode": {
    "name": "ipython",
    "version": 3
   },
   "file_extension": ".py",
   "mimetype": "text/x-python",
   "name": "python",
   "nbconvert_exporter": "python",
   "pygments_lexer": "ipython3",
   "version": "3.6.5"
  }
 },
 "nbformat": 4,
 "nbformat_minor": 2
}
