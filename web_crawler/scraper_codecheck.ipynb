{
 "cells": [
  {
   "cell_type": "code",
   "execution_count": 3,
   "metadata": {},
   "outputs": [],
   "source": [
    "from selenium import webdriver\n",
    "from bs4 import BeautifulSoup\n",
    "import random\n",
    "import requests\n"
   ]
  },
  {
   "cell_type": "code",
   "execution_count": 4,
   "metadata": {},
   "outputs": [],
   "source": [
    "#BASE_URL = \"https://www.coop.ch/de/einkaufen.search.html#query=\"\n",
    "\n",
    "BASE_URL = \"https://www.codecheck.info/essen/backwaren/brot/ean_7610169013310/id_374632/Migros_Engagement_Bio_Pumpernickel.pro\"\n"
   ]
  },
  {
   "cell_type": "code",
   "execution_count": 5,
   "metadata": {},
   "outputs": [],
   "source": [
    "class CodecheckScrapper:\n",
    "    def __init__(self):\n",
    "        # create a new Firefox session\n",
    "        self.driver = webdriver.Firefox(executable_path='/home/kingkolibri/Programs/geckodriver')\n",
    "        self.driver.implicitly_wait(random.randint(1, 10))\n",
    "    \n",
    "    def search(self, query):\n",
    "        \"\"\"\n",
    "        Navigates to article over search results page and extracts category if available.\n",
    "        :param query: string comprising search terms\n",
    "        :return: dict of product categorie \n",
    "        \"\"\"\n",
    "        \n",
    "        self.driver.get(BASE_URL + query + '/' + query)"
   ]
  },
  {
   "cell_type": "code",
   "execution_count": 5,
   "metadata": {},
   "outputs": [],
   "source": [
    "r = requests.get(BASE_URL)\n"
   ]
  },
  {
   "cell_type": "code",
   "execution_count": 6,
   "metadata": {},
   "outputs": [],
   "source": [
    "page_body = r.text"
   ]
  },
  {
   "cell_type": "code",
   "execution_count": 7,
   "metadata": {},
   "outputs": [],
   "source": [
    "soup = BeautifulSoup(page_body, 'html.parser')"
   ]
  },
  {
   "cell_type": "code",
   "execution_count": 8,
   "metadata": {},
   "outputs": [
    {
     "data": {
      "text/plain": [
       "'Brot'"
      ]
     },
     "execution_count": 8,
     "metadata": {},
     "output_type": "execute_result"
    }
   ],
   "source": [
    "product_item = soup.select('div.product-info-item')[0]\n",
    "ref = str(product_item.find_all('a'))\n",
    "ref[ref.find(\">\")+1:-5]\n",
    "\n",
    "\n"
   ]
  }
 ],
 "metadata": {
  "kernelspec": {
   "display_name": "Python 3",
   "language": "python",
   "name": "python3"
  },
  "language_info": {
   "codemirror_mode": {
    "name": "ipython",
    "version": 3
   },
   "file_extension": ".py",
   "mimetype": "text/x-python",
   "name": "python",
   "nbconvert_exporter": "python",
   "pygments_lexer": "ipython3",
   "version": "3.6.5"
  }
 },
 "nbformat": 4,
 "nbformat_minor": 2
}
