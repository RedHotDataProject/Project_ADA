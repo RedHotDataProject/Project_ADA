{
 "cells": [
  {
   "cell_type": "code",
   "execution_count": null,
   "metadata": {},
   "outputs": [],
   "source": [
    "import pandas as pd\n",
    "import numpy as np\n",
    "import requests\n",
    "from urllib.parse import urljoin\n",
    "from bs4 import BeautifulSoup\n",
    "\n",
    "import json\n",
    "\n",
    "from time import sleep\n",
    "\n",
    "from scraper_codecheck import CodecheckScrapper\n",
    "\n",
    "# Our generated code\n",
    "import os\n",
    "import sys\n",
    "nb_dir = os.path.split(os.getcwd())[0]\n",
    "if nb_dir not in sys.path:\n",
    "    sys.path.append(nb_dir)\n",
    "\n",
    "from libs import cleansing as cleanse\n",
    "%load_ext autoreload\n",
    "%autoreload 2\n"
   ]
  },
  {
   "cell_type": "markdown",
   "metadata": {},
   "source": [
    "# Load data"
   ]
  },
  {
   "cell_type": "code",
   "execution_count": null,
   "metadata": {},
   "outputs": [],
   "source": [
    "carbon_footprint_csv = \"./data/carbon_footprint.csv\"\n",
    "carbon_footprint_pd = pd.read_csv(carbon_footprint_csv,\n",
    "                            delimiter=\",\")\n",
    "carbon_footprint_pd['category'] = 0\n",
    "carbon_footprint_pd['parent_category']=0"
   ]
  },
  {
   "cell_type": "markdown",
   "metadata": {},
   "source": [
    "# Scrap from Codecheck website"
   ]
  },
  {
   "cell_type": "code",
   "execution_count": null,
   "metadata": {},
   "outputs": [],
   "source": [
    "CodecheckScrapper()\n",
    "for i in range(carbon_footprint_pd.shape[0]):\n",
    "    category,parent_category = CodecheckScrapper.search(query=carbon_footprint_pd.ID.iloc[i])\n",
    "    carbon_footprint_pd.category.iloc[i] = category\n",
    "    carbon_footprint_pd.parent_category.iloc[i] = parent_category   "
   ]
  },
  {
   "cell_type": "code",
   "execution_count": null,
   "metadata": {},
   "outputs": [],
   "source": [
    "carbon_footprint_pd"
   ]
  },
  {
   "cell_type": "code",
   "execution_count": null,
   "metadata": {},
   "outputs": [],
   "source": [
    "from translate import Translator"
   ]
  },
  {
   "cell_type": "code",
   "execution_count": null,
   "metadata": {},
   "outputs": [],
   "source": [
    "#occ_parent_categories = carbon_footprint_pd.parent_category.value_counts()\n",
    "#print(list(occ_parent_categories.index))"
   ]
  },
  {
   "cell_type": "code",
   "execution_count": null,
   "metadata": {},
   "outputs": [],
   "source": [
    "translator = Translator(from_lang=\"german\",to_lang=\"english\")\n",
    "trans_par_category = []\n",
    "for i in range(len(occ_parent_categories)):\n",
    "    element = list(occ_parent_categories.index)[i].replace('_',' ')\n",
    "    print(element)\n",
    "    element_translated = translator.translate(element)\n",
    "    trans_par_category.append(element_translated)"
   ]
  },
  {
   "cell_type": "code",
   "execution_count": null,
   "metadata": {},
   "outputs": [],
   "source": [
    "df = pd.DataFrame()\n",
    "df['parent_category']=list(occ_parent_categories.index)\n",
    "df['category_en']=trans_par_category"
   ]
  },
  {
   "cell_type": "code",
   "execution_count": null,
   "metadata": {},
   "outputs": [],
   "source": [
    "carbon_footprint_pd = pd.merge(carbon_footprint_pd,df,on='parent_category')\n",
    "carbon_footprint_pd"
   ]
  },
  {
   "cell_type": "code",
   "execution_count": null,
   "metadata": {},
   "outputs": [],
   "source": [
    "# Write to CSV file\n",
    "categories_data_file_name = \"../data/carbon_footprint_categories.csv\"\n",
    "carbon_footprint_pd.to_csv(categories_data_file_name, sep=',', encoding='utf-8')"
   ]
  }
 ],
 "metadata": {
  "kernelspec": {
   "display_name": "Python 3",
   "language": "python",
   "name": "python3"
  },
  "language_info": {
   "codemirror_mode": {
    "name": "ipython",
    "version": 3
   },
   "file_extension": ".py",
   "mimetype": "text/x-python",
   "name": "python",
   "nbconvert_exporter": "python",
   "pygments_lexer": "ipython3",
   "version": "3.6.5"
  }
 },
 "nbformat": 4,
 "nbformat_minor": 2
}
