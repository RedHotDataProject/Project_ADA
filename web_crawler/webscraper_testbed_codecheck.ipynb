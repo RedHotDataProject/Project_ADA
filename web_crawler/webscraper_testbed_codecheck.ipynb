{
 "cells": [
  {
   "cell_type": "code",
   "execution_count": 1,
   "metadata": {},
   "outputs": [],
   "source": [
    "import pandas as pd\n",
    "import numpy as np\n",
    "import requests\n",
    "from urllib.parse import urljoin\n",
    "from bs4 import BeautifulSoup\n",
    "\n",
    "import json\n",
    "\n",
    "from time import sleep\n",
    "\n",
    "from scraper_codecheck import CodecheckScrapper\n",
    "\n",
    "# Our generated code\n",
    "import os\n",
    "import sys\n",
    "nb_dir = os.path.split(os.getcwd())[0]\n",
    "if nb_dir not in sys.path:\n",
    "    sys.path.append(nb_dir)\n",
    "    \n",
    "%load_ext autoreload\n",
    "%autoreload 2"
   ]
  },
  {
   "cell_type": "markdown",
   "metadata": {},
   "source": [
    "# Load data"
   ]
  },
  {
   "cell_type": "code",
   "execution_count": 2,
   "metadata": {},
   "outputs": [],
   "source": [
    "carbon_footprint_csv = \"./data/carbon_footprint.csv\"\n",
    "carbon_footprint_pd = pd.read_csv(carbon_footprint_csv,\n",
    "                            delimiter=\",\")\n",
    "carbon_footprint_pd['category'] = 0"
   ]
  },
  {
   "cell_type": "markdown",
   "metadata": {},
   "source": [
    "# Scrap from Codecheck website"
   ]
  },
  {
   "cell_type": "code",
   "execution_count": 3,
   "metadata": {},
   "outputs": [
    {
     "name": "stdout",
     "output_type": "stream",
     "text": [
      "K Classic - Junger Gemüsemais\n"
     ]
    },
    {
     "name": "stderr",
     "output_type": "stream",
     "text": [
      "/Users/ninatubau/anaconda3/lib/python3.6/site-packages/pandas/core/indexing.py:189: SettingWithCopyWarning: \n",
      "A value is trying to be set on a copy of a slice from a DataFrame\n",
      "\n",
      "See the caveats in the documentation: http://pandas.pydata.org/pandas-docs/stable/indexing.html#indexing-view-versus-copy\n",
      "  self._setitem_with_indexer(indexer, value)\n"
     ]
    },
    {
     "name": "stdout",
     "output_type": "stream",
     "text": [
      "ja! Gemüsemais\n",
      "Aroy-D - Kokosnussmilch\n",
      "Kelloggs Cornflakes Die Originalen 375 g\n",
      "Tortilla Chips Meersalz\n",
      "Meienburg Sonnenblumenkerne\n",
      "Migros Engagement Bio Pumpernickel\n",
      "Naturkind - Pumpernickel\n",
      "Sera Ajvar\n",
      "Lieken Urkorn – Kleines Kerni mit Sonnenblumenkernen\n",
      "Harry - Das volle Korn\n",
      "Bautz'ner - Senf mittelscharf\n",
      "Berioo Bio Kakao-Nibs\n",
      "Edeka Ackergold Mehligkochend\n",
      "Bio Kartoffeln festkochend\n",
      "Bamboo Garden Asia Kokosmilch fettreduziert\n",
      "Çekirdeko Salzige Sonnenblumenkerne\n",
      "enerBio Dinkel-Vollkornbrot\n",
      "Diadem - Raffinade Zucker\n",
      "Grafschafter – Goldsaft Zuckerrübensirup\n",
      "Bio Zucker Feinkristall\n",
      "Rewe Bio Pumpernickel\n",
      "Em-Eukal Wildkirsch Kinder Hustenbonbons 75 g\n",
      "Botato Kartoffel Wedges\n",
      "Gelvite\n",
      "Märsch Blaumohn\n",
      "Südzucker – Gelierzucker 2+1\n",
      "Pfanni Kartoffel Püree besonders locker 3 x 80 g\n",
      "Ritter Sport Halbbitter-Schokolade\n",
      "Harry Dinkel Vollkorn\n",
      "Rewe Bio – Pfeffer, schwarz, ganz\n",
      "GOLD PUDER - Weich-Weizen Grieß\n",
      "ALB-GOLD Fit 'n' Free Bio Buchweizen Pasta glutenfrei,\n",
      "Leinsamen\n",
      "Weetabix\n",
      "Thomy - Delikatess-Senf mittelscharf\n",
      "Kathi Weizenmehl - Type 405\n",
      "tic tac Fresh Mint 100er Box 49 g\n",
      "Korn Mühle - Roggenkraftbrot\n",
      "Vollkorn Zahlennudeln\n",
      "ALNATURA Dinkel Drink Natur\n",
      "Kokosmilch\n",
      "Chia-Samen\n",
      "Barilla Nudeln Farfalle 500 g\n",
      "Kornmühle Schokochips\n",
      "Mauritius - Schoko & Gelee\n",
      "Alnatura Ahornsirup Grad C\n",
      "EDEKA Gelee-Bananen\n",
      "SUCHARD Kakao Express\n",
      "Kartoffelpüree\n",
      "Classic Ayurveda - Bio Kreuzkümmel ganz\n",
      "ja! - 6 Baguette-Brötchen\n",
      "TERRASUISSE \n",
      "Harry 1688 Unser Mildes\n",
      "Lorenz Saltletts Sticks\n",
      "Agrarfrost Germany Knusper Frites\n",
      "Rapunzel - Polenta-Maisgrieß\n",
      "Billy Tiger Maissnacks\n",
      "Mondamin Pfannkuchen Teig-Mix  198 g\n",
      "GOLDEN TOAST Meister Brötchen, 400 g\n",
      "LIEKEN URKORN Bauernmild Brot, 500 g\n",
      "Korn Mühle Weizenmischbrot\n",
      "Gut & Günstig Milde Bauern Schnitte\n",
      "dm bio Soja Reis Drink Natur\n",
      "Edeka Bio – Spaghetti Vollkorn\n",
      "Backofen Rösti Ecken - aus Qualitätskartoffeln\n",
      "M-Budget Pommes Frites 3kg\n",
      "Shan´ shi - Mie Eiernudeln\n",
      "BioBio - Roggenbrötchen\n",
      "Hitschler Bunte Schnüre\n",
      "Migros Bio Bauernmehl\n",
      "Chiabrot\n",
      "Coppenrath & Wiese Mehrkornbrötchen\n",
      "Grafschalter Megaburger Brötchen Classic\n",
      "Gut & Günstig - Hamburger Buns mit Sesam\n",
      "Zwergenwiese Streich Natur\n",
      "Gut & Günstig Hamburger Buns\n",
      "Gut & Günstig - Laugenbrezeln zum Aufbacken\n",
      "Paprika-Chili Pastete\n",
      "K Bio - Hafermalzbrötchen\n",
      "Migros Frischback-Semmeli\n",
      "Couscous\n",
      "Giovanni Rana Kartoffel-Gnocchi\n",
      "Honey  Wheat - Weizenkost Mit Honig\n",
      "Chio Mikrowellen Popcorn salzig\n",
      "Ziebelringe\n",
      "Migros Bio Chips Nature\n",
      "Süsskartoffelchips mit Rosmarin\n",
      "Bananeira Bio Oregano Gerebelt\n",
      "Dr.Oetker Muffins 370 g\n",
      "La Comtesse Marshmallow Fluff - Vanilla\n",
      "REWE Laugenstangen zum Selbstbacke\n",
      "Allos - Amaranth Burger Classic\n"
     ]
    },
    {
     "ename": "IndexError",
     "evalue": "list index out of range",
     "output_type": "error",
     "traceback": [
      "\u001b[0;31m---------------------------------------------------------------------------\u001b[0m",
      "\u001b[0;31mIndexError\u001b[0m                                Traceback (most recent call last)",
      "\u001b[0;32m<ipython-input-3-4bad314d28b9>\u001b[0m in \u001b[0;36m<module>\u001b[0;34m()\u001b[0m\n\u001b[1;32m      3\u001b[0m \u001b[0;31m#carbon_footprint_pd.Title\u001b[0m\u001b[0;34m\u001b[0m\u001b[0;34m\u001b[0m\u001b[0m\n\u001b[1;32m      4\u001b[0m     \u001b[0mprint\u001b[0m\u001b[0;34m(\u001b[0m\u001b[0mcarbon_footprint_pd\u001b[0m\u001b[0;34m.\u001b[0m\u001b[0mTitle\u001b[0m\u001b[0;34m.\u001b[0m\u001b[0miloc\u001b[0m\u001b[0;34m[\u001b[0m\u001b[0mi\u001b[0m\u001b[0;34m]\u001b[0m\u001b[0;34m)\u001b[0m\u001b[0;34m\u001b[0m\u001b[0m\n\u001b[0;32m----> 5\u001b[0;31m     \u001b[0mcategory\u001b[0m \u001b[0;34m=\u001b[0m \u001b[0mCodecheckScrapper\u001b[0m\u001b[0;34m.\u001b[0m\u001b[0msearch\u001b[0m\u001b[0;34m(\u001b[0m\u001b[0mquery\u001b[0m\u001b[0;34m=\u001b[0m\u001b[0mcarbon_footprint_pd\u001b[0m\u001b[0;34m.\u001b[0m\u001b[0mTitle\u001b[0m\u001b[0;34m.\u001b[0m\u001b[0miloc\u001b[0m\u001b[0;34m[\u001b[0m\u001b[0mi\u001b[0m\u001b[0;34m]\u001b[0m\u001b[0;34m)\u001b[0m\u001b[0;34m\u001b[0m\u001b[0m\n\u001b[0m\u001b[1;32m      6\u001b[0m     \u001b[0mcarbon_footprint_pd\u001b[0m\u001b[0;34m.\u001b[0m\u001b[0mcategory\u001b[0m\u001b[0;34m.\u001b[0m\u001b[0miloc\u001b[0m\u001b[0;34m[\u001b[0m\u001b[0mi\u001b[0m\u001b[0;34m]\u001b[0m \u001b[0;34m=\u001b[0m \u001b[0mcategory\u001b[0m\u001b[0;34m\u001b[0m\u001b[0m\n",
      "\u001b[0;32m~/Desktop/EPFL_courses/ADA/Project_ADA/web_crawler/scraper_codecheck.py\u001b[0m in \u001b[0;36msearch\u001b[0;34m(query)\u001b[0m\n\u001b[1;32m     29\u001b[0m             \u001b[0mproduct_item\u001b[0m \u001b[0;34m=\u001b[0m \u001b[0msoup\u001b[0m\u001b[0;34m.\u001b[0m\u001b[0mselect\u001b[0m\u001b[0;34m(\u001b[0m\u001b[0;34m'div.cat'\u001b[0m\u001b[0;34m)\u001b[0m\u001b[0;34m\u001b[0m\u001b[0m\n\u001b[1;32m     30\u001b[0m         \u001b[0;31m#get the cateegory\u001b[0m\u001b[0;34m\u001b[0m\u001b[0;34m\u001b[0m\u001b[0m\n\u001b[0;32m---> 31\u001b[0;31m         \u001b[0mproduct_item\u001b[0m \u001b[0;34m=\u001b[0m \u001b[0mproduct_item\u001b[0m\u001b[0;34m[\u001b[0m\u001b[0;36m0\u001b[0m\u001b[0;34m]\u001b[0m\u001b[0;34m\u001b[0m\u001b[0m\n\u001b[0m\u001b[1;32m     32\u001b[0m         \u001b[0mcategory\u001b[0m \u001b[0;34m=\u001b[0m \u001b[0mstr\u001b[0m\u001b[0;34m(\u001b[0m\u001b[0mproduct_item\u001b[0m\u001b[0;34m.\u001b[0m\u001b[0mfind_all\u001b[0m\u001b[0;34m(\u001b[0m\u001b[0;34m'a'\u001b[0m\u001b[0;34m)\u001b[0m\u001b[0;34m)\u001b[0m\u001b[0;34m\u001b[0m\u001b[0m\n\u001b[1;32m     33\u001b[0m         \u001b[0mcategory\u001b[0m \u001b[0;34m=\u001b[0m \u001b[0mcategory\u001b[0m\u001b[0;34m[\u001b[0m\u001b[0mcategory\u001b[0m\u001b[0;34m.\u001b[0m\u001b[0mfind\u001b[0m\u001b[0;34m(\u001b[0m\u001b[0;34m\">\"\u001b[0m\u001b[0;34m)\u001b[0m\u001b[0;34m+\u001b[0m\u001b[0;36m1\u001b[0m\u001b[0;34m:\u001b[0m\u001b[0;34m-\u001b[0m\u001b[0;36m5\u001b[0m\u001b[0;34m]\u001b[0m\u001b[0;34m\u001b[0m\u001b[0m\n",
      "\u001b[0;31mIndexError\u001b[0m: list index out of range"
     ]
    }
   ],
   "source": [
    "CodecheckScrapper()\n",
    "for i in range(carbon_footprint_pd.shape[0]):\n",
    "#carbon_footprint_pd.Title\n",
    "    print(carbon_footprint_pd.Title.iloc[i])\n",
    "    category = CodecheckScrapper.search(query=carbon_footprint_pd.Title.iloc[i])\n",
    "    carbon_footprint_pd.category.iloc[i] = category\n"
   ]
  },
  {
   "cell_type": "code",
   "execution_count": 17,
   "metadata": {},
   "outputs": [],
   "source": [
    "from selenium import webdriver\n",
    "from bs4 import BeautifulSoup\n",
    "import random\n",
    "import requests\n"
   ]
  },
  {
   "cell_type": "code",
   "execution_count": 37,
   "metadata": {},
   "outputs": [],
   "source": [
    "#BASE_URL = \"https://www.coop.ch/de/einkaufen.search.html#query=\"\n",
    "\n",
    "BASE_URL = \"https://www.codecheck.info/product.search?q=\""
   ]
  },
  {
   "cell_type": "code",
   "execution_count": 38,
   "metadata": {},
   "outputs": [],
   "source": [
    "class CodecheckScrapper:\n",
    "    def __init__(self):\n",
    "        # create a new Fiefox  session\n",
    "        self.driver = webdriver.Firefox(executable_path='/Users/ninatubau/Desktop/geckodriver')\n",
    "        self.driver.implicitly_wait(random.randint(1, 10))\n",
    "    \n",
    "    def search(self, query):\n",
    "        \"\"\"\n",
    "        Navigates to article over search results page and extracts category if available.\n",
    "        :param query: string comprising search terms\n",
    "        :return: dict of product categorie \n",
    "        \"\"\"\n",
    "        self.driver.get(BASE_URL + query)\n",
    "        \n",
    "    \n",
    "\n",
    "        # Hand the page source to Beautiful Soup\n",
    "        soup = BeautifulSoup(self.driver.page_source, 'lxml')\n",
    "        product_item = soup.select('div.product-info-item')[0]\n",
    "        ref = str(product_item.find_all('a'))\n",
    "        ref[ref.find(\">\")+1:-5]\n",
    "\n",
    "        # Extract requested data\n",
    "        product = {}\n",
    "        product['categorie'] = ref   \n",
    "        return product\n"
   ]
  },
  {
   "cell_type": "code",
   "execution_count": 39,
   "metadata": {},
   "outputs": [
    {
     "ename": "TypeError",
     "evalue": "search() missing 1 required positional argument: 'self'",
     "output_type": "error",
     "traceback": [
      "\u001b[0;31m---------------------------------------------------------------------------\u001b[0m",
      "\u001b[0;31mTypeError\u001b[0m                                 Traceback (most recent call last)",
      "\u001b[0;32m<ipython-input-39-ec1d9ba16c26>\u001b[0m in \u001b[0;36m<module>\u001b[0;34m()\u001b[0m\n\u001b[1;32m      1\u001b[0m \u001b[0mCodecheckScrapper\u001b[0m\u001b[0;34m(\u001b[0m\u001b[0;34m)\u001b[0m\u001b[0;34m\u001b[0m\u001b[0m\n\u001b[0;32m----> 2\u001b[0;31m \u001b[0mCodecheckScrapper\u001b[0m\u001b[0;34m.\u001b[0m\u001b[0msearch\u001b[0m\u001b[0;34m(\u001b[0m\u001b[0mquery\u001b[0m\u001b[0;34m=\u001b[0m\u001b[0;34m'Tortilla Chips Meersalz'\u001b[0m\u001b[0;34m)\u001b[0m\u001b[0;34m\u001b[0m\u001b[0m\n\u001b[0m",
      "\u001b[0;31mTypeError\u001b[0m: search() missing 1 required positional argument: 'self'"
     ]
    }
   ],
   "source": [
    "CodecheckScrapper()\n",
    "CodecheckScrapper.search(query='Tortilla Chips Meersalz')"
   ]
  },
  {
   "cell_type": "code",
   "execution_count": 5,
   "metadata": {},
   "outputs": [],
   "source": [
    "r = requests.get(BASE_URL)\n"
   ]
  },
  {
   "cell_type": "code",
   "execution_count": 6,
   "metadata": {},
   "outputs": [],
   "source": [
    "page_body = r.text"
   ]
  },
  {
   "cell_type": "code",
   "execution_count": 7,
   "metadata": {},
   "outputs": [],
   "source": [
    "soup = BeautifulSoup(page_body, 'html.parser')"
   ]
  },
  {
   "cell_type": "code",
   "execution_count": 8,
   "metadata": {},
   "outputs": [
    {
     "data": {
      "text/plain": [
       "'Brot'"
      ]
     },
     "execution_count": 8,
     "metadata": {},
     "output_type": "execute_result"
    }
   ],
   "source": [
    "product_item = soup.select('div.product-info-item')[0]\n",
    "ref = str(product_item.find_all('a'))\n",
    "ref[ref.find(\">\")+1:-5]\n",
    "\n",
    "\n"
   ]
  }
 ],
 "metadata": {
  "kernelspec": {
   "display_name": "Python 3",
   "language": "python",
   "name": "python3"
  },
  "language_info": {
   "codemirror_mode": {
    "name": "ipython",
    "version": 3
   },
   "file_extension": ".py",
   "mimetype": "text/x-python",
   "name": "python",
   "nbconvert_exporter": "python",
   "pygments_lexer": "ipython3",
   "version": "3.6.5"
  }
 },
 "nbformat": 4,
 "nbformat_minor": 2
}
