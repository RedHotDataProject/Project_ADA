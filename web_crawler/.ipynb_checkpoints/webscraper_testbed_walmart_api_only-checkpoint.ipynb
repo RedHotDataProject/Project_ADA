{
 "cells": [
  {
   "cell_type": "code",
   "execution_count": null,
   "metadata": {},
   "outputs": [],
   "source": [
    "import pandas as pd\n",
    "import numpy as np\n",
    "import requests\n",
    "from urllib.parse import urljoin\n",
    "from bs4 import BeautifulSoup\n",
    "\n",
    "import json\n",
    "\n",
    "from time import sleep\n",
    "\n",
    "import scraper_walmart as walmart\n",
    "\n",
    "# Our generated code\n",
    "import os\n",
    "import sys\n",
    "nb_dir = os.path.split(os.getcwd())[0]\n",
    "if nb_dir not in sys.path:\n",
    "    sys.path.append(nb_dir)\n",
    "    \n",
    "%load_ext autoreload\n",
    "%autoreload 2"
   ]
  },
  {
   "cell_type": "code",
   "execution_count": null,
   "metadata": {},
   "outputs": [],
   "source": [
    "products = pd.read_pickle(\"./products_pd.pickle\")\n",
    "\n",
    "products['price_dollar'] = np.nan\n",
    "\n"
   ]
  },
  {
   "cell_type": "markdown",
   "metadata": {},
   "source": [
    "View the products from Walmart stores"
   ]
  },
  {
   "cell_type": "markdown",
   "metadata": {},
   "source": [
    "Request products details from Walmart Open API"
   ]
  },
  {
   "cell_type": "code",
   "execution_count": null,
   "metadata": {},
   "outputs": [],
   "source": [
    "products.product_name = products.product_name.fillna(\"\")\n",
    "products.brands = products.brands.fillna(\"\")\n",
    "\n",
    "scraped_products = []\n",
    "\n",
    "with open('walmart_products.json', mode='w', encoding='utf-8') as f:\n",
    "\n",
    "    count = 0\n",
    "    for i, row in products.iterrows():\n",
    "        if \"Walmart\" in row.stores:\n",
    "            count = count+1\n",
    "            query = row['product_name'] + row[\"brands\"]\n",
    "            print(query.title())\n",
    "            try:\n",
    "                products_dicts = walmart.search(query)\n",
    "            except Exception:\n",
    "                continue\n",
    "\n",
    "            for product_dict in products_dicts:\n",
    "                item = {'code': row.name, \n",
    "                        'product_name': row.product_name,\n",
    "                        'store_product_name': product_dict.get('name', \"\"),\n",
    "                        'store_price': product_dict.get('salePrice', \"\"),\n",
    "                        'store_currency': 'USD',\n",
    "                        'store_category_path' : product_dict.get('categoryPath', \"\")\n",
    "                        }\n",
    "                scraped_products.append(item)\n",
    "                \n",
    "            # Be nice to te server\n",
    "            timer.sleep(0.1)\n",
    "\n",
    "    json.dump(scraped_products, f)"
   ]
  },
  {
   "cell_type": "code",
   "execution_count": null,
   "metadata": {},
   "outputs": [],
   "source": [
    "with open('walmart_products.json', mode='w', encoding='utf-8') as f:\n",
    "    json.dump(scraped_products, f)"
   ]
  },
  {
   "cell_type": "markdown",
   "metadata": {},
   "source": [
    "# Cleansing"
   ]
  },
  {
   "cell_type": "code",
   "execution_count": null,
   "metadata": {},
   "outputs": [],
   "source": [
    "from fuzzyset import FuzzySet\n",
    "\n",
    "def compute_match_score(product_name_list, store_name_list):\n",
    "    \n",
    "    if product_name_list and store_name_list:\n",
    "        name_fs = FuzzySet(store_name_list)\n",
    "        name_score = [0 if name_fs.get(i)==None else name_fs.get(i)[0][0] for i in product_name_list]\n",
    "        return sum(name_score) / len(name_score)  \n",
    "    else:\n",
    "        return 0"
   ]
  },
  {
   "cell_type": "code",
   "execution_count": null,
   "metadata": {},
   "outputs": [],
   "source": [
    "# Import crawled data\n",
    "with open('walmart_products.json', mode='r', encoding='utf-8') as f:\n",
    "    data = json.load(f)\n",
    "    \n",
    "walmart_products = pd.DataFrame.from_dict(data)\n",
    "\n",
    "walmart_products = walmart_products.drop_duplicates(subset='product_name')\n",
    "walmart_products"
   ]
  },
  {
   "cell_type": "code",
   "execution_count": null,
   "metadata": {},
   "outputs": [],
   "source": [
    "# Compute match score\n",
    "walmart_products['match_score'] = walmart_products.apply(lambda row: compute_match_score(row.product_name.lower().split(),\n",
    "                                                       row.store_product_name.lower().replace('-', ' ').split()), \n",
    "                       axis=1)\n",
    "walmart_products"
   ]
  }
 ],
 "metadata": {
  "kernelspec": {
   "display_name": "Python 3",
   "language": "python",
   "name": "python3"
  },
  "language_info": {
   "codemirror_mode": {
    "name": "ipython",
    "version": 3
   },
   "file_extension": ".py",
   "mimetype": "text/x-python",
   "name": "python",
   "nbconvert_exporter": "python",
   "pygments_lexer": "ipython3",
   "version": "3.6.5"
  },
  "toc": {
   "base_numbering": 1,
   "nav_menu": {},
   "number_sections": true,
   "sideBar": true,
   "skip_h1_title": false,
   "title_cell": "Table of Contents",
   "title_sidebar": "Contents",
   "toc_cell": false,
   "toc_position": {},
   "toc_section_display": true,
   "toc_window_display": false
  }
 },
 "nbformat": 4,
 "nbformat_minor": 2
}
