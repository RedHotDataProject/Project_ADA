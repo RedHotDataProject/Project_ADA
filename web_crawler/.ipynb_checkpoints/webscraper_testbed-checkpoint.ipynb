{
 "cells": [
  {
   "cell_type": "code",
   "execution_count": null,
   "metadata": {},
   "outputs": [],
   "source": [
    "import json\n",
    "\n",
    "from time import sleep\n",
    "from random import randint\n",
    "\n",
    "import pandas as pd\n",
    "\n",
    "# Our generated code\n",
    "import os\n",
    "import sys\n",
    "nb_dir = os.path.split(os.getcwd())[0]\n",
    "if nb_dir not in sys.path:\n",
    "    sys.path.append(nb_dir)\n",
    "    \n",
    "%load_ext autoreload\n",
    "%autoreload 2"
   ]
  },
  {
   "cell_type": "code",
   "execution_count": null,
   "metadata": {},
   "outputs": [],
   "source": [
    "from web_crawler.scraper_migros import MigrosScraper\n",
    "from web_crawler.scraper_cora import CoraScraper\n",
    "from web_crawler.scraper_coop import CoopScraper"
   ]
  },
  {
   "cell_type": "code",
   "execution_count": null,
   "metadata": {},
   "outputs": [],
   "source": [
    "products = pd.read_pickle(\"./products_pd.pickle\")"
   ]
  },
  {
   "cell_type": "code",
   "execution_count": null,
   "metadata": {},
   "outputs": [],
   "source": [
    "products.loc[products[\"stores\"].apply({\"Coop\"}.issubset)]"
   ]
  },
  {
   "cell_type": "code",
   "execution_count": null,
   "metadata": {},
   "outputs": [],
   "source": [
    "products.product_name = products.product_name.fillna(\"\")\n",
    "products.brands = products.brands.fillna(\"\")\n",
    "\n",
    "migros = MigrosScraper()\n",
    "cora = CoraScraper()\n",
    "\n",
    "with open('scraped_products.json', mode='w', encoding='utf-8') as f:\n",
    "\n",
    "    for i, row in products.iterrows():\n",
    "        if \"Migros\" in row.stores:\n",
    "            query = row['product_name']\n",
    "            print(query.title())\n",
    "            try:\n",
    "                product_dict = migros.search(query)\n",
    "                product_dict['code'] = row.name\n",
    "                product_dict['product_name'] = row.product_name\n",
    "            except Exception as err:\n",
    "                print(err)\n",
    "                continue\n",
    "                \n",
    "            f.write(json.dumps(product_dict)) # use `json.loads` to do the reverse\n",
    "            \n",
    "        elif \"Cora\" in row.stores:\n",
    "            query = row['product_name']\n",
    "            print(query.title())\n",
    "            try:\n",
    "                product_dict = cora.search(query)\n",
    "                product_dict['code'] = row.name\n",
    "                product_dict['product_name'] = row.product_name\n",
    "            except Exception as err:\n",
    "                print(err)\n",
    "                continue\n",
    "                \n",
    "            f.write(json.dumps(product_dict) + ',') # use `json.loads` to do the reverse\n",
    "            \n",
    "            # We don't wanna get banned from the server\n",
    "            sleep(randint(1,10))\n",
    "            "
   ]
  },
  {
   "cell_type": "code",
   "execution_count": null,
   "metadata": {},
   "outputs": [],
   "source": [
    "from selenium import webdriver\n",
    "from bs4 import BeautifulSoup"
   ]
  },
  {
   "cell_type": "code",
   "execution_count": null,
   "metadata": {},
   "outputs": [],
   "source": [
    "BASE_URL = \"https://search.migros.ch/de/q:\"\n",
    "\n",
    "driver = webdriver.Firefox(executable_path='/home/kingkolibri/Programs/geckodriver')\n",
    "driver.implicitly_wait(2)"
   ]
  },
  {
   "cell_type": "code",
   "execution_count": null,
   "metadata": {},
   "outputs": [],
   "source": [
    "query = \"Chocolate Chip Shortbread\"\n",
    "\n",
    "driver.get(BASE_URL + query )\n",
    "\n",
    "\n"
   ]
  },
  {
   "cell_type": "code",
   "execution_count": null,
   "metadata": {},
   "outputs": [],
   "source": [
    "# Find object on search results page\n",
    "python_button = driver.find_element_by_css_selector(\n",
    "    '.mui-list-products-wide > li:nth-child(1) > a:nth-child(1)')  # First article in grid view\n",
    "python_button.click()  # click link\n",
    "\n",
    "# Hand the page source to Beautiful Soup\n",
    "soup = BeautifulSoup(driver.page_source, 'lxml')"
   ]
  },
  {
   "cell_type": "code",
   "execution_count": null,
   "metadata": {},
   "outputs": [],
   "source": [
    "''.join(soup.select_one('.sidebar-product-name').text).strip()"
   ]
  },
  {
   "cell_type": "code",
   "execution_count": null,
   "metadata": {},
   "outputs": [],
   "source": [
    "soup.select_one('.current-price').text"
   ]
  },
  {
   "cell_type": "code",
   "execution_count": null,
   "metadata": {},
   "outputs": [],
   "source": [
    "''.join(soup.select_one('p.sidebar-subtext').text).strip()"
   ]
  },
  {
   "cell_type": "code",
   "execution_count": null,
   "metadata": {},
   "outputs": [],
   "source": [
    "soup.select_one('.mui-breadcrumb').text.split()"
   ]
  },
  {
   "cell_type": "code",
   "execution_count": null,
   "metadata": {},
   "outputs": [],
   "source": [
    "element = soup.select_one('#title')"
   ]
  },
  {
   "cell_type": "code",
   "execution_count": null,
   "metadata": {},
   "outputs": [],
   "source": [
    "'-'.join([i.text for i in soup.select_one('#title').findAll('span')[:-2]])"
   ]
  },
  {
   "cell_type": "code",
   "execution_count": null,
   "metadata": {},
   "outputs": [],
   "source": []
  }
 ],
 "metadata": {
  "kernelspec": {
   "display_name": "Python 3",
   "language": "python",
   "name": "python3"
  },
  "language_info": {
   "codemirror_mode": {
    "name": "ipython",
    "version": 3
   },
   "file_extension": ".py",
   "mimetype": "text/x-python",
   "name": "python",
   "nbconvert_exporter": "python",
   "pygments_lexer": "ipython3",
   "version": "3.6.5"
  }
 },
 "nbformat": 4,
 "nbformat_minor": 2
}
