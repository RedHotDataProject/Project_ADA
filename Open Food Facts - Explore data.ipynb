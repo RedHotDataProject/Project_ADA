{
 "cells": [
  {
   "cell_type": "code",
   "execution_count": null,
   "metadata": {},
   "outputs": [],
   "source": [
    "import numpy as np\n",
    "import pandas as pd\n",
    "import matplotlib.pyplot as plt\n",
    "from scipy import stats\n",
    "import seaborn as sns\n",
    "\n",
    "import json\n",
    "import pickle\n",
    "\n",
    "# Our generated code\n",
    "import os\n",
    "import sys\n",
    "nb_dir = os.path.split(os.getcwd())[0]\n",
    "if nb_dir not in sys.path:\n",
    "    sys.path.append(nb_dir)\n",
    "    \n",
    "%load_ext autoreload\n",
    "%autoreload 2\n",
    "    \n",
    "import libs.exploring as explore\n",
    "import libs.visualising as visualize\n",
    "import libs.cleansing as cleanse"
   ]
  },
  {
   "cell_type": "markdown",
   "metadata": {},
   "source": [
    "# Explore data using PySpark"
   ]
  },
  {
   "cell_type": "markdown",
   "metadata": {},
   "source": [
    "Packages I had to install:\n",
    "    - pip install pyspark_dist_explore\n",
    "    - pip install plotly\n",
    "and then restart the Kernel."
   ]
  },
  {
   "cell_type": "code",
   "execution_count": null,
   "metadata": {},
   "outputs": [],
   "source": [
    "# Import data\n",
    "open_food_facts_csv_file = \"./data/en.openfoodfacts.org.products.csv\"\n",
    "\n",
    "# Load list of columns (external file) that are loaded into pyspark\n",
    "data = []\n",
    "with open(\"columns_to_import.txt\", \"r\") as json_data:\n",
    "    columns_to_import = json.load(json_data)\n",
    "    columns_to_import\n",
    "\n",
    "\n",
    "food_facts_pd = pd.read_csv(open_food_facts_csv_file,\n",
    "                            delimiter=\"\\t\",\n",
    "                            usecols=columns_to_import.keys(),\n",
    "                            dtype=columns_to_import,\n",
    "                            index_col='code')"
   ]
  },
  {
   "cell_type": "markdown",
   "metadata": {},
   "source": [
    "#### Find NaN columns"
   ]
  },
  {
   "cell_type": "code",
   "execution_count": null,
   "metadata": {},
   "outputs": [],
   "source": [
    "null_entries = pd.DataFrame({'columns' : food_facts_pd.columns,\n",
    "                             'nan_values' : [food_facts_pd[c].count() for c in food_facts_pd]\n",
    "                            })\n",
    "\n",
    "# Plot NaNs counts\n",
    "null_entries.set_index('columns').plot(kind='barh', figsize=(10, 10))\n",
    "plt.title(\"Not null values count in each column\")\n",
    "plt.show()"
   ]
  },
  {
   "cell_type": "markdown",
   "metadata": {},
   "source": [
    "This number is way too low. We need to find a way to deal with incomplete data or a way to complete it."
   ]
  },
  {
   "cell_type": "markdown",
   "metadata": {},
   "source": [
    "# Data cleansing\n",
    "Guys, the country tags in this dataset are a mess. They differ in language, typesetting, everything. I am trying to clean them up, but I could not find an automated way to assign the correct country tags. \n",
    "This is why I've started a list with correct mappings in the countries_replacement.json file, which is still incomplete and I need your help to complete this list. Take a look at it, I think it is self-explaining."
   ]
  },
  {
   "cell_type": "markdown",
   "metadata": {},
   "source": [
    "### Unitize tags\n"
   ]
  },
  {
   "cell_type": "code",
   "execution_count": null,
   "metadata": {},
   "outputs": [],
   "source": [
    "food_facts_pd = food_facts_pd.dropna(subset=['product_name', 'countries_en', 'stores'])"
   ]
  },
  {
   "cell_type": "code",
   "execution_count": null,
   "metadata": {},
   "outputs": [],
   "source": [
    "food_facts_pd = food_facts_pd.fillna(\"\")\n",
    "food_facts_pd"
   ]
  },
  {
   "cell_type": "code",
   "execution_count": null,
   "metadata": {},
   "outputs": [],
   "source": [
    "food_facts_pd[['origins', 'manufacturing_places', 'purchase_places', 'countries_en']].head(100)"
   ]
  },
  {
   "cell_type": "code",
   "execution_count": null,
   "metadata": {},
   "outputs": [],
   "source": [
    "copydf = food_facts_pd[['countries_en']].iloc[:100, :]\n",
    "copydf"
   ]
  },
  {
   "cell_type": "markdown",
   "metadata": {},
   "source": [
    "Note :  \n",
    "- purchase_places and countries_en are the same though \"countries_en\" is more complete\n",
    "-  manufacturing_places and origins are different"
   ]
  },
  {
   "cell_type": "code",
   "execution_count": null,
   "metadata": {},
   "outputs": [],
   "source": [
    "# Unitize countries names\n",
    "with open('country_lookup.json', 'r') as json_data:\n",
    "    countries_lookup = cleanse.to_lookup(json.load(json_data))\n",
    "food_facts_pd.countries_en = food_facts_pd.countries_en.apply(lambda x: [countries_lookup[z] for z in x.split(',')])\n"
   ]
  },
  {
   "cell_type": "code",
   "execution_count": null,
   "metadata": {},
   "outputs": [],
   "source": [
    "countries = pd.read_csv('./data/countries.csv')\n",
    "countries = countries[['name', 'translations']]\n",
    "countries['alias'] = countries['name']+countries['translations']\n",
    "countries['name'] = countries['name'].str.split(\",\", n = 1, expand = True) \n",
    "countries = countries[['name', 'alias']]"
   ]
  },
  {
   "cell_type": "code",
   "execution_count": null,
   "metadata": {},
   "outputs": [],
   "source": [
    "countries[countries['alias'].str.contains('ireland', case=False)]"
   ]
  },
  {
   "cell_type": "code",
   "execution_count": null,
   "metadata": {},
   "outputs": [],
   "source": [
    "def country_name_filter(name, countries):\n",
    "    country_set = countries[countries['alias'].str.contains(name, case=False)]\n",
    "    if(not country_set.empty):\n",
    "        if(country_set.shape[0]==1):\n",
    "            return country_set.iloc[0,0]\n",
    "        else:\n",
    "            sub_country_set = country_set[country_set['name'].str.match(name, case=False)]\n",
    "            if(not sub_country_set.empty):\n",
    "                return sub_country_set.iloc[0,0]\n",
    "    else:\n",
    "        return name"
   ]
  },
  {
   "cell_type": "code",
   "execution_count": null,
   "metadata": {},
   "outputs": [],
   "source": [
    "copydf.countries_en = copydf.countries_en.apply(lambda x: [country_name_filter(z, countries) for z in x])\n",
    "copydf"
   ]
  },
  {
   "cell_type": "code",
   "execution_count": null,
   "metadata": {},
   "outputs": [],
   "source": [
    "# Unitze labels\n",
    "with open('taxonomies.json', 'r') as json_data:\n",
    "    labels_lookup = cleanse.to_lookup(json.load(json_data))\n",
    "food_facts_pd.labels = food_facts_pd.labels.apply(lambda x: [labels_lookup[z] for z in x.split(',')])"
   ]
  },
  {
   "cell_type": "code",
   "execution_count": null,
   "metadata": {},
   "outputs": [],
   "source": [
    "# Store labels\n",
    "with open('stores_lookup.json', 'r') as json_data:\n",
    "    stores_lookup = cleanse.to_lookup(json.load(json_data))\n",
    "food_facts_pd.stores = food_facts_pd.stores.fillna(\"\").apply(lambda x: [stores_lookup[z] for z in x.split(',')])"
   ]
  },
  {
   "cell_type": "markdown",
   "metadata": {},
   "source": [
    "# Visualize data"
   ]
  },
  {
   "cell_type": "code",
   "execution_count": null,
   "metadata": {},
   "outputs": [],
   "source": [
    "# Generate a dataframe that extracts all information required by the web crawler\n",
    "if 1==1: # skip cell\n",
    "    products = food_facts_pd\n",
    "\n",
    "    products.to_pickle(\"./web_crawler/products_pd.pickle\")\n",
    "    "
   ]
  },
  {
   "cell_type": "code",
   "execution_count": null,
   "metadata": {},
   "outputs": [],
   "source": [
    "visualize.plot_cluster_by_tags(df=food_facts_pd.dropna(subset=['labels']),\n",
    "                                 plot2D_features = [\"carbon-footprint_100g\", \"energy_100g\"],\n",
    "                                 cluster=\"labels\")"
   ]
  },
  {
   "cell_type": "markdown",
   "metadata": {},
   "source": [
    "### Plot distribution of stores where items were bought"
   ]
  },
  {
   "cell_type": "code",
   "execution_count": null,
   "metadata": {},
   "outputs": [],
   "source": [
    "visualize.plot_occurences_of_distinct_values(food_facts_pd, 'stores')"
   ]
  },
  {
   "cell_type": "code",
   "execution_count": null,
   "metadata": {},
   "outputs": [],
   "source": []
  },
  {
   "cell_type": "markdown",
   "metadata": {},
   "source": [
    "### Plot distribution of availability of products in countries"
   ]
  },
  {
   "cell_type": "code",
   "execution_count": null,
   "metadata": {},
   "outputs": [],
   "source": [
    "# Find all distinct countries\n",
    "countries_set = set()\n",
    "for index, row in food_facts_pd.iterrows():\n",
    "    for country in row.countries_en:\n",
    "        countries_set.add(country)\n",
    "\n",
    "# Count the number of time each country appear in the dataframe\n",
    "country_count = dict()\n",
    "for country in list(countries_set):\n",
    "    country_count[country] = food_facts_pd.countries_en.apply({country}.issubset).sum()"
   ]
  },
  {
   "cell_type": "code",
   "execution_count": null,
   "metadata": {},
   "outputs": [],
   "source": [
    "country_count_pd = pd.DataFrame(list(country_count.items()), columns=['Country', 'Value'])\n",
    "country_count_pd['Country'] = country_count_pd['Country'].str.upper()\n",
    "country_count_pd"
   ]
  },
  {
   "cell_type": "code",
   "execution_count": null,
   "metadata": {},
   "outputs": [],
   "source": [
    "import folium\n",
    "\n",
    "## Country coordinates for plotting\n",
    "country_geo = './data/world-countries.json'\n",
    "\n",
    "map = folium.Map(location=[0, 0], tiles='Mapbox Bright', zoom_start=1.5)\n",
    "\n",
    "# choropleth maps bind Pandas Data Frames and json geometries.\n",
    "map.choropleth(geo_data=country_geo,\n",
    "               data=country_count_pd,\n",
    "               columns=['Country', 'Value'],\n",
    "               fill_color='YlGnBu', \n",
    "               key_on='feature.id',\n",
    "               fill_opacity=0.7, \n",
    "               line_opacity=0.2,\n",
    "               )\n",
    "map"
   ]
  },
  {
   "cell_type": "markdown",
   "metadata": {},
   "source": [
    "### Plot carbon foot-print histogram over calories"
   ]
  },
  {
   "cell_type": "code",
   "execution_count": null,
   "metadata": {},
   "outputs": [],
   "source": [
    "fig, ax = plt.subplots()\n",
    "\n",
    "food_facts_pd['energy_100g'] = food_facts_pd['energy_100g'].astype('float')\n",
    "food_facts_pd['carbon-footprint_100g'] = food_facts_pd['carbon-footprint_100g'].astype('float')\n",
    "\n",
    "food_facts_pd.plot.scatter(x='energy_100g', \n",
    "                           y='carbon-footprint_100g', \n",
    "                           c='carbon-footprint_100g', \n",
    "                           colormap='coolwarm',\n",
    "                           ax=ax)\n",
    "ax.set_facecolor('black')\n",
    "\n",
    "plt.xlabel('Energy per 100g [kcal]')\n",
    "plt.show()"
   ]
  },
  {
   "cell_type": "markdown",
   "metadata": {},
   "source": [
    "### Availability of products per country"
   ]
  },
  {
   "cell_type": "markdown",
   "metadata": {},
   "source": [
    "# Use the API"
   ]
  },
  {
   "cell_type": "markdown",
   "metadata": {},
   "source": [
    "Run to get the following command to install the OpenFoodFacts API \n",
    "    pip install git+https://github.com/openfoodfacts/openfoodfacts-python"
   ]
  }
 ],
 "metadata": {
  "kernelspec": {
   "display_name": "Ada",
   "language": "python",
   "name": "ada"
  },
  "language_info": {
   "codemirror_mode": {
    "name": "ipython",
    "version": 3
   },
   "file_extension": ".py",
   "mimetype": "text/x-python",
   "name": "python",
   "nbconvert_exporter": "python",
   "pygments_lexer": "ipython3",
   "version": "3.6.6"
  }
 },
 "nbformat": 4,
 "nbformat_minor": 2
}
