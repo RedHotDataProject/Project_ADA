{
 "cells": [
  {
   "cell_type": "markdown",
   "metadata": {},
   "source": [
    "# Open Food Facts: the carbon “food-print” we do not eat\n",
    "\n",
    "## Abstract\n",
    "<i>Everything we do has a carbon footprint, and our diet is no exception. From growing, farming, processing and packaging our food, energy and organic resources are consumed and released, which reflects in the emission of greenhouse gases, like CO<sub>2</sub>. In our project, we analyze the processed foods industry - its manufacturing, product composition, and sales - for the main sources of carbon emissions, using the Open Food Facts dataset. We explain the carbon footprint repartition, starting on an understanding of the products, followed by the breakdown of production countries as well as point of sales and evaluating trends in diet composition, with a special focus on nutritionally high marked products in France and the UK. \n",
    "\n",
    "With this study, we want to provide a better understanding of the agri-food industry, and eventually help reducing carbon emissions.</i>"
   ]
  },
  {
   "cell_type": "markdown",
   "metadata": {},
   "source": [
    "In this notebook, we are performingt the above analysis on the OpenFoodFacts database, which we pre-processed using the __Open Food Facts - Cleanse Data__ notebook in the main directory."
   ]
  },
  {
   "cell_type": "markdown",
   "metadata": {
    "toc": true
   },
   "source": [
    "<h1>Table of Contents<span class=\"tocSkip\"></span></h1>\n",
    "<div class=\"toc\"><ul class=\"toc-item\"><li><span><a href=\"#Abstract\" data-toc-modified-id=\"Abstract-1\"><span class=\"toc-item-num\">1&nbsp;&nbsp;</span>Abstract</a></span></li><li><span><a href=\"#Import-cleansed-data\" data-toc-modified-id=\"Import-cleansed-data-2\"><span class=\"toc-item-num\">2&nbsp;&nbsp;</span>Import cleansed data</a></span></li><li><span><a href=\"#Analyse-data\" data-toc-modified-id=\"Analyse-data-3\"><span class=\"toc-item-num\">3&nbsp;&nbsp;</span>Analyse data</a></span><ul class=\"toc-item\"><li><span><a href=\"#Production-/-manufacture-impact\" data-toc-modified-id=\"Production-/-manufacture-impact-3.1\"><span class=\"toc-item-num\">3.1&nbsp;&nbsp;</span>Production / manufacture impact</a></span><ul class=\"toc-item\"><li><span><a href=\"#Global-distribution-of-global-food-producers\" data-toc-modified-id=\"Global-distribution-of-global-food-producers-3.1.1\"><span class=\"toc-item-num\">3.1.1&nbsp;&nbsp;</span>Global distribution of global food producers</a></span><ul class=\"toc-item\"><li><span><a href=\"#Which-are-the-dominant-global-food-producers-and-manufacturers?\" data-toc-modified-id=\"Which-are-the-dominant-global-food-producers-and-manufacturers?-3.1.1.1\"><span class=\"toc-item-num\">3.1.1.1&nbsp;&nbsp;</span>Which are the dominant global food producers and manufacturers?</a></span></li><li><span><a href=\"#How-is-this-distribution-impacted-when-we-consider-neutral-and-large-carbon-footprint-products?\" data-toc-modified-id=\"How-is-this-distribution-impacted-when-we-consider-neutral-and-large-carbon-footprint-products?-3.1.1.2\"><span class=\"toc-item-num\">3.1.1.2&nbsp;&nbsp;</span>How is this distribution impacted when we consider neutral and large carbon footprint products?</a></span></li></ul></li><li><span><a href=\"#Case-study:-Palm-oil\" data-toc-modified-id=\"Case-study:-Palm-oil-3.1.2\"><span class=\"toc-item-num\">3.1.2&nbsp;&nbsp;</span>Case study: Palm oil</a></span><ul class=\"toc-item\"><li><span><a href=\"#Can-we-observe-any-trend-in-the-number-of-products-including-this-oil-(assuming-a-strong-dependence-between-date-the-product-was-added-to-the-database-and-data-the-product-was-invented)?\" data-toc-modified-id=\"Can-we-observe-any-trend-in-the-number-of-products-including-this-oil-(assuming-a-strong-dependence-between-date-the-product-was-added-to-the-database-and-data-the-product-was-invented)?-3.1.2.1\"><span class=\"toc-item-num\">3.1.2.1&nbsp;&nbsp;</span>Can we observe any trend in the number of products including this oil (assuming a strong dependence between date the product was added to the database and data the product was invented)?</a></span></li><li><span><a href=\"#Which-country-use-palm-oils-for-production?\" data-toc-modified-id=\"Which-country-use-palm-oils-for-production?-3.1.2.2\"><span class=\"toc-item-num\">3.1.2.2&nbsp;&nbsp;</span>Which country use palm oils for production?</a></span></li></ul></li></ul></li><li><span><a href=\"#Good-nutrition-impact\" data-toc-modified-id=\"Good-nutrition-impact-3.2\"><span class=\"toc-item-num\">3.2&nbsp;&nbsp;</span>Good nutrition impact</a></span><ul class=\"toc-item\"><li><span><a href=\"#High-nutrional-products\" data-toc-modified-id=\"High-nutrional-products-3.2.1\"><span class=\"toc-item-num\">3.2.1&nbsp;&nbsp;</span>High-nutrional products</a></span><ul class=\"toc-item\"><li><span><a href=\"#Has-there-been-a-surge-in-high-graded-Products-in-the-UK-/-France-over-the-past-years?\" data-toc-modified-id=\"Has-there-been-a-surge-in-high-graded-Products-in-the-UK-/-France-over-the-past-years?-3.2.1.1\"><span class=\"toc-item-num\">3.2.1.1&nbsp;&nbsp;</span>Has there been a surge in high graded Products in the UK / France over the past years?</a></span></li></ul></li><li><span><a href=\"#High-nutrional-products\" data-toc-modified-id=\"High-nutrional-products-3.2.2\"><span class=\"toc-item-num\">3.2.2&nbsp;&nbsp;</span>High-nutrional products</a></span><ul class=\"toc-item\"><li><span><a href=\"#What-are-those-products-made-of?\" data-toc-modified-id=\"What-are-those-products-made-of?-3.2.2.1\"><span class=\"toc-item-num\">3.2.2.1&nbsp;&nbsp;</span>What are those products made of?</a></span></li><li><span><a href=\"#Where-do-these-product-come-from-and-where-are-they-manufactured?\" data-toc-modified-id=\"Where-do-these-product-come-from-and-where-are-they-manufactured?-3.2.2.2\"><span class=\"toc-item-num\">3.2.2.2&nbsp;&nbsp;</span>Where do these product come from and where are they manufactured?</a></span></li><li><span><a href=\"#Where-are-those-products-sold?\" data-toc-modified-id=\"Where-are-those-products-sold?-3.2.2.3\"><span class=\"toc-item-num\">3.2.2.3&nbsp;&nbsp;</span>Where are those products sold?</a></span></li></ul></li><li><span><a href=\"#Carbon-footprint-of-nutrionally-high-graded-products\" data-toc-modified-id=\"Carbon-footprint-of-nutrionally-high-graded-products-3.2.3\"><span class=\"toc-item-num\">3.2.3&nbsp;&nbsp;</span>Carbon footprint of nutrionally-high graded products</a></span><ul class=\"toc-item\"><li><span><a href=\"#Is-there-a-general-correlation-between-high-carbon-footprint-and-price?\" data-toc-modified-id=\"Is-there-a-general-correlation-between-high-carbon-footprint-and-price?-3.2.3.1\"><span class=\"toc-item-num\">3.2.3.1&nbsp;&nbsp;</span>Is there a general correlation between high carbon footprint and price?</a></span></li></ul></li></ul></li></ul></li></ul></div>"
   ]
  },
  {
   "cell_type": "code",
   "execution_count": 1,
   "metadata": {},
   "outputs": [
    {
     "data": {
      "text/html": [
       "<script type=\"text/javascript\">window.PlotlyConfig = {MathJaxConfig: 'local'};</script><script type=\"text/javascript\">if (window.MathJax) {MathJax.Hub.Config({SVG: {font: \"STIX-Web\"}});}</script><script>requirejs.config({paths: { 'plotly': ['https://cdn.plot.ly/plotly-latest.min']},});if(!window._Plotly) {require(['plotly'],function(plotly) {window._Plotly=plotly;});}</script>"
      ],
      "text/vnd.plotly.v1+html": [
       "<script type=\"text/javascript\">window.PlotlyConfig = {MathJaxConfig: 'local'};</script><script type=\"text/javascript\">if (window.MathJax) {MathJax.Hub.Config({SVG: {font: \"STIX-Web\"}});}</script><script>requirejs.config({paths: { 'plotly': ['https://cdn.plot.ly/plotly-latest.min']},});if(!window._Plotly) {require(['plotly'],function(plotly) {window._Plotly=plotly;});}</script>"
      ]
     },
     "metadata": {},
     "output_type": "display_data"
    },
    {
     "data": {
      "text/html": [
       "<script type=\"text/javascript\">window.PlotlyConfig = {MathJaxConfig: 'local'};</script><script type=\"text/javascript\">if (window.MathJax) {MathJax.Hub.Config({SVG: {font: \"STIX-Web\"}});}</script><script>requirejs.config({paths: { 'plotly': ['https://cdn.plot.ly/plotly-latest.min']},});if(!window._Plotly) {require(['plotly'],function(plotly) {window._Plotly=plotly;});}</script>"
      ],
      "text/vnd.plotly.v1+html": [
       "<script type=\"text/javascript\">window.PlotlyConfig = {MathJaxConfig: 'local'};</script><script type=\"text/javascript\">if (window.MathJax) {MathJax.Hub.Config({SVG: {font: \"STIX-Web\"}});}</script><script>requirejs.config({paths: { 'plotly': ['https://cdn.plot.ly/plotly-latest.min']},});if(!window._Plotly) {require(['plotly'],function(plotly) {window._Plotly=plotly;});}</script>"
      ]
     },
     "metadata": {},
     "output_type": "display_data"
    }
   ],
   "source": [
    "import numpy as np\n",
    "import pandas as pd\n",
    "import matplotlib.pyplot as plt\n",
    "import folium\n",
    "from scipy import stats\n",
    "from datetime import datetime\n",
    "\n",
    "import json\n",
    "import pickle\n",
    "\n",
    "import os\n",
    "import sys\n",
    "nb_dir = os.path.split(os.getcwd())[0]\n",
    "if nb_dir not in sys.path:\n",
    "    sys.path.append(nb_dir)\n",
    "    \n",
    "%load_ext autoreload\n",
    "%autoreload 2\n",
    "    \n",
    "import libs.exploring as explore\n",
    "import libs.visualising as visualize\n",
    "import libs.cleansing as cleanse\n",
    "\n",
    "# Set up plotly environment\n",
    "from plotly.offline import download_plotlyjs, init_notebook_mode, plot, iplot\n",
    "import plotly.graph_objs as go\n",
    "\n",
    "init_notebook_mode(connected=True)"
   ]
  },
  {
   "cell_type": "markdown",
   "metadata": {},
   "source": [
    "## Import cleansed data"
   ]
  },
  {
   "cell_type": "code",
   "execution_count": 2,
   "metadata": {},
   "outputs": [],
   "source": [
    "# Import data\n",
    "open_food_facts_csv_file = \"./data/openfoodfacts_clean.csv\"\n",
    "\n",
    "food_facts_pd = pd.read_csv(open_food_facts_csv_file,\n",
    "                            delimiter=\"\\t\")"
   ]
  },
  {
   "cell_type": "code",
   "execution_count": 3,
   "metadata": {},
   "outputs": [],
   "source": [
    "# Change column data types\n",
    "food_facts_pd['carbon-footprint_100g'] = food_facts_pd['carbon-footprint_100g'].apply(pd.to_numeric, args=('coerce',))\n",
    "food_facts_pd['energy_100g'] = food_facts_pd['energy_100g'].apply(pd.to_numeric, args=('coerce',))\n",
    "food_facts_pd['price_per_100g'] = food_facts_pd['price_per_100g'].apply(pd.to_numeric, args=('coerce',))\n",
    "food_facts_pd['created_datetime'] = food_facts_pd['created_datetime'].apply(pd.to_datetime, args=('coerce',))"
   ]
  },
  {
   "cell_type": "code",
   "execution_count": 4,
   "metadata": {},
   "outputs": [
    {
     "data": {
      "text/html": [
       "<div>\n",
       "<style scoped>\n",
       "    .dataframe tbody tr th:only-of-type {\n",
       "        vertical-align: middle;\n",
       "    }\n",
       "\n",
       "    .dataframe tbody tr th {\n",
       "        vertical-align: top;\n",
       "    }\n",
       "\n",
       "    .dataframe thead th {\n",
       "        text-align: right;\n",
       "    }\n",
       "</style>\n",
       "<table border=\"1\" class=\"dataframe\">\n",
       "  <thead>\n",
       "    <tr style=\"text-align: right;\">\n",
       "      <th></th>\n",
       "      <th>Unnamed: 0</th>\n",
       "      <th>code</th>\n",
       "      <th>created_t</th>\n",
       "      <th>created_datetime</th>\n",
       "      <th>product_name</th>\n",
       "      <th>quantity</th>\n",
       "      <th>packaging</th>\n",
       "      <th>brands</th>\n",
       "      <th>categories_en</th>\n",
       "      <th>origins</th>\n",
       "      <th>...</th>\n",
       "      <th>ingredients_text</th>\n",
       "      <th>main_category</th>\n",
       "      <th>energy_100g</th>\n",
       "      <th>carbon-footprint_100g</th>\n",
       "      <th>nutrition-score-fr_100g</th>\n",
       "      <th>nutrition-score-uk_100g</th>\n",
       "      <th>price_per_100g</th>\n",
       "      <th>store_currency</th>\n",
       "      <th>manufacturing_place</th>\n",
       "      <th>purchase_places</th>\n",
       "    </tr>\n",
       "  </thead>\n",
       "  <tbody>\n",
       "    <tr>\n",
       "      <th>0</th>\n",
       "      <td>0</td>\n",
       "      <td>0000000274722</td>\n",
       "      <td>1514659309</td>\n",
       "      <td>2017-12-30 18:41:49</td>\n",
       "      <td>Blanquette de Volaille et son Riz</td>\n",
       "      <td>NaN</td>\n",
       "      <td>carton,plastique</td>\n",
       "      <td>Comme J’aime</td>\n",
       "      <td>Meals,Meat-based products,Meals with meat,Poul...</td>\n",
       "      <td>Unknown</td>\n",
       "      <td>...</td>\n",
       "      <td>Riz précuit 40,4 % (eau, riz, huile de colza, ...</td>\n",
       "      <td>Meats</td>\n",
       "      <td>450.0</td>\n",
       "      <td>NaN</td>\n",
       "      <td>0.0</td>\n",
       "      <td>0.0</td>\n",
       "      <td>NaN</td>\n",
       "      <td>NaN</td>\n",
       "      <td>France</td>\n",
       "      <td>France</td>\n",
       "    </tr>\n",
       "    <tr>\n",
       "      <th>1</th>\n",
       "      <td>1</td>\n",
       "      <td>0000000394710</td>\n",
       "      <td>1484497370</td>\n",
       "      <td>2017-01-15 16:22:50</td>\n",
       "      <td>Danoises à la cannelle roulées</td>\n",
       "      <td>1.150 kg</td>\n",
       "      <td>Frais</td>\n",
       "      <td>Kirkland Signature</td>\n",
       "      <td>Sugary snacks,Biscuits and cakes,Pastries</td>\n",
       "      <td>France</td>\n",
       "      <td>...</td>\n",
       "      <td>Ingrédients: Pâte (farine, eau, beurre, sucre,...</td>\n",
       "      <td>Sugary snacks</td>\n",
       "      <td>1520.0</td>\n",
       "      <td>NaN</td>\n",
       "      <td>NaN</td>\n",
       "      <td>NaN</td>\n",
       "      <td>NaN</td>\n",
       "      <td>NaN</td>\n",
       "      <td>France</td>\n",
       "      <td>France</td>\n",
       "    </tr>\n",
       "    <tr>\n",
       "      <th>2</th>\n",
       "      <td>2</td>\n",
       "      <td>0000001071894</td>\n",
       "      <td>1409411252</td>\n",
       "      <td>2014-08-30 15:07:32</td>\n",
       "      <td>Flute</td>\n",
       "      <td>NaN</td>\n",
       "      <td>Paper,plastic film</td>\n",
       "      <td>Waitrose</td>\n",
       "      <td>Plant-based foods and beverages,Plant-based fo...</td>\n",
       "      <td>Canada</td>\n",
       "      <td>...</td>\n",
       "      <td>Wheat</td>\n",
       "      <td>Plant-based</td>\n",
       "      <td>NaN</td>\n",
       "      <td>NaN</td>\n",
       "      <td>NaN</td>\n",
       "      <td>NaN</td>\n",
       "      <td>NaN</td>\n",
       "      <td>NaN</td>\n",
       "      <td>Unknown</td>\n",
       "      <td>Canada</td>\n",
       "    </tr>\n",
       "    <tr>\n",
       "      <th>3</th>\n",
       "      <td>3</td>\n",
       "      <td>0000001938067</td>\n",
       "      <td>1484501528</td>\n",
       "      <td>2017-01-15 17:32:08</td>\n",
       "      <td>Chaussons tressés aux pommes</td>\n",
       "      <td>1.200 kg</td>\n",
       "      <td>Frais</td>\n",
       "      <td>Kirkland Signature</td>\n",
       "      <td>Sugary snacks,Biscuits and cakes,Pastries</td>\n",
       "      <td>France</td>\n",
       "      <td>...</td>\n",
       "      <td>Ingrédients : Pâte (farine, margarines d'huile...</td>\n",
       "      <td>Sugary snacks</td>\n",
       "      <td>1090.0</td>\n",
       "      <td>NaN</td>\n",
       "      <td>9.0</td>\n",
       "      <td>9.0</td>\n",
       "      <td>NaN</td>\n",
       "      <td>NaN</td>\n",
       "      <td>United Kingdom</td>\n",
       "      <td>United Kingdom</td>\n",
       "    </tr>\n",
       "    <tr>\n",
       "      <th>4</th>\n",
       "      <td>4</td>\n",
       "      <td>0000004302544</td>\n",
       "      <td>1488464896</td>\n",
       "      <td>2017-03-02 14:28:16</td>\n",
       "      <td>Pain Burger Artisan</td>\n",
       "      <td>1.008 kg / 12 pain</td>\n",
       "      <td>Frais,plastique</td>\n",
       "      <td>Kirkland Signature</td>\n",
       "      <td>boulange</td>\n",
       "      <td>Canada</td>\n",
       "      <td>...</td>\n",
       "      <td>Ingrédients : Farine, eau, sel, levure, orge m...</td>\n",
       "      <td>Boulange</td>\n",
       "      <td>1160.0</td>\n",
       "      <td>NaN</td>\n",
       "      <td>1.0</td>\n",
       "      <td>1.0</td>\n",
       "      <td>NaN</td>\n",
       "      <td>NaN</td>\n",
       "      <td>Unknown</td>\n",
       "      <td>Canada</td>\n",
       "    </tr>\n",
       "  </tbody>\n",
       "</table>\n",
       "<p>5 rows × 23 columns</p>\n",
       "</div>"
      ],
      "text/plain": [
       "   Unnamed: 0           code   created_t    created_datetime  \\\n",
       "0           0  0000000274722  1514659309 2017-12-30 18:41:49   \n",
       "1           1  0000000394710  1484497370 2017-01-15 16:22:50   \n",
       "2           2  0000001071894  1409411252 2014-08-30 15:07:32   \n",
       "3           3  0000001938067  1484501528 2017-01-15 17:32:08   \n",
       "4           4  0000004302544  1488464896 2017-03-02 14:28:16   \n",
       "\n",
       "                        product_name            quantity           packaging  \\\n",
       "0  Blanquette de Volaille et son Riz                 NaN    carton,plastique   \n",
       "1     Danoises à la cannelle roulées            1.150 kg               Frais   \n",
       "2                              Flute                 NaN  Paper,plastic film   \n",
       "3       Chaussons tressés aux pommes            1.200 kg               Frais   \n",
       "4                Pain Burger Artisan  1.008 kg / 12 pain     Frais,plastique   \n",
       "\n",
       "               brands                                      categories_en  \\\n",
       "0        Comme J’aime  Meals,Meat-based products,Meals with meat,Poul...   \n",
       "1  Kirkland Signature          Sugary snacks,Biscuits and cakes,Pastries   \n",
       "2            Waitrose  Plant-based foods and beverages,Plant-based fo...   \n",
       "3  Kirkland Signature          Sugary snacks,Biscuits and cakes,Pastries   \n",
       "4  Kirkland Signature                                           boulange   \n",
       "\n",
       "   origins       ...         \\\n",
       "0  Unknown       ...          \n",
       "1   France       ...          \n",
       "2   Canada       ...          \n",
       "3   France       ...          \n",
       "4   Canada       ...          \n",
       "\n",
       "                                    ingredients_text  main_category  \\\n",
       "0  Riz précuit 40,4 % (eau, riz, huile de colza, ...          Meats   \n",
       "1  Ingrédients: Pâte (farine, eau, beurre, sucre,...  Sugary snacks   \n",
       "2                                              Wheat    Plant-based   \n",
       "3  Ingrédients : Pâte (farine, margarines d'huile...  Sugary snacks   \n",
       "4  Ingrédients : Farine, eau, sel, levure, orge m...       Boulange   \n",
       "\n",
       "  energy_100g carbon-footprint_100g nutrition-score-fr_100g  \\\n",
       "0       450.0                   NaN                     0.0   \n",
       "1      1520.0                   NaN                     NaN   \n",
       "2         NaN                   NaN                     NaN   \n",
       "3      1090.0                   NaN                     9.0   \n",
       "4      1160.0                   NaN                     1.0   \n",
       "\n",
       "   nutrition-score-uk_100g  price_per_100g  store_currency  \\\n",
       "0                      0.0             NaN             NaN   \n",
       "1                      NaN             NaN             NaN   \n",
       "2                      NaN             NaN             NaN   \n",
       "3                      9.0             NaN             NaN   \n",
       "4                      1.0             NaN             NaN   \n",
       "\n",
       "   manufacturing_place  purchase_places  \n",
       "0               France           France  \n",
       "1               France           France  \n",
       "2              Unknown           Canada  \n",
       "3       United Kingdom   United Kingdom  \n",
       "4              Unknown           Canada  \n",
       "\n",
       "[5 rows x 23 columns]"
      ]
     },
     "execution_count": 4,
     "metadata": {},
     "output_type": "execute_result"
    }
   ],
   "source": [
    "food_facts_pd.head(5)"
   ]
  },
  {
   "cell_type": "markdown",
   "metadata": {},
   "source": [
    "Additionally to the OpenFoodFact dataset, we obtained an extract of the Eaternity dataset hosted by the ETH Zurich, which contains 692 more products and their CO2 footprint. Unfortunately, these products are not contained in the OpenFoodFacts database, so we lack manufacturing and purchasing information as well as the OpenFoodFacts categories for this set."
   ]
  },
  {
   "cell_type": "code",
   "execution_count": 5,
   "metadata": {},
   "outputs": [
    {
     "name": "stdout",
     "output_type": "stream",
     "text": [
      "<class 'pandas.core.frame.DataFrame'>\n",
      "RangeIndex: 682 entries, 0 to 681\n",
      "Data columns (total 13 columns):\n",
      "Unnamed: 0                      682 non-null int64\n",
      "ID                              682 non-null int64\n",
      "Title                           682 non-null object\n",
      "Weight [gram/serving]           682 non-null int64\n",
      "CO2-Value [gram CO2/serving]    682 non-null float64\n",
      "CO2 rating                      682 non-null float64\n",
      "FAT                             682 non-null float64\n",
      "WATER                           682 non-null float64\n",
      "ENERC                           682 non-null float64\n",
      "PROT                            682 non-null float64\n",
      "category                        682 non-null object\n",
      "parent_category                 682 non-null object\n",
      "category_en                     682 non-null object\n",
      "dtypes: float64(6), int64(3), object(4)\n",
      "memory usage: 69.3+ KB\n"
     ]
    }
   ],
   "source": [
    "# Import data\n",
    "carbon_footprint_csv_file = \"./data/carbon_footprint_categories.csv\"\n",
    "\n",
    "carbon_footprint_pd = pd.read_csv(carbon_footprint_csv_file, delimiter=\",\")\n",
    "carbon_footprint_pd.info()"
   ]
  },
  {
   "cell_type": "code",
   "execution_count": 6,
   "metadata": {},
   "outputs": [
    {
     "data": {
      "text/html": [
       "<div>\n",
       "<style scoped>\n",
       "    .dataframe tbody tr th:only-of-type {\n",
       "        vertical-align: middle;\n",
       "    }\n",
       "\n",
       "    .dataframe tbody tr th {\n",
       "        vertical-align: top;\n",
       "    }\n",
       "\n",
       "    .dataframe thead th {\n",
       "        text-align: right;\n",
       "    }\n",
       "</style>\n",
       "<table border=\"1\" class=\"dataframe\">\n",
       "  <thead>\n",
       "    <tr style=\"text-align: right;\">\n",
       "      <th></th>\n",
       "      <th>Unnamed: 0</th>\n",
       "      <th>ID</th>\n",
       "      <th>Title</th>\n",
       "      <th>Weight [gram/serving]</th>\n",
       "      <th>CO2-Value [gram CO2/serving]</th>\n",
       "      <th>CO2 rating</th>\n",
       "      <th>FAT</th>\n",
       "      <th>WATER</th>\n",
       "      <th>ENERC</th>\n",
       "      <th>PROT</th>\n",
       "      <th>category</th>\n",
       "      <th>parent_category</th>\n",
       "      <th>category_en</th>\n",
       "    </tr>\n",
       "  </thead>\n",
       "  <tbody>\n",
       "    <tr>\n",
       "      <th>0</th>\n",
       "      <td>0</td>\n",
       "      <td>4300175162708</td>\n",
       "      <td>K Classic - Junger Gemüsemais</td>\n",
       "      <td>100</td>\n",
       "      <td>9.0</td>\n",
       "      <td>20.812</td>\n",
       "      <td>3.480252</td>\n",
       "      <td>52.999834</td>\n",
       "      <td>765.655520</td>\n",
       "      <td>8.601195</td>\n",
       "      <td>Gemüsekonserven</td>\n",
       "      <td>gemuese_pilze</td>\n",
       "      <td>vegetable mushrooms</td>\n",
       "    </tr>\n",
       "    <tr>\n",
       "      <th>1</th>\n",
       "      <td>1</td>\n",
       "      <td>4388840231829</td>\n",
       "      <td>ja! Gemüsemais</td>\n",
       "      <td>100</td>\n",
       "      <td>17.0</td>\n",
       "      <td>37.941</td>\n",
       "      <td>2.312597</td>\n",
       "      <td>35.218431</td>\n",
       "      <td>1070.401621</td>\n",
       "      <td>5.715417</td>\n",
       "      <td>Gemüsekonserven</td>\n",
       "      <td>gemuese_pilze</td>\n",
       "      <td>vegetable mushrooms</td>\n",
       "    </tr>\n",
       "    <tr>\n",
       "      <th>2</th>\n",
       "      <td>2</td>\n",
       "      <td>8690777653008</td>\n",
       "      <td>Sera Ajvar</td>\n",
       "      <td>100</td>\n",
       "      <td>44.0</td>\n",
       "      <td>61.076</td>\n",
       "      <td>11.526800</td>\n",
       "      <td>22.286400</td>\n",
       "      <td>1276.524000</td>\n",
       "      <td>12.058200</td>\n",
       "      <td>Gemüsaufstriche &amp;amp; -salate</td>\n",
       "      <td>gemuese_pilze</td>\n",
       "      <td>vegetable mushrooms</td>\n",
       "    </tr>\n",
       "    <tr>\n",
       "      <th>3</th>\n",
       "      <td>3</td>\n",
       "      <td>4311527608225</td>\n",
       "      <td>Edeka Ackergold Mehligkochend</td>\n",
       "      <td>100</td>\n",
       "      <td>11.0</td>\n",
       "      <td>67.383</td>\n",
       "      <td>0.100000</td>\n",
       "      <td>78.700000</td>\n",
       "      <td>320.000000</td>\n",
       "      <td>2.000000</td>\n",
       "      <td>Kartoffeln</td>\n",
       "      <td>gemuese_pilze</td>\n",
       "      <td>vegetable mushrooms</td>\n",
       "    </tr>\n",
       "    <tr>\n",
       "      <th>4</th>\n",
       "      <td>4</td>\n",
       "      <td>7610632971826</td>\n",
       "      <td>Bio Kartoffeln festkochend</td>\n",
       "      <td>100</td>\n",
       "      <td>11.0</td>\n",
       "      <td>67.383</td>\n",
       "      <td>0.100000</td>\n",
       "      <td>78.700000</td>\n",
       "      <td>320.000000</td>\n",
       "      <td>2.000000</td>\n",
       "      <td>Kartoffeln</td>\n",
       "      <td>gemuese_pilze</td>\n",
       "      <td>vegetable mushrooms</td>\n",
       "    </tr>\n",
       "    <tr>\n",
       "      <th>5</th>\n",
       "      <td>5</td>\n",
       "      <td>4316268432429</td>\n",
       "      <td>Botato Kartoffel Wedges</td>\n",
       "      <td>100</td>\n",
       "      <td>20.0</td>\n",
       "      <td>71.343</td>\n",
       "      <td>4.032246</td>\n",
       "      <td>70.485923</td>\n",
       "      <td>512.666890</td>\n",
       "      <td>3.501101</td>\n",
       "      <td>Kartoffelbeilagen &amp;amp; Pommes Frites</td>\n",
       "      <td>gemuese_pilze</td>\n",
       "      <td>vegetable mushrooms</td>\n",
       "    </tr>\n",
       "    <tr>\n",
       "      <th>6</th>\n",
       "      <td>6</td>\n",
       "      <td>4032600122055</td>\n",
       "      <td>Pfanni Kartoffel Püree besonders locker 3 x 80 g</td>\n",
       "      <td>100</td>\n",
       "      <td>12.0</td>\n",
       "      <td>73.344</td>\n",
       "      <td>0.099000</td>\n",
       "      <td>77.913000</td>\n",
       "      <td>316.800000</td>\n",
       "      <td>1.980000</td>\n",
       "      <td>Kartoffelbeilagen &amp;amp; Pommes Frites</td>\n",
       "      <td>gemuese_pilze</td>\n",
       "      <td>vegetable mushrooms</td>\n",
       "    </tr>\n",
       "    <tr>\n",
       "      <th>7</th>\n",
       "      <td>7</td>\n",
       "      <td>4005009101204</td>\n",
       "      <td>Kartoffelpüree</td>\n",
       "      <td>100</td>\n",
       "      <td>14.0</td>\n",
       "      <td>82.441</td>\n",
       "      <td>0.197999</td>\n",
       "      <td>75.754800</td>\n",
       "      <td>310.801700</td>\n",
       "      <td>2.129955</td>\n",
       "      <td>Knödel &amp;amp; Pürees</td>\n",
       "      <td>gemuese_pilze</td>\n",
       "      <td>vegetable mushrooms</td>\n",
       "    </tr>\n",
       "    <tr>\n",
       "      <th>8</th>\n",
       "      <td>8</td>\n",
       "      <td>4003880685257</td>\n",
       "      <td>Agrarfrost Germany Knusper Frites</td>\n",
       "      <td>100</td>\n",
       "      <td>22.0</td>\n",
       "      <td>84.098</td>\n",
       "      <td>5.488000</td>\n",
       "      <td>73.978000</td>\n",
       "      <td>500.600000</td>\n",
       "      <td>1.880000</td>\n",
       "      <td>Kartoffelbeilagen &amp;amp; Pommes Frites</td>\n",
       "      <td>gemuese_pilze</td>\n",
       "      <td>vegetable mushrooms</td>\n",
       "    </tr>\n",
       "    <tr>\n",
       "      <th>9</th>\n",
       "      <td>9</td>\n",
       "      <td>4311596464074</td>\n",
       "      <td>Backofen Rösti Ecken - aus Qualitätskartoffeln</td>\n",
       "      <td>100</td>\n",
       "      <td>23.0</td>\n",
       "      <td>87.815</td>\n",
       "      <td>5.393437</td>\n",
       "      <td>72.587372</td>\n",
       "      <td>488.711426</td>\n",
       "      <td>1.947783</td>\n",
       "      <td>Kartoffelbeilagen &amp;amp; Pommes Frites</td>\n",
       "      <td>gemuese_pilze</td>\n",
       "      <td>vegetable mushrooms</td>\n",
       "    </tr>\n",
       "  </tbody>\n",
       "</table>\n",
       "</div>"
      ],
      "text/plain": [
       "   Unnamed: 0             ID  \\\n",
       "0           0  4300175162708   \n",
       "1           1  4388840231829   \n",
       "2           2  8690777653008   \n",
       "3           3  4311527608225   \n",
       "4           4  7610632971826   \n",
       "5           5  4316268432429   \n",
       "6           6  4032600122055   \n",
       "7           7  4005009101204   \n",
       "8           8  4003880685257   \n",
       "9           9  4311596464074   \n",
       "\n",
       "                                              Title  Weight [gram/serving]  \\\n",
       "0                     K Classic - Junger Gemüsemais                    100   \n",
       "1                                    ja! Gemüsemais                    100   \n",
       "2                                        Sera Ajvar                    100   \n",
       "3                     Edeka Ackergold Mehligkochend                    100   \n",
       "4                        Bio Kartoffeln festkochend                    100   \n",
       "5                           Botato Kartoffel Wedges                    100   \n",
       "6  Pfanni Kartoffel Püree besonders locker 3 x 80 g                    100   \n",
       "7                                    Kartoffelpüree                    100   \n",
       "8                 Agrarfrost Germany Knusper Frites                    100   \n",
       "9    Backofen Rösti Ecken - aus Qualitätskartoffeln                    100   \n",
       "\n",
       "   CO2-Value [gram CO2/serving]  CO2 rating        FAT      WATER  \\\n",
       "0                           9.0      20.812   3.480252  52.999834   \n",
       "1                          17.0      37.941   2.312597  35.218431   \n",
       "2                          44.0      61.076  11.526800  22.286400   \n",
       "3                          11.0      67.383   0.100000  78.700000   \n",
       "4                          11.0      67.383   0.100000  78.700000   \n",
       "5                          20.0      71.343   4.032246  70.485923   \n",
       "6                          12.0      73.344   0.099000  77.913000   \n",
       "7                          14.0      82.441   0.197999  75.754800   \n",
       "8                          22.0      84.098   5.488000  73.978000   \n",
       "9                          23.0      87.815   5.393437  72.587372   \n",
       "\n",
       "         ENERC       PROT                               category  \\\n",
       "0   765.655520   8.601195                        Gemüsekonserven   \n",
       "1  1070.401621   5.715417                        Gemüsekonserven   \n",
       "2  1276.524000  12.058200          Gemüsaufstriche &amp; -salate   \n",
       "3   320.000000   2.000000                             Kartoffeln   \n",
       "4   320.000000   2.000000                             Kartoffeln   \n",
       "5   512.666890   3.501101  Kartoffelbeilagen &amp; Pommes Frites   \n",
       "6   316.800000   1.980000  Kartoffelbeilagen &amp; Pommes Frites   \n",
       "7   310.801700   2.129955                    Knödel &amp; Pürees   \n",
       "8   500.600000   1.880000  Kartoffelbeilagen &amp; Pommes Frites   \n",
       "9   488.711426   1.947783  Kartoffelbeilagen &amp; Pommes Frites   \n",
       "\n",
       "  parent_category          category_en  \n",
       "0   gemuese_pilze  vegetable mushrooms  \n",
       "1   gemuese_pilze  vegetable mushrooms  \n",
       "2   gemuese_pilze  vegetable mushrooms  \n",
       "3   gemuese_pilze  vegetable mushrooms  \n",
       "4   gemuese_pilze  vegetable mushrooms  \n",
       "5   gemuese_pilze  vegetable mushrooms  \n",
       "6   gemuese_pilze  vegetable mushrooms  \n",
       "7   gemuese_pilze  vegetable mushrooms  \n",
       "8   gemuese_pilze  vegetable mushrooms  \n",
       "9   gemuese_pilze  vegetable mushrooms  "
      ]
     },
     "execution_count": 6,
     "metadata": {},
     "output_type": "execute_result"
    }
   ],
   "source": [
    "carbon_footprint_pd.head(10)"
   ]
  },
  {
   "cell_type": "markdown",
   "metadata": {},
   "source": [
    "## Analyse data"
   ]
  },
  {
   "cell_type": "markdown",
   "metadata": {},
   "source": [
    "Before we analyse the data, we have to some confesssions to make:\n",
    "\n",
    "The data that we loaded into this notebook was already preprocessed in the \"Open Food Facts - Cleanse data\" notebook, that can be found in the same directory. In there we translated countries, labels, and categories and formatted and matched tags. However, we also droped more than 90% of the data set, because the data points were not complete for the purpose of our analysis.\n",
    "\n",
    "OpenFoodFacts was initiated in France, and products sold in france are dominantly represented in this data set. Moreover, most of the products are sold in Europe or industrial nations, and we have no or only sparse data about the African, Asian, Australian, and South-american continent, which excludes the majority of the world population and especially the societes in Asia and Africa, that undergo the most decisive transformations at the moment.\n",
    "\n",
    "Further, we only have qualitative data about the products, but no quantities that are produced and purchased world wide, hence we cannot provide a scale for all the insights that we gain throughout this notebook.\n",
    "\n",
    "What we are trying to say is, that the data is under no circumstances representive to analyse the the research questions that we have posed. However, we will provide the methods to perform this analysis on this comprised dataset, and see what kind of insights we can already squeek out of it."
   ]
  },
  {
   "cell_type": "markdown",
   "metadata": {},
   "source": [
    "### Production / manufacture impact"
   ]
  },
  {
   "cell_type": "markdown",
   "metadata": {},
   "source": [
    "#### Global distribution of global food producers"
   ]
  },
  {
   "cell_type": "code",
   "execution_count": null,
   "metadata": {},
   "outputs": [],
   "source": [
    "countries_label = pd.read_csv(\"./data/country_lookup.csv\")[['name', 'cca3']]     "
   ]
  },
  {
   "cell_type": "markdown",
   "metadata": {},
   "source": [
    "##### Which are the dominant global food producers and manufacturers?"
   ]
  },
  {
   "cell_type": "markdown",
   "metadata": {},
   "source": [
    "- From where are those products originating?"
   ]
  },
  {
   "cell_type": "code",
   "execution_count": null,
   "metadata": {},
   "outputs": [],
   "source": [
    "visualize.plot_occurences_on_map(df=food_facts_pd, \n",
    "                                 column_key='origins',\n",
    "                                 show_distances=False,\n",
    "                                 title='Countries of origin for products')"
   ]
  },
  {
   "cell_type": "markdown",
   "metadata": {},
   "source": [
    "Note that country in purple are  not assigned any value. "
   ]
  },
  {
   "cell_type": "markdown",
   "metadata": {},
   "source": [
    "- Where are those products manufactured?"
   ]
  },
  {
   "cell_type": "code",
   "execution_count": null,
   "metadata": {},
   "outputs": [],
   "source": [
    "visualize.plot_occurences_on_map(df=food_facts_pd, \n",
    "                                 column_key='manufacturing_place',\n",
    "                                 show_distances=False,\n",
    "                                 title='Manufacturing countries of products')"
   ]
  },
  {
   "cell_type": "markdown",
   "metadata": {},
   "source": [
    "- Where are those products bought?"
   ]
  },
  {
   "cell_type": "code",
   "execution_count": null,
   "metadata": {},
   "outputs": [],
   "source": [
    "visualize.plot_occurences_on_map(df=food_facts_pd, \n",
    "                                 column_key='purchase_places',\n",
    "                                 show_distances=False,\n",
    "                                 title='Purchase countries of products')"
   ]
  },
  {
   "cell_type": "markdown",
   "metadata": {},
   "source": [
    "In conclusion, we note that we mainly have data for \"western\" countries, with a <b> huge bias toward France</b>. We mostly lack information for country in Africa and the centre of Asia. Our dataset is thus clearly not a truthful representation of the world. We shall therefore restrict our analysis to the case of France, meaning purchases countries will be limited to the case of France. [This category was selected since it is the most furnished one.] \n",
    "\n",
    "This is carried out in the next cell. Note that <i> purchases_places </i> is only requested to contain 'France' as one of the entries in its list. There could thus be other countries still contained in the <i> purchases_places </i> column. "
   ]
  },
  {
   "cell_type": "code",
   "execution_count": null,
   "metadata": {},
   "outputs": [],
   "source": [
    "food_facts_pd['filter'] = food_facts_pd.purchase_places.apply(lambda l: explore.filter_france(l))\n",
    "food_facts_pd = food_facts_pd[food_facts_pd['filter'] == 'France'].drop(columns=['filter'])"
   ]
  },
  {
   "cell_type": "markdown",
   "metadata": {},
   "source": [
    "##### How is this distribution impacted when we consider neutral and large carbon footprint products? "
   ]
  },
  {
   "cell_type": "code",
   "execution_count": null,
   "metadata": {},
   "outputs": [],
   "source": [
    "# dataset carbon footprint coming from Eaternity\n",
    "# This will be assess in future version of this project\n"
   ]
  },
  {
   "cell_type": "markdown",
   "metadata": {},
   "source": [
    "#### Case study: Palm oil"
   ]
  },
  {
   "cell_type": "markdown",
   "metadata": {},
   "source": [
    "##### Can we observe any trend in the number of products including this oil (assuming a strong dependence between date the product was added to the database and data the product was invented)?"
   ]
  },
  {
   "cell_type": "code",
   "execution_count": null,
   "metadata": {},
   "outputs": [],
   "source": [
    "#extracting products with palm oil \n",
    "palm_oil_pd = food_facts_pd[food_facts_pd.ingredients_text.str.contains(\"palm\").fillna(value=False)]"
   ]
  },
  {
   "cell_type": "code",
   "execution_count": null,
   "metadata": {},
   "outputs": [],
   "source": [
    "print('{0:.2f} % of the products in the dataset contain palm oil'.format(palm_oil_pd.shape[0]/food_facts_pd.shape[0]*100))"
   ]
  },
  {
   "cell_type": "code",
   "execution_count": null,
   "metadata": {},
   "outputs": [],
   "source": [
    "#palm_oil_pd.groupby('main_category')\n",
    "palm_oil_pd['created_yyyy'] = palm_oil_pd[\"created_datetime\"].dt.year"
   ]
  },
  {
   "cell_type": "code",
   "execution_count": null,
   "metadata": {},
   "outputs": [],
   "source": [
    "#plotly.tools.set_credentials_file(username='ninatubau', api_key='z75HqORQkKdVL98Fi0tX')\n"
   ]
  },
  {
   "cell_type": "code",
   "execution_count": null,
   "metadata": {},
   "outputs": [],
   "source": [
    "palm_oil_over_time = palm_oil_pd['created_yyyy'].value_counts()"
   ]
  },
  {
   "cell_type": "code",
   "execution_count": null,
   "metadata": {
    "scrolled": true
   },
   "outputs": [],
   "source": [
    "data = [go.Bar(x=palm_oil_over_time.index,\n",
    "            y=palm_oil_over_time.values)]\n",
    "\n",
    "layout = go.Layout(\n",
    "    title='Usage of palm oil over time',\n",
    "    xaxis=dict(\n",
    "        title='time (years)',\n",
    "        titlefont=dict(\n",
    "            family='Courier New, monospace',\n",
    "            size=18,\n",
    "            color='#7f7f7f'\n",
    "        )\n",
    "    ),\n",
    "    yaxis=dict(\n",
    "        title='number of products with palm oil',\n",
    "        titlefont=dict(\n",
    "            family='Courier New, monospace',\n",
    "            size=18,\n",
    "            color='#7f7f7f'\n",
    "        )\n",
    "    )\n",
    ")\n",
    "fig = go.Figure(data=data, layout=layout)\n",
    "\n",
    "iplot(fig, filename='jupyter-basic_bar')"
   ]
  },
  {
   "cell_type": "markdown",
   "metadata": {},
   "source": [
    "There is a clear tendancy of using palm oil in products from 2012 up to now. Also, we notice a large increase in the palm oil products these lasts years. "
   ]
  },
  {
   "cell_type": "markdown",
   "metadata": {},
   "source": [
    "##### Which country use palm oils for production?"
   ]
  },
  {
   "cell_type": "code",
   "execution_count": null,
   "metadata": {},
   "outputs": [],
   "source": [
    "a = palm_oil_pd.origins.groupby(palm_oil_pd.origins).sum"
   ]
  },
  {
   "cell_type": "code",
   "execution_count": null,
   "metadata": {},
   "outputs": [],
   "source": [
    "visualize.plot_column_composition(palm_oil_pd, 'manufacturing_place' )"
   ]
  },
  {
   "cell_type": "code",
   "execution_count": null,
   "metadata": {},
   "outputs": [],
   "source": [
    "visualize.plot_occurences_on_map(df=food_facts_pd, \n",
    "                                 column_key='manufacturing_place',\n",
    "                                 show_distances=True,\n",
    "                                 title='Manufacturing countries of products')"
   ]
  },
  {
   "cell_type": "markdown",
   "metadata": {},
   "source": [
    "### Good nutrition impact"
   ]
  },
  {
   "cell_type": "code",
   "execution_count": null,
   "metadata": {},
   "outputs": [],
   "source": [
    "nutrition_fr = food_facts_pd[['product_name',\n",
    "                              'created_datetime',\n",
    "                              'nutrition-score-fr_100g', \n",
    "                              'product_name', \n",
    "                              'main_category', \n",
    "                              'origins', \n",
    "                              'purchase_places', \n",
    "                              'manufacturing_place',\n",
    "                              'stores']\n",
    "                            ]\n",
    "\n",
    "nutrition_fr = nutrition_fr[nutrition_fr['nutrition-score-fr_100g'].notna()]\n",
    "nutrition_over_time = nutrition_fr.sort_values(by = 'created_datetime')\n",
    "nutrition_over_time['main_category'] = nutrition_over_time.main_category.fillna(value='Unknown')"
   ]
  },
  {
   "cell_type": "markdown",
   "metadata": {},
   "source": [
    "Meanong of the nutrition score index can be found at https://world.openfoodfacts.org/nutriscore. The main facts are the following : \n",
    "- Products are marked according to the amount of nutrients they contain [per 100 g] and given a grade between A and E (A being obviously the best mark).\n",
    "\n",
    "<img src=\"Images/nutriscore.png\" height=\"540\" width=\"336\">\n",
    "\n",
    "- If the product is solids, this is linked to a nutrition score as displayed the next table. This score itself is computed with two parts. The first one considers the energy, saturated fat, sugars and sodium. A high level in that category is considered unhealthy. The second part reflects the proportion of fruits, vegetables and nuts, fibers and proteins for which high levels are considered beneficial to the health.\n",
    "\n",
    "<img src=\"Images/nutriscore_table.png\" height=\"1000\" width=\"900\">\n",
    "\n"
   ]
  },
  {
   "cell_type": "code",
   "execution_count": null,
   "metadata": {},
   "outputs": [],
   "source": [
    "#Assigning the grades\n",
    "nutrition_over_time[\"nutrition_grade\"] =\\\n",
    "                                    nutrition_over_time[['nutrition-score-fr_100g','main_category']].\\\n",
    "                                    apply(explore.assign_score, axis=1)\n"
   ]
  },
  {
   "cell_type": "markdown",
   "metadata": {},
   "source": [
    "#### High-nutrional products"
   ]
  },
  {
   "cell_type": "markdown",
   "metadata": {},
   "source": [
    "##### Has there been a surge in high graded Products in the UK / France over the past years?"
   ]
  },
  {
   "cell_type": "code",
   "execution_count": null,
   "metadata": {},
   "outputs": [],
   "source": [
    "nutrition_over_time_reduced = explore.nutrition_grade(nutrition_over_time)"
   ]
  },
  {
   "cell_type": "markdown",
   "metadata": {},
   "source": [
    "#### High-nutrional products"
   ]
  },
  {
   "cell_type": "code",
   "execution_count": null,
   "metadata": {},
   "outputs": [],
   "source": [
    "visualize.make_grade_stacked_bar(nutrition_over_time_reduced, 'nutrition_grade', 'year', 'Count')                        "
   ]
  },
  {
   "cell_type": "markdown",
   "metadata": {},
   "source": [
    "We observe that, as time passes, more products are being added with a nutritional grade, with a peak occurring during the years 2015-2016."
   ]
  },
  {
   "cell_type": "code",
   "execution_count": null,
   "metadata": {},
   "outputs": [],
   "source": [
    "visualize.make_grade_stacked_bar(nutrition_over_time_reduced, 'nutrition_grade', 'year', 'Percentage')"
   ]
  },
  {
   "cell_type": "markdown",
   "metadata": {},
   "source": [
    "We observe that the percentage of prevalence of each grade has been mostly maintained during the last six years with a barely noticeable peak in 2013 for grade 'A'. "
   ]
  },
  {
   "cell_type": "code",
   "execution_count": null,
   "metadata": {},
   "outputs": [],
   "source": [
    "df = nutrition_over_time_reduced"
   ]
  },
  {
   "cell_type": "code",
   "execution_count": null,
   "metadata": {},
   "outputs": [],
   "source": [
    "figure = {\n",
    "    'data': [],\n",
    "    'layout': {},\n",
    "    'frames': [],\n",
    "}\n",
    "\n",
    "# fill in most of layout\n",
    "figure['layout']['xaxis'] = {'title': 'Nutrtion Grade'}\n",
    "figure['layout']['yaxis'] = {'title': '# Products'}\n",
    "figure['layout']['hovermode'] = 'closest'\n",
    "\n",
    "# add play and pause button\n",
    "figure['layout']['updatemenus'] = [\n",
    "    {\n",
    "        'buttons': [\n",
    "            {\n",
    "                'args': [None, {'frame': {'duration': 500, 'redraw': False},\n",
    "                         'fromcurrent': True, 'transition': {'duration': 300, 'easing': 'quadratic-in-out'}}],\n",
    "                'label': 'Play',\n",
    "                'method': 'animate'\n",
    "            },\n",
    "            {\n",
    "                'args': [[None], {'frame': {'duration': 0, 'redraw': False}, 'mode': 'immediate',\n",
    "                'transition': {'duration': 0}}],\n",
    "                'label': 'Pause',\n",
    "                'method': 'animate'\n",
    "            }\n",
    "        ],\n",
    "        'direction': 'left',\n",
    "        'pad': {'r': 10, 't': 87},\n",
    "        'showactive': False,\n",
    "        'type': 'buttons',\n",
    "        'x': 0.1,\n",
    "        'xanchor': 'right',\n",
    "        'y': 0,\n",
    "        'yanchor': 'top'\n",
    "    }\n",
    "]\n",
    "\n",
    "# define slider\n",
    "sliders_dict = {\n",
    "    'active': 0,\n",
    "    'yanchor': 'top',\n",
    "    'xanchor': 'left',\n",
    "    'currentvalue': {\n",
    "        'font': {'size': 20},\n",
    "        'prefix': 'Year:',\n",
    "        'visible': True,\n",
    "        'xanchor': 'right'\n",
    "    },\n",
    "    'transition': {'duration': 300, 'easing': 'cubic-in-out'},\n",
    "    'pad': {'b': 10, 't': 50},\n",
    "    'len': 0.9,\n",
    "    'x': 0.1,\n",
    "    'y': 0,\n",
    "    'steps': []\n",
    "}"
   ]
  },
  {
   "cell_type": "code",
   "execution_count": null,
   "metadata": {},
   "outputs": [],
   "source": [
    "year = 2018\n",
    "trace = go.Bar(\n",
    "    x = df[df['year']==year].nutrition_grade.values,\n",
    "    y = df[df['year']==year].Count.values,\n",
    "    marker = dict(\n",
    "        color = [\"#008010\", \"#9ACD32\",\"#FFD700\", \"#FF8C00\", \"#DB4832\"]\n",
    "        ),\n",
    "    )\n",
    "\n",
    "figure['data'].append(trace)"
   ]
  },
  {
   "cell_type": "code",
   "execution_count": null,
   "metadata": {},
   "outputs": [],
   "source": [
    "for year in sorted(df.year.unique()):\n",
    "    \n",
    "    frame = {'data': [], 'name': str(year)}\n",
    "    trace = go.Bar(\n",
    "        x = df[df['year']==year].nutrition_grade.values,\n",
    "        y = df[df['year']==year].Count.values,\n",
    "        marker = dict(\n",
    "            color = [\"#008010\", \"#9ACD32\",\"#FFD700\", \"#FF8C00\", \"#DB4832\"]\n",
    "            ),\n",
    "    )\n",
    "    \n",
    "    frame['data'].append(trace)\n",
    "    figure['frames'].append(frame)\n",
    "    \n",
    "    slider_step = {'args': [\n",
    "        [year],\n",
    "        {'frame': {'duration': 300, 'redraw': False},\n",
    "         'mode': 'immediate',\n",
    "       'transition': {'duration': 300}}\n",
    "     ],\n",
    "     'label': int(year),\n",
    "     'method': 'animate'}\n",
    "    sliders_dict['steps'].append(slider_step)\n",
    "\n",
    "figure['layout']['sliders'] = [sliders_dict]"
   ]
  },
  {
   "cell_type": "code",
   "execution_count": null,
   "metadata": {},
   "outputs": [],
   "source": [
    "iplot(figure, filename='nutrition_grades')"
   ]
  },
  {
   "cell_type": "code",
   "execution_count": null,
   "metadata": {},
   "outputs": [],
   "source": []
  },
  {
   "cell_type": "markdown",
   "metadata": {},
   "source": [
    "##### What are those products made of?\n",
    "What is the composition? Do they contain many additives?  Where are these products sold? "
   ]
  },
  {
   "cell_type": "markdown",
   "metadata": {},
   "source": [
    "This plot displays the most common categories in the list of product possessing a nutritional index"
   ]
  },
  {
   "cell_type": "code",
   "execution_count": null,
   "metadata": {},
   "outputs": [],
   "source": [
    "visualize.make_content_stacked_bar(visualize.plot_grade_content(nutrition_over_time), 'keys', 'grade', 'Percentage')"
   ]
  },
  {
   "cell_type": "markdown",
   "metadata": {},
   "source": [
    "Observe how good nutritional products are mostly (more than 50%) plant-based and how this category as well as carbs and canned food shrink when considering less beneficial food standards. This reduction is compensated by a sharp increase in prevalence of sugary snacks and a lesser increase of meat-based producs. Both seafood and dairy seem to concentre in, respectevely, the lower and higger part of the middle marks. "
   ]
  },
  {
   "cell_type": "markdown",
   "metadata": {},
   "source": [
    "##### Where do these product come from and where are they manufactured?"
   ]
  },
  {
   "cell_type": "code",
   "execution_count": null,
   "metadata": {},
   "outputs": [],
   "source": [
    "visualize.plot_column_composition(nutrition_fr, 'purchase_places') "
   ]
  },
  {
   "cell_type": "markdown",
   "metadata": {},
   "source": [
    "This plot is of course highly bias towards france since the cut was perform on that column"
   ]
  },
  {
   "cell_type": "code",
   "execution_count": null,
   "metadata": {},
   "outputs": [],
   "source": [
    "visualize.plot_column_composition(nutrition_fr, 'manufacturing_place') "
   ]
  },
  {
   "cell_type": "markdown",
   "metadata": {},
   "source": [
    "Naturally, most of the food consumed in France is manufactured there though approximately 30% is produced somewhere else. "
   ]
  },
  {
   "cell_type": "markdown",
   "metadata": {},
   "source": [
    "##### Where are those products sold?"
   ]
  },
  {
   "cell_type": "code",
   "execution_count": null,
   "metadata": {},
   "outputs": [],
   "source": [
    "visualize.plot_column_composition(nutrition_fr, 'stores')"
   ]
  },
  {
   "cell_type": "markdown",
   "metadata": {},
   "source": [
    "Side fact: [market share grocery stores in France](https://www.statista.com/statistics/535415/grocery-market-share-france/) (October 2017)\n",
    "    <img src=\"Images/marketshare_stores_france.png\" height=\"800\" width=\"600\">"
   ]
  },
  {
   "cell_type": "markdown",
   "metadata": {},
   "source": [
    "#### Carbon footprint of nutrionally-high graded products\n",
    "\n",
    "In this section we investigate the carbon footprint of different products and categories. Therefore, we investigate the OpenFoodFacts dataset. Common sense would suggest most nutritionally-high graded products are organic (plant, fruit, vegetables, …) and are therefore not manufactured, thus having a small footprint. Let's see what story the data has to tell...\n",
    "\n",
    "But as before, we should be careful as the dataset is biased. So we begin with examing what kind of data is represented in the datasets."
   ]
  },
  {
   "cell_type": "markdown",
   "metadata": {},
   "source": [
    "We begin with extracting all the carbon footprint data."
   ]
  },
  {
   "cell_type": "code",
   "execution_count": null,
   "metadata": {},
   "outputs": [],
   "source": [
    "carbon_footprints = food_facts_pd[food_facts_pd['carbon-footprint_100g'].notna() & \n",
    "                                  food_facts_pd['carbon-footprint_100g']!=0]\n",
    "carbon_footprints"
   ]
  },
  {
   "cell_type": "markdown",
   "metadata": {},
   "source": [
    "First, we should sensibilize for the data that we are dealing with. Therefore we visualize the origin and composition of the products."
   ]
  },
  {
   "cell_type": "code",
   "execution_count": null,
   "metadata": {},
   "outputs": [],
   "source": [
    "visualize.plot_column_composition(df=carbon_footprints, column_str='manufacturing_place')"
   ]
  },
  {
   "cell_type": "markdown",
   "metadata": {},
   "source": [
    "Let's if there is a correlation between country of origin, and hence transportation distance, and the carbon footprint. (No use because all products are from France or missing origin information)."
   ]
  },
  {
   "cell_type": "code",
   "execution_count": null,
   "metadata": {},
   "outputs": [],
   "source": [
    "visualize.plot_column_composition(df=carbon_footprints, column_str='stores')"
   ]
  },
  {
   "cell_type": "markdown",
   "metadata": {},
   "source": [
    "From the above plot, we can observe that the majority of the products are sold in france, and especially the stores in provided by the shops of\n",
    "\n",
    "Most of the carbon footprint data was produced by the research group around ###, that claims that the processed data was ###."
   ]
  },
  {
   "cell_type": "code",
   "execution_count": null,
   "metadata": {},
   "outputs": [],
   "source": [
    "visualize.plot_column_composition(carbon_footprints, column_str='main_category')"
   ]
  },
  {
   "cell_type": "markdown",
   "metadata": {},
   "source": [
    "We see that the main categories that we have carbon footprint data of are sugary snacks (mainly plain chocolets) and dairies. This is not surprising since they are made up of only few ingredients. "
   ]
  },
  {
   "cell_type": "code",
   "execution_count": null,
   "metadata": {},
   "outputs": [],
   "source": [
    "# Food calories over carbon-foot print\n",
    "visualize.plot_cluster_by_tags(df=carbon_footprints,\n",
    "                               plot2D_features = [\"carbon-footprint_100g\", \"price_per_100g\"],\n",
    "                               cluster=\"main_category\")"
   ]
  },
  {
   "cell_type": "markdown",
   "metadata": {},
   "source": [
    "The above prices were found from online stores of Walmart, Monoprix, and Migros. It should be noted, that the dataset dominantly contains dairies and sweets with carbon footprint, so we hope to gain more insight of other products from the Carbon Footprint Eaternity dataset.\n"
   ]
  },
  {
   "cell_type": "markdown",
   "metadata": {},
   "source": [
    "##### Is there a general correlation between high carbon footprint and price? "
   ]
  },
  {
   "cell_type": "markdown",
   "metadata": {},
   "source": [
    "Because the carbon footprint column of the OpenFoodFacts database contains a small amount of data, we will match OpenFoodFacts dataset with the sample given by Eaternity. The approach is the following :\n",
    "    - Webscrap codeinfo website to get categories and parent categories of each product\n",
    "    - Translate categories into english\n",
    "    - Match categories of Open FoodFacts database with parent categories scraped from the website\n",
    "    - Add the mean value of carbon footprint categories on Open Food Facts database\n",
    "    "
   ]
  },
  {
   "cell_type": "code",
   "execution_count": 7,
   "metadata": {},
   "outputs": [
    {
     "data": {
      "text/plain": [
       "Plant-based                    9654\n",
       "Dairies                        5664\n",
       "Sugary snacks                  4954\n",
       "Meats                          4494\n",
       "Beverages                      3713\n",
       "Frozen foods                   1872\n",
       "Groceries                      1411\n",
       "Meals                          1344\n",
       "Seafood                        1312\n",
       "Carbs                          1063\n",
       "Salty snacks                    868\n",
       "Canned foods                    444\n",
       "Sandwiches                      281\n",
       "Desserts                        225\n",
       "Sweeteners                      176\n",
       "Fish And Meat And Eggs          174\n",
       "Baby Foods                      142\n",
       "Crêpes And Galettes             117\n",
       "Dietary Supplements              93\n",
       "Vinegars                         91\n",
       "Aliments-D-Origine-Vegetale      77\n",
       "Terrine                          75\n",
       "Breakfasts                       54\n",
       "Pies                             33\n",
       "Pet Food                         32\n",
       "Marzipan                         31\n",
       "Food Additives                   31\n",
       "Fats                             27\n",
       "Alimentos-De-Origen-Vegetal      26\n",
       "Cooking Helpers                  23\n",
       "Name: main_category, dtype: int64"
      ]
     },
     "execution_count": 7,
     "metadata": {},
     "output_type": "execute_result"
    }
   ],
   "source": [
    "#for the 30 most common categories\n",
    "food_facts_pd.main_category.value_counts().head(30)"
   ]
  },
  {
   "cell_type": "code",
   "execution_count": 8,
   "metadata": {},
   "outputs": [
    {
     "name": "stdout",
     "output_type": "stream",
     "text": [
      "Taking into account 30 most important categories represents 94.03561048286643% of the data\n"
     ]
    }
   ],
   "source": [
    "print('Taking into account 30 most important categories represents {0}% of the data'.format(sum(food_facts_pd.main_category.value_counts()[:30])/len(food_facts_pd.main_category)*100))"
   ]
  },
  {
   "cell_type": "markdown",
   "metadata": {},
   "source": [
    "Dict done by hand to match main categories of the OpenFoodFact dataset with the one's found in the sample of Eternity. "
   ]
  },
  {
   "cell_type": "code",
   "execution_count": 9,
   "metadata": {},
   "outputs": [],
   "source": [
    "dict_categories = {\n",
    "   \"Plant-based\": ['vegetable mushrooms','fruit berries','soy saitan meat substitute','Grain','nuts','seeds koerner','legumes','nut plant milk'],\n",
    "    \"Dairies\": ['Milk, dairy products, eggs','Cheese','ice creme pudding'],\n",
    "    \"Sugary snacks\":'confectionery',\n",
    "    \"Meats\": 'Fruit and vegetables Meat',\n",
    "    \"Beverages\":['Fruit and vegetable juices','Wine and Sparkling Wine','Syrup','cocoa drinking chocolate','Coffee','Mineral water','lemonades refreshment drinks','Milkshakes'],\n",
    "    \"Meals\":'fast food whole ready meals',\n",
    "    \"Seafood\":'fish sea fruits',\n",
    "    \"Groceries\":['mayo ketchup mustard','finished sauces fix products','SPREADS'],\n",
    "    \"Carbs\":['rice couscous quinoa co','Baked goods','breadsticks','muesli cereals'],\n",
    "    \"Fish And Meat And Eggs\":'Eggs.',\n",
    "    \"Baby Foods\":'shred',\n",
    "    \"Aliments-D-Origine-Vegetale\":['vegetable mushrooms','fruit berries'],\n",
    "    \"Cooking Helpers\": ['cooking ingredients spices','baking ingredients']\n",
    "}\n"
   ]
  },
  {
   "cell_type": "code",
   "execution_count": 10,
   "metadata": {},
   "outputs": [],
   "source": [
    "#computing carbon footprint mean for each parent category of Eaternity database\n",
    "df_mean_carbon_eaternity = explore.carbon_mean_eaternity(carbon_footprint_pd)"
   ]
  },
  {
   "cell_type": "code",
   "execution_count": 11,
   "metadata": {},
   "outputs": [
    {
     "data": {
      "text/plain": [
       "vegetable mushrooms             164\n",
       "cooking ingredients spices       73\n",
       "Fruit and vegetables Meat        49\n",
       "Milk, dairy products, eggs       41\n",
       "Baked goods                      35\n",
       "confectionery                    32\n",
       "breadsticks                      32\n",
       "rice couscous quinoa co          22\n",
       "Cheese                           21\n",
       "shred                            17\n",
       "fast food whole ready meals      17\n",
       "muesli cereals                   17\n",
       "mayo ketchup mustard             16\n",
       "ice creme pudding                14\n",
       "fruit berries                    14\n",
       "fish sea fruits                  12\n",
       "finished sauces fix products     12\n",
       "Fruit and vegetable juices       12\n",
       "baking ingredients               11\n",
       "soy saitan meat substitute       10\n",
       "Grain                             8\n",
       "SPREADS                           7\n",
       "seeds koerner                     7\n",
       "nuts                              7\n",
       "legumes                           7\n",
       "nut plant milk                    6\n",
       "Wine and Sparkling Wine           4\n",
       "Syrup                             4\n",
       "cocoa drinking chocolate          3\n",
       "Eggs.                             2\n",
       "Coffee                            2\n",
       "Facial skincare                   1\n",
       "lemonades refreshment drinks      1\n",
       "Mineral water                     1\n",
       "Milkshakes                        1\n",
       "Name: category_en, dtype: int64"
      ]
     },
     "execution_count": 11,
     "metadata": {},
     "output_type": "execute_result"
    }
   ],
   "source": [
    "carbon_footprint_pd.category_en.value_counts()"
   ]
  },
  {
   "cell_type": "code",
   "execution_count": 13,
   "metadata": {},
   "outputs": [],
   "source": [
    "df_mean_carbon_openff = explore.carbon_mean_openff(dict_categories,df_mean_carbon_eaternity)"
   ]
  },
  {
   "cell_type": "code",
   "execution_count": 14,
   "metadata": {},
   "outputs": [
    {
     "data": {
      "text/html": [
       "<div>\n",
       "<style scoped>\n",
       "    .dataframe tbody tr th:only-of-type {\n",
       "        vertical-align: middle;\n",
       "    }\n",
       "\n",
       "    .dataframe tbody tr th {\n",
       "        vertical-align: top;\n",
       "    }\n",
       "\n",
       "    .dataframe thead th {\n",
       "        text-align: right;\n",
       "    }\n",
       "</style>\n",
       "<table border=\"1\" class=\"dataframe\">\n",
       "  <thead>\n",
       "    <tr style=\"text-align: right;\">\n",
       "      <th></th>\n",
       "      <th>Plant-based</th>\n",
       "      <th>Dairies</th>\n",
       "      <th>Sugary snacks</th>\n",
       "      <th>Meats</th>\n",
       "      <th>Beverages</th>\n",
       "      <th>Meals</th>\n",
       "      <th>Seafood</th>\n",
       "      <th>Groceries</th>\n",
       "      <th>Carbs</th>\n",
       "      <th>Fish And Meat And Eggs</th>\n",
       "      <th>Baby Foods</th>\n",
       "      <th>Aliments-D-Origine-Vegetale</th>\n",
       "      <th>Cooking Helpers</th>\n",
       "    </tr>\n",
       "  </thead>\n",
       "  <tbody>\n",
       "    <tr>\n",
       "      <th>0</th>\n",
       "      <td>96.048595</td>\n",
       "      <td>551.237408</td>\n",
       "      <td>174.5</td>\n",
       "      <td>622.714286</td>\n",
       "      <td>411.807778</td>\n",
       "      <td>230.941176</td>\n",
       "      <td>299.583333</td>\n",
       "      <td>1234.505265</td>\n",
       "      <td>1061.1444</td>\n",
       "      <td>219.5</td>\n",
       "      <td>82.0</td>\n",
       "      <td>2194.067109</td>\n",
       "      <td>2301.950048</td>\n",
       "    </tr>\n",
       "  </tbody>\n",
       "</table>\n",
       "</div>"
      ],
      "text/plain": [
       "   Plant-based     Dairies  Sugary snacks       Meats   Beverages       Meals  \\\n",
       "0    96.048595  551.237408          174.5  622.714286  411.807778  230.941176   \n",
       "\n",
       "      Seafood    Groceries      Carbs  Fish And Meat And Eggs  Baby Foods  \\\n",
       "0  299.583333  1234.505265  1061.1444                   219.5        82.0   \n",
       "\n",
       "   Aliments-D-Origine-Vegetale  Cooking Helpers  \n",
       "0                  2194.067109      2301.950048  "
      ]
     },
     "execution_count": 14,
     "metadata": {},
     "output_type": "execute_result"
    }
   ],
   "source": [
    "df_mean_carbon_openff"
   ]
  },
  {
   "cell_type": "code",
   "execution_count": null,
   "metadata": {},
   "outputs": [],
   "source": [
    "def campl"
   ]
  },
  {
   "cell_type": "code",
   "execution_count": null,
   "metadata": {},
   "outputs": [],
   "source": [
    "completed_carbon_footprint = "
   ]
  },
  {
   "cell_type": "code",
   "execution_count": null,
   "metadata": {},
   "outputs": [],
   "source": [
    "\n",
    "#add values of carbon footprint on initial OpenFoodFacts database\n",
    "food_facts_pd['correspond_cat']=None\n",
    "for category in dict_categories : \n",
    "    food_facts_pd['carbon-footprint_100g'][food_facts_pd.main_category == category]=df_1[category][0]"
   ]
  },
  {
   "cell_type": "code",
   "execution_count": null,
   "metadata": {},
   "outputs": [],
   "source": [
    "food_facts_pd['carbon-footprint_100g'].value_counts()"
   ]
  },
  {
   "cell_type": "markdown",
   "metadata": {},
   "source": [
    "**Thanks for Reading !**"
   ]
  }
 ],
 "metadata": {
  "kernelspec": {
   "display_name": "Python 3",
   "language": "python",
   "name": "python3"
  },
  "language_info": {
   "codemirror_mode": {
    "name": "ipython",
    "version": 3
   },
   "file_extension": ".py",
   "mimetype": "text/x-python",
   "name": "python",
   "nbconvert_exporter": "python",
   "pygments_lexer": "ipython3",
   "version": "3.6.5"
  },
  "toc": {
   "base_numbering": 1,
   "nav_menu": {
    "height": "465px",
    "width": "745px"
   },
   "number_sections": true,
   "sideBar": true,
   "skip_h1_title": true,
   "title_cell": "Table of Contents",
   "title_sidebar": "Contents",
   "toc_cell": true,
   "toc_position": {
    "height": "calc(100% - 180px)",
    "left": "10px",
    "top": "150px",
    "width": "165px"
   },
   "toc_section_display": true,
   "toc_window_display": false
  }
 },
 "nbformat": 4,
 "nbformat_minor": 2
}
