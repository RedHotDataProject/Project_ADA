{
 "cells": [
  {
   "cell_type": "markdown",
   "metadata": {},
   "source": [
    "# Open Food Facts: the carbon “food-print” we do not eat\n",
    "\n",
    "## Abstract\n",
    "<i>Everything we do has a carbon footprint, and our diet is no exception. From growing, farming, processing and packaging our food, energy and organic resources are consumed and released, which reflects in the emission of greenhouse gases, like CO<sub>2</sub>. In our project, we analyze the processed foods industry - its manufacturing, product composition, and sales - for the main sources of carbon emissions, using the Open Food Facts dataset. We explain the carbon footprint repartition, starting on an understanding of the products, followed by the breakdown of production countries as well as point of sales and evaluating trends in diet composition, with a special focus on nutritionally high marked products in France and the UK. \n",
    "\n",
    "With this study, we want to provide a better understanding of the agri-food industry, and eventually help reducing carbon emissions.</i>"
   ]
  },
  {
   "cell_type": "markdown",
   "metadata": {},
   "source": [
    "In this notebook, we are performingt the above analysis on the OpenFoodFacts database, which we pre-processed using the __Open Food Facts - Cleanse Data__ notebook in the main directory."
   ]
  },
  {
   "cell_type": "markdown",
   "metadata": {
    "toc": true
   },
   "source": [
    "<h1>Table of Contents<span class=\"tocSkip\"></span></h1>\n",
    "<div class=\"toc\"><ul class=\"toc-item\"><li><span><a href=\"#Abstract\" data-toc-modified-id=\"Abstract-1\"><span class=\"toc-item-num\">1&nbsp;&nbsp;</span>Abstract</a></span></li><li><span><a href=\"#Import-cleansed-data\" data-toc-modified-id=\"Import-cleansed-data-2\"><span class=\"toc-item-num\">2&nbsp;&nbsp;</span>Import cleansed data</a></span></li><li><span><a href=\"#Analyse-data\" data-toc-modified-id=\"Analyse-data-3\"><span class=\"toc-item-num\">3&nbsp;&nbsp;</span>Analyse data</a></span><ul class=\"toc-item\"><li><span><a href=\"#Production-/-manufacture-impact\" data-toc-modified-id=\"Production-/-manufacture-impact-3.1\"><span class=\"toc-item-num\">3.1&nbsp;&nbsp;</span>Production / manufacture impact</a></span><ul class=\"toc-item\"><li><span><a href=\"#Global-distribution-of-global-food-producers\" data-toc-modified-id=\"Global-distribution-of-global-food-producers-3.1.1\"><span class=\"toc-item-num\">3.1.1&nbsp;&nbsp;</span>Global distribution of global food producers</a></span><ul class=\"toc-item\"><li><span><a href=\"#How-is-this-distribution-impacted-when-we-consider-neutral-and-large-carbon-footprint-products?\" data-toc-modified-id=\"How-is-this-distribution-impacted-when-we-consider-neutral-and-large-carbon-footprint-products?-3.1.1.1\"><span class=\"toc-item-num\">3.1.1.1&nbsp;&nbsp;</span>How is this distribution impacted when we consider neutral and large carbon footprint products?</a></span></li></ul></li><li><span><a href=\"#Case-study:-Palm-oil\" data-toc-modified-id=\"Case-study:-Palm-oil-3.1.2\"><span class=\"toc-item-num\">3.1.2&nbsp;&nbsp;</span>Case study: Palm oil</a></span><ul class=\"toc-item\"><li><span><a href=\"#Can-we-observe-any-trend-in-the-number-of-products-including-palm-oil-(assuming-a-strong-dependence-between-date-the-product-was-added-to-the-database-and-data-the-product-was-invented)?\" data-toc-modified-id=\"Can-we-observe-any-trend-in-the-number-of-products-including-palm-oil-(assuming-a-strong-dependence-between-date-the-product-was-added-to-the-database-and-data-the-product-was-invented)?-3.1.2.1\"><span class=\"toc-item-num\">3.1.2.1&nbsp;&nbsp;</span>Can we observe any trend in the number of products including palm oil (assuming a strong dependence between date the product was added to the database and data the product was invented)?</a></span></li><li><span><a href=\"#Which-countries-use-palm-oils-for-production?\" data-toc-modified-id=\"Which-countries-use-palm-oils-for-production?-3.1.2.2\"><span class=\"toc-item-num\">3.1.2.2&nbsp;&nbsp;</span>Which countries use palm oils for production?</a></span></li></ul></li></ul></li><li><span><a href=\"#Good-nutrition-impact\" data-toc-modified-id=\"Good-nutrition-impact-3.2\"><span class=\"toc-item-num\">3.2&nbsp;&nbsp;</span>Good nutrition impact</a></span><ul class=\"toc-item\"><li><span><a href=\"#High-nutrional-products\" data-toc-modified-id=\"High-nutrional-products-3.2.1\"><span class=\"toc-item-num\">3.2.1&nbsp;&nbsp;</span>High-nutrional products</a></span><ul class=\"toc-item\"><li><span><a href=\"#What-are-those-products-made-of?\" data-toc-modified-id=\"What-are-those-products-made-of?-3.2.1.1\"><span class=\"toc-item-num\">3.2.1.1&nbsp;&nbsp;</span>What are those products made of?</a></span></li><li><span><a href=\"#Has-there-been-a-surge-in-high-graded-Products-in-the-France-over-the-past-years?\" data-toc-modified-id=\"Has-there-been-a-surge-in-high-graded-Products-in-the-France-over-the-past-years?-3.2.1.2\"><span class=\"toc-item-num\">3.2.1.2&nbsp;&nbsp;</span>Has there been a surge in high graded Products in the France over the past years?</a></span></li><li><span><a href=\"#Are-high-graded-products-more-expensive?\" data-toc-modified-id=\"Are-high-graded-products-more-expensive?-3.2.1.3\"><span class=\"toc-item-num\">3.2.1.3&nbsp;&nbsp;</span>Are high graded products more expensive?</a></span></li><li><span><a href=\"#Where-do-these-product-come-from-and-where-are-they-manufactured?\" data-toc-modified-id=\"Where-do-these-product-come-from-and-where-are-they-manufactured?-3.2.1.4\"><span class=\"toc-item-num\">3.2.1.4&nbsp;&nbsp;</span>Where do these product come from and where are they manufactured?</a></span></li><li><span><a href=\"#Where-are-those-products-sold?\" data-toc-modified-id=\"Where-are-those-products-sold?-3.2.1.5\"><span class=\"toc-item-num\">3.2.1.5&nbsp;&nbsp;</span>Where are those products sold?</a></span></li></ul></li><li><span><a href=\"#Carbon-footprint-of-nutritionally-high-graded-products\" data-toc-modified-id=\"Carbon-footprint-of-nutritionally-high-graded-products-3.2.2\"><span class=\"toc-item-num\">3.2.2&nbsp;&nbsp;</span>Carbon footprint of nutritionally-high graded products</a></span><ul class=\"toc-item\"><li><span><a href=\"#Is-there-a-general-correlation-between-high-carbon-footprint-and-price?\" data-toc-modified-id=\"Is-there-a-general-correlation-between-high-carbon-footprint-and-price?-3.2.2.1\"><span class=\"toc-item-num\">3.2.2.1&nbsp;&nbsp;</span>Is there a general correlation between high carbon footprint and price?</a></span></li></ul></li></ul></li></ul></li></ul></div>"
   ]
  },
  {
   "cell_type": "code",
   "execution_count": 1,
   "metadata": {},
   "outputs": [
    {
     "data": {
      "text/html": [
       "<script type=\"text/javascript\">window.PlotlyConfig = {MathJaxConfig: 'local'};</script><script type=\"text/javascript\">if (window.MathJax) {MathJax.Hub.Config({SVG: {font: \"STIX-Web\"}});}</script><script>requirejs.config({paths: { 'plotly': ['https://cdn.plot.ly/plotly-latest.min']},});if(!window._Plotly) {require(['plotly'],function(plotly) {window._Plotly=plotly;});}</script>"
      ],
      "text/vnd.plotly.v1+html": [
       "<script type=\"text/javascript\">window.PlotlyConfig = {MathJaxConfig: 'local'};</script><script type=\"text/javascript\">if (window.MathJax) {MathJax.Hub.Config({SVG: {font: \"STIX-Web\"}});}</script><script>requirejs.config({paths: { 'plotly': ['https://cdn.plot.ly/plotly-latest.min']},});if(!window._Plotly) {require(['plotly'],function(plotly) {window._Plotly=plotly;});}</script>"
      ]
     },
     "metadata": {},
     "output_type": "display_data"
    },
    {
     "data": {
      "text/html": [
       "<script type=\"text/javascript\">window.PlotlyConfig = {MathJaxConfig: 'local'};</script><script type=\"text/javascript\">if (window.MathJax) {MathJax.Hub.Config({SVG: {font: \"STIX-Web\"}});}</script><script>requirejs.config({paths: { 'plotly': ['https://cdn.plot.ly/plotly-latest.min']},});if(!window._Plotly) {require(['plotly'],function(plotly) {window._Plotly=plotly;});}</script>"
      ],
      "text/vnd.plotly.v1+html": [
       "<script type=\"text/javascript\">window.PlotlyConfig = {MathJaxConfig: 'local'};</script><script type=\"text/javascript\">if (window.MathJax) {MathJax.Hub.Config({SVG: {font: \"STIX-Web\"}});}</script><script>requirejs.config({paths: { 'plotly': ['https://cdn.plot.ly/plotly-latest.min']},});if(!window._Plotly) {require(['plotly'],function(plotly) {window._Plotly=plotly;});}</script>"
      ]
     },
     "metadata": {},
     "output_type": "display_data"
    }
   ],
   "source": [
    "import numpy as np\n",
    "import pandas as pd\n",
    "import matplotlib.pyplot as plt\n",
    "import folium\n",
    "from scipy import stats\n",
    "from datetime import datetime\n",
    "\n",
    "import json\n",
    "import pickle\n",
    "\n",
    "import os\n",
    "import sys\n",
    "nb_dir = os.path.split(os.getcwd())[0]\n",
    "if nb_dir not in sys.path:\n",
    "    sys.path.append(nb_dir)\n",
    "    \n",
    "%load_ext autoreload\n",
    "%autoreload 2\n",
    "    \n",
    "import libs.exploring as explore\n",
    "import libs.visualising as visualize\n",
    "import libs.cleansing as cleanse\n",
    "\n",
    "# Set up plotly environment\n",
    "from plotly.offline import download_plotlyjs, init_notebook_mode, plot, iplot\n",
    "import plotly.graph_objs as go\n",
    "import plotly.tools as tls\n",
    "init_notebook_mode(connected=True)"
   ]
  },
  {
   "cell_type": "markdown",
   "metadata": {},
   "source": [
    "Command to import the link for the website"
   ]
  },
  {
   "cell_type": "code",
   "execution_count": 2,
   "metadata": {},
   "outputs": [],
   "source": [
    "# tls.get_embed('https://plot.ly/~maxencedraguet/25/')\n",
    "save_plots_offline = False"
   ]
  },
  {
   "cell_type": "markdown",
   "metadata": {},
   "source": [
    "## Import cleansed data"
   ]
  },
  {
   "cell_type": "code",
   "execution_count": 3,
   "metadata": {},
   "outputs": [],
   "source": [
    "# Import data\n",
    "open_food_facts_csv_file = \"./data/openfoodfacts_clean.csv\"\n",
    "\n",
    "food_facts_pd = pd.read_csv(open_food_facts_csv_file,\n",
    "                            delimiter=\"\\t\")"
   ]
  },
  {
   "cell_type": "code",
   "execution_count": 4,
   "metadata": {},
   "outputs": [],
   "source": [
    "# Change column data types\n",
    "food_facts_pd['carbon-footprint_100g'] = food_facts_pd['carbon-footprint_100g'].apply(pd.to_numeric, args=('coerce',))\n",
    "food_facts_pd['energy_100g'] = food_facts_pd['energy_100g'].apply(pd.to_numeric, args=('coerce',))\n",
    "food_facts_pd['price_per_100g'] = food_facts_pd['price_per_100g'].apply(pd.to_numeric, args=('coerce',))\n",
    "food_facts_pd['created_datetime'] = food_facts_pd['created_datetime'].apply(pd.to_datetime, args=('coerce',))"
   ]
  },
  {
   "cell_type": "code",
   "execution_count": 5,
   "metadata": {},
   "outputs": [],
   "source": [
    "# Extract year from created date\n",
    "food_facts_pd['created_yyyy'] = food_facts_pd[\"created_datetime\"].dt.year"
   ]
  },
  {
   "cell_type": "markdown",
   "metadata": {},
   "source": [
    "Additionally to the OpenFoodFact dataset, we obtained an extract of the Eaternity dataset hosted by the ETH Zurich, which contains 692 more products and their CO2 footprint. Unfortunately, these products are not contained in the OpenFoodFacts database, so we lack manufacturing and purchasing information for this set. Further, the OpenFoodFacts categories were assigned based on manually matching the categories strings (since they were provided in German). "
   ]
  },
  {
   "cell_type": "code",
   "execution_count": 6,
   "metadata": {},
   "outputs": [],
   "source": [
    "# Import data\n",
    "eaternity_csv_file = \"./data/carbon_footprint_clean.csv\"\n",
    "\n",
    "eaternity_pd = pd.read_csv(eaternity_csv_file, delimiter=\"\\t\")"
   ]
  },
  {
   "cell_type": "markdown",
   "metadata": {},
   "source": [
    "## Analyse data"
   ]
  },
  {
   "cell_type": "markdown",
   "metadata": {},
   "source": [
    "Before we analyse the data, we have some confessions to make:\n",
    "\n",
    "The data that we loaded into this notebook was already preprocessed in the \"Open Food Facts - Cleanse data\" notebook, that can be found in the same directory. In there we translated countries, labels, and categories and formatted and matched tags. However, we also dropped more than 90% of the data set, because the data points were not complete for the purpose of our analysis.\n",
    "\n",
    "OpenFoodFacts was initiated in France, and products sold in France dominate data set by far. Moreover, most of the products are sold in Europe or industrial nations, and we have no or only sparse data about the African, Asian, Australian, and South-American continent, which excludes the majority of the world population and especially the societies in Asia and Africa, that undergo the most decisive transformations at the moment.\n",
    "\n",
    "Further, we only have qualitative data about the products, meaning no information about quantities in which they are produced and purchased world-wide. Also we could not find such public available data sets about the quantities in which certain products are consumed. As a consequence, we cannot provide a scale for all the insights that we gain throughout this notebook.\n",
    "\n",
    "What we are trying to say is, that the data is under no circumstances representative to analyse the research questions that we have posed in the abstract. However, we will provide the methods to perform this analysis on this comprised dataset, and see what kind of insights we can already squeeze out of the data at hand."
   ]
  },
  {
   "cell_type": "markdown",
   "metadata": {},
   "source": [
    "### Production / manufacture impact"
   ]
  },
  {
   "cell_type": "markdown",
   "metadata": {},
   "source": [
    "#### Global distribution of global food producers"
   ]
  },
  {
   "cell_type": "code",
   "execution_count": 7,
   "metadata": {},
   "outputs": [],
   "source": [
    "countries_label = pd.read_csv(\"./data/country_lookup.csv\")[['name', 'cca3']]     "
   ]
  },
  {
   "cell_type": "markdown",
   "metadata": {},
   "source": [
    "First, we answer the question where the most foot-items come from."
   ]
  },
  {
   "cell_type": "markdown",
   "metadata": {},
   "source": [
    "<i>plot_occurences_on_map</i> function plots the coutries corresponding to their occurences in the column thanks to choropleth"
   ]
  },
  {
   "cell_type": "code",
   "execution_count": 8,
   "metadata": {
    "scrolled": true
   },
   "outputs": [
    {
     "data": {
      "application/vnd.plotly.v1+json": {
       "data": [
        {
         "autocolorscale": false,
         "colorbar": {
          "len": 0.7,
          "tick0": 1,
          "tickmode": "array",
          "ticktext": [
           "1",
           "10<sup>1/2</sup>",
           "10<sup>1</sup>",
           "10<sup>3/2</sup>",
           "10<sup>2</sup>",
           "10<sup>5/2</sup>",
           "10<sup>3</sup>",
           "10<sup>3/2</sup>",
           "10<sup>4</sup>"
          ],
          "tickvals": [
           0,
           0.5,
           1,
           1.5,
           2,
           2.5,
           3,
           3.5,
           4
          ],
          "title": "Counts"
         },
         "colorscale": "Viridis",
         "hoverinfo": "text",
         "locations": [
          "NER",
          "BES",
          "AUT",
          "CHL",
          "NOR",
          "BRA",
          "ESP",
          "PYF",
          "NIC",
          "PNG",
          "NLD",
          "EGY",
          "BFA",
          "CHE",
          "UGA",
          "BGR",
          "BGD",
          "CUB",
          "SYR",
          "SVK",
          "MNE",
          "ARG",
          "TUN",
          "GRC",
          "HTI",
          "FIN",
          "IOT",
          "LSO",
          "RUS",
          "NFK",
          "VEN",
          "LKA",
          "IRL",
          "DMA",
          "FRO",
          "NCL",
          "MKD",
          "SDN",
          "SJM",
          "IND",
          "NAM",
          "DNK",
          "PRY",
          "TTO",
          "GIN",
          "UKR",
          "JPN",
          "HKG",
          "MTQ",
          "USA",
          "COM",
          "SGP",
          "EST",
          "IDN",
          "BEL",
          "SLV",
          "DOM",
          "RWA",
          "LBN",
          "MAR",
          "STP",
          "KOR",
          "GUY",
          "TZA",
          "GBR",
          "CAN",
          "MMR",
          "PHL",
          "SWE",
          "SAU",
          "ROU",
          "CRI",
          "ECU",
          "IRN",
          "PER",
          "DZA",
          "TGO",
          "BDI",
          "VNM",
          "NGA",
          "CHN",
          "GEO",
          "UZB",
          "URY",
          "ITA",
          "ZAF",
          "AUS",
          "KEN",
          "LUX",
          "NZL",
          "SVN",
          "COD",
          "REU",
          "GUF",
          "AFG",
          "TWN",
          "CZE",
          "MYS",
          "MHL",
          "ISR",
          "FRA",
          "PRT",
          "ETH",
          "SRB",
          "SYC",
          "JAM",
          "UMI",
          "HRV",
          "BOL",
          "WSM",
          "GRL",
          "MDA",
          "AZE",
          "THA",
          "CMR",
          "ISL",
          "BIH",
          "COL",
          "MEX",
          "PAK",
          "CIV",
          "CYP",
          "LAO",
          "GHA",
          "GLP",
          "HUN",
          "BLR",
          "LTU",
          "TUR",
          "DEU",
          "MDG",
          "HND",
          "KHM",
          "POL",
          "GTM",
          "SEN"
         ],
         "reversescale": true,
         "text": [
          "Niger 10",
          "Caribbean Netherlands 1",
          "Austria 51",
          "Chile 57",
          "Norway 132",
          "Brazil 59",
          "Spain 1162",
          "French Polynesia 5",
          "Nicaragua 5",
          "Papua New Guinea 13",
          "Netherlands 143",
          "Egypt 13",
          "Burkina Faso 2",
          "Switzerland 293",
          "Uganda 1",
          "Bulgaria 10",
          "Bangladesh 2",
          "Cuba 6",
          "Syria 1",
          "Slovakia 1",
          "Montenegro 1",
          "Argentina 92",
          "Tunisia 31",
          "Greece 71",
          "Haiti 5",
          "Finland 4",
          "British Indian Ocean Territory 26",
          "Lesotho 1",
          "Russia 41",
          "Norfolk Island 2",
          "Venezuela 5",
          "Sri Lanka 30",
          "Ireland 82",
          "Dominica 49",
          "Faroe Islands 17",
          "New Caledonia 3",
          "Macedonia 1",
          "Sudan 1",
          "Svalbard and Jan Mayen 1",
          "India 98",
          "Namibia 1",
          "Denmark 57",
          "Paraguay 31",
          "Trinidad and Tobago 3",
          "Guinea 14",
          "Ukraine 2",
          "Japan 17",
          "Hong Kong 3",
          "Martinique 6",
          "United States 313",
          "Comoros 1",
          "Singapore 7",
          "Estonia 3",
          "Indonesia 43",
          "Belgium 132",
          "El Salvador 3",
          "Dominican Republic 48",
          "Rwanda 1",
          "Lebanon 1",
          "Morocco 46",
          "São Tomé and Príncipe 7",
          "South Korea 15",
          "Guyana 1",
          "Tanzania 6",
          "United Kingdom 533",
          "Canada 150",
          "Myanmar 1",
          "Philippines 26",
          "Sweden 92",
          "Saudi Arabia 2",
          "Romania 19",
          "Costa Rica 19",
          "Ecuador 42",
          "Iran 10",
          "Peru 173",
          "Algeria 13",
          "Togo 1",
          "Burundi 2",
          "Vietnam 74",
          "Nigeria 1",
          "China 232",
          "Georgia 2",
          "Uzbekistan 1",
          "Uruguay 22",
          "Italy 599",
          "South Africa 58",
          "Australia 454",
          "Kenya 11",
          "Luxembourg 8",
          "New Zealand 49",
          "Slovenia 2",
          "DR Congo 2",
          "Réunion 16",
          "French Guiana 1",
          "Afghanistan 1",
          "Taiwan 12",
          "Czechia 9",
          "Malaysia 14",
          "Marshall Islands 2",
          "Israel 19",
          "France 7035",
          "Portugal 56",
          "Ethiopia 2",
          "Serbia 6",
          "Seychelles 3",
          "Jamaica 1",
          "United States Minor Outlying Islands 4",
          "Croatia 1",
          "Bolivia 39",
          "Samoa 2",
          "Greenland 2",
          "Moldova 3",
          "Azerbaijan 1",
          "Thailand 136",
          "Cameroon 6",
          "Iceland 22",
          "Bosnia and Herzegovina 2",
          "Colombia 17",
          "Mexico 1031",
          "Pakistan 10",
          "Ivory Coast 15",
          "Cyprus 6",
          "Laos 3",
          "Ghana 4",
          "Guadeloupe 3",
          "Hungary 18",
          "Belarus 2",
          "Lithuania 9",
          "Turkey 98",
          "Germany 383",
          "Madagascar 136",
          "Honduras 5",
          "Cambodia 3",
          "Poland 52",
          "Guatemala 7",
          "Senegal 4"
         ],
         "type": "choropleth",
         "uid": "e80f77f9-888b-4c1d-8112-24a234bbf8b0",
         "z": [
          1,
          0,
          1.7075701760979363,
          1.7558748556724915,
          2.12057393120585,
          1.7708520116421442,
          3.065206128054312,
          0.6989700043360189,
          0.6989700043360189,
          1.1139433523068367,
          2.155336037465062,
          1.1139433523068367,
          0.3010299956639812,
          2.4668676203541096,
          0,
          1,
          0.3010299956639812,
          0.7781512503836436,
          0,
          0,
          0,
          1.9637878273455553,
          1.4913616938342726,
          1.8512583487190752,
          0.6989700043360189,
          0.6020599913279624,
          1.414973347970818,
          0,
          1.6127838567197355,
          0.3010299956639812,
          0.6989700043360189,
          1.4771212547196624,
          1.9138138523837167,
          1.6901960800285136,
          1.2304489213782739,
          0.47712125471966244,
          0,
          0,
          0,
          1.9912260756924949,
          0,
          1.7558748556724915,
          1.4913616938342726,
          0.47712125471966244,
          1.146128035678238,
          0.3010299956639812,
          1.2304489213782739,
          0.47712125471966244,
          0.7781512503836436,
          2.4955443375464483,
          0,
          0.8450980400142568,
          0.47712125471966244,
          1.6334684555795866,
          2.12057393120585,
          0.47712125471966244,
          1.6812412373755872,
          0,
          0,
          1.662757831681574,
          0.8450980400142568,
          1.1760912590556813,
          0,
          0.7781512503836436,
          2.7267272090265724,
          2.1760912590556813,
          0,
          1.414973347970818,
          1.9637878273455553,
          0.3010299956639812,
          1.2787536009528289,
          1.2787536009528289,
          1.6232492903979006,
          1,
          2.2380461031287955,
          1.1139433523068367,
          0,
          0.3010299956639812,
          1.8692317197309762,
          0,
          2.3654879848909,
          0.3010299956639812,
          0,
          1.3424226808222062,
          2.7774268223893115,
          1.7634279935629373,
          2.6570558528571038,
          1.041392685158225,
          0.9030899869919435,
          1.6901960800285136,
          0.3010299956639812,
          0.3010299956639812,
          1.2041199826559248,
          0,
          0,
          1.0791812460476249,
          0.9542425094393249,
          1.146128035678238,
          0.3010299956639812,
          1.2787536009528289,
          3.8472641017707643,
          1.7481880270062005,
          0.3010299956639812,
          0.7781512503836436,
          0.47712125471966244,
          0,
          0.6020599913279624,
          0,
          1.591064607026499,
          0.3010299956639812,
          0.3010299956639812,
          0.47712125471966244,
          0,
          2.1335389083702174,
          0.7781512503836436,
          1.3424226808222062,
          0.3010299956639812,
          1.2304489213782739,
          3.0132586652835167,
          1,
          1.1760912590556813,
          0.7781512503836436,
          0.47712125471966244,
          0.6020599913279624,
          0.47712125471966244,
          1.255272505103306,
          0.3010299956639812,
          0.9542425094393249,
          1.9912260756924949,
          2.583198773968623,
          2.1335389083702174,
          0.6989700043360189,
          0.47712125471966244,
          1.7160033436347992,
          0.8450980400142568,
          0.6020599913279624
         ]
        }
       ],
       "layout": {
        "geo": {
         "coastlinecolor": "rgb(255, 255, 255)",
         "countrycolor": "rgb(255, 255, 255)",
         "landcolor": "rgb(229, 229, 229)",
         "projection": {
          "type": "equirectangular"
         },
         "showcoastlines": true,
         "showframe": false,
         "showland": true
        },
        "margin": {
         "b": 0,
         "l": 50,
         "pad": 4,
         "r": 100,
         "t": 0
        },
        "showlegend": false,
        "xaxis": {
         "fixedrange": true
        },
        "yaxis": {
         "fixedrange": true
        }
       }
      },
      "text/html": [
       "<div id=\"8edb7084-f877-42ff-b1aa-ec3e3683cb17\" style=\"height: 525px; width: 100%;\" class=\"plotly-graph-div\"></div><script type=\"text/javascript\">require([\"plotly\"], function(Plotly) { window.PLOTLYENV=window.PLOTLYENV || {};window.PLOTLYENV.BASE_URL=\"https://plot.ly\";Plotly.newPlot(\"8edb7084-f877-42ff-b1aa-ec3e3683cb17\", [{\"autocolorscale\": false, \"colorbar\": {\"len\": 0.7, \"tick0\": 1, \"tickmode\": \"array\", \"ticktext\": [\"1\", \"10<sup>1/2</sup>\", \"10<sup>1</sup>\", \"10<sup>3/2</sup>\", \"10<sup>2</sup>\", \"10<sup>5/2</sup>\", \"10<sup>3</sup>\", \"10<sup>3/2</sup>\", \"10<sup>4</sup>\"], \"tickvals\": [0, 0.5, 1, 1.5, 2, 2.5, 3, 3.5, 4], \"title\": \"Counts\"}, \"colorscale\": \"Viridis\", \"hoverinfo\": \"text\", \"locations\": [\"NER\", \"BES\", \"AUT\", \"CHL\", \"NOR\", \"BRA\", \"ESP\", \"PYF\", \"NIC\", \"PNG\", \"NLD\", \"EGY\", \"BFA\", \"CHE\", \"UGA\", \"BGR\", \"BGD\", \"CUB\", \"SYR\", \"SVK\", \"MNE\", \"ARG\", \"TUN\", \"GRC\", \"HTI\", \"FIN\", \"IOT\", \"LSO\", \"RUS\", \"NFK\", \"VEN\", \"LKA\", \"IRL\", \"DMA\", \"FRO\", \"NCL\", \"MKD\", \"SDN\", \"SJM\", \"IND\", \"NAM\", \"DNK\", \"PRY\", \"TTO\", \"GIN\", \"UKR\", \"JPN\", \"HKG\", \"MTQ\", \"USA\", \"COM\", \"SGP\", \"EST\", \"IDN\", \"BEL\", \"SLV\", \"DOM\", \"RWA\", \"LBN\", \"MAR\", \"STP\", \"KOR\", \"GUY\", \"TZA\", \"GBR\", \"CAN\", \"MMR\", \"PHL\", \"SWE\", \"SAU\", \"ROU\", \"CRI\", \"ECU\", \"IRN\", \"PER\", \"DZA\", \"TGO\", \"BDI\", \"VNM\", \"NGA\", \"CHN\", \"GEO\", \"UZB\", \"URY\", \"ITA\", \"ZAF\", \"AUS\", \"KEN\", \"LUX\", \"NZL\", \"SVN\", \"COD\", \"REU\", \"GUF\", \"AFG\", \"TWN\", \"CZE\", \"MYS\", \"MHL\", \"ISR\", \"FRA\", \"PRT\", \"ETH\", \"SRB\", \"SYC\", \"JAM\", \"UMI\", \"HRV\", \"BOL\", \"WSM\", \"GRL\", \"MDA\", \"AZE\", \"THA\", \"CMR\", \"ISL\", \"BIH\", \"COL\", \"MEX\", \"PAK\", \"CIV\", \"CYP\", \"LAO\", \"GHA\", \"GLP\", \"HUN\", \"BLR\", \"LTU\", \"TUR\", \"DEU\", \"MDG\", \"HND\", \"KHM\", \"POL\", \"GTM\", \"SEN\"], \"reversescale\": true, \"text\": [\"Niger 10\", \"Caribbean Netherlands 1\", \"Austria 51\", \"Chile 57\", \"Norway 132\", \"Brazil 59\", \"Spain 1162\", \"French Polynesia 5\", \"Nicaragua 5\", \"Papua New Guinea 13\", \"Netherlands 143\", \"Egypt 13\", \"Burkina Faso 2\", \"Switzerland 293\", \"Uganda 1\", \"Bulgaria 10\", \"Bangladesh 2\", \"Cuba 6\", \"Syria 1\", \"Slovakia 1\", \"Montenegro 1\", \"Argentina 92\", \"Tunisia 31\", \"Greece 71\", \"Haiti 5\", \"Finland 4\", \"British Indian Ocean Territory 26\", \"Lesotho 1\", \"Russia 41\", \"Norfolk Island 2\", \"Venezuela 5\", \"Sri Lanka 30\", \"Ireland 82\", \"Dominica 49\", \"Faroe Islands 17\", \"New Caledonia 3\", \"Macedonia 1\", \"Sudan 1\", \"Svalbard and Jan Mayen 1\", \"India 98\", \"Namibia 1\", \"Denmark 57\", \"Paraguay 31\", \"Trinidad and Tobago 3\", \"Guinea 14\", \"Ukraine 2\", \"Japan 17\", \"Hong Kong 3\", \"Martinique 6\", \"United States 313\", \"Comoros 1\", \"Singapore 7\", \"Estonia 3\", \"Indonesia 43\", \"Belgium 132\", \"El Salvador 3\", \"Dominican Republic 48\", \"Rwanda 1\", \"Lebanon 1\", \"Morocco 46\", \"S\\u00e3o Tom\\u00e9 and Pr\\u00edncipe 7\", \"South Korea 15\", \"Guyana 1\", \"Tanzania 6\", \"United Kingdom 533\", \"Canada 150\", \"Myanmar 1\", \"Philippines 26\", \"Sweden 92\", \"Saudi Arabia 2\", \"Romania 19\", \"Costa Rica 19\", \"Ecuador 42\", \"Iran 10\", \"Peru 173\", \"Algeria 13\", \"Togo 1\", \"Burundi 2\", \"Vietnam 74\", \"Nigeria 1\", \"China 232\", \"Georgia 2\", \"Uzbekistan 1\", \"Uruguay 22\", \"Italy 599\", \"South Africa 58\", \"Australia 454\", \"Kenya 11\", \"Luxembourg 8\", \"New Zealand 49\", \"Slovenia 2\", \"DR Congo 2\", \"R\\u00e9union 16\", \"French Guiana 1\", \"Afghanistan 1\", \"Taiwan 12\", \"Czechia 9\", \"Malaysia 14\", \"Marshall Islands 2\", \"Israel 19\", \"France 7035\", \"Portugal 56\", \"Ethiopia 2\", \"Serbia 6\", \"Seychelles 3\", \"Jamaica 1\", \"United States Minor Outlying Islands 4\", \"Croatia 1\", \"Bolivia 39\", \"Samoa 2\", \"Greenland 2\", \"Moldova 3\", \"Azerbaijan 1\", \"Thailand 136\", \"Cameroon 6\", \"Iceland 22\", \"Bosnia and Herzegovina 2\", \"Colombia 17\", \"Mexico 1031\", \"Pakistan 10\", \"Ivory Coast 15\", \"Cyprus 6\", \"Laos 3\", \"Ghana 4\", \"Guadeloupe 3\", \"Hungary 18\", \"Belarus 2\", \"Lithuania 9\", \"Turkey 98\", \"Germany 383\", \"Madagascar 136\", \"Honduras 5\", \"Cambodia 3\", \"Poland 52\", \"Guatemala 7\", \"Senegal 4\"], \"z\": [1.0, 0.0, 1.7075701760979363, 1.7558748556724915, 2.12057393120585, 1.7708520116421442, 3.065206128054312, 0.6989700043360189, 0.6989700043360189, 1.1139433523068367, 2.155336037465062, 1.1139433523068367, 0.3010299956639812, 2.4668676203541096, 0.0, 1.0, 0.3010299956639812, 0.7781512503836436, 0.0, 0.0, 0.0, 1.9637878273455553, 1.4913616938342726, 1.8512583487190752, 0.6989700043360189, 0.6020599913279624, 1.414973347970818, 0.0, 1.6127838567197355, 0.3010299956639812, 0.6989700043360189, 1.4771212547196624, 1.9138138523837167, 1.6901960800285136, 1.2304489213782739, 0.47712125471966244, 0.0, 0.0, 0.0, 1.9912260756924949, 0.0, 1.7558748556724915, 1.4913616938342726, 0.47712125471966244, 1.146128035678238, 0.3010299956639812, 1.2304489213782739, 0.47712125471966244, 0.7781512503836436, 2.4955443375464483, 0.0, 0.8450980400142568, 0.47712125471966244, 1.6334684555795866, 2.12057393120585, 0.47712125471966244, 1.6812412373755872, 0.0, 0.0, 1.662757831681574, 0.8450980400142568, 1.1760912590556813, 0.0, 0.7781512503836436, 2.7267272090265724, 2.1760912590556813, 0.0, 1.414973347970818, 1.9637878273455553, 0.3010299956639812, 1.2787536009528289, 1.2787536009528289, 1.6232492903979006, 1.0, 2.2380461031287955, 1.1139433523068367, 0.0, 0.3010299956639812, 1.8692317197309762, 0.0, 2.3654879848909, 0.3010299956639812, 0.0, 1.3424226808222062, 2.7774268223893115, 1.7634279935629373, 2.6570558528571038, 1.041392685158225, 0.9030899869919435, 1.6901960800285136, 0.3010299956639812, 0.3010299956639812, 1.2041199826559248, 0.0, 0.0, 1.0791812460476249, 0.9542425094393249, 1.146128035678238, 0.3010299956639812, 1.2787536009528289, 3.8472641017707643, 1.7481880270062005, 0.3010299956639812, 0.7781512503836436, 0.47712125471966244, 0.0, 0.6020599913279624, 0.0, 1.591064607026499, 0.3010299956639812, 0.3010299956639812, 0.47712125471966244, 0.0, 2.1335389083702174, 0.7781512503836436, 1.3424226808222062, 0.3010299956639812, 1.2304489213782739, 3.0132586652835167, 1.0, 1.1760912590556813, 0.7781512503836436, 0.47712125471966244, 0.6020599913279624, 0.47712125471966244, 1.255272505103306, 0.3010299956639812, 0.9542425094393249, 1.9912260756924949, 2.583198773968623, 2.1335389083702174, 0.6989700043360189, 0.47712125471966244, 1.7160033436347992, 0.8450980400142568, 0.6020599913279624], \"type\": \"choropleth\", \"uid\": \"b19c7640-759f-4253-8bfd-235cfa6b5a67\"}], {\"geo\": {\"coastlinecolor\": \"rgb(255, 255, 255)\", \"countrycolor\": \"rgb(255, 255, 255)\", \"landcolor\": \"rgb(229, 229, 229)\", \"projection\": {\"type\": \"equirectangular\"}, \"showcoastlines\": true, \"showframe\": false, \"showland\": true}, \"margin\": {\"b\": 0, \"l\": 50, \"pad\": 4, \"r\": 100, \"t\": 0}, \"showlegend\": false, \"xaxis\": {\"fixedrange\": true}, \"yaxis\": {\"fixedrange\": true}}, {\"showLink\": true, \"linkText\": \"Export to plot.ly\"})});</script><script type=\"text/javascript\">window.addEventListener(\"resize\", function(){window._Plotly.Plots.resize(document.getElementById(\"8edb7084-f877-42ff-b1aa-ec3e3683cb17\"));});</script>"
      ],
      "text/vnd.plotly.v1+html": [
       "<div id=\"8edb7084-f877-42ff-b1aa-ec3e3683cb17\" style=\"height: 525px; width: 100%;\" class=\"plotly-graph-div\"></div><script type=\"text/javascript\">require([\"plotly\"], function(Plotly) { window.PLOTLYENV=window.PLOTLYENV || {};window.PLOTLYENV.BASE_URL=\"https://plot.ly\";Plotly.newPlot(\"8edb7084-f877-42ff-b1aa-ec3e3683cb17\", [{\"autocolorscale\": false, \"colorbar\": {\"len\": 0.7, \"tick0\": 1, \"tickmode\": \"array\", \"ticktext\": [\"1\", \"10<sup>1/2</sup>\", \"10<sup>1</sup>\", \"10<sup>3/2</sup>\", \"10<sup>2</sup>\", \"10<sup>5/2</sup>\", \"10<sup>3</sup>\", \"10<sup>3/2</sup>\", \"10<sup>4</sup>\"], \"tickvals\": [0, 0.5, 1, 1.5, 2, 2.5, 3, 3.5, 4], \"title\": \"Counts\"}, \"colorscale\": \"Viridis\", \"hoverinfo\": \"text\", \"locations\": [\"NER\", \"BES\", \"AUT\", \"CHL\", \"NOR\", \"BRA\", \"ESP\", \"PYF\", \"NIC\", \"PNG\", \"NLD\", \"EGY\", \"BFA\", \"CHE\", \"UGA\", \"BGR\", \"BGD\", \"CUB\", \"SYR\", \"SVK\", \"MNE\", \"ARG\", \"TUN\", \"GRC\", \"HTI\", \"FIN\", \"IOT\", \"LSO\", \"RUS\", \"NFK\", \"VEN\", \"LKA\", \"IRL\", \"DMA\", \"FRO\", \"NCL\", \"MKD\", \"SDN\", \"SJM\", \"IND\", \"NAM\", \"DNK\", \"PRY\", \"TTO\", \"GIN\", \"UKR\", \"JPN\", \"HKG\", \"MTQ\", \"USA\", \"COM\", \"SGP\", \"EST\", \"IDN\", \"BEL\", \"SLV\", \"DOM\", \"RWA\", \"LBN\", \"MAR\", \"STP\", \"KOR\", \"GUY\", \"TZA\", \"GBR\", \"CAN\", \"MMR\", \"PHL\", \"SWE\", \"SAU\", \"ROU\", \"CRI\", \"ECU\", \"IRN\", \"PER\", \"DZA\", \"TGO\", \"BDI\", \"VNM\", \"NGA\", \"CHN\", \"GEO\", \"UZB\", \"URY\", \"ITA\", \"ZAF\", \"AUS\", \"KEN\", \"LUX\", \"NZL\", \"SVN\", \"COD\", \"REU\", \"GUF\", \"AFG\", \"TWN\", \"CZE\", \"MYS\", \"MHL\", \"ISR\", \"FRA\", \"PRT\", \"ETH\", \"SRB\", \"SYC\", \"JAM\", \"UMI\", \"HRV\", \"BOL\", \"WSM\", \"GRL\", \"MDA\", \"AZE\", \"THA\", \"CMR\", \"ISL\", \"BIH\", \"COL\", \"MEX\", \"PAK\", \"CIV\", \"CYP\", \"LAO\", \"GHA\", \"GLP\", \"HUN\", \"BLR\", \"LTU\", \"TUR\", \"DEU\", \"MDG\", \"HND\", \"KHM\", \"POL\", \"GTM\", \"SEN\"], \"reversescale\": true, \"text\": [\"Niger 10\", \"Caribbean Netherlands 1\", \"Austria 51\", \"Chile 57\", \"Norway 132\", \"Brazil 59\", \"Spain 1162\", \"French Polynesia 5\", \"Nicaragua 5\", \"Papua New Guinea 13\", \"Netherlands 143\", \"Egypt 13\", \"Burkina Faso 2\", \"Switzerland 293\", \"Uganda 1\", \"Bulgaria 10\", \"Bangladesh 2\", \"Cuba 6\", \"Syria 1\", \"Slovakia 1\", \"Montenegro 1\", \"Argentina 92\", \"Tunisia 31\", \"Greece 71\", \"Haiti 5\", \"Finland 4\", \"British Indian Ocean Territory 26\", \"Lesotho 1\", \"Russia 41\", \"Norfolk Island 2\", \"Venezuela 5\", \"Sri Lanka 30\", \"Ireland 82\", \"Dominica 49\", \"Faroe Islands 17\", \"New Caledonia 3\", \"Macedonia 1\", \"Sudan 1\", \"Svalbard and Jan Mayen 1\", \"India 98\", \"Namibia 1\", \"Denmark 57\", \"Paraguay 31\", \"Trinidad and Tobago 3\", \"Guinea 14\", \"Ukraine 2\", \"Japan 17\", \"Hong Kong 3\", \"Martinique 6\", \"United States 313\", \"Comoros 1\", \"Singapore 7\", \"Estonia 3\", \"Indonesia 43\", \"Belgium 132\", \"El Salvador 3\", \"Dominican Republic 48\", \"Rwanda 1\", \"Lebanon 1\", \"Morocco 46\", \"S\\u00e3o Tom\\u00e9 and Pr\\u00edncipe 7\", \"South Korea 15\", \"Guyana 1\", \"Tanzania 6\", \"United Kingdom 533\", \"Canada 150\", \"Myanmar 1\", \"Philippines 26\", \"Sweden 92\", \"Saudi Arabia 2\", \"Romania 19\", \"Costa Rica 19\", \"Ecuador 42\", \"Iran 10\", \"Peru 173\", \"Algeria 13\", \"Togo 1\", \"Burundi 2\", \"Vietnam 74\", \"Nigeria 1\", \"China 232\", \"Georgia 2\", \"Uzbekistan 1\", \"Uruguay 22\", \"Italy 599\", \"South Africa 58\", \"Australia 454\", \"Kenya 11\", \"Luxembourg 8\", \"New Zealand 49\", \"Slovenia 2\", \"DR Congo 2\", \"R\\u00e9union 16\", \"French Guiana 1\", \"Afghanistan 1\", \"Taiwan 12\", \"Czechia 9\", \"Malaysia 14\", \"Marshall Islands 2\", \"Israel 19\", \"France 7035\", \"Portugal 56\", \"Ethiopia 2\", \"Serbia 6\", \"Seychelles 3\", \"Jamaica 1\", \"United States Minor Outlying Islands 4\", \"Croatia 1\", \"Bolivia 39\", \"Samoa 2\", \"Greenland 2\", \"Moldova 3\", \"Azerbaijan 1\", \"Thailand 136\", \"Cameroon 6\", \"Iceland 22\", \"Bosnia and Herzegovina 2\", \"Colombia 17\", \"Mexico 1031\", \"Pakistan 10\", \"Ivory Coast 15\", \"Cyprus 6\", \"Laos 3\", \"Ghana 4\", \"Guadeloupe 3\", \"Hungary 18\", \"Belarus 2\", \"Lithuania 9\", \"Turkey 98\", \"Germany 383\", \"Madagascar 136\", \"Honduras 5\", \"Cambodia 3\", \"Poland 52\", \"Guatemala 7\", \"Senegal 4\"], \"z\": [1.0, 0.0, 1.7075701760979363, 1.7558748556724915, 2.12057393120585, 1.7708520116421442, 3.065206128054312, 0.6989700043360189, 0.6989700043360189, 1.1139433523068367, 2.155336037465062, 1.1139433523068367, 0.3010299956639812, 2.4668676203541096, 0.0, 1.0, 0.3010299956639812, 0.7781512503836436, 0.0, 0.0, 0.0, 1.9637878273455553, 1.4913616938342726, 1.8512583487190752, 0.6989700043360189, 0.6020599913279624, 1.414973347970818, 0.0, 1.6127838567197355, 0.3010299956639812, 0.6989700043360189, 1.4771212547196624, 1.9138138523837167, 1.6901960800285136, 1.2304489213782739, 0.47712125471966244, 0.0, 0.0, 0.0, 1.9912260756924949, 0.0, 1.7558748556724915, 1.4913616938342726, 0.47712125471966244, 1.146128035678238, 0.3010299956639812, 1.2304489213782739, 0.47712125471966244, 0.7781512503836436, 2.4955443375464483, 0.0, 0.8450980400142568, 0.47712125471966244, 1.6334684555795866, 2.12057393120585, 0.47712125471966244, 1.6812412373755872, 0.0, 0.0, 1.662757831681574, 0.8450980400142568, 1.1760912590556813, 0.0, 0.7781512503836436, 2.7267272090265724, 2.1760912590556813, 0.0, 1.414973347970818, 1.9637878273455553, 0.3010299956639812, 1.2787536009528289, 1.2787536009528289, 1.6232492903979006, 1.0, 2.2380461031287955, 1.1139433523068367, 0.0, 0.3010299956639812, 1.8692317197309762, 0.0, 2.3654879848909, 0.3010299956639812, 0.0, 1.3424226808222062, 2.7774268223893115, 1.7634279935629373, 2.6570558528571038, 1.041392685158225, 0.9030899869919435, 1.6901960800285136, 0.3010299956639812, 0.3010299956639812, 1.2041199826559248, 0.0, 0.0, 1.0791812460476249, 0.9542425094393249, 1.146128035678238, 0.3010299956639812, 1.2787536009528289, 3.8472641017707643, 1.7481880270062005, 0.3010299956639812, 0.7781512503836436, 0.47712125471966244, 0.0, 0.6020599913279624, 0.0, 1.591064607026499, 0.3010299956639812, 0.3010299956639812, 0.47712125471966244, 0.0, 2.1335389083702174, 0.7781512503836436, 1.3424226808222062, 0.3010299956639812, 1.2304489213782739, 3.0132586652835167, 1.0, 1.1760912590556813, 0.7781512503836436, 0.47712125471966244, 0.6020599913279624, 0.47712125471966244, 1.255272505103306, 0.3010299956639812, 0.9542425094393249, 1.9912260756924949, 2.583198773968623, 2.1335389083702174, 0.6989700043360189, 0.47712125471966244, 1.7160033436347992, 0.8450980400142568, 0.6020599913279624], \"type\": \"choropleth\", \"uid\": \"b19c7640-759f-4253-8bfd-235cfa6b5a67\"}], {\"geo\": {\"coastlinecolor\": \"rgb(255, 255, 255)\", \"countrycolor\": \"rgb(255, 255, 255)\", \"landcolor\": \"rgb(229, 229, 229)\", \"projection\": {\"type\": \"equirectangular\"}, \"showcoastlines\": true, \"showframe\": false, \"showland\": true}, \"margin\": {\"b\": 0, \"l\": 50, \"pad\": 4, \"r\": 100, \"t\": 0}, \"showlegend\": false, \"xaxis\": {\"fixedrange\": true}, \"yaxis\": {\"fixedrange\": true}}, {\"showLink\": true, \"linkText\": \"Export to plot.ly\"})});</script><script type=\"text/javascript\">window.addEventListener(\"resize\", function(){window._Plotly.Plots.resize(document.getElementById(\"8edb7084-f877-42ff-b1aa-ec3e3683cb17\"));});</script>"
      ]
     },
     "metadata": {},
     "output_type": "display_data"
    }
   ],
   "source": [
    "visualize.plot_occurrences_on_map(df=food_facts_pd, \n",
    "                                  column_key='origins',\n",
    "                                  save_offline = save_plots_offline, \n",
    "                                  save_offline_title= 'origin_all',\n",
    "                                  show_distances=False)"
   ]
  },
  {
   "cell_type": "markdown",
   "metadata": {},
   "source": [
    "**Where are those products manufactured?**"
   ]
  },
  {
   "cell_type": "code",
   "execution_count": 9,
   "metadata": {},
   "outputs": [
    {
     "data": {
      "application/vnd.plotly.v1+json": {
       "data": [
        {
         "autocolorscale": false,
         "colorbar": {
          "len": 0.7,
          "tick0": 1,
          "tickmode": "array",
          "ticktext": [
           "1",
           "10<sup>1/2</sup>",
           "10<sup>1</sup>",
           "10<sup>3/2</sup>",
           "10<sup>2</sup>",
           "10<sup>5/2</sup>",
           "10<sup>3</sup>",
           "10<sup>3/2</sup>",
           "10<sup>4</sup>"
          ],
          "tickvals": [
           0,
           0.5,
           1,
           1.5,
           2,
           2.5,
           3,
           3.5,
           4
          ],
          "title": "Counts"
         },
         "colorscale": "Viridis",
         "hoverinfo": "text",
         "locations": [
          "NER",
          "BES",
          "AUT",
          "ATF",
          "CHL",
          "NOR",
          "BRA",
          "ESP",
          "PYF",
          "PNG",
          "NLD",
          "SPM",
          "MCO",
          "EGY",
          "CHE",
          "BGR",
          "BGD",
          "SLE",
          "BRN",
          "CUB",
          "SYR",
          "SVK",
          "MNE",
          "ARG",
          "TUN",
          "GRC",
          "FIN",
          "LIE",
          "NFK",
          "RUS",
          "VEN",
          "LKA",
          "YEM",
          "IRL",
          "NCL",
          "LVA",
          "KIR",
          "IND",
          "NAM",
          "DNK",
          "UKR",
          "JPN",
          "HKG",
          "MTQ",
          "USA",
          "CYM",
          "SGP",
          "EST",
          "IDN",
          "BEL",
          "SLV",
          "DOM",
          "LBN",
          "MAR",
          "CPV",
          "STP",
          "KOR",
          "GUY",
          "TZA",
          "PRI",
          "GBR",
          "ALB",
          "CAN",
          "MMR",
          "PHL",
          "SWE",
          "SAU",
          "ROU",
          "CRI",
          "ECU",
          "IRN",
          "PER",
          "DZA",
          "TGO",
          "VNM",
          "NGA",
          "CHN",
          "CAF",
          "GGY",
          "GEO",
          "MUS",
          "URY",
          "GRD",
          "ITA",
          "ZAF",
          "AUS",
          "KEN",
          "LUX",
          "NZL",
          "SVN",
          "COD",
          "REU",
          "GUF",
          "TWN",
          "CZE",
          "MYS",
          "MHL",
          "ISR",
          "FRA",
          "PRT",
          "SYC",
          "SRB",
          "UMI",
          "HRV",
          "BOL",
          "WSM",
          "MDA",
          "AZE",
          "THA",
          "CMR",
          "ISL",
          "BIH",
          "COL",
          "MEX",
          "PAK",
          "CIV",
          "CYP",
          "LAO",
          "MYT",
          "GLP",
          "GHA",
          "HUN",
          "ARM",
          "BLR",
          "LTU",
          "TUR",
          "DEU",
          "SWZ",
          "MDG",
          "BLM",
          "KHM",
          "POL",
          "GTM",
          "SEN"
         ],
         "reversescale": true,
         "text": [
          "Niger 26",
          "Caribbean Netherlands 4",
          "Austria 134",
          "French Southern and Antarctic Lands 8",
          "Chile 13",
          "Norway 28",
          "Brazil 43",
          "Spain 3649",
          "French Polynesia 8",
          "Papua New Guinea 3",
          "Netherlands 544",
          "Saint Pierre and Miquelon 1",
          "Monaco 2",
          "Egypt 3",
          "Switzerland 783",
          "Bulgaria 16",
          "Bangladesh 3",
          "Sierra Leone 2",
          "Brunei 2",
          "Cuba 2",
          "Syria 2",
          "Slovakia 10",
          "Montenegro 1",
          "Argentina 13",
          "Tunisia 39",
          "Greece 157",
          "Finland 21",
          "Liechtenstein 13",
          "Norfolk Island 17",
          "Russia 175",
          "Venezuela 27",
          "Sri Lanka 28",
          "Yemen 2",
          "Ireland 86",
          "New Caledonia 4",
          "Latvia 5",
          "Kiribati 2",
          "India 61",
          "Namibia 2",
          "Denmark 103",
          "Ukraine 2",
          "Japan 51",
          "Hong Kong 8",
          "Martinique 7",
          "United States 346",
          "Cayman Islands 2",
          "Singapore 17",
          "Estonia 3",
          "Indonesia 29",
          "Belgium 1227",
          "El Salvador 1",
          "Dominican Republic 3",
          "Lebanon 3",
          "Morocco 111",
          "Cape Verde 1",
          "São Tomé and Príncipe 1",
          "South Korea 33",
          "Guyana 1",
          "Tanzania 1",
          "Puerto Rico 2",
          "United Kingdom 3208",
          "Albania 1",
          "Canada 167",
          "Myanmar 2",
          "Philippines 13",
          "Sweden 286",
          "Saudi Arabia 2",
          "Romania 39",
          "Costa Rica 11",
          "Ecuador 11",
          "Iran 42",
          "Peru 39",
          "Algeria 12",
          "Togo 1",
          "Vietnam 66",
          "Nigeria 1",
          "China 288",
          "Central African Republic 1",
          "Guernsey 3",
          "Georgia 6",
          "Mauritius 8",
          "Uruguay 2",
          "Grenada 5",
          "Italy 2084",
          "South Africa 42",
          "Australia 507",
          "Kenya 15",
          "Luxembourg 39",
          "New Zealand 51",
          "Slovenia 7",
          "DR Congo 1",
          "Réunion 25",
          "French Guiana 4",
          "Taiwan 43",
          "Czechia 36",
          "Malaysia 31",
          "Marshall Islands 5",
          "Israel 46",
          "France 20494",
          "Portugal 218",
          "Seychelles 12",
          "Serbia 27",
          "United States Minor Outlying Islands 31",
          "Croatia 13",
          "Bolivia 76",
          "Samoa 17",
          "Moldova 3",
          "Azerbaijan 1",
          "Thailand 261",
          "Cameroon 5",
          "Iceland 24",
          "Bosnia and Herzegovina 1",
          "Colombia 18",
          "Mexico 653",
          "Pakistan 5",
          "Ivory Coast 11",
          "Cyprus 8",
          "Laos 2",
          "Mayotte 5",
          "Guadeloupe 12",
          "Ghana 6",
          "Hungary 56",
          "Armenia 5",
          "Belarus 3",
          "Lithuania 23",
          "Turkey 82",
          "Germany 2308",
          "Eswatini 1",
          "Madagascar 111",
          "Saint Barthélemy 1",
          "Cambodia 3",
          "Poland 176",
          "Guatemala 3",
          "Senegal 5"
         ],
         "type": "choropleth",
         "uid": "33e5281e-beff-4c25-8690-f6044dc408f3",
         "z": [
          1.414973347970818,
          0.6020599913279624,
          2.1271047983648077,
          0.9030899869919435,
          1.1139433523068367,
          1.4471580313422192,
          1.6334684555795866,
          3.5621738633646483,
          0.9030899869919435,
          0.47712125471966244,
          2.73559889969818,
          0,
          0.3010299956639812,
          0.47712125471966244,
          2.8937617620579434,
          1.2041199826559248,
          0.47712125471966244,
          0.3010299956639812,
          0.3010299956639812,
          0.3010299956639812,
          0.3010299956639812,
          1,
          0,
          1.1139433523068367,
          1.591064607026499,
          2.1958996524092336,
          1.3222192947339193,
          1.1139433523068367,
          1.2304489213782739,
          2.2430380486862944,
          1.4313637641589874,
          1.4471580313422192,
          0.3010299956639812,
          1.9344984512435677,
          0.6020599913279624,
          0.6989700043360189,
          0.3010299956639812,
          1.7853298350107671,
          0.3010299956639812,
          2.012837224705172,
          0.3010299956639812,
          1.7075701760979363,
          0.9030899869919435,
          0.8450980400142568,
          2.5390760987927767,
          0.3010299956639812,
          1.2304489213782739,
          0.47712125471966244,
          1.462397997898956,
          3.0888445627270045,
          0,
          0.47712125471966244,
          0.47712125471966244,
          2.0453229787866576,
          0,
          0,
          1.5185139398778875,
          0,
          0,
          0.3010299956639812,
          3.506234359612126,
          0,
          2.2227164711475833,
          0.3010299956639812,
          1.1139433523068367,
          2.456366033129043,
          0.3010299956639812,
          1.591064607026499,
          1.041392685158225,
          1.041392685158225,
          1.6232492903979006,
          1.591064607026499,
          1.0791812460476249,
          0,
          1.8195439355418688,
          0,
          2.459392487759231,
          0,
          0.47712125471966244,
          0.7781512503836436,
          0.9030899869919435,
          0.3010299956639812,
          0.6989700043360189,
          3.3188977146274867,
          1.6232492903979006,
          2.705007959333336,
          1.1760912590556813,
          1.591064607026499,
          1.7075701760979363,
          0.8450980400142568,
          0,
          1.3979400086720377,
          0.6020599913279624,
          1.6334684555795866,
          1.5563025007672873,
          1.4913616938342726,
          0.6989700043360189,
          1.662757831681574,
          4.311626731870506,
          2.3384564936046046,
          1.0791812460476249,
          1.4313637641589874,
          1.4913616938342726,
          1.1139433523068367,
          1.8808135922807914,
          1.2304489213782739,
          0.47712125471966244,
          0,
          2.416640507338281,
          0.6989700043360189,
          1.380211241711606,
          0,
          1.255272505103306,
          2.814913181275074,
          0.6989700043360189,
          1.041392685158225,
          0.9030899869919435,
          0.3010299956639812,
          0.6989700043360189,
          1.0791812460476249,
          0.7781512503836436,
          1.7481880270062005,
          0.6989700043360189,
          0.47712125471966244,
          1.3617278360175928,
          1.9138138523837167,
          3.363235804483694,
          0,
          2.0453229787866576,
          0,
          0.47712125471966244,
          2.24551266781415,
          0.47712125471966244,
          0.6989700043360189
         ]
        }
       ],
       "layout": {
        "geo": {
         "coastlinecolor": "rgb(255, 255, 255)",
         "countrycolor": "rgb(255, 255, 255)",
         "landcolor": "rgb(229, 229, 229)",
         "projection": {
          "type": "equirectangular"
         },
         "showcoastlines": true,
         "showframe": false,
         "showland": true
        },
        "margin": {
         "b": 0,
         "l": 50,
         "pad": 4,
         "r": 100,
         "t": 0
        },
        "showlegend": false,
        "xaxis": {
         "fixedrange": true
        },
        "yaxis": {
         "fixedrange": true
        }
       }
      },
      "text/html": [
       "<div id=\"353d660f-86e4-4aa7-a980-92a366518ad2\" style=\"height: 525px; width: 100%;\" class=\"plotly-graph-div\"></div><script type=\"text/javascript\">require([\"plotly\"], function(Plotly) { window.PLOTLYENV=window.PLOTLYENV || {};window.PLOTLYENV.BASE_URL=\"https://plot.ly\";Plotly.newPlot(\"353d660f-86e4-4aa7-a980-92a366518ad2\", [{\"autocolorscale\": false, \"colorbar\": {\"len\": 0.7, \"tick0\": 1, \"tickmode\": \"array\", \"ticktext\": [\"1\", \"10<sup>1/2</sup>\", \"10<sup>1</sup>\", \"10<sup>3/2</sup>\", \"10<sup>2</sup>\", \"10<sup>5/2</sup>\", \"10<sup>3</sup>\", \"10<sup>3/2</sup>\", \"10<sup>4</sup>\"], \"tickvals\": [0, 0.5, 1, 1.5, 2, 2.5, 3, 3.5, 4], \"title\": \"Counts\"}, \"colorscale\": \"Viridis\", \"hoverinfo\": \"text\", \"locations\": [\"NER\", \"BES\", \"AUT\", \"ATF\", \"CHL\", \"NOR\", \"BRA\", \"ESP\", \"PYF\", \"PNG\", \"NLD\", \"SPM\", \"MCO\", \"EGY\", \"CHE\", \"BGR\", \"BGD\", \"SLE\", \"BRN\", \"CUB\", \"SYR\", \"SVK\", \"MNE\", \"ARG\", \"TUN\", \"GRC\", \"FIN\", \"LIE\", \"NFK\", \"RUS\", \"VEN\", \"LKA\", \"YEM\", \"IRL\", \"NCL\", \"LVA\", \"KIR\", \"IND\", \"NAM\", \"DNK\", \"UKR\", \"JPN\", \"HKG\", \"MTQ\", \"USA\", \"CYM\", \"SGP\", \"EST\", \"IDN\", \"BEL\", \"SLV\", \"DOM\", \"LBN\", \"MAR\", \"CPV\", \"STP\", \"KOR\", \"GUY\", \"TZA\", \"PRI\", \"GBR\", \"ALB\", \"CAN\", \"MMR\", \"PHL\", \"SWE\", \"SAU\", \"ROU\", \"CRI\", \"ECU\", \"IRN\", \"PER\", \"DZA\", \"TGO\", \"VNM\", \"NGA\", \"CHN\", \"CAF\", \"GGY\", \"GEO\", \"MUS\", \"URY\", \"GRD\", \"ITA\", \"ZAF\", \"AUS\", \"KEN\", \"LUX\", \"NZL\", \"SVN\", \"COD\", \"REU\", \"GUF\", \"TWN\", \"CZE\", \"MYS\", \"MHL\", \"ISR\", \"FRA\", \"PRT\", \"SYC\", \"SRB\", \"UMI\", \"HRV\", \"BOL\", \"WSM\", \"MDA\", \"AZE\", \"THA\", \"CMR\", \"ISL\", \"BIH\", \"COL\", \"MEX\", \"PAK\", \"CIV\", \"CYP\", \"LAO\", \"MYT\", \"GLP\", \"GHA\", \"HUN\", \"ARM\", \"BLR\", \"LTU\", \"TUR\", \"DEU\", \"SWZ\", \"MDG\", \"BLM\", \"KHM\", \"POL\", \"GTM\", \"SEN\"], \"reversescale\": true, \"text\": [\"Niger 26\", \"Caribbean Netherlands 4\", \"Austria 134\", \"French Southern and Antarctic Lands 8\", \"Chile 13\", \"Norway 28\", \"Brazil 43\", \"Spain 3649\", \"French Polynesia 8\", \"Papua New Guinea 3\", \"Netherlands 544\", \"Saint Pierre and Miquelon 1\", \"Monaco 2\", \"Egypt 3\", \"Switzerland 783\", \"Bulgaria 16\", \"Bangladesh 3\", \"Sierra Leone 2\", \"Brunei 2\", \"Cuba 2\", \"Syria 2\", \"Slovakia 10\", \"Montenegro 1\", \"Argentina 13\", \"Tunisia 39\", \"Greece 157\", \"Finland 21\", \"Liechtenstein 13\", \"Norfolk Island 17\", \"Russia 175\", \"Venezuela 27\", \"Sri Lanka 28\", \"Yemen 2\", \"Ireland 86\", \"New Caledonia 4\", \"Latvia 5\", \"Kiribati 2\", \"India 61\", \"Namibia 2\", \"Denmark 103\", \"Ukraine 2\", \"Japan 51\", \"Hong Kong 8\", \"Martinique 7\", \"United States 346\", \"Cayman Islands 2\", \"Singapore 17\", \"Estonia 3\", \"Indonesia 29\", \"Belgium 1227\", \"El Salvador 1\", \"Dominican Republic 3\", \"Lebanon 3\", \"Morocco 111\", \"Cape Verde 1\", \"S\\u00e3o Tom\\u00e9 and Pr\\u00edncipe 1\", \"South Korea 33\", \"Guyana 1\", \"Tanzania 1\", \"Puerto Rico 2\", \"United Kingdom 3208\", \"Albania 1\", \"Canada 167\", \"Myanmar 2\", \"Philippines 13\", \"Sweden 286\", \"Saudi Arabia 2\", \"Romania 39\", \"Costa Rica 11\", \"Ecuador 11\", \"Iran 42\", \"Peru 39\", \"Algeria 12\", \"Togo 1\", \"Vietnam 66\", \"Nigeria 1\", \"China 288\", \"Central African Republic 1\", \"Guernsey 3\", \"Georgia 6\", \"Mauritius 8\", \"Uruguay 2\", \"Grenada 5\", \"Italy 2084\", \"South Africa 42\", \"Australia 507\", \"Kenya 15\", \"Luxembourg 39\", \"New Zealand 51\", \"Slovenia 7\", \"DR Congo 1\", \"R\\u00e9union 25\", \"French Guiana 4\", \"Taiwan 43\", \"Czechia 36\", \"Malaysia 31\", \"Marshall Islands 5\", \"Israel 46\", \"France 20494\", \"Portugal 218\", \"Seychelles 12\", \"Serbia 27\", \"United States Minor Outlying Islands 31\", \"Croatia 13\", \"Bolivia 76\", \"Samoa 17\", \"Moldova 3\", \"Azerbaijan 1\", \"Thailand 261\", \"Cameroon 5\", \"Iceland 24\", \"Bosnia and Herzegovina 1\", \"Colombia 18\", \"Mexico 653\", \"Pakistan 5\", \"Ivory Coast 11\", \"Cyprus 8\", \"Laos 2\", \"Mayotte 5\", \"Guadeloupe 12\", \"Ghana 6\", \"Hungary 56\", \"Armenia 5\", \"Belarus 3\", \"Lithuania 23\", \"Turkey 82\", \"Germany 2308\", \"Eswatini 1\", \"Madagascar 111\", \"Saint Barth\\u00e9lemy 1\", \"Cambodia 3\", \"Poland 176\", \"Guatemala 3\", \"Senegal 5\"], \"z\": [1.414973347970818, 0.6020599913279624, 2.1271047983648077, 0.9030899869919435, 1.1139433523068367, 1.4471580313422192, 1.6334684555795866, 3.5621738633646483, 0.9030899869919435, 0.47712125471966244, 2.73559889969818, 0.0, 0.3010299956639812, 0.47712125471966244, 2.8937617620579434, 1.2041199826559248, 0.47712125471966244, 0.3010299956639812, 0.3010299956639812, 0.3010299956639812, 0.3010299956639812, 1.0, 0.0, 1.1139433523068367, 1.591064607026499, 2.1958996524092336, 1.3222192947339193, 1.1139433523068367, 1.2304489213782739, 2.2430380486862944, 1.4313637641589874, 1.4471580313422192, 0.3010299956639812, 1.9344984512435677, 0.6020599913279624, 0.6989700043360189, 0.3010299956639812, 1.7853298350107671, 0.3010299956639812, 2.012837224705172, 0.3010299956639812, 1.7075701760979363, 0.9030899869919435, 0.8450980400142568, 2.5390760987927767, 0.3010299956639812, 1.2304489213782739, 0.47712125471966244, 1.462397997898956, 3.0888445627270045, 0.0, 0.47712125471966244, 0.47712125471966244, 2.0453229787866576, 0.0, 0.0, 1.5185139398778875, 0.0, 0.0, 0.3010299956639812, 3.506234359612126, 0.0, 2.2227164711475833, 0.3010299956639812, 1.1139433523068367, 2.456366033129043, 0.3010299956639812, 1.591064607026499, 1.041392685158225, 1.041392685158225, 1.6232492903979006, 1.591064607026499, 1.0791812460476249, 0.0, 1.8195439355418688, 0.0, 2.459392487759231, 0.0, 0.47712125471966244, 0.7781512503836436, 0.9030899869919435, 0.3010299956639812, 0.6989700043360189, 3.3188977146274867, 1.6232492903979006, 2.705007959333336, 1.1760912590556813, 1.591064607026499, 1.7075701760979363, 0.8450980400142568, 0.0, 1.3979400086720377, 0.6020599913279624, 1.6334684555795866, 1.5563025007672873, 1.4913616938342726, 0.6989700043360189, 1.662757831681574, 4.311626731870506, 2.3384564936046046, 1.0791812460476249, 1.4313637641589874, 1.4913616938342726, 1.1139433523068367, 1.8808135922807914, 1.2304489213782739, 0.47712125471966244, 0.0, 2.416640507338281, 0.6989700043360189, 1.380211241711606, 0.0, 1.255272505103306, 2.814913181275074, 0.6989700043360189, 1.041392685158225, 0.9030899869919435, 0.3010299956639812, 0.6989700043360189, 1.0791812460476249, 0.7781512503836436, 1.7481880270062005, 0.6989700043360189, 0.47712125471966244, 1.3617278360175928, 1.9138138523837167, 3.363235804483694, 0.0, 2.0453229787866576, 0.0, 0.47712125471966244, 2.24551266781415, 0.47712125471966244, 0.6989700043360189], \"type\": \"choropleth\", \"uid\": \"89eb3ae8-ef58-4e9c-b8cb-9eae4be30510\"}], {\"geo\": {\"coastlinecolor\": \"rgb(255, 255, 255)\", \"countrycolor\": \"rgb(255, 255, 255)\", \"landcolor\": \"rgb(229, 229, 229)\", \"projection\": {\"type\": \"equirectangular\"}, \"showcoastlines\": true, \"showframe\": false, \"showland\": true}, \"margin\": {\"b\": 0, \"l\": 50, \"pad\": 4, \"r\": 100, \"t\": 0}, \"showlegend\": false, \"xaxis\": {\"fixedrange\": true}, \"yaxis\": {\"fixedrange\": true}}, {\"showLink\": true, \"linkText\": \"Export to plot.ly\"})});</script><script type=\"text/javascript\">window.addEventListener(\"resize\", function(){window._Plotly.Plots.resize(document.getElementById(\"353d660f-86e4-4aa7-a980-92a366518ad2\"));});</script>"
      ],
      "text/vnd.plotly.v1+html": [
       "<div id=\"353d660f-86e4-4aa7-a980-92a366518ad2\" style=\"height: 525px; width: 100%;\" class=\"plotly-graph-div\"></div><script type=\"text/javascript\">require([\"plotly\"], function(Plotly) { window.PLOTLYENV=window.PLOTLYENV || {};window.PLOTLYENV.BASE_URL=\"https://plot.ly\";Plotly.newPlot(\"353d660f-86e4-4aa7-a980-92a366518ad2\", [{\"autocolorscale\": false, \"colorbar\": {\"len\": 0.7, \"tick0\": 1, \"tickmode\": \"array\", \"ticktext\": [\"1\", \"10<sup>1/2</sup>\", \"10<sup>1</sup>\", \"10<sup>3/2</sup>\", \"10<sup>2</sup>\", \"10<sup>5/2</sup>\", \"10<sup>3</sup>\", \"10<sup>3/2</sup>\", \"10<sup>4</sup>\"], \"tickvals\": [0, 0.5, 1, 1.5, 2, 2.5, 3, 3.5, 4], \"title\": \"Counts\"}, \"colorscale\": \"Viridis\", \"hoverinfo\": \"text\", \"locations\": [\"NER\", \"BES\", \"AUT\", \"ATF\", \"CHL\", \"NOR\", \"BRA\", \"ESP\", \"PYF\", \"PNG\", \"NLD\", \"SPM\", \"MCO\", \"EGY\", \"CHE\", \"BGR\", \"BGD\", \"SLE\", \"BRN\", \"CUB\", \"SYR\", \"SVK\", \"MNE\", \"ARG\", \"TUN\", \"GRC\", \"FIN\", \"LIE\", \"NFK\", \"RUS\", \"VEN\", \"LKA\", \"YEM\", \"IRL\", \"NCL\", \"LVA\", \"KIR\", \"IND\", \"NAM\", \"DNK\", \"UKR\", \"JPN\", \"HKG\", \"MTQ\", \"USA\", \"CYM\", \"SGP\", \"EST\", \"IDN\", \"BEL\", \"SLV\", \"DOM\", \"LBN\", \"MAR\", \"CPV\", \"STP\", \"KOR\", \"GUY\", \"TZA\", \"PRI\", \"GBR\", \"ALB\", \"CAN\", \"MMR\", \"PHL\", \"SWE\", \"SAU\", \"ROU\", \"CRI\", \"ECU\", \"IRN\", \"PER\", \"DZA\", \"TGO\", \"VNM\", \"NGA\", \"CHN\", \"CAF\", \"GGY\", \"GEO\", \"MUS\", \"URY\", \"GRD\", \"ITA\", \"ZAF\", \"AUS\", \"KEN\", \"LUX\", \"NZL\", \"SVN\", \"COD\", \"REU\", \"GUF\", \"TWN\", \"CZE\", \"MYS\", \"MHL\", \"ISR\", \"FRA\", \"PRT\", \"SYC\", \"SRB\", \"UMI\", \"HRV\", \"BOL\", \"WSM\", \"MDA\", \"AZE\", \"THA\", \"CMR\", \"ISL\", \"BIH\", \"COL\", \"MEX\", \"PAK\", \"CIV\", \"CYP\", \"LAO\", \"MYT\", \"GLP\", \"GHA\", \"HUN\", \"ARM\", \"BLR\", \"LTU\", \"TUR\", \"DEU\", \"SWZ\", \"MDG\", \"BLM\", \"KHM\", \"POL\", \"GTM\", \"SEN\"], \"reversescale\": true, \"text\": [\"Niger 26\", \"Caribbean Netherlands 4\", \"Austria 134\", \"French Southern and Antarctic Lands 8\", \"Chile 13\", \"Norway 28\", \"Brazil 43\", \"Spain 3649\", \"French Polynesia 8\", \"Papua New Guinea 3\", \"Netherlands 544\", \"Saint Pierre and Miquelon 1\", \"Monaco 2\", \"Egypt 3\", \"Switzerland 783\", \"Bulgaria 16\", \"Bangladesh 3\", \"Sierra Leone 2\", \"Brunei 2\", \"Cuba 2\", \"Syria 2\", \"Slovakia 10\", \"Montenegro 1\", \"Argentina 13\", \"Tunisia 39\", \"Greece 157\", \"Finland 21\", \"Liechtenstein 13\", \"Norfolk Island 17\", \"Russia 175\", \"Venezuela 27\", \"Sri Lanka 28\", \"Yemen 2\", \"Ireland 86\", \"New Caledonia 4\", \"Latvia 5\", \"Kiribati 2\", \"India 61\", \"Namibia 2\", \"Denmark 103\", \"Ukraine 2\", \"Japan 51\", \"Hong Kong 8\", \"Martinique 7\", \"United States 346\", \"Cayman Islands 2\", \"Singapore 17\", \"Estonia 3\", \"Indonesia 29\", \"Belgium 1227\", \"El Salvador 1\", \"Dominican Republic 3\", \"Lebanon 3\", \"Morocco 111\", \"Cape Verde 1\", \"S\\u00e3o Tom\\u00e9 and Pr\\u00edncipe 1\", \"South Korea 33\", \"Guyana 1\", \"Tanzania 1\", \"Puerto Rico 2\", \"United Kingdom 3208\", \"Albania 1\", \"Canada 167\", \"Myanmar 2\", \"Philippines 13\", \"Sweden 286\", \"Saudi Arabia 2\", \"Romania 39\", \"Costa Rica 11\", \"Ecuador 11\", \"Iran 42\", \"Peru 39\", \"Algeria 12\", \"Togo 1\", \"Vietnam 66\", \"Nigeria 1\", \"China 288\", \"Central African Republic 1\", \"Guernsey 3\", \"Georgia 6\", \"Mauritius 8\", \"Uruguay 2\", \"Grenada 5\", \"Italy 2084\", \"South Africa 42\", \"Australia 507\", \"Kenya 15\", \"Luxembourg 39\", \"New Zealand 51\", \"Slovenia 7\", \"DR Congo 1\", \"R\\u00e9union 25\", \"French Guiana 4\", \"Taiwan 43\", \"Czechia 36\", \"Malaysia 31\", \"Marshall Islands 5\", \"Israel 46\", \"France 20494\", \"Portugal 218\", \"Seychelles 12\", \"Serbia 27\", \"United States Minor Outlying Islands 31\", \"Croatia 13\", \"Bolivia 76\", \"Samoa 17\", \"Moldova 3\", \"Azerbaijan 1\", \"Thailand 261\", \"Cameroon 5\", \"Iceland 24\", \"Bosnia and Herzegovina 1\", \"Colombia 18\", \"Mexico 653\", \"Pakistan 5\", \"Ivory Coast 11\", \"Cyprus 8\", \"Laos 2\", \"Mayotte 5\", \"Guadeloupe 12\", \"Ghana 6\", \"Hungary 56\", \"Armenia 5\", \"Belarus 3\", \"Lithuania 23\", \"Turkey 82\", \"Germany 2308\", \"Eswatini 1\", \"Madagascar 111\", \"Saint Barth\\u00e9lemy 1\", \"Cambodia 3\", \"Poland 176\", \"Guatemala 3\", \"Senegal 5\"], \"z\": [1.414973347970818, 0.6020599913279624, 2.1271047983648077, 0.9030899869919435, 1.1139433523068367, 1.4471580313422192, 1.6334684555795866, 3.5621738633646483, 0.9030899869919435, 0.47712125471966244, 2.73559889969818, 0.0, 0.3010299956639812, 0.47712125471966244, 2.8937617620579434, 1.2041199826559248, 0.47712125471966244, 0.3010299956639812, 0.3010299956639812, 0.3010299956639812, 0.3010299956639812, 1.0, 0.0, 1.1139433523068367, 1.591064607026499, 2.1958996524092336, 1.3222192947339193, 1.1139433523068367, 1.2304489213782739, 2.2430380486862944, 1.4313637641589874, 1.4471580313422192, 0.3010299956639812, 1.9344984512435677, 0.6020599913279624, 0.6989700043360189, 0.3010299956639812, 1.7853298350107671, 0.3010299956639812, 2.012837224705172, 0.3010299956639812, 1.7075701760979363, 0.9030899869919435, 0.8450980400142568, 2.5390760987927767, 0.3010299956639812, 1.2304489213782739, 0.47712125471966244, 1.462397997898956, 3.0888445627270045, 0.0, 0.47712125471966244, 0.47712125471966244, 2.0453229787866576, 0.0, 0.0, 1.5185139398778875, 0.0, 0.0, 0.3010299956639812, 3.506234359612126, 0.0, 2.2227164711475833, 0.3010299956639812, 1.1139433523068367, 2.456366033129043, 0.3010299956639812, 1.591064607026499, 1.041392685158225, 1.041392685158225, 1.6232492903979006, 1.591064607026499, 1.0791812460476249, 0.0, 1.8195439355418688, 0.0, 2.459392487759231, 0.0, 0.47712125471966244, 0.7781512503836436, 0.9030899869919435, 0.3010299956639812, 0.6989700043360189, 3.3188977146274867, 1.6232492903979006, 2.705007959333336, 1.1760912590556813, 1.591064607026499, 1.7075701760979363, 0.8450980400142568, 0.0, 1.3979400086720377, 0.6020599913279624, 1.6334684555795866, 1.5563025007672873, 1.4913616938342726, 0.6989700043360189, 1.662757831681574, 4.311626731870506, 2.3384564936046046, 1.0791812460476249, 1.4313637641589874, 1.4913616938342726, 1.1139433523068367, 1.8808135922807914, 1.2304489213782739, 0.47712125471966244, 0.0, 2.416640507338281, 0.6989700043360189, 1.380211241711606, 0.0, 1.255272505103306, 2.814913181275074, 0.6989700043360189, 1.041392685158225, 0.9030899869919435, 0.3010299956639812, 0.6989700043360189, 1.0791812460476249, 0.7781512503836436, 1.7481880270062005, 0.6989700043360189, 0.47712125471966244, 1.3617278360175928, 1.9138138523837167, 3.363235804483694, 0.0, 2.0453229787866576, 0.0, 0.47712125471966244, 2.24551266781415, 0.47712125471966244, 0.6989700043360189], \"type\": \"choropleth\", \"uid\": \"89eb3ae8-ef58-4e9c-b8cb-9eae4be30510\"}], {\"geo\": {\"coastlinecolor\": \"rgb(255, 255, 255)\", \"countrycolor\": \"rgb(255, 255, 255)\", \"landcolor\": \"rgb(229, 229, 229)\", \"projection\": {\"type\": \"equirectangular\"}, \"showcoastlines\": true, \"showframe\": false, \"showland\": true}, \"margin\": {\"b\": 0, \"l\": 50, \"pad\": 4, \"r\": 100, \"t\": 0}, \"showlegend\": false, \"xaxis\": {\"fixedrange\": true}, \"yaxis\": {\"fixedrange\": true}}, {\"showLink\": true, \"linkText\": \"Export to plot.ly\"})});</script><script type=\"text/javascript\">window.addEventListener(\"resize\", function(){window._Plotly.Plots.resize(document.getElementById(\"353d660f-86e4-4aa7-a980-92a366518ad2\"));});</script>"
      ]
     },
     "metadata": {},
     "output_type": "display_data"
    }
   ],
   "source": [
    "visualize.plot_occurrences_on_map(df=food_facts_pd, \n",
    "                                 column_key='manufacturing_places',\n",
    "                                 save_offline = save_plots_offline, \n",
    "                                 save_offline_title= 'manufacturing_all',\n",
    "                                 show_distances=False)"
   ]
  },
  {
   "cell_type": "markdown",
   "metadata": {},
   "source": [
    "Please note the log-scale of the color plot. We can observe that most manufactures in the dataset are located in France. Other common manufacturers are located in European countries, as well as North- and Middle America. Only few products are manufactured from companies located in Africa, South-America, and Asia + Oceania."
   ]
  },
  {
   "cell_type": "markdown",
   "metadata": {},
   "source": [
    "**Where are those products bought?**"
   ]
  },
  {
   "cell_type": "code",
   "execution_count": 10,
   "metadata": {
    "scrolled": false
   },
   "outputs": [
    {
     "data": {
      "application/vnd.plotly.v1+json": {
       "data": [
        {
         "autocolorscale": false,
         "colorbar": {
          "len": 0.7,
          "tick0": 1,
          "tickmode": "array",
          "ticktext": [
           "1",
           "10<sup>1/2</sup>",
           "10<sup>1</sup>",
           "10<sup>3/2</sup>",
           "10<sup>2</sup>",
           "10<sup>5/2</sup>",
           "10<sup>3</sup>",
           "10<sup>3/2</sup>",
           "10<sup>4</sup>"
          ],
          "tickvals": [
           0,
           0.5,
           1,
           1.5,
           2,
           2.5,
           3,
           3.5,
           4
          ],
          "title": "Counts"
         },
         "colorscale": "Viridis",
         "hoverinfo": "text",
         "locations": [
          "BES",
          "AUT",
          "CHL",
          "NOR",
          "GAB",
          "BRA",
          "ESP",
          "PYF",
          "NLD",
          "SPM",
          "MCO",
          "EGY",
          "BFA",
          "MAF",
          "CHE",
          "BGR",
          "SVK",
          "MNE",
          "ARG",
          "TUN",
          "GRC",
          "FIN",
          "NFK",
          "RUS",
          "VEN",
          "YEM",
          "IRL",
          "NCL",
          "IND",
          "DNK",
          "UKR",
          "MTQ",
          "CYM",
          "JPN",
          "USA",
          "HKG",
          "SGP",
          "EST",
          "IDN",
          "BEL",
          "SLV",
          "LBN",
          "MAR",
          "TZA",
          "GBR",
          "ALB",
          "CAN",
          "MMR",
          "PHL",
          "SWE",
          "SAU",
          "ROU",
          "AND",
          "CRI",
          "GNQ",
          "JOR",
          "IRN",
          "PER",
          "DZA",
          "NGA",
          "CHN",
          "GRD",
          "GEO",
          "MUS",
          "MLT",
          "BEN",
          "ITA",
          "AUS",
          "OMN",
          "ZAF",
          "QAT",
          "LUX",
          "NZL",
          "SVN",
          "GUF",
          "REU",
          "TWN",
          "CZE",
          "MYS",
          "ISR",
          "FRA",
          "PRT",
          "ETH",
          "SRB",
          "SYC",
          "JAM",
          "MDA",
          "CMR",
          "BIH",
          "THA",
          "ISL",
          "COL",
          "MEX",
          "CIV",
          "GLP",
          "HUN",
          "LTU",
          "TUR",
          "DEU",
          "MSR",
          "MDG",
          "ARE",
          "POL",
          "KHM",
          "GTM",
          "SEN"
         ],
         "reversescale": true,
         "text": [
          "Caribbean Netherlands 2",
          "Austria 29",
          "Chile 5",
          "Norway 5",
          "Gabon 2",
          "Brazil 34",
          "Spain 3675",
          "French Polynesia 41",
          "Netherlands 42",
          "Saint Pierre and Miquelon 4",
          "Monaco 1",
          "Egypt 4",
          "Burkina Faso 1",
          "Saint Martin 1",
          "Switzerland 798",
          "Bulgaria 3",
          "Slovakia 2",
          "Montenegro 1",
          "Argentina 4",
          "Tunisia 6",
          "Greece 47",
          "Finland 8",
          "Norfolk Island 24",
          "Russia 185",
          "Venezuela 13",
          "Yemen 3",
          "Ireland 72",
          "New Caledonia 3",
          "India 21",
          "Denmark 15",
          "Ukraine 2",
          "Martinique 15",
          "Cayman Islands 2",
          "Japan 8",
          "United States 141",
          "Hong Kong 15",
          "Singapore 404",
          "Estonia 3",
          "Indonesia 8",
          "Belgium 387",
          "El Salvador 1",
          "Lebanon 2",
          "Morocco 15",
          "Tanzania 1",
          "United Kingdom 1162",
          "Albania 5",
          "Canada 186",
          "Myanmar 1",
          "Philippines 3",
          "Sweden 491",
          "Saudi Arabia 1",
          "Romania 62",
          "Andorra 1",
          "Costa Rica 3",
          "Equatorial Guinea 1",
          "Jordan 1",
          "Iran 1",
          "Peru 2",
          "Algeria 4",
          "Nigeria 1",
          "China 7",
          "Grenada 3",
          "Georgia 3",
          "Mauritius 5",
          "Malta 1",
          "Benin 1",
          "Italy 106",
          "Australia 865",
          "Oman 1",
          "South Africa 13",
          "Qatar 1",
          "Luxembourg 33",
          "New Zealand 34",
          "Slovenia 3",
          "French Guiana 12",
          "Réunion 47",
          "Taiwan 3",
          "Czechia 4",
          "Malaysia 2",
          "Israel 15",
          "France 27219",
          "Portugal 124",
          "Ethiopia 1",
          "Serbia 52",
          "Seychelles 1",
          "Jamaica 1",
          "Moldova 10",
          "Cameroon 3",
          "Bosnia and Herzegovina 1",
          "Thailand 11",
          "Iceland 1",
          "Colombia 9",
          "Mexico 659",
          "Ivory Coast 1",
          "Guadeloupe 33",
          "Hungary 38",
          "Lithuania 1",
          "Turkey 10",
          "Germany 1073",
          "Montserrat 1",
          "Madagascar 105",
          "United Arab Emirates 4",
          "Poland 7",
          "Cambodia 4",
          "Guatemala 1",
          "Senegal 4"
         ],
         "type": "choropleth",
         "uid": "79d52f6d-d491-48c7-a1d7-bfdc14540ecb",
         "z": [
          0.3010299956639812,
          1.462397997898956,
          0.6989700043360189,
          0.6989700043360189,
          0.3010299956639812,
          1.5314789170422551,
          3.5652573434202135,
          1.6127838567197355,
          1.6232492903979006,
          0.6020599913279624,
          0,
          0.6020599913279624,
          0,
          0,
          2.9020028913507296,
          0.47712125471966244,
          0.3010299956639812,
          0,
          0.6020599913279624,
          0.7781512503836436,
          1.6720978579357175,
          0.9030899869919435,
          1.380211241711606,
          2.2671717284030137,
          1.1139433523068367,
          0.47712125471966244,
          1.8573324964312685,
          0.47712125471966244,
          1.3222192947339193,
          1.1760912590556813,
          0.3010299956639812,
          1.1760912590556813,
          0.3010299956639812,
          0.9030899869919435,
          2.1492191126553797,
          1.1760912590556813,
          2.606381365110605,
          0.47712125471966244,
          0.9030899869919435,
          2.5877109650189114,
          0,
          0.3010299956639812,
          1.1760912590556813,
          0,
          3.065206128054312,
          0.6989700043360189,
          2.2695129442179165,
          0,
          0.47712125471966244,
          2.6910814921229687,
          0,
          1.792391689498254,
          0,
          0.47712125471966244,
          0,
          0,
          0,
          0.3010299956639812,
          0.6020599913279624,
          0,
          0.8450980400142568,
          0.47712125471966244,
          0.47712125471966244,
          0.6989700043360189,
          0,
          0,
          2.0253058652647704,
          2.9370161074648142,
          0,
          1.1139433523068367,
          0,
          1.5185139398778875,
          1.5314789170422551,
          0.47712125471966244,
          1.0791812460476249,
          1.6720978579357175,
          0.47712125471966244,
          0.6020599913279624,
          0.3010299956639812,
          1.1760912590556813,
          4.434872165596942,
          2.093421685162235,
          0,
          1.7160033436347992,
          0,
          0,
          1,
          0.47712125471966244,
          0,
          1.041392685158225,
          0,
          0.9542425094393249,
          2.8188854145940097,
          0,
          1.5185139398778875,
          1.5797835966168101,
          0,
          1,
          3.030599721965951,
          0,
          2.0211892990699383,
          0.6020599913279624,
          0.8450980400142568,
          0.6020599913279624,
          0,
          0.6020599913279624
         ]
        }
       ],
       "layout": {
        "geo": {
         "coastlinecolor": "rgb(255, 255, 255)",
         "countrycolor": "rgb(255, 255, 255)",
         "landcolor": "rgb(229, 229, 229)",
         "projection": {
          "type": "equirectangular"
         },
         "showcoastlines": true,
         "showframe": false,
         "showland": true
        },
        "margin": {
         "b": 0,
         "l": 50,
         "pad": 4,
         "r": 100,
         "t": 0
        },
        "showlegend": false,
        "xaxis": {
         "fixedrange": true
        },
        "yaxis": {
         "fixedrange": true
        }
       }
      },
      "text/html": [
       "<div id=\"701985b3-493b-4928-aeed-7efb2db1cf9f\" style=\"height: 525px; width: 100%;\" class=\"plotly-graph-div\"></div><script type=\"text/javascript\">require([\"plotly\"], function(Plotly) { window.PLOTLYENV=window.PLOTLYENV || {};window.PLOTLYENV.BASE_URL=\"https://plot.ly\";Plotly.newPlot(\"701985b3-493b-4928-aeed-7efb2db1cf9f\", [{\"autocolorscale\": false, \"colorbar\": {\"len\": 0.7, \"tick0\": 1, \"tickmode\": \"array\", \"ticktext\": [\"1\", \"10<sup>1/2</sup>\", \"10<sup>1</sup>\", \"10<sup>3/2</sup>\", \"10<sup>2</sup>\", \"10<sup>5/2</sup>\", \"10<sup>3</sup>\", \"10<sup>3/2</sup>\", \"10<sup>4</sup>\"], \"tickvals\": [0, 0.5, 1, 1.5, 2, 2.5, 3, 3.5, 4], \"title\": \"Counts\"}, \"colorscale\": \"Viridis\", \"hoverinfo\": \"text\", \"locations\": [\"BES\", \"AUT\", \"CHL\", \"NOR\", \"GAB\", \"BRA\", \"ESP\", \"PYF\", \"NLD\", \"SPM\", \"MCO\", \"EGY\", \"BFA\", \"MAF\", \"CHE\", \"BGR\", \"SVK\", \"MNE\", \"ARG\", \"TUN\", \"GRC\", \"FIN\", \"NFK\", \"RUS\", \"VEN\", \"YEM\", \"IRL\", \"NCL\", \"IND\", \"DNK\", \"UKR\", \"MTQ\", \"CYM\", \"JPN\", \"USA\", \"HKG\", \"SGP\", \"EST\", \"IDN\", \"BEL\", \"SLV\", \"LBN\", \"MAR\", \"TZA\", \"GBR\", \"ALB\", \"CAN\", \"MMR\", \"PHL\", \"SWE\", \"SAU\", \"ROU\", \"AND\", \"CRI\", \"GNQ\", \"JOR\", \"IRN\", \"PER\", \"DZA\", \"NGA\", \"CHN\", \"GRD\", \"GEO\", \"MUS\", \"MLT\", \"BEN\", \"ITA\", \"AUS\", \"OMN\", \"ZAF\", \"QAT\", \"LUX\", \"NZL\", \"SVN\", \"GUF\", \"REU\", \"TWN\", \"CZE\", \"MYS\", \"ISR\", \"FRA\", \"PRT\", \"ETH\", \"SRB\", \"SYC\", \"JAM\", \"MDA\", \"CMR\", \"BIH\", \"THA\", \"ISL\", \"COL\", \"MEX\", \"CIV\", \"GLP\", \"HUN\", \"LTU\", \"TUR\", \"DEU\", \"MSR\", \"MDG\", \"ARE\", \"POL\", \"KHM\", \"GTM\", \"SEN\"], \"reversescale\": true, \"text\": [\"Caribbean Netherlands 2\", \"Austria 29\", \"Chile 5\", \"Norway 5\", \"Gabon 2\", \"Brazil 34\", \"Spain 3675\", \"French Polynesia 41\", \"Netherlands 42\", \"Saint Pierre and Miquelon 4\", \"Monaco 1\", \"Egypt 4\", \"Burkina Faso 1\", \"Saint Martin 1\", \"Switzerland 798\", \"Bulgaria 3\", \"Slovakia 2\", \"Montenegro 1\", \"Argentina 4\", \"Tunisia 6\", \"Greece 47\", \"Finland 8\", \"Norfolk Island 24\", \"Russia 185\", \"Venezuela 13\", \"Yemen 3\", \"Ireland 72\", \"New Caledonia 3\", \"India 21\", \"Denmark 15\", \"Ukraine 2\", \"Martinique 15\", \"Cayman Islands 2\", \"Japan 8\", \"United States 141\", \"Hong Kong 15\", \"Singapore 404\", \"Estonia 3\", \"Indonesia 8\", \"Belgium 387\", \"El Salvador 1\", \"Lebanon 2\", \"Morocco 15\", \"Tanzania 1\", \"United Kingdom 1162\", \"Albania 5\", \"Canada 186\", \"Myanmar 1\", \"Philippines 3\", \"Sweden 491\", \"Saudi Arabia 1\", \"Romania 62\", \"Andorra 1\", \"Costa Rica 3\", \"Equatorial Guinea 1\", \"Jordan 1\", \"Iran 1\", \"Peru 2\", \"Algeria 4\", \"Nigeria 1\", \"China 7\", \"Grenada 3\", \"Georgia 3\", \"Mauritius 5\", \"Malta 1\", \"Benin 1\", \"Italy 106\", \"Australia 865\", \"Oman 1\", \"South Africa 13\", \"Qatar 1\", \"Luxembourg 33\", \"New Zealand 34\", \"Slovenia 3\", \"French Guiana 12\", \"R\\u00e9union 47\", \"Taiwan 3\", \"Czechia 4\", \"Malaysia 2\", \"Israel 15\", \"France 27219\", \"Portugal 124\", \"Ethiopia 1\", \"Serbia 52\", \"Seychelles 1\", \"Jamaica 1\", \"Moldova 10\", \"Cameroon 3\", \"Bosnia and Herzegovina 1\", \"Thailand 11\", \"Iceland 1\", \"Colombia 9\", \"Mexico 659\", \"Ivory Coast 1\", \"Guadeloupe 33\", \"Hungary 38\", \"Lithuania 1\", \"Turkey 10\", \"Germany 1073\", \"Montserrat 1\", \"Madagascar 105\", \"United Arab Emirates 4\", \"Poland 7\", \"Cambodia 4\", \"Guatemala 1\", \"Senegal 4\"], \"z\": [0.3010299956639812, 1.462397997898956, 0.6989700043360189, 0.6989700043360189, 0.3010299956639812, 1.5314789170422551, 3.5652573434202135, 1.6127838567197355, 1.6232492903979006, 0.6020599913279624, 0.0, 0.6020599913279624, 0.0, 0.0, 2.9020028913507296, 0.47712125471966244, 0.3010299956639812, 0.0, 0.6020599913279624, 0.7781512503836436, 1.6720978579357175, 0.9030899869919435, 1.380211241711606, 2.2671717284030137, 1.1139433523068367, 0.47712125471966244, 1.8573324964312685, 0.47712125471966244, 1.3222192947339193, 1.1760912590556813, 0.3010299956639812, 1.1760912590556813, 0.3010299956639812, 0.9030899869919435, 2.1492191126553797, 1.1760912590556813, 2.606381365110605, 0.47712125471966244, 0.9030899869919435, 2.5877109650189114, 0.0, 0.3010299956639812, 1.1760912590556813, 0.0, 3.065206128054312, 0.6989700043360189, 2.2695129442179165, 0.0, 0.47712125471966244, 2.6910814921229687, 0.0, 1.792391689498254, 0.0, 0.47712125471966244, 0.0, 0.0, 0.0, 0.3010299956639812, 0.6020599913279624, 0.0, 0.8450980400142568, 0.47712125471966244, 0.47712125471966244, 0.6989700043360189, 0.0, 0.0, 2.0253058652647704, 2.9370161074648142, 0.0, 1.1139433523068367, 0.0, 1.5185139398778875, 1.5314789170422551, 0.47712125471966244, 1.0791812460476249, 1.6720978579357175, 0.47712125471966244, 0.6020599913279624, 0.3010299956639812, 1.1760912590556813, 4.434872165596942, 2.093421685162235, 0.0, 1.7160033436347992, 0.0, 0.0, 1.0, 0.47712125471966244, 0.0, 1.041392685158225, 0.0, 0.9542425094393249, 2.8188854145940097, 0.0, 1.5185139398778875, 1.5797835966168101, 0.0, 1.0, 3.030599721965951, 0.0, 2.0211892990699383, 0.6020599913279624, 0.8450980400142568, 0.6020599913279624, 0.0, 0.6020599913279624], \"type\": \"choropleth\", \"uid\": \"6496fd2e-7f60-43f6-b6f2-f71439988963\"}], {\"geo\": {\"coastlinecolor\": \"rgb(255, 255, 255)\", \"countrycolor\": \"rgb(255, 255, 255)\", \"landcolor\": \"rgb(229, 229, 229)\", \"projection\": {\"type\": \"equirectangular\"}, \"showcoastlines\": true, \"showframe\": false, \"showland\": true}, \"margin\": {\"b\": 0, \"l\": 50, \"pad\": 4, \"r\": 100, \"t\": 0}, \"showlegend\": false, \"xaxis\": {\"fixedrange\": true}, \"yaxis\": {\"fixedrange\": true}}, {\"showLink\": true, \"linkText\": \"Export to plot.ly\"})});</script><script type=\"text/javascript\">window.addEventListener(\"resize\", function(){window._Plotly.Plots.resize(document.getElementById(\"701985b3-493b-4928-aeed-7efb2db1cf9f\"));});</script>"
      ],
      "text/vnd.plotly.v1+html": [
       "<div id=\"701985b3-493b-4928-aeed-7efb2db1cf9f\" style=\"height: 525px; width: 100%;\" class=\"plotly-graph-div\"></div><script type=\"text/javascript\">require([\"plotly\"], function(Plotly) { window.PLOTLYENV=window.PLOTLYENV || {};window.PLOTLYENV.BASE_URL=\"https://plot.ly\";Plotly.newPlot(\"701985b3-493b-4928-aeed-7efb2db1cf9f\", [{\"autocolorscale\": false, \"colorbar\": {\"len\": 0.7, \"tick0\": 1, \"tickmode\": \"array\", \"ticktext\": [\"1\", \"10<sup>1/2</sup>\", \"10<sup>1</sup>\", \"10<sup>3/2</sup>\", \"10<sup>2</sup>\", \"10<sup>5/2</sup>\", \"10<sup>3</sup>\", \"10<sup>3/2</sup>\", \"10<sup>4</sup>\"], \"tickvals\": [0, 0.5, 1, 1.5, 2, 2.5, 3, 3.5, 4], \"title\": \"Counts\"}, \"colorscale\": \"Viridis\", \"hoverinfo\": \"text\", \"locations\": [\"BES\", \"AUT\", \"CHL\", \"NOR\", \"GAB\", \"BRA\", \"ESP\", \"PYF\", \"NLD\", \"SPM\", \"MCO\", \"EGY\", \"BFA\", \"MAF\", \"CHE\", \"BGR\", \"SVK\", \"MNE\", \"ARG\", \"TUN\", \"GRC\", \"FIN\", \"NFK\", \"RUS\", \"VEN\", \"YEM\", \"IRL\", \"NCL\", \"IND\", \"DNK\", \"UKR\", \"MTQ\", \"CYM\", \"JPN\", \"USA\", \"HKG\", \"SGP\", \"EST\", \"IDN\", \"BEL\", \"SLV\", \"LBN\", \"MAR\", \"TZA\", \"GBR\", \"ALB\", \"CAN\", \"MMR\", \"PHL\", \"SWE\", \"SAU\", \"ROU\", \"AND\", \"CRI\", \"GNQ\", \"JOR\", \"IRN\", \"PER\", \"DZA\", \"NGA\", \"CHN\", \"GRD\", \"GEO\", \"MUS\", \"MLT\", \"BEN\", \"ITA\", \"AUS\", \"OMN\", \"ZAF\", \"QAT\", \"LUX\", \"NZL\", \"SVN\", \"GUF\", \"REU\", \"TWN\", \"CZE\", \"MYS\", \"ISR\", \"FRA\", \"PRT\", \"ETH\", \"SRB\", \"SYC\", \"JAM\", \"MDA\", \"CMR\", \"BIH\", \"THA\", \"ISL\", \"COL\", \"MEX\", \"CIV\", \"GLP\", \"HUN\", \"LTU\", \"TUR\", \"DEU\", \"MSR\", \"MDG\", \"ARE\", \"POL\", \"KHM\", \"GTM\", \"SEN\"], \"reversescale\": true, \"text\": [\"Caribbean Netherlands 2\", \"Austria 29\", \"Chile 5\", \"Norway 5\", \"Gabon 2\", \"Brazil 34\", \"Spain 3675\", \"French Polynesia 41\", \"Netherlands 42\", \"Saint Pierre and Miquelon 4\", \"Monaco 1\", \"Egypt 4\", \"Burkina Faso 1\", \"Saint Martin 1\", \"Switzerland 798\", \"Bulgaria 3\", \"Slovakia 2\", \"Montenegro 1\", \"Argentina 4\", \"Tunisia 6\", \"Greece 47\", \"Finland 8\", \"Norfolk Island 24\", \"Russia 185\", \"Venezuela 13\", \"Yemen 3\", \"Ireland 72\", \"New Caledonia 3\", \"India 21\", \"Denmark 15\", \"Ukraine 2\", \"Martinique 15\", \"Cayman Islands 2\", \"Japan 8\", \"United States 141\", \"Hong Kong 15\", \"Singapore 404\", \"Estonia 3\", \"Indonesia 8\", \"Belgium 387\", \"El Salvador 1\", \"Lebanon 2\", \"Morocco 15\", \"Tanzania 1\", \"United Kingdom 1162\", \"Albania 5\", \"Canada 186\", \"Myanmar 1\", \"Philippines 3\", \"Sweden 491\", \"Saudi Arabia 1\", \"Romania 62\", \"Andorra 1\", \"Costa Rica 3\", \"Equatorial Guinea 1\", \"Jordan 1\", \"Iran 1\", \"Peru 2\", \"Algeria 4\", \"Nigeria 1\", \"China 7\", \"Grenada 3\", \"Georgia 3\", \"Mauritius 5\", \"Malta 1\", \"Benin 1\", \"Italy 106\", \"Australia 865\", \"Oman 1\", \"South Africa 13\", \"Qatar 1\", \"Luxembourg 33\", \"New Zealand 34\", \"Slovenia 3\", \"French Guiana 12\", \"R\\u00e9union 47\", \"Taiwan 3\", \"Czechia 4\", \"Malaysia 2\", \"Israel 15\", \"France 27219\", \"Portugal 124\", \"Ethiopia 1\", \"Serbia 52\", \"Seychelles 1\", \"Jamaica 1\", \"Moldova 10\", \"Cameroon 3\", \"Bosnia and Herzegovina 1\", \"Thailand 11\", \"Iceland 1\", \"Colombia 9\", \"Mexico 659\", \"Ivory Coast 1\", \"Guadeloupe 33\", \"Hungary 38\", \"Lithuania 1\", \"Turkey 10\", \"Germany 1073\", \"Montserrat 1\", \"Madagascar 105\", \"United Arab Emirates 4\", \"Poland 7\", \"Cambodia 4\", \"Guatemala 1\", \"Senegal 4\"], \"z\": [0.3010299956639812, 1.462397997898956, 0.6989700043360189, 0.6989700043360189, 0.3010299956639812, 1.5314789170422551, 3.5652573434202135, 1.6127838567197355, 1.6232492903979006, 0.6020599913279624, 0.0, 0.6020599913279624, 0.0, 0.0, 2.9020028913507296, 0.47712125471966244, 0.3010299956639812, 0.0, 0.6020599913279624, 0.7781512503836436, 1.6720978579357175, 0.9030899869919435, 1.380211241711606, 2.2671717284030137, 1.1139433523068367, 0.47712125471966244, 1.8573324964312685, 0.47712125471966244, 1.3222192947339193, 1.1760912590556813, 0.3010299956639812, 1.1760912590556813, 0.3010299956639812, 0.9030899869919435, 2.1492191126553797, 1.1760912590556813, 2.606381365110605, 0.47712125471966244, 0.9030899869919435, 2.5877109650189114, 0.0, 0.3010299956639812, 1.1760912590556813, 0.0, 3.065206128054312, 0.6989700043360189, 2.2695129442179165, 0.0, 0.47712125471966244, 2.6910814921229687, 0.0, 1.792391689498254, 0.0, 0.47712125471966244, 0.0, 0.0, 0.0, 0.3010299956639812, 0.6020599913279624, 0.0, 0.8450980400142568, 0.47712125471966244, 0.47712125471966244, 0.6989700043360189, 0.0, 0.0, 2.0253058652647704, 2.9370161074648142, 0.0, 1.1139433523068367, 0.0, 1.5185139398778875, 1.5314789170422551, 0.47712125471966244, 1.0791812460476249, 1.6720978579357175, 0.47712125471966244, 0.6020599913279624, 0.3010299956639812, 1.1760912590556813, 4.434872165596942, 2.093421685162235, 0.0, 1.7160033436347992, 0.0, 0.0, 1.0, 0.47712125471966244, 0.0, 1.041392685158225, 0.0, 0.9542425094393249, 2.8188854145940097, 0.0, 1.5185139398778875, 1.5797835966168101, 0.0, 1.0, 3.030599721965951, 0.0, 2.0211892990699383, 0.6020599913279624, 0.8450980400142568, 0.6020599913279624, 0.0, 0.6020599913279624], \"type\": \"choropleth\", \"uid\": \"6496fd2e-7f60-43f6-b6f2-f71439988963\"}], {\"geo\": {\"coastlinecolor\": \"rgb(255, 255, 255)\", \"countrycolor\": \"rgb(255, 255, 255)\", \"landcolor\": \"rgb(229, 229, 229)\", \"projection\": {\"type\": \"equirectangular\"}, \"showcoastlines\": true, \"showframe\": false, \"showland\": true}, \"margin\": {\"b\": 0, \"l\": 50, \"pad\": 4, \"r\": 100, \"t\": 0}, \"showlegend\": false, \"xaxis\": {\"fixedrange\": true}, \"yaxis\": {\"fixedrange\": true}}, {\"showLink\": true, \"linkText\": \"Export to plot.ly\"})});</script><script type=\"text/javascript\">window.addEventListener(\"resize\", function(){window._Plotly.Plots.resize(document.getElementById(\"701985b3-493b-4928-aeed-7efb2db1cf9f\"));});</script>"
      ]
     },
     "metadata": {},
     "output_type": "display_data"
    }
   ],
   "source": [
    "visualize.plot_occurrences_on_map(df=food_facts_pd, \n",
    "                                  column_key='purchase_places',\n",
    "                                  save_offline = save_plots_offline, \n",
    "                                  save_offline_title= 'purchase_all',\n",
    "                                  show_distances=False)"
   ]
  },
  {
   "cell_type": "markdown",
   "metadata": {},
   "source": [
    "Also this plot reveals the predominance of products sold in France. The trend remains, that most products in the data base are sold in Europe, while all the other continents play only a marginal role."
   ]
  },
  {
   "cell_type": "markdown",
   "metadata": {},
   "source": [
    "In conclusion, we note that we mainly have data for \"western\" countries, with a <b> huge bias toward France</b>. We mostly lack information for countries in Africa, South-America and the centre of Asia. Our dataset is thus clearly not a truthful representation of the global trends. We shall therefore restrict our analysis to the case of France, meaning purchases countries will be limited to the case of France. [This category was selected since it is the most furnished one.] \n",
    "\n",
    "This is carried out in the next cell. Note that <i> purchases_places </i> is only requested to contain 'France' as one of the entries in its list. There could thus be other countries still contained in the <i> purchases_places </i> column. "
   ]
  },
  {
   "cell_type": "code",
   "execution_count": 11,
   "metadata": {},
   "outputs": [],
   "source": [
    "# Extract only products that are sold in France.\n",
    "food_facts_pd['filter'] = food_facts_pd.purchase_places.apply(lambda l: explore.filter_france(l))\n",
    "food_facts_pd = food_facts_pd[food_facts_pd['filter'] == 'France'].drop(columns=['filter'])"
   ]
  },
  {
   "cell_type": "markdown",
   "metadata": {},
   "source": [
    "The next two figures show the new distribution of the data, and additionally mark the routes that the products need to travel before they land in a supermarket in France."
   ]
  },
  {
   "cell_type": "code",
   "execution_count": 12,
   "metadata": {},
   "outputs": [
    {
     "data": {
      "application/vnd.plotly.v1+json": {
       "data": [
        {
         "autocolorscale": false,
         "colorbar": {
          "len": 0.7,
          "tick0": 1,
          "tickmode": "array",
          "ticktext": [
           "1",
           "10<sup>1/2</sup>",
           "10<sup>1</sup>",
           "10<sup>3/2</sup>",
           "10<sup>2</sup>",
           "10<sup>5/2</sup>",
           "10<sup>3</sup>",
           "10<sup>3/2</sup>",
           "10<sup>4</sup>"
          ],
          "tickvals": [
           0,
           0.5,
           1,
           1.5,
           2,
           2.5,
           3,
           3.5,
           4
          ],
          "title": "Counts"
         },
         "colorscale": "Viridis",
         "hoverinfo": "text",
         "locations": [
          "NER",
          "BES",
          "AUT",
          "ATF",
          "CHL",
          "NOR",
          "BRA",
          "ESP",
          "PNG",
          "NLD",
          "EGY",
          "CHE",
          "BGR",
          "BGD",
          "CUB",
          "SYR",
          "SVK",
          "ARG",
          "TUN",
          "GRC",
          "FIN",
          "LIE",
          "RUS",
          "VEN",
          "LKA",
          "IRL",
          "NCL",
          "LVA",
          "NAM",
          "DNK",
          "JPN",
          "MTQ",
          "CYM",
          "USA",
          "HKG",
          "SGP",
          "EST",
          "IDN",
          "BEL",
          "SLV",
          "DOM",
          "LBN",
          "MAR",
          "KOR",
          "PRI",
          "GBR",
          "CAN",
          "MMR",
          "PHL",
          "SWE",
          "SAU",
          "ROU",
          "CRI",
          "ECU",
          "IRN",
          "PER",
          "DZA",
          "TGO",
          "VNM",
          "CHN",
          "GGY",
          "MUS",
          "URY",
          "ITA",
          "ZAF",
          "AUS",
          "KEN",
          "LUX",
          "NZL",
          "SVN",
          "REU",
          "GUF",
          "TWN",
          "CZE",
          "MYS",
          "ISR",
          "PRT",
          "FRA",
          "SYC",
          "SRB",
          "UMI",
          "HRV",
          "BOL",
          "WSM",
          "MDA",
          "CMR",
          "THA",
          "ISL",
          "CIV",
          "MEX",
          "COL",
          "CYP",
          "LAO",
          "MYT",
          "GHA",
          "GLP",
          "HUN",
          "ARM",
          "LTU",
          "TUR",
          "DEU",
          "SWZ",
          "MDG",
          "BLM",
          "POL",
          "SEN"
         ],
         "reversescale": true,
         "text": [
          "Niger 25",
          "Caribbean Netherlands 1",
          "Austria 26",
          "French Southern and Antarctic Lands 8",
          "Chile 3",
          "Norway 17",
          "Brazil 4",
          "Spain 613",
          "Papua New Guinea 2",
          "Netherlands 335",
          "Egypt 1",
          "Switzerland 195",
          "Bulgaria 5",
          "Bangladesh 3",
          "Cuba 2",
          "Syria 2",
          "Slovakia 2",
          "Argentina 2",
          "Tunisia 20",
          "Greece 88",
          "Finland 2",
          "Liechtenstein 3",
          "Russia 1",
          "Venezuela 9",
          "Sri Lanka 17",
          "Ireland 24",
          "New Caledonia 3",
          "Latvia 2",
          "Namibia 1",
          "Denmark 33",
          "Japan 26",
          "Martinique 2",
          "Cayman Islands 2",
          "United States 80",
          "Hong Kong 1",
          "Singapore 6",
          "Estonia 2",
          "Indonesia 6",
          "Belgium 792",
          "El Salvador 1",
          "Dominican Republic 1",
          "Lebanon 3",
          "Morocco 89",
          "South Korea 16",
          "Puerto Rico 1",
          "United Kingdom 2283",
          "Canada 26",
          "Myanmar 1",
          "Philippines 4",
          "Sweden 42",
          "Saudi Arabia 1",
          "Romania 6",
          "Costa Rica 3",
          "Ecuador 5",
          "Iran 40",
          "Peru 15",
          "Algeria 9",
          "Togo 1",
          "Vietnam 50",
          "China 116",
          "Guernsey 3",
          "Mauritius 7",
          "Uruguay 1",
          "Italy 1386",
          "South Africa 12",
          "Australia 4",
          "Kenya 9",
          "Luxembourg 24",
          "New Zealand 2",
          "Slovenia 3",
          "Réunion 7",
          "French Guiana 2",
          "Taiwan 28",
          "Czechia 12",
          "Malaysia 16",
          "Israel 26",
          "Portugal 119",
          "France 18972",
          "Seychelles 8",
          "Serbia 3",
          "United States Minor Outlying Islands 28",
          "Croatia 4",
          "Bolivia 72",
          "Samoa 15",
          "Moldova 1",
          "Cameroon 2",
          "Thailand 127",
          "Iceland 22",
          "Ivory Coast 9",
          "Mexico 10",
          "Colombia 1",
          "Cyprus 2",
          "Laos 2",
          "Mayotte 5",
          "Ghana 5",
          "Guadeloupe 3",
          "Hungary 16",
          "Armenia 4",
          "Lithuania 14",
          "Turkey 38",
          "Germany 750",
          "Eswatini 1",
          "Madagascar 3",
          "Saint Barthélemy 1",
          "Poland 94",
          "Senegal 1"
         ],
         "type": "choropleth",
         "uid": "17b9528d-d177-4c1b-80f3-391e426cdda5",
         "z": [
          1.3979400086720377,
          0,
          1.414973347970818,
          0.9030899869919435,
          0.47712125471966244,
          1.2304489213782739,
          0.6020599913279624,
          2.787460474518415,
          0.3010299956639812,
          2.525044807036845,
          0,
          2.290034611362518,
          0.6989700043360189,
          0.47712125471966244,
          0.3010299956639812,
          0.3010299956639812,
          0.3010299956639812,
          0.3010299956639812,
          1.3010299956639813,
          1.9444826721501687,
          0.3010299956639812,
          0.47712125471966244,
          0,
          0.9542425094393249,
          1.2304489213782739,
          1.380211241711606,
          0.47712125471966244,
          0.3010299956639812,
          0,
          1.5185139398778875,
          1.414973347970818,
          0.3010299956639812,
          0.3010299956639812,
          1.9030899869919435,
          0,
          0.7781512503836436,
          0.3010299956639812,
          0.7781512503836436,
          2.8987251815894934,
          0,
          0,
          0.47712125471966244,
          1.9493900066449128,
          1.2041199826559248,
          0,
          3.3585059114902354,
          1.414973347970818,
          0,
          0.6020599913279624,
          1.6232492903979006,
          0,
          0.7781512503836436,
          0.47712125471966244,
          0.6989700043360189,
          1.6020599913279625,
          1.1760912590556813,
          0.9542425094393249,
          0,
          1.6989700043360187,
          2.0644579892269186,
          0.47712125471966244,
          0.8450980400142568,
          0,
          3.141763230275788,
          1.0791812460476249,
          0.6020599913279624,
          0.9542425094393249,
          1.380211241711606,
          0.3010299956639812,
          0.47712125471966244,
          0.8450980400142568,
          0.3010299956639812,
          1.4471580313422192,
          1.0791812460476249,
          1.2041199826559248,
          1.414973347970818,
          2.075546961392531,
          4.278113115979834,
          0.9030899869919435,
          0.47712125471966244,
          1.4471580313422192,
          0.6020599913279624,
          1.8573324964312685,
          1.1760912590556813,
          0,
          0.3010299956639812,
          2.103803720955957,
          1.3424226808222062,
          0.9542425094393249,
          1,
          0,
          0.3010299956639812,
          0.3010299956639812,
          0.6989700043360189,
          0.6989700043360189,
          0.47712125471966244,
          1.2041199826559248,
          0.6020599913279624,
          1.146128035678238,
          1.5797835966168101,
          2.8750612633917,
          0,
          0.47712125471966244,
          0,
          1.9731278535996986,
          0
         ]
        },
        {
         "hoverinfo": "text",
         "lat": [
          16,
          46
         ],
         "line": {
          "color": "red",
          "width": 1.7975280104064453
         },
         "lon": [
          8,
          2
         ],
         "mode": "lines+markers",
         "name": "",
         "opacity": 0.49211866655429337,
         "text": "Niger<br># products: 25",
         "type": "scattergeo",
         "uid": "c8161ff1-fbbc-42f5-b0df-b4fa9011f70f"
        },
        {
         "hoverinfo": "text",
         "lat": [
          12.18,
          46
         ],
         "line": {
          "color": "red",
          "width": 0.12
         },
         "lon": [
          -68.25,
          2
         ],
         "mode": "lines+markers",
         "name": "",
         "opacity": 0.1,
         "text": "Caribbean Netherlands<br># products: 1",
         "type": "scattergeo",
         "uid": "043f4813-bfe1-475a-9c8e-73ba03aff4e9"
        },
        {
         "hoverinfo": "text",
         "lat": [
          47.33333333,
          46
         ],
         "line": {
          "color": "red",
          "width": 1.8179680175649815
         },
         "lon": [
          13.33333333,
          2
         ],
         "mode": "lines+markers",
         "name": "",
         "opacity": 0.4968964755098788,
         "text": "Austria<br># products: 26",
         "type": "scattergeo",
         "uid": "bb6987f4-d1f4-4693-8b5f-c0eb6c5736bd"
        },
        {
         "hoverinfo": "text",
         "lat": [
          -49.25,
          46
         ],
         "line": {
          "color": "red",
          "width": 1.2037079843903322
         },
         "lon": [
          69.167,
          2
         ],
         "mode": "lines+markers",
         "name": "",
         "opacity": 0.3533144765018973,
         "text": "French Southern and Antarctic Lands<br># products: 8",
         "type": "scattergeo",
         "uid": "1c0187fa-a672-4961-a815-02f8faea5a43"
        },
        {
         "hoverinfo": "text",
         "lat": [
          -30,
          46
         ],
         "line": {
          "color": "red",
          "width": 0.692545505663595
         },
         "lon": [
          -71,
          2
         ],
         "mode": "lines+markers",
         "name": "",
         "opacity": 0.23383131538177257,
         "text": "Chile<br># products: 3",
         "type": "scattergeo",
         "uid": "7e6c6319-c78d-4498-af3a-475aa8499913"
        },
        {
         "hoverinfo": "text",
         "lat": [
          62,
          46
         ],
         "line": {
          "color": "red",
          "width": 1.5965387056539286
         },
         "lon": [
          10,
          2
         ],
         "mode": "lines+markers",
         "name": "",
         "opacity": 0.4451378366174291,
         "text": "Norway<br># products: 17",
         "type": "scattergeo",
         "uid": "06c5e8f6-d0c8-499a-bfa5-e1e63ad57947"
        },
        {
         "hoverinfo": "text",
         "lat": [
          -10,
          46
         ],
         "line": {
          "color": "red",
          "width": 0.8424719895935548
         },
         "lon": [
          -55,
          2
         ],
         "mode": "lines+markers",
         "name": "",
         "opacity": 0.2688763176679315,
         "text": "Brazil<br># products: 4",
         "type": "scattergeo",
         "uid": "f2b58a58-2e03-4711-b5cc-c4b4e57021cd"
        },
        {
         "hoverinfo": "text",
         "lat": [
          40,
          46
         ],
         "line": {
          "color": "red",
          "width": 3.464952569422098
         },
         "lon": [
          -4,
          2
         ],
         "mode": "lines+markers",
         "name": "",
         "opacity": 0.8818756724612666,
         "text": "Spain<br># products: 613",
         "type": "scattergeo",
         "uid": "5e930e78-2d7d-4add-8878-2822f23d9e70"
        },
        {
         "hoverinfo": "text",
         "lat": [
          -6,
          46
         ],
         "line": {
          "color": "red",
          "width": 0.4812359947967775
         },
         "lon": [
          147,
          2
         ],
         "mode": "lines+markers",
         "name": "",
         "opacity": 0.18443815883396575,
         "text": "Papua New Guinea<br># products: 2",
         "type": "scattergeo",
         "uid": "47a669ed-8096-4ec0-acfb-d9c5e1ba0f50"
        },
        {
         "hoverinfo": "text",
         "lat": [
          52.5,
          46
         ],
         "line": {
          "color": "red",
          "width": 3.1500537684442143
         },
         "lon": [
          5.75,
          2
         ],
         "mode": "lines+markers",
         "name": "",
         "opacity": 0.8082687358420227,
         "text": "Netherlands<br># products: 335",
         "type": "scattergeo",
         "uid": "5feb8713-2264-4fad-ba57-8c48c751b347"
        },
        {
         "hoverinfo": "text",
         "lat": [
          27,
          46
         ],
         "line": {
          "color": "red",
          "width": 0.12
         },
         "lon": [
          30,
          2
         ],
         "mode": "lines+markers",
         "name": "",
         "opacity": 0.1,
         "text": "Egypt<br># products: 1",
         "type": "scattergeo",
         "uid": "37a09a69-1d1a-4aac-b1e0-e1e6b21debb2"
        },
        {
         "hoverinfo": "text",
         "lat": [
          47,
          46
         ],
         "line": {
          "color": "red",
          "width": 2.8680415336350213
         },
         "lon": [
          8,
          2
         ],
         "mode": "lines+markers",
         "name": "",
         "opacity": 0.7423489653348322,
         "text": "Switzerland<br># products: 195",
         "type": "scattergeo",
         "uid": "1c58b770-161c-4194-8057-48707eac86c4"
        },
        {
         "hoverinfo": "text",
         "lat": [
          43,
          46
         ],
         "line": {
          "color": "red",
          "width": 0.9587640052032226
         },
         "lon": [
          25,
          2
         ],
         "mode": "lines+markers",
         "name": "",
         "opacity": 0.2960593332771467,
         "text": "Bulgaria<br># products: 5",
         "type": "scattergeo",
         "uid": "8129e9e4-c190-4ef5-9850-09490db3703a"
        },
        {
         "hoverinfo": "text",
         "lat": [
          24,
          46
         ],
         "line": {
          "color": "red",
          "width": 0.692545505663595
         },
         "lon": [
          90,
          2
         ],
         "mode": "lines+markers",
         "name": "",
         "opacity": 0.23383131538177257,
         "text": "Bangladesh<br># products: 3",
         "type": "scattergeo",
         "uid": "415bc349-8ea7-4c31-af49-ca25c6fb73a0"
        },
        {
         "hoverinfo": "text",
         "lat": [
          21.5,
          46
         ],
         "line": {
          "color": "red",
          "width": 0.4812359947967775
         },
         "lon": [
          -80,
          2
         ],
         "mode": "lines+markers",
         "name": "",
         "opacity": 0.18443815883396575,
         "text": "Cuba<br># products: 2",
         "type": "scattergeo",
         "uid": "e313863e-cadc-4d62-8717-23b122431abf"
        },
        {
         "hoverinfo": "text",
         "lat": [
          35,
          46
         ],
         "line": {
          "color": "red",
          "width": 0.4812359947967775
         },
         "lon": [
          38,
          2
         ],
         "mode": "lines+markers",
         "name": "",
         "opacity": 0.18443815883396575,
         "text": "Syria<br># products: 2",
         "type": "scattergeo",
         "uid": "833dba6d-2b0b-456c-bc41-77f2588cf3d3"
        },
        {
         "hoverinfo": "text",
         "lat": [
          48.66666666,
          46
         ],
         "line": {
          "color": "red",
          "width": 0.4812359947967775
         },
         "lon": [
          19.5,
          2
         ],
         "mode": "lines+markers",
         "name": "",
         "opacity": 0.18443815883396575,
         "text": "Slovakia<br># products: 2",
         "type": "scattergeo",
         "uid": "abac4ff0-217e-4964-819c-476e06da1953"
        },
        {
         "hoverinfo": "text",
         "lat": [
          -34,
          46
         ],
         "line": {
          "color": "red",
          "width": 0.4812359947967775
         },
         "lon": [
          -64,
          2
         ],
         "mode": "lines+markers",
         "name": "",
         "opacity": 0.18443815883396575,
         "text": "Argentina<br># products: 2",
         "type": "scattergeo",
         "uid": "781dbfc8-2fd4-4737-b84f-7944a31a2520"
        },
        {
         "hoverinfo": "text",
         "lat": [
          34,
          46
         ],
         "line": {
          "color": "red",
          "width": 1.6812359947967777
         },
         "lon": [
          9,
          2
         ],
         "mode": "lines+markers",
         "name": "",
         "opacity": 0.46493565094507816,
         "text": "Tunisia<br># products: 20",
         "type": "scattergeo",
         "uid": "dc4b245b-91c4-4b29-b849-007ec00b1c4f"
        },
        {
         "hoverinfo": "text",
         "lat": [
          39,
          46
         ],
         "line": {
          "color": "red",
          "width": 2.4533792065802023
         },
         "lon": [
          22,
          2
         ],
         "mode": "lines+markers",
         "name": "",
         "opacity": 0.6454225129916367,
         "text": "Greece<br># products: 88",
         "type": "scattergeo",
         "uid": "eb70e545-63d0-4768-bf58-a4a619555e67"
        },
        {
         "hoverinfo": "text",
         "lat": [
          64,
          46
         ],
         "line": {
          "color": "red",
          "width": 0.4812359947967775
         },
         "lon": [
          26,
          2
         ],
         "mode": "lines+markers",
         "name": "",
         "opacity": 0.18443815883396575,
         "text": "Finland<br># products: 2",
         "type": "scattergeo",
         "uid": "f465a7ae-cb43-4ddb-8d27-178fd104c31a"
        },
        {
         "hoverinfo": "text",
         "lat": [
          47.26666666,
          46
         ],
         "line": {
          "color": "red",
          "width": 0.692545505663595
         },
         "lon": [
          9.53333333,
          2
         ],
         "mode": "lines+markers",
         "name": "",
         "opacity": 0.23383131538177257,
         "text": "Liechtenstein<br># products: 3",
         "type": "scattergeo",
         "uid": "a87c5009-a2c7-483d-a9e2-b1a00d40911e"
        },
        {
         "hoverinfo": "text",
         "lat": [
          60,
          46
         ],
         "line": {
          "color": "red",
          "width": 0.12
         },
         "lon": [
          100,
          2
         ],
         "mode": "lines+markers",
         "name": "",
         "opacity": 0.1,
         "text": "Russia<br># products: 1",
         "type": "scattergeo",
         "uid": "ecf3e8be-4f8d-4039-9e6a-1dacac9558ce"
        },
        {
         "hoverinfo": "text",
         "lat": [
          8,
          46
         ],
         "line": {
          "color": "red",
          "width": 1.2650910113271898
         },
         "lon": [
          -66,
          2
         ],
         "mode": "lines+markers",
         "name": "",
         "opacity": 0.3676626307635451,
         "text": "Venezuela<br># products: 9",
         "type": "scattergeo",
         "uid": "ea160861-5841-4959-82f8-8c0f4679087f"
        },
        {
         "hoverinfo": "text",
         "lat": [
          7,
          46
         ],
         "line": {
          "color": "red",
          "width": 1.5965387056539286
         },
         "lon": [
          81,
          2
         ],
         "mode": "lines+markers",
         "name": "",
         "opacity": 0.4451378366174291,
         "text": "Sri Lanka<br># products: 17",
         "type": "scattergeo",
         "uid": "d6ad3d90-7a38-44a7-8bd4-a0ce6fbed50f"
        },
        {
         "hoverinfo": "text",
         "lat": [
          53,
          46
         ],
         "line": {
          "color": "red",
          "width": 1.776253490053927
         },
         "lon": [
          -8,
          2
         ],
         "mode": "lines+markers",
         "name": "",
         "opacity": 0.4871457918836699,
         "text": "Ireland<br># products: 24",
         "type": "scattergeo",
         "uid": "c8616424-c311-469d-8f4b-77c5bd382f13"
        },
        {
         "hoverinfo": "text",
         "lat": [
          -21.5,
          46
         ],
         "line": {
          "color": "red",
          "width": 0.692545505663595
         },
         "lon": [
          165.5,
          2
         ],
         "mode": "lines+markers",
         "name": "",
         "opacity": 0.23383131538177257,
         "text": "New Caledonia<br># products: 3",
         "type": "scattergeo",
         "uid": "0dc0f515-af18-4bca-bd06-6128c6c0cdab"
        },
        {
         "hoverinfo": "text",
         "lat": [
          57,
          46
         ],
         "line": {
          "color": "red",
          "width": 0.4812359947967775
         },
         "lon": [
          25,
          2
         ],
         "mode": "lines+markers",
         "name": "",
         "opacity": 0.18443815883396575,
         "text": "Latvia<br># products: 2",
         "type": "scattergeo",
         "uid": "d676fe7a-5d61-4461-80bf-52eebe5e9907"
        },
        {
         "hoverinfo": "text",
         "lat": [
          -22,
          46
         ],
         "line": {
          "color": "red",
          "width": 0.12
         },
         "lon": [
          17,
          2
         ],
         "mode": "lines+markers",
         "name": "",
         "opacity": 0.1,
         "text": "Namibia<br># products: 1",
         "type": "scattergeo",
         "uid": "e0847c34-e94c-4210-ba63-362788f146a4"
        },
        {
         "hoverinfo": "text",
         "lat": [
          56,
          46
         ],
         "line": {
          "color": "red",
          "width": 1.942216727853465
         },
         "lon": [
          10,
          2
         ],
         "mode": "lines+markers",
         "name": "",
         "opacity": 0.525939351871512,
         "text": "Denmark<br># products: 33",
         "type": "scattergeo",
         "uid": "dc84c32a-db9e-44c7-bb61-e2f6cc0ec306"
        },
        {
         "hoverinfo": "text",
         "lat": [
          36,
          46
         ],
         "line": {
          "color": "red",
          "width": 1.8179680175649815
         },
         "lon": [
          138,
          2
         ],
         "mode": "lines+markers",
         "name": "",
         "opacity": 0.4968964755098788,
         "text": "Japan<br># products: 26",
         "type": "scattergeo",
         "uid": "f5229cf0-b84b-4772-8c32-34f284e71a4b"
        },
        {
         "hoverinfo": "text",
         "lat": [
          14.666667,
          46
         ],
         "line": {
          "color": "red",
          "width": 0.4812359947967775
         },
         "lon": [
          -61,
          2
         ],
         "mode": "lines+markers",
         "name": "",
         "opacity": 0.18443815883396575,
         "text": "Martinique<br># products: 2",
         "type": "scattergeo",
         "uid": "69b4eec2-9854-400a-bc7c-5d8b9da780d5"
        },
        {
         "hoverinfo": "text",
         "lat": [
          19.5,
          46
         ],
         "line": {
          "color": "red",
          "width": 0.4812359947967775
         },
         "lon": [
          -80.5,
          2
         ],
         "mode": "lines+markers",
         "name": "",
         "opacity": 0.18443815883396575,
         "text": "Cayman Islands<br># products: 2",
         "type": "scattergeo",
         "uid": "6610690f-aa10-4a23-84a9-3b7db060f14f"
        },
        {
         "hoverinfo": "text",
         "lat": [
          38,
          46
         ],
         "line": {
          "color": "red",
          "width": 2.403707984390332
         },
         "lon": [
          -97,
          2
         ],
         "mode": "lines+markers",
         "name": "",
         "opacity": 0.6338119686130097,
         "text": "United States<br># products: 80",
         "type": "scattergeo",
         "uid": "cfd2315f-63a3-4017-ad5e-ec9594a16eb0"
        },
        {
         "hoverinfo": "text",
         "lat": [
          22.267,
          46
         ],
         "line": {
          "color": "red",
          "width": 0.12
         },
         "lon": [
          114.188,
          2
         ],
         "mode": "lines+markers",
         "name": "",
         "opacity": 0.1,
         "text": "Hong Kong<br># products: 1",
         "type": "scattergeo",
         "uid": "4d095a85-0d72-4021-819b-ec473ff99cf8"
        },
        {
         "hoverinfo": "text",
         "lat": [
          1.36666666,
          46
         ],
         "line": {
          "color": "red",
          "width": 1.0537815004603723
         },
         "lon": [
          103.8,
          2
         ],
         "mode": "lines+markers",
         "name": "",
         "opacity": 0.31826947421573837,
         "text": "Singapore<br># products: 6",
         "type": "scattergeo",
         "uid": "947a5c4a-e341-402d-a4e7-010afcb1c341"
        },
        {
         "hoverinfo": "text",
         "lat": [
          59,
          46
         ],
         "line": {
          "color": "red",
          "width": 0.4812359947967775
         },
         "lon": [
          26,
          2
         ],
         "mode": "lines+markers",
         "name": "",
         "opacity": 0.18443815883396575,
         "text": "Estonia<br># products: 2",
         "type": "scattergeo",
         "uid": "070caf66-dff2-4e7c-ac63-65d87459cd35"
        },
        {
         "hoverinfo": "text",
         "lat": [
          -5,
          46
         ],
         "line": {
          "color": "red",
          "width": 1.0537815004603723
         },
         "lon": [
          120,
          2
         ],
         "mode": "lines+markers",
         "name": "",
         "opacity": 0.31826947421573837,
         "text": "Indonesia<br># products: 6",
         "type": "scattergeo",
         "uid": "7aac9e75-63a0-4d6c-8ff4-564b5eef8699"
        },
        {
         "hoverinfo": "text",
         "lat": [
          50.83333333,
          46
         ],
         "line": {
          "color": "red",
          "width": 3.598470217907392
         },
         "lon": [
          4,
          2
         ],
         "mode": "lines+markers",
         "name": "",
         "opacity": 0.9130851437551817,
         "text": "Belgium<br># products: 792",
         "type": "scattergeo",
         "uid": "e57fcdb2-c614-4709-bf7a-3d7e83f9444e"
        },
        {
         "hoverinfo": "text",
         "lat": [
          13.83333333,
          46
         ],
         "line": {
          "color": "red",
          "width": 0.12
         },
         "lon": [
          -88.91666666,
          2
         ],
         "mode": "lines+markers",
         "name": "",
         "opacity": 0.1,
         "text": "El Salvador<br># products: 1",
         "type": "scattergeo",
         "uid": "9b5f9445-8d2c-465a-b0b4-d06ed06ed299"
        },
        {
         "hoverinfo": "text",
         "lat": [
          19,
          46
         ],
         "line": {
          "color": "red",
          "width": 0.12
         },
         "lon": [
          -70.66666666,
          2
         ],
         "mode": "lines+markers",
         "name": "",
         "opacity": 0.1,
         "text": "Dominican Republic<br># products: 1",
         "type": "scattergeo",
         "uid": "b7133307-be79-402a-b5af-e022123ed9f7"
        },
        {
         "hoverinfo": "text",
         "lat": [
          33.83333333,
          46
         ],
         "line": {
          "color": "red",
          "width": 0.692545505663595
         },
         "lon": [
          35.83333333,
          2
         ],
         "mode": "lines+markers",
         "name": "",
         "opacity": 0.23383131538177257,
         "text": "Lebanon<br># products: 3",
         "type": "scattergeo",
         "uid": "2f0a8fdd-8b69-4942-b6d1-886b77bf08e1"
        },
        {
         "hoverinfo": "text",
         "lat": [
          32,
          46
         ],
         "line": {
          "color": "red",
          "width": 2.4592680079738956
         },
         "lon": [
          -5,
          2
         ],
         "mode": "lines+markers",
         "name": "",
         "opacity": 0.6467990080103627,
         "text": "Morocco<br># products: 89",
         "type": "scattergeo",
         "uid": "0c6b127f-42d0-4c1c-98a9-8d1df3ccaf72"
        },
        {
         "hoverinfo": "text",
         "lat": [
          37,
          46
         ],
         "line": {
          "color": "red",
          "width": 1.5649439791871098
         },
         "lon": [
          127.5,
          2
         ],
         "mode": "lines+markers",
         "name": "",
         "opacity": 0.43775263533586306,
         "text": "South Korea<br># products: 16",
         "type": "scattergeo",
         "uid": "bf23d408-64e8-437e-a6a9-5d4131ccdf8e"
        },
        {
         "hoverinfo": "text",
         "lat": [
          18.25,
          46
         ],
         "line": {
          "color": "red",
          "width": 0.12
         },
         "lon": [
          -66.5,
          2
         ],
         "mode": "lines+markers",
         "name": "",
         "opacity": 0.1,
         "text": "Puerto Rico<br># products: 1",
         "type": "scattergeo",
         "uid": "39a0e956-3a10-461f-b6ea-f67aa760c5c9"
        },
        {
         "hoverinfo": "text",
         "lat": [
          54,
          46
         ],
         "line": {
          "color": "red",
          "width": 4.150207093788282
         },
         "lon": [
          -2,
          2
         ],
         "mode": "lines+markers",
         "name": "",
         "opacity": 1,
         "text": "United Kingdom<br># products: 2283",
         "type": "scattergeo",
         "uid": "bdf76660-e000-44b1-a990-e57d6ff21862"
        },
        {
         "hoverinfo": "text",
         "lat": [
          60,
          46
         ],
         "line": {
          "color": "red",
          "width": 1.8179680175649815
         },
         "lon": [
          -95,
          2
         ],
         "mode": "lines+markers",
         "name": "",
         "opacity": 0.4968964755098788,
         "text": "Canada<br># products: 26",
         "type": "scattergeo",
         "uid": "0f598860-025a-435f-b6b0-b787b481b0f0"
        },
        {
         "hoverinfo": "text",
         "lat": [
          22,
          46
         ],
         "line": {
          "color": "red",
          "width": 0.12
         },
         "lon": [
          98,
          2
         ],
         "mode": "lines+markers",
         "name": "",
         "opacity": 0.1,
         "text": "Myanmar<br># products: 1",
         "type": "scattergeo",
         "uid": "8a7b621e-cd42-426a-ab4f-7fe287e0b8ec"
        },
        {
         "hoverinfo": "text",
         "lat": [
          13,
          46
         ],
         "line": {
          "color": "red",
          "width": 0.8424719895935548
         },
         "lon": [
          122,
          2
         ],
         "mode": "lines+markers",
         "name": "",
         "opacity": 0.2688763176679315,
         "text": "Philippines<br># products: 4",
         "type": "scattergeo",
         "uid": "e54d42a6-da23-419f-8d05-2ea0e52f0add"
        },
        {
         "hoverinfo": "text",
         "lat": [
          62,
          46
         ],
         "line": {
          "color": "red",
          "width": 2.0678991484774807
         },
         "lon": [
          15,
          2
         ],
         "mode": "lines+markers",
         "name": "",
         "opacity": 0.5553173550277539,
         "text": "Sweden<br># products: 42",
         "type": "scattergeo",
         "uid": "f36ba13d-da43-4fae-b395-00ddca9add0b"
        },
        {
         "hoverinfo": "text",
         "lat": [
          25,
          46
         ],
         "line": {
          "color": "red",
          "width": 0.12
         },
         "lon": [
          45,
          2
         ],
         "mode": "lines+markers",
         "name": "",
         "opacity": 0.1,
         "text": "Saudi Arabia<br># products: 1",
         "type": "scattergeo",
         "uid": "3de7b379-65e7-499e-bd26-7bfc695585da"
        },
        {
         "hoverinfo": "text",
         "lat": [
          46,
          46
         ],
         "line": {
          "color": "red",
          "width": 1.0537815004603723
         },
         "lon": [
          25,
          2
         ],
         "mode": "lines+markers",
         "name": "",
         "opacity": 0.31826947421573837,
         "text": "Romania<br># products: 6",
         "type": "scattergeo",
         "uid": "77999c60-8b1e-4263-a725-02944b151547"
        },
        {
         "hoverinfo": "text",
         "lat": [
          10,
          46
         ],
         "line": {
          "color": "red",
          "width": 0.692545505663595
         },
         "lon": [
          -84,
          2
         ],
         "mode": "lines+markers",
         "name": "",
         "opacity": 0.23383131538177257,
         "text": "Costa Rica<br># products: 3",
         "type": "scattergeo",
         "uid": "1bdead3f-aa85-47be-8952-5752a5453655"
        },
        {
         "hoverinfo": "text",
         "lat": [
          -2,
          46
         ],
         "line": {
          "color": "red",
          "width": 0.9587640052032226
         },
         "lon": [
          -77.5,
          2
         ],
         "mode": "lines+markers",
         "name": "",
         "opacity": 0.2960593332771467,
         "text": "Ecuador<br># products: 5",
         "type": "scattergeo",
         "uid": "7e47a117-df5c-4279-bafd-ac38735cc3a0"
        },
        {
         "hoverinfo": "text",
         "lat": [
          32,
          46
         ],
         "line": {
          "color": "red",
          "width": 2.042471989593555
         },
         "lon": [
          53,
          2
         ],
         "mode": "lines+markers",
         "name": "",
         "opacity": 0.5493738097790439,
         "text": "Iran<br># products: 40",
         "type": "scattergeo",
         "uid": "ffbf39a4-562e-4fbb-9ab1-255a803ad140"
        },
        {
         "hoverinfo": "text",
         "lat": [
          -10,
          46
         ],
         "line": {
          "color": "red",
          "width": 1.5313095108668178
         },
         "lon": [
          -76,
          2
         ],
         "mode": "lines+markers",
         "name": "",
         "opacity": 0.42989064865891924,
         "text": "Peru<br># products: 15",
         "type": "scattergeo",
         "uid": "42d6b449-1a07-4094-ad65-4ca72bf9b3b4"
        },
        {
         "hoverinfo": "text",
         "lat": [
          28,
          46
         ],
         "line": {
          "color": "red",
          "width": 1.2650910113271898
         },
         "lon": [
          3,
          2
         ],
         "mode": "lines+markers",
         "name": "",
         "opacity": 0.3676626307635451,
         "text": "Algeria<br># products: 9",
         "type": "scattergeo",
         "uid": "f30a0a7b-43c0-4259-945c-e67a8e0bf0fc"
        },
        {
         "hoverinfo": "text",
         "lat": [
          8,
          46
         ],
         "line": {
          "color": "red",
          "width": 0.12
         },
         "lon": [
          1.16666666,
          2
         ],
         "mode": "lines+markers",
         "name": "",
         "opacity": 0.1,
         "text": "Togo<br># products: 1",
         "type": "scattergeo",
         "uid": "308a254f-ec8b-4f5d-ba00-fda9282aebac"
        },
        {
         "hoverinfo": "text",
         "lat": [
          16.16666666,
          46
         ],
         "line": {
          "color": "red",
          "width": 2.1587640052032224
         },
         "lon": [
          107.83333333,
          2
         ],
         "mode": "lines+markers",
         "name": "",
         "opacity": 0.576556825388259,
         "text": "Vietnam<br># products: 50",
         "type": "scattergeo",
         "uid": "661651e6-161b-402b-8b84-e9d14e2a0197"
        },
        {
         "hoverinfo": "text",
         "lat": [
          35,
          46
         ],
         "line": {
          "color": "red",
          "width": 2.5973495870723022
         },
         "lon": [
          105,
          2
         ],
         "mode": "lines+markers",
         "name": "",
         "opacity": 0.6790752885469006,
         "text": "China<br># products: 116",
         "type": "scattergeo",
         "uid": "95ecc6bb-ce60-4e9d-a6b7-e08b42c45aea"
        },
        {
         "hoverinfo": "text",
         "lat": [
          49.46666666,
          46
         ],
         "line": {
          "color": "red",
          "width": 0.692545505663595
         },
         "lon": [
          -2.58333333,
          2
         ],
         "mode": "lines+markers",
         "name": "",
         "opacity": 0.23383131538177257,
         "text": "Guernsey<br># products: 3",
         "type": "scattergeo",
         "uid": "62c9ccb6-3e32-4b9d-8182-11344cf0acd8"
        },
        {
         "hoverinfo": "text",
         "lat": [
          -20.28333333,
          46
         ],
         "line": {
          "color": "red",
          "width": 1.134117648017108
         },
         "lon": [
          57.55,
          2
         ],
         "mode": "lines+markers",
         "name": "",
         "opacity": 0.33704788081201553,
         "text": "Mauritius<br># products: 7",
         "type": "scattergeo",
         "uid": "1c77e9b8-dc82-4d3f-ac45-85e576356417"
        },
        {
         "hoverinfo": "text",
         "lat": [
          -33,
          46
         ],
         "line": {
          "color": "red",
          "width": 0.12
         },
         "lon": [
          -56,
          2
         ],
         "mode": "lines+markers",
         "name": "",
         "opacity": 0.1,
         "text": "Uruguay<br># products: 1",
         "type": "scattergeo",
         "uid": "bec2dba4-25f3-4abe-ac17-a185c1bae530"
        },
        {
         "hoverinfo": "text",
         "lat": [
          42.83333333,
          46
         ],
         "line": {
          "color": "red",
          "width": 3.8901158763309454
         },
         "lon": [
          12.83333333,
          2
         ],
         "mode": "lines+markers",
         "name": "",
         "opacity": 0.9812567068992658,
         "text": "Italy<br># products: 1386",
         "type": "scattergeo",
         "uid": "a3e8c848-9ac1-4d50-8131-cf6a4ae35cd6"
        },
        {
         "hoverinfo": "text",
         "lat": [
          -29,
          46
         ],
         "line": {
          "color": "red",
          "width": 1.41501749525715
         },
         "lon": [
          24,
          2
         ],
         "mode": "lines+markers",
         "name": "",
         "opacity": 0.40270763304970414,
         "text": "South Africa<br># products: 12",
         "type": "scattergeo",
         "uid": "7b557444-4ff1-4acd-aa24-7ce5ea5d363e"
        },
        {
         "hoverinfo": "text",
         "lat": [
          -27,
          46
         ],
         "line": {
          "color": "red",
          "width": 0.8424719895935548
         },
         "lon": [
          133,
          2
         ],
         "mode": "lines+markers",
         "name": "",
         "opacity": 0.2688763176679315,
         "text": "Australia<br># products: 4",
         "type": "scattergeo",
         "uid": "9dd71c8d-247b-4336-a00c-50ec100ccf7f"
        },
        {
         "hoverinfo": "text",
         "lat": [
          1,
          46
         ],
         "line": {
          "color": "red",
          "width": 1.2650910113271898
         },
         "lon": [
          38,
          2
         ],
         "mode": "lines+markers",
         "name": "",
         "opacity": 0.3676626307635451,
         "text": "Kenya<br># products: 9",
         "type": "scattergeo",
         "uid": "919d7b55-491f-42d3-8d53-d630b81d28a0"
        },
        {
         "hoverinfo": "text",
         "lat": [
          49.75,
          46
         ],
         "line": {
          "color": "red",
          "width": 1.776253490053927
         },
         "lon": [
          6.16666666,
          2
         ],
         "mode": "lines+markers",
         "name": "",
         "opacity": 0.4871457918836699,
         "text": "Luxembourg<br># products: 24",
         "type": "scattergeo",
         "uid": "ebfd0444-df80-4e38-8091-5ae3bc97cf38"
        },
        {
         "hoverinfo": "text",
         "lat": [
          -41,
          46
         ],
         "line": {
          "color": "red",
          "width": 0.4812359947967775
         },
         "lon": [
          174,
          2
         ],
         "mode": "lines+markers",
         "name": "",
         "opacity": 0.18443815883396575,
         "text": "New Zealand<br># products: 2",
         "type": "scattergeo",
         "uid": "fad92954-3277-4af7-af76-eede4c52efe4"
        },
        {
         "hoverinfo": "text",
         "lat": [
          46.11666666,
          46
         ],
         "line": {
          "color": "red",
          "width": 0.692545505663595
         },
         "lon": [
          14.81666666,
          2
         ],
         "mode": "lines+markers",
         "name": "",
         "opacity": 0.23383131538177257,
         "text": "Slovenia<br># products: 3",
         "type": "scattergeo",
         "uid": "90644a9a-e581-49fe-ab9a-cff29260b401"
        },
        {
         "hoverinfo": "text",
         "lat": [
          -21.15,
          46
         ],
         "line": {
          "color": "red",
          "width": 1.134117648017108
         },
         "lon": [
          55.5,
          2
         ],
         "mode": "lines+markers",
         "name": "",
         "opacity": 0.33704788081201553,
         "text": "Réunion<br># products: 7",
         "type": "scattergeo",
         "uid": "97404f59-f76d-41f1-afa5-37d7b18581dd"
        },
        {
         "hoverinfo": "text",
         "lat": [
          4,
          46
         ],
         "line": {
          "color": "red",
          "width": 0.4812359947967775
         },
         "lon": [
          -53,
          2
         ],
         "mode": "lines+markers",
         "name": "",
         "opacity": 0.18443815883396575,
         "text": "French Guiana<br># products: 2",
         "type": "scattergeo",
         "uid": "50c19bb6-f844-42ec-9ad4-a7bd5f4f3a9e"
        },
        {
         "hoverinfo": "text",
         "lat": [
          23.5,
          46
         ],
         "line": {
          "color": "red",
          "width": 1.856589637610663
         },
         "lon": [
          121,
          2
         ],
         "mode": "lines+markers",
         "name": "",
         "opacity": 0.5059241984799471,
         "text": "Taiwan<br># products: 28",
         "type": "scattergeo",
         "uid": "a2b19d49-c49a-4d88-b106-afedb07c2e55"
        },
        {
         "hoverinfo": "text",
         "lat": [
          49.75,
          46
         ],
         "line": {
          "color": "red",
          "width": 1.41501749525715
         },
         "lon": [
          15.5,
          2
         ],
         "mode": "lines+markers",
         "name": "",
         "opacity": 0.40270763304970414,
         "text": "Czechia<br># products: 12",
         "type": "scattergeo",
         "uid": "48048fb2-86f9-439d-9946-e7b6f3c42dc0"
        },
        {
         "hoverinfo": "text",
         "lat": [
          2.5,
          46
         ],
         "line": {
          "color": "red",
          "width": 1.5649439791871098
         },
         "lon": [
          112.5,
          2
         ],
         "mode": "lines+markers",
         "name": "",
         "opacity": 0.43775263533586306,
         "text": "Malaysia<br># products: 16",
         "type": "scattergeo",
         "uid": "aebb357f-ffe9-41f8-9357-6a5eb0890a6e"
        },
        {
         "hoverinfo": "text",
         "lat": [
          31.47,
          46
         ],
         "line": {
          "color": "red",
          "width": 1.8179680175649815
         },
         "lon": [
          35.13,
          2
         ],
         "mode": "lines+markers",
         "name": "",
         "opacity": 0.4968964755098788,
         "text": "Israel<br># products: 26",
         "type": "scattergeo",
         "uid": "7db34982-30b6-4e30-9521-de6053b87be8"
        },
        {
         "hoverinfo": "text",
         "lat": [
          39.5,
          46
         ],
         "line": {
          "color": "red",
          "width": 2.6106563536710374
         },
         "lon": [
          -8,
          2
         ],
         "mode": "lines+markers",
         "name": "",
         "opacity": 0.6821857174294448,
         "text": "Portugal<br># products: 119",
         "type": "scattergeo",
         "uid": "f4a5981f-cb67-4b3a-84a6-f5e4413fb63d"
        },
        {
         "hoverinfo": "text",
         "lat": [
          46,
          46
         ],
         "line": {
          "color": "red",
          "width": 5.2537357391758
         },
         "lon": [
          2,
          2
         ],
         "mode": "lines+markers",
         "name": "",
         "opacity": 1,
         "text": "France<br># products: 18972",
         "type": "scattergeo",
         "uid": "e5532edf-7a03-4fb1-98a9-8c39d0cd3689"
        },
        {
         "hoverinfo": "text",
         "lat": [
          -4.58333333,
          46
         ],
         "line": {
          "color": "red",
          "width": 1.2037079843903322
         },
         "lon": [
          55.66666666,
          2
         ],
         "mode": "lines+markers",
         "name": "",
         "opacity": 0.3533144765018973,
         "text": "Seychelles<br># products: 8",
         "type": "scattergeo",
         "uid": "79e22640-fdec-4d61-9227-952848b27c71"
        },
        {
         "hoverinfo": "text",
         "lat": [
          44,
          46
         ],
         "line": {
          "color": "red",
          "width": 0.692545505663595
         },
         "lon": [
          21,
          2
         ],
         "mode": "lines+markers",
         "name": "",
         "opacity": 0.23383131538177257,
         "text": "Serbia<br># products: 3",
         "type": "scattergeo",
         "uid": "5da4dd36-2f3b-4f28-914f-00fdc7e0b46d"
        },
        {
         "hoverinfo": "text",
         "lat": [
          19.3,
          46
         ],
         "line": {
          "color": "red",
          "width": 1.856589637610663
         },
         "lon": [
          166.633333,
          2
         ],
         "mode": "lines+markers",
         "name": "",
         "opacity": 0.5059241984799471,
         "text": "United States Minor Outlying Islands<br># products: 28",
         "type": "scattergeo",
         "uid": "e0785898-ca91-4130-9fd9-6f33517c276e"
        },
        {
         "hoverinfo": "text",
         "lat": [
          45.16666666,
          46
         ],
         "line": {
          "color": "red",
          "width": 0.8424719895935548
         },
         "lon": [
          15.5,
          2
         ],
         "mode": "lines+markers",
         "name": "",
         "opacity": 0.2688763176679315,
         "text": "Croatia<br># products: 4",
         "type": "scattergeo",
         "uid": "050bd901-cf0e-41ce-ba58-e8e45cee399f"
        },
        {
         "hoverinfo": "text",
         "lat": [
          -17,
          46
         ],
         "line": {
          "color": "red",
          "width": 2.348798995717522
         },
         "lon": [
          -65,
          2
         ],
         "mode": "lines+markers",
         "name": "",
         "opacity": 0.6209771072654424,
         "text": "Bolivia<br># products: 72",
         "type": "scattergeo",
         "uid": "178679d8-f776-417f-961e-f74cecc3e977"
        },
        {
         "hoverinfo": "text",
         "lat": [
          -13.58333333,
          46
         ],
         "line": {
          "color": "red",
          "width": 1.5313095108668178
         },
         "lon": [
          -172.33333333,
          2
         ],
         "mode": "lines+markers",
         "name": "",
         "opacity": 0.42989064865891924,
         "text": "Samoa<br># products: 15",
         "type": "scattergeo",
         "uid": "3982429f-aed3-42d0-94cd-668a3e21a79f"
        },
        {
         "hoverinfo": "text",
         "lat": [
          47,
          46
         ],
         "line": {
          "color": "red",
          "width": 0.12
         },
         "lon": [
          29,
          2
         ],
         "mode": "lines+markers",
         "name": "",
         "opacity": 0.1,
         "text": "Moldova<br># products: 1",
         "type": "scattergeo",
         "uid": "e3e6a3f8-9b53-42ed-a860-ce4e49fb1cd9"
        },
        {
         "hoverinfo": "text",
         "lat": [
          6,
          46
         ],
         "line": {
          "color": "red",
          "width": 0.4812359947967775
         },
         "lon": [
          12,
          2
         ],
         "mode": "lines+markers",
         "name": "",
         "opacity": 0.18443815883396575,
         "text": "Cameroon<br># products: 2",
         "type": "scattergeo",
         "uid": "723030d3-8c1f-48f7-8ee2-b20e84859152"
        },
        {
         "hoverinfo": "text",
         "lat": [
          15,
          46
         ],
         "line": {
          "color": "red",
          "width": 2.6445644651471483
         },
         "lon": [
          100,
          2
         ],
         "mode": "lines+markers",
         "name": "",
         "opacity": 0.6901116676221724,
         "text": "Thailand<br># products: 127",
         "type": "scattergeo",
         "uid": "0b8de2d6-1c67-448d-9096-d0b45c7b4de7"
        },
        {
         "hoverinfo": "text",
         "lat": [
          65,
          46
         ],
         "line": {
          "color": "red",
          "width": 1.7309072169866475
         },
         "lon": [
          -18,
          2
         ],
         "mode": "lines+markers",
         "name": "",
         "opacity": 0.4765461953237051,
         "text": "Iceland<br># products: 22",
         "type": "scattergeo",
         "uid": "f7fa88c7-7295-4da6-bd35-b59e68bf0312"
        },
        {
         "hoverinfo": "text",
         "lat": [
          8,
          46
         ],
         "line": {
          "color": "red",
          "width": 1.2650910113271898
         },
         "lon": [
          -5,
          2
         ],
         "mode": "lines+markers",
         "name": "",
         "opacity": 0.3676626307635451,
         "text": "Ivory Coast<br># products: 9",
         "type": "scattergeo",
         "uid": "49389b3e-36b6-465e-9f5c-253dde71edc1"
        },
        {
         "hoverinfo": "text",
         "lat": [
          23,
          46
         ],
         "line": {
          "color": "red",
          "width": 1.32
         },
         "lon": [
          -102,
          2
         ],
         "mode": "lines+markers",
         "name": "",
         "opacity": 0.3804974921111124,
         "text": "Mexico<br># products: 10",
         "type": "scattergeo",
         "uid": "f025fea1-3f36-4754-8be1-9414e679441c"
        },
        {
         "hoverinfo": "text",
         "lat": [
          4,
          46
         ],
         "line": {
          "color": "red",
          "width": 0.12
         },
         "lon": [
          -72,
          2
         ],
         "mode": "lines+markers",
         "name": "",
         "opacity": 0.1,
         "text": "Colombia<br># products: 1",
         "type": "scattergeo",
         "uid": "65c0a399-c385-4df0-afd3-255dc5fc7c85"
        },
        {
         "hoverinfo": "text",
         "lat": [
          35,
          46
         ],
         "line": {
          "color": "red",
          "width": 0.4812359947967775
         },
         "lon": [
          33,
          2
         ],
         "mode": "lines+markers",
         "name": "",
         "opacity": 0.18443815883396575,
         "text": "Cyprus<br># products: 2",
         "type": "scattergeo",
         "uid": "6388a4e6-c6b6-4ccd-b6e5-c117b4368e34"
        },
        {
         "hoverinfo": "text",
         "lat": [
          18,
          46
         ],
         "line": {
          "color": "red",
          "width": 0.4812359947967775
         },
         "lon": [
          105,
          2
         ],
         "mode": "lines+markers",
         "name": "",
         "opacity": 0.18443815883396575,
         "text": "Laos<br># products: 2",
         "type": "scattergeo",
         "uid": "3f5843ce-df0b-4988-ae12-3e735a694a7a"
        },
        {
         "hoverinfo": "text",
         "lat": [
          -12.83333333,
          46
         ],
         "line": {
          "color": "red",
          "width": 0.9587640052032226
         },
         "lon": [
          45.16666666,
          2
         ],
         "mode": "lines+markers",
         "name": "",
         "opacity": 0.2960593332771467,
         "text": "Mayotte<br># products: 5",
         "type": "scattergeo",
         "uid": "65ea4d45-290e-469d-8ac9-e9e2fa1860af"
        },
        {
         "hoverinfo": "text",
         "lat": [
          8,
          46
         ],
         "line": {
          "color": "red",
          "width": 0.9587640052032226
         },
         "lon": [
          -2,
          2
         ],
         "mode": "lines+markers",
         "name": "",
         "opacity": 0.2960593332771467,
         "text": "Ghana<br># products: 5",
         "type": "scattergeo",
         "uid": "49b93f47-edd4-47c3-8210-b710c8d2eb42"
        },
        {
         "hoverinfo": "text",
         "lat": [
          16.25,
          46
         ],
         "line": {
          "color": "red",
          "width": 0.692545505663595
         },
         "lon": [
          -61.583333,
          2
         ],
         "mode": "lines+markers",
         "name": "",
         "opacity": 0.23383131538177257,
         "text": "Guadeloupe<br># products: 3",
         "type": "scattergeo",
         "uid": "6e43611a-95fe-471c-8002-0c89fd8970db"
        },
        {
         "hoverinfo": "text",
         "lat": [
          47,
          46
         ],
         "line": {
          "color": "red",
          "width": 1.5649439791871098
         },
         "lon": [
          20,
          2
         ],
         "mode": "lines+markers",
         "name": "",
         "opacity": 0.43775263533586306,
         "text": "Hungary<br># products: 16",
         "type": "scattergeo",
         "uid": "2b6435ad-08af-4e99-9a42-6e245876be60"
        },
        {
         "hoverinfo": "text",
         "lat": [
          40,
          46
         ],
         "line": {
          "color": "red",
          "width": 0.8424719895935548
         },
         "lon": [
          45,
          2
         ],
         "mode": "lines+markers",
         "name": "",
         "opacity": 0.2688763176679315,
         "text": "Armenia<br># products: 4",
         "type": "scattergeo",
         "uid": "1b6241e3-55f0-4f7c-be47-efa3b5e1a17b"
        },
        {
         "hoverinfo": "text",
         "lat": [
          56,
          46
         ],
         "line": {
          "color": "red",
          "width": 1.4953536428138856
         },
         "lon": [
          24,
          2
         ],
         "mode": "lines+markers",
         "name": "",
         "opacity": 0.4214860396459813,
         "text": "Lithuania<br># products: 14",
         "type": "scattergeo",
         "uid": "74654999-ced5-46ca-9947-6cc55e1b9f0e"
        },
        {
         "hoverinfo": "text",
         "lat": [
          39,
          46
         ],
         "line": {
          "color": "red",
          "width": 2.0157403159401723
         },
         "lon": [
          35,
          2
         ],
         "mode": "lines+markers",
         "name": "",
         "opacity": 0.5431253369292884,
         "text": "Turkey<br># products: 38",
         "type": "scattergeo",
         "uid": "93b3afe8-c510-4efa-abed-5e3468f36648"
        },
        {
         "hoverinfo": "text",
         "lat": [
          51,
          46
         ],
         "line": {
          "color": "red",
          "width": 3.5700735160700403
         },
         "lon": [
          9,
          2
         ],
         "mode": "lines+markers",
         "name": "",
         "opacity": 0.9064474740471782,
         "text": "Germany<br># products: 750",
         "type": "scattergeo",
         "uid": "335514b9-1000-424b-bcb8-93e059e299d5"
        },
        {
         "hoverinfo": "text",
         "lat": [
          -26.5,
          46
         ],
         "line": {
          "color": "red",
          "width": 0.12
         },
         "lon": [
          31.5,
          2
         ],
         "mode": "lines+markers",
         "name": "",
         "opacity": 0.1,
         "text": "Eswatini<br># products: 1",
         "type": "scattergeo",
         "uid": "3c0608f1-bedd-49f6-abb8-b7ee20e12651"
        },
        {
         "hoverinfo": "text",
         "lat": [
          -20,
          46
         ],
         "line": {
          "color": "red",
          "width": 0.692545505663595
         },
         "lon": [
          47,
          2
         ],
         "mode": "lines+markers",
         "name": "",
         "opacity": 0.23383131538177257,
         "text": "Madagascar<br># products: 3",
         "type": "scattergeo",
         "uid": "e9a15c5f-5650-466e-952b-77ef0f0958d2"
        },
        {
         "hoverinfo": "text",
         "lat": [
          18.5,
          46
         ],
         "line": {
          "color": "red",
          "width": 0.12
         },
         "lon": [
          -63.41666666,
          2
         ],
         "mode": "lines+markers",
         "name": "",
         "opacity": 0.1,
         "text": "Saint Barthélemy<br># products: 1",
         "type": "scattergeo",
         "uid": "b8f8ac75-8cd5-4c6c-a768-f846b4f8c8b5"
        },
        {
         "hoverinfo": "text",
         "lat": [
          52,
          46
         ],
         "line": {
          "color": "red",
          "width": 2.487753424319638
         },
         "lon": [
          20,
          2
         ],
         "mode": "lines+markers",
         "name": "",
         "opacity": 0.6534574145492975,
         "text": "Poland<br># products: 94",
         "type": "scattergeo",
         "uid": "c703dea7-66a3-42dc-90a7-b8aa1902bded"
        },
        {
         "hoverinfo": "text",
         "lat": [
          14,
          46
         ],
         "line": {
          "color": "red",
          "width": 0.12
         },
         "lon": [
          -14,
          2
         ],
         "mode": "lines+markers",
         "name": "",
         "opacity": 0.1,
         "text": "Senegal<br># products: 1",
         "type": "scattergeo",
         "uid": "4aee04d2-93d0-49ea-bb10-13683bef464f"
        }
       ],
       "layout": {
        "geo": {
         "coastlinecolor": "rgb(255, 255, 255)",
         "countrycolor": "rgb(255, 255, 255)",
         "landcolor": "rgb(229, 229, 229)",
         "projection": {
          "type": "equirectangular"
         },
         "showcoastlines": true,
         "showframe": false,
         "showland": true
        },
        "margin": {
         "b": 0,
         "l": 50,
         "pad": 4,
         "r": 100,
         "t": 0
        },
        "showlegend": false,
        "xaxis": {
         "fixedrange": true
        },
        "yaxis": {
         "fixedrange": true
        }
       }
      },
      "text/html": [
       "<div id=\"d637456e-0d54-43d6-9905-00d128b6506c\" style=\"height: 525px; width: 100%;\" class=\"plotly-graph-div\"></div><script type=\"text/javascript\">require([\"plotly\"], function(Plotly) { window.PLOTLYENV=window.PLOTLYENV || {};window.PLOTLYENV.BASE_URL=\"https://plot.ly\";Plotly.newPlot(\"d637456e-0d54-43d6-9905-00d128b6506c\", [{\"autocolorscale\": false, \"colorbar\": {\"len\": 0.7, \"tick0\": 1, \"tickmode\": \"array\", \"ticktext\": [\"1\", \"10<sup>1/2</sup>\", \"10<sup>1</sup>\", \"10<sup>3/2</sup>\", \"10<sup>2</sup>\", \"10<sup>5/2</sup>\", \"10<sup>3</sup>\", \"10<sup>3/2</sup>\", \"10<sup>4</sup>\"], \"tickvals\": [0, 0.5, 1, 1.5, 2, 2.5, 3, 3.5, 4], \"title\": \"Counts\"}, \"colorscale\": \"Viridis\", \"hoverinfo\": \"text\", \"locations\": [\"NER\", \"BES\", \"AUT\", \"ATF\", \"CHL\", \"NOR\", \"BRA\", \"ESP\", \"PNG\", \"NLD\", \"EGY\", \"CHE\", \"BGR\", \"BGD\", \"CUB\", \"SYR\", \"SVK\", \"ARG\", \"TUN\", \"GRC\", \"FIN\", \"LIE\", \"RUS\", \"VEN\", \"LKA\", \"IRL\", \"NCL\", \"LVA\", \"NAM\", \"DNK\", \"JPN\", \"MTQ\", \"CYM\", \"USA\", \"HKG\", \"SGP\", \"EST\", \"IDN\", \"BEL\", \"SLV\", \"DOM\", \"LBN\", \"MAR\", \"KOR\", \"PRI\", \"GBR\", \"CAN\", \"MMR\", \"PHL\", \"SWE\", \"SAU\", \"ROU\", \"CRI\", \"ECU\", \"IRN\", \"PER\", \"DZA\", \"TGO\", \"VNM\", \"CHN\", \"GGY\", \"MUS\", \"URY\", \"ITA\", \"ZAF\", \"AUS\", \"KEN\", \"LUX\", \"NZL\", \"SVN\", \"REU\", \"GUF\", \"TWN\", \"CZE\", \"MYS\", \"ISR\", \"PRT\", \"FRA\", \"SYC\", \"SRB\", \"UMI\", \"HRV\", \"BOL\", \"WSM\", \"MDA\", \"CMR\", \"THA\", \"ISL\", \"CIV\", \"MEX\", \"COL\", \"CYP\", \"LAO\", \"MYT\", \"GHA\", \"GLP\", \"HUN\", \"ARM\", \"LTU\", \"TUR\", \"DEU\", \"SWZ\", \"MDG\", \"BLM\", \"POL\", \"SEN\"], \"reversescale\": true, \"text\": [\"Niger 25\", \"Caribbean Netherlands 1\", \"Austria 26\", \"French Southern and Antarctic Lands 8\", \"Chile 3\", \"Norway 17\", \"Brazil 4\", \"Spain 613\", \"Papua New Guinea 2\", \"Netherlands 335\", \"Egypt 1\", \"Switzerland 195\", \"Bulgaria 5\", \"Bangladesh 3\", \"Cuba 2\", \"Syria 2\", \"Slovakia 2\", \"Argentina 2\", \"Tunisia 20\", \"Greece 88\", \"Finland 2\", \"Liechtenstein 3\", \"Russia 1\", \"Venezuela 9\", \"Sri Lanka 17\", \"Ireland 24\", \"New Caledonia 3\", \"Latvia 2\", \"Namibia 1\", \"Denmark 33\", \"Japan 26\", \"Martinique 2\", \"Cayman Islands 2\", \"United States 80\", \"Hong Kong 1\", \"Singapore 6\", \"Estonia 2\", \"Indonesia 6\", \"Belgium 792\", \"El Salvador 1\", \"Dominican Republic 1\", \"Lebanon 3\", \"Morocco 89\", \"South Korea 16\", \"Puerto Rico 1\", \"United Kingdom 2283\", \"Canada 26\", \"Myanmar 1\", \"Philippines 4\", \"Sweden 42\", \"Saudi Arabia 1\", \"Romania 6\", \"Costa Rica 3\", \"Ecuador 5\", \"Iran 40\", \"Peru 15\", \"Algeria 9\", \"Togo 1\", \"Vietnam 50\", \"China 116\", \"Guernsey 3\", \"Mauritius 7\", \"Uruguay 1\", \"Italy 1386\", \"South Africa 12\", \"Australia 4\", \"Kenya 9\", \"Luxembourg 24\", \"New Zealand 2\", \"Slovenia 3\", \"R\\u00e9union 7\", \"French Guiana 2\", \"Taiwan 28\", \"Czechia 12\", \"Malaysia 16\", \"Israel 26\", \"Portugal 119\", \"France 18972\", \"Seychelles 8\", \"Serbia 3\", \"United States Minor Outlying Islands 28\", \"Croatia 4\", \"Bolivia 72\", \"Samoa 15\", \"Moldova 1\", \"Cameroon 2\", \"Thailand 127\", \"Iceland 22\", \"Ivory Coast 9\", \"Mexico 10\", \"Colombia 1\", \"Cyprus 2\", \"Laos 2\", \"Mayotte 5\", \"Ghana 5\", \"Guadeloupe 3\", \"Hungary 16\", \"Armenia 4\", \"Lithuania 14\", \"Turkey 38\", \"Germany 750\", \"Eswatini 1\", \"Madagascar 3\", \"Saint Barth\\u00e9lemy 1\", \"Poland 94\", \"Senegal 1\"], \"z\": [1.3979400086720377, 0.0, 1.414973347970818, 0.9030899869919435, 0.47712125471966244, 1.2304489213782739, 0.6020599913279624, 2.787460474518415, 0.3010299956639812, 2.525044807036845, 0.0, 2.290034611362518, 0.6989700043360189, 0.47712125471966244, 0.3010299956639812, 0.3010299956639812, 0.3010299956639812, 0.3010299956639812, 1.3010299956639813, 1.9444826721501687, 0.3010299956639812, 0.47712125471966244, 0.0, 0.9542425094393249, 1.2304489213782739, 1.380211241711606, 0.47712125471966244, 0.3010299956639812, 0.0, 1.5185139398778875, 1.414973347970818, 0.3010299956639812, 0.3010299956639812, 1.9030899869919435, 0.0, 0.7781512503836436, 0.3010299956639812, 0.7781512503836436, 2.8987251815894934, 0.0, 0.0, 0.47712125471966244, 1.9493900066449128, 1.2041199826559248, 0.0, 3.3585059114902354, 1.414973347970818, 0.0, 0.6020599913279624, 1.6232492903979006, 0.0, 0.7781512503836436, 0.47712125471966244, 0.6989700043360189, 1.6020599913279625, 1.1760912590556813, 0.9542425094393249, 0.0, 1.6989700043360187, 2.0644579892269186, 0.47712125471966244, 0.8450980400142568, 0.0, 3.141763230275788, 1.0791812460476249, 0.6020599913279624, 0.9542425094393249, 1.380211241711606, 0.3010299956639812, 0.47712125471966244, 0.8450980400142568, 0.3010299956639812, 1.4471580313422192, 1.0791812460476249, 1.2041199826559248, 1.414973347970818, 2.075546961392531, 4.278113115979834, 0.9030899869919435, 0.47712125471966244, 1.4471580313422192, 0.6020599913279624, 1.8573324964312685, 1.1760912590556813, 0.0, 0.3010299956639812, 2.103803720955957, 1.3424226808222062, 0.9542425094393249, 1.0, 0.0, 0.3010299956639812, 0.3010299956639812, 0.6989700043360189, 0.6989700043360189, 0.47712125471966244, 1.2041199826559248, 0.6020599913279624, 1.146128035678238, 1.5797835966168101, 2.8750612633917, 0.0, 0.47712125471966244, 0.0, 1.9731278535996986, 0.0], \"type\": \"choropleth\", \"uid\": \"56460d69-28e8-4be9-8ef6-670ff87cd591\"}, {\"hoverinfo\": \"text\", \"lat\": [16, 46], \"line\": {\"color\": \"red\", \"width\": 1.7975280104064453}, \"lon\": [8, 2], \"mode\": \"lines+markers\", \"name\": \"\", \"opacity\": 0.49211866655429337, \"text\": \"Niger<br># products: 25\", \"type\": \"scattergeo\", \"uid\": \"ad80f72b-3af1-4b79-baec-3acaea86bbbe\"}, {\"hoverinfo\": \"text\", \"lat\": [12.18, 46], \"line\": {\"color\": \"red\", \"width\": 0.12}, \"lon\": [-68.25, 2], \"mode\": \"lines+markers\", \"name\": \"\", \"opacity\": 0.1, \"text\": \"Caribbean Netherlands<br># products: 1\", \"type\": \"scattergeo\", \"uid\": \"925e51f2-1c90-4686-bada-6605b84a953f\"}, {\"hoverinfo\": \"text\", \"lat\": [47.33333333, 46], \"line\": {\"color\": \"red\", \"width\": 1.8179680175649815}, \"lon\": [13.33333333, 2], \"mode\": \"lines+markers\", \"name\": \"\", \"opacity\": 0.4968964755098788, \"text\": \"Austria<br># products: 26\", \"type\": \"scattergeo\", \"uid\": \"f6826e7f-eea0-4f0f-b4c4-0988af3d5e14\"}, {\"hoverinfo\": \"text\", \"lat\": [-49.25, 46], \"line\": {\"color\": \"red\", \"width\": 1.2037079843903322}, \"lon\": [69.167, 2], \"mode\": \"lines+markers\", \"name\": \"\", \"opacity\": 0.3533144765018973, \"text\": \"French Southern and Antarctic Lands<br># products: 8\", \"type\": \"scattergeo\", \"uid\": \"c932636d-471d-4df3-8e62-58f9aa762759\"}, {\"hoverinfo\": \"text\", \"lat\": [-30, 46], \"line\": {\"color\": \"red\", \"width\": 0.692545505663595}, \"lon\": [-71, 2], \"mode\": \"lines+markers\", \"name\": \"\", \"opacity\": 0.23383131538177257, \"text\": \"Chile<br># products: 3\", \"type\": \"scattergeo\", \"uid\": \"40fa215b-c553-4711-afea-681711dae282\"}, {\"hoverinfo\": \"text\", \"lat\": [62, 46], \"line\": {\"color\": \"red\", \"width\": 1.5965387056539286}, \"lon\": [10, 2], \"mode\": \"lines+markers\", \"name\": \"\", \"opacity\": 0.4451378366174291, \"text\": \"Norway<br># products: 17\", \"type\": \"scattergeo\", \"uid\": \"c2eb8564-d3bd-4bc0-99e1-a6332b9a7df5\"}, {\"hoverinfo\": \"text\", \"lat\": [-10, 46], \"line\": {\"color\": \"red\", \"width\": 0.8424719895935548}, \"lon\": [-55, 2], \"mode\": \"lines+markers\", \"name\": \"\", \"opacity\": 0.2688763176679315, \"text\": \"Brazil<br># products: 4\", \"type\": \"scattergeo\", \"uid\": \"78148dae-84fa-49f7-9216-81dccf612dce\"}, {\"hoverinfo\": \"text\", \"lat\": [40, 46], \"line\": {\"color\": \"red\", \"width\": 3.464952569422098}, \"lon\": [-4, 2], \"mode\": \"lines+markers\", \"name\": \"\", \"opacity\": 0.8818756724612666, \"text\": \"Spain<br># products: 613\", \"type\": \"scattergeo\", \"uid\": \"64a44721-fe6b-448d-b93e-a8f2b8eacbb0\"}, {\"hoverinfo\": \"text\", \"lat\": [-6, 46], \"line\": {\"color\": \"red\", \"width\": 0.4812359947967775}, \"lon\": [147, 2], \"mode\": \"lines+markers\", \"name\": \"\", \"opacity\": 0.18443815883396575, \"text\": \"Papua New Guinea<br># products: 2\", \"type\": \"scattergeo\", \"uid\": \"8a1adab0-3f23-4a3b-a454-fad37e90b225\"}, {\"hoverinfo\": \"text\", \"lat\": [52.5, 46], \"line\": {\"color\": \"red\", \"width\": 3.1500537684442143}, \"lon\": [5.75, 2], \"mode\": \"lines+markers\", \"name\": \"\", \"opacity\": 0.8082687358420227, \"text\": \"Netherlands<br># products: 335\", \"type\": \"scattergeo\", \"uid\": \"f9d165e1-7b18-4b0e-b712-aad919abdd33\"}, {\"hoverinfo\": \"text\", \"lat\": [27, 46], \"line\": {\"color\": \"red\", \"width\": 0.12}, \"lon\": [30, 2], \"mode\": \"lines+markers\", \"name\": \"\", \"opacity\": 0.1, \"text\": \"Egypt<br># products: 1\", \"type\": \"scattergeo\", \"uid\": \"6abaa80c-8830-4d09-bfc1-8446b54ead9d\"}, {\"hoverinfo\": \"text\", \"lat\": [47, 46], \"line\": {\"color\": \"red\", \"width\": 2.8680415336350213}, \"lon\": [8, 2], \"mode\": \"lines+markers\", \"name\": \"\", \"opacity\": 0.7423489653348322, \"text\": \"Switzerland<br># products: 195\", \"type\": \"scattergeo\", \"uid\": \"6f91e7fe-5587-495f-957d-60680513005e\"}, {\"hoverinfo\": \"text\", \"lat\": [43, 46], \"line\": {\"color\": \"red\", \"width\": 0.9587640052032226}, \"lon\": [25, 2], \"mode\": \"lines+markers\", \"name\": \"\", \"opacity\": 0.2960593332771467, \"text\": \"Bulgaria<br># products: 5\", \"type\": \"scattergeo\", \"uid\": \"c149ec6a-b499-4387-bdb6-af6e300d9f9c\"}, {\"hoverinfo\": \"text\", \"lat\": [24, 46], \"line\": {\"color\": \"red\", \"width\": 0.692545505663595}, \"lon\": [90, 2], \"mode\": \"lines+markers\", \"name\": \"\", \"opacity\": 0.23383131538177257, \"text\": \"Bangladesh<br># products: 3\", \"type\": \"scattergeo\", \"uid\": \"ca79b907-9e11-4a05-9b6e-cecd632e5c0b\"}, {\"hoverinfo\": \"text\", \"lat\": [21.5, 46], \"line\": {\"color\": \"red\", \"width\": 0.4812359947967775}, \"lon\": [-80, 2], \"mode\": \"lines+markers\", \"name\": \"\", \"opacity\": 0.18443815883396575, \"text\": \"Cuba<br># products: 2\", \"type\": \"scattergeo\", \"uid\": \"03237124-ce05-44e0-840d-efd190f16ac1\"}, {\"hoverinfo\": \"text\", \"lat\": [35, 46], \"line\": {\"color\": \"red\", \"width\": 0.4812359947967775}, \"lon\": [38, 2], \"mode\": \"lines+markers\", \"name\": \"\", \"opacity\": 0.18443815883396575, \"text\": \"Syria<br># products: 2\", \"type\": \"scattergeo\", \"uid\": \"e380c293-0eff-4ef0-82ca-f10f2033ca08\"}, {\"hoverinfo\": \"text\", \"lat\": [48.66666666, 46], \"line\": {\"color\": \"red\", \"width\": 0.4812359947967775}, \"lon\": [19.5, 2], \"mode\": \"lines+markers\", \"name\": \"\", \"opacity\": 0.18443815883396575, \"text\": \"Slovakia<br># products: 2\", \"type\": \"scattergeo\", \"uid\": \"1a581a64-1549-468d-919b-98cf902f827c\"}, {\"hoverinfo\": \"text\", \"lat\": [-34, 46], \"line\": {\"color\": \"red\", \"width\": 0.4812359947967775}, \"lon\": [-64, 2], \"mode\": \"lines+markers\", \"name\": \"\", \"opacity\": 0.18443815883396575, \"text\": \"Argentina<br># products: 2\", \"type\": \"scattergeo\", \"uid\": \"716954ff-8200-4952-9179-be9796d689c1\"}, {\"hoverinfo\": \"text\", \"lat\": [34, 46], \"line\": {\"color\": \"red\", \"width\": 1.6812359947967777}, \"lon\": [9, 2], \"mode\": \"lines+markers\", \"name\": \"\", \"opacity\": 0.46493565094507816, \"text\": \"Tunisia<br># products: 20\", \"type\": \"scattergeo\", \"uid\": \"900bd376-ef53-4d2a-8596-32e7f700e192\"}, {\"hoverinfo\": \"text\", \"lat\": [39, 46], \"line\": {\"color\": \"red\", \"width\": 2.4533792065802023}, \"lon\": [22, 2], \"mode\": \"lines+markers\", \"name\": \"\", \"opacity\": 0.6454225129916367, \"text\": \"Greece<br># products: 88\", \"type\": \"scattergeo\", \"uid\": \"578d0329-d08b-4050-8de9-53c20e636e4e\"}, {\"hoverinfo\": \"text\", \"lat\": [64, 46], \"line\": {\"color\": \"red\", \"width\": 0.4812359947967775}, \"lon\": [26, 2], \"mode\": \"lines+markers\", \"name\": \"\", \"opacity\": 0.18443815883396575, \"text\": \"Finland<br># products: 2\", \"type\": \"scattergeo\", \"uid\": \"be583123-4830-4e65-a7cd-f5c51ed61dbc\"}, {\"hoverinfo\": \"text\", \"lat\": [47.26666666, 46], \"line\": {\"color\": \"red\", \"width\": 0.692545505663595}, \"lon\": [9.53333333, 2], \"mode\": \"lines+markers\", \"name\": \"\", \"opacity\": 0.23383131538177257, \"text\": \"Liechtenstein<br># products: 3\", \"type\": \"scattergeo\", \"uid\": \"482c3c8f-b85d-440d-91fb-89f88edfa5fa\"}, {\"hoverinfo\": \"text\", \"lat\": [60, 46], \"line\": {\"color\": \"red\", \"width\": 0.12}, \"lon\": [100, 2], \"mode\": \"lines+markers\", \"name\": \"\", \"opacity\": 0.1, \"text\": \"Russia<br># products: 1\", \"type\": \"scattergeo\", \"uid\": \"b56f7d9a-66c0-4537-a4d8-6a0ae29c681b\"}, {\"hoverinfo\": \"text\", \"lat\": [8, 46], \"line\": {\"color\": \"red\", \"width\": 1.2650910113271898}, \"lon\": [-66, 2], \"mode\": \"lines+markers\", \"name\": \"\", \"opacity\": 0.3676626307635451, \"text\": \"Venezuela<br># products: 9\", \"type\": \"scattergeo\", \"uid\": \"e4881ad9-4196-445e-892e-4afa70909632\"}, {\"hoverinfo\": \"text\", \"lat\": [7, 46], \"line\": {\"color\": \"red\", \"width\": 1.5965387056539286}, \"lon\": [81, 2], \"mode\": \"lines+markers\", \"name\": \"\", \"opacity\": 0.4451378366174291, \"text\": \"Sri Lanka<br># products: 17\", \"type\": \"scattergeo\", \"uid\": \"a410b9d5-00e9-4787-99eb-ec222febe51c\"}, {\"hoverinfo\": \"text\", \"lat\": [53, 46], \"line\": {\"color\": \"red\", \"width\": 1.776253490053927}, \"lon\": [-8, 2], \"mode\": \"lines+markers\", \"name\": \"\", \"opacity\": 0.4871457918836699, \"text\": \"Ireland<br># products: 24\", \"type\": \"scattergeo\", \"uid\": \"391bb97a-fd84-4f1e-9c08-2249a45260ae\"}, {\"hoverinfo\": \"text\", \"lat\": [-21.5, 46], \"line\": {\"color\": \"red\", \"width\": 0.692545505663595}, \"lon\": [165.5, 2], \"mode\": \"lines+markers\", \"name\": \"\", \"opacity\": 0.23383131538177257, \"text\": \"New Caledonia<br># products: 3\", \"type\": \"scattergeo\", \"uid\": \"cc4856bd-d98f-440e-a2e9-b23a6b3dddc1\"}, {\"hoverinfo\": \"text\", \"lat\": [57, 46], \"line\": {\"color\": \"red\", \"width\": 0.4812359947967775}, \"lon\": [25, 2], \"mode\": \"lines+markers\", \"name\": \"\", \"opacity\": 0.18443815883396575, \"text\": \"Latvia<br># products: 2\", \"type\": \"scattergeo\", \"uid\": \"57fb30c8-fbed-4016-b92b-818310e71ce9\"}, {\"hoverinfo\": \"text\", \"lat\": [-22, 46], \"line\": {\"color\": \"red\", \"width\": 0.12}, \"lon\": [17, 2], \"mode\": \"lines+markers\", \"name\": \"\", \"opacity\": 0.1, \"text\": \"Namibia<br># products: 1\", \"type\": \"scattergeo\", \"uid\": \"bd041f14-f57a-424b-a348-fa7b98b9e56b\"}, {\"hoverinfo\": \"text\", \"lat\": [56, 46], \"line\": {\"color\": \"red\", \"width\": 1.942216727853465}, \"lon\": [10, 2], \"mode\": \"lines+markers\", \"name\": \"\", \"opacity\": 0.525939351871512, \"text\": \"Denmark<br># products: 33\", \"type\": \"scattergeo\", \"uid\": \"d46df418-90cf-47a6-911e-e0ceaaf0ef77\"}, {\"hoverinfo\": \"text\", \"lat\": [36, 46], \"line\": {\"color\": \"red\", \"width\": 1.8179680175649815}, \"lon\": [138, 2], \"mode\": \"lines+markers\", \"name\": \"\", \"opacity\": 0.4968964755098788, \"text\": \"Japan<br># products: 26\", \"type\": \"scattergeo\", \"uid\": \"848e4ab5-8fad-4609-b85f-2dfa4aa759bd\"}, {\"hoverinfo\": \"text\", \"lat\": [14.666667, 46], \"line\": {\"color\": \"red\", \"width\": 0.4812359947967775}, \"lon\": [-61, 2], \"mode\": \"lines+markers\", \"name\": \"\", \"opacity\": 0.18443815883396575, \"text\": \"Martinique<br># products: 2\", \"type\": \"scattergeo\", \"uid\": \"e39fa255-8435-4cf1-96f6-31d6bc12c923\"}, {\"hoverinfo\": \"text\", \"lat\": [19.5, 46], \"line\": {\"color\": \"red\", \"width\": 0.4812359947967775}, \"lon\": [-80.5, 2], \"mode\": \"lines+markers\", \"name\": \"\", \"opacity\": 0.18443815883396575, \"text\": \"Cayman Islands<br># products: 2\", \"type\": \"scattergeo\", \"uid\": \"100d3678-af01-4ec1-b783-47a866d23b80\"}, {\"hoverinfo\": \"text\", \"lat\": [38, 46], \"line\": {\"color\": \"red\", \"width\": 2.403707984390332}, \"lon\": [-97, 2], \"mode\": \"lines+markers\", \"name\": \"\", \"opacity\": 0.6338119686130097, \"text\": \"United States<br># products: 80\", \"type\": \"scattergeo\", \"uid\": \"04f5e4f9-f4ae-430d-9016-0d38736bf2b6\"}, {\"hoverinfo\": \"text\", \"lat\": [22.267, 46], \"line\": {\"color\": \"red\", \"width\": 0.12}, \"lon\": [114.188, 2], \"mode\": \"lines+markers\", \"name\": \"\", \"opacity\": 0.1, \"text\": \"Hong Kong<br># products: 1\", \"type\": \"scattergeo\", \"uid\": \"54ae2c70-af7a-48dc-8214-407808468051\"}, {\"hoverinfo\": \"text\", \"lat\": [1.36666666, 46], \"line\": {\"color\": \"red\", \"width\": 1.0537815004603723}, \"lon\": [103.8, 2], \"mode\": \"lines+markers\", \"name\": \"\", \"opacity\": 0.31826947421573837, \"text\": \"Singapore<br># products: 6\", \"type\": \"scattergeo\", \"uid\": \"d298b23f-3f84-4311-a214-8b1cadfe6525\"}, {\"hoverinfo\": \"text\", \"lat\": [59, 46], \"line\": {\"color\": \"red\", \"width\": 0.4812359947967775}, \"lon\": [26, 2], \"mode\": \"lines+markers\", \"name\": \"\", \"opacity\": 0.18443815883396575, \"text\": \"Estonia<br># products: 2\", \"type\": \"scattergeo\", \"uid\": \"50b0e0bf-c23a-4b73-a69c-298844546a11\"}, {\"hoverinfo\": \"text\", \"lat\": [-5, 46], \"line\": {\"color\": \"red\", \"width\": 1.0537815004603723}, \"lon\": [120, 2], \"mode\": \"lines+markers\", \"name\": \"\", \"opacity\": 0.31826947421573837, \"text\": \"Indonesia<br># products: 6\", \"type\": \"scattergeo\", \"uid\": \"2eee007c-5c6a-4008-b66d-75f09aa993f9\"}, {\"hoverinfo\": \"text\", \"lat\": [50.83333333, 46], \"line\": {\"color\": \"red\", \"width\": 3.598470217907392}, \"lon\": [4, 2], \"mode\": \"lines+markers\", \"name\": \"\", \"opacity\": 0.9130851437551817, \"text\": \"Belgium<br># products: 792\", \"type\": \"scattergeo\", \"uid\": \"5f88a1ff-ab7d-497d-98ca-0a4ab6f20f5d\"}, {\"hoverinfo\": \"text\", \"lat\": [13.83333333, 46], \"line\": {\"color\": \"red\", \"width\": 0.12}, \"lon\": [-88.91666666, 2], \"mode\": \"lines+markers\", \"name\": \"\", \"opacity\": 0.1, \"text\": \"El Salvador<br># products: 1\", \"type\": \"scattergeo\", \"uid\": \"8df38a6a-7284-43af-b22f-2b0a0d823eb1\"}, {\"hoverinfo\": \"text\", \"lat\": [19, 46], \"line\": {\"color\": \"red\", \"width\": 0.12}, \"lon\": [-70.66666666, 2], \"mode\": \"lines+markers\", \"name\": \"\", \"opacity\": 0.1, \"text\": \"Dominican Republic<br># products: 1\", \"type\": \"scattergeo\", \"uid\": \"98006981-e55e-4ea6-9cde-9347859e916b\"}, {\"hoverinfo\": \"text\", \"lat\": [33.83333333, 46], \"line\": {\"color\": \"red\", \"width\": 0.692545505663595}, \"lon\": [35.83333333, 2], \"mode\": \"lines+markers\", \"name\": \"\", \"opacity\": 0.23383131538177257, \"text\": \"Lebanon<br># products: 3\", \"type\": \"scattergeo\", \"uid\": \"ffffd497-6d24-45cc-9dd8-e2d12d12ae99\"}, {\"hoverinfo\": \"text\", \"lat\": [32, 46], \"line\": {\"color\": \"red\", \"width\": 2.4592680079738956}, \"lon\": [-5, 2], \"mode\": \"lines+markers\", \"name\": \"\", \"opacity\": 0.6467990080103627, \"text\": \"Morocco<br># products: 89\", \"type\": \"scattergeo\", \"uid\": \"60a2a31d-6191-4583-a588-0e23a8798bf6\"}, {\"hoverinfo\": \"text\", \"lat\": [37, 46], \"line\": {\"color\": \"red\", \"width\": 1.5649439791871098}, \"lon\": [127.5, 2], \"mode\": \"lines+markers\", \"name\": \"\", \"opacity\": 0.43775263533586306, \"text\": \"South Korea<br># products: 16\", \"type\": \"scattergeo\", \"uid\": \"93c5103c-6805-4a72-8012-abd66d9555a3\"}, {\"hoverinfo\": \"text\", \"lat\": [18.25, 46], \"line\": {\"color\": \"red\", \"width\": 0.12}, \"lon\": [-66.5, 2], \"mode\": \"lines+markers\", \"name\": \"\", \"opacity\": 0.1, \"text\": \"Puerto Rico<br># products: 1\", \"type\": \"scattergeo\", \"uid\": \"d6e2c3e4-28a5-49ab-b127-c6972adda620\"}, {\"hoverinfo\": \"text\", \"lat\": [54, 46], \"line\": {\"color\": \"red\", \"width\": 4.150207093788282}, \"lon\": [-2, 2], \"mode\": \"lines+markers\", \"name\": \"\", \"opacity\": 1, \"text\": \"United Kingdom<br># products: 2283\", \"type\": \"scattergeo\", \"uid\": \"7efee616-41f4-4a23-88ca-6f935e29614a\"}, {\"hoverinfo\": \"text\", \"lat\": [60, 46], \"line\": {\"color\": \"red\", \"width\": 1.8179680175649815}, \"lon\": [-95, 2], \"mode\": \"lines+markers\", \"name\": \"\", \"opacity\": 0.4968964755098788, \"text\": \"Canada<br># products: 26\", \"type\": \"scattergeo\", \"uid\": \"dd2c06e9-9ada-4871-9742-318372e20d83\"}, {\"hoverinfo\": \"text\", \"lat\": [22, 46], \"line\": {\"color\": \"red\", \"width\": 0.12}, \"lon\": [98, 2], \"mode\": \"lines+markers\", \"name\": \"\", \"opacity\": 0.1, \"text\": \"Myanmar<br># products: 1\", \"type\": \"scattergeo\", \"uid\": \"af54ed13-f71c-443e-9021-21191d6ac46f\"}, {\"hoverinfo\": \"text\", \"lat\": [13, 46], \"line\": {\"color\": \"red\", \"width\": 0.8424719895935548}, \"lon\": [122, 2], \"mode\": \"lines+markers\", \"name\": \"\", \"opacity\": 0.2688763176679315, \"text\": \"Philippines<br># products: 4\", \"type\": \"scattergeo\", \"uid\": \"f8fab2d3-544f-4d75-af18-08a882f0b9c3\"}, {\"hoverinfo\": \"text\", \"lat\": [62, 46], \"line\": {\"color\": \"red\", \"width\": 2.0678991484774807}, \"lon\": [15, 2], \"mode\": \"lines+markers\", \"name\": \"\", \"opacity\": 0.5553173550277539, \"text\": \"Sweden<br># products: 42\", \"type\": \"scattergeo\", \"uid\": \"9fd740a5-8fd4-4ff0-874f-97c827692f98\"}, {\"hoverinfo\": \"text\", \"lat\": [25, 46], \"line\": {\"color\": \"red\", \"width\": 0.12}, \"lon\": [45, 2], \"mode\": \"lines+markers\", \"name\": \"\", \"opacity\": 0.1, \"text\": \"Saudi Arabia<br># products: 1\", \"type\": \"scattergeo\", \"uid\": \"4b945936-5ae1-44d0-a85c-2119d6cd2cad\"}, {\"hoverinfo\": \"text\", \"lat\": [46, 46], \"line\": {\"color\": \"red\", \"width\": 1.0537815004603723}, \"lon\": [25, 2], \"mode\": \"lines+markers\", \"name\": \"\", \"opacity\": 0.31826947421573837, \"text\": \"Romania<br># products: 6\", \"type\": \"scattergeo\", \"uid\": \"4c1c711b-e8cf-400d-8524-76762a8b9ee1\"}, {\"hoverinfo\": \"text\", \"lat\": [10, 46], \"line\": {\"color\": \"red\", \"width\": 0.692545505663595}, \"lon\": [-84, 2], \"mode\": \"lines+markers\", \"name\": \"\", \"opacity\": 0.23383131538177257, \"text\": \"Costa Rica<br># products: 3\", \"type\": \"scattergeo\", \"uid\": \"3e20bedb-6067-4597-aa45-1f751e703a97\"}, {\"hoverinfo\": \"text\", \"lat\": [-2, 46], \"line\": {\"color\": \"red\", \"width\": 0.9587640052032226}, \"lon\": [-77.5, 2], \"mode\": \"lines+markers\", \"name\": \"\", \"opacity\": 0.2960593332771467, \"text\": \"Ecuador<br># products: 5\", \"type\": \"scattergeo\", \"uid\": \"102d7a61-80fb-4d08-8ba7-de1a5a61b9cc\"}, {\"hoverinfo\": \"text\", \"lat\": [32, 46], \"line\": {\"color\": \"red\", \"width\": 2.042471989593555}, \"lon\": [53, 2], \"mode\": \"lines+markers\", \"name\": \"\", \"opacity\": 0.5493738097790439, \"text\": \"Iran<br># products: 40\", \"type\": \"scattergeo\", \"uid\": \"64b5fa75-ee37-4ff7-86dc-005627cb8c01\"}, {\"hoverinfo\": \"text\", \"lat\": [-10, 46], \"line\": {\"color\": \"red\", \"width\": 1.5313095108668178}, \"lon\": [-76, 2], \"mode\": \"lines+markers\", \"name\": \"\", \"opacity\": 0.42989064865891924, \"text\": \"Peru<br># products: 15\", \"type\": \"scattergeo\", \"uid\": \"5a0dd45f-777a-4e24-b764-09f6004a045a\"}, {\"hoverinfo\": \"text\", \"lat\": [28, 46], \"line\": {\"color\": \"red\", \"width\": 1.2650910113271898}, \"lon\": [3, 2], \"mode\": \"lines+markers\", \"name\": \"\", \"opacity\": 0.3676626307635451, \"text\": \"Algeria<br># products: 9\", \"type\": \"scattergeo\", \"uid\": \"18ace1f2-aede-4d07-b514-4fc86475de16\"}, {\"hoverinfo\": \"text\", \"lat\": [8, 46], \"line\": {\"color\": \"red\", \"width\": 0.12}, \"lon\": [1.16666666, 2], \"mode\": \"lines+markers\", \"name\": \"\", \"opacity\": 0.1, \"text\": \"Togo<br># products: 1\", \"type\": \"scattergeo\", \"uid\": \"37132cdc-ff1b-4eca-b9bd-248fb4ca9c64\"}, {\"hoverinfo\": \"text\", \"lat\": [16.16666666, 46], \"line\": {\"color\": \"red\", \"width\": 2.1587640052032224}, \"lon\": [107.83333333, 2], \"mode\": \"lines+markers\", \"name\": \"\", \"opacity\": 0.576556825388259, \"text\": \"Vietnam<br># products: 50\", \"type\": \"scattergeo\", \"uid\": \"c99946c0-e078-45ab-9e9e-588b34fd8bb4\"}, {\"hoverinfo\": \"text\", \"lat\": [35, 46], \"line\": {\"color\": \"red\", \"width\": 2.5973495870723022}, \"lon\": [105, 2], \"mode\": \"lines+markers\", \"name\": \"\", \"opacity\": 0.6790752885469006, \"text\": \"China<br># products: 116\", \"type\": \"scattergeo\", \"uid\": \"f0478f18-2fb0-4fd6-a871-8233f04c31ba\"}, {\"hoverinfo\": \"text\", \"lat\": [49.46666666, 46], \"line\": {\"color\": \"red\", \"width\": 0.692545505663595}, \"lon\": [-2.58333333, 2], \"mode\": \"lines+markers\", \"name\": \"\", \"opacity\": 0.23383131538177257, \"text\": \"Guernsey<br># products: 3\", \"type\": \"scattergeo\", \"uid\": \"96568154-1d39-4ce0-8e00-81f1cd64d86d\"}, {\"hoverinfo\": \"text\", \"lat\": [-20.28333333, 46], \"line\": {\"color\": \"red\", \"width\": 1.134117648017108}, \"lon\": [57.55, 2], \"mode\": \"lines+markers\", \"name\": \"\", \"opacity\": 0.33704788081201553, \"text\": \"Mauritius<br># products: 7\", \"type\": \"scattergeo\", \"uid\": \"c8a732c8-a692-45f1-bee3-11edab541211\"}, {\"hoverinfo\": \"text\", \"lat\": [-33, 46], \"line\": {\"color\": \"red\", \"width\": 0.12}, \"lon\": [-56, 2], \"mode\": \"lines+markers\", \"name\": \"\", \"opacity\": 0.1, \"text\": \"Uruguay<br># products: 1\", \"type\": \"scattergeo\", \"uid\": \"2fdee825-46da-44e9-b086-e8df2fdafeca\"}, {\"hoverinfo\": \"text\", \"lat\": [42.83333333, 46], \"line\": {\"color\": \"red\", \"width\": 3.8901158763309454}, \"lon\": [12.83333333, 2], \"mode\": \"lines+markers\", \"name\": \"\", \"opacity\": 0.9812567068992658, \"text\": \"Italy<br># products: 1386\", \"type\": \"scattergeo\", \"uid\": \"1aaae08c-4977-4562-a55b-caa446cb36fd\"}, {\"hoverinfo\": \"text\", \"lat\": [-29, 46], \"line\": {\"color\": \"red\", \"width\": 1.41501749525715}, \"lon\": [24, 2], \"mode\": \"lines+markers\", \"name\": \"\", \"opacity\": 0.40270763304970414, \"text\": \"South Africa<br># products: 12\", \"type\": \"scattergeo\", \"uid\": \"1d732aaa-131f-4994-9453-1a580a14944f\"}, {\"hoverinfo\": \"text\", \"lat\": [-27, 46], \"line\": {\"color\": \"red\", \"width\": 0.8424719895935548}, \"lon\": [133, 2], \"mode\": \"lines+markers\", \"name\": \"\", \"opacity\": 0.2688763176679315, \"text\": \"Australia<br># products: 4\", \"type\": \"scattergeo\", \"uid\": \"b3695a45-9f11-4163-8e41-7e3ffb8105c7\"}, {\"hoverinfo\": \"text\", \"lat\": [1, 46], \"line\": {\"color\": \"red\", \"width\": 1.2650910113271898}, \"lon\": [38, 2], \"mode\": \"lines+markers\", \"name\": \"\", \"opacity\": 0.3676626307635451, \"text\": \"Kenya<br># products: 9\", \"type\": \"scattergeo\", \"uid\": \"8e349b73-97ea-4a6c-b0db-ddf2db271a40\"}, {\"hoverinfo\": \"text\", \"lat\": [49.75, 46], \"line\": {\"color\": \"red\", \"width\": 1.776253490053927}, \"lon\": [6.16666666, 2], \"mode\": \"lines+markers\", \"name\": \"\", \"opacity\": 0.4871457918836699, \"text\": \"Luxembourg<br># products: 24\", \"type\": \"scattergeo\", \"uid\": \"fbde992e-9caa-4a72-b1b6-99a59a520f0c\"}, {\"hoverinfo\": \"text\", \"lat\": [-41, 46], \"line\": {\"color\": \"red\", \"width\": 0.4812359947967775}, \"lon\": [174, 2], \"mode\": \"lines+markers\", \"name\": \"\", \"opacity\": 0.18443815883396575, \"text\": \"New Zealand<br># products: 2\", \"type\": \"scattergeo\", \"uid\": \"84d2ccb7-e5f6-4b6b-8971-8b62c7a09093\"}, {\"hoverinfo\": \"text\", \"lat\": [46.11666666, 46], \"line\": {\"color\": \"red\", \"width\": 0.692545505663595}, \"lon\": [14.81666666, 2], \"mode\": \"lines+markers\", \"name\": \"\", \"opacity\": 0.23383131538177257, \"text\": \"Slovenia<br># products: 3\", \"type\": \"scattergeo\", \"uid\": \"2e959dd1-3993-4320-9eee-b09c74329246\"}, {\"hoverinfo\": \"text\", \"lat\": [-21.15, 46], \"line\": {\"color\": \"red\", \"width\": 1.134117648017108}, \"lon\": [55.5, 2], \"mode\": \"lines+markers\", \"name\": \"\", \"opacity\": 0.33704788081201553, \"text\": \"R\\u00e9union<br># products: 7\", \"type\": \"scattergeo\", \"uid\": \"32b886dc-17b9-4692-bce9-6623870ed380\"}, {\"hoverinfo\": \"text\", \"lat\": [4, 46], \"line\": {\"color\": \"red\", \"width\": 0.4812359947967775}, \"lon\": [-53, 2], \"mode\": \"lines+markers\", \"name\": \"\", \"opacity\": 0.18443815883396575, \"text\": \"French Guiana<br># products: 2\", \"type\": \"scattergeo\", \"uid\": \"a7482a2d-9395-4dba-a07e-aa621b49f7eb\"}, {\"hoverinfo\": \"text\", \"lat\": [23.5, 46], \"line\": {\"color\": \"red\", \"width\": 1.856589637610663}, \"lon\": [121, 2], \"mode\": \"lines+markers\", \"name\": \"\", \"opacity\": 0.5059241984799471, \"text\": \"Taiwan<br># products: 28\", \"type\": \"scattergeo\", \"uid\": \"23cc52a4-77f2-4bb8-8c0c-d6923991ac8c\"}, {\"hoverinfo\": \"text\", \"lat\": [49.75, 46], \"line\": {\"color\": \"red\", \"width\": 1.41501749525715}, \"lon\": [15.5, 2], \"mode\": \"lines+markers\", \"name\": \"\", \"opacity\": 0.40270763304970414, \"text\": \"Czechia<br># products: 12\", \"type\": \"scattergeo\", \"uid\": \"2e952f0a-7f2c-41f2-9ee2-9e5bbec7d247\"}, {\"hoverinfo\": \"text\", \"lat\": [2.5, 46], \"line\": {\"color\": \"red\", \"width\": 1.5649439791871098}, \"lon\": [112.5, 2], \"mode\": \"lines+markers\", \"name\": \"\", \"opacity\": 0.43775263533586306, \"text\": \"Malaysia<br># products: 16\", \"type\": \"scattergeo\", \"uid\": \"cc06a7a9-2e0b-4757-8bfd-159833870ea2\"}, {\"hoverinfo\": \"text\", \"lat\": [31.47, 46], \"line\": {\"color\": \"red\", \"width\": 1.8179680175649815}, \"lon\": [35.13, 2], \"mode\": \"lines+markers\", \"name\": \"\", \"opacity\": 0.4968964755098788, \"text\": \"Israel<br># products: 26\", \"type\": \"scattergeo\", \"uid\": \"2d7db3ac-6a2d-4125-84d1-ec3bcb479e8c\"}, {\"hoverinfo\": \"text\", \"lat\": [39.5, 46], \"line\": {\"color\": \"red\", \"width\": 2.6106563536710374}, \"lon\": [-8, 2], \"mode\": \"lines+markers\", \"name\": \"\", \"opacity\": 0.6821857174294448, \"text\": \"Portugal<br># products: 119\", \"type\": \"scattergeo\", \"uid\": \"14c63711-f9af-4dc2-aed9-8b2b559ad4f9\"}, {\"hoverinfo\": \"text\", \"lat\": [46, 46], \"line\": {\"color\": \"red\", \"width\": 5.2537357391758}, \"lon\": [2, 2], \"mode\": \"lines+markers\", \"name\": \"\", \"opacity\": 1, \"text\": \"France<br># products: 18972\", \"type\": \"scattergeo\", \"uid\": \"2081fc42-9320-4457-b8e0-5f890dfaf6e0\"}, {\"hoverinfo\": \"text\", \"lat\": [-4.58333333, 46], \"line\": {\"color\": \"red\", \"width\": 1.2037079843903322}, \"lon\": [55.66666666, 2], \"mode\": \"lines+markers\", \"name\": \"\", \"opacity\": 0.3533144765018973, \"text\": \"Seychelles<br># products: 8\", \"type\": \"scattergeo\", \"uid\": \"d1095eb6-620c-4bac-b91a-4f15388b31cf\"}, {\"hoverinfo\": \"text\", \"lat\": [44, 46], \"line\": {\"color\": \"red\", \"width\": 0.692545505663595}, \"lon\": [21, 2], \"mode\": \"lines+markers\", \"name\": \"\", \"opacity\": 0.23383131538177257, \"text\": \"Serbia<br># products: 3\", \"type\": \"scattergeo\", \"uid\": \"68b5c309-1973-4b01-8217-0ea61650370c\"}, {\"hoverinfo\": \"text\", \"lat\": [19.3, 46], \"line\": {\"color\": \"red\", \"width\": 1.856589637610663}, \"lon\": [166.633333, 2], \"mode\": \"lines+markers\", \"name\": \"\", \"opacity\": 0.5059241984799471, \"text\": \"United States Minor Outlying Islands<br># products: 28\", \"type\": \"scattergeo\", \"uid\": \"ce86a1f1-fc56-4ac2-a374-144b0cf4d6ce\"}, {\"hoverinfo\": \"text\", \"lat\": [45.16666666, 46], \"line\": {\"color\": \"red\", \"width\": 0.8424719895935548}, \"lon\": [15.5, 2], \"mode\": \"lines+markers\", \"name\": \"\", \"opacity\": 0.2688763176679315, \"text\": \"Croatia<br># products: 4\", \"type\": \"scattergeo\", \"uid\": \"73bdc083-5cee-45c5-beba-e4f5cbaadea1\"}, {\"hoverinfo\": \"text\", \"lat\": [-17, 46], \"line\": {\"color\": \"red\", \"width\": 2.348798995717522}, \"lon\": [-65, 2], \"mode\": \"lines+markers\", \"name\": \"\", \"opacity\": 0.6209771072654424, \"text\": \"Bolivia<br># products: 72\", \"type\": \"scattergeo\", \"uid\": \"0f8eb040-b339-4097-8883-5044ee1261ab\"}, {\"hoverinfo\": \"text\", \"lat\": [-13.58333333, 46], \"line\": {\"color\": \"red\", \"width\": 1.5313095108668178}, \"lon\": [-172.33333333, 2], \"mode\": \"lines+markers\", \"name\": \"\", \"opacity\": 0.42989064865891924, \"text\": \"Samoa<br># products: 15\", \"type\": \"scattergeo\", \"uid\": \"7028daec-843a-47d1-bac6-25b030093ae0\"}, {\"hoverinfo\": \"text\", \"lat\": [47, 46], \"line\": {\"color\": \"red\", \"width\": 0.12}, \"lon\": [29, 2], \"mode\": \"lines+markers\", \"name\": \"\", \"opacity\": 0.1, \"text\": \"Moldova<br># products: 1\", \"type\": \"scattergeo\", \"uid\": \"ea138665-5ddc-4f08-914c-c481de7a3a91\"}, {\"hoverinfo\": \"text\", \"lat\": [6, 46], \"line\": {\"color\": \"red\", \"width\": 0.4812359947967775}, \"lon\": [12, 2], \"mode\": \"lines+markers\", \"name\": \"\", \"opacity\": 0.18443815883396575, \"text\": \"Cameroon<br># products: 2\", \"type\": \"scattergeo\", \"uid\": \"a1a25d58-6a10-4f13-8984-7ca4d7bb9ede\"}, {\"hoverinfo\": \"text\", \"lat\": [15, 46], \"line\": {\"color\": \"red\", \"width\": 2.6445644651471483}, \"lon\": [100, 2], \"mode\": \"lines+markers\", \"name\": \"\", \"opacity\": 0.6901116676221724, \"text\": \"Thailand<br># products: 127\", \"type\": \"scattergeo\", \"uid\": \"fc3fec04-bc7f-424f-b15b-29a014771fc8\"}, {\"hoverinfo\": \"text\", \"lat\": [65, 46], \"line\": {\"color\": \"red\", \"width\": 1.7309072169866475}, \"lon\": [-18, 2], \"mode\": \"lines+markers\", \"name\": \"\", \"opacity\": 0.4765461953237051, \"text\": \"Iceland<br># products: 22\", \"type\": \"scattergeo\", \"uid\": \"786ab02e-6a4f-4270-9943-4b2fa688944b\"}, {\"hoverinfo\": \"text\", \"lat\": [8, 46], \"line\": {\"color\": \"red\", \"width\": 1.2650910113271898}, \"lon\": [-5, 2], \"mode\": \"lines+markers\", \"name\": \"\", \"opacity\": 0.3676626307635451, \"text\": \"Ivory Coast<br># products: 9\", \"type\": \"scattergeo\", \"uid\": \"468a84a7-4ef7-4f79-9a92-69f0ea57056a\"}, {\"hoverinfo\": \"text\", \"lat\": [23, 46], \"line\": {\"color\": \"red\", \"width\": 1.32}, \"lon\": [-102, 2], \"mode\": \"lines+markers\", \"name\": \"\", \"opacity\": 0.3804974921111124, \"text\": \"Mexico<br># products: 10\", \"type\": \"scattergeo\", \"uid\": \"d52c1451-6066-4d4c-ba50-7e4220395560\"}, {\"hoverinfo\": \"text\", \"lat\": [4, 46], \"line\": {\"color\": \"red\", \"width\": 0.12}, \"lon\": [-72, 2], \"mode\": \"lines+markers\", \"name\": \"\", \"opacity\": 0.1, \"text\": \"Colombia<br># products: 1\", \"type\": \"scattergeo\", \"uid\": \"a06ea811-8279-4471-8920-ecd2bd431222\"}, {\"hoverinfo\": \"text\", \"lat\": [35, 46], \"line\": {\"color\": \"red\", \"width\": 0.4812359947967775}, \"lon\": [33, 2], \"mode\": \"lines+markers\", \"name\": \"\", \"opacity\": 0.18443815883396575, \"text\": \"Cyprus<br># products: 2\", \"type\": \"scattergeo\", \"uid\": \"8557d6d1-f2a5-4038-9e7d-4ce27dc39d25\"}, {\"hoverinfo\": \"text\", \"lat\": [18, 46], \"line\": {\"color\": \"red\", \"width\": 0.4812359947967775}, \"lon\": [105, 2], \"mode\": \"lines+markers\", \"name\": \"\", \"opacity\": 0.18443815883396575, \"text\": \"Laos<br># products: 2\", \"type\": \"scattergeo\", \"uid\": \"982284b9-4d49-4563-be86-8c75489019eb\"}, {\"hoverinfo\": \"text\", \"lat\": [-12.83333333, 46], \"line\": {\"color\": \"red\", \"width\": 0.9587640052032226}, \"lon\": [45.16666666, 2], \"mode\": \"lines+markers\", \"name\": \"\", \"opacity\": 0.2960593332771467, \"text\": \"Mayotte<br># products: 5\", \"type\": \"scattergeo\", \"uid\": \"bbe254f9-0fcc-4bc1-bb29-ada6b94a94bb\"}, {\"hoverinfo\": \"text\", \"lat\": [8, 46], \"line\": {\"color\": \"red\", \"width\": 0.9587640052032226}, \"lon\": [-2, 2], \"mode\": \"lines+markers\", \"name\": \"\", \"opacity\": 0.2960593332771467, \"text\": \"Ghana<br># products: 5\", \"type\": \"scattergeo\", \"uid\": \"73a6b241-cd93-4cf2-ba4b-ae6a96710d17\"}, {\"hoverinfo\": \"text\", \"lat\": [16.25, 46], \"line\": {\"color\": \"red\", \"width\": 0.692545505663595}, \"lon\": [-61.583333, 2], \"mode\": \"lines+markers\", \"name\": \"\", \"opacity\": 0.23383131538177257, \"text\": \"Guadeloupe<br># products: 3\", \"type\": \"scattergeo\", \"uid\": \"91d11a38-bf69-41da-a999-68b1cf5cb3a7\"}, {\"hoverinfo\": \"text\", \"lat\": [47, 46], \"line\": {\"color\": \"red\", \"width\": 1.5649439791871098}, \"lon\": [20, 2], \"mode\": \"lines+markers\", \"name\": \"\", \"opacity\": 0.43775263533586306, \"text\": \"Hungary<br># products: 16\", \"type\": \"scattergeo\", \"uid\": \"c1eb357c-f1c3-4d75-8439-4cbef48531ef\"}, {\"hoverinfo\": \"text\", \"lat\": [40, 46], \"line\": {\"color\": \"red\", \"width\": 0.8424719895935548}, \"lon\": [45, 2], \"mode\": \"lines+markers\", \"name\": \"\", \"opacity\": 0.2688763176679315, \"text\": \"Armenia<br># products: 4\", \"type\": \"scattergeo\", \"uid\": \"00b9dec4-82ea-499e-b891-0075ea94b105\"}, {\"hoverinfo\": \"text\", \"lat\": [56, 46], \"line\": {\"color\": \"red\", \"width\": 1.4953536428138856}, \"lon\": [24, 2], \"mode\": \"lines+markers\", \"name\": \"\", \"opacity\": 0.4214860396459813, \"text\": \"Lithuania<br># products: 14\", \"type\": \"scattergeo\", \"uid\": \"06181142-92bf-4944-8b51-9f6d813fd1c5\"}, {\"hoverinfo\": \"text\", \"lat\": [39, 46], \"line\": {\"color\": \"red\", \"width\": 2.0157403159401723}, \"lon\": [35, 2], \"mode\": \"lines+markers\", \"name\": \"\", \"opacity\": 0.5431253369292884, \"text\": \"Turkey<br># products: 38\", \"type\": \"scattergeo\", \"uid\": \"423baa77-33f1-4354-9e3a-7bf3cf5500e7\"}, {\"hoverinfo\": \"text\", \"lat\": [51, 46], \"line\": {\"color\": \"red\", \"width\": 3.5700735160700403}, \"lon\": [9, 2], \"mode\": \"lines+markers\", \"name\": \"\", \"opacity\": 0.9064474740471782, \"text\": \"Germany<br># products: 750\", \"type\": \"scattergeo\", \"uid\": \"8e69e31a-527e-47aa-bf88-95e08e9f512f\"}, {\"hoverinfo\": \"text\", \"lat\": [-26.5, 46], \"line\": {\"color\": \"red\", \"width\": 0.12}, \"lon\": [31.5, 2], \"mode\": \"lines+markers\", \"name\": \"\", \"opacity\": 0.1, \"text\": \"Eswatini<br># products: 1\", \"type\": \"scattergeo\", \"uid\": \"cc53d23a-0737-461a-8edf-ca7f9e3fdf11\"}, {\"hoverinfo\": \"text\", \"lat\": [-20, 46], \"line\": {\"color\": \"red\", \"width\": 0.692545505663595}, \"lon\": [47, 2], \"mode\": \"lines+markers\", \"name\": \"\", \"opacity\": 0.23383131538177257, \"text\": \"Madagascar<br># products: 3\", \"type\": \"scattergeo\", \"uid\": \"8c6891d2-108a-439c-a5f8-8f4da77dc3d2\"}, {\"hoverinfo\": \"text\", \"lat\": [18.5, 46], \"line\": {\"color\": \"red\", \"width\": 0.12}, \"lon\": [-63.41666666, 2], \"mode\": \"lines+markers\", \"name\": \"\", \"opacity\": 0.1, \"text\": \"Saint Barth\\u00e9lemy<br># products: 1\", \"type\": \"scattergeo\", \"uid\": \"ab8f98b4-a4d5-423b-90c2-259ee067a97a\"}, {\"hoverinfo\": \"text\", \"lat\": [52, 46], \"line\": {\"color\": \"red\", \"width\": 2.487753424319638}, \"lon\": [20, 2], \"mode\": \"lines+markers\", \"name\": \"\", \"opacity\": 0.6534574145492975, \"text\": \"Poland<br># products: 94\", \"type\": \"scattergeo\", \"uid\": \"81e49265-15a9-4996-8e24-1c81dcd576c6\"}, {\"hoverinfo\": \"text\", \"lat\": [14, 46], \"line\": {\"color\": \"red\", \"width\": 0.12}, \"lon\": [-14, 2], \"mode\": \"lines+markers\", \"name\": \"\", \"opacity\": 0.1, \"text\": \"Senegal<br># products: 1\", \"type\": \"scattergeo\", \"uid\": \"2bf8c811-b958-4d7b-930e-89df914a63d0\"}], {\"geo\": {\"coastlinecolor\": \"rgb(255, 255, 255)\", \"countrycolor\": \"rgb(255, 255, 255)\", \"landcolor\": \"rgb(229, 229, 229)\", \"projection\": {\"type\": \"equirectangular\"}, \"showcoastlines\": true, \"showframe\": false, \"showland\": true}, \"margin\": {\"b\": 0, \"l\": 50, \"pad\": 4, \"r\": 100, \"t\": 0}, \"showlegend\": false, \"xaxis\": {\"fixedrange\": true}, \"yaxis\": {\"fixedrange\": true}}, {\"showLink\": true, \"linkText\": \"Export to plot.ly\"})});</script><script type=\"text/javascript\">window.addEventListener(\"resize\", function(){window._Plotly.Plots.resize(document.getElementById(\"d637456e-0d54-43d6-9905-00d128b6506c\"));});</script>"
      ],
      "text/vnd.plotly.v1+html": [
       "<div id=\"d637456e-0d54-43d6-9905-00d128b6506c\" style=\"height: 525px; width: 100%;\" class=\"plotly-graph-div\"></div><script type=\"text/javascript\">require([\"plotly\"], function(Plotly) { window.PLOTLYENV=window.PLOTLYENV || {};window.PLOTLYENV.BASE_URL=\"https://plot.ly\";Plotly.newPlot(\"d637456e-0d54-43d6-9905-00d128b6506c\", [{\"autocolorscale\": false, \"colorbar\": {\"len\": 0.7, \"tick0\": 1, \"tickmode\": \"array\", \"ticktext\": [\"1\", \"10<sup>1/2</sup>\", \"10<sup>1</sup>\", \"10<sup>3/2</sup>\", \"10<sup>2</sup>\", \"10<sup>5/2</sup>\", \"10<sup>3</sup>\", \"10<sup>3/2</sup>\", \"10<sup>4</sup>\"], \"tickvals\": [0, 0.5, 1, 1.5, 2, 2.5, 3, 3.5, 4], \"title\": \"Counts\"}, \"colorscale\": \"Viridis\", \"hoverinfo\": \"text\", \"locations\": [\"NER\", \"BES\", \"AUT\", \"ATF\", \"CHL\", \"NOR\", \"BRA\", \"ESP\", \"PNG\", \"NLD\", \"EGY\", \"CHE\", \"BGR\", \"BGD\", \"CUB\", \"SYR\", \"SVK\", \"ARG\", \"TUN\", \"GRC\", \"FIN\", \"LIE\", \"RUS\", \"VEN\", \"LKA\", \"IRL\", \"NCL\", \"LVA\", \"NAM\", \"DNK\", \"JPN\", \"MTQ\", \"CYM\", \"USA\", \"HKG\", \"SGP\", \"EST\", \"IDN\", \"BEL\", \"SLV\", \"DOM\", \"LBN\", \"MAR\", \"KOR\", \"PRI\", \"GBR\", \"CAN\", \"MMR\", \"PHL\", \"SWE\", \"SAU\", \"ROU\", \"CRI\", \"ECU\", \"IRN\", \"PER\", \"DZA\", \"TGO\", \"VNM\", \"CHN\", \"GGY\", \"MUS\", \"URY\", \"ITA\", \"ZAF\", \"AUS\", \"KEN\", \"LUX\", \"NZL\", \"SVN\", \"REU\", \"GUF\", \"TWN\", \"CZE\", \"MYS\", \"ISR\", \"PRT\", \"FRA\", \"SYC\", \"SRB\", \"UMI\", \"HRV\", \"BOL\", \"WSM\", \"MDA\", \"CMR\", \"THA\", \"ISL\", \"CIV\", \"MEX\", \"COL\", \"CYP\", \"LAO\", \"MYT\", \"GHA\", \"GLP\", \"HUN\", \"ARM\", \"LTU\", \"TUR\", \"DEU\", \"SWZ\", \"MDG\", \"BLM\", \"POL\", \"SEN\"], \"reversescale\": true, \"text\": [\"Niger 25\", \"Caribbean Netherlands 1\", \"Austria 26\", \"French Southern and Antarctic Lands 8\", \"Chile 3\", \"Norway 17\", \"Brazil 4\", \"Spain 613\", \"Papua New Guinea 2\", \"Netherlands 335\", \"Egypt 1\", \"Switzerland 195\", \"Bulgaria 5\", \"Bangladesh 3\", \"Cuba 2\", \"Syria 2\", \"Slovakia 2\", \"Argentina 2\", \"Tunisia 20\", \"Greece 88\", \"Finland 2\", \"Liechtenstein 3\", \"Russia 1\", \"Venezuela 9\", \"Sri Lanka 17\", \"Ireland 24\", \"New Caledonia 3\", \"Latvia 2\", \"Namibia 1\", \"Denmark 33\", \"Japan 26\", \"Martinique 2\", \"Cayman Islands 2\", \"United States 80\", \"Hong Kong 1\", \"Singapore 6\", \"Estonia 2\", \"Indonesia 6\", \"Belgium 792\", \"El Salvador 1\", \"Dominican Republic 1\", \"Lebanon 3\", \"Morocco 89\", \"South Korea 16\", \"Puerto Rico 1\", \"United Kingdom 2283\", \"Canada 26\", \"Myanmar 1\", \"Philippines 4\", \"Sweden 42\", \"Saudi Arabia 1\", \"Romania 6\", \"Costa Rica 3\", \"Ecuador 5\", \"Iran 40\", \"Peru 15\", \"Algeria 9\", \"Togo 1\", \"Vietnam 50\", \"China 116\", \"Guernsey 3\", \"Mauritius 7\", \"Uruguay 1\", \"Italy 1386\", \"South Africa 12\", \"Australia 4\", \"Kenya 9\", \"Luxembourg 24\", \"New Zealand 2\", \"Slovenia 3\", \"R\\u00e9union 7\", \"French Guiana 2\", \"Taiwan 28\", \"Czechia 12\", \"Malaysia 16\", \"Israel 26\", \"Portugal 119\", \"France 18972\", \"Seychelles 8\", \"Serbia 3\", \"United States Minor Outlying Islands 28\", \"Croatia 4\", \"Bolivia 72\", \"Samoa 15\", \"Moldova 1\", \"Cameroon 2\", \"Thailand 127\", \"Iceland 22\", \"Ivory Coast 9\", \"Mexico 10\", \"Colombia 1\", \"Cyprus 2\", \"Laos 2\", \"Mayotte 5\", \"Ghana 5\", \"Guadeloupe 3\", \"Hungary 16\", \"Armenia 4\", \"Lithuania 14\", \"Turkey 38\", \"Germany 750\", \"Eswatini 1\", \"Madagascar 3\", \"Saint Barth\\u00e9lemy 1\", \"Poland 94\", \"Senegal 1\"], \"z\": [1.3979400086720377, 0.0, 1.414973347970818, 0.9030899869919435, 0.47712125471966244, 1.2304489213782739, 0.6020599913279624, 2.787460474518415, 0.3010299956639812, 2.525044807036845, 0.0, 2.290034611362518, 0.6989700043360189, 0.47712125471966244, 0.3010299956639812, 0.3010299956639812, 0.3010299956639812, 0.3010299956639812, 1.3010299956639813, 1.9444826721501687, 0.3010299956639812, 0.47712125471966244, 0.0, 0.9542425094393249, 1.2304489213782739, 1.380211241711606, 0.47712125471966244, 0.3010299956639812, 0.0, 1.5185139398778875, 1.414973347970818, 0.3010299956639812, 0.3010299956639812, 1.9030899869919435, 0.0, 0.7781512503836436, 0.3010299956639812, 0.7781512503836436, 2.8987251815894934, 0.0, 0.0, 0.47712125471966244, 1.9493900066449128, 1.2041199826559248, 0.0, 3.3585059114902354, 1.414973347970818, 0.0, 0.6020599913279624, 1.6232492903979006, 0.0, 0.7781512503836436, 0.47712125471966244, 0.6989700043360189, 1.6020599913279625, 1.1760912590556813, 0.9542425094393249, 0.0, 1.6989700043360187, 2.0644579892269186, 0.47712125471966244, 0.8450980400142568, 0.0, 3.141763230275788, 1.0791812460476249, 0.6020599913279624, 0.9542425094393249, 1.380211241711606, 0.3010299956639812, 0.47712125471966244, 0.8450980400142568, 0.3010299956639812, 1.4471580313422192, 1.0791812460476249, 1.2041199826559248, 1.414973347970818, 2.075546961392531, 4.278113115979834, 0.9030899869919435, 0.47712125471966244, 1.4471580313422192, 0.6020599913279624, 1.8573324964312685, 1.1760912590556813, 0.0, 0.3010299956639812, 2.103803720955957, 1.3424226808222062, 0.9542425094393249, 1.0, 0.0, 0.3010299956639812, 0.3010299956639812, 0.6989700043360189, 0.6989700043360189, 0.47712125471966244, 1.2041199826559248, 0.6020599913279624, 1.146128035678238, 1.5797835966168101, 2.8750612633917, 0.0, 0.47712125471966244, 0.0, 1.9731278535996986, 0.0], \"type\": \"choropleth\", \"uid\": \"56460d69-28e8-4be9-8ef6-670ff87cd591\"}, {\"hoverinfo\": \"text\", \"lat\": [16, 46], \"line\": {\"color\": \"red\", \"width\": 1.7975280104064453}, \"lon\": [8, 2], \"mode\": \"lines+markers\", \"name\": \"\", \"opacity\": 0.49211866655429337, \"text\": \"Niger<br># products: 25\", \"type\": \"scattergeo\", \"uid\": \"ad80f72b-3af1-4b79-baec-3acaea86bbbe\"}, {\"hoverinfo\": \"text\", \"lat\": [12.18, 46], \"line\": {\"color\": \"red\", \"width\": 0.12}, \"lon\": [-68.25, 2], \"mode\": \"lines+markers\", \"name\": \"\", \"opacity\": 0.1, \"text\": \"Caribbean Netherlands<br># products: 1\", \"type\": \"scattergeo\", \"uid\": \"925e51f2-1c90-4686-bada-6605b84a953f\"}, {\"hoverinfo\": \"text\", \"lat\": [47.33333333, 46], \"line\": {\"color\": \"red\", \"width\": 1.8179680175649815}, \"lon\": [13.33333333, 2], \"mode\": \"lines+markers\", \"name\": \"\", \"opacity\": 0.4968964755098788, \"text\": \"Austria<br># products: 26\", \"type\": \"scattergeo\", \"uid\": \"f6826e7f-eea0-4f0f-b4c4-0988af3d5e14\"}, {\"hoverinfo\": \"text\", \"lat\": [-49.25, 46], \"line\": {\"color\": \"red\", \"width\": 1.2037079843903322}, \"lon\": [69.167, 2], \"mode\": \"lines+markers\", \"name\": \"\", \"opacity\": 0.3533144765018973, \"text\": \"French Southern and Antarctic Lands<br># products: 8\", \"type\": \"scattergeo\", \"uid\": \"c932636d-471d-4df3-8e62-58f9aa762759\"}, {\"hoverinfo\": \"text\", \"lat\": [-30, 46], \"line\": {\"color\": \"red\", \"width\": 0.692545505663595}, \"lon\": [-71, 2], \"mode\": \"lines+markers\", \"name\": \"\", \"opacity\": 0.23383131538177257, \"text\": \"Chile<br># products: 3\", \"type\": \"scattergeo\", \"uid\": \"40fa215b-c553-4711-afea-681711dae282\"}, {\"hoverinfo\": \"text\", \"lat\": [62, 46], \"line\": {\"color\": \"red\", \"width\": 1.5965387056539286}, \"lon\": [10, 2], \"mode\": \"lines+markers\", \"name\": \"\", \"opacity\": 0.4451378366174291, \"text\": \"Norway<br># products: 17\", \"type\": \"scattergeo\", \"uid\": \"c2eb8564-d3bd-4bc0-99e1-a6332b9a7df5\"}, {\"hoverinfo\": \"text\", \"lat\": [-10, 46], \"line\": {\"color\": \"red\", \"width\": 0.8424719895935548}, \"lon\": [-55, 2], \"mode\": \"lines+markers\", \"name\": \"\", \"opacity\": 0.2688763176679315, \"text\": \"Brazil<br># products: 4\", \"type\": \"scattergeo\", \"uid\": \"78148dae-84fa-49f7-9216-81dccf612dce\"}, {\"hoverinfo\": \"text\", \"lat\": [40, 46], \"line\": {\"color\": \"red\", \"width\": 3.464952569422098}, \"lon\": [-4, 2], \"mode\": \"lines+markers\", \"name\": \"\", \"opacity\": 0.8818756724612666, \"text\": \"Spain<br># products: 613\", \"type\": \"scattergeo\", \"uid\": \"64a44721-fe6b-448d-b93e-a8f2b8eacbb0\"}, {\"hoverinfo\": \"text\", \"lat\": [-6, 46], \"line\": {\"color\": \"red\", \"width\": 0.4812359947967775}, \"lon\": [147, 2], \"mode\": \"lines+markers\", \"name\": \"\", \"opacity\": 0.18443815883396575, \"text\": \"Papua New Guinea<br># products: 2\", \"type\": \"scattergeo\", \"uid\": \"8a1adab0-3f23-4a3b-a454-fad37e90b225\"}, {\"hoverinfo\": \"text\", \"lat\": [52.5, 46], \"line\": {\"color\": \"red\", \"width\": 3.1500537684442143}, \"lon\": [5.75, 2], \"mode\": \"lines+markers\", \"name\": \"\", \"opacity\": 0.8082687358420227, \"text\": \"Netherlands<br># products: 335\", \"type\": \"scattergeo\", \"uid\": \"f9d165e1-7b18-4b0e-b712-aad919abdd33\"}, {\"hoverinfo\": \"text\", \"lat\": [27, 46], \"line\": {\"color\": \"red\", \"width\": 0.12}, \"lon\": [30, 2], \"mode\": \"lines+markers\", \"name\": \"\", \"opacity\": 0.1, \"text\": \"Egypt<br># products: 1\", \"type\": \"scattergeo\", \"uid\": \"6abaa80c-8830-4d09-bfc1-8446b54ead9d\"}, {\"hoverinfo\": \"text\", \"lat\": [47, 46], \"line\": {\"color\": \"red\", \"width\": 2.8680415336350213}, \"lon\": [8, 2], \"mode\": \"lines+markers\", \"name\": \"\", \"opacity\": 0.7423489653348322, \"text\": \"Switzerland<br># products: 195\", \"type\": \"scattergeo\", \"uid\": \"6f91e7fe-5587-495f-957d-60680513005e\"}, {\"hoverinfo\": \"text\", \"lat\": [43, 46], \"line\": {\"color\": \"red\", \"width\": 0.9587640052032226}, \"lon\": [25, 2], \"mode\": \"lines+markers\", \"name\": \"\", \"opacity\": 0.2960593332771467, \"text\": \"Bulgaria<br># products: 5\", \"type\": \"scattergeo\", \"uid\": \"c149ec6a-b499-4387-bdb6-af6e300d9f9c\"}, {\"hoverinfo\": \"text\", \"lat\": [24, 46], \"line\": {\"color\": \"red\", \"width\": 0.692545505663595}, \"lon\": [90, 2], \"mode\": \"lines+markers\", \"name\": \"\", \"opacity\": 0.23383131538177257, \"text\": \"Bangladesh<br># products: 3\", \"type\": \"scattergeo\", \"uid\": \"ca79b907-9e11-4a05-9b6e-cecd632e5c0b\"}, {\"hoverinfo\": \"text\", \"lat\": [21.5, 46], \"line\": {\"color\": \"red\", \"width\": 0.4812359947967775}, \"lon\": [-80, 2], \"mode\": \"lines+markers\", \"name\": \"\", \"opacity\": 0.18443815883396575, \"text\": \"Cuba<br># products: 2\", \"type\": \"scattergeo\", \"uid\": \"03237124-ce05-44e0-840d-efd190f16ac1\"}, {\"hoverinfo\": \"text\", \"lat\": [35, 46], \"line\": {\"color\": \"red\", \"width\": 0.4812359947967775}, \"lon\": [38, 2], \"mode\": \"lines+markers\", \"name\": \"\", \"opacity\": 0.18443815883396575, \"text\": \"Syria<br># products: 2\", \"type\": \"scattergeo\", \"uid\": \"e380c293-0eff-4ef0-82ca-f10f2033ca08\"}, {\"hoverinfo\": \"text\", \"lat\": [48.66666666, 46], \"line\": {\"color\": \"red\", \"width\": 0.4812359947967775}, \"lon\": [19.5, 2], \"mode\": \"lines+markers\", \"name\": \"\", \"opacity\": 0.18443815883396575, \"text\": \"Slovakia<br># products: 2\", \"type\": \"scattergeo\", \"uid\": \"1a581a64-1549-468d-919b-98cf902f827c\"}, {\"hoverinfo\": \"text\", \"lat\": [-34, 46], \"line\": {\"color\": \"red\", \"width\": 0.4812359947967775}, \"lon\": [-64, 2], \"mode\": \"lines+markers\", \"name\": \"\", \"opacity\": 0.18443815883396575, \"text\": \"Argentina<br># products: 2\", \"type\": \"scattergeo\", \"uid\": \"716954ff-8200-4952-9179-be9796d689c1\"}, {\"hoverinfo\": \"text\", \"lat\": [34, 46], \"line\": {\"color\": \"red\", \"width\": 1.6812359947967777}, \"lon\": [9, 2], \"mode\": \"lines+markers\", \"name\": \"\", \"opacity\": 0.46493565094507816, \"text\": \"Tunisia<br># products: 20\", \"type\": \"scattergeo\", \"uid\": \"900bd376-ef53-4d2a-8596-32e7f700e192\"}, {\"hoverinfo\": \"text\", \"lat\": [39, 46], \"line\": {\"color\": \"red\", \"width\": 2.4533792065802023}, \"lon\": [22, 2], \"mode\": \"lines+markers\", \"name\": \"\", \"opacity\": 0.6454225129916367, \"text\": \"Greece<br># products: 88\", \"type\": \"scattergeo\", \"uid\": \"578d0329-d08b-4050-8de9-53c20e636e4e\"}, {\"hoverinfo\": \"text\", \"lat\": [64, 46], \"line\": {\"color\": \"red\", \"width\": 0.4812359947967775}, \"lon\": [26, 2], \"mode\": \"lines+markers\", \"name\": \"\", \"opacity\": 0.18443815883396575, \"text\": \"Finland<br># products: 2\", \"type\": \"scattergeo\", \"uid\": \"be583123-4830-4e65-a7cd-f5c51ed61dbc\"}, {\"hoverinfo\": \"text\", \"lat\": [47.26666666, 46], \"line\": {\"color\": \"red\", \"width\": 0.692545505663595}, \"lon\": [9.53333333, 2], \"mode\": \"lines+markers\", \"name\": \"\", \"opacity\": 0.23383131538177257, \"text\": \"Liechtenstein<br># products: 3\", \"type\": \"scattergeo\", \"uid\": \"482c3c8f-b85d-440d-91fb-89f88edfa5fa\"}, {\"hoverinfo\": \"text\", \"lat\": [60, 46], \"line\": {\"color\": \"red\", \"width\": 0.12}, \"lon\": [100, 2], \"mode\": \"lines+markers\", \"name\": \"\", \"opacity\": 0.1, \"text\": \"Russia<br># products: 1\", \"type\": \"scattergeo\", \"uid\": \"b56f7d9a-66c0-4537-a4d8-6a0ae29c681b\"}, {\"hoverinfo\": \"text\", \"lat\": [8, 46], \"line\": {\"color\": \"red\", \"width\": 1.2650910113271898}, \"lon\": [-66, 2], \"mode\": \"lines+markers\", \"name\": \"\", \"opacity\": 0.3676626307635451, \"text\": \"Venezuela<br># products: 9\", \"type\": \"scattergeo\", \"uid\": \"e4881ad9-4196-445e-892e-4afa70909632\"}, {\"hoverinfo\": \"text\", \"lat\": [7, 46], \"line\": {\"color\": \"red\", \"width\": 1.5965387056539286}, \"lon\": [81, 2], \"mode\": \"lines+markers\", \"name\": \"\", \"opacity\": 0.4451378366174291, \"text\": \"Sri Lanka<br># products: 17\", \"type\": \"scattergeo\", \"uid\": \"a410b9d5-00e9-4787-99eb-ec222febe51c\"}, {\"hoverinfo\": \"text\", \"lat\": [53, 46], \"line\": {\"color\": \"red\", \"width\": 1.776253490053927}, \"lon\": [-8, 2], \"mode\": \"lines+markers\", \"name\": \"\", \"opacity\": 0.4871457918836699, \"text\": \"Ireland<br># products: 24\", \"type\": \"scattergeo\", \"uid\": \"391bb97a-fd84-4f1e-9c08-2249a45260ae\"}, {\"hoverinfo\": \"text\", \"lat\": [-21.5, 46], \"line\": {\"color\": \"red\", \"width\": 0.692545505663595}, \"lon\": [165.5, 2], \"mode\": \"lines+markers\", \"name\": \"\", \"opacity\": 0.23383131538177257, \"text\": \"New Caledonia<br># products: 3\", \"type\": \"scattergeo\", \"uid\": \"cc4856bd-d98f-440e-a2e9-b23a6b3dddc1\"}, {\"hoverinfo\": \"text\", \"lat\": [57, 46], \"line\": {\"color\": \"red\", \"width\": 0.4812359947967775}, \"lon\": [25, 2], \"mode\": \"lines+markers\", \"name\": \"\", \"opacity\": 0.18443815883396575, \"text\": \"Latvia<br># products: 2\", \"type\": \"scattergeo\", \"uid\": \"57fb30c8-fbed-4016-b92b-818310e71ce9\"}, {\"hoverinfo\": \"text\", \"lat\": [-22, 46], \"line\": {\"color\": \"red\", \"width\": 0.12}, \"lon\": [17, 2], \"mode\": \"lines+markers\", \"name\": \"\", \"opacity\": 0.1, \"text\": \"Namibia<br># products: 1\", \"type\": \"scattergeo\", \"uid\": \"bd041f14-f57a-424b-a348-fa7b98b9e56b\"}, {\"hoverinfo\": \"text\", \"lat\": [56, 46], \"line\": {\"color\": \"red\", \"width\": 1.942216727853465}, \"lon\": [10, 2], \"mode\": \"lines+markers\", \"name\": \"\", \"opacity\": 0.525939351871512, \"text\": \"Denmark<br># products: 33\", \"type\": \"scattergeo\", \"uid\": \"d46df418-90cf-47a6-911e-e0ceaaf0ef77\"}, {\"hoverinfo\": \"text\", \"lat\": [36, 46], \"line\": {\"color\": \"red\", \"width\": 1.8179680175649815}, \"lon\": [138, 2], \"mode\": \"lines+markers\", \"name\": \"\", \"opacity\": 0.4968964755098788, \"text\": \"Japan<br># products: 26\", \"type\": \"scattergeo\", \"uid\": \"848e4ab5-8fad-4609-b85f-2dfa4aa759bd\"}, {\"hoverinfo\": \"text\", \"lat\": [14.666667, 46], \"line\": {\"color\": \"red\", \"width\": 0.4812359947967775}, \"lon\": [-61, 2], \"mode\": \"lines+markers\", \"name\": \"\", \"opacity\": 0.18443815883396575, \"text\": \"Martinique<br># products: 2\", \"type\": \"scattergeo\", \"uid\": \"e39fa255-8435-4cf1-96f6-31d6bc12c923\"}, {\"hoverinfo\": \"text\", \"lat\": [19.5, 46], \"line\": {\"color\": \"red\", \"width\": 0.4812359947967775}, \"lon\": [-80.5, 2], \"mode\": \"lines+markers\", \"name\": \"\", \"opacity\": 0.18443815883396575, \"text\": \"Cayman Islands<br># products: 2\", \"type\": \"scattergeo\", \"uid\": \"100d3678-af01-4ec1-b783-47a866d23b80\"}, {\"hoverinfo\": \"text\", \"lat\": [38, 46], \"line\": {\"color\": \"red\", \"width\": 2.403707984390332}, \"lon\": [-97, 2], \"mode\": \"lines+markers\", \"name\": \"\", \"opacity\": 0.6338119686130097, \"text\": \"United States<br># products: 80\", \"type\": \"scattergeo\", \"uid\": \"04f5e4f9-f4ae-430d-9016-0d38736bf2b6\"}, {\"hoverinfo\": \"text\", \"lat\": [22.267, 46], \"line\": {\"color\": \"red\", \"width\": 0.12}, \"lon\": [114.188, 2], \"mode\": \"lines+markers\", \"name\": \"\", \"opacity\": 0.1, \"text\": \"Hong Kong<br># products: 1\", \"type\": \"scattergeo\", \"uid\": \"54ae2c70-af7a-48dc-8214-407808468051\"}, {\"hoverinfo\": \"text\", \"lat\": [1.36666666, 46], \"line\": {\"color\": \"red\", \"width\": 1.0537815004603723}, \"lon\": [103.8, 2], \"mode\": \"lines+markers\", \"name\": \"\", \"opacity\": 0.31826947421573837, \"text\": \"Singapore<br># products: 6\", \"type\": \"scattergeo\", \"uid\": \"d298b23f-3f84-4311-a214-8b1cadfe6525\"}, {\"hoverinfo\": \"text\", \"lat\": [59, 46], \"line\": {\"color\": \"red\", \"width\": 0.4812359947967775}, \"lon\": [26, 2], \"mode\": \"lines+markers\", \"name\": \"\", \"opacity\": 0.18443815883396575, \"text\": \"Estonia<br># products: 2\", \"type\": \"scattergeo\", \"uid\": \"50b0e0bf-c23a-4b73-a69c-298844546a11\"}, {\"hoverinfo\": \"text\", \"lat\": [-5, 46], \"line\": {\"color\": \"red\", \"width\": 1.0537815004603723}, \"lon\": [120, 2], \"mode\": \"lines+markers\", \"name\": \"\", \"opacity\": 0.31826947421573837, \"text\": \"Indonesia<br># products: 6\", \"type\": \"scattergeo\", \"uid\": \"2eee007c-5c6a-4008-b66d-75f09aa993f9\"}, {\"hoverinfo\": \"text\", \"lat\": [50.83333333, 46], \"line\": {\"color\": \"red\", \"width\": 3.598470217907392}, \"lon\": [4, 2], \"mode\": \"lines+markers\", \"name\": \"\", \"opacity\": 0.9130851437551817, \"text\": \"Belgium<br># products: 792\", \"type\": \"scattergeo\", \"uid\": \"5f88a1ff-ab7d-497d-98ca-0a4ab6f20f5d\"}, {\"hoverinfo\": \"text\", \"lat\": [13.83333333, 46], \"line\": {\"color\": \"red\", \"width\": 0.12}, \"lon\": [-88.91666666, 2], \"mode\": \"lines+markers\", \"name\": \"\", \"opacity\": 0.1, \"text\": \"El Salvador<br># products: 1\", \"type\": \"scattergeo\", \"uid\": \"8df38a6a-7284-43af-b22f-2b0a0d823eb1\"}, {\"hoverinfo\": \"text\", \"lat\": [19, 46], \"line\": {\"color\": \"red\", \"width\": 0.12}, \"lon\": [-70.66666666, 2], \"mode\": \"lines+markers\", \"name\": \"\", \"opacity\": 0.1, \"text\": \"Dominican Republic<br># products: 1\", \"type\": \"scattergeo\", \"uid\": \"98006981-e55e-4ea6-9cde-9347859e916b\"}, {\"hoverinfo\": \"text\", \"lat\": [33.83333333, 46], \"line\": {\"color\": \"red\", \"width\": 0.692545505663595}, \"lon\": [35.83333333, 2], \"mode\": \"lines+markers\", \"name\": \"\", \"opacity\": 0.23383131538177257, \"text\": \"Lebanon<br># products: 3\", \"type\": \"scattergeo\", \"uid\": \"ffffd497-6d24-45cc-9dd8-e2d12d12ae99\"}, {\"hoverinfo\": \"text\", \"lat\": [32, 46], \"line\": {\"color\": \"red\", \"width\": 2.4592680079738956}, \"lon\": [-5, 2], \"mode\": \"lines+markers\", \"name\": \"\", \"opacity\": 0.6467990080103627, \"text\": \"Morocco<br># products: 89\", \"type\": \"scattergeo\", \"uid\": \"60a2a31d-6191-4583-a588-0e23a8798bf6\"}, {\"hoverinfo\": \"text\", \"lat\": [37, 46], \"line\": {\"color\": \"red\", \"width\": 1.5649439791871098}, \"lon\": [127.5, 2], \"mode\": \"lines+markers\", \"name\": \"\", \"opacity\": 0.43775263533586306, \"text\": \"South Korea<br># products: 16\", \"type\": \"scattergeo\", \"uid\": \"93c5103c-6805-4a72-8012-abd66d9555a3\"}, {\"hoverinfo\": \"text\", \"lat\": [18.25, 46], \"line\": {\"color\": \"red\", \"width\": 0.12}, \"lon\": [-66.5, 2], \"mode\": \"lines+markers\", \"name\": \"\", \"opacity\": 0.1, \"text\": \"Puerto Rico<br># products: 1\", \"type\": \"scattergeo\", \"uid\": \"d6e2c3e4-28a5-49ab-b127-c6972adda620\"}, {\"hoverinfo\": \"text\", \"lat\": [54, 46], \"line\": {\"color\": \"red\", \"width\": 4.150207093788282}, \"lon\": [-2, 2], \"mode\": \"lines+markers\", \"name\": \"\", \"opacity\": 1, \"text\": \"United Kingdom<br># products: 2283\", \"type\": \"scattergeo\", \"uid\": \"7efee616-41f4-4a23-88ca-6f935e29614a\"}, {\"hoverinfo\": \"text\", \"lat\": [60, 46], \"line\": {\"color\": \"red\", \"width\": 1.8179680175649815}, \"lon\": [-95, 2], \"mode\": \"lines+markers\", \"name\": \"\", \"opacity\": 0.4968964755098788, \"text\": \"Canada<br># products: 26\", \"type\": \"scattergeo\", \"uid\": \"dd2c06e9-9ada-4871-9742-318372e20d83\"}, {\"hoverinfo\": \"text\", \"lat\": [22, 46], \"line\": {\"color\": \"red\", \"width\": 0.12}, \"lon\": [98, 2], \"mode\": \"lines+markers\", \"name\": \"\", \"opacity\": 0.1, \"text\": \"Myanmar<br># products: 1\", \"type\": \"scattergeo\", \"uid\": \"af54ed13-f71c-443e-9021-21191d6ac46f\"}, {\"hoverinfo\": \"text\", \"lat\": [13, 46], \"line\": {\"color\": \"red\", \"width\": 0.8424719895935548}, \"lon\": [122, 2], \"mode\": \"lines+markers\", \"name\": \"\", \"opacity\": 0.2688763176679315, \"text\": \"Philippines<br># products: 4\", \"type\": \"scattergeo\", \"uid\": \"f8fab2d3-544f-4d75-af18-08a882f0b9c3\"}, {\"hoverinfo\": \"text\", \"lat\": [62, 46], \"line\": {\"color\": \"red\", \"width\": 2.0678991484774807}, \"lon\": [15, 2], \"mode\": \"lines+markers\", \"name\": \"\", \"opacity\": 0.5553173550277539, \"text\": \"Sweden<br># products: 42\", \"type\": \"scattergeo\", \"uid\": \"9fd740a5-8fd4-4ff0-874f-97c827692f98\"}, {\"hoverinfo\": \"text\", \"lat\": [25, 46], \"line\": {\"color\": \"red\", \"width\": 0.12}, \"lon\": [45, 2], \"mode\": \"lines+markers\", \"name\": \"\", \"opacity\": 0.1, \"text\": \"Saudi Arabia<br># products: 1\", \"type\": \"scattergeo\", \"uid\": \"4b945936-5ae1-44d0-a85c-2119d6cd2cad\"}, {\"hoverinfo\": \"text\", \"lat\": [46, 46], \"line\": {\"color\": \"red\", \"width\": 1.0537815004603723}, \"lon\": [25, 2], \"mode\": \"lines+markers\", \"name\": \"\", \"opacity\": 0.31826947421573837, \"text\": \"Romania<br># products: 6\", \"type\": \"scattergeo\", \"uid\": \"4c1c711b-e8cf-400d-8524-76762a8b9ee1\"}, {\"hoverinfo\": \"text\", \"lat\": [10, 46], \"line\": {\"color\": \"red\", \"width\": 0.692545505663595}, \"lon\": [-84, 2], \"mode\": \"lines+markers\", \"name\": \"\", \"opacity\": 0.23383131538177257, \"text\": \"Costa Rica<br># products: 3\", \"type\": \"scattergeo\", \"uid\": \"3e20bedb-6067-4597-aa45-1f751e703a97\"}, {\"hoverinfo\": \"text\", \"lat\": [-2, 46], \"line\": {\"color\": \"red\", \"width\": 0.9587640052032226}, \"lon\": [-77.5, 2], \"mode\": \"lines+markers\", \"name\": \"\", \"opacity\": 0.2960593332771467, \"text\": \"Ecuador<br># products: 5\", \"type\": \"scattergeo\", \"uid\": \"102d7a61-80fb-4d08-8ba7-de1a5a61b9cc\"}, {\"hoverinfo\": \"text\", \"lat\": [32, 46], \"line\": {\"color\": \"red\", \"width\": 2.042471989593555}, \"lon\": [53, 2], \"mode\": \"lines+markers\", \"name\": \"\", \"opacity\": 0.5493738097790439, \"text\": \"Iran<br># products: 40\", \"type\": \"scattergeo\", \"uid\": \"64b5fa75-ee37-4ff7-86dc-005627cb8c01\"}, {\"hoverinfo\": \"text\", \"lat\": [-10, 46], \"line\": {\"color\": \"red\", \"width\": 1.5313095108668178}, \"lon\": [-76, 2], \"mode\": \"lines+markers\", \"name\": \"\", \"opacity\": 0.42989064865891924, \"text\": \"Peru<br># products: 15\", \"type\": \"scattergeo\", \"uid\": \"5a0dd45f-777a-4e24-b764-09f6004a045a\"}, {\"hoverinfo\": \"text\", \"lat\": [28, 46], \"line\": {\"color\": \"red\", \"width\": 1.2650910113271898}, \"lon\": [3, 2], \"mode\": \"lines+markers\", \"name\": \"\", \"opacity\": 0.3676626307635451, \"text\": \"Algeria<br># products: 9\", \"type\": \"scattergeo\", \"uid\": \"18ace1f2-aede-4d07-b514-4fc86475de16\"}, {\"hoverinfo\": \"text\", \"lat\": [8, 46], \"line\": {\"color\": \"red\", \"width\": 0.12}, \"lon\": [1.16666666, 2], \"mode\": \"lines+markers\", \"name\": \"\", \"opacity\": 0.1, \"text\": \"Togo<br># products: 1\", \"type\": \"scattergeo\", \"uid\": \"37132cdc-ff1b-4eca-b9bd-248fb4ca9c64\"}, {\"hoverinfo\": \"text\", \"lat\": [16.16666666, 46], \"line\": {\"color\": \"red\", \"width\": 2.1587640052032224}, \"lon\": [107.83333333, 2], \"mode\": \"lines+markers\", \"name\": \"\", \"opacity\": 0.576556825388259, \"text\": \"Vietnam<br># products: 50\", \"type\": \"scattergeo\", \"uid\": \"c99946c0-e078-45ab-9e9e-588b34fd8bb4\"}, {\"hoverinfo\": \"text\", \"lat\": [35, 46], \"line\": {\"color\": \"red\", \"width\": 2.5973495870723022}, \"lon\": [105, 2], \"mode\": \"lines+markers\", \"name\": \"\", \"opacity\": 0.6790752885469006, \"text\": \"China<br># products: 116\", \"type\": \"scattergeo\", \"uid\": \"f0478f18-2fb0-4fd6-a871-8233f04c31ba\"}, {\"hoverinfo\": \"text\", \"lat\": [49.46666666, 46], \"line\": {\"color\": \"red\", \"width\": 0.692545505663595}, \"lon\": [-2.58333333, 2], \"mode\": \"lines+markers\", \"name\": \"\", \"opacity\": 0.23383131538177257, \"text\": \"Guernsey<br># products: 3\", \"type\": \"scattergeo\", \"uid\": \"96568154-1d39-4ce0-8e00-81f1cd64d86d\"}, {\"hoverinfo\": \"text\", \"lat\": [-20.28333333, 46], \"line\": {\"color\": \"red\", \"width\": 1.134117648017108}, \"lon\": [57.55, 2], \"mode\": \"lines+markers\", \"name\": \"\", \"opacity\": 0.33704788081201553, \"text\": \"Mauritius<br># products: 7\", \"type\": \"scattergeo\", \"uid\": \"c8a732c8-a692-45f1-bee3-11edab541211\"}, {\"hoverinfo\": \"text\", \"lat\": [-33, 46], \"line\": {\"color\": \"red\", \"width\": 0.12}, \"lon\": [-56, 2], \"mode\": \"lines+markers\", \"name\": \"\", \"opacity\": 0.1, \"text\": \"Uruguay<br># products: 1\", \"type\": \"scattergeo\", \"uid\": \"2fdee825-46da-44e9-b086-e8df2fdafeca\"}, {\"hoverinfo\": \"text\", \"lat\": [42.83333333, 46], \"line\": {\"color\": \"red\", \"width\": 3.8901158763309454}, \"lon\": [12.83333333, 2], \"mode\": \"lines+markers\", \"name\": \"\", \"opacity\": 0.9812567068992658, \"text\": \"Italy<br># products: 1386\", \"type\": \"scattergeo\", \"uid\": \"1aaae08c-4977-4562-a55b-caa446cb36fd\"}, {\"hoverinfo\": \"text\", \"lat\": [-29, 46], \"line\": {\"color\": \"red\", \"width\": 1.41501749525715}, \"lon\": [24, 2], \"mode\": \"lines+markers\", \"name\": \"\", \"opacity\": 0.40270763304970414, \"text\": \"South Africa<br># products: 12\", \"type\": \"scattergeo\", \"uid\": \"1d732aaa-131f-4994-9453-1a580a14944f\"}, {\"hoverinfo\": \"text\", \"lat\": [-27, 46], \"line\": {\"color\": \"red\", \"width\": 0.8424719895935548}, \"lon\": [133, 2], \"mode\": \"lines+markers\", \"name\": \"\", \"opacity\": 0.2688763176679315, \"text\": \"Australia<br># products: 4\", \"type\": \"scattergeo\", \"uid\": \"b3695a45-9f11-4163-8e41-7e3ffb8105c7\"}, {\"hoverinfo\": \"text\", \"lat\": [1, 46], \"line\": {\"color\": \"red\", \"width\": 1.2650910113271898}, \"lon\": [38, 2], \"mode\": \"lines+markers\", \"name\": \"\", \"opacity\": 0.3676626307635451, \"text\": \"Kenya<br># products: 9\", \"type\": \"scattergeo\", \"uid\": \"8e349b73-97ea-4a6c-b0db-ddf2db271a40\"}, {\"hoverinfo\": \"text\", \"lat\": [49.75, 46], \"line\": {\"color\": \"red\", \"width\": 1.776253490053927}, \"lon\": [6.16666666, 2], \"mode\": \"lines+markers\", \"name\": \"\", \"opacity\": 0.4871457918836699, \"text\": \"Luxembourg<br># products: 24\", \"type\": \"scattergeo\", \"uid\": \"fbde992e-9caa-4a72-b1b6-99a59a520f0c\"}, {\"hoverinfo\": \"text\", \"lat\": [-41, 46], \"line\": {\"color\": \"red\", \"width\": 0.4812359947967775}, \"lon\": [174, 2], \"mode\": \"lines+markers\", \"name\": \"\", \"opacity\": 0.18443815883396575, \"text\": \"New Zealand<br># products: 2\", \"type\": \"scattergeo\", \"uid\": \"84d2ccb7-e5f6-4b6b-8971-8b62c7a09093\"}, {\"hoverinfo\": \"text\", \"lat\": [46.11666666, 46], \"line\": {\"color\": \"red\", \"width\": 0.692545505663595}, \"lon\": [14.81666666, 2], \"mode\": \"lines+markers\", \"name\": \"\", \"opacity\": 0.23383131538177257, \"text\": \"Slovenia<br># products: 3\", \"type\": \"scattergeo\", \"uid\": \"2e959dd1-3993-4320-9eee-b09c74329246\"}, {\"hoverinfo\": \"text\", \"lat\": [-21.15, 46], \"line\": {\"color\": \"red\", \"width\": 1.134117648017108}, \"lon\": [55.5, 2], \"mode\": \"lines+markers\", \"name\": \"\", \"opacity\": 0.33704788081201553, \"text\": \"R\\u00e9union<br># products: 7\", \"type\": \"scattergeo\", \"uid\": \"32b886dc-17b9-4692-bce9-6623870ed380\"}, {\"hoverinfo\": \"text\", \"lat\": [4, 46], \"line\": {\"color\": \"red\", \"width\": 0.4812359947967775}, \"lon\": [-53, 2], \"mode\": \"lines+markers\", \"name\": \"\", \"opacity\": 0.18443815883396575, \"text\": \"French Guiana<br># products: 2\", \"type\": \"scattergeo\", \"uid\": \"a7482a2d-9395-4dba-a07e-aa621b49f7eb\"}, {\"hoverinfo\": \"text\", \"lat\": [23.5, 46], \"line\": {\"color\": \"red\", \"width\": 1.856589637610663}, \"lon\": [121, 2], \"mode\": \"lines+markers\", \"name\": \"\", \"opacity\": 0.5059241984799471, \"text\": \"Taiwan<br># products: 28\", \"type\": \"scattergeo\", \"uid\": \"23cc52a4-77f2-4bb8-8c0c-d6923991ac8c\"}, {\"hoverinfo\": \"text\", \"lat\": [49.75, 46], \"line\": {\"color\": \"red\", \"width\": 1.41501749525715}, \"lon\": [15.5, 2], \"mode\": \"lines+markers\", \"name\": \"\", \"opacity\": 0.40270763304970414, \"text\": \"Czechia<br># products: 12\", \"type\": \"scattergeo\", \"uid\": \"2e952f0a-7f2c-41f2-9ee2-9e5bbec7d247\"}, {\"hoverinfo\": \"text\", \"lat\": [2.5, 46], \"line\": {\"color\": \"red\", \"width\": 1.5649439791871098}, \"lon\": [112.5, 2], \"mode\": \"lines+markers\", \"name\": \"\", \"opacity\": 0.43775263533586306, \"text\": \"Malaysia<br># products: 16\", \"type\": \"scattergeo\", \"uid\": \"cc06a7a9-2e0b-4757-8bfd-159833870ea2\"}, {\"hoverinfo\": \"text\", \"lat\": [31.47, 46], \"line\": {\"color\": \"red\", \"width\": 1.8179680175649815}, \"lon\": [35.13, 2], \"mode\": \"lines+markers\", \"name\": \"\", \"opacity\": 0.4968964755098788, \"text\": \"Israel<br># products: 26\", \"type\": \"scattergeo\", \"uid\": \"2d7db3ac-6a2d-4125-84d1-ec3bcb479e8c\"}, {\"hoverinfo\": \"text\", \"lat\": [39.5, 46], \"line\": {\"color\": \"red\", \"width\": 2.6106563536710374}, \"lon\": [-8, 2], \"mode\": \"lines+markers\", \"name\": \"\", \"opacity\": 0.6821857174294448, \"text\": \"Portugal<br># products: 119\", \"type\": \"scattergeo\", \"uid\": \"14c63711-f9af-4dc2-aed9-8b2b559ad4f9\"}, {\"hoverinfo\": \"text\", \"lat\": [46, 46], \"line\": {\"color\": \"red\", \"width\": 5.2537357391758}, \"lon\": [2, 2], \"mode\": \"lines+markers\", \"name\": \"\", \"opacity\": 1, \"text\": \"France<br># products: 18972\", \"type\": \"scattergeo\", \"uid\": \"2081fc42-9320-4457-b8e0-5f890dfaf6e0\"}, {\"hoverinfo\": \"text\", \"lat\": [-4.58333333, 46], \"line\": {\"color\": \"red\", \"width\": 1.2037079843903322}, \"lon\": [55.66666666, 2], \"mode\": \"lines+markers\", \"name\": \"\", \"opacity\": 0.3533144765018973, \"text\": \"Seychelles<br># products: 8\", \"type\": \"scattergeo\", \"uid\": \"d1095eb6-620c-4bac-b91a-4f15388b31cf\"}, {\"hoverinfo\": \"text\", \"lat\": [44, 46], \"line\": {\"color\": \"red\", \"width\": 0.692545505663595}, \"lon\": [21, 2], \"mode\": \"lines+markers\", \"name\": \"\", \"opacity\": 0.23383131538177257, \"text\": \"Serbia<br># products: 3\", \"type\": \"scattergeo\", \"uid\": \"68b5c309-1973-4b01-8217-0ea61650370c\"}, {\"hoverinfo\": \"text\", \"lat\": [19.3, 46], \"line\": {\"color\": \"red\", \"width\": 1.856589637610663}, \"lon\": [166.633333, 2], \"mode\": \"lines+markers\", \"name\": \"\", \"opacity\": 0.5059241984799471, \"text\": \"United States Minor Outlying Islands<br># products: 28\", \"type\": \"scattergeo\", \"uid\": \"ce86a1f1-fc56-4ac2-a374-144b0cf4d6ce\"}, {\"hoverinfo\": \"text\", \"lat\": [45.16666666, 46], \"line\": {\"color\": \"red\", \"width\": 0.8424719895935548}, \"lon\": [15.5, 2], \"mode\": \"lines+markers\", \"name\": \"\", \"opacity\": 0.2688763176679315, \"text\": \"Croatia<br># products: 4\", \"type\": \"scattergeo\", \"uid\": \"73bdc083-5cee-45c5-beba-e4f5cbaadea1\"}, {\"hoverinfo\": \"text\", \"lat\": [-17, 46], \"line\": {\"color\": \"red\", \"width\": 2.348798995717522}, \"lon\": [-65, 2], \"mode\": \"lines+markers\", \"name\": \"\", \"opacity\": 0.6209771072654424, \"text\": \"Bolivia<br># products: 72\", \"type\": \"scattergeo\", \"uid\": \"0f8eb040-b339-4097-8883-5044ee1261ab\"}, {\"hoverinfo\": \"text\", \"lat\": [-13.58333333, 46], \"line\": {\"color\": \"red\", \"width\": 1.5313095108668178}, \"lon\": [-172.33333333, 2], \"mode\": \"lines+markers\", \"name\": \"\", \"opacity\": 0.42989064865891924, \"text\": \"Samoa<br># products: 15\", \"type\": \"scattergeo\", \"uid\": \"7028daec-843a-47d1-bac6-25b030093ae0\"}, {\"hoverinfo\": \"text\", \"lat\": [47, 46], \"line\": {\"color\": \"red\", \"width\": 0.12}, \"lon\": [29, 2], \"mode\": \"lines+markers\", \"name\": \"\", \"opacity\": 0.1, \"text\": \"Moldova<br># products: 1\", \"type\": \"scattergeo\", \"uid\": \"ea138665-5ddc-4f08-914c-c481de7a3a91\"}, {\"hoverinfo\": \"text\", \"lat\": [6, 46], \"line\": {\"color\": \"red\", \"width\": 0.4812359947967775}, \"lon\": [12, 2], \"mode\": \"lines+markers\", \"name\": \"\", \"opacity\": 0.18443815883396575, \"text\": \"Cameroon<br># products: 2\", \"type\": \"scattergeo\", \"uid\": \"a1a25d58-6a10-4f13-8984-7ca4d7bb9ede\"}, {\"hoverinfo\": \"text\", \"lat\": [15, 46], \"line\": {\"color\": \"red\", \"width\": 2.6445644651471483}, \"lon\": [100, 2], \"mode\": \"lines+markers\", \"name\": \"\", \"opacity\": 0.6901116676221724, \"text\": \"Thailand<br># products: 127\", \"type\": \"scattergeo\", \"uid\": \"fc3fec04-bc7f-424f-b15b-29a014771fc8\"}, {\"hoverinfo\": \"text\", \"lat\": [65, 46], \"line\": {\"color\": \"red\", \"width\": 1.7309072169866475}, \"lon\": [-18, 2], \"mode\": \"lines+markers\", \"name\": \"\", \"opacity\": 0.4765461953237051, \"text\": \"Iceland<br># products: 22\", \"type\": \"scattergeo\", \"uid\": \"786ab02e-6a4f-4270-9943-4b2fa688944b\"}, {\"hoverinfo\": \"text\", \"lat\": [8, 46], \"line\": {\"color\": \"red\", \"width\": 1.2650910113271898}, \"lon\": [-5, 2], \"mode\": \"lines+markers\", \"name\": \"\", \"opacity\": 0.3676626307635451, \"text\": \"Ivory Coast<br># products: 9\", \"type\": \"scattergeo\", \"uid\": \"468a84a7-4ef7-4f79-9a92-69f0ea57056a\"}, {\"hoverinfo\": \"text\", \"lat\": [23, 46], \"line\": {\"color\": \"red\", \"width\": 1.32}, \"lon\": [-102, 2], \"mode\": \"lines+markers\", \"name\": \"\", \"opacity\": 0.3804974921111124, \"text\": \"Mexico<br># products: 10\", \"type\": \"scattergeo\", \"uid\": \"d52c1451-6066-4d4c-ba50-7e4220395560\"}, {\"hoverinfo\": \"text\", \"lat\": [4, 46], \"line\": {\"color\": \"red\", \"width\": 0.12}, \"lon\": [-72, 2], \"mode\": \"lines+markers\", \"name\": \"\", \"opacity\": 0.1, \"text\": \"Colombia<br># products: 1\", \"type\": \"scattergeo\", \"uid\": \"a06ea811-8279-4471-8920-ecd2bd431222\"}, {\"hoverinfo\": \"text\", \"lat\": [35, 46], \"line\": {\"color\": \"red\", \"width\": 0.4812359947967775}, \"lon\": [33, 2], \"mode\": \"lines+markers\", \"name\": \"\", \"opacity\": 0.18443815883396575, \"text\": \"Cyprus<br># products: 2\", \"type\": \"scattergeo\", \"uid\": \"8557d6d1-f2a5-4038-9e7d-4ce27dc39d25\"}, {\"hoverinfo\": \"text\", \"lat\": [18, 46], \"line\": {\"color\": \"red\", \"width\": 0.4812359947967775}, \"lon\": [105, 2], \"mode\": \"lines+markers\", \"name\": \"\", \"opacity\": 0.18443815883396575, \"text\": \"Laos<br># products: 2\", \"type\": \"scattergeo\", \"uid\": \"982284b9-4d49-4563-be86-8c75489019eb\"}, {\"hoverinfo\": \"text\", \"lat\": [-12.83333333, 46], \"line\": {\"color\": \"red\", \"width\": 0.9587640052032226}, \"lon\": [45.16666666, 2], \"mode\": \"lines+markers\", \"name\": \"\", \"opacity\": 0.2960593332771467, \"text\": \"Mayotte<br># products: 5\", \"type\": \"scattergeo\", \"uid\": \"bbe254f9-0fcc-4bc1-bb29-ada6b94a94bb\"}, {\"hoverinfo\": \"text\", \"lat\": [8, 46], \"line\": {\"color\": \"red\", \"width\": 0.9587640052032226}, \"lon\": [-2, 2], \"mode\": \"lines+markers\", \"name\": \"\", \"opacity\": 0.2960593332771467, \"text\": \"Ghana<br># products: 5\", \"type\": \"scattergeo\", \"uid\": \"73a6b241-cd93-4cf2-ba4b-ae6a96710d17\"}, {\"hoverinfo\": \"text\", \"lat\": [16.25, 46], \"line\": {\"color\": \"red\", \"width\": 0.692545505663595}, \"lon\": [-61.583333, 2], \"mode\": \"lines+markers\", \"name\": \"\", \"opacity\": 0.23383131538177257, \"text\": \"Guadeloupe<br># products: 3\", \"type\": \"scattergeo\", \"uid\": \"91d11a38-bf69-41da-a999-68b1cf5cb3a7\"}, {\"hoverinfo\": \"text\", \"lat\": [47, 46], \"line\": {\"color\": \"red\", \"width\": 1.5649439791871098}, \"lon\": [20, 2], \"mode\": \"lines+markers\", \"name\": \"\", \"opacity\": 0.43775263533586306, \"text\": \"Hungary<br># products: 16\", \"type\": \"scattergeo\", \"uid\": \"c1eb357c-f1c3-4d75-8439-4cbef48531ef\"}, {\"hoverinfo\": \"text\", \"lat\": [40, 46], \"line\": {\"color\": \"red\", \"width\": 0.8424719895935548}, \"lon\": [45, 2], \"mode\": \"lines+markers\", \"name\": \"\", \"opacity\": 0.2688763176679315, \"text\": \"Armenia<br># products: 4\", \"type\": \"scattergeo\", \"uid\": \"00b9dec4-82ea-499e-b891-0075ea94b105\"}, {\"hoverinfo\": \"text\", \"lat\": [56, 46], \"line\": {\"color\": \"red\", \"width\": 1.4953536428138856}, \"lon\": [24, 2], \"mode\": \"lines+markers\", \"name\": \"\", \"opacity\": 0.4214860396459813, \"text\": \"Lithuania<br># products: 14\", \"type\": \"scattergeo\", \"uid\": \"06181142-92bf-4944-8b51-9f6d813fd1c5\"}, {\"hoverinfo\": \"text\", \"lat\": [39, 46], \"line\": {\"color\": \"red\", \"width\": 2.0157403159401723}, \"lon\": [35, 2], \"mode\": \"lines+markers\", \"name\": \"\", \"opacity\": 0.5431253369292884, \"text\": \"Turkey<br># products: 38\", \"type\": \"scattergeo\", \"uid\": \"423baa77-33f1-4354-9e3a-7bf3cf5500e7\"}, {\"hoverinfo\": \"text\", \"lat\": [51, 46], \"line\": {\"color\": \"red\", \"width\": 3.5700735160700403}, \"lon\": [9, 2], \"mode\": \"lines+markers\", \"name\": \"\", \"opacity\": 0.9064474740471782, \"text\": \"Germany<br># products: 750\", \"type\": \"scattergeo\", \"uid\": \"8e69e31a-527e-47aa-bf88-95e08e9f512f\"}, {\"hoverinfo\": \"text\", \"lat\": [-26.5, 46], \"line\": {\"color\": \"red\", \"width\": 0.12}, \"lon\": [31.5, 2], \"mode\": \"lines+markers\", \"name\": \"\", \"opacity\": 0.1, \"text\": \"Eswatini<br># products: 1\", \"type\": \"scattergeo\", \"uid\": \"cc53d23a-0737-461a-8edf-ca7f9e3fdf11\"}, {\"hoverinfo\": \"text\", \"lat\": [-20, 46], \"line\": {\"color\": \"red\", \"width\": 0.692545505663595}, \"lon\": [47, 2], \"mode\": \"lines+markers\", \"name\": \"\", \"opacity\": 0.23383131538177257, \"text\": \"Madagascar<br># products: 3\", \"type\": \"scattergeo\", \"uid\": \"8c6891d2-108a-439c-a5f8-8f4da77dc3d2\"}, {\"hoverinfo\": \"text\", \"lat\": [18.5, 46], \"line\": {\"color\": \"red\", \"width\": 0.12}, \"lon\": [-63.41666666, 2], \"mode\": \"lines+markers\", \"name\": \"\", \"opacity\": 0.1, \"text\": \"Saint Barth\\u00e9lemy<br># products: 1\", \"type\": \"scattergeo\", \"uid\": \"ab8f98b4-a4d5-423b-90c2-259ee067a97a\"}, {\"hoverinfo\": \"text\", \"lat\": [52, 46], \"line\": {\"color\": \"red\", \"width\": 2.487753424319638}, \"lon\": [20, 2], \"mode\": \"lines+markers\", \"name\": \"\", \"opacity\": 0.6534574145492975, \"text\": \"Poland<br># products: 94\", \"type\": \"scattergeo\", \"uid\": \"81e49265-15a9-4996-8e24-1c81dcd576c6\"}, {\"hoverinfo\": \"text\", \"lat\": [14, 46], \"line\": {\"color\": \"red\", \"width\": 0.12}, \"lon\": [-14, 2], \"mode\": \"lines+markers\", \"name\": \"\", \"opacity\": 0.1, \"text\": \"Senegal<br># products: 1\", \"type\": \"scattergeo\", \"uid\": \"2bf8c811-b958-4d7b-930e-89df914a63d0\"}], {\"geo\": {\"coastlinecolor\": \"rgb(255, 255, 255)\", \"countrycolor\": \"rgb(255, 255, 255)\", \"landcolor\": \"rgb(229, 229, 229)\", \"projection\": {\"type\": \"equirectangular\"}, \"showcoastlines\": true, \"showframe\": false, \"showland\": true}, \"margin\": {\"b\": 0, \"l\": 50, \"pad\": 4, \"r\": 100, \"t\": 0}, \"showlegend\": false, \"xaxis\": {\"fixedrange\": true}, \"yaxis\": {\"fixedrange\": true}}, {\"showLink\": true, \"linkText\": \"Export to plot.ly\"})});</script><script type=\"text/javascript\">window.addEventListener(\"resize\", function(){window._Plotly.Plots.resize(document.getElementById(\"d637456e-0d54-43d6-9905-00d128b6506c\"));});</script>"
      ]
     },
     "metadata": {},
     "output_type": "display_data"
    }
   ],
   "source": [
    "visualize.plot_occurrences_on_map(df=food_facts_pd, \n",
    "                                  column_key='manufacturing_places',\n",
    "                                  save_offline = save_plots_offline, \n",
    "                                  save_offline_title= 'manufacturing_fr',\n",
    "                                  show_distances=True)"
   ]
  },
  {
   "cell_type": "code",
   "execution_count": 13,
   "metadata": {},
   "outputs": [
    {
     "data": {
      "application/vnd.plotly.v1+json": {
       "data": [
        {
         "autocolorscale": false,
         "colorbar": {
          "len": 0.7,
          "tick0": 1,
          "tickmode": "array",
          "ticktext": [
           "1",
           "10<sup>1/2</sup>",
           "10<sup>1</sup>",
           "10<sup>3/2</sup>",
           "10<sup>2</sup>",
           "10<sup>5/2</sup>",
           "10<sup>3</sup>",
           "10<sup>3/2</sup>",
           "10<sup>4</sup>"
          ],
          "tickvals": [
           0,
           0.5,
           1,
           1.5,
           2,
           2.5,
           3,
           3.5,
           4
          ],
          "title": "Counts"
         },
         "colorscale": "Viridis",
         "hoverinfo": "text",
         "locations": [
          "NER",
          "AUT",
          "CHL",
          "NOR",
          "BRA",
          "ESP",
          "NIC",
          "PNG",
          "NLD",
          "EGY",
          "BFA",
          "CHE",
          "BGR",
          "BGD",
          "CUB",
          "SYR",
          "ARG",
          "TUN",
          "GRC",
          "HTI",
          "IOT",
          "LSO",
          "RUS",
          "VEN",
          "LKA",
          "IRL",
          "FRO",
          "NCL",
          "SDN",
          "DNK",
          "PRY",
          "TTO",
          "GIN",
          "UKR",
          "JPN",
          "HKG",
          "MTQ",
          "USA",
          "SGP",
          "IDN",
          "BEL",
          "SLV",
          "DOM",
          "MAR",
          "STP",
          "KOR",
          "GUY",
          "TZA",
          "GBR",
          "CAN",
          "MMR",
          "PHL",
          "SWE",
          "ROU",
          "CRI",
          "ECU",
          "IRN",
          "PER",
          "DZA",
          "TGO",
          "BDI",
          "VNM",
          "CHN",
          "URY",
          "ITA",
          "ZAF",
          "AUS",
          "KEN",
          "NZL",
          "COD",
          "REU",
          "GUF",
          "TWN",
          "MYS",
          "ISR",
          "FRA",
          "PRT",
          "ETH",
          "SRB",
          "SYC",
          "JAM",
          "UMI",
          "BOL",
          "WSM",
          "GRL",
          "MDA",
          "CMR",
          "THA",
          "ISL",
          "CIV",
          "MEX",
          "PAK",
          "COL",
          "CYP",
          "LAO",
          "GLP",
          "GHA",
          "HUN",
          "BLR",
          "LTU",
          "TUR",
          "DEU",
          "MDG",
          "HND",
          "POL",
          "GTM"
         ],
         "reversescale": true,
         "text": [
          "Niger 8",
          "Austria 7",
          "Chile 43",
          "Norway 110",
          "Brazil 42",
          "Spain 252",
          "Nicaragua 5",
          "Papua New Guinea 9",
          "Netherlands 84",
          "Egypt 3",
          "Burkina Faso 1",
          "Switzerland 29",
          "Bulgaria 1",
          "Bangladesh 2",
          "Cuba 4",
          "Syria 1",
          "Argentina 70",
          "Tunisia 10",
          "Greece 39",
          "Haiti 4",
          "British Indian Ocean Territory 22",
          "Lesotho 1",
          "Russia 21",
          "Venezuela 2",
          "Sri Lanka 20",
          "Ireland 45",
          "Faroe Islands 15",
          "New Caledonia 1",
          "Sudan 1",
          "Denmark 9",
          "Paraguay 16",
          "Trinidad and Tobago 1",
          "Guinea 10",
          "Ukraine 1",
          "Japan 6",
          "Hong Kong 1",
          "Martinique 1",
          "United States 47",
          "Singapore 4",
          "Indonesia 20",
          "Belgium 58",
          "El Salvador 2",
          "Dominican Republic 33",
          "Morocco 28",
          "São Tomé and Príncipe 4",
          "South Korea 5",
          "Guyana 1",
          "Tanzania 3",
          "United Kingdom 273",
          "Canada 27",
          "Myanmar 1",
          "Philippines 5",
          "Sweden 6",
          "Romania 4",
          "Costa Rica 9",
          "Ecuador 25",
          "Iran 5",
          "Peru 117",
          "Algeria 8",
          "Togo 1",
          "Burundi 1",
          "Vietnam 49",
          "China 40",
          "Uruguay 18",
          "Italy 329",
          "South Africa 35",
          "Australia 4",
          "Kenya 6",
          "New Zealand 13",
          "DR Congo 2",
          "Réunion 8",
          "French Guiana 1",
          "Taiwan 2",
          "Malaysia 5",
          "Israel 3",
          "France 6537",
          "Portugal 19",
          "Ethiopia 2",
          "Serbia 1",
          "Seychelles 2",
          "Jamaica 1",
          "United States Minor Outlying Islands 4",
          "Bolivia 26",
          "Samoa 2",
          "Greenland 2",
          "Moldova 1",
          "Cameroon 3",
          "Thailand 54",
          "Iceland 21",
          "Ivory Coast 11",
          "Mexico 27",
          "Pakistan 8",
          "Colombia 3",
          "Cyprus 2",
          "Laos 3",
          "Guadeloupe 1",
          "Ghana 1",
          "Hungary 4",
          "Belarus 1",
          "Lithuania 4",
          "Turkey 39",
          "Germany 83",
          "Madagascar 36",
          "Honduras 4",
          "Poland 25",
          "Guatemala 5"
         ],
         "type": "choropleth",
         "uid": "cca83f32-2678-41bc-9aae-a2fcbaec7122",
         "z": [
          0.9030899869919435,
          0.8450980400142568,
          1.6334684555795866,
          2.041392685158225,
          1.6232492903979006,
          2.401400540781544,
          0.6989700043360189,
          0.9542425094393249,
          1.9242792860618816,
          0.47712125471966244,
          0,
          1.462397997898956,
          0,
          0.3010299956639812,
          0.6020599913279624,
          0,
          1.845098040014257,
          1,
          1.591064607026499,
          0.6020599913279624,
          1.3424226808222062,
          0,
          1.3222192947339193,
          0.3010299956639812,
          1.3010299956639813,
          1.6532125137753437,
          1.1760912590556813,
          0,
          0,
          0.9542425094393249,
          1.2041199826559248,
          0,
          1,
          0,
          0.7781512503836436,
          0,
          0,
          1.6720978579357175,
          0.6020599913279624,
          1.3010299956639813,
          1.7634279935629373,
          0.3010299956639812,
          1.5185139398778875,
          1.4471580313422192,
          0.6020599913279624,
          0.6989700043360189,
          0,
          0.47712125471966244,
          2.436162647040756,
          1.4313637641589874,
          0,
          0.6989700043360189,
          0.7781512503836436,
          0.6020599913279624,
          0.9542425094393249,
          1.3979400086720377,
          0.6989700043360189,
          2.0681858617461617,
          0.9030899869919435,
          0,
          0,
          1.6901960800285136,
          1.6020599913279625,
          1.255272505103306,
          2.5171958979499744,
          1.5440680443502757,
          0.6020599913279624,
          0.7781512503836436,
          1.1139433523068367,
          0.3010299956639812,
          0.9030899869919435,
          0,
          0.3010299956639812,
          0.6989700043360189,
          0.47712125471966244,
          3.815378484965918,
          1.2787536009528289,
          0.3010299956639812,
          0,
          0.3010299956639812,
          0,
          0.6020599913279624,
          1.414973347970818,
          0.3010299956639812,
          0.3010299956639812,
          0,
          0.47712125471966244,
          1.7323937598229686,
          1.3222192947339193,
          1.041392685158225,
          1.4313637641589874,
          0.9030899869919435,
          0.47712125471966244,
          0.3010299956639812,
          0.47712125471966244,
          0,
          0,
          0.6020599913279624,
          0,
          0.6020599913279624,
          1.591064607026499,
          1.919078092376074,
          1.5563025007672873,
          0.6020599913279624,
          1.3979400086720377,
          0.6989700043360189
         ]
        },
        {
         "hoverinfo": "text",
         "lat": [
          16,
          46
         ],
         "line": {
          "color": "red",
          "width": 1.2037079843903322
         },
         "lon": [
          8,
          2
         ],
         "mode": "lines+markers",
         "name": "",
         "opacity": 0.3840368232563467,
         "text": "Niger<br># products: 8",
         "type": "scattergeo",
         "uid": "3fcfca84-9696-4f0b-955b-df19b2805f6a"
        },
        {
         "hoverinfo": "text",
         "lat": [
          47.33333333,
          46
         ],
         "line": {
          "color": "red",
          "width": 1.134117648017108
         },
         "lon": [
          13.33333333,
          2
         ],
         "mode": "lines+markers",
         "name": "",
         "opacity": 0.36579739127143684,
         "text": "Austria<br># products: 7",
         "type": "scattergeo",
         "uid": "0af98ae1-5abe-4933-9f40-b6e71b77e933"
        },
        {
         "hoverinfo": "text",
         "lat": [
          -30,
          46
         ],
         "line": {
          "color": "red",
          "width": 2.080162146695504
         },
         "lon": [
          -71,
          2
         ],
         "mode": "lines+markers",
         "name": "",
         "opacity": 0.6137530010244878,
         "text": "Chile<br># products: 43",
         "type": "scattergeo",
         "uid": "f450e3a9-ae46-47f5-9077-407d7cc7d494"
        },
        {
         "hoverinfo": "text",
         "lat": [
          62,
          46
         ],
         "line": {
          "color": "red",
          "width": 2.56967122218987
         },
         "lon": [
          10,
          2
         ],
         "mode": "lines+markers",
         "name": "",
         "opacity": 0.7420519567960377,
         "text": "Norway<br># products: 110",
         "type": "scattergeo",
         "uid": "0bafd925-4476-47dc-8e6d-f8962078ca36"
        },
        {
         "hoverinfo": "text",
         "lat": [
          -10,
          46
         ],
         "line": {
          "color": "red",
          "width": 2.0678991484774807
         },
         "lon": [
          -55,
          2
         ],
         "mode": "lines+markers",
         "name": "",
         "opacity": 0.6105389035853099,
         "text": "Brazil<br># products: 42",
         "type": "scattergeo",
         "uid": "ec4e96a8-c0a6-4ed3-89d1-cf968a4b8fad"
        },
        {
         "hoverinfo": "text",
         "lat": [
          40,
          46
         ],
         "line": {
          "color": "red",
          "width": 3.001680648937853
         },
         "lon": [
          -4,
          2
         ],
         "mode": "lines+markers",
         "name": "",
         "opacity": 0.8552804158991829,
         "text": "Spain<br># products: 252",
         "type": "scattergeo",
         "uid": "e18047b3-b5eb-4c2a-80ee-511d56cce172"
        },
        {
         "hoverinfo": "text",
         "lat": [
          13,
          46
         ],
         "line": {
          "color": "red",
          "width": 0.9587640052032226
         },
         "lon": [
          -85,
          2
         ],
         "mode": "lines+markers",
         "name": "",
         "opacity": 0.31983769330048917,
         "text": "Nicaragua<br># products: 5",
         "type": "scattergeo",
         "uid": "2ae1e3fa-21da-4594-922c-368bc85d6b56"
        },
        {
         "hoverinfo": "text",
         "lat": [
          -6,
          46
         ],
         "line": {
          "color": "red",
          "width": 1.2650910113271898
         },
         "lon": [
          147,
          2
         ],
         "mode": "lines+markers",
         "name": "",
         "opacity": 0.40012514245684816,
         "text": "Papua New Guinea<br># products: 9",
         "type": "scattergeo",
         "uid": "7328a7ee-cb46-4c8c-96f6-a8a7dcf1425a"
        },
        {
         "hoverinfo": "text",
         "lat": [
          52.5,
          46
         ],
         "line": {
          "color": "red",
          "width": 2.429135143274258
         },
         "lon": [
          5.75,
          2
         ],
         "mode": "lines+markers",
         "name": "",
         "opacity": 0.7052178446707587,
         "text": "Netherlands<br># products: 84",
         "type": "scattergeo",
         "uid": "58b2c7b3-f9ad-45e7-a787-4df2218b4e75"
        },
        {
         "hoverinfo": "text",
         "lat": [
          27,
          46
         ],
         "line": {
          "color": "red",
          "width": 0.692545505663595
         },
         "lon": [
          30,
          2
         ],
         "mode": "lines+markers",
         "name": "",
         "opacity": 0.2500625712284241,
         "text": "Egypt<br># products: 3",
         "type": "scattergeo",
         "uid": "0ee48b95-6382-4d73-9ad9-54708fb0f98c"
        },
        {
         "hoverinfo": "text",
         "lat": [
          13,
          46
         ],
         "line": {
          "color": "red",
          "width": 0.12
         },
         "lon": [
          -2,
          2
         ],
         "mode": "lines+markers",
         "name": "",
         "opacity": 0.1,
         "text": "Burkina Faso<br># products: 1",
         "type": "scattergeo",
         "uid": "bd3281b6-b046-48eb-8b7d-60c6acfd1c00"
        },
        {
         "hoverinfo": "text",
         "lat": [
          47,
          46
         ],
         "line": {
          "color": "red",
          "width": 1.8748775974787473
         },
         "lon": [
          8,
          2
         ],
         "mode": "lines+markers",
         "name": "",
         "opacity": 0.5599484964319138,
         "text": "Switzerland<br># products: 29",
         "type": "scattergeo",
         "uid": "5ed28575-ac9c-481c-8f73-614e467d3bde"
        },
        {
         "hoverinfo": "text",
         "lat": [
          43,
          46
         ],
         "line": {
          "color": "red",
          "width": 0.12
         },
         "lon": [
          25,
          2
         ],
         "mode": "lines+markers",
         "name": "",
         "opacity": 0.1,
         "text": "Bulgaria<br># products: 1",
         "type": "scattergeo",
         "uid": "29d39708-933a-43ba-8ed7-1714a9aa25a8"
        },
        {
         "hoverinfo": "text",
         "lat": [
          24,
          46
         ],
         "line": {
          "color": "red",
          "width": 0.4812359947967775
         },
         "lon": [
          90,
          2
         ],
         "mode": "lines+markers",
         "name": "",
         "opacity": 0.19467894108544892,
         "text": "Bangladesh<br># products: 2",
         "type": "scattergeo",
         "uid": "1c279e6d-6173-4647-b454-61ecbb0c3bfb"
        },
        {
         "hoverinfo": "text",
         "lat": [
          21.5,
          46
         ],
         "line": {
          "color": "red",
          "width": 0.8424719895935548
         },
         "lon": [
          -80,
          2
         ],
         "mode": "lines+markers",
         "name": "",
         "opacity": 0.2893578821708978,
         "text": "Cuba<br># products: 4",
         "type": "scattergeo",
         "uid": "95e5a3ca-30b8-4cfe-9174-0d670e1a7910"
        },
        {
         "hoverinfo": "text",
         "lat": [
          35,
          46
         ],
         "line": {
          "color": "red",
          "width": 0.12
         },
         "lon": [
          38,
          2
         ],
         "mode": "lines+markers",
         "name": "",
         "opacity": 0.1,
         "text": "Syria<br># products: 1",
         "type": "scattergeo",
         "uid": "c679bf3e-7784-4cfd-bf42-ccd91afb47e7"
        },
        {
         "hoverinfo": "text",
         "lat": [
          -34,
          46
         ],
         "line": {
          "color": "red",
          "width": 2.3341176480171084
         },
         "lon": [
          -64,
          2
         ],
         "mode": "lines+markers",
         "name": "",
         "opacity": 0.680314025657375,
         "text": "Argentina<br># products: 70",
         "type": "scattergeo",
         "uid": "5244ef81-fb6c-4bfb-9435-3346b9bca8c0"
        },
        {
         "hoverinfo": "text",
         "lat": [
          34,
          46
         ],
         "line": {
          "color": "red",
          "width": 1.32
         },
         "lon": [
          9,
          2
         ],
         "mode": "lines+markers",
         "name": "",
         "opacity": 0.4145166343859381,
         "text": "Tunisia<br># products: 10",
         "type": "scattergeo",
         "uid": "0d9930ce-66a7-4e02-87c4-91339aeb462c"
        },
        {
         "hoverinfo": "text",
         "lat": [
          39,
          46
         ],
         "line": {
          "color": "red",
          "width": 2.0292775284317988
         },
         "lon": [
          22,
          2
         ],
         "mode": "lines+markers",
         "name": "",
         "opacity": 0.6004162852925596,
         "text": "Greece<br># products: 39",
         "type": "scattergeo",
         "uid": "33d4b80a-7a20-4c00-bcbf-4a121aff525f"
        },
        {
         "hoverinfo": "text",
         "lat": [
          19,
          46
         ],
         "line": {
          "color": "red",
          "width": 0.8424719895935548
         },
         "lon": [
          -72.41666666,
          2
         ],
         "mode": "lines+markers",
         "name": "",
         "opacity": 0.2893578821708978,
         "text": "Haiti<br># products: 4",
         "type": "scattergeo",
         "uid": "2bc33fb4-7b86-4996-8989-1ec375633c01"
        },
        {
         "hoverinfo": "text",
         "lat": [
          -6,
          46
         ],
         "line": {
          "color": "red",
          "width": 1.7309072169866475
         },
         "lon": [
          71.5,
          2
         ],
         "mode": "lines+markers",
         "name": "",
         "opacity": 0.5222142634955487,
         "text": "British Indian Ocean Territory<br># products: 22",
         "type": "scattergeo",
         "uid": "397d5faa-f095-4df2-819e-74460119cd0a"
        },
        {
         "hoverinfo": "text",
         "lat": [
          -29.5,
          46
         ],
         "line": {
          "color": "red",
          "width": 0.12
         },
         "lon": [
          28.5,
          2
         ],
         "mode": "lines+markers",
         "name": "",
         "opacity": 0.1,
         "text": "Lesotho<br># products: 1",
         "type": "scattergeo",
         "uid": "bd62da8f-0eb5-4afd-b333-fafab2ba0ec1"
        },
        {
         "hoverinfo": "text",
         "lat": [
          60,
          46
         ],
         "line": {
          "color": "red",
          "width": 1.7066631536807033
         },
         "lon": [
          100,
          2
         ],
         "mode": "lines+markers",
         "name": "",
         "opacity": 0.515859962499861,
         "text": "Russia<br># products: 21",
         "type": "scattergeo",
         "uid": "a4ee5a04-1a35-4923-9199-1158e4ea4343"
        },
        {
         "hoverinfo": "text",
         "lat": [
          8,
          46
         ],
         "line": {
          "color": "red",
          "width": 0.4812359947967775
         },
         "lon": [
          -66,
          2
         ],
         "mode": "lines+markers",
         "name": "",
         "opacity": 0.19467894108544892,
         "text": "Venezuela<br># products: 2",
         "type": "scattergeo",
         "uid": "73c1ee0e-bbb2-4bcd-99f9-df0c236c3e3d"
        },
        {
         "hoverinfo": "text",
         "lat": [
          7,
          46
         ],
         "line": {
          "color": "red",
          "width": 1.6812359947967777
         },
         "lon": [
          81,
          2
         ],
         "mode": "lines+markers",
         "name": "",
         "opacity": 0.509195575471387,
         "text": "Sri Lanka<br># products: 20",
         "type": "scattergeo",
         "uid": "401a3799-2288-411c-b3c7-ede415ffa975"
        },
        {
         "hoverinfo": "text",
         "lat": [
          53,
          46
         ],
         "line": {
          "color": "red",
          "width": 2.1038550165304124
         },
         "lon": [
          -8,
          2
         ],
         "mode": "lines+markers",
         "name": "",
         "opacity": 0.6199628357573373,
         "text": "Ireland<br># products: 45",
         "type": "scattergeo",
         "uid": "201d0ac6-9615-464b-83f3-9adcf97104c9"
        },
        {
         "hoverinfo": "text",
         "lat": [
          62,
          46
         ],
         "line": {
          "color": "red",
          "width": 1.5313095108668178
         },
         "lon": [
          -7,
          2
         ],
         "mode": "lines+markers",
         "name": "",
         "opacity": 0.4699002645289133,
         "text": "Faroe Islands<br># products: 15",
         "type": "scattergeo",
         "uid": "57fff012-251a-4c45-ab58-941d02e4e372"
        },
        {
         "hoverinfo": "text",
         "lat": [
          -21.5,
          46
         ],
         "line": {
          "color": "red",
          "width": 0.12
         },
         "lon": [
          165.5,
          2
         ],
         "mode": "lines+markers",
         "name": "",
         "opacity": 0.1,
         "text": "New Caledonia<br># products: 1",
         "type": "scattergeo",
         "uid": "ba852759-ab17-4b91-af20-5736f26a4314"
        },
        {
         "hoverinfo": "text",
         "lat": [
          15,
          46
         ],
         "line": {
          "color": "red",
          "width": 0.12
         },
         "lon": [
          30,
          2
         ],
         "mode": "lines+markers",
         "name": "",
         "opacity": 0.1,
         "text": "Sudan<br># products: 1",
         "type": "scattergeo",
         "uid": "64dfad28-4e67-4e42-a551-aa407519ae8c"
        },
        {
         "hoverinfo": "text",
         "lat": [
          56,
          46
         ],
         "line": {
          "color": "red",
          "width": 1.2650910113271898
         },
         "lon": [
          10,
          2
         ],
         "mode": "lines+markers",
         "name": "",
         "opacity": 0.40012514245684816,
         "text": "Denmark<br># products: 9",
         "type": "scattergeo",
         "uid": "e772203e-d18f-4190-8153-db7b789c6f5f"
        },
        {
         "hoverinfo": "text",
         "lat": [
          -23,
          46
         ],
         "line": {
          "color": "red",
          "width": 1.5649439791871098
         },
         "lon": [
          -58,
          2
         ],
         "mode": "lines+markers",
         "name": "",
         "opacity": 0.47871576434179564,
         "text": "Paraguay<br># products: 16",
         "type": "scattergeo",
         "uid": "3a1011f7-b4b4-458d-9f93-948f43143080"
        },
        {
         "hoverinfo": "text",
         "lat": [
          11,
          46
         ],
         "line": {
          "color": "red",
          "width": 0.12
         },
         "lon": [
          -61,
          2
         ],
         "mode": "lines+markers",
         "name": "",
         "opacity": 0.1,
         "text": "Trinidad and Tobago<br># products: 1",
         "type": "scattergeo",
         "uid": "914966cf-c521-4f3d-9f20-1645c52b414f"
        },
        {
         "hoverinfo": "text",
         "lat": [
          11,
          46
         ],
         "line": {
          "color": "red",
          "width": 1.32
         },
         "lon": [
          -10,
          2
         ],
         "mode": "lines+markers",
         "name": "",
         "opacity": 0.4145166343859381,
         "text": "Guinea<br># products: 10",
         "type": "scattergeo",
         "uid": "44e04a90-372b-428d-a651-39c2bb2506f5"
        },
        {
         "hoverinfo": "text",
         "lat": [
          49,
          46
         ],
         "line": {
          "color": "red",
          "width": 0.12
         },
         "lon": [
          32,
          2
         ],
         "mode": "lines+markers",
         "name": "",
         "opacity": 0.1,
         "text": "Ukraine<br># products: 1",
         "type": "scattergeo",
         "uid": "2cd42893-305c-4ad5-a753-c1e6d2ed57b2"
        },
        {
         "hoverinfo": "text",
         "lat": [
          36,
          46
         ],
         "line": {
          "color": "red",
          "width": 1.0537815004603723
         },
         "lon": [
          138,
          2
         ],
         "mode": "lines+markers",
         "name": "",
         "opacity": 0.344741512313873,
         "text": "Japan<br># products: 6",
         "type": "scattergeo",
         "uid": "677f58f9-238b-4c47-b7f5-589465c77494"
        },
        {
         "hoverinfo": "text",
         "lat": [
          22.267,
          46
         ],
         "line": {
          "color": "red",
          "width": 0.12
         },
         "lon": [
          114.188,
          2
         ],
         "mode": "lines+markers",
         "name": "",
         "opacity": 0.1,
         "text": "Hong Kong<br># products: 1",
         "type": "scattergeo",
         "uid": "f1a1904e-2982-4118-b1b9-26ac8e5059a8"
        },
        {
         "hoverinfo": "text",
         "lat": [
          14.666667,
          46
         ],
         "line": {
          "color": "red",
          "width": 0.12
         },
         "lon": [
          -61,
          2
         ],
         "mode": "lines+markers",
         "name": "",
         "opacity": 0.1,
         "text": "Martinique<br># products: 1",
         "type": "scattergeo",
         "uid": "2d925cdd-bace-456b-b371-a2a8e73592e2"
        },
        {
         "hoverinfo": "text",
         "lat": [
          38,
          46
         ],
         "line": {
          "color": "red",
          "width": 2.126517429522861
         },
         "lon": [
          -97,
          2
         ],
         "mode": "lines+markers",
         "name": "",
         "opacity": 0.6259025906418783,
         "text": "United States<br># products: 47",
         "type": "scattergeo",
         "uid": "d20169ea-dd65-45dc-a89a-3e74f76db16a"
        },
        {
         "hoverinfo": "text",
         "lat": [
          1.36666666,
          46
         ],
         "line": {
          "color": "red",
          "width": 0.8424719895935548
         },
         "lon": [
          103.8,
          2
         ],
         "mode": "lines+markers",
         "name": "",
         "opacity": 0.2893578821708978,
         "text": "Singapore<br># products: 4",
         "type": "scattergeo",
         "uid": "7528ae0d-4008-4c38-93a5-684acd80aa7d"
        },
        {
         "hoverinfo": "text",
         "lat": [
          -5,
          46
         ],
         "line": {
          "color": "red",
          "width": 1.6812359947967777
         },
         "lon": [
          120,
          2
         ],
         "mode": "lines+markers",
         "name": "",
         "opacity": 0.509195575471387,
         "text": "Indonesia<br># products: 20",
         "type": "scattergeo",
         "uid": "33d3f876-ca5f-4ff9-a2fb-653617e7b769"
        },
        {
         "hoverinfo": "text",
         "lat": [
          50.83333333,
          46
         ],
         "line": {
          "color": "red",
          "width": 2.2361135922755246
         },
         "lon": [
          4,
          2
         ],
         "mode": "lines+markers",
         "name": "",
         "opacity": 0.6546274375173626,
         "text": "Belgium<br># products: 58",
         "type": "scattergeo",
         "uid": "3cdb5537-8e67-440a-bafd-5a7d3ae122a8"
        },
        {
         "hoverinfo": "text",
         "lat": [
          13.83333333,
          46
         ],
         "line": {
          "color": "red",
          "width": 0.4812359947967775
         },
         "lon": [
          -88.91666666,
          2
         ],
         "mode": "lines+markers",
         "name": "",
         "opacity": 0.19467894108544892,
         "text": "El Salvador<br># products: 2",
         "type": "scattergeo",
         "uid": "8ccb953d-d349-4138-b96d-6bcb21fc1347"
        },
        {
         "hoverinfo": "text",
         "lat": [
          19,
          46
         ],
         "line": {
          "color": "red",
          "width": 1.942216727853465
         },
         "lon": [
          -70.66666666,
          2
         ],
         "mode": "lines+markers",
         "name": "",
         "opacity": 0.5775978936385239,
         "text": "Dominican Republic<br># products: 33",
         "type": "scattergeo",
         "uid": "ca499592-6234-42be-aed1-95dcdd966dc9"
        },
        {
         "hoverinfo": "text",
         "lat": [
          32,
          46
         ],
         "line": {
          "color": "red",
          "width": 1.856589637610663
         },
         "lon": [
          -5,
          2
         ],
         "mode": "lines+markers",
         "name": "",
         "opacity": 0.5551552734423347,
         "text": "Morocco<br># products: 28",
         "type": "scattergeo",
         "uid": "b46d0f3c-9a8a-473c-8abe-baeab8f6bf8f"
        },
        {
         "hoverinfo": "text",
         "lat": [
          1,
          46
         ],
         "line": {
          "color": "red",
          "width": 0.8424719895935548
         },
         "lon": [
          7,
          2
         ],
         "mode": "lines+markers",
         "name": "",
         "opacity": 0.2893578821708978,
         "text": "São Tomé and Príncipe<br># products: 4",
         "type": "scattergeo",
         "uid": "90c1a6fd-2dca-4833-9848-d7477a834995"
        },
        {
         "hoverinfo": "text",
         "lat": [
          37,
          46
         ],
         "line": {
          "color": "red",
          "width": 0.9587640052032226
         },
         "lon": [
          127.5,
          2
         ],
         "mode": "lines+markers",
         "name": "",
         "opacity": 0.31983769330048917,
         "text": "South Korea<br># products: 5",
         "type": "scattergeo",
         "uid": "30fb4940-5866-46ed-b66f-afd8871bfc26"
        },
        {
         "hoverinfo": "text",
         "lat": [
          5,
          46
         ],
         "line": {
          "color": "red",
          "width": 0.12
         },
         "lon": [
          -59,
          2
         ],
         "mode": "lines+markers",
         "name": "",
         "opacity": 0.1,
         "text": "Guyana<br># products: 1",
         "type": "scattergeo",
         "uid": "77ed06c7-55a1-4af7-b352-2595c6bbcd60"
        },
        {
         "hoverinfo": "text",
         "lat": [
          -6,
          46
         ],
         "line": {
          "color": "red",
          "width": 0.692545505663595
         },
         "lon": [
          35,
          2
         ],
         "mode": "lines+markers",
         "name": "",
         "opacity": 0.2500625712284241,
         "text": "Tanzania<br># products: 3",
         "type": "scattergeo",
         "uid": "65f4cf51-826e-4880-b03c-8e4db8f5dfe0"
        },
        {
         "hoverinfo": "text",
         "lat": [
          54,
          46
         ],
         "line": {
          "color": "red",
          "width": 3.0433951764489073
         },
         "lon": [
          -2,
          2
         ],
         "mode": "lines+markers",
         "name": "",
         "opacity": 0.8662136765639965,
         "text": "United Kingdom<br># products: 273",
         "type": "scattergeo",
         "uid": "a7883afe-1db3-4ee6-b534-9113f9c90ae9"
        },
        {
         "hoverinfo": "text",
         "lat": [
          60,
          46
         ],
         "line": {
          "color": "red",
          "width": 1.837636516990785
         },
         "lon": [
          -95,
          2
         ],
         "mode": "lines+markers",
         "name": "",
         "opacity": 0.5501877136852723,
         "text": "Canada<br># products: 27",
         "type": "scattergeo",
         "uid": "694877ee-7743-4379-838f-06ba65275e99"
        },
        {
         "hoverinfo": "text",
         "lat": [
          22,
          46
         ],
         "line": {
          "color": "red",
          "width": 0.12
         },
         "lon": [
          98,
          2
         ],
         "mode": "lines+markers",
         "name": "",
         "opacity": 0.1,
         "text": "Myanmar<br># products: 1",
         "type": "scattergeo",
         "uid": "9840be55-c62c-46e7-a355-ee4824a8c82a"
        },
        {
         "hoverinfo": "text",
         "lat": [
          13,
          46
         ],
         "line": {
          "color": "red",
          "width": 0.9587640052032226
         },
         "lon": [
          122,
          2
         ],
         "mode": "lines+markers",
         "name": "",
         "opacity": 0.31983769330048917,
         "text": "Philippines<br># products: 5",
         "type": "scattergeo",
         "uid": "5cef039a-09ee-47d8-838c-78ff66de8df6"
        },
        {
         "hoverinfo": "text",
         "lat": [
          62,
          46
         ],
         "line": {
          "color": "red",
          "width": 1.0537815004603723
         },
         "lon": [
          15,
          2
         ],
         "mode": "lines+markers",
         "name": "",
         "opacity": 0.344741512313873,
         "text": "Sweden<br># products: 6",
         "type": "scattergeo",
         "uid": "dae84ad0-6cce-49e0-8b5b-8ec034fbf7fe"
        },
        {
         "hoverinfo": "text",
         "lat": [
          46,
          46
         ],
         "line": {
          "color": "red",
          "width": 0.8424719895935548
         },
         "lon": [
          25,
          2
         ],
         "mode": "lines+markers",
         "name": "",
         "opacity": 0.2893578821708978,
         "text": "Romania<br># products: 4",
         "type": "scattergeo",
         "uid": "6ce08289-fa60-443b-bd6c-a520ba2fac6c"
        },
        {
         "hoverinfo": "text",
         "lat": [
          10,
          46
         ],
         "line": {
          "color": "red",
          "width": 1.2650910113271898
         },
         "lon": [
          -84,
          2
         ],
         "mode": "lines+markers",
         "name": "",
         "opacity": 0.40012514245684816,
         "text": "Costa Rica<br># products: 9",
         "type": "scattergeo",
         "uid": "814e16f5-2923-40ba-ad78-29c825fe86c1"
        },
        {
         "hoverinfo": "text",
         "lat": [
          -2,
          46
         ],
         "line": {
          "color": "red",
          "width": 1.7975280104064453
         },
         "lon": [
          -77.5,
          2
         ],
         "mode": "lines+markers",
         "name": "",
         "opacity": 0.5396753866009784,
         "text": "Ecuador<br># products: 25",
         "type": "scattergeo",
         "uid": "75736f66-5117-4e80-9362-b61f07acb2a8"
        },
        {
         "hoverinfo": "text",
         "lat": [
          32,
          46
         ],
         "line": {
          "color": "red",
          "width": 0.9587640052032226
         },
         "lon": [
          53,
          2
         ],
         "mode": "lines+markers",
         "name": "",
         "opacity": 0.31983769330048917,
         "text": "Iran<br># products: 5",
         "type": "scattergeo",
         "uid": "52833cb7-f76e-4d5d-8bde-0fd058f3d15d"
        },
        {
         "hoverinfo": "text",
         "lat": [
          -10,
          46
         ],
         "line": {
          "color": "red",
          "width": 2.601823034095394
         },
         "lon": [
          -76,
          2
         ],
         "mode": "lines+markers",
         "name": "",
         "opacity": 0.7504788565209837,
         "text": "Peru<br># products: 117",
         "type": "scattergeo",
         "uid": "44cdd271-a226-485a-b89e-d16e4d6e8d9f"
        },
        {
         "hoverinfo": "text",
         "lat": [
          28,
          46
         ],
         "line": {
          "color": "red",
          "width": 1.2037079843903322
         },
         "lon": [
          3,
          2
         ],
         "mode": "lines+markers",
         "name": "",
         "opacity": 0.3840368232563467,
         "text": "Algeria<br># products: 8",
         "type": "scattergeo",
         "uid": "90ffdd45-25e0-4373-9b99-6906b510e450"
        },
        {
         "hoverinfo": "text",
         "lat": [
          8,
          46
         ],
         "line": {
          "color": "red",
          "width": 0.12
         },
         "lon": [
          1.16666666,
          2
         ],
         "mode": "lines+markers",
         "name": "",
         "opacity": 0.1,
         "text": "Togo<br># products: 1",
         "type": "scattergeo",
         "uid": "1d7f0cb8-e720-4a7a-86d4-9c4c9a14e1b0"
        },
        {
         "hoverinfo": "text",
         "lat": [
          -3.5,
          46
         ],
         "line": {
          "color": "red",
          "width": 0.12
         },
         "lon": [
          30,
          2
         ],
         "mode": "lines+markers",
         "name": "",
         "opacity": 0.1,
         "text": "Burundi<br># products: 1",
         "type": "scattergeo",
         "uid": "eff25773-b7eb-4fcb-8c8b-03da0a3fd658"
        },
        {
         "hoverinfo": "text",
         "lat": [
          16.16666666,
          46
         ],
         "line": {
          "color": "red",
          "width": 2.1482352960342164
         },
         "lon": [
          107.83333333,
          2
         ],
         "mode": "lines+markers",
         "name": "",
         "opacity": 0.6315947825428737,
         "text": "Vietnam<br># products: 49",
         "type": "scattergeo",
         "uid": "1c5dcd23-286c-437b-9920-4ff63fd97297"
        },
        {
         "hoverinfo": "text",
         "lat": [
          35,
          46
         ],
         "line": {
          "color": "red",
          "width": 2.042471989593555
         },
         "lon": [
          105,
          2
         ],
         "mode": "lines+markers",
         "name": "",
         "opacity": 0.6038745165568359,
         "text": "China<br># products: 40",
         "type": "scattergeo",
         "uid": "bbb2553d-86d0-4da3-b27f-614a90053a9d"
        },
        {
         "hoverinfo": "text",
         "lat": [
          -33,
          46
         ],
         "line": {
          "color": "red",
          "width": 1.6263270061239672
         },
         "lon": [
          -56,
          2
         ],
         "mode": "lines+markers",
         "name": "",
         "opacity": 0.4948040835422971,
         "text": "Uruguay<br># products: 18",
         "type": "scattergeo",
         "uid": "5fd44554-71e6-43aa-958f-f6dfc3dfbdb9"
        },
        {
         "hoverinfo": "text",
         "lat": [
          42.83333333,
          46
         ],
         "line": {
          "color": "red",
          "width": 3.140635077539969
         },
         "lon": [
          12.83333333,
          2
         ],
         "mode": "lines+markers",
         "name": "",
         "opacity": 0.8916999819133152,
         "text": "Italy<br># products: 329",
         "type": "scattergeo",
         "uid": "e74f21cd-3e1e-407a-b8f3-85ae5d2bba46"
        },
        {
         "hoverinfo": "text",
         "lat": [
          -29,
          46
         ],
         "line": {
          "color": "red",
          "width": 1.9728816532203308
         },
         "lon": [
          24,
          2
         ],
         "mode": "lines+markers",
         "name": "",
         "opacity": 0.585635084571926,
         "text": "South Africa<br># products: 35",
         "type": "scattergeo",
         "uid": "671650de-b02f-4a38-8ff8-ab797af5e9db"
        },
        {
         "hoverinfo": "text",
         "lat": [
          -27,
          46
         ],
         "line": {
          "color": "red",
          "width": 0.8424719895935548
         },
         "lon": [
          133,
          2
         ],
         "mode": "lines+markers",
         "name": "",
         "opacity": 0.2893578821708978,
         "text": "Australia<br># products: 4",
         "type": "scattergeo",
         "uid": "138b2fbd-d74a-4371-8122-b3c956e59877"
        },
        {
         "hoverinfo": "text",
         "lat": [
          1,
          46
         ],
         "line": {
          "color": "red",
          "width": 1.0537815004603723
         },
         "lon": [
          38,
          2
         ],
         "mode": "lines+markers",
         "name": "",
         "opacity": 0.344741512313873,
         "text": "Kenya<br># products: 6",
         "type": "scattergeo",
         "uid": "a7c1bb81-39e4-4944-ae47-53de32b82c14"
        },
        {
         "hoverinfo": "text",
         "lat": [
          -41,
          46
         ],
         "line": {
          "color": "red",
          "width": 1.4567320227682041
         },
         "lon": [
          174,
          2
         ],
         "mode": "lines+markers",
         "name": "",
         "opacity": 0.4503537140641356,
         "text": "New Zealand<br># products: 13",
         "type": "scattergeo",
         "uid": "a5c46ac8-33ad-4144-92ae-3606b5404cf1"
        },
        {
         "hoverinfo": "text",
         "lat": [
          0,
          46
         ],
         "line": {
          "color": "red",
          "width": 0.4812359947967775
         },
         "lon": [
          25,
          2
         ],
         "mode": "lines+markers",
         "name": "",
         "opacity": 0.19467894108544892,
         "text": "DR Congo<br># products: 2",
         "type": "scattergeo",
         "uid": "2a3b43ed-a9be-492c-a551-4f1625fe73e0"
        },
        {
         "hoverinfo": "text",
         "lat": [
          -21.15,
          46
         ],
         "line": {
          "color": "red",
          "width": 1.2037079843903322
         },
         "lon": [
          55.5,
          2
         ],
         "mode": "lines+markers",
         "name": "",
         "opacity": 0.3840368232563467,
         "text": "Réunion<br># products: 8",
         "type": "scattergeo",
         "uid": "b5453cd9-ed99-4e9e-a76f-f83d531a395b"
        },
        {
         "hoverinfo": "text",
         "lat": [
          4,
          46
         ],
         "line": {
          "color": "red",
          "width": 0.12
         },
         "lon": [
          -53,
          2
         ],
         "mode": "lines+markers",
         "name": "",
         "opacity": 0.1,
         "text": "French Guiana<br># products: 1",
         "type": "scattergeo",
         "uid": "66728214-cae8-457e-8da4-acfbf96c04c2"
        },
        {
         "hoverinfo": "text",
         "lat": [
          23.5,
          46
         ],
         "line": {
          "color": "red",
          "width": 0.4812359947967775
         },
         "lon": [
          121,
          2
         ],
         "mode": "lines+markers",
         "name": "",
         "opacity": 0.19467894108544892,
         "text": "Taiwan<br># products: 2",
         "type": "scattergeo",
         "uid": "3ebdbdd0-8c83-44c4-8b54-317442cc7b6a"
        },
        {
         "hoverinfo": "text",
         "lat": [
          2.5,
          46
         ],
         "line": {
          "color": "red",
          "width": 0.9587640052032226
         },
         "lon": [
          112.5,
          2
         ],
         "mode": "lines+markers",
         "name": "",
         "opacity": 0.31983769330048917,
         "text": "Malaysia<br># products: 5",
         "type": "scattergeo",
         "uid": "3649a454-793f-451f-8723-b13edf17f088"
        },
        {
         "hoverinfo": "text",
         "lat": [
          31.47,
          46
         ],
         "line": {
          "color": "red",
          "width": 0.692545505663595
         },
         "lon": [
          35.13,
          2
         ],
         "mode": "lines+markers",
         "name": "",
         "opacity": 0.2500625712284241,
         "text": "Israel<br># products: 3",
         "type": "scattergeo",
         "uid": "39a365da-de77-4cb6-8f6d-2493c72d9648"
        },
        {
         "hoverinfo": "text",
         "lat": [
          46,
          46
         ],
         "line": {
          "color": "red",
          "width": 4.698454181959102
         },
         "lon": [
          2,
          2
         ],
         "mode": "lines+markers",
         "name": "",
         "opacity": 1,
         "text": "France<br># products: 6537",
         "type": "scattergeo",
         "uid": "cc7fc43e-993f-4f0a-9a80-d31226923878"
        },
        {
         "hoverinfo": "text",
         "lat": [
          39.5,
          46
         ],
         "line": {
          "color": "red",
          "width": 1.6545043211433947
         },
         "lon": [
          -8,
          2
         ],
         "mode": "lines+markers",
         "name": "",
         "opacity": 0.5021892787805826,
         "text": "Portugal<br># products: 19",
         "type": "scattergeo",
         "uid": "b9765910-2b59-433e-8bad-8121e8ccbd8d"
        },
        {
         "hoverinfo": "text",
         "lat": [
          8,
          46
         ],
         "line": {
          "color": "red",
          "width": 0.4812359947967775
         },
         "lon": [
          38,
          2
         ],
         "mode": "lines+markers",
         "name": "",
         "opacity": 0.19467894108544892,
         "text": "Ethiopia<br># products: 2",
         "type": "scattergeo",
         "uid": "68a3f1f6-da29-4fb0-a772-25572290fee5"
        },
        {
         "hoverinfo": "text",
         "lat": [
          44,
          46
         ],
         "line": {
          "color": "red",
          "width": 0.12
         },
         "lon": [
          21,
          2
         ],
         "mode": "lines+markers",
         "name": "",
         "opacity": 0.1,
         "text": "Serbia<br># products: 1",
         "type": "scattergeo",
         "uid": "5d0ff2a6-e46a-4dc2-b823-c8e13b29b52c"
        },
        {
         "hoverinfo": "text",
         "lat": [
          -4.58333333,
          46
         ],
         "line": {
          "color": "red",
          "width": 0.4812359947967775
         },
         "lon": [
          55.66666666,
          2
         ],
         "mode": "lines+markers",
         "name": "",
         "opacity": 0.19467894108544892,
         "text": "Seychelles<br># products: 2",
         "type": "scattergeo",
         "uid": "83e547fd-7dcb-4107-abec-8719f8d0416a"
        },
        {
         "hoverinfo": "text",
         "lat": [
          18.25,
          46
         ],
         "line": {
          "color": "red",
          "width": 0.12
         },
         "lon": [
          -77.5,
          2
         ],
         "mode": "lines+markers",
         "name": "",
         "opacity": 0.1,
         "text": "Jamaica<br># products: 1",
         "type": "scattergeo",
         "uid": "1021a077-76ad-4833-8d1e-753bb5f3aef9"
        },
        {
         "hoverinfo": "text",
         "lat": [
          19.3,
          46
         ],
         "line": {
          "color": "red",
          "width": 0.8424719895935548
         },
         "lon": [
          166.633333,
          2
         ],
         "mode": "lines+markers",
         "name": "",
         "opacity": 0.2893578821708978,
         "text": "United States Minor Outlying Islands<br># products: 4",
         "type": "scattergeo",
         "uid": "55473816-c5fb-4336-a4af-159e16503a92"
        },
        {
         "hoverinfo": "text",
         "lat": [
          -17,
          46
         ],
         "line": {
          "color": "red",
          "width": 1.8179680175649815
         },
         "lon": [
          -65,
          2
         ],
         "mode": "lines+markers",
         "name": "",
         "opacity": 0.5450326551495844,
         "text": "Bolivia<br># products: 26",
         "type": "scattergeo",
         "uid": "ac255d11-29fc-4e0d-8ab5-79cab939be2d"
        },
        {
         "hoverinfo": "text",
         "lat": [
          -13.58333333,
          46
         ],
         "line": {
          "color": "red",
          "width": 0.4812359947967775
         },
         "lon": [
          -172.33333333,
          2
         ],
         "mode": "lines+markers",
         "name": "",
         "opacity": 0.19467894108544892,
         "text": "Samoa<br># products: 2",
         "type": "scattergeo",
         "uid": "39df9f49-1611-4b2d-82c2-f0ab446c64a5"
        },
        {
         "hoverinfo": "text",
         "lat": [
          72,
          46
         ],
         "line": {
          "color": "red",
          "width": 0.4812359947967775
         },
         "lon": [
          -40,
          2
         ],
         "mode": "lines+markers",
         "name": "",
         "opacity": 0.19467894108544892,
         "text": "Greenland<br># products: 2",
         "type": "scattergeo",
         "uid": "537460ab-a3ab-45ed-ac2e-55f6900e2d38"
        },
        {
         "hoverinfo": "text",
         "lat": [
          47,
          46
         ],
         "line": {
          "color": "red",
          "width": 0.12
         },
         "lon": [
          29,
          2
         ],
         "mode": "lines+markers",
         "name": "",
         "opacity": 0.1,
         "text": "Moldova<br># products: 1",
         "type": "scattergeo",
         "uid": "7da8c5c4-db94-478e-bc63-8d27eb93a82c"
        },
        {
         "hoverinfo": "text",
         "lat": [
          6,
          46
         ],
         "line": {
          "color": "red",
          "width": 0.692545505663595
         },
         "lon": [
          12,
          2
         ],
         "mode": "lines+markers",
         "name": "",
         "opacity": 0.2500625712284241,
         "text": "Cameroon<br># products: 3",
         "type": "scattergeo",
         "uid": "b7d1604e-1222-4cfe-b03f-ad7e6cb70b66"
        },
        {
         "hoverinfo": "text",
         "lat": [
          15,
          46
         ],
         "line": {
          "color": "red",
          "width": 2.1988725117875623
         },
         "lon": [
          100,
          2
         ],
         "mode": "lines+markers",
         "name": "",
         "opacity": 0.6448666547707211,
         "text": "Thailand<br># products: 54",
         "type": "scattergeo",
         "uid": "afe6972a-ef29-4348-806d-3f00ab42faa5"
        },
        {
         "hoverinfo": "text",
         "lat": [
          65,
          46
         ],
         "line": {
          "color": "red",
          "width": 1.7066631536807033
         },
         "lon": [
          -18,
          2
         ],
         "mode": "lines+markers",
         "name": "",
         "opacity": 0.515859962499861,
         "text": "Iceland<br># products: 21",
         "type": "scattergeo",
         "uid": "a3957aa3-8bdb-426f-9fd6-704ca79df775"
        },
        {
         "hoverinfo": "text",
         "lat": [
          8,
          46
         ],
         "line": {
          "color": "red",
          "width": 1.36967122218987
         },
         "lon": [
          -5,
          2
         ],
         "mode": "lines+markers",
         "name": "",
         "opacity": 0.4275353224100997,
         "text": "Ivory Coast<br># products: 11",
         "type": "scattergeo",
         "uid": "383cb223-0105-4fca-b2f3-e55745eddb1e"
        },
        {
         "hoverinfo": "text",
         "lat": [
          23,
          46
         ],
         "line": {
          "color": "red",
          "width": 1.837636516990785
         },
         "lon": [
          -102,
          2
         ],
         "mode": "lines+markers",
         "name": "",
         "opacity": 0.5501877136852723,
         "text": "Mexico<br># products: 27",
         "type": "scattergeo",
         "uid": "827fdc76-b5ca-4a7f-89b6-42899e952776"
        },
        {
         "hoverinfo": "text",
         "lat": [
          30,
          46
         ],
         "line": {
          "color": "red",
          "width": 1.2037079843903322
         },
         "lon": [
          70,
          2
         ],
         "mode": "lines+markers",
         "name": "",
         "opacity": 0.3840368232563467,
         "text": "Pakistan<br># products: 8",
         "type": "scattergeo",
         "uid": "2a7e14f9-9d55-4322-a32b-730353c72683"
        },
        {
         "hoverinfo": "text",
         "lat": [
          4,
          46
         ],
         "line": {
          "color": "red",
          "width": 0.692545505663595
         },
         "lon": [
          -72,
          2
         ],
         "mode": "lines+markers",
         "name": "",
         "opacity": 0.2500625712284241,
         "text": "Colombia<br># products: 3",
         "type": "scattergeo",
         "uid": "5477faf2-ca81-4ccc-8a17-d2468348cb79"
        },
        {
         "hoverinfo": "text",
         "lat": [
          35,
          46
         ],
         "line": {
          "color": "red",
          "width": 0.4812359947967775
         },
         "lon": [
          33,
          2
         ],
         "mode": "lines+markers",
         "name": "",
         "opacity": 0.19467894108544892,
         "text": "Cyprus<br># products: 2",
         "type": "scattergeo",
         "uid": "f0ff59c5-55e5-4580-a4f1-189fc4315462"
        },
        {
         "hoverinfo": "text",
         "lat": [
          18,
          46
         ],
         "line": {
          "color": "red",
          "width": 0.692545505663595
         },
         "lon": [
          105,
          2
         ],
         "mode": "lines+markers",
         "name": "",
         "opacity": 0.2500625712284241,
         "text": "Laos<br># products: 3",
         "type": "scattergeo",
         "uid": "67b19dbd-f88e-4966-a291-4f0de53ed971"
        },
        {
         "hoverinfo": "text",
         "lat": [
          16.25,
          46
         ],
         "line": {
          "color": "red",
          "width": 0.12
         },
         "lon": [
          -61.583333,
          2
         ],
         "mode": "lines+markers",
         "name": "",
         "opacity": 0.1,
         "text": "Guadeloupe<br># products: 1",
         "type": "scattergeo",
         "uid": "4c883155-cd21-4d1a-bffc-a096bedc753c"
        },
        {
         "hoverinfo": "text",
         "lat": [
          8,
          46
         ],
         "line": {
          "color": "red",
          "width": 0.12
         },
         "lon": [
          -2,
          2
         ],
         "mode": "lines+markers",
         "name": "",
         "opacity": 0.1,
         "text": "Ghana<br># products: 1",
         "type": "scattergeo",
         "uid": "52acf618-b7c7-49d5-a4d5-b228db0dc20d"
        },
        {
         "hoverinfo": "text",
         "lat": [
          47,
          46
         ],
         "line": {
          "color": "red",
          "width": 0.8424719895935548
         },
         "lon": [
          20,
          2
         ],
         "mode": "lines+markers",
         "name": "",
         "opacity": 0.2893578821708978,
         "text": "Hungary<br># products: 4",
         "type": "scattergeo",
         "uid": "bba0df17-9bf4-402c-a2e1-d571df38a32b"
        },
        {
         "hoverinfo": "text",
         "lat": [
          53,
          46
         ],
         "line": {
          "color": "red",
          "width": 0.12
         },
         "lon": [
          28,
          2
         ],
         "mode": "lines+markers",
         "name": "",
         "opacity": 0.1,
         "text": "Belarus<br># products: 1",
         "type": "scattergeo",
         "uid": "88e1f5ed-1fd6-445a-9714-b909140f4d65"
        },
        {
         "hoverinfo": "text",
         "lat": [
          56,
          46
         ],
         "line": {
          "color": "red",
          "width": 0.8424719895935548
         },
         "lon": [
          24,
          2
         ],
         "mode": "lines+markers",
         "name": "",
         "opacity": 0.2893578821708978,
         "text": "Lithuania<br># products: 4",
         "type": "scattergeo",
         "uid": "efe7c23b-2e8d-4999-9ea0-777ce8e00a30"
        },
        {
         "hoverinfo": "text",
         "lat": [
          39,
          46
         ],
         "line": {
          "color": "red",
          "width": 2.0292775284317988
         },
         "lon": [
          35,
          2
         ],
         "mode": "lines+markers",
         "name": "",
         "opacity": 0.6004162852925596,
         "text": "Turkey<br># products: 39",
         "type": "scattergeo",
         "uid": "ac7dc665-b51e-40ab-b5ef-5eaab4d44c1d"
        },
        {
         "hoverinfo": "text",
         "lat": [
          51,
          46
         ],
         "line": {
          "color": "red",
          "width": 2.4228937108512887
         },
         "lon": [
          9,
          2
         ],
         "mode": "lines+markers",
         "name": "",
         "opacity": 0.7035819827379092,
         "text": "Germany<br># products: 83",
         "type": "scattergeo",
         "uid": "274ec60d-43e8-4862-948a-1cca6b40f035"
        },
        {
         "hoverinfo": "text",
         "lat": [
          -20,
          46
         ],
         "line": {
          "color": "red",
          "width": 1.9875630009207448
         },
         "lon": [
          47,
          2
         ],
         "mode": "lines+markers",
         "name": "",
         "opacity": 0.589483024627746,
         "text": "Madagascar<br># products: 36",
         "type": "scattergeo",
         "uid": "248bbdeb-0423-4a86-a767-63559b22d139"
        },
        {
         "hoverinfo": "text",
         "lat": [
          15,
          46
         ],
         "line": {
          "color": "red",
          "width": 0.8424719895935548
         },
         "lon": [
          -86.5,
          2
         ],
         "mode": "lines+markers",
         "name": "",
         "opacity": 0.2893578821708978,
         "text": "Honduras<br># products: 4",
         "type": "scattergeo",
         "uid": "e2ca7037-91c9-43f4-a1b6-cebc8ec8b7da"
        },
        {
         "hoverinfo": "text",
         "lat": [
          52,
          46
         ],
         "line": {
          "color": "red",
          "width": 1.7975280104064453
         },
         "lon": [
          20,
          2
         ],
         "mode": "lines+markers",
         "name": "",
         "opacity": 0.5396753866009784,
         "text": "Poland<br># products: 25",
         "type": "scattergeo",
         "uid": "722b8887-78a4-4979-8151-2efa1bd6875f"
        },
        {
         "hoverinfo": "text",
         "lat": [
          15.5,
          46
         ],
         "line": {
          "color": "red",
          "width": 0.9587640052032226
         },
         "lon": [
          -90.25,
          2
         ],
         "mode": "lines+markers",
         "name": "",
         "opacity": 0.31983769330048917,
         "text": "Guatemala<br># products: 5",
         "type": "scattergeo",
         "uid": "0c717730-5339-41bb-8465-95aa1bac55d1"
        }
       ],
       "layout": {
        "geo": {
         "coastlinecolor": "rgb(255, 255, 255)",
         "countrycolor": "rgb(255, 255, 255)",
         "landcolor": "rgb(229, 229, 229)",
         "projection": {
          "type": "equirectangular"
         },
         "showcoastlines": true,
         "showframe": false,
         "showland": true
        },
        "margin": {
         "b": 0,
         "l": 50,
         "pad": 4,
         "r": 100,
         "t": 0
        },
        "showlegend": false,
        "xaxis": {
         "fixedrange": true
        },
        "yaxis": {
         "fixedrange": true
        }
       }
      },
      "text/html": [
       "<div id=\"4c0d9068-7ad5-436e-aa73-2efcca1bfe14\" style=\"height: 525px; width: 100%;\" class=\"plotly-graph-div\"></div><script type=\"text/javascript\">require([\"plotly\"], function(Plotly) { window.PLOTLYENV=window.PLOTLYENV || {};window.PLOTLYENV.BASE_URL=\"https://plot.ly\";Plotly.newPlot(\"4c0d9068-7ad5-436e-aa73-2efcca1bfe14\", [{\"autocolorscale\": false, \"colorbar\": {\"len\": 0.7, \"tick0\": 1, \"tickmode\": \"array\", \"ticktext\": [\"1\", \"10<sup>1/2</sup>\", \"10<sup>1</sup>\", \"10<sup>3/2</sup>\", \"10<sup>2</sup>\", \"10<sup>5/2</sup>\", \"10<sup>3</sup>\", \"10<sup>3/2</sup>\", \"10<sup>4</sup>\"], \"tickvals\": [0, 0.5, 1, 1.5, 2, 2.5, 3, 3.5, 4], \"title\": \"Counts\"}, \"colorscale\": \"Viridis\", \"hoverinfo\": \"text\", \"locations\": [\"NER\", \"AUT\", \"CHL\", \"NOR\", \"BRA\", \"ESP\", \"NIC\", \"PNG\", \"NLD\", \"EGY\", \"BFA\", \"CHE\", \"BGR\", \"BGD\", \"CUB\", \"SYR\", \"ARG\", \"TUN\", \"GRC\", \"HTI\", \"IOT\", \"LSO\", \"RUS\", \"VEN\", \"LKA\", \"IRL\", \"FRO\", \"NCL\", \"SDN\", \"DNK\", \"PRY\", \"TTO\", \"GIN\", \"UKR\", \"JPN\", \"HKG\", \"MTQ\", \"USA\", \"SGP\", \"IDN\", \"BEL\", \"SLV\", \"DOM\", \"MAR\", \"STP\", \"KOR\", \"GUY\", \"TZA\", \"GBR\", \"CAN\", \"MMR\", \"PHL\", \"SWE\", \"ROU\", \"CRI\", \"ECU\", \"IRN\", \"PER\", \"DZA\", \"TGO\", \"BDI\", \"VNM\", \"CHN\", \"URY\", \"ITA\", \"ZAF\", \"AUS\", \"KEN\", \"NZL\", \"COD\", \"REU\", \"GUF\", \"TWN\", \"MYS\", \"ISR\", \"FRA\", \"PRT\", \"ETH\", \"SRB\", \"SYC\", \"JAM\", \"UMI\", \"BOL\", \"WSM\", \"GRL\", \"MDA\", \"CMR\", \"THA\", \"ISL\", \"CIV\", \"MEX\", \"PAK\", \"COL\", \"CYP\", \"LAO\", \"GLP\", \"GHA\", \"HUN\", \"BLR\", \"LTU\", \"TUR\", \"DEU\", \"MDG\", \"HND\", \"POL\", \"GTM\"], \"reversescale\": true, \"text\": [\"Niger 8\", \"Austria 7\", \"Chile 43\", \"Norway 110\", \"Brazil 42\", \"Spain 252\", \"Nicaragua 5\", \"Papua New Guinea 9\", \"Netherlands 84\", \"Egypt 3\", \"Burkina Faso 1\", \"Switzerland 29\", \"Bulgaria 1\", \"Bangladesh 2\", \"Cuba 4\", \"Syria 1\", \"Argentina 70\", \"Tunisia 10\", \"Greece 39\", \"Haiti 4\", \"British Indian Ocean Territory 22\", \"Lesotho 1\", \"Russia 21\", \"Venezuela 2\", \"Sri Lanka 20\", \"Ireland 45\", \"Faroe Islands 15\", \"New Caledonia 1\", \"Sudan 1\", \"Denmark 9\", \"Paraguay 16\", \"Trinidad and Tobago 1\", \"Guinea 10\", \"Ukraine 1\", \"Japan 6\", \"Hong Kong 1\", \"Martinique 1\", \"United States 47\", \"Singapore 4\", \"Indonesia 20\", \"Belgium 58\", \"El Salvador 2\", \"Dominican Republic 33\", \"Morocco 28\", \"S\\u00e3o Tom\\u00e9 and Pr\\u00edncipe 4\", \"South Korea 5\", \"Guyana 1\", \"Tanzania 3\", \"United Kingdom 273\", \"Canada 27\", \"Myanmar 1\", \"Philippines 5\", \"Sweden 6\", \"Romania 4\", \"Costa Rica 9\", \"Ecuador 25\", \"Iran 5\", \"Peru 117\", \"Algeria 8\", \"Togo 1\", \"Burundi 1\", \"Vietnam 49\", \"China 40\", \"Uruguay 18\", \"Italy 329\", \"South Africa 35\", \"Australia 4\", \"Kenya 6\", \"New Zealand 13\", \"DR Congo 2\", \"R\\u00e9union 8\", \"French Guiana 1\", \"Taiwan 2\", \"Malaysia 5\", \"Israel 3\", \"France 6537\", \"Portugal 19\", \"Ethiopia 2\", \"Serbia 1\", \"Seychelles 2\", \"Jamaica 1\", \"United States Minor Outlying Islands 4\", \"Bolivia 26\", \"Samoa 2\", \"Greenland 2\", \"Moldova 1\", \"Cameroon 3\", \"Thailand 54\", \"Iceland 21\", \"Ivory Coast 11\", \"Mexico 27\", \"Pakistan 8\", \"Colombia 3\", \"Cyprus 2\", \"Laos 3\", \"Guadeloupe 1\", \"Ghana 1\", \"Hungary 4\", \"Belarus 1\", \"Lithuania 4\", \"Turkey 39\", \"Germany 83\", \"Madagascar 36\", \"Honduras 4\", \"Poland 25\", \"Guatemala 5\"], \"z\": [0.9030899869919435, 0.8450980400142568, 1.6334684555795866, 2.041392685158225, 1.6232492903979006, 2.401400540781544, 0.6989700043360189, 0.9542425094393249, 1.9242792860618816, 0.47712125471966244, 0.0, 1.462397997898956, 0.0, 0.3010299956639812, 0.6020599913279624, 0.0, 1.845098040014257, 1.0, 1.591064607026499, 0.6020599913279624, 1.3424226808222062, 0.0, 1.3222192947339193, 0.3010299956639812, 1.3010299956639813, 1.6532125137753437, 1.1760912590556813, 0.0, 0.0, 0.9542425094393249, 1.2041199826559248, 0.0, 1.0, 0.0, 0.7781512503836436, 0.0, 0.0, 1.6720978579357175, 0.6020599913279624, 1.3010299956639813, 1.7634279935629373, 0.3010299956639812, 1.5185139398778875, 1.4471580313422192, 0.6020599913279624, 0.6989700043360189, 0.0, 0.47712125471966244, 2.436162647040756, 1.4313637641589874, 0.0, 0.6989700043360189, 0.7781512503836436, 0.6020599913279624, 0.9542425094393249, 1.3979400086720377, 0.6989700043360189, 2.0681858617461617, 0.9030899869919435, 0.0, 0.0, 1.6901960800285136, 1.6020599913279625, 1.255272505103306, 2.5171958979499744, 1.5440680443502757, 0.6020599913279624, 0.7781512503836436, 1.1139433523068367, 0.3010299956639812, 0.9030899869919435, 0.0, 0.3010299956639812, 0.6989700043360189, 0.47712125471966244, 3.815378484965918, 1.2787536009528289, 0.3010299956639812, 0.0, 0.3010299956639812, 0.0, 0.6020599913279624, 1.414973347970818, 0.3010299956639812, 0.3010299956639812, 0.0, 0.47712125471966244, 1.7323937598229686, 1.3222192947339193, 1.041392685158225, 1.4313637641589874, 0.9030899869919435, 0.47712125471966244, 0.3010299956639812, 0.47712125471966244, 0.0, 0.0, 0.6020599913279624, 0.0, 0.6020599913279624, 1.591064607026499, 1.919078092376074, 1.5563025007672873, 0.6020599913279624, 1.3979400086720377, 0.6989700043360189], \"type\": \"choropleth\", \"uid\": \"b4bb6f17-903a-4840-a91b-68058e5d85f3\"}, {\"hoverinfo\": \"text\", \"lat\": [16, 46], \"line\": {\"color\": \"red\", \"width\": 1.2037079843903322}, \"lon\": [8, 2], \"mode\": \"lines+markers\", \"name\": \"\", \"opacity\": 0.3840368232563467, \"text\": \"Niger<br># products: 8\", \"type\": \"scattergeo\", \"uid\": \"d4b50c1a-d6d1-49b6-bf10-e9ed2f33a853\"}, {\"hoverinfo\": \"text\", \"lat\": [47.33333333, 46], \"line\": {\"color\": \"red\", \"width\": 1.134117648017108}, \"lon\": [13.33333333, 2], \"mode\": \"lines+markers\", \"name\": \"\", \"opacity\": 0.36579739127143684, \"text\": \"Austria<br># products: 7\", \"type\": \"scattergeo\", \"uid\": \"9eafb340-a813-4e3a-a564-cd4ee539bf13\"}, {\"hoverinfo\": \"text\", \"lat\": [-30, 46], \"line\": {\"color\": \"red\", \"width\": 2.080162146695504}, \"lon\": [-71, 2], \"mode\": \"lines+markers\", \"name\": \"\", \"opacity\": 0.6137530010244878, \"text\": \"Chile<br># products: 43\", \"type\": \"scattergeo\", \"uid\": \"88ef8b57-8dda-4699-a48d-beb4f51e0151\"}, {\"hoverinfo\": \"text\", \"lat\": [62, 46], \"line\": {\"color\": \"red\", \"width\": 2.56967122218987}, \"lon\": [10, 2], \"mode\": \"lines+markers\", \"name\": \"\", \"opacity\": 0.7420519567960377, \"text\": \"Norway<br># products: 110\", \"type\": \"scattergeo\", \"uid\": \"ebc7b095-46c0-42b3-b5b9-d97d06349e77\"}, {\"hoverinfo\": \"text\", \"lat\": [-10, 46], \"line\": {\"color\": \"red\", \"width\": 2.0678991484774807}, \"lon\": [-55, 2], \"mode\": \"lines+markers\", \"name\": \"\", \"opacity\": 0.6105389035853099, \"text\": \"Brazil<br># products: 42\", \"type\": \"scattergeo\", \"uid\": \"b0f6c68e-2741-4c23-9565-a90bc05fecd7\"}, {\"hoverinfo\": \"text\", \"lat\": [40, 46], \"line\": {\"color\": \"red\", \"width\": 3.001680648937853}, \"lon\": [-4, 2], \"mode\": \"lines+markers\", \"name\": \"\", \"opacity\": 0.8552804158991829, \"text\": \"Spain<br># products: 252\", \"type\": \"scattergeo\", \"uid\": \"02989cce-abc9-471d-acf2-c45d0db88958\"}, {\"hoverinfo\": \"text\", \"lat\": [13, 46], \"line\": {\"color\": \"red\", \"width\": 0.9587640052032226}, \"lon\": [-85, 2], \"mode\": \"lines+markers\", \"name\": \"\", \"opacity\": 0.31983769330048917, \"text\": \"Nicaragua<br># products: 5\", \"type\": \"scattergeo\", \"uid\": \"3da8c4fc-5653-4169-b1bf-68583228bef1\"}, {\"hoverinfo\": \"text\", \"lat\": [-6, 46], \"line\": {\"color\": \"red\", \"width\": 1.2650910113271898}, \"lon\": [147, 2], \"mode\": \"lines+markers\", \"name\": \"\", \"opacity\": 0.40012514245684816, \"text\": \"Papua New Guinea<br># products: 9\", \"type\": \"scattergeo\", \"uid\": \"4f22c72e-4822-4479-a43d-b8bb94782752\"}, {\"hoverinfo\": \"text\", \"lat\": [52.5, 46], \"line\": {\"color\": \"red\", \"width\": 2.429135143274258}, \"lon\": [5.75, 2], \"mode\": \"lines+markers\", \"name\": \"\", \"opacity\": 0.7052178446707587, \"text\": \"Netherlands<br># products: 84\", \"type\": \"scattergeo\", \"uid\": \"dda115af-eb1e-4d5f-9076-fc8a1fd287b2\"}, {\"hoverinfo\": \"text\", \"lat\": [27, 46], \"line\": {\"color\": \"red\", \"width\": 0.692545505663595}, \"lon\": [30, 2], \"mode\": \"lines+markers\", \"name\": \"\", \"opacity\": 0.2500625712284241, \"text\": \"Egypt<br># products: 3\", \"type\": \"scattergeo\", \"uid\": \"92063f97-ce29-44b9-99ec-693623511f98\"}, {\"hoverinfo\": \"text\", \"lat\": [13, 46], \"line\": {\"color\": \"red\", \"width\": 0.12}, \"lon\": [-2, 2], \"mode\": \"lines+markers\", \"name\": \"\", \"opacity\": 0.1, \"text\": \"Burkina Faso<br># products: 1\", \"type\": \"scattergeo\", \"uid\": \"f059336f-17ef-4fc1-b463-d84c43b55524\"}, {\"hoverinfo\": \"text\", \"lat\": [47, 46], \"line\": {\"color\": \"red\", \"width\": 1.8748775974787473}, \"lon\": [8, 2], \"mode\": \"lines+markers\", \"name\": \"\", \"opacity\": 0.5599484964319138, \"text\": \"Switzerland<br># products: 29\", \"type\": \"scattergeo\", \"uid\": \"f83a7600-1e28-414a-9307-1199620f5519\"}, {\"hoverinfo\": \"text\", \"lat\": [43, 46], \"line\": {\"color\": \"red\", \"width\": 0.12}, \"lon\": [25, 2], \"mode\": \"lines+markers\", \"name\": \"\", \"opacity\": 0.1, \"text\": \"Bulgaria<br># products: 1\", \"type\": \"scattergeo\", \"uid\": \"56811ec0-07a6-436a-ae15-8738f4078417\"}, {\"hoverinfo\": \"text\", \"lat\": [24, 46], \"line\": {\"color\": \"red\", \"width\": 0.4812359947967775}, \"lon\": [90, 2], \"mode\": \"lines+markers\", \"name\": \"\", \"opacity\": 0.19467894108544892, \"text\": \"Bangladesh<br># products: 2\", \"type\": \"scattergeo\", \"uid\": \"98bbf5c8-709d-4f3c-8d28-d0cfa469da6e\"}, {\"hoverinfo\": \"text\", \"lat\": [21.5, 46], \"line\": {\"color\": \"red\", \"width\": 0.8424719895935548}, \"lon\": [-80, 2], \"mode\": \"lines+markers\", \"name\": \"\", \"opacity\": 0.2893578821708978, \"text\": \"Cuba<br># products: 4\", \"type\": \"scattergeo\", \"uid\": \"d73e64fa-c69b-4b4f-9f7d-0f8e01b18ecc\"}, {\"hoverinfo\": \"text\", \"lat\": [35, 46], \"line\": {\"color\": \"red\", \"width\": 0.12}, \"lon\": [38, 2], \"mode\": \"lines+markers\", \"name\": \"\", \"opacity\": 0.1, \"text\": \"Syria<br># products: 1\", \"type\": \"scattergeo\", \"uid\": \"a1f2cbd0-7678-4730-9555-6aa092d03c1d\"}, {\"hoverinfo\": \"text\", \"lat\": [-34, 46], \"line\": {\"color\": \"red\", \"width\": 2.3341176480171084}, \"lon\": [-64, 2], \"mode\": \"lines+markers\", \"name\": \"\", \"opacity\": 0.680314025657375, \"text\": \"Argentina<br># products: 70\", \"type\": \"scattergeo\", \"uid\": \"26cf4792-0a06-4f5e-b02b-50b8ee8e7f5e\"}, {\"hoverinfo\": \"text\", \"lat\": [34, 46], \"line\": {\"color\": \"red\", \"width\": 1.32}, \"lon\": [9, 2], \"mode\": \"lines+markers\", \"name\": \"\", \"opacity\": 0.4145166343859381, \"text\": \"Tunisia<br># products: 10\", \"type\": \"scattergeo\", \"uid\": \"f0397241-2c0f-4458-8309-ec9da8306a89\"}, {\"hoverinfo\": \"text\", \"lat\": [39, 46], \"line\": {\"color\": \"red\", \"width\": 2.0292775284317988}, \"lon\": [22, 2], \"mode\": \"lines+markers\", \"name\": \"\", \"opacity\": 0.6004162852925596, \"text\": \"Greece<br># products: 39\", \"type\": \"scattergeo\", \"uid\": \"5c1cfe3c-7a6a-4231-836b-5a7a4a1f3dc1\"}, {\"hoverinfo\": \"text\", \"lat\": [19, 46], \"line\": {\"color\": \"red\", \"width\": 0.8424719895935548}, \"lon\": [-72.41666666, 2], \"mode\": \"lines+markers\", \"name\": \"\", \"opacity\": 0.2893578821708978, \"text\": \"Haiti<br># products: 4\", \"type\": \"scattergeo\", \"uid\": \"6c10478c-b312-45b8-91a9-9dbb07421eaa\"}, {\"hoverinfo\": \"text\", \"lat\": [-6, 46], \"line\": {\"color\": \"red\", \"width\": 1.7309072169866475}, \"lon\": [71.5, 2], \"mode\": \"lines+markers\", \"name\": \"\", \"opacity\": 0.5222142634955487, \"text\": \"British Indian Ocean Territory<br># products: 22\", \"type\": \"scattergeo\", \"uid\": \"bd957492-3949-4cc3-8385-815f400a7ffb\"}, {\"hoverinfo\": \"text\", \"lat\": [-29.5, 46], \"line\": {\"color\": \"red\", \"width\": 0.12}, \"lon\": [28.5, 2], \"mode\": \"lines+markers\", \"name\": \"\", \"opacity\": 0.1, \"text\": \"Lesotho<br># products: 1\", \"type\": \"scattergeo\", \"uid\": \"cc516818-c096-4bb7-9efc-eb9cdcc188d6\"}, {\"hoverinfo\": \"text\", \"lat\": [60, 46], \"line\": {\"color\": \"red\", \"width\": 1.7066631536807033}, \"lon\": [100, 2], \"mode\": \"lines+markers\", \"name\": \"\", \"opacity\": 0.515859962499861, \"text\": \"Russia<br># products: 21\", \"type\": \"scattergeo\", \"uid\": \"9ec565c1-d8fa-49ef-82a9-9bcd0201c740\"}, {\"hoverinfo\": \"text\", \"lat\": [8, 46], \"line\": {\"color\": \"red\", \"width\": 0.4812359947967775}, \"lon\": [-66, 2], \"mode\": \"lines+markers\", \"name\": \"\", \"opacity\": 0.19467894108544892, \"text\": \"Venezuela<br># products: 2\", \"type\": \"scattergeo\", \"uid\": \"2b189313-54ec-4efd-aa7c-2bd45d6e277d\"}, {\"hoverinfo\": \"text\", \"lat\": [7, 46], \"line\": {\"color\": \"red\", \"width\": 1.6812359947967777}, \"lon\": [81, 2], \"mode\": \"lines+markers\", \"name\": \"\", \"opacity\": 0.509195575471387, \"text\": \"Sri Lanka<br># products: 20\", \"type\": \"scattergeo\", \"uid\": \"e5766aef-9823-4419-b0f2-1ed5c4588008\"}, {\"hoverinfo\": \"text\", \"lat\": [53, 46], \"line\": {\"color\": \"red\", \"width\": 2.1038550165304124}, \"lon\": [-8, 2], \"mode\": \"lines+markers\", \"name\": \"\", \"opacity\": 0.6199628357573373, \"text\": \"Ireland<br># products: 45\", \"type\": \"scattergeo\", \"uid\": \"20f1930c-aa2b-471e-a5df-aeaf4c80c4ad\"}, {\"hoverinfo\": \"text\", \"lat\": [62, 46], \"line\": {\"color\": \"red\", \"width\": 1.5313095108668178}, \"lon\": [-7, 2], \"mode\": \"lines+markers\", \"name\": \"\", \"opacity\": 0.4699002645289133, \"text\": \"Faroe Islands<br># products: 15\", \"type\": \"scattergeo\", \"uid\": \"1af65679-6ab3-4a1b-a75d-d967c1d3022b\"}, {\"hoverinfo\": \"text\", \"lat\": [-21.5, 46], \"line\": {\"color\": \"red\", \"width\": 0.12}, \"lon\": [165.5, 2], \"mode\": \"lines+markers\", \"name\": \"\", \"opacity\": 0.1, \"text\": \"New Caledonia<br># products: 1\", \"type\": \"scattergeo\", \"uid\": \"324f4fbb-ea1e-4299-b0dd-f347a276b8e0\"}, {\"hoverinfo\": \"text\", \"lat\": [15, 46], \"line\": {\"color\": \"red\", \"width\": 0.12}, \"lon\": [30, 2], \"mode\": \"lines+markers\", \"name\": \"\", \"opacity\": 0.1, \"text\": \"Sudan<br># products: 1\", \"type\": \"scattergeo\", \"uid\": \"d04be5e5-2820-43e1-9c62-618e429dca03\"}, {\"hoverinfo\": \"text\", \"lat\": [56, 46], \"line\": {\"color\": \"red\", \"width\": 1.2650910113271898}, \"lon\": [10, 2], \"mode\": \"lines+markers\", \"name\": \"\", \"opacity\": 0.40012514245684816, \"text\": \"Denmark<br># products: 9\", \"type\": \"scattergeo\", \"uid\": \"8f8553c1-c99e-4f7a-9227-37f9a83c6ead\"}, {\"hoverinfo\": \"text\", \"lat\": [-23, 46], \"line\": {\"color\": \"red\", \"width\": 1.5649439791871098}, \"lon\": [-58, 2], \"mode\": \"lines+markers\", \"name\": \"\", \"opacity\": 0.47871576434179564, \"text\": \"Paraguay<br># products: 16\", \"type\": \"scattergeo\", \"uid\": \"adc8a7a8-fcda-4b36-b8fe-0c4e192bce0c\"}, {\"hoverinfo\": \"text\", \"lat\": [11, 46], \"line\": {\"color\": \"red\", \"width\": 0.12}, \"lon\": [-61, 2], \"mode\": \"lines+markers\", \"name\": \"\", \"opacity\": 0.1, \"text\": \"Trinidad and Tobago<br># products: 1\", \"type\": \"scattergeo\", \"uid\": \"ee9c6ea0-1d5d-4da1-ae24-edf6906baae8\"}, {\"hoverinfo\": \"text\", \"lat\": [11, 46], \"line\": {\"color\": \"red\", \"width\": 1.32}, \"lon\": [-10, 2], \"mode\": \"lines+markers\", \"name\": \"\", \"opacity\": 0.4145166343859381, \"text\": \"Guinea<br># products: 10\", \"type\": \"scattergeo\", \"uid\": \"c4907b08-89e7-4d5c-922a-c812d5650e49\"}, {\"hoverinfo\": \"text\", \"lat\": [49, 46], \"line\": {\"color\": \"red\", \"width\": 0.12}, \"lon\": [32, 2], \"mode\": \"lines+markers\", \"name\": \"\", \"opacity\": 0.1, \"text\": \"Ukraine<br># products: 1\", \"type\": \"scattergeo\", \"uid\": \"61a0067f-259d-4f05-9fba-76872763fffe\"}, {\"hoverinfo\": \"text\", \"lat\": [36, 46], \"line\": {\"color\": \"red\", \"width\": 1.0537815004603723}, \"lon\": [138, 2], \"mode\": \"lines+markers\", \"name\": \"\", \"opacity\": 0.344741512313873, \"text\": \"Japan<br># products: 6\", \"type\": \"scattergeo\", \"uid\": \"b991a06e-da3b-4a1e-8183-5d46946a7f34\"}, {\"hoverinfo\": \"text\", \"lat\": [22.267, 46], \"line\": {\"color\": \"red\", \"width\": 0.12}, \"lon\": [114.188, 2], \"mode\": \"lines+markers\", \"name\": \"\", \"opacity\": 0.1, \"text\": \"Hong Kong<br># products: 1\", \"type\": \"scattergeo\", \"uid\": \"a9e70591-76bb-4f29-9cad-9cb68d0aa62e\"}, {\"hoverinfo\": \"text\", \"lat\": [14.666667, 46], \"line\": {\"color\": \"red\", \"width\": 0.12}, \"lon\": [-61, 2], \"mode\": \"lines+markers\", \"name\": \"\", \"opacity\": 0.1, \"text\": \"Martinique<br># products: 1\", \"type\": \"scattergeo\", \"uid\": \"9d3c2f6c-d91c-433c-ae99-afa77cb8b680\"}, {\"hoverinfo\": \"text\", \"lat\": [38, 46], \"line\": {\"color\": \"red\", \"width\": 2.126517429522861}, \"lon\": [-97, 2], \"mode\": \"lines+markers\", \"name\": \"\", \"opacity\": 0.6259025906418783, \"text\": \"United States<br># products: 47\", \"type\": \"scattergeo\", \"uid\": \"34206054-e9f2-4231-9010-1b0c42cef76a\"}, {\"hoverinfo\": \"text\", \"lat\": [1.36666666, 46], \"line\": {\"color\": \"red\", \"width\": 0.8424719895935548}, \"lon\": [103.8, 2], \"mode\": \"lines+markers\", \"name\": \"\", \"opacity\": 0.2893578821708978, \"text\": \"Singapore<br># products: 4\", \"type\": \"scattergeo\", \"uid\": \"f508fca9-826c-4026-9d54-1e048ec27415\"}, {\"hoverinfo\": \"text\", \"lat\": [-5, 46], \"line\": {\"color\": \"red\", \"width\": 1.6812359947967777}, \"lon\": [120, 2], \"mode\": \"lines+markers\", \"name\": \"\", \"opacity\": 0.509195575471387, \"text\": \"Indonesia<br># products: 20\", \"type\": \"scattergeo\", \"uid\": \"baee4e13-8865-4150-8bc4-49deee6376ec\"}, {\"hoverinfo\": \"text\", \"lat\": [50.83333333, 46], \"line\": {\"color\": \"red\", \"width\": 2.2361135922755246}, \"lon\": [4, 2], \"mode\": \"lines+markers\", \"name\": \"\", \"opacity\": 0.6546274375173626, \"text\": \"Belgium<br># products: 58\", \"type\": \"scattergeo\", \"uid\": \"be9d7516-8184-4817-a42f-5eda57bd873d\"}, {\"hoverinfo\": \"text\", \"lat\": [13.83333333, 46], \"line\": {\"color\": \"red\", \"width\": 0.4812359947967775}, \"lon\": [-88.91666666, 2], \"mode\": \"lines+markers\", \"name\": \"\", \"opacity\": 0.19467894108544892, \"text\": \"El Salvador<br># products: 2\", \"type\": \"scattergeo\", \"uid\": \"0d01ebd1-0272-4568-b836-71d366ab0d9b\"}, {\"hoverinfo\": \"text\", \"lat\": [19, 46], \"line\": {\"color\": \"red\", \"width\": 1.942216727853465}, \"lon\": [-70.66666666, 2], \"mode\": \"lines+markers\", \"name\": \"\", \"opacity\": 0.5775978936385239, \"text\": \"Dominican Republic<br># products: 33\", \"type\": \"scattergeo\", \"uid\": \"22672dd8-4a29-4b53-be42-541ca646c6d5\"}, {\"hoverinfo\": \"text\", \"lat\": [32, 46], \"line\": {\"color\": \"red\", \"width\": 1.856589637610663}, \"lon\": [-5, 2], \"mode\": \"lines+markers\", \"name\": \"\", \"opacity\": 0.5551552734423347, \"text\": \"Morocco<br># products: 28\", \"type\": \"scattergeo\", \"uid\": \"4df3baab-681f-4a66-a876-b458012e435d\"}, {\"hoverinfo\": \"text\", \"lat\": [1, 46], \"line\": {\"color\": \"red\", \"width\": 0.8424719895935548}, \"lon\": [7, 2], \"mode\": \"lines+markers\", \"name\": \"\", \"opacity\": 0.2893578821708978, \"text\": \"S\\u00e3o Tom\\u00e9 and Pr\\u00edncipe<br># products: 4\", \"type\": \"scattergeo\", \"uid\": \"3a66259f-dab4-4e29-9cb6-a9709e049aee\"}, {\"hoverinfo\": \"text\", \"lat\": [37, 46], \"line\": {\"color\": \"red\", \"width\": 0.9587640052032226}, \"lon\": [127.5, 2], \"mode\": \"lines+markers\", \"name\": \"\", \"opacity\": 0.31983769330048917, \"text\": \"South Korea<br># products: 5\", \"type\": \"scattergeo\", \"uid\": \"d42f0567-801a-4d86-a7ac-385c65a03d5f\"}, {\"hoverinfo\": \"text\", \"lat\": [5, 46], \"line\": {\"color\": \"red\", \"width\": 0.12}, \"lon\": [-59, 2], \"mode\": \"lines+markers\", \"name\": \"\", \"opacity\": 0.1, \"text\": \"Guyana<br># products: 1\", \"type\": \"scattergeo\", \"uid\": \"451dee66-e4d6-4813-a015-66c350dcaaee\"}, {\"hoverinfo\": \"text\", \"lat\": [-6, 46], \"line\": {\"color\": \"red\", \"width\": 0.692545505663595}, \"lon\": [35, 2], \"mode\": \"lines+markers\", \"name\": \"\", \"opacity\": 0.2500625712284241, \"text\": \"Tanzania<br># products: 3\", \"type\": \"scattergeo\", \"uid\": \"a236063d-a058-474e-821c-4f4a3c8a78c5\"}, {\"hoverinfo\": \"text\", \"lat\": [54, 46], \"line\": {\"color\": \"red\", \"width\": 3.0433951764489073}, \"lon\": [-2, 2], \"mode\": \"lines+markers\", \"name\": \"\", \"opacity\": 0.8662136765639965, \"text\": \"United Kingdom<br># products: 273\", \"type\": \"scattergeo\", \"uid\": \"6ce9a661-b0f7-48a3-9e1d-8457dd590753\"}, {\"hoverinfo\": \"text\", \"lat\": [60, 46], \"line\": {\"color\": \"red\", \"width\": 1.837636516990785}, \"lon\": [-95, 2], \"mode\": \"lines+markers\", \"name\": \"\", \"opacity\": 0.5501877136852723, \"text\": \"Canada<br># products: 27\", \"type\": \"scattergeo\", \"uid\": \"a8ef56d7-61d0-41ff-922d-f78c37ff28d5\"}, {\"hoverinfo\": \"text\", \"lat\": [22, 46], \"line\": {\"color\": \"red\", \"width\": 0.12}, \"lon\": [98, 2], \"mode\": \"lines+markers\", \"name\": \"\", \"opacity\": 0.1, \"text\": \"Myanmar<br># products: 1\", \"type\": \"scattergeo\", \"uid\": \"10bc93cd-965e-4e3e-92af-1c796c392d7d\"}, {\"hoverinfo\": \"text\", \"lat\": [13, 46], \"line\": {\"color\": \"red\", \"width\": 0.9587640052032226}, \"lon\": [122, 2], \"mode\": \"lines+markers\", \"name\": \"\", \"opacity\": 0.31983769330048917, \"text\": \"Philippines<br># products: 5\", \"type\": \"scattergeo\", \"uid\": \"54bf80e8-449c-4e76-9a24-d00e2b6f0ee9\"}, {\"hoverinfo\": \"text\", \"lat\": [62, 46], \"line\": {\"color\": \"red\", \"width\": 1.0537815004603723}, \"lon\": [15, 2], \"mode\": \"lines+markers\", \"name\": \"\", \"opacity\": 0.344741512313873, \"text\": \"Sweden<br># products: 6\", \"type\": \"scattergeo\", \"uid\": \"d2150faa-5112-43c9-9f24-d2063b52065c\"}, {\"hoverinfo\": \"text\", \"lat\": [46, 46], \"line\": {\"color\": \"red\", \"width\": 0.8424719895935548}, \"lon\": [25, 2], \"mode\": \"lines+markers\", \"name\": \"\", \"opacity\": 0.2893578821708978, \"text\": \"Romania<br># products: 4\", \"type\": \"scattergeo\", \"uid\": \"e8b07db1-f9a1-4cb8-8e3e-b3c4b05999f0\"}, {\"hoverinfo\": \"text\", \"lat\": [10, 46], \"line\": {\"color\": \"red\", \"width\": 1.2650910113271898}, \"lon\": [-84, 2], \"mode\": \"lines+markers\", \"name\": \"\", \"opacity\": 0.40012514245684816, \"text\": \"Costa Rica<br># products: 9\", \"type\": \"scattergeo\", \"uid\": \"0569cb30-5209-428c-a858-e2620b3627b1\"}, {\"hoverinfo\": \"text\", \"lat\": [-2, 46], \"line\": {\"color\": \"red\", \"width\": 1.7975280104064453}, \"lon\": [-77.5, 2], \"mode\": \"lines+markers\", \"name\": \"\", \"opacity\": 0.5396753866009784, \"text\": \"Ecuador<br># products: 25\", \"type\": \"scattergeo\", \"uid\": \"086229ae-aa12-4aa6-b229-23b045fcf018\"}, {\"hoverinfo\": \"text\", \"lat\": [32, 46], \"line\": {\"color\": \"red\", \"width\": 0.9587640052032226}, \"lon\": [53, 2], \"mode\": \"lines+markers\", \"name\": \"\", \"opacity\": 0.31983769330048917, \"text\": \"Iran<br># products: 5\", \"type\": \"scattergeo\", \"uid\": \"42d0aa11-af2d-420c-af5d-015398ec8643\"}, {\"hoverinfo\": \"text\", \"lat\": [-10, 46], \"line\": {\"color\": \"red\", \"width\": 2.601823034095394}, \"lon\": [-76, 2], \"mode\": \"lines+markers\", \"name\": \"\", \"opacity\": 0.7504788565209837, \"text\": \"Peru<br># products: 117\", \"type\": \"scattergeo\", \"uid\": \"196fa8f7-073d-4d25-9965-eefbfcdddb82\"}, {\"hoverinfo\": \"text\", \"lat\": [28, 46], \"line\": {\"color\": \"red\", \"width\": 1.2037079843903322}, \"lon\": [3, 2], \"mode\": \"lines+markers\", \"name\": \"\", \"opacity\": 0.3840368232563467, \"text\": \"Algeria<br># products: 8\", \"type\": \"scattergeo\", \"uid\": \"abadb273-b702-41c4-83a4-858ca00b6008\"}, {\"hoverinfo\": \"text\", \"lat\": [8, 46], \"line\": {\"color\": \"red\", \"width\": 0.12}, \"lon\": [1.16666666, 2], \"mode\": \"lines+markers\", \"name\": \"\", \"opacity\": 0.1, \"text\": \"Togo<br># products: 1\", \"type\": \"scattergeo\", \"uid\": \"d20537c3-7c23-4a02-a615-48f3ea7fa231\"}, {\"hoverinfo\": \"text\", \"lat\": [-3.5, 46], \"line\": {\"color\": \"red\", \"width\": 0.12}, \"lon\": [30, 2], \"mode\": \"lines+markers\", \"name\": \"\", \"opacity\": 0.1, \"text\": \"Burundi<br># products: 1\", \"type\": \"scattergeo\", \"uid\": \"3936583c-753a-49bf-9a04-8246bba8e74d\"}, {\"hoverinfo\": \"text\", \"lat\": [16.16666666, 46], \"line\": {\"color\": \"red\", \"width\": 2.1482352960342164}, \"lon\": [107.83333333, 2], \"mode\": \"lines+markers\", \"name\": \"\", \"opacity\": 0.6315947825428737, \"text\": \"Vietnam<br># products: 49\", \"type\": \"scattergeo\", \"uid\": \"2bc19066-705f-49d2-940e-8ae911382745\"}, {\"hoverinfo\": \"text\", \"lat\": [35, 46], \"line\": {\"color\": \"red\", \"width\": 2.042471989593555}, \"lon\": [105, 2], \"mode\": \"lines+markers\", \"name\": \"\", \"opacity\": 0.6038745165568359, \"text\": \"China<br># products: 40\", \"type\": \"scattergeo\", \"uid\": \"312f82aa-0bce-4749-83a5-76c605a9cc2c\"}, {\"hoverinfo\": \"text\", \"lat\": [-33, 46], \"line\": {\"color\": \"red\", \"width\": 1.6263270061239672}, \"lon\": [-56, 2], \"mode\": \"lines+markers\", \"name\": \"\", \"opacity\": 0.4948040835422971, \"text\": \"Uruguay<br># products: 18\", \"type\": \"scattergeo\", \"uid\": \"11662147-c639-4a10-95a6-edee4a9a2103\"}, {\"hoverinfo\": \"text\", \"lat\": [42.83333333, 46], \"line\": {\"color\": \"red\", \"width\": 3.140635077539969}, \"lon\": [12.83333333, 2], \"mode\": \"lines+markers\", \"name\": \"\", \"opacity\": 0.8916999819133152, \"text\": \"Italy<br># products: 329\", \"type\": \"scattergeo\", \"uid\": \"0636a5c4-8cce-4e17-9711-05cd4a02b64b\"}, {\"hoverinfo\": \"text\", \"lat\": [-29, 46], \"line\": {\"color\": \"red\", \"width\": 1.9728816532203308}, \"lon\": [24, 2], \"mode\": \"lines+markers\", \"name\": \"\", \"opacity\": 0.585635084571926, \"text\": \"South Africa<br># products: 35\", \"type\": \"scattergeo\", \"uid\": \"d4f96139-ef78-4e1a-b2a8-aeb51efec3af\"}, {\"hoverinfo\": \"text\", \"lat\": [-27, 46], \"line\": {\"color\": \"red\", \"width\": 0.8424719895935548}, \"lon\": [133, 2], \"mode\": \"lines+markers\", \"name\": \"\", \"opacity\": 0.2893578821708978, \"text\": \"Australia<br># products: 4\", \"type\": \"scattergeo\", \"uid\": \"861f7e97-41eb-405c-aea3-df5771909f12\"}, {\"hoverinfo\": \"text\", \"lat\": [1, 46], \"line\": {\"color\": \"red\", \"width\": 1.0537815004603723}, \"lon\": [38, 2], \"mode\": \"lines+markers\", \"name\": \"\", \"opacity\": 0.344741512313873, \"text\": \"Kenya<br># products: 6\", \"type\": \"scattergeo\", \"uid\": \"0bf9fc41-3493-4b2b-a323-484c1b00c774\"}, {\"hoverinfo\": \"text\", \"lat\": [-41, 46], \"line\": {\"color\": \"red\", \"width\": 1.4567320227682041}, \"lon\": [174, 2], \"mode\": \"lines+markers\", \"name\": \"\", \"opacity\": 0.4503537140641356, \"text\": \"New Zealand<br># products: 13\", \"type\": \"scattergeo\", \"uid\": \"07820a78-aa47-445d-9ec1-15a32f3e9db0\"}, {\"hoverinfo\": \"text\", \"lat\": [0, 46], \"line\": {\"color\": \"red\", \"width\": 0.4812359947967775}, \"lon\": [25, 2], \"mode\": \"lines+markers\", \"name\": \"\", \"opacity\": 0.19467894108544892, \"text\": \"DR Congo<br># products: 2\", \"type\": \"scattergeo\", \"uid\": \"0ea2f535-2c94-44fc-a1ba-0c63462f527c\"}, {\"hoverinfo\": \"text\", \"lat\": [-21.15, 46], \"line\": {\"color\": \"red\", \"width\": 1.2037079843903322}, \"lon\": [55.5, 2], \"mode\": \"lines+markers\", \"name\": \"\", \"opacity\": 0.3840368232563467, \"text\": \"R\\u00e9union<br># products: 8\", \"type\": \"scattergeo\", \"uid\": \"4ce778d8-7de1-4574-b434-204550de33d2\"}, {\"hoverinfo\": \"text\", \"lat\": [4, 46], \"line\": {\"color\": \"red\", \"width\": 0.12}, \"lon\": [-53, 2], \"mode\": \"lines+markers\", \"name\": \"\", \"opacity\": 0.1, \"text\": \"French Guiana<br># products: 1\", \"type\": \"scattergeo\", \"uid\": \"c34e8b78-55aa-4065-b4cf-1795ddb2fda2\"}, {\"hoverinfo\": \"text\", \"lat\": [23.5, 46], \"line\": {\"color\": \"red\", \"width\": 0.4812359947967775}, \"lon\": [121, 2], \"mode\": \"lines+markers\", \"name\": \"\", \"opacity\": 0.19467894108544892, \"text\": \"Taiwan<br># products: 2\", \"type\": \"scattergeo\", \"uid\": \"f5988845-d1ae-4428-ab68-556e434159fe\"}, {\"hoverinfo\": \"text\", \"lat\": [2.5, 46], \"line\": {\"color\": \"red\", \"width\": 0.9587640052032226}, \"lon\": [112.5, 2], \"mode\": \"lines+markers\", \"name\": \"\", \"opacity\": 0.31983769330048917, \"text\": \"Malaysia<br># products: 5\", \"type\": \"scattergeo\", \"uid\": \"0cedb6ce-72d6-40cc-b150-d0e34085330a\"}, {\"hoverinfo\": \"text\", \"lat\": [31.47, 46], \"line\": {\"color\": \"red\", \"width\": 0.692545505663595}, \"lon\": [35.13, 2], \"mode\": \"lines+markers\", \"name\": \"\", \"opacity\": 0.2500625712284241, \"text\": \"Israel<br># products: 3\", \"type\": \"scattergeo\", \"uid\": \"79836e94-d289-4ee1-b5aa-8a4c28f72f47\"}, {\"hoverinfo\": \"text\", \"lat\": [46, 46], \"line\": {\"color\": \"red\", \"width\": 4.698454181959102}, \"lon\": [2, 2], \"mode\": \"lines+markers\", \"name\": \"\", \"opacity\": 1, \"text\": \"France<br># products: 6537\", \"type\": \"scattergeo\", \"uid\": \"472e36d5-4694-4c72-be0d-ba09d00f9f2d\"}, {\"hoverinfo\": \"text\", \"lat\": [39.5, 46], \"line\": {\"color\": \"red\", \"width\": 1.6545043211433947}, \"lon\": [-8, 2], \"mode\": \"lines+markers\", \"name\": \"\", \"opacity\": 0.5021892787805826, \"text\": \"Portugal<br># products: 19\", \"type\": \"scattergeo\", \"uid\": \"5e6f4349-5867-4cac-ada6-e7684bbd9e7a\"}, {\"hoverinfo\": \"text\", \"lat\": [8, 46], \"line\": {\"color\": \"red\", \"width\": 0.4812359947967775}, \"lon\": [38, 2], \"mode\": \"lines+markers\", \"name\": \"\", \"opacity\": 0.19467894108544892, \"text\": \"Ethiopia<br># products: 2\", \"type\": \"scattergeo\", \"uid\": \"bbff7f52-8cb0-4e1c-8309-a345ff5699f0\"}, {\"hoverinfo\": \"text\", \"lat\": [44, 46], \"line\": {\"color\": \"red\", \"width\": 0.12}, \"lon\": [21, 2], \"mode\": \"lines+markers\", \"name\": \"\", \"opacity\": 0.1, \"text\": \"Serbia<br># products: 1\", \"type\": \"scattergeo\", \"uid\": \"98d168f9-e9fe-41da-8670-863b46824687\"}, {\"hoverinfo\": \"text\", \"lat\": [-4.58333333, 46], \"line\": {\"color\": \"red\", \"width\": 0.4812359947967775}, \"lon\": [55.66666666, 2], \"mode\": \"lines+markers\", \"name\": \"\", \"opacity\": 0.19467894108544892, \"text\": \"Seychelles<br># products: 2\", \"type\": \"scattergeo\", \"uid\": \"9193d5f9-b8b1-4e0c-ac5c-38a171bf4f08\"}, {\"hoverinfo\": \"text\", \"lat\": [18.25, 46], \"line\": {\"color\": \"red\", \"width\": 0.12}, \"lon\": [-77.5, 2], \"mode\": \"lines+markers\", \"name\": \"\", \"opacity\": 0.1, \"text\": \"Jamaica<br># products: 1\", \"type\": \"scattergeo\", \"uid\": \"25a738e0-e5d1-469c-aa78-90a31efbee22\"}, {\"hoverinfo\": \"text\", \"lat\": [19.3, 46], \"line\": {\"color\": \"red\", \"width\": 0.8424719895935548}, \"lon\": [166.633333, 2], \"mode\": \"lines+markers\", \"name\": \"\", \"opacity\": 0.2893578821708978, \"text\": \"United States Minor Outlying Islands<br># products: 4\", \"type\": \"scattergeo\", \"uid\": \"52fefc1a-622d-40e7-a441-dad623ba0f6b\"}, {\"hoverinfo\": \"text\", \"lat\": [-17, 46], \"line\": {\"color\": \"red\", \"width\": 1.8179680175649815}, \"lon\": [-65, 2], \"mode\": \"lines+markers\", \"name\": \"\", \"opacity\": 0.5450326551495844, \"text\": \"Bolivia<br># products: 26\", \"type\": \"scattergeo\", \"uid\": \"bba9cea9-7654-49ad-b2d2-b8ce7d8d3f11\"}, {\"hoverinfo\": \"text\", \"lat\": [-13.58333333, 46], \"line\": {\"color\": \"red\", \"width\": 0.4812359947967775}, \"lon\": [-172.33333333, 2], \"mode\": \"lines+markers\", \"name\": \"\", \"opacity\": 0.19467894108544892, \"text\": \"Samoa<br># products: 2\", \"type\": \"scattergeo\", \"uid\": \"0d21e573-0ef2-4466-942b-edb6aec24c0f\"}, {\"hoverinfo\": \"text\", \"lat\": [72, 46], \"line\": {\"color\": \"red\", \"width\": 0.4812359947967775}, \"lon\": [-40, 2], \"mode\": \"lines+markers\", \"name\": \"\", \"opacity\": 0.19467894108544892, \"text\": \"Greenland<br># products: 2\", \"type\": \"scattergeo\", \"uid\": \"ce488171-ff57-44b0-a65e-7fe3a3549b05\"}, {\"hoverinfo\": \"text\", \"lat\": [47, 46], \"line\": {\"color\": \"red\", \"width\": 0.12}, \"lon\": [29, 2], \"mode\": \"lines+markers\", \"name\": \"\", \"opacity\": 0.1, \"text\": \"Moldova<br># products: 1\", \"type\": \"scattergeo\", \"uid\": \"1a4bcb7a-f490-4e53-adde-7aa3738e1f05\"}, {\"hoverinfo\": \"text\", \"lat\": [6, 46], \"line\": {\"color\": \"red\", \"width\": 0.692545505663595}, \"lon\": [12, 2], \"mode\": \"lines+markers\", \"name\": \"\", \"opacity\": 0.2500625712284241, \"text\": \"Cameroon<br># products: 3\", \"type\": \"scattergeo\", \"uid\": \"5af8119c-c97f-4f48-9d20-72a536fc3404\"}, {\"hoverinfo\": \"text\", \"lat\": [15, 46], \"line\": {\"color\": \"red\", \"width\": 2.1988725117875623}, \"lon\": [100, 2], \"mode\": \"lines+markers\", \"name\": \"\", \"opacity\": 0.6448666547707211, \"text\": \"Thailand<br># products: 54\", \"type\": \"scattergeo\", \"uid\": \"01800036-c444-4cb5-969f-c967c28e3255\"}, {\"hoverinfo\": \"text\", \"lat\": [65, 46], \"line\": {\"color\": \"red\", \"width\": 1.7066631536807033}, \"lon\": [-18, 2], \"mode\": \"lines+markers\", \"name\": \"\", \"opacity\": 0.515859962499861, \"text\": \"Iceland<br># products: 21\", \"type\": \"scattergeo\", \"uid\": \"16027cd6-9ff6-4519-b0e2-b2a0671d2477\"}, {\"hoverinfo\": \"text\", \"lat\": [8, 46], \"line\": {\"color\": \"red\", \"width\": 1.36967122218987}, \"lon\": [-5, 2], \"mode\": \"lines+markers\", \"name\": \"\", \"opacity\": 0.4275353224100997, \"text\": \"Ivory Coast<br># products: 11\", \"type\": \"scattergeo\", \"uid\": \"428cb05c-90c3-454c-9698-a735bef5f1b9\"}, {\"hoverinfo\": \"text\", \"lat\": [23, 46], \"line\": {\"color\": \"red\", \"width\": 1.837636516990785}, \"lon\": [-102, 2], \"mode\": \"lines+markers\", \"name\": \"\", \"opacity\": 0.5501877136852723, \"text\": \"Mexico<br># products: 27\", \"type\": \"scattergeo\", \"uid\": \"024b130c-640b-4102-a48c-2d5139721b09\"}, {\"hoverinfo\": \"text\", \"lat\": [30, 46], \"line\": {\"color\": \"red\", \"width\": 1.2037079843903322}, \"lon\": [70, 2], \"mode\": \"lines+markers\", \"name\": \"\", \"opacity\": 0.3840368232563467, \"text\": \"Pakistan<br># products: 8\", \"type\": \"scattergeo\", \"uid\": \"20270331-c313-4328-8348-18ed7cf2db36\"}, {\"hoverinfo\": \"text\", \"lat\": [4, 46], \"line\": {\"color\": \"red\", \"width\": 0.692545505663595}, \"lon\": [-72, 2], \"mode\": \"lines+markers\", \"name\": \"\", \"opacity\": 0.2500625712284241, \"text\": \"Colombia<br># products: 3\", \"type\": \"scattergeo\", \"uid\": \"220a61b0-57c0-408d-af4e-9db708703270\"}, {\"hoverinfo\": \"text\", \"lat\": [35, 46], \"line\": {\"color\": \"red\", \"width\": 0.4812359947967775}, \"lon\": [33, 2], \"mode\": \"lines+markers\", \"name\": \"\", \"opacity\": 0.19467894108544892, \"text\": \"Cyprus<br># products: 2\", \"type\": \"scattergeo\", \"uid\": \"5cff2679-eaa1-4026-a052-271614fb73c3\"}, {\"hoverinfo\": \"text\", \"lat\": [18, 46], \"line\": {\"color\": \"red\", \"width\": 0.692545505663595}, \"lon\": [105, 2], \"mode\": \"lines+markers\", \"name\": \"\", \"opacity\": 0.2500625712284241, \"text\": \"Laos<br># products: 3\", \"type\": \"scattergeo\", \"uid\": \"f74acb61-1743-4d2c-9084-f531a660ed1b\"}, {\"hoverinfo\": \"text\", \"lat\": [16.25, 46], \"line\": {\"color\": \"red\", \"width\": 0.12}, \"lon\": [-61.583333, 2], \"mode\": \"lines+markers\", \"name\": \"\", \"opacity\": 0.1, \"text\": \"Guadeloupe<br># products: 1\", \"type\": \"scattergeo\", \"uid\": \"f21ce3d2-0dae-4abe-8c98-734150fa7833\"}, {\"hoverinfo\": \"text\", \"lat\": [8, 46], \"line\": {\"color\": \"red\", \"width\": 0.12}, \"lon\": [-2, 2], \"mode\": \"lines+markers\", \"name\": \"\", \"opacity\": 0.1, \"text\": \"Ghana<br># products: 1\", \"type\": \"scattergeo\", \"uid\": \"58c4359c-7c3a-45f8-bc77-9066023331ba\"}, {\"hoverinfo\": \"text\", \"lat\": [47, 46], \"line\": {\"color\": \"red\", \"width\": 0.8424719895935548}, \"lon\": [20, 2], \"mode\": \"lines+markers\", \"name\": \"\", \"opacity\": 0.2893578821708978, \"text\": \"Hungary<br># products: 4\", \"type\": \"scattergeo\", \"uid\": \"9f25d7b6-79ed-4464-b1c1-2315669f21e6\"}, {\"hoverinfo\": \"text\", \"lat\": [53, 46], \"line\": {\"color\": \"red\", \"width\": 0.12}, \"lon\": [28, 2], \"mode\": \"lines+markers\", \"name\": \"\", \"opacity\": 0.1, \"text\": \"Belarus<br># products: 1\", \"type\": \"scattergeo\", \"uid\": \"5183afbc-9cd4-4607-bb69-f92f7fe8a4bb\"}, {\"hoverinfo\": \"text\", \"lat\": [56, 46], \"line\": {\"color\": \"red\", \"width\": 0.8424719895935548}, \"lon\": [24, 2], \"mode\": \"lines+markers\", \"name\": \"\", \"opacity\": 0.2893578821708978, \"text\": \"Lithuania<br># products: 4\", \"type\": \"scattergeo\", \"uid\": \"b897f384-b9dc-451f-b511-2c18b1800793\"}, {\"hoverinfo\": \"text\", \"lat\": [39, 46], \"line\": {\"color\": \"red\", \"width\": 2.0292775284317988}, \"lon\": [35, 2], \"mode\": \"lines+markers\", \"name\": \"\", \"opacity\": 0.6004162852925596, \"text\": \"Turkey<br># products: 39\", \"type\": \"scattergeo\", \"uid\": \"0b520e75-4cb3-4f23-809f-cf92ed8323c6\"}, {\"hoverinfo\": \"text\", \"lat\": [51, 46], \"line\": {\"color\": \"red\", \"width\": 2.4228937108512887}, \"lon\": [9, 2], \"mode\": \"lines+markers\", \"name\": \"\", \"opacity\": 0.7035819827379092, \"text\": \"Germany<br># products: 83\", \"type\": \"scattergeo\", \"uid\": \"7f0522a4-1757-4951-b8fd-77a8f5d22c5b\"}, {\"hoverinfo\": \"text\", \"lat\": [-20, 46], \"line\": {\"color\": \"red\", \"width\": 1.9875630009207448}, \"lon\": [47, 2], \"mode\": \"lines+markers\", \"name\": \"\", \"opacity\": 0.589483024627746, \"text\": \"Madagascar<br># products: 36\", \"type\": \"scattergeo\", \"uid\": \"3ac38f02-f3b5-4796-baae-3a2e24347580\"}, {\"hoverinfo\": \"text\", \"lat\": [15, 46], \"line\": {\"color\": \"red\", \"width\": 0.8424719895935548}, \"lon\": [-86.5, 2], \"mode\": \"lines+markers\", \"name\": \"\", \"opacity\": 0.2893578821708978, \"text\": \"Honduras<br># products: 4\", \"type\": \"scattergeo\", \"uid\": \"94d17c41-b6af-439f-b8cc-84fadecfdc94\"}, {\"hoverinfo\": \"text\", \"lat\": [52, 46], \"line\": {\"color\": \"red\", \"width\": 1.7975280104064453}, \"lon\": [20, 2], \"mode\": \"lines+markers\", \"name\": \"\", \"opacity\": 0.5396753866009784, \"text\": \"Poland<br># products: 25\", \"type\": \"scattergeo\", \"uid\": \"c27053cb-5387-48da-80ad-972dfc88f35d\"}, {\"hoverinfo\": \"text\", \"lat\": [15.5, 46], \"line\": {\"color\": \"red\", \"width\": 0.9587640052032226}, \"lon\": [-90.25, 2], \"mode\": \"lines+markers\", \"name\": \"\", \"opacity\": 0.31983769330048917, \"text\": \"Guatemala<br># products: 5\", \"type\": \"scattergeo\", \"uid\": \"1133f28f-4241-406f-befc-094a141e7b23\"}], {\"geo\": {\"coastlinecolor\": \"rgb(255, 255, 255)\", \"countrycolor\": \"rgb(255, 255, 255)\", \"landcolor\": \"rgb(229, 229, 229)\", \"projection\": {\"type\": \"equirectangular\"}, \"showcoastlines\": true, \"showframe\": false, \"showland\": true}, \"margin\": {\"b\": 0, \"l\": 50, \"pad\": 4, \"r\": 100, \"t\": 0}, \"showlegend\": false, \"xaxis\": {\"fixedrange\": true}, \"yaxis\": {\"fixedrange\": true}}, {\"showLink\": true, \"linkText\": \"Export to plot.ly\"})});</script><script type=\"text/javascript\">window.addEventListener(\"resize\", function(){window._Plotly.Plots.resize(document.getElementById(\"4c0d9068-7ad5-436e-aa73-2efcca1bfe14\"));});</script>"
      ],
      "text/vnd.plotly.v1+html": [
       "<div id=\"4c0d9068-7ad5-436e-aa73-2efcca1bfe14\" style=\"height: 525px; width: 100%;\" class=\"plotly-graph-div\"></div><script type=\"text/javascript\">require([\"plotly\"], function(Plotly) { window.PLOTLYENV=window.PLOTLYENV || {};window.PLOTLYENV.BASE_URL=\"https://plot.ly\";Plotly.newPlot(\"4c0d9068-7ad5-436e-aa73-2efcca1bfe14\", [{\"autocolorscale\": false, \"colorbar\": {\"len\": 0.7, \"tick0\": 1, \"tickmode\": \"array\", \"ticktext\": [\"1\", \"10<sup>1/2</sup>\", \"10<sup>1</sup>\", \"10<sup>3/2</sup>\", \"10<sup>2</sup>\", \"10<sup>5/2</sup>\", \"10<sup>3</sup>\", \"10<sup>3/2</sup>\", \"10<sup>4</sup>\"], \"tickvals\": [0, 0.5, 1, 1.5, 2, 2.5, 3, 3.5, 4], \"title\": \"Counts\"}, \"colorscale\": \"Viridis\", \"hoverinfo\": \"text\", \"locations\": [\"NER\", \"AUT\", \"CHL\", \"NOR\", \"BRA\", \"ESP\", \"NIC\", \"PNG\", \"NLD\", \"EGY\", \"BFA\", \"CHE\", \"BGR\", \"BGD\", \"CUB\", \"SYR\", \"ARG\", \"TUN\", \"GRC\", \"HTI\", \"IOT\", \"LSO\", \"RUS\", \"VEN\", \"LKA\", \"IRL\", \"FRO\", \"NCL\", \"SDN\", \"DNK\", \"PRY\", \"TTO\", \"GIN\", \"UKR\", \"JPN\", \"HKG\", \"MTQ\", \"USA\", \"SGP\", \"IDN\", \"BEL\", \"SLV\", \"DOM\", \"MAR\", \"STP\", \"KOR\", \"GUY\", \"TZA\", \"GBR\", \"CAN\", \"MMR\", \"PHL\", \"SWE\", \"ROU\", \"CRI\", \"ECU\", \"IRN\", \"PER\", \"DZA\", \"TGO\", \"BDI\", \"VNM\", \"CHN\", \"URY\", \"ITA\", \"ZAF\", \"AUS\", \"KEN\", \"NZL\", \"COD\", \"REU\", \"GUF\", \"TWN\", \"MYS\", \"ISR\", \"FRA\", \"PRT\", \"ETH\", \"SRB\", \"SYC\", \"JAM\", \"UMI\", \"BOL\", \"WSM\", \"GRL\", \"MDA\", \"CMR\", \"THA\", \"ISL\", \"CIV\", \"MEX\", \"PAK\", \"COL\", \"CYP\", \"LAO\", \"GLP\", \"GHA\", \"HUN\", \"BLR\", \"LTU\", \"TUR\", \"DEU\", \"MDG\", \"HND\", \"POL\", \"GTM\"], \"reversescale\": true, \"text\": [\"Niger 8\", \"Austria 7\", \"Chile 43\", \"Norway 110\", \"Brazil 42\", \"Spain 252\", \"Nicaragua 5\", \"Papua New Guinea 9\", \"Netherlands 84\", \"Egypt 3\", \"Burkina Faso 1\", \"Switzerland 29\", \"Bulgaria 1\", \"Bangladesh 2\", \"Cuba 4\", \"Syria 1\", \"Argentina 70\", \"Tunisia 10\", \"Greece 39\", \"Haiti 4\", \"British Indian Ocean Territory 22\", \"Lesotho 1\", \"Russia 21\", \"Venezuela 2\", \"Sri Lanka 20\", \"Ireland 45\", \"Faroe Islands 15\", \"New Caledonia 1\", \"Sudan 1\", \"Denmark 9\", \"Paraguay 16\", \"Trinidad and Tobago 1\", \"Guinea 10\", \"Ukraine 1\", \"Japan 6\", \"Hong Kong 1\", \"Martinique 1\", \"United States 47\", \"Singapore 4\", \"Indonesia 20\", \"Belgium 58\", \"El Salvador 2\", \"Dominican Republic 33\", \"Morocco 28\", \"S\\u00e3o Tom\\u00e9 and Pr\\u00edncipe 4\", \"South Korea 5\", \"Guyana 1\", \"Tanzania 3\", \"United Kingdom 273\", \"Canada 27\", \"Myanmar 1\", \"Philippines 5\", \"Sweden 6\", \"Romania 4\", \"Costa Rica 9\", \"Ecuador 25\", \"Iran 5\", \"Peru 117\", \"Algeria 8\", \"Togo 1\", \"Burundi 1\", \"Vietnam 49\", \"China 40\", \"Uruguay 18\", \"Italy 329\", \"South Africa 35\", \"Australia 4\", \"Kenya 6\", \"New Zealand 13\", \"DR Congo 2\", \"R\\u00e9union 8\", \"French Guiana 1\", \"Taiwan 2\", \"Malaysia 5\", \"Israel 3\", \"France 6537\", \"Portugal 19\", \"Ethiopia 2\", \"Serbia 1\", \"Seychelles 2\", \"Jamaica 1\", \"United States Minor Outlying Islands 4\", \"Bolivia 26\", \"Samoa 2\", \"Greenland 2\", \"Moldova 1\", \"Cameroon 3\", \"Thailand 54\", \"Iceland 21\", \"Ivory Coast 11\", \"Mexico 27\", \"Pakistan 8\", \"Colombia 3\", \"Cyprus 2\", \"Laos 3\", \"Guadeloupe 1\", \"Ghana 1\", \"Hungary 4\", \"Belarus 1\", \"Lithuania 4\", \"Turkey 39\", \"Germany 83\", \"Madagascar 36\", \"Honduras 4\", \"Poland 25\", \"Guatemala 5\"], \"z\": [0.9030899869919435, 0.8450980400142568, 1.6334684555795866, 2.041392685158225, 1.6232492903979006, 2.401400540781544, 0.6989700043360189, 0.9542425094393249, 1.9242792860618816, 0.47712125471966244, 0.0, 1.462397997898956, 0.0, 0.3010299956639812, 0.6020599913279624, 0.0, 1.845098040014257, 1.0, 1.591064607026499, 0.6020599913279624, 1.3424226808222062, 0.0, 1.3222192947339193, 0.3010299956639812, 1.3010299956639813, 1.6532125137753437, 1.1760912590556813, 0.0, 0.0, 0.9542425094393249, 1.2041199826559248, 0.0, 1.0, 0.0, 0.7781512503836436, 0.0, 0.0, 1.6720978579357175, 0.6020599913279624, 1.3010299956639813, 1.7634279935629373, 0.3010299956639812, 1.5185139398778875, 1.4471580313422192, 0.6020599913279624, 0.6989700043360189, 0.0, 0.47712125471966244, 2.436162647040756, 1.4313637641589874, 0.0, 0.6989700043360189, 0.7781512503836436, 0.6020599913279624, 0.9542425094393249, 1.3979400086720377, 0.6989700043360189, 2.0681858617461617, 0.9030899869919435, 0.0, 0.0, 1.6901960800285136, 1.6020599913279625, 1.255272505103306, 2.5171958979499744, 1.5440680443502757, 0.6020599913279624, 0.7781512503836436, 1.1139433523068367, 0.3010299956639812, 0.9030899869919435, 0.0, 0.3010299956639812, 0.6989700043360189, 0.47712125471966244, 3.815378484965918, 1.2787536009528289, 0.3010299956639812, 0.0, 0.3010299956639812, 0.0, 0.6020599913279624, 1.414973347970818, 0.3010299956639812, 0.3010299956639812, 0.0, 0.47712125471966244, 1.7323937598229686, 1.3222192947339193, 1.041392685158225, 1.4313637641589874, 0.9030899869919435, 0.47712125471966244, 0.3010299956639812, 0.47712125471966244, 0.0, 0.0, 0.6020599913279624, 0.0, 0.6020599913279624, 1.591064607026499, 1.919078092376074, 1.5563025007672873, 0.6020599913279624, 1.3979400086720377, 0.6989700043360189], \"type\": \"choropleth\", \"uid\": \"b4bb6f17-903a-4840-a91b-68058e5d85f3\"}, {\"hoverinfo\": \"text\", \"lat\": [16, 46], \"line\": {\"color\": \"red\", \"width\": 1.2037079843903322}, \"lon\": [8, 2], \"mode\": \"lines+markers\", \"name\": \"\", \"opacity\": 0.3840368232563467, \"text\": \"Niger<br># products: 8\", \"type\": \"scattergeo\", \"uid\": \"d4b50c1a-d6d1-49b6-bf10-e9ed2f33a853\"}, {\"hoverinfo\": \"text\", \"lat\": [47.33333333, 46], \"line\": {\"color\": \"red\", \"width\": 1.134117648017108}, \"lon\": [13.33333333, 2], \"mode\": \"lines+markers\", \"name\": \"\", \"opacity\": 0.36579739127143684, \"text\": \"Austria<br># products: 7\", \"type\": \"scattergeo\", \"uid\": \"9eafb340-a813-4e3a-a564-cd4ee539bf13\"}, {\"hoverinfo\": \"text\", \"lat\": [-30, 46], \"line\": {\"color\": \"red\", \"width\": 2.080162146695504}, \"lon\": [-71, 2], \"mode\": \"lines+markers\", \"name\": \"\", \"opacity\": 0.6137530010244878, \"text\": \"Chile<br># products: 43\", \"type\": \"scattergeo\", \"uid\": \"88ef8b57-8dda-4699-a48d-beb4f51e0151\"}, {\"hoverinfo\": \"text\", \"lat\": [62, 46], \"line\": {\"color\": \"red\", \"width\": 2.56967122218987}, \"lon\": [10, 2], \"mode\": \"lines+markers\", \"name\": \"\", \"opacity\": 0.7420519567960377, \"text\": \"Norway<br># products: 110\", \"type\": \"scattergeo\", \"uid\": \"ebc7b095-46c0-42b3-b5b9-d97d06349e77\"}, {\"hoverinfo\": \"text\", \"lat\": [-10, 46], \"line\": {\"color\": \"red\", \"width\": 2.0678991484774807}, \"lon\": [-55, 2], \"mode\": \"lines+markers\", \"name\": \"\", \"opacity\": 0.6105389035853099, \"text\": \"Brazil<br># products: 42\", \"type\": \"scattergeo\", \"uid\": \"b0f6c68e-2741-4c23-9565-a90bc05fecd7\"}, {\"hoverinfo\": \"text\", \"lat\": [40, 46], \"line\": {\"color\": \"red\", \"width\": 3.001680648937853}, \"lon\": [-4, 2], \"mode\": \"lines+markers\", \"name\": \"\", \"opacity\": 0.8552804158991829, \"text\": \"Spain<br># products: 252\", \"type\": \"scattergeo\", \"uid\": \"02989cce-abc9-471d-acf2-c45d0db88958\"}, {\"hoverinfo\": \"text\", \"lat\": [13, 46], \"line\": {\"color\": \"red\", \"width\": 0.9587640052032226}, \"lon\": [-85, 2], \"mode\": \"lines+markers\", \"name\": \"\", \"opacity\": 0.31983769330048917, \"text\": \"Nicaragua<br># products: 5\", \"type\": \"scattergeo\", \"uid\": \"3da8c4fc-5653-4169-b1bf-68583228bef1\"}, {\"hoverinfo\": \"text\", \"lat\": [-6, 46], \"line\": {\"color\": \"red\", \"width\": 1.2650910113271898}, \"lon\": [147, 2], \"mode\": \"lines+markers\", \"name\": \"\", \"opacity\": 0.40012514245684816, \"text\": \"Papua New Guinea<br># products: 9\", \"type\": \"scattergeo\", \"uid\": \"4f22c72e-4822-4479-a43d-b8bb94782752\"}, {\"hoverinfo\": \"text\", \"lat\": [52.5, 46], \"line\": {\"color\": \"red\", \"width\": 2.429135143274258}, \"lon\": [5.75, 2], \"mode\": \"lines+markers\", \"name\": \"\", \"opacity\": 0.7052178446707587, \"text\": \"Netherlands<br># products: 84\", \"type\": \"scattergeo\", \"uid\": \"dda115af-eb1e-4d5f-9076-fc8a1fd287b2\"}, {\"hoverinfo\": \"text\", \"lat\": [27, 46], \"line\": {\"color\": \"red\", \"width\": 0.692545505663595}, \"lon\": [30, 2], \"mode\": \"lines+markers\", \"name\": \"\", \"opacity\": 0.2500625712284241, \"text\": \"Egypt<br># products: 3\", \"type\": \"scattergeo\", \"uid\": \"92063f97-ce29-44b9-99ec-693623511f98\"}, {\"hoverinfo\": \"text\", \"lat\": [13, 46], \"line\": {\"color\": \"red\", \"width\": 0.12}, \"lon\": [-2, 2], \"mode\": \"lines+markers\", \"name\": \"\", \"opacity\": 0.1, \"text\": \"Burkina Faso<br># products: 1\", \"type\": \"scattergeo\", \"uid\": \"f059336f-17ef-4fc1-b463-d84c43b55524\"}, {\"hoverinfo\": \"text\", \"lat\": [47, 46], \"line\": {\"color\": \"red\", \"width\": 1.8748775974787473}, \"lon\": [8, 2], \"mode\": \"lines+markers\", \"name\": \"\", \"opacity\": 0.5599484964319138, \"text\": \"Switzerland<br># products: 29\", \"type\": \"scattergeo\", \"uid\": \"f83a7600-1e28-414a-9307-1199620f5519\"}, {\"hoverinfo\": \"text\", \"lat\": [43, 46], \"line\": {\"color\": \"red\", \"width\": 0.12}, \"lon\": [25, 2], \"mode\": \"lines+markers\", \"name\": \"\", \"opacity\": 0.1, \"text\": \"Bulgaria<br># products: 1\", \"type\": \"scattergeo\", \"uid\": \"56811ec0-07a6-436a-ae15-8738f4078417\"}, {\"hoverinfo\": \"text\", \"lat\": [24, 46], \"line\": {\"color\": \"red\", \"width\": 0.4812359947967775}, \"lon\": [90, 2], \"mode\": \"lines+markers\", \"name\": \"\", \"opacity\": 0.19467894108544892, \"text\": \"Bangladesh<br># products: 2\", \"type\": \"scattergeo\", \"uid\": \"98bbf5c8-709d-4f3c-8d28-d0cfa469da6e\"}, {\"hoverinfo\": \"text\", \"lat\": [21.5, 46], \"line\": {\"color\": \"red\", \"width\": 0.8424719895935548}, \"lon\": [-80, 2], \"mode\": \"lines+markers\", \"name\": \"\", \"opacity\": 0.2893578821708978, \"text\": \"Cuba<br># products: 4\", \"type\": \"scattergeo\", \"uid\": \"d73e64fa-c69b-4b4f-9f7d-0f8e01b18ecc\"}, {\"hoverinfo\": \"text\", \"lat\": [35, 46], \"line\": {\"color\": \"red\", \"width\": 0.12}, \"lon\": [38, 2], \"mode\": \"lines+markers\", \"name\": \"\", \"opacity\": 0.1, \"text\": \"Syria<br># products: 1\", \"type\": \"scattergeo\", \"uid\": \"a1f2cbd0-7678-4730-9555-6aa092d03c1d\"}, {\"hoverinfo\": \"text\", \"lat\": [-34, 46], \"line\": {\"color\": \"red\", \"width\": 2.3341176480171084}, \"lon\": [-64, 2], \"mode\": \"lines+markers\", \"name\": \"\", \"opacity\": 0.680314025657375, \"text\": \"Argentina<br># products: 70\", \"type\": \"scattergeo\", \"uid\": \"26cf4792-0a06-4f5e-b02b-50b8ee8e7f5e\"}, {\"hoverinfo\": \"text\", \"lat\": [34, 46], \"line\": {\"color\": \"red\", \"width\": 1.32}, \"lon\": [9, 2], \"mode\": \"lines+markers\", \"name\": \"\", \"opacity\": 0.4145166343859381, \"text\": \"Tunisia<br># products: 10\", \"type\": \"scattergeo\", \"uid\": \"f0397241-2c0f-4458-8309-ec9da8306a89\"}, {\"hoverinfo\": \"text\", \"lat\": [39, 46], \"line\": {\"color\": \"red\", \"width\": 2.0292775284317988}, \"lon\": [22, 2], \"mode\": \"lines+markers\", \"name\": \"\", \"opacity\": 0.6004162852925596, \"text\": \"Greece<br># products: 39\", \"type\": \"scattergeo\", \"uid\": \"5c1cfe3c-7a6a-4231-836b-5a7a4a1f3dc1\"}, {\"hoverinfo\": \"text\", \"lat\": [19, 46], \"line\": {\"color\": \"red\", \"width\": 0.8424719895935548}, \"lon\": [-72.41666666, 2], \"mode\": \"lines+markers\", \"name\": \"\", \"opacity\": 0.2893578821708978, \"text\": \"Haiti<br># products: 4\", \"type\": \"scattergeo\", \"uid\": \"6c10478c-b312-45b8-91a9-9dbb07421eaa\"}, {\"hoverinfo\": \"text\", \"lat\": [-6, 46], \"line\": {\"color\": \"red\", \"width\": 1.7309072169866475}, \"lon\": [71.5, 2], \"mode\": \"lines+markers\", \"name\": \"\", \"opacity\": 0.5222142634955487, \"text\": \"British Indian Ocean Territory<br># products: 22\", \"type\": \"scattergeo\", \"uid\": \"bd957492-3949-4cc3-8385-815f400a7ffb\"}, {\"hoverinfo\": \"text\", \"lat\": [-29.5, 46], \"line\": {\"color\": \"red\", \"width\": 0.12}, \"lon\": [28.5, 2], \"mode\": \"lines+markers\", \"name\": \"\", \"opacity\": 0.1, \"text\": \"Lesotho<br># products: 1\", \"type\": \"scattergeo\", \"uid\": \"cc516818-c096-4bb7-9efc-eb9cdcc188d6\"}, {\"hoverinfo\": \"text\", \"lat\": [60, 46], \"line\": {\"color\": \"red\", \"width\": 1.7066631536807033}, \"lon\": [100, 2], \"mode\": \"lines+markers\", \"name\": \"\", \"opacity\": 0.515859962499861, \"text\": \"Russia<br># products: 21\", \"type\": \"scattergeo\", \"uid\": \"9ec565c1-d8fa-49ef-82a9-9bcd0201c740\"}, {\"hoverinfo\": \"text\", \"lat\": [8, 46], \"line\": {\"color\": \"red\", \"width\": 0.4812359947967775}, \"lon\": [-66, 2], \"mode\": \"lines+markers\", \"name\": \"\", \"opacity\": 0.19467894108544892, \"text\": \"Venezuela<br># products: 2\", \"type\": \"scattergeo\", \"uid\": \"2b189313-54ec-4efd-aa7c-2bd45d6e277d\"}, {\"hoverinfo\": \"text\", \"lat\": [7, 46], \"line\": {\"color\": \"red\", \"width\": 1.6812359947967777}, \"lon\": [81, 2], \"mode\": \"lines+markers\", \"name\": \"\", \"opacity\": 0.509195575471387, \"text\": \"Sri Lanka<br># products: 20\", \"type\": \"scattergeo\", \"uid\": \"e5766aef-9823-4419-b0f2-1ed5c4588008\"}, {\"hoverinfo\": \"text\", \"lat\": [53, 46], \"line\": {\"color\": \"red\", \"width\": 2.1038550165304124}, \"lon\": [-8, 2], \"mode\": \"lines+markers\", \"name\": \"\", \"opacity\": 0.6199628357573373, \"text\": \"Ireland<br># products: 45\", \"type\": \"scattergeo\", \"uid\": \"20f1930c-aa2b-471e-a5df-aeaf4c80c4ad\"}, {\"hoverinfo\": \"text\", \"lat\": [62, 46], \"line\": {\"color\": \"red\", \"width\": 1.5313095108668178}, \"lon\": [-7, 2], \"mode\": \"lines+markers\", \"name\": \"\", \"opacity\": 0.4699002645289133, \"text\": \"Faroe Islands<br># products: 15\", \"type\": \"scattergeo\", \"uid\": \"1af65679-6ab3-4a1b-a75d-d967c1d3022b\"}, {\"hoverinfo\": \"text\", \"lat\": [-21.5, 46], \"line\": {\"color\": \"red\", \"width\": 0.12}, \"lon\": [165.5, 2], \"mode\": \"lines+markers\", \"name\": \"\", \"opacity\": 0.1, \"text\": \"New Caledonia<br># products: 1\", \"type\": \"scattergeo\", \"uid\": \"324f4fbb-ea1e-4299-b0dd-f347a276b8e0\"}, {\"hoverinfo\": \"text\", \"lat\": [15, 46], \"line\": {\"color\": \"red\", \"width\": 0.12}, \"lon\": [30, 2], \"mode\": \"lines+markers\", \"name\": \"\", \"opacity\": 0.1, \"text\": \"Sudan<br># products: 1\", \"type\": \"scattergeo\", \"uid\": \"d04be5e5-2820-43e1-9c62-618e429dca03\"}, {\"hoverinfo\": \"text\", \"lat\": [56, 46], \"line\": {\"color\": \"red\", \"width\": 1.2650910113271898}, \"lon\": [10, 2], \"mode\": \"lines+markers\", \"name\": \"\", \"opacity\": 0.40012514245684816, \"text\": \"Denmark<br># products: 9\", \"type\": \"scattergeo\", \"uid\": \"8f8553c1-c99e-4f7a-9227-37f9a83c6ead\"}, {\"hoverinfo\": \"text\", \"lat\": [-23, 46], \"line\": {\"color\": \"red\", \"width\": 1.5649439791871098}, \"lon\": [-58, 2], \"mode\": \"lines+markers\", \"name\": \"\", \"opacity\": 0.47871576434179564, \"text\": \"Paraguay<br># products: 16\", \"type\": \"scattergeo\", \"uid\": \"adc8a7a8-fcda-4b36-b8fe-0c4e192bce0c\"}, {\"hoverinfo\": \"text\", \"lat\": [11, 46], \"line\": {\"color\": \"red\", \"width\": 0.12}, \"lon\": [-61, 2], \"mode\": \"lines+markers\", \"name\": \"\", \"opacity\": 0.1, \"text\": \"Trinidad and Tobago<br># products: 1\", \"type\": \"scattergeo\", \"uid\": \"ee9c6ea0-1d5d-4da1-ae24-edf6906baae8\"}, {\"hoverinfo\": \"text\", \"lat\": [11, 46], \"line\": {\"color\": \"red\", \"width\": 1.32}, \"lon\": [-10, 2], \"mode\": \"lines+markers\", \"name\": \"\", \"opacity\": 0.4145166343859381, \"text\": \"Guinea<br># products: 10\", \"type\": \"scattergeo\", \"uid\": \"c4907b08-89e7-4d5c-922a-c812d5650e49\"}, {\"hoverinfo\": \"text\", \"lat\": [49, 46], \"line\": {\"color\": \"red\", \"width\": 0.12}, \"lon\": [32, 2], \"mode\": \"lines+markers\", \"name\": \"\", \"opacity\": 0.1, \"text\": \"Ukraine<br># products: 1\", \"type\": \"scattergeo\", \"uid\": \"61a0067f-259d-4f05-9fba-76872763fffe\"}, {\"hoverinfo\": \"text\", \"lat\": [36, 46], \"line\": {\"color\": \"red\", \"width\": 1.0537815004603723}, \"lon\": [138, 2], \"mode\": \"lines+markers\", \"name\": \"\", \"opacity\": 0.344741512313873, \"text\": \"Japan<br># products: 6\", \"type\": \"scattergeo\", \"uid\": \"b991a06e-da3b-4a1e-8183-5d46946a7f34\"}, {\"hoverinfo\": \"text\", \"lat\": [22.267, 46], \"line\": {\"color\": \"red\", \"width\": 0.12}, \"lon\": [114.188, 2], \"mode\": \"lines+markers\", \"name\": \"\", \"opacity\": 0.1, \"text\": \"Hong Kong<br># products: 1\", \"type\": \"scattergeo\", \"uid\": \"a9e70591-76bb-4f29-9cad-9cb68d0aa62e\"}, {\"hoverinfo\": \"text\", \"lat\": [14.666667, 46], \"line\": {\"color\": \"red\", \"width\": 0.12}, \"lon\": [-61, 2], \"mode\": \"lines+markers\", \"name\": \"\", \"opacity\": 0.1, \"text\": \"Martinique<br># products: 1\", \"type\": \"scattergeo\", \"uid\": \"9d3c2f6c-d91c-433c-ae99-afa77cb8b680\"}, {\"hoverinfo\": \"text\", \"lat\": [38, 46], \"line\": {\"color\": \"red\", \"width\": 2.126517429522861}, \"lon\": [-97, 2], \"mode\": \"lines+markers\", \"name\": \"\", \"opacity\": 0.6259025906418783, \"text\": \"United States<br># products: 47\", \"type\": \"scattergeo\", \"uid\": \"34206054-e9f2-4231-9010-1b0c42cef76a\"}, {\"hoverinfo\": \"text\", \"lat\": [1.36666666, 46], \"line\": {\"color\": \"red\", \"width\": 0.8424719895935548}, \"lon\": [103.8, 2], \"mode\": \"lines+markers\", \"name\": \"\", \"opacity\": 0.2893578821708978, \"text\": \"Singapore<br># products: 4\", \"type\": \"scattergeo\", \"uid\": \"f508fca9-826c-4026-9d54-1e048ec27415\"}, {\"hoverinfo\": \"text\", \"lat\": [-5, 46], \"line\": {\"color\": \"red\", \"width\": 1.6812359947967777}, \"lon\": [120, 2], \"mode\": \"lines+markers\", \"name\": \"\", \"opacity\": 0.509195575471387, \"text\": \"Indonesia<br># products: 20\", \"type\": \"scattergeo\", \"uid\": \"baee4e13-8865-4150-8bc4-49deee6376ec\"}, {\"hoverinfo\": \"text\", \"lat\": [50.83333333, 46], \"line\": {\"color\": \"red\", \"width\": 2.2361135922755246}, \"lon\": [4, 2], \"mode\": \"lines+markers\", \"name\": \"\", \"opacity\": 0.6546274375173626, \"text\": \"Belgium<br># products: 58\", \"type\": \"scattergeo\", \"uid\": \"be9d7516-8184-4817-a42f-5eda57bd873d\"}, {\"hoverinfo\": \"text\", \"lat\": [13.83333333, 46], \"line\": {\"color\": \"red\", \"width\": 0.4812359947967775}, \"lon\": [-88.91666666, 2], \"mode\": \"lines+markers\", \"name\": \"\", \"opacity\": 0.19467894108544892, \"text\": \"El Salvador<br># products: 2\", \"type\": \"scattergeo\", \"uid\": \"0d01ebd1-0272-4568-b836-71d366ab0d9b\"}, {\"hoverinfo\": \"text\", \"lat\": [19, 46], \"line\": {\"color\": \"red\", \"width\": 1.942216727853465}, \"lon\": [-70.66666666, 2], \"mode\": \"lines+markers\", \"name\": \"\", \"opacity\": 0.5775978936385239, \"text\": \"Dominican Republic<br># products: 33\", \"type\": \"scattergeo\", \"uid\": \"22672dd8-4a29-4b53-be42-541ca646c6d5\"}, {\"hoverinfo\": \"text\", \"lat\": [32, 46], \"line\": {\"color\": \"red\", \"width\": 1.856589637610663}, \"lon\": [-5, 2], \"mode\": \"lines+markers\", \"name\": \"\", \"opacity\": 0.5551552734423347, \"text\": \"Morocco<br># products: 28\", \"type\": \"scattergeo\", \"uid\": \"4df3baab-681f-4a66-a876-b458012e435d\"}, {\"hoverinfo\": \"text\", \"lat\": [1, 46], \"line\": {\"color\": \"red\", \"width\": 0.8424719895935548}, \"lon\": [7, 2], \"mode\": \"lines+markers\", \"name\": \"\", \"opacity\": 0.2893578821708978, \"text\": \"S\\u00e3o Tom\\u00e9 and Pr\\u00edncipe<br># products: 4\", \"type\": \"scattergeo\", \"uid\": \"3a66259f-dab4-4e29-9cb6-a9709e049aee\"}, {\"hoverinfo\": \"text\", \"lat\": [37, 46], \"line\": {\"color\": \"red\", \"width\": 0.9587640052032226}, \"lon\": [127.5, 2], \"mode\": \"lines+markers\", \"name\": \"\", \"opacity\": 0.31983769330048917, \"text\": \"South Korea<br># products: 5\", \"type\": \"scattergeo\", \"uid\": \"d42f0567-801a-4d86-a7ac-385c65a03d5f\"}, {\"hoverinfo\": \"text\", \"lat\": [5, 46], \"line\": {\"color\": \"red\", \"width\": 0.12}, \"lon\": [-59, 2], \"mode\": \"lines+markers\", \"name\": \"\", \"opacity\": 0.1, \"text\": \"Guyana<br># products: 1\", \"type\": \"scattergeo\", \"uid\": \"451dee66-e4d6-4813-a015-66c350dcaaee\"}, {\"hoverinfo\": \"text\", \"lat\": [-6, 46], \"line\": {\"color\": \"red\", \"width\": 0.692545505663595}, \"lon\": [35, 2], \"mode\": \"lines+markers\", \"name\": \"\", \"opacity\": 0.2500625712284241, \"text\": \"Tanzania<br># products: 3\", \"type\": \"scattergeo\", \"uid\": \"a236063d-a058-474e-821c-4f4a3c8a78c5\"}, {\"hoverinfo\": \"text\", \"lat\": [54, 46], \"line\": {\"color\": \"red\", \"width\": 3.0433951764489073}, \"lon\": [-2, 2], \"mode\": \"lines+markers\", \"name\": \"\", \"opacity\": 0.8662136765639965, \"text\": \"United Kingdom<br># products: 273\", \"type\": \"scattergeo\", \"uid\": \"6ce9a661-b0f7-48a3-9e1d-8457dd590753\"}, {\"hoverinfo\": \"text\", \"lat\": [60, 46], \"line\": {\"color\": \"red\", \"width\": 1.837636516990785}, \"lon\": [-95, 2], \"mode\": \"lines+markers\", \"name\": \"\", \"opacity\": 0.5501877136852723, \"text\": \"Canada<br># products: 27\", \"type\": \"scattergeo\", \"uid\": \"a8ef56d7-61d0-41ff-922d-f78c37ff28d5\"}, {\"hoverinfo\": \"text\", \"lat\": [22, 46], \"line\": {\"color\": \"red\", \"width\": 0.12}, \"lon\": [98, 2], \"mode\": \"lines+markers\", \"name\": \"\", \"opacity\": 0.1, \"text\": \"Myanmar<br># products: 1\", \"type\": \"scattergeo\", \"uid\": \"10bc93cd-965e-4e3e-92af-1c796c392d7d\"}, {\"hoverinfo\": \"text\", \"lat\": [13, 46], \"line\": {\"color\": \"red\", \"width\": 0.9587640052032226}, \"lon\": [122, 2], \"mode\": \"lines+markers\", \"name\": \"\", \"opacity\": 0.31983769330048917, \"text\": \"Philippines<br># products: 5\", \"type\": \"scattergeo\", \"uid\": \"54bf80e8-449c-4e76-9a24-d00e2b6f0ee9\"}, {\"hoverinfo\": \"text\", \"lat\": [62, 46], \"line\": {\"color\": \"red\", \"width\": 1.0537815004603723}, \"lon\": [15, 2], \"mode\": \"lines+markers\", \"name\": \"\", \"opacity\": 0.344741512313873, \"text\": \"Sweden<br># products: 6\", \"type\": \"scattergeo\", \"uid\": \"d2150faa-5112-43c9-9f24-d2063b52065c\"}, {\"hoverinfo\": \"text\", \"lat\": [46, 46], \"line\": {\"color\": \"red\", \"width\": 0.8424719895935548}, \"lon\": [25, 2], \"mode\": \"lines+markers\", \"name\": \"\", \"opacity\": 0.2893578821708978, \"text\": \"Romania<br># products: 4\", \"type\": \"scattergeo\", \"uid\": \"e8b07db1-f9a1-4cb8-8e3e-b3c4b05999f0\"}, {\"hoverinfo\": \"text\", \"lat\": [10, 46], \"line\": {\"color\": \"red\", \"width\": 1.2650910113271898}, \"lon\": [-84, 2], \"mode\": \"lines+markers\", \"name\": \"\", \"opacity\": 0.40012514245684816, \"text\": \"Costa Rica<br># products: 9\", \"type\": \"scattergeo\", \"uid\": \"0569cb30-5209-428c-a858-e2620b3627b1\"}, {\"hoverinfo\": \"text\", \"lat\": [-2, 46], \"line\": {\"color\": \"red\", \"width\": 1.7975280104064453}, \"lon\": [-77.5, 2], \"mode\": \"lines+markers\", \"name\": \"\", \"opacity\": 0.5396753866009784, \"text\": \"Ecuador<br># products: 25\", \"type\": \"scattergeo\", \"uid\": \"086229ae-aa12-4aa6-b229-23b045fcf018\"}, {\"hoverinfo\": \"text\", \"lat\": [32, 46], \"line\": {\"color\": \"red\", \"width\": 0.9587640052032226}, \"lon\": [53, 2], \"mode\": \"lines+markers\", \"name\": \"\", \"opacity\": 0.31983769330048917, \"text\": \"Iran<br># products: 5\", \"type\": \"scattergeo\", \"uid\": \"42d0aa11-af2d-420c-af5d-015398ec8643\"}, {\"hoverinfo\": \"text\", \"lat\": [-10, 46], \"line\": {\"color\": \"red\", \"width\": 2.601823034095394}, \"lon\": [-76, 2], \"mode\": \"lines+markers\", \"name\": \"\", \"opacity\": 0.7504788565209837, \"text\": \"Peru<br># products: 117\", \"type\": \"scattergeo\", \"uid\": \"196fa8f7-073d-4d25-9965-eefbfcdddb82\"}, {\"hoverinfo\": \"text\", \"lat\": [28, 46], \"line\": {\"color\": \"red\", \"width\": 1.2037079843903322}, \"lon\": [3, 2], \"mode\": \"lines+markers\", \"name\": \"\", \"opacity\": 0.3840368232563467, \"text\": \"Algeria<br># products: 8\", \"type\": \"scattergeo\", \"uid\": \"abadb273-b702-41c4-83a4-858ca00b6008\"}, {\"hoverinfo\": \"text\", \"lat\": [8, 46], \"line\": {\"color\": \"red\", \"width\": 0.12}, \"lon\": [1.16666666, 2], \"mode\": \"lines+markers\", \"name\": \"\", \"opacity\": 0.1, \"text\": \"Togo<br># products: 1\", \"type\": \"scattergeo\", \"uid\": \"d20537c3-7c23-4a02-a615-48f3ea7fa231\"}, {\"hoverinfo\": \"text\", \"lat\": [-3.5, 46], \"line\": {\"color\": \"red\", \"width\": 0.12}, \"lon\": [30, 2], \"mode\": \"lines+markers\", \"name\": \"\", \"opacity\": 0.1, \"text\": \"Burundi<br># products: 1\", \"type\": \"scattergeo\", \"uid\": \"3936583c-753a-49bf-9a04-8246bba8e74d\"}, {\"hoverinfo\": \"text\", \"lat\": [16.16666666, 46], \"line\": {\"color\": \"red\", \"width\": 2.1482352960342164}, \"lon\": [107.83333333, 2], \"mode\": \"lines+markers\", \"name\": \"\", \"opacity\": 0.6315947825428737, \"text\": \"Vietnam<br># products: 49\", \"type\": \"scattergeo\", \"uid\": \"2bc19066-705f-49d2-940e-8ae911382745\"}, {\"hoverinfo\": \"text\", \"lat\": [35, 46], \"line\": {\"color\": \"red\", \"width\": 2.042471989593555}, \"lon\": [105, 2], \"mode\": \"lines+markers\", \"name\": \"\", \"opacity\": 0.6038745165568359, \"text\": \"China<br># products: 40\", \"type\": \"scattergeo\", \"uid\": \"312f82aa-0bce-4749-83a5-76c605a9cc2c\"}, {\"hoverinfo\": \"text\", \"lat\": [-33, 46], \"line\": {\"color\": \"red\", \"width\": 1.6263270061239672}, \"lon\": [-56, 2], \"mode\": \"lines+markers\", \"name\": \"\", \"opacity\": 0.4948040835422971, \"text\": \"Uruguay<br># products: 18\", \"type\": \"scattergeo\", \"uid\": \"11662147-c639-4a10-95a6-edee4a9a2103\"}, {\"hoverinfo\": \"text\", \"lat\": [42.83333333, 46], \"line\": {\"color\": \"red\", \"width\": 3.140635077539969}, \"lon\": [12.83333333, 2], \"mode\": \"lines+markers\", \"name\": \"\", \"opacity\": 0.8916999819133152, \"text\": \"Italy<br># products: 329\", \"type\": \"scattergeo\", \"uid\": \"0636a5c4-8cce-4e17-9711-05cd4a02b64b\"}, {\"hoverinfo\": \"text\", \"lat\": [-29, 46], \"line\": {\"color\": \"red\", \"width\": 1.9728816532203308}, \"lon\": [24, 2], \"mode\": \"lines+markers\", \"name\": \"\", \"opacity\": 0.585635084571926, \"text\": \"South Africa<br># products: 35\", \"type\": \"scattergeo\", \"uid\": \"d4f96139-ef78-4e1a-b2a8-aeb51efec3af\"}, {\"hoverinfo\": \"text\", \"lat\": [-27, 46], \"line\": {\"color\": \"red\", \"width\": 0.8424719895935548}, \"lon\": [133, 2], \"mode\": \"lines+markers\", \"name\": \"\", \"opacity\": 0.2893578821708978, \"text\": \"Australia<br># products: 4\", \"type\": \"scattergeo\", \"uid\": \"861f7e97-41eb-405c-aea3-df5771909f12\"}, {\"hoverinfo\": \"text\", \"lat\": [1, 46], \"line\": {\"color\": \"red\", \"width\": 1.0537815004603723}, \"lon\": [38, 2], \"mode\": \"lines+markers\", \"name\": \"\", \"opacity\": 0.344741512313873, \"text\": \"Kenya<br># products: 6\", \"type\": \"scattergeo\", \"uid\": \"0bf9fc41-3493-4b2b-a323-484c1b00c774\"}, {\"hoverinfo\": \"text\", \"lat\": [-41, 46], \"line\": {\"color\": \"red\", \"width\": 1.4567320227682041}, \"lon\": [174, 2], \"mode\": \"lines+markers\", \"name\": \"\", \"opacity\": 0.4503537140641356, \"text\": \"New Zealand<br># products: 13\", \"type\": \"scattergeo\", \"uid\": \"07820a78-aa47-445d-9ec1-15a32f3e9db0\"}, {\"hoverinfo\": \"text\", \"lat\": [0, 46], \"line\": {\"color\": \"red\", \"width\": 0.4812359947967775}, \"lon\": [25, 2], \"mode\": \"lines+markers\", \"name\": \"\", \"opacity\": 0.19467894108544892, \"text\": \"DR Congo<br># products: 2\", \"type\": \"scattergeo\", \"uid\": \"0ea2f535-2c94-44fc-a1ba-0c63462f527c\"}, {\"hoverinfo\": \"text\", \"lat\": [-21.15, 46], \"line\": {\"color\": \"red\", \"width\": 1.2037079843903322}, \"lon\": [55.5, 2], \"mode\": \"lines+markers\", \"name\": \"\", \"opacity\": 0.3840368232563467, \"text\": \"R\\u00e9union<br># products: 8\", \"type\": \"scattergeo\", \"uid\": \"4ce778d8-7de1-4574-b434-204550de33d2\"}, {\"hoverinfo\": \"text\", \"lat\": [4, 46], \"line\": {\"color\": \"red\", \"width\": 0.12}, \"lon\": [-53, 2], \"mode\": \"lines+markers\", \"name\": \"\", \"opacity\": 0.1, \"text\": \"French Guiana<br># products: 1\", \"type\": \"scattergeo\", \"uid\": \"c34e8b78-55aa-4065-b4cf-1795ddb2fda2\"}, {\"hoverinfo\": \"text\", \"lat\": [23.5, 46], \"line\": {\"color\": \"red\", \"width\": 0.4812359947967775}, \"lon\": [121, 2], \"mode\": \"lines+markers\", \"name\": \"\", \"opacity\": 0.19467894108544892, \"text\": \"Taiwan<br># products: 2\", \"type\": \"scattergeo\", \"uid\": \"f5988845-d1ae-4428-ab68-556e434159fe\"}, {\"hoverinfo\": \"text\", \"lat\": [2.5, 46], \"line\": {\"color\": \"red\", \"width\": 0.9587640052032226}, \"lon\": [112.5, 2], \"mode\": \"lines+markers\", \"name\": \"\", \"opacity\": 0.31983769330048917, \"text\": \"Malaysia<br># products: 5\", \"type\": \"scattergeo\", \"uid\": \"0cedb6ce-72d6-40cc-b150-d0e34085330a\"}, {\"hoverinfo\": \"text\", \"lat\": [31.47, 46], \"line\": {\"color\": \"red\", \"width\": 0.692545505663595}, \"lon\": [35.13, 2], \"mode\": \"lines+markers\", \"name\": \"\", \"opacity\": 0.2500625712284241, \"text\": \"Israel<br># products: 3\", \"type\": \"scattergeo\", \"uid\": \"79836e94-d289-4ee1-b5aa-8a4c28f72f47\"}, {\"hoverinfo\": \"text\", \"lat\": [46, 46], \"line\": {\"color\": \"red\", \"width\": 4.698454181959102}, \"lon\": [2, 2], \"mode\": \"lines+markers\", \"name\": \"\", \"opacity\": 1, \"text\": \"France<br># products: 6537\", \"type\": \"scattergeo\", \"uid\": \"472e36d5-4694-4c72-be0d-ba09d00f9f2d\"}, {\"hoverinfo\": \"text\", \"lat\": [39.5, 46], \"line\": {\"color\": \"red\", \"width\": 1.6545043211433947}, \"lon\": [-8, 2], \"mode\": \"lines+markers\", \"name\": \"\", \"opacity\": 0.5021892787805826, \"text\": \"Portugal<br># products: 19\", \"type\": \"scattergeo\", \"uid\": \"5e6f4349-5867-4cac-ada6-e7684bbd9e7a\"}, {\"hoverinfo\": \"text\", \"lat\": [8, 46], \"line\": {\"color\": \"red\", \"width\": 0.4812359947967775}, \"lon\": [38, 2], \"mode\": \"lines+markers\", \"name\": \"\", \"opacity\": 0.19467894108544892, \"text\": \"Ethiopia<br># products: 2\", \"type\": \"scattergeo\", \"uid\": \"bbff7f52-8cb0-4e1c-8309-a345ff5699f0\"}, {\"hoverinfo\": \"text\", \"lat\": [44, 46], \"line\": {\"color\": \"red\", \"width\": 0.12}, \"lon\": [21, 2], \"mode\": \"lines+markers\", \"name\": \"\", \"opacity\": 0.1, \"text\": \"Serbia<br># products: 1\", \"type\": \"scattergeo\", \"uid\": \"98d168f9-e9fe-41da-8670-863b46824687\"}, {\"hoverinfo\": \"text\", \"lat\": [-4.58333333, 46], \"line\": {\"color\": \"red\", \"width\": 0.4812359947967775}, \"lon\": [55.66666666, 2], \"mode\": \"lines+markers\", \"name\": \"\", \"opacity\": 0.19467894108544892, \"text\": \"Seychelles<br># products: 2\", \"type\": \"scattergeo\", \"uid\": \"9193d5f9-b8b1-4e0c-ac5c-38a171bf4f08\"}, {\"hoverinfo\": \"text\", \"lat\": [18.25, 46], \"line\": {\"color\": \"red\", \"width\": 0.12}, \"lon\": [-77.5, 2], \"mode\": \"lines+markers\", \"name\": \"\", \"opacity\": 0.1, \"text\": \"Jamaica<br># products: 1\", \"type\": \"scattergeo\", \"uid\": \"25a738e0-e5d1-469c-aa78-90a31efbee22\"}, {\"hoverinfo\": \"text\", \"lat\": [19.3, 46], \"line\": {\"color\": \"red\", \"width\": 0.8424719895935548}, \"lon\": [166.633333, 2], \"mode\": \"lines+markers\", \"name\": \"\", \"opacity\": 0.2893578821708978, \"text\": \"United States Minor Outlying Islands<br># products: 4\", \"type\": \"scattergeo\", \"uid\": \"52fefc1a-622d-40e7-a441-dad623ba0f6b\"}, {\"hoverinfo\": \"text\", \"lat\": [-17, 46], \"line\": {\"color\": \"red\", \"width\": 1.8179680175649815}, \"lon\": [-65, 2], \"mode\": \"lines+markers\", \"name\": \"\", \"opacity\": 0.5450326551495844, \"text\": \"Bolivia<br># products: 26\", \"type\": \"scattergeo\", \"uid\": \"bba9cea9-7654-49ad-b2d2-b8ce7d8d3f11\"}, {\"hoverinfo\": \"text\", \"lat\": [-13.58333333, 46], \"line\": {\"color\": \"red\", \"width\": 0.4812359947967775}, \"lon\": [-172.33333333, 2], \"mode\": \"lines+markers\", \"name\": \"\", \"opacity\": 0.19467894108544892, \"text\": \"Samoa<br># products: 2\", \"type\": \"scattergeo\", \"uid\": \"0d21e573-0ef2-4466-942b-edb6aec24c0f\"}, {\"hoverinfo\": \"text\", \"lat\": [72, 46], \"line\": {\"color\": \"red\", \"width\": 0.4812359947967775}, \"lon\": [-40, 2], \"mode\": \"lines+markers\", \"name\": \"\", \"opacity\": 0.19467894108544892, \"text\": \"Greenland<br># products: 2\", \"type\": \"scattergeo\", \"uid\": \"ce488171-ff57-44b0-a65e-7fe3a3549b05\"}, {\"hoverinfo\": \"text\", \"lat\": [47, 46], \"line\": {\"color\": \"red\", \"width\": 0.12}, \"lon\": [29, 2], \"mode\": \"lines+markers\", \"name\": \"\", \"opacity\": 0.1, \"text\": \"Moldova<br># products: 1\", \"type\": \"scattergeo\", \"uid\": \"1a4bcb7a-f490-4e53-adde-7aa3738e1f05\"}, {\"hoverinfo\": \"text\", \"lat\": [6, 46], \"line\": {\"color\": \"red\", \"width\": 0.692545505663595}, \"lon\": [12, 2], \"mode\": \"lines+markers\", \"name\": \"\", \"opacity\": 0.2500625712284241, \"text\": \"Cameroon<br># products: 3\", \"type\": \"scattergeo\", \"uid\": \"5af8119c-c97f-4f48-9d20-72a536fc3404\"}, {\"hoverinfo\": \"text\", \"lat\": [15, 46], \"line\": {\"color\": \"red\", \"width\": 2.1988725117875623}, \"lon\": [100, 2], \"mode\": \"lines+markers\", \"name\": \"\", \"opacity\": 0.6448666547707211, \"text\": \"Thailand<br># products: 54\", \"type\": \"scattergeo\", \"uid\": \"01800036-c444-4cb5-969f-c967c28e3255\"}, {\"hoverinfo\": \"text\", \"lat\": [65, 46], \"line\": {\"color\": \"red\", \"width\": 1.7066631536807033}, \"lon\": [-18, 2], \"mode\": \"lines+markers\", \"name\": \"\", \"opacity\": 0.515859962499861, \"text\": \"Iceland<br># products: 21\", \"type\": \"scattergeo\", \"uid\": \"16027cd6-9ff6-4519-b0e2-b2a0671d2477\"}, {\"hoverinfo\": \"text\", \"lat\": [8, 46], \"line\": {\"color\": \"red\", \"width\": 1.36967122218987}, \"lon\": [-5, 2], \"mode\": \"lines+markers\", \"name\": \"\", \"opacity\": 0.4275353224100997, \"text\": \"Ivory Coast<br># products: 11\", \"type\": \"scattergeo\", \"uid\": \"428cb05c-90c3-454c-9698-a735bef5f1b9\"}, {\"hoverinfo\": \"text\", \"lat\": [23, 46], \"line\": {\"color\": \"red\", \"width\": 1.837636516990785}, \"lon\": [-102, 2], \"mode\": \"lines+markers\", \"name\": \"\", \"opacity\": 0.5501877136852723, \"text\": \"Mexico<br># products: 27\", \"type\": \"scattergeo\", \"uid\": \"024b130c-640b-4102-a48c-2d5139721b09\"}, {\"hoverinfo\": \"text\", \"lat\": [30, 46], \"line\": {\"color\": \"red\", \"width\": 1.2037079843903322}, \"lon\": [70, 2], \"mode\": \"lines+markers\", \"name\": \"\", \"opacity\": 0.3840368232563467, \"text\": \"Pakistan<br># products: 8\", \"type\": \"scattergeo\", \"uid\": \"20270331-c313-4328-8348-18ed7cf2db36\"}, {\"hoverinfo\": \"text\", \"lat\": [4, 46], \"line\": {\"color\": \"red\", \"width\": 0.692545505663595}, \"lon\": [-72, 2], \"mode\": \"lines+markers\", \"name\": \"\", \"opacity\": 0.2500625712284241, \"text\": \"Colombia<br># products: 3\", \"type\": \"scattergeo\", \"uid\": \"220a61b0-57c0-408d-af4e-9db708703270\"}, {\"hoverinfo\": \"text\", \"lat\": [35, 46], \"line\": {\"color\": \"red\", \"width\": 0.4812359947967775}, \"lon\": [33, 2], \"mode\": \"lines+markers\", \"name\": \"\", \"opacity\": 0.19467894108544892, \"text\": \"Cyprus<br># products: 2\", \"type\": \"scattergeo\", \"uid\": \"5cff2679-eaa1-4026-a052-271614fb73c3\"}, {\"hoverinfo\": \"text\", \"lat\": [18, 46], \"line\": {\"color\": \"red\", \"width\": 0.692545505663595}, \"lon\": [105, 2], \"mode\": \"lines+markers\", \"name\": \"\", \"opacity\": 0.2500625712284241, \"text\": \"Laos<br># products: 3\", \"type\": \"scattergeo\", \"uid\": \"f74acb61-1743-4d2c-9084-f531a660ed1b\"}, {\"hoverinfo\": \"text\", \"lat\": [16.25, 46], \"line\": {\"color\": \"red\", \"width\": 0.12}, \"lon\": [-61.583333, 2], \"mode\": \"lines+markers\", \"name\": \"\", \"opacity\": 0.1, \"text\": \"Guadeloupe<br># products: 1\", \"type\": \"scattergeo\", \"uid\": \"f21ce3d2-0dae-4abe-8c98-734150fa7833\"}, {\"hoverinfo\": \"text\", \"lat\": [8, 46], \"line\": {\"color\": \"red\", \"width\": 0.12}, \"lon\": [-2, 2], \"mode\": \"lines+markers\", \"name\": \"\", \"opacity\": 0.1, \"text\": \"Ghana<br># products: 1\", \"type\": \"scattergeo\", \"uid\": \"58c4359c-7c3a-45f8-bc77-9066023331ba\"}, {\"hoverinfo\": \"text\", \"lat\": [47, 46], \"line\": {\"color\": \"red\", \"width\": 0.8424719895935548}, \"lon\": [20, 2], \"mode\": \"lines+markers\", \"name\": \"\", \"opacity\": 0.2893578821708978, \"text\": \"Hungary<br># products: 4\", \"type\": \"scattergeo\", \"uid\": \"9f25d7b6-79ed-4464-b1c1-2315669f21e6\"}, {\"hoverinfo\": \"text\", \"lat\": [53, 46], \"line\": {\"color\": \"red\", \"width\": 0.12}, \"lon\": [28, 2], \"mode\": \"lines+markers\", \"name\": \"\", \"opacity\": 0.1, \"text\": \"Belarus<br># products: 1\", \"type\": \"scattergeo\", \"uid\": \"5183afbc-9cd4-4607-bb69-f92f7fe8a4bb\"}, {\"hoverinfo\": \"text\", \"lat\": [56, 46], \"line\": {\"color\": \"red\", \"width\": 0.8424719895935548}, \"lon\": [24, 2], \"mode\": \"lines+markers\", \"name\": \"\", \"opacity\": 0.2893578821708978, \"text\": \"Lithuania<br># products: 4\", \"type\": \"scattergeo\", \"uid\": \"b897f384-b9dc-451f-b511-2c18b1800793\"}, {\"hoverinfo\": \"text\", \"lat\": [39, 46], \"line\": {\"color\": \"red\", \"width\": 2.0292775284317988}, \"lon\": [35, 2], \"mode\": \"lines+markers\", \"name\": \"\", \"opacity\": 0.6004162852925596, \"text\": \"Turkey<br># products: 39\", \"type\": \"scattergeo\", \"uid\": \"0b520e75-4cb3-4f23-809f-cf92ed8323c6\"}, {\"hoverinfo\": \"text\", \"lat\": [51, 46], \"line\": {\"color\": \"red\", \"width\": 2.4228937108512887}, \"lon\": [9, 2], \"mode\": \"lines+markers\", \"name\": \"\", \"opacity\": 0.7035819827379092, \"text\": \"Germany<br># products: 83\", \"type\": \"scattergeo\", \"uid\": \"7f0522a4-1757-4951-b8fd-77a8f5d22c5b\"}, {\"hoverinfo\": \"text\", \"lat\": [-20, 46], \"line\": {\"color\": \"red\", \"width\": 1.9875630009207448}, \"lon\": [47, 2], \"mode\": \"lines+markers\", \"name\": \"\", \"opacity\": 0.589483024627746, \"text\": \"Madagascar<br># products: 36\", \"type\": \"scattergeo\", \"uid\": \"3ac38f02-f3b5-4796-baae-3a2e24347580\"}, {\"hoverinfo\": \"text\", \"lat\": [15, 46], \"line\": {\"color\": \"red\", \"width\": 0.8424719895935548}, \"lon\": [-86.5, 2], \"mode\": \"lines+markers\", \"name\": \"\", \"opacity\": 0.2893578821708978, \"text\": \"Honduras<br># products: 4\", \"type\": \"scattergeo\", \"uid\": \"94d17c41-b6af-439f-b8cc-84fadecfdc94\"}, {\"hoverinfo\": \"text\", \"lat\": [52, 46], \"line\": {\"color\": \"red\", \"width\": 1.7975280104064453}, \"lon\": [20, 2], \"mode\": \"lines+markers\", \"name\": \"\", \"opacity\": 0.5396753866009784, \"text\": \"Poland<br># products: 25\", \"type\": \"scattergeo\", \"uid\": \"c27053cb-5387-48da-80ad-972dfc88f35d\"}, {\"hoverinfo\": \"text\", \"lat\": [15.5, 46], \"line\": {\"color\": \"red\", \"width\": 0.9587640052032226}, \"lon\": [-90.25, 2], \"mode\": \"lines+markers\", \"name\": \"\", \"opacity\": 0.31983769330048917, \"text\": \"Guatemala<br># products: 5\", \"type\": \"scattergeo\", \"uid\": \"1133f28f-4241-406f-befc-094a141e7b23\"}], {\"geo\": {\"coastlinecolor\": \"rgb(255, 255, 255)\", \"countrycolor\": \"rgb(255, 255, 255)\", \"landcolor\": \"rgb(229, 229, 229)\", \"projection\": {\"type\": \"equirectangular\"}, \"showcoastlines\": true, \"showframe\": false, \"showland\": true}, \"margin\": {\"b\": 0, \"l\": 50, \"pad\": 4, \"r\": 100, \"t\": 0}, \"showlegend\": false, \"xaxis\": {\"fixedrange\": true}, \"yaxis\": {\"fixedrange\": true}}, {\"showLink\": true, \"linkText\": \"Export to plot.ly\"})});</script><script type=\"text/javascript\">window.addEventListener(\"resize\", function(){window._Plotly.Plots.resize(document.getElementById(\"4c0d9068-7ad5-436e-aa73-2efcca1bfe14\"));});</script>"
      ]
     },
     "metadata": {},
     "output_type": "display_data"
    }
   ],
   "source": [
    "visualize.plot_occurrences_on_map(df=food_facts_pd, \n",
    "                                  column_key='origins',\n",
    "                                  save_offline = save_plots_offline, \n",
    "                                  save_offline_title= 'origins_fr',\n",
    "                                  show_distances=True)"
   ]
  },
  {
   "cell_type": "markdown",
   "metadata": {},
   "source": [
    "Filtering the products to the ones that are sold in France affected mostly products manufactured in Central Asia and North-America. Most of the products, that we are going to analyse further are most-likely manufactured in Europe, followed by the American continent. Only very few products originate from Asia, and even less from Africa."
   ]
  },
  {
   "cell_type": "markdown",
   "metadata": {},
   "source": [
    "##### How is this distribution impacted when we consider neutral and large carbon footprint products? "
   ]
  },
  {
   "cell_type": "markdown",
   "metadata": {},
   "source": [
    "The dataset carbon footprint coming from Eaternity is restrained to Germany and that of the Open Food Facts is much to sparsed to be informative (and biased towards France). Hence, we unfortunately lack the data to answer this question. "
   ]
  },
  {
   "cell_type": "markdown",
   "metadata": {},
   "source": [
    "#### Case study: Palm oil"
   ]
  },
  {
   "cell_type": "code",
   "execution_count": 14,
   "metadata": {},
   "outputs": [],
   "source": [
    "#extracting products with palm oil\n",
    "palm_oil_pd = food_facts_pd[food_facts_pd.ingredients_text.str.contains(\"palm\").fillna(value=False)]"
   ]
  },
  {
   "cell_type": "markdown",
   "metadata": {},
   "source": [
    "##### Can we observe any trend in the number of products including palm oil (assuming a strong dependence between date the product was added to the database and data the product was invented)?"
   ]
  },
  {
   "cell_type": "code",
   "execution_count": 15,
   "metadata": {},
   "outputs": [
    {
     "name": "stdout",
     "output_type": "stream",
     "text": [
      "4.73 % of the products in the dataset contain palm oil\n"
     ]
    }
   ],
   "source": [
    "print('{0:.2f} % of the products in the dataset contain palm oil'.format(palm_oil_pd.shape[0]/food_facts_pd.shape[0]*100))"
   ]
  },
  {
   "cell_type": "markdown",
   "metadata": {},
   "source": [
    "<i>proportion_palm_oil</i> function divides the number of products containing palm oil each year by the total number of products entered that year, it gives the proportion of palm oil products every year"
   ]
  },
  {
   "cell_type": "code",
   "execution_count": 16,
   "metadata": {},
   "outputs": [],
   "source": [
    "proportions,palm_oil_over_time = explore.proportion_palm_oil(food_facts_pd)"
   ]
  },
  {
   "cell_type": "markdown",
   "metadata": {},
   "source": [
    "<i>palm_oil_over_time</i> function plots the proportions of palm oil products over time"
   ]
  },
  {
   "cell_type": "code",
   "execution_count": 17,
   "metadata": {
    "scrolled": true
   },
   "outputs": [
    {
     "data": {
      "application/vnd.plotly.v1+json": {
       "data": [
        {
         "hoverinfo": "text",
         "marker": {
          "color": "#097B4E"
         },
         "text": [
          "5.04% <br>46",
          "5.63% <br>135",
          "4.24% <br>127",
          "5.57% <br>369",
          "4.6% <br>283",
          "4.13% <br>182",
          "3.57% <br>97"
         ],
         "type": "bar",
         "uid": "ffb18bde-d041-4025-a39d-db8a35ab6f4a",
         "x": [
          2012,
          2013,
          2014,
          2015,
          2016,
          2017,
          2018
         ],
         "y": [
          5.038335158817087,
          5.632040050062578,
          4.244652406417113,
          5.5656108597285066,
          4.60087790603154,
          4.126048515075946,
          3.566176470588235
         ]
        }
       ],
       "layout": {
        "margin": {
         "b": 40,
         "l": 50,
         "pad": 4,
         "r": 50,
         "t": 15
        },
        "yaxis": {
         "title": "Percentage of products with palm oil [%]"
        }
       }
      },
      "text/html": [
       "<div id=\"b432bc53-d6e1-4519-80e1-400a1c28fc64\" style=\"height: 525px; width: 100%;\" class=\"plotly-graph-div\"></div><script type=\"text/javascript\">require([\"plotly\"], function(Plotly) { window.PLOTLYENV=window.PLOTLYENV || {};window.PLOTLYENV.BASE_URL=\"https://plot.ly\";Plotly.newPlot(\"b432bc53-d6e1-4519-80e1-400a1c28fc64\", [{\"hoverinfo\": \"text\", \"marker\": {\"color\": \"#097B4E\"}, \"text\": [\"5.04% <br>46\", \"5.63% <br>135\", \"4.24% <br>127\", \"5.57% <br>369\", \"4.6% <br>283\", \"4.13% <br>182\", \"3.57% <br>97\"], \"x\": [2012.0, 2013.0, 2014.0, 2015.0, 2016.0, 2017.0, 2018.0], \"y\": [5.038335158817087, 5.632040050062578, 4.244652406417113, 5.5656108597285066, 4.60087790603154, 4.126048515075946, 3.566176470588235], \"type\": \"bar\", \"uid\": \"ffb18bde-d041-4025-a39d-db8a35ab6f4a\"}], {\"margin\": {\"b\": 40, \"l\": 50, \"pad\": 4, \"r\": 50, \"t\": 15}, \"yaxis\": {\"title\": \"Percentage of products with palm oil [%]\"}}, {\"showLink\": true, \"linkText\": \"Export to plot.ly\"})});</script><script type=\"text/javascript\">window.addEventListener(\"resize\", function(){window._Plotly.Plots.resize(document.getElementById(\"b432bc53-d6e1-4519-80e1-400a1c28fc64\"));});</script>"
      ],
      "text/vnd.plotly.v1+html": [
       "<div id=\"b432bc53-d6e1-4519-80e1-400a1c28fc64\" style=\"height: 525px; width: 100%;\" class=\"plotly-graph-div\"></div><script type=\"text/javascript\">require([\"plotly\"], function(Plotly) { window.PLOTLYENV=window.PLOTLYENV || {};window.PLOTLYENV.BASE_URL=\"https://plot.ly\";Plotly.newPlot(\"b432bc53-d6e1-4519-80e1-400a1c28fc64\", [{\"hoverinfo\": \"text\", \"marker\": {\"color\": \"#097B4E\"}, \"text\": [\"5.04% <br>46\", \"5.63% <br>135\", \"4.24% <br>127\", \"5.57% <br>369\", \"4.6% <br>283\", \"4.13% <br>182\", \"3.57% <br>97\"], \"x\": [2012.0, 2013.0, 2014.0, 2015.0, 2016.0, 2017.0, 2018.0], \"y\": [5.038335158817087, 5.632040050062578, 4.244652406417113, 5.5656108597285066, 4.60087790603154, 4.126048515075946, 3.566176470588235], \"type\": \"bar\", \"uid\": \"ffb18bde-d041-4025-a39d-db8a35ab6f4a\"}], {\"margin\": {\"b\": 40, \"l\": 50, \"pad\": 4, \"r\": 50, \"t\": 15}, \"yaxis\": {\"title\": \"Percentage of products with palm oil [%]\"}}, {\"showLink\": true, \"linkText\": \"Export to plot.ly\"})});</script><script type=\"text/javascript\">window.addEventListener(\"resize\", function(){window._Plotly.Plots.resize(document.getElementById(\"b432bc53-d6e1-4519-80e1-400a1c28fc64\"));});</script>"
      ]
     },
     "metadata": {},
     "output_type": "display_data"
    }
   ],
   "source": [
    "visualize.palm_oil_overtime(proportions,\n",
    "                            palm_oil_over_time,\n",
    "                            save = save_plots_offline, \n",
    "                            save_title= 'palm_oil_over_time')"
   ]
  },
  {
   "cell_type": "markdown",
   "metadata": {},
   "source": [
    "In the above plot, we can see the percentage of products added to the data base over the years that contain palm oil. In general, the amount varies between 3.5-5.6%, with a steady decrease since 2015. Even though we cannot make any statement about the quantities of palm oil products sold, we can assume that producers try to avoid ever more to use palm oil in new products that they bring to the market."
   ]
  },
  {
   "cell_type": "markdown",
   "metadata": {},
   "source": [
    "##### Which countries use palm oils for production?"
   ]
  },
  {
   "cell_type": "code",
   "execution_count": 18,
   "metadata": {},
   "outputs": [],
   "source": [
    "a = palm_oil_pd.origins.groupby(palm_oil_pd.origins).sum"
   ]
  },
  {
   "cell_type": "markdown",
   "metadata": {},
   "source": [
    "<i>create_colorbar_df</i> function creates a dataframe containing the color for each item that is going to be ploted in the notebook (Countries, stores, categories etc.)"
   ]
  },
  {
   "cell_type": "code",
   "execution_count": 19,
   "metadata": {},
   "outputs": [],
   "source": [
    "df_colors = visualize.create_colorbar_df(food_facts_pd)"
   ]
  },
  {
   "cell_type": "markdown",
   "metadata": {},
   "source": [
    "<i>plot_column_composition</i> function plots a horizontal stacked bar with the composition of a given column"
   ]
  },
  {
   "cell_type": "code",
   "execution_count": 20,
   "metadata": {},
   "outputs": [
    {
     "data": {
      "application/vnd.plotly.v1+json": {
       "data": [
        {
         "marker": {
          "color": "#5f568b"
         },
         "name": "France",
         "orientation": "h",
         "type": "bar",
         "uid": "1b6f858d-126b-4bab-b455-e4e53d1be31e",
         "x": [
          743
         ],
         "y": [
          0
         ]
        },
        {
         "marker": {
          "color": "#8d496b"
         },
         "name": "United Kingdom",
         "orientation": "h",
         "type": "bar",
         "uid": "0addf023-8b9e-48f2-a6eb-2557925694ad",
         "x": [
          85
         ],
         "y": [
          0
         ]
        },
        {
         "marker": {
          "color": "#e5daa3"
         },
         "name": "Germany",
         "orientation": "h",
         "type": "bar",
         "uid": "803bf9ca-9ad7-41d7-bb9f-237d5c1de3b3",
         "x": [
          72
         ],
         "y": [
          0
         ]
        },
        {
         "marker": {
          "color": "#baba70"
         },
         "name": "Belgium",
         "orientation": "h",
         "type": "bar",
         "uid": "1a572b69-b1d3-4e43-9bb5-f59e824a7359",
         "x": [
          69
         ],
         "y": [
          0
         ]
        },
        {
         "marker": {
          "color": "#68a99e"
         },
         "name": "Italy",
         "orientation": "h",
         "type": "bar",
         "uid": "b2fa6bf8-9392-4726-ba43-55f2ddd80c5b",
         "x": [
          69
         ],
         "y": [
          0
         ]
        },
        {
         "marker": {
          "color": "#7192C5"
         },
         "name": "Others",
         "orientation": "h",
         "type": "bar",
         "uid": "43900248-a160-48f1-94ab-ad04f2a92d7f",
         "x": [
          271
         ],
         "y": [
          0
         ]
        }
       ],
       "layout": {
        "barmode": "stack",
        "height": 200,
        "margin": {
         "b": 25,
         "l": 40,
         "pad": 4,
         "r": 40,
         "t": 25
        },
        "showlegend": true,
        "width": 800,
        "xaxis": {
         "tickvals": [
          0,
          500,
          1000,
          1309
         ]
        },
        "yaxis": {
         "showgrid": false,
         "showline": false,
         "showticklabels": false,
         "zeroline": false
        }
       }
      },
      "text/html": [
       "<div id=\"29399c4b-d50f-4111-ae18-61935edaa487\" style=\"height: 200px; width: 800px;\" class=\"plotly-graph-div\"></div><script type=\"text/javascript\">require([\"plotly\"], function(Plotly) { window.PLOTLYENV=window.PLOTLYENV || {};window.PLOTLYENV.BASE_URL=\"https://plot.ly\";Plotly.newPlot(\"29399c4b-d50f-4111-ae18-61935edaa487\", [{\"marker\": {\"color\": \"#5f568b\"}, \"name\": \"France\", \"orientation\": \"h\", \"x\": [743], \"y\": [0], \"type\": \"bar\", \"uid\": \"1b6f858d-126b-4bab-b455-e4e53d1be31e\"}, {\"marker\": {\"color\": \"#8d496b\"}, \"name\": \"United Kingdom\", \"orientation\": \"h\", \"x\": [85], \"y\": [0], \"type\": \"bar\", \"uid\": \"0addf023-8b9e-48f2-a6eb-2557925694ad\"}, {\"marker\": {\"color\": \"#e5daa3\"}, \"name\": \"Germany\", \"orientation\": \"h\", \"x\": [72], \"y\": [0], \"type\": \"bar\", \"uid\": \"803bf9ca-9ad7-41d7-bb9f-237d5c1de3b3\"}, {\"marker\": {\"color\": \"#baba70\"}, \"name\": \"Belgium\", \"orientation\": \"h\", \"x\": [69], \"y\": [0], \"type\": \"bar\", \"uid\": \"1a572b69-b1d3-4e43-9bb5-f59e824a7359\"}, {\"marker\": {\"color\": \"#68a99e\"}, \"name\": \"Italy\", \"orientation\": \"h\", \"x\": [69], \"y\": [0], \"type\": \"bar\", \"uid\": \"b2fa6bf8-9392-4726-ba43-55f2ddd80c5b\"}, {\"marker\": {\"color\": \"#7192C5\"}, \"name\": \"Others\", \"orientation\": \"h\", \"x\": [271], \"y\": [0], \"type\": \"bar\", \"uid\": \"43900248-a160-48f1-94ab-ad04f2a92d7f\"}], {\"barmode\": \"stack\", \"height\": 200, \"margin\": {\"b\": 25, \"l\": 40, \"pad\": 4, \"r\": 40, \"t\": 25}, \"showlegend\": true, \"width\": 800, \"xaxis\": {\"tickvals\": [0, 500, 1000, 1309]}, \"yaxis\": {\"showgrid\": false, \"showline\": false, \"showticklabels\": false, \"zeroline\": false}}, {\"showLink\": true, \"linkText\": \"Export to plot.ly\"})});</script>"
      ],
      "text/vnd.plotly.v1+html": [
       "<div id=\"29399c4b-d50f-4111-ae18-61935edaa487\" style=\"height: 200px; width: 800px;\" class=\"plotly-graph-div\"></div><script type=\"text/javascript\">require([\"plotly\"], function(Plotly) { window.PLOTLYENV=window.PLOTLYENV || {};window.PLOTLYENV.BASE_URL=\"https://plot.ly\";Plotly.newPlot(\"29399c4b-d50f-4111-ae18-61935edaa487\", [{\"marker\": {\"color\": \"#5f568b\"}, \"name\": \"France\", \"orientation\": \"h\", \"x\": [743], \"y\": [0], \"type\": \"bar\", \"uid\": \"1b6f858d-126b-4bab-b455-e4e53d1be31e\"}, {\"marker\": {\"color\": \"#8d496b\"}, \"name\": \"United Kingdom\", \"orientation\": \"h\", \"x\": [85], \"y\": [0], \"type\": \"bar\", \"uid\": \"0addf023-8b9e-48f2-a6eb-2557925694ad\"}, {\"marker\": {\"color\": \"#e5daa3\"}, \"name\": \"Germany\", \"orientation\": \"h\", \"x\": [72], \"y\": [0], \"type\": \"bar\", \"uid\": \"803bf9ca-9ad7-41d7-bb9f-237d5c1de3b3\"}, {\"marker\": {\"color\": \"#baba70\"}, \"name\": \"Belgium\", \"orientation\": \"h\", \"x\": [69], \"y\": [0], \"type\": \"bar\", \"uid\": \"1a572b69-b1d3-4e43-9bb5-f59e824a7359\"}, {\"marker\": {\"color\": \"#68a99e\"}, \"name\": \"Italy\", \"orientation\": \"h\", \"x\": [69], \"y\": [0], \"type\": \"bar\", \"uid\": \"b2fa6bf8-9392-4726-ba43-55f2ddd80c5b\"}, {\"marker\": {\"color\": \"#7192C5\"}, \"name\": \"Others\", \"orientation\": \"h\", \"x\": [271], \"y\": [0], \"type\": \"bar\", \"uid\": \"43900248-a160-48f1-94ab-ad04f2a92d7f\"}], {\"barmode\": \"stack\", \"height\": 200, \"margin\": {\"b\": 25, \"l\": 40, \"pad\": 4, \"r\": 40, \"t\": 25}, \"showlegend\": true, \"width\": 800, \"xaxis\": {\"tickvals\": [0, 500, 1000, 1309]}, \"yaxis\": {\"showgrid\": false, \"showline\": false, \"showticklabels\": false, \"zeroline\": false}}, {\"showLink\": true, \"linkText\": \"Export to plot.ly\"})});</script>"
      ]
     },
     "metadata": {},
     "output_type": "display_data"
    }
   ],
   "source": [
    "visualize.plot_column_composition(palm_oil_pd,\n",
    "                                  df_colors,\n",
    "                                  'manufacturing_places',\n",
    "                                  save_offline=save_plots_offline, \n",
    "                                  save_offline_title='palm_oil_manufacturing_places')"
   ]
  },
  {
   "cell_type": "markdown",
   "metadata": {},
   "source": [
    "More than 76% products in the database, that contain palm oil as an ingredient, are manufactured in Europe. From the [Atlas dataset](https://atlas.media.mit.edu/en/profile/hs92/1511/), we see that these countries however import at least 15 times more palm oil that they produce, which let's us suggest that even the ingredients are shipped over the globe before they are processed to become food products."
   ]
  },
  {
   "cell_type": "markdown",
   "metadata": {},
   "source": [
    "### Good nutrition impact"
   ]
  },
  {
   "cell_type": "markdown",
   "metadata": {},
   "source": [
    "Next, let's take a look at the nutrition grades of the products being sold in France. The nutrition grade of a product is an indicator of the type of ingredients that are processed into a food product. This grade is build from a score, that in turn is computed by a [research team lead by Professor Serge Hercberg](https://world.openfoodfacts.org/nutriscore), that is based on the percentage of plant-based (organic) ingredients, and the nutritious value concerning energy(kJ), saturated fats, sugar and sodium. We are going to use it to observe how the composition of products changed over the years."
   ]
  },
  {
   "cell_type": "code",
   "execution_count": 21,
   "metadata": {},
   "outputs": [],
   "source": [
    "nutrition_fr = food_facts_pd[['product_name',\n",
    "                              'created_datetime',\n",
    "                              'nutrition-score-fr_100g', \n",
    "                              'product_name', \n",
    "                              'main_category', \n",
    "                              'origins', \n",
    "                              'purchase_places', \n",
    "                              'manufacturing_places',\n",
    "                              'stores']\n",
    "                            ]\n",
    "\n",
    "nutrition_fr = nutrition_fr[nutrition_fr['nutrition-score-fr_100g'].notna()]\n",
    "nutrition_over_time = nutrition_fr.sort_values(by = 'created_datetime')\n",
    "nutrition_over_time['main_category'] = nutrition_over_time.main_category.fillna(value='Unknown')"
   ]
  },
  {
   "cell_type": "markdown",
   "metadata": {},
   "source": [
    "Meaning of the nutrition score index can be found at https://world.openfoodfacts.org/nutriscore. The main facts are the following : \n",
    "- Products are marked according to the amount of nutrients they contain [per 100 g] and given a grade between A and E (A being obviously the best mark).\n",
    "\n",
    "<img src=\"Images/nutriscore.png\" height=\"540\" width=\"336\">\n",
    "\n",
    "- If the product is solids, this is linked to a nutrition score as displayed the next table. This score itself is computed with two parts. The first one considers the energy, saturated fat, sugars and sodium. A high level in that category is considered unhealthy. The second part reflects the proportion of fruits, vegetables and nuts, fibers and proteins for which high levels are considered beneficial to the health.\n",
    "\n",
    "<center><img src=\"Images/nutriscore_table.png\" height=\"1000\" width=\"900\"></center>\n",
    "\n"
   ]
  },
  {
   "cell_type": "code",
   "execution_count": 22,
   "metadata": {},
   "outputs": [],
   "source": [
    "#Assigning the grades\n",
    "nutrition_over_time[\"nutrition_grade\"] =\\\n",
    "                                    nutrition_over_time[['nutrition-score-fr_100g','main_category']].\\\n",
    "                                    apply(explore.assign_score, axis=1)\n"
   ]
  },
  {
   "cell_type": "markdown",
   "metadata": {},
   "source": [
    "#### High-nutrional products"
   ]
  },
  {
   "cell_type": "markdown",
   "metadata": {},
   "source": [
    "##### What are those products made of?"
   ]
  },
  {
   "cell_type": "markdown",
   "metadata": {},
   "source": [
    "<i>count_nutrition_grade</i> function counts the nutrition grades based on the year and the grade"
   ]
  },
  {
   "cell_type": "code",
   "execution_count": 23,
   "metadata": {},
   "outputs": [],
   "source": [
    "nutrition_over_time_reduced = explore.count_nutrition_grade(nutrition_over_time)"
   ]
  },
  {
   "cell_type": "markdown",
   "metadata": {},
   "source": [
    "This plot displays the most common categories in the list of product possessing a nutritional index"
   ]
  },
  {
   "cell_type": "markdown",
   "metadata": {},
   "source": [
    "<i>make_content_stacked_bar</i> function plots a given dataframe as a stacked histogram, here it plots the main categories contained in each grade"
   ]
  },
  {
   "cell_type": "code",
   "execution_count": 24,
   "metadata": {},
   "outputs": [
    {
     "data": {
      "application/vnd.plotly.v1+json": {
       "data": [
        {
         "marker": {
          "color": "#90CB70"
         },
         "name": "Plant-based",
         "type": "bar",
         "uid": "b43484fc-46a0-41b1-8e4e-aabbc8e3370b",
         "x": [
          "A",
          "B",
          "C",
          "D",
          "E"
         ],
         "y": [
          51.868758915834526,
          21.19533527696793,
          16.98849630238291,
          10.981749528005034,
          1.8729641693811077
         ]
        },
        {
         "marker": {
          "color": "#F0F472"
         },
         "name": "Carbs",
         "type": "bar",
         "uid": "d22d5c9a-0ac2-43f8-8cb7-0a9cf89103b4",
         "x": [
          "A",
          "B",
          "C",
          "D",
          "E"
         ],
         "y": [
          14.236804564907276,
          5.131195335276968,
          3.800328677074774,
          2.3599748269351792,
          0.2714440825190011
         ]
        },
        {
         "marker": {
          "color": "#B69C63"
         },
         "name": "Meats",
         "type": "bar",
         "uid": "ead64857-2002-4dc2-a346-24fcb7e5ef28",
         "x": [
          "A",
          "B",
          "C",
          "D",
          "E"
         ],
         "y": [
          10.071326676176891,
          17.20116618075802,
          16.9063270336894,
          15.151038388923851,
          20.765472312703583
         ]
        },
        {
         "marker": {
          "color": "#D6D0C3"
         },
         "name": "Dairies",
         "type": "bar",
         "uid": "ece8a2f8-323d-4c46-a3cf-20a00285ac17",
         "x": [
          "A",
          "B",
          "C",
          "D",
          "E"
         ],
         "y": [
          6.276747503566334,
          17.49271137026239,
          17.399342645850453,
          24.62240402769037,
          9.446254071661238
         ]
        },
        {
         "marker": {
          "color": "#8CB5ED"
         },
         "name": "Seafood",
         "type": "bar",
         "uid": "8d8f8ec2-9f62-4be5-9414-a7db3bdbf8a0",
         "x": [
          "A",
          "B",
          "C",
          "D",
          "E"
         ],
         "y": [
          3.3951497860199713,
          7.201166180758017,
          7.313064913722268,
          4.2164883574575205,
          0.24429967426710095
         ]
        },
        {
         "marker": {
          "color": "#F3AC6D"
         },
         "name": "Beverages",
         "type": "bar",
         "uid": "945efd24-4a20-45fc-a9f1-32964601e7b1",
         "x": [
          "A",
          "B",
          "C",
          "D",
          "E"
         ],
         "y": [
          0,
          3.411078717201166,
          6.039441248972884,
          1.9823788546255507,
          7.38327904451683
         ]
        },
        {
         "marker": {
          "color": "#EC9BE2"
         },
         "name": "Sugary snacks",
         "type": "bar",
         "uid": "00f4842d-876f-49c1-af6d-9990d2700012",
         "x": [
          "A",
          "B",
          "C",
          "D",
          "E"
         ],
         "y": [
          0.5420827389443652,
          2.857142857142857,
          6.676253081347576,
          18.470736312146006,
          46.498371335504885
         ]
        },
        {
         "marker": {
          "color": "#7979CD"
         },
         "name": "Others",
         "type": "bar",
         "uid": "8ddbb7ea-3100-40b6-aedb-a2a498c456e2",
         "x": [
          "A",
          "B",
          "C",
          "D",
          "E"
         ],
         "y": [
          13.609129814550641,
          25.510204081632654,
          24.87674609695974,
          22.215229704216487,
          13.517915309446254
         ]
        }
       ],
       "layout": {
        "barmode": "stack",
        "margin": {
         "b": 40,
         "l": 50,
         "pad": 4,
         "r": 50,
         "t": 15
        }
       }
      },
      "text/html": [
       "<div id=\"9188e19a-c5a2-4d8b-a8ec-93655ac85127\" style=\"height: 525px; width: 100%;\" class=\"plotly-graph-div\"></div><script type=\"text/javascript\">require([\"plotly\"], function(Plotly) { window.PLOTLYENV=window.PLOTLYENV || {};window.PLOTLYENV.BASE_URL=\"https://plot.ly\";Plotly.newPlot(\"9188e19a-c5a2-4d8b-a8ec-93655ac85127\", [{\"marker\": {\"color\": \"#90CB70\"}, \"name\": \"Plant-based\", \"x\": [\"A\", \"B\", \"C\", \"D\", \"E\"], \"y\": [51.868758915834526, 21.19533527696793, 16.98849630238291, 10.981749528005034, 1.8729641693811077], \"type\": \"bar\", \"uid\": \"b43484fc-46a0-41b1-8e4e-aabbc8e3370b\"}, {\"marker\": {\"color\": \"#F0F472\"}, \"name\": \"Carbs\", \"x\": [\"A\", \"B\", \"C\", \"D\", \"E\"], \"y\": [14.236804564907276, 5.131195335276968, 3.800328677074774, 2.3599748269351792, 0.2714440825190011], \"type\": \"bar\", \"uid\": \"d22d5c9a-0ac2-43f8-8cb7-0a9cf89103b4\"}, {\"marker\": {\"color\": \"#B69C63\"}, \"name\": \"Meats\", \"x\": [\"A\", \"B\", \"C\", \"D\", \"E\"], \"y\": [10.071326676176891, 17.20116618075802, 16.9063270336894, 15.151038388923851, 20.765472312703583], \"type\": \"bar\", \"uid\": \"ead64857-2002-4dc2-a346-24fcb7e5ef28\"}, {\"marker\": {\"color\": \"#D6D0C3\"}, \"name\": \"Dairies\", \"x\": [\"A\", \"B\", \"C\", \"D\", \"E\"], \"y\": [6.276747503566334, 17.49271137026239, 17.399342645850453, 24.62240402769037, 9.446254071661238], \"type\": \"bar\", \"uid\": \"ece8a2f8-323d-4c46-a3cf-20a00285ac17\"}, {\"marker\": {\"color\": \"#8CB5ED\"}, \"name\": \"Seafood\", \"x\": [\"A\", \"B\", \"C\", \"D\", \"E\"], \"y\": [3.3951497860199713, 7.201166180758017, 7.313064913722268, 4.2164883574575205, 0.24429967426710095], \"type\": \"bar\", \"uid\": \"8d8f8ec2-9f62-4be5-9414-a7db3bdbf8a0\"}, {\"marker\": {\"color\": \"#F3AC6D\"}, \"name\": \"Beverages\", \"x\": [\"A\", \"B\", \"C\", \"D\", \"E\"], \"y\": [0.0, 3.411078717201166, 6.039441248972884, 1.9823788546255507, 7.38327904451683], \"type\": \"bar\", \"uid\": \"945efd24-4a20-45fc-a9f1-32964601e7b1\"}, {\"marker\": {\"color\": \"#EC9BE2\"}, \"name\": \"Sugary snacks\", \"x\": [\"A\", \"B\", \"C\", \"D\", \"E\"], \"y\": [0.5420827389443652, 2.857142857142857, 6.676253081347576, 18.470736312146006, 46.498371335504885], \"type\": \"bar\", \"uid\": \"00f4842d-876f-49c1-af6d-9990d2700012\"}, {\"marker\": {\"color\": \"#7979CD\"}, \"name\": \"Others\", \"x\": [\"A\", \"B\", \"C\", \"D\", \"E\"], \"y\": [13.609129814550641, 25.510204081632654, 24.87674609695974, 22.215229704216487, 13.517915309446254], \"type\": \"bar\", \"uid\": \"8ddbb7ea-3100-40b6-aedb-a2a498c456e2\"}], {\"barmode\": \"stack\", \"margin\": {\"b\": 40, \"l\": 50, \"pad\": 4, \"r\": 50, \"t\": 15}}, {\"showLink\": true, \"linkText\": \"Export to plot.ly\"})});</script><script type=\"text/javascript\">window.addEventListener(\"resize\", function(){window._Plotly.Plots.resize(document.getElementById(\"9188e19a-c5a2-4d8b-a8ec-93655ac85127\"));});</script>"
      ],
      "text/vnd.plotly.v1+html": [
       "<div id=\"9188e19a-c5a2-4d8b-a8ec-93655ac85127\" style=\"height: 525px; width: 100%;\" class=\"plotly-graph-div\"></div><script type=\"text/javascript\">require([\"plotly\"], function(Plotly) { window.PLOTLYENV=window.PLOTLYENV || {};window.PLOTLYENV.BASE_URL=\"https://plot.ly\";Plotly.newPlot(\"9188e19a-c5a2-4d8b-a8ec-93655ac85127\", [{\"marker\": {\"color\": \"#90CB70\"}, \"name\": \"Plant-based\", \"x\": [\"A\", \"B\", \"C\", \"D\", \"E\"], \"y\": [51.868758915834526, 21.19533527696793, 16.98849630238291, 10.981749528005034, 1.8729641693811077], \"type\": \"bar\", \"uid\": \"b43484fc-46a0-41b1-8e4e-aabbc8e3370b\"}, {\"marker\": {\"color\": \"#F0F472\"}, \"name\": \"Carbs\", \"x\": [\"A\", \"B\", \"C\", \"D\", \"E\"], \"y\": [14.236804564907276, 5.131195335276968, 3.800328677074774, 2.3599748269351792, 0.2714440825190011], \"type\": \"bar\", \"uid\": \"d22d5c9a-0ac2-43f8-8cb7-0a9cf89103b4\"}, {\"marker\": {\"color\": \"#B69C63\"}, \"name\": \"Meats\", \"x\": [\"A\", \"B\", \"C\", \"D\", \"E\"], \"y\": [10.071326676176891, 17.20116618075802, 16.9063270336894, 15.151038388923851, 20.765472312703583], \"type\": \"bar\", \"uid\": \"ead64857-2002-4dc2-a346-24fcb7e5ef28\"}, {\"marker\": {\"color\": \"#D6D0C3\"}, \"name\": \"Dairies\", \"x\": [\"A\", \"B\", \"C\", \"D\", \"E\"], \"y\": [6.276747503566334, 17.49271137026239, 17.399342645850453, 24.62240402769037, 9.446254071661238], \"type\": \"bar\", \"uid\": \"ece8a2f8-323d-4c46-a3cf-20a00285ac17\"}, {\"marker\": {\"color\": \"#8CB5ED\"}, \"name\": \"Seafood\", \"x\": [\"A\", \"B\", \"C\", \"D\", \"E\"], \"y\": [3.3951497860199713, 7.201166180758017, 7.313064913722268, 4.2164883574575205, 0.24429967426710095], \"type\": \"bar\", \"uid\": \"8d8f8ec2-9f62-4be5-9414-a7db3bdbf8a0\"}, {\"marker\": {\"color\": \"#F3AC6D\"}, \"name\": \"Beverages\", \"x\": [\"A\", \"B\", \"C\", \"D\", \"E\"], \"y\": [0.0, 3.411078717201166, 6.039441248972884, 1.9823788546255507, 7.38327904451683], \"type\": \"bar\", \"uid\": \"945efd24-4a20-45fc-a9f1-32964601e7b1\"}, {\"marker\": {\"color\": \"#EC9BE2\"}, \"name\": \"Sugary snacks\", \"x\": [\"A\", \"B\", \"C\", \"D\", \"E\"], \"y\": [0.5420827389443652, 2.857142857142857, 6.676253081347576, 18.470736312146006, 46.498371335504885], \"type\": \"bar\", \"uid\": \"00f4842d-876f-49c1-af6d-9990d2700012\"}, {\"marker\": {\"color\": \"#7979CD\"}, \"name\": \"Others\", \"x\": [\"A\", \"B\", \"C\", \"D\", \"E\"], \"y\": [13.609129814550641, 25.510204081632654, 24.87674609695974, 22.215229704216487, 13.517915309446254], \"type\": \"bar\", \"uid\": \"8ddbb7ea-3100-40b6-aedb-a2a498c456e2\"}], {\"barmode\": \"stack\", \"margin\": {\"b\": 40, \"l\": 50, \"pad\": 4, \"r\": 50, \"t\": 15}}, {\"showLink\": true, \"linkText\": \"Export to plot.ly\"})});</script><script type=\"text/javascript\">window.addEventListener(\"resize\", function(){window._Plotly.Plots.resize(document.getElementById(\"9188e19a-c5a2-4d8b-a8ec-93655ac85127\"));});</script>"
      ]
     },
     "metadata": {},
     "output_type": "display_data"
    }
   ],
   "source": [
    "visualize.make_content_stacked_bar(visualize.plot_grade_content(nutrition_over_time), \n",
    "                                   df_colors,\n",
    "                                   'keys', \n",
    "                                   'grade', \n",
    "                                   'Percentage',\n",
    "                                   save_offline=save_plots_offline, \n",
    "                                   save_offline_title='nutrition_content')"
   ]
  },
  {
   "cell_type": "markdown",
   "metadata": {},
   "source": [
    "Observe how good nutritional products are mostly (more than 50%) plant-based and how this category as well as carbs and canned food shrink when considering less beneficial food standards. This reduction is compensated by a sharp increase in prevalence of sugary snacks and a lesser increase of meat-based products. Both seafood and dairy seem to concentrate in, respectively, the lower and higher part of the middle marks. "
   ]
  },
  {
   "cell_type": "markdown",
   "metadata": {},
   "source": [
    "##### Has there been a surge in high graded Products in the France over the past years?"
   ]
  },
  {
   "cell_type": "code",
   "execution_count": 25,
   "metadata": {},
   "outputs": [
    {
     "data": {
      "application/vnd.plotly.v1+json": {
       "data": [
        {
         "marker": {
          "color": "#517C53",
          "line": {
           "color": "#517C53",
           "width": 2
          }
         },
         "name": "A",
         "type": "bar",
         "uid": "48705af6-05d3-419a-824b-b037dc365100",
         "x": [
          2012,
          2013,
          2014,
          2015,
          2016,
          2017,
          2018
         ],
         "y": [
          141,
          487,
          471,
          840,
          714,
          586,
          266
         ]
        },
        {
         "marker": {
          "color": "#99EB9D",
          "line": {
           "color": "#99EB9D",
           "width": 2
          }
         },
         "name": "B",
         "type": "bar",
         "uid": "d5ee4542-2028-444b-b0d6-14a67402af55",
         "x": [
          2012,
          2013,
          2014,
          2015,
          2016,
          2017,
          2018
         ],
         "y": [
          136,
          379,
          454,
          886,
          764,
          539,
          272
         ]
        },
        {
         "marker": {
          "color": "#E9F287",
          "line": {
           "color": "#E9F287",
           "width": 2
          }
         },
         "name": "C",
         "type": "bar",
         "uid": "ee62296e-3dfb-4e5d-8e2b-183a04e03c29",
         "x": [
          2012,
          2013,
          2014,
          2015,
          2016,
          2017,
          2018
         ],
         "y": [
          173,
          452,
          561,
          1250,
          1165,
          864,
          403
         ]
        },
        {
         "marker": {
          "color": "#F2CE75",
          "line": {
           "color": "#F2CE75",
           "width": 2
          }
         },
         "name": "D",
         "type": "bar",
         "uid": "21fa65ae-e5e1-498f-9f11-0977b0803709",
         "x": [
          2012,
          2013,
          2014,
          2015,
          2016,
          2017,
          2018
         ],
         "y": [
          192,
          503,
          748,
          1594,
          1609,
          1125,
          584
         ]
        },
        {
         "marker": {
          "color": "#F68774",
          "line": {
           "color": "#F68774",
           "width": 2
          }
         },
         "name": "E",
         "type": "bar",
         "uid": "09a91a51-2daf-415b-9a96-d71708baa06d",
         "x": [
          2012,
          2013,
          2014,
          2015,
          2016,
          2017,
          2018
         ],
         "y": [
          115,
          284,
          339,
          969,
          952,
          671,
          354
         ]
        }
       ],
       "layout": {
        "barmode": "stack",
        "margin": {
         "b": 50,
         "l": 50,
         "pad": 4,
         "r": 50,
         "t": 15
        },
        "showlegend": true,
        "yaxis": {
         "title": "Count"
        }
       }
      },
      "text/html": [
       "<div id=\"ff3d8035-e2b4-4d6f-a175-0aa907f7e481\" style=\"height: 525px; width: 100%;\" class=\"plotly-graph-div\"></div><script type=\"text/javascript\">require([\"plotly\"], function(Plotly) { window.PLOTLYENV=window.PLOTLYENV || {};window.PLOTLYENV.BASE_URL=\"https://plot.ly\";Plotly.newPlot(\"ff3d8035-e2b4-4d6f-a175-0aa907f7e481\", [{\"marker\": {\"color\": \"#517C53\", \"line\": {\"color\": \"#517C53\", \"width\": 2}}, \"name\": \"A\", \"x\": [2012, 2013, 2014, 2015, 2016, 2017, 2018], \"y\": [141, 487, 471, 840, 714, 586, 266], \"type\": \"bar\", \"uid\": \"48705af6-05d3-419a-824b-b037dc365100\"}, {\"marker\": {\"color\": \"#99EB9D\", \"line\": {\"color\": \"#99EB9D\", \"width\": 2}}, \"name\": \"B\", \"x\": [2012, 2013, 2014, 2015, 2016, 2017, 2018], \"y\": [136, 379, 454, 886, 764, 539, 272], \"type\": \"bar\", \"uid\": \"d5ee4542-2028-444b-b0d6-14a67402af55\"}, {\"marker\": {\"color\": \"#E9F287\", \"line\": {\"color\": \"#E9F287\", \"width\": 2}}, \"name\": \"C\", \"x\": [2012, 2013, 2014, 2015, 2016, 2017, 2018], \"y\": [173, 452, 561, 1250, 1165, 864, 403], \"type\": \"bar\", \"uid\": \"ee62296e-3dfb-4e5d-8e2b-183a04e03c29\"}, {\"marker\": {\"color\": \"#F2CE75\", \"line\": {\"color\": \"#F2CE75\", \"width\": 2}}, \"name\": \"D\", \"x\": [2012, 2013, 2014, 2015, 2016, 2017, 2018], \"y\": [192, 503, 748, 1594, 1609, 1125, 584], \"type\": \"bar\", \"uid\": \"21fa65ae-e5e1-498f-9f11-0977b0803709\"}, {\"marker\": {\"color\": \"#F68774\", \"line\": {\"color\": \"#F68774\", \"width\": 2}}, \"name\": \"E\", \"x\": [2012, 2013, 2014, 2015, 2016, 2017, 2018], \"y\": [115, 284, 339, 969, 952, 671, 354], \"type\": \"bar\", \"uid\": \"09a91a51-2daf-415b-9a96-d71708baa06d\"}], {\"barmode\": \"stack\", \"margin\": {\"b\": 50, \"l\": 50, \"pad\": 4, \"r\": 50, \"t\": 15}, \"showlegend\": true, \"yaxis\": {\"title\": \"Count\"}}, {\"showLink\": true, \"linkText\": \"Export to plot.ly\"})});</script><script type=\"text/javascript\">window.addEventListener(\"resize\", function(){window._Plotly.Plots.resize(document.getElementById(\"ff3d8035-e2b4-4d6f-a175-0aa907f7e481\"));});</script>"
      ],
      "text/vnd.plotly.v1+html": [
       "<div id=\"ff3d8035-e2b4-4d6f-a175-0aa907f7e481\" style=\"height: 525px; width: 100%;\" class=\"plotly-graph-div\"></div><script type=\"text/javascript\">require([\"plotly\"], function(Plotly) { window.PLOTLYENV=window.PLOTLYENV || {};window.PLOTLYENV.BASE_URL=\"https://plot.ly\";Plotly.newPlot(\"ff3d8035-e2b4-4d6f-a175-0aa907f7e481\", [{\"marker\": {\"color\": \"#517C53\", \"line\": {\"color\": \"#517C53\", \"width\": 2}}, \"name\": \"A\", \"x\": [2012, 2013, 2014, 2015, 2016, 2017, 2018], \"y\": [141, 487, 471, 840, 714, 586, 266], \"type\": \"bar\", \"uid\": \"48705af6-05d3-419a-824b-b037dc365100\"}, {\"marker\": {\"color\": \"#99EB9D\", \"line\": {\"color\": \"#99EB9D\", \"width\": 2}}, \"name\": \"B\", \"x\": [2012, 2013, 2014, 2015, 2016, 2017, 2018], \"y\": [136, 379, 454, 886, 764, 539, 272], \"type\": \"bar\", \"uid\": \"d5ee4542-2028-444b-b0d6-14a67402af55\"}, {\"marker\": {\"color\": \"#E9F287\", \"line\": {\"color\": \"#E9F287\", \"width\": 2}}, \"name\": \"C\", \"x\": [2012, 2013, 2014, 2015, 2016, 2017, 2018], \"y\": [173, 452, 561, 1250, 1165, 864, 403], \"type\": \"bar\", \"uid\": \"ee62296e-3dfb-4e5d-8e2b-183a04e03c29\"}, {\"marker\": {\"color\": \"#F2CE75\", \"line\": {\"color\": \"#F2CE75\", \"width\": 2}}, \"name\": \"D\", \"x\": [2012, 2013, 2014, 2015, 2016, 2017, 2018], \"y\": [192, 503, 748, 1594, 1609, 1125, 584], \"type\": \"bar\", \"uid\": \"21fa65ae-e5e1-498f-9f11-0977b0803709\"}, {\"marker\": {\"color\": \"#F68774\", \"line\": {\"color\": \"#F68774\", \"width\": 2}}, \"name\": \"E\", \"x\": [2012, 2013, 2014, 2015, 2016, 2017, 2018], \"y\": [115, 284, 339, 969, 952, 671, 354], \"type\": \"bar\", \"uid\": \"09a91a51-2daf-415b-9a96-d71708baa06d\"}], {\"barmode\": \"stack\", \"margin\": {\"b\": 50, \"l\": 50, \"pad\": 4, \"r\": 50, \"t\": 15}, \"showlegend\": true, \"yaxis\": {\"title\": \"Count\"}}, {\"showLink\": true, \"linkText\": \"Export to plot.ly\"})});</script><script type=\"text/javascript\">window.addEventListener(\"resize\", function(){window._Plotly.Plots.resize(document.getElementById(\"ff3d8035-e2b4-4d6f-a175-0aa907f7e481\"));});</script>"
      ]
     },
     "metadata": {},
     "output_type": "display_data"
    }
   ],
   "source": [
    "visualize.make_grade_stacked_bar(nutrition_over_time_reduced, \n",
    "                                 'nutrition_grade', \n",
    "                                 'year', \n",
    "                                 'Count',\n",
    "                                 save_plots_offline, \n",
    "                                 'nutrition_grade')                        "
   ]
  },
  {
   "cell_type": "markdown",
   "metadata": {},
   "source": [
    "We observe that, as time passes, more products are being added with a nutritional grade, with a peak occurring during the years 2015-2016. Now, how has the composition of such products evolved:"
   ]
  },
  {
   "cell_type": "code",
   "execution_count": 26,
   "metadata": {},
   "outputs": [
    {
     "data": {
      "application/vnd.plotly.v1+json": {
       "data": [
        {
         "marker": {
          "color": "#517C53",
          "line": {
           "color": "#517C53",
           "width": 2
          }
         },
         "name": "A",
         "type": "bar",
         "uid": "ae89cabf-aa85-4f20-8c6b-1e4b59019b98",
         "x": [
          2012,
          2013,
          2014,
          2015,
          2016,
          2017,
          2018
         ],
         "y": [
          18.626155878467635,
          23.135391923990497,
          18.305479984453946,
          15.16519227297346,
          13.72021521906226,
          15.48216644649934,
          14.15646620542842
         ]
        },
        {
         "marker": {
          "color": "#99EB9D",
          "line": {
           "color": "#99EB9D",
           "width": 2
          }
         },
         "name": "B",
         "type": "bar",
         "uid": "416a02c5-9300-4458-9524-e9ebf74668c9",
         "x": [
          2012,
          2013,
          2014,
          2015,
          2016,
          2017,
          2018
         ],
         "y": [
          17.96565389696169,
          18.00475059382423,
          17.644772638942868,
          15.995667087922008,
          14.681014604150652,
          14.240422721268164,
          14.47578499201703
         ]
        },
        {
         "marker": {
          "color": "#E9F287",
          "line": {
           "color": "#E9F287",
           "width": 2
          }
         },
         "name": "C",
         "type": "bar",
         "uid": "06eaadec-2a94-42c8-9f98-8b571dcff208",
         "x": [
          2012,
          2013,
          2014,
          2015,
          2016,
          2017,
          2018
         ],
         "y": [
          22.85336856010568,
          21.47268408551069,
          21.803342401865528,
          22.56725040621051,
          22.38662567255957,
          22.826948480845445,
          21.447578499201704
         ]
        },
        {
         "marker": {
          "color": "#F2CE75",
          "line": {
           "color": "#F2CE75",
           "width": 2
          }
         },
         "name": "D",
         "type": "bar",
         "uid": "d2b12e16-db7e-45c3-817c-33e20e336d8c",
         "x": [
          2012,
          2013,
          2014,
          2015,
          2016,
          2017,
          2018
         ],
         "y": [
          25.36327608982827,
          23.895486935866984,
          29.07112320248737,
          28.77775771799964,
          30.918524212144504,
          29.722589167767506,
          31.080361894624804
         ]
        },
        {
         "marker": {
          "color": "#F68774",
          "line": {
           "color": "#F68774",
           "width": 2
          }
         },
         "name": "E",
         "type": "bar",
         "uid": "820ff30d-6c8a-4772-86f6-1e5f940019f7",
         "x": [
          2012,
          2013,
          2014,
          2015,
          2016,
          2017,
          2018
         ],
         "y": [
          15.191545574636725,
          13.4916864608076,
          13.17528177225029,
          17.494132514894385,
          18.293620292083013,
          17.72787318361955,
          18.839808408728047
         ]
        }
       ],
       "layout": {
        "barmode": "stack",
        "margin": {
         "b": 50,
         "l": 50,
         "pad": 4,
         "r": 50,
         "t": 15
        },
        "showlegend": true,
        "yaxis": {
         "title": "Percentage of products [%]"
        }
       }
      },
      "text/html": [
       "<div id=\"b5ba2c2e-1edc-4cd2-82f5-9e4bc445cead\" style=\"height: 525px; width: 100%;\" class=\"plotly-graph-div\"></div><script type=\"text/javascript\">require([\"plotly\"], function(Plotly) { window.PLOTLYENV=window.PLOTLYENV || {};window.PLOTLYENV.BASE_URL=\"https://plot.ly\";Plotly.newPlot(\"b5ba2c2e-1edc-4cd2-82f5-9e4bc445cead\", [{\"marker\": {\"color\": \"#517C53\", \"line\": {\"color\": \"#517C53\", \"width\": 2}}, \"name\": \"A\", \"x\": [2012, 2013, 2014, 2015, 2016, 2017, 2018], \"y\": [18.626155878467635, 23.135391923990497, 18.305479984453946, 15.16519227297346, 13.72021521906226, 15.48216644649934, 14.15646620542842], \"type\": \"bar\", \"uid\": \"ae89cabf-aa85-4f20-8c6b-1e4b59019b98\"}, {\"marker\": {\"color\": \"#99EB9D\", \"line\": {\"color\": \"#99EB9D\", \"width\": 2}}, \"name\": \"B\", \"x\": [2012, 2013, 2014, 2015, 2016, 2017, 2018], \"y\": [17.96565389696169, 18.00475059382423, 17.644772638942868, 15.995667087922008, 14.681014604150652, 14.240422721268164, 14.47578499201703], \"type\": \"bar\", \"uid\": \"416a02c5-9300-4458-9524-e9ebf74668c9\"}, {\"marker\": {\"color\": \"#E9F287\", \"line\": {\"color\": \"#E9F287\", \"width\": 2}}, \"name\": \"C\", \"x\": [2012, 2013, 2014, 2015, 2016, 2017, 2018], \"y\": [22.85336856010568, 21.47268408551069, 21.803342401865528, 22.56725040621051, 22.38662567255957, 22.826948480845445, 21.447578499201704], \"type\": \"bar\", \"uid\": \"06eaadec-2a94-42c8-9f98-8b571dcff208\"}, {\"marker\": {\"color\": \"#F2CE75\", \"line\": {\"color\": \"#F2CE75\", \"width\": 2}}, \"name\": \"D\", \"x\": [2012, 2013, 2014, 2015, 2016, 2017, 2018], \"y\": [25.36327608982827, 23.895486935866984, 29.07112320248737, 28.77775771799964, 30.918524212144504, 29.722589167767506, 31.080361894624804], \"type\": \"bar\", \"uid\": \"d2b12e16-db7e-45c3-817c-33e20e336d8c\"}, {\"marker\": {\"color\": \"#F68774\", \"line\": {\"color\": \"#F68774\", \"width\": 2}}, \"name\": \"E\", \"x\": [2012, 2013, 2014, 2015, 2016, 2017, 2018], \"y\": [15.191545574636725, 13.4916864608076, 13.17528177225029, 17.494132514894385, 18.293620292083013, 17.72787318361955, 18.839808408728047], \"type\": \"bar\", \"uid\": \"820ff30d-6c8a-4772-86f6-1e5f940019f7\"}], {\"barmode\": \"stack\", \"margin\": {\"b\": 50, \"l\": 50, \"pad\": 4, \"r\": 50, \"t\": 15}, \"showlegend\": true, \"yaxis\": {\"title\": \"Percentage of products [%]\"}}, {\"showLink\": true, \"linkText\": \"Export to plot.ly\"})});</script><script type=\"text/javascript\">window.addEventListener(\"resize\", function(){window._Plotly.Plots.resize(document.getElementById(\"b5ba2c2e-1edc-4cd2-82f5-9e4bc445cead\"));});</script>"
      ],
      "text/vnd.plotly.v1+html": [
       "<div id=\"b5ba2c2e-1edc-4cd2-82f5-9e4bc445cead\" style=\"height: 525px; width: 100%;\" class=\"plotly-graph-div\"></div><script type=\"text/javascript\">require([\"plotly\"], function(Plotly) { window.PLOTLYENV=window.PLOTLYENV || {};window.PLOTLYENV.BASE_URL=\"https://plot.ly\";Plotly.newPlot(\"b5ba2c2e-1edc-4cd2-82f5-9e4bc445cead\", [{\"marker\": {\"color\": \"#517C53\", \"line\": {\"color\": \"#517C53\", \"width\": 2}}, \"name\": \"A\", \"x\": [2012, 2013, 2014, 2015, 2016, 2017, 2018], \"y\": [18.626155878467635, 23.135391923990497, 18.305479984453946, 15.16519227297346, 13.72021521906226, 15.48216644649934, 14.15646620542842], \"type\": \"bar\", \"uid\": \"ae89cabf-aa85-4f20-8c6b-1e4b59019b98\"}, {\"marker\": {\"color\": \"#99EB9D\", \"line\": {\"color\": \"#99EB9D\", \"width\": 2}}, \"name\": \"B\", \"x\": [2012, 2013, 2014, 2015, 2016, 2017, 2018], \"y\": [17.96565389696169, 18.00475059382423, 17.644772638942868, 15.995667087922008, 14.681014604150652, 14.240422721268164, 14.47578499201703], \"type\": \"bar\", \"uid\": \"416a02c5-9300-4458-9524-e9ebf74668c9\"}, {\"marker\": {\"color\": \"#E9F287\", \"line\": {\"color\": \"#E9F287\", \"width\": 2}}, \"name\": \"C\", \"x\": [2012, 2013, 2014, 2015, 2016, 2017, 2018], \"y\": [22.85336856010568, 21.47268408551069, 21.803342401865528, 22.56725040621051, 22.38662567255957, 22.826948480845445, 21.447578499201704], \"type\": \"bar\", \"uid\": \"06eaadec-2a94-42c8-9f98-8b571dcff208\"}, {\"marker\": {\"color\": \"#F2CE75\", \"line\": {\"color\": \"#F2CE75\", \"width\": 2}}, \"name\": \"D\", \"x\": [2012, 2013, 2014, 2015, 2016, 2017, 2018], \"y\": [25.36327608982827, 23.895486935866984, 29.07112320248737, 28.77775771799964, 30.918524212144504, 29.722589167767506, 31.080361894624804], \"type\": \"bar\", \"uid\": \"d2b12e16-db7e-45c3-817c-33e20e336d8c\"}, {\"marker\": {\"color\": \"#F68774\", \"line\": {\"color\": \"#F68774\", \"width\": 2}}, \"name\": \"E\", \"x\": [2012, 2013, 2014, 2015, 2016, 2017, 2018], \"y\": [15.191545574636725, 13.4916864608076, 13.17528177225029, 17.494132514894385, 18.293620292083013, 17.72787318361955, 18.839808408728047], \"type\": \"bar\", \"uid\": \"820ff30d-6c8a-4772-86f6-1e5f940019f7\"}], {\"barmode\": \"stack\", \"margin\": {\"b\": 50, \"l\": 50, \"pad\": 4, \"r\": 50, \"t\": 15}, \"showlegend\": true, \"yaxis\": {\"title\": \"Percentage of products [%]\"}}, {\"showLink\": true, \"linkText\": \"Export to plot.ly\"})});</script><script type=\"text/javascript\">window.addEventListener(\"resize\", function(){window._Plotly.Plots.resize(document.getElementById(\"b5ba2c2e-1edc-4cd2-82f5-9e4bc445cead\"));});</script>"
      ]
     },
     "metadata": {},
     "output_type": "display_data"
    }
   ],
   "source": [
    "visualize.make_grade_stacked_bar(nutrition_over_time_reduced, \n",
    "                                 'nutrition_grade', \n",
    "                                 'year', \n",
    "                                 'Percentage',\n",
    "                                 save_plots_offline, \n",
    "                                 'nutrition_percentage')"
   ]
  },
  {
   "cell_type": "markdown",
   "metadata": {},
   "source": [
    "We observe that the percentage of prevalence of each grade has been mostly maintained during the last six years with a barely noticeable peak in 2013 for a high nutritional grade 'A'. However, since 2013, the proportion of badly graded products has grown over the graded product portfolio."
   ]
  },
  {
   "cell_type": "markdown",
   "metadata": {},
   "source": [
    "##### Are high graded products more expensive?"
   ]
  },
  {
   "cell_type": "code",
   "execution_count": 27,
   "metadata": {},
   "outputs": [],
   "source": [
    "#disambiguate product 1 columns of product names \n",
    "product_names = (nutrition_over_time[nutrition_over_time.columns[0]].values)[:,0]\n",
    "nutrition_over_time = nutrition_over_time.drop(nutrition_over_time.columns[0],axis=1)\n",
    "nutrition_over_time['product_name']=product_names"
   ]
  },
  {
   "cell_type": "code",
   "execution_count": 28,
   "metadata": {},
   "outputs": [],
   "source": [
    "price_grade_pd = food_facts_pd.merge(nutrition_over_time,on='product_name')"
   ]
  },
  {
   "cell_type": "code",
   "execution_count": 29,
   "metadata": {},
   "outputs": [],
   "source": [
    "price_grade_pd = price_grade_pd[price_grade_pd.price_per_100g.notna()]\\\n",
    "[['product_name', 'price_per_100g','nutrition_grade','nutrition-score-fr_100g_y','main_category_y']]"
   ]
  },
  {
   "cell_type": "markdown",
   "metadata": {},
   "source": [
    "<i>scatter_plot_price_grade</i> function plots a scatter plot of the price of products according to their nutritional mark, clustered by their nutritional grade (A,B,C,D or E)"
   ]
  },
  {
   "cell_type": "code",
   "execution_count": 30,
   "metadata": {
    "scrolled": true
   },
   "outputs": [
    {
     "data": {
      "application/vnd.plotly.v1+json": {
       "data": [
        {
         "hoverinfo": "text",
         "marker": {
          "color": "#99EB9D"
         },
         "mode": "markers",
         "name": "B",
         "text": [
          "0.089€ <br> grade:0.0",
          "0.089€ <br> grade:0.0",
          "0.089€ <br> grade:0.0",
          "0.089€ <br> grade:0.0",
          "0.089€ <br> grade:0.0",
          "0.089€ <br> grade:0.0",
          "0.089€ <br> grade:0.0",
          "0.089€ <br> grade:0.0",
          "0.089€ <br> grade:0.0",
          "0.089€ <br> grade:0.0",
          "0.089€ <br> grade:0.0",
          "0.089€ <br> grade:0.0",
          "0.089€ <br> grade:0.0",
          "0.089€ <br> grade:0.0",
          "0.089€ <br> grade:0.0",
          "0.089€ <br> grade:0.0",
          "0.089€ <br> grade:0.0",
          "0.089€ <br> grade:0.0",
          "0.089€ <br> grade:0.0",
          "0.089€ <br> grade:0.0",
          "0.089€ <br> grade:0.0",
          "0.089€ <br> grade:0.0",
          "1.026€ <br> grade:1.0",
          "1.026€ <br> grade:2.0",
          "1.026€ <br> grade:2.0",
          "1.026€ <br> grade:2.0",
          "1.026€ <br> grade:1.0",
          "1.026€ <br> grade:2.0",
          "1.026€ <br> grade:1.0",
          "1.026€ <br> grade:1.0",
          "1.026€ <br> grade:2.0",
          "1.026€ <br> grade:1.0",
          "1.026€ <br> grade:2.0",
          "1.026€ <br> grade:2.0",
          "1.026€ <br> grade:2.0",
          "1.026€ <br> grade:1.0",
          "1.026€ <br> grade:2.0",
          "1.026€ <br> grade:1.0",
          "1.026€ <br> grade:1.0",
          "1.026€ <br> grade:2.0",
          "1.026€ <br> grade:1.0",
          "1.026€ <br> grade:2.0",
          "1.026€ <br> grade:2.0",
          "1.026€ <br> grade:2.0",
          "1.026€ <br> grade:1.0",
          "1.026€ <br> grade:2.0",
          "1.026€ <br> grade:1.0",
          "1.026€ <br> grade:1.0",
          "1.026€ <br> grade:2.0",
          "1.026€ <br> grade:1.0",
          "1.026€ <br> grade:2.0",
          "1.026€ <br> grade:2.0",
          "1.026€ <br> grade:2.0",
          "1.026€ <br> grade:1.0",
          "1.026€ <br> grade:2.0",
          "1.026€ <br> grade:1.0",
          "1.026€ <br> grade:1.0",
          "1.026€ <br> grade:2.0",
          "1.026€ <br> grade:1.0",
          "1.026€ <br> grade:2.0",
          "1.026€ <br> grade:2.0",
          "1.026€ <br> grade:2.0",
          "1.026€ <br> grade:1.0",
          "1.026€ <br> grade:2.0",
          "1.026€ <br> grade:1.0",
          "1.026€ <br> grade:1.0",
          "1.026€ <br> grade:2.0",
          "1.026€ <br> grade:1.0",
          "1.026€ <br> grade:2.0",
          "1.026€ <br> grade:2.0",
          "1.026€ <br> grade:2.0",
          "1.026€ <br> grade:1.0",
          "1.026€ <br> grade:2.0",
          "1.026€ <br> grade:1.0",
          "1.026€ <br> grade:1.0",
          "1.026€ <br> grade:2.0",
          "1.026€ <br> grade:1.0",
          "1.026€ <br> grade:2.0",
          "1.026€ <br> grade:2.0",
          "1.026€ <br> grade:2.0",
          "1.026€ <br> grade:1.0",
          "1.026€ <br> grade:2.0",
          "1.026€ <br> grade:1.0",
          "1.026€ <br> grade:1.0",
          "1.026€ <br> grade:2.0",
          "1.026€ <br> grade:1.0",
          "1.026€ <br> grade:2.0",
          "1.026€ <br> grade:2.0",
          "1.026€ <br> grade:2.0",
          "1.026€ <br> grade:1.0",
          "1.026€ <br> grade:2.0",
          "1.026€ <br> grade:1.0",
          "1.026€ <br> grade:1.0",
          "1.026€ <br> grade:2.0",
          "1.026€ <br> grade:1.0",
          "1.026€ <br> grade:2.0",
          "1.026€ <br> grade:2.0",
          "1.026€ <br> grade:2.0",
          "1.026€ <br> grade:1.0",
          "1.026€ <br> grade:2.0",
          "1.026€ <br> grade:1.0",
          "1.026€ <br> grade:1.0",
          "1.026€ <br> grade:2.0",
          "1.026€ <br> grade:1.0",
          "1.026€ <br> grade:2.0",
          "1.026€ <br> grade:2.0",
          "1.026€ <br> grade:2.0",
          "1.026€ <br> grade:1.0",
          "1.026€ <br> grade:2.0",
          "1.026€ <br> grade:1.0",
          "1.026€ <br> grade:1.0",
          "1.026€ <br> grade:2.0",
          "1.026€ <br> grade:1.0",
          "1.026€ <br> grade:2.0",
          "1.026€ <br> grade:2.0",
          "1.026€ <br> grade:2.0",
          "1.026€ <br> grade:1.0",
          "1.026€ <br> grade:2.0",
          "1.026€ <br> grade:1.0",
          "1.026€ <br> grade:1.0",
          "1.026€ <br> grade:2.0",
          "1.026€ <br> grade:1.0",
          "1.026€ <br> grade:2.0",
          "1.026€ <br> grade:2.0",
          "1.026€ <br> grade:2.0",
          "1.026€ <br> grade:1.0",
          "1.026€ <br> grade:2.0",
          "1.026€ <br> grade:1.0",
          "1.026€ <br> grade:1.0",
          "1.026€ <br> grade:2.0",
          "1.026€ <br> grade:1.0",
          "1.026€ <br> grade:2.0",
          "1.026€ <br> grade:2.0",
          "1.026€ <br> grade:2.0",
          "1.026€ <br> grade:1.0",
          "1.026€ <br> grade:2.0",
          "1.026€ <br> grade:1.0",
          "1.026€ <br> grade:1.0",
          "1.026€ <br> grade:2.0",
          "1.026€ <br> grade:1.0",
          "1.026€ <br> grade:2.0",
          "1.026€ <br> grade:2.0",
          "1.026€ <br> grade:2.0",
          "1.026€ <br> grade:1.0",
          "1.026€ <br> grade:2.0",
          "1.026€ <br> grade:1.0",
          "1.026€ <br> grade:1.0",
          "1.026€ <br> grade:2.0",
          "1.026€ <br> grade:1.0",
          "1.026€ <br> grade:2.0",
          "1.026€ <br> grade:2.0",
          "1.026€ <br> grade:2.0",
          "1.026€ <br> grade:1.0",
          "1.026€ <br> grade:2.0",
          "1.026€ <br> grade:1.0",
          "1.026€ <br> grade:1.0",
          "1.026€ <br> grade:2.0",
          "1.026€ <br> grade:1.0",
          "1.026€ <br> grade:2.0",
          "1.026€ <br> grade:2.0",
          "1.026€ <br> grade:2.0",
          "1.026€ <br> grade:1.0",
          "1.026€ <br> grade:2.0",
          "1.026€ <br> grade:1.0",
          "1.026€ <br> grade:1.0",
          "1.026€ <br> grade:2.0",
          "1.026€ <br> grade:1.0",
          "1.026€ <br> grade:2.0",
          "1.026€ <br> grade:2.0",
          "1.026€ <br> grade:2.0",
          "1.026€ <br> grade:1.0",
          "1.026€ <br> grade:2.0",
          "1.026€ <br> grade:1.0",
          "1.026€ <br> grade:1.0",
          "1.026€ <br> grade:2.0",
          "0.129€ <br> grade:0.0",
          "0.129€ <br> grade:0.0",
          "0.129€ <br> grade:0.0",
          "0.129€ <br> grade:0.0",
          "0.159€ <br> grade:-1.0",
          "0.159€ <br> grade:-1.0",
          "0.159€ <br> grade:-1.0",
          "0.697€ <br> grade:2.0",
          "0.35€ <br> grade:0.0",
          "1.662€ <br> grade:1.0",
          "0.365€ <br> grade:2.0"
         ],
         "type": "scatter",
         "uid": "a073f06e-0cdb-4605-8c83-c277fdc6d45b",
         "x": [
          0.08900000000000001,
          0.08900000000000001,
          0.08900000000000001,
          0.08900000000000001,
          0.08900000000000001,
          0.08900000000000001,
          0.08900000000000001,
          0.08900000000000001,
          0.08900000000000001,
          0.08900000000000001,
          0.08900000000000001,
          0.08900000000000001,
          0.08900000000000001,
          0.08900000000000001,
          0.08900000000000001,
          0.08900000000000001,
          0.08900000000000001,
          0.08900000000000001,
          0.08900000000000001,
          0.08900000000000001,
          0.08900000000000001,
          0.08900000000000001,
          1.026,
          1.026,
          1.026,
          1.026,
          1.026,
          1.026,
          1.026,
          1.026,
          1.026,
          1.026,
          1.026,
          1.026,
          1.026,
          1.026,
          1.026,
          1.026,
          1.026,
          1.026,
          1.026,
          1.026,
          1.026,
          1.026,
          1.026,
          1.026,
          1.026,
          1.026,
          1.026,
          1.026,
          1.026,
          1.026,
          1.026,
          1.026,
          1.026,
          1.026,
          1.026,
          1.026,
          1.026,
          1.026,
          1.026,
          1.026,
          1.026,
          1.026,
          1.026,
          1.026,
          1.026,
          1.026,
          1.026,
          1.026,
          1.026,
          1.026,
          1.026,
          1.026,
          1.026,
          1.026,
          1.026,
          1.026,
          1.026,
          1.026,
          1.026,
          1.026,
          1.026,
          1.026,
          1.026,
          1.026,
          1.026,
          1.026,
          1.026,
          1.026,
          1.026,
          1.026,
          1.026,
          1.026,
          1.026,
          1.026,
          1.026,
          1.026,
          1.026,
          1.026,
          1.026,
          1.026,
          1.026,
          1.026,
          1.026,
          1.026,
          1.026,
          1.026,
          1.026,
          1.026,
          1.026,
          1.026,
          1.026,
          1.026,
          1.026,
          1.026,
          1.026,
          1.026,
          1.026,
          1.026,
          1.026,
          1.026,
          1.026,
          1.026,
          1.026,
          1.026,
          1.026,
          1.026,
          1.026,
          1.026,
          1.026,
          1.026,
          1.026,
          1.026,
          1.026,
          1.026,
          1.026,
          1.026,
          1.026,
          1.026,
          1.026,
          1.026,
          1.026,
          1.026,
          1.026,
          1.026,
          1.026,
          1.026,
          1.026,
          1.026,
          1.026,
          1.026,
          1.026,
          1.026,
          1.026,
          1.026,
          1.026,
          1.026,
          1.026,
          1.026,
          1.026,
          1.026,
          1.026,
          1.026,
          1.026,
          1.026,
          1.026,
          1.026,
          1.026,
          1.026,
          1.026,
          1.026,
          1.026,
          1.026,
          1.026,
          0.129,
          0.129,
          0.129,
          0.129,
          0.159,
          0.159,
          0.159,
          0.6970000000000001,
          0.35,
          1.662,
          0.365
         ],
         "y": [
          0,
          0,
          0,
          0,
          0,
          0,
          0,
          0,
          0,
          0,
          0,
          0,
          0,
          0,
          0,
          0,
          0,
          0,
          0,
          0,
          0,
          0,
          1,
          2,
          2,
          2,
          1,
          2,
          1,
          1,
          2,
          1,
          2,
          2,
          2,
          1,
          2,
          1,
          1,
          2,
          1,
          2,
          2,
          2,
          1,
          2,
          1,
          1,
          2,
          1,
          2,
          2,
          2,
          1,
          2,
          1,
          1,
          2,
          1,
          2,
          2,
          2,
          1,
          2,
          1,
          1,
          2,
          1,
          2,
          2,
          2,
          1,
          2,
          1,
          1,
          2,
          1,
          2,
          2,
          2,
          1,
          2,
          1,
          1,
          2,
          1,
          2,
          2,
          2,
          1,
          2,
          1,
          1,
          2,
          1,
          2,
          2,
          2,
          1,
          2,
          1,
          1,
          2,
          1,
          2,
          2,
          2,
          1,
          2,
          1,
          1,
          2,
          1,
          2,
          2,
          2,
          1,
          2,
          1,
          1,
          2,
          1,
          2,
          2,
          2,
          1,
          2,
          1,
          1,
          2,
          1,
          2,
          2,
          2,
          1,
          2,
          1,
          1,
          2,
          1,
          2,
          2,
          2,
          1,
          2,
          1,
          1,
          2,
          1,
          2,
          2,
          2,
          1,
          2,
          1,
          1,
          2,
          1,
          2,
          2,
          2,
          1,
          2,
          1,
          1,
          2,
          1,
          2,
          2,
          2,
          1,
          2,
          1,
          1,
          2,
          0,
          0,
          0,
          0,
          -1,
          -1,
          -1,
          2,
          0,
          1,
          2
         ]
        },
        {
         "hoverinfo": "text",
         "marker": {
          "color": "#517C53"
         },
         "mode": "markers",
         "name": "A",
         "text": [
          "0.089€ <br> grade:-4.0",
          "0.089€ <br> grade:-4.0",
          "0.089€ <br> grade:-4.0",
          "0.089€ <br> grade:-4.0",
          "0.089€ <br> grade:-3.0",
          "0.089€ <br> grade:-4.0",
          "0.089€ <br> grade:-5.0",
          "0.089€ <br> grade:-3.0",
          "0.089€ <br> grade:-4.0",
          "0.089€ <br> grade:-4.0",
          "0.089€ <br> grade:-4.0",
          "0.089€ <br> grade:-4.0",
          "0.089€ <br> grade:-4.0",
          "0.089€ <br> grade:-3.0",
          "0.089€ <br> grade:-4.0",
          "0.089€ <br> grade:-5.0",
          "0.089€ <br> grade:-3.0",
          "0.089€ <br> grade:-4.0",
          "0.089€ <br> grade:-4.0",
          "0.089€ <br> grade:-4.0",
          "0.089€ <br> grade:-4.0",
          "0.089€ <br> grade:-4.0",
          "0.089€ <br> grade:-3.0",
          "0.089€ <br> grade:-4.0",
          "0.089€ <br> grade:-5.0",
          "0.089€ <br> grade:-3.0",
          "0.089€ <br> grade:-4.0",
          "0.089€ <br> grade:-4.0",
          "0.089€ <br> grade:-4.0",
          "0.089€ <br> grade:-4.0",
          "0.089€ <br> grade:-4.0",
          "0.089€ <br> grade:-3.0",
          "0.089€ <br> grade:-4.0",
          "0.089€ <br> grade:-5.0",
          "0.089€ <br> grade:-3.0",
          "0.089€ <br> grade:-4.0",
          "0.089€ <br> grade:-4.0",
          "0.089€ <br> grade:-4.0",
          "0.089€ <br> grade:-4.0",
          "0.089€ <br> grade:-4.0",
          "0.089€ <br> grade:-3.0",
          "0.089€ <br> grade:-4.0",
          "0.089€ <br> grade:-5.0",
          "0.089€ <br> grade:-3.0",
          "0.089€ <br> grade:-4.0",
          "0.089€ <br> grade:-4.0",
          "0.089€ <br> grade:-4.0",
          "0.089€ <br> grade:-4.0",
          "0.089€ <br> grade:-4.0",
          "0.089€ <br> grade:-3.0",
          "0.089€ <br> grade:-4.0",
          "0.089€ <br> grade:-5.0",
          "0.089€ <br> grade:-3.0",
          "0.089€ <br> grade:-4.0",
          "0.089€ <br> grade:-4.0",
          "0.089€ <br> grade:-4.0",
          "0.089€ <br> grade:-4.0",
          "0.089€ <br> grade:-4.0",
          "0.089€ <br> grade:-3.0",
          "0.089€ <br> grade:-4.0",
          "0.089€ <br> grade:-5.0",
          "0.089€ <br> grade:-3.0",
          "0.089€ <br> grade:-4.0",
          "0.089€ <br> grade:-4.0",
          "0.089€ <br> grade:-4.0",
          "0.089€ <br> grade:-4.0",
          "0.089€ <br> grade:-4.0",
          "0.089€ <br> grade:-3.0",
          "0.089€ <br> grade:-4.0",
          "0.089€ <br> grade:-5.0",
          "0.089€ <br> grade:-3.0",
          "0.089€ <br> grade:-4.0",
          "0.089€ <br> grade:-4.0",
          "0.089€ <br> grade:-4.0",
          "0.089€ <br> grade:-4.0",
          "0.089€ <br> grade:-4.0",
          "0.089€ <br> grade:-3.0",
          "0.089€ <br> grade:-4.0",
          "0.089€ <br> grade:-5.0",
          "0.089€ <br> grade:-3.0",
          "0.089€ <br> grade:-4.0",
          "0.089€ <br> grade:-4.0",
          "0.089€ <br> grade:-4.0",
          "0.089€ <br> grade:-4.0",
          "0.089€ <br> grade:-4.0",
          "0.089€ <br> grade:-3.0",
          "0.089€ <br> grade:-4.0",
          "0.089€ <br> grade:-5.0",
          "0.089€ <br> grade:-3.0",
          "0.089€ <br> grade:-4.0",
          "0.089€ <br> grade:-4.0",
          "0.089€ <br> grade:-4.0",
          "0.089€ <br> grade:-4.0",
          "0.089€ <br> grade:-4.0",
          "0.089€ <br> grade:-3.0",
          "0.089€ <br> grade:-4.0",
          "0.089€ <br> grade:-5.0",
          "0.089€ <br> grade:-3.0",
          "0.089€ <br> grade:-4.0",
          "0.13€ <br> grade:-4.0",
          "0.13€ <br> grade:-4.0",
          "0.13€ <br> grade:-4.0",
          "0.13€ <br> grade:-1.0",
          "0.13€ <br> grade:-1.0",
          "0.13€ <br> grade:-4.0",
          "0.13€ <br> grade:-4.0",
          "0.13€ <br> grade:-4.0",
          "0.13€ <br> grade:-1.0",
          "0.13€ <br> grade:-1.0",
          "0.13€ <br> grade:-4.0",
          "0.13€ <br> grade:-4.0",
          "0.13€ <br> grade:-4.0",
          "0.13€ <br> grade:-1.0",
          "0.13€ <br> grade:-1.0",
          "0.13€ <br> grade:-4.0",
          "0.13€ <br> grade:-4.0",
          "0.13€ <br> grade:-4.0",
          "0.13€ <br> grade:-1.0",
          "0.13€ <br> grade:-1.0",
          "0.13€ <br> grade:-4.0",
          "0.13€ <br> grade:-4.0",
          "0.13€ <br> grade:-4.0",
          "0.13€ <br> grade:-1.0",
          "0.13€ <br> grade:-1.0",
          "2.289€ <br> grade:-1.0",
          "0.418€ <br> grade:-1.0",
          "0.532€ <br> grade:-2.0",
          "0.01€ <br> grade:-4.0",
          "0.089€ <br> grade:-6.0",
          "0.089€ <br> grade:-6.0",
          "0.089€ <br> grade:-6.0",
          "0.089€ <br> grade:-6.0",
          "0.289€ <br> grade:-4.0",
          "0.135€ <br> grade:-4.0",
          "0.218€ <br> grade:-6.0"
         ],
         "type": "scatter",
         "uid": "459737cf-21ea-4e36-ba82-75c84efcae71",
         "x": [
          0.08900000000000001,
          0.08900000000000001,
          0.08900000000000001,
          0.08900000000000001,
          0.08900000000000001,
          0.08900000000000001,
          0.08900000000000001,
          0.08900000000000001,
          0.08900000000000001,
          0.08900000000000001,
          0.08900000000000001,
          0.08900000000000001,
          0.08900000000000001,
          0.08900000000000001,
          0.08900000000000001,
          0.08900000000000001,
          0.08900000000000001,
          0.08900000000000001,
          0.08900000000000001,
          0.08900000000000001,
          0.08900000000000001,
          0.08900000000000001,
          0.08900000000000001,
          0.08900000000000001,
          0.08900000000000001,
          0.08900000000000001,
          0.08900000000000001,
          0.08900000000000001,
          0.08900000000000001,
          0.08900000000000001,
          0.08900000000000001,
          0.08900000000000001,
          0.08900000000000001,
          0.08900000000000001,
          0.08900000000000001,
          0.08900000000000001,
          0.08900000000000001,
          0.08900000000000001,
          0.08900000000000001,
          0.08900000000000001,
          0.08900000000000001,
          0.08900000000000001,
          0.08900000000000001,
          0.08900000000000001,
          0.08900000000000001,
          0.08900000000000001,
          0.08900000000000001,
          0.08900000000000001,
          0.08900000000000001,
          0.08900000000000001,
          0.08900000000000001,
          0.08900000000000001,
          0.08900000000000001,
          0.08900000000000001,
          0.08900000000000001,
          0.08900000000000001,
          0.08900000000000001,
          0.08900000000000001,
          0.08900000000000001,
          0.08900000000000001,
          0.08900000000000001,
          0.08900000000000001,
          0.08900000000000001,
          0.08900000000000001,
          0.08900000000000001,
          0.08900000000000001,
          0.08900000000000001,
          0.08900000000000001,
          0.08900000000000001,
          0.08900000000000001,
          0.08900000000000001,
          0.08900000000000001,
          0.08900000000000001,
          0.08900000000000001,
          0.08900000000000001,
          0.08900000000000001,
          0.08900000000000001,
          0.08900000000000001,
          0.08900000000000001,
          0.08900000000000001,
          0.08900000000000001,
          0.08900000000000001,
          0.08900000000000001,
          0.08900000000000001,
          0.08900000000000001,
          0.08900000000000001,
          0.08900000000000001,
          0.08900000000000001,
          0.08900000000000001,
          0.08900000000000001,
          0.08900000000000001,
          0.08900000000000001,
          0.08900000000000001,
          0.08900000000000001,
          0.08900000000000001,
          0.08900000000000001,
          0.08900000000000001,
          0.08900000000000001,
          0.08900000000000001,
          0.13,
          0.13,
          0.13,
          0.13,
          0.13,
          0.13,
          0.13,
          0.13,
          0.13,
          0.13,
          0.13,
          0.13,
          0.13,
          0.13,
          0.13,
          0.13,
          0.13,
          0.13,
          0.13,
          0.13,
          0.13,
          0.13,
          0.13,
          0.13,
          0.13,
          2.289,
          0.418,
          0.532,
          0.01,
          0.08900000000000001,
          0.08900000000000001,
          0.08900000000000001,
          0.08900000000000001,
          0.289,
          0.135,
          0.218
         ],
         "y": [
          -4,
          -4,
          -4,
          -4,
          -3,
          -4,
          -5,
          -3,
          -4,
          -4,
          -4,
          -4,
          -4,
          -3,
          -4,
          -5,
          -3,
          -4,
          -4,
          -4,
          -4,
          -4,
          -3,
          -4,
          -5,
          -3,
          -4,
          -4,
          -4,
          -4,
          -4,
          -3,
          -4,
          -5,
          -3,
          -4,
          -4,
          -4,
          -4,
          -4,
          -3,
          -4,
          -5,
          -3,
          -4,
          -4,
          -4,
          -4,
          -4,
          -3,
          -4,
          -5,
          -3,
          -4,
          -4,
          -4,
          -4,
          -4,
          -3,
          -4,
          -5,
          -3,
          -4,
          -4,
          -4,
          -4,
          -4,
          -3,
          -4,
          -5,
          -3,
          -4,
          -4,
          -4,
          -4,
          -4,
          -3,
          -4,
          -5,
          -3,
          -4,
          -4,
          -4,
          -4,
          -4,
          -3,
          -4,
          -5,
          -3,
          -4,
          -4,
          -4,
          -4,
          -4,
          -3,
          -4,
          -5,
          -3,
          -4,
          -4,
          -4,
          -4,
          -1,
          -1,
          -4,
          -4,
          -4,
          -1,
          -1,
          -4,
          -4,
          -4,
          -1,
          -1,
          -4,
          -4,
          -4,
          -1,
          -1,
          -4,
          -4,
          -4,
          -1,
          -1,
          -1,
          -1,
          -2,
          -4,
          -6,
          -6,
          -6,
          -6,
          -4,
          -4,
          -6
         ]
        },
        {
         "hoverinfo": "text",
         "marker": {
          "color": "#E9F287"
         },
         "mode": "markers",
         "name": "C",
         "text": [
          "1.026€ <br> grade:5.0",
          "1.026€ <br> grade:4.0",
          "1.026€ <br> grade:5.0",
          "1.026€ <br> grade:5.0",
          "1.026€ <br> grade:3.0",
          "1.026€ <br> grade:3.0",
          "1.026€ <br> grade:5.0",
          "1.026€ <br> grade:4.0",
          "1.026€ <br> grade:5.0",
          "1.026€ <br> grade:5.0",
          "1.026€ <br> grade:3.0",
          "1.026€ <br> grade:3.0",
          "1.026€ <br> grade:5.0",
          "1.026€ <br> grade:4.0",
          "1.026€ <br> grade:5.0",
          "1.026€ <br> grade:5.0",
          "1.026€ <br> grade:3.0",
          "1.026€ <br> grade:3.0",
          "1.026€ <br> grade:5.0",
          "1.026€ <br> grade:4.0",
          "1.026€ <br> grade:5.0",
          "1.026€ <br> grade:5.0",
          "1.026€ <br> grade:3.0",
          "1.026€ <br> grade:3.0",
          "1.026€ <br> grade:5.0",
          "1.026€ <br> grade:4.0",
          "1.026€ <br> grade:5.0",
          "1.026€ <br> grade:5.0",
          "1.026€ <br> grade:3.0",
          "1.026€ <br> grade:3.0",
          "1.026€ <br> grade:5.0",
          "1.026€ <br> grade:4.0",
          "1.026€ <br> grade:5.0",
          "1.026€ <br> grade:5.0",
          "1.026€ <br> grade:3.0",
          "1.026€ <br> grade:3.0",
          "1.026€ <br> grade:5.0",
          "1.026€ <br> grade:4.0",
          "1.026€ <br> grade:5.0",
          "1.026€ <br> grade:5.0",
          "1.026€ <br> grade:3.0",
          "1.026€ <br> grade:3.0",
          "1.026€ <br> grade:5.0",
          "1.026€ <br> grade:4.0",
          "1.026€ <br> grade:5.0",
          "1.026€ <br> grade:5.0",
          "1.026€ <br> grade:3.0",
          "1.026€ <br> grade:3.0",
          "1.026€ <br> grade:5.0",
          "1.026€ <br> grade:4.0",
          "1.026€ <br> grade:5.0",
          "1.026€ <br> grade:5.0",
          "1.026€ <br> grade:3.0",
          "1.026€ <br> grade:3.0",
          "1.026€ <br> grade:5.0",
          "1.026€ <br> grade:4.0",
          "1.026€ <br> grade:5.0",
          "1.026€ <br> grade:5.0",
          "1.026€ <br> grade:3.0",
          "1.026€ <br> grade:3.0",
          "1.026€ <br> grade:5.0",
          "1.026€ <br> grade:4.0",
          "1.026€ <br> grade:5.0",
          "1.026€ <br> grade:5.0",
          "1.026€ <br> grade:3.0",
          "1.026€ <br> grade:3.0",
          "1.026€ <br> grade:5.0",
          "1.026€ <br> grade:4.0",
          "1.026€ <br> grade:5.0",
          "1.026€ <br> grade:5.0",
          "1.026€ <br> grade:3.0",
          "1.026€ <br> grade:3.0",
          "1.026€ <br> grade:5.0",
          "1.026€ <br> grade:4.0",
          "1.026€ <br> grade:5.0",
          "1.026€ <br> grade:5.0",
          "1.026€ <br> grade:3.0",
          "1.026€ <br> grade:3.0",
          "1.026€ <br> grade:5.0",
          "1.026€ <br> grade:4.0",
          "1.026€ <br> grade:5.0",
          "1.026€ <br> grade:5.0",
          "1.026€ <br> grade:3.0",
          "1.026€ <br> grade:3.0",
          "1.026€ <br> grade:5.0",
          "1.026€ <br> grade:4.0",
          "1.026€ <br> grade:5.0",
          "1.026€ <br> grade:5.0",
          "1.026€ <br> grade:3.0",
          "1.026€ <br> grade:3.0",
          "1.026€ <br> grade:5.0",
          "1.026€ <br> grade:4.0",
          "1.026€ <br> grade:5.0",
          "1.026€ <br> grade:5.0",
          "1.026€ <br> grade:3.0",
          "1.026€ <br> grade:3.0",
          "1.026€ <br> grade:5.0",
          "1.026€ <br> grade:4.0",
          "1.026€ <br> grade:5.0",
          "1.026€ <br> grade:5.0",
          "1.026€ <br> grade:3.0",
          "1.026€ <br> grade:3.0",
          "0.159€ <br> grade:3.0",
          "0.159€ <br> grade:2.0",
          "0.159€ <br> grade:3.0",
          "0.159€ <br> grade:2.0",
          "0.159€ <br> grade:3.0",
          "0.159€ <br> grade:2.0",
          "0.65€ <br> grade:3.0",
          "0.398€ <br> grade:6.0",
          "0.398€ <br> grade:6.0",
          "1.43€ <br> grade:3.0",
          "0.35€ <br> grade:8.0",
          "0.267€ <br> grade:10.0"
         ],
         "type": "scatter",
         "uid": "3b54ae08-ee75-4bb5-bb4d-557664326292",
         "x": [
          1.026,
          1.026,
          1.026,
          1.026,
          1.026,
          1.026,
          1.026,
          1.026,
          1.026,
          1.026,
          1.026,
          1.026,
          1.026,
          1.026,
          1.026,
          1.026,
          1.026,
          1.026,
          1.026,
          1.026,
          1.026,
          1.026,
          1.026,
          1.026,
          1.026,
          1.026,
          1.026,
          1.026,
          1.026,
          1.026,
          1.026,
          1.026,
          1.026,
          1.026,
          1.026,
          1.026,
          1.026,
          1.026,
          1.026,
          1.026,
          1.026,
          1.026,
          1.026,
          1.026,
          1.026,
          1.026,
          1.026,
          1.026,
          1.026,
          1.026,
          1.026,
          1.026,
          1.026,
          1.026,
          1.026,
          1.026,
          1.026,
          1.026,
          1.026,
          1.026,
          1.026,
          1.026,
          1.026,
          1.026,
          1.026,
          1.026,
          1.026,
          1.026,
          1.026,
          1.026,
          1.026,
          1.026,
          1.026,
          1.026,
          1.026,
          1.026,
          1.026,
          1.026,
          1.026,
          1.026,
          1.026,
          1.026,
          1.026,
          1.026,
          1.026,
          1.026,
          1.026,
          1.026,
          1.026,
          1.026,
          1.026,
          1.026,
          1.026,
          1.026,
          1.026,
          1.026,
          1.026,
          1.026,
          1.026,
          1.026,
          1.026,
          1.026,
          0.159,
          0.159,
          0.159,
          0.159,
          0.159,
          0.159,
          0.65,
          0.398,
          0.398,
          1.43,
          0.35,
          0.267
         ],
         "y": [
          5,
          4,
          5,
          5,
          3,
          3,
          5,
          4,
          5,
          5,
          3,
          3,
          5,
          4,
          5,
          5,
          3,
          3,
          5,
          4,
          5,
          5,
          3,
          3,
          5,
          4,
          5,
          5,
          3,
          3,
          5,
          4,
          5,
          5,
          3,
          3,
          5,
          4,
          5,
          5,
          3,
          3,
          5,
          4,
          5,
          5,
          3,
          3,
          5,
          4,
          5,
          5,
          3,
          3,
          5,
          4,
          5,
          5,
          3,
          3,
          5,
          4,
          5,
          5,
          3,
          3,
          5,
          4,
          5,
          5,
          3,
          3,
          5,
          4,
          5,
          5,
          3,
          3,
          5,
          4,
          5,
          5,
          3,
          3,
          5,
          4,
          5,
          5,
          3,
          3,
          5,
          4,
          5,
          5,
          3,
          3,
          5,
          4,
          5,
          5,
          3,
          3,
          3,
          2,
          3,
          2,
          3,
          2,
          3,
          6,
          6,
          3,
          8,
          10
         ]
        },
        {
         "hoverinfo": "text",
         "marker": {
          "color": "#F2CE75"
         },
         "mode": "markers",
         "name": "D",
         "text": [
          "1.026€ <br> grade:11.0",
          "1.026€ <br> grade:11.0",
          "1.026€ <br> grade:11.0",
          "1.026€ <br> grade:11.0",
          "1.026€ <br> grade:11.0",
          "1.026€ <br> grade:11.0",
          "1.026€ <br> grade:11.0",
          "1.026€ <br> grade:11.0",
          "1.026€ <br> grade:11.0",
          "1.026€ <br> grade:11.0",
          "1.026€ <br> grade:11.0",
          "1.026€ <br> grade:11.0",
          "1.026€ <br> grade:11.0",
          "1.026€ <br> grade:11.0",
          "1.026€ <br> grade:11.0",
          "1.026€ <br> grade:11.0",
          "1.026€ <br> grade:11.0",
          "0.532€ <br> grade:17.0",
          "0.689€ <br> grade:14.0",
          "1.252€ <br> grade:13.0",
          "1.067€ <br> grade:11.0",
          "1.069€ <br> grade:11.0",
          "0.398€ <br> grade:12.0",
          "0.398€ <br> grade:12.0",
          "1.19€ <br> grade:12.0",
          "1.19€ <br> grade:12.0",
          "1.19€ <br> grade:12.0",
          "1.19€ <br> grade:12.0",
          "1.19€ <br> grade:12.0",
          "1.19€ <br> grade:12.0",
          "1.19€ <br> grade:12.0",
          "1.19€ <br> grade:12.0",
          "1.19€ <br> grade:12.0",
          "1.19€ <br> grade:12.0",
          "1.19€ <br> grade:12.0",
          "1.19€ <br> grade:12.0",
          "1.19€ <br> grade:12.0",
          "1.19€ <br> grade:12.0",
          "1.19€ <br> grade:12.0",
          "1.19€ <br> grade:12.0",
          "1.19€ <br> grade:12.0",
          "1.19€ <br> grade:12.0",
          "1.19€ <br> grade:12.0",
          "1.19€ <br> grade:12.0",
          "1.19€ <br> grade:12.0",
          "1.19€ <br> grade:12.0",
          "1.19€ <br> grade:12.0",
          "1.19€ <br> grade:12.0",
          "1.19€ <br> grade:12.0",
          "1.19€ <br> grade:12.0",
          "1.19€ <br> grade:12.0",
          "1.19€ <br> grade:12.0",
          "1.19€ <br> grade:12.0",
          "1.19€ <br> grade:12.0",
          "1.19€ <br> grade:12.0",
          "1.19€ <br> grade:12.0",
          "1.19€ <br> grade:12.0",
          "1.19€ <br> grade:12.0",
          "1.19€ <br> grade:12.0",
          "1.19€ <br> grade:12.0",
          "1.19€ <br> grade:12.0",
          "1.19€ <br> grade:12.0",
          "1.19€ <br> grade:12.0",
          "1.19€ <br> grade:12.0",
          "1.19€ <br> grade:12.0",
          "1.19€ <br> grade:12.0",
          "1.19€ <br> grade:12.0",
          "1.19€ <br> grade:12.0",
          "1.19€ <br> grade:12.0",
          "1.19€ <br> grade:12.0",
          "1.19€ <br> grade:12.0",
          "1.19€ <br> grade:12.0",
          "1.19€ <br> grade:12.0",
          "1.19€ <br> grade:12.0",
          "1.19€ <br> grade:12.0",
          "1.19€ <br> grade:12.0",
          "1.19€ <br> grade:12.0",
          "1.19€ <br> grade:12.0",
          "1.19€ <br> grade:12.0",
          "1.19€ <br> grade:12.0",
          "1.19€ <br> grade:12.0",
          "1.19€ <br> grade:12.0",
          "1.19€ <br> grade:12.0",
          "1.19€ <br> grade:12.0",
          "1.19€ <br> grade:12.0",
          "1.19€ <br> grade:12.0",
          "1.19€ <br> grade:12.0",
          "1.19€ <br> grade:12.0",
          "1.018€ <br> grade:17.0",
          "1.018€ <br> grade:15.0",
          "1.018€ <br> grade:17.0",
          "1.018€ <br> grade:15.0",
          "1.018€ <br> grade:17.0",
          "1.018€ <br> grade:15.0",
          "1.018€ <br> grade:17.0",
          "1.018€ <br> grade:15.0",
          "1.018€ <br> grade:17.0",
          "1.018€ <br> grade:15.0",
          "0.218€ <br> grade:12.0",
          "2.772€ <br> grade:12.0",
          "3.75€ <br> grade:13.0",
          "5.675€ <br> grade:12.0",
          "5.675€ <br> grade:12.0",
          "0.453€ <br> grade:15.0",
          "0.358€ <br> grade:14.0",
          "2.49€ <br> grade:15.0",
          "2.49€ <br> grade:15.0",
          "2.49€ <br> grade:15.0",
          "2.49€ <br> grade:15.0",
          "0.425€ <br> grade:16.0",
          "2.75€ <br> grade:18.0",
          "2.49€ <br> grade:14.0",
          "1.374€ <br> grade:16.0"
         ],
         "type": "scatter",
         "uid": "bb465ede-5add-4f63-8037-7fd112c82139",
         "x": [
          1.026,
          1.026,
          1.026,
          1.026,
          1.026,
          1.026,
          1.026,
          1.026,
          1.026,
          1.026,
          1.026,
          1.026,
          1.026,
          1.026,
          1.026,
          1.026,
          1.026,
          0.532,
          0.6890000000000001,
          1.252,
          1.067,
          1.069,
          0.398,
          0.398,
          1.19,
          1.19,
          1.19,
          1.19,
          1.19,
          1.19,
          1.19,
          1.19,
          1.19,
          1.19,
          1.19,
          1.19,
          1.19,
          1.19,
          1.19,
          1.19,
          1.19,
          1.19,
          1.19,
          1.19,
          1.19,
          1.19,
          1.19,
          1.19,
          1.19,
          1.19,
          1.19,
          1.19,
          1.19,
          1.19,
          1.19,
          1.19,
          1.19,
          1.19,
          1.19,
          1.19,
          1.19,
          1.19,
          1.19,
          1.19,
          1.19,
          1.19,
          1.19,
          1.19,
          1.19,
          1.19,
          1.19,
          1.19,
          1.19,
          1.19,
          1.19,
          1.19,
          1.19,
          1.19,
          1.19,
          1.19,
          1.19,
          1.19,
          1.19,
          1.19,
          1.19,
          1.19,
          1.19,
          1.19,
          1.018,
          1.018,
          1.018,
          1.018,
          1.018,
          1.018,
          1.018,
          1.018,
          1.018,
          1.018,
          0.218,
          2.772,
          3.75,
          5.675,
          5.675,
          0.453,
          0.358,
          2.49,
          2.49,
          2.49,
          2.49,
          0.425,
          2.75,
          2.49,
          1.374
         ],
         "y": [
          11,
          11,
          11,
          11,
          11,
          11,
          11,
          11,
          11,
          11,
          11,
          11,
          11,
          11,
          11,
          11,
          11,
          17,
          14,
          13,
          11,
          11,
          12,
          12,
          12,
          12,
          12,
          12,
          12,
          12,
          12,
          12,
          12,
          12,
          12,
          12,
          12,
          12,
          12,
          12,
          12,
          12,
          12,
          12,
          12,
          12,
          12,
          12,
          12,
          12,
          12,
          12,
          12,
          12,
          12,
          12,
          12,
          12,
          12,
          12,
          12,
          12,
          12,
          12,
          12,
          12,
          12,
          12,
          12,
          12,
          12,
          12,
          12,
          12,
          12,
          12,
          12,
          12,
          12,
          12,
          12,
          12,
          12,
          12,
          12,
          12,
          12,
          12,
          17,
          15,
          17,
          15,
          17,
          15,
          17,
          15,
          17,
          15,
          12,
          12,
          13,
          12,
          12,
          15,
          14,
          15,
          15,
          15,
          15,
          16,
          18,
          14,
          16
         ]
        },
        {
         "hoverinfo": "text",
         "marker": {
          "color": "#F68774"
         },
         "mode": "markers",
         "name": "E",
         "text": [
          "1.327€ <br> grade:20.0",
          "1.327€ <br> grade:20.0",
          "2.025€ <br> grade:23.0",
          "2.025€ <br> grade:22.0",
          "2.025€ <br> grade:23.0",
          "2.025€ <br> grade:22.0",
          "0.82€ <br> grade:24.0",
          "1.061€ <br> grade:20.0",
          "1.061€ <br> grade:21.0",
          "1.061€ <br> grade:21.0",
          "1.061€ <br> grade:21.0",
          "1.061€ <br> grade:21.0",
          "1.061€ <br> grade:21.0",
          "1.061€ <br> grade:20.0",
          "1.061€ <br> grade:21.0",
          "1.061€ <br> grade:21.0",
          "1.061€ <br> grade:21.0",
          "1.061€ <br> grade:21.0",
          "1.061€ <br> grade:21.0",
          "1.061€ <br> grade:20.0",
          "1.061€ <br> grade:21.0",
          "1.061€ <br> grade:21.0",
          "1.061€ <br> grade:21.0",
          "1.061€ <br> grade:21.0",
          "1.061€ <br> grade:21.0",
          "1.061€ <br> grade:20.0",
          "1.061€ <br> grade:21.0",
          "1.061€ <br> grade:21.0",
          "1.061€ <br> grade:21.0",
          "1.061€ <br> grade:21.0",
          "1.061€ <br> grade:21.0",
          "1.061€ <br> grade:20.0",
          "1.061€ <br> grade:21.0",
          "1.061€ <br> grade:21.0",
          "1.061€ <br> grade:21.0",
          "1.061€ <br> grade:21.0",
          "1.061€ <br> grade:21.0",
          "1.061€ <br> grade:20.0",
          "1.061€ <br> grade:21.0",
          "1.061€ <br> grade:21.0",
          "1.061€ <br> grade:21.0",
          "1.061€ <br> grade:21.0",
          "1.061€ <br> grade:21.0",
          "1.061€ <br> grade:20.0",
          "1.061€ <br> grade:21.0",
          "1.061€ <br> grade:21.0",
          "1.061€ <br> grade:21.0",
          "1.061€ <br> grade:21.0",
          "1.061€ <br> grade:21.0",
          "1.018€ <br> grade:26.0",
          "1.018€ <br> grade:26.0",
          "1.018€ <br> grade:25.0",
          "1.018€ <br> grade:26.0",
          "1.018€ <br> grade:26.0",
          "1.018€ <br> grade:25.0",
          "1.018€ <br> grade:26.0",
          "1.018€ <br> grade:26.0",
          "1.018€ <br> grade:25.0",
          "1.018€ <br> grade:26.0",
          "1.018€ <br> grade:26.0",
          "1.018€ <br> grade:25.0",
          "1.018€ <br> grade:26.0",
          "1.018€ <br> grade:26.0",
          "1.018€ <br> grade:25.0",
          "0.39€ <br> grade:28.0",
          "0.39€ <br> grade:28.0",
          "5.675€ <br> grade:20.0",
          "2.45€ <br> grade:19.0",
          "2.28€ <br> grade:27.0",
          "2.78€ <br> grade:26.0",
          "2.8€ <br> grade:21.0",
          "2.86€ <br> grade:20.0",
          "0.398€ <br> grade:26.0",
          "0.418€ <br> grade:13.0",
          "0.418€ <br> grade:16.0",
          "0.53€ <br> grade:15.0",
          "2.78€ <br> grade:20.0",
          "2.44€ <br> grade:20.0",
          "2.8€ <br> grade:20.0",
          "0.99€ <br> grade:19.0",
          "3.01€ <br> grade:20.0"
         ],
         "type": "scatter",
         "uid": "22c5481e-d0fc-4a70-8dec-e1d173bc3ec8",
         "x": [
          1.327,
          1.327,
          2.025,
          2.025,
          2.025,
          2.025,
          0.82,
          1.061,
          1.061,
          1.061,
          1.061,
          1.061,
          1.061,
          1.061,
          1.061,
          1.061,
          1.061,
          1.061,
          1.061,
          1.061,
          1.061,
          1.061,
          1.061,
          1.061,
          1.061,
          1.061,
          1.061,
          1.061,
          1.061,
          1.061,
          1.061,
          1.061,
          1.061,
          1.061,
          1.061,
          1.061,
          1.061,
          1.061,
          1.061,
          1.061,
          1.061,
          1.061,
          1.061,
          1.061,
          1.061,
          1.061,
          1.061,
          1.061,
          1.061,
          1.018,
          1.018,
          1.018,
          1.018,
          1.018,
          1.018,
          1.018,
          1.018,
          1.018,
          1.018,
          1.018,
          1.018,
          1.018,
          1.018,
          1.018,
          0.39,
          0.39,
          5.675,
          2.45,
          2.28,
          2.78,
          2.8,
          2.86,
          0.398,
          0.418,
          0.418,
          0.53,
          2.78,
          2.44,
          2.8,
          0.99,
          3.01
         ],
         "y": [
          20,
          20,
          23,
          22,
          23,
          22,
          24,
          20,
          21,
          21,
          21,
          21,
          21,
          20,
          21,
          21,
          21,
          21,
          21,
          20,
          21,
          21,
          21,
          21,
          21,
          20,
          21,
          21,
          21,
          21,
          21,
          20,
          21,
          21,
          21,
          21,
          21,
          20,
          21,
          21,
          21,
          21,
          21,
          20,
          21,
          21,
          21,
          21,
          21,
          26,
          26,
          25,
          26,
          26,
          25,
          26,
          26,
          25,
          26,
          26,
          25,
          26,
          26,
          25,
          28,
          28,
          20,
          19,
          27,
          26,
          21,
          20,
          26,
          13,
          16,
          15,
          20,
          20,
          20,
          19,
          20
         ]
        }
       ],
       "layout": {
        "xaxis": {
         "title": "Price[€]"
        },
        "yaxis": {
         "title": "Nutritional grade"
        }
       }
      },
      "text/html": [
       "<div id=\"3360e2b3-5205-49f1-80bf-680df25ffb10\" style=\"height: 525px; width: 100%;\" class=\"plotly-graph-div\"></div><script type=\"text/javascript\">require([\"plotly\"], function(Plotly) { window.PLOTLYENV=window.PLOTLYENV || {};window.PLOTLYENV.BASE_URL=\"https://plot.ly\";Plotly.newPlot(\"3360e2b3-5205-49f1-80bf-680df25ffb10\", [{\"hoverinfo\": \"text\", \"marker\": {\"color\": \"#99EB9D\"}, \"mode\": \"markers\", \"name\": \"B\", \"text\": [\"0.089\\u20ac <br> grade:0.0\", \"0.089\\u20ac <br> grade:0.0\", \"0.089\\u20ac <br> grade:0.0\", \"0.089\\u20ac <br> grade:0.0\", \"0.089\\u20ac <br> grade:0.0\", \"0.089\\u20ac <br> grade:0.0\", \"0.089\\u20ac <br> grade:0.0\", \"0.089\\u20ac <br> grade:0.0\", \"0.089\\u20ac <br> grade:0.0\", \"0.089\\u20ac <br> grade:0.0\", \"0.089\\u20ac <br> grade:0.0\", \"0.089\\u20ac <br> grade:0.0\", \"0.089\\u20ac <br> grade:0.0\", \"0.089\\u20ac <br> grade:0.0\", \"0.089\\u20ac <br> grade:0.0\", \"0.089\\u20ac <br> grade:0.0\", \"0.089\\u20ac <br> grade:0.0\", \"0.089\\u20ac <br> grade:0.0\", \"0.089\\u20ac <br> grade:0.0\", \"0.089\\u20ac <br> grade:0.0\", \"0.089\\u20ac <br> grade:0.0\", \"0.089\\u20ac <br> grade:0.0\", \"1.026\\u20ac <br> grade:1.0\", \"1.026\\u20ac <br> grade:2.0\", \"1.026\\u20ac <br> grade:2.0\", \"1.026\\u20ac <br> grade:2.0\", \"1.026\\u20ac <br> grade:1.0\", \"1.026\\u20ac <br> grade:2.0\", \"1.026\\u20ac <br> grade:1.0\", \"1.026\\u20ac <br> grade:1.0\", \"1.026\\u20ac <br> grade:2.0\", \"1.026\\u20ac <br> grade:1.0\", \"1.026\\u20ac <br> grade:2.0\", \"1.026\\u20ac <br> grade:2.0\", \"1.026\\u20ac <br> grade:2.0\", \"1.026\\u20ac <br> grade:1.0\", \"1.026\\u20ac <br> grade:2.0\", \"1.026\\u20ac <br> grade:1.0\", \"1.026\\u20ac <br> grade:1.0\", \"1.026\\u20ac <br> grade:2.0\", \"1.026\\u20ac <br> grade:1.0\", \"1.026\\u20ac <br> grade:2.0\", \"1.026\\u20ac <br> grade:2.0\", \"1.026\\u20ac <br> grade:2.0\", \"1.026\\u20ac <br> grade:1.0\", \"1.026\\u20ac <br> grade:2.0\", \"1.026\\u20ac <br> grade:1.0\", \"1.026\\u20ac <br> grade:1.0\", \"1.026\\u20ac <br> grade:2.0\", \"1.026\\u20ac <br> grade:1.0\", \"1.026\\u20ac <br> grade:2.0\", \"1.026\\u20ac <br> grade:2.0\", \"1.026\\u20ac <br> grade:2.0\", \"1.026\\u20ac <br> grade:1.0\", \"1.026\\u20ac <br> grade:2.0\", \"1.026\\u20ac <br> grade:1.0\", \"1.026\\u20ac <br> grade:1.0\", \"1.026\\u20ac <br> grade:2.0\", \"1.026\\u20ac <br> grade:1.0\", \"1.026\\u20ac <br> grade:2.0\", \"1.026\\u20ac <br> grade:2.0\", \"1.026\\u20ac <br> grade:2.0\", \"1.026\\u20ac <br> grade:1.0\", \"1.026\\u20ac <br> grade:2.0\", \"1.026\\u20ac <br> grade:1.0\", \"1.026\\u20ac <br> grade:1.0\", \"1.026\\u20ac <br> grade:2.0\", \"1.026\\u20ac <br> grade:1.0\", \"1.026\\u20ac <br> grade:2.0\", \"1.026\\u20ac <br> grade:2.0\", \"1.026\\u20ac <br> grade:2.0\", \"1.026\\u20ac <br> grade:1.0\", \"1.026\\u20ac <br> grade:2.0\", \"1.026\\u20ac <br> grade:1.0\", \"1.026\\u20ac <br> grade:1.0\", \"1.026\\u20ac <br> grade:2.0\", \"1.026\\u20ac <br> grade:1.0\", \"1.026\\u20ac <br> grade:2.0\", \"1.026\\u20ac <br> grade:2.0\", \"1.026\\u20ac <br> grade:2.0\", \"1.026\\u20ac <br> grade:1.0\", \"1.026\\u20ac <br> grade:2.0\", \"1.026\\u20ac <br> grade:1.0\", \"1.026\\u20ac <br> grade:1.0\", \"1.026\\u20ac <br> grade:2.0\", \"1.026\\u20ac <br> grade:1.0\", \"1.026\\u20ac <br> grade:2.0\", \"1.026\\u20ac <br> grade:2.0\", \"1.026\\u20ac <br> grade:2.0\", \"1.026\\u20ac <br> grade:1.0\", \"1.026\\u20ac <br> grade:2.0\", \"1.026\\u20ac <br> grade:1.0\", \"1.026\\u20ac <br> grade:1.0\", \"1.026\\u20ac <br> grade:2.0\", \"1.026\\u20ac <br> grade:1.0\", \"1.026\\u20ac <br> grade:2.0\", \"1.026\\u20ac <br> grade:2.0\", \"1.026\\u20ac <br> grade:2.0\", \"1.026\\u20ac <br> grade:1.0\", \"1.026\\u20ac <br> grade:2.0\", \"1.026\\u20ac <br> grade:1.0\", \"1.026\\u20ac <br> grade:1.0\", \"1.026\\u20ac <br> grade:2.0\", \"1.026\\u20ac <br> grade:1.0\", \"1.026\\u20ac <br> grade:2.0\", \"1.026\\u20ac <br> grade:2.0\", \"1.026\\u20ac <br> grade:2.0\", \"1.026\\u20ac <br> grade:1.0\", \"1.026\\u20ac <br> grade:2.0\", \"1.026\\u20ac <br> grade:1.0\", \"1.026\\u20ac <br> grade:1.0\", \"1.026\\u20ac <br> grade:2.0\", \"1.026\\u20ac <br> grade:1.0\", \"1.026\\u20ac <br> grade:2.0\", \"1.026\\u20ac <br> grade:2.0\", \"1.026\\u20ac <br> grade:2.0\", \"1.026\\u20ac <br> grade:1.0\", \"1.026\\u20ac <br> grade:2.0\", \"1.026\\u20ac <br> grade:1.0\", \"1.026\\u20ac <br> grade:1.0\", \"1.026\\u20ac <br> grade:2.0\", \"1.026\\u20ac <br> grade:1.0\", \"1.026\\u20ac <br> grade:2.0\", \"1.026\\u20ac <br> grade:2.0\", \"1.026\\u20ac <br> grade:2.0\", \"1.026\\u20ac <br> grade:1.0\", \"1.026\\u20ac <br> grade:2.0\", \"1.026\\u20ac <br> grade:1.0\", \"1.026\\u20ac <br> grade:1.0\", \"1.026\\u20ac <br> grade:2.0\", \"1.026\\u20ac <br> grade:1.0\", \"1.026\\u20ac <br> grade:2.0\", \"1.026\\u20ac <br> grade:2.0\", \"1.026\\u20ac <br> grade:2.0\", \"1.026\\u20ac <br> grade:1.0\", \"1.026\\u20ac <br> grade:2.0\", \"1.026\\u20ac <br> grade:1.0\", \"1.026\\u20ac <br> grade:1.0\", \"1.026\\u20ac <br> grade:2.0\", \"1.026\\u20ac <br> grade:1.0\", \"1.026\\u20ac <br> grade:2.0\", \"1.026\\u20ac <br> grade:2.0\", \"1.026\\u20ac <br> grade:2.0\", \"1.026\\u20ac <br> grade:1.0\", \"1.026\\u20ac <br> grade:2.0\", \"1.026\\u20ac <br> grade:1.0\", \"1.026\\u20ac <br> grade:1.0\", \"1.026\\u20ac <br> grade:2.0\", \"1.026\\u20ac <br> grade:1.0\", \"1.026\\u20ac <br> grade:2.0\", \"1.026\\u20ac <br> grade:2.0\", \"1.026\\u20ac <br> grade:2.0\", \"1.026\\u20ac <br> grade:1.0\", \"1.026\\u20ac <br> grade:2.0\", \"1.026\\u20ac <br> grade:1.0\", \"1.026\\u20ac <br> grade:1.0\", \"1.026\\u20ac <br> grade:2.0\", \"1.026\\u20ac <br> grade:1.0\", \"1.026\\u20ac <br> grade:2.0\", \"1.026\\u20ac <br> grade:2.0\", \"1.026\\u20ac <br> grade:2.0\", \"1.026\\u20ac <br> grade:1.0\", \"1.026\\u20ac <br> grade:2.0\", \"1.026\\u20ac <br> grade:1.0\", \"1.026\\u20ac <br> grade:1.0\", \"1.026\\u20ac <br> grade:2.0\", \"1.026\\u20ac <br> grade:1.0\", \"1.026\\u20ac <br> grade:2.0\", \"1.026\\u20ac <br> grade:2.0\", \"1.026\\u20ac <br> grade:2.0\", \"1.026\\u20ac <br> grade:1.0\", \"1.026\\u20ac <br> grade:2.0\", \"1.026\\u20ac <br> grade:1.0\", \"1.026\\u20ac <br> grade:1.0\", \"1.026\\u20ac <br> grade:2.0\", \"0.129\\u20ac <br> grade:0.0\", \"0.129\\u20ac <br> grade:0.0\", \"0.129\\u20ac <br> grade:0.0\", \"0.129\\u20ac <br> grade:0.0\", \"0.159\\u20ac <br> grade:-1.0\", \"0.159\\u20ac <br> grade:-1.0\", \"0.159\\u20ac <br> grade:-1.0\", \"0.697\\u20ac <br> grade:2.0\", \"0.35\\u20ac <br> grade:0.0\", \"1.662\\u20ac <br> grade:1.0\", \"0.365\\u20ac <br> grade:2.0\"], \"x\": [0.08900000000000001, 0.08900000000000001, 0.08900000000000001, 0.08900000000000001, 0.08900000000000001, 0.08900000000000001, 0.08900000000000001, 0.08900000000000001, 0.08900000000000001, 0.08900000000000001, 0.08900000000000001, 0.08900000000000001, 0.08900000000000001, 0.08900000000000001, 0.08900000000000001, 0.08900000000000001, 0.08900000000000001, 0.08900000000000001, 0.08900000000000001, 0.08900000000000001, 0.08900000000000001, 0.08900000000000001, 1.026, 1.026, 1.026, 1.026, 1.026, 1.026, 1.026, 1.026, 1.026, 1.026, 1.026, 1.026, 1.026, 1.026, 1.026, 1.026, 1.026, 1.026, 1.026, 1.026, 1.026, 1.026, 1.026, 1.026, 1.026, 1.026, 1.026, 1.026, 1.026, 1.026, 1.026, 1.026, 1.026, 1.026, 1.026, 1.026, 1.026, 1.026, 1.026, 1.026, 1.026, 1.026, 1.026, 1.026, 1.026, 1.026, 1.026, 1.026, 1.026, 1.026, 1.026, 1.026, 1.026, 1.026, 1.026, 1.026, 1.026, 1.026, 1.026, 1.026, 1.026, 1.026, 1.026, 1.026, 1.026, 1.026, 1.026, 1.026, 1.026, 1.026, 1.026, 1.026, 1.026, 1.026, 1.026, 1.026, 1.026, 1.026, 1.026, 1.026, 1.026, 1.026, 1.026, 1.026, 1.026, 1.026, 1.026, 1.026, 1.026, 1.026, 1.026, 1.026, 1.026, 1.026, 1.026, 1.026, 1.026, 1.026, 1.026, 1.026, 1.026, 1.026, 1.026, 1.026, 1.026, 1.026, 1.026, 1.026, 1.026, 1.026, 1.026, 1.026, 1.026, 1.026, 1.026, 1.026, 1.026, 1.026, 1.026, 1.026, 1.026, 1.026, 1.026, 1.026, 1.026, 1.026, 1.026, 1.026, 1.026, 1.026, 1.026, 1.026, 1.026, 1.026, 1.026, 1.026, 1.026, 1.026, 1.026, 1.026, 1.026, 1.026, 1.026, 1.026, 1.026, 1.026, 1.026, 1.026, 1.026, 1.026, 1.026, 1.026, 1.026, 0.129, 0.129, 0.129, 0.129, 0.159, 0.159, 0.159, 0.6970000000000001, 0.35, 1.662, 0.365], \"y\": [0.0, 0.0, 0.0, 0.0, 0.0, 0.0, 0.0, 0.0, 0.0, 0.0, 0.0, 0.0, 0.0, 0.0, 0.0, 0.0, 0.0, 0.0, 0.0, 0.0, 0.0, 0.0, 1.0, 2.0, 2.0, 2.0, 1.0, 2.0, 1.0, 1.0, 2.0, 1.0, 2.0, 2.0, 2.0, 1.0, 2.0, 1.0, 1.0, 2.0, 1.0, 2.0, 2.0, 2.0, 1.0, 2.0, 1.0, 1.0, 2.0, 1.0, 2.0, 2.0, 2.0, 1.0, 2.0, 1.0, 1.0, 2.0, 1.0, 2.0, 2.0, 2.0, 1.0, 2.0, 1.0, 1.0, 2.0, 1.0, 2.0, 2.0, 2.0, 1.0, 2.0, 1.0, 1.0, 2.0, 1.0, 2.0, 2.0, 2.0, 1.0, 2.0, 1.0, 1.0, 2.0, 1.0, 2.0, 2.0, 2.0, 1.0, 2.0, 1.0, 1.0, 2.0, 1.0, 2.0, 2.0, 2.0, 1.0, 2.0, 1.0, 1.0, 2.0, 1.0, 2.0, 2.0, 2.0, 1.0, 2.0, 1.0, 1.0, 2.0, 1.0, 2.0, 2.0, 2.0, 1.0, 2.0, 1.0, 1.0, 2.0, 1.0, 2.0, 2.0, 2.0, 1.0, 2.0, 1.0, 1.0, 2.0, 1.0, 2.0, 2.0, 2.0, 1.0, 2.0, 1.0, 1.0, 2.0, 1.0, 2.0, 2.0, 2.0, 1.0, 2.0, 1.0, 1.0, 2.0, 1.0, 2.0, 2.0, 2.0, 1.0, 2.0, 1.0, 1.0, 2.0, 1.0, 2.0, 2.0, 2.0, 1.0, 2.0, 1.0, 1.0, 2.0, 1.0, 2.0, 2.0, 2.0, 1.0, 2.0, 1.0, 1.0, 2.0, 0.0, 0.0, 0.0, 0.0, -1.0, -1.0, -1.0, 2.0, 0.0, 1.0, 2.0], \"type\": \"scatter\", \"uid\": \"a073f06e-0cdb-4605-8c83-c277fdc6d45b\"}, {\"hoverinfo\": \"text\", \"marker\": {\"color\": \"#517C53\"}, \"mode\": \"markers\", \"name\": \"A\", \"text\": [\"0.089\\u20ac <br> grade:-4.0\", \"0.089\\u20ac <br> grade:-4.0\", \"0.089\\u20ac <br> grade:-4.0\", \"0.089\\u20ac <br> grade:-4.0\", \"0.089\\u20ac <br> grade:-3.0\", \"0.089\\u20ac <br> grade:-4.0\", \"0.089\\u20ac <br> grade:-5.0\", \"0.089\\u20ac <br> grade:-3.0\", \"0.089\\u20ac <br> grade:-4.0\", \"0.089\\u20ac <br> grade:-4.0\", \"0.089\\u20ac <br> grade:-4.0\", \"0.089\\u20ac <br> grade:-4.0\", \"0.089\\u20ac <br> grade:-4.0\", \"0.089\\u20ac <br> grade:-3.0\", \"0.089\\u20ac <br> grade:-4.0\", \"0.089\\u20ac <br> grade:-5.0\", \"0.089\\u20ac <br> grade:-3.0\", \"0.089\\u20ac <br> grade:-4.0\", \"0.089\\u20ac <br> grade:-4.0\", \"0.089\\u20ac <br> grade:-4.0\", \"0.089\\u20ac <br> grade:-4.0\", \"0.089\\u20ac <br> grade:-4.0\", \"0.089\\u20ac <br> grade:-3.0\", \"0.089\\u20ac <br> grade:-4.0\", \"0.089\\u20ac <br> grade:-5.0\", \"0.089\\u20ac <br> grade:-3.0\", \"0.089\\u20ac <br> grade:-4.0\", \"0.089\\u20ac <br> grade:-4.0\", \"0.089\\u20ac <br> grade:-4.0\", \"0.089\\u20ac <br> grade:-4.0\", \"0.089\\u20ac <br> grade:-4.0\", \"0.089\\u20ac <br> grade:-3.0\", \"0.089\\u20ac <br> grade:-4.0\", \"0.089\\u20ac <br> grade:-5.0\", \"0.089\\u20ac <br> grade:-3.0\", \"0.089\\u20ac <br> grade:-4.0\", \"0.089\\u20ac <br> grade:-4.0\", \"0.089\\u20ac <br> grade:-4.0\", \"0.089\\u20ac <br> grade:-4.0\", \"0.089\\u20ac <br> grade:-4.0\", \"0.089\\u20ac <br> grade:-3.0\", \"0.089\\u20ac <br> grade:-4.0\", \"0.089\\u20ac <br> grade:-5.0\", \"0.089\\u20ac <br> grade:-3.0\", \"0.089\\u20ac <br> grade:-4.0\", \"0.089\\u20ac <br> grade:-4.0\", \"0.089\\u20ac <br> grade:-4.0\", \"0.089\\u20ac <br> grade:-4.0\", \"0.089\\u20ac <br> grade:-4.0\", \"0.089\\u20ac <br> grade:-3.0\", \"0.089\\u20ac <br> grade:-4.0\", \"0.089\\u20ac <br> grade:-5.0\", \"0.089\\u20ac <br> grade:-3.0\", \"0.089\\u20ac <br> grade:-4.0\", \"0.089\\u20ac <br> grade:-4.0\", \"0.089\\u20ac <br> grade:-4.0\", \"0.089\\u20ac <br> grade:-4.0\", \"0.089\\u20ac <br> grade:-4.0\", \"0.089\\u20ac <br> grade:-3.0\", \"0.089\\u20ac <br> grade:-4.0\", \"0.089\\u20ac <br> grade:-5.0\", \"0.089\\u20ac <br> grade:-3.0\", \"0.089\\u20ac <br> grade:-4.0\", \"0.089\\u20ac <br> grade:-4.0\", \"0.089\\u20ac <br> grade:-4.0\", \"0.089\\u20ac <br> grade:-4.0\", \"0.089\\u20ac <br> grade:-4.0\", \"0.089\\u20ac <br> grade:-3.0\", \"0.089\\u20ac <br> grade:-4.0\", \"0.089\\u20ac <br> grade:-5.0\", \"0.089\\u20ac <br> grade:-3.0\", \"0.089\\u20ac <br> grade:-4.0\", \"0.089\\u20ac <br> grade:-4.0\", \"0.089\\u20ac <br> grade:-4.0\", \"0.089\\u20ac <br> grade:-4.0\", \"0.089\\u20ac <br> grade:-4.0\", \"0.089\\u20ac <br> grade:-3.0\", \"0.089\\u20ac <br> grade:-4.0\", \"0.089\\u20ac <br> grade:-5.0\", \"0.089\\u20ac <br> grade:-3.0\", \"0.089\\u20ac <br> grade:-4.0\", \"0.089\\u20ac <br> grade:-4.0\", \"0.089\\u20ac <br> grade:-4.0\", \"0.089\\u20ac <br> grade:-4.0\", \"0.089\\u20ac <br> grade:-4.0\", \"0.089\\u20ac <br> grade:-3.0\", \"0.089\\u20ac <br> grade:-4.0\", \"0.089\\u20ac <br> grade:-5.0\", \"0.089\\u20ac <br> grade:-3.0\", \"0.089\\u20ac <br> grade:-4.0\", \"0.089\\u20ac <br> grade:-4.0\", \"0.089\\u20ac <br> grade:-4.0\", \"0.089\\u20ac <br> grade:-4.0\", \"0.089\\u20ac <br> grade:-4.0\", \"0.089\\u20ac <br> grade:-3.0\", \"0.089\\u20ac <br> grade:-4.0\", \"0.089\\u20ac <br> grade:-5.0\", \"0.089\\u20ac <br> grade:-3.0\", \"0.089\\u20ac <br> grade:-4.0\", \"0.13\\u20ac <br> grade:-4.0\", \"0.13\\u20ac <br> grade:-4.0\", \"0.13\\u20ac <br> grade:-4.0\", \"0.13\\u20ac <br> grade:-1.0\", \"0.13\\u20ac <br> grade:-1.0\", \"0.13\\u20ac <br> grade:-4.0\", \"0.13\\u20ac <br> grade:-4.0\", \"0.13\\u20ac <br> grade:-4.0\", \"0.13\\u20ac <br> grade:-1.0\", \"0.13\\u20ac <br> grade:-1.0\", \"0.13\\u20ac <br> grade:-4.0\", \"0.13\\u20ac <br> grade:-4.0\", \"0.13\\u20ac <br> grade:-4.0\", \"0.13\\u20ac <br> grade:-1.0\", \"0.13\\u20ac <br> grade:-1.0\", \"0.13\\u20ac <br> grade:-4.0\", \"0.13\\u20ac <br> grade:-4.0\", \"0.13\\u20ac <br> grade:-4.0\", \"0.13\\u20ac <br> grade:-1.0\", \"0.13\\u20ac <br> grade:-1.0\", \"0.13\\u20ac <br> grade:-4.0\", \"0.13\\u20ac <br> grade:-4.0\", \"0.13\\u20ac <br> grade:-4.0\", \"0.13\\u20ac <br> grade:-1.0\", \"0.13\\u20ac <br> grade:-1.0\", \"2.289\\u20ac <br> grade:-1.0\", \"0.418\\u20ac <br> grade:-1.0\", \"0.532\\u20ac <br> grade:-2.0\", \"0.01\\u20ac <br> grade:-4.0\", \"0.089\\u20ac <br> grade:-6.0\", \"0.089\\u20ac <br> grade:-6.0\", \"0.089\\u20ac <br> grade:-6.0\", \"0.089\\u20ac <br> grade:-6.0\", \"0.289\\u20ac <br> grade:-4.0\", \"0.135\\u20ac <br> grade:-4.0\", \"0.218\\u20ac <br> grade:-6.0\"], \"x\": [0.08900000000000001, 0.08900000000000001, 0.08900000000000001, 0.08900000000000001, 0.08900000000000001, 0.08900000000000001, 0.08900000000000001, 0.08900000000000001, 0.08900000000000001, 0.08900000000000001, 0.08900000000000001, 0.08900000000000001, 0.08900000000000001, 0.08900000000000001, 0.08900000000000001, 0.08900000000000001, 0.08900000000000001, 0.08900000000000001, 0.08900000000000001, 0.08900000000000001, 0.08900000000000001, 0.08900000000000001, 0.08900000000000001, 0.08900000000000001, 0.08900000000000001, 0.08900000000000001, 0.08900000000000001, 0.08900000000000001, 0.08900000000000001, 0.08900000000000001, 0.08900000000000001, 0.08900000000000001, 0.08900000000000001, 0.08900000000000001, 0.08900000000000001, 0.08900000000000001, 0.08900000000000001, 0.08900000000000001, 0.08900000000000001, 0.08900000000000001, 0.08900000000000001, 0.08900000000000001, 0.08900000000000001, 0.08900000000000001, 0.08900000000000001, 0.08900000000000001, 0.08900000000000001, 0.08900000000000001, 0.08900000000000001, 0.08900000000000001, 0.08900000000000001, 0.08900000000000001, 0.08900000000000001, 0.08900000000000001, 0.08900000000000001, 0.08900000000000001, 0.08900000000000001, 0.08900000000000001, 0.08900000000000001, 0.08900000000000001, 0.08900000000000001, 0.08900000000000001, 0.08900000000000001, 0.08900000000000001, 0.08900000000000001, 0.08900000000000001, 0.08900000000000001, 0.08900000000000001, 0.08900000000000001, 0.08900000000000001, 0.08900000000000001, 0.08900000000000001, 0.08900000000000001, 0.08900000000000001, 0.08900000000000001, 0.08900000000000001, 0.08900000000000001, 0.08900000000000001, 0.08900000000000001, 0.08900000000000001, 0.08900000000000001, 0.08900000000000001, 0.08900000000000001, 0.08900000000000001, 0.08900000000000001, 0.08900000000000001, 0.08900000000000001, 0.08900000000000001, 0.08900000000000001, 0.08900000000000001, 0.08900000000000001, 0.08900000000000001, 0.08900000000000001, 0.08900000000000001, 0.08900000000000001, 0.08900000000000001, 0.08900000000000001, 0.08900000000000001, 0.08900000000000001, 0.13, 0.13, 0.13, 0.13, 0.13, 0.13, 0.13, 0.13, 0.13, 0.13, 0.13, 0.13, 0.13, 0.13, 0.13, 0.13, 0.13, 0.13, 0.13, 0.13, 0.13, 0.13, 0.13, 0.13, 0.13, 2.289, 0.418, 0.532, 0.01, 0.08900000000000001, 0.08900000000000001, 0.08900000000000001, 0.08900000000000001, 0.289, 0.135, 0.218], \"y\": [-4.0, -4.0, -4.0, -4.0, -3.0, -4.0, -5.0, -3.0, -4.0, -4.0, -4.0, -4.0, -4.0, -3.0, -4.0, -5.0, -3.0, -4.0, -4.0, -4.0, -4.0, -4.0, -3.0, -4.0, -5.0, -3.0, -4.0, -4.0, -4.0, -4.0, -4.0, -3.0, -4.0, -5.0, -3.0, -4.0, -4.0, -4.0, -4.0, -4.0, -3.0, -4.0, -5.0, -3.0, -4.0, -4.0, -4.0, -4.0, -4.0, -3.0, -4.0, -5.0, -3.0, -4.0, -4.0, -4.0, -4.0, -4.0, -3.0, -4.0, -5.0, -3.0, -4.0, -4.0, -4.0, -4.0, -4.0, -3.0, -4.0, -5.0, -3.0, -4.0, -4.0, -4.0, -4.0, -4.0, -3.0, -4.0, -5.0, -3.0, -4.0, -4.0, -4.0, -4.0, -4.0, -3.0, -4.0, -5.0, -3.0, -4.0, -4.0, -4.0, -4.0, -4.0, -3.0, -4.0, -5.0, -3.0, -4.0, -4.0, -4.0, -4.0, -1.0, -1.0, -4.0, -4.0, -4.0, -1.0, -1.0, -4.0, -4.0, -4.0, -1.0, -1.0, -4.0, -4.0, -4.0, -1.0, -1.0, -4.0, -4.0, -4.0, -1.0, -1.0, -1.0, -1.0, -2.0, -4.0, -6.0, -6.0, -6.0, -6.0, -4.0, -4.0, -6.0], \"type\": \"scatter\", \"uid\": \"459737cf-21ea-4e36-ba82-75c84efcae71\"}, {\"hoverinfo\": \"text\", \"marker\": {\"color\": \"#E9F287\"}, \"mode\": \"markers\", \"name\": \"C\", \"text\": [\"1.026\\u20ac <br> grade:5.0\", \"1.026\\u20ac <br> grade:4.0\", \"1.026\\u20ac <br> grade:5.0\", \"1.026\\u20ac <br> grade:5.0\", \"1.026\\u20ac <br> grade:3.0\", \"1.026\\u20ac <br> grade:3.0\", \"1.026\\u20ac <br> grade:5.0\", \"1.026\\u20ac <br> grade:4.0\", \"1.026\\u20ac <br> grade:5.0\", \"1.026\\u20ac <br> grade:5.0\", \"1.026\\u20ac <br> grade:3.0\", \"1.026\\u20ac <br> grade:3.0\", \"1.026\\u20ac <br> grade:5.0\", \"1.026\\u20ac <br> grade:4.0\", \"1.026\\u20ac <br> grade:5.0\", \"1.026\\u20ac <br> grade:5.0\", \"1.026\\u20ac <br> grade:3.0\", \"1.026\\u20ac <br> grade:3.0\", \"1.026\\u20ac <br> grade:5.0\", \"1.026\\u20ac <br> grade:4.0\", \"1.026\\u20ac <br> grade:5.0\", \"1.026\\u20ac <br> grade:5.0\", \"1.026\\u20ac <br> grade:3.0\", \"1.026\\u20ac <br> grade:3.0\", \"1.026\\u20ac <br> grade:5.0\", \"1.026\\u20ac <br> grade:4.0\", \"1.026\\u20ac <br> grade:5.0\", \"1.026\\u20ac <br> grade:5.0\", \"1.026\\u20ac <br> grade:3.0\", \"1.026\\u20ac <br> grade:3.0\", \"1.026\\u20ac <br> grade:5.0\", \"1.026\\u20ac <br> grade:4.0\", \"1.026\\u20ac <br> grade:5.0\", \"1.026\\u20ac <br> grade:5.0\", \"1.026\\u20ac <br> grade:3.0\", \"1.026\\u20ac <br> grade:3.0\", \"1.026\\u20ac <br> grade:5.0\", \"1.026\\u20ac <br> grade:4.0\", \"1.026\\u20ac <br> grade:5.0\", \"1.026\\u20ac <br> grade:5.0\", \"1.026\\u20ac <br> grade:3.0\", \"1.026\\u20ac <br> grade:3.0\", \"1.026\\u20ac <br> grade:5.0\", \"1.026\\u20ac <br> grade:4.0\", \"1.026\\u20ac <br> grade:5.0\", \"1.026\\u20ac <br> grade:5.0\", \"1.026\\u20ac <br> grade:3.0\", \"1.026\\u20ac <br> grade:3.0\", \"1.026\\u20ac <br> grade:5.0\", \"1.026\\u20ac <br> grade:4.0\", \"1.026\\u20ac <br> grade:5.0\", \"1.026\\u20ac <br> grade:5.0\", \"1.026\\u20ac <br> grade:3.0\", \"1.026\\u20ac <br> grade:3.0\", \"1.026\\u20ac <br> grade:5.0\", \"1.026\\u20ac <br> grade:4.0\", \"1.026\\u20ac <br> grade:5.0\", \"1.026\\u20ac <br> grade:5.0\", \"1.026\\u20ac <br> grade:3.0\", \"1.026\\u20ac <br> grade:3.0\", \"1.026\\u20ac <br> grade:5.0\", \"1.026\\u20ac <br> grade:4.0\", \"1.026\\u20ac <br> grade:5.0\", \"1.026\\u20ac <br> grade:5.0\", \"1.026\\u20ac <br> grade:3.0\", \"1.026\\u20ac <br> grade:3.0\", \"1.026\\u20ac <br> grade:5.0\", \"1.026\\u20ac <br> grade:4.0\", \"1.026\\u20ac <br> grade:5.0\", \"1.026\\u20ac <br> grade:5.0\", \"1.026\\u20ac <br> grade:3.0\", \"1.026\\u20ac <br> grade:3.0\", \"1.026\\u20ac <br> grade:5.0\", \"1.026\\u20ac <br> grade:4.0\", \"1.026\\u20ac <br> grade:5.0\", \"1.026\\u20ac <br> grade:5.0\", \"1.026\\u20ac <br> grade:3.0\", \"1.026\\u20ac <br> grade:3.0\", \"1.026\\u20ac <br> grade:5.0\", \"1.026\\u20ac <br> grade:4.0\", \"1.026\\u20ac <br> grade:5.0\", \"1.026\\u20ac <br> grade:5.0\", \"1.026\\u20ac <br> grade:3.0\", \"1.026\\u20ac <br> grade:3.0\", \"1.026\\u20ac <br> grade:5.0\", \"1.026\\u20ac <br> grade:4.0\", \"1.026\\u20ac <br> grade:5.0\", \"1.026\\u20ac <br> grade:5.0\", \"1.026\\u20ac <br> grade:3.0\", \"1.026\\u20ac <br> grade:3.0\", \"1.026\\u20ac <br> grade:5.0\", \"1.026\\u20ac <br> grade:4.0\", \"1.026\\u20ac <br> grade:5.0\", \"1.026\\u20ac <br> grade:5.0\", \"1.026\\u20ac <br> grade:3.0\", \"1.026\\u20ac <br> grade:3.0\", \"1.026\\u20ac <br> grade:5.0\", \"1.026\\u20ac <br> grade:4.0\", \"1.026\\u20ac <br> grade:5.0\", \"1.026\\u20ac <br> grade:5.0\", \"1.026\\u20ac <br> grade:3.0\", \"1.026\\u20ac <br> grade:3.0\", \"0.159\\u20ac <br> grade:3.0\", \"0.159\\u20ac <br> grade:2.0\", \"0.159\\u20ac <br> grade:3.0\", \"0.159\\u20ac <br> grade:2.0\", \"0.159\\u20ac <br> grade:3.0\", \"0.159\\u20ac <br> grade:2.0\", \"0.65\\u20ac <br> grade:3.0\", \"0.398\\u20ac <br> grade:6.0\", \"0.398\\u20ac <br> grade:6.0\", \"1.43\\u20ac <br> grade:3.0\", \"0.35\\u20ac <br> grade:8.0\", \"0.267\\u20ac <br> grade:10.0\"], \"x\": [1.026, 1.026, 1.026, 1.026, 1.026, 1.026, 1.026, 1.026, 1.026, 1.026, 1.026, 1.026, 1.026, 1.026, 1.026, 1.026, 1.026, 1.026, 1.026, 1.026, 1.026, 1.026, 1.026, 1.026, 1.026, 1.026, 1.026, 1.026, 1.026, 1.026, 1.026, 1.026, 1.026, 1.026, 1.026, 1.026, 1.026, 1.026, 1.026, 1.026, 1.026, 1.026, 1.026, 1.026, 1.026, 1.026, 1.026, 1.026, 1.026, 1.026, 1.026, 1.026, 1.026, 1.026, 1.026, 1.026, 1.026, 1.026, 1.026, 1.026, 1.026, 1.026, 1.026, 1.026, 1.026, 1.026, 1.026, 1.026, 1.026, 1.026, 1.026, 1.026, 1.026, 1.026, 1.026, 1.026, 1.026, 1.026, 1.026, 1.026, 1.026, 1.026, 1.026, 1.026, 1.026, 1.026, 1.026, 1.026, 1.026, 1.026, 1.026, 1.026, 1.026, 1.026, 1.026, 1.026, 1.026, 1.026, 1.026, 1.026, 1.026, 1.026, 0.159, 0.159, 0.159, 0.159, 0.159, 0.159, 0.65, 0.398, 0.398, 1.43, 0.35, 0.267], \"y\": [5.0, 4.0, 5.0, 5.0, 3.0, 3.0, 5.0, 4.0, 5.0, 5.0, 3.0, 3.0, 5.0, 4.0, 5.0, 5.0, 3.0, 3.0, 5.0, 4.0, 5.0, 5.0, 3.0, 3.0, 5.0, 4.0, 5.0, 5.0, 3.0, 3.0, 5.0, 4.0, 5.0, 5.0, 3.0, 3.0, 5.0, 4.0, 5.0, 5.0, 3.0, 3.0, 5.0, 4.0, 5.0, 5.0, 3.0, 3.0, 5.0, 4.0, 5.0, 5.0, 3.0, 3.0, 5.0, 4.0, 5.0, 5.0, 3.0, 3.0, 5.0, 4.0, 5.0, 5.0, 3.0, 3.0, 5.0, 4.0, 5.0, 5.0, 3.0, 3.0, 5.0, 4.0, 5.0, 5.0, 3.0, 3.0, 5.0, 4.0, 5.0, 5.0, 3.0, 3.0, 5.0, 4.0, 5.0, 5.0, 3.0, 3.0, 5.0, 4.0, 5.0, 5.0, 3.0, 3.0, 5.0, 4.0, 5.0, 5.0, 3.0, 3.0, 3.0, 2.0, 3.0, 2.0, 3.0, 2.0, 3.0, 6.0, 6.0, 3.0, 8.0, 10.0], \"type\": \"scatter\", \"uid\": \"3b54ae08-ee75-4bb5-bb4d-557664326292\"}, {\"hoverinfo\": \"text\", \"marker\": {\"color\": \"#F2CE75\"}, \"mode\": \"markers\", \"name\": \"D\", \"text\": [\"1.026\\u20ac <br> grade:11.0\", \"1.026\\u20ac <br> grade:11.0\", \"1.026\\u20ac <br> grade:11.0\", \"1.026\\u20ac <br> grade:11.0\", \"1.026\\u20ac <br> grade:11.0\", \"1.026\\u20ac <br> grade:11.0\", \"1.026\\u20ac <br> grade:11.0\", \"1.026\\u20ac <br> grade:11.0\", \"1.026\\u20ac <br> grade:11.0\", \"1.026\\u20ac <br> grade:11.0\", \"1.026\\u20ac <br> grade:11.0\", \"1.026\\u20ac <br> grade:11.0\", \"1.026\\u20ac <br> grade:11.0\", \"1.026\\u20ac <br> grade:11.0\", \"1.026\\u20ac <br> grade:11.0\", \"1.026\\u20ac <br> grade:11.0\", \"1.026\\u20ac <br> grade:11.0\", \"0.532\\u20ac <br> grade:17.0\", \"0.689\\u20ac <br> grade:14.0\", \"1.252\\u20ac <br> grade:13.0\", \"1.067\\u20ac <br> grade:11.0\", \"1.069\\u20ac <br> grade:11.0\", \"0.398\\u20ac <br> grade:12.0\", \"0.398\\u20ac <br> grade:12.0\", \"1.19\\u20ac <br> grade:12.0\", \"1.19\\u20ac <br> grade:12.0\", \"1.19\\u20ac <br> grade:12.0\", \"1.19\\u20ac <br> grade:12.0\", \"1.19\\u20ac <br> grade:12.0\", \"1.19\\u20ac <br> grade:12.0\", \"1.19\\u20ac <br> grade:12.0\", \"1.19\\u20ac <br> grade:12.0\", \"1.19\\u20ac <br> grade:12.0\", \"1.19\\u20ac <br> grade:12.0\", \"1.19\\u20ac <br> grade:12.0\", \"1.19\\u20ac <br> grade:12.0\", \"1.19\\u20ac <br> grade:12.0\", \"1.19\\u20ac <br> grade:12.0\", \"1.19\\u20ac <br> grade:12.0\", \"1.19\\u20ac <br> grade:12.0\", \"1.19\\u20ac <br> grade:12.0\", \"1.19\\u20ac <br> grade:12.0\", \"1.19\\u20ac <br> grade:12.0\", \"1.19\\u20ac <br> grade:12.0\", \"1.19\\u20ac <br> grade:12.0\", \"1.19\\u20ac <br> grade:12.0\", \"1.19\\u20ac <br> grade:12.0\", \"1.19\\u20ac <br> grade:12.0\", \"1.19\\u20ac <br> grade:12.0\", \"1.19\\u20ac <br> grade:12.0\", \"1.19\\u20ac <br> grade:12.0\", \"1.19\\u20ac <br> grade:12.0\", \"1.19\\u20ac <br> grade:12.0\", \"1.19\\u20ac <br> grade:12.0\", \"1.19\\u20ac <br> grade:12.0\", \"1.19\\u20ac <br> grade:12.0\", \"1.19\\u20ac <br> grade:12.0\", \"1.19\\u20ac <br> grade:12.0\", \"1.19\\u20ac <br> grade:12.0\", \"1.19\\u20ac <br> grade:12.0\", \"1.19\\u20ac <br> grade:12.0\", \"1.19\\u20ac <br> grade:12.0\", \"1.19\\u20ac <br> grade:12.0\", \"1.19\\u20ac <br> grade:12.0\", \"1.19\\u20ac <br> grade:12.0\", \"1.19\\u20ac <br> grade:12.0\", \"1.19\\u20ac <br> grade:12.0\", \"1.19\\u20ac <br> grade:12.0\", \"1.19\\u20ac <br> grade:12.0\", \"1.19\\u20ac <br> grade:12.0\", \"1.19\\u20ac <br> grade:12.0\", \"1.19\\u20ac <br> grade:12.0\", \"1.19\\u20ac <br> grade:12.0\", \"1.19\\u20ac <br> grade:12.0\", \"1.19\\u20ac <br> grade:12.0\", \"1.19\\u20ac <br> grade:12.0\", \"1.19\\u20ac <br> grade:12.0\", \"1.19\\u20ac <br> grade:12.0\", \"1.19\\u20ac <br> grade:12.0\", \"1.19\\u20ac <br> grade:12.0\", \"1.19\\u20ac <br> grade:12.0\", \"1.19\\u20ac <br> grade:12.0\", \"1.19\\u20ac <br> grade:12.0\", \"1.19\\u20ac <br> grade:12.0\", \"1.19\\u20ac <br> grade:12.0\", \"1.19\\u20ac <br> grade:12.0\", \"1.19\\u20ac <br> grade:12.0\", \"1.19\\u20ac <br> grade:12.0\", \"1.018\\u20ac <br> grade:17.0\", \"1.018\\u20ac <br> grade:15.0\", \"1.018\\u20ac <br> grade:17.0\", \"1.018\\u20ac <br> grade:15.0\", \"1.018\\u20ac <br> grade:17.0\", \"1.018\\u20ac <br> grade:15.0\", \"1.018\\u20ac <br> grade:17.0\", \"1.018\\u20ac <br> grade:15.0\", \"1.018\\u20ac <br> grade:17.0\", \"1.018\\u20ac <br> grade:15.0\", \"0.218\\u20ac <br> grade:12.0\", \"2.772\\u20ac <br> grade:12.0\", \"3.75\\u20ac <br> grade:13.0\", \"5.675\\u20ac <br> grade:12.0\", \"5.675\\u20ac <br> grade:12.0\", \"0.453\\u20ac <br> grade:15.0\", \"0.358\\u20ac <br> grade:14.0\", \"2.49\\u20ac <br> grade:15.0\", \"2.49\\u20ac <br> grade:15.0\", \"2.49\\u20ac <br> grade:15.0\", \"2.49\\u20ac <br> grade:15.0\", \"0.425\\u20ac <br> grade:16.0\", \"2.75\\u20ac <br> grade:18.0\", \"2.49\\u20ac <br> grade:14.0\", \"1.374\\u20ac <br> grade:16.0\"], \"x\": [1.026, 1.026, 1.026, 1.026, 1.026, 1.026, 1.026, 1.026, 1.026, 1.026, 1.026, 1.026, 1.026, 1.026, 1.026, 1.026, 1.026, 0.532, 0.6890000000000001, 1.252, 1.067, 1.069, 0.398, 0.398, 1.19, 1.19, 1.19, 1.19, 1.19, 1.19, 1.19, 1.19, 1.19, 1.19, 1.19, 1.19, 1.19, 1.19, 1.19, 1.19, 1.19, 1.19, 1.19, 1.19, 1.19, 1.19, 1.19, 1.19, 1.19, 1.19, 1.19, 1.19, 1.19, 1.19, 1.19, 1.19, 1.19, 1.19, 1.19, 1.19, 1.19, 1.19, 1.19, 1.19, 1.19, 1.19, 1.19, 1.19, 1.19, 1.19, 1.19, 1.19, 1.19, 1.19, 1.19, 1.19, 1.19, 1.19, 1.19, 1.19, 1.19, 1.19, 1.19, 1.19, 1.19, 1.19, 1.19, 1.19, 1.018, 1.018, 1.018, 1.018, 1.018, 1.018, 1.018, 1.018, 1.018, 1.018, 0.218, 2.772, 3.75, 5.675, 5.675, 0.453, 0.358, 2.49, 2.49, 2.49, 2.49, 0.425, 2.75, 2.49, 1.374], \"y\": [11.0, 11.0, 11.0, 11.0, 11.0, 11.0, 11.0, 11.0, 11.0, 11.0, 11.0, 11.0, 11.0, 11.0, 11.0, 11.0, 11.0, 17.0, 14.0, 13.0, 11.0, 11.0, 12.0, 12.0, 12.0, 12.0, 12.0, 12.0, 12.0, 12.0, 12.0, 12.0, 12.0, 12.0, 12.0, 12.0, 12.0, 12.0, 12.0, 12.0, 12.0, 12.0, 12.0, 12.0, 12.0, 12.0, 12.0, 12.0, 12.0, 12.0, 12.0, 12.0, 12.0, 12.0, 12.0, 12.0, 12.0, 12.0, 12.0, 12.0, 12.0, 12.0, 12.0, 12.0, 12.0, 12.0, 12.0, 12.0, 12.0, 12.0, 12.0, 12.0, 12.0, 12.0, 12.0, 12.0, 12.0, 12.0, 12.0, 12.0, 12.0, 12.0, 12.0, 12.0, 12.0, 12.0, 12.0, 12.0, 17.0, 15.0, 17.0, 15.0, 17.0, 15.0, 17.0, 15.0, 17.0, 15.0, 12.0, 12.0, 13.0, 12.0, 12.0, 15.0, 14.0, 15.0, 15.0, 15.0, 15.0, 16.0, 18.0, 14.0, 16.0], \"type\": \"scatter\", \"uid\": \"bb465ede-5add-4f63-8037-7fd112c82139\"}, {\"hoverinfo\": \"text\", \"marker\": {\"color\": \"#F68774\"}, \"mode\": \"markers\", \"name\": \"E\", \"text\": [\"1.327\\u20ac <br> grade:20.0\", \"1.327\\u20ac <br> grade:20.0\", \"2.025\\u20ac <br> grade:23.0\", \"2.025\\u20ac <br> grade:22.0\", \"2.025\\u20ac <br> grade:23.0\", \"2.025\\u20ac <br> grade:22.0\", \"0.82\\u20ac <br> grade:24.0\", \"1.061\\u20ac <br> grade:20.0\", \"1.061\\u20ac <br> grade:21.0\", \"1.061\\u20ac <br> grade:21.0\", \"1.061\\u20ac <br> grade:21.0\", \"1.061\\u20ac <br> grade:21.0\", \"1.061\\u20ac <br> grade:21.0\", \"1.061\\u20ac <br> grade:20.0\", \"1.061\\u20ac <br> grade:21.0\", \"1.061\\u20ac <br> grade:21.0\", \"1.061\\u20ac <br> grade:21.0\", \"1.061\\u20ac <br> grade:21.0\", \"1.061\\u20ac <br> grade:21.0\", \"1.061\\u20ac <br> grade:20.0\", \"1.061\\u20ac <br> grade:21.0\", \"1.061\\u20ac <br> grade:21.0\", \"1.061\\u20ac <br> grade:21.0\", \"1.061\\u20ac <br> grade:21.0\", \"1.061\\u20ac <br> grade:21.0\", \"1.061\\u20ac <br> grade:20.0\", \"1.061\\u20ac <br> grade:21.0\", \"1.061\\u20ac <br> grade:21.0\", \"1.061\\u20ac <br> grade:21.0\", \"1.061\\u20ac <br> grade:21.0\", \"1.061\\u20ac <br> grade:21.0\", \"1.061\\u20ac <br> grade:20.0\", \"1.061\\u20ac <br> grade:21.0\", \"1.061\\u20ac <br> grade:21.0\", \"1.061\\u20ac <br> grade:21.0\", \"1.061\\u20ac <br> grade:21.0\", \"1.061\\u20ac <br> grade:21.0\", \"1.061\\u20ac <br> grade:20.0\", \"1.061\\u20ac <br> grade:21.0\", \"1.061\\u20ac <br> grade:21.0\", \"1.061\\u20ac <br> grade:21.0\", \"1.061\\u20ac <br> grade:21.0\", \"1.061\\u20ac <br> grade:21.0\", \"1.061\\u20ac <br> grade:20.0\", \"1.061\\u20ac <br> grade:21.0\", \"1.061\\u20ac <br> grade:21.0\", \"1.061\\u20ac <br> grade:21.0\", \"1.061\\u20ac <br> grade:21.0\", \"1.061\\u20ac <br> grade:21.0\", \"1.018\\u20ac <br> grade:26.0\", \"1.018\\u20ac <br> grade:26.0\", \"1.018\\u20ac <br> grade:25.0\", \"1.018\\u20ac <br> grade:26.0\", \"1.018\\u20ac <br> grade:26.0\", \"1.018\\u20ac <br> grade:25.0\", \"1.018\\u20ac <br> grade:26.0\", \"1.018\\u20ac <br> grade:26.0\", \"1.018\\u20ac <br> grade:25.0\", \"1.018\\u20ac <br> grade:26.0\", \"1.018\\u20ac <br> grade:26.0\", \"1.018\\u20ac <br> grade:25.0\", \"1.018\\u20ac <br> grade:26.0\", \"1.018\\u20ac <br> grade:26.0\", \"1.018\\u20ac <br> grade:25.0\", \"0.39\\u20ac <br> grade:28.0\", \"0.39\\u20ac <br> grade:28.0\", \"5.675\\u20ac <br> grade:20.0\", \"2.45\\u20ac <br> grade:19.0\", \"2.28\\u20ac <br> grade:27.0\", \"2.78\\u20ac <br> grade:26.0\", \"2.8\\u20ac <br> grade:21.0\", \"2.86\\u20ac <br> grade:20.0\", \"0.398\\u20ac <br> grade:26.0\", \"0.418\\u20ac <br> grade:13.0\", \"0.418\\u20ac <br> grade:16.0\", \"0.53\\u20ac <br> grade:15.0\", \"2.78\\u20ac <br> grade:20.0\", \"2.44\\u20ac <br> grade:20.0\", \"2.8\\u20ac <br> grade:20.0\", \"0.99\\u20ac <br> grade:19.0\", \"3.01\\u20ac <br> grade:20.0\"], \"x\": [1.327, 1.327, 2.025, 2.025, 2.025, 2.025, 0.82, 1.061, 1.061, 1.061, 1.061, 1.061, 1.061, 1.061, 1.061, 1.061, 1.061, 1.061, 1.061, 1.061, 1.061, 1.061, 1.061, 1.061, 1.061, 1.061, 1.061, 1.061, 1.061, 1.061, 1.061, 1.061, 1.061, 1.061, 1.061, 1.061, 1.061, 1.061, 1.061, 1.061, 1.061, 1.061, 1.061, 1.061, 1.061, 1.061, 1.061, 1.061, 1.061, 1.018, 1.018, 1.018, 1.018, 1.018, 1.018, 1.018, 1.018, 1.018, 1.018, 1.018, 1.018, 1.018, 1.018, 1.018, 0.39, 0.39, 5.675, 2.45, 2.28, 2.78, 2.8, 2.86, 0.398, 0.418, 0.418, 0.53, 2.78, 2.44, 2.8, 0.99, 3.01], \"y\": [20.0, 20.0, 23.0, 22.0, 23.0, 22.0, 24.0, 20.0, 21.0, 21.0, 21.0, 21.0, 21.0, 20.0, 21.0, 21.0, 21.0, 21.0, 21.0, 20.0, 21.0, 21.0, 21.0, 21.0, 21.0, 20.0, 21.0, 21.0, 21.0, 21.0, 21.0, 20.0, 21.0, 21.0, 21.0, 21.0, 21.0, 20.0, 21.0, 21.0, 21.0, 21.0, 21.0, 20.0, 21.0, 21.0, 21.0, 21.0, 21.0, 26.0, 26.0, 25.0, 26.0, 26.0, 25.0, 26.0, 26.0, 25.0, 26.0, 26.0, 25.0, 26.0, 26.0, 25.0, 28.0, 28.0, 20.0, 19.0, 27.0, 26.0, 21.0, 20.0, 26.0, 13.0, 16.0, 15.0, 20.0, 20.0, 20.0, 19.0, 20.0], \"type\": \"scatter\", \"uid\": \"22c5481e-d0fc-4a70-8dec-e1d173bc3ec8\"}], {\"xaxis\": {\"title\": \"Price[\\u20ac]\"}, \"yaxis\": {\"title\": \"Nutritional grade\"}}, {\"showLink\": true, \"linkText\": \"Export to plot.ly\"})});</script><script type=\"text/javascript\">window.addEventListener(\"resize\", function(){window._Plotly.Plots.resize(document.getElementById(\"3360e2b3-5205-49f1-80bf-680df25ffb10\"));});</script>"
      ],
      "text/vnd.plotly.v1+html": [
       "<div id=\"3360e2b3-5205-49f1-80bf-680df25ffb10\" style=\"height: 525px; width: 100%;\" class=\"plotly-graph-div\"></div><script type=\"text/javascript\">require([\"plotly\"], function(Plotly) { window.PLOTLYENV=window.PLOTLYENV || {};window.PLOTLYENV.BASE_URL=\"https://plot.ly\";Plotly.newPlot(\"3360e2b3-5205-49f1-80bf-680df25ffb10\", [{\"hoverinfo\": \"text\", \"marker\": {\"color\": \"#99EB9D\"}, \"mode\": \"markers\", \"name\": \"B\", \"text\": [\"0.089\\u20ac <br> grade:0.0\", \"0.089\\u20ac <br> grade:0.0\", \"0.089\\u20ac <br> grade:0.0\", \"0.089\\u20ac <br> grade:0.0\", \"0.089\\u20ac <br> grade:0.0\", \"0.089\\u20ac <br> grade:0.0\", \"0.089\\u20ac <br> grade:0.0\", \"0.089\\u20ac <br> grade:0.0\", \"0.089\\u20ac <br> grade:0.0\", \"0.089\\u20ac <br> grade:0.0\", \"0.089\\u20ac <br> grade:0.0\", \"0.089\\u20ac <br> grade:0.0\", \"0.089\\u20ac <br> grade:0.0\", \"0.089\\u20ac <br> grade:0.0\", \"0.089\\u20ac <br> grade:0.0\", \"0.089\\u20ac <br> grade:0.0\", \"0.089\\u20ac <br> grade:0.0\", \"0.089\\u20ac <br> grade:0.0\", \"0.089\\u20ac <br> grade:0.0\", \"0.089\\u20ac <br> grade:0.0\", \"0.089\\u20ac <br> grade:0.0\", \"0.089\\u20ac <br> grade:0.0\", \"1.026\\u20ac <br> grade:1.0\", \"1.026\\u20ac <br> grade:2.0\", \"1.026\\u20ac <br> grade:2.0\", \"1.026\\u20ac <br> grade:2.0\", \"1.026\\u20ac <br> grade:1.0\", \"1.026\\u20ac <br> grade:2.0\", \"1.026\\u20ac <br> grade:1.0\", \"1.026\\u20ac <br> grade:1.0\", \"1.026\\u20ac <br> grade:2.0\", \"1.026\\u20ac <br> grade:1.0\", \"1.026\\u20ac <br> grade:2.0\", \"1.026\\u20ac <br> grade:2.0\", \"1.026\\u20ac <br> grade:2.0\", \"1.026\\u20ac <br> grade:1.0\", \"1.026\\u20ac <br> grade:2.0\", \"1.026\\u20ac <br> grade:1.0\", \"1.026\\u20ac <br> grade:1.0\", \"1.026\\u20ac <br> grade:2.0\", \"1.026\\u20ac <br> grade:1.0\", \"1.026\\u20ac <br> grade:2.0\", \"1.026\\u20ac <br> grade:2.0\", \"1.026\\u20ac <br> grade:2.0\", \"1.026\\u20ac <br> grade:1.0\", \"1.026\\u20ac <br> grade:2.0\", \"1.026\\u20ac <br> grade:1.0\", \"1.026\\u20ac <br> grade:1.0\", \"1.026\\u20ac <br> grade:2.0\", \"1.026\\u20ac <br> grade:1.0\", \"1.026\\u20ac <br> grade:2.0\", \"1.026\\u20ac <br> grade:2.0\", \"1.026\\u20ac <br> grade:2.0\", \"1.026\\u20ac <br> grade:1.0\", \"1.026\\u20ac <br> grade:2.0\", \"1.026\\u20ac <br> grade:1.0\", \"1.026\\u20ac <br> grade:1.0\", \"1.026\\u20ac <br> grade:2.0\", \"1.026\\u20ac <br> grade:1.0\", \"1.026\\u20ac <br> grade:2.0\", \"1.026\\u20ac <br> grade:2.0\", \"1.026\\u20ac <br> grade:2.0\", \"1.026\\u20ac <br> grade:1.0\", \"1.026\\u20ac <br> grade:2.0\", \"1.026\\u20ac <br> grade:1.0\", \"1.026\\u20ac <br> grade:1.0\", \"1.026\\u20ac <br> grade:2.0\", \"1.026\\u20ac <br> grade:1.0\", \"1.026\\u20ac <br> grade:2.0\", \"1.026\\u20ac <br> grade:2.0\", \"1.026\\u20ac <br> grade:2.0\", \"1.026\\u20ac <br> grade:1.0\", \"1.026\\u20ac <br> grade:2.0\", \"1.026\\u20ac <br> grade:1.0\", \"1.026\\u20ac <br> grade:1.0\", \"1.026\\u20ac <br> grade:2.0\", \"1.026\\u20ac <br> grade:1.0\", \"1.026\\u20ac <br> grade:2.0\", \"1.026\\u20ac <br> grade:2.0\", \"1.026\\u20ac <br> grade:2.0\", \"1.026\\u20ac <br> grade:1.0\", \"1.026\\u20ac <br> grade:2.0\", \"1.026\\u20ac <br> grade:1.0\", \"1.026\\u20ac <br> grade:1.0\", \"1.026\\u20ac <br> grade:2.0\", \"1.026\\u20ac <br> grade:1.0\", \"1.026\\u20ac <br> grade:2.0\", \"1.026\\u20ac <br> grade:2.0\", \"1.026\\u20ac <br> grade:2.0\", \"1.026\\u20ac <br> grade:1.0\", \"1.026\\u20ac <br> grade:2.0\", \"1.026\\u20ac <br> grade:1.0\", \"1.026\\u20ac <br> grade:1.0\", \"1.026\\u20ac <br> grade:2.0\", \"1.026\\u20ac <br> grade:1.0\", \"1.026\\u20ac <br> grade:2.0\", \"1.026\\u20ac <br> grade:2.0\", \"1.026\\u20ac <br> grade:2.0\", \"1.026\\u20ac <br> grade:1.0\", \"1.026\\u20ac <br> grade:2.0\", \"1.026\\u20ac <br> grade:1.0\", \"1.026\\u20ac <br> grade:1.0\", \"1.026\\u20ac <br> grade:2.0\", \"1.026\\u20ac <br> grade:1.0\", \"1.026\\u20ac <br> grade:2.0\", \"1.026\\u20ac <br> grade:2.0\", \"1.026\\u20ac <br> grade:2.0\", \"1.026\\u20ac <br> grade:1.0\", \"1.026\\u20ac <br> grade:2.0\", \"1.026\\u20ac <br> grade:1.0\", \"1.026\\u20ac <br> grade:1.0\", \"1.026\\u20ac <br> grade:2.0\", \"1.026\\u20ac <br> grade:1.0\", \"1.026\\u20ac <br> grade:2.0\", \"1.026\\u20ac <br> grade:2.0\", \"1.026\\u20ac <br> grade:2.0\", \"1.026\\u20ac <br> grade:1.0\", \"1.026\\u20ac <br> grade:2.0\", \"1.026\\u20ac <br> grade:1.0\", \"1.026\\u20ac <br> grade:1.0\", \"1.026\\u20ac <br> grade:2.0\", \"1.026\\u20ac <br> grade:1.0\", \"1.026\\u20ac <br> grade:2.0\", \"1.026\\u20ac <br> grade:2.0\", \"1.026\\u20ac <br> grade:2.0\", \"1.026\\u20ac <br> grade:1.0\", \"1.026\\u20ac <br> grade:2.0\", \"1.026\\u20ac <br> grade:1.0\", \"1.026\\u20ac <br> grade:1.0\", \"1.026\\u20ac <br> grade:2.0\", \"1.026\\u20ac <br> grade:1.0\", \"1.026\\u20ac <br> grade:2.0\", \"1.026\\u20ac <br> grade:2.0\", \"1.026\\u20ac <br> grade:2.0\", \"1.026\\u20ac <br> grade:1.0\", \"1.026\\u20ac <br> grade:2.0\", \"1.026\\u20ac <br> grade:1.0\", \"1.026\\u20ac <br> grade:1.0\", \"1.026\\u20ac <br> grade:2.0\", \"1.026\\u20ac <br> grade:1.0\", \"1.026\\u20ac <br> grade:2.0\", \"1.026\\u20ac <br> grade:2.0\", \"1.026\\u20ac <br> grade:2.0\", \"1.026\\u20ac <br> grade:1.0\", \"1.026\\u20ac <br> grade:2.0\", \"1.026\\u20ac <br> grade:1.0\", \"1.026\\u20ac <br> grade:1.0\", \"1.026\\u20ac <br> grade:2.0\", \"1.026\\u20ac <br> grade:1.0\", \"1.026\\u20ac <br> grade:2.0\", \"1.026\\u20ac <br> grade:2.0\", \"1.026\\u20ac <br> grade:2.0\", \"1.026\\u20ac <br> grade:1.0\", \"1.026\\u20ac <br> grade:2.0\", \"1.026\\u20ac <br> grade:1.0\", \"1.026\\u20ac <br> grade:1.0\", \"1.026\\u20ac <br> grade:2.0\", \"1.026\\u20ac <br> grade:1.0\", \"1.026\\u20ac <br> grade:2.0\", \"1.026\\u20ac <br> grade:2.0\", \"1.026\\u20ac <br> grade:2.0\", \"1.026\\u20ac <br> grade:1.0\", \"1.026\\u20ac <br> grade:2.0\", \"1.026\\u20ac <br> grade:1.0\", \"1.026\\u20ac <br> grade:1.0\", \"1.026\\u20ac <br> grade:2.0\", \"1.026\\u20ac <br> grade:1.0\", \"1.026\\u20ac <br> grade:2.0\", \"1.026\\u20ac <br> grade:2.0\", \"1.026\\u20ac <br> grade:2.0\", \"1.026\\u20ac <br> grade:1.0\", \"1.026\\u20ac <br> grade:2.0\", \"1.026\\u20ac <br> grade:1.0\", \"1.026\\u20ac <br> grade:1.0\", \"1.026\\u20ac <br> grade:2.0\", \"0.129\\u20ac <br> grade:0.0\", \"0.129\\u20ac <br> grade:0.0\", \"0.129\\u20ac <br> grade:0.0\", \"0.129\\u20ac <br> grade:0.0\", \"0.159\\u20ac <br> grade:-1.0\", \"0.159\\u20ac <br> grade:-1.0\", \"0.159\\u20ac <br> grade:-1.0\", \"0.697\\u20ac <br> grade:2.0\", \"0.35\\u20ac <br> grade:0.0\", \"1.662\\u20ac <br> grade:1.0\", \"0.365\\u20ac <br> grade:2.0\"], \"x\": [0.08900000000000001, 0.08900000000000001, 0.08900000000000001, 0.08900000000000001, 0.08900000000000001, 0.08900000000000001, 0.08900000000000001, 0.08900000000000001, 0.08900000000000001, 0.08900000000000001, 0.08900000000000001, 0.08900000000000001, 0.08900000000000001, 0.08900000000000001, 0.08900000000000001, 0.08900000000000001, 0.08900000000000001, 0.08900000000000001, 0.08900000000000001, 0.08900000000000001, 0.08900000000000001, 0.08900000000000001, 1.026, 1.026, 1.026, 1.026, 1.026, 1.026, 1.026, 1.026, 1.026, 1.026, 1.026, 1.026, 1.026, 1.026, 1.026, 1.026, 1.026, 1.026, 1.026, 1.026, 1.026, 1.026, 1.026, 1.026, 1.026, 1.026, 1.026, 1.026, 1.026, 1.026, 1.026, 1.026, 1.026, 1.026, 1.026, 1.026, 1.026, 1.026, 1.026, 1.026, 1.026, 1.026, 1.026, 1.026, 1.026, 1.026, 1.026, 1.026, 1.026, 1.026, 1.026, 1.026, 1.026, 1.026, 1.026, 1.026, 1.026, 1.026, 1.026, 1.026, 1.026, 1.026, 1.026, 1.026, 1.026, 1.026, 1.026, 1.026, 1.026, 1.026, 1.026, 1.026, 1.026, 1.026, 1.026, 1.026, 1.026, 1.026, 1.026, 1.026, 1.026, 1.026, 1.026, 1.026, 1.026, 1.026, 1.026, 1.026, 1.026, 1.026, 1.026, 1.026, 1.026, 1.026, 1.026, 1.026, 1.026, 1.026, 1.026, 1.026, 1.026, 1.026, 1.026, 1.026, 1.026, 1.026, 1.026, 1.026, 1.026, 1.026, 1.026, 1.026, 1.026, 1.026, 1.026, 1.026, 1.026, 1.026, 1.026, 1.026, 1.026, 1.026, 1.026, 1.026, 1.026, 1.026, 1.026, 1.026, 1.026, 1.026, 1.026, 1.026, 1.026, 1.026, 1.026, 1.026, 1.026, 1.026, 1.026, 1.026, 1.026, 1.026, 1.026, 1.026, 1.026, 1.026, 1.026, 1.026, 1.026, 1.026, 1.026, 1.026, 1.026, 0.129, 0.129, 0.129, 0.129, 0.159, 0.159, 0.159, 0.6970000000000001, 0.35, 1.662, 0.365], \"y\": [0.0, 0.0, 0.0, 0.0, 0.0, 0.0, 0.0, 0.0, 0.0, 0.0, 0.0, 0.0, 0.0, 0.0, 0.0, 0.0, 0.0, 0.0, 0.0, 0.0, 0.0, 0.0, 1.0, 2.0, 2.0, 2.0, 1.0, 2.0, 1.0, 1.0, 2.0, 1.0, 2.0, 2.0, 2.0, 1.0, 2.0, 1.0, 1.0, 2.0, 1.0, 2.0, 2.0, 2.0, 1.0, 2.0, 1.0, 1.0, 2.0, 1.0, 2.0, 2.0, 2.0, 1.0, 2.0, 1.0, 1.0, 2.0, 1.0, 2.0, 2.0, 2.0, 1.0, 2.0, 1.0, 1.0, 2.0, 1.0, 2.0, 2.0, 2.0, 1.0, 2.0, 1.0, 1.0, 2.0, 1.0, 2.0, 2.0, 2.0, 1.0, 2.0, 1.0, 1.0, 2.0, 1.0, 2.0, 2.0, 2.0, 1.0, 2.0, 1.0, 1.0, 2.0, 1.0, 2.0, 2.0, 2.0, 1.0, 2.0, 1.0, 1.0, 2.0, 1.0, 2.0, 2.0, 2.0, 1.0, 2.0, 1.0, 1.0, 2.0, 1.0, 2.0, 2.0, 2.0, 1.0, 2.0, 1.0, 1.0, 2.0, 1.0, 2.0, 2.0, 2.0, 1.0, 2.0, 1.0, 1.0, 2.0, 1.0, 2.0, 2.0, 2.0, 1.0, 2.0, 1.0, 1.0, 2.0, 1.0, 2.0, 2.0, 2.0, 1.0, 2.0, 1.0, 1.0, 2.0, 1.0, 2.0, 2.0, 2.0, 1.0, 2.0, 1.0, 1.0, 2.0, 1.0, 2.0, 2.0, 2.0, 1.0, 2.0, 1.0, 1.0, 2.0, 1.0, 2.0, 2.0, 2.0, 1.0, 2.0, 1.0, 1.0, 2.0, 0.0, 0.0, 0.0, 0.0, -1.0, -1.0, -1.0, 2.0, 0.0, 1.0, 2.0], \"type\": \"scatter\", \"uid\": \"a073f06e-0cdb-4605-8c83-c277fdc6d45b\"}, {\"hoverinfo\": \"text\", \"marker\": {\"color\": \"#517C53\"}, \"mode\": \"markers\", \"name\": \"A\", \"text\": [\"0.089\\u20ac <br> grade:-4.0\", \"0.089\\u20ac <br> grade:-4.0\", \"0.089\\u20ac <br> grade:-4.0\", \"0.089\\u20ac <br> grade:-4.0\", \"0.089\\u20ac <br> grade:-3.0\", \"0.089\\u20ac <br> grade:-4.0\", \"0.089\\u20ac <br> grade:-5.0\", \"0.089\\u20ac <br> grade:-3.0\", \"0.089\\u20ac <br> grade:-4.0\", \"0.089\\u20ac <br> grade:-4.0\", \"0.089\\u20ac <br> grade:-4.0\", \"0.089\\u20ac <br> grade:-4.0\", \"0.089\\u20ac <br> grade:-4.0\", \"0.089\\u20ac <br> grade:-3.0\", \"0.089\\u20ac <br> grade:-4.0\", \"0.089\\u20ac <br> grade:-5.0\", \"0.089\\u20ac <br> grade:-3.0\", \"0.089\\u20ac <br> grade:-4.0\", \"0.089\\u20ac <br> grade:-4.0\", \"0.089\\u20ac <br> grade:-4.0\", \"0.089\\u20ac <br> grade:-4.0\", \"0.089\\u20ac <br> grade:-4.0\", \"0.089\\u20ac <br> grade:-3.0\", \"0.089\\u20ac <br> grade:-4.0\", \"0.089\\u20ac <br> grade:-5.0\", \"0.089\\u20ac <br> grade:-3.0\", \"0.089\\u20ac <br> grade:-4.0\", \"0.089\\u20ac <br> grade:-4.0\", \"0.089\\u20ac <br> grade:-4.0\", \"0.089\\u20ac <br> grade:-4.0\", \"0.089\\u20ac <br> grade:-4.0\", \"0.089\\u20ac <br> grade:-3.0\", \"0.089\\u20ac <br> grade:-4.0\", \"0.089\\u20ac <br> grade:-5.0\", \"0.089\\u20ac <br> grade:-3.0\", \"0.089\\u20ac <br> grade:-4.0\", \"0.089\\u20ac <br> grade:-4.0\", \"0.089\\u20ac <br> grade:-4.0\", \"0.089\\u20ac <br> grade:-4.0\", \"0.089\\u20ac <br> grade:-4.0\", \"0.089\\u20ac <br> grade:-3.0\", \"0.089\\u20ac <br> grade:-4.0\", \"0.089\\u20ac <br> grade:-5.0\", \"0.089\\u20ac <br> grade:-3.0\", \"0.089\\u20ac <br> grade:-4.0\", \"0.089\\u20ac <br> grade:-4.0\", \"0.089\\u20ac <br> grade:-4.0\", \"0.089\\u20ac <br> grade:-4.0\", \"0.089\\u20ac <br> grade:-4.0\", \"0.089\\u20ac <br> grade:-3.0\", \"0.089\\u20ac <br> grade:-4.0\", \"0.089\\u20ac <br> grade:-5.0\", \"0.089\\u20ac <br> grade:-3.0\", \"0.089\\u20ac <br> grade:-4.0\", \"0.089\\u20ac <br> grade:-4.0\", \"0.089\\u20ac <br> grade:-4.0\", \"0.089\\u20ac <br> grade:-4.0\", \"0.089\\u20ac <br> grade:-4.0\", \"0.089\\u20ac <br> grade:-3.0\", \"0.089\\u20ac <br> grade:-4.0\", \"0.089\\u20ac <br> grade:-5.0\", \"0.089\\u20ac <br> grade:-3.0\", \"0.089\\u20ac <br> grade:-4.0\", \"0.089\\u20ac <br> grade:-4.0\", \"0.089\\u20ac <br> grade:-4.0\", \"0.089\\u20ac <br> grade:-4.0\", \"0.089\\u20ac <br> grade:-4.0\", \"0.089\\u20ac <br> grade:-3.0\", \"0.089\\u20ac <br> grade:-4.0\", \"0.089\\u20ac <br> grade:-5.0\", \"0.089\\u20ac <br> grade:-3.0\", \"0.089\\u20ac <br> grade:-4.0\", \"0.089\\u20ac <br> grade:-4.0\", \"0.089\\u20ac <br> grade:-4.0\", \"0.089\\u20ac <br> grade:-4.0\", \"0.089\\u20ac <br> grade:-4.0\", \"0.089\\u20ac <br> grade:-3.0\", \"0.089\\u20ac <br> grade:-4.0\", \"0.089\\u20ac <br> grade:-5.0\", \"0.089\\u20ac <br> grade:-3.0\", \"0.089\\u20ac <br> grade:-4.0\", \"0.089\\u20ac <br> grade:-4.0\", \"0.089\\u20ac <br> grade:-4.0\", \"0.089\\u20ac <br> grade:-4.0\", \"0.089\\u20ac <br> grade:-4.0\", \"0.089\\u20ac <br> grade:-3.0\", \"0.089\\u20ac <br> grade:-4.0\", \"0.089\\u20ac <br> grade:-5.0\", \"0.089\\u20ac <br> grade:-3.0\", \"0.089\\u20ac <br> grade:-4.0\", \"0.089\\u20ac <br> grade:-4.0\", \"0.089\\u20ac <br> grade:-4.0\", \"0.089\\u20ac <br> grade:-4.0\", \"0.089\\u20ac <br> grade:-4.0\", \"0.089\\u20ac <br> grade:-3.0\", \"0.089\\u20ac <br> grade:-4.0\", \"0.089\\u20ac <br> grade:-5.0\", \"0.089\\u20ac <br> grade:-3.0\", \"0.089\\u20ac <br> grade:-4.0\", \"0.13\\u20ac <br> grade:-4.0\", \"0.13\\u20ac <br> grade:-4.0\", \"0.13\\u20ac <br> grade:-4.0\", \"0.13\\u20ac <br> grade:-1.0\", \"0.13\\u20ac <br> grade:-1.0\", \"0.13\\u20ac <br> grade:-4.0\", \"0.13\\u20ac <br> grade:-4.0\", \"0.13\\u20ac <br> grade:-4.0\", \"0.13\\u20ac <br> grade:-1.0\", \"0.13\\u20ac <br> grade:-1.0\", \"0.13\\u20ac <br> grade:-4.0\", \"0.13\\u20ac <br> grade:-4.0\", \"0.13\\u20ac <br> grade:-4.0\", \"0.13\\u20ac <br> grade:-1.0\", \"0.13\\u20ac <br> grade:-1.0\", \"0.13\\u20ac <br> grade:-4.0\", \"0.13\\u20ac <br> grade:-4.0\", \"0.13\\u20ac <br> grade:-4.0\", \"0.13\\u20ac <br> grade:-1.0\", \"0.13\\u20ac <br> grade:-1.0\", \"0.13\\u20ac <br> grade:-4.0\", \"0.13\\u20ac <br> grade:-4.0\", \"0.13\\u20ac <br> grade:-4.0\", \"0.13\\u20ac <br> grade:-1.0\", \"0.13\\u20ac <br> grade:-1.0\", \"2.289\\u20ac <br> grade:-1.0\", \"0.418\\u20ac <br> grade:-1.0\", \"0.532\\u20ac <br> grade:-2.0\", \"0.01\\u20ac <br> grade:-4.0\", \"0.089\\u20ac <br> grade:-6.0\", \"0.089\\u20ac <br> grade:-6.0\", \"0.089\\u20ac <br> grade:-6.0\", \"0.089\\u20ac <br> grade:-6.0\", \"0.289\\u20ac <br> grade:-4.0\", \"0.135\\u20ac <br> grade:-4.0\", \"0.218\\u20ac <br> grade:-6.0\"], \"x\": [0.08900000000000001, 0.08900000000000001, 0.08900000000000001, 0.08900000000000001, 0.08900000000000001, 0.08900000000000001, 0.08900000000000001, 0.08900000000000001, 0.08900000000000001, 0.08900000000000001, 0.08900000000000001, 0.08900000000000001, 0.08900000000000001, 0.08900000000000001, 0.08900000000000001, 0.08900000000000001, 0.08900000000000001, 0.08900000000000001, 0.08900000000000001, 0.08900000000000001, 0.08900000000000001, 0.08900000000000001, 0.08900000000000001, 0.08900000000000001, 0.08900000000000001, 0.08900000000000001, 0.08900000000000001, 0.08900000000000001, 0.08900000000000001, 0.08900000000000001, 0.08900000000000001, 0.08900000000000001, 0.08900000000000001, 0.08900000000000001, 0.08900000000000001, 0.08900000000000001, 0.08900000000000001, 0.08900000000000001, 0.08900000000000001, 0.08900000000000001, 0.08900000000000001, 0.08900000000000001, 0.08900000000000001, 0.08900000000000001, 0.08900000000000001, 0.08900000000000001, 0.08900000000000001, 0.08900000000000001, 0.08900000000000001, 0.08900000000000001, 0.08900000000000001, 0.08900000000000001, 0.08900000000000001, 0.08900000000000001, 0.08900000000000001, 0.08900000000000001, 0.08900000000000001, 0.08900000000000001, 0.08900000000000001, 0.08900000000000001, 0.08900000000000001, 0.08900000000000001, 0.08900000000000001, 0.08900000000000001, 0.08900000000000001, 0.08900000000000001, 0.08900000000000001, 0.08900000000000001, 0.08900000000000001, 0.08900000000000001, 0.08900000000000001, 0.08900000000000001, 0.08900000000000001, 0.08900000000000001, 0.08900000000000001, 0.08900000000000001, 0.08900000000000001, 0.08900000000000001, 0.08900000000000001, 0.08900000000000001, 0.08900000000000001, 0.08900000000000001, 0.08900000000000001, 0.08900000000000001, 0.08900000000000001, 0.08900000000000001, 0.08900000000000001, 0.08900000000000001, 0.08900000000000001, 0.08900000000000001, 0.08900000000000001, 0.08900000000000001, 0.08900000000000001, 0.08900000000000001, 0.08900000000000001, 0.08900000000000001, 0.08900000000000001, 0.08900000000000001, 0.08900000000000001, 0.13, 0.13, 0.13, 0.13, 0.13, 0.13, 0.13, 0.13, 0.13, 0.13, 0.13, 0.13, 0.13, 0.13, 0.13, 0.13, 0.13, 0.13, 0.13, 0.13, 0.13, 0.13, 0.13, 0.13, 0.13, 2.289, 0.418, 0.532, 0.01, 0.08900000000000001, 0.08900000000000001, 0.08900000000000001, 0.08900000000000001, 0.289, 0.135, 0.218], \"y\": [-4.0, -4.0, -4.0, -4.0, -3.0, -4.0, -5.0, -3.0, -4.0, -4.0, -4.0, -4.0, -4.0, -3.0, -4.0, -5.0, -3.0, -4.0, -4.0, -4.0, -4.0, -4.0, -3.0, -4.0, -5.0, -3.0, -4.0, -4.0, -4.0, -4.0, -4.0, -3.0, -4.0, -5.0, -3.0, -4.0, -4.0, -4.0, -4.0, -4.0, -3.0, -4.0, -5.0, -3.0, -4.0, -4.0, -4.0, -4.0, -4.0, -3.0, -4.0, -5.0, -3.0, -4.0, -4.0, -4.0, -4.0, -4.0, -3.0, -4.0, -5.0, -3.0, -4.0, -4.0, -4.0, -4.0, -4.0, -3.0, -4.0, -5.0, -3.0, -4.0, -4.0, -4.0, -4.0, -4.0, -3.0, -4.0, -5.0, -3.0, -4.0, -4.0, -4.0, -4.0, -4.0, -3.0, -4.0, -5.0, -3.0, -4.0, -4.0, -4.0, -4.0, -4.0, -3.0, -4.0, -5.0, -3.0, -4.0, -4.0, -4.0, -4.0, -1.0, -1.0, -4.0, -4.0, -4.0, -1.0, -1.0, -4.0, -4.0, -4.0, -1.0, -1.0, -4.0, -4.0, -4.0, -1.0, -1.0, -4.0, -4.0, -4.0, -1.0, -1.0, -1.0, -1.0, -2.0, -4.0, -6.0, -6.0, -6.0, -6.0, -4.0, -4.0, -6.0], \"type\": \"scatter\", \"uid\": \"459737cf-21ea-4e36-ba82-75c84efcae71\"}, {\"hoverinfo\": \"text\", \"marker\": {\"color\": \"#E9F287\"}, \"mode\": \"markers\", \"name\": \"C\", \"text\": [\"1.026\\u20ac <br> grade:5.0\", \"1.026\\u20ac <br> grade:4.0\", \"1.026\\u20ac <br> grade:5.0\", \"1.026\\u20ac <br> grade:5.0\", \"1.026\\u20ac <br> grade:3.0\", \"1.026\\u20ac <br> grade:3.0\", \"1.026\\u20ac <br> grade:5.0\", \"1.026\\u20ac <br> grade:4.0\", \"1.026\\u20ac <br> grade:5.0\", \"1.026\\u20ac <br> grade:5.0\", \"1.026\\u20ac <br> grade:3.0\", \"1.026\\u20ac <br> grade:3.0\", \"1.026\\u20ac <br> grade:5.0\", \"1.026\\u20ac <br> grade:4.0\", \"1.026\\u20ac <br> grade:5.0\", \"1.026\\u20ac <br> grade:5.0\", \"1.026\\u20ac <br> grade:3.0\", \"1.026\\u20ac <br> grade:3.0\", \"1.026\\u20ac <br> grade:5.0\", \"1.026\\u20ac <br> grade:4.0\", \"1.026\\u20ac <br> grade:5.0\", \"1.026\\u20ac <br> grade:5.0\", \"1.026\\u20ac <br> grade:3.0\", \"1.026\\u20ac <br> grade:3.0\", \"1.026\\u20ac <br> grade:5.0\", \"1.026\\u20ac <br> grade:4.0\", \"1.026\\u20ac <br> grade:5.0\", \"1.026\\u20ac <br> grade:5.0\", \"1.026\\u20ac <br> grade:3.0\", \"1.026\\u20ac <br> grade:3.0\", \"1.026\\u20ac <br> grade:5.0\", \"1.026\\u20ac <br> grade:4.0\", \"1.026\\u20ac <br> grade:5.0\", \"1.026\\u20ac <br> grade:5.0\", \"1.026\\u20ac <br> grade:3.0\", \"1.026\\u20ac <br> grade:3.0\", \"1.026\\u20ac <br> grade:5.0\", \"1.026\\u20ac <br> grade:4.0\", \"1.026\\u20ac <br> grade:5.0\", \"1.026\\u20ac <br> grade:5.0\", \"1.026\\u20ac <br> grade:3.0\", \"1.026\\u20ac <br> grade:3.0\", \"1.026\\u20ac <br> grade:5.0\", \"1.026\\u20ac <br> grade:4.0\", \"1.026\\u20ac <br> grade:5.0\", \"1.026\\u20ac <br> grade:5.0\", \"1.026\\u20ac <br> grade:3.0\", \"1.026\\u20ac <br> grade:3.0\", \"1.026\\u20ac <br> grade:5.0\", \"1.026\\u20ac <br> grade:4.0\", \"1.026\\u20ac <br> grade:5.0\", \"1.026\\u20ac <br> grade:5.0\", \"1.026\\u20ac <br> grade:3.0\", \"1.026\\u20ac <br> grade:3.0\", \"1.026\\u20ac <br> grade:5.0\", \"1.026\\u20ac <br> grade:4.0\", \"1.026\\u20ac <br> grade:5.0\", \"1.026\\u20ac <br> grade:5.0\", \"1.026\\u20ac <br> grade:3.0\", \"1.026\\u20ac <br> grade:3.0\", \"1.026\\u20ac <br> grade:5.0\", \"1.026\\u20ac <br> grade:4.0\", \"1.026\\u20ac <br> grade:5.0\", \"1.026\\u20ac <br> grade:5.0\", \"1.026\\u20ac <br> grade:3.0\", \"1.026\\u20ac <br> grade:3.0\", \"1.026\\u20ac <br> grade:5.0\", \"1.026\\u20ac <br> grade:4.0\", \"1.026\\u20ac <br> grade:5.0\", \"1.026\\u20ac <br> grade:5.0\", \"1.026\\u20ac <br> grade:3.0\", \"1.026\\u20ac <br> grade:3.0\", \"1.026\\u20ac <br> grade:5.0\", \"1.026\\u20ac <br> grade:4.0\", \"1.026\\u20ac <br> grade:5.0\", \"1.026\\u20ac <br> grade:5.0\", \"1.026\\u20ac <br> grade:3.0\", \"1.026\\u20ac <br> grade:3.0\", \"1.026\\u20ac <br> grade:5.0\", \"1.026\\u20ac <br> grade:4.0\", \"1.026\\u20ac <br> grade:5.0\", \"1.026\\u20ac <br> grade:5.0\", \"1.026\\u20ac <br> grade:3.0\", \"1.026\\u20ac <br> grade:3.0\", \"1.026\\u20ac <br> grade:5.0\", \"1.026\\u20ac <br> grade:4.0\", \"1.026\\u20ac <br> grade:5.0\", \"1.026\\u20ac <br> grade:5.0\", \"1.026\\u20ac <br> grade:3.0\", \"1.026\\u20ac <br> grade:3.0\", \"1.026\\u20ac <br> grade:5.0\", \"1.026\\u20ac <br> grade:4.0\", \"1.026\\u20ac <br> grade:5.0\", \"1.026\\u20ac <br> grade:5.0\", \"1.026\\u20ac <br> grade:3.0\", \"1.026\\u20ac <br> grade:3.0\", \"1.026\\u20ac <br> grade:5.0\", \"1.026\\u20ac <br> grade:4.0\", \"1.026\\u20ac <br> grade:5.0\", \"1.026\\u20ac <br> grade:5.0\", \"1.026\\u20ac <br> grade:3.0\", \"1.026\\u20ac <br> grade:3.0\", \"0.159\\u20ac <br> grade:3.0\", \"0.159\\u20ac <br> grade:2.0\", \"0.159\\u20ac <br> grade:3.0\", \"0.159\\u20ac <br> grade:2.0\", \"0.159\\u20ac <br> grade:3.0\", \"0.159\\u20ac <br> grade:2.0\", \"0.65\\u20ac <br> grade:3.0\", \"0.398\\u20ac <br> grade:6.0\", \"0.398\\u20ac <br> grade:6.0\", \"1.43\\u20ac <br> grade:3.0\", \"0.35\\u20ac <br> grade:8.0\", \"0.267\\u20ac <br> grade:10.0\"], \"x\": [1.026, 1.026, 1.026, 1.026, 1.026, 1.026, 1.026, 1.026, 1.026, 1.026, 1.026, 1.026, 1.026, 1.026, 1.026, 1.026, 1.026, 1.026, 1.026, 1.026, 1.026, 1.026, 1.026, 1.026, 1.026, 1.026, 1.026, 1.026, 1.026, 1.026, 1.026, 1.026, 1.026, 1.026, 1.026, 1.026, 1.026, 1.026, 1.026, 1.026, 1.026, 1.026, 1.026, 1.026, 1.026, 1.026, 1.026, 1.026, 1.026, 1.026, 1.026, 1.026, 1.026, 1.026, 1.026, 1.026, 1.026, 1.026, 1.026, 1.026, 1.026, 1.026, 1.026, 1.026, 1.026, 1.026, 1.026, 1.026, 1.026, 1.026, 1.026, 1.026, 1.026, 1.026, 1.026, 1.026, 1.026, 1.026, 1.026, 1.026, 1.026, 1.026, 1.026, 1.026, 1.026, 1.026, 1.026, 1.026, 1.026, 1.026, 1.026, 1.026, 1.026, 1.026, 1.026, 1.026, 1.026, 1.026, 1.026, 1.026, 1.026, 1.026, 0.159, 0.159, 0.159, 0.159, 0.159, 0.159, 0.65, 0.398, 0.398, 1.43, 0.35, 0.267], \"y\": [5.0, 4.0, 5.0, 5.0, 3.0, 3.0, 5.0, 4.0, 5.0, 5.0, 3.0, 3.0, 5.0, 4.0, 5.0, 5.0, 3.0, 3.0, 5.0, 4.0, 5.0, 5.0, 3.0, 3.0, 5.0, 4.0, 5.0, 5.0, 3.0, 3.0, 5.0, 4.0, 5.0, 5.0, 3.0, 3.0, 5.0, 4.0, 5.0, 5.0, 3.0, 3.0, 5.0, 4.0, 5.0, 5.0, 3.0, 3.0, 5.0, 4.0, 5.0, 5.0, 3.0, 3.0, 5.0, 4.0, 5.0, 5.0, 3.0, 3.0, 5.0, 4.0, 5.0, 5.0, 3.0, 3.0, 5.0, 4.0, 5.0, 5.0, 3.0, 3.0, 5.0, 4.0, 5.0, 5.0, 3.0, 3.0, 5.0, 4.0, 5.0, 5.0, 3.0, 3.0, 5.0, 4.0, 5.0, 5.0, 3.0, 3.0, 5.0, 4.0, 5.0, 5.0, 3.0, 3.0, 5.0, 4.0, 5.0, 5.0, 3.0, 3.0, 3.0, 2.0, 3.0, 2.0, 3.0, 2.0, 3.0, 6.0, 6.0, 3.0, 8.0, 10.0], \"type\": \"scatter\", \"uid\": \"3b54ae08-ee75-4bb5-bb4d-557664326292\"}, {\"hoverinfo\": \"text\", \"marker\": {\"color\": \"#F2CE75\"}, \"mode\": \"markers\", \"name\": \"D\", \"text\": [\"1.026\\u20ac <br> grade:11.0\", \"1.026\\u20ac <br> grade:11.0\", \"1.026\\u20ac <br> grade:11.0\", \"1.026\\u20ac <br> grade:11.0\", \"1.026\\u20ac <br> grade:11.0\", \"1.026\\u20ac <br> grade:11.0\", \"1.026\\u20ac <br> grade:11.0\", \"1.026\\u20ac <br> grade:11.0\", \"1.026\\u20ac <br> grade:11.0\", \"1.026\\u20ac <br> grade:11.0\", \"1.026\\u20ac <br> grade:11.0\", \"1.026\\u20ac <br> grade:11.0\", \"1.026\\u20ac <br> grade:11.0\", \"1.026\\u20ac <br> grade:11.0\", \"1.026\\u20ac <br> grade:11.0\", \"1.026\\u20ac <br> grade:11.0\", \"1.026\\u20ac <br> grade:11.0\", \"0.532\\u20ac <br> grade:17.0\", \"0.689\\u20ac <br> grade:14.0\", \"1.252\\u20ac <br> grade:13.0\", \"1.067\\u20ac <br> grade:11.0\", \"1.069\\u20ac <br> grade:11.0\", \"0.398\\u20ac <br> grade:12.0\", \"0.398\\u20ac <br> grade:12.0\", \"1.19\\u20ac <br> grade:12.0\", \"1.19\\u20ac <br> grade:12.0\", \"1.19\\u20ac <br> grade:12.0\", \"1.19\\u20ac <br> grade:12.0\", \"1.19\\u20ac <br> grade:12.0\", \"1.19\\u20ac <br> grade:12.0\", \"1.19\\u20ac <br> grade:12.0\", \"1.19\\u20ac <br> grade:12.0\", \"1.19\\u20ac <br> grade:12.0\", \"1.19\\u20ac <br> grade:12.0\", \"1.19\\u20ac <br> grade:12.0\", \"1.19\\u20ac <br> grade:12.0\", \"1.19\\u20ac <br> grade:12.0\", \"1.19\\u20ac <br> grade:12.0\", \"1.19\\u20ac <br> grade:12.0\", \"1.19\\u20ac <br> grade:12.0\", \"1.19\\u20ac <br> grade:12.0\", \"1.19\\u20ac <br> grade:12.0\", \"1.19\\u20ac <br> grade:12.0\", \"1.19\\u20ac <br> grade:12.0\", \"1.19\\u20ac <br> grade:12.0\", \"1.19\\u20ac <br> grade:12.0\", \"1.19\\u20ac <br> grade:12.0\", \"1.19\\u20ac <br> grade:12.0\", \"1.19\\u20ac <br> grade:12.0\", \"1.19\\u20ac <br> grade:12.0\", \"1.19\\u20ac <br> grade:12.0\", \"1.19\\u20ac <br> grade:12.0\", \"1.19\\u20ac <br> grade:12.0\", \"1.19\\u20ac <br> grade:12.0\", \"1.19\\u20ac <br> grade:12.0\", \"1.19\\u20ac <br> grade:12.0\", \"1.19\\u20ac <br> grade:12.0\", \"1.19\\u20ac <br> grade:12.0\", \"1.19\\u20ac <br> grade:12.0\", \"1.19\\u20ac <br> grade:12.0\", \"1.19\\u20ac <br> grade:12.0\", \"1.19\\u20ac <br> grade:12.0\", \"1.19\\u20ac <br> grade:12.0\", \"1.19\\u20ac <br> grade:12.0\", \"1.19\\u20ac <br> grade:12.0\", \"1.19\\u20ac <br> grade:12.0\", \"1.19\\u20ac <br> grade:12.0\", \"1.19\\u20ac <br> grade:12.0\", \"1.19\\u20ac <br> grade:12.0\", \"1.19\\u20ac <br> grade:12.0\", \"1.19\\u20ac <br> grade:12.0\", \"1.19\\u20ac <br> grade:12.0\", \"1.19\\u20ac <br> grade:12.0\", \"1.19\\u20ac <br> grade:12.0\", \"1.19\\u20ac <br> grade:12.0\", \"1.19\\u20ac <br> grade:12.0\", \"1.19\\u20ac <br> grade:12.0\", \"1.19\\u20ac <br> grade:12.0\", \"1.19\\u20ac <br> grade:12.0\", \"1.19\\u20ac <br> grade:12.0\", \"1.19\\u20ac <br> grade:12.0\", \"1.19\\u20ac <br> grade:12.0\", \"1.19\\u20ac <br> grade:12.0\", \"1.19\\u20ac <br> grade:12.0\", \"1.19\\u20ac <br> grade:12.0\", \"1.19\\u20ac <br> grade:12.0\", \"1.19\\u20ac <br> grade:12.0\", \"1.19\\u20ac <br> grade:12.0\", \"1.018\\u20ac <br> grade:17.0\", \"1.018\\u20ac <br> grade:15.0\", \"1.018\\u20ac <br> grade:17.0\", \"1.018\\u20ac <br> grade:15.0\", \"1.018\\u20ac <br> grade:17.0\", \"1.018\\u20ac <br> grade:15.0\", \"1.018\\u20ac <br> grade:17.0\", \"1.018\\u20ac <br> grade:15.0\", \"1.018\\u20ac <br> grade:17.0\", \"1.018\\u20ac <br> grade:15.0\", \"0.218\\u20ac <br> grade:12.0\", \"2.772\\u20ac <br> grade:12.0\", \"3.75\\u20ac <br> grade:13.0\", \"5.675\\u20ac <br> grade:12.0\", \"5.675\\u20ac <br> grade:12.0\", \"0.453\\u20ac <br> grade:15.0\", \"0.358\\u20ac <br> grade:14.0\", \"2.49\\u20ac <br> grade:15.0\", \"2.49\\u20ac <br> grade:15.0\", \"2.49\\u20ac <br> grade:15.0\", \"2.49\\u20ac <br> grade:15.0\", \"0.425\\u20ac <br> grade:16.0\", \"2.75\\u20ac <br> grade:18.0\", \"2.49\\u20ac <br> grade:14.0\", \"1.374\\u20ac <br> grade:16.0\"], \"x\": [1.026, 1.026, 1.026, 1.026, 1.026, 1.026, 1.026, 1.026, 1.026, 1.026, 1.026, 1.026, 1.026, 1.026, 1.026, 1.026, 1.026, 0.532, 0.6890000000000001, 1.252, 1.067, 1.069, 0.398, 0.398, 1.19, 1.19, 1.19, 1.19, 1.19, 1.19, 1.19, 1.19, 1.19, 1.19, 1.19, 1.19, 1.19, 1.19, 1.19, 1.19, 1.19, 1.19, 1.19, 1.19, 1.19, 1.19, 1.19, 1.19, 1.19, 1.19, 1.19, 1.19, 1.19, 1.19, 1.19, 1.19, 1.19, 1.19, 1.19, 1.19, 1.19, 1.19, 1.19, 1.19, 1.19, 1.19, 1.19, 1.19, 1.19, 1.19, 1.19, 1.19, 1.19, 1.19, 1.19, 1.19, 1.19, 1.19, 1.19, 1.19, 1.19, 1.19, 1.19, 1.19, 1.19, 1.19, 1.19, 1.19, 1.018, 1.018, 1.018, 1.018, 1.018, 1.018, 1.018, 1.018, 1.018, 1.018, 0.218, 2.772, 3.75, 5.675, 5.675, 0.453, 0.358, 2.49, 2.49, 2.49, 2.49, 0.425, 2.75, 2.49, 1.374], \"y\": [11.0, 11.0, 11.0, 11.0, 11.0, 11.0, 11.0, 11.0, 11.0, 11.0, 11.0, 11.0, 11.0, 11.0, 11.0, 11.0, 11.0, 17.0, 14.0, 13.0, 11.0, 11.0, 12.0, 12.0, 12.0, 12.0, 12.0, 12.0, 12.0, 12.0, 12.0, 12.0, 12.0, 12.0, 12.0, 12.0, 12.0, 12.0, 12.0, 12.0, 12.0, 12.0, 12.0, 12.0, 12.0, 12.0, 12.0, 12.0, 12.0, 12.0, 12.0, 12.0, 12.0, 12.0, 12.0, 12.0, 12.0, 12.0, 12.0, 12.0, 12.0, 12.0, 12.0, 12.0, 12.0, 12.0, 12.0, 12.0, 12.0, 12.0, 12.0, 12.0, 12.0, 12.0, 12.0, 12.0, 12.0, 12.0, 12.0, 12.0, 12.0, 12.0, 12.0, 12.0, 12.0, 12.0, 12.0, 12.0, 17.0, 15.0, 17.0, 15.0, 17.0, 15.0, 17.0, 15.0, 17.0, 15.0, 12.0, 12.0, 13.0, 12.0, 12.0, 15.0, 14.0, 15.0, 15.0, 15.0, 15.0, 16.0, 18.0, 14.0, 16.0], \"type\": \"scatter\", \"uid\": \"bb465ede-5add-4f63-8037-7fd112c82139\"}, {\"hoverinfo\": \"text\", \"marker\": {\"color\": \"#F68774\"}, \"mode\": \"markers\", \"name\": \"E\", \"text\": [\"1.327\\u20ac <br> grade:20.0\", \"1.327\\u20ac <br> grade:20.0\", \"2.025\\u20ac <br> grade:23.0\", \"2.025\\u20ac <br> grade:22.0\", \"2.025\\u20ac <br> grade:23.0\", \"2.025\\u20ac <br> grade:22.0\", \"0.82\\u20ac <br> grade:24.0\", \"1.061\\u20ac <br> grade:20.0\", \"1.061\\u20ac <br> grade:21.0\", \"1.061\\u20ac <br> grade:21.0\", \"1.061\\u20ac <br> grade:21.0\", \"1.061\\u20ac <br> grade:21.0\", \"1.061\\u20ac <br> grade:21.0\", \"1.061\\u20ac <br> grade:20.0\", \"1.061\\u20ac <br> grade:21.0\", \"1.061\\u20ac <br> grade:21.0\", \"1.061\\u20ac <br> grade:21.0\", \"1.061\\u20ac <br> grade:21.0\", \"1.061\\u20ac <br> grade:21.0\", \"1.061\\u20ac <br> grade:20.0\", \"1.061\\u20ac <br> grade:21.0\", \"1.061\\u20ac <br> grade:21.0\", \"1.061\\u20ac <br> grade:21.0\", \"1.061\\u20ac <br> grade:21.0\", \"1.061\\u20ac <br> grade:21.0\", \"1.061\\u20ac <br> grade:20.0\", \"1.061\\u20ac <br> grade:21.0\", \"1.061\\u20ac <br> grade:21.0\", \"1.061\\u20ac <br> grade:21.0\", \"1.061\\u20ac <br> grade:21.0\", \"1.061\\u20ac <br> grade:21.0\", \"1.061\\u20ac <br> grade:20.0\", \"1.061\\u20ac <br> grade:21.0\", \"1.061\\u20ac <br> grade:21.0\", \"1.061\\u20ac <br> grade:21.0\", \"1.061\\u20ac <br> grade:21.0\", \"1.061\\u20ac <br> grade:21.0\", \"1.061\\u20ac <br> grade:20.0\", \"1.061\\u20ac <br> grade:21.0\", \"1.061\\u20ac <br> grade:21.0\", \"1.061\\u20ac <br> grade:21.0\", \"1.061\\u20ac <br> grade:21.0\", \"1.061\\u20ac <br> grade:21.0\", \"1.061\\u20ac <br> grade:20.0\", \"1.061\\u20ac <br> grade:21.0\", \"1.061\\u20ac <br> grade:21.0\", \"1.061\\u20ac <br> grade:21.0\", \"1.061\\u20ac <br> grade:21.0\", \"1.061\\u20ac <br> grade:21.0\", \"1.018\\u20ac <br> grade:26.0\", \"1.018\\u20ac <br> grade:26.0\", \"1.018\\u20ac <br> grade:25.0\", \"1.018\\u20ac <br> grade:26.0\", \"1.018\\u20ac <br> grade:26.0\", \"1.018\\u20ac <br> grade:25.0\", \"1.018\\u20ac <br> grade:26.0\", \"1.018\\u20ac <br> grade:26.0\", \"1.018\\u20ac <br> grade:25.0\", \"1.018\\u20ac <br> grade:26.0\", \"1.018\\u20ac <br> grade:26.0\", \"1.018\\u20ac <br> grade:25.0\", \"1.018\\u20ac <br> grade:26.0\", \"1.018\\u20ac <br> grade:26.0\", \"1.018\\u20ac <br> grade:25.0\", \"0.39\\u20ac <br> grade:28.0\", \"0.39\\u20ac <br> grade:28.0\", \"5.675\\u20ac <br> grade:20.0\", \"2.45\\u20ac <br> grade:19.0\", \"2.28\\u20ac <br> grade:27.0\", \"2.78\\u20ac <br> grade:26.0\", \"2.8\\u20ac <br> grade:21.0\", \"2.86\\u20ac <br> grade:20.0\", \"0.398\\u20ac <br> grade:26.0\", \"0.418\\u20ac <br> grade:13.0\", \"0.418\\u20ac <br> grade:16.0\", \"0.53\\u20ac <br> grade:15.0\", \"2.78\\u20ac <br> grade:20.0\", \"2.44\\u20ac <br> grade:20.0\", \"2.8\\u20ac <br> grade:20.0\", \"0.99\\u20ac <br> grade:19.0\", \"3.01\\u20ac <br> grade:20.0\"], \"x\": [1.327, 1.327, 2.025, 2.025, 2.025, 2.025, 0.82, 1.061, 1.061, 1.061, 1.061, 1.061, 1.061, 1.061, 1.061, 1.061, 1.061, 1.061, 1.061, 1.061, 1.061, 1.061, 1.061, 1.061, 1.061, 1.061, 1.061, 1.061, 1.061, 1.061, 1.061, 1.061, 1.061, 1.061, 1.061, 1.061, 1.061, 1.061, 1.061, 1.061, 1.061, 1.061, 1.061, 1.061, 1.061, 1.061, 1.061, 1.061, 1.061, 1.018, 1.018, 1.018, 1.018, 1.018, 1.018, 1.018, 1.018, 1.018, 1.018, 1.018, 1.018, 1.018, 1.018, 1.018, 0.39, 0.39, 5.675, 2.45, 2.28, 2.78, 2.8, 2.86, 0.398, 0.418, 0.418, 0.53, 2.78, 2.44, 2.8, 0.99, 3.01], \"y\": [20.0, 20.0, 23.0, 22.0, 23.0, 22.0, 24.0, 20.0, 21.0, 21.0, 21.0, 21.0, 21.0, 20.0, 21.0, 21.0, 21.0, 21.0, 21.0, 20.0, 21.0, 21.0, 21.0, 21.0, 21.0, 20.0, 21.0, 21.0, 21.0, 21.0, 21.0, 20.0, 21.0, 21.0, 21.0, 21.0, 21.0, 20.0, 21.0, 21.0, 21.0, 21.0, 21.0, 20.0, 21.0, 21.0, 21.0, 21.0, 21.0, 26.0, 26.0, 25.0, 26.0, 26.0, 25.0, 26.0, 26.0, 25.0, 26.0, 26.0, 25.0, 26.0, 26.0, 25.0, 28.0, 28.0, 20.0, 19.0, 27.0, 26.0, 21.0, 20.0, 26.0, 13.0, 16.0, 15.0, 20.0, 20.0, 20.0, 19.0, 20.0], \"type\": \"scatter\", \"uid\": \"22c5481e-d0fc-4a70-8dec-e1d173bc3ec8\"}], {\"xaxis\": {\"title\": \"Price[\\u20ac]\"}, \"yaxis\": {\"title\": \"Nutritional grade\"}}, {\"showLink\": true, \"linkText\": \"Export to plot.ly\"})});</script><script type=\"text/javascript\">window.addEventListener(\"resize\", function(){window._Plotly.Plots.resize(document.getElementById(\"3360e2b3-5205-49f1-80bf-680df25ffb10\"));});</script>"
      ]
     },
     "metadata": {},
     "output_type": "display_data"
    }
   ],
   "source": [
    "visualize.scatter_plot_price_grade(price_grade_pd)"
   ]
  },
  {
   "cell_type": "markdown",
   "metadata": {},
   "source": [
    "Good news! We clearly see that from the products that we have a price, high graded products are, in general, less expensive. "
   ]
  },
  {
   "cell_type": "markdown",
   "metadata": {},
   "source": [
    "<i>scatter_plot_price_grade_categories</i> function plots a scatter plot of the price of products according to their nutritional mark, clustered by their corresponding category"
   ]
  },
  {
   "cell_type": "code",
   "execution_count": 31,
   "metadata": {},
   "outputs": [
    {
     "data": {
      "application/vnd.plotly.v1+json": {
       "data": [
        {
         "hoverinfo": "text",
         "marker": {
          "color": "#B69C63"
         },
         "mode": "markers",
         "name": "Meats",
         "text": [
          "Aiguillettes de poulet, sauce normande et son riz<br>1.662€",
          "Hachis Parmentier<br>1.026€",
          "Hachis Parmentier<br>1.026€",
          "Hachis Parmentier<br>1.026€",
          "Hachis Parmentier<br>1.026€",
          "Hachis Parmentier<br>1.026€",
          "Hachis Parmentier<br>1.026€",
          "Hachis Parmentier<br>1.026€",
          "Hachis Parmentier<br>1.026€",
          "Hachis Parmentier<br>1.026€",
          "Hachis Parmentier<br>1.026€",
          "Hachis Parmentier<br>1.026€",
          "Hachis Parmentier<br>1.026€",
          "Hachis Parmentier<br>1.026€",
          "Hachis Parmentier<br>1.026€",
          "Hachis Parmentier<br>1.026€",
          "Hachis Parmentier<br>1.026€",
          "Hachis Parmentier<br>1.026€",
          "Hachis Parmentier<br>1.026€",
          "Hachis Parmentier<br>1.026€",
          "Hachis Parmentier<br>1.026€",
          "Hachis Parmentier<br>1.026€",
          "Hachis Parmentier<br>1.026€",
          "Hachis Parmentier<br>1.026€",
          "Hachis Parmentier<br>1.026€",
          "Hachis Parmentier<br>1.026€",
          "Hachis Parmentier<br>1.026€",
          "Hachis Parmentier<br>1.026€",
          "Hachis Parmentier<br>1.026€",
          "Hachis Parmentier<br>1.026€",
          "Hachis Parmentier<br>1.026€",
          "Hachis Parmentier<br>1.026€",
          "Hachis Parmentier<br>1.026€",
          "Hachis Parmentier<br>1.026€",
          "Hachis Parmentier<br>1.026€",
          "Hachis Parmentier<br>1.026€",
          "Hachis Parmentier<br>1.026€",
          "Hachis Parmentier<br>1.026€",
          "Hachis Parmentier<br>1.026€",
          "Hachis Parmentier<br>1.026€",
          "Hachis Parmentier<br>1.026€",
          "Hachis Parmentier<br>1.026€",
          "Hachis Parmentier<br>1.026€",
          "Hachis Parmentier<br>1.026€",
          "Hachis Parmentier<br>1.026€",
          "Hachis Parmentier<br>1.026€",
          "Hachis Parmentier<br>1.026€",
          "Hachis Parmentier<br>1.026€",
          "Hachis Parmentier<br>1.026€",
          "Hachis Parmentier<br>1.026€",
          "Hachis Parmentier<br>1.026€",
          "Hachis Parmentier<br>1.026€",
          "Hachis Parmentier<br>1.026€",
          "Hachis Parmentier<br>1.026€",
          "Hachis Parmentier<br>1.026€",
          "Hachis Parmentier<br>1.026€",
          "Hachis Parmentier<br>1.026€",
          "Hachis Parmentier<br>1.026€",
          "Hachis Parmentier<br>1.026€",
          "Hachis Parmentier<br>1.026€",
          "Hachis Parmentier<br>1.026€",
          "Hachis Parmentier<br>1.026€",
          "Hachis Parmentier<br>1.026€",
          "Hachis Parmentier<br>1.026€",
          "Hachis Parmentier<br>1.026€",
          "Hachis Parmentier<br>1.026€",
          "Hachis Parmentier<br>1.026€",
          "Hachis Parmentier<br>1.026€",
          "Hachis Parmentier<br>1.026€",
          "Hachis Parmentier<br>1.026€",
          "Hachis Parmentier<br>1.026€",
          "Hachis Parmentier<br>1.026€",
          "Hachis Parmentier<br>1.026€",
          "Hachis Parmentier<br>1.026€",
          "Hachis Parmentier<br>1.026€",
          "Hachis Parmentier<br>1.026€",
          "Hachis Parmentier<br>1.026€",
          "Hachis Parmentier<br>1.026€",
          "Hachis Parmentier<br>1.026€",
          "Hachis Parmentier<br>1.026€",
          "Hachis Parmentier<br>1.026€",
          "Hachis Parmentier<br>1.026€",
          "Hachis Parmentier<br>1.026€",
          "Hachis Parmentier<br>1.026€",
          "Hachis Parmentier<br>1.026€",
          "Hachis Parmentier<br>1.026€",
          "Hachis Parmentier<br>1.026€",
          "Hachis Parmentier<br>1.026€",
          "Hachis Parmentier<br>1.026€",
          "Hachis Parmentier<br>1.026€",
          "Hachis Parmentier<br>1.026€",
          "Hachis Parmentier<br>1.026€",
          "Hachis Parmentier<br>1.026€",
          "Hachis Parmentier<br>1.026€",
          "Hachis Parmentier<br>1.026€",
          "Hachis Parmentier<br>1.026€",
          "Hachis Parmentier<br>1.026€",
          "Hachis Parmentier<br>1.026€",
          "Hachis Parmentier<br>1.026€",
          "Hachis Parmentier<br>1.026€",
          "Hachis Parmentier<br>1.026€",
          "Hachis Parmentier<br>1.026€",
          "Hachis Parmentier<br>1.026€",
          "Hachis Parmentier<br>1.026€",
          "Hachis Parmentier<br>1.026€",
          "Hachis Parmentier<br>1.026€",
          "Hachis Parmentier<br>1.026€",
          "Hachis Parmentier<br>1.026€",
          "Hachis Parmentier<br>1.026€",
          "Hachis Parmentier<br>1.026€",
          "Hachis Parmentier<br>1.026€",
          "Hachis Parmentier<br>1.026€",
          "Hachis Parmentier<br>1.026€",
          "Hachis Parmentier<br>1.026€",
          "Hachis Parmentier<br>1.026€",
          "Hachis Parmentier<br>1.026€",
          "Hachis Parmentier<br>1.026€",
          "Hachis Parmentier<br>1.026€",
          "Hachis Parmentier<br>1.026€",
          "Hachis Parmentier<br>1.026€",
          "Hachis Parmentier<br>1.026€",
          "Hachis Parmentier<br>1.026€",
          "Hachis Parmentier<br>1.026€",
          "Hachis Parmentier<br>1.026€",
          "Hachis Parmentier<br>1.026€",
          "Hachis Parmentier<br>1.026€",
          "Hachis Parmentier<br>1.026€",
          "Hachis Parmentier<br>1.026€",
          "Hachis Parmentier<br>1.026€",
          "Hachis Parmentier<br>1.026€",
          "Hachis Parmentier<br>1.026€",
          "Hachis Parmentier<br>1.026€",
          "Hachis Parmentier<br>1.026€",
          "Hachis Parmentier<br>1.026€",
          "Hachis Parmentier<br>1.026€",
          "Hachis Parmentier<br>1.026€",
          "Hachis Parmentier<br>1.026€",
          "Hachis Parmentier<br>1.026€",
          "Hachis Parmentier<br>1.026€",
          "Hachis Parmentier<br>1.026€",
          "Hachis Parmentier<br>1.026€",
          "Hachis Parmentier<br>1.026€",
          "Hachis Parmentier<br>1.026€",
          "Hachis Parmentier<br>1.026€",
          "Hachis Parmentier<br>1.026€",
          "Hachis Parmentier<br>1.026€",
          "Hachis Parmentier<br>1.026€",
          "Hachis Parmentier<br>1.026€",
          "Hachis Parmentier<br>1.026€",
          "Hachis Parmentier<br>1.026€",
          "Hachis Parmentier<br>1.026€",
          "Hachis Parmentier<br>1.026€",
          "Hachis Parmentier<br>1.026€",
          "Hachis Parmentier<br>1.026€",
          "Hachis Parmentier<br>1.026€",
          "Hachis Parmentier<br>1.026€",
          "Hachis Parmentier<br>1.026€",
          "Hachis Parmentier<br>1.026€",
          "Hachis Parmentier<br>1.026€",
          "Hachis Parmentier<br>1.026€",
          "Hachis Parmentier<br>1.026€",
          "Hachis Parmentier<br>1.026€",
          "Hachis Parmentier<br>1.026€",
          "Hachis Parmentier<br>1.026€",
          "Hachis Parmentier<br>1.026€",
          "Hachis Parmentier<br>1.026€",
          "Hachis Parmentier<br>1.026€",
          "Hachis Parmentier<br>1.026€",
          "Hachis Parmentier<br>1.026€",
          "Hachis Parmentier<br>1.026€",
          "Hachis Parmentier<br>1.026€",
          "Hachis Parmentier<br>1.026€",
          "Hachis Parmentier<br>1.026€",
          "Hachis Parmentier<br>1.026€",
          "Hachis Parmentier<br>1.026€",
          "Hachis Parmentier<br>1.026€",
          "Hachis Parmentier<br>1.026€",
          "Hachis Parmentier<br>1.026€",
          "Hachis Parmentier<br>1.026€",
          "Hachis Parmentier<br>1.026€",
          "Hachis Parmentier<br>1.026€",
          "Hachis Parmentier<br>1.026€",
          "Hachis Parmentier<br>1.026€",
          "Hachis Parmentier<br>1.026€",
          "Hachis Parmentier<br>1.026€",
          "Hachis Parmentier<br>1.026€",
          "Hachis Parmentier<br>1.026€",
          "Hachis Parmentier<br>1.026€",
          "Hachis Parmentier<br>1.026€",
          "Hachis Parmentier<br>1.026€",
          "Hachis Parmentier<br>1.026€",
          "Hachis Parmentier<br>1.026€",
          "Hachis Parmentier<br>1.026€",
          "Hachis Parmentier<br>1.026€",
          "Hachis Parmentier<br>1.026€",
          "Hachis Parmentier<br>1.026€",
          "Hachis Parmentier<br>1.026€",
          "Hachis Parmentier<br>1.026€",
          "Hachis Parmentier<br>1.026€",
          "Hachis Parmentier<br>1.026€",
          "Hachis Parmentier<br>1.026€",
          "Hachis Parmentier<br>1.026€",
          "Hachis Parmentier<br>1.026€",
          "Hachis Parmentier<br>1.026€",
          "Hachis Parmentier<br>1.026€",
          "Hachis Parmentier<br>1.026€",
          "Hachis Parmentier<br>1.026€",
          "Hachis Parmentier<br>1.026€",
          "Hachis Parmentier<br>1.026€",
          "Hachis Parmentier<br>1.026€",
          "Hachis Parmentier<br>1.026€",
          "Hachis Parmentier<br>1.026€",
          "Hachis Parmentier<br>1.026€",
          "Hachis Parmentier<br>1.026€",
          "Hachis Parmentier<br>1.026€",
          "Hachis Parmentier<br>1.026€",
          "Hachis Parmentier<br>1.026€",
          "Hachis Parmentier<br>1.026€",
          "Hachis Parmentier<br>1.026€",
          "Hachis Parmentier<br>1.026€",
          "Hachis Parmentier<br>1.026€",
          "Hachis Parmentier<br>1.026€",
          "Hachis Parmentier<br>1.026€",
          "Hachis Parmentier<br>1.026€",
          "Hachis Parmentier<br>1.026€",
          "Hachis Parmentier<br>1.026€",
          "Hachis Parmentier<br>1.026€",
          "Hachis Parmentier<br>1.026€",
          "Hachis Parmentier<br>1.026€",
          "Hachis Parmentier<br>1.026€",
          "Hachis Parmentier<br>1.026€",
          "Hachis Parmentier<br>1.026€",
          "Hachis Parmentier<br>1.026€",
          "Hachis Parmentier<br>1.026€",
          "Hachis Parmentier<br>1.026€",
          "Hachis Parmentier<br>1.026€",
          "Hachis Parmentier<br>1.026€",
          "Hachis Parmentier<br>1.026€",
          "Hachis Parmentier<br>1.026€",
          "Bœuf Bourguignon et ses Tagliatelles<br>1.43€",
          "Hachis Parmentier<br>1.026€",
          "Hachis Parmentier<br>1.026€",
          "Hachis Parmentier<br>1.026€",
          "Hachis Parmentier<br>1.026€",
          "Hachis Parmentier<br>1.026€",
          "Hachis Parmentier<br>1.026€",
          "Hachis Parmentier<br>1.026€",
          "Hachis Parmentier<br>1.026€",
          "Hachis Parmentier<br>1.026€",
          "Hachis Parmentier<br>1.026€",
          "Hachis Parmentier<br>1.026€",
          "Hachis Parmentier<br>1.026€",
          "Hachis Parmentier<br>1.026€",
          "Hachis Parmentier<br>1.026€",
          "Hachis Parmentier<br>1.026€",
          "Hachis Parmentier<br>1.026€",
          "Hachis Parmentier<br>1.026€",
          "Saucisses de Francfort<br>1.061€",
          "Saucisses de Francfort<br>1.061€",
          "Saucisses de Francfort<br>1.061€",
          "Saucisses de Francfort<br>1.061€",
          "Saucisses de Francfort<br>1.061€",
          "Saucisses de Francfort<br>1.061€",
          "Saucisses de Francfort<br>1.061€",
          "Saucisses de Francfort<br>1.061€",
          "Saucisses de Francfort<br>1.061€",
          "Saucisses de Francfort<br>1.061€",
          "Saucisses de Francfort<br>1.061€",
          "Saucisses de Francfort<br>1.061€",
          "Saucisses de Francfort<br>1.061€",
          "Saucisses de Francfort<br>1.061€",
          "Saucisses de Francfort<br>1.061€",
          "Saucisses de Francfort<br>1.061€",
          "Saucisses de Francfort<br>1.061€",
          "Saucisses de Francfort<br>1.061€",
          "Saucisses de Francfort<br>1.061€",
          "Saucisses de Francfort<br>1.061€",
          "Saucisses de Francfort<br>1.061€",
          "Saucisses de Francfort<br>1.061€",
          "Saucisses de Francfort<br>1.061€",
          "Lardons Fumés (2 barquettes)<br>1.327€",
          "Saucisses de Francfort<br>1.061€",
          "Saucisses de Francfort<br>1.061€",
          "Saucisses de Francfort<br>1.061€",
          "Saucisses de Francfort<br>1.061€",
          "Saucisses de Francfort<br>1.061€",
          "Saucisses de Francfort<br>1.061€",
          "Saucisses de Francfort<br>1.061€",
          "Saucisses de Francfort<br>1.061€",
          "Saucisses de Francfort<br>1.061€",
          "Saucisses de Francfort<br>1.061€",
          "Saucisses de Francfort<br>1.061€",
          "Saucisses de Francfort<br>1.061€",
          "Saucisses de Francfort<br>1.061€",
          "Saucisses de Francfort<br>1.061€",
          "Saucisses de Francfort<br>1.061€",
          "Saucisses de Francfort<br>1.061€",
          "Saucisses de Francfort<br>1.061€",
          "Saucisses de Francfort<br>1.061€",
          "Saucisses de Francfort<br>1.061€",
          "Lardons Nature (2 barquettes)<br>1.327€"
         ],
         "type": "scatter",
         "uid": "2b83607b-ad70-42ef-848b-c762c532bccd",
         "x": [
          1.662,
          1.026,
          1.026,
          1.026,
          1.026,
          1.026,
          1.026,
          1.026,
          1.026,
          1.026,
          1.026,
          1.026,
          1.026,
          1.026,
          1.026,
          1.026,
          1.026,
          1.026,
          1.026,
          1.026,
          1.026,
          1.026,
          1.026,
          1.026,
          1.026,
          1.026,
          1.026,
          1.026,
          1.026,
          1.026,
          1.026,
          1.026,
          1.026,
          1.026,
          1.026,
          1.026,
          1.026,
          1.026,
          1.026,
          1.026,
          1.026,
          1.026,
          1.026,
          1.026,
          1.026,
          1.026,
          1.026,
          1.026,
          1.026,
          1.026,
          1.026,
          1.026,
          1.026,
          1.026,
          1.026,
          1.026,
          1.026,
          1.026,
          1.026,
          1.026,
          1.026,
          1.026,
          1.026,
          1.026,
          1.026,
          1.026,
          1.026,
          1.026,
          1.026,
          1.026,
          1.026,
          1.026,
          1.026,
          1.026,
          1.026,
          1.026,
          1.026,
          1.026,
          1.026,
          1.026,
          1.026,
          1.026,
          1.026,
          1.026,
          1.026,
          1.026,
          1.026,
          1.026,
          1.026,
          1.026,
          1.026,
          1.026,
          1.026,
          1.026,
          1.026,
          1.026,
          1.026,
          1.026,
          1.026,
          1.026,
          1.026,
          1.026,
          1.026,
          1.026,
          1.026,
          1.026,
          1.026,
          1.026,
          1.026,
          1.026,
          1.026,
          1.026,
          1.026,
          1.026,
          1.026,
          1.026,
          1.026,
          1.026,
          1.026,
          1.026,
          1.026,
          1.026,
          1.026,
          1.026,
          1.026,
          1.026,
          1.026,
          1.026,
          1.026,
          1.026,
          1.026,
          1.026,
          1.026,
          1.026,
          1.026,
          1.026,
          1.026,
          1.026,
          1.026,
          1.026,
          1.026,
          1.026,
          1.026,
          1.026,
          1.026,
          1.026,
          1.026,
          1.026,
          1.026,
          1.026,
          1.026,
          1.026,
          1.026,
          1.026,
          1.026,
          1.026,
          1.026,
          1.026,
          1.026,
          1.026,
          1.026,
          1.026,
          1.026,
          1.026,
          1.026,
          1.026,
          1.026,
          1.026,
          1.026,
          1.026,
          1.026,
          1.026,
          1.026,
          1.026,
          1.026,
          1.026,
          1.026,
          1.026,
          1.026,
          1.026,
          1.026,
          1.026,
          1.026,
          1.026,
          1.026,
          1.026,
          1.026,
          1.026,
          1.026,
          1.026,
          1.026,
          1.026,
          1.026,
          1.026,
          1.026,
          1.026,
          1.026,
          1.026,
          1.026,
          1.026,
          1.026,
          1.026,
          1.026,
          1.026,
          1.026,
          1.026,
          1.026,
          1.026,
          1.026,
          1.026,
          1.026,
          1.026,
          1.026,
          1.026,
          1.026,
          1.026,
          1.026,
          1.026,
          1.026,
          1.026,
          1.026,
          1.026,
          1.026,
          1.026,
          1.026,
          1.026,
          1.026,
          1.026,
          1.026,
          1.026,
          1.026,
          1.026,
          1.026,
          1.026,
          1.026,
          1.026,
          1.026,
          1.026,
          1.026,
          1.43,
          1.026,
          1.026,
          1.026,
          1.026,
          1.026,
          1.026,
          1.026,
          1.026,
          1.026,
          1.026,
          1.026,
          1.026,
          1.026,
          1.026,
          1.026,
          1.026,
          1.026,
          1.061,
          1.061,
          1.061,
          1.061,
          1.061,
          1.061,
          1.061,
          1.061,
          1.061,
          1.061,
          1.061,
          1.061,
          1.061,
          1.061,
          1.061,
          1.061,
          1.061,
          1.061,
          1.061,
          1.061,
          1.061,
          1.061,
          1.061,
          1.327,
          1.061,
          1.061,
          1.061,
          1.061,
          1.061,
          1.061,
          1.061,
          1.061,
          1.061,
          1.061,
          1.061,
          1.061,
          1.061,
          1.061,
          1.061,
          1.061,
          1.061,
          1.061,
          1.061,
          1.327
         ],
         "y": [
          "B",
          "B",
          "B",
          "B",
          "B",
          "B",
          "B",
          "B",
          "B",
          "B",
          "B",
          "B",
          "B",
          "B",
          "B",
          "B",
          "B",
          "B",
          "B",
          "B",
          "B",
          "B",
          "B",
          "B",
          "B",
          "B",
          "B",
          "B",
          "B",
          "B",
          "B",
          "B",
          "B",
          "B",
          "B",
          "B",
          "B",
          "B",
          "B",
          "B",
          "B",
          "B",
          "B",
          "B",
          "B",
          "B",
          "B",
          "B",
          "B",
          "B",
          "B",
          "B",
          "B",
          "B",
          "B",
          "B",
          "B",
          "B",
          "B",
          "B",
          "B",
          "B",
          "B",
          "B",
          "B",
          "B",
          "B",
          "B",
          "B",
          "B",
          "B",
          "B",
          "B",
          "B",
          "B",
          "B",
          "B",
          "B",
          "B",
          "B",
          "B",
          "B",
          "B",
          "B",
          "B",
          "B",
          "B",
          "B",
          "B",
          "B",
          "B",
          "B",
          "B",
          "B",
          "B",
          "B",
          "B",
          "B",
          "B",
          "B",
          "B",
          "B",
          "B",
          "B",
          "B",
          "B",
          "B",
          "B",
          "B",
          "B",
          "B",
          "B",
          "B",
          "B",
          "B",
          "B",
          "B",
          "B",
          "B",
          "B",
          "B",
          "B",
          "B",
          "B",
          "B",
          "B",
          "B",
          "B",
          "B",
          "B",
          "B",
          "B",
          "B",
          "B",
          "B",
          "B",
          "B",
          "C",
          "C",
          "C",
          "C",
          "C",
          "C",
          "C",
          "C",
          "C",
          "C",
          "C",
          "C",
          "C",
          "C",
          "C",
          "C",
          "C",
          "C",
          "C",
          "C",
          "C",
          "C",
          "C",
          "C",
          "C",
          "C",
          "C",
          "C",
          "C",
          "C",
          "C",
          "C",
          "C",
          "C",
          "C",
          "C",
          "C",
          "C",
          "C",
          "C",
          "C",
          "C",
          "C",
          "C",
          "C",
          "C",
          "C",
          "C",
          "C",
          "C",
          "C",
          "C",
          "C",
          "C",
          "C",
          "C",
          "C",
          "C",
          "C",
          "C",
          "C",
          "C",
          "C",
          "C",
          "C",
          "C",
          "C",
          "C",
          "C",
          "C",
          "C",
          "C",
          "C",
          "C",
          "C",
          "C",
          "C",
          "C",
          "C",
          "C",
          "C",
          "C",
          "C",
          "C",
          "C",
          "C",
          "C",
          "C",
          "C",
          "C",
          "C",
          "C",
          "C",
          "C",
          "C",
          "C",
          "C",
          "C",
          "C",
          "C",
          "C",
          "C",
          "C",
          "D",
          "D",
          "D",
          "D",
          "D",
          "D",
          "D",
          "D",
          "D",
          "D",
          "D",
          "D",
          "D",
          "D",
          "D",
          "D",
          "D",
          "E",
          "E",
          "E",
          "E",
          "E",
          "E",
          "E",
          "E",
          "E",
          "E",
          "E",
          "E",
          "E",
          "E",
          "E",
          "E",
          "E",
          "E",
          "E",
          "E",
          "E",
          "E",
          "E",
          "E",
          "E",
          "E",
          "E",
          "E",
          "E",
          "E",
          "E",
          "E",
          "E",
          "E",
          "E",
          "E",
          "E",
          "E",
          "E",
          "E",
          "E",
          "E",
          "E",
          "E"
         ]
        },
        {
         "hoverinfo": "text",
         "marker": {
          "color": "#F0F472"
         },
         "mode": "markers",
         "name": "Carbs",
         "text": [
          "Coquillettes<br>0.089€",
          "Coquillettes<br>0.089€",
          "Coquillettes<br>0.089€",
          "Coquillettes<br>0.089€",
          "Coquillettes<br>0.089€",
          "Coquillettes<br>0.089€",
          "Coquillettes<br>0.089€",
          "Coquillettes<br>0.089€",
          "Coquillettes<br>0.089€",
          "Coquillettes<br>0.089€",
          "Coquillettes<br>0.089€",
          "Coquillettes<br>0.089€",
          "Coquillettes<br>0.089€",
          "Coquillettes<br>0.089€",
          "Coquillettes<br>0.089€",
          "Coquillettes<br>0.089€",
          "Coquillettes<br>0.089€",
          "Coquillettes<br>0.089€",
          "Coquillettes<br>0.089€",
          "Coquillettes<br>0.089€",
          "Coquillettes<br>0.089€",
          "Coquillettes<br>0.089€",
          "Coquillettes<br>0.089€",
          "Coquillettes<br>0.089€",
          "Coquillettes<br>0.089€",
          "Coquillettes<br>0.089€",
          "Coquillettes<br>0.089€",
          "Coquillettes<br>0.089€",
          "Coquillettes<br>0.089€",
          "Coquillettes (Al dente 9 min.)<br>0.135€",
          "Coquillettes<br>0.089€",
          "Coquillettes<br>0.089€",
          "Coquillettes<br>0.089€",
          "Coquillettes<br>0.089€",
          "Coquillettes<br>0.089€",
          "Cheveux d'Ange (Al dente 3 min.)<br>0.289€",
          "Coquillettes au Blé Complet<br>0.089€",
          "Coquillettes au Blé Complet<br>0.089€",
          "Coquillettes au Blé Complet<br>0.089€",
          "Coquillettes au Blé Complet<br>0.089€",
          "Farfalle<br>0.13€",
          "Farfalle<br>0.13€",
          "Farfalle<br>0.13€",
          "Farfalle<br>0.13€",
          "Farfalle<br>0.13€",
          "Farfalle<br>0.13€",
          "Farfalle<br>0.13€",
          "Farfalle<br>0.13€",
          "Farfalle<br>0.13€",
          "Farfalle<br>0.13€",
          "Farfalle<br>0.13€",
          "Farfalle<br>0.13€",
          "Coquillettes<br>0.089€",
          "Coquillettes<br>0.089€",
          "Coquillettes<br>0.089€",
          "Coquillettes<br>0.089€",
          "Coquillettes<br>0.089€",
          "Coquillettes<br>0.089€",
          "Coquillettes<br>0.089€",
          "Farfalle<br>0.13€",
          "Farfalle<br>0.13€",
          "Farfalle<br>0.13€",
          "Farfalle<br>0.13€",
          "Farfalle<br>0.13€",
          "Farfalle<br>0.13€",
          "Farfalle<br>0.13€",
          "Farfalle<br>0.13€",
          "Coquillettes<br>0.089€",
          "Coquillettes<br>0.089€",
          "Coquillettes<br>0.089€",
          "Coquillettes<br>0.089€",
          "Coquillettes<br>0.089€",
          "Coquillettes<br>0.089€",
          "Coquillettes<br>0.089€",
          "Coquillettes<br>0.089€",
          "Coquillettes<br>0.089€",
          "Coquillettes<br>0.089€",
          "Coquillettes<br>0.089€",
          "Coquillettes<br>0.089€",
          "Coquillettes<br>0.089€",
          "Coquillettes<br>0.089€",
          "Coquillettes<br>0.089€",
          "Coquillettes<br>0.089€",
          "Coquillettes<br>0.089€",
          "Coquillettes<br>0.089€",
          "Coquillettes<br>0.089€",
          "Coquillettes<br>0.089€",
          "Coquillettes<br>0.089€",
          "Coquillettes<br>0.089€",
          "Coquillettes<br>0.089€",
          "Coquillettes<br>0.089€",
          "Coquillettes<br>0.089€",
          "Coquillettes<br>0.089€",
          "Coquillettes<br>0.089€",
          "Coquillettes<br>0.089€",
          "Coquillettes<br>0.089€",
          "Coquillettes<br>0.089€",
          "Coquillettes<br>0.089€",
          "Coquillettes<br>0.089€",
          "Coquillettes<br>0.089€",
          "Coquillettes<br>0.089€",
          "Coquillettes<br>0.089€",
          "Coquillettes<br>0.089€",
          "Coquillettes<br>0.089€",
          "Coquillettes<br>0.089€",
          "Coquillettes<br>0.089€",
          "Coquillettes<br>0.089€",
          "Coquillettes<br>0.089€",
          "Coquillettes<br>0.089€",
          "Coquillettes<br>0.089€",
          "Coquillettes<br>0.089€",
          "Coquillettes<br>0.089€",
          "Coquillettes<br>0.089€",
          "Coquillettes<br>0.089€",
          "Coquillettes<br>0.089€",
          "Coquillettes<br>0.089€",
          "Coquillettes<br>0.089€",
          "Coquillettes<br>0.089€",
          "Coquillettes<br>0.089€",
          "Coquillettes au blé intégral Bio<br>0.218€",
          "Coquillettes<br>0.089€",
          "Coquillettes<br>0.089€",
          "Coquillettes<br>0.089€",
          "Coquillettes<br>0.089€",
          "Coquillettes<br>0.089€",
          "Coquillettes<br>0.089€",
          "Coquillettes<br>0.089€",
          "Coquillettes<br>0.089€",
          "Coquillettes<br>0.089€",
          "Coquillettes<br>0.089€",
          "Coquillettes<br>0.089€",
          "Coquillettes<br>0.089€",
          "Coquillettes<br>0.089€",
          "Coquillettes<br>0.089€",
          "Coquillettes<br>0.089€",
          "Coquillettes<br>0.089€",
          "Coquillettes<br>0.089€",
          "Coquillettes<br>0.089€",
          "Coquillettes<br>0.089€",
          "Coquillettes<br>0.089€",
          "Coquillettes<br>0.089€",
          "Coquillettes<br>0.089€",
          "Coquillettes<br>0.089€",
          "Coquillettes<br>0.089€",
          "Coquillettes<br>0.089€",
          "Coquillettes<br>0.089€",
          "Coquillettes<br>0.089€",
          "Coquillettes<br>0.089€"
         ],
         "type": "scatter",
         "uid": "90e6ad3a-1426-4747-b5b8-1c6644633c98",
         "x": [
          0.08900000000000001,
          0.08900000000000001,
          0.08900000000000001,
          0.08900000000000001,
          0.08900000000000001,
          0.08900000000000001,
          0.08900000000000001,
          0.08900000000000001,
          0.08900000000000001,
          0.08900000000000001,
          0.08900000000000001,
          0.08900000000000001,
          0.08900000000000001,
          0.08900000000000001,
          0.08900000000000001,
          0.08900000000000001,
          0.08900000000000001,
          0.08900000000000001,
          0.08900000000000001,
          0.08900000000000001,
          0.08900000000000001,
          0.08900000000000001,
          0.08900000000000001,
          0.08900000000000001,
          0.08900000000000001,
          0.08900000000000001,
          0.08900000000000001,
          0.08900000000000001,
          0.08900000000000001,
          0.135,
          0.08900000000000001,
          0.08900000000000001,
          0.08900000000000001,
          0.08900000000000001,
          0.08900000000000001,
          0.289,
          0.08900000000000001,
          0.08900000000000001,
          0.08900000000000001,
          0.08900000000000001,
          0.13,
          0.13,
          0.13,
          0.13,
          0.13,
          0.13,
          0.13,
          0.13,
          0.13,
          0.13,
          0.13,
          0.13,
          0.08900000000000001,
          0.08900000000000001,
          0.08900000000000001,
          0.08900000000000001,
          0.08900000000000001,
          0.08900000000000001,
          0.08900000000000001,
          0.13,
          0.13,
          0.13,
          0.13,
          0.13,
          0.13,
          0.13,
          0.13,
          0.08900000000000001,
          0.08900000000000001,
          0.08900000000000001,
          0.08900000000000001,
          0.08900000000000001,
          0.08900000000000001,
          0.08900000000000001,
          0.08900000000000001,
          0.08900000000000001,
          0.08900000000000001,
          0.08900000000000001,
          0.08900000000000001,
          0.08900000000000001,
          0.08900000000000001,
          0.08900000000000001,
          0.08900000000000001,
          0.08900000000000001,
          0.08900000000000001,
          0.08900000000000001,
          0.08900000000000001,
          0.08900000000000001,
          0.08900000000000001,
          0.08900000000000001,
          0.08900000000000001,
          0.08900000000000001,
          0.08900000000000001,
          0.08900000000000001,
          0.08900000000000001,
          0.08900000000000001,
          0.08900000000000001,
          0.08900000000000001,
          0.08900000000000001,
          0.08900000000000001,
          0.08900000000000001,
          0.08900000000000001,
          0.08900000000000001,
          0.08900000000000001,
          0.08900000000000001,
          0.08900000000000001,
          0.08900000000000001,
          0.08900000000000001,
          0.08900000000000001,
          0.08900000000000001,
          0.08900000000000001,
          0.08900000000000001,
          0.08900000000000001,
          0.08900000000000001,
          0.08900000000000001,
          0.08900000000000001,
          0.08900000000000001,
          0.08900000000000001,
          0.08900000000000001,
          0.218,
          0.08900000000000001,
          0.08900000000000001,
          0.08900000000000001,
          0.08900000000000001,
          0.08900000000000001,
          0.08900000000000001,
          0.08900000000000001,
          0.08900000000000001,
          0.08900000000000001,
          0.08900000000000001,
          0.08900000000000001,
          0.08900000000000001,
          0.08900000000000001,
          0.08900000000000001,
          0.08900000000000001,
          0.08900000000000001,
          0.08900000000000001,
          0.08900000000000001,
          0.08900000000000001,
          0.08900000000000001,
          0.08900000000000001,
          0.08900000000000001,
          0.08900000000000001,
          0.08900000000000001,
          0.08900000000000001,
          0.08900000000000001,
          0.08900000000000001,
          0.08900000000000001
         ],
         "y": [
          "A",
          "A",
          "A",
          "A",
          "A",
          "A",
          "A",
          "A",
          "A",
          "A",
          "A",
          "A",
          "A",
          "A",
          "A",
          "A",
          "A",
          "A",
          "A",
          "A",
          "A",
          "A",
          "A",
          "A",
          "A",
          "A",
          "A",
          "A",
          "A",
          "A",
          "A",
          "A",
          "A",
          "A",
          "A",
          "A",
          "A",
          "A",
          "A",
          "A",
          "A",
          "A",
          "A",
          "A",
          "A",
          "A",
          "A",
          "A",
          "A",
          "A",
          "A",
          "A",
          "A",
          "A",
          "A",
          "A",
          "A",
          "A",
          "A",
          "A",
          "A",
          "A",
          "A",
          "A",
          "A",
          "A",
          "A",
          "A",
          "A",
          "A",
          "A",
          "A",
          "A",
          "A",
          "A",
          "A",
          "A",
          "A",
          "A",
          "A",
          "A",
          "A",
          "A",
          "A",
          "A",
          "A",
          "A",
          "A",
          "A",
          "A",
          "A",
          "A",
          "A",
          "A",
          "A",
          "A",
          "A",
          "A",
          "A",
          "A",
          "A",
          "A",
          "A",
          "A",
          "A",
          "A",
          "A",
          "A",
          "A",
          "A",
          "A",
          "A",
          "A",
          "A",
          "A",
          "A",
          "A",
          "A",
          "A",
          "A",
          "A",
          "A",
          "A",
          "A",
          "A",
          "A",
          "B",
          "B",
          "B",
          "B",
          "B",
          "B",
          "B",
          "B",
          "B",
          "B",
          "B",
          "B",
          "B",
          "B",
          "B",
          "B",
          "B",
          "B",
          "B",
          "B",
          "B",
          "B"
         ]
        },
        {
         "hoverinfo": "text",
         "marker": {
          "color": "#D6D0C3"
         },
         "mode": "markers",
         "name": "Dairies",
         "text": [
          "Lait Écrémé<br>0.129€",
          "Lait Écrémé<br>0.129€",
          "Yaourts aux fruits mixés<br>0.365€",
          "Lait Écrémé<br>0.129€",
          "Lait Écrémé<br>0.129€",
          "Emmental Français Râpé (29 % MG)<br>1.19€",
          "Emmental Français Râpé (29 % MG)<br>1.19€",
          "Emmental Français Râpé (29 % MG)<br>1.19€",
          "Emmental Français Râpé (29 % MG)<br>1.19€",
          "Emmental Français Râpé (29 % MG)<br>1.19€",
          "Emmental Français Râpé (29 % MG)<br>1.19€",
          "Emmental Français Râpé (29 % MG)<br>1.19€",
          "Emmental Français Râpé (29 % MG)<br>1.19€",
          "Emmental Français Râpé (29 % MG)<br>1.19€",
          "Emmental Français Râpé (29 % MG)<br>1.19€",
          "Emmental Français Râpé (29 % MG)<br>1.19€",
          "Emmental Français Râpé (29 % MG)<br>1.19€",
          "Emmental Français Râpé (29 % MG)<br>1.19€",
          "Emmental Français Râpé (29 % MG)<br>1.19€",
          "Emmental Français Râpé (29 % MG)<br>1.19€",
          "Emmental Français Râpé (29 % MG)<br>1.19€",
          "Emmental Français Râpé (29 % MG)<br>1.19€",
          "Emmental Français Râpé (29 % MG)<br>1.19€",
          "Pâte à tartiner<br>1.018€",
          "Pâte à tartiner<br>1.018€",
          "Pâte à tartiner<br>1.018€",
          "Pâte à tartiner<br>1.018€",
          "Pâte à tartiner<br>1.018€",
          "Pâte à tartiner<br>1.018€",
          "Pâte à tartiner<br>1.018€",
          "Emmental Français Râpé (29 % MG)<br>1.19€",
          "Pâte à tartiner<br>1.018€",
          "Pâte à tartiner<br>1.018€",
          "Emmental Français Râpé (29 % MG)<br>1.19€",
          "Emmental Français Râpé (29 % MG)<br>1.19€",
          "Emmental Français Râpé (29 % MG)<br>1.19€",
          "Emmental Français Râpé (29 % MG)<br>1.19€",
          "Emmental Français Râpé (29 % MG)<br>1.19€",
          "Emmental Français Râpé (29 % MG)<br>1.19€",
          "Pâte à tartiner<br>1.018€",
          "Emmental Français Râpé (29 % MG)<br>1.19€",
          "Emmental Français Râpé (29 % MG)<br>1.19€",
          "Emmental Français Râpé (29 % MG)<br>1.19€",
          "Emmental Français Râpé (29 % MG)<br>1.19€",
          "Emmental Français Râpé (29 % MG)<br>1.19€",
          "Emmental Français Râpé (29 % MG)<br>1.19€",
          "Emmental Français Râpé (29 % MG)<br>1.19€",
          "Emmental Français Râpé (29 % MG)<br>1.19€",
          "Emmental Français Râpé (29 % MG)<br>1.19€",
          "Emmental Français Râpé (29 % MG)<br>1.19€",
          "Emmental Français Râpé (29 % MG)<br>1.19€",
          "Emmental Français Râpé (29 % MG)<br>1.19€",
          "Emmental Français Râpé (29 % MG)<br>1.19€",
          "Emmental Français Râpé (29 % MG)<br>1.19€",
          "Emmental Français Râpé (29 % MG)<br>1.19€",
          "Emmental Français Râpé (29 % MG)<br>1.19€",
          "Emmental Français Râpé (29 % MG)<br>1.19€",
          "Emmental Français Râpé (29 % MG)<br>1.19€",
          "Val d'Automne (28 % MG)<br>0.532€",
          "Emmental Français Râpé (29 % MG)<br>1.19€",
          "Emmental Français Râpé (29 % MG)<br>1.19€",
          "Emmental Français Râpé (29 % MG)<br>1.19€",
          "Emmental Français Râpé (29 % MG)<br>1.19€",
          "Emmental Français Râpé (29 % MG)<br>1.19€",
          "Emmental Français Râpé (29 % MG)<br>1.19€",
          "Emmental Français Râpé (29 % MG)<br>1.19€",
          "Emmental Français Râpé (29 % MG)<br>1.19€",
          "Emmental Français Râpé (29 % MG)<br>1.19€",
          "Emmental Français Râpé (29 % MG)<br>1.19€",
          "Emmental Français Râpé (29 % MG)<br>1.19€",
          "Emmental Français Râpé (29 % MG)<br>1.19€",
          "Emmental Français Râpé (29 % MG)<br>1.19€",
          "Emmental Français Râpé (29 % MG)<br>1.19€",
          "Emmental Français Râpé (29 % MG)<br>1.19€",
          "Emmental Français Râpé (29 % MG)<br>1.19€",
          "Emmental Français Râpé (29 % MG)<br>1.19€",
          "Emmental Français Râpé (29 % MG)<br>1.19€",
          "Emmental Français Râpé (29 % MG)<br>1.19€",
          "Emmental Français Râpé (29 % MG)<br>1.19€",
          "Emmental Français Râpé (29 % MG)<br>1.19€",
          "Pâte à tartiner<br>1.018€",
          "Pâte à tartiner<br>1.018€",
          "Pâte à tartiner<br>1.018€",
          "Pâte à tartiner<br>1.018€",
          "Pâte à tartiner<br>1.018€",
          "Pâte à tartiner<br>1.018€",
          "Pâte à tartiner<br>1.018€",
          "Pâte à tartiner<br>1.018€",
          "Pâte à tartiner<br>1.018€",
          "Pâte à tartiner<br>1.018€",
          "Pâte à tartiner<br>1.018€",
          "Pâte à tartiner<br>1.018€",
          "Pâte à tartiner<br>1.018€",
          "Pâte à tartiner<br>1.018€",
          "Pâte à tartiner<br>1.018€"
         ],
         "type": "scatter",
         "uid": "1c4b0f08-1c4f-4d19-a196-ef5e24d8f171",
         "x": [
          0.129,
          0.129,
          0.365,
          0.129,
          0.129,
          1.19,
          1.19,
          1.19,
          1.19,
          1.19,
          1.19,
          1.19,
          1.19,
          1.19,
          1.19,
          1.19,
          1.19,
          1.19,
          1.19,
          1.19,
          1.19,
          1.19,
          1.19,
          1.018,
          1.018,
          1.018,
          1.018,
          1.018,
          1.018,
          1.018,
          1.19,
          1.018,
          1.018,
          1.19,
          1.19,
          1.19,
          1.19,
          1.19,
          1.19,
          1.018,
          1.19,
          1.19,
          1.19,
          1.19,
          1.19,
          1.19,
          1.19,
          1.19,
          1.19,
          1.19,
          1.19,
          1.19,
          1.19,
          1.19,
          1.19,
          1.19,
          1.19,
          1.19,
          0.532,
          1.19,
          1.19,
          1.19,
          1.19,
          1.19,
          1.19,
          1.19,
          1.19,
          1.19,
          1.19,
          1.19,
          1.19,
          1.19,
          1.19,
          1.19,
          1.19,
          1.19,
          1.19,
          1.19,
          1.19,
          1.19,
          1.018,
          1.018,
          1.018,
          1.018,
          1.018,
          1.018,
          1.018,
          1.018,
          1.018,
          1.018,
          1.018,
          1.018,
          1.018,
          1.018,
          1.018
         ],
         "y": [
          "B",
          "B",
          "B",
          "B",
          "B",
          "D",
          "D",
          "D",
          "D",
          "D",
          "D",
          "D",
          "D",
          "D",
          "D",
          "D",
          "D",
          "D",
          "D",
          "D",
          "D",
          "D",
          "D",
          "D",
          "D",
          "D",
          "D",
          "D",
          "D",
          "D",
          "D",
          "D",
          "D",
          "D",
          "D",
          "D",
          "D",
          "D",
          "D",
          "D",
          "D",
          "D",
          "D",
          "D",
          "D",
          "D",
          "D",
          "D",
          "D",
          "D",
          "D",
          "D",
          "D",
          "D",
          "D",
          "D",
          "D",
          "D",
          "D",
          "D",
          "D",
          "D",
          "D",
          "D",
          "D",
          "D",
          "D",
          "D",
          "D",
          "D",
          "D",
          "D",
          "D",
          "D",
          "D",
          "D",
          "D",
          "D",
          "D",
          "D",
          "E",
          "E",
          "E",
          "E",
          "E",
          "E",
          "E",
          "E",
          "E",
          "E",
          "E",
          "E",
          "E",
          "E",
          "E"
         ]
        },
        {
         "hoverinfo": "text",
         "marker": {
          "color": "#7979CD"
         },
         "mode": "markers",
         "name": "Other",
         "text": [
          "Pavé de lieu sauce citron riz et julienne de légumes (2,4 % MG)<br>0.532€",
          "Cabillaud 100 % Filet, Surgelés (8 panés)<br>2.289€",
          "Hachis Parmentier<br>1.026€",
          "Lasagnes au saumon, Surgelées<br>0.697€",
          "Hachis Parmentier<br>1.026€",
          "Hachis Parmentier<br>1.026€",
          "Hachis Parmentier<br>1.026€",
          "Hachis Parmentier<br>1.026€",
          "Hachis Parmentier<br>1.026€",
          "Hachis Parmentier<br>1.026€",
          "Hachis Parmentier<br>1.026€",
          "Hachis Parmentier<br>1.026€",
          "Hachis Parmentier<br>1.026€",
          "Hachis Parmentier<br>1.026€",
          "Hachis Parmentier<br>1.026€",
          "Hachis Parmentier<br>1.026€",
          "Hachis Parmentier<br>1.026€",
          "Hachis Parmentier<br>1.026€",
          "Hachis Parmentier<br>1.026€",
          "Hachis Parmentier<br>1.026€",
          "Lasagnes au chèvre et aux épinards<br>0.65€",
          "Pommes Dauphines<br>0.398€",
          "Pommes Dauphines<br>0.398€",
          "Sucre Complet Muscovado<br>0.358€",
          "Pommes Dauphines<br>0.398€",
          "Pommes Dauphines<br>0.398€",
          "Salade De Saumon<br>1.374€"
         ],
         "type": "scatter",
         "uid": "1b40c49c-d38b-495c-aa7f-908597b78ce9",
         "x": [
          0.532,
          2.289,
          1.026,
          0.6970000000000001,
          1.026,
          1.026,
          1.026,
          1.026,
          1.026,
          1.026,
          1.026,
          1.026,
          1.026,
          1.026,
          1.026,
          1.026,
          1.026,
          1.026,
          1.026,
          1.026,
          0.65,
          0.398,
          0.398,
          0.358,
          0.398,
          0.398,
          1.374
         ],
         "y": [
          "A",
          "A",
          "B",
          "B",
          "B",
          "B",
          "B",
          "B",
          "B",
          "B",
          "B",
          "B",
          "B",
          "B",
          "B",
          "B",
          "B",
          "B",
          "B",
          "B",
          "C",
          "C",
          "C",
          "D",
          "D",
          "D",
          "D"
         ]
        },
        {
         "hoverinfo": "text",
         "marker": {
          "color": "#EC9BE2"
         },
         "mode": "markers",
         "name": "Sugary snacks",
         "text": [
          "Pérou 85%<br>2.49€",
          "Chocolat noir 70%<br>2.75€",
          "Biscuits Matin Miel et Pépites de Chocolat<br>1.252€",
          "Pérou 85%<br>2.49€",
          "Pérou 85%<br>2.49€",
          "Alter eco 90% Pérou<br>2.49€",
          "Pérou 85%<br>2.49€",
          "Chocolat noir, éclats amandes<br>0.99€",
          "Noir Éclats de Gingembre<br>2.8€",
          "Noir pointe de piment<br>2.44€",
          "Alter eco Noir amandes entières<br>2.78€",
          "Lait Caramel Beurre salé<br>0.398€",
          "Noir Zestes de Citron<br>2.86€",
          "Noir éclats de menthe<br>2.8€",
          "Cookies Tout Chocolat<br>2.025€",
          "Chocolat Blanc Nougatine Amande<br>2.28€",
          "Noir éclats d'amandes<br>2.45€",
          "Cookies Nougatine<br>0.39€",
          "Cookies Nougatine<br>0.39€",
          "Chocolat au lait Extra fin<br>0.82€",
          "Cookies Tout Chocolat<br>2.025€",
          "Cookies Tout Chocolat<br>2.025€",
          "Cookies Tout Chocolat<br>2.025€",
          "Chocolat Lait classique dégustation Bio Alter Eco<br>2.78€",
          "Noir Fruit de la Passion<br>3.01€"
         ],
         "type": "scatter",
         "uid": "a5e88368-79ca-4f6b-aaf8-c3298b1a990b",
         "x": [
          2.49,
          2.75,
          1.252,
          2.49,
          2.49,
          2.49,
          2.49,
          0.99,
          2.8,
          2.44,
          2.78,
          0.398,
          2.86,
          2.8,
          2.025,
          2.28,
          2.45,
          0.39,
          0.39,
          0.82,
          2.025,
          2.025,
          2.025,
          2.78,
          3.01
         ],
         "y": [
          "D",
          "D",
          "D",
          "D",
          "D",
          "D",
          "D",
          "E",
          "E",
          "E",
          "E",
          "E",
          "E",
          "E",
          "E",
          "E",
          "E",
          "E",
          "E",
          "E",
          "E",
          "E",
          "E",
          "E",
          "E"
         ]
        },
        {
         "hoverinfo": "text",
         "marker": {
          "color": "#90CB70"
         },
         "mode": "markers",
         "name": "Plant-based",
         "text": [
          "Farfalle<br>0.13€",
          "Farfalle<br>0.13€",
          "Farfalle<br>0.13€",
          "Farfalle<br>0.13€",
          "Farfalle<br>0.13€",
          "Riz long grain Camargue<br>0.418€",
          "Farine de blé fluide<br>0.01€",
          "Riz & blé complet Nature<br>0.35€",
          "Riz & blé complet - Fruits rouges<br>0.35€",
          "Fleur de Colza<br>0.267€",
          "Pains au lait (x 10) aux pépites de chocolat au lait 350 g<br>0.689€",
          "Huile d'olive vierge extra, extraite à froid<br>1.067€",
          "Boisson aux fruits plate tropical<br>0.218€",
          "Cacahuètes grillées à sec<br>0.453€",
          "Banane coco Alter Eco<br>0.425€"
         ],
         "type": "scatter",
         "uid": "5398f27a-d2aa-46fb-9ac5-52dd3d0dd878",
         "x": [
          0.13,
          0.13,
          0.13,
          0.13,
          0.13,
          0.418,
          0.01,
          0.35,
          0.35,
          0.267,
          0.6890000000000001,
          1.067,
          0.218,
          0.453,
          0.425
         ],
         "y": [
          "A",
          "A",
          "A",
          "A",
          "A",
          "A",
          "A",
          "B",
          "C",
          "C",
          "D",
          "D",
          "D",
          "D",
          "D"
         ]
        },
        {
         "hoverinfo": "text",
         "marker": {
          "color": "#F3AC6D"
         },
         "mode": "markers",
         "name": "Beverages",
         "text": [
          "100 % Pur Jus Orange<br>0.159€",
          "100 % Pur Jus Orange<br>0.159€",
          "100 % Pur Jus Orange<br>0.159€",
          "100 % Pur Jus Orange<br>0.159€",
          "100 % Pur Jus Orange<br>0.159€",
          "100 % Pur Jus Orange<br>0.159€",
          "100 % Pur Jus Orange<br>0.159€",
          "100 % Pur Jus Orange<br>0.159€",
          "100 % Pur Jus Orange<br>0.159€",
          "Nectar ananas mangue passion<br>0.418€",
          "Nectar banane goyave acerola<br>0.418€",
          "Goyave passion <br>0.53€"
         ],
         "type": "scatter",
         "uid": "93af3301-f93b-4871-aa4e-1a488a7d899b",
         "x": [
          0.159,
          0.159,
          0.159,
          0.159,
          0.159,
          0.159,
          0.159,
          0.159,
          0.159,
          0.418,
          0.418,
          0.53
         ],
         "y": [
          "B",
          "B",
          "B",
          "C",
          "C",
          "C",
          "C",
          "C",
          "C",
          "E",
          "E",
          "E"
         ]
        },
        {
         "hoverinfo": "text",
         "marker": {
          "color": "#8CB5ED"
         },
         "mode": "markers",
         "name": "Seafood",
         "text": [
          "Truite fumée au bois de hêtre (6 tranches) - 150 g<br>2.772€",
          "Truite fumée Capaccio au Poivre de Sichuan<br>3.75€",
          "Truite Fumée Pyrénées (4 tranches) - 120 g<br>5.675€",
          "Truite fumée Pyrénées Offre exceptionnelle<br>5.675€",
          "Truite Fumée Pyrénées<br>5.675€"
         ],
         "type": "scatter",
         "uid": "91c6094c-40b0-4d5f-b590-7e915d8b9b7e",
         "x": [
          2.772,
          3.75,
          5.675,
          5.675,
          5.675
         ],
         "y": [
          "D",
          "D",
          "D",
          "D",
          "E"
         ]
        },
        {
         "hoverinfo": "text",
         "marker": {
          "color": "#FCE2E4"
         },
         "mode": "markers",
         "name": "Salty snacks",
         "text": [
          "Chips saveur poulet thym<br>1.069€"
         ],
         "type": "scatter",
         "uid": "14a896af-ff7f-4968-a1d5-3815b7ef4ab8",
         "x": [
          1.069
         ],
         "y": [
          "D"
         ]
        }
       ],
       "layout": {
        "xaxis": {
         "title": "Price[€]"
        },
        "yaxis": {
         "categoryorder": "category descending",
         "title": "Nutritional Mark",
         "type": "category"
        }
       }
      },
      "text/html": [
       "<div id=\"b2971eda-cc59-413a-a523-122529fbaebd\" style=\"height: 525px; width: 100%;\" class=\"plotly-graph-div\"></div><script type=\"text/javascript\">require([\"plotly\"], function(Plotly) { window.PLOTLYENV=window.PLOTLYENV || {};window.PLOTLYENV.BASE_URL=\"https://plot.ly\";Plotly.newPlot(\"b2971eda-cc59-413a-a523-122529fbaebd\", [{\"hoverinfo\": \"text\", \"marker\": {\"color\": \"#B69C63\"}, \"mode\": \"markers\", \"name\": \"Meats\", \"text\": [\"Aiguillettes de poulet, sauce normande et son riz<br>1.662\\u20ac\", \"Hachis Parmentier<br>1.026\\u20ac\", \"Hachis Parmentier<br>1.026\\u20ac\", \"Hachis Parmentier<br>1.026\\u20ac\", \"Hachis Parmentier<br>1.026\\u20ac\", \"Hachis Parmentier<br>1.026\\u20ac\", \"Hachis Parmentier<br>1.026\\u20ac\", \"Hachis Parmentier<br>1.026\\u20ac\", \"Hachis Parmentier<br>1.026\\u20ac\", \"Hachis Parmentier<br>1.026\\u20ac\", \"Hachis Parmentier<br>1.026\\u20ac\", \"Hachis Parmentier<br>1.026\\u20ac\", \"Hachis Parmentier<br>1.026\\u20ac\", \"Hachis Parmentier<br>1.026\\u20ac\", \"Hachis Parmentier<br>1.026\\u20ac\", \"Hachis Parmentier<br>1.026\\u20ac\", \"Hachis Parmentier<br>1.026\\u20ac\", \"Hachis Parmentier<br>1.026\\u20ac\", \"Hachis Parmentier<br>1.026\\u20ac\", \"Hachis Parmentier<br>1.026\\u20ac\", \"Hachis Parmentier<br>1.026\\u20ac\", \"Hachis Parmentier<br>1.026\\u20ac\", \"Hachis Parmentier<br>1.026\\u20ac\", \"Hachis Parmentier<br>1.026\\u20ac\", \"Hachis Parmentier<br>1.026\\u20ac\", \"Hachis Parmentier<br>1.026\\u20ac\", \"Hachis Parmentier<br>1.026\\u20ac\", \"Hachis Parmentier<br>1.026\\u20ac\", \"Hachis Parmentier<br>1.026\\u20ac\", \"Hachis Parmentier<br>1.026\\u20ac\", \"Hachis Parmentier<br>1.026\\u20ac\", \"Hachis Parmentier<br>1.026\\u20ac\", \"Hachis Parmentier<br>1.026\\u20ac\", \"Hachis Parmentier<br>1.026\\u20ac\", \"Hachis Parmentier<br>1.026\\u20ac\", \"Hachis Parmentier<br>1.026\\u20ac\", \"Hachis Parmentier<br>1.026\\u20ac\", \"Hachis Parmentier<br>1.026\\u20ac\", \"Hachis Parmentier<br>1.026\\u20ac\", \"Hachis Parmentier<br>1.026\\u20ac\", \"Hachis Parmentier<br>1.026\\u20ac\", \"Hachis Parmentier<br>1.026\\u20ac\", \"Hachis Parmentier<br>1.026\\u20ac\", \"Hachis Parmentier<br>1.026\\u20ac\", \"Hachis Parmentier<br>1.026\\u20ac\", \"Hachis Parmentier<br>1.026\\u20ac\", \"Hachis Parmentier<br>1.026\\u20ac\", \"Hachis Parmentier<br>1.026\\u20ac\", \"Hachis Parmentier<br>1.026\\u20ac\", \"Hachis Parmentier<br>1.026\\u20ac\", \"Hachis Parmentier<br>1.026\\u20ac\", \"Hachis Parmentier<br>1.026\\u20ac\", \"Hachis Parmentier<br>1.026\\u20ac\", \"Hachis Parmentier<br>1.026\\u20ac\", \"Hachis Parmentier<br>1.026\\u20ac\", \"Hachis Parmentier<br>1.026\\u20ac\", \"Hachis Parmentier<br>1.026\\u20ac\", \"Hachis Parmentier<br>1.026\\u20ac\", \"Hachis Parmentier<br>1.026\\u20ac\", \"Hachis Parmentier<br>1.026\\u20ac\", \"Hachis Parmentier<br>1.026\\u20ac\", \"Hachis Parmentier<br>1.026\\u20ac\", \"Hachis Parmentier<br>1.026\\u20ac\", \"Hachis Parmentier<br>1.026\\u20ac\", \"Hachis Parmentier<br>1.026\\u20ac\", \"Hachis Parmentier<br>1.026\\u20ac\", \"Hachis Parmentier<br>1.026\\u20ac\", \"Hachis Parmentier<br>1.026\\u20ac\", \"Hachis Parmentier<br>1.026\\u20ac\", \"Hachis Parmentier<br>1.026\\u20ac\", \"Hachis Parmentier<br>1.026\\u20ac\", \"Hachis Parmentier<br>1.026\\u20ac\", \"Hachis Parmentier<br>1.026\\u20ac\", \"Hachis Parmentier<br>1.026\\u20ac\", \"Hachis Parmentier<br>1.026\\u20ac\", \"Hachis Parmentier<br>1.026\\u20ac\", \"Hachis Parmentier<br>1.026\\u20ac\", \"Hachis Parmentier<br>1.026\\u20ac\", \"Hachis Parmentier<br>1.026\\u20ac\", \"Hachis Parmentier<br>1.026\\u20ac\", \"Hachis Parmentier<br>1.026\\u20ac\", \"Hachis Parmentier<br>1.026\\u20ac\", \"Hachis Parmentier<br>1.026\\u20ac\", \"Hachis Parmentier<br>1.026\\u20ac\", \"Hachis Parmentier<br>1.026\\u20ac\", \"Hachis Parmentier<br>1.026\\u20ac\", \"Hachis Parmentier<br>1.026\\u20ac\", \"Hachis Parmentier<br>1.026\\u20ac\", \"Hachis Parmentier<br>1.026\\u20ac\", \"Hachis Parmentier<br>1.026\\u20ac\", \"Hachis Parmentier<br>1.026\\u20ac\", \"Hachis Parmentier<br>1.026\\u20ac\", \"Hachis Parmentier<br>1.026\\u20ac\", \"Hachis Parmentier<br>1.026\\u20ac\", \"Hachis Parmentier<br>1.026\\u20ac\", \"Hachis Parmentier<br>1.026\\u20ac\", \"Hachis Parmentier<br>1.026\\u20ac\", \"Hachis Parmentier<br>1.026\\u20ac\", \"Hachis Parmentier<br>1.026\\u20ac\", \"Hachis Parmentier<br>1.026\\u20ac\", \"Hachis Parmentier<br>1.026\\u20ac\", \"Hachis Parmentier<br>1.026\\u20ac\", \"Hachis Parmentier<br>1.026\\u20ac\", \"Hachis Parmentier<br>1.026\\u20ac\", \"Hachis Parmentier<br>1.026\\u20ac\", \"Hachis Parmentier<br>1.026\\u20ac\", \"Hachis Parmentier<br>1.026\\u20ac\", \"Hachis Parmentier<br>1.026\\u20ac\", \"Hachis Parmentier<br>1.026\\u20ac\", \"Hachis Parmentier<br>1.026\\u20ac\", \"Hachis Parmentier<br>1.026\\u20ac\", \"Hachis Parmentier<br>1.026\\u20ac\", \"Hachis Parmentier<br>1.026\\u20ac\", \"Hachis Parmentier<br>1.026\\u20ac\", \"Hachis Parmentier<br>1.026\\u20ac\", \"Hachis Parmentier<br>1.026\\u20ac\", \"Hachis Parmentier<br>1.026\\u20ac\", \"Hachis Parmentier<br>1.026\\u20ac\", \"Hachis Parmentier<br>1.026\\u20ac\", \"Hachis Parmentier<br>1.026\\u20ac\", \"Hachis Parmentier<br>1.026\\u20ac\", \"Hachis Parmentier<br>1.026\\u20ac\", \"Hachis Parmentier<br>1.026\\u20ac\", \"Hachis Parmentier<br>1.026\\u20ac\", \"Hachis Parmentier<br>1.026\\u20ac\", \"Hachis Parmentier<br>1.026\\u20ac\", \"Hachis Parmentier<br>1.026\\u20ac\", \"Hachis Parmentier<br>1.026\\u20ac\", \"Hachis Parmentier<br>1.026\\u20ac\", \"Hachis Parmentier<br>1.026\\u20ac\", \"Hachis Parmentier<br>1.026\\u20ac\", \"Hachis Parmentier<br>1.026\\u20ac\", \"Hachis Parmentier<br>1.026\\u20ac\", \"Hachis Parmentier<br>1.026\\u20ac\", \"Hachis Parmentier<br>1.026\\u20ac\", \"Hachis Parmentier<br>1.026\\u20ac\", \"Hachis Parmentier<br>1.026\\u20ac\", \"Hachis Parmentier<br>1.026\\u20ac\", \"Hachis Parmentier<br>1.026\\u20ac\", \"Hachis Parmentier<br>1.026\\u20ac\", \"Hachis Parmentier<br>1.026\\u20ac\", \"Hachis Parmentier<br>1.026\\u20ac\", \"Hachis Parmentier<br>1.026\\u20ac\", \"Hachis Parmentier<br>1.026\\u20ac\", \"Hachis Parmentier<br>1.026\\u20ac\", \"Hachis Parmentier<br>1.026\\u20ac\", \"Hachis Parmentier<br>1.026\\u20ac\", \"Hachis Parmentier<br>1.026\\u20ac\", \"Hachis Parmentier<br>1.026\\u20ac\", \"Hachis Parmentier<br>1.026\\u20ac\", \"Hachis Parmentier<br>1.026\\u20ac\", \"Hachis Parmentier<br>1.026\\u20ac\", \"Hachis Parmentier<br>1.026\\u20ac\", \"Hachis Parmentier<br>1.026\\u20ac\", \"Hachis Parmentier<br>1.026\\u20ac\", \"Hachis Parmentier<br>1.026\\u20ac\", \"Hachis Parmentier<br>1.026\\u20ac\", \"Hachis Parmentier<br>1.026\\u20ac\", \"Hachis Parmentier<br>1.026\\u20ac\", \"Hachis Parmentier<br>1.026\\u20ac\", \"Hachis Parmentier<br>1.026\\u20ac\", \"Hachis Parmentier<br>1.026\\u20ac\", \"Hachis Parmentier<br>1.026\\u20ac\", \"Hachis Parmentier<br>1.026\\u20ac\", \"Hachis Parmentier<br>1.026\\u20ac\", \"Hachis Parmentier<br>1.026\\u20ac\", \"Hachis Parmentier<br>1.026\\u20ac\", \"Hachis Parmentier<br>1.026\\u20ac\", \"Hachis Parmentier<br>1.026\\u20ac\", \"Hachis Parmentier<br>1.026\\u20ac\", \"Hachis Parmentier<br>1.026\\u20ac\", \"Hachis Parmentier<br>1.026\\u20ac\", \"Hachis Parmentier<br>1.026\\u20ac\", \"Hachis Parmentier<br>1.026\\u20ac\", \"Hachis Parmentier<br>1.026\\u20ac\", \"Hachis Parmentier<br>1.026\\u20ac\", \"Hachis Parmentier<br>1.026\\u20ac\", \"Hachis Parmentier<br>1.026\\u20ac\", \"Hachis Parmentier<br>1.026\\u20ac\", \"Hachis Parmentier<br>1.026\\u20ac\", \"Hachis Parmentier<br>1.026\\u20ac\", \"Hachis Parmentier<br>1.026\\u20ac\", \"Hachis Parmentier<br>1.026\\u20ac\", \"Hachis Parmentier<br>1.026\\u20ac\", \"Hachis Parmentier<br>1.026\\u20ac\", \"Hachis Parmentier<br>1.026\\u20ac\", \"Hachis Parmentier<br>1.026\\u20ac\", \"Hachis Parmentier<br>1.026\\u20ac\", \"Hachis Parmentier<br>1.026\\u20ac\", \"Hachis Parmentier<br>1.026\\u20ac\", \"Hachis Parmentier<br>1.026\\u20ac\", \"Hachis Parmentier<br>1.026\\u20ac\", \"Hachis Parmentier<br>1.026\\u20ac\", \"Hachis Parmentier<br>1.026\\u20ac\", \"Hachis Parmentier<br>1.026\\u20ac\", \"Hachis Parmentier<br>1.026\\u20ac\", \"Hachis Parmentier<br>1.026\\u20ac\", \"Hachis Parmentier<br>1.026\\u20ac\", \"Hachis Parmentier<br>1.026\\u20ac\", \"Hachis Parmentier<br>1.026\\u20ac\", \"Hachis Parmentier<br>1.026\\u20ac\", \"Hachis Parmentier<br>1.026\\u20ac\", \"Hachis Parmentier<br>1.026\\u20ac\", \"Hachis Parmentier<br>1.026\\u20ac\", \"Hachis Parmentier<br>1.026\\u20ac\", \"Hachis Parmentier<br>1.026\\u20ac\", \"Hachis Parmentier<br>1.026\\u20ac\", \"Hachis Parmentier<br>1.026\\u20ac\", \"Hachis Parmentier<br>1.026\\u20ac\", \"Hachis Parmentier<br>1.026\\u20ac\", \"Hachis Parmentier<br>1.026\\u20ac\", \"Hachis Parmentier<br>1.026\\u20ac\", \"Hachis Parmentier<br>1.026\\u20ac\", \"Hachis Parmentier<br>1.026\\u20ac\", \"Hachis Parmentier<br>1.026\\u20ac\", \"Hachis Parmentier<br>1.026\\u20ac\", \"Hachis Parmentier<br>1.026\\u20ac\", \"Hachis Parmentier<br>1.026\\u20ac\", \"Hachis Parmentier<br>1.026\\u20ac\", \"Hachis Parmentier<br>1.026\\u20ac\", \"Hachis Parmentier<br>1.026\\u20ac\", \"Hachis Parmentier<br>1.026\\u20ac\", \"Hachis Parmentier<br>1.026\\u20ac\", \"Hachis Parmentier<br>1.026\\u20ac\", \"Hachis Parmentier<br>1.026\\u20ac\", \"Hachis Parmentier<br>1.026\\u20ac\", \"Hachis Parmentier<br>1.026\\u20ac\", \"Hachis Parmentier<br>1.026\\u20ac\", \"Hachis Parmentier<br>1.026\\u20ac\", \"Hachis Parmentier<br>1.026\\u20ac\", \"Hachis Parmentier<br>1.026\\u20ac\", \"Hachis Parmentier<br>1.026\\u20ac\", \"Hachis Parmentier<br>1.026\\u20ac\", \"Hachis Parmentier<br>1.026\\u20ac\", \"Hachis Parmentier<br>1.026\\u20ac\", \"Hachis Parmentier<br>1.026\\u20ac\", \"Hachis Parmentier<br>1.026\\u20ac\", \"Hachis Parmentier<br>1.026\\u20ac\", \"Hachis Parmentier<br>1.026\\u20ac\", \"B\\u0153uf Bourguignon et ses Tagliatelles<br>1.43\\u20ac\", \"Hachis Parmentier<br>1.026\\u20ac\", \"Hachis Parmentier<br>1.026\\u20ac\", \"Hachis Parmentier<br>1.026\\u20ac\", \"Hachis Parmentier<br>1.026\\u20ac\", \"Hachis Parmentier<br>1.026\\u20ac\", \"Hachis Parmentier<br>1.026\\u20ac\", \"Hachis Parmentier<br>1.026\\u20ac\", \"Hachis Parmentier<br>1.026\\u20ac\", \"Hachis Parmentier<br>1.026\\u20ac\", \"Hachis Parmentier<br>1.026\\u20ac\", \"Hachis Parmentier<br>1.026\\u20ac\", \"Hachis Parmentier<br>1.026\\u20ac\", \"Hachis Parmentier<br>1.026\\u20ac\", \"Hachis Parmentier<br>1.026\\u20ac\", \"Hachis Parmentier<br>1.026\\u20ac\", \"Hachis Parmentier<br>1.026\\u20ac\", \"Hachis Parmentier<br>1.026\\u20ac\", \"Saucisses de Francfort<br>1.061\\u20ac\", \"Saucisses de Francfort<br>1.061\\u20ac\", \"Saucisses de Francfort<br>1.061\\u20ac\", \"Saucisses de Francfort<br>1.061\\u20ac\", \"Saucisses de Francfort<br>1.061\\u20ac\", \"Saucisses de Francfort<br>1.061\\u20ac\", \"Saucisses de Francfort<br>1.061\\u20ac\", \"Saucisses de Francfort<br>1.061\\u20ac\", \"Saucisses de Francfort<br>1.061\\u20ac\", \"Saucisses de Francfort<br>1.061\\u20ac\", \"Saucisses de Francfort<br>1.061\\u20ac\", \"Saucisses de Francfort<br>1.061\\u20ac\", \"Saucisses de Francfort<br>1.061\\u20ac\", \"Saucisses de Francfort<br>1.061\\u20ac\", \"Saucisses de Francfort<br>1.061\\u20ac\", \"Saucisses de Francfort<br>1.061\\u20ac\", \"Saucisses de Francfort<br>1.061\\u20ac\", \"Saucisses de Francfort<br>1.061\\u20ac\", \"Saucisses de Francfort<br>1.061\\u20ac\", \"Saucisses de Francfort<br>1.061\\u20ac\", \"Saucisses de Francfort<br>1.061\\u20ac\", \"Saucisses de Francfort<br>1.061\\u20ac\", \"Saucisses de Francfort<br>1.061\\u20ac\", \"Lardons Fum\\u00e9s (2 barquettes)<br>1.327\\u20ac\", \"Saucisses de Francfort<br>1.061\\u20ac\", \"Saucisses de Francfort<br>1.061\\u20ac\", \"Saucisses de Francfort<br>1.061\\u20ac\", \"Saucisses de Francfort<br>1.061\\u20ac\", \"Saucisses de Francfort<br>1.061\\u20ac\", \"Saucisses de Francfort<br>1.061\\u20ac\", \"Saucisses de Francfort<br>1.061\\u20ac\", \"Saucisses de Francfort<br>1.061\\u20ac\", \"Saucisses de Francfort<br>1.061\\u20ac\", \"Saucisses de Francfort<br>1.061\\u20ac\", \"Saucisses de Francfort<br>1.061\\u20ac\", \"Saucisses de Francfort<br>1.061\\u20ac\", \"Saucisses de Francfort<br>1.061\\u20ac\", \"Saucisses de Francfort<br>1.061\\u20ac\", \"Saucisses de Francfort<br>1.061\\u20ac\", \"Saucisses de Francfort<br>1.061\\u20ac\", \"Saucisses de Francfort<br>1.061\\u20ac\", \"Saucisses de Francfort<br>1.061\\u20ac\", \"Saucisses de Francfort<br>1.061\\u20ac\", \"Lardons Nature (2 barquettes)<br>1.327\\u20ac\"], \"x\": [1.662, 1.026, 1.026, 1.026, 1.026, 1.026, 1.026, 1.026, 1.026, 1.026, 1.026, 1.026, 1.026, 1.026, 1.026, 1.026, 1.026, 1.026, 1.026, 1.026, 1.026, 1.026, 1.026, 1.026, 1.026, 1.026, 1.026, 1.026, 1.026, 1.026, 1.026, 1.026, 1.026, 1.026, 1.026, 1.026, 1.026, 1.026, 1.026, 1.026, 1.026, 1.026, 1.026, 1.026, 1.026, 1.026, 1.026, 1.026, 1.026, 1.026, 1.026, 1.026, 1.026, 1.026, 1.026, 1.026, 1.026, 1.026, 1.026, 1.026, 1.026, 1.026, 1.026, 1.026, 1.026, 1.026, 1.026, 1.026, 1.026, 1.026, 1.026, 1.026, 1.026, 1.026, 1.026, 1.026, 1.026, 1.026, 1.026, 1.026, 1.026, 1.026, 1.026, 1.026, 1.026, 1.026, 1.026, 1.026, 1.026, 1.026, 1.026, 1.026, 1.026, 1.026, 1.026, 1.026, 1.026, 1.026, 1.026, 1.026, 1.026, 1.026, 1.026, 1.026, 1.026, 1.026, 1.026, 1.026, 1.026, 1.026, 1.026, 1.026, 1.026, 1.026, 1.026, 1.026, 1.026, 1.026, 1.026, 1.026, 1.026, 1.026, 1.026, 1.026, 1.026, 1.026, 1.026, 1.026, 1.026, 1.026, 1.026, 1.026, 1.026, 1.026, 1.026, 1.026, 1.026, 1.026, 1.026, 1.026, 1.026, 1.026, 1.026, 1.026, 1.026, 1.026, 1.026, 1.026, 1.026, 1.026, 1.026, 1.026, 1.026, 1.026, 1.026, 1.026, 1.026, 1.026, 1.026, 1.026, 1.026, 1.026, 1.026, 1.026, 1.026, 1.026, 1.026, 1.026, 1.026, 1.026, 1.026, 1.026, 1.026, 1.026, 1.026, 1.026, 1.026, 1.026, 1.026, 1.026, 1.026, 1.026, 1.026, 1.026, 1.026, 1.026, 1.026, 1.026, 1.026, 1.026, 1.026, 1.026, 1.026, 1.026, 1.026, 1.026, 1.026, 1.026, 1.026, 1.026, 1.026, 1.026, 1.026, 1.026, 1.026, 1.026, 1.026, 1.026, 1.026, 1.026, 1.026, 1.026, 1.026, 1.026, 1.026, 1.026, 1.026, 1.026, 1.026, 1.026, 1.026, 1.026, 1.026, 1.026, 1.026, 1.026, 1.026, 1.026, 1.026, 1.026, 1.026, 1.026, 1.026, 1.026, 1.026, 1.026, 1.026, 1.026, 1.026, 1.43, 1.026, 1.026, 1.026, 1.026, 1.026, 1.026, 1.026, 1.026, 1.026, 1.026, 1.026, 1.026, 1.026, 1.026, 1.026, 1.026, 1.026, 1.061, 1.061, 1.061, 1.061, 1.061, 1.061, 1.061, 1.061, 1.061, 1.061, 1.061, 1.061, 1.061, 1.061, 1.061, 1.061, 1.061, 1.061, 1.061, 1.061, 1.061, 1.061, 1.061, 1.327, 1.061, 1.061, 1.061, 1.061, 1.061, 1.061, 1.061, 1.061, 1.061, 1.061, 1.061, 1.061, 1.061, 1.061, 1.061, 1.061, 1.061, 1.061, 1.061, 1.327], \"y\": [\"B\", \"B\", \"B\", \"B\", \"B\", \"B\", \"B\", \"B\", \"B\", \"B\", \"B\", \"B\", \"B\", \"B\", \"B\", \"B\", \"B\", \"B\", \"B\", \"B\", \"B\", \"B\", \"B\", \"B\", \"B\", \"B\", \"B\", \"B\", \"B\", \"B\", \"B\", \"B\", \"B\", \"B\", \"B\", \"B\", \"B\", \"B\", \"B\", \"B\", \"B\", \"B\", \"B\", \"B\", \"B\", \"B\", \"B\", \"B\", \"B\", \"B\", \"B\", \"B\", \"B\", \"B\", \"B\", \"B\", \"B\", \"B\", \"B\", \"B\", \"B\", \"B\", \"B\", \"B\", \"B\", \"B\", \"B\", \"B\", \"B\", \"B\", \"B\", \"B\", \"B\", \"B\", \"B\", \"B\", \"B\", \"B\", \"B\", \"B\", \"B\", \"B\", \"B\", \"B\", \"B\", \"B\", \"B\", \"B\", \"B\", \"B\", \"B\", \"B\", \"B\", \"B\", \"B\", \"B\", \"B\", \"B\", \"B\", \"B\", \"B\", \"B\", \"B\", \"B\", \"B\", \"B\", \"B\", \"B\", \"B\", \"B\", \"B\", \"B\", \"B\", \"B\", \"B\", \"B\", \"B\", \"B\", \"B\", \"B\", \"B\", \"B\", \"B\", \"B\", \"B\", \"B\", \"B\", \"B\", \"B\", \"B\", \"B\", \"B\", \"B\", \"B\", \"B\", \"B\", \"B\", \"C\", \"C\", \"C\", \"C\", \"C\", \"C\", \"C\", \"C\", \"C\", \"C\", \"C\", \"C\", \"C\", \"C\", \"C\", \"C\", \"C\", \"C\", \"C\", \"C\", \"C\", \"C\", \"C\", \"C\", \"C\", \"C\", \"C\", \"C\", \"C\", \"C\", \"C\", \"C\", \"C\", \"C\", \"C\", \"C\", \"C\", \"C\", \"C\", \"C\", \"C\", \"C\", \"C\", \"C\", \"C\", \"C\", \"C\", \"C\", \"C\", \"C\", \"C\", \"C\", \"C\", \"C\", \"C\", \"C\", \"C\", \"C\", \"C\", \"C\", \"C\", \"C\", \"C\", \"C\", \"C\", \"C\", \"C\", \"C\", \"C\", \"C\", \"C\", \"C\", \"C\", \"C\", \"C\", \"C\", \"C\", \"C\", \"C\", \"C\", \"C\", \"C\", \"C\", \"C\", \"C\", \"C\", \"C\", \"C\", \"C\", \"C\", \"C\", \"C\", \"C\", \"C\", \"C\", \"C\", \"C\", \"C\", \"C\", \"C\", \"C\", \"C\", \"C\", \"D\", \"D\", \"D\", \"D\", \"D\", \"D\", \"D\", \"D\", \"D\", \"D\", \"D\", \"D\", \"D\", \"D\", \"D\", \"D\", \"D\", \"E\", \"E\", \"E\", \"E\", \"E\", \"E\", \"E\", \"E\", \"E\", \"E\", \"E\", \"E\", \"E\", \"E\", \"E\", \"E\", \"E\", \"E\", \"E\", \"E\", \"E\", \"E\", \"E\", \"E\", \"E\", \"E\", \"E\", \"E\", \"E\", \"E\", \"E\", \"E\", \"E\", \"E\", \"E\", \"E\", \"E\", \"E\", \"E\", \"E\", \"E\", \"E\", \"E\", \"E\"], \"type\": \"scatter\", \"uid\": \"2b83607b-ad70-42ef-848b-c762c532bccd\"}, {\"hoverinfo\": \"text\", \"marker\": {\"color\": \"#F0F472\"}, \"mode\": \"markers\", \"name\": \"Carbs\", \"text\": [\"Coquillettes<br>0.089\\u20ac\", \"Coquillettes<br>0.089\\u20ac\", \"Coquillettes<br>0.089\\u20ac\", \"Coquillettes<br>0.089\\u20ac\", \"Coquillettes<br>0.089\\u20ac\", \"Coquillettes<br>0.089\\u20ac\", \"Coquillettes<br>0.089\\u20ac\", \"Coquillettes<br>0.089\\u20ac\", \"Coquillettes<br>0.089\\u20ac\", \"Coquillettes<br>0.089\\u20ac\", \"Coquillettes<br>0.089\\u20ac\", \"Coquillettes<br>0.089\\u20ac\", \"Coquillettes<br>0.089\\u20ac\", \"Coquillettes<br>0.089\\u20ac\", \"Coquillettes<br>0.089\\u20ac\", \"Coquillettes<br>0.089\\u20ac\", \"Coquillettes<br>0.089\\u20ac\", \"Coquillettes<br>0.089\\u20ac\", \"Coquillettes<br>0.089\\u20ac\", \"Coquillettes<br>0.089\\u20ac\", \"Coquillettes<br>0.089\\u20ac\", \"Coquillettes<br>0.089\\u20ac\", \"Coquillettes<br>0.089\\u20ac\", \"Coquillettes<br>0.089\\u20ac\", \"Coquillettes<br>0.089\\u20ac\", \"Coquillettes<br>0.089\\u20ac\", \"Coquillettes<br>0.089\\u20ac\", \"Coquillettes<br>0.089\\u20ac\", \"Coquillettes<br>0.089\\u20ac\", \"Coquillettes (Al dente 9 min.)<br>0.135\\u20ac\", \"Coquillettes<br>0.089\\u20ac\", \"Coquillettes<br>0.089\\u20ac\", \"Coquillettes<br>0.089\\u20ac\", \"Coquillettes<br>0.089\\u20ac\", \"Coquillettes<br>0.089\\u20ac\", \"Cheveux d'Ange (Al dente 3 min.)<br>0.289\\u20ac\", \"Coquillettes au Bl\\u00e9 Complet<br>0.089\\u20ac\", \"Coquillettes au Bl\\u00e9 Complet<br>0.089\\u20ac\", \"Coquillettes au Bl\\u00e9 Complet<br>0.089\\u20ac\", \"Coquillettes au Bl\\u00e9 Complet<br>0.089\\u20ac\", \"Farfalle<br>0.13\\u20ac\", \"Farfalle<br>0.13\\u20ac\", \"Farfalle<br>0.13\\u20ac\", \"Farfalle<br>0.13\\u20ac\", \"Farfalle<br>0.13\\u20ac\", \"Farfalle<br>0.13\\u20ac\", \"Farfalle<br>0.13\\u20ac\", \"Farfalle<br>0.13\\u20ac\", \"Farfalle<br>0.13\\u20ac\", \"Farfalle<br>0.13\\u20ac\", \"Farfalle<br>0.13\\u20ac\", \"Farfalle<br>0.13\\u20ac\", \"Coquillettes<br>0.089\\u20ac\", \"Coquillettes<br>0.089\\u20ac\", \"Coquillettes<br>0.089\\u20ac\", \"Coquillettes<br>0.089\\u20ac\", \"Coquillettes<br>0.089\\u20ac\", \"Coquillettes<br>0.089\\u20ac\", \"Coquillettes<br>0.089\\u20ac\", \"Farfalle<br>0.13\\u20ac\", \"Farfalle<br>0.13\\u20ac\", \"Farfalle<br>0.13\\u20ac\", \"Farfalle<br>0.13\\u20ac\", \"Farfalle<br>0.13\\u20ac\", \"Farfalle<br>0.13\\u20ac\", \"Farfalle<br>0.13\\u20ac\", \"Farfalle<br>0.13\\u20ac\", \"Coquillettes<br>0.089\\u20ac\", \"Coquillettes<br>0.089\\u20ac\", \"Coquillettes<br>0.089\\u20ac\", \"Coquillettes<br>0.089\\u20ac\", \"Coquillettes<br>0.089\\u20ac\", \"Coquillettes<br>0.089\\u20ac\", \"Coquillettes<br>0.089\\u20ac\", \"Coquillettes<br>0.089\\u20ac\", \"Coquillettes<br>0.089\\u20ac\", \"Coquillettes<br>0.089\\u20ac\", \"Coquillettes<br>0.089\\u20ac\", \"Coquillettes<br>0.089\\u20ac\", \"Coquillettes<br>0.089\\u20ac\", \"Coquillettes<br>0.089\\u20ac\", \"Coquillettes<br>0.089\\u20ac\", \"Coquillettes<br>0.089\\u20ac\", \"Coquillettes<br>0.089\\u20ac\", \"Coquillettes<br>0.089\\u20ac\", \"Coquillettes<br>0.089\\u20ac\", \"Coquillettes<br>0.089\\u20ac\", \"Coquillettes<br>0.089\\u20ac\", \"Coquillettes<br>0.089\\u20ac\", \"Coquillettes<br>0.089\\u20ac\", \"Coquillettes<br>0.089\\u20ac\", \"Coquillettes<br>0.089\\u20ac\", \"Coquillettes<br>0.089\\u20ac\", \"Coquillettes<br>0.089\\u20ac\", \"Coquillettes<br>0.089\\u20ac\", \"Coquillettes<br>0.089\\u20ac\", \"Coquillettes<br>0.089\\u20ac\", \"Coquillettes<br>0.089\\u20ac\", \"Coquillettes<br>0.089\\u20ac\", \"Coquillettes<br>0.089\\u20ac\", \"Coquillettes<br>0.089\\u20ac\", \"Coquillettes<br>0.089\\u20ac\", \"Coquillettes<br>0.089\\u20ac\", \"Coquillettes<br>0.089\\u20ac\", \"Coquillettes<br>0.089\\u20ac\", \"Coquillettes<br>0.089\\u20ac\", \"Coquillettes<br>0.089\\u20ac\", \"Coquillettes<br>0.089\\u20ac\", \"Coquillettes<br>0.089\\u20ac\", \"Coquillettes<br>0.089\\u20ac\", \"Coquillettes<br>0.089\\u20ac\", \"Coquillettes<br>0.089\\u20ac\", \"Coquillettes<br>0.089\\u20ac\", \"Coquillettes<br>0.089\\u20ac\", \"Coquillettes<br>0.089\\u20ac\", \"Coquillettes<br>0.089\\u20ac\", \"Coquillettes<br>0.089\\u20ac\", \"Coquillettes<br>0.089\\u20ac\", \"Coquillettes<br>0.089\\u20ac\", \"Coquillettes au bl\\u00e9 int\\u00e9gral Bio<br>0.218\\u20ac\", \"Coquillettes<br>0.089\\u20ac\", \"Coquillettes<br>0.089\\u20ac\", \"Coquillettes<br>0.089\\u20ac\", \"Coquillettes<br>0.089\\u20ac\", \"Coquillettes<br>0.089\\u20ac\", \"Coquillettes<br>0.089\\u20ac\", \"Coquillettes<br>0.089\\u20ac\", \"Coquillettes<br>0.089\\u20ac\", \"Coquillettes<br>0.089\\u20ac\", \"Coquillettes<br>0.089\\u20ac\", \"Coquillettes<br>0.089\\u20ac\", \"Coquillettes<br>0.089\\u20ac\", \"Coquillettes<br>0.089\\u20ac\", \"Coquillettes<br>0.089\\u20ac\", \"Coquillettes<br>0.089\\u20ac\", \"Coquillettes<br>0.089\\u20ac\", \"Coquillettes<br>0.089\\u20ac\", \"Coquillettes<br>0.089\\u20ac\", \"Coquillettes<br>0.089\\u20ac\", \"Coquillettes<br>0.089\\u20ac\", \"Coquillettes<br>0.089\\u20ac\", \"Coquillettes<br>0.089\\u20ac\", \"Coquillettes<br>0.089\\u20ac\", \"Coquillettes<br>0.089\\u20ac\", \"Coquillettes<br>0.089\\u20ac\", \"Coquillettes<br>0.089\\u20ac\", \"Coquillettes<br>0.089\\u20ac\", \"Coquillettes<br>0.089\\u20ac\"], \"x\": [0.08900000000000001, 0.08900000000000001, 0.08900000000000001, 0.08900000000000001, 0.08900000000000001, 0.08900000000000001, 0.08900000000000001, 0.08900000000000001, 0.08900000000000001, 0.08900000000000001, 0.08900000000000001, 0.08900000000000001, 0.08900000000000001, 0.08900000000000001, 0.08900000000000001, 0.08900000000000001, 0.08900000000000001, 0.08900000000000001, 0.08900000000000001, 0.08900000000000001, 0.08900000000000001, 0.08900000000000001, 0.08900000000000001, 0.08900000000000001, 0.08900000000000001, 0.08900000000000001, 0.08900000000000001, 0.08900000000000001, 0.08900000000000001, 0.135, 0.08900000000000001, 0.08900000000000001, 0.08900000000000001, 0.08900000000000001, 0.08900000000000001, 0.289, 0.08900000000000001, 0.08900000000000001, 0.08900000000000001, 0.08900000000000001, 0.13, 0.13, 0.13, 0.13, 0.13, 0.13, 0.13, 0.13, 0.13, 0.13, 0.13, 0.13, 0.08900000000000001, 0.08900000000000001, 0.08900000000000001, 0.08900000000000001, 0.08900000000000001, 0.08900000000000001, 0.08900000000000001, 0.13, 0.13, 0.13, 0.13, 0.13, 0.13, 0.13, 0.13, 0.08900000000000001, 0.08900000000000001, 0.08900000000000001, 0.08900000000000001, 0.08900000000000001, 0.08900000000000001, 0.08900000000000001, 0.08900000000000001, 0.08900000000000001, 0.08900000000000001, 0.08900000000000001, 0.08900000000000001, 0.08900000000000001, 0.08900000000000001, 0.08900000000000001, 0.08900000000000001, 0.08900000000000001, 0.08900000000000001, 0.08900000000000001, 0.08900000000000001, 0.08900000000000001, 0.08900000000000001, 0.08900000000000001, 0.08900000000000001, 0.08900000000000001, 0.08900000000000001, 0.08900000000000001, 0.08900000000000001, 0.08900000000000001, 0.08900000000000001, 0.08900000000000001, 0.08900000000000001, 0.08900000000000001, 0.08900000000000001, 0.08900000000000001, 0.08900000000000001, 0.08900000000000001, 0.08900000000000001, 0.08900000000000001, 0.08900000000000001, 0.08900000000000001, 0.08900000000000001, 0.08900000000000001, 0.08900000000000001, 0.08900000000000001, 0.08900000000000001, 0.08900000000000001, 0.08900000000000001, 0.08900000000000001, 0.08900000000000001, 0.08900000000000001, 0.08900000000000001, 0.218, 0.08900000000000001, 0.08900000000000001, 0.08900000000000001, 0.08900000000000001, 0.08900000000000001, 0.08900000000000001, 0.08900000000000001, 0.08900000000000001, 0.08900000000000001, 0.08900000000000001, 0.08900000000000001, 0.08900000000000001, 0.08900000000000001, 0.08900000000000001, 0.08900000000000001, 0.08900000000000001, 0.08900000000000001, 0.08900000000000001, 0.08900000000000001, 0.08900000000000001, 0.08900000000000001, 0.08900000000000001, 0.08900000000000001, 0.08900000000000001, 0.08900000000000001, 0.08900000000000001, 0.08900000000000001, 0.08900000000000001], \"y\": [\"A\", \"A\", \"A\", \"A\", \"A\", \"A\", \"A\", \"A\", \"A\", \"A\", \"A\", \"A\", \"A\", \"A\", \"A\", \"A\", \"A\", \"A\", \"A\", \"A\", \"A\", \"A\", \"A\", \"A\", \"A\", \"A\", \"A\", \"A\", \"A\", \"A\", \"A\", \"A\", \"A\", \"A\", \"A\", \"A\", \"A\", \"A\", \"A\", \"A\", \"A\", \"A\", \"A\", \"A\", \"A\", \"A\", \"A\", \"A\", \"A\", \"A\", \"A\", \"A\", \"A\", \"A\", \"A\", \"A\", \"A\", \"A\", \"A\", \"A\", \"A\", \"A\", \"A\", \"A\", \"A\", \"A\", \"A\", \"A\", \"A\", \"A\", \"A\", \"A\", \"A\", \"A\", \"A\", \"A\", \"A\", \"A\", \"A\", \"A\", \"A\", \"A\", \"A\", \"A\", \"A\", \"A\", \"A\", \"A\", \"A\", \"A\", \"A\", \"A\", \"A\", \"A\", \"A\", \"A\", \"A\", \"A\", \"A\", \"A\", \"A\", \"A\", \"A\", \"A\", \"A\", \"A\", \"A\", \"A\", \"A\", \"A\", \"A\", \"A\", \"A\", \"A\", \"A\", \"A\", \"A\", \"A\", \"A\", \"A\", \"A\", \"A\", \"A\", \"A\", \"A\", \"A\", \"B\", \"B\", \"B\", \"B\", \"B\", \"B\", \"B\", \"B\", \"B\", \"B\", \"B\", \"B\", \"B\", \"B\", \"B\", \"B\", \"B\", \"B\", \"B\", \"B\", \"B\", \"B\"], \"type\": \"scatter\", \"uid\": \"90e6ad3a-1426-4747-b5b8-1c6644633c98\"}, {\"hoverinfo\": \"text\", \"marker\": {\"color\": \"#D6D0C3\"}, \"mode\": \"markers\", \"name\": \"Dairies\", \"text\": [\"Lait \\u00c9cr\\u00e9m\\u00e9<br>0.129\\u20ac\", \"Lait \\u00c9cr\\u00e9m\\u00e9<br>0.129\\u20ac\", \"Yaourts aux fruits mix\\u00e9s<br>0.365\\u20ac\", \"Lait \\u00c9cr\\u00e9m\\u00e9<br>0.129\\u20ac\", \"Lait \\u00c9cr\\u00e9m\\u00e9<br>0.129\\u20ac\", \"Emmental Fran\\u00e7ais R\\u00e2p\\u00e9 (29 % MG)<br>1.19\\u20ac\", \"Emmental Fran\\u00e7ais R\\u00e2p\\u00e9 (29 % MG)<br>1.19\\u20ac\", \"Emmental Fran\\u00e7ais R\\u00e2p\\u00e9 (29 % MG)<br>1.19\\u20ac\", \"Emmental Fran\\u00e7ais R\\u00e2p\\u00e9 (29 % MG)<br>1.19\\u20ac\", \"Emmental Fran\\u00e7ais R\\u00e2p\\u00e9 (29 % MG)<br>1.19\\u20ac\", \"Emmental Fran\\u00e7ais R\\u00e2p\\u00e9 (29 % MG)<br>1.19\\u20ac\", \"Emmental Fran\\u00e7ais R\\u00e2p\\u00e9 (29 % MG)<br>1.19\\u20ac\", \"Emmental Fran\\u00e7ais R\\u00e2p\\u00e9 (29 % MG)<br>1.19\\u20ac\", \"Emmental Fran\\u00e7ais R\\u00e2p\\u00e9 (29 % MG)<br>1.19\\u20ac\", \"Emmental Fran\\u00e7ais R\\u00e2p\\u00e9 (29 % MG)<br>1.19\\u20ac\", \"Emmental Fran\\u00e7ais R\\u00e2p\\u00e9 (29 % MG)<br>1.19\\u20ac\", \"Emmental Fran\\u00e7ais R\\u00e2p\\u00e9 (29 % MG)<br>1.19\\u20ac\", \"Emmental Fran\\u00e7ais R\\u00e2p\\u00e9 (29 % MG)<br>1.19\\u20ac\", \"Emmental Fran\\u00e7ais R\\u00e2p\\u00e9 (29 % MG)<br>1.19\\u20ac\", \"Emmental Fran\\u00e7ais R\\u00e2p\\u00e9 (29 % MG)<br>1.19\\u20ac\", \"Emmental Fran\\u00e7ais R\\u00e2p\\u00e9 (29 % MG)<br>1.19\\u20ac\", \"Emmental Fran\\u00e7ais R\\u00e2p\\u00e9 (29 % MG)<br>1.19\\u20ac\", \"Emmental Fran\\u00e7ais R\\u00e2p\\u00e9 (29 % MG)<br>1.19\\u20ac\", \"P\\u00e2te \\u00e0 tartiner<br>1.018\\u20ac\", \"P\\u00e2te \\u00e0 tartiner<br>1.018\\u20ac\", \"P\\u00e2te \\u00e0 tartiner<br>1.018\\u20ac\", \"P\\u00e2te \\u00e0 tartiner<br>1.018\\u20ac\", \"P\\u00e2te \\u00e0 tartiner<br>1.018\\u20ac\", \"P\\u00e2te \\u00e0 tartiner<br>1.018\\u20ac\", \"P\\u00e2te \\u00e0 tartiner<br>1.018\\u20ac\", \"Emmental Fran\\u00e7ais R\\u00e2p\\u00e9 (29 % MG)<br>1.19\\u20ac\", \"P\\u00e2te \\u00e0 tartiner<br>1.018\\u20ac\", \"P\\u00e2te \\u00e0 tartiner<br>1.018\\u20ac\", \"Emmental Fran\\u00e7ais R\\u00e2p\\u00e9 (29 % MG)<br>1.19\\u20ac\", \"Emmental Fran\\u00e7ais R\\u00e2p\\u00e9 (29 % MG)<br>1.19\\u20ac\", \"Emmental Fran\\u00e7ais R\\u00e2p\\u00e9 (29 % MG)<br>1.19\\u20ac\", \"Emmental Fran\\u00e7ais R\\u00e2p\\u00e9 (29 % MG)<br>1.19\\u20ac\", \"Emmental Fran\\u00e7ais R\\u00e2p\\u00e9 (29 % MG)<br>1.19\\u20ac\", \"Emmental Fran\\u00e7ais R\\u00e2p\\u00e9 (29 % MG)<br>1.19\\u20ac\", \"P\\u00e2te \\u00e0 tartiner<br>1.018\\u20ac\", \"Emmental Fran\\u00e7ais R\\u00e2p\\u00e9 (29 % MG)<br>1.19\\u20ac\", \"Emmental Fran\\u00e7ais R\\u00e2p\\u00e9 (29 % MG)<br>1.19\\u20ac\", \"Emmental Fran\\u00e7ais R\\u00e2p\\u00e9 (29 % MG)<br>1.19\\u20ac\", \"Emmental Fran\\u00e7ais R\\u00e2p\\u00e9 (29 % MG)<br>1.19\\u20ac\", \"Emmental Fran\\u00e7ais R\\u00e2p\\u00e9 (29 % MG)<br>1.19\\u20ac\", \"Emmental Fran\\u00e7ais R\\u00e2p\\u00e9 (29 % MG)<br>1.19\\u20ac\", \"Emmental Fran\\u00e7ais R\\u00e2p\\u00e9 (29 % MG)<br>1.19\\u20ac\", \"Emmental Fran\\u00e7ais R\\u00e2p\\u00e9 (29 % MG)<br>1.19\\u20ac\", \"Emmental Fran\\u00e7ais R\\u00e2p\\u00e9 (29 % MG)<br>1.19\\u20ac\", \"Emmental Fran\\u00e7ais R\\u00e2p\\u00e9 (29 % MG)<br>1.19\\u20ac\", \"Emmental Fran\\u00e7ais R\\u00e2p\\u00e9 (29 % MG)<br>1.19\\u20ac\", \"Emmental Fran\\u00e7ais R\\u00e2p\\u00e9 (29 % MG)<br>1.19\\u20ac\", \"Emmental Fran\\u00e7ais R\\u00e2p\\u00e9 (29 % MG)<br>1.19\\u20ac\", \"Emmental Fran\\u00e7ais R\\u00e2p\\u00e9 (29 % MG)<br>1.19\\u20ac\", \"Emmental Fran\\u00e7ais R\\u00e2p\\u00e9 (29 % MG)<br>1.19\\u20ac\", \"Emmental Fran\\u00e7ais R\\u00e2p\\u00e9 (29 % MG)<br>1.19\\u20ac\", \"Emmental Fran\\u00e7ais R\\u00e2p\\u00e9 (29 % MG)<br>1.19\\u20ac\", \"Emmental Fran\\u00e7ais R\\u00e2p\\u00e9 (29 % MG)<br>1.19\\u20ac\", \"Val d'Automne (28 % MG)<br>0.532\\u20ac\", \"Emmental Fran\\u00e7ais R\\u00e2p\\u00e9 (29 % MG)<br>1.19\\u20ac\", \"Emmental Fran\\u00e7ais R\\u00e2p\\u00e9 (29 % MG)<br>1.19\\u20ac\", \"Emmental Fran\\u00e7ais R\\u00e2p\\u00e9 (29 % MG)<br>1.19\\u20ac\", \"Emmental Fran\\u00e7ais R\\u00e2p\\u00e9 (29 % MG)<br>1.19\\u20ac\", \"Emmental Fran\\u00e7ais R\\u00e2p\\u00e9 (29 % MG)<br>1.19\\u20ac\", \"Emmental Fran\\u00e7ais R\\u00e2p\\u00e9 (29 % MG)<br>1.19\\u20ac\", \"Emmental Fran\\u00e7ais R\\u00e2p\\u00e9 (29 % MG)<br>1.19\\u20ac\", \"Emmental Fran\\u00e7ais R\\u00e2p\\u00e9 (29 % MG)<br>1.19\\u20ac\", \"Emmental Fran\\u00e7ais R\\u00e2p\\u00e9 (29 % MG)<br>1.19\\u20ac\", \"Emmental Fran\\u00e7ais R\\u00e2p\\u00e9 (29 % MG)<br>1.19\\u20ac\", \"Emmental Fran\\u00e7ais R\\u00e2p\\u00e9 (29 % MG)<br>1.19\\u20ac\", \"Emmental Fran\\u00e7ais R\\u00e2p\\u00e9 (29 % MG)<br>1.19\\u20ac\", \"Emmental Fran\\u00e7ais R\\u00e2p\\u00e9 (29 % MG)<br>1.19\\u20ac\", \"Emmental Fran\\u00e7ais R\\u00e2p\\u00e9 (29 % MG)<br>1.19\\u20ac\", \"Emmental Fran\\u00e7ais R\\u00e2p\\u00e9 (29 % MG)<br>1.19\\u20ac\", \"Emmental Fran\\u00e7ais R\\u00e2p\\u00e9 (29 % MG)<br>1.19\\u20ac\", \"Emmental Fran\\u00e7ais R\\u00e2p\\u00e9 (29 % MG)<br>1.19\\u20ac\", \"Emmental Fran\\u00e7ais R\\u00e2p\\u00e9 (29 % MG)<br>1.19\\u20ac\", \"Emmental Fran\\u00e7ais R\\u00e2p\\u00e9 (29 % MG)<br>1.19\\u20ac\", \"Emmental Fran\\u00e7ais R\\u00e2p\\u00e9 (29 % MG)<br>1.19\\u20ac\", \"Emmental Fran\\u00e7ais R\\u00e2p\\u00e9 (29 % MG)<br>1.19\\u20ac\", \"P\\u00e2te \\u00e0 tartiner<br>1.018\\u20ac\", \"P\\u00e2te \\u00e0 tartiner<br>1.018\\u20ac\", \"P\\u00e2te \\u00e0 tartiner<br>1.018\\u20ac\", \"P\\u00e2te \\u00e0 tartiner<br>1.018\\u20ac\", \"P\\u00e2te \\u00e0 tartiner<br>1.018\\u20ac\", \"P\\u00e2te \\u00e0 tartiner<br>1.018\\u20ac\", \"P\\u00e2te \\u00e0 tartiner<br>1.018\\u20ac\", \"P\\u00e2te \\u00e0 tartiner<br>1.018\\u20ac\", \"P\\u00e2te \\u00e0 tartiner<br>1.018\\u20ac\", \"P\\u00e2te \\u00e0 tartiner<br>1.018\\u20ac\", \"P\\u00e2te \\u00e0 tartiner<br>1.018\\u20ac\", \"P\\u00e2te \\u00e0 tartiner<br>1.018\\u20ac\", \"P\\u00e2te \\u00e0 tartiner<br>1.018\\u20ac\", \"P\\u00e2te \\u00e0 tartiner<br>1.018\\u20ac\", \"P\\u00e2te \\u00e0 tartiner<br>1.018\\u20ac\"], \"x\": [0.129, 0.129, 0.365, 0.129, 0.129, 1.19, 1.19, 1.19, 1.19, 1.19, 1.19, 1.19, 1.19, 1.19, 1.19, 1.19, 1.19, 1.19, 1.19, 1.19, 1.19, 1.19, 1.19, 1.018, 1.018, 1.018, 1.018, 1.018, 1.018, 1.018, 1.19, 1.018, 1.018, 1.19, 1.19, 1.19, 1.19, 1.19, 1.19, 1.018, 1.19, 1.19, 1.19, 1.19, 1.19, 1.19, 1.19, 1.19, 1.19, 1.19, 1.19, 1.19, 1.19, 1.19, 1.19, 1.19, 1.19, 1.19, 0.532, 1.19, 1.19, 1.19, 1.19, 1.19, 1.19, 1.19, 1.19, 1.19, 1.19, 1.19, 1.19, 1.19, 1.19, 1.19, 1.19, 1.19, 1.19, 1.19, 1.19, 1.19, 1.018, 1.018, 1.018, 1.018, 1.018, 1.018, 1.018, 1.018, 1.018, 1.018, 1.018, 1.018, 1.018, 1.018, 1.018], \"y\": [\"B\", \"B\", \"B\", \"B\", \"B\", \"D\", \"D\", \"D\", \"D\", \"D\", \"D\", \"D\", \"D\", \"D\", \"D\", \"D\", \"D\", \"D\", \"D\", \"D\", \"D\", \"D\", \"D\", \"D\", \"D\", \"D\", \"D\", \"D\", \"D\", \"D\", \"D\", \"D\", \"D\", \"D\", \"D\", \"D\", \"D\", \"D\", \"D\", \"D\", \"D\", \"D\", \"D\", \"D\", \"D\", \"D\", \"D\", \"D\", \"D\", \"D\", \"D\", \"D\", \"D\", \"D\", \"D\", \"D\", \"D\", \"D\", \"D\", \"D\", \"D\", \"D\", \"D\", \"D\", \"D\", \"D\", \"D\", \"D\", \"D\", \"D\", \"D\", \"D\", \"D\", \"D\", \"D\", \"D\", \"D\", \"D\", \"D\", \"D\", \"E\", \"E\", \"E\", \"E\", \"E\", \"E\", \"E\", \"E\", \"E\", \"E\", \"E\", \"E\", \"E\", \"E\", \"E\"], \"type\": \"scatter\", \"uid\": \"1c4b0f08-1c4f-4d19-a196-ef5e24d8f171\"}, {\"hoverinfo\": \"text\", \"marker\": {\"color\": \"#7979CD\"}, \"mode\": \"markers\", \"name\": \"Other\", \"text\": [\"Pav\\u00e9 de lieu sauce citron riz et julienne de l\\u00e9gumes (2,4 % MG)<br>0.532\\u20ac\", \"Cabillaud 100 % Filet, Surgel\\u00e9s (8 pan\\u00e9s)<br>2.289\\u20ac\", \"Hachis Parmentier<br>1.026\\u20ac\", \"Lasagnes au saumon, Surgel\\u00e9es<br>0.697\\u20ac\", \"Hachis Parmentier<br>1.026\\u20ac\", \"Hachis Parmentier<br>1.026\\u20ac\", \"Hachis Parmentier<br>1.026\\u20ac\", \"Hachis Parmentier<br>1.026\\u20ac\", \"Hachis Parmentier<br>1.026\\u20ac\", \"Hachis Parmentier<br>1.026\\u20ac\", \"Hachis Parmentier<br>1.026\\u20ac\", \"Hachis Parmentier<br>1.026\\u20ac\", \"Hachis Parmentier<br>1.026\\u20ac\", \"Hachis Parmentier<br>1.026\\u20ac\", \"Hachis Parmentier<br>1.026\\u20ac\", \"Hachis Parmentier<br>1.026\\u20ac\", \"Hachis Parmentier<br>1.026\\u20ac\", \"Hachis Parmentier<br>1.026\\u20ac\", \"Hachis Parmentier<br>1.026\\u20ac\", \"Hachis Parmentier<br>1.026\\u20ac\", \"Lasagnes au ch\\u00e8vre et aux \\u00e9pinards<br>0.65\\u20ac\", \"Pommes Dauphines<br>0.398\\u20ac\", \"Pommes Dauphines<br>0.398\\u20ac\", \"Sucre Complet Muscovado<br>0.358\\u20ac\", \"Pommes Dauphines<br>0.398\\u20ac\", \"Pommes Dauphines<br>0.398\\u20ac\", \"Salade De Saumon<br>1.374\\u20ac\"], \"x\": [0.532, 2.289, 1.026, 0.6970000000000001, 1.026, 1.026, 1.026, 1.026, 1.026, 1.026, 1.026, 1.026, 1.026, 1.026, 1.026, 1.026, 1.026, 1.026, 1.026, 1.026, 0.65, 0.398, 0.398, 0.358, 0.398, 0.398, 1.374], \"y\": [\"A\", \"A\", \"B\", \"B\", \"B\", \"B\", \"B\", \"B\", \"B\", \"B\", \"B\", \"B\", \"B\", \"B\", \"B\", \"B\", \"B\", \"B\", \"B\", \"B\", \"C\", \"C\", \"C\", \"D\", \"D\", \"D\", \"D\"], \"type\": \"scatter\", \"uid\": \"1b40c49c-d38b-495c-aa7f-908597b78ce9\"}, {\"hoverinfo\": \"text\", \"marker\": {\"color\": \"#EC9BE2\"}, \"mode\": \"markers\", \"name\": \"Sugary snacks\", \"text\": [\"P\\u00e9rou 85%<br>2.49\\u20ac\", \"Chocolat noir 70%<br>2.75\\u20ac\", \"Biscuits Matin Miel et P\\u00e9pites de Chocolat<br>1.252\\u20ac\", \"P\\u00e9rou 85%<br>2.49\\u20ac\", \"P\\u00e9rou 85%<br>2.49\\u20ac\", \"Alter eco 90% P\\u00e9rou<br>2.49\\u20ac\", \"P\\u00e9rou 85%<br>2.49\\u20ac\", \"Chocolat noir, \\u00e9clats amandes<br>0.99\\u20ac\", \"Noir \\u00c9clats de Gingembre<br>2.8\\u20ac\", \"Noir pointe de piment<br>2.44\\u20ac\", \"Alter eco Noir amandes enti\\u00e8res<br>2.78\\u20ac\", \"Lait Caramel Beurre sal\\u00e9<br>0.398\\u20ac\", \"Noir Zestes de Citron<br>2.86\\u20ac\", \"Noir \\u00e9clats de menthe<br>2.8\\u20ac\", \"Cookies Tout Chocolat<br>2.025\\u20ac\", \"Chocolat Blanc Nougatine Amande<br>2.28\\u20ac\", \"Noir \\u00e9clats d'amandes<br>2.45\\u20ac\", \"Cookies Nougatine<br>0.39\\u20ac\", \"Cookies Nougatine<br>0.39\\u20ac\", \"Chocolat au lait Extra fin<br>0.82\\u20ac\", \"Cookies Tout Chocolat<br>2.025\\u20ac\", \"Cookies Tout Chocolat<br>2.025\\u20ac\", \"Cookies Tout Chocolat<br>2.025\\u20ac\", \"Chocolat Lait classique d\\u00e9gustation Bio Alter Eco<br>2.78\\u20ac\", \"Noir Fruit de la Passion<br>3.01\\u20ac\"], \"x\": [2.49, 2.75, 1.252, 2.49, 2.49, 2.49, 2.49, 0.99, 2.8, 2.44, 2.78, 0.398, 2.86, 2.8, 2.025, 2.28, 2.45, 0.39, 0.39, 0.82, 2.025, 2.025, 2.025, 2.78, 3.01], \"y\": [\"D\", \"D\", \"D\", \"D\", \"D\", \"D\", \"D\", \"E\", \"E\", \"E\", \"E\", \"E\", \"E\", \"E\", \"E\", \"E\", \"E\", \"E\", \"E\", \"E\", \"E\", \"E\", \"E\", \"E\", \"E\"], \"type\": \"scatter\", \"uid\": \"a5e88368-79ca-4f6b-aaf8-c3298b1a990b\"}, {\"hoverinfo\": \"text\", \"marker\": {\"color\": \"#90CB70\"}, \"mode\": \"markers\", \"name\": \"Plant-based\", \"text\": [\"Farfalle<br>0.13\\u20ac\", \"Farfalle<br>0.13\\u20ac\", \"Farfalle<br>0.13\\u20ac\", \"Farfalle<br>0.13\\u20ac\", \"Farfalle<br>0.13\\u20ac\", \"Riz long grain Camargue<br>0.418\\u20ac\", \"Farine de bl\\u00e9 fluide<br>0.01\\u20ac\", \"Riz & bl\\u00e9 complet Nature<br>0.35\\u20ac\", \"Riz & bl\\u00e9 complet - Fruits rouges<br>0.35\\u20ac\", \"Fleur de Colza<br>0.267\\u20ac\", \"Pains au lait (x 10) aux p\\u00e9pites de chocolat au lait 350 g<br>0.689\\u20ac\", \"Huile d'olive vierge extra, extraite \\u00e0 froid<br>1.067\\u20ac\", \"Boisson aux fruits plate tropical<br>0.218\\u20ac\", \"Cacahu\\u00e8tes grill\\u00e9es \\u00e0 sec<br>0.453\\u20ac\", \"Banane coco Alter Eco<br>0.425\\u20ac\"], \"x\": [0.13, 0.13, 0.13, 0.13, 0.13, 0.418, 0.01, 0.35, 0.35, 0.267, 0.6890000000000001, 1.067, 0.218, 0.453, 0.425], \"y\": [\"A\", \"A\", \"A\", \"A\", \"A\", \"A\", \"A\", \"B\", \"C\", \"C\", \"D\", \"D\", \"D\", \"D\", \"D\"], \"type\": \"scatter\", \"uid\": \"5398f27a-d2aa-46fb-9ac5-52dd3d0dd878\"}, {\"hoverinfo\": \"text\", \"marker\": {\"color\": \"#F3AC6D\"}, \"mode\": \"markers\", \"name\": \"Beverages\", \"text\": [\"100 % Pur Jus Orange<br>0.159\\u20ac\", \"100 % Pur Jus Orange<br>0.159\\u20ac\", \"100 % Pur Jus Orange<br>0.159\\u20ac\", \"100 % Pur Jus Orange<br>0.159\\u20ac\", \"100 % Pur Jus Orange<br>0.159\\u20ac\", \"100 % Pur Jus Orange<br>0.159\\u20ac\", \"100 % Pur Jus Orange<br>0.159\\u20ac\", \"100 % Pur Jus Orange<br>0.159\\u20ac\", \"100 % Pur Jus Orange<br>0.159\\u20ac\", \"Nectar ananas mangue passion<br>0.418\\u20ac\", \"Nectar banane goyave acerola<br>0.418\\u20ac\", \"Goyave passion <br>0.53\\u20ac\"], \"x\": [0.159, 0.159, 0.159, 0.159, 0.159, 0.159, 0.159, 0.159, 0.159, 0.418, 0.418, 0.53], \"y\": [\"B\", \"B\", \"B\", \"C\", \"C\", \"C\", \"C\", \"C\", \"C\", \"E\", \"E\", \"E\"], \"type\": \"scatter\", \"uid\": \"93af3301-f93b-4871-aa4e-1a488a7d899b\"}, {\"hoverinfo\": \"text\", \"marker\": {\"color\": \"#8CB5ED\"}, \"mode\": \"markers\", \"name\": \"Seafood\", \"text\": [\"Truite fum\\u00e9e au bois de h\\u00eatre (6 tranches) - 150 g<br>2.772\\u20ac\", \"Truite fum\\u00e9e Capaccio au Poivre de Sichuan<br>3.75\\u20ac\", \"Truite Fum\\u00e9e Pyr\\u00e9n\\u00e9es (4 tranches) - 120 g<br>5.675\\u20ac\", \"Truite fum\\u00e9e Pyr\\u00e9n\\u00e9es Offre exceptionnelle<br>5.675\\u20ac\", \"Truite Fum\\u00e9e Pyr\\u00e9n\\u00e9es<br>5.675\\u20ac\"], \"x\": [2.772, 3.75, 5.675, 5.675, 5.675], \"y\": [\"D\", \"D\", \"D\", \"D\", \"E\"], \"type\": \"scatter\", \"uid\": \"91c6094c-40b0-4d5f-b590-7e915d8b9b7e\"}, {\"hoverinfo\": \"text\", \"marker\": {\"color\": \"#FCE2E4\"}, \"mode\": \"markers\", \"name\": \"Salty snacks\", \"text\": [\"Chips saveur poulet thym<br>1.069\\u20ac\"], \"x\": [1.069], \"y\": [\"D\"], \"type\": \"scatter\", \"uid\": \"14a896af-ff7f-4968-a1d5-3815b7ef4ab8\"}], {\"xaxis\": {\"title\": \"Price[\\u20ac]\"}, \"yaxis\": {\"categoryorder\": \"category descending\", \"title\": \"Nutritional Mark\", \"type\": \"category\"}}, {\"showLink\": true, \"linkText\": \"Export to plot.ly\"})});</script><script type=\"text/javascript\">window.addEventListener(\"resize\", function(){window._Plotly.Plots.resize(document.getElementById(\"b2971eda-cc59-413a-a523-122529fbaebd\"));});</script>"
      ],
      "text/vnd.plotly.v1+html": [
       "<div id=\"b2971eda-cc59-413a-a523-122529fbaebd\" style=\"height: 525px; width: 100%;\" class=\"plotly-graph-div\"></div><script type=\"text/javascript\">require([\"plotly\"], function(Plotly) { window.PLOTLYENV=window.PLOTLYENV || {};window.PLOTLYENV.BASE_URL=\"https://plot.ly\";Plotly.newPlot(\"b2971eda-cc59-413a-a523-122529fbaebd\", [{\"hoverinfo\": \"text\", \"marker\": {\"color\": \"#B69C63\"}, \"mode\": \"markers\", \"name\": \"Meats\", \"text\": [\"Aiguillettes de poulet, sauce normande et son riz<br>1.662\\u20ac\", \"Hachis Parmentier<br>1.026\\u20ac\", \"Hachis Parmentier<br>1.026\\u20ac\", \"Hachis Parmentier<br>1.026\\u20ac\", \"Hachis Parmentier<br>1.026\\u20ac\", \"Hachis Parmentier<br>1.026\\u20ac\", \"Hachis Parmentier<br>1.026\\u20ac\", \"Hachis Parmentier<br>1.026\\u20ac\", \"Hachis Parmentier<br>1.026\\u20ac\", \"Hachis Parmentier<br>1.026\\u20ac\", \"Hachis Parmentier<br>1.026\\u20ac\", \"Hachis Parmentier<br>1.026\\u20ac\", \"Hachis Parmentier<br>1.026\\u20ac\", \"Hachis Parmentier<br>1.026\\u20ac\", \"Hachis Parmentier<br>1.026\\u20ac\", \"Hachis Parmentier<br>1.026\\u20ac\", \"Hachis Parmentier<br>1.026\\u20ac\", \"Hachis Parmentier<br>1.026\\u20ac\", \"Hachis Parmentier<br>1.026\\u20ac\", \"Hachis Parmentier<br>1.026\\u20ac\", \"Hachis Parmentier<br>1.026\\u20ac\", \"Hachis Parmentier<br>1.026\\u20ac\", \"Hachis Parmentier<br>1.026\\u20ac\", \"Hachis Parmentier<br>1.026\\u20ac\", \"Hachis Parmentier<br>1.026\\u20ac\", \"Hachis Parmentier<br>1.026\\u20ac\", \"Hachis Parmentier<br>1.026\\u20ac\", \"Hachis Parmentier<br>1.026\\u20ac\", \"Hachis Parmentier<br>1.026\\u20ac\", \"Hachis Parmentier<br>1.026\\u20ac\", \"Hachis Parmentier<br>1.026\\u20ac\", \"Hachis Parmentier<br>1.026\\u20ac\", \"Hachis Parmentier<br>1.026\\u20ac\", \"Hachis Parmentier<br>1.026\\u20ac\", \"Hachis Parmentier<br>1.026\\u20ac\", \"Hachis Parmentier<br>1.026\\u20ac\", \"Hachis Parmentier<br>1.026\\u20ac\", \"Hachis Parmentier<br>1.026\\u20ac\", \"Hachis Parmentier<br>1.026\\u20ac\", \"Hachis Parmentier<br>1.026\\u20ac\", \"Hachis Parmentier<br>1.026\\u20ac\", \"Hachis Parmentier<br>1.026\\u20ac\", \"Hachis Parmentier<br>1.026\\u20ac\", \"Hachis Parmentier<br>1.026\\u20ac\", \"Hachis Parmentier<br>1.026\\u20ac\", \"Hachis Parmentier<br>1.026\\u20ac\", \"Hachis Parmentier<br>1.026\\u20ac\", \"Hachis Parmentier<br>1.026\\u20ac\", \"Hachis Parmentier<br>1.026\\u20ac\", \"Hachis Parmentier<br>1.026\\u20ac\", \"Hachis Parmentier<br>1.026\\u20ac\", \"Hachis Parmentier<br>1.026\\u20ac\", \"Hachis Parmentier<br>1.026\\u20ac\", \"Hachis Parmentier<br>1.026\\u20ac\", \"Hachis Parmentier<br>1.026\\u20ac\", \"Hachis Parmentier<br>1.026\\u20ac\", \"Hachis Parmentier<br>1.026\\u20ac\", \"Hachis Parmentier<br>1.026\\u20ac\", \"Hachis Parmentier<br>1.026\\u20ac\", \"Hachis Parmentier<br>1.026\\u20ac\", \"Hachis Parmentier<br>1.026\\u20ac\", \"Hachis Parmentier<br>1.026\\u20ac\", \"Hachis Parmentier<br>1.026\\u20ac\", \"Hachis Parmentier<br>1.026\\u20ac\", \"Hachis Parmentier<br>1.026\\u20ac\", \"Hachis Parmentier<br>1.026\\u20ac\", \"Hachis Parmentier<br>1.026\\u20ac\", \"Hachis Parmentier<br>1.026\\u20ac\", \"Hachis Parmentier<br>1.026\\u20ac\", \"Hachis Parmentier<br>1.026\\u20ac\", \"Hachis Parmentier<br>1.026\\u20ac\", \"Hachis Parmentier<br>1.026\\u20ac\", \"Hachis Parmentier<br>1.026\\u20ac\", \"Hachis Parmentier<br>1.026\\u20ac\", \"Hachis Parmentier<br>1.026\\u20ac\", \"Hachis Parmentier<br>1.026\\u20ac\", \"Hachis Parmentier<br>1.026\\u20ac\", \"Hachis Parmentier<br>1.026\\u20ac\", \"Hachis Parmentier<br>1.026\\u20ac\", \"Hachis Parmentier<br>1.026\\u20ac\", \"Hachis Parmentier<br>1.026\\u20ac\", \"Hachis Parmentier<br>1.026\\u20ac\", \"Hachis Parmentier<br>1.026\\u20ac\", \"Hachis Parmentier<br>1.026\\u20ac\", \"Hachis Parmentier<br>1.026\\u20ac\", \"Hachis Parmentier<br>1.026\\u20ac\", \"Hachis Parmentier<br>1.026\\u20ac\", \"Hachis Parmentier<br>1.026\\u20ac\", \"Hachis Parmentier<br>1.026\\u20ac\", \"Hachis Parmentier<br>1.026\\u20ac\", \"Hachis Parmentier<br>1.026\\u20ac\", \"Hachis Parmentier<br>1.026\\u20ac\", \"Hachis Parmentier<br>1.026\\u20ac\", \"Hachis Parmentier<br>1.026\\u20ac\", \"Hachis Parmentier<br>1.026\\u20ac\", \"Hachis Parmentier<br>1.026\\u20ac\", \"Hachis Parmentier<br>1.026\\u20ac\", \"Hachis Parmentier<br>1.026\\u20ac\", \"Hachis Parmentier<br>1.026\\u20ac\", \"Hachis Parmentier<br>1.026\\u20ac\", \"Hachis Parmentier<br>1.026\\u20ac\", \"Hachis Parmentier<br>1.026\\u20ac\", \"Hachis Parmentier<br>1.026\\u20ac\", \"Hachis Parmentier<br>1.026\\u20ac\", \"Hachis Parmentier<br>1.026\\u20ac\", \"Hachis Parmentier<br>1.026\\u20ac\", \"Hachis Parmentier<br>1.026\\u20ac\", \"Hachis Parmentier<br>1.026\\u20ac\", \"Hachis Parmentier<br>1.026\\u20ac\", \"Hachis Parmentier<br>1.026\\u20ac\", \"Hachis Parmentier<br>1.026\\u20ac\", \"Hachis Parmentier<br>1.026\\u20ac\", \"Hachis Parmentier<br>1.026\\u20ac\", \"Hachis Parmentier<br>1.026\\u20ac\", \"Hachis Parmentier<br>1.026\\u20ac\", \"Hachis Parmentier<br>1.026\\u20ac\", \"Hachis Parmentier<br>1.026\\u20ac\", \"Hachis Parmentier<br>1.026\\u20ac\", \"Hachis Parmentier<br>1.026\\u20ac\", \"Hachis Parmentier<br>1.026\\u20ac\", \"Hachis Parmentier<br>1.026\\u20ac\", \"Hachis Parmentier<br>1.026\\u20ac\", \"Hachis Parmentier<br>1.026\\u20ac\", \"Hachis Parmentier<br>1.026\\u20ac\", \"Hachis Parmentier<br>1.026\\u20ac\", \"Hachis Parmentier<br>1.026\\u20ac\", \"Hachis Parmentier<br>1.026\\u20ac\", \"Hachis Parmentier<br>1.026\\u20ac\", \"Hachis Parmentier<br>1.026\\u20ac\", \"Hachis Parmentier<br>1.026\\u20ac\", \"Hachis Parmentier<br>1.026\\u20ac\", \"Hachis Parmentier<br>1.026\\u20ac\", \"Hachis Parmentier<br>1.026\\u20ac\", \"Hachis Parmentier<br>1.026\\u20ac\", \"Hachis Parmentier<br>1.026\\u20ac\", \"Hachis Parmentier<br>1.026\\u20ac\", \"Hachis Parmentier<br>1.026\\u20ac\", \"Hachis Parmentier<br>1.026\\u20ac\", \"Hachis Parmentier<br>1.026\\u20ac\", \"Hachis Parmentier<br>1.026\\u20ac\", \"Hachis Parmentier<br>1.026\\u20ac\", \"Hachis Parmentier<br>1.026\\u20ac\", \"Hachis Parmentier<br>1.026\\u20ac\", \"Hachis Parmentier<br>1.026\\u20ac\", \"Hachis Parmentier<br>1.026\\u20ac\", \"Hachis Parmentier<br>1.026\\u20ac\", \"Hachis Parmentier<br>1.026\\u20ac\", \"Hachis Parmentier<br>1.026\\u20ac\", \"Hachis Parmentier<br>1.026\\u20ac\", \"Hachis Parmentier<br>1.026\\u20ac\", \"Hachis Parmentier<br>1.026\\u20ac\", \"Hachis Parmentier<br>1.026\\u20ac\", \"Hachis Parmentier<br>1.026\\u20ac\", \"Hachis Parmentier<br>1.026\\u20ac\", \"Hachis Parmentier<br>1.026\\u20ac\", \"Hachis Parmentier<br>1.026\\u20ac\", \"Hachis Parmentier<br>1.026\\u20ac\", \"Hachis Parmentier<br>1.026\\u20ac\", \"Hachis Parmentier<br>1.026\\u20ac\", \"Hachis Parmentier<br>1.026\\u20ac\", \"Hachis Parmentier<br>1.026\\u20ac\", \"Hachis Parmentier<br>1.026\\u20ac\", \"Hachis Parmentier<br>1.026\\u20ac\", \"Hachis Parmentier<br>1.026\\u20ac\", \"Hachis Parmentier<br>1.026\\u20ac\", \"Hachis Parmentier<br>1.026\\u20ac\", \"Hachis Parmentier<br>1.026\\u20ac\", \"Hachis Parmentier<br>1.026\\u20ac\", \"Hachis Parmentier<br>1.026\\u20ac\", \"Hachis Parmentier<br>1.026\\u20ac\", \"Hachis Parmentier<br>1.026\\u20ac\", \"Hachis Parmentier<br>1.026\\u20ac\", \"Hachis Parmentier<br>1.026\\u20ac\", \"Hachis Parmentier<br>1.026\\u20ac\", \"Hachis Parmentier<br>1.026\\u20ac\", \"Hachis Parmentier<br>1.026\\u20ac\", \"Hachis Parmentier<br>1.026\\u20ac\", \"Hachis Parmentier<br>1.026\\u20ac\", \"Hachis Parmentier<br>1.026\\u20ac\", \"Hachis Parmentier<br>1.026\\u20ac\", \"Hachis Parmentier<br>1.026\\u20ac\", \"Hachis Parmentier<br>1.026\\u20ac\", \"Hachis Parmentier<br>1.026\\u20ac\", \"Hachis Parmentier<br>1.026\\u20ac\", \"Hachis Parmentier<br>1.026\\u20ac\", \"Hachis Parmentier<br>1.026\\u20ac\", \"Hachis Parmentier<br>1.026\\u20ac\", \"Hachis Parmentier<br>1.026\\u20ac\", \"Hachis Parmentier<br>1.026\\u20ac\", \"Hachis Parmentier<br>1.026\\u20ac\", \"Hachis Parmentier<br>1.026\\u20ac\", \"Hachis Parmentier<br>1.026\\u20ac\", \"Hachis Parmentier<br>1.026\\u20ac\", \"Hachis Parmentier<br>1.026\\u20ac\", \"Hachis Parmentier<br>1.026\\u20ac\", \"Hachis Parmentier<br>1.026\\u20ac\", \"Hachis Parmentier<br>1.026\\u20ac\", \"Hachis Parmentier<br>1.026\\u20ac\", \"Hachis Parmentier<br>1.026\\u20ac\", \"Hachis Parmentier<br>1.026\\u20ac\", \"Hachis Parmentier<br>1.026\\u20ac\", \"Hachis Parmentier<br>1.026\\u20ac\", \"Hachis Parmentier<br>1.026\\u20ac\", \"Hachis Parmentier<br>1.026\\u20ac\", \"Hachis Parmentier<br>1.026\\u20ac\", \"Hachis Parmentier<br>1.026\\u20ac\", \"Hachis Parmentier<br>1.026\\u20ac\", \"Hachis Parmentier<br>1.026\\u20ac\", \"Hachis Parmentier<br>1.026\\u20ac\", \"Hachis Parmentier<br>1.026\\u20ac\", \"Hachis Parmentier<br>1.026\\u20ac\", \"Hachis Parmentier<br>1.026\\u20ac\", \"Hachis Parmentier<br>1.026\\u20ac\", \"Hachis Parmentier<br>1.026\\u20ac\", \"Hachis Parmentier<br>1.026\\u20ac\", \"Hachis Parmentier<br>1.026\\u20ac\", \"Hachis Parmentier<br>1.026\\u20ac\", \"Hachis Parmentier<br>1.026\\u20ac\", \"Hachis Parmentier<br>1.026\\u20ac\", \"Hachis Parmentier<br>1.026\\u20ac\", \"Hachis Parmentier<br>1.026\\u20ac\", \"Hachis Parmentier<br>1.026\\u20ac\", \"Hachis Parmentier<br>1.026\\u20ac\", \"Hachis Parmentier<br>1.026\\u20ac\", \"Hachis Parmentier<br>1.026\\u20ac\", \"Hachis Parmentier<br>1.026\\u20ac\", \"Hachis Parmentier<br>1.026\\u20ac\", \"Hachis Parmentier<br>1.026\\u20ac\", \"Hachis Parmentier<br>1.026\\u20ac\", \"Hachis Parmentier<br>1.026\\u20ac\", \"Hachis Parmentier<br>1.026\\u20ac\", \"Hachis Parmentier<br>1.026\\u20ac\", \"Hachis Parmentier<br>1.026\\u20ac\", \"Hachis Parmentier<br>1.026\\u20ac\", \"Hachis Parmentier<br>1.026\\u20ac\", \"Hachis Parmentier<br>1.026\\u20ac\", \"Hachis Parmentier<br>1.026\\u20ac\", \"Hachis Parmentier<br>1.026\\u20ac\", \"Hachis Parmentier<br>1.026\\u20ac\", \"B\\u0153uf Bourguignon et ses Tagliatelles<br>1.43\\u20ac\", \"Hachis Parmentier<br>1.026\\u20ac\", \"Hachis Parmentier<br>1.026\\u20ac\", \"Hachis Parmentier<br>1.026\\u20ac\", \"Hachis Parmentier<br>1.026\\u20ac\", \"Hachis Parmentier<br>1.026\\u20ac\", \"Hachis Parmentier<br>1.026\\u20ac\", \"Hachis Parmentier<br>1.026\\u20ac\", \"Hachis Parmentier<br>1.026\\u20ac\", \"Hachis Parmentier<br>1.026\\u20ac\", \"Hachis Parmentier<br>1.026\\u20ac\", \"Hachis Parmentier<br>1.026\\u20ac\", \"Hachis Parmentier<br>1.026\\u20ac\", \"Hachis Parmentier<br>1.026\\u20ac\", \"Hachis Parmentier<br>1.026\\u20ac\", \"Hachis Parmentier<br>1.026\\u20ac\", \"Hachis Parmentier<br>1.026\\u20ac\", \"Hachis Parmentier<br>1.026\\u20ac\", \"Saucisses de Francfort<br>1.061\\u20ac\", \"Saucisses de Francfort<br>1.061\\u20ac\", \"Saucisses de Francfort<br>1.061\\u20ac\", \"Saucisses de Francfort<br>1.061\\u20ac\", \"Saucisses de Francfort<br>1.061\\u20ac\", \"Saucisses de Francfort<br>1.061\\u20ac\", \"Saucisses de Francfort<br>1.061\\u20ac\", \"Saucisses de Francfort<br>1.061\\u20ac\", \"Saucisses de Francfort<br>1.061\\u20ac\", \"Saucisses de Francfort<br>1.061\\u20ac\", \"Saucisses de Francfort<br>1.061\\u20ac\", \"Saucisses de Francfort<br>1.061\\u20ac\", \"Saucisses de Francfort<br>1.061\\u20ac\", \"Saucisses de Francfort<br>1.061\\u20ac\", \"Saucisses de Francfort<br>1.061\\u20ac\", \"Saucisses de Francfort<br>1.061\\u20ac\", \"Saucisses de Francfort<br>1.061\\u20ac\", \"Saucisses de Francfort<br>1.061\\u20ac\", \"Saucisses de Francfort<br>1.061\\u20ac\", \"Saucisses de Francfort<br>1.061\\u20ac\", \"Saucisses de Francfort<br>1.061\\u20ac\", \"Saucisses de Francfort<br>1.061\\u20ac\", \"Saucisses de Francfort<br>1.061\\u20ac\", \"Lardons Fum\\u00e9s (2 barquettes)<br>1.327\\u20ac\", \"Saucisses de Francfort<br>1.061\\u20ac\", \"Saucisses de Francfort<br>1.061\\u20ac\", \"Saucisses de Francfort<br>1.061\\u20ac\", \"Saucisses de Francfort<br>1.061\\u20ac\", \"Saucisses de Francfort<br>1.061\\u20ac\", \"Saucisses de Francfort<br>1.061\\u20ac\", \"Saucisses de Francfort<br>1.061\\u20ac\", \"Saucisses de Francfort<br>1.061\\u20ac\", \"Saucisses de Francfort<br>1.061\\u20ac\", \"Saucisses de Francfort<br>1.061\\u20ac\", \"Saucisses de Francfort<br>1.061\\u20ac\", \"Saucisses de Francfort<br>1.061\\u20ac\", \"Saucisses de Francfort<br>1.061\\u20ac\", \"Saucisses de Francfort<br>1.061\\u20ac\", \"Saucisses de Francfort<br>1.061\\u20ac\", \"Saucisses de Francfort<br>1.061\\u20ac\", \"Saucisses de Francfort<br>1.061\\u20ac\", \"Saucisses de Francfort<br>1.061\\u20ac\", \"Saucisses de Francfort<br>1.061\\u20ac\", \"Lardons Nature (2 barquettes)<br>1.327\\u20ac\"], \"x\": [1.662, 1.026, 1.026, 1.026, 1.026, 1.026, 1.026, 1.026, 1.026, 1.026, 1.026, 1.026, 1.026, 1.026, 1.026, 1.026, 1.026, 1.026, 1.026, 1.026, 1.026, 1.026, 1.026, 1.026, 1.026, 1.026, 1.026, 1.026, 1.026, 1.026, 1.026, 1.026, 1.026, 1.026, 1.026, 1.026, 1.026, 1.026, 1.026, 1.026, 1.026, 1.026, 1.026, 1.026, 1.026, 1.026, 1.026, 1.026, 1.026, 1.026, 1.026, 1.026, 1.026, 1.026, 1.026, 1.026, 1.026, 1.026, 1.026, 1.026, 1.026, 1.026, 1.026, 1.026, 1.026, 1.026, 1.026, 1.026, 1.026, 1.026, 1.026, 1.026, 1.026, 1.026, 1.026, 1.026, 1.026, 1.026, 1.026, 1.026, 1.026, 1.026, 1.026, 1.026, 1.026, 1.026, 1.026, 1.026, 1.026, 1.026, 1.026, 1.026, 1.026, 1.026, 1.026, 1.026, 1.026, 1.026, 1.026, 1.026, 1.026, 1.026, 1.026, 1.026, 1.026, 1.026, 1.026, 1.026, 1.026, 1.026, 1.026, 1.026, 1.026, 1.026, 1.026, 1.026, 1.026, 1.026, 1.026, 1.026, 1.026, 1.026, 1.026, 1.026, 1.026, 1.026, 1.026, 1.026, 1.026, 1.026, 1.026, 1.026, 1.026, 1.026, 1.026, 1.026, 1.026, 1.026, 1.026, 1.026, 1.026, 1.026, 1.026, 1.026, 1.026, 1.026, 1.026, 1.026, 1.026, 1.026, 1.026, 1.026, 1.026, 1.026, 1.026, 1.026, 1.026, 1.026, 1.026, 1.026, 1.026, 1.026, 1.026, 1.026, 1.026, 1.026, 1.026, 1.026, 1.026, 1.026, 1.026, 1.026, 1.026, 1.026, 1.026, 1.026, 1.026, 1.026, 1.026, 1.026, 1.026, 1.026, 1.026, 1.026, 1.026, 1.026, 1.026, 1.026, 1.026, 1.026, 1.026, 1.026, 1.026, 1.026, 1.026, 1.026, 1.026, 1.026, 1.026, 1.026, 1.026, 1.026, 1.026, 1.026, 1.026, 1.026, 1.026, 1.026, 1.026, 1.026, 1.026, 1.026, 1.026, 1.026, 1.026, 1.026, 1.026, 1.026, 1.026, 1.026, 1.026, 1.026, 1.026, 1.026, 1.026, 1.026, 1.026, 1.026, 1.026, 1.026, 1.026, 1.026, 1.026, 1.026, 1.026, 1.026, 1.026, 1.026, 1.026, 1.43, 1.026, 1.026, 1.026, 1.026, 1.026, 1.026, 1.026, 1.026, 1.026, 1.026, 1.026, 1.026, 1.026, 1.026, 1.026, 1.026, 1.026, 1.061, 1.061, 1.061, 1.061, 1.061, 1.061, 1.061, 1.061, 1.061, 1.061, 1.061, 1.061, 1.061, 1.061, 1.061, 1.061, 1.061, 1.061, 1.061, 1.061, 1.061, 1.061, 1.061, 1.327, 1.061, 1.061, 1.061, 1.061, 1.061, 1.061, 1.061, 1.061, 1.061, 1.061, 1.061, 1.061, 1.061, 1.061, 1.061, 1.061, 1.061, 1.061, 1.061, 1.327], \"y\": [\"B\", \"B\", \"B\", \"B\", \"B\", \"B\", \"B\", \"B\", \"B\", \"B\", \"B\", \"B\", \"B\", \"B\", \"B\", \"B\", \"B\", \"B\", \"B\", \"B\", \"B\", \"B\", \"B\", \"B\", \"B\", \"B\", \"B\", \"B\", \"B\", \"B\", \"B\", \"B\", \"B\", \"B\", \"B\", \"B\", \"B\", \"B\", \"B\", \"B\", \"B\", \"B\", \"B\", \"B\", \"B\", \"B\", \"B\", \"B\", \"B\", \"B\", \"B\", \"B\", \"B\", \"B\", \"B\", \"B\", \"B\", \"B\", \"B\", \"B\", \"B\", \"B\", \"B\", \"B\", \"B\", \"B\", \"B\", \"B\", \"B\", \"B\", \"B\", \"B\", \"B\", \"B\", \"B\", \"B\", \"B\", \"B\", \"B\", \"B\", \"B\", \"B\", \"B\", \"B\", \"B\", \"B\", \"B\", \"B\", \"B\", \"B\", \"B\", \"B\", \"B\", \"B\", \"B\", \"B\", \"B\", \"B\", \"B\", \"B\", \"B\", \"B\", \"B\", \"B\", \"B\", \"B\", \"B\", \"B\", \"B\", \"B\", \"B\", \"B\", \"B\", \"B\", \"B\", \"B\", \"B\", \"B\", \"B\", \"B\", \"B\", \"B\", \"B\", \"B\", \"B\", \"B\", \"B\", \"B\", \"B\", \"B\", \"B\", \"B\", \"B\", \"B\", \"B\", \"B\", \"B\", \"C\", \"C\", \"C\", \"C\", \"C\", \"C\", \"C\", \"C\", \"C\", \"C\", \"C\", \"C\", \"C\", \"C\", \"C\", \"C\", \"C\", \"C\", \"C\", \"C\", \"C\", \"C\", \"C\", \"C\", \"C\", \"C\", \"C\", \"C\", \"C\", \"C\", \"C\", \"C\", \"C\", \"C\", \"C\", \"C\", \"C\", \"C\", \"C\", \"C\", \"C\", \"C\", \"C\", \"C\", \"C\", \"C\", \"C\", \"C\", \"C\", \"C\", \"C\", \"C\", \"C\", \"C\", \"C\", \"C\", \"C\", \"C\", \"C\", \"C\", \"C\", \"C\", \"C\", \"C\", \"C\", \"C\", \"C\", \"C\", \"C\", \"C\", \"C\", \"C\", \"C\", \"C\", \"C\", \"C\", \"C\", \"C\", \"C\", \"C\", \"C\", \"C\", \"C\", \"C\", \"C\", \"C\", \"C\", \"C\", \"C\", \"C\", \"C\", \"C\", \"C\", \"C\", \"C\", \"C\", \"C\", \"C\", \"C\", \"C\", \"C\", \"C\", \"C\", \"D\", \"D\", \"D\", \"D\", \"D\", \"D\", \"D\", \"D\", \"D\", \"D\", \"D\", \"D\", \"D\", \"D\", \"D\", \"D\", \"D\", \"E\", \"E\", \"E\", \"E\", \"E\", \"E\", \"E\", \"E\", \"E\", \"E\", \"E\", \"E\", \"E\", \"E\", \"E\", \"E\", \"E\", \"E\", \"E\", \"E\", \"E\", \"E\", \"E\", \"E\", \"E\", \"E\", \"E\", \"E\", \"E\", \"E\", \"E\", \"E\", \"E\", \"E\", \"E\", \"E\", \"E\", \"E\", \"E\", \"E\", \"E\", \"E\", \"E\", \"E\"], \"type\": \"scatter\", \"uid\": \"2b83607b-ad70-42ef-848b-c762c532bccd\"}, {\"hoverinfo\": \"text\", \"marker\": {\"color\": \"#F0F472\"}, \"mode\": \"markers\", \"name\": \"Carbs\", \"text\": [\"Coquillettes<br>0.089\\u20ac\", \"Coquillettes<br>0.089\\u20ac\", \"Coquillettes<br>0.089\\u20ac\", \"Coquillettes<br>0.089\\u20ac\", \"Coquillettes<br>0.089\\u20ac\", \"Coquillettes<br>0.089\\u20ac\", \"Coquillettes<br>0.089\\u20ac\", \"Coquillettes<br>0.089\\u20ac\", \"Coquillettes<br>0.089\\u20ac\", \"Coquillettes<br>0.089\\u20ac\", \"Coquillettes<br>0.089\\u20ac\", \"Coquillettes<br>0.089\\u20ac\", \"Coquillettes<br>0.089\\u20ac\", \"Coquillettes<br>0.089\\u20ac\", \"Coquillettes<br>0.089\\u20ac\", \"Coquillettes<br>0.089\\u20ac\", \"Coquillettes<br>0.089\\u20ac\", \"Coquillettes<br>0.089\\u20ac\", \"Coquillettes<br>0.089\\u20ac\", \"Coquillettes<br>0.089\\u20ac\", \"Coquillettes<br>0.089\\u20ac\", \"Coquillettes<br>0.089\\u20ac\", \"Coquillettes<br>0.089\\u20ac\", \"Coquillettes<br>0.089\\u20ac\", \"Coquillettes<br>0.089\\u20ac\", \"Coquillettes<br>0.089\\u20ac\", \"Coquillettes<br>0.089\\u20ac\", \"Coquillettes<br>0.089\\u20ac\", \"Coquillettes<br>0.089\\u20ac\", \"Coquillettes (Al dente 9 min.)<br>0.135\\u20ac\", \"Coquillettes<br>0.089\\u20ac\", \"Coquillettes<br>0.089\\u20ac\", \"Coquillettes<br>0.089\\u20ac\", \"Coquillettes<br>0.089\\u20ac\", \"Coquillettes<br>0.089\\u20ac\", \"Cheveux d'Ange (Al dente 3 min.)<br>0.289\\u20ac\", \"Coquillettes au Bl\\u00e9 Complet<br>0.089\\u20ac\", \"Coquillettes au Bl\\u00e9 Complet<br>0.089\\u20ac\", \"Coquillettes au Bl\\u00e9 Complet<br>0.089\\u20ac\", \"Coquillettes au Bl\\u00e9 Complet<br>0.089\\u20ac\", \"Farfalle<br>0.13\\u20ac\", \"Farfalle<br>0.13\\u20ac\", \"Farfalle<br>0.13\\u20ac\", \"Farfalle<br>0.13\\u20ac\", \"Farfalle<br>0.13\\u20ac\", \"Farfalle<br>0.13\\u20ac\", \"Farfalle<br>0.13\\u20ac\", \"Farfalle<br>0.13\\u20ac\", \"Farfalle<br>0.13\\u20ac\", \"Farfalle<br>0.13\\u20ac\", \"Farfalle<br>0.13\\u20ac\", \"Farfalle<br>0.13\\u20ac\", \"Coquillettes<br>0.089\\u20ac\", \"Coquillettes<br>0.089\\u20ac\", \"Coquillettes<br>0.089\\u20ac\", \"Coquillettes<br>0.089\\u20ac\", \"Coquillettes<br>0.089\\u20ac\", \"Coquillettes<br>0.089\\u20ac\", \"Coquillettes<br>0.089\\u20ac\", \"Farfalle<br>0.13\\u20ac\", \"Farfalle<br>0.13\\u20ac\", \"Farfalle<br>0.13\\u20ac\", \"Farfalle<br>0.13\\u20ac\", \"Farfalle<br>0.13\\u20ac\", \"Farfalle<br>0.13\\u20ac\", \"Farfalle<br>0.13\\u20ac\", \"Farfalle<br>0.13\\u20ac\", \"Coquillettes<br>0.089\\u20ac\", \"Coquillettes<br>0.089\\u20ac\", \"Coquillettes<br>0.089\\u20ac\", \"Coquillettes<br>0.089\\u20ac\", \"Coquillettes<br>0.089\\u20ac\", \"Coquillettes<br>0.089\\u20ac\", \"Coquillettes<br>0.089\\u20ac\", \"Coquillettes<br>0.089\\u20ac\", \"Coquillettes<br>0.089\\u20ac\", \"Coquillettes<br>0.089\\u20ac\", \"Coquillettes<br>0.089\\u20ac\", \"Coquillettes<br>0.089\\u20ac\", \"Coquillettes<br>0.089\\u20ac\", \"Coquillettes<br>0.089\\u20ac\", \"Coquillettes<br>0.089\\u20ac\", \"Coquillettes<br>0.089\\u20ac\", \"Coquillettes<br>0.089\\u20ac\", \"Coquillettes<br>0.089\\u20ac\", \"Coquillettes<br>0.089\\u20ac\", \"Coquillettes<br>0.089\\u20ac\", \"Coquillettes<br>0.089\\u20ac\", \"Coquillettes<br>0.089\\u20ac\", \"Coquillettes<br>0.089\\u20ac\", \"Coquillettes<br>0.089\\u20ac\", \"Coquillettes<br>0.089\\u20ac\", \"Coquillettes<br>0.089\\u20ac\", \"Coquillettes<br>0.089\\u20ac\", \"Coquillettes<br>0.089\\u20ac\", \"Coquillettes<br>0.089\\u20ac\", \"Coquillettes<br>0.089\\u20ac\", \"Coquillettes<br>0.089\\u20ac\", \"Coquillettes<br>0.089\\u20ac\", \"Coquillettes<br>0.089\\u20ac\", \"Coquillettes<br>0.089\\u20ac\", \"Coquillettes<br>0.089\\u20ac\", \"Coquillettes<br>0.089\\u20ac\", \"Coquillettes<br>0.089\\u20ac\", \"Coquillettes<br>0.089\\u20ac\", \"Coquillettes<br>0.089\\u20ac\", \"Coquillettes<br>0.089\\u20ac\", \"Coquillettes<br>0.089\\u20ac\", \"Coquillettes<br>0.089\\u20ac\", \"Coquillettes<br>0.089\\u20ac\", \"Coquillettes<br>0.089\\u20ac\", \"Coquillettes<br>0.089\\u20ac\", \"Coquillettes<br>0.089\\u20ac\", \"Coquillettes<br>0.089\\u20ac\", \"Coquillettes<br>0.089\\u20ac\", \"Coquillettes<br>0.089\\u20ac\", \"Coquillettes<br>0.089\\u20ac\", \"Coquillettes<br>0.089\\u20ac\", \"Coquillettes<br>0.089\\u20ac\", \"Coquillettes au bl\\u00e9 int\\u00e9gral Bio<br>0.218\\u20ac\", \"Coquillettes<br>0.089\\u20ac\", \"Coquillettes<br>0.089\\u20ac\", \"Coquillettes<br>0.089\\u20ac\", \"Coquillettes<br>0.089\\u20ac\", \"Coquillettes<br>0.089\\u20ac\", \"Coquillettes<br>0.089\\u20ac\", \"Coquillettes<br>0.089\\u20ac\", \"Coquillettes<br>0.089\\u20ac\", \"Coquillettes<br>0.089\\u20ac\", \"Coquillettes<br>0.089\\u20ac\", \"Coquillettes<br>0.089\\u20ac\", \"Coquillettes<br>0.089\\u20ac\", \"Coquillettes<br>0.089\\u20ac\", \"Coquillettes<br>0.089\\u20ac\", \"Coquillettes<br>0.089\\u20ac\", \"Coquillettes<br>0.089\\u20ac\", \"Coquillettes<br>0.089\\u20ac\", \"Coquillettes<br>0.089\\u20ac\", \"Coquillettes<br>0.089\\u20ac\", \"Coquillettes<br>0.089\\u20ac\", \"Coquillettes<br>0.089\\u20ac\", \"Coquillettes<br>0.089\\u20ac\", \"Coquillettes<br>0.089\\u20ac\", \"Coquillettes<br>0.089\\u20ac\", \"Coquillettes<br>0.089\\u20ac\", \"Coquillettes<br>0.089\\u20ac\", \"Coquillettes<br>0.089\\u20ac\", \"Coquillettes<br>0.089\\u20ac\"], \"x\": [0.08900000000000001, 0.08900000000000001, 0.08900000000000001, 0.08900000000000001, 0.08900000000000001, 0.08900000000000001, 0.08900000000000001, 0.08900000000000001, 0.08900000000000001, 0.08900000000000001, 0.08900000000000001, 0.08900000000000001, 0.08900000000000001, 0.08900000000000001, 0.08900000000000001, 0.08900000000000001, 0.08900000000000001, 0.08900000000000001, 0.08900000000000001, 0.08900000000000001, 0.08900000000000001, 0.08900000000000001, 0.08900000000000001, 0.08900000000000001, 0.08900000000000001, 0.08900000000000001, 0.08900000000000001, 0.08900000000000001, 0.08900000000000001, 0.135, 0.08900000000000001, 0.08900000000000001, 0.08900000000000001, 0.08900000000000001, 0.08900000000000001, 0.289, 0.08900000000000001, 0.08900000000000001, 0.08900000000000001, 0.08900000000000001, 0.13, 0.13, 0.13, 0.13, 0.13, 0.13, 0.13, 0.13, 0.13, 0.13, 0.13, 0.13, 0.08900000000000001, 0.08900000000000001, 0.08900000000000001, 0.08900000000000001, 0.08900000000000001, 0.08900000000000001, 0.08900000000000001, 0.13, 0.13, 0.13, 0.13, 0.13, 0.13, 0.13, 0.13, 0.08900000000000001, 0.08900000000000001, 0.08900000000000001, 0.08900000000000001, 0.08900000000000001, 0.08900000000000001, 0.08900000000000001, 0.08900000000000001, 0.08900000000000001, 0.08900000000000001, 0.08900000000000001, 0.08900000000000001, 0.08900000000000001, 0.08900000000000001, 0.08900000000000001, 0.08900000000000001, 0.08900000000000001, 0.08900000000000001, 0.08900000000000001, 0.08900000000000001, 0.08900000000000001, 0.08900000000000001, 0.08900000000000001, 0.08900000000000001, 0.08900000000000001, 0.08900000000000001, 0.08900000000000001, 0.08900000000000001, 0.08900000000000001, 0.08900000000000001, 0.08900000000000001, 0.08900000000000001, 0.08900000000000001, 0.08900000000000001, 0.08900000000000001, 0.08900000000000001, 0.08900000000000001, 0.08900000000000001, 0.08900000000000001, 0.08900000000000001, 0.08900000000000001, 0.08900000000000001, 0.08900000000000001, 0.08900000000000001, 0.08900000000000001, 0.08900000000000001, 0.08900000000000001, 0.08900000000000001, 0.08900000000000001, 0.08900000000000001, 0.08900000000000001, 0.08900000000000001, 0.218, 0.08900000000000001, 0.08900000000000001, 0.08900000000000001, 0.08900000000000001, 0.08900000000000001, 0.08900000000000001, 0.08900000000000001, 0.08900000000000001, 0.08900000000000001, 0.08900000000000001, 0.08900000000000001, 0.08900000000000001, 0.08900000000000001, 0.08900000000000001, 0.08900000000000001, 0.08900000000000001, 0.08900000000000001, 0.08900000000000001, 0.08900000000000001, 0.08900000000000001, 0.08900000000000001, 0.08900000000000001, 0.08900000000000001, 0.08900000000000001, 0.08900000000000001, 0.08900000000000001, 0.08900000000000001, 0.08900000000000001], \"y\": [\"A\", \"A\", \"A\", \"A\", \"A\", \"A\", \"A\", \"A\", \"A\", \"A\", \"A\", \"A\", \"A\", \"A\", \"A\", \"A\", \"A\", \"A\", \"A\", \"A\", \"A\", \"A\", \"A\", \"A\", \"A\", \"A\", \"A\", \"A\", \"A\", \"A\", \"A\", \"A\", \"A\", \"A\", \"A\", \"A\", \"A\", \"A\", \"A\", \"A\", \"A\", \"A\", \"A\", \"A\", \"A\", \"A\", \"A\", \"A\", \"A\", \"A\", \"A\", \"A\", \"A\", \"A\", \"A\", \"A\", \"A\", \"A\", \"A\", \"A\", \"A\", \"A\", \"A\", \"A\", \"A\", \"A\", \"A\", \"A\", \"A\", \"A\", \"A\", \"A\", \"A\", \"A\", \"A\", \"A\", \"A\", \"A\", \"A\", \"A\", \"A\", \"A\", \"A\", \"A\", \"A\", \"A\", \"A\", \"A\", \"A\", \"A\", \"A\", \"A\", \"A\", \"A\", \"A\", \"A\", \"A\", \"A\", \"A\", \"A\", \"A\", \"A\", \"A\", \"A\", \"A\", \"A\", \"A\", \"A\", \"A\", \"A\", \"A\", \"A\", \"A\", \"A\", \"A\", \"A\", \"A\", \"A\", \"A\", \"A\", \"A\", \"A\", \"A\", \"A\", \"A\", \"A\", \"B\", \"B\", \"B\", \"B\", \"B\", \"B\", \"B\", \"B\", \"B\", \"B\", \"B\", \"B\", \"B\", \"B\", \"B\", \"B\", \"B\", \"B\", \"B\", \"B\", \"B\", \"B\"], \"type\": \"scatter\", \"uid\": \"90e6ad3a-1426-4747-b5b8-1c6644633c98\"}, {\"hoverinfo\": \"text\", \"marker\": {\"color\": \"#D6D0C3\"}, \"mode\": \"markers\", \"name\": \"Dairies\", \"text\": [\"Lait \\u00c9cr\\u00e9m\\u00e9<br>0.129\\u20ac\", \"Lait \\u00c9cr\\u00e9m\\u00e9<br>0.129\\u20ac\", \"Yaourts aux fruits mix\\u00e9s<br>0.365\\u20ac\", \"Lait \\u00c9cr\\u00e9m\\u00e9<br>0.129\\u20ac\", \"Lait \\u00c9cr\\u00e9m\\u00e9<br>0.129\\u20ac\", \"Emmental Fran\\u00e7ais R\\u00e2p\\u00e9 (29 % MG)<br>1.19\\u20ac\", \"Emmental Fran\\u00e7ais R\\u00e2p\\u00e9 (29 % MG)<br>1.19\\u20ac\", \"Emmental Fran\\u00e7ais R\\u00e2p\\u00e9 (29 % MG)<br>1.19\\u20ac\", \"Emmental Fran\\u00e7ais R\\u00e2p\\u00e9 (29 % MG)<br>1.19\\u20ac\", \"Emmental Fran\\u00e7ais R\\u00e2p\\u00e9 (29 % MG)<br>1.19\\u20ac\", \"Emmental Fran\\u00e7ais R\\u00e2p\\u00e9 (29 % MG)<br>1.19\\u20ac\", \"Emmental Fran\\u00e7ais R\\u00e2p\\u00e9 (29 % MG)<br>1.19\\u20ac\", \"Emmental Fran\\u00e7ais R\\u00e2p\\u00e9 (29 % MG)<br>1.19\\u20ac\", \"Emmental Fran\\u00e7ais R\\u00e2p\\u00e9 (29 % MG)<br>1.19\\u20ac\", \"Emmental Fran\\u00e7ais R\\u00e2p\\u00e9 (29 % MG)<br>1.19\\u20ac\", \"Emmental Fran\\u00e7ais R\\u00e2p\\u00e9 (29 % MG)<br>1.19\\u20ac\", \"Emmental Fran\\u00e7ais R\\u00e2p\\u00e9 (29 % MG)<br>1.19\\u20ac\", \"Emmental Fran\\u00e7ais R\\u00e2p\\u00e9 (29 % MG)<br>1.19\\u20ac\", \"Emmental Fran\\u00e7ais R\\u00e2p\\u00e9 (29 % MG)<br>1.19\\u20ac\", \"Emmental Fran\\u00e7ais R\\u00e2p\\u00e9 (29 % MG)<br>1.19\\u20ac\", \"Emmental Fran\\u00e7ais R\\u00e2p\\u00e9 (29 % MG)<br>1.19\\u20ac\", \"Emmental Fran\\u00e7ais R\\u00e2p\\u00e9 (29 % MG)<br>1.19\\u20ac\", \"Emmental Fran\\u00e7ais R\\u00e2p\\u00e9 (29 % MG)<br>1.19\\u20ac\", \"P\\u00e2te \\u00e0 tartiner<br>1.018\\u20ac\", \"P\\u00e2te \\u00e0 tartiner<br>1.018\\u20ac\", \"P\\u00e2te \\u00e0 tartiner<br>1.018\\u20ac\", \"P\\u00e2te \\u00e0 tartiner<br>1.018\\u20ac\", \"P\\u00e2te \\u00e0 tartiner<br>1.018\\u20ac\", \"P\\u00e2te \\u00e0 tartiner<br>1.018\\u20ac\", \"P\\u00e2te \\u00e0 tartiner<br>1.018\\u20ac\", \"Emmental Fran\\u00e7ais R\\u00e2p\\u00e9 (29 % MG)<br>1.19\\u20ac\", \"P\\u00e2te \\u00e0 tartiner<br>1.018\\u20ac\", \"P\\u00e2te \\u00e0 tartiner<br>1.018\\u20ac\", \"Emmental Fran\\u00e7ais R\\u00e2p\\u00e9 (29 % MG)<br>1.19\\u20ac\", \"Emmental Fran\\u00e7ais R\\u00e2p\\u00e9 (29 % MG)<br>1.19\\u20ac\", \"Emmental Fran\\u00e7ais R\\u00e2p\\u00e9 (29 % MG)<br>1.19\\u20ac\", \"Emmental Fran\\u00e7ais R\\u00e2p\\u00e9 (29 % MG)<br>1.19\\u20ac\", \"Emmental Fran\\u00e7ais R\\u00e2p\\u00e9 (29 % MG)<br>1.19\\u20ac\", \"Emmental Fran\\u00e7ais R\\u00e2p\\u00e9 (29 % MG)<br>1.19\\u20ac\", \"P\\u00e2te \\u00e0 tartiner<br>1.018\\u20ac\", \"Emmental Fran\\u00e7ais R\\u00e2p\\u00e9 (29 % MG)<br>1.19\\u20ac\", \"Emmental Fran\\u00e7ais R\\u00e2p\\u00e9 (29 % MG)<br>1.19\\u20ac\", \"Emmental Fran\\u00e7ais R\\u00e2p\\u00e9 (29 % MG)<br>1.19\\u20ac\", \"Emmental Fran\\u00e7ais R\\u00e2p\\u00e9 (29 % MG)<br>1.19\\u20ac\", \"Emmental Fran\\u00e7ais R\\u00e2p\\u00e9 (29 % MG)<br>1.19\\u20ac\", \"Emmental Fran\\u00e7ais R\\u00e2p\\u00e9 (29 % MG)<br>1.19\\u20ac\", \"Emmental Fran\\u00e7ais R\\u00e2p\\u00e9 (29 % MG)<br>1.19\\u20ac\", \"Emmental Fran\\u00e7ais R\\u00e2p\\u00e9 (29 % MG)<br>1.19\\u20ac\", \"Emmental Fran\\u00e7ais R\\u00e2p\\u00e9 (29 % MG)<br>1.19\\u20ac\", \"Emmental Fran\\u00e7ais R\\u00e2p\\u00e9 (29 % MG)<br>1.19\\u20ac\", \"Emmental Fran\\u00e7ais R\\u00e2p\\u00e9 (29 % MG)<br>1.19\\u20ac\", \"Emmental Fran\\u00e7ais R\\u00e2p\\u00e9 (29 % MG)<br>1.19\\u20ac\", \"Emmental Fran\\u00e7ais R\\u00e2p\\u00e9 (29 % MG)<br>1.19\\u20ac\", \"Emmental Fran\\u00e7ais R\\u00e2p\\u00e9 (29 % MG)<br>1.19\\u20ac\", \"Emmental Fran\\u00e7ais R\\u00e2p\\u00e9 (29 % MG)<br>1.19\\u20ac\", \"Emmental Fran\\u00e7ais R\\u00e2p\\u00e9 (29 % MG)<br>1.19\\u20ac\", \"Emmental Fran\\u00e7ais R\\u00e2p\\u00e9 (29 % MG)<br>1.19\\u20ac\", \"Emmental Fran\\u00e7ais R\\u00e2p\\u00e9 (29 % MG)<br>1.19\\u20ac\", \"Val d'Automne (28 % MG)<br>0.532\\u20ac\", \"Emmental Fran\\u00e7ais R\\u00e2p\\u00e9 (29 % MG)<br>1.19\\u20ac\", \"Emmental Fran\\u00e7ais R\\u00e2p\\u00e9 (29 % MG)<br>1.19\\u20ac\", \"Emmental Fran\\u00e7ais R\\u00e2p\\u00e9 (29 % MG)<br>1.19\\u20ac\", \"Emmental Fran\\u00e7ais R\\u00e2p\\u00e9 (29 % MG)<br>1.19\\u20ac\", \"Emmental Fran\\u00e7ais R\\u00e2p\\u00e9 (29 % MG)<br>1.19\\u20ac\", \"Emmental Fran\\u00e7ais R\\u00e2p\\u00e9 (29 % MG)<br>1.19\\u20ac\", \"Emmental Fran\\u00e7ais R\\u00e2p\\u00e9 (29 % MG)<br>1.19\\u20ac\", \"Emmental Fran\\u00e7ais R\\u00e2p\\u00e9 (29 % MG)<br>1.19\\u20ac\", \"Emmental Fran\\u00e7ais R\\u00e2p\\u00e9 (29 % MG)<br>1.19\\u20ac\", \"Emmental Fran\\u00e7ais R\\u00e2p\\u00e9 (29 % MG)<br>1.19\\u20ac\", \"Emmental Fran\\u00e7ais R\\u00e2p\\u00e9 (29 % MG)<br>1.19\\u20ac\", \"Emmental Fran\\u00e7ais R\\u00e2p\\u00e9 (29 % MG)<br>1.19\\u20ac\", \"Emmental Fran\\u00e7ais R\\u00e2p\\u00e9 (29 % MG)<br>1.19\\u20ac\", \"Emmental Fran\\u00e7ais R\\u00e2p\\u00e9 (29 % MG)<br>1.19\\u20ac\", \"Emmental Fran\\u00e7ais R\\u00e2p\\u00e9 (29 % MG)<br>1.19\\u20ac\", \"Emmental Fran\\u00e7ais R\\u00e2p\\u00e9 (29 % MG)<br>1.19\\u20ac\", \"Emmental Fran\\u00e7ais R\\u00e2p\\u00e9 (29 % MG)<br>1.19\\u20ac\", \"Emmental Fran\\u00e7ais R\\u00e2p\\u00e9 (29 % MG)<br>1.19\\u20ac\", \"Emmental Fran\\u00e7ais R\\u00e2p\\u00e9 (29 % MG)<br>1.19\\u20ac\", \"Emmental Fran\\u00e7ais R\\u00e2p\\u00e9 (29 % MG)<br>1.19\\u20ac\", \"Emmental Fran\\u00e7ais R\\u00e2p\\u00e9 (29 % MG)<br>1.19\\u20ac\", \"P\\u00e2te \\u00e0 tartiner<br>1.018\\u20ac\", \"P\\u00e2te \\u00e0 tartiner<br>1.018\\u20ac\", \"P\\u00e2te \\u00e0 tartiner<br>1.018\\u20ac\", \"P\\u00e2te \\u00e0 tartiner<br>1.018\\u20ac\", \"P\\u00e2te \\u00e0 tartiner<br>1.018\\u20ac\", \"P\\u00e2te \\u00e0 tartiner<br>1.018\\u20ac\", \"P\\u00e2te \\u00e0 tartiner<br>1.018\\u20ac\", \"P\\u00e2te \\u00e0 tartiner<br>1.018\\u20ac\", \"P\\u00e2te \\u00e0 tartiner<br>1.018\\u20ac\", \"P\\u00e2te \\u00e0 tartiner<br>1.018\\u20ac\", \"P\\u00e2te \\u00e0 tartiner<br>1.018\\u20ac\", \"P\\u00e2te \\u00e0 tartiner<br>1.018\\u20ac\", \"P\\u00e2te \\u00e0 tartiner<br>1.018\\u20ac\", \"P\\u00e2te \\u00e0 tartiner<br>1.018\\u20ac\", \"P\\u00e2te \\u00e0 tartiner<br>1.018\\u20ac\"], \"x\": [0.129, 0.129, 0.365, 0.129, 0.129, 1.19, 1.19, 1.19, 1.19, 1.19, 1.19, 1.19, 1.19, 1.19, 1.19, 1.19, 1.19, 1.19, 1.19, 1.19, 1.19, 1.19, 1.19, 1.018, 1.018, 1.018, 1.018, 1.018, 1.018, 1.018, 1.19, 1.018, 1.018, 1.19, 1.19, 1.19, 1.19, 1.19, 1.19, 1.018, 1.19, 1.19, 1.19, 1.19, 1.19, 1.19, 1.19, 1.19, 1.19, 1.19, 1.19, 1.19, 1.19, 1.19, 1.19, 1.19, 1.19, 1.19, 0.532, 1.19, 1.19, 1.19, 1.19, 1.19, 1.19, 1.19, 1.19, 1.19, 1.19, 1.19, 1.19, 1.19, 1.19, 1.19, 1.19, 1.19, 1.19, 1.19, 1.19, 1.19, 1.018, 1.018, 1.018, 1.018, 1.018, 1.018, 1.018, 1.018, 1.018, 1.018, 1.018, 1.018, 1.018, 1.018, 1.018], \"y\": [\"B\", \"B\", \"B\", \"B\", \"B\", \"D\", \"D\", \"D\", \"D\", \"D\", \"D\", \"D\", \"D\", \"D\", \"D\", \"D\", \"D\", \"D\", \"D\", \"D\", \"D\", \"D\", \"D\", \"D\", \"D\", \"D\", \"D\", \"D\", \"D\", \"D\", \"D\", \"D\", \"D\", \"D\", \"D\", \"D\", \"D\", \"D\", \"D\", \"D\", \"D\", \"D\", \"D\", \"D\", \"D\", \"D\", \"D\", \"D\", \"D\", \"D\", \"D\", \"D\", \"D\", \"D\", \"D\", \"D\", \"D\", \"D\", \"D\", \"D\", \"D\", \"D\", \"D\", \"D\", \"D\", \"D\", \"D\", \"D\", \"D\", \"D\", \"D\", \"D\", \"D\", \"D\", \"D\", \"D\", \"D\", \"D\", \"D\", \"D\", \"E\", \"E\", \"E\", \"E\", \"E\", \"E\", \"E\", \"E\", \"E\", \"E\", \"E\", \"E\", \"E\", \"E\", \"E\"], \"type\": \"scatter\", \"uid\": \"1c4b0f08-1c4f-4d19-a196-ef5e24d8f171\"}, {\"hoverinfo\": \"text\", \"marker\": {\"color\": \"#7979CD\"}, \"mode\": \"markers\", \"name\": \"Other\", \"text\": [\"Pav\\u00e9 de lieu sauce citron riz et julienne de l\\u00e9gumes (2,4 % MG)<br>0.532\\u20ac\", \"Cabillaud 100 % Filet, Surgel\\u00e9s (8 pan\\u00e9s)<br>2.289\\u20ac\", \"Hachis Parmentier<br>1.026\\u20ac\", \"Lasagnes au saumon, Surgel\\u00e9es<br>0.697\\u20ac\", \"Hachis Parmentier<br>1.026\\u20ac\", \"Hachis Parmentier<br>1.026\\u20ac\", \"Hachis Parmentier<br>1.026\\u20ac\", \"Hachis Parmentier<br>1.026\\u20ac\", \"Hachis Parmentier<br>1.026\\u20ac\", \"Hachis Parmentier<br>1.026\\u20ac\", \"Hachis Parmentier<br>1.026\\u20ac\", \"Hachis Parmentier<br>1.026\\u20ac\", \"Hachis Parmentier<br>1.026\\u20ac\", \"Hachis Parmentier<br>1.026\\u20ac\", \"Hachis Parmentier<br>1.026\\u20ac\", \"Hachis Parmentier<br>1.026\\u20ac\", \"Hachis Parmentier<br>1.026\\u20ac\", \"Hachis Parmentier<br>1.026\\u20ac\", \"Hachis Parmentier<br>1.026\\u20ac\", \"Hachis Parmentier<br>1.026\\u20ac\", \"Lasagnes au ch\\u00e8vre et aux \\u00e9pinards<br>0.65\\u20ac\", \"Pommes Dauphines<br>0.398\\u20ac\", \"Pommes Dauphines<br>0.398\\u20ac\", \"Sucre Complet Muscovado<br>0.358\\u20ac\", \"Pommes Dauphines<br>0.398\\u20ac\", \"Pommes Dauphines<br>0.398\\u20ac\", \"Salade De Saumon<br>1.374\\u20ac\"], \"x\": [0.532, 2.289, 1.026, 0.6970000000000001, 1.026, 1.026, 1.026, 1.026, 1.026, 1.026, 1.026, 1.026, 1.026, 1.026, 1.026, 1.026, 1.026, 1.026, 1.026, 1.026, 0.65, 0.398, 0.398, 0.358, 0.398, 0.398, 1.374], \"y\": [\"A\", \"A\", \"B\", \"B\", \"B\", \"B\", \"B\", \"B\", \"B\", \"B\", \"B\", \"B\", \"B\", \"B\", \"B\", \"B\", \"B\", \"B\", \"B\", \"B\", \"C\", \"C\", \"C\", \"D\", \"D\", \"D\", \"D\"], \"type\": \"scatter\", \"uid\": \"1b40c49c-d38b-495c-aa7f-908597b78ce9\"}, {\"hoverinfo\": \"text\", \"marker\": {\"color\": \"#EC9BE2\"}, \"mode\": \"markers\", \"name\": \"Sugary snacks\", \"text\": [\"P\\u00e9rou 85%<br>2.49\\u20ac\", \"Chocolat noir 70%<br>2.75\\u20ac\", \"Biscuits Matin Miel et P\\u00e9pites de Chocolat<br>1.252\\u20ac\", \"P\\u00e9rou 85%<br>2.49\\u20ac\", \"P\\u00e9rou 85%<br>2.49\\u20ac\", \"Alter eco 90% P\\u00e9rou<br>2.49\\u20ac\", \"P\\u00e9rou 85%<br>2.49\\u20ac\", \"Chocolat noir, \\u00e9clats amandes<br>0.99\\u20ac\", \"Noir \\u00c9clats de Gingembre<br>2.8\\u20ac\", \"Noir pointe de piment<br>2.44\\u20ac\", \"Alter eco Noir amandes enti\\u00e8res<br>2.78\\u20ac\", \"Lait Caramel Beurre sal\\u00e9<br>0.398\\u20ac\", \"Noir Zestes de Citron<br>2.86\\u20ac\", \"Noir \\u00e9clats de menthe<br>2.8\\u20ac\", \"Cookies Tout Chocolat<br>2.025\\u20ac\", \"Chocolat Blanc Nougatine Amande<br>2.28\\u20ac\", \"Noir \\u00e9clats d'amandes<br>2.45\\u20ac\", \"Cookies Nougatine<br>0.39\\u20ac\", \"Cookies Nougatine<br>0.39\\u20ac\", \"Chocolat au lait Extra fin<br>0.82\\u20ac\", \"Cookies Tout Chocolat<br>2.025\\u20ac\", \"Cookies Tout Chocolat<br>2.025\\u20ac\", \"Cookies Tout Chocolat<br>2.025\\u20ac\", \"Chocolat Lait classique d\\u00e9gustation Bio Alter Eco<br>2.78\\u20ac\", \"Noir Fruit de la Passion<br>3.01\\u20ac\"], \"x\": [2.49, 2.75, 1.252, 2.49, 2.49, 2.49, 2.49, 0.99, 2.8, 2.44, 2.78, 0.398, 2.86, 2.8, 2.025, 2.28, 2.45, 0.39, 0.39, 0.82, 2.025, 2.025, 2.025, 2.78, 3.01], \"y\": [\"D\", \"D\", \"D\", \"D\", \"D\", \"D\", \"D\", \"E\", \"E\", \"E\", \"E\", \"E\", \"E\", \"E\", \"E\", \"E\", \"E\", \"E\", \"E\", \"E\", \"E\", \"E\", \"E\", \"E\", \"E\"], \"type\": \"scatter\", \"uid\": \"a5e88368-79ca-4f6b-aaf8-c3298b1a990b\"}, {\"hoverinfo\": \"text\", \"marker\": {\"color\": \"#90CB70\"}, \"mode\": \"markers\", \"name\": \"Plant-based\", \"text\": [\"Farfalle<br>0.13\\u20ac\", \"Farfalle<br>0.13\\u20ac\", \"Farfalle<br>0.13\\u20ac\", \"Farfalle<br>0.13\\u20ac\", \"Farfalle<br>0.13\\u20ac\", \"Riz long grain Camargue<br>0.418\\u20ac\", \"Farine de bl\\u00e9 fluide<br>0.01\\u20ac\", \"Riz & bl\\u00e9 complet Nature<br>0.35\\u20ac\", \"Riz & bl\\u00e9 complet - Fruits rouges<br>0.35\\u20ac\", \"Fleur de Colza<br>0.267\\u20ac\", \"Pains au lait (x 10) aux p\\u00e9pites de chocolat au lait 350 g<br>0.689\\u20ac\", \"Huile d'olive vierge extra, extraite \\u00e0 froid<br>1.067\\u20ac\", \"Boisson aux fruits plate tropical<br>0.218\\u20ac\", \"Cacahu\\u00e8tes grill\\u00e9es \\u00e0 sec<br>0.453\\u20ac\", \"Banane coco Alter Eco<br>0.425\\u20ac\"], \"x\": [0.13, 0.13, 0.13, 0.13, 0.13, 0.418, 0.01, 0.35, 0.35, 0.267, 0.6890000000000001, 1.067, 0.218, 0.453, 0.425], \"y\": [\"A\", \"A\", \"A\", \"A\", \"A\", \"A\", \"A\", \"B\", \"C\", \"C\", \"D\", \"D\", \"D\", \"D\", \"D\"], \"type\": \"scatter\", \"uid\": \"5398f27a-d2aa-46fb-9ac5-52dd3d0dd878\"}, {\"hoverinfo\": \"text\", \"marker\": {\"color\": \"#F3AC6D\"}, \"mode\": \"markers\", \"name\": \"Beverages\", \"text\": [\"100 % Pur Jus Orange<br>0.159\\u20ac\", \"100 % Pur Jus Orange<br>0.159\\u20ac\", \"100 % Pur Jus Orange<br>0.159\\u20ac\", \"100 % Pur Jus Orange<br>0.159\\u20ac\", \"100 % Pur Jus Orange<br>0.159\\u20ac\", \"100 % Pur Jus Orange<br>0.159\\u20ac\", \"100 % Pur Jus Orange<br>0.159\\u20ac\", \"100 % Pur Jus Orange<br>0.159\\u20ac\", \"100 % Pur Jus Orange<br>0.159\\u20ac\", \"Nectar ananas mangue passion<br>0.418\\u20ac\", \"Nectar banane goyave acerola<br>0.418\\u20ac\", \"Goyave passion <br>0.53\\u20ac\"], \"x\": [0.159, 0.159, 0.159, 0.159, 0.159, 0.159, 0.159, 0.159, 0.159, 0.418, 0.418, 0.53], \"y\": [\"B\", \"B\", \"B\", \"C\", \"C\", \"C\", \"C\", \"C\", \"C\", \"E\", \"E\", \"E\"], \"type\": \"scatter\", \"uid\": \"93af3301-f93b-4871-aa4e-1a488a7d899b\"}, {\"hoverinfo\": \"text\", \"marker\": {\"color\": \"#8CB5ED\"}, \"mode\": \"markers\", \"name\": \"Seafood\", \"text\": [\"Truite fum\\u00e9e au bois de h\\u00eatre (6 tranches) - 150 g<br>2.772\\u20ac\", \"Truite fum\\u00e9e Capaccio au Poivre de Sichuan<br>3.75\\u20ac\", \"Truite Fum\\u00e9e Pyr\\u00e9n\\u00e9es (4 tranches) - 120 g<br>5.675\\u20ac\", \"Truite fum\\u00e9e Pyr\\u00e9n\\u00e9es Offre exceptionnelle<br>5.675\\u20ac\", \"Truite Fum\\u00e9e Pyr\\u00e9n\\u00e9es<br>5.675\\u20ac\"], \"x\": [2.772, 3.75, 5.675, 5.675, 5.675], \"y\": [\"D\", \"D\", \"D\", \"D\", \"E\"], \"type\": \"scatter\", \"uid\": \"91c6094c-40b0-4d5f-b590-7e915d8b9b7e\"}, {\"hoverinfo\": \"text\", \"marker\": {\"color\": \"#FCE2E4\"}, \"mode\": \"markers\", \"name\": \"Salty snacks\", \"text\": [\"Chips saveur poulet thym<br>1.069\\u20ac\"], \"x\": [1.069], \"y\": [\"D\"], \"type\": \"scatter\", \"uid\": \"14a896af-ff7f-4968-a1d5-3815b7ef4ab8\"}], {\"xaxis\": {\"title\": \"Price[\\u20ac]\"}, \"yaxis\": {\"categoryorder\": \"category descending\", \"title\": \"Nutritional Mark\", \"type\": \"category\"}}, {\"showLink\": true, \"linkText\": \"Export to plot.ly\"})});</script><script type=\"text/javascript\">window.addEventListener(\"resize\", function(){window._Plotly.Plots.resize(document.getElementById(\"b2971eda-cc59-413a-a523-122529fbaebd\"));});</script>"
      ]
     },
     "metadata": {},
     "output_type": "display_data"
    }
   ],
   "source": [
    "visualize.scatter_plot_price_grade_categories(price_grade_pd,df_colors)"
   ]
  },
  {
   "cell_type": "markdown",
   "metadata": {},
   "source": [
    "##### Where do these product come from and where are they manufactured?"
   ]
  },
  {
   "cell_type": "code",
   "execution_count": 32,
   "metadata": {},
   "outputs": [
    {
     "data": {
      "application/vnd.plotly.v1+json": {
       "data": [
        {
         "marker": {
          "color": "#5f568b"
         },
         "name": "France",
         "orientation": "h",
         "type": "bar",
         "uid": "07aa5f38-bdfd-4a84-86d8-79f06399b28e",
         "x": [
          16024
         ],
         "y": [
          0
         ]
        },
        {
         "marker": {
          "color": "#8d496b"
         },
         "name": "United Kingdom",
         "orientation": "h",
         "type": "bar",
         "uid": "54b561fc-9cb8-4e32-b9a2-91c17e59eb12",
         "x": [
          2024
         ],
         "y": [
          0
         ]
        },
        {
         "marker": {
          "color": "#68a99e"
         },
         "name": "Italy",
         "orientation": "h",
         "type": "bar",
         "uid": "5a38b87e-a0b1-4b2e-bf96-08e626a9d8c5",
         "x": [
          1213
         ],
         "y": [
          0
         ]
        },
        {
         "marker": {
          "color": "#baba70"
         },
         "name": "Belgium",
         "orientation": "h",
         "type": "bar",
         "uid": "92047a22-6e86-43d7-b437-7c7d36f712be",
         "x": [
          649
         ],
         "y": [
          0
         ]
        },
        {
         "marker": {
          "color": "#e5daa3"
         },
         "name": "Germany",
         "orientation": "h",
         "type": "bar",
         "uid": "734ea3b7-379e-4931-9bdd-b03a78763239",
         "x": [
          647
         ],
         "y": [
          0
         ]
        },
        {
         "marker": {
          "color": "#7192C5"
         },
         "name": "Others",
         "orientation": "h",
         "type": "bar",
         "uid": "734e4884-b00e-437a-87fb-3151edae499e",
         "x": [
          3395
         ],
         "y": [
          0
         ]
        }
       ],
       "layout": {
        "barmode": "stack",
        "height": 200,
        "margin": {
         "b": 25,
         "l": 40,
         "pad": 4,
         "r": 40,
         "t": 25
        },
        "showlegend": true,
        "width": 800,
        "xaxis": {
         "tickvals": [
          0,
          5000,
          10000,
          15000,
          20000,
          23952
         ]
        },
        "yaxis": {
         "showgrid": false,
         "showline": false,
         "showticklabels": false,
         "zeroline": false
        }
       }
      },
      "text/html": [
       "<div id=\"b48b3450-c320-4822-8bfe-f60fc5dbeb22\" style=\"height: 200px; width: 800px;\" class=\"plotly-graph-div\"></div><script type=\"text/javascript\">require([\"plotly\"], function(Plotly) { window.PLOTLYENV=window.PLOTLYENV || {};window.PLOTLYENV.BASE_URL=\"https://plot.ly\";Plotly.newPlot(\"b48b3450-c320-4822-8bfe-f60fc5dbeb22\", [{\"marker\": {\"color\": \"#5f568b\"}, \"name\": \"France\", \"orientation\": \"h\", \"x\": [16024], \"y\": [0], \"type\": \"bar\", \"uid\": \"07aa5f38-bdfd-4a84-86d8-79f06399b28e\"}, {\"marker\": {\"color\": \"#8d496b\"}, \"name\": \"United Kingdom\", \"orientation\": \"h\", \"x\": [2024], \"y\": [0], \"type\": \"bar\", \"uid\": \"54b561fc-9cb8-4e32-b9a2-91c17e59eb12\"}, {\"marker\": {\"color\": \"#68a99e\"}, \"name\": \"Italy\", \"orientation\": \"h\", \"x\": [1213], \"y\": [0], \"type\": \"bar\", \"uid\": \"5a38b87e-a0b1-4b2e-bf96-08e626a9d8c5\"}, {\"marker\": {\"color\": \"#baba70\"}, \"name\": \"Belgium\", \"orientation\": \"h\", \"x\": [649], \"y\": [0], \"type\": \"bar\", \"uid\": \"92047a22-6e86-43d7-b437-7c7d36f712be\"}, {\"marker\": {\"color\": \"#e5daa3\"}, \"name\": \"Germany\", \"orientation\": \"h\", \"x\": [647], \"y\": [0], \"type\": \"bar\", \"uid\": \"734ea3b7-379e-4931-9bdd-b03a78763239\"}, {\"marker\": {\"color\": \"#7192C5\"}, \"name\": \"Others\", \"orientation\": \"h\", \"x\": [3395], \"y\": [0], \"type\": \"bar\", \"uid\": \"734e4884-b00e-437a-87fb-3151edae499e\"}], {\"barmode\": \"stack\", \"height\": 200, \"margin\": {\"b\": 25, \"l\": 40, \"pad\": 4, \"r\": 40, \"t\": 25}, \"showlegend\": true, \"width\": 800, \"xaxis\": {\"tickvals\": [0, 5000, 10000, 15000, 20000, 23952]}, \"yaxis\": {\"showgrid\": false, \"showline\": false, \"showticklabels\": false, \"zeroline\": false}}, {\"showLink\": true, \"linkText\": \"Export to plot.ly\"})});</script>"
      ],
      "text/vnd.plotly.v1+html": [
       "<div id=\"b48b3450-c320-4822-8bfe-f60fc5dbeb22\" style=\"height: 200px; width: 800px;\" class=\"plotly-graph-div\"></div><script type=\"text/javascript\">require([\"plotly\"], function(Plotly) { window.PLOTLYENV=window.PLOTLYENV || {};window.PLOTLYENV.BASE_URL=\"https://plot.ly\";Plotly.newPlot(\"b48b3450-c320-4822-8bfe-f60fc5dbeb22\", [{\"marker\": {\"color\": \"#5f568b\"}, \"name\": \"France\", \"orientation\": \"h\", \"x\": [16024], \"y\": [0], \"type\": \"bar\", \"uid\": \"07aa5f38-bdfd-4a84-86d8-79f06399b28e\"}, {\"marker\": {\"color\": \"#8d496b\"}, \"name\": \"United Kingdom\", \"orientation\": \"h\", \"x\": [2024], \"y\": [0], \"type\": \"bar\", \"uid\": \"54b561fc-9cb8-4e32-b9a2-91c17e59eb12\"}, {\"marker\": {\"color\": \"#68a99e\"}, \"name\": \"Italy\", \"orientation\": \"h\", \"x\": [1213], \"y\": [0], \"type\": \"bar\", \"uid\": \"5a38b87e-a0b1-4b2e-bf96-08e626a9d8c5\"}, {\"marker\": {\"color\": \"#baba70\"}, \"name\": \"Belgium\", \"orientation\": \"h\", \"x\": [649], \"y\": [0], \"type\": \"bar\", \"uid\": \"92047a22-6e86-43d7-b437-7c7d36f712be\"}, {\"marker\": {\"color\": \"#e5daa3\"}, \"name\": \"Germany\", \"orientation\": \"h\", \"x\": [647], \"y\": [0], \"type\": \"bar\", \"uid\": \"734ea3b7-379e-4931-9bdd-b03a78763239\"}, {\"marker\": {\"color\": \"#7192C5\"}, \"name\": \"Others\", \"orientation\": \"h\", \"x\": [3395], \"y\": [0], \"type\": \"bar\", \"uid\": \"734e4884-b00e-437a-87fb-3151edae499e\"}], {\"barmode\": \"stack\", \"height\": 200, \"margin\": {\"b\": 25, \"l\": 40, \"pad\": 4, \"r\": 40, \"t\": 25}, \"showlegend\": true, \"width\": 800, \"xaxis\": {\"tickvals\": [0, 5000, 10000, 15000, 20000, 23952]}, \"yaxis\": {\"showgrid\": false, \"showline\": false, \"showticklabels\": false, \"zeroline\": false}}, {\"showLink\": true, \"linkText\": \"Export to plot.ly\"})});</script>"
      ]
     },
     "metadata": {},
     "output_type": "display_data"
    }
   ],
   "source": [
    "visualize.plot_column_composition(nutrition_fr, \n",
    "                                  df_colors,\n",
    "                                  'manufacturing_places', \n",
    "                                  save_offline=save_plots_offline, \n",
    "                                  save_offline_title='nutrition_manufacturing_places') "
   ]
  },
  {
   "cell_type": "markdown",
   "metadata": {},
   "source": [
    "Naturally, most of the food consumed in France is manufactured there though approximately 30% is produced somewhere else. The plot above only displays these 30%. "
   ]
  },
  {
   "cell_type": "markdown",
   "metadata": {},
   "source": [
    "##### Where are those products sold?\n",
    "Since we filtered that dataset to products sold in France, this question becomes obsolete. However observe that the products contained in the database range over a variety of supermarket and hence consumer groups."
   ]
  },
  {
   "cell_type": "code",
   "execution_count": 33,
   "metadata": {},
   "outputs": [
    {
     "data": {
      "application/vnd.plotly.v1+json": {
       "data": [
        {
         "marker": {
          "color": "#5f568b"
         },
         "name": "Carrefour",
         "orientation": "h",
         "type": "bar",
         "uid": "901b9dda-e6fc-4644-ac85-a637bbdf781d",
         "x": [
          4823
         ],
         "y": [
          0
         ]
        },
        {
         "marker": {
          "color": "#7192C5"
         },
         "name": " Magasins U",
         "orientation": "h",
         "type": "bar",
         "uid": "1e4bd1d3-dff1-4db2-9183-aa88ef31c21f",
         "x": [
          2216
         ],
         "y": [
          0
         ]
        },
        {
         "marker": {
          "color": "#b6ddf0"
         },
         "name": "Leclerc",
         "orientation": "h",
         "type": "bar",
         "uid": "d1d6348c-7b1e-46da-b299-d99ff27dad83",
         "x": [
          1940
         ],
         "y": [
          0
         ]
        },
        {
         "marker": {
          "color": "#68a99e"
         },
         "name": "Auchan",
         "orientation": "h",
         "type": "bar",
         "uid": "e29d8c35-7238-44c1-8e85-1eadc15a3680",
         "x": [
          1935
         ],
         "y": [
          0
         ]
        },
        {
         "marker": {
          "color": "#568967"
         },
         "name": "Intermarché",
         "orientation": "h",
         "type": "bar",
         "uid": "fe45cd8d-0347-4a74-b8d1-3a9c8461c916",
         "x": [
          1562
         ],
         "y": [
          0
         ]
        },
        {
         "marker": {
          "color": "#7192C5"
         },
         "name": "Super U",
         "orientation": "h",
         "type": "bar",
         "uid": "dfb958cd-7094-4397-b01d-df5ce6137110",
         "x": [
          1216
         ],
         "y": [
          0
         ]
        },
        {
         "marker": {
          "color": "#8d496b"
         },
         "name": "Magasins U",
         "orientation": "h",
         "type": "bar",
         "uid": "7bb2b406-5f8a-4219-9ed6-682a420d4dac",
         "x": [
          1169
         ],
         "y": [
          0
         ]
        },
        {
         "marker": {
          "color": "#baba70"
         },
         "name": "Cora",
         "orientation": "h",
         "type": "bar",
         "uid": "4e03ce92-1fc2-48af-b90f-f116162649c5",
         "x": [
          1071
         ],
         "y": [
          0
         ]
        },
        {
         "marker": {
          "color": "#7192C5"
         },
         "name": "Others",
         "orientation": "h",
         "type": "bar",
         "uid": "47c44e88-e36e-4bac-9a87-1c5162dd68f5",
         "x": [
          11302
         ],
         "y": [
          0
         ]
        }
       ],
       "layout": {
        "barmode": "stack",
        "height": 200,
        "margin": {
         "b": 25,
         "l": 40,
         "pad": 4,
         "r": 40,
         "t": 25
        },
        "showlegend": true,
        "width": 800,
        "xaxis": {
         "tickvals": [
          0,
          5000,
          10000,
          15000,
          20000,
          25000,
          27234
         ]
        },
        "yaxis": {
         "showgrid": false,
         "showline": false,
         "showticklabels": false,
         "zeroline": false
        }
       }
      },
      "text/html": [
       "<div id=\"babe1e16-a45f-432d-b08b-c72ae2182706\" style=\"height: 200px; width: 800px;\" class=\"plotly-graph-div\"></div><script type=\"text/javascript\">require([\"plotly\"], function(Plotly) { window.PLOTLYENV=window.PLOTLYENV || {};window.PLOTLYENV.BASE_URL=\"https://plot.ly\";Plotly.newPlot(\"babe1e16-a45f-432d-b08b-c72ae2182706\", [{\"marker\": {\"color\": \"#5f568b\"}, \"name\": \"Carrefour\", \"orientation\": \"h\", \"x\": [4823], \"y\": [0], \"type\": \"bar\", \"uid\": \"901b9dda-e6fc-4644-ac85-a637bbdf781d\"}, {\"marker\": {\"color\": \"#7192C5\"}, \"name\": \" Magasins U\", \"orientation\": \"h\", \"x\": [2216], \"y\": [0], \"type\": \"bar\", \"uid\": \"1e4bd1d3-dff1-4db2-9183-aa88ef31c21f\"}, {\"marker\": {\"color\": \"#b6ddf0\"}, \"name\": \"Leclerc\", \"orientation\": \"h\", \"x\": [1940], \"y\": [0], \"type\": \"bar\", \"uid\": \"d1d6348c-7b1e-46da-b299-d99ff27dad83\"}, {\"marker\": {\"color\": \"#68a99e\"}, \"name\": \"Auchan\", \"orientation\": \"h\", \"x\": [1935], \"y\": [0], \"type\": \"bar\", \"uid\": \"e29d8c35-7238-44c1-8e85-1eadc15a3680\"}, {\"marker\": {\"color\": \"#568967\"}, \"name\": \"Intermarch\\u00e9\", \"orientation\": \"h\", \"x\": [1562], \"y\": [0], \"type\": \"bar\", \"uid\": \"fe45cd8d-0347-4a74-b8d1-3a9c8461c916\"}, {\"marker\": {\"color\": \"#7192C5\"}, \"name\": \"Super U\", \"orientation\": \"h\", \"x\": [1216], \"y\": [0], \"type\": \"bar\", \"uid\": \"dfb958cd-7094-4397-b01d-df5ce6137110\"}, {\"marker\": {\"color\": \"#8d496b\"}, \"name\": \"Magasins U\", \"orientation\": \"h\", \"x\": [1169], \"y\": [0], \"type\": \"bar\", \"uid\": \"7bb2b406-5f8a-4219-9ed6-682a420d4dac\"}, {\"marker\": {\"color\": \"#baba70\"}, \"name\": \"Cora\", \"orientation\": \"h\", \"x\": [1071], \"y\": [0], \"type\": \"bar\", \"uid\": \"4e03ce92-1fc2-48af-b90f-f116162649c5\"}, {\"marker\": {\"color\": \"#7192C5\"}, \"name\": \"Others\", \"orientation\": \"h\", \"x\": [11302], \"y\": [0], \"type\": \"bar\", \"uid\": \"47c44e88-e36e-4bac-9a87-1c5162dd68f5\"}], {\"barmode\": \"stack\", \"height\": 200, \"margin\": {\"b\": 25, \"l\": 40, \"pad\": 4, \"r\": 40, \"t\": 25}, \"showlegend\": true, \"width\": 800, \"xaxis\": {\"tickvals\": [0, 5000, 10000, 15000, 20000, 25000, 27234]}, \"yaxis\": {\"showgrid\": false, \"showline\": false, \"showticklabels\": false, \"zeroline\": false}}, {\"showLink\": true, \"linkText\": \"Export to plot.ly\"})});</script>"
      ],
      "text/vnd.plotly.v1+html": [
       "<div id=\"babe1e16-a45f-432d-b08b-c72ae2182706\" style=\"height: 200px; width: 800px;\" class=\"plotly-graph-div\"></div><script type=\"text/javascript\">require([\"plotly\"], function(Plotly) { window.PLOTLYENV=window.PLOTLYENV || {};window.PLOTLYENV.BASE_URL=\"https://plot.ly\";Plotly.newPlot(\"babe1e16-a45f-432d-b08b-c72ae2182706\", [{\"marker\": {\"color\": \"#5f568b\"}, \"name\": \"Carrefour\", \"orientation\": \"h\", \"x\": [4823], \"y\": [0], \"type\": \"bar\", \"uid\": \"901b9dda-e6fc-4644-ac85-a637bbdf781d\"}, {\"marker\": {\"color\": \"#7192C5\"}, \"name\": \" Magasins U\", \"orientation\": \"h\", \"x\": [2216], \"y\": [0], \"type\": \"bar\", \"uid\": \"1e4bd1d3-dff1-4db2-9183-aa88ef31c21f\"}, {\"marker\": {\"color\": \"#b6ddf0\"}, \"name\": \"Leclerc\", \"orientation\": \"h\", \"x\": [1940], \"y\": [0], \"type\": \"bar\", \"uid\": \"d1d6348c-7b1e-46da-b299-d99ff27dad83\"}, {\"marker\": {\"color\": \"#68a99e\"}, \"name\": \"Auchan\", \"orientation\": \"h\", \"x\": [1935], \"y\": [0], \"type\": \"bar\", \"uid\": \"e29d8c35-7238-44c1-8e85-1eadc15a3680\"}, {\"marker\": {\"color\": \"#568967\"}, \"name\": \"Intermarch\\u00e9\", \"orientation\": \"h\", \"x\": [1562], \"y\": [0], \"type\": \"bar\", \"uid\": \"fe45cd8d-0347-4a74-b8d1-3a9c8461c916\"}, {\"marker\": {\"color\": \"#7192C5\"}, \"name\": \"Super U\", \"orientation\": \"h\", \"x\": [1216], \"y\": [0], \"type\": \"bar\", \"uid\": \"dfb958cd-7094-4397-b01d-df5ce6137110\"}, {\"marker\": {\"color\": \"#8d496b\"}, \"name\": \"Magasins U\", \"orientation\": \"h\", \"x\": [1169], \"y\": [0], \"type\": \"bar\", \"uid\": \"7bb2b406-5f8a-4219-9ed6-682a420d4dac\"}, {\"marker\": {\"color\": \"#baba70\"}, \"name\": \"Cora\", \"orientation\": \"h\", \"x\": [1071], \"y\": [0], \"type\": \"bar\", \"uid\": \"4e03ce92-1fc2-48af-b90f-f116162649c5\"}, {\"marker\": {\"color\": \"#7192C5\"}, \"name\": \"Others\", \"orientation\": \"h\", \"x\": [11302], \"y\": [0], \"type\": \"bar\", \"uid\": \"47c44e88-e36e-4bac-9a87-1c5162dd68f5\"}], {\"barmode\": \"stack\", \"height\": 200, \"margin\": {\"b\": 25, \"l\": 40, \"pad\": 4, \"r\": 40, \"t\": 25}, \"showlegend\": true, \"width\": 800, \"xaxis\": {\"tickvals\": [0, 5000, 10000, 15000, 20000, 25000, 27234]}, \"yaxis\": {\"showgrid\": false, \"showline\": false, \"showticklabels\": false, \"zeroline\": false}}, {\"showLink\": true, \"linkText\": \"Export to plot.ly\"})});</script>"
      ]
     },
     "metadata": {},
     "output_type": "display_data"
    }
   ],
   "source": [
    "visualize.plot_column_composition(nutrition_fr, \n",
    "                                  df_colors,\n",
    "                                  'stores',\n",
    "                                  save_offline=save_plots_offline, \n",
    "                                  save_offline_title='nutrition_stores',\n",
    "                                  num_values=8)"
   ]
  },
  {
   "cell_type": "markdown",
   "metadata": {},
   "source": [
    "#### Carbon footprint of nutritionally-high graded products\n",
    "\n",
    "In this section we investigate the carbon footprint of different products and categories. Therefore, we investigate the OpenFoodFacts dataset. Common sense would suggest most nutritionally-high graded products are organic (plant, fruit, vegetables, …), thus having a small footprint due to manufacturing. Let's see what story the data has to tell...\n",
    "\n",
    "But as before, we should be careful as the dataset is biased. So we begin with examining what kind of data is present in the datasets."
   ]
  },
  {
   "cell_type": "code",
   "execution_count": 34,
   "metadata": {},
   "outputs": [
    {
     "data": {
      "text/plain": [
       "Sugary snacks    18\n",
       "Plant-based      14\n",
       "Dairies          11\n",
       "Beverages         9\n",
       "Other             9\n",
       "Carbs             7\n",
       "Meats             7\n",
       "Seafood           5\n",
       "Salty snacks      1\n",
       "Name: main_category, dtype: int64"
      ]
     },
     "metadata": {},
     "output_type": "display_data"
    }
   ],
   "source": [
    "# Extracting all products containing carbon footprint information from the database\n",
    "carbon_footprints = food_facts_pd[food_facts_pd['carbon-footprint_100g'].notna()]\n",
    "display(carbon_footprints.main_category.value_counts())"
   ]
  },
  {
   "cell_type": "markdown",
   "metadata": {},
   "source": [
    "Before we begin, please note that most of the products are either sugary snacks (dominantly chocolates) or plant-based, hence only containing few ingredients."
   ]
  },
  {
   "cell_type": "markdown",
   "metadata": {},
   "source": [
    "First, we should sensibilize for the data that we are dealing with. Therefore we visualize the origin and composition of the products."
   ]
  },
  {
   "cell_type": "code",
   "execution_count": 35,
   "metadata": {},
   "outputs": [
    {
     "data": {
      "application/vnd.plotly.v1+json": {
       "data": [
        {
         "marker": {
          "color": "#5f568b"
         },
         "name": "France",
         "orientation": "h",
         "type": "bar",
         "uid": "fc98e1bb-a1cf-48b8-8d28-05ddd7e23a2d",
         "x": [
          49
         ],
         "y": [
          0
         ]
        },
        {
         "marker": {
          "color": "#7192C5"
         },
         "name": "Switzerland",
         "orientation": "h",
         "type": "bar",
         "uid": "e959dac9-7c0b-428a-8b9c-149b993c8aeb",
         "x": [
          15
         ],
         "y": [
          0
         ]
        },
        {
         "marker": {
          "color": "#8d496b"
         },
         "name": "United Kingdom",
         "orientation": "h",
         "type": "bar",
         "uid": "ccedea08-a67c-48bf-abe6-410612bd8648",
         "x": [
          6
         ],
         "y": [
          0
         ]
        },
        {
         "marker": {
          "color": "#68a99e"
         },
         "name": "Italy",
         "orientation": "h",
         "type": "bar",
         "uid": "ea97d128-6c43-4626-8994-b6b434b42bc3",
         "x": [
          5
         ],
         "y": [
          0
         ]
        },
        {
         "marker": {
          "color": "#baba70"
         },
         "name": "Belgium",
         "orientation": "h",
         "type": "bar",
         "uid": "c18706fb-ba4b-44cd-b973-1d6284a808ff",
         "x": [
          4
         ],
         "y": [
          0
         ]
        },
        {
         "marker": {
          "color": "#7192C5"
         },
         "name": "Others",
         "orientation": "h",
         "type": "bar",
         "uid": "4d4bb505-e7c8-4dc7-8158-efe775253b06",
         "x": [
          7
         ],
         "y": [
          0
         ]
        }
       ],
       "layout": {
        "barmode": "stack",
        "height": 200,
        "margin": {
         "b": 25,
         "l": 40,
         "pad": 4,
         "r": 40,
         "t": 25
        },
        "showlegend": true,
        "width": 800,
        "xaxis": {
         "tickvals": [
          0,
          5,
          10,
          15,
          20,
          25,
          30,
          35,
          40,
          45,
          50,
          55,
          60,
          65,
          70,
          75,
          80,
          85,
          86
         ]
        },
        "yaxis": {
         "showgrid": false,
         "showline": false,
         "showticklabels": false,
         "zeroline": false
        }
       }
      },
      "text/html": [
       "<div id=\"e85cda50-7f24-4fa4-b855-7460a074c369\" style=\"height: 200px; width: 800px;\" class=\"plotly-graph-div\"></div><script type=\"text/javascript\">require([\"plotly\"], function(Plotly) { window.PLOTLYENV=window.PLOTLYENV || {};window.PLOTLYENV.BASE_URL=\"https://plot.ly\";Plotly.newPlot(\"e85cda50-7f24-4fa4-b855-7460a074c369\", [{\"marker\": {\"color\": \"#5f568b\"}, \"name\": \"France\", \"orientation\": \"h\", \"x\": [49], \"y\": [0], \"type\": \"bar\", \"uid\": \"fc98e1bb-a1cf-48b8-8d28-05ddd7e23a2d\"}, {\"marker\": {\"color\": \"#7192C5\"}, \"name\": \"Switzerland\", \"orientation\": \"h\", \"x\": [15], \"y\": [0], \"type\": \"bar\", \"uid\": \"e959dac9-7c0b-428a-8b9c-149b993c8aeb\"}, {\"marker\": {\"color\": \"#8d496b\"}, \"name\": \"United Kingdom\", \"orientation\": \"h\", \"x\": [6], \"y\": [0], \"type\": \"bar\", \"uid\": \"ccedea08-a67c-48bf-abe6-410612bd8648\"}, {\"marker\": {\"color\": \"#68a99e\"}, \"name\": \"Italy\", \"orientation\": \"h\", \"x\": [5], \"y\": [0], \"type\": \"bar\", \"uid\": \"ea97d128-6c43-4626-8994-b6b434b42bc3\"}, {\"marker\": {\"color\": \"#baba70\"}, \"name\": \"Belgium\", \"orientation\": \"h\", \"x\": [4], \"y\": [0], \"type\": \"bar\", \"uid\": \"c18706fb-ba4b-44cd-b973-1d6284a808ff\"}, {\"marker\": {\"color\": \"#7192C5\"}, \"name\": \"Others\", \"orientation\": \"h\", \"x\": [7], \"y\": [0], \"type\": \"bar\", \"uid\": \"4d4bb505-e7c8-4dc7-8158-efe775253b06\"}], {\"barmode\": \"stack\", \"height\": 200, \"margin\": {\"b\": 25, \"l\": 40, \"pad\": 4, \"r\": 40, \"t\": 25}, \"showlegend\": true, \"width\": 800, \"xaxis\": {\"tickvals\": [0, 5, 10, 15, 20, 25, 30, 35, 40, 45, 50, 55, 60, 65, 70, 75, 80, 85, 86]}, \"yaxis\": {\"showgrid\": false, \"showline\": false, \"showticklabels\": false, \"zeroline\": false}}, {\"showLink\": true, \"linkText\": \"Export to plot.ly\"})});</script>"
      ],
      "text/vnd.plotly.v1+html": [
       "<div id=\"e85cda50-7f24-4fa4-b855-7460a074c369\" style=\"height: 200px; width: 800px;\" class=\"plotly-graph-div\"></div><script type=\"text/javascript\">require([\"plotly\"], function(Plotly) { window.PLOTLYENV=window.PLOTLYENV || {};window.PLOTLYENV.BASE_URL=\"https://plot.ly\";Plotly.newPlot(\"e85cda50-7f24-4fa4-b855-7460a074c369\", [{\"marker\": {\"color\": \"#5f568b\"}, \"name\": \"France\", \"orientation\": \"h\", \"x\": [49], \"y\": [0], \"type\": \"bar\", \"uid\": \"fc98e1bb-a1cf-48b8-8d28-05ddd7e23a2d\"}, {\"marker\": {\"color\": \"#7192C5\"}, \"name\": \"Switzerland\", \"orientation\": \"h\", \"x\": [15], \"y\": [0], \"type\": \"bar\", \"uid\": \"e959dac9-7c0b-428a-8b9c-149b993c8aeb\"}, {\"marker\": {\"color\": \"#8d496b\"}, \"name\": \"United Kingdom\", \"orientation\": \"h\", \"x\": [6], \"y\": [0], \"type\": \"bar\", \"uid\": \"ccedea08-a67c-48bf-abe6-410612bd8648\"}, {\"marker\": {\"color\": \"#68a99e\"}, \"name\": \"Italy\", \"orientation\": \"h\", \"x\": [5], \"y\": [0], \"type\": \"bar\", \"uid\": \"ea97d128-6c43-4626-8994-b6b434b42bc3\"}, {\"marker\": {\"color\": \"#baba70\"}, \"name\": \"Belgium\", \"orientation\": \"h\", \"x\": [4], \"y\": [0], \"type\": \"bar\", \"uid\": \"c18706fb-ba4b-44cd-b973-1d6284a808ff\"}, {\"marker\": {\"color\": \"#7192C5\"}, \"name\": \"Others\", \"orientation\": \"h\", \"x\": [7], \"y\": [0], \"type\": \"bar\", \"uid\": \"4d4bb505-e7c8-4dc7-8158-efe775253b06\"}], {\"barmode\": \"stack\", \"height\": 200, \"margin\": {\"b\": 25, \"l\": 40, \"pad\": 4, \"r\": 40, \"t\": 25}, \"showlegend\": true, \"width\": 800, \"xaxis\": {\"tickvals\": [0, 5, 10, 15, 20, 25, 30, 35, 40, 45, 50, 55, 60, 65, 70, 75, 80, 85, 86]}, \"yaxis\": {\"showgrid\": false, \"showline\": false, \"showticklabels\": false, \"zeroline\": false}}, {\"showLink\": true, \"linkText\": \"Export to plot.ly\"})});</script>"
      ]
     },
     "metadata": {},
     "output_type": "display_data"
    }
   ],
   "source": [
    "visualize.plot_column_composition(carbon_footprints, \n",
    "                                  df_colors,\n",
    "                                  column_str='manufacturing_places',\n",
    "                                  save_offline = save_plots_offline, \n",
    "                                  save_offline_title = 'carbon_manufacturing_places')"
   ]
  },
  {
   "cell_type": "markdown",
   "metadata": {},
   "source": [
    "We wanted to investigate if there is a correlation between country of origin, and hence transportation distance, and the carbon footprint. However, as more than 80% the products are produced in France or neighbouring countries, the uncertainty would be too high, regarding that we only know manufacturers on a country granularity."
   ]
  },
  {
   "cell_type": "code",
   "execution_count": 36,
   "metadata": {},
   "outputs": [
    {
     "data": {
      "application/vnd.plotly.v1+json": {
       "data": [
        {
         "marker": {
          "color": "#EC9BE2"
         },
         "name": "Sugary snacks",
         "orientation": "h",
         "type": "bar",
         "uid": "dbf51931-8a09-42b5-8964-ef1f4286d3ea",
         "x": [
          18
         ],
         "y": [
          0
         ]
        },
        {
         "marker": {
          "color": "#90CB70"
         },
         "name": "Plant-based",
         "orientation": "h",
         "type": "bar",
         "uid": "b5671627-ba95-48e5-8a1c-11bc746096d0",
         "x": [
          14
         ],
         "y": [
          0
         ]
        },
        {
         "marker": {
          "color": "#D6D0C3"
         },
         "name": "Dairies",
         "orientation": "h",
         "type": "bar",
         "uid": "65936da7-0f0c-4710-95ba-12192deca1b7",
         "x": [
          11
         ],
         "y": [
          0
         ]
        },
        {
         "marker": {
          "color": "#F3AC6D"
         },
         "name": "Beverages",
         "orientation": "h",
         "type": "bar",
         "uid": "0cd8889a-b590-434f-8e43-45278dad3d1b",
         "x": [
          9
         ],
         "y": [
          0
         ]
        },
        {
         "marker": {
          "color": "#B69C63"
         },
         "name": "Meats",
         "orientation": "h",
         "type": "bar",
         "uid": "56267a35-b89e-4048-8983-c101b0cd8853",
         "x": [
          7
         ],
         "y": [
          0
         ]
        },
        {
         "marker": {
          "color": "#7192C5"
         },
         "name": "Others",
         "orientation": "h",
         "type": "bar",
         "uid": "282d3a5c-3345-443e-bef8-5627ef6bc0d9",
         "x": [
          22
         ],
         "y": [
          0
         ]
        }
       ],
       "layout": {
        "barmode": "stack",
        "height": 200,
        "margin": {
         "b": 25,
         "l": 40,
         "pad": 4,
         "r": 40,
         "t": 25
        },
        "showlegend": true,
        "width": 800,
        "xaxis": {
         "tickvals": [
          0,
          5,
          10,
          15,
          20,
          25,
          30,
          35,
          40,
          45,
          50,
          55,
          60,
          65,
          70,
          75,
          80,
          81
         ]
        },
        "yaxis": {
         "showgrid": false,
         "showline": false,
         "showticklabels": false,
         "zeroline": false
        }
       }
      },
      "text/html": [
       "<div id=\"445dcfe6-19c8-4733-8189-78c16bf8aa98\" style=\"height: 200px; width: 800px;\" class=\"plotly-graph-div\"></div><script type=\"text/javascript\">require([\"plotly\"], function(Plotly) { window.PLOTLYENV=window.PLOTLYENV || {};window.PLOTLYENV.BASE_URL=\"https://plot.ly\";Plotly.newPlot(\"445dcfe6-19c8-4733-8189-78c16bf8aa98\", [{\"marker\": {\"color\": \"#EC9BE2\"}, \"name\": \"Sugary snacks\", \"orientation\": \"h\", \"x\": [18], \"y\": [0], \"type\": \"bar\", \"uid\": \"dbf51931-8a09-42b5-8964-ef1f4286d3ea\"}, {\"marker\": {\"color\": \"#90CB70\"}, \"name\": \"Plant-based\", \"orientation\": \"h\", \"x\": [14], \"y\": [0], \"type\": \"bar\", \"uid\": \"b5671627-ba95-48e5-8a1c-11bc746096d0\"}, {\"marker\": {\"color\": \"#D6D0C3\"}, \"name\": \"Dairies\", \"orientation\": \"h\", \"x\": [11], \"y\": [0], \"type\": \"bar\", \"uid\": \"65936da7-0f0c-4710-95ba-12192deca1b7\"}, {\"marker\": {\"color\": \"#F3AC6D\"}, \"name\": \"Beverages\", \"orientation\": \"h\", \"x\": [9], \"y\": [0], \"type\": \"bar\", \"uid\": \"0cd8889a-b590-434f-8e43-45278dad3d1b\"}, {\"marker\": {\"color\": \"#B69C63\"}, \"name\": \"Meats\", \"orientation\": \"h\", \"x\": [7], \"y\": [0], \"type\": \"bar\", \"uid\": \"56267a35-b89e-4048-8983-c101b0cd8853\"}, {\"marker\": {\"color\": \"#7192C5\"}, \"name\": \"Others\", \"orientation\": \"h\", \"x\": [22], \"y\": [0], \"type\": \"bar\", \"uid\": \"282d3a5c-3345-443e-bef8-5627ef6bc0d9\"}], {\"barmode\": \"stack\", \"height\": 200, \"margin\": {\"b\": 25, \"l\": 40, \"pad\": 4, \"r\": 40, \"t\": 25}, \"showlegend\": true, \"width\": 800, \"xaxis\": {\"tickvals\": [0, 5, 10, 15, 20, 25, 30, 35, 40, 45, 50, 55, 60, 65, 70, 75, 80, 81]}, \"yaxis\": {\"showgrid\": false, \"showline\": false, \"showticklabels\": false, \"zeroline\": false}}, {\"showLink\": true, \"linkText\": \"Export to plot.ly\"})});</script>"
      ],
      "text/vnd.plotly.v1+html": [
       "<div id=\"445dcfe6-19c8-4733-8189-78c16bf8aa98\" style=\"height: 200px; width: 800px;\" class=\"plotly-graph-div\"></div><script type=\"text/javascript\">require([\"plotly\"], function(Plotly) { window.PLOTLYENV=window.PLOTLYENV || {};window.PLOTLYENV.BASE_URL=\"https://plot.ly\";Plotly.newPlot(\"445dcfe6-19c8-4733-8189-78c16bf8aa98\", [{\"marker\": {\"color\": \"#EC9BE2\"}, \"name\": \"Sugary snacks\", \"orientation\": \"h\", \"x\": [18], \"y\": [0], \"type\": \"bar\", \"uid\": \"dbf51931-8a09-42b5-8964-ef1f4286d3ea\"}, {\"marker\": {\"color\": \"#90CB70\"}, \"name\": \"Plant-based\", \"orientation\": \"h\", \"x\": [14], \"y\": [0], \"type\": \"bar\", \"uid\": \"b5671627-ba95-48e5-8a1c-11bc746096d0\"}, {\"marker\": {\"color\": \"#D6D0C3\"}, \"name\": \"Dairies\", \"orientation\": \"h\", \"x\": [11], \"y\": [0], \"type\": \"bar\", \"uid\": \"65936da7-0f0c-4710-95ba-12192deca1b7\"}, {\"marker\": {\"color\": \"#F3AC6D\"}, \"name\": \"Beverages\", \"orientation\": \"h\", \"x\": [9], \"y\": [0], \"type\": \"bar\", \"uid\": \"0cd8889a-b590-434f-8e43-45278dad3d1b\"}, {\"marker\": {\"color\": \"#B69C63\"}, \"name\": \"Meats\", \"orientation\": \"h\", \"x\": [7], \"y\": [0], \"type\": \"bar\", \"uid\": \"56267a35-b89e-4048-8983-c101b0cd8853\"}, {\"marker\": {\"color\": \"#7192C5\"}, \"name\": \"Others\", \"orientation\": \"h\", \"x\": [22], \"y\": [0], \"type\": \"bar\", \"uid\": \"282d3a5c-3345-443e-bef8-5627ef6bc0d9\"}], {\"barmode\": \"stack\", \"height\": 200, \"margin\": {\"b\": 25, \"l\": 40, \"pad\": 4, \"r\": 40, \"t\": 25}, \"showlegend\": true, \"width\": 800, \"xaxis\": {\"tickvals\": [0, 5, 10, 15, 20, 25, 30, 35, 40, 45, 50, 55, 60, 65, 70, 75, 80, 81]}, \"yaxis\": {\"showgrid\": false, \"showline\": false, \"showticklabels\": false, \"zeroline\": false}}, {\"showLink\": true, \"linkText\": \"Export to plot.ly\"})});</script>"
      ]
     },
     "metadata": {},
     "output_type": "display_data"
    }
   ],
   "source": [
    "visualize.plot_column_composition(carbon_footprints, \n",
    "                                  df_colors,\n",
    "                                  column_str='main_category',\n",
    "                                  save_offline = save_plots_offline, \n",
    "                                  save_offline_title = 'carbon_main_category')"
   ]
  },
  {
   "cell_type": "markdown",
   "metadata": {},
   "source": [
    "We see that the main categories that we have carbon footprint data of are sugary snacks (mainly plain chocolets), plant-based products and dairies. This is not surprising since they are made up of only few ingredients and therefore easy for the manufacturers to trace. "
   ]
  },
  {
   "cell_type": "markdown",
   "metadata": {},
   "source": [
    "##### Is there a general correlation between high carbon footprint and price? "
   ]
  },
  {
   "cell_type": "markdown",
   "metadata": {},
   "source": [
    "In order to investigat this question, we combine the data above with what we have obtained from the Eaternity database."
   ]
  },
  {
   "cell_type": "code",
   "execution_count": 37,
   "metadata": {},
   "outputs": [],
   "source": [
    "carbon_footprints_food_facts = food_facts_pd[food_facts_pd['carbon-footprint_100g'].notna()]\\\n",
    "    [['product_name', 'main_category', 'energy_100g', 'carbon-footprint_100g', 'price_per_100g']]\n",
    "\n",
    "carbon_footprints_eaternity = eaternity_pd\\\n",
    "    [['product_name', 'main_category', 'energy_100g', 'carbon-footprint_100g', 'price_per_100g']]\n",
    "\n",
    "carbon_footprints = pd.concat([carbon_footprints_food_facts, carbon_footprints_eaternity], ignore_index=True).dropna()"
   ]
  },
  {
   "cell_type": "code",
   "execution_count": 38,
   "metadata": {
    "scrolled": true
   },
   "outputs": [
    {
     "data": {
      "application/vnd.plotly.v1+json": {
       "data": [
        {
         "marker": {
          "color": "#90CB70"
         },
         "name": "Plant-based",
         "orientation": "h",
         "type": "bar",
         "uid": "67b178d3-12e1-4c58-b024-fd21f2dcaeb3",
         "x": [
          146
         ],
         "y": [
          0
         ]
        },
        {
         "marker": {
          "color": "#EC9BE2"
         },
         "name": "Sugary snacks",
         "orientation": "h",
         "type": "bar",
         "uid": "a5776bcd-2957-41da-84b5-ea42b8efff1f",
         "x": [
          70
         ],
         "y": [
          0
         ]
        },
        {
         "marker": {
          "color": "#F0F472"
         },
         "name": "Carbs",
         "orientation": "h",
         "type": "bar",
         "uid": "d4b79bdf-711c-4fc9-b7ff-0edbafea961e",
         "x": [
          54
         ],
         "y": [
          0
         ]
        },
        {
         "marker": {
          "color": "#D6D0C3"
         },
         "name": "Dairies",
         "orientation": "h",
         "type": "bar",
         "uid": "118a120f-ec79-45e5-94fa-ef4f309e792a",
         "x": [
          52
         ],
         "y": [
          0
         ]
        },
        {
         "marker": {
          "color": "#B69C63"
         },
         "name": "Meats",
         "orientation": "h",
         "type": "bar",
         "uid": "6fe9eb7d-bbcb-4503-9e58-ba31e9b4c350",
         "x": [
          35
         ],
         "y": [
          0
         ]
        },
        {
         "marker": {
          "color": "#F3AC6D"
         },
         "name": "Beverages",
         "orientation": "h",
         "type": "bar",
         "uid": "2b23b180-7319-45b8-9b2a-9a85f5539685",
         "x": [
          18
         ],
         "y": [
          0
         ]
        },
        {
         "marker": {
          "color": "#8CB5ED"
         },
         "name": "Seafood",
         "orientation": "h",
         "type": "bar",
         "uid": "54beafc4-9992-4443-88c1-8920fbca5a9f",
         "x": [
          16
         ],
         "y": [
          0
         ]
        },
        {
         "marker": {
          "color": "#FCE2E4"
         },
         "name": "Salty snacks",
         "orientation": "h",
         "type": "bar",
         "uid": "7438b2fb-5f8c-404c-89c1-8a6bbfc46e3e",
         "x": [
          4
         ],
         "y": [
          0
         ]
        },
        {
         "marker": {
          "color": "#7192C5"
         },
         "name": "Others",
         "orientation": "h",
         "type": "bar",
         "uid": "a32009bc-c2cb-464b-8ee0-998a959d2783",
         "x": [
          122
         ],
         "y": [
          0
         ]
        }
       ],
       "layout": {
        "barmode": "stack",
        "height": 200,
        "margin": {
         "b": 25,
         "l": 40,
         "pad": 4,
         "r": 40,
         "t": 25
        },
        "showlegend": true,
        "width": 800,
        "xaxis": {
         "tickvals": [
          0,
          50,
          100,
          150,
          200,
          250,
          300,
          350,
          400,
          450,
          500,
          517
         ]
        },
        "yaxis": {
         "showgrid": false,
         "showline": false,
         "showticklabels": false,
         "zeroline": false
        }
       }
      },
      "text/html": [
       "<div id=\"37135240-5a67-4b99-b800-4fe5071f9995\" style=\"height: 200px; width: 800px;\" class=\"plotly-graph-div\"></div><script type=\"text/javascript\">require([\"plotly\"], function(Plotly) { window.PLOTLYENV=window.PLOTLYENV || {};window.PLOTLYENV.BASE_URL=\"https://plot.ly\";Plotly.newPlot(\"37135240-5a67-4b99-b800-4fe5071f9995\", [{\"marker\": {\"color\": \"#90CB70\"}, \"name\": \"Plant-based\", \"orientation\": \"h\", \"x\": [146], \"y\": [0], \"type\": \"bar\", \"uid\": \"67b178d3-12e1-4c58-b024-fd21f2dcaeb3\"}, {\"marker\": {\"color\": \"#EC9BE2\"}, \"name\": \"Sugary snacks\", \"orientation\": \"h\", \"x\": [70], \"y\": [0], \"type\": \"bar\", \"uid\": \"a5776bcd-2957-41da-84b5-ea42b8efff1f\"}, {\"marker\": {\"color\": \"#F0F472\"}, \"name\": \"Carbs\", \"orientation\": \"h\", \"x\": [54], \"y\": [0], \"type\": \"bar\", \"uid\": \"d4b79bdf-711c-4fc9-b7ff-0edbafea961e\"}, {\"marker\": {\"color\": \"#D6D0C3\"}, \"name\": \"Dairies\", \"orientation\": \"h\", \"x\": [52], \"y\": [0], \"type\": \"bar\", \"uid\": \"118a120f-ec79-45e5-94fa-ef4f309e792a\"}, {\"marker\": {\"color\": \"#B69C63\"}, \"name\": \"Meats\", \"orientation\": \"h\", \"x\": [35], \"y\": [0], \"type\": \"bar\", \"uid\": \"6fe9eb7d-bbcb-4503-9e58-ba31e9b4c350\"}, {\"marker\": {\"color\": \"#F3AC6D\"}, \"name\": \"Beverages\", \"orientation\": \"h\", \"x\": [18], \"y\": [0], \"type\": \"bar\", \"uid\": \"2b23b180-7319-45b8-9b2a-9a85f5539685\"}, {\"marker\": {\"color\": \"#8CB5ED\"}, \"name\": \"Seafood\", \"orientation\": \"h\", \"x\": [16], \"y\": [0], \"type\": \"bar\", \"uid\": \"54beafc4-9992-4443-88c1-8920fbca5a9f\"}, {\"marker\": {\"color\": \"#FCE2E4\"}, \"name\": \"Salty snacks\", \"orientation\": \"h\", \"x\": [4], \"y\": [0], \"type\": \"bar\", \"uid\": \"7438b2fb-5f8c-404c-89c1-8a6bbfc46e3e\"}, {\"marker\": {\"color\": \"#7192C5\"}, \"name\": \"Others\", \"orientation\": \"h\", \"x\": [122], \"y\": [0], \"type\": \"bar\", \"uid\": \"a32009bc-c2cb-464b-8ee0-998a959d2783\"}], {\"barmode\": \"stack\", \"height\": 200, \"margin\": {\"b\": 25, \"l\": 40, \"pad\": 4, \"r\": 40, \"t\": 25}, \"showlegend\": true, \"width\": 800, \"xaxis\": {\"tickvals\": [0, 50, 100, 150, 200, 250, 300, 350, 400, 450, 500, 517]}, \"yaxis\": {\"showgrid\": false, \"showline\": false, \"showticklabels\": false, \"zeroline\": false}}, {\"showLink\": true, \"linkText\": \"Export to plot.ly\"})});</script>"
      ],
      "text/vnd.plotly.v1+html": [
       "<div id=\"37135240-5a67-4b99-b800-4fe5071f9995\" style=\"height: 200px; width: 800px;\" class=\"plotly-graph-div\"></div><script type=\"text/javascript\">require([\"plotly\"], function(Plotly) { window.PLOTLYENV=window.PLOTLYENV || {};window.PLOTLYENV.BASE_URL=\"https://plot.ly\";Plotly.newPlot(\"37135240-5a67-4b99-b800-4fe5071f9995\", [{\"marker\": {\"color\": \"#90CB70\"}, \"name\": \"Plant-based\", \"orientation\": \"h\", \"x\": [146], \"y\": [0], \"type\": \"bar\", \"uid\": \"67b178d3-12e1-4c58-b024-fd21f2dcaeb3\"}, {\"marker\": {\"color\": \"#EC9BE2\"}, \"name\": \"Sugary snacks\", \"orientation\": \"h\", \"x\": [70], \"y\": [0], \"type\": \"bar\", \"uid\": \"a5776bcd-2957-41da-84b5-ea42b8efff1f\"}, {\"marker\": {\"color\": \"#F0F472\"}, \"name\": \"Carbs\", \"orientation\": \"h\", \"x\": [54], \"y\": [0], \"type\": \"bar\", \"uid\": \"d4b79bdf-711c-4fc9-b7ff-0edbafea961e\"}, {\"marker\": {\"color\": \"#D6D0C3\"}, \"name\": \"Dairies\", \"orientation\": \"h\", \"x\": [52], \"y\": [0], \"type\": \"bar\", \"uid\": \"118a120f-ec79-45e5-94fa-ef4f309e792a\"}, {\"marker\": {\"color\": \"#B69C63\"}, \"name\": \"Meats\", \"orientation\": \"h\", \"x\": [35], \"y\": [0], \"type\": \"bar\", \"uid\": \"6fe9eb7d-bbcb-4503-9e58-ba31e9b4c350\"}, {\"marker\": {\"color\": \"#F3AC6D\"}, \"name\": \"Beverages\", \"orientation\": \"h\", \"x\": [18], \"y\": [0], \"type\": \"bar\", \"uid\": \"2b23b180-7319-45b8-9b2a-9a85f5539685\"}, {\"marker\": {\"color\": \"#8CB5ED\"}, \"name\": \"Seafood\", \"orientation\": \"h\", \"x\": [16], \"y\": [0], \"type\": \"bar\", \"uid\": \"54beafc4-9992-4443-88c1-8920fbca5a9f\"}, {\"marker\": {\"color\": \"#FCE2E4\"}, \"name\": \"Salty snacks\", \"orientation\": \"h\", \"x\": [4], \"y\": [0], \"type\": \"bar\", \"uid\": \"7438b2fb-5f8c-404c-89c1-8a6bbfc46e3e\"}, {\"marker\": {\"color\": \"#7192C5\"}, \"name\": \"Others\", \"orientation\": \"h\", \"x\": [122], \"y\": [0], \"type\": \"bar\", \"uid\": \"a32009bc-c2cb-464b-8ee0-998a959d2783\"}], {\"barmode\": \"stack\", \"height\": 200, \"margin\": {\"b\": 25, \"l\": 40, \"pad\": 4, \"r\": 40, \"t\": 25}, \"showlegend\": true, \"width\": 800, \"xaxis\": {\"tickvals\": [0, 50, 100, 150, 200, 250, 300, 350, 400, 450, 500, 517]}, \"yaxis\": {\"showgrid\": false, \"showline\": false, \"showticklabels\": false, \"zeroline\": false}}, {\"showLink\": true, \"linkText\": \"Export to plot.ly\"})});</script>"
      ]
     },
     "metadata": {},
     "output_type": "display_data"
    }
   ],
   "source": [
    "visualize.plot_column_composition(carbon_footprints, \n",
    "                                  df_colors,\n",
    "                                  column_str='main_category',\n",
    "                                  num_values=8,\n",
    "                                  save_offline = save_plots_offline, \n",
    "                                  save_offline_title = 'carbon_eat_main_category')"
   ]
  },
  {
   "cell_type": "markdown",
   "metadata": {},
   "source": [
    "As we see above, combining these two datasets gives us more variety in the categories, that the products come from.\n",
    "\n",
    "Next we plot them over prices, that we found from online stores of Walmart, Monoprix, Kaufland and Migros. "
   ]
  },
  {
   "cell_type": "markdown",
   "metadata": {},
   "source": [
    "<i>plot_cluster_by_tags</i> function clusters categories by tags (for exemple the carbon footprint, price, energie etc.)"
   ]
  },
  {
   "cell_type": "code",
   "execution_count": 39,
   "metadata": {},
   "outputs": [
    {
     "data": {
      "application/vnd.plotly.v1+json": {
       "data": [
        {
         "marker": {
          "color": "#90CB70"
         },
         "mode": "markers",
         "name": "Plant-based",
         "text": [
          "Riz long grain Camargue",
          "Pains au lait (x 10) aux pépites de chocolat au lait 350 g",
          "Huile d'olive vierge extra, extraite à froid",
          "Riz & blé complet Nature",
          "Riz & blé complet - Fruits rouges",
          "Farine de blé fluide",
          "Boisson aux fruits plate tropical",
          "Fleur de Colza",
          "Banane coco Alter Eco",
          "K Classic - Junger Gemüsemais",
          "ja! Gemüsemais",
          "Sera Ajvar",
          "Botato Kartoffel Wedges",
          "Pfanni Kartoffel Püree besonders locker 3 x 80 g",
          "Agrarfrost Germany Knusper Frites",
          "Backofen Rösti Ecken - aus Qualitätskartoffeln",
          "M-Budget Pommes Frites 3kg",
          "Violife Creamy Cucumber & Dill",
          "Penny - Kartoffelknödel halb & halb",
          "Agrarfrost Mini Kroketten",
          "Burgis Schupfnudeln",
          "Kartoffelsalat",
          "Ja! Kroketten",
          "real,- Rösti küchenfertig",
          "Brotaufstrich Paprika-Cashew",
          "Bofrost Schupfnudeln",
          "Aubergine Streichcreme mit feinen Auberginen-Stücken",
          "Mei Tai Maiskölbchen",
          "Kartoffelpuffer",
          "Küstengold Röstzwiebeln",
          "Gemüse Rösti 500g",
          "Edeka Süßkartoffeln",
          "ALNATURA Brotaufstrich Kichererbse mit Ingwer",
          "ja Kartoffel-Knödel halb und halb",
          "Letscho Premium",
          "Natsu Salat Dinkel-Quinoa Mit Edamame",
          "VITAM Kichererbsen Brotaufstrich, 125g",
          "Delikatess-Krautsalad",
          "Hummus",
          "Migros Kichererbsen",
          "Demeter Campo Verde Brotaufstrich Basilikum-Tomate 110 g",
          "M-Classic Schwarzwurzeln",
          "Gourmet Compagnie Semmelknödel",
          "Bonduelle - Linsen",
          "EDEKA BIO TAFELTRAUBWN",
          "Viana Jungle Energizer",
          "ALNATURA - Junge Erbsen",
          "Coop Betty Bossi Taboulé-Salat Oriental",
          "Rapunzel Oliven Kalamata mit Stein in Lake",
          "Alnatura Kichererbsen 350 g",
          "ΜΑΝΙ Kalamata Olivenpaste, bio NL Fair, 180g Glas",
          "Pfannengemüse - Französische Art",
          "Kühlmann - Bunter Bohnensalat mit Quinoa",
          "Crostini-Dip",
          "Eier Salat",
          "Migros Bio Griechische Oliven Amphisis",
          "Sauerkraut",
          "Schlemmertöpfchen - Rote Beete Kugeln",
          "REWE Feine Welt Kalamata Oliven",
          "Feinkost Dittmann - Oliven, grün ohne Stein",
          "Bio Sonne Bio-Brotaufstrich Tomate-Basilikum",
          "Ibero Spanische grüne Manzanilla Oliven gefüllt mit Jalapeñocreme",
          "Marmara Schwarze Oliven Mit Stein Devasa",
          "Real,- Bio kaisergemüse Blumenkohl, Karotten Und Broccoli",
          "Feinkost Dittmann Spanische grüne Oliven gefüllt mit Paprikapaste",
          "Spar Natur pur Bio Broccoli",
          "K-Classic Kartoffelbrei",
          "Bushs Best Kidney Beans",
          "Alnatura 24/7 Bio Grüne Oliven mit Mandeln",
          "Hengstenberg Rote Bete-Salat 330 g",
          "Hainich Sauerkraut",
          "Rapunzel Kapern in Olivenöl",
          "EDEKA Steinpilze",
          "Suppengrün",
          "Hengstenberg Rotessa Rotkohl traditionell 550 g",
          "Real Bio Buttergemüse",
          "Iglo Buttergemüse fein & knackig, 300 g",
          "Coop Naturaplan Bio Zucchetti",
          "EDEKA Chili-Bohnen 425 g",
          "Pfanni Kartoffel Püree mit entrahmter Milch komplett 3x 94,5 g",
          "Ostmann - Austernpilze getrocknet",
          "REWE Beste Wahl Austernpilze Aromatisch",
          "M Classic Russischer Salat",
          "Frosta Gemüse Pfanne Sommergarten",
          "Rahm Gemüse bunte Karotten & Erbsen",
          "Alpenfest Rustikale Kartoffelpfanne",
          "ardo - Blattspinat",
          "BLATTSPINAT",
          "Iglo Rahm-Gemüse - Rosenkohl",
          "ButterGemüse    Frosta",
          "Mutti Datterini Datteltomaten 400 g",
          "EDEKA Stangenspargel 530 g",
          "EDEKA Italia Geschälte Tomaten 800 g",
          "Alnatura Bio ganze Tomaten, geschält 400 g",
          "Penny Rahm-Spinat Erntefrisch Tiefgefroren",
          "Rewe Beste Wahl Cornichons mit Kräutern",
          "Schwarmstedter Kartoffeltaschen",
          "K Classic Pizza-Tomaten Stückig",
          "Feinkost Dittmann Artischockenherzen je la Toscana",
          "Ja! Natürlich - Mediterrane Pfanne",
          "Via Emilia Antipasto di verdura",
          "Hengstenberg Honiggurken 330 g",
          "Seeberger Tomaten getrocknet",
          "Bio Oraganic Strauchtomaten",
          "Kühne Rotkohl Original  350 g",
          "Saladinettes Salat Mexicana",
          "Thüringer Landgarten Bio Cornichons",
          "Freshona Cornichons",
          "ORO di Parma Tomatenmark 2-fach konzentriert, 70 g",
          "Coop Naturaplan Bio Tomaten Schweiz Freiland",
          "REWE Beste Wahl – Peperoni nach griechischer Art",
          "ALNATURA - Brechbohnen",
          "COOP Bio Bohnen fein",
          "Greenyard Snack Gurken",
          "Bio Spitzpaprika Rot Alnatura",
          "FRoSTa Gemüse Pfanne Thai",
          "Rewe Beste Wahl Schwarze Bohnen in Chilisauce",
          "M-Classic Borlotti-Bohnen",
          "Meienburg Sonnenblumenkerne",
          "Çekirdeko Salzige Sonnenblumenkerne",
          "Märsch Blaumohn",
          "Leinsamen",
          "Chia-Samen",
          "Dm Bio Sesam Ungeschält",
          "Coop Naturaplan Bio Pinienkerne",
          "ALNATURA Dinkel Drink Natur",
          "Coop Naturaplan Bio Quinoa-Reisgetränk",
          "Vegafit - Vegane Nuggets",
          "Soto Burger Süßkartoffel",
          "Taifun Tofu-Grillknacker",
          "Eden - vegetarische Salami",
          "granoVita Vegane Leberwurst",
          "Rügenwalder Mühle - Vegetarischer Schinken Spicker Mortadella",
          "Linsen rot",
          "Viva Vital - Feine grüne Erbsen",
          "Alnatura Beluga Linsen 500g",
          "Rapunzel Weisse Bohnen",
          "Kichererbsen, 500 g Davert",
          "Müller´s Mühle Red Kidney Bohnen",
          "Orangeat",
          "Odenwald Apfelmus mit Vanille 720 g",
          "Alnatura Bio Sauerkirschen entsteint 360 g",
          "Jeden Tag - Orangen Navel Late (2 kg)",
          "Frosta Erdbeeren ungezuckert",
          "Beerenmix tiefgefroren",
          "Heidelbeeren Nature's Pride"
         ],
         "type": "scatter",
         "uid": "b6acaa2c-4a4e-41d6-ba32-8b25bf073193",
         "x": [
          545,
          325,
          276,
          485,
          560,
          165,
          5,
          150,
          102,
          9,
          17,
          44,
          20,
          12,
          22,
          23,
          25,
          52,
          19,
          34,
          32,
          42,
          38,
          27,
          60,
          48,
          118,
          50,
          30,
          128,
          79,
          68,
          125,
          48,
          78,
          74,
          94,
          56,
          137,
          47,
          96,
          21,
          83,
          55,
          28,
          172,
          54,
          96,
          50,
          78,
          101,
          68,
          75,
          206,
          172,
          53,
          30,
          42,
          55,
          55,
          124,
          57,
          87,
          38,
          95,
          44,
          120,
          82,
          139,
          44,
          40,
          223,
          55,
          45,
          49,
          132,
          103,
          41,
          106,
          121,
          55,
          55,
          54,
          86,
          130,
          133,
          60,
          60,
          108,
          243,
          46,
          50,
          138,
          48,
          112,
          67,
          364,
          161,
          99,
          103,
          223,
          86,
          329,
          347,
          89,
          179,
          76,
          80,
          182,
          74,
          102,
          118,
          118,
          82,
          126,
          198,
          433,
          677,
          92,
          85,
          92,
          92,
          92,
          218,
          248,
          9,
          33,
          83,
          61,
          76,
          75,
          118,
          190,
          102,
          54,
          102,
          84,
          102,
          153,
          47,
          28,
          19,
          24,
          27,
          62,
          138
         ],
         "y": [
          0.418,
          0.6890000000000001,
          1.067,
          0.35,
          0.35,
          0.01,
          0.218,
          0.267,
          0.425,
          0.172,
          0.57,
          1.15,
          0.53,
          1.04,
          0.239,
          0.172,
          0.398,
          4.07,
          0.4,
          0.239,
          0.198,
          0.68,
          0.172,
          0.172,
          0.96,
          0.198,
          0.92,
          0.68,
          0.199,
          1.8,
          0.172,
          0.45,
          0.54,
          0.4,
          0.22000000000000008,
          0.53,
          1.52,
          0.53,
          0.96,
          0.54,
          0.318,
          0.341,
          0.48,
          0.64,
          0.098,
          0.4970000000000001,
          0.64,
          0.37,
          29.84,
          0.423,
          1.57,
          0.172,
          0.27,
          1,
          0.4,
          29.84,
          0.184,
          0.53,
          1.09,
          1.44,
          1.52,
          0.65,
          0.687,
          0.252,
          1.44,
          0.767,
          1.26,
          0.153,
          29.84,
          0.36,
          0.184,
          4.99,
          1.376,
          0.92,
          0.252,
          0.33,
          0.33,
          0.098,
          0.223,
          1.04,
          2.16,
          0.42,
          0.64,
          0.08499999999999999,
          2.12,
          0.172,
          0.252,
          0.252,
          0.362,
          0.33,
          0.413,
          0.49,
          0.25,
          0.25,
          0.362,
          0.53,
          0.564,
          0.14800000000000002,
          1.25,
          0.08499999999999999,
          4.16,
          0.8,
          11.09,
          0.098,
          0.29600000000000004,
          0.37,
          0.47,
          0.268,
          0.43,
          0.25,
          0.42,
          0.252,
          0.95,
          1.81,
          1.11,
          0.638,
          0.42,
          0.6990000000000001,
          0.276,
          0.45,
          0.48,
          0.413,
          1.6,
          0.46,
          0.098,
          0.53,
          0.098,
          0.8,
          0.58,
          1.44,
          0.997,
          0.8,
          1.62,
          0.35,
          0.033,
          0.35,
          0.5,
          0.35,
          0.153,
          0.39,
          0.06999999999999999,
          0.348,
          0.146,
          0.502,
          0.32299999999999995,
          0.767
         ]
        },
        {
         "marker": {
          "color": "#7979CD"
         },
         "mode": "markers",
         "name": "Other",
         "text": [
          "Cabillaud 100 % Filet, Surgelés (8 panés)",
          "Lasagnes au saumon, Surgelées",
          "Lasagnes au chèvre et aux épinards",
          "Pommes Dauphines",
          "Pavé de lieu sauce citron riz et julienne de légumes (2,4 % MG)",
          "Hachis Parmentier",
          "Lasagnes au thon",
          "Sucre Complet Muscovado",
          "Salade De Saumon",
          "Bamboo Garden Asia Kokosmilch fettreduziert",
          "Südzucker – Gelierzucker 2+1",
          "Rewe Bio – Pfeffer, schwarz, ganz",
          "Kokosmilch",
          "Bananeira Bio Oregano Gerebelt",
          "Ostmann Kümmel ganz 35 g",
          "Sate pikante Erdnuss- Würzmischung",
          "Rapunzel Tahin (Sesammus) ohne Salz 250 g",
          "Sesame Oil",
          "Naturkraftwerke Leinöl 250 ml",
          "Migros Bio Fairtrade Kurkuma Gemahlen",
          "Biskin Spezial - Pflanzenöl mit Buttergeschmack 750 ml",
          "Old El Paso Mexican Potatoes 30 g",
          "Knorr - Primerba All' Italiana",
          "Wan Kwai Thai Curry Paste Grün",
          "PASCO Tikka Paste",
          "EDEKA Bio Klare Gemüsebrühe-Würfel 6x 11 g",
          "Rewe Bio - Natives Olivenöl Extra",
          "Ubena Bruschetta Gewürzzubereitung",
          "Monini - Classico Olivenöl Extra Vierge",
          "Bertolli – Extra Vergine",
          "Rapunzel Oliven-Würzpaste",
          "Kattus Knoblauch Paste",
          "Zimt Gemahlen",
          "Alnatura Speisestärke -reine Maisstärke-",
          "Delikato Tafel Meerrettich",
          "Schnittlauch",
          "Schnittlauch",
          "tegut...Schnittlauch",
          "Schätze des Orients Harissa",
          "Tamarinden Paste",
          "Ruf Soßenfix",
          "Aroma Mix",
          "ALNATURA - Meersalz mit Jod",
          "Mondamin Soßenbinder hell 250 g",
          "LeChef Fleisch",
          "Spar Majoran Gerebelt",
          "Rewe Bio Petersilie tiefgefroren",
          "Petersilie",
          "Bio Dill Alnatura GmbH",
          "Schnittlauch",
          "Schnittlauch",
          "M Kräutergarten Rosmarin",
          "Spar Rosmarin geschnitten",
          "Alnatura Crema con Aceto Balsamico 250 g",
          "Spar Frischer Thymian",
          "SONNENTOR Thymian 25 g",
          "Chef Menü Koriander Küchenfrisch",
          "Kühne - Balsamissimo Feine Balsamico-Creme",
          "Mondo Italiano Aceto Balsamico Di Modena I.G.P",
          "Hengstenberg Altmeister Kräuterwürzessig 0,75 ltr",
          "Bautz'ner - Senf mittelscharf",
          "Thomy - Delikatess-Senf mittelscharf",
          "ja! Delikatess Mayonnaise mit 80% Rapsöl",
          "Maille Dijonnaise",
          "Löwensenf süß",
          "Händlmaier's Hausmachersenf - süß",
          "Miracle Whip",
          "ZWERGENWIESE Curry Ketchup, 500 ml",
          "Heinz – Tomato Ketchup",
          "Rewe Ja! Tomaten Ketchup",
          "Werder Bio Tomaten Ketchup",
          "Kraft Tomaten Ketchup groß 750 ml",
          "Heinz American Mustard New York Style Mild",
          "Bio Zucker Feinkristall",
          "Dr.Oetker Muffins 370 g",
          "Feine Marzipan Rohmasse",
          "Ruf Blattgelantine Weiss  20 g",
          "Alnatura Lübecker Marzipan Rohmasse",
          "Roh-Rohrzucker",
          "Südzucker Weisser Rohrzucker",
          "Rohzucker aus Zuckerrohr",
          "ALB-GOLD Fit 'n' Free Bio Buchweizen Pasta glutenfrei,",
          "Barilla Nudeln Farfalle 500 g",
          "Edeka Bio – Spaghetti Vollkorn",
          "Shan´ shi - Mie Eiernudeln",
          "Giovanni Rana Kartoffel-Gnocchi",
          "Real,- quality Ravioli mit Spinatfüllung",
          "Settele - Gemüse-Maultauschen",
          "Knorr Penne mit Broccoli",
          "Alb-Natur Bio-Dinkel-Maultaschen mit Linsen",
          "Monolith Nord GmbH Glasnudeln",
          "Quinoa Pasta -Müscheli",
          "Maggi Ravioli in Tomatensosse 800 g",
          "EDEKA Erdnusskerne geröstet & gesalzen 200 g",
          "märschimport - Mandeln ganz",
          "Mandelmus weiß (650 g )",
          "Haselnüsse gemahlen",
          "Seeberger Cashewkerne geröstet, gesalzen",
          "Alesto - Pistazien",
          "Carat Croutons Pinienkerne",
          "Kikkoman Sushi & Sashimi",
          "A.Best Pesto-Sauce",
          "Sriracha Hot Chilli Sauce",
          "Schwartau Bourbon-Vanille Sauce",
          "EDEKA Bio Tomatenmark 2-fach konzentriert 200 g",
          "McIlhenny TABASCO Brand Pepper Sauce Original 57 ml",
          "Iglo Käpt`ns Burger Gemüseburger",
          "Mama Brand Moo Nam Tok",
          "Frosta Couscous Oriental",
          "Crêapan Leckere Pfannkuchen Classic",
          "Yum Yum Cup Nudelsuppe mit Vegetable / Gemüsegeschmack",
          "PFANNKUCHEN (penny heat & eat)",
          "Mike Mitchell's Sandwich Salami-Käse",
          "Original Wagner - Big Pizza Schinken Diavolo",
          "Indian Chicken",
          "Wagner – Original Wagner Steinofen „PIZZA Speciale“",
          "Mama Mancini - Lasagne Bolognese",
          "Iglo Gerührt & Verführt Thai Hühnchen mit Basmati Reis",
          "Dornseifer Chili con carne",
          "Berchtesgadener Land Frische Vanille Milch",
          "Eilles Gourmet Caffè Crema ganze Bohnen, 1kg",
          "Ja! –Caffè Crema, ganze Bohnen"
         ],
         "type": "scatter",
         "uid": "7a8b69b8-6c73-45c2-a6fa-66193ca1f199",
         "x": [
          425,
          430,
          485,
          345,
          590,
          0,
          0,
          136,
          0,
          49,
          35,
          32,
          57,
          75,
          83,
          131,
          218,
          218,
          265,
          68,
          255,
          106,
          144,
          119,
          69,
          97,
          430,
          78,
          442,
          442,
          186,
          115,
          84,
          121,
          99,
          38,
          38,
          38,
          89,
          114,
          131,
          63,
          68,
          171,
          76,
          75,
          83,
          83,
          83,
          65,
          65,
          75,
          75,
          54,
          75,
          75,
          84,
          75,
          97,
          137,
          20,
          28,
          183,
          122,
          71,
          53,
          88,
          125,
          94,
          152,
          145,
          163,
          240,
          34,
          62,
          128,
          257,
          131,
          75,
          75,
          75,
          50,
          52,
          50,
          55,
          18,
          46,
          71,
          142,
          80,
          52,
          111,
          106,
          178,
          214,
          214,
          283,
          267,
          356,
          152,
          48,
          333,
          82,
          237,
          347,
          134,
          65,
          103,
          52,
          104,
          195,
          108,
          125,
          210,
          233,
          381,
          358,
          595,
          475,
          115,
          1081,
          1081
         ],
         "y": [
          2.289,
          0.6970000000000001,
          0.65,
          0.398,
          0.532,
          1.026,
          0.78,
          0.358,
          1.374,
          3.16,
          0.258,
          5.24,
          0.984,
          19.94,
          1.1,
          0.4,
          1.38,
          0.46,
          0.78,
          0.7889999999999999,
          0.9,
          0.382,
          1.24,
          0.4480000000000001,
          2.98,
          0.71,
          0.6659999999999999,
          12.48,
          0.998,
          0.358,
          29.84,
          1,
          4.85,
          0.14800000000000002,
          1.17,
          1.38,
          1.38,
          1.38,
          1.5,
          2.98,
          0.483,
          1.81,
          0.19,
          0.28,
          0.292,
          17.94,
          1.38,
          1.38,
          1.38,
          1.38,
          1.38,
          6.38,
          6.38,
          4,
          1.25,
          9.97,
          3.98,
          2.45,
          0.5,
          0.8,
          0.25,
          0.12,
          1.55,
          1.08,
          0.6,
          0.9,
          1.84,
          0.398,
          0.4480000000000001,
          11.09,
          0.25,
          0.34700000000000003,
          0.68,
          1.14,
          0.65,
          0.75,
          0.85,
          2.8,
          2.4,
          0.5,
          0.997,
          0.39,
          0.078,
          0.15,
          0.92,
          1.32,
          0.149,
          0.252,
          0.239,
          0.53,
          0.6980000000000001,
          0.58,
          0.149,
          1.1,
          1.86,
          0.5,
          0.4980000000000001,
          2.66,
          0.43,
          1.8,
          1.198,
          0.52,
          2,
          0.518,
          0.43,
          4.99,
          0.58,
          1.3230000000000002,
          0.4980000000000001,
          0.48,
          2.63,
          1.98,
          0.86,
          0.8550000000000001,
          0.226,
          0.8550000000000001,
          0.32299999999999995,
          1.053,
          0.199,
          1.59,
          0.7490000000000001,
          0.7490000000000001
         ]
        },
        {
         "marker": {
          "color": "#EC9BE2"
         },
         "mode": "markers",
         "name": "Sugary snacks",
         "text": [
          "Cookies Tout Chocolat",
          "Chocolat au lait Extra fin",
          "Biscuits Matin Miel et Pépites de Chocolat",
          "Noir éclats d'amandes",
          "Chocolat Blanc Nougatine Amande",
          "Chocolat Lait classique dégustation Bio Alter Eco",
          "Pérou 85%",
          "Noir éclats de menthe",
          "Noir Zestes de Citron",
          "Cookies Nougatine",
          "Lait Caramel Beurre salé",
          "Alter eco Noir amandes entières",
          "Chocolat noir 70%",
          "Noir pointe de piment",
          "Noir Éclats de Gingembre",
          "Chocolat noir, éclats amandes",
          "Alter eco 90% Pérou",
          "Noir Fruit de la Passion",
          "Migros Engagement Bio Pumpernickel",
          "Naturkind - Pumpernickel",
          "Lieken Urkorn – Kleines Kerni mit Sonnenblumenkernen",
          "Harry - Das volle Korn",
          "enerBio Dinkel-Vollkornbrot",
          "Harry Dinkel Vollkorn",
          "ja! - 6 Baguette-Brötchen",
          "Harry 1688 Unser Mildes",
          "GOLDEN TOAST Meister Brötchen, 400 g",
          "LIEKEN URKORN Bauernmild Brot, 500 g",
          "Grafschalter Megaburger Brötchen Classic",
          "REWE Laugenstangen zum Selbstbacke",
          "Knack & Back  Sonntags-Brötchen",
          "TiP 6 Sonntagsbrötchen zum Fertigbacken",
          "Knack & Back 6 Sonntagsbrötchen …ofenfrisch",
          "Kornmühle 8 Weizenbrötchen zum Fertigbacken",
          "M-Classic Butterzopf gross Frischback",
          "Tiroler Butterzopf",
          "Em-Eukal Wildkirsch Kinder Hustenbonbons 75 g",
          "Mauritius - Schoko & Gelee",
          "EDEKA Gelee-Bananen",
          "Hitschler Bunte Schnüre",
          "Ferrero - Mon Chéri",
          "Katjes Katzenpfötchen 200 g",
          "Griesson Soft Cake Orange",
          "Marzipan Kartoffeln",
          "Niederegger Lübeck Marzipan Schwarzbrot",
          "EDEKA Cookie dark chocolate & hazelnut 200 g",
          "Lindt Edel-Marzipan",
          "Alnatura Dinkel-Doppelkeks Zartbitter",
          "Snickers",
          "Katjes - Yoghurt-Gums",
          "Mars - Schokoriegel",
          "Frey Truffes Lait",
          "Leibniz Choco Vollmilch Kekse 125 g",
          "Milka Choco Bonbon Caramel",
          "Ferrero Kinder Bueno",
          "Wrigleys Extra Professional Mints Waldfrucht 77 g",
          "Alnatura Ahornsirup Grad C",
          "YO Holunderblüte Blütensirup 0,7 ltr",
          "Alnatura Dattelsirup",
          "Dr. Oetker - Grießbrei nach klassischer Art",
          "Bio Vita Milchreis Bourbon-Vanille",
          "Mondamin Lieblings-Milchreis Klassische Art",
          "Eskimo - Konfekt Vanille mit Schokoüberzug",
          "K-Classic Chocolate Brownie Ice Cream",
          "Ben & Jerry's - Cookie Dough Ice Cream",
          "müller - Milchreis Zimt",
          "Alnatura Schoko Eiscreme",
          "Landliebe Grieß Pudding Vanille",
          "Kissyo Bio Frozen Yoghurt Natur",
          "Frozen Yo Nature 450ml"
         ],
         "type": "scatter",
         "uid": "d83e694a-1d6d-47a9-ba6a-56830ff12c36",
         "x": [
          305,
          655,
          250,
          153,
          251,
          160,
          178,
          153,
          177,
          160,
          150,
          122,
          237,
          219,
          205,
          153,
          197,
          214,
          22,
          22,
          30,
          27,
          20,
          39,
          43,
          40,
          45,
          42,
          51,
          47,
          67,
          73,
          76,
          14,
          188,
          165,
          34,
          39,
          43,
          46,
          63,
          59,
          77,
          134,
          158,
          167,
          173,
          170,
          235,
          138,
          241,
          361,
          361,
          314,
          467,
          133,
          34,
          55,
          95,
          64,
          104,
          97,
          219,
          289,
          230,
          129,
          319,
          210,
          186,
          206
         ],
         "y": [
          2.025,
          0.82,
          1.252,
          2.45,
          2.28,
          2.78,
          2.49,
          2.8,
          2.86,
          0.39,
          0.398,
          2.78,
          2.75,
          2.44,
          2.8,
          0.99,
          2.49,
          3.01,
          0.098,
          0.6920000000000001,
          1.524,
          0.318,
          0.53,
          0.53,
          0.13,
          0.1,
          0.381,
          1.524,
          0.13,
          0.158,
          1.3,
          0.298,
          1.3,
          0.184,
          0.13,
          1.66,
          1.54,
          3.12,
          0.32,
          0.27,
          2.72,
          0.45,
          0.75,
          0.64,
          2.8,
          2.22,
          2.6,
          0.53,
          0.987,
          0.45,
          0.923,
          0.5,
          0.9,
          2.32,
          1.535,
          0.22000000000000008,
          1.98,
          0.399,
          1.98,
          0.56,
          0.5579999999999999,
          6.66,
          0.5780000000000001,
          0.366,
          3.78,
          0.15,
          0.8880000000000001,
          0.5309999999999999,
          0.7979999999999999,
          0.399
         ]
        },
        {
         "marker": {
          "color": "#F0F472"
         },
         "mode": "markers",
         "name": "Carbs",
         "text": [
          "Coquillettes au Blé Complet",
          "Cheveux d'Ange (Al dente 3 min.)",
          "Coquillettes",
          "Farfalle",
          "Coquillettes (Al dente 9 min.)",
          "Coquillettes au blé intégral Bio",
          "Kelloggs Cornflakes Die Originalen 375 g",
          "Honey  Wheat - Weizenkost Mit Honig",
          "Manner Knusper Müsli",
          "Seitenbacher Vollkorn-Früchtemüsli",
          "Crunchy Granola Bites Haselnuss",
          "K Classic flakes&dark Chocolate",
          "Kölln Müsli Knusper Kokos '30% weniger Fett'",
          "Dr. Oetker Vitalis Früchtemüsli",
          "EDEKA Knusper Müsli Triple Choc",
          "Verival Bio Honig Crunchy",
          "Dr. Schär Müsli Fruit glutenfrei 375 g",
          "Crownfield - Nougat Kissen / Nougat Bits - 750 g",
          "Nestle Cini Minis Zimt 375 g",
          "Tortilla Chips Meersalz",
          "Chio Mikrowellen Popcorn salzig",
          "Süsskartoffelchips mit Rosmarin",
          "Lorenz Naturals mit Rosmarin",
          "Lay's Sticks Bacon",
          "Tortilla Chips - Hot Chili",
          "ja! - Stapelchips Paprika",
          "Grissini al rosmarino",
          "Maiswürmer Käse",
          "Pom-Bär Original",
          "Lorenz Knabbergebäck Party Clubs 200 g",
          "Uncle Cracker NatSnacks Mit Pfeffer und Olivenöl",
          "Mano Masa",
          "Crusti Croc Mini Brotchips Mit Sauerrahm- und Zwiebel-Geschmack",
          "Popcorn Leicht Meersalz Gesalzen20g",
          "Kölln Echte Kernige Haferflocken 500 g",
          "Dinkelpoffies",
          "Quinoa bio",
          "Bio Amaranth",
          "Rapunzel - Polenta-Maisgrieß",
          "Couscous",
          "Couscous",
          "Rewe Couscous Salat",
          "Reismehl",
          "Basic Langkornreis weiß",
          "Uncle Ben's Express Basmati Reis",
          "dmBio Bulgur",
          "Matiss Bulgursalat Pikant",
          "Maisgrieß Polenta, 500 g Davert",
          "tegut... Wildreis",
          "Vollreis Natura",
          "Jasmin Reis",
          "ja! Milchreis",
          "la riseria Riso Ticinese 1kg",
          "Landkorn Naturreis"
         ],
         "type": "scatter",
         "uid": "78b989a3-f13d-49d8-a332-0515e88ab614",
         "x": [
          4.4,
          202.36,
          200.75,
          209.85,
          198.9,
          182.85,
          29,
          54,
          86,
          85,
          111,
          94,
          107,
          85,
          126,
          126,
          121,
          162,
          98,
          55,
          97,
          73,
          70,
          76,
          95,
          102,
          98,
          144,
          108,
          112,
          105,
          130,
          171,
          97,
          79,
          51,
          79,
          69,
          50,
          50,
          50,
          43,
          122,
          122,
          124,
          121,
          84,
          58,
          258,
          258,
          258,
          258,
          258,
          258
         ],
         "y": [
          0.08900000000000001,
          0.289,
          0.08900000000000001,
          0.13,
          0.135,
          0.218,
          0.6639999999999999,
          0.332,
          0.93,
          0.858,
          3.98,
          0.266,
          1.55,
          0.466,
          1.3730000000000002,
          1.3199999999999998,
          1.97,
          0.266,
          0.2,
          0.29700000000000004,
          1.66,
          6.38,
          0.747,
          0.74,
          2,
          0.68,
          1.53,
          0.9640000000000001,
          1.6,
          4.47,
          0.79,
          2.28,
          0.55,
          0.56,
          0.098,
          1,
          0.7889999999999999,
          1.16,
          0.23,
          0.0198,
          0.4980000000000001,
          0.4980000000000001,
          0.398,
          0.298,
          0.5980000000000001,
          0.72,
          0.7,
          0.23,
          0.378,
          0.77,
          0.398,
          0.15,
          1.05,
          0.238
         ]
        },
        {
         "marker": {
          "color": "#D6D0C3"
         },
         "mode": "markers",
         "name": "Dairies",
         "text": [
          "Lait Écrémé",
          "Val d'Automne (28 % MG)",
          "Miel liquide fleurs d'oranger d'Espagne",
          "Emmental Français Râpé (29 % MG)",
          "Emmental Français Râpé (29 % MG)",
          "Emmental Français Râpé (29 % MG)",
          "Emmental Français Râpé (29 % MG)",
          "Lait des Plaines du Nord de la France",
          "Pâte à tartiner",
          "Yaourts aux fruits mixés",
          "Vegan Leben - Vegane Scheiben Würzig",
          "Wilmersbuger Stück Classic",
          "Patros in Öl",
          "Frischgold Körniger Frischkäse, 200 g",
          "tegut... Back-Camembert",
          "Bio Bauern Handkäse",
          "Mozzarella Sticks",
          "Bio Emmentaler mittelreif 250g",
          "Bio Bündner Bergkäse ca. 250g",
          "M-Budget Cottage Cheese",
          "ROUGETTE Ofenkäse",
          "Bavaria blu - Der Würzige",
          "Brie Schweizer Weichkäse, vollfett, pasteurisiert Bio",
          "Appenzeller Schweizer Halbhartkäse, vollfett, aus Rohmilch",
          "Alpenhain - Back-Camembert mit Wildpreiselbeeren",
          "Penny Sahne Schmelzkäsezubereitung",
          "Andechser Natur Trink-Molke Mango-Apfel",
          "Söbbeke Pauls Biomolkerei Bio Erdbeere Joghurt Mild",
          "Ehrmann FrüchteTraum Kirsche 115 g",
          "BioBio - Saure Sahne",
          "Danone Fruchtzwerge weniger süß 6x50g",
          "Andechser Natur - Bio Lassi Chai",
          "Milram Buttermilchdrink Ipanema",
          "Alnatura - Fruchtbuttermilch Orange-Maracuja",
          "Landliebe Landmilch Schoko, 350 g",
          "Bio Organic Süßrahmbutter",
          "ja! H-Schlagsahne",
          "Berchtesgadener Land – Haltbare Bergbauern Milch",
          "Bifidus - Joghurt Mango",
          "Danone -  Actimel Erdbeer-Banane",
          "Ziegenmilch Bio haltbar mindestens 3,0 % Fett Andechser Natur",
          "K-Classic Schlagsahne",
          "Alnatura Kräuterquark",
          "Berchtesgadener Land Bio-Topfen",
          "Elinas - Joghurt nach griechischer Art Natur",
          "Schwälbchen - Speisequark Magerstufe",
          "BioBio - Lassi Mango",
          "Andechser Natur Bio Mango-Vanille",
          "MARK BRANDENBURG - Joghurt mild „Mandarine”",
          "K Classic Kondensmilch Wärmebehandelt",
          "tegut... frische Vollmilch 3,7% Fett",
          "Berchtesgadener Buttermilch - Buttermilch"
         ],
         "type": "scatter",
         "uid": "4c5d499d-21ed-4fd4-a249-a7c201a21d2d",
         "x": [
          175,
          1065,
          120,
          1113.0547,
          1113.0547,
          1127,
          1127,
          0,
          149,
          0,
          61,
          72,
          530,
          225,
          480,
          139,
          499,
          957,
          943,
          171,
          188,
          188,
          188,
          195,
          185,
          645,
          28,
          83,
          195,
          344,
          214,
          177,
          99,
          107,
          163,
          1217,
          525,
          143,
          151,
          174,
          142,
          516,
          388,
          420,
          270,
          427,
          175,
          193,
          196,
          187,
          188,
          125
         ],
         "y": [
          0.129,
          0.532,
          1.218,
          1.19,
          1.19,
          1.19,
          1.19,
          0.08800000000000001,
          1.018,
          0.365,
          0.8,
          0.478,
          0.997,
          0.5,
          0.5690000000000001,
          1.36,
          0.76,
          0.72,
          5.38,
          0.55,
          1.341,
          1.37,
          1.5,
          1.5,
          1.5,
          0.75,
          0.6,
          0.373,
          0.199,
          0.28,
          0.75,
          0.6,
          1.6,
          0.13799999999999998,
          0.655,
          0.63,
          0.5,
          1.33,
          0.22,
          0.315,
          1.55,
          0.33,
          0.28,
          1.59,
          0.373,
          0.28,
          0.6,
          0.33,
          0.1,
          0.14800000000000002,
          1.55,
          0.13799999999999998
         ]
        },
        {
         "marker": {
          "color": "#B69C63"
         },
         "mode": "markers",
         "name": "Meats",
         "text": [
          "Lardons Nature (2 barquettes)",
          "Lardons Fumés (2 barquettes)",
          "Saucisses de Francfort",
          "Bœuf Bourguignon et ses Tagliatelles",
          "Aiguillettes de poulet, sauce normande et son riz",
          "Nadler Delikatess Fleischsalat mit Salatcreme",
          "Ja! - Delikatess Fleischsalat",
          "Hühnerfrikassee",
          "Mein Menü Hühnerfrikassee mit Gemüseeinlage",
          "Ja! Frikadellen",
          "iska „Ungarische Salami“",
          "Migros Fleischkäse",
          "Ja! Königsberger Klopse",
          "TIP - Leberwurst fein",
          "Fein Wurst Hofmaier Frikadellen-Bällchen",
          "Hofstädter - Leber-Streichwurst",
          "Pommersche Gutsleberwurst grob",
          "Reiter - Mettwurst fein",
          "Wilhelm Brandenburg - Rosmarinschinken, gegart",
          "Feine Wurst Hofmaier Bockwürstchen",
          "Bockwurst",
          "REWE Beste Wahl Pfannengyros",
          "Timmendorfer Traditions Ostsee-Kernschinken",
          "Du darfst - Die Hauchfeine Baguette Salami",
          "HEIDEMETZGER Frühstücksmett - pikant",
          "Meica Trueman´s Hot Dog Würstchen",
          "Dulano Selection Prosciutto Cotto",
          "Aoste Ringsalami luftgetrocknet 250 g",
          "Chili con Carne",
          "Chili con Carne",
          "K Classic Hähnchenbrust In Aspik",
          "Iglo Gastronomie - Rindsgulasch im 1-Portionen-Kochbeutel",
          "Ja! Natürlich Klassischer Leberkäse",
          "Landjunker Rinderhackfleisch",
          "Bio Bio Rinderhackfleisch"
         ],
         "type": "scatter",
         "uid": "b118cefe-9213-4ddb-add5-abab444dc28e",
         "x": [
          945,
          945,
          825,
          770,
          495,
          218,
          189,
          195,
          195,
          443,
          641,
          462,
          302,
          635,
          571,
          573,
          567,
          678,
          518,
          518,
          632,
          635,
          634,
          637,
          655,
          556,
          643,
          655,
          393,
          393,
          678,
          599,
          1400,
          1688,
          1688
         ],
         "y": [
          1.327,
          1.327,
          1.061,
          1.43,
          1.662,
          0.248,
          0.248,
          0.332,
          0.332,
          0.199,
          0.4280000000000001,
          1.44,
          0.332,
          0.57,
          1.5,
          1.11,
          1.52,
          1.33,
          0.423,
          1.5,
          0.6639999999999999,
          0.42,
          5.11,
          0.53,
          0.7,
          2,
          1,
          0.998,
          0.0323,
          0.199,
          0.65,
          1.053,
          2.34,
          0.897,
          0.897
         ]
        },
        {
         "marker": {
          "color": "#F3AC6D"
         },
         "mode": "markers",
         "name": "Beverages",
         "text": [
          "Eau Minérale",
          "100 % Pur Jus Orange",
          "Rooibos nature bio & équitable",
          "Rooibos épices",
          "Nectar ananas mangue passion",
          "Nectar banane goyave acerola",
          "Goyave passion ",
          "Berioo Bio Kakao-Nibs",
          "SUCHARD Kakao Express",
          "milka schhikolade",
          "Granini Trinkgenuss Banane 1 ltr PET",
          "hohes C Milde Orange",
          "Saft - Blutorangen",
          "Innocent Super Smoothie Activate",
          "Edeka Premium Apfel Direktsaft",
          "Villa Sandi Prosecco Frizzante DOC",
          "Mezzacorona Merlot DOC Rotwein  2013 0,75 ltr",
          "Rotkäppchen Sekt trocken 0,75 ltr"
         ],
         "type": "scatter",
         "uid": "aaa2e302-7e44-4cf5-8e77-a079b71fcb25",
         "x": [
          0,
          130,
          607,
          562,
          300,
          94,
          102,
          74,
          41,
          120,
          18,
          65,
          65,
          69,
          80,
          140,
          140,
          146
         ],
         "y": [
          0.026,
          0.159,
          0.197,
          8.55,
          0.418,
          0.418,
          0.53,
          0.738,
          0.34,
          1.77,
          0.179,
          0.1,
          0.17800000000000002,
          0.33799999999999997,
          0.266,
          0.359,
          1.199,
          0.6659999999999999
         ]
        },
        {
         "marker": {
          "color": "#8CB5ED"
         },
         "mode": "markers",
         "name": "Seafood",
         "text": [
          "Truite fumée au bois de hêtre (6 tranches) - 150 g",
          "Truite fumée Capaccio au Poivre de Sichuan",
          "Truite Fumée Pyrénées (4 tranches) - 120 g",
          "Truite Fumée Pyrénées",
          "Truite fumée Pyrénées Offre exceptionnelle",
          "Fürsten Krone Herings Happen",
          "Appel Zarte Sardinen Madeleine Rot 105 g",
          "Rewe Ja! Thunfischfilets In Sonnenblumenöl",
          "Nordsee Flußkrebs Cocktail Apfel & Curry",
          "iglo 15 Käpt'ns Fischstäbchen",
          "Nordsee Krabbensalad",
          "Thunfischfilets in Olivenöl",
          "Iglo - Schlemmerfilet à la Bordelaise Classic",
          "Frosta Schlemmerfilet Bordelaise",
          "Frosta Fischstäbchen",
          "Saupiquet Thunfisch in Tomatensauce"
         ],
         "type": "scatter",
         "uid": "57216f28-e64b-4e11-8cb6-7722d9f107ac",
         "x": [
          900,
          828,
          828,
          2760,
          828,
          152,
          298,
          363,
          211,
          281,
          414,
          411,
          319,
          248,
          367,
          285
         ],
         "y": [
          2.772,
          3.75,
          5.675,
          5.675,
          5.675,
          0.45,
          0.6,
          1.19,
          0.48,
          1.053,
          4,
          2,
          0.398,
          0.502,
          0.502,
          1.69
         ]
        },
        {
         "marker": {
          "color": "#FCE2E4"
         },
         "mode": "markers",
         "name": "Salty snacks",
         "text": [
          "Chips saveur poulet thym",
          "Schwartau Spezialitäten Pflaumenmus 350 g",
          "Langnese Landhonig goldcremig 500 g",
          "Schwartau extra Konfitüre Samt Erdbeere 270 g"
         ],
         "type": "scatter",
         "uid": "2e5d1ea4-02b2-4be2-930b-74c4e356fa70",
         "x": [
          340,
          43,
          129,
          114
         ],
         "y": [
          1.069,
          0.265,
          0.748,
          1.14
         ]
        }
       ],
       "layout": {
        "xaxis": {
         "range": [
          0,
          505.8000000000006
         ],
         "title": "Carbon footprint per 100g [g]"
        },
        "yaxis": {
         "range": [
          0,
          2.49
         ],
         "title": "Price per 100g [€]"
        }
       }
      },
      "text/html": [
       "<div id=\"aca418b0-f221-46fd-96f6-07faa8ddd2ca\" style=\"height: 525px; width: 100%;\" class=\"plotly-graph-div\"></div><script type=\"text/javascript\">require([\"plotly\"], function(Plotly) { window.PLOTLYENV=window.PLOTLYENV || {};window.PLOTLYENV.BASE_URL=\"https://plot.ly\";Plotly.newPlot(\"aca418b0-f221-46fd-96f6-07faa8ddd2ca\", [{\"marker\": {\"color\": \"#90CB70\"}, \"mode\": \"markers\", \"name\": \"Plant-based\", \"text\": [\"Riz long grain Camargue\", \"Pains au lait (x 10) aux p\\u00e9pites de chocolat au lait 350 g\", \"Huile d'olive vierge extra, extraite \\u00e0 froid\", \"Riz & bl\\u00e9 complet Nature\", \"Riz & bl\\u00e9 complet - Fruits rouges\", \"Farine de bl\\u00e9 fluide\", \"Boisson aux fruits plate tropical\", \"Fleur de Colza\", \"Banane coco Alter Eco\", \"K Classic - Junger Gem\\u00fcsemais\", \"ja! Gem\\u00fcsemais\", \"Sera Ajvar\", \"Botato Kartoffel Wedges\", \"Pfanni Kartoffel P\\u00fcree besonders locker 3 x 80 g\", \"Agrarfrost Germany Knusper Frites\", \"Backofen R\\u00f6sti Ecken - aus Qualit\\u00e4tskartoffeln\", \"M-Budget Pommes Frites 3kg\", \"Violife Creamy Cucumber & Dill\", \"Penny - Kartoffelkn\\u00f6del halb & halb\", \"Agrarfrost Mini Kroketten\", \"Burgis Schupfnudeln\", \"Kartoffelsalat\", \"Ja! Kroketten\", \"real,- R\\u00f6sti k\\u00fcchenfertig\", \"Brotaufstrich Paprika-Cashew\", \"Bofrost Schupfnudeln\", \"Aubergine Streichcreme mit feinen Auberginen-St\\u00fccken\", \"Mei Tai Maisk\\u00f6lbchen\", \"Kartoffelpuffer\", \"K\\u00fcstengold R\\u00f6stzwiebeln\", \"Gem\\u00fcse R\\u00f6sti 500g\", \"Edeka S\\u00fc\\u00dfkartoffeln\", \"ALNATURA Brotaufstrich Kichererbse mit Ingwer\", \"ja Kartoffel-Kn\\u00f6del halb und halb\", \"Letscho Premium\", \"Natsu Salat Dinkel-Quinoa Mit Edamame\", \"VITAM Kichererbsen Brotaufstrich, 125g\", \"Delikatess-Krautsalad\", \"Hummus\", \"Migros Kichererbsen\", \"Demeter Campo Verde Brotaufstrich Basilikum-Tomate 110 g\", \"M-Classic Schwarzwurzeln\", \"Gourmet Compagnie Semmelkn\\u00f6del\", \"Bonduelle - Linsen\", \"EDEKA BIO TAFELTRAUBWN\", \"Viana Jungle Energizer\", \"ALNATURA - Junge Erbsen\", \"Coop Betty Bossi Taboul\\u00e9-Salat Oriental\", \"Rapunzel Oliven Kalamata mit Stein in Lake\", \"Alnatura Kichererbsen 350 g\", \"\\u039c\\u0391\\u039d\\u0399 Kalamata Olivenpaste, bio NL Fair, 180g Glas\", \"Pfannengem\\u00fcse - Franz\\u00f6sische Art\", \"K\\u00fchlmann - Bunter Bohnensalat mit Quinoa\", \"Crostini-Dip\", \"Eier Salat\", \"Migros Bio Griechische Oliven Amphisis\", \"Sauerkraut\", \"Schlemmert\\u00f6pfchen - Rote Beete Kugeln\", \"REWE Feine Welt Kalamata Oliven\", \"Feinkost Dittmann - Oliven, gr\\u00fcn ohne Stein\", \"Bio Sonne Bio-Brotaufstrich Tomate-Basilikum\", \"Ibero Spanische gr\\u00fcne Manzanilla Oliven gef\\u00fcllt mit Jalape\\u00f1ocreme\", \"Marmara Schwarze Oliven Mit Stein Devasa\", \"Real,- Bio kaisergem\\u00fcse Blumenkohl, Karotten Und Broccoli\", \"Feinkost Dittmann Spanische gr\\u00fcne Oliven gef\\u00fcllt mit Paprikapaste\", \"Spar Natur pur Bio Broccoli\", \"K-Classic Kartoffelbrei\", \"Bushs Best Kidney Beans\", \"Alnatura 24/7 Bio Gr\\u00fcne Oliven mit Mandeln\", \"Hengstenberg Rote Bete-Salat 330 g\", \"Hainich Sauerkraut\", \"Rapunzel Kapern in Oliven\\u00f6l\", \"EDEKA Steinpilze\", \"Suppengr\\u00fcn\", \"Hengstenberg Rotessa Rotkohl traditionell 550 g\", \"Real Bio Buttergem\\u00fcse\", \"Iglo Buttergem\\u00fcse fein & knackig, 300 g\", \"Coop Naturaplan Bio Zucchetti\", \"EDEKA Chili-Bohnen 425 g\", \"Pfanni Kartoffel P\\u00fcree mit entrahmter Milch komplett 3x 94,5 g\", \"Ostmann - Austernpilze getrocknet\", \"REWE Beste Wahl Austernpilze Aromatisch\", \"M Classic Russischer Salat\", \"Frosta Gem\\u00fcse Pfanne Sommergarten\", \"Rahm Gem\\u00fcse bunte Karotten & Erbsen\", \"Alpenfest Rustikale Kartoffelpfanne\", \"ardo - Blattspinat\", \"BLATTSPINAT\", \"Iglo Rahm-Gem\\u00fcse - Rosenkohl\", \"ButterGem\\u00fcse    Frosta\", \"Mutti Datterini Datteltomaten 400 g\", \"EDEKA Stangenspargel 530 g\", \"EDEKA Italia Gesch\\u00e4lte Tomaten 800 g\", \"Alnatura Bio ganze Tomaten, gesch\\u00e4lt 400 g\", \"Penny Rahm-Spinat Erntefrisch Tiefgefroren\", \"Rewe Beste Wahl Cornichons mit Kr\\u00e4utern\", \"Schwarmstedter Kartoffeltaschen\", \"K Classic Pizza-Tomaten St\\u00fcckig\", \"Feinkost Dittmann Artischockenherzen je la Toscana\", \"Ja! Nat\\u00fcrlich - Mediterrane Pfanne\", \"Via Emilia Antipasto di verdura\", \"Hengstenberg Honiggurken 330 g\", \"Seeberger Tomaten getrocknet\", \"Bio Oraganic Strauchtomaten\", \"K\\u00fchne Rotkohl Original  350 g\", \"Saladinettes Salat Mexicana\", \"Th\\u00fcringer Landgarten Bio Cornichons\", \"Freshona Cornichons\", \"ORO di Parma Tomatenmark 2-fach konzentriert, 70 g\", \"Coop Naturaplan Bio Tomaten Schweiz Freiland\", \"REWE Beste Wahl \\u2013 Peperoni nach griechischer Art\", \"ALNATURA - Brechbohnen\", \"COOP Bio Bohnen fein\", \"Greenyard Snack Gurken\", \"Bio Spitzpaprika Rot Alnatura\", \"FRoSTa Gem\\u00fcse Pfanne Thai\", \"Rewe Beste Wahl Schwarze Bohnen in Chilisauce\", \"M-Classic Borlotti-Bohnen\", \"Meienburg Sonnenblumenkerne\", \"\\u00c7ekirdeko Salzige Sonnenblumenkerne\", \"M\\u00e4rsch Blaumohn\", \"Leinsamen\", \"Chia-Samen\", \"Dm Bio Sesam Ungesch\\u00e4lt\", \"Coop Naturaplan Bio Pinienkerne\", \"ALNATURA Dinkel Drink Natur\", \"Coop Naturaplan Bio Quinoa-Reisgetr\\u00e4nk\", \"Vegafit - Vegane Nuggets\", \"Soto Burger S\\u00fc\\u00dfkartoffel\", \"Taifun Tofu-Grillknacker\", \"Eden - vegetarische Salami\", \"granoVita Vegane Leberwurst\", \"R\\u00fcgenwalder M\\u00fchle - Vegetarischer Schinken Spicker Mortadella\", \"Linsen rot\", \"Viva Vital - Feine gr\\u00fcne Erbsen\", \"Alnatura Beluga Linsen 500g\", \"Rapunzel Weisse Bohnen\", \"Kichererbsen, 500 g Davert\", \"M\\u00fcller\\u00b4s M\\u00fchle Red Kidney Bohnen\", \"Orangeat\", \"Odenwald Apfelmus mit Vanille 720 g\", \"Alnatura Bio Sauerkirschen entsteint 360 g\", \"Jeden Tag - Orangen Navel Late (2 kg)\", \"Frosta Erdbeeren ungezuckert\", \"Beerenmix tiefgefroren\", \"Heidelbeeren Nature's Pride\"], \"x\": [545.0, 325.0, 276.0, 485.0, 560.0, 165.0, 5.0, 150.0, 102.0, 9.0, 17.0, 44.0, 20.0, 12.0, 22.0, 23.0, 25.0, 52.0, 19.0, 34.0, 32.0, 42.0, 38.0, 27.0, 60.0, 48.0, 118.0, 50.0, 30.0, 128.0, 79.0, 68.0, 125.0, 48.0, 78.0, 74.0, 94.0, 56.0, 137.0, 47.0, 96.0, 21.0, 83.0, 55.0, 28.0, 172.0, 54.0, 96.0, 50.0, 78.0, 101.0, 68.0, 75.0, 206.0, 172.0, 53.0, 30.0, 42.0, 55.0, 55.0, 124.0, 57.0, 87.0, 38.0, 95.0, 44.0, 120.0, 82.0, 139.0, 44.0, 40.0, 223.0, 55.0, 45.0, 49.0, 132.0, 103.0, 41.0, 106.0, 121.0, 55.0, 55.0, 54.0, 86.0, 130.0, 133.0, 60.0, 60.0, 108.0, 243.0, 46.0, 50.0, 138.0, 48.0, 112.0, 67.0, 364.0, 161.0, 99.0, 103.0, 223.0, 86.0, 329.0, 347.0, 89.0, 179.0, 76.0, 80.0, 182.0, 74.0, 102.0, 118.0, 118.0, 82.0, 126.0, 198.0, 433.0, 677.0, 92.0, 85.0, 92.0, 92.0, 92.0, 218.0, 248.0, 9.0, 33.0, 83.0, 61.0, 76.0, 75.0, 118.0, 190.0, 102.0, 54.0, 102.0, 84.0, 102.0, 153.0, 47.0, 28.0, 19.0, 24.0, 27.0, 62.0, 138.0], \"y\": [0.418, 0.6890000000000001, 1.067, 0.35, 0.35, 0.01, 0.218, 0.267, 0.425, 0.172, 0.57, 1.15, 0.53, 1.04, 0.239, 0.172, 0.398, 4.07, 0.4, 0.239, 0.198, 0.68, 0.172, 0.172, 0.96, 0.198, 0.92, 0.68, 0.199, 1.8, 0.172, 0.45, 0.54, 0.4, 0.22000000000000008, 0.53, 1.52, 0.53, 0.96, 0.54, 0.318, 0.341, 0.48, 0.64, 0.098, 0.4970000000000001, 0.64, 0.37, 29.84, 0.423, 1.57, 0.172, 0.27, 1.0, 0.4, 29.84, 0.184, 0.53, 1.09, 1.44, 1.52, 0.65, 0.687, 0.252, 1.44, 0.767, 1.26, 0.153, 29.84, 0.36, 0.184, 4.99, 1.376, 0.92, 0.252, 0.33, 0.33, 0.098, 0.223, 1.04, 2.16, 0.42, 0.64, 0.08499999999999999, 2.12, 0.172, 0.252, 0.252, 0.362, 0.33, 0.413, 0.49, 0.25, 0.25, 0.362, 0.53, 0.564, 0.14800000000000002, 1.25, 0.08499999999999999, 4.16, 0.8, 11.09, 0.098, 0.29600000000000004, 0.37, 0.47, 0.268, 0.43, 0.25, 0.42, 0.252, 0.95, 1.81, 1.11, 0.638, 0.42, 0.6990000000000001, 0.276, 0.45, 0.48, 0.413, 1.6, 0.46, 0.098, 0.53, 0.098, 0.8, 0.58, 1.44, 0.997, 0.8, 1.62, 0.35, 0.033, 0.35, 0.5, 0.35, 0.153, 0.39, 0.06999999999999999, 0.348, 0.146, 0.502, 0.32299999999999995, 0.767], \"type\": \"scatter\", \"uid\": \"bd51e466-1fff-4bac-bcb7-a42ae2d455eb\"}, {\"marker\": {\"color\": \"#7979CD\"}, \"mode\": \"markers\", \"name\": \"Other\", \"text\": [\"Cabillaud 100 % Filet, Surgel\\u00e9s (8 pan\\u00e9s)\", \"Lasagnes au saumon, Surgel\\u00e9es\", \"Lasagnes au ch\\u00e8vre et aux \\u00e9pinards\", \"Pommes Dauphines\", \"Pav\\u00e9 de lieu sauce citron riz et julienne de l\\u00e9gumes (2,4 % MG)\", \"Hachis Parmentier\", \"Lasagnes au thon\", \"Sucre Complet Muscovado\", \"Salade De Saumon\", \"Bamboo Garden Asia Kokosmilch fettreduziert\", \"S\\u00fcdzucker \\u2013 Gelierzucker 2+1\", \"Rewe Bio \\u2013 Pfeffer, schwarz, ganz\", \"Kokosmilch\", \"Bananeira Bio Oregano Gerebelt\", \"Ostmann K\\u00fcmmel ganz 35 g\", \"Sate pikante Erdnuss- W\\u00fcrzmischung\", \"Rapunzel Tahin (Sesammus) ohne Salz 250 g\", \"Sesame Oil\", \"Naturkraftwerke Lein\\u00f6l 250 ml\", \"Migros Bio Fairtrade Kurkuma Gemahlen\", \"Biskin Spezial - Pflanzen\\u00f6l mit Buttergeschmack 750 ml\", \"Old El Paso Mexican Potatoes 30 g\", \"Knorr - Primerba All' Italiana\", \"Wan Kwai Thai Curry Paste Gr\\u00fcn\", \"PASCO Tikka Paste\", \"EDEKA Bio Klare Gem\\u00fcsebr\\u00fche-W\\u00fcrfel 6x 11 g\", \"Rewe Bio - Natives Oliven\\u00f6l Extra\", \"Ubena Bruschetta Gew\\u00fcrzzubereitung\", \"Monini - Classico Oliven\\u00f6l Extra Vierge\", \"Bertolli \\u2013 Extra Vergine\", \"Rapunzel Oliven-W\\u00fcrzpaste\", \"Kattus Knoblauch Paste\", \"Zimt Gemahlen\", \"Alnatura Speisest\\u00e4rke -reine Maisst\\u00e4rke-\", \"Delikato Tafel Meerrettich\", \"Schnittlauch\", \"Schnittlauch\", \"tegut...Schnittlauch\", \"Sch\\u00e4tze des Orients Harissa\", \"Tamarinden Paste\", \"Ruf So\\u00dfenfix\", \"Aroma Mix\", \"ALNATURA - Meersalz mit Jod\", \"Mondamin So\\u00dfenbinder hell 250 g\", \"LeChef Fleisch\", \"Spar Majoran Gerebelt\", \"Rewe Bio Petersilie tiefgefroren\", \"Petersilie\", \"Bio Dill Alnatura GmbH\", \"Schnittlauch\", \"Schnittlauch\", \"M Kr\\u00e4utergarten Rosmarin\", \"Spar Rosmarin geschnitten\", \"Alnatura Crema con Aceto Balsamico 250 g\", \"Spar Frischer Thymian\", \"SONNENTOR Thymian 25 g\", \"Chef Men\\u00fc Koriander K\\u00fcchenfrisch\", \"K\\u00fchne - Balsamissimo Feine Balsamico-Creme\", \"Mondo Italiano Aceto Balsamico Di Modena I.G.P\", \"Hengstenberg Altmeister Kr\\u00e4uterw\\u00fcrzessig 0,75 ltr\", \"Bautz'ner - Senf mittelscharf\", \"Thomy - Delikatess-Senf mittelscharf\", \"ja! Delikatess Mayonnaise mit 80% Raps\\u00f6l\", \"Maille Dijonnaise\", \"L\\u00f6wensenf s\\u00fc\\u00df\", \"H\\u00e4ndlmaier's Hausmachersenf - s\\u00fc\\u00df\", \"Miracle Whip\", \"ZWERGENWIESE Curry Ketchup, 500 ml\", \"Heinz \\u2013 Tomato Ketchup\", \"Rewe Ja! Tomaten Ketchup\", \"Werder Bio Tomaten Ketchup\", \"Kraft Tomaten Ketchup gro\\u00df 750 ml\", \"Heinz American Mustard New York Style Mild\", \"Bio Zucker Feinkristall\", \"Dr.Oetker Muffins 370 g\", \"Feine Marzipan Rohmasse\", \"Ruf Blattgelantine Weiss  20 g\", \"Alnatura L\\u00fcbecker Marzipan Rohmasse\", \"Roh-Rohrzucker\", \"S\\u00fcdzucker Weisser Rohrzucker\", \"Rohzucker aus Zuckerrohr\", \"ALB-GOLD Fit 'n' Free Bio Buchweizen Pasta glutenfrei,\", \"Barilla Nudeln Farfalle 500 g\", \"Edeka Bio \\u2013 Spaghetti Vollkorn\", \"Shan\\u00b4 shi - Mie Eiernudeln\", \"Giovanni Rana Kartoffel-Gnocchi\", \"Real,- quality Ravioli mit Spinatf\\u00fcllung\", \"Settele - Gem\\u00fcse-Maultauschen\", \"Knorr Penne mit Broccoli\", \"Alb-Natur Bio-Dinkel-Maultaschen mit Linsen\", \"Monolith Nord GmbH Glasnudeln\", \"Quinoa Pasta -M\\u00fcscheli\", \"Maggi Ravioli in Tomatensosse 800 g\", \"EDEKA Erdnusskerne ger\\u00f6stet & gesalzen 200 g\", \"m\\u00e4rschimport - Mandeln ganz\", \"Mandelmus wei\\u00df (650 g )\", \"Haseln\\u00fcsse gemahlen\", \"Seeberger Cashewkerne ger\\u00f6stet, gesalzen\", \"Alesto - Pistazien\", \"Carat Croutons Pinienkerne\", \"Kikkoman Sushi & Sashimi\", \"A.Best Pesto-Sauce\", \"Sriracha Hot Chilli Sauce\", \"Schwartau Bourbon-Vanille Sauce\", \"EDEKA Bio Tomatenmark 2-fach konzentriert 200 g\", \"McIlhenny TABASCO Brand Pepper Sauce Original 57 ml\", \"Iglo K\\u00e4pt`ns Burger Gem\\u00fcseburger\", \"Mama Brand Moo Nam Tok\", \"Frosta Couscous Oriental\", \"Cr\\u00eaapan Leckere Pfannkuchen Classic\", \"Yum Yum Cup Nudelsuppe mit Vegetable / Gem\\u00fcsegeschmack\", \"PFANNKUCHEN (penny heat & eat)\", \"Mike Mitchell's Sandwich Salami-K\\u00e4se\", \"Original Wagner - Big Pizza Schinken Diavolo\", \"Indian Chicken\", \"Wagner \\u2013 Original Wagner Steinofen \\u201ePIZZA Speciale\\u201c\", \"Mama Mancini - Lasagne Bolognese\", \"Iglo Ger\\u00fchrt & Verf\\u00fchrt Thai H\\u00fchnchen mit Basmati Reis\", \"Dornseifer Chili con carne\", \"Berchtesgadener Land Frische Vanille Milch\", \"Eilles Gourmet Caff\\u00e8 Crema ganze Bohnen, 1kg\", \"Ja! \\u2013Caff\\u00e8 Crema, ganze Bohnen\"], \"x\": [425.0, 430.0, 485.0, 345.0, 590.0, 0.0, 0.0, 136.0, 0.0, 49.0, 35.0, 32.0, 57.0, 75.0, 83.0, 131.0, 218.0, 218.0, 265.0, 68.0, 255.0, 106.0, 144.0, 119.0, 69.0, 97.0, 430.0, 78.0, 442.0, 442.0, 186.0, 115.0, 84.0, 121.0, 99.0, 38.0, 38.0, 38.0, 89.0, 114.0, 131.0, 63.0, 68.0, 171.0, 76.0, 75.0, 83.0, 83.0, 83.0, 65.0, 65.0, 75.0, 75.0, 54.0, 75.0, 75.0, 84.0, 75.0, 97.0, 137.0, 20.0, 28.0, 183.0, 122.0, 71.0, 53.0, 88.0, 125.0, 94.0, 152.0, 145.0, 163.0, 240.0, 34.0, 62.0, 128.0, 257.0, 131.0, 75.0, 75.0, 75.0, 50.0, 52.0, 50.0, 55.0, 18.0, 46.0, 71.0, 142.0, 80.0, 52.0, 111.0, 106.0, 178.0, 214.0, 214.0, 283.0, 267.0, 356.0, 152.0, 48.0, 333.0, 82.0, 237.0, 347.0, 134.0, 65.0, 103.0, 52.0, 104.0, 195.0, 108.0, 125.0, 210.0, 233.0, 381.0, 358.0, 595.0, 475.0, 115.0, 1081.0, 1081.0], \"y\": [2.289, 0.6970000000000001, 0.65, 0.398, 0.532, 1.026, 0.78, 0.358, 1.374, 3.16, 0.258, 5.24, 0.984, 19.94, 1.1, 0.4, 1.38, 0.46, 0.78, 0.7889999999999999, 0.9, 0.382, 1.24, 0.4480000000000001, 2.98, 0.71, 0.6659999999999999, 12.48, 0.998, 0.358, 29.84, 1.0, 4.85, 0.14800000000000002, 1.17, 1.38, 1.38, 1.38, 1.5, 2.98, 0.483, 1.81, 0.19, 0.28, 0.292, 17.94, 1.38, 1.38, 1.38, 1.38, 1.38, 6.38, 6.38, 4.0, 1.25, 9.97, 3.98, 2.45, 0.5, 0.8, 0.25, 0.12, 1.55, 1.08, 0.6, 0.9, 1.84, 0.398, 0.4480000000000001, 11.09, 0.25, 0.34700000000000003, 0.68, 1.14, 0.65, 0.75, 0.85, 2.8, 2.4, 0.5, 0.997, 0.39, 0.078, 0.15, 0.92, 1.32, 0.149, 0.252, 0.239, 0.53, 0.6980000000000001, 0.58, 0.149, 1.1, 1.86, 0.5, 0.4980000000000001, 2.66, 0.43, 1.8, 1.198, 0.52, 2.0, 0.518, 0.43, 4.99, 0.58, 1.3230000000000002, 0.4980000000000001, 0.48, 2.63, 1.98, 0.86, 0.8550000000000001, 0.226, 0.8550000000000001, 0.32299999999999995, 1.053, 0.199, 1.59, 0.7490000000000001, 0.7490000000000001], \"type\": \"scatter\", \"uid\": \"82890e86-637b-49d9-a26c-49cb528cd54f\"}, {\"marker\": {\"color\": \"#EC9BE2\"}, \"mode\": \"markers\", \"name\": \"Sugary snacks\", \"text\": [\"Cookies Tout Chocolat\", \"Chocolat au lait Extra fin\", \"Biscuits Matin Miel et P\\u00e9pites de Chocolat\", \"Noir \\u00e9clats d'amandes\", \"Chocolat Blanc Nougatine Amande\", \"Chocolat Lait classique d\\u00e9gustation Bio Alter Eco\", \"P\\u00e9rou 85%\", \"Noir \\u00e9clats de menthe\", \"Noir Zestes de Citron\", \"Cookies Nougatine\", \"Lait Caramel Beurre sal\\u00e9\", \"Alter eco Noir amandes enti\\u00e8res\", \"Chocolat noir 70%\", \"Noir pointe de piment\", \"Noir \\u00c9clats de Gingembre\", \"Chocolat noir, \\u00e9clats amandes\", \"Alter eco 90% P\\u00e9rou\", \"Noir Fruit de la Passion\", \"Migros Engagement Bio Pumpernickel\", \"Naturkind - Pumpernickel\", \"Lieken Urkorn \\u2013 Kleines Kerni mit Sonnenblumenkernen\", \"Harry - Das volle Korn\", \"enerBio Dinkel-Vollkornbrot\", \"Harry Dinkel Vollkorn\", \"ja! - 6 Baguette-Br\\u00f6tchen\", \"Harry 1688 Unser Mildes\", \"GOLDEN TOAST Meister Br\\u00f6tchen, 400 g\", \"LIEKEN URKORN Bauernmild Brot, 500 g\", \"Grafschalter Megaburger Br\\u00f6tchen Classic\", \"REWE Laugenstangen zum Selbstbacke\", \"Knack & Back  Sonntags-Br\\u00f6tchen\", \"TiP 6 Sonntagsbr\\u00f6tchen zum Fertigbacken\", \"Knack & Back 6 Sonntagsbr\\u00f6tchen \\u2026ofenfrisch\", \"Kornm\\u00fchle 8 Weizenbr\\u00f6tchen zum Fertigbacken\", \"M-Classic Butterzopf gross Frischback\", \"Tiroler Butterzopf\", \"Em-Eukal Wildkirsch Kinder Hustenbonbons 75 g\", \"Mauritius - Schoko & Gelee\", \"EDEKA Gelee-Bananen\", \"Hitschler Bunte Schn\\u00fcre\", \"Ferrero - Mon Ch\\u00e9ri\", \"Katjes Katzenpf\\u00f6tchen 200 g\", \"Griesson Soft Cake Orange\", \"Marzipan Kartoffeln\", \"Niederegger L\\u00fcbeck Marzipan Schwarzbrot\", \"EDEKA Cookie dark chocolate & hazelnut 200 g\", \"Lindt Edel-Marzipan\", \"Alnatura Dinkel-Doppelkeks Zartbitter\", \"Snickers\", \"Katjes - Yoghurt-Gums\", \"Mars - Schokoriegel\", \"Frey Truffes Lait\", \"Leibniz Choco Vollmilch Kekse 125 g\", \"Milka Choco Bonbon Caramel\", \"Ferrero Kinder Bueno\", \"Wrigleys Extra Professional Mints Waldfrucht 77 g\", \"Alnatura Ahornsirup Grad C\", \"YO Holunderbl\\u00fcte Bl\\u00fctensirup 0,7 ltr\", \"Alnatura Dattelsirup\", \"Dr. Oetker - Grie\\u00dfbrei nach klassischer Art\", \"Bio Vita Milchreis Bourbon-Vanille\", \"Mondamin Lieblings-Milchreis Klassische Art\", \"Eskimo - Konfekt Vanille mit Schoko\\u00fcberzug\", \"K-Classic Chocolate Brownie Ice Cream\", \"Ben & Jerry's - Cookie Dough Ice Cream\", \"m\\u00fcller - Milchreis Zimt\", \"Alnatura Schoko Eiscreme\", \"Landliebe Grie\\u00df Pudding Vanille\", \"Kissyo Bio Frozen Yoghurt Natur\", \"Frozen Yo Nature 450ml\"], \"x\": [305.0, 655.0, 250.0, 153.0, 251.0, 160.0, 178.0, 153.0, 177.0, 160.0, 150.0, 122.0, 237.0, 219.0, 205.0, 153.0, 197.0, 214.0, 22.0, 22.0, 30.0, 27.0, 20.0, 39.0, 43.0, 40.0, 45.0, 42.0, 51.0, 47.0, 67.0, 73.0, 76.0, 14.0, 188.0, 165.0, 34.0, 39.0, 43.0, 46.0, 63.0, 59.0, 77.0, 134.0, 158.0, 167.0, 173.0, 170.0, 235.0, 138.0, 241.0, 361.0, 361.0, 314.0, 467.0, 133.0, 34.0, 55.0, 95.0, 64.0, 104.0, 97.0, 219.0, 289.0, 230.0, 129.0, 319.0, 210.0, 186.0, 206.0], \"y\": [2.025, 0.82, 1.252, 2.45, 2.28, 2.78, 2.49, 2.8, 2.86, 0.39, 0.398, 2.78, 2.75, 2.44, 2.8, 0.99, 2.49, 3.01, 0.098, 0.6920000000000001, 1.524, 0.318, 0.53, 0.53, 0.13, 0.1, 0.381, 1.524, 0.13, 0.158, 1.3, 0.298, 1.3, 0.184, 0.13, 1.66, 1.54, 3.12, 0.32, 0.27, 2.72, 0.45, 0.75, 0.64, 2.8, 2.22, 2.6, 0.53, 0.987, 0.45, 0.923, 0.5, 0.9, 2.32, 1.535, 0.22000000000000008, 1.98, 0.399, 1.98, 0.56, 0.5579999999999999, 6.66, 0.5780000000000001, 0.366, 3.78, 0.15, 0.8880000000000001, 0.5309999999999999, 0.7979999999999999, 0.399], \"type\": \"scatter\", \"uid\": \"3a08dbd3-80cb-4513-9f31-4a1ff9728f25\"}, {\"marker\": {\"color\": \"#F0F472\"}, \"mode\": \"markers\", \"name\": \"Carbs\", \"text\": [\"Coquillettes au Bl\\u00e9 Complet\", \"Cheveux d'Ange (Al dente 3 min.)\", \"Coquillettes\", \"Farfalle\", \"Coquillettes (Al dente 9 min.)\", \"Coquillettes au bl\\u00e9 int\\u00e9gral Bio\", \"Kelloggs Cornflakes Die Originalen 375 g\", \"Honey  Wheat - Weizenkost Mit Honig\", \"Manner Knusper M\\u00fcsli\", \"Seitenbacher Vollkorn-Fr\\u00fcchtem\\u00fcsli\", \"Crunchy Granola Bites Haselnuss\", \"K Classic flakes&dark Chocolate\", \"K\\u00f6lln M\\u00fcsli Knusper Kokos '30% weniger Fett'\", \"Dr. Oetker Vitalis Fr\\u00fcchtem\\u00fcsli\", \"EDEKA Knusper M\\u00fcsli Triple Choc\", \"Verival Bio Honig Crunchy\", \"Dr. Sch\\u00e4r M\\u00fcsli Fruit glutenfrei 375 g\", \"Crownfield - Nougat Kissen / Nougat Bits - 750 g\", \"Nestle Cini Minis Zimt 375 g\", \"Tortilla Chips Meersalz\", \"Chio Mikrowellen Popcorn salzig\", \"S\\u00fcsskartoffelchips mit Rosmarin\", \"Lorenz Naturals mit Rosmarin\", \"Lay's Sticks Bacon\", \"Tortilla Chips - Hot Chili\", \"ja! - Stapelchips Paprika\", \"Grissini al rosmarino\", \"Maisw\\u00fcrmer K\\u00e4se\", \"Pom-B\\u00e4r Original\", \"Lorenz Knabbergeb\\u00e4ck Party Clubs 200 g\", \"Uncle Cracker NatSnacks Mit Pfeffer und Oliven\\u00f6l\", \"Mano Masa\", \"Crusti Croc Mini Brotchips Mit Sauerrahm- und Zwiebel-Geschmack\", \"Popcorn Leicht Meersalz Gesalzen20g\", \"K\\u00f6lln Echte Kernige Haferflocken 500 g\", \"Dinkelpoffies\", \"Quinoa bio\", \"Bio Amaranth\", \"Rapunzel - Polenta-Maisgrie\\u00df\", \"Couscous\", \"Couscous\", \"Rewe Couscous Salat\", \"Reismehl\", \"Basic Langkornreis wei\\u00df\", \"Uncle Ben's Express Basmati Reis\", \"dmBio Bulgur\", \"Matiss Bulgursalat Pikant\", \"Maisgrie\\u00df Polenta, 500 g Davert\", \"tegut... Wildreis\", \"Vollreis Natura\", \"Jasmin Reis\", \"ja! Milchreis\", \"la riseria Riso Ticinese 1kg\", \"Landkorn Naturreis\"], \"x\": [4.4, 202.36, 200.75, 209.85, 198.9, 182.85, 29.0, 54.0, 86.0, 85.0, 111.0, 94.0, 107.0, 85.0, 126.0, 126.0, 121.0, 162.0, 98.0, 55.0, 97.0, 73.0, 70.0, 76.0, 95.0, 102.0, 98.0, 144.0, 108.0, 112.0, 105.0, 130.0, 171.0, 97.0, 79.0, 51.0, 79.0, 69.0, 50.0, 50.0, 50.0, 43.0, 122.0, 122.0, 124.0, 121.0, 84.0, 58.0, 258.0, 258.0, 258.0, 258.0, 258.0, 258.0], \"y\": [0.08900000000000001, 0.289, 0.08900000000000001, 0.13, 0.135, 0.218, 0.6639999999999999, 0.332, 0.93, 0.858, 3.98, 0.266, 1.55, 0.466, 1.3730000000000002, 1.3199999999999998, 1.97, 0.266, 0.2, 0.29700000000000004, 1.66, 6.38, 0.747, 0.74, 2.0, 0.68, 1.53, 0.9640000000000001, 1.6, 4.47, 0.79, 2.28, 0.55, 0.56, 0.098, 1.0, 0.7889999999999999, 1.16, 0.23, 0.0198, 0.4980000000000001, 0.4980000000000001, 0.398, 0.298, 0.5980000000000001, 0.72, 0.7, 0.23, 0.378, 0.77, 0.398, 0.15, 1.05, 0.238], \"type\": \"scatter\", \"uid\": \"1ccfef8c-5b64-4756-976b-18f1f8928885\"}, {\"marker\": {\"color\": \"#D6D0C3\"}, \"mode\": \"markers\", \"name\": \"Dairies\", \"text\": [\"Lait \\u00c9cr\\u00e9m\\u00e9\", \"Val d'Automne (28 % MG)\", \"Miel liquide fleurs d'oranger d'Espagne\", \"Emmental Fran\\u00e7ais R\\u00e2p\\u00e9 (29 % MG)\", \"Emmental Fran\\u00e7ais R\\u00e2p\\u00e9 (29 % MG)\", \"Emmental Fran\\u00e7ais R\\u00e2p\\u00e9 (29 % MG)\", \"Emmental Fran\\u00e7ais R\\u00e2p\\u00e9 (29 % MG)\", \"Lait des Plaines du Nord de la France\", \"P\\u00e2te \\u00e0 tartiner\", \"Yaourts aux fruits mix\\u00e9s\", \"Vegan Leben - Vegane Scheiben W\\u00fcrzig\", \"Wilmersbuger St\\u00fcck Classic\", \"Patros in \\u00d6l\", \"Frischgold K\\u00f6rniger Frischk\\u00e4se, 200 g\", \"tegut... Back-Camembert\", \"Bio Bauern Handk\\u00e4se\", \"Mozzarella Sticks\", \"Bio Emmentaler mittelreif 250g\", \"Bio B\\u00fcndner Bergk\\u00e4se ca. 250g\", \"M-Budget Cottage Cheese\", \"ROUGETTE Ofenk\\u00e4se\", \"Bavaria blu - Der W\\u00fcrzige\", \"Brie Schweizer Weichk\\u00e4se, vollfett, pasteurisiert Bio\", \"Appenzeller Schweizer Halbhartk\\u00e4se, vollfett, aus Rohmilch\", \"Alpenhain - Back-Camembert mit Wildpreiselbeeren\", \"Penny Sahne Schmelzk\\u00e4sezubereitung\", \"Andechser Natur Trink-Molke Mango-Apfel\", \"S\\u00f6bbeke Pauls Biomolkerei Bio Erdbeere Joghurt Mild\", \"Ehrmann Fr\\u00fcchteTraum Kirsche 115 g\", \"BioBio - Saure Sahne\", \"Danone Fruchtzwerge weniger s\\u00fc\\u00df 6x50g\", \"Andechser Natur - Bio Lassi Chai\", \"Milram Buttermilchdrink Ipanema\", \"Alnatura - Fruchtbuttermilch Orange-Maracuja\", \"Landliebe Landmilch Schoko, 350 g\", \"Bio Organic S\\u00fc\\u00dfrahmbutter\", \"ja! H-Schlagsahne\", \"Berchtesgadener Land \\u2013 Haltbare Bergbauern Milch\", \"Bifidus - Joghurt Mango\", \"Danone -  Actimel Erdbeer-Banane\", \"Ziegenmilch Bio haltbar mindestens 3,0 % Fett Andechser Natur\", \"K-Classic Schlagsahne\", \"Alnatura Kr\\u00e4uterquark\", \"Berchtesgadener Land Bio-Topfen\", \"Elinas - Joghurt nach griechischer Art Natur\", \"Schw\\u00e4lbchen - Speisequark Magerstufe\", \"BioBio - Lassi Mango\", \"Andechser Natur Bio Mango-Vanille\", \"MARK BRANDENBURG - Joghurt mild \\u201eMandarine\\u201d\", \"K Classic Kondensmilch W\\u00e4rmebehandelt\", \"tegut... frische Vollmilch 3,7% Fett\", \"Berchtesgadener Buttermilch - Buttermilch\"], \"x\": [175.0, 1065.0, 120.0, 1113.0547, 1113.0547, 1127.0, 1127.0, 0.0, 149.0, 0.0, 61.0, 72.0, 530.0, 225.0, 480.0, 139.0, 499.0, 957.0, 943.0, 171.0, 188.0, 188.0, 188.0, 195.0, 185.0, 645.0, 28.0, 83.0, 195.0, 344.0, 214.0, 177.0, 99.0, 107.0, 163.0, 1217.0, 525.0, 143.0, 151.0, 174.0, 142.0, 516.0, 388.0, 420.0, 270.0, 427.0, 175.0, 193.0, 196.0, 187.0, 188.0, 125.0], \"y\": [0.129, 0.532, 1.218, 1.19, 1.19, 1.19, 1.19, 0.08800000000000001, 1.018, 0.365, 0.8, 0.478, 0.997, 0.5, 0.5690000000000001, 1.36, 0.76, 0.72, 5.38, 0.55, 1.341, 1.37, 1.5, 1.5, 1.5, 0.75, 0.6, 0.373, 0.199, 0.28, 0.75, 0.6, 1.6, 0.13799999999999998, 0.655, 0.63, 0.5, 1.33, 0.22, 0.315, 1.55, 0.33, 0.28, 1.59, 0.373, 0.28, 0.6, 0.33, 0.1, 0.14800000000000002, 1.55, 0.13799999999999998], \"type\": \"scatter\", \"uid\": \"c433aab6-dafd-442d-b9ef-c6a06a40b11d\"}, {\"marker\": {\"color\": \"#B69C63\"}, \"mode\": \"markers\", \"name\": \"Meats\", \"text\": [\"Lardons Nature (2 barquettes)\", \"Lardons Fum\\u00e9s (2 barquettes)\", \"Saucisses de Francfort\", \"B\\u0153uf Bourguignon et ses Tagliatelles\", \"Aiguillettes de poulet, sauce normande et son riz\", \"Nadler Delikatess Fleischsalat mit Salatcreme\", \"Ja! - Delikatess Fleischsalat\", \"H\\u00fchnerfrikassee\", \"Mein Men\\u00fc H\\u00fchnerfrikassee mit Gem\\u00fcseeinlage\", \"Ja! Frikadellen\", \"iska \\u201eUngarische Salami\\u201c\", \"Migros Fleischk\\u00e4se\", \"Ja! K\\u00f6nigsberger Klopse\", \"TIP - Leberwurst fein\", \"Fein Wurst Hofmaier Frikadellen-B\\u00e4llchen\", \"Hofst\\u00e4dter - Leber-Streichwurst\", \"Pommersche Gutsleberwurst grob\", \"Reiter - Mettwurst fein\", \"Wilhelm Brandenburg - Rosmarinschinken, gegart\", \"Feine Wurst Hofmaier Bockw\\u00fcrstchen\", \"Bockwurst\", \"REWE Beste Wahl Pfannengyros\", \"Timmendorfer Traditions Ostsee-Kernschinken\", \"Du darfst - Die Hauchfeine Baguette Salami\", \"HEIDEMETZGER Fr\\u00fchst\\u00fccksmett - pikant\", \"Meica Trueman\\u00b4s Hot Dog W\\u00fcrstchen\", \"Dulano Selection Prosciutto Cotto\", \"Aoste Ringsalami luftgetrocknet 250 g\", \"Chili con Carne\", \"Chili con Carne\", \"K Classic H\\u00e4hnchenbrust In Aspik\", \"Iglo Gastronomie - Rindsgulasch im 1-Portionen-Kochbeutel\", \"Ja! Nat\\u00fcrlich Klassischer Leberk\\u00e4se\", \"Landjunker Rinderhackfleisch\", \"Bio Bio Rinderhackfleisch\"], \"x\": [945.0, 945.0, 825.0, 770.0, 495.0, 218.0, 189.0, 195.0, 195.0, 443.0, 641.0, 462.0, 302.0, 635.0, 571.0, 573.0, 567.0, 678.0, 518.0, 518.0, 632.0, 635.0, 634.0, 637.0, 655.0, 556.0, 643.0, 655.0, 393.0, 393.0, 678.0, 599.0, 1400.0, 1688.0, 1688.0], \"y\": [1.327, 1.327, 1.061, 1.43, 1.662, 0.248, 0.248, 0.332, 0.332, 0.199, 0.4280000000000001, 1.44, 0.332, 0.57, 1.5, 1.11, 1.52, 1.33, 0.423, 1.5, 0.6639999999999999, 0.42, 5.11, 0.53, 0.7, 2.0, 1.0, 0.998, 0.0323, 0.199, 0.65, 1.053, 2.34, 0.897, 0.897], \"type\": \"scatter\", \"uid\": \"59be4ff1-6368-4cc2-a625-05443c42c696\"}, {\"marker\": {\"color\": \"#F3AC6D\"}, \"mode\": \"markers\", \"name\": \"Beverages\", \"text\": [\"Eau Min\\u00e9rale\", \"100 % Pur Jus Orange\", \"Rooibos nature bio & \\u00e9quitable\", \"Rooibos \\u00e9pices\", \"Nectar ananas mangue passion\", \"Nectar banane goyave acerola\", \"Goyave passion \", \"Berioo Bio Kakao-Nibs\", \"SUCHARD Kakao Express\", \"milka schhikolade\", \"Granini Trinkgenuss Banane 1 ltr PET\", \"hohes C Milde Orange\", \"Saft - Blutorangen\", \"Innocent Super Smoothie Activate\", \"Edeka Premium Apfel Direktsaft\", \"Villa Sandi Prosecco Frizzante DOC\", \"Mezzacorona Merlot DOC Rotwein  2013 0,75 ltr\", \"Rotk\\u00e4ppchen Sekt trocken 0,75 ltr\"], \"x\": [0.0, 130.0, 607.0, 562.0, 300.0, 94.0, 102.0, 74.0, 41.0, 120.0, 18.0, 65.0, 65.0, 69.0, 80.0, 140.0, 140.0, 146.0], \"y\": [0.026, 0.159, 0.197, 8.55, 0.418, 0.418, 0.53, 0.738, 0.34, 1.77, 0.179, 0.1, 0.17800000000000002, 0.33799999999999997, 0.266, 0.359, 1.199, 0.6659999999999999], \"type\": \"scatter\", \"uid\": \"d4aa4d2e-1894-48f3-8969-d7baaee22196\"}, {\"marker\": {\"color\": \"#8CB5ED\"}, \"mode\": \"markers\", \"name\": \"Seafood\", \"text\": [\"Truite fum\\u00e9e au bois de h\\u00eatre (6 tranches) - 150 g\", \"Truite fum\\u00e9e Capaccio au Poivre de Sichuan\", \"Truite Fum\\u00e9e Pyr\\u00e9n\\u00e9es (4 tranches) - 120 g\", \"Truite Fum\\u00e9e Pyr\\u00e9n\\u00e9es\", \"Truite fum\\u00e9e Pyr\\u00e9n\\u00e9es Offre exceptionnelle\", \"F\\u00fcrsten Krone Herings Happen\", \"Appel Zarte Sardinen Madeleine Rot 105 g\", \"Rewe Ja! Thunfischfilets In Sonnenblumen\\u00f6l\", \"Nordsee Flu\\u00dfkrebs Cocktail Apfel & Curry\", \"iglo 15 K\\u00e4pt'ns Fischst\\u00e4bchen\", \"Nordsee Krabbensalad\", \"Thunfischfilets in Oliven\\u00f6l\", \"Iglo - Schlemmerfilet \\u00e0 la Bordelaise Classic\", \"Frosta Schlemmerfilet Bordelaise\", \"Frosta Fischst\\u00e4bchen\", \"Saupiquet Thunfisch in Tomatensauce\"], \"x\": [900.0, 828.0, 828.0, 2760.0, 828.0, 152.0, 298.0, 363.0, 211.0, 281.0, 414.0, 411.0, 319.0, 248.0, 367.0, 285.0], \"y\": [2.772, 3.75, 5.675, 5.675, 5.675, 0.45, 0.6, 1.19, 0.48, 1.053, 4.0, 2.0, 0.398, 0.502, 0.502, 1.69], \"type\": \"scatter\", \"uid\": \"0c87c2bc-4877-4c69-a964-cb787a45328d\"}, {\"marker\": {\"color\": \"#FCE2E4\"}, \"mode\": \"markers\", \"name\": \"Salty snacks\", \"text\": [\"Chips saveur poulet thym\", \"Schwartau Spezialit\\u00e4ten Pflaumenmus 350 g\", \"Langnese Landhonig goldcremig 500 g\", \"Schwartau extra Konfit\\u00fcre Samt Erdbeere 270 g\"], \"x\": [340.0, 43.0, 129.0, 114.0], \"y\": [1.069, 0.265, 0.748, 1.14], \"type\": \"scatter\", \"uid\": \"e1aabd40-4508-4f2e-81d2-dd9c22a941a9\"}], {\"xaxis\": {\"range\": [0.0, 505.8000000000006], \"title\": \"Carbon footprint per 100g [g]\"}, \"yaxis\": {\"range\": [0, 2.49], \"title\": \"Price per 100g [\\u20ac]\"}}, {\"showLink\": true, \"linkText\": \"Export to plot.ly\"})});</script><script type=\"text/javascript\">window.addEventListener(\"resize\", function(){window._Plotly.Plots.resize(document.getElementById(\"aca418b0-f221-46fd-96f6-07faa8ddd2ca\"));});</script>"
      ],
      "text/vnd.plotly.v1+html": [
       "<div id=\"aca418b0-f221-46fd-96f6-07faa8ddd2ca\" style=\"height: 525px; width: 100%;\" class=\"plotly-graph-div\"></div><script type=\"text/javascript\">require([\"plotly\"], function(Plotly) { window.PLOTLYENV=window.PLOTLYENV || {};window.PLOTLYENV.BASE_URL=\"https://plot.ly\";Plotly.newPlot(\"aca418b0-f221-46fd-96f6-07faa8ddd2ca\", [{\"marker\": {\"color\": \"#90CB70\"}, \"mode\": \"markers\", \"name\": \"Plant-based\", \"text\": [\"Riz long grain Camargue\", \"Pains au lait (x 10) aux p\\u00e9pites de chocolat au lait 350 g\", \"Huile d'olive vierge extra, extraite \\u00e0 froid\", \"Riz & bl\\u00e9 complet Nature\", \"Riz & bl\\u00e9 complet - Fruits rouges\", \"Farine de bl\\u00e9 fluide\", \"Boisson aux fruits plate tropical\", \"Fleur de Colza\", \"Banane coco Alter Eco\", \"K Classic - Junger Gem\\u00fcsemais\", \"ja! Gem\\u00fcsemais\", \"Sera Ajvar\", \"Botato Kartoffel Wedges\", \"Pfanni Kartoffel P\\u00fcree besonders locker 3 x 80 g\", \"Agrarfrost Germany Knusper Frites\", \"Backofen R\\u00f6sti Ecken - aus Qualit\\u00e4tskartoffeln\", \"M-Budget Pommes Frites 3kg\", \"Violife Creamy Cucumber & Dill\", \"Penny - Kartoffelkn\\u00f6del halb & halb\", \"Agrarfrost Mini Kroketten\", \"Burgis Schupfnudeln\", \"Kartoffelsalat\", \"Ja! Kroketten\", \"real,- R\\u00f6sti k\\u00fcchenfertig\", \"Brotaufstrich Paprika-Cashew\", \"Bofrost Schupfnudeln\", \"Aubergine Streichcreme mit feinen Auberginen-St\\u00fccken\", \"Mei Tai Maisk\\u00f6lbchen\", \"Kartoffelpuffer\", \"K\\u00fcstengold R\\u00f6stzwiebeln\", \"Gem\\u00fcse R\\u00f6sti 500g\", \"Edeka S\\u00fc\\u00dfkartoffeln\", \"ALNATURA Brotaufstrich Kichererbse mit Ingwer\", \"ja Kartoffel-Kn\\u00f6del halb und halb\", \"Letscho Premium\", \"Natsu Salat Dinkel-Quinoa Mit Edamame\", \"VITAM Kichererbsen Brotaufstrich, 125g\", \"Delikatess-Krautsalad\", \"Hummus\", \"Migros Kichererbsen\", \"Demeter Campo Verde Brotaufstrich Basilikum-Tomate 110 g\", \"M-Classic Schwarzwurzeln\", \"Gourmet Compagnie Semmelkn\\u00f6del\", \"Bonduelle - Linsen\", \"EDEKA BIO TAFELTRAUBWN\", \"Viana Jungle Energizer\", \"ALNATURA - Junge Erbsen\", \"Coop Betty Bossi Taboul\\u00e9-Salat Oriental\", \"Rapunzel Oliven Kalamata mit Stein in Lake\", \"Alnatura Kichererbsen 350 g\", \"\\u039c\\u0391\\u039d\\u0399 Kalamata Olivenpaste, bio NL Fair, 180g Glas\", \"Pfannengem\\u00fcse - Franz\\u00f6sische Art\", \"K\\u00fchlmann - Bunter Bohnensalat mit Quinoa\", \"Crostini-Dip\", \"Eier Salat\", \"Migros Bio Griechische Oliven Amphisis\", \"Sauerkraut\", \"Schlemmert\\u00f6pfchen - Rote Beete Kugeln\", \"REWE Feine Welt Kalamata Oliven\", \"Feinkost Dittmann - Oliven, gr\\u00fcn ohne Stein\", \"Bio Sonne Bio-Brotaufstrich Tomate-Basilikum\", \"Ibero Spanische gr\\u00fcne Manzanilla Oliven gef\\u00fcllt mit Jalape\\u00f1ocreme\", \"Marmara Schwarze Oliven Mit Stein Devasa\", \"Real,- Bio kaisergem\\u00fcse Blumenkohl, Karotten Und Broccoli\", \"Feinkost Dittmann Spanische gr\\u00fcne Oliven gef\\u00fcllt mit Paprikapaste\", \"Spar Natur pur Bio Broccoli\", \"K-Classic Kartoffelbrei\", \"Bushs Best Kidney Beans\", \"Alnatura 24/7 Bio Gr\\u00fcne Oliven mit Mandeln\", \"Hengstenberg Rote Bete-Salat 330 g\", \"Hainich Sauerkraut\", \"Rapunzel Kapern in Oliven\\u00f6l\", \"EDEKA Steinpilze\", \"Suppengr\\u00fcn\", \"Hengstenberg Rotessa Rotkohl traditionell 550 g\", \"Real Bio Buttergem\\u00fcse\", \"Iglo Buttergem\\u00fcse fein & knackig, 300 g\", \"Coop Naturaplan Bio Zucchetti\", \"EDEKA Chili-Bohnen 425 g\", \"Pfanni Kartoffel P\\u00fcree mit entrahmter Milch komplett 3x 94,5 g\", \"Ostmann - Austernpilze getrocknet\", \"REWE Beste Wahl Austernpilze Aromatisch\", \"M Classic Russischer Salat\", \"Frosta Gem\\u00fcse Pfanne Sommergarten\", \"Rahm Gem\\u00fcse bunte Karotten & Erbsen\", \"Alpenfest Rustikale Kartoffelpfanne\", \"ardo - Blattspinat\", \"BLATTSPINAT\", \"Iglo Rahm-Gem\\u00fcse - Rosenkohl\", \"ButterGem\\u00fcse    Frosta\", \"Mutti Datterini Datteltomaten 400 g\", \"EDEKA Stangenspargel 530 g\", \"EDEKA Italia Gesch\\u00e4lte Tomaten 800 g\", \"Alnatura Bio ganze Tomaten, gesch\\u00e4lt 400 g\", \"Penny Rahm-Spinat Erntefrisch Tiefgefroren\", \"Rewe Beste Wahl Cornichons mit Kr\\u00e4utern\", \"Schwarmstedter Kartoffeltaschen\", \"K Classic Pizza-Tomaten St\\u00fcckig\", \"Feinkost Dittmann Artischockenherzen je la Toscana\", \"Ja! Nat\\u00fcrlich - Mediterrane Pfanne\", \"Via Emilia Antipasto di verdura\", \"Hengstenberg Honiggurken 330 g\", \"Seeberger Tomaten getrocknet\", \"Bio Oraganic Strauchtomaten\", \"K\\u00fchne Rotkohl Original  350 g\", \"Saladinettes Salat Mexicana\", \"Th\\u00fcringer Landgarten Bio Cornichons\", \"Freshona Cornichons\", \"ORO di Parma Tomatenmark 2-fach konzentriert, 70 g\", \"Coop Naturaplan Bio Tomaten Schweiz Freiland\", \"REWE Beste Wahl \\u2013 Peperoni nach griechischer Art\", \"ALNATURA - Brechbohnen\", \"COOP Bio Bohnen fein\", \"Greenyard Snack Gurken\", \"Bio Spitzpaprika Rot Alnatura\", \"FRoSTa Gem\\u00fcse Pfanne Thai\", \"Rewe Beste Wahl Schwarze Bohnen in Chilisauce\", \"M-Classic Borlotti-Bohnen\", \"Meienburg Sonnenblumenkerne\", \"\\u00c7ekirdeko Salzige Sonnenblumenkerne\", \"M\\u00e4rsch Blaumohn\", \"Leinsamen\", \"Chia-Samen\", \"Dm Bio Sesam Ungesch\\u00e4lt\", \"Coop Naturaplan Bio Pinienkerne\", \"ALNATURA Dinkel Drink Natur\", \"Coop Naturaplan Bio Quinoa-Reisgetr\\u00e4nk\", \"Vegafit - Vegane Nuggets\", \"Soto Burger S\\u00fc\\u00dfkartoffel\", \"Taifun Tofu-Grillknacker\", \"Eden - vegetarische Salami\", \"granoVita Vegane Leberwurst\", \"R\\u00fcgenwalder M\\u00fchle - Vegetarischer Schinken Spicker Mortadella\", \"Linsen rot\", \"Viva Vital - Feine gr\\u00fcne Erbsen\", \"Alnatura Beluga Linsen 500g\", \"Rapunzel Weisse Bohnen\", \"Kichererbsen, 500 g Davert\", \"M\\u00fcller\\u00b4s M\\u00fchle Red Kidney Bohnen\", \"Orangeat\", \"Odenwald Apfelmus mit Vanille 720 g\", \"Alnatura Bio Sauerkirschen entsteint 360 g\", \"Jeden Tag - Orangen Navel Late (2 kg)\", \"Frosta Erdbeeren ungezuckert\", \"Beerenmix tiefgefroren\", \"Heidelbeeren Nature's Pride\"], \"x\": [545.0, 325.0, 276.0, 485.0, 560.0, 165.0, 5.0, 150.0, 102.0, 9.0, 17.0, 44.0, 20.0, 12.0, 22.0, 23.0, 25.0, 52.0, 19.0, 34.0, 32.0, 42.0, 38.0, 27.0, 60.0, 48.0, 118.0, 50.0, 30.0, 128.0, 79.0, 68.0, 125.0, 48.0, 78.0, 74.0, 94.0, 56.0, 137.0, 47.0, 96.0, 21.0, 83.0, 55.0, 28.0, 172.0, 54.0, 96.0, 50.0, 78.0, 101.0, 68.0, 75.0, 206.0, 172.0, 53.0, 30.0, 42.0, 55.0, 55.0, 124.0, 57.0, 87.0, 38.0, 95.0, 44.0, 120.0, 82.0, 139.0, 44.0, 40.0, 223.0, 55.0, 45.0, 49.0, 132.0, 103.0, 41.0, 106.0, 121.0, 55.0, 55.0, 54.0, 86.0, 130.0, 133.0, 60.0, 60.0, 108.0, 243.0, 46.0, 50.0, 138.0, 48.0, 112.0, 67.0, 364.0, 161.0, 99.0, 103.0, 223.0, 86.0, 329.0, 347.0, 89.0, 179.0, 76.0, 80.0, 182.0, 74.0, 102.0, 118.0, 118.0, 82.0, 126.0, 198.0, 433.0, 677.0, 92.0, 85.0, 92.0, 92.0, 92.0, 218.0, 248.0, 9.0, 33.0, 83.0, 61.0, 76.0, 75.0, 118.0, 190.0, 102.0, 54.0, 102.0, 84.0, 102.0, 153.0, 47.0, 28.0, 19.0, 24.0, 27.0, 62.0, 138.0], \"y\": [0.418, 0.6890000000000001, 1.067, 0.35, 0.35, 0.01, 0.218, 0.267, 0.425, 0.172, 0.57, 1.15, 0.53, 1.04, 0.239, 0.172, 0.398, 4.07, 0.4, 0.239, 0.198, 0.68, 0.172, 0.172, 0.96, 0.198, 0.92, 0.68, 0.199, 1.8, 0.172, 0.45, 0.54, 0.4, 0.22000000000000008, 0.53, 1.52, 0.53, 0.96, 0.54, 0.318, 0.341, 0.48, 0.64, 0.098, 0.4970000000000001, 0.64, 0.37, 29.84, 0.423, 1.57, 0.172, 0.27, 1.0, 0.4, 29.84, 0.184, 0.53, 1.09, 1.44, 1.52, 0.65, 0.687, 0.252, 1.44, 0.767, 1.26, 0.153, 29.84, 0.36, 0.184, 4.99, 1.376, 0.92, 0.252, 0.33, 0.33, 0.098, 0.223, 1.04, 2.16, 0.42, 0.64, 0.08499999999999999, 2.12, 0.172, 0.252, 0.252, 0.362, 0.33, 0.413, 0.49, 0.25, 0.25, 0.362, 0.53, 0.564, 0.14800000000000002, 1.25, 0.08499999999999999, 4.16, 0.8, 11.09, 0.098, 0.29600000000000004, 0.37, 0.47, 0.268, 0.43, 0.25, 0.42, 0.252, 0.95, 1.81, 1.11, 0.638, 0.42, 0.6990000000000001, 0.276, 0.45, 0.48, 0.413, 1.6, 0.46, 0.098, 0.53, 0.098, 0.8, 0.58, 1.44, 0.997, 0.8, 1.62, 0.35, 0.033, 0.35, 0.5, 0.35, 0.153, 0.39, 0.06999999999999999, 0.348, 0.146, 0.502, 0.32299999999999995, 0.767], \"type\": \"scatter\", \"uid\": \"bd51e466-1fff-4bac-bcb7-a42ae2d455eb\"}, {\"marker\": {\"color\": \"#7979CD\"}, \"mode\": \"markers\", \"name\": \"Other\", \"text\": [\"Cabillaud 100 % Filet, Surgel\\u00e9s (8 pan\\u00e9s)\", \"Lasagnes au saumon, Surgel\\u00e9es\", \"Lasagnes au ch\\u00e8vre et aux \\u00e9pinards\", \"Pommes Dauphines\", \"Pav\\u00e9 de lieu sauce citron riz et julienne de l\\u00e9gumes (2,4 % MG)\", \"Hachis Parmentier\", \"Lasagnes au thon\", \"Sucre Complet Muscovado\", \"Salade De Saumon\", \"Bamboo Garden Asia Kokosmilch fettreduziert\", \"S\\u00fcdzucker \\u2013 Gelierzucker 2+1\", \"Rewe Bio \\u2013 Pfeffer, schwarz, ganz\", \"Kokosmilch\", \"Bananeira Bio Oregano Gerebelt\", \"Ostmann K\\u00fcmmel ganz 35 g\", \"Sate pikante Erdnuss- W\\u00fcrzmischung\", \"Rapunzel Tahin (Sesammus) ohne Salz 250 g\", \"Sesame Oil\", \"Naturkraftwerke Lein\\u00f6l 250 ml\", \"Migros Bio Fairtrade Kurkuma Gemahlen\", \"Biskin Spezial - Pflanzen\\u00f6l mit Buttergeschmack 750 ml\", \"Old El Paso Mexican Potatoes 30 g\", \"Knorr - Primerba All' Italiana\", \"Wan Kwai Thai Curry Paste Gr\\u00fcn\", \"PASCO Tikka Paste\", \"EDEKA Bio Klare Gem\\u00fcsebr\\u00fche-W\\u00fcrfel 6x 11 g\", \"Rewe Bio - Natives Oliven\\u00f6l Extra\", \"Ubena Bruschetta Gew\\u00fcrzzubereitung\", \"Monini - Classico Oliven\\u00f6l Extra Vierge\", \"Bertolli \\u2013 Extra Vergine\", \"Rapunzel Oliven-W\\u00fcrzpaste\", \"Kattus Knoblauch Paste\", \"Zimt Gemahlen\", \"Alnatura Speisest\\u00e4rke -reine Maisst\\u00e4rke-\", \"Delikato Tafel Meerrettich\", \"Schnittlauch\", \"Schnittlauch\", \"tegut...Schnittlauch\", \"Sch\\u00e4tze des Orients Harissa\", \"Tamarinden Paste\", \"Ruf So\\u00dfenfix\", \"Aroma Mix\", \"ALNATURA - Meersalz mit Jod\", \"Mondamin So\\u00dfenbinder hell 250 g\", \"LeChef Fleisch\", \"Spar Majoran Gerebelt\", \"Rewe Bio Petersilie tiefgefroren\", \"Petersilie\", \"Bio Dill Alnatura GmbH\", \"Schnittlauch\", \"Schnittlauch\", \"M Kr\\u00e4utergarten Rosmarin\", \"Spar Rosmarin geschnitten\", \"Alnatura Crema con Aceto Balsamico 250 g\", \"Spar Frischer Thymian\", \"SONNENTOR Thymian 25 g\", \"Chef Men\\u00fc Koriander K\\u00fcchenfrisch\", \"K\\u00fchne - Balsamissimo Feine Balsamico-Creme\", \"Mondo Italiano Aceto Balsamico Di Modena I.G.P\", \"Hengstenberg Altmeister Kr\\u00e4uterw\\u00fcrzessig 0,75 ltr\", \"Bautz'ner - Senf mittelscharf\", \"Thomy - Delikatess-Senf mittelscharf\", \"ja! Delikatess Mayonnaise mit 80% Raps\\u00f6l\", \"Maille Dijonnaise\", \"L\\u00f6wensenf s\\u00fc\\u00df\", \"H\\u00e4ndlmaier's Hausmachersenf - s\\u00fc\\u00df\", \"Miracle Whip\", \"ZWERGENWIESE Curry Ketchup, 500 ml\", \"Heinz \\u2013 Tomato Ketchup\", \"Rewe Ja! Tomaten Ketchup\", \"Werder Bio Tomaten Ketchup\", \"Kraft Tomaten Ketchup gro\\u00df 750 ml\", \"Heinz American Mustard New York Style Mild\", \"Bio Zucker Feinkristall\", \"Dr.Oetker Muffins 370 g\", \"Feine Marzipan Rohmasse\", \"Ruf Blattgelantine Weiss  20 g\", \"Alnatura L\\u00fcbecker Marzipan Rohmasse\", \"Roh-Rohrzucker\", \"S\\u00fcdzucker Weisser Rohrzucker\", \"Rohzucker aus Zuckerrohr\", \"ALB-GOLD Fit 'n' Free Bio Buchweizen Pasta glutenfrei,\", \"Barilla Nudeln Farfalle 500 g\", \"Edeka Bio \\u2013 Spaghetti Vollkorn\", \"Shan\\u00b4 shi - Mie Eiernudeln\", \"Giovanni Rana Kartoffel-Gnocchi\", \"Real,- quality Ravioli mit Spinatf\\u00fcllung\", \"Settele - Gem\\u00fcse-Maultauschen\", \"Knorr Penne mit Broccoli\", \"Alb-Natur Bio-Dinkel-Maultaschen mit Linsen\", \"Monolith Nord GmbH Glasnudeln\", \"Quinoa Pasta -M\\u00fcscheli\", \"Maggi Ravioli in Tomatensosse 800 g\", \"EDEKA Erdnusskerne ger\\u00f6stet & gesalzen 200 g\", \"m\\u00e4rschimport - Mandeln ganz\", \"Mandelmus wei\\u00df (650 g )\", \"Haseln\\u00fcsse gemahlen\", \"Seeberger Cashewkerne ger\\u00f6stet, gesalzen\", \"Alesto - Pistazien\", \"Carat Croutons Pinienkerne\", \"Kikkoman Sushi & Sashimi\", \"A.Best Pesto-Sauce\", \"Sriracha Hot Chilli Sauce\", \"Schwartau Bourbon-Vanille Sauce\", \"EDEKA Bio Tomatenmark 2-fach konzentriert 200 g\", \"McIlhenny TABASCO Brand Pepper Sauce Original 57 ml\", \"Iglo K\\u00e4pt`ns Burger Gem\\u00fcseburger\", \"Mama Brand Moo Nam Tok\", \"Frosta Couscous Oriental\", \"Cr\\u00eaapan Leckere Pfannkuchen Classic\", \"Yum Yum Cup Nudelsuppe mit Vegetable / Gem\\u00fcsegeschmack\", \"PFANNKUCHEN (penny heat & eat)\", \"Mike Mitchell's Sandwich Salami-K\\u00e4se\", \"Original Wagner - Big Pizza Schinken Diavolo\", \"Indian Chicken\", \"Wagner \\u2013 Original Wagner Steinofen \\u201ePIZZA Speciale\\u201c\", \"Mama Mancini - Lasagne Bolognese\", \"Iglo Ger\\u00fchrt & Verf\\u00fchrt Thai H\\u00fchnchen mit Basmati Reis\", \"Dornseifer Chili con carne\", \"Berchtesgadener Land Frische Vanille Milch\", \"Eilles Gourmet Caff\\u00e8 Crema ganze Bohnen, 1kg\", \"Ja! \\u2013Caff\\u00e8 Crema, ganze Bohnen\"], \"x\": [425.0, 430.0, 485.0, 345.0, 590.0, 0.0, 0.0, 136.0, 0.0, 49.0, 35.0, 32.0, 57.0, 75.0, 83.0, 131.0, 218.0, 218.0, 265.0, 68.0, 255.0, 106.0, 144.0, 119.0, 69.0, 97.0, 430.0, 78.0, 442.0, 442.0, 186.0, 115.0, 84.0, 121.0, 99.0, 38.0, 38.0, 38.0, 89.0, 114.0, 131.0, 63.0, 68.0, 171.0, 76.0, 75.0, 83.0, 83.0, 83.0, 65.0, 65.0, 75.0, 75.0, 54.0, 75.0, 75.0, 84.0, 75.0, 97.0, 137.0, 20.0, 28.0, 183.0, 122.0, 71.0, 53.0, 88.0, 125.0, 94.0, 152.0, 145.0, 163.0, 240.0, 34.0, 62.0, 128.0, 257.0, 131.0, 75.0, 75.0, 75.0, 50.0, 52.0, 50.0, 55.0, 18.0, 46.0, 71.0, 142.0, 80.0, 52.0, 111.0, 106.0, 178.0, 214.0, 214.0, 283.0, 267.0, 356.0, 152.0, 48.0, 333.0, 82.0, 237.0, 347.0, 134.0, 65.0, 103.0, 52.0, 104.0, 195.0, 108.0, 125.0, 210.0, 233.0, 381.0, 358.0, 595.0, 475.0, 115.0, 1081.0, 1081.0], \"y\": [2.289, 0.6970000000000001, 0.65, 0.398, 0.532, 1.026, 0.78, 0.358, 1.374, 3.16, 0.258, 5.24, 0.984, 19.94, 1.1, 0.4, 1.38, 0.46, 0.78, 0.7889999999999999, 0.9, 0.382, 1.24, 0.4480000000000001, 2.98, 0.71, 0.6659999999999999, 12.48, 0.998, 0.358, 29.84, 1.0, 4.85, 0.14800000000000002, 1.17, 1.38, 1.38, 1.38, 1.5, 2.98, 0.483, 1.81, 0.19, 0.28, 0.292, 17.94, 1.38, 1.38, 1.38, 1.38, 1.38, 6.38, 6.38, 4.0, 1.25, 9.97, 3.98, 2.45, 0.5, 0.8, 0.25, 0.12, 1.55, 1.08, 0.6, 0.9, 1.84, 0.398, 0.4480000000000001, 11.09, 0.25, 0.34700000000000003, 0.68, 1.14, 0.65, 0.75, 0.85, 2.8, 2.4, 0.5, 0.997, 0.39, 0.078, 0.15, 0.92, 1.32, 0.149, 0.252, 0.239, 0.53, 0.6980000000000001, 0.58, 0.149, 1.1, 1.86, 0.5, 0.4980000000000001, 2.66, 0.43, 1.8, 1.198, 0.52, 2.0, 0.518, 0.43, 4.99, 0.58, 1.3230000000000002, 0.4980000000000001, 0.48, 2.63, 1.98, 0.86, 0.8550000000000001, 0.226, 0.8550000000000001, 0.32299999999999995, 1.053, 0.199, 1.59, 0.7490000000000001, 0.7490000000000001], \"type\": \"scatter\", \"uid\": \"82890e86-637b-49d9-a26c-49cb528cd54f\"}, {\"marker\": {\"color\": \"#EC9BE2\"}, \"mode\": \"markers\", \"name\": \"Sugary snacks\", \"text\": [\"Cookies Tout Chocolat\", \"Chocolat au lait Extra fin\", \"Biscuits Matin Miel et P\\u00e9pites de Chocolat\", \"Noir \\u00e9clats d'amandes\", \"Chocolat Blanc Nougatine Amande\", \"Chocolat Lait classique d\\u00e9gustation Bio Alter Eco\", \"P\\u00e9rou 85%\", \"Noir \\u00e9clats de menthe\", \"Noir Zestes de Citron\", \"Cookies Nougatine\", \"Lait Caramel Beurre sal\\u00e9\", \"Alter eco Noir amandes enti\\u00e8res\", \"Chocolat noir 70%\", \"Noir pointe de piment\", \"Noir \\u00c9clats de Gingembre\", \"Chocolat noir, \\u00e9clats amandes\", \"Alter eco 90% P\\u00e9rou\", \"Noir Fruit de la Passion\", \"Migros Engagement Bio Pumpernickel\", \"Naturkind - Pumpernickel\", \"Lieken Urkorn \\u2013 Kleines Kerni mit Sonnenblumenkernen\", \"Harry - Das volle Korn\", \"enerBio Dinkel-Vollkornbrot\", \"Harry Dinkel Vollkorn\", \"ja! - 6 Baguette-Br\\u00f6tchen\", \"Harry 1688 Unser Mildes\", \"GOLDEN TOAST Meister Br\\u00f6tchen, 400 g\", \"LIEKEN URKORN Bauernmild Brot, 500 g\", \"Grafschalter Megaburger Br\\u00f6tchen Classic\", \"REWE Laugenstangen zum Selbstbacke\", \"Knack & Back  Sonntags-Br\\u00f6tchen\", \"TiP 6 Sonntagsbr\\u00f6tchen zum Fertigbacken\", \"Knack & Back 6 Sonntagsbr\\u00f6tchen \\u2026ofenfrisch\", \"Kornm\\u00fchle 8 Weizenbr\\u00f6tchen zum Fertigbacken\", \"M-Classic Butterzopf gross Frischback\", \"Tiroler Butterzopf\", \"Em-Eukal Wildkirsch Kinder Hustenbonbons 75 g\", \"Mauritius - Schoko & Gelee\", \"EDEKA Gelee-Bananen\", \"Hitschler Bunte Schn\\u00fcre\", \"Ferrero - Mon Ch\\u00e9ri\", \"Katjes Katzenpf\\u00f6tchen 200 g\", \"Griesson Soft Cake Orange\", \"Marzipan Kartoffeln\", \"Niederegger L\\u00fcbeck Marzipan Schwarzbrot\", \"EDEKA Cookie dark chocolate & hazelnut 200 g\", \"Lindt Edel-Marzipan\", \"Alnatura Dinkel-Doppelkeks Zartbitter\", \"Snickers\", \"Katjes - Yoghurt-Gums\", \"Mars - Schokoriegel\", \"Frey Truffes Lait\", \"Leibniz Choco Vollmilch Kekse 125 g\", \"Milka Choco Bonbon Caramel\", \"Ferrero Kinder Bueno\", \"Wrigleys Extra Professional Mints Waldfrucht 77 g\", \"Alnatura Ahornsirup Grad C\", \"YO Holunderbl\\u00fcte Bl\\u00fctensirup 0,7 ltr\", \"Alnatura Dattelsirup\", \"Dr. Oetker - Grie\\u00dfbrei nach klassischer Art\", \"Bio Vita Milchreis Bourbon-Vanille\", \"Mondamin Lieblings-Milchreis Klassische Art\", \"Eskimo - Konfekt Vanille mit Schoko\\u00fcberzug\", \"K-Classic Chocolate Brownie Ice Cream\", \"Ben & Jerry's - Cookie Dough Ice Cream\", \"m\\u00fcller - Milchreis Zimt\", \"Alnatura Schoko Eiscreme\", \"Landliebe Grie\\u00df Pudding Vanille\", \"Kissyo Bio Frozen Yoghurt Natur\", \"Frozen Yo Nature 450ml\"], \"x\": [305.0, 655.0, 250.0, 153.0, 251.0, 160.0, 178.0, 153.0, 177.0, 160.0, 150.0, 122.0, 237.0, 219.0, 205.0, 153.0, 197.0, 214.0, 22.0, 22.0, 30.0, 27.0, 20.0, 39.0, 43.0, 40.0, 45.0, 42.0, 51.0, 47.0, 67.0, 73.0, 76.0, 14.0, 188.0, 165.0, 34.0, 39.0, 43.0, 46.0, 63.0, 59.0, 77.0, 134.0, 158.0, 167.0, 173.0, 170.0, 235.0, 138.0, 241.0, 361.0, 361.0, 314.0, 467.0, 133.0, 34.0, 55.0, 95.0, 64.0, 104.0, 97.0, 219.0, 289.0, 230.0, 129.0, 319.0, 210.0, 186.0, 206.0], \"y\": [2.025, 0.82, 1.252, 2.45, 2.28, 2.78, 2.49, 2.8, 2.86, 0.39, 0.398, 2.78, 2.75, 2.44, 2.8, 0.99, 2.49, 3.01, 0.098, 0.6920000000000001, 1.524, 0.318, 0.53, 0.53, 0.13, 0.1, 0.381, 1.524, 0.13, 0.158, 1.3, 0.298, 1.3, 0.184, 0.13, 1.66, 1.54, 3.12, 0.32, 0.27, 2.72, 0.45, 0.75, 0.64, 2.8, 2.22, 2.6, 0.53, 0.987, 0.45, 0.923, 0.5, 0.9, 2.32, 1.535, 0.22000000000000008, 1.98, 0.399, 1.98, 0.56, 0.5579999999999999, 6.66, 0.5780000000000001, 0.366, 3.78, 0.15, 0.8880000000000001, 0.5309999999999999, 0.7979999999999999, 0.399], \"type\": \"scatter\", \"uid\": \"3a08dbd3-80cb-4513-9f31-4a1ff9728f25\"}, {\"marker\": {\"color\": \"#F0F472\"}, \"mode\": \"markers\", \"name\": \"Carbs\", \"text\": [\"Coquillettes au Bl\\u00e9 Complet\", \"Cheveux d'Ange (Al dente 3 min.)\", \"Coquillettes\", \"Farfalle\", \"Coquillettes (Al dente 9 min.)\", \"Coquillettes au bl\\u00e9 int\\u00e9gral Bio\", \"Kelloggs Cornflakes Die Originalen 375 g\", \"Honey  Wheat - Weizenkost Mit Honig\", \"Manner Knusper M\\u00fcsli\", \"Seitenbacher Vollkorn-Fr\\u00fcchtem\\u00fcsli\", \"Crunchy Granola Bites Haselnuss\", \"K Classic flakes&dark Chocolate\", \"K\\u00f6lln M\\u00fcsli Knusper Kokos '30% weniger Fett'\", \"Dr. Oetker Vitalis Fr\\u00fcchtem\\u00fcsli\", \"EDEKA Knusper M\\u00fcsli Triple Choc\", \"Verival Bio Honig Crunchy\", \"Dr. Sch\\u00e4r M\\u00fcsli Fruit glutenfrei 375 g\", \"Crownfield - Nougat Kissen / Nougat Bits - 750 g\", \"Nestle Cini Minis Zimt 375 g\", \"Tortilla Chips Meersalz\", \"Chio Mikrowellen Popcorn salzig\", \"S\\u00fcsskartoffelchips mit Rosmarin\", \"Lorenz Naturals mit Rosmarin\", \"Lay's Sticks Bacon\", \"Tortilla Chips - Hot Chili\", \"ja! - Stapelchips Paprika\", \"Grissini al rosmarino\", \"Maisw\\u00fcrmer K\\u00e4se\", \"Pom-B\\u00e4r Original\", \"Lorenz Knabbergeb\\u00e4ck Party Clubs 200 g\", \"Uncle Cracker NatSnacks Mit Pfeffer und Oliven\\u00f6l\", \"Mano Masa\", \"Crusti Croc Mini Brotchips Mit Sauerrahm- und Zwiebel-Geschmack\", \"Popcorn Leicht Meersalz Gesalzen20g\", \"K\\u00f6lln Echte Kernige Haferflocken 500 g\", \"Dinkelpoffies\", \"Quinoa bio\", \"Bio Amaranth\", \"Rapunzel - Polenta-Maisgrie\\u00df\", \"Couscous\", \"Couscous\", \"Rewe Couscous Salat\", \"Reismehl\", \"Basic Langkornreis wei\\u00df\", \"Uncle Ben's Express Basmati Reis\", \"dmBio Bulgur\", \"Matiss Bulgursalat Pikant\", \"Maisgrie\\u00df Polenta, 500 g Davert\", \"tegut... Wildreis\", \"Vollreis Natura\", \"Jasmin Reis\", \"ja! Milchreis\", \"la riseria Riso Ticinese 1kg\", \"Landkorn Naturreis\"], \"x\": [4.4, 202.36, 200.75, 209.85, 198.9, 182.85, 29.0, 54.0, 86.0, 85.0, 111.0, 94.0, 107.0, 85.0, 126.0, 126.0, 121.0, 162.0, 98.0, 55.0, 97.0, 73.0, 70.0, 76.0, 95.0, 102.0, 98.0, 144.0, 108.0, 112.0, 105.0, 130.0, 171.0, 97.0, 79.0, 51.0, 79.0, 69.0, 50.0, 50.0, 50.0, 43.0, 122.0, 122.0, 124.0, 121.0, 84.0, 58.0, 258.0, 258.0, 258.0, 258.0, 258.0, 258.0], \"y\": [0.08900000000000001, 0.289, 0.08900000000000001, 0.13, 0.135, 0.218, 0.6639999999999999, 0.332, 0.93, 0.858, 3.98, 0.266, 1.55, 0.466, 1.3730000000000002, 1.3199999999999998, 1.97, 0.266, 0.2, 0.29700000000000004, 1.66, 6.38, 0.747, 0.74, 2.0, 0.68, 1.53, 0.9640000000000001, 1.6, 4.47, 0.79, 2.28, 0.55, 0.56, 0.098, 1.0, 0.7889999999999999, 1.16, 0.23, 0.0198, 0.4980000000000001, 0.4980000000000001, 0.398, 0.298, 0.5980000000000001, 0.72, 0.7, 0.23, 0.378, 0.77, 0.398, 0.15, 1.05, 0.238], \"type\": \"scatter\", \"uid\": \"1ccfef8c-5b64-4756-976b-18f1f8928885\"}, {\"marker\": {\"color\": \"#D6D0C3\"}, \"mode\": \"markers\", \"name\": \"Dairies\", \"text\": [\"Lait \\u00c9cr\\u00e9m\\u00e9\", \"Val d'Automne (28 % MG)\", \"Miel liquide fleurs d'oranger d'Espagne\", \"Emmental Fran\\u00e7ais R\\u00e2p\\u00e9 (29 % MG)\", \"Emmental Fran\\u00e7ais R\\u00e2p\\u00e9 (29 % MG)\", \"Emmental Fran\\u00e7ais R\\u00e2p\\u00e9 (29 % MG)\", \"Emmental Fran\\u00e7ais R\\u00e2p\\u00e9 (29 % MG)\", \"Lait des Plaines du Nord de la France\", \"P\\u00e2te \\u00e0 tartiner\", \"Yaourts aux fruits mix\\u00e9s\", \"Vegan Leben - Vegane Scheiben W\\u00fcrzig\", \"Wilmersbuger St\\u00fcck Classic\", \"Patros in \\u00d6l\", \"Frischgold K\\u00f6rniger Frischk\\u00e4se, 200 g\", \"tegut... Back-Camembert\", \"Bio Bauern Handk\\u00e4se\", \"Mozzarella Sticks\", \"Bio Emmentaler mittelreif 250g\", \"Bio B\\u00fcndner Bergk\\u00e4se ca. 250g\", \"M-Budget Cottage Cheese\", \"ROUGETTE Ofenk\\u00e4se\", \"Bavaria blu - Der W\\u00fcrzige\", \"Brie Schweizer Weichk\\u00e4se, vollfett, pasteurisiert Bio\", \"Appenzeller Schweizer Halbhartk\\u00e4se, vollfett, aus Rohmilch\", \"Alpenhain - Back-Camembert mit Wildpreiselbeeren\", \"Penny Sahne Schmelzk\\u00e4sezubereitung\", \"Andechser Natur Trink-Molke Mango-Apfel\", \"S\\u00f6bbeke Pauls Biomolkerei Bio Erdbeere Joghurt Mild\", \"Ehrmann Fr\\u00fcchteTraum Kirsche 115 g\", \"BioBio - Saure Sahne\", \"Danone Fruchtzwerge weniger s\\u00fc\\u00df 6x50g\", \"Andechser Natur - Bio Lassi Chai\", \"Milram Buttermilchdrink Ipanema\", \"Alnatura - Fruchtbuttermilch Orange-Maracuja\", \"Landliebe Landmilch Schoko, 350 g\", \"Bio Organic S\\u00fc\\u00dfrahmbutter\", \"ja! H-Schlagsahne\", \"Berchtesgadener Land \\u2013 Haltbare Bergbauern Milch\", \"Bifidus - Joghurt Mango\", \"Danone -  Actimel Erdbeer-Banane\", \"Ziegenmilch Bio haltbar mindestens 3,0 % Fett Andechser Natur\", \"K-Classic Schlagsahne\", \"Alnatura Kr\\u00e4uterquark\", \"Berchtesgadener Land Bio-Topfen\", \"Elinas - Joghurt nach griechischer Art Natur\", \"Schw\\u00e4lbchen - Speisequark Magerstufe\", \"BioBio - Lassi Mango\", \"Andechser Natur Bio Mango-Vanille\", \"MARK BRANDENBURG - Joghurt mild \\u201eMandarine\\u201d\", \"K Classic Kondensmilch W\\u00e4rmebehandelt\", \"tegut... frische Vollmilch 3,7% Fett\", \"Berchtesgadener Buttermilch - Buttermilch\"], \"x\": [175.0, 1065.0, 120.0, 1113.0547, 1113.0547, 1127.0, 1127.0, 0.0, 149.0, 0.0, 61.0, 72.0, 530.0, 225.0, 480.0, 139.0, 499.0, 957.0, 943.0, 171.0, 188.0, 188.0, 188.0, 195.0, 185.0, 645.0, 28.0, 83.0, 195.0, 344.0, 214.0, 177.0, 99.0, 107.0, 163.0, 1217.0, 525.0, 143.0, 151.0, 174.0, 142.0, 516.0, 388.0, 420.0, 270.0, 427.0, 175.0, 193.0, 196.0, 187.0, 188.0, 125.0], \"y\": [0.129, 0.532, 1.218, 1.19, 1.19, 1.19, 1.19, 0.08800000000000001, 1.018, 0.365, 0.8, 0.478, 0.997, 0.5, 0.5690000000000001, 1.36, 0.76, 0.72, 5.38, 0.55, 1.341, 1.37, 1.5, 1.5, 1.5, 0.75, 0.6, 0.373, 0.199, 0.28, 0.75, 0.6, 1.6, 0.13799999999999998, 0.655, 0.63, 0.5, 1.33, 0.22, 0.315, 1.55, 0.33, 0.28, 1.59, 0.373, 0.28, 0.6, 0.33, 0.1, 0.14800000000000002, 1.55, 0.13799999999999998], \"type\": \"scatter\", \"uid\": \"c433aab6-dafd-442d-b9ef-c6a06a40b11d\"}, {\"marker\": {\"color\": \"#B69C63\"}, \"mode\": \"markers\", \"name\": \"Meats\", \"text\": [\"Lardons Nature (2 barquettes)\", \"Lardons Fum\\u00e9s (2 barquettes)\", \"Saucisses de Francfort\", \"B\\u0153uf Bourguignon et ses Tagliatelles\", \"Aiguillettes de poulet, sauce normande et son riz\", \"Nadler Delikatess Fleischsalat mit Salatcreme\", \"Ja! - Delikatess Fleischsalat\", \"H\\u00fchnerfrikassee\", \"Mein Men\\u00fc H\\u00fchnerfrikassee mit Gem\\u00fcseeinlage\", \"Ja! Frikadellen\", \"iska \\u201eUngarische Salami\\u201c\", \"Migros Fleischk\\u00e4se\", \"Ja! K\\u00f6nigsberger Klopse\", \"TIP - Leberwurst fein\", \"Fein Wurst Hofmaier Frikadellen-B\\u00e4llchen\", \"Hofst\\u00e4dter - Leber-Streichwurst\", \"Pommersche Gutsleberwurst grob\", \"Reiter - Mettwurst fein\", \"Wilhelm Brandenburg - Rosmarinschinken, gegart\", \"Feine Wurst Hofmaier Bockw\\u00fcrstchen\", \"Bockwurst\", \"REWE Beste Wahl Pfannengyros\", \"Timmendorfer Traditions Ostsee-Kernschinken\", \"Du darfst - Die Hauchfeine Baguette Salami\", \"HEIDEMETZGER Fr\\u00fchst\\u00fccksmett - pikant\", \"Meica Trueman\\u00b4s Hot Dog W\\u00fcrstchen\", \"Dulano Selection Prosciutto Cotto\", \"Aoste Ringsalami luftgetrocknet 250 g\", \"Chili con Carne\", \"Chili con Carne\", \"K Classic H\\u00e4hnchenbrust In Aspik\", \"Iglo Gastronomie - Rindsgulasch im 1-Portionen-Kochbeutel\", \"Ja! Nat\\u00fcrlich Klassischer Leberk\\u00e4se\", \"Landjunker Rinderhackfleisch\", \"Bio Bio Rinderhackfleisch\"], \"x\": [945.0, 945.0, 825.0, 770.0, 495.0, 218.0, 189.0, 195.0, 195.0, 443.0, 641.0, 462.0, 302.0, 635.0, 571.0, 573.0, 567.0, 678.0, 518.0, 518.0, 632.0, 635.0, 634.0, 637.0, 655.0, 556.0, 643.0, 655.0, 393.0, 393.0, 678.0, 599.0, 1400.0, 1688.0, 1688.0], \"y\": [1.327, 1.327, 1.061, 1.43, 1.662, 0.248, 0.248, 0.332, 0.332, 0.199, 0.4280000000000001, 1.44, 0.332, 0.57, 1.5, 1.11, 1.52, 1.33, 0.423, 1.5, 0.6639999999999999, 0.42, 5.11, 0.53, 0.7, 2.0, 1.0, 0.998, 0.0323, 0.199, 0.65, 1.053, 2.34, 0.897, 0.897], \"type\": \"scatter\", \"uid\": \"59be4ff1-6368-4cc2-a625-05443c42c696\"}, {\"marker\": {\"color\": \"#F3AC6D\"}, \"mode\": \"markers\", \"name\": \"Beverages\", \"text\": [\"Eau Min\\u00e9rale\", \"100 % Pur Jus Orange\", \"Rooibos nature bio & \\u00e9quitable\", \"Rooibos \\u00e9pices\", \"Nectar ananas mangue passion\", \"Nectar banane goyave acerola\", \"Goyave passion \", \"Berioo Bio Kakao-Nibs\", \"SUCHARD Kakao Express\", \"milka schhikolade\", \"Granini Trinkgenuss Banane 1 ltr PET\", \"hohes C Milde Orange\", \"Saft - Blutorangen\", \"Innocent Super Smoothie Activate\", \"Edeka Premium Apfel Direktsaft\", \"Villa Sandi Prosecco Frizzante DOC\", \"Mezzacorona Merlot DOC Rotwein  2013 0,75 ltr\", \"Rotk\\u00e4ppchen Sekt trocken 0,75 ltr\"], \"x\": [0.0, 130.0, 607.0, 562.0, 300.0, 94.0, 102.0, 74.0, 41.0, 120.0, 18.0, 65.0, 65.0, 69.0, 80.0, 140.0, 140.0, 146.0], \"y\": [0.026, 0.159, 0.197, 8.55, 0.418, 0.418, 0.53, 0.738, 0.34, 1.77, 0.179, 0.1, 0.17800000000000002, 0.33799999999999997, 0.266, 0.359, 1.199, 0.6659999999999999], \"type\": \"scatter\", \"uid\": \"d4aa4d2e-1894-48f3-8969-d7baaee22196\"}, {\"marker\": {\"color\": \"#8CB5ED\"}, \"mode\": \"markers\", \"name\": \"Seafood\", \"text\": [\"Truite fum\\u00e9e au bois de h\\u00eatre (6 tranches) - 150 g\", \"Truite fum\\u00e9e Capaccio au Poivre de Sichuan\", \"Truite Fum\\u00e9e Pyr\\u00e9n\\u00e9es (4 tranches) - 120 g\", \"Truite Fum\\u00e9e Pyr\\u00e9n\\u00e9es\", \"Truite fum\\u00e9e Pyr\\u00e9n\\u00e9es Offre exceptionnelle\", \"F\\u00fcrsten Krone Herings Happen\", \"Appel Zarte Sardinen Madeleine Rot 105 g\", \"Rewe Ja! Thunfischfilets In Sonnenblumen\\u00f6l\", \"Nordsee Flu\\u00dfkrebs Cocktail Apfel & Curry\", \"iglo 15 K\\u00e4pt'ns Fischst\\u00e4bchen\", \"Nordsee Krabbensalad\", \"Thunfischfilets in Oliven\\u00f6l\", \"Iglo - Schlemmerfilet \\u00e0 la Bordelaise Classic\", \"Frosta Schlemmerfilet Bordelaise\", \"Frosta Fischst\\u00e4bchen\", \"Saupiquet Thunfisch in Tomatensauce\"], \"x\": [900.0, 828.0, 828.0, 2760.0, 828.0, 152.0, 298.0, 363.0, 211.0, 281.0, 414.0, 411.0, 319.0, 248.0, 367.0, 285.0], \"y\": [2.772, 3.75, 5.675, 5.675, 5.675, 0.45, 0.6, 1.19, 0.48, 1.053, 4.0, 2.0, 0.398, 0.502, 0.502, 1.69], \"type\": \"scatter\", \"uid\": \"0c87c2bc-4877-4c69-a964-cb787a45328d\"}, {\"marker\": {\"color\": \"#FCE2E4\"}, \"mode\": \"markers\", \"name\": \"Salty snacks\", \"text\": [\"Chips saveur poulet thym\", \"Schwartau Spezialit\\u00e4ten Pflaumenmus 350 g\", \"Langnese Landhonig goldcremig 500 g\", \"Schwartau extra Konfit\\u00fcre Samt Erdbeere 270 g\"], \"x\": [340.0, 43.0, 129.0, 114.0], \"y\": [1.069, 0.265, 0.748, 1.14], \"type\": \"scatter\", \"uid\": \"e1aabd40-4508-4f2e-81d2-dd9c22a941a9\"}], {\"xaxis\": {\"range\": [0.0, 505.8000000000006], \"title\": \"Carbon footprint per 100g [g]\"}, \"yaxis\": {\"range\": [0, 2.49], \"title\": \"Price per 100g [\\u20ac]\"}}, {\"showLink\": true, \"linkText\": \"Export to plot.ly\"})});</script><script type=\"text/javascript\">window.addEventListener(\"resize\", function(){window._Plotly.Plots.resize(document.getElementById(\"aca418b0-f221-46fd-96f6-07faa8ddd2ca\"));});</script>"
      ]
     },
     "metadata": {},
     "output_type": "display_data"
    }
   ],
   "source": [
    "# Food calories over carbon-foot print\n",
    "    \n",
    "visualize.plot_cluster_by_tags(carbon_footprints,\n",
    "                               df_colors,\n",
    "                               save_offline = save_plots_offline, \n",
    "                               save_offline_title = 'carbon_scatter_O',\n",
    "                               plot2D_features = [\"carbon-footprint_100g\", \"price_per_100g\"],\n",
    "                               cluster=\"main_category\")"
   ]
  },
  {
   "cell_type": "markdown",
   "metadata": {},
   "source": [
    "In the above plot we can recognize no correlation between the price of the product and its carbon footprint. However, we can see regions, in which the majority of every category gathers around. So plant-based products as well as beverages are predominantly located in the lower carbon footprint spectrum from 0-100g; meats and salty snacks have a a carbon footprint from 150 - 400g per 100g; and the sugary snacks are distributed all over the spectrum."
   ]
  },
  {
   "cell_type": "code",
   "execution_count": 40,
   "metadata": {},
   "outputs": [
    {
     "data": {
      "application/vnd.plotly.v1+json": {
       "data": [
        {
         "marker": {
          "color": "#90CB70"
         },
         "mode": "markers",
         "name": "Plant-based",
         "text": [
          "Riz long grain Camargue",
          "Pains au lait (x 10) aux pépites de chocolat au lait 350 g",
          "Huile d'olive vierge extra, extraite à froid",
          "Riz & blé complet Nature",
          "Riz & blé complet - Fruits rouges",
          "Farine de blé fluide",
          "Boisson aux fruits plate tropical",
          "Fleur de Colza",
          "Banane coco Alter Eco",
          "K Classic - Junger Gemüsemais",
          "ja! Gemüsemais",
          "Sera Ajvar",
          "Botato Kartoffel Wedges",
          "Pfanni Kartoffel Püree besonders locker 3 x 80 g",
          "Agrarfrost Germany Knusper Frites",
          "Backofen Rösti Ecken - aus Qualitätskartoffeln",
          "M-Budget Pommes Frites 3kg",
          "Violife Creamy Cucumber & Dill",
          "Penny - Kartoffelknödel halb & halb",
          "Agrarfrost Mini Kroketten",
          "Burgis Schupfnudeln",
          "Kartoffelsalat",
          "Ja! Kroketten",
          "real,- Rösti küchenfertig",
          "Brotaufstrich Paprika-Cashew",
          "Bofrost Schupfnudeln",
          "Aubergine Streichcreme mit feinen Auberginen-Stücken",
          "Mei Tai Maiskölbchen",
          "Kartoffelpuffer",
          "Küstengold Röstzwiebeln",
          "Gemüse Rösti 500g",
          "Edeka Süßkartoffeln",
          "ALNATURA Brotaufstrich Kichererbse mit Ingwer",
          "ja Kartoffel-Knödel halb und halb",
          "Letscho Premium",
          "Natsu Salat Dinkel-Quinoa Mit Edamame",
          "VITAM Kichererbsen Brotaufstrich, 125g",
          "Delikatess-Krautsalad",
          "Hummus",
          "Migros Kichererbsen",
          "Demeter Campo Verde Brotaufstrich Basilikum-Tomate 110 g",
          "M-Classic Schwarzwurzeln",
          "Gourmet Compagnie Semmelknödel",
          "Bonduelle - Linsen",
          "EDEKA BIO TAFELTRAUBWN",
          "Viana Jungle Energizer",
          "ALNATURA - Junge Erbsen",
          "Coop Betty Bossi Taboulé-Salat Oriental",
          "Rapunzel Oliven Kalamata mit Stein in Lake",
          "Alnatura Kichererbsen 350 g",
          "ΜΑΝΙ Kalamata Olivenpaste, bio NL Fair, 180g Glas",
          "Pfannengemüse - Französische Art",
          "Kühlmann - Bunter Bohnensalat mit Quinoa",
          "Crostini-Dip",
          "Eier Salat",
          "Migros Bio Griechische Oliven Amphisis",
          "Sauerkraut",
          "Schlemmertöpfchen - Rote Beete Kugeln",
          "REWE Feine Welt Kalamata Oliven",
          "Feinkost Dittmann - Oliven, grün ohne Stein",
          "Bio Sonne Bio-Brotaufstrich Tomate-Basilikum",
          "Ibero Spanische grüne Manzanilla Oliven gefüllt mit Jalapeñocreme",
          "Marmara Schwarze Oliven Mit Stein Devasa",
          "Real,- Bio kaisergemüse Blumenkohl, Karotten Und Broccoli",
          "Feinkost Dittmann Spanische grüne Oliven gefüllt mit Paprikapaste",
          "Spar Natur pur Bio Broccoli",
          "K-Classic Kartoffelbrei",
          "Bushs Best Kidney Beans",
          "Alnatura 24/7 Bio Grüne Oliven mit Mandeln",
          "Hengstenberg Rote Bete-Salat 330 g",
          "Hainich Sauerkraut",
          "Rapunzel Kapern in Olivenöl",
          "EDEKA Steinpilze",
          "Suppengrün",
          "Hengstenberg Rotessa Rotkohl traditionell 550 g",
          "Real Bio Buttergemüse",
          "Iglo Buttergemüse fein & knackig, 300 g",
          "Coop Naturaplan Bio Zucchetti",
          "EDEKA Chili-Bohnen 425 g",
          "Pfanni Kartoffel Püree mit entrahmter Milch komplett 3x 94,5 g",
          "Ostmann - Austernpilze getrocknet",
          "REWE Beste Wahl Austernpilze Aromatisch",
          "M Classic Russischer Salat",
          "Frosta Gemüse Pfanne Sommergarten",
          "Rahm Gemüse bunte Karotten & Erbsen",
          "Alpenfest Rustikale Kartoffelpfanne",
          "ardo - Blattspinat",
          "BLATTSPINAT",
          "Iglo Rahm-Gemüse - Rosenkohl",
          "ButterGemüse    Frosta",
          "Mutti Datterini Datteltomaten 400 g",
          "EDEKA Stangenspargel 530 g",
          "EDEKA Italia Geschälte Tomaten 800 g",
          "Alnatura Bio ganze Tomaten, geschält 400 g",
          "Penny Rahm-Spinat Erntefrisch Tiefgefroren",
          "Rewe Beste Wahl Cornichons mit Kräutern",
          "Schwarmstedter Kartoffeltaschen",
          "K Classic Pizza-Tomaten Stückig",
          "Feinkost Dittmann Artischockenherzen je la Toscana",
          "Ja! Natürlich - Mediterrane Pfanne",
          "Via Emilia Antipasto di verdura",
          "Hengstenberg Honiggurken 330 g",
          "Seeberger Tomaten getrocknet",
          "Bio Oraganic Strauchtomaten",
          "Kühne Rotkohl Original  350 g",
          "Saladinettes Salat Mexicana",
          "Thüringer Landgarten Bio Cornichons",
          "Freshona Cornichons",
          "ORO di Parma Tomatenmark 2-fach konzentriert, 70 g",
          "Coop Naturaplan Bio Tomaten Schweiz Freiland",
          "REWE Beste Wahl – Peperoni nach griechischer Art",
          "ALNATURA - Brechbohnen",
          "COOP Bio Bohnen fein",
          "Greenyard Snack Gurken",
          "Bio Spitzpaprika Rot Alnatura",
          "FRoSTa Gemüse Pfanne Thai",
          "Rewe Beste Wahl Schwarze Bohnen in Chilisauce",
          "M-Classic Borlotti-Bohnen",
          "Meienburg Sonnenblumenkerne",
          "Çekirdeko Salzige Sonnenblumenkerne",
          "Märsch Blaumohn",
          "Leinsamen",
          "Chia-Samen",
          "Dm Bio Sesam Ungeschält",
          "Coop Naturaplan Bio Pinienkerne",
          "ALNATURA Dinkel Drink Natur",
          "Coop Naturaplan Bio Quinoa-Reisgetränk",
          "Vegafit - Vegane Nuggets",
          "Soto Burger Süßkartoffel",
          "Taifun Tofu-Grillknacker",
          "Eden - vegetarische Salami",
          "granoVita Vegane Leberwurst",
          "Rügenwalder Mühle - Vegetarischer Schinken Spicker Mortadella",
          "Linsen rot",
          "Viva Vital - Feine grüne Erbsen",
          "Alnatura Beluga Linsen 500g",
          "Rapunzel Weisse Bohnen",
          "Kichererbsen, 500 g Davert",
          "Müller´s Mühle Red Kidney Bohnen",
          "Orangeat",
          "Odenwald Apfelmus mit Vanille 720 g",
          "Alnatura Bio Sauerkirschen entsteint 360 g",
          "Jeden Tag - Orangen Navel Late (2 kg)",
          "Frosta Erdbeeren ungezuckert",
          "Beerenmix tiefgefroren",
          "Heidelbeeren Nature's Pride"
         ],
         "type": "scatter",
         "uid": "bdfbc5d2-4613-4e77-b96a-fc795110381d",
         "x": [
          545,
          325,
          276,
          485,
          560,
          165,
          5,
          150,
          102,
          9,
          17,
          44,
          20,
          12,
          22,
          23,
          25,
          52,
          19,
          34,
          32,
          42,
          38,
          27,
          60,
          48,
          118,
          50,
          30,
          128,
          79,
          68,
          125,
          48,
          78,
          74,
          94,
          56,
          137,
          47,
          96,
          21,
          83,
          55,
          28,
          172,
          54,
          96,
          50,
          78,
          101,
          68,
          75,
          206,
          172,
          53,
          30,
          42,
          55,
          55,
          124,
          57,
          87,
          38,
          95,
          44,
          120,
          82,
          139,
          44,
          40,
          223,
          55,
          45,
          49,
          132,
          103,
          41,
          106,
          121,
          55,
          55,
          54,
          86,
          130,
          133,
          60,
          60,
          108,
          243,
          46,
          50,
          138,
          48,
          112,
          67,
          364,
          161,
          99,
          103,
          223,
          86,
          329,
          347,
          89,
          179,
          76,
          80,
          182,
          74,
          102,
          118,
          118,
          82,
          126,
          198,
          433,
          677,
          92,
          85,
          92,
          92,
          92,
          218,
          248,
          9,
          33,
          83,
          61,
          76,
          75,
          118,
          190,
          102,
          54,
          102,
          84,
          102,
          153,
          47,
          28,
          19,
          24,
          27,
          62,
          138
         ],
         "y": [
          1534,
          1502,
          3700,
          1615,
          1584,
          1455,
          153,
          3766,
          219,
          765.6555197714661,
          1070.401621322562,
          1276.523999561478,
          512.6668900507627,
          316.8,
          500.6,
          488.7114259196382,
          542.6950064901426,
          927.8880667443508,
          390.226359976713,
          622.295974698001,
          627.0704069939262,
          722.2038547369609,
          606.0585739381322,
          386.15889279672143,
          783.7460153440522,
          723.7236115335272,
          1464.1399001005466,
          796.7690028822574,
          441.4961709185808,
          1641.2593843926372,
          1185.070225141517,
          1430,
          1371.0466677637833,
          639.6227190025327,
          785.1317265239802,
          605.6513974557718,
          840.7795602939437,
          541.1213634754076,
          1227.5042827435445,
          358.6630798964265,
          908.0779568975903,
          139.23,
          777.4172994334476,
          374.7328706559752,
          293,
          1441.469230918724,
          390.6,
          812.3838686603142,
          282.705,
          491.5342220975571,
          660.0781066495234,
          374.2410071629058,
          519.6921833814963,
          1325.9498720034464,
          1023.9243112558113,
          267.4605861952264,
          125.0126784293866,
          292.3191648403273,
          257.4429987200638,
          258.4922449791415,
          779.5925686438519,
          252.30115770309254,
          411.4708849469105,
          132.71637813486575,
          392.42797658969323,
          131,
          616.3621176016377,
          397.03998411933776,
          617.4427210412324,
          203.31086805640047,
          114.3,
          1064.4543308857021,
          132,
          150.48999152739475,
          203.4844652940858,
          566.6871249903728,
          416.0466607249447,
          80,
          388.6650517927162,
          500.1600001382897,
          105,
          105,
          158.778,
          272.1882232603903,
          438.0003225688138,
          396.9592545456276,
          95,
          95,
          304.15475623603965,
          796.7693293671613,
          84.84944183171025,
          69.90831404830742,
          222.9999999487169,
          82.56108455221876,
          249.93162962434027,
          184.57372780651943,
          839.5144602948892,
          297.3333333329865,
          71.62225554673924,
          211.14508739140132,
          583.7993217384887,
          263.0919715224996,
          760.84,
          827,
          219.81821015724395,
          279.93114139117307,
          127.12325977604256,
          120.54595665988676,
          326,
          89,
          51.60000769007847,
          129,
          129,
          56,
          134,
          180.41747764389882,
          381.861146321589,
          440.57298475229965,
          2590,
          1856.1489117985752,
          1911,
          1950,
          2034,
          2440,
          2460,
          157.3089628708309,
          180.09415753899842,
          1252.0212740162258,
          876.9804469605299,
          871.9065319326378,
          712.0027587390992,
          481,
          543.9780273006091,
          360,
          390.6,
          589,
          481,
          538,
          481,
          1132.322007743941,
          349.65981948421745,
          157.00159713671468,
          169.9079241266311,
          49,
          176.00050999884587,
          245
         ]
        },
        {
         "marker": {
          "color": "#7979CD"
         },
         "mode": "markers",
         "name": "Other",
         "text": [
          "Cabillaud 100 % Filet, Surgelés (8 panés)",
          "Lasagnes au saumon, Surgelées",
          "Lasagnes au chèvre et aux épinards",
          "Pommes Dauphines",
          "Pavé de lieu sauce citron riz et julienne de légumes (2,4 % MG)",
          "Hachis Parmentier",
          "Lasagnes au thon",
          "Sucre Complet Muscovado",
          "Salade De Saumon",
          "Bamboo Garden Asia Kokosmilch fettreduziert",
          "Südzucker – Gelierzucker 2+1",
          "Rewe Bio – Pfeffer, schwarz, ganz",
          "Kokosmilch",
          "Bananeira Bio Oregano Gerebelt",
          "Ostmann Kümmel ganz 35 g",
          "Sate pikante Erdnuss- Würzmischung",
          "Rapunzel Tahin (Sesammus) ohne Salz 250 g",
          "Sesame Oil",
          "Naturkraftwerke Leinöl 250 ml",
          "Migros Bio Fairtrade Kurkuma Gemahlen",
          "Biskin Spezial - Pflanzenöl mit Buttergeschmack 750 ml",
          "Old El Paso Mexican Potatoes 30 g",
          "Knorr - Primerba All' Italiana",
          "Wan Kwai Thai Curry Paste Grün",
          "PASCO Tikka Paste",
          "EDEKA Bio Klare Gemüsebrühe-Würfel 6x 11 g",
          "Rewe Bio - Natives Olivenöl Extra",
          "Ubena Bruschetta Gewürzzubereitung",
          "Monini - Classico Olivenöl Extra Vierge",
          "Bertolli – Extra Vergine",
          "Rapunzel Oliven-Würzpaste",
          "Kattus Knoblauch Paste",
          "Zimt Gemahlen",
          "Alnatura Speisestärke -reine Maisstärke-",
          "Delikato Tafel Meerrettich",
          "Schnittlauch",
          "Schnittlauch",
          "tegut...Schnittlauch",
          "Schätze des Orients Harissa",
          "Tamarinden Paste",
          "Ruf Soßenfix",
          "Aroma Mix",
          "ALNATURA - Meersalz mit Jod",
          "Mondamin Soßenbinder hell 250 g",
          "LeChef Fleisch",
          "Spar Majoran Gerebelt",
          "Rewe Bio Petersilie tiefgefroren",
          "Petersilie",
          "Bio Dill Alnatura GmbH",
          "Schnittlauch",
          "Schnittlauch",
          "M Kräutergarten Rosmarin",
          "Spar Rosmarin geschnitten",
          "Alnatura Crema con Aceto Balsamico 250 g",
          "Spar Frischer Thymian",
          "SONNENTOR Thymian 25 g",
          "Chef Menü Koriander Küchenfrisch",
          "Kühne - Balsamissimo Feine Balsamico-Creme",
          "Mondo Italiano Aceto Balsamico Di Modena I.G.P",
          "Hengstenberg Altmeister Kräuterwürzessig 0,75 ltr",
          "Bautz'ner - Senf mittelscharf",
          "Thomy - Delikatess-Senf mittelscharf",
          "ja! Delikatess Mayonnaise mit 80% Rapsöl",
          "Maille Dijonnaise",
          "Löwensenf süß",
          "Händlmaier's Hausmachersenf - süß",
          "Miracle Whip",
          "ZWERGENWIESE Curry Ketchup, 500 ml",
          "Heinz – Tomato Ketchup",
          "Rewe Ja! Tomaten Ketchup",
          "Werder Bio Tomaten Ketchup",
          "Kraft Tomaten Ketchup groß 750 ml",
          "Heinz American Mustard New York Style Mild",
          "Bio Zucker Feinkristall",
          "Dr.Oetker Muffins 370 g",
          "Feine Marzipan Rohmasse",
          "Ruf Blattgelantine Weiss  20 g",
          "Alnatura Lübecker Marzipan Rohmasse",
          "Roh-Rohrzucker",
          "Südzucker Weisser Rohrzucker",
          "Rohzucker aus Zuckerrohr",
          "ALB-GOLD Fit 'n' Free Bio Buchweizen Pasta glutenfrei,",
          "Barilla Nudeln Farfalle 500 g",
          "Edeka Bio – Spaghetti Vollkorn",
          "Shan´ shi - Mie Eiernudeln",
          "Giovanni Rana Kartoffel-Gnocchi",
          "Real,- quality Ravioli mit Spinatfüllung",
          "Settele - Gemüse-Maultauschen",
          "Knorr Penne mit Broccoli",
          "Alb-Natur Bio-Dinkel-Maultaschen mit Linsen",
          "Monolith Nord GmbH Glasnudeln",
          "Quinoa Pasta -Müscheli",
          "Maggi Ravioli in Tomatensosse 800 g",
          "EDEKA Erdnusskerne geröstet & gesalzen 200 g",
          "märschimport - Mandeln ganz",
          "Mandelmus weiß (650 g )",
          "Haselnüsse gemahlen",
          "Seeberger Cashewkerne geröstet, gesalzen",
          "Alesto - Pistazien",
          "Carat Croutons Pinienkerne",
          "Kikkoman Sushi & Sashimi",
          "A.Best Pesto-Sauce",
          "Sriracha Hot Chilli Sauce",
          "Schwartau Bourbon-Vanille Sauce",
          "EDEKA Bio Tomatenmark 2-fach konzentriert 200 g",
          "McIlhenny TABASCO Brand Pepper Sauce Original 57 ml",
          "Iglo Käpt`ns Burger Gemüseburger",
          "Mama Brand Moo Nam Tok",
          "Frosta Couscous Oriental",
          "Crêapan Leckere Pfannkuchen Classic",
          "Yum Yum Cup Nudelsuppe mit Vegetable / Gemüsegeschmack",
          "PFANNKUCHEN (penny heat & eat)",
          "Mike Mitchell's Sandwich Salami-Käse",
          "Original Wagner - Big Pizza Schinken Diavolo",
          "Indian Chicken",
          "Wagner – Original Wagner Steinofen „PIZZA Speciale“",
          "Mama Mancini - Lasagne Bolognese",
          "Iglo Gerührt & Verführt Thai Hühnchen mit Basmati Reis",
          "Dornseifer Chili con carne",
          "Berchtesgadener Land Frische Vanille Milch",
          "Eilles Gourmet Caffè Crema ganze Bohnen, 1kg",
          "Ja! –Caffè Crema, ganze Bohnen"
         ],
         "type": "scatter",
         "uid": "22e39bba-9eb6-48a9-9a8f-5d16760dadaa",
         "x": [
          425,
          430,
          485,
          345,
          590,
          0,
          0,
          136,
          0,
          49,
          35,
          32,
          57,
          75,
          83,
          131,
          218,
          218,
          265,
          68,
          255,
          106,
          144,
          119,
          69,
          97,
          430,
          78,
          442,
          442,
          186,
          115,
          84,
          121,
          99,
          38,
          38,
          38,
          89,
          114,
          131,
          63,
          68,
          171,
          76,
          75,
          83,
          83,
          83,
          65,
          65,
          75,
          75,
          54,
          75,
          75,
          84,
          75,
          97,
          137,
          20,
          28,
          183,
          122,
          71,
          53,
          88,
          125,
          94,
          152,
          145,
          163,
          240,
          34,
          62,
          128,
          257,
          131,
          75,
          75,
          75,
          50,
          52,
          50,
          55,
          18,
          46,
          71,
          142,
          80,
          52,
          111,
          106,
          178,
          214,
          214,
          283,
          267,
          356,
          152,
          48,
          333,
          82,
          237,
          347,
          134,
          65,
          103,
          52,
          104,
          195,
          108,
          125,
          210,
          233,
          381,
          358,
          595,
          475,
          115,
          1081,
          1081
         ],
         "y": [
          703,
          537,
          548,
          1168,
          393,
          561,
          508,
          1523,
          1318,
          1230.0148000138488,
          1668.4577810083395,
          76,
          1230,
          1512,
          1378,
          2086.216776068304,
          2440,
          2440,
          3330,
          180,
          3027.272727272727,
          1249.991049999241,
          1617.4189479299066,
          938.1323292658612,
          496.45690025050726,
          610.8483617555314,
          3330,
          603.3482539556736,
          3330,
          3330,
          1250.1562639370775,
          768.4783531017928,
          147,
          1510,
          583.2967099893183,
          124,
          124,
          124,
          264.81498043812485,
          1137.6,
          1375.5898413799116,
          170.76894586194402,
          0,
          1417.8323920230978,
          94.95356293935669,
          44,
          235,
          235,
          242,
          124,
          124,
          260,
          260,
          236.4,
          220,
          220,
          92,
          213.36,
          123.60440532770302,
          83.33769000096501,
          394.3340111754548,
          501.15063839820687,
          2835.8610467881654,
          1545.7642823228632,
          981.4851028139736,
          823.3090117507543,
          1061.6443370364884,
          541.2034796970942,
          449.6147646088562,
          448.164531584462,
          459.1473775096977,
          480.51150983847657,
          363.41412768246994,
          1700,
          1335.3097322100505,
          1876.4023332294348,
          1481,
          1773.5020000202578,
          1660,
          1660,
          1660,
          1450,
          1490,
          1370,
          1350.9077706156072,
          362.74644748245765,
          652.9206975111521,
          640.856091947619,
          1355.9576459393795,
          456.25508806194915,
          250.02981858672717,
          529.2,
          363.6358274782037,
          2558.9336631977826,
          2380,
          2380,
          2650,
          2450.940297486214,
          461.2080372866087,
          2019.237178417348,
          407.9939480048204,
          1916.8689053137962,
          463.6362593540523,
          605.2156332311855,
          827,
          110.2696801869508,
          747.2028681755971,
          1018.2295533453205,
          477.70793330188087,
          996.4845672634664,
          1886.4835708715866,
          809.531948579846,
          901,
          948.4221487938968,
          646.6699667702951,
          985.0435552209487,
          672.1704124458013,
          617.4811040903976,
          412.1534110671888,
          326.7155968839327,
          1660,
          1660
         ]
        },
        {
         "marker": {
          "color": "#EC9BE2"
         },
         "mode": "markers",
         "name": "Sugary snacks",
         "text": [
          "Cookies Tout Chocolat",
          "Chocolat au lait Extra fin",
          "Biscuits Matin Miel et Pépites de Chocolat",
          "Noir éclats d'amandes",
          "Chocolat Blanc Nougatine Amande",
          "Chocolat Lait classique dégustation Bio Alter Eco",
          "Pérou 85%",
          "Noir éclats de menthe",
          "Noir Zestes de Citron",
          "Cookies Nougatine",
          "Lait Caramel Beurre salé",
          "Alter eco Noir amandes entières",
          "Chocolat noir 70%",
          "Noir pointe de piment",
          "Noir Éclats de Gingembre",
          "Chocolat noir, éclats amandes",
          "Alter eco 90% Pérou",
          "Noir Fruit de la Passion",
          "Migros Engagement Bio Pumpernickel",
          "Naturkind - Pumpernickel",
          "Lieken Urkorn – Kleines Kerni mit Sonnenblumenkernen",
          "Harry - Das volle Korn",
          "enerBio Dinkel-Vollkornbrot",
          "Harry Dinkel Vollkorn",
          "ja! - 6 Baguette-Brötchen",
          "Harry 1688 Unser Mildes",
          "GOLDEN TOAST Meister Brötchen, 400 g",
          "LIEKEN URKORN Bauernmild Brot, 500 g",
          "Grafschalter Megaburger Brötchen Classic",
          "REWE Laugenstangen zum Selbstbacke",
          "Knack & Back  Sonntags-Brötchen",
          "TiP 6 Sonntagsbrötchen zum Fertigbacken",
          "Knack & Back 6 Sonntagsbrötchen …ofenfrisch",
          "Kornmühle 8 Weizenbrötchen zum Fertigbacken",
          "M-Classic Butterzopf gross Frischback",
          "Tiroler Butterzopf",
          "Em-Eukal Wildkirsch Kinder Hustenbonbons 75 g",
          "Mauritius - Schoko & Gelee",
          "EDEKA Gelee-Bananen",
          "Hitschler Bunte Schnüre",
          "Ferrero - Mon Chéri",
          "Katjes Katzenpfötchen 200 g",
          "Griesson Soft Cake Orange",
          "Marzipan Kartoffeln",
          "Niederegger Lübeck Marzipan Schwarzbrot",
          "EDEKA Cookie dark chocolate & hazelnut 200 g",
          "Lindt Edel-Marzipan",
          "Alnatura Dinkel-Doppelkeks Zartbitter",
          "Snickers",
          "Katjes - Yoghurt-Gums",
          "Mars - Schokoriegel",
          "Frey Truffes Lait",
          "Leibniz Choco Vollmilch Kekse 125 g",
          "Milka Choco Bonbon Caramel",
          "Ferrero Kinder Bueno",
          "Wrigleys Extra Professional Mints Waldfrucht 77 g",
          "Alnatura Ahornsirup Grad C",
          "YO Holunderblüte Blütensirup 0,7 ltr",
          "Alnatura Dattelsirup",
          "Dr. Oetker - Grießbrei nach klassischer Art",
          "Bio Vita Milchreis Bourbon-Vanille",
          "Mondamin Lieblings-Milchreis Klassische Art",
          "Eskimo - Konfekt Vanille mit Schokoüberzug",
          "K-Classic Chocolate Brownie Ice Cream",
          "Ben & Jerry's - Cookie Dough Ice Cream",
          "müller - Milchreis Zimt",
          "Alnatura Schoko Eiscreme",
          "Landliebe Grieß Pudding Vanille",
          "Kissyo Bio Frozen Yoghurt Natur",
          "Frozen Yo Nature 450ml"
         ],
         "type": "scatter",
         "uid": "eaac84ee-84fa-4956-9083-e109e4ef656b",
         "x": [
          305,
          655,
          250,
          153,
          251,
          160,
          178,
          153,
          177,
          160,
          150,
          122,
          237,
          219,
          205,
          153,
          197,
          214,
          22,
          22,
          30,
          27,
          20,
          39,
          43,
          40,
          45,
          42,
          51,
          47,
          67,
          73,
          76,
          14,
          188,
          165,
          34,
          39,
          43,
          46,
          63,
          59,
          77,
          134,
          158,
          167,
          173,
          170,
          235,
          138,
          241,
          361,
          361,
          314,
          467,
          133,
          34,
          55,
          95,
          64,
          104,
          97,
          219,
          289,
          230,
          129,
          319,
          210,
          186,
          206
         ],
         "y": [
          2077,
          2247,
          1979,
          2414,
          2410,
          2418,
          2665,
          2310,
          2280,
          2076,
          2351,
          2460,
          2435,
          2361,
          2339,
          2335,
          2745,
          2347,
          861.3484209795122,
          862.4146980719913,
          956.8634930944156,
          935.5690113255383,
          271.40403173962966,
          945.8506655090243,
          1106.8315195703465,
          1029.5467271526145,
          1134.071462498584,
          1064.6151189428292,
          1228.1903638209085,
          922.7413425295397,
          1083.7389283452142,
          1027.9209705789895,
          1014.9448513448745,
          25.36932714753064,
          1291.7072125499851,
          1166.8084594700224,
          1654.0821627564897,
          1518.900586506029,
          1547.796573478106,
          1449.7685312705994,
          1227.7824681519933,
          1503.029170319102,
          1444.9334046433235,
          1961.7851505862875,
          1941.9879011788955,
          2029.4708661794305,
          1969.3974504972314,
          1952.535420543024,
          1969.7901909363654,
          1334.1565938268154,
          1758.6380729714801,
          1522.797491303184,
          1627.0114827303491,
          1828.1950509702388,
          2151.796204169593,
          27.2489087106903,
          1480,
          509.4349847976842,
          438,
          1044.885713830398,
          1625.4903303406454,
          1156.7100001592842,
          1344.3376476205135,
          1128.5332655188288,
          888.4885665176414,
          436.48101158078,
          981.383829105224,
          581.948827566,
          431.6469511550975,
          347.45142917242276
         ]
        },
        {
         "marker": {
          "color": "#F0F472"
         },
         "mode": "markers",
         "name": "Carbs",
         "text": [
          "Coquillettes au Blé Complet",
          "Cheveux d'Ange (Al dente 3 min.)",
          "Coquillettes",
          "Farfalle",
          "Coquillettes (Al dente 9 min.)",
          "Coquillettes au blé intégral Bio",
          "Kelloggs Cornflakes Die Originalen 375 g",
          "Honey  Wheat - Weizenkost Mit Honig",
          "Manner Knusper Müsli",
          "Seitenbacher Vollkorn-Früchtemüsli",
          "Crunchy Granola Bites Haselnuss",
          "K Classic flakes&dark Chocolate",
          "Kölln Müsli Knusper Kokos '30% weniger Fett'",
          "Dr. Oetker Vitalis Früchtemüsli",
          "EDEKA Knusper Müsli Triple Choc",
          "Verival Bio Honig Crunchy",
          "Dr. Schär Müsli Fruit glutenfrei 375 g",
          "Crownfield - Nougat Kissen / Nougat Bits - 750 g",
          "Nestle Cini Minis Zimt 375 g",
          "Tortilla Chips Meersalz",
          "Chio Mikrowellen Popcorn salzig",
          "Süsskartoffelchips mit Rosmarin",
          "Lorenz Naturals mit Rosmarin",
          "Lay's Sticks Bacon",
          "Tortilla Chips - Hot Chili",
          "ja! - Stapelchips Paprika",
          "Grissini al rosmarino",
          "Maiswürmer Käse",
          "Pom-Bär Original",
          "Lorenz Knabbergebäck Party Clubs 200 g",
          "Uncle Cracker NatSnacks Mit Pfeffer und Olivenöl",
          "Mano Masa",
          "Crusti Croc Mini Brotchips Mit Sauerrahm- und Zwiebel-Geschmack",
          "Popcorn Leicht Meersalz Gesalzen20g",
          "Kölln Echte Kernige Haferflocken 500 g",
          "Dinkelpoffies",
          "Quinoa bio",
          "Bio Amaranth",
          "Rapunzel - Polenta-Maisgrieß",
          "Couscous",
          "Couscous",
          "Rewe Couscous Salat",
          "Reismehl",
          "Basic Langkornreis weiß",
          "Uncle Ben's Express Basmati Reis",
          "dmBio Bulgur",
          "Matiss Bulgursalat Pikant",
          "Maisgrieß Polenta, 500 g Davert",
          "tegut... Wildreis",
          "Vollreis Natura",
          "Jasmin Reis",
          "ja! Milchreis",
          "la riseria Riso Ticinese 1kg",
          "Landkorn Naturreis"
         ],
         "type": "scatter",
         "uid": "b326dbfe-f3de-4a2e-ba19-0ef3f514dfdf",
         "x": [
          4.4,
          202.36,
          200.75,
          209.85,
          198.9,
          182.85,
          29,
          54,
          86,
          85,
          111,
          94,
          107,
          85,
          126,
          126,
          121,
          162,
          98,
          55,
          97,
          73,
          70,
          76,
          95,
          102,
          98,
          144,
          108,
          112,
          105,
          130,
          171,
          97,
          79,
          51,
          79,
          69,
          50,
          50,
          50,
          43,
          122,
          122,
          124,
          121,
          84,
          58,
          258,
          258,
          258,
          258,
          258,
          258
         ],
         "y": [
          1469,
          1531,
          1531,
          1510,
          1510,
          1448,
          1458.792557381658,
          1609.793433237989,
          1805.7814346900643,
          1434.4399056861373,
          1508.0127199702322,
          1583.0540806322683,
          1702.2015578378393,
          1307.597045916033,
          1802.3457797016806,
          1782.0698761030048,
          1408.7593379115212,
          1808.6915667954447,
          653.2853207579536,
          1918.4,
          1803.5556759863807,
          1397.1436883898846,
          1192.9352293275979,
          1529.2092317804377,
          1707.572743222329,
          1898.515600764172,
          1618.9909708254522,
          2193.9382992328437,
          1888.4787010233367,
          1686.4184548669912,
          1577.5797427105279,
          1843.9209972523802,
          1846.9952572469367,
          280.45671245035993,
          1570,
          535.2,
          588,
          114,
          1480,
          351,
          351,
          804.0138599406642,
          1657,
          1657,
          1677.3719454414886,
          1378,
          821.303554265069,
          390,
          1510,
          1510,
          1480,
          1480,
          1480,
          1480
         ]
        },
        {
         "marker": {
          "color": "#D6D0C3"
         },
         "mode": "markers",
         "name": "Dairies",
         "text": [
          "Lait Écrémé",
          "Val d'Automne (28 % MG)",
          "Miel liquide fleurs d'oranger d'Espagne",
          "Emmental Français Râpé (29 % MG)",
          "Emmental Français Râpé (29 % MG)",
          "Emmental Français Râpé (29 % MG)",
          "Emmental Français Râpé (29 % MG)",
          "Lait des Plaines du Nord de la France",
          "Pâte à tartiner",
          "Yaourts aux fruits mixés",
          "Vegan Leben - Vegane Scheiben Würzig",
          "Wilmersbuger Stück Classic",
          "Patros in Öl",
          "Frischgold Körniger Frischkäse, 200 g",
          "tegut... Back-Camembert",
          "Bio Bauern Handkäse",
          "Mozzarella Sticks",
          "Bio Emmentaler mittelreif 250g",
          "Bio Bündner Bergkäse ca. 250g",
          "M-Budget Cottage Cheese",
          "ROUGETTE Ofenkäse",
          "Bavaria blu - Der Würzige",
          "Brie Schweizer Weichkäse, vollfett, pasteurisiert Bio",
          "Appenzeller Schweizer Halbhartkäse, vollfett, aus Rohmilch",
          "Alpenhain - Back-Camembert mit Wildpreiselbeeren",
          "Penny Sahne Schmelzkäsezubereitung",
          "Andechser Natur Trink-Molke Mango-Apfel",
          "Söbbeke Pauls Biomolkerei Bio Erdbeere Joghurt Mild",
          "Ehrmann FrüchteTraum Kirsche 115 g",
          "BioBio - Saure Sahne",
          "Danone Fruchtzwerge weniger süß 6x50g",
          "Andechser Natur - Bio Lassi Chai",
          "Milram Buttermilchdrink Ipanema",
          "Alnatura - Fruchtbuttermilch Orange-Maracuja",
          "Landliebe Landmilch Schoko, 350 g",
          "Bio Organic Süßrahmbutter",
          "ja! H-Schlagsahne",
          "Berchtesgadener Land – Haltbare Bergbauern Milch",
          "Bifidus - Joghurt Mango",
          "Danone -  Actimel Erdbeer-Banane",
          "Ziegenmilch Bio haltbar mindestens 3,0 % Fett Andechser Natur",
          "K-Classic Schlagsahne",
          "Alnatura Kräuterquark",
          "Berchtesgadener Land Bio-Topfen",
          "Elinas - Joghurt nach griechischer Art Natur",
          "Schwälbchen - Speisequark Magerstufe",
          "BioBio - Lassi Mango",
          "Andechser Natur Bio Mango-Vanille",
          "MARK BRANDENBURG - Joghurt mild „Mandarine”",
          "K Classic Kondensmilch Wärmebehandelt",
          "tegut... frische Vollmilch 3,7% Fett",
          "Berchtesgadener Buttermilch - Buttermilch"
         ],
         "type": "scatter",
         "uid": "95231273-2ab0-443a-ae70-52cc4e2770cd",
         "x": [
          175,
          1065,
          120,
          1113.0547,
          1113.0547,
          1127,
          1127,
          0,
          149,
          0,
          61,
          72,
          530,
          225,
          480,
          139,
          499,
          957,
          943,
          171,
          188,
          188,
          188,
          195,
          185,
          645,
          28,
          83,
          195,
          344,
          214,
          177,
          99,
          107,
          163,
          1217,
          525,
          143,
          151,
          174,
          142,
          516,
          388,
          420,
          270,
          427,
          175,
          193,
          196,
          187,
          188,
          125
         ],
         "y": [
          134,
          1393,
          1365,
          1544,
          1544,
          1544,
          1544,
          195,
          2381,
          435,
          1057.8000000335858,
          1193.5339987371335,
          2136.3897207566006,
          658.2842862928032,
          1435.1023729633869,
          166.66667276779154,
          1210.4381727688865,
          1700,
          1660,
          286.6648795386511,
          284,
          284,
          284,
          286,
          434.01714314119727,
          971.5121561738084,
          245.41186227073175,
          465.37493998425316,
          926.9097199920416,
          1380,
          910.6399998265016,
          298.5850445240203,
          248.77854780218325,
          253.55913165557374,
          337.0171926460235,
          3060,
          1196.8065613793106,
          240,
          366.6792846708036,
          373.71715085908517,
          213.3,
          1216.962762889697,
          739.8943412924924,
          759,
          438.726,
          759,
          318.36387160320146,
          354.4455147974589,
          325.19990519255407,
          282.09895013904236,
          284,
          141
         ]
        },
        {
         "marker": {
          "color": "#B69C63"
         },
         "mode": "markers",
         "name": "Meats",
         "text": [
          "Lardons Nature (2 barquettes)",
          "Lardons Fumés (2 barquettes)",
          "Saucisses de Francfort",
          "Bœuf Bourguignon et ses Tagliatelles",
          "Aiguillettes de poulet, sauce normande et son riz",
          "Nadler Delikatess Fleischsalat mit Salatcreme",
          "Ja! - Delikatess Fleischsalat",
          "Hühnerfrikassee",
          "Mein Menü Hühnerfrikassee mit Gemüseeinlage",
          "Ja! Frikadellen",
          "iska „Ungarische Salami“",
          "Migros Fleischkäse",
          "Ja! Königsberger Klopse",
          "TIP - Leberwurst fein",
          "Fein Wurst Hofmaier Frikadellen-Bällchen",
          "Hofstädter - Leber-Streichwurst",
          "Pommersche Gutsleberwurst grob",
          "Reiter - Mettwurst fein",
          "Wilhelm Brandenburg - Rosmarinschinken, gegart",
          "Feine Wurst Hofmaier Bockwürstchen",
          "Bockwurst",
          "REWE Beste Wahl Pfannengyros",
          "Timmendorfer Traditions Ostsee-Kernschinken",
          "Du darfst - Die Hauchfeine Baguette Salami",
          "HEIDEMETZGER Frühstücksmett - pikant",
          "Meica Trueman´s Hot Dog Würstchen",
          "Dulano Selection Prosciutto Cotto",
          "Aoste Ringsalami luftgetrocknet 250 g",
          "Chili con Carne",
          "Chili con Carne",
          "K Classic Hähnchenbrust In Aspik",
          "Iglo Gastronomie - Rindsgulasch im 1-Portionen-Kochbeutel",
          "Ja! Natürlich Klassischer Leberkäse",
          "Landjunker Rinderhackfleisch",
          "Bio Bio Rinderhackfleisch"
         ],
         "type": "scatter",
         "uid": "cd67a238-0fde-495f-9689-1a9b62d468b6",
         "x": [
          945,
          945,
          825,
          770,
          495,
          218,
          189,
          195,
          195,
          443,
          641,
          462,
          302,
          635,
          571,
          573,
          567,
          678,
          518,
          518,
          632,
          635,
          634,
          637,
          655,
          556,
          643,
          655,
          393,
          393,
          678,
          599,
          1400,
          1688,
          1688
         ],
         "y": [
          1016,
          1025,
          1286,
          539,
          536,
          1548.172074688813,
          1177.3520043232982,
          1057.4110700129581,
          400.7991504300247,
          830.6231263391071,
          1078.3698609339467,
          711.1302994656525,
          536.9260158705767,
          864.3396301019983,
          763.0432528454048,
          643.3701975015325,
          556.3497680168962,
          760.1394087168195,
          500.80887499491735,
          504.84093274324107,
          629.1169613841128,
          624.6298922104413,
          610.642265284005,
          614.9658090734888,
          636.3885921786897,
          531.9060919343276,
          628.7616536888881,
          653.5788629496767,
          441.6760262530524,
          441.6760262530524,
          445.84179707691106,
          566.4436758264004,
          698.3905204815802,
          433,
          433
         ]
        },
        {
         "marker": {
          "color": "#F3AC6D"
         },
         "mode": "markers",
         "name": "Beverages",
         "text": [
          "Eau Minérale",
          "100 % Pur Jus Orange",
          "Rooibos nature bio & équitable",
          "Rooibos épices",
          "Nectar ananas mangue passion",
          "Nectar banane goyave acerola",
          "Goyave passion ",
          "Berioo Bio Kakao-Nibs",
          "SUCHARD Kakao Express",
          "milka schhikolade",
          "Granini Trinkgenuss Banane 1 ltr PET",
          "hohes C Milde Orange",
          "Saft - Blutorangen",
          "Innocent Super Smoothie Activate",
          "Edeka Premium Apfel Direktsaft",
          "Villa Sandi Prosecco Frizzante DOC",
          "Mezzacorona Merlot DOC Rotwein  2013 0,75 ltr",
          "Rotkäppchen Sekt trocken 0,75 ltr"
         ],
         "type": "scatter",
         "uid": "2124114e-b719-40e6-8568-418a8ae292d7",
         "x": [
          0,
          130,
          607,
          562,
          300,
          94,
          102,
          74,
          41,
          120,
          18,
          65,
          65,
          69,
          80,
          140,
          140,
          146
         ],
         "y": [
          0,
          159,
          17,
          84,
          207,
          214,
          205,
          1690,
          1324.0366734791453,
          316.2623284370375,
          244.3342495175453,
          216.49,
          216,
          204.83700633963014,
          161.75967377481618,
          293,
          287,
          293
         ]
        },
        {
         "marker": {
          "color": "#8CB5ED"
         },
         "mode": "markers",
         "name": "Seafood",
         "text": [
          "Truite fumée au bois de hêtre (6 tranches) - 150 g",
          "Truite fumée Capaccio au Poivre de Sichuan",
          "Truite Fumée Pyrénées (4 tranches) - 120 g",
          "Truite Fumée Pyrénées",
          "Truite fumée Pyrénées Offre exceptionnelle",
          "Fürsten Krone Herings Happen",
          "Appel Zarte Sardinen Madeleine Rot 105 g",
          "Rewe Ja! Thunfischfilets In Sonnenblumenöl",
          "Nordsee Flußkrebs Cocktail Apfel & Curry",
          "iglo 15 Käpt'ns Fischstäbchen",
          "Nordsee Krabbensalad",
          "Thunfischfilets in Olivenöl",
          "Iglo - Schlemmerfilet à la Bordelaise Classic",
          "Frosta Schlemmerfilet Bordelaise",
          "Frosta Fischstäbchen",
          "Saupiquet Thunfisch in Tomatensauce"
         ],
         "type": "scatter",
         "uid": "6b6dada1-9192-4d84-937e-2816cdd98411",
         "x": [
          900,
          828,
          828,
          2760,
          828,
          152,
          298,
          363,
          211,
          281,
          414,
          411,
          319,
          248,
          367,
          285
         ],
         "y": [
          669,
          695,
          669,
          2230,
          618,
          936.1587981712655,
          1265.9213375498548,
          1130.460661343601,
          689.5583986165209,
          783.5447388276344,
          766.6734310092658,
          747.973682500156,
          684.7463458042263,
          465.6139331212495,
          774.2212383818526,
          476.7897584092182
         ]
        },
        {
         "marker": {
          "color": "#FCE2E4"
         },
         "mode": "markers",
         "name": "Salty snacks",
         "text": [
          "Chips saveur poulet thym",
          "Schwartau Spezialitäten Pflaumenmus 350 g",
          "Langnese Landhonig goldcremig 500 g",
          "Schwartau extra Konfitüre Samt Erdbeere 270 g"
         ],
         "type": "scatter",
         "uid": "96935725-ad4a-4bf9-be20-8a71938e4364",
         "x": [
          340,
          43,
          129,
          114
         ],
         "y": [
          2296,
          790.8168739940761,
          1300,
          924.3077543690567
         ]
        }
       ],
       "layout": {
        "xaxis": {
         "range": [
          0,
          505.8000000000006
         ],
         "title": "Carbon footprint per 100g [g]"
        },
        "yaxis": {
         "range": [
          0,
          1945.1927407073376
         ],
         "title": "Energy per 100g [kj]"
        }
       }
      },
      "text/html": [
       "<div id=\"57c20972-fc23-4e57-8d01-39cbc17b92c8\" style=\"height: 525px; width: 100%;\" class=\"plotly-graph-div\"></div><script type=\"text/javascript\">require([\"plotly\"], function(Plotly) { window.PLOTLYENV=window.PLOTLYENV || {};window.PLOTLYENV.BASE_URL=\"https://plot.ly\";Plotly.newPlot(\"57c20972-fc23-4e57-8d01-39cbc17b92c8\", [{\"marker\": {\"color\": \"#90CB70\"}, \"mode\": \"markers\", \"name\": \"Plant-based\", \"text\": [\"Riz long grain Camargue\", \"Pains au lait (x 10) aux p\\u00e9pites de chocolat au lait 350 g\", \"Huile d'olive vierge extra, extraite \\u00e0 froid\", \"Riz & bl\\u00e9 complet Nature\", \"Riz & bl\\u00e9 complet - Fruits rouges\", \"Farine de bl\\u00e9 fluide\", \"Boisson aux fruits plate tropical\", \"Fleur de Colza\", \"Banane coco Alter Eco\", \"K Classic - Junger Gem\\u00fcsemais\", \"ja! Gem\\u00fcsemais\", \"Sera Ajvar\", \"Botato Kartoffel Wedges\", \"Pfanni Kartoffel P\\u00fcree besonders locker 3 x 80 g\", \"Agrarfrost Germany Knusper Frites\", \"Backofen R\\u00f6sti Ecken - aus Qualit\\u00e4tskartoffeln\", \"M-Budget Pommes Frites 3kg\", \"Violife Creamy Cucumber & Dill\", \"Penny - Kartoffelkn\\u00f6del halb & halb\", \"Agrarfrost Mini Kroketten\", \"Burgis Schupfnudeln\", \"Kartoffelsalat\", \"Ja! Kroketten\", \"real,- R\\u00f6sti k\\u00fcchenfertig\", \"Brotaufstrich Paprika-Cashew\", \"Bofrost Schupfnudeln\", \"Aubergine Streichcreme mit feinen Auberginen-St\\u00fccken\", \"Mei Tai Maisk\\u00f6lbchen\", \"Kartoffelpuffer\", \"K\\u00fcstengold R\\u00f6stzwiebeln\", \"Gem\\u00fcse R\\u00f6sti 500g\", \"Edeka S\\u00fc\\u00dfkartoffeln\", \"ALNATURA Brotaufstrich Kichererbse mit Ingwer\", \"ja Kartoffel-Kn\\u00f6del halb und halb\", \"Letscho Premium\", \"Natsu Salat Dinkel-Quinoa Mit Edamame\", \"VITAM Kichererbsen Brotaufstrich, 125g\", \"Delikatess-Krautsalad\", \"Hummus\", \"Migros Kichererbsen\", \"Demeter Campo Verde Brotaufstrich Basilikum-Tomate 110 g\", \"M-Classic Schwarzwurzeln\", \"Gourmet Compagnie Semmelkn\\u00f6del\", \"Bonduelle - Linsen\", \"EDEKA BIO TAFELTRAUBWN\", \"Viana Jungle Energizer\", \"ALNATURA - Junge Erbsen\", \"Coop Betty Bossi Taboul\\u00e9-Salat Oriental\", \"Rapunzel Oliven Kalamata mit Stein in Lake\", \"Alnatura Kichererbsen 350 g\", \"\\u039c\\u0391\\u039d\\u0399 Kalamata Olivenpaste, bio NL Fair, 180g Glas\", \"Pfannengem\\u00fcse - Franz\\u00f6sische Art\", \"K\\u00fchlmann - Bunter Bohnensalat mit Quinoa\", \"Crostini-Dip\", \"Eier Salat\", \"Migros Bio Griechische Oliven Amphisis\", \"Sauerkraut\", \"Schlemmert\\u00f6pfchen - Rote Beete Kugeln\", \"REWE Feine Welt Kalamata Oliven\", \"Feinkost Dittmann - Oliven, gr\\u00fcn ohne Stein\", \"Bio Sonne Bio-Brotaufstrich Tomate-Basilikum\", \"Ibero Spanische gr\\u00fcne Manzanilla Oliven gef\\u00fcllt mit Jalape\\u00f1ocreme\", \"Marmara Schwarze Oliven Mit Stein Devasa\", \"Real,- Bio kaisergem\\u00fcse Blumenkohl, Karotten Und Broccoli\", \"Feinkost Dittmann Spanische gr\\u00fcne Oliven gef\\u00fcllt mit Paprikapaste\", \"Spar Natur pur Bio Broccoli\", \"K-Classic Kartoffelbrei\", \"Bushs Best Kidney Beans\", \"Alnatura 24/7 Bio Gr\\u00fcne Oliven mit Mandeln\", \"Hengstenberg Rote Bete-Salat 330 g\", \"Hainich Sauerkraut\", \"Rapunzel Kapern in Oliven\\u00f6l\", \"EDEKA Steinpilze\", \"Suppengr\\u00fcn\", \"Hengstenberg Rotessa Rotkohl traditionell 550 g\", \"Real Bio Buttergem\\u00fcse\", \"Iglo Buttergem\\u00fcse fein & knackig, 300 g\", \"Coop Naturaplan Bio Zucchetti\", \"EDEKA Chili-Bohnen 425 g\", \"Pfanni Kartoffel P\\u00fcree mit entrahmter Milch komplett 3x 94,5 g\", \"Ostmann - Austernpilze getrocknet\", \"REWE Beste Wahl Austernpilze Aromatisch\", \"M Classic Russischer Salat\", \"Frosta Gem\\u00fcse Pfanne Sommergarten\", \"Rahm Gem\\u00fcse bunte Karotten & Erbsen\", \"Alpenfest Rustikale Kartoffelpfanne\", \"ardo - Blattspinat\", \"BLATTSPINAT\", \"Iglo Rahm-Gem\\u00fcse - Rosenkohl\", \"ButterGem\\u00fcse    Frosta\", \"Mutti Datterini Datteltomaten 400 g\", \"EDEKA Stangenspargel 530 g\", \"EDEKA Italia Gesch\\u00e4lte Tomaten 800 g\", \"Alnatura Bio ganze Tomaten, gesch\\u00e4lt 400 g\", \"Penny Rahm-Spinat Erntefrisch Tiefgefroren\", \"Rewe Beste Wahl Cornichons mit Kr\\u00e4utern\", \"Schwarmstedter Kartoffeltaschen\", \"K Classic Pizza-Tomaten St\\u00fcckig\", \"Feinkost Dittmann Artischockenherzen je la Toscana\", \"Ja! Nat\\u00fcrlich - Mediterrane Pfanne\", \"Via Emilia Antipasto di verdura\", \"Hengstenberg Honiggurken 330 g\", \"Seeberger Tomaten getrocknet\", \"Bio Oraganic Strauchtomaten\", \"K\\u00fchne Rotkohl Original  350 g\", \"Saladinettes Salat Mexicana\", \"Th\\u00fcringer Landgarten Bio Cornichons\", \"Freshona Cornichons\", \"ORO di Parma Tomatenmark 2-fach konzentriert, 70 g\", \"Coop Naturaplan Bio Tomaten Schweiz Freiland\", \"REWE Beste Wahl \\u2013 Peperoni nach griechischer Art\", \"ALNATURA - Brechbohnen\", \"COOP Bio Bohnen fein\", \"Greenyard Snack Gurken\", \"Bio Spitzpaprika Rot Alnatura\", \"FRoSTa Gem\\u00fcse Pfanne Thai\", \"Rewe Beste Wahl Schwarze Bohnen in Chilisauce\", \"M-Classic Borlotti-Bohnen\", \"Meienburg Sonnenblumenkerne\", \"\\u00c7ekirdeko Salzige Sonnenblumenkerne\", \"M\\u00e4rsch Blaumohn\", \"Leinsamen\", \"Chia-Samen\", \"Dm Bio Sesam Ungesch\\u00e4lt\", \"Coop Naturaplan Bio Pinienkerne\", \"ALNATURA Dinkel Drink Natur\", \"Coop Naturaplan Bio Quinoa-Reisgetr\\u00e4nk\", \"Vegafit - Vegane Nuggets\", \"Soto Burger S\\u00fc\\u00dfkartoffel\", \"Taifun Tofu-Grillknacker\", \"Eden - vegetarische Salami\", \"granoVita Vegane Leberwurst\", \"R\\u00fcgenwalder M\\u00fchle - Vegetarischer Schinken Spicker Mortadella\", \"Linsen rot\", \"Viva Vital - Feine gr\\u00fcne Erbsen\", \"Alnatura Beluga Linsen 500g\", \"Rapunzel Weisse Bohnen\", \"Kichererbsen, 500 g Davert\", \"M\\u00fcller\\u00b4s M\\u00fchle Red Kidney Bohnen\", \"Orangeat\", \"Odenwald Apfelmus mit Vanille 720 g\", \"Alnatura Bio Sauerkirschen entsteint 360 g\", \"Jeden Tag - Orangen Navel Late (2 kg)\", \"Frosta Erdbeeren ungezuckert\", \"Beerenmix tiefgefroren\", \"Heidelbeeren Nature's Pride\"], \"x\": [545.0, 325.0, 276.0, 485.0, 560.0, 165.0, 5.0, 150.0, 102.0, 9.0, 17.0, 44.0, 20.0, 12.0, 22.0, 23.0, 25.0, 52.0, 19.0, 34.0, 32.0, 42.0, 38.0, 27.0, 60.0, 48.0, 118.0, 50.0, 30.0, 128.0, 79.0, 68.0, 125.0, 48.0, 78.0, 74.0, 94.0, 56.0, 137.0, 47.0, 96.0, 21.0, 83.0, 55.0, 28.0, 172.0, 54.0, 96.0, 50.0, 78.0, 101.0, 68.0, 75.0, 206.0, 172.0, 53.0, 30.0, 42.0, 55.0, 55.0, 124.0, 57.0, 87.0, 38.0, 95.0, 44.0, 120.0, 82.0, 139.0, 44.0, 40.0, 223.0, 55.0, 45.0, 49.0, 132.0, 103.0, 41.0, 106.0, 121.0, 55.0, 55.0, 54.0, 86.0, 130.0, 133.0, 60.0, 60.0, 108.0, 243.0, 46.0, 50.0, 138.0, 48.0, 112.0, 67.0, 364.0, 161.0, 99.0, 103.0, 223.0, 86.0, 329.0, 347.0, 89.0, 179.0, 76.0, 80.0, 182.0, 74.0, 102.0, 118.0, 118.0, 82.0, 126.0, 198.0, 433.0, 677.0, 92.0, 85.0, 92.0, 92.0, 92.0, 218.0, 248.0, 9.0, 33.0, 83.0, 61.0, 76.0, 75.0, 118.0, 190.0, 102.0, 54.0, 102.0, 84.0, 102.0, 153.0, 47.0, 28.0, 19.0, 24.0, 27.0, 62.0, 138.0], \"y\": [1534.0, 1502.0, 3700.0, 1615.0, 1584.0, 1455.0, 153.0, 3766.0, 219.0, 765.6555197714661, 1070.401621322562, 1276.523999561478, 512.6668900507627, 316.8, 500.6, 488.7114259196382, 542.6950064901426, 927.8880667443508, 390.226359976713, 622.295974698001, 627.0704069939262, 722.2038547369609, 606.0585739381322, 386.15889279672143, 783.7460153440522, 723.7236115335272, 1464.1399001005466, 796.7690028822574, 441.4961709185808, 1641.2593843926372, 1185.070225141517, 1430.0, 1371.0466677637833, 639.6227190025327, 785.1317265239802, 605.6513974557718, 840.7795602939437, 541.1213634754076, 1227.5042827435445, 358.6630798964265, 908.0779568975903, 139.23, 777.4172994334476, 374.7328706559752, 293.0, 1441.469230918724, 390.6, 812.3838686603142, 282.705, 491.5342220975571, 660.0781066495234, 374.2410071629058, 519.6921833814963, 1325.9498720034464, 1023.9243112558113, 267.4605861952264, 125.0126784293866, 292.3191648403273, 257.4429987200638, 258.4922449791415, 779.5925686438519, 252.30115770309254, 411.4708849469105, 132.71637813486575, 392.42797658969323, 131.0, 616.3621176016377, 397.03998411933776, 617.4427210412324, 203.31086805640047, 114.3, 1064.4543308857021, 132.0, 150.48999152739475, 203.4844652940858, 566.6871249903728, 416.0466607249447, 80.0, 388.6650517927162, 500.1600001382897, 105.0, 105.0, 158.778, 272.1882232603903, 438.0003225688138, 396.9592545456276, 95.0, 95.0, 304.15475623603965, 796.7693293671613, 84.84944183171025, 69.90831404830742, 222.9999999487169, 82.56108455221876, 249.93162962434027, 184.57372780651943, 839.5144602948892, 297.3333333329865, 71.62225554673924, 211.14508739140132, 583.7993217384887, 263.0919715224996, 760.84, 827.0, 219.81821015724395, 279.93114139117307, 127.12325977604256, 120.54595665988676, 326.0, 89.0, 51.60000769007847, 129.0, 129.0, 56.0, 134.0, 180.41747764389882, 381.861146321589, 440.57298475229965, 2590.0, 1856.1489117985752, 1911.0, 1950.0, 2034.0, 2440.0, 2460.0, 157.3089628708309, 180.09415753899842, 1252.0212740162258, 876.9804469605299, 871.9065319326378, 712.0027587390992, 481.0, 543.9780273006091, 360.0, 390.6, 589.0, 481.0, 538.0, 481.0, 1132.322007743941, 349.65981948421745, 157.00159713671468, 169.9079241266311, 49.0, 176.00050999884587, 245.0], \"type\": \"scatter\", \"uid\": \"a564289f-458a-484c-a13e-128cba588ce2\"}, {\"marker\": {\"color\": \"#7979CD\"}, \"mode\": \"markers\", \"name\": \"Other\", \"text\": [\"Cabillaud 100 % Filet, Surgel\\u00e9s (8 pan\\u00e9s)\", \"Lasagnes au saumon, Surgel\\u00e9es\", \"Lasagnes au ch\\u00e8vre et aux \\u00e9pinards\", \"Pommes Dauphines\", \"Pav\\u00e9 de lieu sauce citron riz et julienne de l\\u00e9gumes (2,4 % MG)\", \"Hachis Parmentier\", \"Lasagnes au thon\", \"Sucre Complet Muscovado\", \"Salade De Saumon\", \"Bamboo Garden Asia Kokosmilch fettreduziert\", \"S\\u00fcdzucker \\u2013 Gelierzucker 2+1\", \"Rewe Bio \\u2013 Pfeffer, schwarz, ganz\", \"Kokosmilch\", \"Bananeira Bio Oregano Gerebelt\", \"Ostmann K\\u00fcmmel ganz 35 g\", \"Sate pikante Erdnuss- W\\u00fcrzmischung\", \"Rapunzel Tahin (Sesammus) ohne Salz 250 g\", \"Sesame Oil\", \"Naturkraftwerke Lein\\u00f6l 250 ml\", \"Migros Bio Fairtrade Kurkuma Gemahlen\", \"Biskin Spezial - Pflanzen\\u00f6l mit Buttergeschmack 750 ml\", \"Old El Paso Mexican Potatoes 30 g\", \"Knorr - Primerba All' Italiana\", \"Wan Kwai Thai Curry Paste Gr\\u00fcn\", \"PASCO Tikka Paste\", \"EDEKA Bio Klare Gem\\u00fcsebr\\u00fche-W\\u00fcrfel 6x 11 g\", \"Rewe Bio - Natives Oliven\\u00f6l Extra\", \"Ubena Bruschetta Gew\\u00fcrzzubereitung\", \"Monini - Classico Oliven\\u00f6l Extra Vierge\", \"Bertolli \\u2013 Extra Vergine\", \"Rapunzel Oliven-W\\u00fcrzpaste\", \"Kattus Knoblauch Paste\", \"Zimt Gemahlen\", \"Alnatura Speisest\\u00e4rke -reine Maisst\\u00e4rke-\", \"Delikato Tafel Meerrettich\", \"Schnittlauch\", \"Schnittlauch\", \"tegut...Schnittlauch\", \"Sch\\u00e4tze des Orients Harissa\", \"Tamarinden Paste\", \"Ruf So\\u00dfenfix\", \"Aroma Mix\", \"ALNATURA - Meersalz mit Jod\", \"Mondamin So\\u00dfenbinder hell 250 g\", \"LeChef Fleisch\", \"Spar Majoran Gerebelt\", \"Rewe Bio Petersilie tiefgefroren\", \"Petersilie\", \"Bio Dill Alnatura GmbH\", \"Schnittlauch\", \"Schnittlauch\", \"M Kr\\u00e4utergarten Rosmarin\", \"Spar Rosmarin geschnitten\", \"Alnatura Crema con Aceto Balsamico 250 g\", \"Spar Frischer Thymian\", \"SONNENTOR Thymian 25 g\", \"Chef Men\\u00fc Koriander K\\u00fcchenfrisch\", \"K\\u00fchne - Balsamissimo Feine Balsamico-Creme\", \"Mondo Italiano Aceto Balsamico Di Modena I.G.P\", \"Hengstenberg Altmeister Kr\\u00e4uterw\\u00fcrzessig 0,75 ltr\", \"Bautz'ner - Senf mittelscharf\", \"Thomy - Delikatess-Senf mittelscharf\", \"ja! Delikatess Mayonnaise mit 80% Raps\\u00f6l\", \"Maille Dijonnaise\", \"L\\u00f6wensenf s\\u00fc\\u00df\", \"H\\u00e4ndlmaier's Hausmachersenf - s\\u00fc\\u00df\", \"Miracle Whip\", \"ZWERGENWIESE Curry Ketchup, 500 ml\", \"Heinz \\u2013 Tomato Ketchup\", \"Rewe Ja! Tomaten Ketchup\", \"Werder Bio Tomaten Ketchup\", \"Kraft Tomaten Ketchup gro\\u00df 750 ml\", \"Heinz American Mustard New York Style Mild\", \"Bio Zucker Feinkristall\", \"Dr.Oetker Muffins 370 g\", \"Feine Marzipan Rohmasse\", \"Ruf Blattgelantine Weiss  20 g\", \"Alnatura L\\u00fcbecker Marzipan Rohmasse\", \"Roh-Rohrzucker\", \"S\\u00fcdzucker Weisser Rohrzucker\", \"Rohzucker aus Zuckerrohr\", \"ALB-GOLD Fit 'n' Free Bio Buchweizen Pasta glutenfrei,\", \"Barilla Nudeln Farfalle 500 g\", \"Edeka Bio \\u2013 Spaghetti Vollkorn\", \"Shan\\u00b4 shi - Mie Eiernudeln\", \"Giovanni Rana Kartoffel-Gnocchi\", \"Real,- quality Ravioli mit Spinatf\\u00fcllung\", \"Settele - Gem\\u00fcse-Maultauschen\", \"Knorr Penne mit Broccoli\", \"Alb-Natur Bio-Dinkel-Maultaschen mit Linsen\", \"Monolith Nord GmbH Glasnudeln\", \"Quinoa Pasta -M\\u00fcscheli\", \"Maggi Ravioli in Tomatensosse 800 g\", \"EDEKA Erdnusskerne ger\\u00f6stet & gesalzen 200 g\", \"m\\u00e4rschimport - Mandeln ganz\", \"Mandelmus wei\\u00df (650 g )\", \"Haseln\\u00fcsse gemahlen\", \"Seeberger Cashewkerne ger\\u00f6stet, gesalzen\", \"Alesto - Pistazien\", \"Carat Croutons Pinienkerne\", \"Kikkoman Sushi & Sashimi\", \"A.Best Pesto-Sauce\", \"Sriracha Hot Chilli Sauce\", \"Schwartau Bourbon-Vanille Sauce\", \"EDEKA Bio Tomatenmark 2-fach konzentriert 200 g\", \"McIlhenny TABASCO Brand Pepper Sauce Original 57 ml\", \"Iglo K\\u00e4pt`ns Burger Gem\\u00fcseburger\", \"Mama Brand Moo Nam Tok\", \"Frosta Couscous Oriental\", \"Cr\\u00eaapan Leckere Pfannkuchen Classic\", \"Yum Yum Cup Nudelsuppe mit Vegetable / Gem\\u00fcsegeschmack\", \"PFANNKUCHEN (penny heat & eat)\", \"Mike Mitchell's Sandwich Salami-K\\u00e4se\", \"Original Wagner - Big Pizza Schinken Diavolo\", \"Indian Chicken\", \"Wagner \\u2013 Original Wagner Steinofen \\u201ePIZZA Speciale\\u201c\", \"Mama Mancini - Lasagne Bolognese\", \"Iglo Ger\\u00fchrt & Verf\\u00fchrt Thai H\\u00fchnchen mit Basmati Reis\", \"Dornseifer Chili con carne\", \"Berchtesgadener Land Frische Vanille Milch\", \"Eilles Gourmet Caff\\u00e8 Crema ganze Bohnen, 1kg\", \"Ja! \\u2013Caff\\u00e8 Crema, ganze Bohnen\"], \"x\": [425.0, 430.0, 485.0, 345.0, 590.0, 0.0, 0.0, 136.0, 0.0, 49.0, 35.0, 32.0, 57.0, 75.0, 83.0, 131.0, 218.0, 218.0, 265.0, 68.0, 255.0, 106.0, 144.0, 119.0, 69.0, 97.0, 430.0, 78.0, 442.0, 442.0, 186.0, 115.0, 84.0, 121.0, 99.0, 38.0, 38.0, 38.0, 89.0, 114.0, 131.0, 63.0, 68.0, 171.0, 76.0, 75.0, 83.0, 83.0, 83.0, 65.0, 65.0, 75.0, 75.0, 54.0, 75.0, 75.0, 84.0, 75.0, 97.0, 137.0, 20.0, 28.0, 183.0, 122.0, 71.0, 53.0, 88.0, 125.0, 94.0, 152.0, 145.0, 163.0, 240.0, 34.0, 62.0, 128.0, 257.0, 131.0, 75.0, 75.0, 75.0, 50.0, 52.0, 50.0, 55.0, 18.0, 46.0, 71.0, 142.0, 80.0, 52.0, 111.0, 106.0, 178.0, 214.0, 214.0, 283.0, 267.0, 356.0, 152.0, 48.0, 333.0, 82.0, 237.0, 347.0, 134.0, 65.0, 103.0, 52.0, 104.0, 195.0, 108.0, 125.0, 210.0, 233.0, 381.0, 358.0, 595.0, 475.0, 115.0, 1081.0, 1081.0], \"y\": [703.0, 537.0, 548.0, 1168.0, 393.0, 561.0, 508.0, 1523.0, 1318.0, 1230.0148000138488, 1668.4577810083395, 76.0, 1230.0, 1512.0, 1378.0, 2086.216776068304, 2440.0, 2440.0, 3330.0, 180.0, 3027.272727272727, 1249.991049999241, 1617.4189479299066, 938.1323292658612, 496.45690025050726, 610.8483617555314, 3330.0, 603.3482539556736, 3330.0, 3330.0, 1250.1562639370775, 768.4783531017928, 147.0, 1510.0, 583.2967099893183, 124.0, 124.0, 124.0, 264.81498043812485, 1137.6, 1375.5898413799116, 170.76894586194402, 0.0, 1417.8323920230978, 94.95356293935669, 44.0, 235.0, 235.0, 242.0, 124.0, 124.0, 260.0, 260.0, 236.4, 220.0, 220.0, 92.0, 213.36, 123.60440532770302, 83.33769000096501, 394.3340111754548, 501.15063839820687, 2835.8610467881654, 1545.7642823228632, 981.4851028139736, 823.3090117507543, 1061.6443370364884, 541.2034796970942, 449.6147646088562, 448.164531584462, 459.1473775096977, 480.51150983847657, 363.41412768246994, 1700.0, 1335.3097322100505, 1876.4023332294348, 1481.0, 1773.5020000202578, 1660.0, 1660.0, 1660.0, 1450.0, 1490.0, 1370.0, 1350.9077706156072, 362.74644748245765, 652.9206975111521, 640.856091947619, 1355.9576459393795, 456.25508806194915, 250.02981858672717, 529.2, 363.6358274782037, 2558.9336631977826, 2380.0, 2380.0, 2650.0, 2450.940297486214, 461.2080372866087, 2019.237178417348, 407.9939480048204, 1916.8689053137962, 463.6362593540523, 605.2156332311855, 827.0, 110.2696801869508, 747.2028681755971, 1018.2295533453205, 477.70793330188087, 996.4845672634664, 1886.4835708715866, 809.531948579846, 901.0, 948.4221487938968, 646.6699667702951, 985.0435552209487, 672.1704124458013, 617.4811040903976, 412.1534110671888, 326.7155968839327, 1660.0, 1660.0], \"type\": \"scatter\", \"uid\": \"68f47ff8-b95e-4b0d-b170-9de9e6562ce7\"}, {\"marker\": {\"color\": \"#EC9BE2\"}, \"mode\": \"markers\", \"name\": \"Sugary snacks\", \"text\": [\"Cookies Tout Chocolat\", \"Chocolat au lait Extra fin\", \"Biscuits Matin Miel et P\\u00e9pites de Chocolat\", \"Noir \\u00e9clats d'amandes\", \"Chocolat Blanc Nougatine Amande\", \"Chocolat Lait classique d\\u00e9gustation Bio Alter Eco\", \"P\\u00e9rou 85%\", \"Noir \\u00e9clats de menthe\", \"Noir Zestes de Citron\", \"Cookies Nougatine\", \"Lait Caramel Beurre sal\\u00e9\", \"Alter eco Noir amandes enti\\u00e8res\", \"Chocolat noir 70%\", \"Noir pointe de piment\", \"Noir \\u00c9clats de Gingembre\", \"Chocolat noir, \\u00e9clats amandes\", \"Alter eco 90% P\\u00e9rou\", \"Noir Fruit de la Passion\", \"Migros Engagement Bio Pumpernickel\", \"Naturkind - Pumpernickel\", \"Lieken Urkorn \\u2013 Kleines Kerni mit Sonnenblumenkernen\", \"Harry - Das volle Korn\", \"enerBio Dinkel-Vollkornbrot\", \"Harry Dinkel Vollkorn\", \"ja! - 6 Baguette-Br\\u00f6tchen\", \"Harry 1688 Unser Mildes\", \"GOLDEN TOAST Meister Br\\u00f6tchen, 400 g\", \"LIEKEN URKORN Bauernmild Brot, 500 g\", \"Grafschalter Megaburger Br\\u00f6tchen Classic\", \"REWE Laugenstangen zum Selbstbacke\", \"Knack & Back  Sonntags-Br\\u00f6tchen\", \"TiP 6 Sonntagsbr\\u00f6tchen zum Fertigbacken\", \"Knack & Back 6 Sonntagsbr\\u00f6tchen \\u2026ofenfrisch\", \"Kornm\\u00fchle 8 Weizenbr\\u00f6tchen zum Fertigbacken\", \"M-Classic Butterzopf gross Frischback\", \"Tiroler Butterzopf\", \"Em-Eukal Wildkirsch Kinder Hustenbonbons 75 g\", \"Mauritius - Schoko & Gelee\", \"EDEKA Gelee-Bananen\", \"Hitschler Bunte Schn\\u00fcre\", \"Ferrero - Mon Ch\\u00e9ri\", \"Katjes Katzenpf\\u00f6tchen 200 g\", \"Griesson Soft Cake Orange\", \"Marzipan Kartoffeln\", \"Niederegger L\\u00fcbeck Marzipan Schwarzbrot\", \"EDEKA Cookie dark chocolate & hazelnut 200 g\", \"Lindt Edel-Marzipan\", \"Alnatura Dinkel-Doppelkeks Zartbitter\", \"Snickers\", \"Katjes - Yoghurt-Gums\", \"Mars - Schokoriegel\", \"Frey Truffes Lait\", \"Leibniz Choco Vollmilch Kekse 125 g\", \"Milka Choco Bonbon Caramel\", \"Ferrero Kinder Bueno\", \"Wrigleys Extra Professional Mints Waldfrucht 77 g\", \"Alnatura Ahornsirup Grad C\", \"YO Holunderbl\\u00fcte Bl\\u00fctensirup 0,7 ltr\", \"Alnatura Dattelsirup\", \"Dr. Oetker - Grie\\u00dfbrei nach klassischer Art\", \"Bio Vita Milchreis Bourbon-Vanille\", \"Mondamin Lieblings-Milchreis Klassische Art\", \"Eskimo - Konfekt Vanille mit Schoko\\u00fcberzug\", \"K-Classic Chocolate Brownie Ice Cream\", \"Ben & Jerry's - Cookie Dough Ice Cream\", \"m\\u00fcller - Milchreis Zimt\", \"Alnatura Schoko Eiscreme\", \"Landliebe Grie\\u00df Pudding Vanille\", \"Kissyo Bio Frozen Yoghurt Natur\", \"Frozen Yo Nature 450ml\"], \"x\": [305.0, 655.0, 250.0, 153.0, 251.0, 160.0, 178.0, 153.0, 177.0, 160.0, 150.0, 122.0, 237.0, 219.0, 205.0, 153.0, 197.0, 214.0, 22.0, 22.0, 30.0, 27.0, 20.0, 39.0, 43.0, 40.0, 45.0, 42.0, 51.0, 47.0, 67.0, 73.0, 76.0, 14.0, 188.0, 165.0, 34.0, 39.0, 43.0, 46.0, 63.0, 59.0, 77.0, 134.0, 158.0, 167.0, 173.0, 170.0, 235.0, 138.0, 241.0, 361.0, 361.0, 314.0, 467.0, 133.0, 34.0, 55.0, 95.0, 64.0, 104.0, 97.0, 219.0, 289.0, 230.0, 129.0, 319.0, 210.0, 186.0, 206.0], \"y\": [2077.0, 2247.0, 1979.0, 2414.0, 2410.0, 2418.0, 2665.0, 2310.0, 2280.0, 2076.0, 2351.0, 2460.0, 2435.0, 2361.0, 2339.0, 2335.0, 2745.0, 2347.0, 861.3484209795122, 862.4146980719913, 956.8634930944156, 935.5690113255383, 271.40403173962966, 945.8506655090243, 1106.8315195703465, 1029.5467271526145, 1134.071462498584, 1064.6151189428292, 1228.1903638209085, 922.7413425295397, 1083.7389283452142, 1027.9209705789895, 1014.9448513448745, 25.36932714753064, 1291.7072125499851, 1166.8084594700224, 1654.0821627564897, 1518.900586506029, 1547.796573478106, 1449.7685312705994, 1227.7824681519933, 1503.029170319102, 1444.9334046433235, 1961.7851505862875, 1941.9879011788955, 2029.4708661794305, 1969.3974504972314, 1952.535420543024, 1969.7901909363654, 1334.1565938268154, 1758.6380729714801, 1522.797491303184, 1627.0114827303491, 1828.1950509702388, 2151.796204169593, 27.2489087106903, 1480.0, 509.4349847976842, 438.0, 1044.885713830398, 1625.4903303406454, 1156.7100001592842, 1344.3376476205135, 1128.5332655188288, 888.4885665176414, 436.48101158078, 981.383829105224, 581.948827566, 431.6469511550975, 347.45142917242276], \"type\": \"scatter\", \"uid\": \"36cbc3f8-f0d2-437d-b0c6-92bc06ed6dfe\"}, {\"marker\": {\"color\": \"#F0F472\"}, \"mode\": \"markers\", \"name\": \"Carbs\", \"text\": [\"Coquillettes au Bl\\u00e9 Complet\", \"Cheveux d'Ange (Al dente 3 min.)\", \"Coquillettes\", \"Farfalle\", \"Coquillettes (Al dente 9 min.)\", \"Coquillettes au bl\\u00e9 int\\u00e9gral Bio\", \"Kelloggs Cornflakes Die Originalen 375 g\", \"Honey  Wheat - Weizenkost Mit Honig\", \"Manner Knusper M\\u00fcsli\", \"Seitenbacher Vollkorn-Fr\\u00fcchtem\\u00fcsli\", \"Crunchy Granola Bites Haselnuss\", \"K Classic flakes&dark Chocolate\", \"K\\u00f6lln M\\u00fcsli Knusper Kokos '30% weniger Fett'\", \"Dr. Oetker Vitalis Fr\\u00fcchtem\\u00fcsli\", \"EDEKA Knusper M\\u00fcsli Triple Choc\", \"Verival Bio Honig Crunchy\", \"Dr. Sch\\u00e4r M\\u00fcsli Fruit glutenfrei 375 g\", \"Crownfield - Nougat Kissen / Nougat Bits - 750 g\", \"Nestle Cini Minis Zimt 375 g\", \"Tortilla Chips Meersalz\", \"Chio Mikrowellen Popcorn salzig\", \"S\\u00fcsskartoffelchips mit Rosmarin\", \"Lorenz Naturals mit Rosmarin\", \"Lay's Sticks Bacon\", \"Tortilla Chips - Hot Chili\", \"ja! - Stapelchips Paprika\", \"Grissini al rosmarino\", \"Maisw\\u00fcrmer K\\u00e4se\", \"Pom-B\\u00e4r Original\", \"Lorenz Knabbergeb\\u00e4ck Party Clubs 200 g\", \"Uncle Cracker NatSnacks Mit Pfeffer und Oliven\\u00f6l\", \"Mano Masa\", \"Crusti Croc Mini Brotchips Mit Sauerrahm- und Zwiebel-Geschmack\", \"Popcorn Leicht Meersalz Gesalzen20g\", \"K\\u00f6lln Echte Kernige Haferflocken 500 g\", \"Dinkelpoffies\", \"Quinoa bio\", \"Bio Amaranth\", \"Rapunzel - Polenta-Maisgrie\\u00df\", \"Couscous\", \"Couscous\", \"Rewe Couscous Salat\", \"Reismehl\", \"Basic Langkornreis wei\\u00df\", \"Uncle Ben's Express Basmati Reis\", \"dmBio Bulgur\", \"Matiss Bulgursalat Pikant\", \"Maisgrie\\u00df Polenta, 500 g Davert\", \"tegut... Wildreis\", \"Vollreis Natura\", \"Jasmin Reis\", \"ja! Milchreis\", \"la riseria Riso Ticinese 1kg\", \"Landkorn Naturreis\"], \"x\": [4.4, 202.36, 200.75, 209.85, 198.9, 182.85, 29.0, 54.0, 86.0, 85.0, 111.0, 94.0, 107.0, 85.0, 126.0, 126.0, 121.0, 162.0, 98.0, 55.0, 97.0, 73.0, 70.0, 76.0, 95.0, 102.0, 98.0, 144.0, 108.0, 112.0, 105.0, 130.0, 171.0, 97.0, 79.0, 51.0, 79.0, 69.0, 50.0, 50.0, 50.0, 43.0, 122.0, 122.0, 124.0, 121.0, 84.0, 58.0, 258.0, 258.0, 258.0, 258.0, 258.0, 258.0], \"y\": [1469.0, 1531.0, 1531.0, 1510.0, 1510.0, 1448.0, 1458.792557381658, 1609.793433237989, 1805.7814346900643, 1434.4399056861373, 1508.0127199702322, 1583.0540806322683, 1702.2015578378393, 1307.597045916033, 1802.3457797016806, 1782.0698761030048, 1408.7593379115212, 1808.6915667954447, 653.2853207579536, 1918.4, 1803.5556759863807, 1397.1436883898846, 1192.9352293275979, 1529.2092317804377, 1707.572743222329, 1898.515600764172, 1618.9909708254522, 2193.9382992328437, 1888.4787010233367, 1686.4184548669912, 1577.5797427105279, 1843.9209972523802, 1846.9952572469367, 280.45671245035993, 1570.0, 535.2, 588.0, 114.0, 1480.0, 351.0, 351.0, 804.0138599406642, 1657.0, 1657.0, 1677.3719454414886, 1378.0, 821.303554265069, 390.0, 1510.0, 1510.0, 1480.0, 1480.0, 1480.0, 1480.0], \"type\": \"scatter\", \"uid\": \"30aaca24-ba61-4386-b95c-e9bb1203d368\"}, {\"marker\": {\"color\": \"#D6D0C3\"}, \"mode\": \"markers\", \"name\": \"Dairies\", \"text\": [\"Lait \\u00c9cr\\u00e9m\\u00e9\", \"Val d'Automne (28 % MG)\", \"Miel liquide fleurs d'oranger d'Espagne\", \"Emmental Fran\\u00e7ais R\\u00e2p\\u00e9 (29 % MG)\", \"Emmental Fran\\u00e7ais R\\u00e2p\\u00e9 (29 % MG)\", \"Emmental Fran\\u00e7ais R\\u00e2p\\u00e9 (29 % MG)\", \"Emmental Fran\\u00e7ais R\\u00e2p\\u00e9 (29 % MG)\", \"Lait des Plaines du Nord de la France\", \"P\\u00e2te \\u00e0 tartiner\", \"Yaourts aux fruits mix\\u00e9s\", \"Vegan Leben - Vegane Scheiben W\\u00fcrzig\", \"Wilmersbuger St\\u00fcck Classic\", \"Patros in \\u00d6l\", \"Frischgold K\\u00f6rniger Frischk\\u00e4se, 200 g\", \"tegut... Back-Camembert\", \"Bio Bauern Handk\\u00e4se\", \"Mozzarella Sticks\", \"Bio Emmentaler mittelreif 250g\", \"Bio B\\u00fcndner Bergk\\u00e4se ca. 250g\", \"M-Budget Cottage Cheese\", \"ROUGETTE Ofenk\\u00e4se\", \"Bavaria blu - Der W\\u00fcrzige\", \"Brie Schweizer Weichk\\u00e4se, vollfett, pasteurisiert Bio\", \"Appenzeller Schweizer Halbhartk\\u00e4se, vollfett, aus Rohmilch\", \"Alpenhain - Back-Camembert mit Wildpreiselbeeren\", \"Penny Sahne Schmelzk\\u00e4sezubereitung\", \"Andechser Natur Trink-Molke Mango-Apfel\", \"S\\u00f6bbeke Pauls Biomolkerei Bio Erdbeere Joghurt Mild\", \"Ehrmann Fr\\u00fcchteTraum Kirsche 115 g\", \"BioBio - Saure Sahne\", \"Danone Fruchtzwerge weniger s\\u00fc\\u00df 6x50g\", \"Andechser Natur - Bio Lassi Chai\", \"Milram Buttermilchdrink Ipanema\", \"Alnatura - Fruchtbuttermilch Orange-Maracuja\", \"Landliebe Landmilch Schoko, 350 g\", \"Bio Organic S\\u00fc\\u00dfrahmbutter\", \"ja! H-Schlagsahne\", \"Berchtesgadener Land \\u2013 Haltbare Bergbauern Milch\", \"Bifidus - Joghurt Mango\", \"Danone -  Actimel Erdbeer-Banane\", \"Ziegenmilch Bio haltbar mindestens 3,0 % Fett Andechser Natur\", \"K-Classic Schlagsahne\", \"Alnatura Kr\\u00e4uterquark\", \"Berchtesgadener Land Bio-Topfen\", \"Elinas - Joghurt nach griechischer Art Natur\", \"Schw\\u00e4lbchen - Speisequark Magerstufe\", \"BioBio - Lassi Mango\", \"Andechser Natur Bio Mango-Vanille\", \"MARK BRANDENBURG - Joghurt mild \\u201eMandarine\\u201d\", \"K Classic Kondensmilch W\\u00e4rmebehandelt\", \"tegut... frische Vollmilch 3,7% Fett\", \"Berchtesgadener Buttermilch - Buttermilch\"], \"x\": [175.0, 1065.0, 120.0, 1113.0547, 1113.0547, 1127.0, 1127.0, 0.0, 149.0, 0.0, 61.0, 72.0, 530.0, 225.0, 480.0, 139.0, 499.0, 957.0, 943.0, 171.0, 188.0, 188.0, 188.0, 195.0, 185.0, 645.0, 28.0, 83.0, 195.0, 344.0, 214.0, 177.0, 99.0, 107.0, 163.0, 1217.0, 525.0, 143.0, 151.0, 174.0, 142.0, 516.0, 388.0, 420.0, 270.0, 427.0, 175.0, 193.0, 196.0, 187.0, 188.0, 125.0], \"y\": [134.0, 1393.0, 1365.0, 1544.0, 1544.0, 1544.0, 1544.0, 195.0, 2381.0, 435.0, 1057.8000000335858, 1193.5339987371335, 2136.3897207566006, 658.2842862928032, 1435.1023729633869, 166.66667276779154, 1210.4381727688865, 1700.0, 1660.0, 286.6648795386511, 284.0, 284.0, 284.0, 286.0, 434.01714314119727, 971.5121561738084, 245.41186227073175, 465.37493998425316, 926.9097199920416, 1380.0, 910.6399998265016, 298.5850445240203, 248.77854780218325, 253.55913165557374, 337.0171926460235, 3060.0, 1196.8065613793106, 240.0, 366.6792846708036, 373.71715085908517, 213.3, 1216.962762889697, 739.8943412924924, 759.0, 438.726, 759.0, 318.36387160320146, 354.4455147974589, 325.19990519255407, 282.09895013904236, 284.0, 141.0], \"type\": \"scatter\", \"uid\": \"56b5af73-ed1c-4e19-96a1-c4bc5d5a3874\"}, {\"marker\": {\"color\": \"#B69C63\"}, \"mode\": \"markers\", \"name\": \"Meats\", \"text\": [\"Lardons Nature (2 barquettes)\", \"Lardons Fum\\u00e9s (2 barquettes)\", \"Saucisses de Francfort\", \"B\\u0153uf Bourguignon et ses Tagliatelles\", \"Aiguillettes de poulet, sauce normande et son riz\", \"Nadler Delikatess Fleischsalat mit Salatcreme\", \"Ja! - Delikatess Fleischsalat\", \"H\\u00fchnerfrikassee\", \"Mein Men\\u00fc H\\u00fchnerfrikassee mit Gem\\u00fcseeinlage\", \"Ja! Frikadellen\", \"iska \\u201eUngarische Salami\\u201c\", \"Migros Fleischk\\u00e4se\", \"Ja! K\\u00f6nigsberger Klopse\", \"TIP - Leberwurst fein\", \"Fein Wurst Hofmaier Frikadellen-B\\u00e4llchen\", \"Hofst\\u00e4dter - Leber-Streichwurst\", \"Pommersche Gutsleberwurst grob\", \"Reiter - Mettwurst fein\", \"Wilhelm Brandenburg - Rosmarinschinken, gegart\", \"Feine Wurst Hofmaier Bockw\\u00fcrstchen\", \"Bockwurst\", \"REWE Beste Wahl Pfannengyros\", \"Timmendorfer Traditions Ostsee-Kernschinken\", \"Du darfst - Die Hauchfeine Baguette Salami\", \"HEIDEMETZGER Fr\\u00fchst\\u00fccksmett - pikant\", \"Meica Trueman\\u00b4s Hot Dog W\\u00fcrstchen\", \"Dulano Selection Prosciutto Cotto\", \"Aoste Ringsalami luftgetrocknet 250 g\", \"Chili con Carne\", \"Chili con Carne\", \"K Classic H\\u00e4hnchenbrust In Aspik\", \"Iglo Gastronomie - Rindsgulasch im 1-Portionen-Kochbeutel\", \"Ja! Nat\\u00fcrlich Klassischer Leberk\\u00e4se\", \"Landjunker Rinderhackfleisch\", \"Bio Bio Rinderhackfleisch\"], \"x\": [945.0, 945.0, 825.0, 770.0, 495.0, 218.0, 189.0, 195.0, 195.0, 443.0, 641.0, 462.0, 302.0, 635.0, 571.0, 573.0, 567.0, 678.0, 518.0, 518.0, 632.0, 635.0, 634.0, 637.0, 655.0, 556.0, 643.0, 655.0, 393.0, 393.0, 678.0, 599.0, 1400.0, 1688.0, 1688.0], \"y\": [1016.0, 1025.0, 1286.0, 539.0, 536.0, 1548.172074688813, 1177.3520043232982, 1057.4110700129581, 400.7991504300247, 830.6231263391071, 1078.3698609339467, 711.1302994656525, 536.9260158705767, 864.3396301019983, 763.0432528454048, 643.3701975015325, 556.3497680168962, 760.1394087168195, 500.80887499491735, 504.84093274324107, 629.1169613841128, 624.6298922104413, 610.642265284005, 614.9658090734888, 636.3885921786897, 531.9060919343276, 628.7616536888881, 653.5788629496767, 441.6760262530524, 441.6760262530524, 445.84179707691106, 566.4436758264004, 698.3905204815802, 433.0, 433.0], \"type\": \"scatter\", \"uid\": \"7450e3da-123e-4773-b6de-15186e1dcdf3\"}, {\"marker\": {\"color\": \"#F3AC6D\"}, \"mode\": \"markers\", \"name\": \"Beverages\", \"text\": [\"Eau Min\\u00e9rale\", \"100 % Pur Jus Orange\", \"Rooibos nature bio & \\u00e9quitable\", \"Rooibos \\u00e9pices\", \"Nectar ananas mangue passion\", \"Nectar banane goyave acerola\", \"Goyave passion \", \"Berioo Bio Kakao-Nibs\", \"SUCHARD Kakao Express\", \"milka schhikolade\", \"Granini Trinkgenuss Banane 1 ltr PET\", \"hohes C Milde Orange\", \"Saft - Blutorangen\", \"Innocent Super Smoothie Activate\", \"Edeka Premium Apfel Direktsaft\", \"Villa Sandi Prosecco Frizzante DOC\", \"Mezzacorona Merlot DOC Rotwein  2013 0,75 ltr\", \"Rotk\\u00e4ppchen Sekt trocken 0,75 ltr\"], \"x\": [0.0, 130.0, 607.0, 562.0, 300.0, 94.0, 102.0, 74.0, 41.0, 120.0, 18.0, 65.0, 65.0, 69.0, 80.0, 140.0, 140.0, 146.0], \"y\": [0.0, 159.0, 17.0, 84.0, 207.0, 214.0, 205.0, 1690.0, 1324.0366734791453, 316.2623284370375, 244.3342495175453, 216.49, 216.0, 204.83700633963014, 161.75967377481618, 293.0, 287.0, 293.0], \"type\": \"scatter\", \"uid\": \"9963a9a5-051d-4f36-9c83-21f16eedcd05\"}, {\"marker\": {\"color\": \"#8CB5ED\"}, \"mode\": \"markers\", \"name\": \"Seafood\", \"text\": [\"Truite fum\\u00e9e au bois de h\\u00eatre (6 tranches) - 150 g\", \"Truite fum\\u00e9e Capaccio au Poivre de Sichuan\", \"Truite Fum\\u00e9e Pyr\\u00e9n\\u00e9es (4 tranches) - 120 g\", \"Truite Fum\\u00e9e Pyr\\u00e9n\\u00e9es\", \"Truite fum\\u00e9e Pyr\\u00e9n\\u00e9es Offre exceptionnelle\", \"F\\u00fcrsten Krone Herings Happen\", \"Appel Zarte Sardinen Madeleine Rot 105 g\", \"Rewe Ja! Thunfischfilets In Sonnenblumen\\u00f6l\", \"Nordsee Flu\\u00dfkrebs Cocktail Apfel & Curry\", \"iglo 15 K\\u00e4pt'ns Fischst\\u00e4bchen\", \"Nordsee Krabbensalad\", \"Thunfischfilets in Oliven\\u00f6l\", \"Iglo - Schlemmerfilet \\u00e0 la Bordelaise Classic\", \"Frosta Schlemmerfilet Bordelaise\", \"Frosta Fischst\\u00e4bchen\", \"Saupiquet Thunfisch in Tomatensauce\"], \"x\": [900.0, 828.0, 828.0, 2760.0, 828.0, 152.0, 298.0, 363.0, 211.0, 281.0, 414.0, 411.0, 319.0, 248.0, 367.0, 285.0], \"y\": [669.0, 695.0, 669.0, 2230.0, 618.0, 936.1587981712655, 1265.9213375498548, 1130.460661343601, 689.5583986165209, 783.5447388276344, 766.6734310092658, 747.973682500156, 684.7463458042263, 465.6139331212495, 774.2212383818526, 476.7897584092182], \"type\": \"scatter\", \"uid\": \"29e52e16-f52e-4658-a1f7-9fca1c35142b\"}, {\"marker\": {\"color\": \"#FCE2E4\"}, \"mode\": \"markers\", \"name\": \"Salty snacks\", \"text\": [\"Chips saveur poulet thym\", \"Schwartau Spezialit\\u00e4ten Pflaumenmus 350 g\", \"Langnese Landhonig goldcremig 500 g\", \"Schwartau extra Konfit\\u00fcre Samt Erdbeere 270 g\"], \"x\": [340.0, 43.0, 129.0, 114.0], \"y\": [2296.0, 790.8168739940761, 1300.0, 924.3077543690567], \"type\": \"scatter\", \"uid\": \"e462817f-fa3c-4ab4-a50f-d2c8cd9a7699\"}], {\"xaxis\": {\"range\": [0.0, 505.8000000000006], \"title\": \"Carbon footprint per 100g [g]\"}, \"yaxis\": {\"range\": [0.0, 1945.1927407073376], \"title\": \"Energy per 100g [kj]\"}}, {\"showLink\": true, \"linkText\": \"Export to plot.ly\"})});</script><script type=\"text/javascript\">window.addEventListener(\"resize\", function(){window._Plotly.Plots.resize(document.getElementById(\"57c20972-fc23-4e57-8d01-39cbc17b92c8\"));});</script>"
      ],
      "text/vnd.plotly.v1+html": [
       "<div id=\"57c20972-fc23-4e57-8d01-39cbc17b92c8\" style=\"height: 525px; width: 100%;\" class=\"plotly-graph-div\"></div><script type=\"text/javascript\">require([\"plotly\"], function(Plotly) { window.PLOTLYENV=window.PLOTLYENV || {};window.PLOTLYENV.BASE_URL=\"https://plot.ly\";Plotly.newPlot(\"57c20972-fc23-4e57-8d01-39cbc17b92c8\", [{\"marker\": {\"color\": \"#90CB70\"}, \"mode\": \"markers\", \"name\": \"Plant-based\", \"text\": [\"Riz long grain Camargue\", \"Pains au lait (x 10) aux p\\u00e9pites de chocolat au lait 350 g\", \"Huile d'olive vierge extra, extraite \\u00e0 froid\", \"Riz & bl\\u00e9 complet Nature\", \"Riz & bl\\u00e9 complet - Fruits rouges\", \"Farine de bl\\u00e9 fluide\", \"Boisson aux fruits plate tropical\", \"Fleur de Colza\", \"Banane coco Alter Eco\", \"K Classic - Junger Gem\\u00fcsemais\", \"ja! Gem\\u00fcsemais\", \"Sera Ajvar\", \"Botato Kartoffel Wedges\", \"Pfanni Kartoffel P\\u00fcree besonders locker 3 x 80 g\", \"Agrarfrost Germany Knusper Frites\", \"Backofen R\\u00f6sti Ecken - aus Qualit\\u00e4tskartoffeln\", \"M-Budget Pommes Frites 3kg\", \"Violife Creamy Cucumber & Dill\", \"Penny - Kartoffelkn\\u00f6del halb & halb\", \"Agrarfrost Mini Kroketten\", \"Burgis Schupfnudeln\", \"Kartoffelsalat\", \"Ja! Kroketten\", \"real,- R\\u00f6sti k\\u00fcchenfertig\", \"Brotaufstrich Paprika-Cashew\", \"Bofrost Schupfnudeln\", \"Aubergine Streichcreme mit feinen Auberginen-St\\u00fccken\", \"Mei Tai Maisk\\u00f6lbchen\", \"Kartoffelpuffer\", \"K\\u00fcstengold R\\u00f6stzwiebeln\", \"Gem\\u00fcse R\\u00f6sti 500g\", \"Edeka S\\u00fc\\u00dfkartoffeln\", \"ALNATURA Brotaufstrich Kichererbse mit Ingwer\", \"ja Kartoffel-Kn\\u00f6del halb und halb\", \"Letscho Premium\", \"Natsu Salat Dinkel-Quinoa Mit Edamame\", \"VITAM Kichererbsen Brotaufstrich, 125g\", \"Delikatess-Krautsalad\", \"Hummus\", \"Migros Kichererbsen\", \"Demeter Campo Verde Brotaufstrich Basilikum-Tomate 110 g\", \"M-Classic Schwarzwurzeln\", \"Gourmet Compagnie Semmelkn\\u00f6del\", \"Bonduelle - Linsen\", \"EDEKA BIO TAFELTRAUBWN\", \"Viana Jungle Energizer\", \"ALNATURA - Junge Erbsen\", \"Coop Betty Bossi Taboul\\u00e9-Salat Oriental\", \"Rapunzel Oliven Kalamata mit Stein in Lake\", \"Alnatura Kichererbsen 350 g\", \"\\u039c\\u0391\\u039d\\u0399 Kalamata Olivenpaste, bio NL Fair, 180g Glas\", \"Pfannengem\\u00fcse - Franz\\u00f6sische Art\", \"K\\u00fchlmann - Bunter Bohnensalat mit Quinoa\", \"Crostini-Dip\", \"Eier Salat\", \"Migros Bio Griechische Oliven Amphisis\", \"Sauerkraut\", \"Schlemmert\\u00f6pfchen - Rote Beete Kugeln\", \"REWE Feine Welt Kalamata Oliven\", \"Feinkost Dittmann - Oliven, gr\\u00fcn ohne Stein\", \"Bio Sonne Bio-Brotaufstrich Tomate-Basilikum\", \"Ibero Spanische gr\\u00fcne Manzanilla Oliven gef\\u00fcllt mit Jalape\\u00f1ocreme\", \"Marmara Schwarze Oliven Mit Stein Devasa\", \"Real,- Bio kaisergem\\u00fcse Blumenkohl, Karotten Und Broccoli\", \"Feinkost Dittmann Spanische gr\\u00fcne Oliven gef\\u00fcllt mit Paprikapaste\", \"Spar Natur pur Bio Broccoli\", \"K-Classic Kartoffelbrei\", \"Bushs Best Kidney Beans\", \"Alnatura 24/7 Bio Gr\\u00fcne Oliven mit Mandeln\", \"Hengstenberg Rote Bete-Salat 330 g\", \"Hainich Sauerkraut\", \"Rapunzel Kapern in Oliven\\u00f6l\", \"EDEKA Steinpilze\", \"Suppengr\\u00fcn\", \"Hengstenberg Rotessa Rotkohl traditionell 550 g\", \"Real Bio Buttergem\\u00fcse\", \"Iglo Buttergem\\u00fcse fein & knackig, 300 g\", \"Coop Naturaplan Bio Zucchetti\", \"EDEKA Chili-Bohnen 425 g\", \"Pfanni Kartoffel P\\u00fcree mit entrahmter Milch komplett 3x 94,5 g\", \"Ostmann - Austernpilze getrocknet\", \"REWE Beste Wahl Austernpilze Aromatisch\", \"M Classic Russischer Salat\", \"Frosta Gem\\u00fcse Pfanne Sommergarten\", \"Rahm Gem\\u00fcse bunte Karotten & Erbsen\", \"Alpenfest Rustikale Kartoffelpfanne\", \"ardo - Blattspinat\", \"BLATTSPINAT\", \"Iglo Rahm-Gem\\u00fcse - Rosenkohl\", \"ButterGem\\u00fcse    Frosta\", \"Mutti Datterini Datteltomaten 400 g\", \"EDEKA Stangenspargel 530 g\", \"EDEKA Italia Gesch\\u00e4lte Tomaten 800 g\", \"Alnatura Bio ganze Tomaten, gesch\\u00e4lt 400 g\", \"Penny Rahm-Spinat Erntefrisch Tiefgefroren\", \"Rewe Beste Wahl Cornichons mit Kr\\u00e4utern\", \"Schwarmstedter Kartoffeltaschen\", \"K Classic Pizza-Tomaten St\\u00fcckig\", \"Feinkost Dittmann Artischockenherzen je la Toscana\", \"Ja! Nat\\u00fcrlich - Mediterrane Pfanne\", \"Via Emilia Antipasto di verdura\", \"Hengstenberg Honiggurken 330 g\", \"Seeberger Tomaten getrocknet\", \"Bio Oraganic Strauchtomaten\", \"K\\u00fchne Rotkohl Original  350 g\", \"Saladinettes Salat Mexicana\", \"Th\\u00fcringer Landgarten Bio Cornichons\", \"Freshona Cornichons\", \"ORO di Parma Tomatenmark 2-fach konzentriert, 70 g\", \"Coop Naturaplan Bio Tomaten Schweiz Freiland\", \"REWE Beste Wahl \\u2013 Peperoni nach griechischer Art\", \"ALNATURA - Brechbohnen\", \"COOP Bio Bohnen fein\", \"Greenyard Snack Gurken\", \"Bio Spitzpaprika Rot Alnatura\", \"FRoSTa Gem\\u00fcse Pfanne Thai\", \"Rewe Beste Wahl Schwarze Bohnen in Chilisauce\", \"M-Classic Borlotti-Bohnen\", \"Meienburg Sonnenblumenkerne\", \"\\u00c7ekirdeko Salzige Sonnenblumenkerne\", \"M\\u00e4rsch Blaumohn\", \"Leinsamen\", \"Chia-Samen\", \"Dm Bio Sesam Ungesch\\u00e4lt\", \"Coop Naturaplan Bio Pinienkerne\", \"ALNATURA Dinkel Drink Natur\", \"Coop Naturaplan Bio Quinoa-Reisgetr\\u00e4nk\", \"Vegafit - Vegane Nuggets\", \"Soto Burger S\\u00fc\\u00dfkartoffel\", \"Taifun Tofu-Grillknacker\", \"Eden - vegetarische Salami\", \"granoVita Vegane Leberwurst\", \"R\\u00fcgenwalder M\\u00fchle - Vegetarischer Schinken Spicker Mortadella\", \"Linsen rot\", \"Viva Vital - Feine gr\\u00fcne Erbsen\", \"Alnatura Beluga Linsen 500g\", \"Rapunzel Weisse Bohnen\", \"Kichererbsen, 500 g Davert\", \"M\\u00fcller\\u00b4s M\\u00fchle Red Kidney Bohnen\", \"Orangeat\", \"Odenwald Apfelmus mit Vanille 720 g\", \"Alnatura Bio Sauerkirschen entsteint 360 g\", \"Jeden Tag - Orangen Navel Late (2 kg)\", \"Frosta Erdbeeren ungezuckert\", \"Beerenmix tiefgefroren\", \"Heidelbeeren Nature's Pride\"], \"x\": [545.0, 325.0, 276.0, 485.0, 560.0, 165.0, 5.0, 150.0, 102.0, 9.0, 17.0, 44.0, 20.0, 12.0, 22.0, 23.0, 25.0, 52.0, 19.0, 34.0, 32.0, 42.0, 38.0, 27.0, 60.0, 48.0, 118.0, 50.0, 30.0, 128.0, 79.0, 68.0, 125.0, 48.0, 78.0, 74.0, 94.0, 56.0, 137.0, 47.0, 96.0, 21.0, 83.0, 55.0, 28.0, 172.0, 54.0, 96.0, 50.0, 78.0, 101.0, 68.0, 75.0, 206.0, 172.0, 53.0, 30.0, 42.0, 55.0, 55.0, 124.0, 57.0, 87.0, 38.0, 95.0, 44.0, 120.0, 82.0, 139.0, 44.0, 40.0, 223.0, 55.0, 45.0, 49.0, 132.0, 103.0, 41.0, 106.0, 121.0, 55.0, 55.0, 54.0, 86.0, 130.0, 133.0, 60.0, 60.0, 108.0, 243.0, 46.0, 50.0, 138.0, 48.0, 112.0, 67.0, 364.0, 161.0, 99.0, 103.0, 223.0, 86.0, 329.0, 347.0, 89.0, 179.0, 76.0, 80.0, 182.0, 74.0, 102.0, 118.0, 118.0, 82.0, 126.0, 198.0, 433.0, 677.0, 92.0, 85.0, 92.0, 92.0, 92.0, 218.0, 248.0, 9.0, 33.0, 83.0, 61.0, 76.0, 75.0, 118.0, 190.0, 102.0, 54.0, 102.0, 84.0, 102.0, 153.0, 47.0, 28.0, 19.0, 24.0, 27.0, 62.0, 138.0], \"y\": [1534.0, 1502.0, 3700.0, 1615.0, 1584.0, 1455.0, 153.0, 3766.0, 219.0, 765.6555197714661, 1070.401621322562, 1276.523999561478, 512.6668900507627, 316.8, 500.6, 488.7114259196382, 542.6950064901426, 927.8880667443508, 390.226359976713, 622.295974698001, 627.0704069939262, 722.2038547369609, 606.0585739381322, 386.15889279672143, 783.7460153440522, 723.7236115335272, 1464.1399001005466, 796.7690028822574, 441.4961709185808, 1641.2593843926372, 1185.070225141517, 1430.0, 1371.0466677637833, 639.6227190025327, 785.1317265239802, 605.6513974557718, 840.7795602939437, 541.1213634754076, 1227.5042827435445, 358.6630798964265, 908.0779568975903, 139.23, 777.4172994334476, 374.7328706559752, 293.0, 1441.469230918724, 390.6, 812.3838686603142, 282.705, 491.5342220975571, 660.0781066495234, 374.2410071629058, 519.6921833814963, 1325.9498720034464, 1023.9243112558113, 267.4605861952264, 125.0126784293866, 292.3191648403273, 257.4429987200638, 258.4922449791415, 779.5925686438519, 252.30115770309254, 411.4708849469105, 132.71637813486575, 392.42797658969323, 131.0, 616.3621176016377, 397.03998411933776, 617.4427210412324, 203.31086805640047, 114.3, 1064.4543308857021, 132.0, 150.48999152739475, 203.4844652940858, 566.6871249903728, 416.0466607249447, 80.0, 388.6650517927162, 500.1600001382897, 105.0, 105.0, 158.778, 272.1882232603903, 438.0003225688138, 396.9592545456276, 95.0, 95.0, 304.15475623603965, 796.7693293671613, 84.84944183171025, 69.90831404830742, 222.9999999487169, 82.56108455221876, 249.93162962434027, 184.57372780651943, 839.5144602948892, 297.3333333329865, 71.62225554673924, 211.14508739140132, 583.7993217384887, 263.0919715224996, 760.84, 827.0, 219.81821015724395, 279.93114139117307, 127.12325977604256, 120.54595665988676, 326.0, 89.0, 51.60000769007847, 129.0, 129.0, 56.0, 134.0, 180.41747764389882, 381.861146321589, 440.57298475229965, 2590.0, 1856.1489117985752, 1911.0, 1950.0, 2034.0, 2440.0, 2460.0, 157.3089628708309, 180.09415753899842, 1252.0212740162258, 876.9804469605299, 871.9065319326378, 712.0027587390992, 481.0, 543.9780273006091, 360.0, 390.6, 589.0, 481.0, 538.0, 481.0, 1132.322007743941, 349.65981948421745, 157.00159713671468, 169.9079241266311, 49.0, 176.00050999884587, 245.0], \"type\": \"scatter\", \"uid\": \"a564289f-458a-484c-a13e-128cba588ce2\"}, {\"marker\": {\"color\": \"#7979CD\"}, \"mode\": \"markers\", \"name\": \"Other\", \"text\": [\"Cabillaud 100 % Filet, Surgel\\u00e9s (8 pan\\u00e9s)\", \"Lasagnes au saumon, Surgel\\u00e9es\", \"Lasagnes au ch\\u00e8vre et aux \\u00e9pinards\", \"Pommes Dauphines\", \"Pav\\u00e9 de lieu sauce citron riz et julienne de l\\u00e9gumes (2,4 % MG)\", \"Hachis Parmentier\", \"Lasagnes au thon\", \"Sucre Complet Muscovado\", \"Salade De Saumon\", \"Bamboo Garden Asia Kokosmilch fettreduziert\", \"S\\u00fcdzucker \\u2013 Gelierzucker 2+1\", \"Rewe Bio \\u2013 Pfeffer, schwarz, ganz\", \"Kokosmilch\", \"Bananeira Bio Oregano Gerebelt\", \"Ostmann K\\u00fcmmel ganz 35 g\", \"Sate pikante Erdnuss- W\\u00fcrzmischung\", \"Rapunzel Tahin (Sesammus) ohne Salz 250 g\", \"Sesame Oil\", \"Naturkraftwerke Lein\\u00f6l 250 ml\", \"Migros Bio Fairtrade Kurkuma Gemahlen\", \"Biskin Spezial - Pflanzen\\u00f6l mit Buttergeschmack 750 ml\", \"Old El Paso Mexican Potatoes 30 g\", \"Knorr - Primerba All' Italiana\", \"Wan Kwai Thai Curry Paste Gr\\u00fcn\", \"PASCO Tikka Paste\", \"EDEKA Bio Klare Gem\\u00fcsebr\\u00fche-W\\u00fcrfel 6x 11 g\", \"Rewe Bio - Natives Oliven\\u00f6l Extra\", \"Ubena Bruschetta Gew\\u00fcrzzubereitung\", \"Monini - Classico Oliven\\u00f6l Extra Vierge\", \"Bertolli \\u2013 Extra Vergine\", \"Rapunzel Oliven-W\\u00fcrzpaste\", \"Kattus Knoblauch Paste\", \"Zimt Gemahlen\", \"Alnatura Speisest\\u00e4rke -reine Maisst\\u00e4rke-\", \"Delikato Tafel Meerrettich\", \"Schnittlauch\", \"Schnittlauch\", \"tegut...Schnittlauch\", \"Sch\\u00e4tze des Orients Harissa\", \"Tamarinden Paste\", \"Ruf So\\u00dfenfix\", \"Aroma Mix\", \"ALNATURA - Meersalz mit Jod\", \"Mondamin So\\u00dfenbinder hell 250 g\", \"LeChef Fleisch\", \"Spar Majoran Gerebelt\", \"Rewe Bio Petersilie tiefgefroren\", \"Petersilie\", \"Bio Dill Alnatura GmbH\", \"Schnittlauch\", \"Schnittlauch\", \"M Kr\\u00e4utergarten Rosmarin\", \"Spar Rosmarin geschnitten\", \"Alnatura Crema con Aceto Balsamico 250 g\", \"Spar Frischer Thymian\", \"SONNENTOR Thymian 25 g\", \"Chef Men\\u00fc Koriander K\\u00fcchenfrisch\", \"K\\u00fchne - Balsamissimo Feine Balsamico-Creme\", \"Mondo Italiano Aceto Balsamico Di Modena I.G.P\", \"Hengstenberg Altmeister Kr\\u00e4uterw\\u00fcrzessig 0,75 ltr\", \"Bautz'ner - Senf mittelscharf\", \"Thomy - Delikatess-Senf mittelscharf\", \"ja! Delikatess Mayonnaise mit 80% Raps\\u00f6l\", \"Maille Dijonnaise\", \"L\\u00f6wensenf s\\u00fc\\u00df\", \"H\\u00e4ndlmaier's Hausmachersenf - s\\u00fc\\u00df\", \"Miracle Whip\", \"ZWERGENWIESE Curry Ketchup, 500 ml\", \"Heinz \\u2013 Tomato Ketchup\", \"Rewe Ja! Tomaten Ketchup\", \"Werder Bio Tomaten Ketchup\", \"Kraft Tomaten Ketchup gro\\u00df 750 ml\", \"Heinz American Mustard New York Style Mild\", \"Bio Zucker Feinkristall\", \"Dr.Oetker Muffins 370 g\", \"Feine Marzipan Rohmasse\", \"Ruf Blattgelantine Weiss  20 g\", \"Alnatura L\\u00fcbecker Marzipan Rohmasse\", \"Roh-Rohrzucker\", \"S\\u00fcdzucker Weisser Rohrzucker\", \"Rohzucker aus Zuckerrohr\", \"ALB-GOLD Fit 'n' Free Bio Buchweizen Pasta glutenfrei,\", \"Barilla Nudeln Farfalle 500 g\", \"Edeka Bio \\u2013 Spaghetti Vollkorn\", \"Shan\\u00b4 shi - Mie Eiernudeln\", \"Giovanni Rana Kartoffel-Gnocchi\", \"Real,- quality Ravioli mit Spinatf\\u00fcllung\", \"Settele - Gem\\u00fcse-Maultauschen\", \"Knorr Penne mit Broccoli\", \"Alb-Natur Bio-Dinkel-Maultaschen mit Linsen\", \"Monolith Nord GmbH Glasnudeln\", \"Quinoa Pasta -M\\u00fcscheli\", \"Maggi Ravioli in Tomatensosse 800 g\", \"EDEKA Erdnusskerne ger\\u00f6stet & gesalzen 200 g\", \"m\\u00e4rschimport - Mandeln ganz\", \"Mandelmus wei\\u00df (650 g )\", \"Haseln\\u00fcsse gemahlen\", \"Seeberger Cashewkerne ger\\u00f6stet, gesalzen\", \"Alesto - Pistazien\", \"Carat Croutons Pinienkerne\", \"Kikkoman Sushi & Sashimi\", \"A.Best Pesto-Sauce\", \"Sriracha Hot Chilli Sauce\", \"Schwartau Bourbon-Vanille Sauce\", \"EDEKA Bio Tomatenmark 2-fach konzentriert 200 g\", \"McIlhenny TABASCO Brand Pepper Sauce Original 57 ml\", \"Iglo K\\u00e4pt`ns Burger Gem\\u00fcseburger\", \"Mama Brand Moo Nam Tok\", \"Frosta Couscous Oriental\", \"Cr\\u00eaapan Leckere Pfannkuchen Classic\", \"Yum Yum Cup Nudelsuppe mit Vegetable / Gem\\u00fcsegeschmack\", \"PFANNKUCHEN (penny heat & eat)\", \"Mike Mitchell's Sandwich Salami-K\\u00e4se\", \"Original Wagner - Big Pizza Schinken Diavolo\", \"Indian Chicken\", \"Wagner \\u2013 Original Wagner Steinofen \\u201ePIZZA Speciale\\u201c\", \"Mama Mancini - Lasagne Bolognese\", \"Iglo Ger\\u00fchrt & Verf\\u00fchrt Thai H\\u00fchnchen mit Basmati Reis\", \"Dornseifer Chili con carne\", \"Berchtesgadener Land Frische Vanille Milch\", \"Eilles Gourmet Caff\\u00e8 Crema ganze Bohnen, 1kg\", \"Ja! \\u2013Caff\\u00e8 Crema, ganze Bohnen\"], \"x\": [425.0, 430.0, 485.0, 345.0, 590.0, 0.0, 0.0, 136.0, 0.0, 49.0, 35.0, 32.0, 57.0, 75.0, 83.0, 131.0, 218.0, 218.0, 265.0, 68.0, 255.0, 106.0, 144.0, 119.0, 69.0, 97.0, 430.0, 78.0, 442.0, 442.0, 186.0, 115.0, 84.0, 121.0, 99.0, 38.0, 38.0, 38.0, 89.0, 114.0, 131.0, 63.0, 68.0, 171.0, 76.0, 75.0, 83.0, 83.0, 83.0, 65.0, 65.0, 75.0, 75.0, 54.0, 75.0, 75.0, 84.0, 75.0, 97.0, 137.0, 20.0, 28.0, 183.0, 122.0, 71.0, 53.0, 88.0, 125.0, 94.0, 152.0, 145.0, 163.0, 240.0, 34.0, 62.0, 128.0, 257.0, 131.0, 75.0, 75.0, 75.0, 50.0, 52.0, 50.0, 55.0, 18.0, 46.0, 71.0, 142.0, 80.0, 52.0, 111.0, 106.0, 178.0, 214.0, 214.0, 283.0, 267.0, 356.0, 152.0, 48.0, 333.0, 82.0, 237.0, 347.0, 134.0, 65.0, 103.0, 52.0, 104.0, 195.0, 108.0, 125.0, 210.0, 233.0, 381.0, 358.0, 595.0, 475.0, 115.0, 1081.0, 1081.0], \"y\": [703.0, 537.0, 548.0, 1168.0, 393.0, 561.0, 508.0, 1523.0, 1318.0, 1230.0148000138488, 1668.4577810083395, 76.0, 1230.0, 1512.0, 1378.0, 2086.216776068304, 2440.0, 2440.0, 3330.0, 180.0, 3027.272727272727, 1249.991049999241, 1617.4189479299066, 938.1323292658612, 496.45690025050726, 610.8483617555314, 3330.0, 603.3482539556736, 3330.0, 3330.0, 1250.1562639370775, 768.4783531017928, 147.0, 1510.0, 583.2967099893183, 124.0, 124.0, 124.0, 264.81498043812485, 1137.6, 1375.5898413799116, 170.76894586194402, 0.0, 1417.8323920230978, 94.95356293935669, 44.0, 235.0, 235.0, 242.0, 124.0, 124.0, 260.0, 260.0, 236.4, 220.0, 220.0, 92.0, 213.36, 123.60440532770302, 83.33769000096501, 394.3340111754548, 501.15063839820687, 2835.8610467881654, 1545.7642823228632, 981.4851028139736, 823.3090117507543, 1061.6443370364884, 541.2034796970942, 449.6147646088562, 448.164531584462, 459.1473775096977, 480.51150983847657, 363.41412768246994, 1700.0, 1335.3097322100505, 1876.4023332294348, 1481.0, 1773.5020000202578, 1660.0, 1660.0, 1660.0, 1450.0, 1490.0, 1370.0, 1350.9077706156072, 362.74644748245765, 652.9206975111521, 640.856091947619, 1355.9576459393795, 456.25508806194915, 250.02981858672717, 529.2, 363.6358274782037, 2558.9336631977826, 2380.0, 2380.0, 2650.0, 2450.940297486214, 461.2080372866087, 2019.237178417348, 407.9939480048204, 1916.8689053137962, 463.6362593540523, 605.2156332311855, 827.0, 110.2696801869508, 747.2028681755971, 1018.2295533453205, 477.70793330188087, 996.4845672634664, 1886.4835708715866, 809.531948579846, 901.0, 948.4221487938968, 646.6699667702951, 985.0435552209487, 672.1704124458013, 617.4811040903976, 412.1534110671888, 326.7155968839327, 1660.0, 1660.0], \"type\": \"scatter\", \"uid\": \"68f47ff8-b95e-4b0d-b170-9de9e6562ce7\"}, {\"marker\": {\"color\": \"#EC9BE2\"}, \"mode\": \"markers\", \"name\": \"Sugary snacks\", \"text\": [\"Cookies Tout Chocolat\", \"Chocolat au lait Extra fin\", \"Biscuits Matin Miel et P\\u00e9pites de Chocolat\", \"Noir \\u00e9clats d'amandes\", \"Chocolat Blanc Nougatine Amande\", \"Chocolat Lait classique d\\u00e9gustation Bio Alter Eco\", \"P\\u00e9rou 85%\", \"Noir \\u00e9clats de menthe\", \"Noir Zestes de Citron\", \"Cookies Nougatine\", \"Lait Caramel Beurre sal\\u00e9\", \"Alter eco Noir amandes enti\\u00e8res\", \"Chocolat noir 70%\", \"Noir pointe de piment\", \"Noir \\u00c9clats de Gingembre\", \"Chocolat noir, \\u00e9clats amandes\", \"Alter eco 90% P\\u00e9rou\", \"Noir Fruit de la Passion\", \"Migros Engagement Bio Pumpernickel\", \"Naturkind - Pumpernickel\", \"Lieken Urkorn \\u2013 Kleines Kerni mit Sonnenblumenkernen\", \"Harry - Das volle Korn\", \"enerBio Dinkel-Vollkornbrot\", \"Harry Dinkel Vollkorn\", \"ja! - 6 Baguette-Br\\u00f6tchen\", \"Harry 1688 Unser Mildes\", \"GOLDEN TOAST Meister Br\\u00f6tchen, 400 g\", \"LIEKEN URKORN Bauernmild Brot, 500 g\", \"Grafschalter Megaburger Br\\u00f6tchen Classic\", \"REWE Laugenstangen zum Selbstbacke\", \"Knack & Back  Sonntags-Br\\u00f6tchen\", \"TiP 6 Sonntagsbr\\u00f6tchen zum Fertigbacken\", \"Knack & Back 6 Sonntagsbr\\u00f6tchen \\u2026ofenfrisch\", \"Kornm\\u00fchle 8 Weizenbr\\u00f6tchen zum Fertigbacken\", \"M-Classic Butterzopf gross Frischback\", \"Tiroler Butterzopf\", \"Em-Eukal Wildkirsch Kinder Hustenbonbons 75 g\", \"Mauritius - Schoko & Gelee\", \"EDEKA Gelee-Bananen\", \"Hitschler Bunte Schn\\u00fcre\", \"Ferrero - Mon Ch\\u00e9ri\", \"Katjes Katzenpf\\u00f6tchen 200 g\", \"Griesson Soft Cake Orange\", \"Marzipan Kartoffeln\", \"Niederegger L\\u00fcbeck Marzipan Schwarzbrot\", \"EDEKA Cookie dark chocolate & hazelnut 200 g\", \"Lindt Edel-Marzipan\", \"Alnatura Dinkel-Doppelkeks Zartbitter\", \"Snickers\", \"Katjes - Yoghurt-Gums\", \"Mars - Schokoriegel\", \"Frey Truffes Lait\", \"Leibniz Choco Vollmilch Kekse 125 g\", \"Milka Choco Bonbon Caramel\", \"Ferrero Kinder Bueno\", \"Wrigleys Extra Professional Mints Waldfrucht 77 g\", \"Alnatura Ahornsirup Grad C\", \"YO Holunderbl\\u00fcte Bl\\u00fctensirup 0,7 ltr\", \"Alnatura Dattelsirup\", \"Dr. Oetker - Grie\\u00dfbrei nach klassischer Art\", \"Bio Vita Milchreis Bourbon-Vanille\", \"Mondamin Lieblings-Milchreis Klassische Art\", \"Eskimo - Konfekt Vanille mit Schoko\\u00fcberzug\", \"K-Classic Chocolate Brownie Ice Cream\", \"Ben & Jerry's - Cookie Dough Ice Cream\", \"m\\u00fcller - Milchreis Zimt\", \"Alnatura Schoko Eiscreme\", \"Landliebe Grie\\u00df Pudding Vanille\", \"Kissyo Bio Frozen Yoghurt Natur\", \"Frozen Yo Nature 450ml\"], \"x\": [305.0, 655.0, 250.0, 153.0, 251.0, 160.0, 178.0, 153.0, 177.0, 160.0, 150.0, 122.0, 237.0, 219.0, 205.0, 153.0, 197.0, 214.0, 22.0, 22.0, 30.0, 27.0, 20.0, 39.0, 43.0, 40.0, 45.0, 42.0, 51.0, 47.0, 67.0, 73.0, 76.0, 14.0, 188.0, 165.0, 34.0, 39.0, 43.0, 46.0, 63.0, 59.0, 77.0, 134.0, 158.0, 167.0, 173.0, 170.0, 235.0, 138.0, 241.0, 361.0, 361.0, 314.0, 467.0, 133.0, 34.0, 55.0, 95.0, 64.0, 104.0, 97.0, 219.0, 289.0, 230.0, 129.0, 319.0, 210.0, 186.0, 206.0], \"y\": [2077.0, 2247.0, 1979.0, 2414.0, 2410.0, 2418.0, 2665.0, 2310.0, 2280.0, 2076.0, 2351.0, 2460.0, 2435.0, 2361.0, 2339.0, 2335.0, 2745.0, 2347.0, 861.3484209795122, 862.4146980719913, 956.8634930944156, 935.5690113255383, 271.40403173962966, 945.8506655090243, 1106.8315195703465, 1029.5467271526145, 1134.071462498584, 1064.6151189428292, 1228.1903638209085, 922.7413425295397, 1083.7389283452142, 1027.9209705789895, 1014.9448513448745, 25.36932714753064, 1291.7072125499851, 1166.8084594700224, 1654.0821627564897, 1518.900586506029, 1547.796573478106, 1449.7685312705994, 1227.7824681519933, 1503.029170319102, 1444.9334046433235, 1961.7851505862875, 1941.9879011788955, 2029.4708661794305, 1969.3974504972314, 1952.535420543024, 1969.7901909363654, 1334.1565938268154, 1758.6380729714801, 1522.797491303184, 1627.0114827303491, 1828.1950509702388, 2151.796204169593, 27.2489087106903, 1480.0, 509.4349847976842, 438.0, 1044.885713830398, 1625.4903303406454, 1156.7100001592842, 1344.3376476205135, 1128.5332655188288, 888.4885665176414, 436.48101158078, 981.383829105224, 581.948827566, 431.6469511550975, 347.45142917242276], \"type\": \"scatter\", \"uid\": \"36cbc3f8-f0d2-437d-b0c6-92bc06ed6dfe\"}, {\"marker\": {\"color\": \"#F0F472\"}, \"mode\": \"markers\", \"name\": \"Carbs\", \"text\": [\"Coquillettes au Bl\\u00e9 Complet\", \"Cheveux d'Ange (Al dente 3 min.)\", \"Coquillettes\", \"Farfalle\", \"Coquillettes (Al dente 9 min.)\", \"Coquillettes au bl\\u00e9 int\\u00e9gral Bio\", \"Kelloggs Cornflakes Die Originalen 375 g\", \"Honey  Wheat - Weizenkost Mit Honig\", \"Manner Knusper M\\u00fcsli\", \"Seitenbacher Vollkorn-Fr\\u00fcchtem\\u00fcsli\", \"Crunchy Granola Bites Haselnuss\", \"K Classic flakes&dark Chocolate\", \"K\\u00f6lln M\\u00fcsli Knusper Kokos '30% weniger Fett'\", \"Dr. Oetker Vitalis Fr\\u00fcchtem\\u00fcsli\", \"EDEKA Knusper M\\u00fcsli Triple Choc\", \"Verival Bio Honig Crunchy\", \"Dr. Sch\\u00e4r M\\u00fcsli Fruit glutenfrei 375 g\", \"Crownfield - Nougat Kissen / Nougat Bits - 750 g\", \"Nestle Cini Minis Zimt 375 g\", \"Tortilla Chips Meersalz\", \"Chio Mikrowellen Popcorn salzig\", \"S\\u00fcsskartoffelchips mit Rosmarin\", \"Lorenz Naturals mit Rosmarin\", \"Lay's Sticks Bacon\", \"Tortilla Chips - Hot Chili\", \"ja! - Stapelchips Paprika\", \"Grissini al rosmarino\", \"Maisw\\u00fcrmer K\\u00e4se\", \"Pom-B\\u00e4r Original\", \"Lorenz Knabbergeb\\u00e4ck Party Clubs 200 g\", \"Uncle Cracker NatSnacks Mit Pfeffer und Oliven\\u00f6l\", \"Mano Masa\", \"Crusti Croc Mini Brotchips Mit Sauerrahm- und Zwiebel-Geschmack\", \"Popcorn Leicht Meersalz Gesalzen20g\", \"K\\u00f6lln Echte Kernige Haferflocken 500 g\", \"Dinkelpoffies\", \"Quinoa bio\", \"Bio Amaranth\", \"Rapunzel - Polenta-Maisgrie\\u00df\", \"Couscous\", \"Couscous\", \"Rewe Couscous Salat\", \"Reismehl\", \"Basic Langkornreis wei\\u00df\", \"Uncle Ben's Express Basmati Reis\", \"dmBio Bulgur\", \"Matiss Bulgursalat Pikant\", \"Maisgrie\\u00df Polenta, 500 g Davert\", \"tegut... Wildreis\", \"Vollreis Natura\", \"Jasmin Reis\", \"ja! Milchreis\", \"la riseria Riso Ticinese 1kg\", \"Landkorn Naturreis\"], \"x\": [4.4, 202.36, 200.75, 209.85, 198.9, 182.85, 29.0, 54.0, 86.0, 85.0, 111.0, 94.0, 107.0, 85.0, 126.0, 126.0, 121.0, 162.0, 98.0, 55.0, 97.0, 73.0, 70.0, 76.0, 95.0, 102.0, 98.0, 144.0, 108.0, 112.0, 105.0, 130.0, 171.0, 97.0, 79.0, 51.0, 79.0, 69.0, 50.0, 50.0, 50.0, 43.0, 122.0, 122.0, 124.0, 121.0, 84.0, 58.0, 258.0, 258.0, 258.0, 258.0, 258.0, 258.0], \"y\": [1469.0, 1531.0, 1531.0, 1510.0, 1510.0, 1448.0, 1458.792557381658, 1609.793433237989, 1805.7814346900643, 1434.4399056861373, 1508.0127199702322, 1583.0540806322683, 1702.2015578378393, 1307.597045916033, 1802.3457797016806, 1782.0698761030048, 1408.7593379115212, 1808.6915667954447, 653.2853207579536, 1918.4, 1803.5556759863807, 1397.1436883898846, 1192.9352293275979, 1529.2092317804377, 1707.572743222329, 1898.515600764172, 1618.9909708254522, 2193.9382992328437, 1888.4787010233367, 1686.4184548669912, 1577.5797427105279, 1843.9209972523802, 1846.9952572469367, 280.45671245035993, 1570.0, 535.2, 588.0, 114.0, 1480.0, 351.0, 351.0, 804.0138599406642, 1657.0, 1657.0, 1677.3719454414886, 1378.0, 821.303554265069, 390.0, 1510.0, 1510.0, 1480.0, 1480.0, 1480.0, 1480.0], \"type\": \"scatter\", \"uid\": \"30aaca24-ba61-4386-b95c-e9bb1203d368\"}, {\"marker\": {\"color\": \"#D6D0C3\"}, \"mode\": \"markers\", \"name\": \"Dairies\", \"text\": [\"Lait \\u00c9cr\\u00e9m\\u00e9\", \"Val d'Automne (28 % MG)\", \"Miel liquide fleurs d'oranger d'Espagne\", \"Emmental Fran\\u00e7ais R\\u00e2p\\u00e9 (29 % MG)\", \"Emmental Fran\\u00e7ais R\\u00e2p\\u00e9 (29 % MG)\", \"Emmental Fran\\u00e7ais R\\u00e2p\\u00e9 (29 % MG)\", \"Emmental Fran\\u00e7ais R\\u00e2p\\u00e9 (29 % MG)\", \"Lait des Plaines du Nord de la France\", \"P\\u00e2te \\u00e0 tartiner\", \"Yaourts aux fruits mix\\u00e9s\", \"Vegan Leben - Vegane Scheiben W\\u00fcrzig\", \"Wilmersbuger St\\u00fcck Classic\", \"Patros in \\u00d6l\", \"Frischgold K\\u00f6rniger Frischk\\u00e4se, 200 g\", \"tegut... Back-Camembert\", \"Bio Bauern Handk\\u00e4se\", \"Mozzarella Sticks\", \"Bio Emmentaler mittelreif 250g\", \"Bio B\\u00fcndner Bergk\\u00e4se ca. 250g\", \"M-Budget Cottage Cheese\", \"ROUGETTE Ofenk\\u00e4se\", \"Bavaria blu - Der W\\u00fcrzige\", \"Brie Schweizer Weichk\\u00e4se, vollfett, pasteurisiert Bio\", \"Appenzeller Schweizer Halbhartk\\u00e4se, vollfett, aus Rohmilch\", \"Alpenhain - Back-Camembert mit Wildpreiselbeeren\", \"Penny Sahne Schmelzk\\u00e4sezubereitung\", \"Andechser Natur Trink-Molke Mango-Apfel\", \"S\\u00f6bbeke Pauls Biomolkerei Bio Erdbeere Joghurt Mild\", \"Ehrmann Fr\\u00fcchteTraum Kirsche 115 g\", \"BioBio - Saure Sahne\", \"Danone Fruchtzwerge weniger s\\u00fc\\u00df 6x50g\", \"Andechser Natur - Bio Lassi Chai\", \"Milram Buttermilchdrink Ipanema\", \"Alnatura - Fruchtbuttermilch Orange-Maracuja\", \"Landliebe Landmilch Schoko, 350 g\", \"Bio Organic S\\u00fc\\u00dfrahmbutter\", \"ja! H-Schlagsahne\", \"Berchtesgadener Land \\u2013 Haltbare Bergbauern Milch\", \"Bifidus - Joghurt Mango\", \"Danone -  Actimel Erdbeer-Banane\", \"Ziegenmilch Bio haltbar mindestens 3,0 % Fett Andechser Natur\", \"K-Classic Schlagsahne\", \"Alnatura Kr\\u00e4uterquark\", \"Berchtesgadener Land Bio-Topfen\", \"Elinas - Joghurt nach griechischer Art Natur\", \"Schw\\u00e4lbchen - Speisequark Magerstufe\", \"BioBio - Lassi Mango\", \"Andechser Natur Bio Mango-Vanille\", \"MARK BRANDENBURG - Joghurt mild \\u201eMandarine\\u201d\", \"K Classic Kondensmilch W\\u00e4rmebehandelt\", \"tegut... frische Vollmilch 3,7% Fett\", \"Berchtesgadener Buttermilch - Buttermilch\"], \"x\": [175.0, 1065.0, 120.0, 1113.0547, 1113.0547, 1127.0, 1127.0, 0.0, 149.0, 0.0, 61.0, 72.0, 530.0, 225.0, 480.0, 139.0, 499.0, 957.0, 943.0, 171.0, 188.0, 188.0, 188.0, 195.0, 185.0, 645.0, 28.0, 83.0, 195.0, 344.0, 214.0, 177.0, 99.0, 107.0, 163.0, 1217.0, 525.0, 143.0, 151.0, 174.0, 142.0, 516.0, 388.0, 420.0, 270.0, 427.0, 175.0, 193.0, 196.0, 187.0, 188.0, 125.0], \"y\": [134.0, 1393.0, 1365.0, 1544.0, 1544.0, 1544.0, 1544.0, 195.0, 2381.0, 435.0, 1057.8000000335858, 1193.5339987371335, 2136.3897207566006, 658.2842862928032, 1435.1023729633869, 166.66667276779154, 1210.4381727688865, 1700.0, 1660.0, 286.6648795386511, 284.0, 284.0, 284.0, 286.0, 434.01714314119727, 971.5121561738084, 245.41186227073175, 465.37493998425316, 926.9097199920416, 1380.0, 910.6399998265016, 298.5850445240203, 248.77854780218325, 253.55913165557374, 337.0171926460235, 3060.0, 1196.8065613793106, 240.0, 366.6792846708036, 373.71715085908517, 213.3, 1216.962762889697, 739.8943412924924, 759.0, 438.726, 759.0, 318.36387160320146, 354.4455147974589, 325.19990519255407, 282.09895013904236, 284.0, 141.0], \"type\": \"scatter\", \"uid\": \"56b5af73-ed1c-4e19-96a1-c4bc5d5a3874\"}, {\"marker\": {\"color\": \"#B69C63\"}, \"mode\": \"markers\", \"name\": \"Meats\", \"text\": [\"Lardons Nature (2 barquettes)\", \"Lardons Fum\\u00e9s (2 barquettes)\", \"Saucisses de Francfort\", \"B\\u0153uf Bourguignon et ses Tagliatelles\", \"Aiguillettes de poulet, sauce normande et son riz\", \"Nadler Delikatess Fleischsalat mit Salatcreme\", \"Ja! - Delikatess Fleischsalat\", \"H\\u00fchnerfrikassee\", \"Mein Men\\u00fc H\\u00fchnerfrikassee mit Gem\\u00fcseeinlage\", \"Ja! Frikadellen\", \"iska \\u201eUngarische Salami\\u201c\", \"Migros Fleischk\\u00e4se\", \"Ja! K\\u00f6nigsberger Klopse\", \"TIP - Leberwurst fein\", \"Fein Wurst Hofmaier Frikadellen-B\\u00e4llchen\", \"Hofst\\u00e4dter - Leber-Streichwurst\", \"Pommersche Gutsleberwurst grob\", \"Reiter - Mettwurst fein\", \"Wilhelm Brandenburg - Rosmarinschinken, gegart\", \"Feine Wurst Hofmaier Bockw\\u00fcrstchen\", \"Bockwurst\", \"REWE Beste Wahl Pfannengyros\", \"Timmendorfer Traditions Ostsee-Kernschinken\", \"Du darfst - Die Hauchfeine Baguette Salami\", \"HEIDEMETZGER Fr\\u00fchst\\u00fccksmett - pikant\", \"Meica Trueman\\u00b4s Hot Dog W\\u00fcrstchen\", \"Dulano Selection Prosciutto Cotto\", \"Aoste Ringsalami luftgetrocknet 250 g\", \"Chili con Carne\", \"Chili con Carne\", \"K Classic H\\u00e4hnchenbrust In Aspik\", \"Iglo Gastronomie - Rindsgulasch im 1-Portionen-Kochbeutel\", \"Ja! Nat\\u00fcrlich Klassischer Leberk\\u00e4se\", \"Landjunker Rinderhackfleisch\", \"Bio Bio Rinderhackfleisch\"], \"x\": [945.0, 945.0, 825.0, 770.0, 495.0, 218.0, 189.0, 195.0, 195.0, 443.0, 641.0, 462.0, 302.0, 635.0, 571.0, 573.0, 567.0, 678.0, 518.0, 518.0, 632.0, 635.0, 634.0, 637.0, 655.0, 556.0, 643.0, 655.0, 393.0, 393.0, 678.0, 599.0, 1400.0, 1688.0, 1688.0], \"y\": [1016.0, 1025.0, 1286.0, 539.0, 536.0, 1548.172074688813, 1177.3520043232982, 1057.4110700129581, 400.7991504300247, 830.6231263391071, 1078.3698609339467, 711.1302994656525, 536.9260158705767, 864.3396301019983, 763.0432528454048, 643.3701975015325, 556.3497680168962, 760.1394087168195, 500.80887499491735, 504.84093274324107, 629.1169613841128, 624.6298922104413, 610.642265284005, 614.9658090734888, 636.3885921786897, 531.9060919343276, 628.7616536888881, 653.5788629496767, 441.6760262530524, 441.6760262530524, 445.84179707691106, 566.4436758264004, 698.3905204815802, 433.0, 433.0], \"type\": \"scatter\", \"uid\": \"7450e3da-123e-4773-b6de-15186e1dcdf3\"}, {\"marker\": {\"color\": \"#F3AC6D\"}, \"mode\": \"markers\", \"name\": \"Beverages\", \"text\": [\"Eau Min\\u00e9rale\", \"100 % Pur Jus Orange\", \"Rooibos nature bio & \\u00e9quitable\", \"Rooibos \\u00e9pices\", \"Nectar ananas mangue passion\", \"Nectar banane goyave acerola\", \"Goyave passion \", \"Berioo Bio Kakao-Nibs\", \"SUCHARD Kakao Express\", \"milka schhikolade\", \"Granini Trinkgenuss Banane 1 ltr PET\", \"hohes C Milde Orange\", \"Saft - Blutorangen\", \"Innocent Super Smoothie Activate\", \"Edeka Premium Apfel Direktsaft\", \"Villa Sandi Prosecco Frizzante DOC\", \"Mezzacorona Merlot DOC Rotwein  2013 0,75 ltr\", \"Rotk\\u00e4ppchen Sekt trocken 0,75 ltr\"], \"x\": [0.0, 130.0, 607.0, 562.0, 300.0, 94.0, 102.0, 74.0, 41.0, 120.0, 18.0, 65.0, 65.0, 69.0, 80.0, 140.0, 140.0, 146.0], \"y\": [0.0, 159.0, 17.0, 84.0, 207.0, 214.0, 205.0, 1690.0, 1324.0366734791453, 316.2623284370375, 244.3342495175453, 216.49, 216.0, 204.83700633963014, 161.75967377481618, 293.0, 287.0, 293.0], \"type\": \"scatter\", \"uid\": \"9963a9a5-051d-4f36-9c83-21f16eedcd05\"}, {\"marker\": {\"color\": \"#8CB5ED\"}, \"mode\": \"markers\", \"name\": \"Seafood\", \"text\": [\"Truite fum\\u00e9e au bois de h\\u00eatre (6 tranches) - 150 g\", \"Truite fum\\u00e9e Capaccio au Poivre de Sichuan\", \"Truite Fum\\u00e9e Pyr\\u00e9n\\u00e9es (4 tranches) - 120 g\", \"Truite Fum\\u00e9e Pyr\\u00e9n\\u00e9es\", \"Truite fum\\u00e9e Pyr\\u00e9n\\u00e9es Offre exceptionnelle\", \"F\\u00fcrsten Krone Herings Happen\", \"Appel Zarte Sardinen Madeleine Rot 105 g\", \"Rewe Ja! Thunfischfilets In Sonnenblumen\\u00f6l\", \"Nordsee Flu\\u00dfkrebs Cocktail Apfel & Curry\", \"iglo 15 K\\u00e4pt'ns Fischst\\u00e4bchen\", \"Nordsee Krabbensalad\", \"Thunfischfilets in Oliven\\u00f6l\", \"Iglo - Schlemmerfilet \\u00e0 la Bordelaise Classic\", \"Frosta Schlemmerfilet Bordelaise\", \"Frosta Fischst\\u00e4bchen\", \"Saupiquet Thunfisch in Tomatensauce\"], \"x\": [900.0, 828.0, 828.0, 2760.0, 828.0, 152.0, 298.0, 363.0, 211.0, 281.0, 414.0, 411.0, 319.0, 248.0, 367.0, 285.0], \"y\": [669.0, 695.0, 669.0, 2230.0, 618.0, 936.1587981712655, 1265.9213375498548, 1130.460661343601, 689.5583986165209, 783.5447388276344, 766.6734310092658, 747.973682500156, 684.7463458042263, 465.6139331212495, 774.2212383818526, 476.7897584092182], \"type\": \"scatter\", \"uid\": \"29e52e16-f52e-4658-a1f7-9fca1c35142b\"}, {\"marker\": {\"color\": \"#FCE2E4\"}, \"mode\": \"markers\", \"name\": \"Salty snacks\", \"text\": [\"Chips saveur poulet thym\", \"Schwartau Spezialit\\u00e4ten Pflaumenmus 350 g\", \"Langnese Landhonig goldcremig 500 g\", \"Schwartau extra Konfit\\u00fcre Samt Erdbeere 270 g\"], \"x\": [340.0, 43.0, 129.0, 114.0], \"y\": [2296.0, 790.8168739940761, 1300.0, 924.3077543690567], \"type\": \"scatter\", \"uid\": \"e462817f-fa3c-4ab4-a50f-d2c8cd9a7699\"}], {\"xaxis\": {\"range\": [0.0, 505.8000000000006], \"title\": \"Carbon footprint per 100g [g]\"}, \"yaxis\": {\"range\": [0.0, 1945.1927407073376], \"title\": \"Energy per 100g [kj]\"}}, {\"showLink\": true, \"linkText\": \"Export to plot.ly\"})});</script><script type=\"text/javascript\">window.addEventListener(\"resize\", function(){window._Plotly.Plots.resize(document.getElementById(\"57c20972-fc23-4e57-8d01-39cbc17b92c8\"));});</script>"
      ]
     },
     "metadata": {},
     "output_type": "display_data"
    }
   ],
   "source": [
    "# Food calories over carbon-foot print\n",
    "visualize.plot_cluster_by_tags(carbon_footprints,\n",
    "                               df_colors,\n",
    "                               save_offline = save_plots_offline, \n",
    "                               save_offline_title = 'carbon_energy',\n",
    "                               plot2D_features = [\"carbon-footprint_100g\", \"energy_100g\"],\n",
    "                               cluster=\"main_category\")"
   ]
  },
  {
   "cell_type": "markdown",
   "metadata": {},
   "source": [
    "**Thanks for Reading !**"
   ]
  }
 ],
 "metadata": {
  "kernelspec": {
   "display_name": "Python 3",
   "language": "python",
   "name": "python3"
  },
  "language_info": {
   "codemirror_mode": {
    "name": "ipython",
    "version": 3
   },
   "file_extension": ".py",
   "mimetype": "text/x-python",
   "name": "python",
   "nbconvert_exporter": "python",
   "pygments_lexer": "ipython3",
   "version": "3.6.5"
  },
  "toc": {
   "base_numbering": 1,
   "nav_menu": {
    "height": "465px",
    "width": "745px"
   },
   "number_sections": true,
   "sideBar": true,
   "skip_h1_title": true,
   "title_cell": "Table of Contents",
   "title_sidebar": "Contents",
   "toc_cell": true,
   "toc_position": {
    "height": "calc(100% - 180px)",
    "left": "10px",
    "top": "150px",
    "width": "165px"
   },
   "toc_section_display": true,
   "toc_window_display": false
  }
 },
 "nbformat": 4,
 "nbformat_minor": 2
}
