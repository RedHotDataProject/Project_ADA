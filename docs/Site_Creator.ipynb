{
 "cells": [
  {
   "cell_type": "markdown",
   "metadata": {},
   "source": [
    "<img src =\"./Images/foot2.png\"\n",
    "    alt = \"\"\n",
    "    style = \"float:left; margin-right: 10px;\"/>\n"
   ]
  },
  {
   "cell_type": "markdown",
   "metadata": {},
   "source": [
    "# RedHotDataProject"
   ]
  },
  {
   "cell_type": "markdown",
   "metadata": {},
   "source": [
    "This page hosts our final project for the <i><a href=\"https://dlab.epfl.ch/teaching/fall2018/cs401/\">Applied Data Analysis</a></i> course of the <a href=\"https://www.epfl.ch/en/home/\">EPFL</a>."
   ]
  },
  {
   "cell_type": "markdown",
   "metadata": {},
   "source": [
    "## Abstract"
   ]
  },
  {
   "cell_type": "markdown",
   "metadata": {},
   "source": [
    "<div style=\"text-align: justify\">\n",
    "Everything we do possess a certain carbon footprint, and our diet is of course no exception. From growing, farming, processing and packaging our food, energy and organic resources are consumed and released, which reflects in the emission of greenhouse gases, such as CO<sub>2</sub>. In this story, we explore the arcane of the food industry, such as its manufacturing, product composition and sales, and delve into its carbon emission as well as its nutrition standards of quality. Using the <a href=\"https://world.openfoodfacts.org\">Open Food Facts</a> dataset as well as <a href=\"http://www.eaternity.org\">Eaternity</a>'s, we present the carbon footprint repartition, starting on an understanding of the products, followed by the breakdown of production countries as well as point of sales and evaluating trends in diet composition, with a special focus on nutritionally high marked products in France and the UK. With this study, we want to provide a better understanding of the agri-food industry, and eventually help reducing carbon emissions by promoting a healthier product base for our consumption.\n",
    "</div>"
   ]
  },
  {
   "cell_type": "markdown",
   "metadata": {},
   "source": [
    "## Before the Story, the Cleaning ..."
   ]
  },
  {
   "cell_type": "markdown",
   "metadata": {},
   "source": [
    "<div style=\"text-align: justify\">\n",
    "Our journey starts at the Open Food Facts dataset. This very rich source of information is unfortunately not a panacea: many entries are missing and overall each column lacks standardisation. The first step, after loading the interesting entries, was to harmonise these.\n",
    "</div>\n",
    "\n"
   ]
  },
  {
   "cell_type": "markdown",
   "metadata": {},
   "source": [
    "<div style=\"text-align: justify\">\n",
    "For example, the country names in the origin, manufacturing and purchasing address did not match a single language (<i>United-Kingdom, Royaume-Uni, ...</i>) nor a single format (<i>United-Kingdom, United Kingdom, UK, ...</i>). We clarified this problem thanks to a dedicated <a href=\"https://mledoze.github.io/countries/\">database</a> that we manually enriched to encapsulate most of the entries we observed. \n",
    "</div>\n",
    "\n"
   ]
  },
  {
   "cell_type": "markdown",
   "metadata": {},
   "source": [
    "<div style=\"text-align: justify\">\n",
    "This linguistic challenge was also met when we confronted the food categories both in the Open Food Facts and the Eaternity datasets. A sample of the last one was given to us by <b>Manuel Klarmann</b>, founder & CEO of the project. We deeply thank him for his help. Adding this source was a necessary step because the original dataset only contained a very limited number of carbon-footprint entries and these were biased towards certain categories of product (such as <i>dairy</i>). \n",
    "</div>\n",
    "\n"
   ]
  },
  {
   "cell_type": "markdown",
   "metadata": {},
   "source": [
    "<div style=\"text-align: justify\">\n",
    "Another way to enrich our very sparse dataset consisted in scraping from the web. We harvested information about the product prices and, for Eaternity, categories thanks to dedicated web crawler spanning the sites of <i><a href=\"https://www.amazon.com\">Amazon</a>, <a href=\"https://www.monoprix.fr\">Monoprix</a>, <a href=\"https://search.migros.ch/de/q\">Migros</a>, <a href=\"https://www.coradrive.fr/colmar/\">Cora</a>, <a href=\"https://www.coop.ch/fr.html\">Coop</a></i> and an <i> API</i> for  <i><a href=\"https://www.walmart.com\">Walmart</a></i>.\n",
    "</div>\n",
    "\n"
   ]
  },
  {
   "cell_type": "markdown",
   "metadata": {},
   "source": [
    "<div style=\"text-align: justify\">\n",
    "Thanks to these cleansing steps, we gathered a modified version of the Open Food Database that was suitable to the task we were setting to achieve.\n",
    "</div>"
   ]
  },
  {
   "cell_type": "markdown",
   "metadata": {},
   "source": [
    "### Production / manufacture impact"
   ]
  },
  {
   "cell_type": "markdown",
   "metadata": {},
   "source": [
    "<div style=\"text-align: justify\">\n",
    "Our first query, equipped with our brand new database, is to explore the distribution of the products information over the world. This is presented here in three steps: we first observe the place(s) of origin of the product, then the manufacturing place(s) and finally the purchasing place(s). Note the plural form since these can sometime have links to different countries.\n",
    "</div>"
   ]
  },
  {
   "cell_type": "markdown",
   "metadata": {},
   "source": [
    "#### Distribution of origin places? "
   ]
  },
  {
   "cell_type": "markdown",
   "metadata": {},
   "source": [
    "<iframe id=\"igraph\" scrolling=\"no\" style=\"border:none;\" seamless=\"seamless\" src=\"https://plot.ly/~maxencedraguet/35.embed\" height=\"500\" width=\"100%\"></iframe>"
   ]
  },
  {
   "cell_type": "markdown",
   "metadata": {},
   "source": [
    "#### Distribution of manufacturings places? "
   ]
  },
  {
   "cell_type": "markdown",
   "metadata": {},
   "source": [
    "<iframe id=\"igraph\" scrolling=\"no\" style=\"border:none;\" seamless=\"seamless\" src=\"https://plot.ly/~maxencedraguet/37.embed\" height=\"500\" width=\"100%\"></iframe>"
   ]
  },
  {
   "cell_type": "markdown",
   "metadata": {},
   "source": [
    "#### Distribution of pruchasing places? "
   ]
  },
  {
   "cell_type": "markdown",
   "metadata": {},
   "source": [
    "<iframe id=\"igraph\" scrolling=\"no\" style=\"border:none;\" seamless=\"seamless\" src=\"https://plot.ly/~maxencedraguet/39.embed\" height=\"500\" width=\"100%\"></iframe>"
   ]
  },
  {
   "cell_type": "markdown",
   "metadata": {},
   "source": [
    "<div style=\"text-align: justify\">\n",
    "Note that we mainly have data for \"western\" countries, with a <b> huge bias toward France</b>. We mostly lack information for countries in Africa, the Middle East and the centre of Asia. Our dataset is thus clearly not a truthful representation of the world. We shall therefore restrict the analysis to the case of France, since it is the most prevalent among the different columns. This means products are to be limited to those available for purchasing in France. This requirement is not an exclusive one: we do <b>not only</b> require them to be sold in France but to be <b>at least</b> available in France.\n",
    "</div>"
   ]
  },
  {
   "cell_type": "markdown",
   "metadata": {},
   "source": [
    "\n",
    "With these changes brought about, what can we say about the origin countries? "
   ]
  },
  {
   "cell_type": "markdown",
   "metadata": {},
   "source": [
    "<iframe id=\"igraph\" scrolling=\"no\" style=\"border:none;\" seamless=\"seamless\" src=\"https://plot.ly/~maxencedraguet/43.embed\" height=\"500\" width=\"100%\"></iframe>"
   ]
  },
  {
   "cell_type": "markdown",
   "metadata": {},
   "source": [
    "And the manufacturing countries? "
   ]
  },
  {
   "cell_type": "markdown",
   "metadata": {},
   "source": [
    "<iframe id=\"igraph\" scrolling=\"no\" style=\"border:none;\" seamless=\"seamless\" src=\"https://plot.ly/~maxencedraguet/41.embed\" height=\"500\" width=\"100%\"></iframe>"
   ]
  },
  {
   "cell_type": "markdown",
   "metadata": {},
   "source": [
    "<div style=\"text-align: justify\">\n",
    "Interestingly, the distribution only seems to change for the developing country! Indeed, these tend to rather be exporting products of <i>origin</i> instead of <i>manufactured</i> ones. On the contrary, developed countries contribute in the exports of both types of categories. This is of course not a surprising fact: developed countries are industrial powerhouses.\n",
    "</div>\n",
    "\n"
   ]
  },
  {
   "cell_type": "markdown",
   "metadata": {},
   "source": [
    "<div style=\"text-align: justify\">\n",
    "Now that this restriction in the representation power of our database is established, let us attack the first part of the problem: <b>palm oil</b> in the food industry. \n",
    "</div>"
   ]
  },
  {
   "cell_type": "markdown",
   "metadata": {},
   "source": [
    "## The Palm Oil Connection"
   ]
  },
  {
   "cell_type": "markdown",
   "metadata": {},
   "source": [
    "<div style=\"text-align: justify\">\n",
    "The <a href=\"https://en.wikipedia.org/wiki/Social_and_environmental_impact_of_palm_oil\">damaging effect of the over-production of palm oil</a> is a well-known issue popularised in the beginning of the century. Many problems arise from this intensive exploitation, among them deforestation, greenhouse gas emissions, water pollution and even social issues, such as appropriation of native lands.\n",
    "</div>\n",
    "\n"
   ]
  },
  {
   "cell_type": "markdown",
   "metadata": {},
   "source": [
    "<div style=\"text-align: justify\">\n",
    "Considering this globally negative press, we would expect a clear trend in the evolution of the number of products using this calamitous oil. What insights does our database offer on the subject? \n",
    "</div>"
   ]
  },
  {
   "cell_type": "markdown",
   "metadata": {},
   "source": [
    "<iframe id=\"igraph\" scrolling=\"no\" style=\"border:none;\" seamless=\"seamless\" src=\"https://plot.ly/~maxencedraguet/45.embed\" height=\"550\" width=\"100%\"></iframe>"
   ]
  },
  {
   "cell_type": "markdown",
   "metadata": {},
   "source": [
    "<div style=\"text-align: justify\">\n",
    "The data in the Open Food Facts started being gathered in 2012, which explains this start date of observation. Note how, after a flat behaviour, the palm oil usage noticeably decreased after 2015. For the palm-oil-history padawan, 2015 was a dramatic year of bad press for this type of oil with scandals in France surrounding  Nutella, dubbed the <i><a href=\"https://www.theguardian.com/environment/2015/jun/17/stop-eating-nutella-and-save-the-forests-urges-french-ecology-minister\">#Nutellagate</a></i>, and palm oil production clearances linked to <a href=\"https://www.theguardian.com/sustainable-business/gallery/2015/dec/28/palm-oil-nutella-forest-fires-wildlife-deforestation-west-africa-india-2015-gallery\">fires in Indonesia</a>. \n",
    "</div>\n",
    "\n"
   ]
  },
  {
   "cell_type": "markdown",
   "metadata": {},
   "source": [
    "<div style=\"text-align: justify\">\n",
    "One could thus expect that products available in France and added during this year would have been more likely to have their palm oil content tagged! \"One has to <i>observe</i> something in order to <i>see</i> it\". The same explanation can be attributed to the previous years. The decrease following could have several explanation: \n",
    "- The optimist would conclude in a reduction in the use of palm oil.\n",
    "- The pessimist (and sadly <a href=\"https://www.statista.com/statistics/263937/vegetable-oils-global-consumption/\">realist</a>) would however conclude in a decrease in attention focused on palm oil, the subject going \"out of fashion\" but the palm trees still growing on freshly cleared exotic forestlands. \n",
    "</div>\n",
    "\n"
   ]
  },
  {
   "cell_type": "markdown",
   "metadata": {},
   "source": [
    "But what can we say about the manufacturing countries behind these palm-oil-containing products? "
   ]
  },
  {
   "cell_type": "markdown",
   "metadata": {},
   "source": [
    "<iframe id=\"igraph\" scrolling=\"no\" style=\"border:none;\" seamless=\"seamless\" src=\"https://plot.ly/~maxencedraguet/63.embed\" height=\"300\" width=\"100%\"></iframe>"
   ]
  },
  {
   "cell_type": "markdown",
   "metadata": {},
   "source": [
    "<div style=\"text-align: justify\">\n",
    "Clearly, <b>France's neighbours</b> are its <b>biggest contributors</b>, after obviously France itself, with the UK heading, followed by Germany, Italy (and its Nutella) and Belgium. Interestingly, the <a href=\"https://en.wikipedia.org/wiki/Palm_oil\">main palm oil producers</a> (Indonesia, Malaysia, Nigeria, etc.) do not appear in this plot. They clearly do not generate the final product and naturally palm oil is not directly consumed but mostly part of a manufacturing process. As we saw earlier, these manufacturing hubs are mostly in developed countries explaining this distinction. \n",
    "</div>\n",
    "\n"
   ]
  },
  {
   "cell_type": "markdown",
   "metadata": {},
   "source": [
    "<div style=\"text-align: justify\">\n",
    "Palm oil is thus visibly a product imported and manufactured in the developed world. Clearly, developed nations are well equipped to regulate the ecological impact palm oil inflicts on the world.\n",
    "</div>"
   ]
  },
  {
   "cell_type": "markdown",
   "metadata": {},
   "source": [
    "## The Nutritional dilemna"
   ]
  },
  {
   "cell_type": "markdown",
   "metadata": {},
   "source": [
    "<div style=\"text-align: justify\">\n",
    "The meaning of the nutrition score index we shall be using can be found on the following <a href=\"https://world.openfoodfacts.org/nutriscore\">page</a>, thanks to <a href=\"https://solidarites-sante.gouv.fr/IMG/pdf/rapport_Hercberg_15_11_2013.pdf\">the work of Pr. Serge Hercberg</a>. The main facts are the following: \n",
    "- Products are marked according to the amount of nutrients they contain [per 100 g] and given a <b>grade between A and E </b>(A being obviously the best mark).\n",
    "</div>"
   ]
  },
  {
   "cell_type": "markdown",
   "metadata": {},
   "source": [
    "<center><img src =\"./Images/nutriscore.png\"\n",
    "    alt = \"\"\n",
    "    style = \"width:400px;height:200px;\"\n",
    "    class=\"center\"/></center>"
   ]
  },
  {
   "cell_type": "markdown",
   "metadata": {},
   "source": [
    "<div style=\"text-align: justify\">\n",
    "- Whether the product is solid or a beverage, it is assigned a nutrition score accordingly to that displayed on the next table. This score itself is computed in two parts. The first one considers the energy, saturated fat, sugars and sodium. A high level in that category is considered unhealthy. The second part reflects the proportion of fruits, vegetables and nuts, fibres and proteins for which high levels are considered beneficial to the health. The difference of these two parts in the order presented here gives a <b><i>nutritional scores</i></b> that is <b>better for low values</b>. \n",
    "</div>\n",
    "\n"
   ]
  },
  {
   "cell_type": "markdown",
   "metadata": {},
   "source": [
    "\n",
    "<TABLE style=\"margin:1em auto;\">\n",
    "   <TR ALIGN=\"CENTER\">\n",
    "      <TH COLSPAN=\"4\">\n",
    "         <H3><BR><font color=\"#008010\">Nut</font><font color=\"#9ACD32\">rit</font><font color=\"#FFD700\">ion</font> <font color=\"#FF8C00\">Ma</font><font color=\"#DB4832\">rk</font></H3>\n",
    "      </TH>\n",
    "   </TR>\n",
    "   <TR ALIGN=\"CENTER\">\n",
    "       <TH COLSPAN=\"2\" width=\"50%\">\n",
    "          Solid Food</TH>\n",
    "       <TH COLSPAN=\"2\" width=\"50%\">\n",
    "          Beverages</TH>\n",
    "   </TR>\n",
    "   <TR>\n",
    "      <TD><font color=\"#008010\">A</font></TD>\n",
    "      <TD>Up to -1</TD>\n",
    "      <TD><font color=\"#008010\">A</font></TD>\n",
    "      <TD>Mineral or Spring Water</TD>\n",
    "   </TR>\n",
    "   <TR>\n",
    "      <TD><font color=\"#9ACD32\">B</font></TD>\n",
    "      <TD>[0, 2]</TD>\n",
    "      <TD><font color=\"#9ACD32\">B</font></TD>\n",
    "      <TD>Up to 1</TD>\n",
    "   </TR>\n",
    "   <TR>\n",
    "      <TD><font color=\"#FFD700\">C</font></TD>\n",
    "      <TD>[3, 10]</TD>\n",
    "      <TD><font color=\"#FFD700\">C</font></TD>\n",
    "      <TD>[2, 5]</TD>\n",
    "   </TR>\n",
    "   <TR>\n",
    "      <TD><font color=\"#FF8C00\">D</font></TD>\n",
    "      <TD>[11, 18]</TD>\n",
    "      <TD><font color=\"#FF8C00\">D</font></TD>\n",
    "      <TD>[6, 9]</TD>\n",
    "   </TR>   \n",
    "   <TR>\n",
    "      <TD><font color=\"#DB4832\">E</font></TD>\n",
    "      <TD>Above 19</TD>\n",
    "      <TD><font color=\"#DB4832\">E</font></TD>\n",
    "      <TD>Above 10</TD>\n",
    "   </TR>\n",
    "</TABLE>"
   ]
  },
  {
   "cell_type": "markdown",
   "metadata": {},
   "source": [
    "\n",
    "\n",
    "<div style=\"text-align: justify\">\n",
    "After running a small routine transforming the nutrition score into a nutrition mark, we first query the following histogram, displaying the number of products added per year by mark.\n",
    "</div>"
   ]
  },
  {
   "cell_type": "markdown",
   "metadata": {},
   "source": [
    "<iframe id=\"igraph\" scrolling=\"no\" style=\"border:none;\" seamless=\"seamless\" src=\"https://plot.ly/~maxencedraguet/55.embed\" height=\"525\" width=\"100%\"></iframe>"
   ]
  },
  {
   "cell_type": "markdown",
   "metadata": {},
   "source": [
    "<div style=\"text-align: justify\">\n",
    "Clearly, a peak in the number of products added with a nutrition grade happened in 2015. However, the behaviour displayed here above matches that of the total number of product added to the database per year. Can we say something about the evolution of the relative weight of each mark through the years? \n",
    "</div>"
   ]
  },
  {
   "cell_type": "markdown",
   "metadata": {},
   "source": [
    "<iframe id=\"igraph\" scrolling=\"no\" style=\"border:none;\" seamless=\"seamless\" src=\"https://plot.ly/~maxencedraguet/57.embed\" height=\"525\" width=\"100%\"></iframe>"
   ]
  },
  {
   "cell_type": "markdown",
   "metadata": {},
   "source": [
    "<div style=\"text-align: justify\">\n",
    "Yes! Interestingly the levels are overall quite stable. Note however how the two best nutrition mark, <b><i>A</i></b> and <b><i>B</i></b>, slightly peaked during 2013. In 2018, this trend has reversed and their sum is now even smaller at 29% than in the beginning of the database history, when it was closed to 37%. This decrease has been matched by a similar increase in the less nutritionally favourable products, <b><i>D</i></b> and <b><i>E</i></b> gaining this 8% difference. \n",
    "</div>\n",
    "\n"
   ]
  },
  {
   "cell_type": "markdown",
   "metadata": {},
   "source": [
    "<div style=\"text-align: justify\">\n",
    "One would therefore be tempted to state there has been a trend towards nutritionally poor products, with the average mark stable. However, it is important at this stage to remember that the dataset does not indicate anything about the popularity of a given product. It merely offers insights into information related to the product itself. Even though more products are added with a poor nutrition mark, it could be that the healthy and less diverse products are in fact more demanded in shops around France than the less ideal ones. The only <b>conclusion to be drawn? More products are added with a bad nutrition mark</b> than a good one. In this respect, food sellers, and of course the government, are the ones who could easily overturn the trend. But who are they? \n",
    "</div>"
   ]
  },
  {
   "cell_type": "markdown",
   "metadata": {},
   "source": [
    "<iframe id=\"igraph\" scrolling=\"no\" style=\"border:none;\" seamless=\"seamless\" src=\"https://plot.ly/~maxencedraguet/65.embed\" height=\"250\" width=\"100%\"></iframe>\n"
   ]
  },
  {
   "cell_type": "markdown",
   "metadata": {},
   "source": [
    "<div style=\"text-align: justify\">\n",
    "And unsurprisingly we find the <a href=\"https://www.statista.com/statistics/535415/grocery-market-share-france/\">leaders in the French food retailer market</a>. Now that this trend has been observed, what can we say about the categories of products per mark? How do vegetables, meat, fishery and all fare in the eyes of Pr. Serge Hercberg's team?  \n",
    "</div>"
   ]
  },
  {
   "cell_type": "markdown",
   "metadata": {},
   "source": [
    "<iframe id=\"igraph\" scrolling=\"no\" style=\"border:none;\" seamless=\"seamless\" src=\"https://plot.ly/~maxencedraguet/53.embed\" height=\"525\" width=\"100%\"></iframe>"
   ]
  },
  {
   "cell_type": "markdown",
   "metadata": {},
   "source": [
    "<div style=\"text-align: justify\">\n",
    "Naturally, <i>plant-based</i> products are overwhelmingly the most nutritionally favourable, occupying more than half of the mark <b><i>A</i></b>. They, as well as <i>carbs</i>, are less and less prevalent the worse the nutrition mark. On the opposite, <i>sugary snacks</i> are vastly more common in the bad sector of nutrition and become marginal when considering healthier standards. \n",
    "</div>\n",
    "\n"
   ]
  },
  {
   "cell_type": "markdown",
   "metadata": {},
   "source": [
    "<div style=\"text-align: justify\">\n",
    "In the middle ground, <i>dairy</i>, <i>meat</i> and <i>seafood</i>. Surprisingly, what is commonly considered in Europe to constitute the main part of a meal is not the most nutritionally favourable. <i>Meat</i> is indeed well distributed among the different marks but does tend to peak at the lowest values of the nutrition index. <i>Dairy</i> performs slightly better, peaking in the lower part of the middle marks and finally, <i>sea-food</i> in the middle part.\n",
    "</div>\n",
    "\n"
   ]
  },
  {
   "cell_type": "markdown",
   "metadata": {},
   "source": [
    "<div style=\"text-align: justify\">\n",
    "This suggests a different approach to crafting <b>meals</b> and to <b>centre</b> them <b>around plant-based products and carbs</b> in order to embrace a <b>healthier lifestyle</b>. \n",
    "</div>"
   ]
  },
  {
   "cell_type": "markdown",
   "metadata": {},
   "source": [
    "## The Carbon Footprint"
   ]
  },
  {
   "cell_type": "markdown",
   "metadata": {},
   "source": [
    "<div style=\"text-align: justify\">\n",
    "Let us now investigate the carbon footprint of different products and categories by exploring our modified Open Food Facts dataset. Indeed, the original one, restricted to France, only contained the information for a hundred different products with a heavy bias on their category. To remedy this lack of amplitude, we shall make good use of the Eaternity database sample, provided by Mr. Manuel Klarmann whom we deeply thank again, to enrich our modified version. The approach was to get the direct and parent categories of each product in the Eaternity sample by web scraping, translate them from German to English and then match these with the categories in the Open Food Facts. \n",
    "</div>\n",
    "\n"
   ]
  },
  {
   "cell_type": "markdown",
   "metadata": {},
   "source": [
    "<div style=\"text-align: justify\">\n",
    "Common sense would suggest organic products are rarely manufactured and, due to their origin, inflicting a smaller footprint than the less nutritionally  favourable products such as sugary snacks and meat. Let's take a closer look at this. First, hat can we say about the categories of the products possessing carbon footprint information? \n",
    "</div>\n",
    "\n"
   ]
  },
  {
   "cell_type": "markdown",
   "metadata": {},
   "source": [
    "####### Could we have the .plot_column_composition for the categories in Eaternity+OpenFoodFacts here? "
   ]
  },
  {
   "cell_type": "markdown",
   "metadata": {},
   "source": [
    "\n",
    "<div style=\"text-align: justify\">\n",
    "Let us then observe the relation ship of carbon footprint and price per 100 g as displayed next. \n",
    "</div>\n",
    "\n"
   ]
  },
  {
   "cell_type": "markdown",
   "metadata": {},
   "source": [
    "####### scatter plot of both here "
   ]
  },
  {
   "cell_type": "markdown",
   "metadata": {},
   "source": [
    "\n",
    "<div style=\"text-align: justify\">\n",
    "The two variables seem to be loosely correlated. Note however how clustered the plot is! Products of the same categories tend to occupy a certain portion of this phase-space. Observe for example how <i>seafood</i> aligns, <i>sugary snacks</i> such as chocolate cluster, how <i>carbs</i>, <i>plant-based</i> products and <i>beverages</i> (with the notable exception of tea) concentrate around the low price low carbon footprint area. \n",
    "</div>\n",
    "\n"
   ]
  },
  {
   "cell_type": "markdown",
   "metadata": {},
   "source": [
    "<div style=\"text-align: justify\">\n",
    "We therefore reach an interesting conclusion: plant-based and carbs-full products are not only better in a nutritional sense, they are also superior in term of ecological and economical impact! \n",
    "</div>\n"
   ]
  },
  {
   "cell_type": "markdown",
   "metadata": {},
   "source": [
    "And on this bombshell it is time to end this discussion ..."
   ]
  },
  {
   "cell_type": "markdown",
   "metadata": {},
   "source": [
    "# <b>Thank you for following our journey ! </b>"
   ]
  },
  {
   "cell_type": "markdown",
   "metadata": {},
   "source": [
    "### Sources:\n",
    "\n",
    "https://world.openfoodfacts.org/\n",
    "\n",
    "https://en.wikipedia.org/wiki/Social_and_environmental_impact_of_palm_oil\n",
    "    \n",
    "https://www.theguardian.com/sustainable-business/gallery/2015/dec/28/palm-oil-nutella-forest-fires-wildlife-deforestation-west-africa-india-2015-gallery\n",
    "\n",
    "https://www.theguardian.com/environment/2015/jun/17/stop-eating-nutella-and-save-the-forests-urges-french-ecology-minister\n",
    "\n",
    "https://www.statista.com/statistics/263937/vegetable-oils-global-consumption/\n",
    "\n",
    "https://en.wikipedia.org/wiki/Palm_oil\n",
    "\n",
    "https://www.statista.com/statistics/535415/grocery-market-share-france/"
   ]
  }
 ],
 "metadata": {
  "kernelspec": {
   "display_name": "Ada",
   "language": "python",
   "name": "ada"
  },
  "language_info": {
   "codemirror_mode": {
    "name": "ipython",
    "version": 3
   },
   "file_extension": ".py",
   "mimetype": "text/x-python",
   "name": "python",
   "nbconvert_exporter": "python",
   "pygments_lexer": "ipython3",
   "version": "3.6.7"
  }
 },
 "nbformat": 4,
 "nbformat_minor": 2
}
