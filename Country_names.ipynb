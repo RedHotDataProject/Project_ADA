{
 "cells": [
  {
   "cell_type": "code",
   "execution_count": null,
   "metadata": {},
   "outputs": [],
   "source": [
    "import numpy as np\n",
    "import pandas as pd\n",
    "import matplotlib.pyplot as plt\n",
    "from scipy import stats\n",
    "import seaborn as sns\n",
    "\n",
    "import json\n",
    "import pickle\n",
    "\n",
    "# Our generated code\n",
    "import os\n",
    "import sys\n",
    "nb_dir = os.path.split(os.getcwd())[0]\n",
    "if nb_dir not in sys.path:\n",
    "    sys.path.append(nb_dir)\n",
    "    \n",
    "%load_ext autoreload\n",
    "%autoreload 2\n",
    "    \n",
    "import libs.exploring as explore\n",
    "import libs.visualising as visualize\n",
    "import libs.cleansing as cleanse"
   ]
  },
  {
   "cell_type": "code",
   "execution_count": null,
   "metadata": {},
   "outputs": [],
   "source": [
    "countries = pd.read_csv('./data/countries.csv')\n",
    "countries = countries[['name', 'cca2', 'translations']]\n",
    "countries['alias'] = countries['name']+ ', ' + countries['translations']\n",
    "countries['name'] = countries['name'].str.split(\",\", n = 1, expand = True) \n",
    "countries = countries[['name', 'cca2', 'alias']]\n",
    "countries['Forced']= 0\n",
    "#countries['name_json']  = countries.name.apply(\n",
    "countries.head(10)"
   ]
  },
  {
   "cell_type": "code",
   "execution_count": null,
   "metadata": {},
   "outputs": [],
   "source": [
    "#Little Specifities to the data\n",
    "countries.iloc[40, 2] = countries.iloc[40, 2] + \",Quebec\" + \",Québec\"\n",
    "countries.iloc[80, 2] = countries.iloc[80, 2] + \",Scotland\" + \",Ecosse\" +\" ,UK\"\n",
    "countries.iloc[235, 2] = countries.iloc[235, 2] + \",US\"\n",
    "countries.loc[250] = [\"United Kingdom\",\"UK\", \"UK\", 1]\n",
    "countries.loc[251] = [\"United States\",\"USA\", \"USA\", 1]\n",
    "#Correct for Namibia cca2 value of Nan\n",
    "countries.iloc[161, 1] = \"NA\"\n",
    "\n",
    "countries.isnull().any().any()\n"
   ]
  },
  {
   "cell_type": "code",
   "execution_count": null,
   "metadata": {},
   "outputs": [],
   "source": [
    "for country in countries.name:\n",
    "    setc = countries[countries['alias'].str.contains(country, case=False)]\n",
    "    if(setc.shape[0]>1):\n",
    "        print(country)"
   ]
  },
  {
   "cell_type": "code",
   "execution_count": null,
   "metadata": {},
   "outputs": [],
   "source": [
    "countries[countries['name'].str.contains('united states', case=False)]"
   ]
  },
  {
   "cell_type": "code",
   "execution_count": null,
   "metadata": {},
   "outputs": [],
   "source": [
    "country_set_cca2 = countries[countries.cca2.apply(lambda x: x.lower() == \"gb\")]\n",
    "country_set_cca2"
   ]
  },
  {
   "cell_type": "markdown",
   "metadata": {},
   "source": [
    "Problem was : same name can be in different country or countained in different country translation. Idea is to force the country to be the most inclusive one (since the most specified is surely so in the dataframe) so for exemple if typing is \"oman\" force country oman and not rOMANia (since the last one would have been typed as such ...). This should also applied for most translation. "
   ]
  },
  {
   "cell_type": "code",
   "execution_count": null,
   "metadata": {},
   "outputs": [],
   "source": [
    "#(id, exception associated)\n",
    "exception = [(44, \"China\"),\n",
    "             (47, \"Congo\"),\n",
    "             (62, \"Dominica\"),\n",
    "             (76, \"France\"),\n",
    "             (81, \"Georgia\"),\n",
    "             (85, \"Guinea\"),\n",
    "             (96, \"Guyana\"),\n",
    "             (105, \"India\"),\n",
    "             (107, \"Ireland\"), \n",
    "             (108, \"Iran\"), \n",
    "             (126, \"Laos\"),\n",
    "             (147, \"Mali\"), \n",
    "             (163, \"Niger\"), \n",
    "             (168, \"Netherlands\"),\n",
    "             (173, \"Oman\"),\n",
    "             (191, \"Russia\"), \n",
    "             (194, \"Sudan\"),\n",
    "             (235, \"United States\"),\n",
    "             (245, \"Samoa\")]\n",
    "for num, elem in exception:\n",
    "    countries.iloc[num, 3]=1"
   ]
  },
  {
   "cell_type": "code",
   "execution_count": null,
   "metadata": {},
   "outputs": [],
   "source": [
    "countries.to_csv(\"./data/country_lookup.csv\")"
   ]
  },
  {
   "cell_type": "markdown",
   "metadata": {},
   "source": [
    "Now assign the country name in different steps : first check if the name to analysed called \"name\" matches one of the country name (in english) then just return that value. If not, Check that it does not match one of the country label (format cca2 by choice and since it's also in the json for the map so should use this one to compare with the map). Then, if no match yet, check if the \"name\" is CONTAINED in the alias (set of all country names in different languages and official/non-official). Problem: many returns possible. Check if one of these return has a value of 1 in his forced column, then assign that one. If none is forced or more then one is, don't assign and return the original country name. It would be good in the future to find these instances where none is forced so that we can add them to the list. \n",
    "\n",
    "This is done in cleansing.py"
   ]
  }
 ],
 "metadata": {
  "kernelspec": {
   "display_name": "Ada",
   "language": "python",
   "name": "ada"
  },
  "language_info": {
   "codemirror_mode": {
    "name": "ipython",
    "version": 3
   },
   "file_extension": ".py",
   "mimetype": "text/x-python",
   "name": "python",
   "nbconvert_exporter": "python",
   "pygments_lexer": "ipython3",
   "version": "3.6.6"
  }
 },
 "nbformat": 4,
 "nbformat_minor": 2
}
